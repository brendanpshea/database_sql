{
  "nbformat": 4,
  "nbformat_minor": 0,
  "metadata": {
    "colab": {
      "provenance": [],
      "include_colab_link": true
    },
    "kernelspec": {
      "name": "python3",
      "display_name": "Python 3"
    },
    "language_info": {
      "name": "python"
    }
  },
  "cells": [
    {
      "cell_type": "markdown",
      "metadata": {
        "id": "view-in-github",
        "colab_type": "text"
      },
      "source": [
        "<a href=\"https://colab.research.google.com/github/brendanpshea/database_sql/blob/main/Database_05_Joins_Sets_SQL.ipynb\" target=\"_parent\"><img src=\"https://colab.research.google.com/assets/colab-badge.svg\" alt=\"Open In Colab\"/></a>"
      ]
    },
    {
      "cell_type": "markdown",
      "source": [
        "# Getting Tables Together With Joins and Sets\n",
        "### Brendan Shea, PhD\n",
        "\n",
        "In this chapter, we'll learn about joins and set operations using SQLite. We'll use a database called movies.sqlite, which is based on data from IMDB and includes movie, actor, director, person, and Oscar data.\n",
        "\n",
        "- First, we'll show you the database schema for movies.sqlite. This is a guide to how the data is organized. We'll also display the first five rows of each table, so you can see what the data looks like.\n",
        "\n",
        "- Next, we'll explain what an entity-relationship diagram is. It's a way of showing how different tables in a database are connected. It helps you understand the database's structure. We'll also discuss VARCHAR and CHAR, which are different kinds of data types, and explain how they compare to TEXT.\n",
        "\n",
        "- Then, we'll talk about how tables relate to each other, using something called cardinalities. We'll go over \"join\" tables, like the Actor and Director ones, and explain their importance in connecting data. We'll also explain what primary keys are and why they're necessary in each table.\n",
        "\n",
        "\n",
        "- The main part of this chapter is about joins: INNER JOIN, LEFT (OUTER) JOIN, and CROSS JOIN. We'll show you how each one works, give examples, and explain when you might want to use them.\n",
        "\n",
        "- Finally, we'll go over set operations: UNION, DIFFERENCE, EXCEPT, and INTERSECT. These are methods you can use to combine or compare results from different SQL queries.\n",
        "\n",
        "Remember, the key to understanding databases is practice. Don't be afraid to experiment and make mistakes. That's how you'll learn. Now, let's get started on joins and set operations!\n"
      ],
      "metadata": {
        "id": "reGSBJG17aJT"
      }
    },
    {
      "cell_type": "markdown",
      "source": [
        "## Brendan's Lecture\n",
        "Run the following cell to see my lecture."
      ],
      "metadata": {
        "id": "8ZwohtZPo4YP"
      }
    },
    {
      "cell_type": "code",
      "source": [
        "##Click here to launch my lecture\n",
        "from IPython.display import YouTubeVideo\n",
        "YouTubeVideo('XljJMe3nwTk', width=800, height=500)"
      ],
      "metadata": {
        "id": "NqBTQ3X1o_xq"
      },
      "execution_count": null,
      "outputs": []
    },
    {
      "cell_type": "markdown",
      "source": [
        "## Introduction to the Movie Database\n",
        "For this chapter, we'll be using a database based on data from the Internet Movie Database (IMDB). The full dataset is available here: https://developer.imdb.com/non-commercial-datasets/. The formatting of this datbase is adapted from that of David Sullivan (a computer science professor at Harvard/Boston U). We'll just be using a small part of this data, based on movies that have (at one point or another) been in the \"top 100\" in terms of box office returns.\n",
        "\n",
        "To start off with, we need to download a copy of the database and connect to it:"
      ],
      "metadata": {
        "id": "VmzzvHO5L5TC"
      }
    },
    {
      "cell_type": "code",
      "source": [
        "# Now let's download the file we'll be using for this lab\n",
        "!wget -N 'https://github.com/brendanpshea/database_sql/raw/main/data/movie.sqlite' -q\n",
        "\n",
        "%load_ext sql\n",
        "%sql sqlite:///movie.sqlite"
      ],
      "metadata": {
        "id": "79caNEcYAVwG"
      },
      "execution_count": null,
      "outputs": []
    },
    {
      "cell_type": "markdown",
      "source": [
        "### Exploring the Data\n",
        "Now, we can take a look at the data to see what tables, attributes, and relationships are present. First, we'll display the table \"schema\" (the list of tables:"
      ],
      "metadata": {
        "id": "Dhr1iq-MM3aR"
      }
    },
    {
      "cell_type": "code",
      "source": [
        "# Now let's diplay the table schema\n",
        "%sql SELECT name FROM sqlite_master WHERE type='table';"
      ],
      "metadata": {
        "colab": {
          "base_uri": "https://localhost:8080/",
          "height": 182
        },
        "id": "qmTKBYIakMak",
        "outputId": "a78f51d9-be1d-4dae-a062-586abbd887a9"
      },
      "execution_count": null,
      "outputs": [
        {
          "output_type": "stream",
          "name": "stdout",
          "text": [
            " * sqlite:///movie.sqlite\n",
            "Done.\n"
          ]
        },
        {
          "output_type": "execute_result",
          "data": {
            "text/plain": [
              "[('Movie',), ('Person',), ('Actor',), ('Director',), ('Oscar',)]"
            ],
            "text/html": [
              "<table>\n",
              "    <thead>\n",
              "        <tr>\n",
              "            <th>name</th>\n",
              "        </tr>\n",
              "    </thead>\n",
              "    <tbody>\n",
              "        <tr>\n",
              "            <td>Movie</td>\n",
              "        </tr>\n",
              "        <tr>\n",
              "            <td>Person</td>\n",
              "        </tr>\n",
              "        <tr>\n",
              "            <td>Actor</td>\n",
              "        </tr>\n",
              "        <tr>\n",
              "            <td>Director</td>\n",
              "        </tr>\n",
              "        <tr>\n",
              "            <td>Oscar</td>\n",
              "        </tr>\n",
              "    </tbody>\n",
              "</table>"
            ]
          },
          "metadata": {},
          "execution_count": 2
        }
      ]
    },
    {
      "cell_type": "code",
      "source": [
        "# Show the data types for each table\n",
        "movie_df = %sql PRAGMA table_info(Movie);\n",
        "person_df = %sql PRAGMA table_info(Person);\n",
        "actor_df = %sql PRAGMA table_info(Actor);\n",
        "director_df = %sql PRAGMA table_info(Director);\n",
        "oscar_df = %sql PRAGMA table_info(Oscar);\n",
        "\n",
        "print('\\nMovie\\n', movie_df,'\\nPerson\\n',person_df, '\\nActor\\n', actor_df,\n",
        "      '\\nDirector\\n', director_df, '\\nOscar\\n', oscar_df)"
      ],
      "metadata": {
        "colab": {
          "base_uri": "https://localhost:8080/"
        },
        "id": "CF7O3EyhwcfA",
        "outputId": "2d3ee0d7-2cd6-4a5e-efbd-0cc2e83f4f4a"
      },
      "execution_count": null,
      "outputs": [
        {
          "output_type": "stream",
          "name": "stdout",
          "text": [
            " * sqlite:///movie.sqlite\n",
            "Done.\n",
            " * sqlite:///movie.sqlite\n",
            "Done.\n",
            " * sqlite:///movie.sqlite\n",
            "Done.\n",
            " * sqlite:///movie.sqlite\n",
            "Done.\n",
            " * sqlite:///movie.sqlite\n",
            "Done.\n",
            "\n",
            "Movie\n",
            " +-----+---------------+-------------+---------+------------+----+\n",
            "| cid |      name     |     type    | notnull | dflt_value | pk |\n",
            "+-----+---------------+-------------+---------+------------+----+\n",
            "|  0  |       id      |   CHAR(7)   |    0    |    None    | 1  |\n",
            "|  1  |      name     | VARCHAR(64) |    0    |    None    | 0  |\n",
            "|  2  |      year     |   INTEGER   |    0    |    None    | 0  |\n",
            "|  3  |     rating    |  VARCHAR(5) |    0    |    None    | 0  |\n",
            "|  4  |    runtime    |   INTEGER   |    0    |    None    | 0  |\n",
            "|  5  |     genre     | VARCHAR(16) |    0    |    None    | 0  |\n",
            "|  6  | earnings_rank |   INTEGER   |    0    |    None    | 0  |\n",
            "+-----+---------------+-------------+---------+------------+----+ \n",
            "Person\n",
            " +-----+------+--------------+---------+------------+----+\n",
            "| cid | name |     type     | notnull | dflt_value | pk |\n",
            "+-----+------+--------------+---------+------------+----+\n",
            "|  0  |  id  |   CHAR(7)    |    0    |    None    | 1  |\n",
            "|  1  | name | VARCHAR(64)  |    0    |    None    | 0  |\n",
            "|  2  | dob  |     DATE     |    0    |    None    | 0  |\n",
            "|  3  | pob  | VARCHAR(128) |    0    |    None    | 0  |\n",
            "+-----+------+--------------+---------+------------+----+ \n",
            "Actor\n",
            " +-----+----------+---------+---------+------------+----+\n",
            "| cid |   name   |   type  | notnull | dflt_value | pk |\n",
            "+-----+----------+---------+---------+------------+----+\n",
            "|  0  | actor_id | CHAR(7) |    0    |    None    | 1  |\n",
            "|  1  | movie_id | CHAR(7) |    0    |    None    | 2  |\n",
            "+-----+----------+---------+---------+------------+----+ \n",
            "Director\n",
            " +-----+-------------+---------+---------+------------+----+\n",
            "| cid |     name    |   type  | notnull | dflt_value | pk |\n",
            "+-----+-------------+---------+---------+------------+----+\n",
            "|  0  | director_id | CHAR(7) |    0    |    None    | 1  |\n",
            "|  1  |   movie_id  | CHAR(7) |    0    |    None    | 2  |\n",
            "+-----+-------------+---------+---------+------------+----+ \n",
            "Oscar\n",
            " +-----+-----------+-------------+---------+------------+----+\n",
            "| cid |    name   |     type    | notnull | dflt_value | pk |\n",
            "+-----+-----------+-------------+---------+------------+----+\n",
            "|  0  |  movie_id |   CHAR(7)   |    0    |    None    | 0  |\n",
            "|  1  | person_id |   CHAR(7)   |    0    |    None    | 1  |\n",
            "|  2  |    type   | VARCHAR(23) |    0    |    None    | 2  |\n",
            "|  3  |    year   |   INTEGER   |    0    |    None    | 3  |\n",
            "+-----+-----------+-------------+---------+------------+----+\n"
          ]
        }
      ]
    },
    {
      "cell_type": "markdown",
      "source": [
        "Now, using our knowledge of the table names, we can display the first few rows of each table. (Note: I've used a bit of \"Python\" here to format things a bit more nicely):"
      ],
      "metadata": {
        "id": "hI11QgPyNMOp"
      }
    },
    {
      "cell_type": "code",
      "source": [
        "# Show the first 5 rows of each table\n",
        "movie_df = %sql SELECT * FROM Movie LIMIT 5;\n",
        "person_df = %sql SELECT * FROM Person LIMIT 5;\n",
        "actor_df = %sql SELECT * FROM Actor LIMIT 5;\n",
        "director_df = %sql SELECT * FROM Director LIMIT 5;\n",
        "oscar_df = %sql SELECT * FROM Oscar LIMIT 5;\n",
        "print('\\nMovie\\n', movie_df,'\\nPerson\\n',person_df, '\\nActor\\n', actor_df,\n",
        "      '\\nDirector\\n', director_df, '\\nOscar\\n', oscar_df)"
      ],
      "metadata": {
        "colab": {
          "base_uri": "https://localhost:8080/"
        },
        "id": "Q_BXdfHM8eOg",
        "outputId": "b1b0fcb1-5d78-4277-b377-79e223452c19"
      },
      "execution_count": null,
      "outputs": [
        {
          "output_type": "stream",
          "name": "stdout",
          "text": [
            " * sqlite:///movie.sqlite\n",
            "Done.\n",
            " * sqlite:///movie.sqlite\n",
            "Done.\n",
            " * sqlite:///movie.sqlite\n",
            "Done.\n",
            " * sqlite:///movie.sqlite\n",
            "Done.\n",
            " * sqlite:///movie.sqlite\n",
            "Done.\n",
            "\n",
            "Movie\n",
            " +---------+------------------------------+------+--------+---------+-------+---------------+\n",
            "|    id   |             name             | year | rating | runtime | genre | earnings_rank |\n",
            "+---------+------------------------------+------+--------+---------+-------+---------------+\n",
            "| 2488496 | Star Wars: The Force Awakens | 2015 | PG-13  |   138   |   A   |       1       |\n",
            "| 4154796 |      Avengers: Endgame       | 2019 | PG-13  |   181   |  AVS  |       2       |\n",
            "| 1087260 |   Spider-Man: No Way Home    | 2021 | PG-13  |   148   |  AVFS |       3       |\n",
            "| 0499549 |            Avatar            | 2009 | PG-13  |   162   |  AVYS |       4       |\n",
            "| 1745960 |      Top Gun: Maverick       | 2022 | PG-13  |   130   |   AD  |       5       |\n",
            "+---------+------------------------------+------+--------+---------+-------+---------------+ \n",
            "Person\n",
            " +---------+-----------------+------------+-------------------------+\n",
            "|    id   |       name      |    dob     |           pob           |\n",
            "+---------+-----------------+------------+-------------------------+\n",
            "| 0000002 |  Lauren Bacall  | 1924-09-16 | New York, New York, USA |\n",
            "| 0000004 |   John Belushi  | 1949-01-24 |  Chicago, Illinois, USA |\n",
            "| 0000006 |  Ingrid Bergman | 1915-08-29 |    Stockholm, Sweden    |\n",
            "| 0000007 | Humphrey Bogart | 1899-12-25 | New York, New York, USA |\n",
            "| 0000008 |  Marlon Brando  | 1924-04-03 |   Omaha, Nebraska, USA  |\n",
            "+---------+-----------------+------------+-------------------------+ \n",
            "Actor\n",
            " +----------+----------+\n",
            "| actor_id | movie_id |\n",
            "+----------+----------+\n",
            "| 0000138  | 0120338  |\n",
            "| 0000701  | 0120338  |\n",
            "| 0000708  | 0120338  |\n",
            "| 0000870  | 0120338  |\n",
            "| 0000200  | 0120338  |\n",
            "+----------+----------+ \n",
            "Director\n",
            " +-------------+----------+\n",
            "| director_id | movie_id |\n",
            "+-------------+----------+\n",
            "|   0000116   | 0120338  |\n",
            "|   0000184   | 0076759  |\n",
            "|   0011470   | 0298148  |\n",
            "|   0000229   | 0083866  |\n",
            "|   0000184   | 0120915  |\n",
            "+-------------+----------+ \n",
            "Oscar\n",
            " +----------+-----------+-------------------------+------+\n",
            "| movie_id | person_id |           type          | year |\n",
            "+----------+-----------+-------------------------+------+\n",
            "| 1036646  |    None   |       BEST-PICTURE      | 2022 |\n",
            "| 9620288  |  0000226  |        BEST-ACTOR       | 2022 |\n",
            "| 9115530  |  1567113  |       BEST-ACTRESS      | 2022 |\n",
            "| 3581652  |  3663196  | BEST-SUPPORTING-ACTRESS | 2022 |\n",
            "| 1036646  |  1319274  |  BEST-SUPPORTING-ACTOR  | 2022 |\n",
            "+----------+-----------+-------------------------+------+\n"
          ]
        }
      ]
    },
    {
      "cell_type": "markdown",
      "source": [
        "### Movies: Basic Structure\n",
        "\n",
        "Our database consists of five tables: Movie, Person, Actor, Director, and Oscar. These tables store data related to movies, persons (actors and directors), and Oscar awards. Now, let's explore each of these tables, their attributes, data types, and primary keys.\n",
        "\n",
        "### Data Types\n",
        "\n",
        "As we've discussed previously, every column in a SQL table has a related \"data type\". The data type defines what kind of data a column can store. Here are some of the data types found in our tables:\n",
        "\n",
        "1.  **CHAR:** This type is used to store character strings of a fixed length. The number within the parentheses (like CHAR(7)) represents the fixed length of characters the field can hold.\n",
        "\n",
        "2.  **VARCHAR:** Unlike CHAR, VARCHAR is used for variable-length strings. The number within the parentheses represents the maximum number of characters the field can hold.\n",
        "\n",
        "3.  **INTEGER:** This type is used for integer values (negative and positive whole numbers, such as -2, 0, 2, etc.)\n",
        "\n",
        "4.  **DATE:** This type is used to store date values. In SQLite, these are stored as a type of TEXT.\n",
        "\n",
        "### Tables\n",
        "\n",
        "\n",
        "1\\. Movie: This table contains information about different movies. It has 7 attributes:\n",
        "\n",
        "-   `id` (CHAR(7)): This is a unique identifier for each movie. This serves as the primary key for this table.\n",
        "-   `name` (VARCHAR(64)): The name of the movie.\n",
        "-   `year` (INTEGER): The year when the movie was released.\n",
        "-   `rating` (VARCHAR(5)): The MPAA rating of the movie.\n",
        "-   `runtime` (INTEGER): The duration of the movie in minutes.\n",
        "-   `genre` (VARCHAR(16)): The genre of the movie.\n",
        "-   `earnings_rank` (INTEGER): The earnings rank of the movie.\n",
        "\n",
        "2\\. Person: This table stores data related to persons (actors and directors). It consists of 4 attributes:\n",
        "\n",
        "-  `id` (CHAR(7)): This is a unique identifier for each person. This is the primary key for this table.\n",
        "-   `name` (VARCHAR(64)): The name of the person.\n",
        "-   `dob` (DATE): The date of birth of the person.\n",
        "-   `pob` (VARCHAR(128)): The place of birth of the person.\n",
        "\n",
        "3\\. Actor and Director: These are **junction tables** (or **join tables**) which store the relationship between movies and persons (actors or directors). A join table is used to resolve many-to-many relationships by breaking it down into two one-to-many relationships. In this case, a movie can have multiple actors and a person can act in multiple movies. Same applies for directors. Each of these tables has two attributes:\n",
        "\n",
        "-   `actor_id/director_id` (CHAR(7)): This refers to the id of the person who is an actor/director. This forms part of the composite primary key.\n",
        "-   `movie_id` (CHAR(7)): This refers to the id of the movie. This also forms part of the composite primary key.\n",
        "\n",
        "4\\. Oscar: This table stores information about Oscar awards. It contains 4 attributes:\n",
        "\n",
        "-   `movie_id` (CHAR(7)): This refers to the id of the movie that won an Oscar.\n",
        "-   `person_id` (CHAR(7)): This refers to the id of the person who won an Oscar.\n",
        "-   `type` (VARCHAR(23)): This represents the type of Oscar award.\n",
        "-   `year` (INTEGER): The year when the Oscar was awarded.\n",
        "\n",
        "The key for this table is a combination of ALL FOUR columns."
      ],
      "metadata": {
        "id": "_ThPMpYp96e6"
      }
    },
    {
      "cell_type": "markdown",
      "source": [
        "### Movies: Some Design Principles\n",
        "Let's conclude with some key takeaways:\n",
        "\n",
        "1. Unique identifiers (and primary keys) ensure that each record in a table is unique. They also allow us to link tables together efficiently. The Movie and Person tables demonstrate this.\n",
        "\n",
        "2. The Actor and Director tables illustrate how **junction tables tables**  enable many-to-many relationships between entities. Many actors can star in many movies, and a movie can have multiple directors.\n",
        "\n",
        "3.  The Actor, Director, and Oscar tables show how **composite primary keys** (where more than one column is used to identify a record uniquely) can handle complex relationships.\n",
        "\n",
        "4. The design of the Oscar table emphasizes that database design should closely reflect the realities of the data you're working with. It demonstrates how to incorporate multiple, overlapping relationships in a single table.\n",
        "\n",
        "This dataset is an example of a relational database, where tables connect via relationships, allowing us to organize complex, real-world data in a structured way. In the next sections, we'll explore how to leverage these relationships to query and manipulate our data efficiently. Remember, practice is the key to mastering database design, so don't be afraid to experiment and learn from your mistakes!"
      ],
      "metadata": {
        "id": "JoMfbuhA_bRe"
      }
    },
    {
      "cell_type": "markdown",
      "source": [
        "## An Entity-Relationship Diagram of the Movie Data\n",
        "To help us better understand the stucture of the movie data, let's create an **entity-relationship** diagram.\n",
        "\n",
        "![E-R Diagram](https://github.com/brendanpshea/database_sql/raw/main/images/movies_crows_foot.png)"
      ],
      "metadata": {
        "id": "1vY0SE1_Nzy3"
      }
    },
    {
      "cell_type": "markdown",
      "source": [
        "### Why ER Diagrams?\n",
        "An **Entity-Relationship (ER) diagram** (like the one you see here) is a visual tool that allows us to model and represent the relationships between different entities in a database. An 'entity' could be anything we want to store information about, such as movies, people, or awards in our movies.sqlite database.\n",
        "\n",
        "In an ER diagram, **entities** (roughly, classes of things corresponding to tables) are usually represented as rectangles, while **relationships** are shown as lines or arrows connecting these rectangles. These relationships illustrate how data in one entity relates to data in another. For example, in our movies.sqlite database, a relationship exists between the 'Movie' and 'Person' entities through the 'Actor' and 'Director' entities.\n",
        "\n",
        "This diagram used a simplified version of **Crow's foot notation**, which is a type of ER diagram where relationships are displayed with symbols that somewhat resemble a bird's footprints (hence the name). This notation is particularly helpful in showing the cardinality of relationships, or in other words, how many instances of one entity relate to instances of another entity.\n",
        "\n",
        "In crow's foot notation, we look at the **connectors** at the end of lines to determine the relationships between entities.\n",
        "\n",
        "-   A `1` (also indicated with `|`) stands for 'exactly 1'.\n",
        "-   A crow's foot (`<` or `>`) symbol stands for 'many'.\n",
        "-  A circle (`O`) on a line represents \"optional\" (we don't have any of these in this diagram).\n",
        "\n",
        "So, for example, consider the line between 'Movie' and 'Director'. Since there is a crow's foot (\"many\") next to the Director box and a 1 next to the Movie box, this means there is a **many-to-one** relationship between directors and movies: Every director can direct many movies, but each movie (at least for the purposes of this database can have only one director). Many-to-one relationships form the \"heart\" of relational databases, since **one-to-one relationships** are often encoded as \"attributes\" of tables (for example, a Person's relationships with their own name) while **many-to-many** relationships (for example, the relationship between Persons and Movies--a person can be in many movies and a movie can have many persons) can't be represented without breaking them down into multiple many-to-one (or one-to-many) tables (as we've done here with Director and Actor).\n",
        "\n",
        "### The Role of ER Diagrams in Database Design and Interpretation\n",
        "\n",
        "ER diagrams play a crucial role in both the design and interpretation of databases:\n",
        "\n",
        "-   Design: When designing a database, ER diagrams help us to visualize the structure and relationships in our database before we start creating it. By mapping out entities and their relationships, we can see and adjust our database's design more easily. It helps ensure we accurately represent the data and relationships we want to capture.\n",
        "\n",
        "-   Interpretation: ER diagrams can also be handy tools for understanding existing databases. They provide a clear, visual representation of the structure of a database, making it easier to understand the relationships between different entities. This understanding is key when it comes to effectively querying a database.\n",
        "\n",
        "Remember, a well-designed ER diagram can save you time and trouble. It gives you a clear roadmap of your database, helps prevent errors, and makes the database easier to work with, whether you're the one who created it or not."
      ],
      "metadata": {
        "id": "W5GiwP65FdmU"
      }
    },
    {
      "cell_type": "markdown",
      "source": [
        "## Discussion Questions: Movies DB\n",
        "1. In the given database, why do we use CHAR as the data type for the 'id' attribute in Movie and Person tables? What would happen if we used VARCHAR instead of CHAR?\n",
        "\n",
        "2. Analyze the Movie table. Why might 'year' be represented as an INTEGER instead of a DATE type? Can you think of any advantages or disadvantages to this approach?\n",
        "\n",
        "3. Can you explain the role and significance of the Actor and Director tables in our movie database? How do these \"join tables\" help us solve the problem of many-to-many relationships between movies and persons?\n",
        "\n",
        "4. Looking at the Oscar table, why do you think all four columns form the primary key? Discuss why a single attribute, or a subset of these attributes, might not serve as an efficient primary key in this context.\n",
        "\n",
        "5. Consider the ER diagram provided. Based on it, can you describe the relationship between the entities Movie and Person, as mediated by the Actor and Director tables? How would you describe these relationships using the terms \"one-to-one\", \"one-to-many\", and \"many-to-many\"?"
      ],
      "metadata": {
        "id": "qbbqRpTj2boY"
      }
    },
    {
      "cell_type": "markdown",
      "source": [
        "### My Answers: Movies DB\n",
        "\n",
        "1.\n",
        "\n",
        "2.\n",
        "\n",
        "3.\n",
        "\n",
        "4.\n",
        "\n",
        "5."
      ],
      "metadata": {
        "id": "2id_XUfs2kv8"
      }
    },
    {
      "cell_type": "markdown",
      "source": [
        "## What is a JOIN and What Role Do They Play in Relational Databases?\n",
        "\n",
        "In the world of relational databases, tables are like individual characters in a play. Each character—be it Hamlet in Shakespeare's classic or Elsa in Disney's \"Frozen\"—has their own storyline, traits, and connections to others. But the story becomes compelling when these characters interact. In databases, this interaction is orchestrated by SQL Joins.\n",
        "\n",
        "A **JOIN** is a SQL operation used to combine rows from two or more tables based on a related column between them. Imagine a high school drama club preparing for a play. One table, let's call it `Students`, lists all the members: their names, roles, and ages. Another table, named `Roles`, provides details about each role in the play: the character's name, importance, and the number of lines they have.\n",
        "\n",
        "Here, each table is distinct and serves a specific purpose. But what if you want to know which student is playing which role and how many lines they have? This is where a Join comes into play. It combines these separate pieces of information into a cohesive whole, much like how a director combines various elements to create a unified performance.\n",
        "\n",
        "In databases, the \"director's notes\" for these Joins are often found in what we call **primary keys** and **foreign Keys**. A Primary Key is a unique identifier for a record in a table. Think of it as a student's unique ID number. A foreign key, on the other hand, is a field in one table that refers to the primary key in another table. It's like a reference in the script that mentions which student is playing which role. These keys establish the relationship between tables and set the stage for a join.\n",
        "\n",
        "There are several types of Joins—INNER, LEFT, RIGHT, FULL—but they all serve the same purpose: to bring different tables together in a meaningful way. For instance, an INNER JOIN would only list the students who actually have a role in the play. In contrast, a LEFT JOIN would list all students, but only show role details for those who have one.\n"
      ],
      "metadata": {
        "id": "ba28Ev9uIahV"
      }
    },
    {
      "cell_type": "markdown",
      "source": [
        "### Understanding the Links Between Tables: The Role of Junction Tables and References\n",
        "\n",
        "In our database, akin to a cinematic universe, the characters are not isolated figures; they exist in a web of relationships. The `Movie`, `Person`, `Actor`, `Director`, and `Oscar` tables are individual chapters, but they are connected in ways that deepen our understanding of each.\n",
        "\n",
        "-   `Actor` Table: This table contains `actor_id` and `movie_id`, serving as a junction table. Each row tells us which actor (from the `Person` table) played in which movie (from the `Movie` table). It's like a program booklet that tells you which actor is playing which role.\n",
        "\n",
        "-   `Director` Table: Similarly, this table links directors from the `Person` table to their films in the `Movie` table. A row in this table is like a director's credit in a film reel, pointing from the name to the artwork they've overseen.\n",
        "\n",
        "These junction tables use Foreign Keys---the `actor_id` and `director_id` are Foreign Keys that refer to the `id` in the `Person` table, and the `movie_id` is a Foreign Key referring to the `id` in the `Movie` table.\n",
        "\n",
        "The `Oscar` table, is the grand awards ceremony where artists and their works are celebrated. This table uses Foreign Keys to refer to both `Person` and `Movie` tables, connecting them through accolades.\n",
        "\n",
        "-   `movie_id`: Tells us which movie won or was nominated for an Oscar. This is a Foreign Key linking to the `Movie` table.\n",
        "-   `person_id`: Indicates the person who received the award or nomination. This is another Foreign Key, this time linking to the `Person` table.\n",
        "\n",
        "This table captures instances where a movie or a person has been honored, acting as a bridge between the art and the artist, the film and the filmmaker."
      ],
      "metadata": {
        "id": "FqueCZfWiFlg"
      }
    },
    {
      "cell_type": "markdown",
      "source": [
        "### INNER JOIN\n",
        "\n",
        "An INNER JOIN returns records that have matching values in both tables being joined. This is the most common form of join in SQL, and is sometimes called a **natural join** (or just a JOIN -- you don't need to include INNER).\n",
        "\n",
        "The general form of an SQL JOIN statement looks like this:\n",
        "\n",
        "```\n",
        "SELECT column1, column2, ...\n",
        "FROM table1\n",
        "[INNER] JOIN table2 ON condition;\n",
        "```\n",
        "\n",
        "The INNER JOIN keyword selects records that have matching values in both tables. This means you only get rows back when there's something to match in both tables.\n",
        "\n",
        "To illustrate, consider two simplified tables in our database, 'Actor' and 'Person'. The 'Actor' table contains two columns: 'actor_id' and 'movie_id'. The 'Person' table includes 'id' and 'name'. Here are the tables with a few rows of data:\n",
        "\n",
        "'Actor' Table:\n",
        "\n",
        "| actor_id | movie_id |\n",
        "| --- | --- |\n",
        "| 1 | 100 |\n",
        "| 2 | 100 |\n",
        "| 3 | 101 |\n",
        "| 4 | 102 |\n",
        "\n",
        "'Person' Table:\n",
        "\n",
        "| id | name |\n",
        "| --- | --- |\n",
        "| 1 | Tom Hanks |\n",
        "| 2 | Morgan Freeman |\n",
        "| 3 | Meryl Streep |\n",
        "| 5 | Robert De Niro |\n",
        "\n",
        "Now, suppose we want to find out which actors played in the movie with the ID '100'. To do that, we can use an INNER JOIN to combine the 'Actor' and 'Person' tables:\n",
        "\n",
        "```\n",
        "SELECT Person.name\n",
        "FROM Actor\n",
        "JOIN Person ON Actor.actor_id = Person.id\n",
        "WHERE Actor.movie_id = 100;`\n",
        "```\n",
        "\n",
        "This statement takes the 'Actor' table and joins it with the 'Person' table where the 'actor_id' in 'Actor' matches the 'id' in 'Person'. We're only interested in the movie with ID '100', so we specify that with `WHERE Actor.movie_id = 100`.\n",
        "\n",
        "The result of this query would look like this:\n",
        "\n",
        "| name |\n",
        "| --- |\n",
        "| Tom Hanks |\n",
        "| Morgan Freeman |\n",
        "\n",
        "This result shows us that Tom Hanks and Morgan Freeman were both actors in the movie with the ID '100'.\n",
        "\n",
        "Now, let's move onto multiple-table joins. Suppose we want to get a list of movie names along with the actors. To do this, we would join three tables: 'Movie', 'Actor', and 'Person'. Let's start by adding a 'Movie' table into our example:\n",
        "\n",
        "'Movie' Table:\n",
        "\n",
        "| id | name |\n",
        "| --- | --- |\n",
        "| 100 | Forrest Gump |\n",
        "| 101 | The Godfather |\n",
        "| 102 | Casablanca |\n",
        "\n",
        "We could adjust our previous SQL query to include the 'Movie' table like this:\n",
        "\n",
        "```\n",
        "SELECT Movie.name, Person.name\n",
        "FROM Movie\n",
        "JOIN Actor ON Movie.id = Actor.movie_id\n",
        "JOIN Person ON Actor.actor_id = Person.id;\n",
        "```\n",
        "\n",
        "Now we are joining 'Movie' to 'Actor', and then that result to 'Person'. This would give us a list of movie names along with the corresponding actor names, something like this:\n",
        "\n",
        "| Movie Name | Actor Name |\n",
        "| --- | --- |\n",
        "| Forrest Gump | Tom Hanks |\n",
        "| Forrest Gump | Morgan Freeman |\n",
        "| The Godfather | Meryl Streep |"
      ],
      "metadata": {
        "id": "X12rMC2cjJa0"
      }
    },
    {
      "cell_type": "markdown",
      "source": [
        "#### Example 1: Actors in 'PG-13' Movies\n",
        "To accomplish this, we'll INNER JOIN the Movie and Actor tables, linking them through the id and movie_id columns, respectively. We'll then filter the results to only include movies with a 'PG-13' rating."
      ],
      "metadata": {
        "id": "UzWHnLFyjOux"
      }
    },
    {
      "cell_type": "code",
      "source": [
        "%%sql\n",
        "SELECT Person.name as \"Actor\",\n",
        "  Movie.name AS \"Movie Title\", Rating\n",
        "FROM Person\n",
        "INNER JOIN Actor ON Person.id = Actor.actor_id\n",
        "INNER JOIN Movie ON Actor.movie_id = Movie.id\n",
        "WHERE Movie.rating = 'PG-13'\n",
        "LIMIT 10;"
      ],
      "metadata": {
        "colab": {
          "base_uri": "https://localhost:8080/",
          "height": 289
        },
        "id": "NOzmDEjYjSJX",
        "outputId": "1dc42394-7ba5-4f5a-d68e-d3c41429f636"
      },
      "execution_count": null,
      "outputs": [
        {
          "output_type": "stream",
          "name": "stdout",
          "text": [
            " * sqlite:///movie.sqlite\n",
            "Done.\n"
          ]
        },
        {
          "output_type": "execute_result",
          "data": {
            "text/plain": [
              "[('Leonardo DiCaprio', 'Titanic', 'PG-13'),\n",
              " ('Kate Winslet', 'Titanic', 'PG-13'),\n",
              " ('Billy Zane', 'Titanic', 'PG-13'),\n",
              " ('Kathy Bates', 'Titanic', 'PG-13'),\n",
              " ('Bill Paxton', 'Titanic', 'PG-13'),\n",
              " ('Tobey Maguire', 'Spider-Man', 'PG-13'),\n",
              " ('Willem Dafoe', 'Spider-Man', 'PG-13'),\n",
              " ('Kirsten Dunst', 'Spider-Man', 'PG-13'),\n",
              " ('James Franco', 'Spider-Man', 'PG-13'),\n",
              " ('Cliff Robertson', 'Spider-Man', 'PG-13')]"
            ],
            "text/html": [
              "<table>\n",
              "    <thead>\n",
              "        <tr>\n",
              "            <th>Actor</th>\n",
              "            <th>Movie Title</th>\n",
              "            <th>rating</th>\n",
              "        </tr>\n",
              "    </thead>\n",
              "    <tbody>\n",
              "        <tr>\n",
              "            <td>Leonardo DiCaprio</td>\n",
              "            <td>Titanic</td>\n",
              "            <td>PG-13</td>\n",
              "        </tr>\n",
              "        <tr>\n",
              "            <td>Kate Winslet</td>\n",
              "            <td>Titanic</td>\n",
              "            <td>PG-13</td>\n",
              "        </tr>\n",
              "        <tr>\n",
              "            <td>Billy Zane</td>\n",
              "            <td>Titanic</td>\n",
              "            <td>PG-13</td>\n",
              "        </tr>\n",
              "        <tr>\n",
              "            <td>Kathy Bates</td>\n",
              "            <td>Titanic</td>\n",
              "            <td>PG-13</td>\n",
              "        </tr>\n",
              "        <tr>\n",
              "            <td>Bill Paxton</td>\n",
              "            <td>Titanic</td>\n",
              "            <td>PG-13</td>\n",
              "        </tr>\n",
              "        <tr>\n",
              "            <td>Tobey Maguire</td>\n",
              "            <td>Spider-Man</td>\n",
              "            <td>PG-13</td>\n",
              "        </tr>\n",
              "        <tr>\n",
              "            <td>Willem Dafoe</td>\n",
              "            <td>Spider-Man</td>\n",
              "            <td>PG-13</td>\n",
              "        </tr>\n",
              "        <tr>\n",
              "            <td>Kirsten Dunst</td>\n",
              "            <td>Spider-Man</td>\n",
              "            <td>PG-13</td>\n",
              "        </tr>\n",
              "        <tr>\n",
              "            <td>James Franco</td>\n",
              "            <td>Spider-Man</td>\n",
              "            <td>PG-13</td>\n",
              "        </tr>\n",
              "        <tr>\n",
              "            <td>Cliff Robertson</td>\n",
              "            <td>Spider-Man</td>\n",
              "            <td>PG-13</td>\n",
              "        </tr>\n",
              "    </tbody>\n",
              "</table>"
            ]
          },
          "metadata": {},
          "execution_count": 6
        }
      ]
    },
    {
      "cell_type": "markdown",
      "source": [
        "#### Example 2: Aggregate Functions - Average Runtime of Movies by Rating\n",
        "Suppose you're planning a movie marathon and want to know the average runtime of movies based on their ratings. We can use an INNER JOIN between the Movie and Actor tables and then apply the SQL aggregate function AVG() to calculate this."
      ],
      "metadata": {
        "id": "ZMg8FUIRkKCj"
      }
    },
    {
      "cell_type": "code",
      "source": [
        "%%sql\n",
        "SELECT Movie.rating,\n",
        "  ROUND(AVG(Movie.runtime), 2) AS \"Average Time (min)\"\n",
        "FROM Movie\n",
        "INNER JOIN Actor ON Movie.id = Actor.movie_id\n",
        "GROUP BY Movie.rating;"
      ],
      "metadata": {
        "colab": {
          "base_uri": "https://localhost:8080/",
          "height": 246
        },
        "id": "k86LlW62kLBL",
        "outputId": "7db2be7a-6946-401c-dd8b-247d8288561d"
      },
      "execution_count": null,
      "outputs": [
        {
          "output_type": "stream",
          "name": "stdout",
          "text": [
            " * sqlite:///movie.sqlite\n",
            "Done.\n"
          ]
        },
        {
          "output_type": "execute_result",
          "data": {
            "text/plain": [
              "[(None, 115.93),\n",
              " ('G', 117.13),\n",
              " ('GP', 187.0),\n",
              " ('M', 124.0),\n",
              " ('NC-17', 114.18),\n",
              " ('PG', 112.2),\n",
              " ('PG-13', 128.74),\n",
              " ('R', 126.35)]"
            ],
            "text/html": [
              "<table>\n",
              "    <thead>\n",
              "        <tr>\n",
              "            <th>rating</th>\n",
              "            <th>Average Time (min)</th>\n",
              "        </tr>\n",
              "    </thead>\n",
              "    <tbody>\n",
              "        <tr>\n",
              "            <td>None</td>\n",
              "            <td>115.93</td>\n",
              "        </tr>\n",
              "        <tr>\n",
              "            <td>G</td>\n",
              "            <td>117.13</td>\n",
              "        </tr>\n",
              "        <tr>\n",
              "            <td>GP</td>\n",
              "            <td>187.0</td>\n",
              "        </tr>\n",
              "        <tr>\n",
              "            <td>M</td>\n",
              "            <td>124.0</td>\n",
              "        </tr>\n",
              "        <tr>\n",
              "            <td>NC-17</td>\n",
              "            <td>114.18</td>\n",
              "        </tr>\n",
              "        <tr>\n",
              "            <td>PG</td>\n",
              "            <td>112.2</td>\n",
              "        </tr>\n",
              "        <tr>\n",
              "            <td>PG-13</td>\n",
              "            <td>128.74</td>\n",
              "        </tr>\n",
              "        <tr>\n",
              "            <td>R</td>\n",
              "            <td>126.35</td>\n",
              "        </tr>\n",
              "    </tbody>\n",
              "</table>"
            ]
          },
          "metadata": {},
          "execution_count": 7
        }
      ]
    },
    {
      "cell_type": "markdown",
      "source": [
        "#### Example 3: Text Filtering with LIKE - Directors Born in New York\n",
        "\n",
        "What if you're curious to know which directors were born in New York and have directed a movie? We can INNER JOIN the `Person` and `Director` tables and use the SQL `LIKE` keyword to filter text data."
      ],
      "metadata": {
        "id": "nZW_RbmPkduR"
      }
    },
    {
      "cell_type": "code",
      "source": [
        "%%sql\n",
        "SELECT Person.name, pob\n",
        "FROM Person\n",
        "INNER JOIN Director ON Person.id = Director.director_id\n",
        "WHERE Person.pob LIKE '%New York%'\n",
        "LIMIT 5;"
      ],
      "metadata": {
        "colab": {
          "base_uri": "https://localhost:8080/",
          "height": 182
        },
        "id": "Jq94YeHtkejJ",
        "outputId": "2079be16-acc3-4ae5-a2ac-0f2360164e7f"
      },
      "execution_count": null,
      "outputs": [
        {
          "output_type": "stream",
          "name": "stdout",
          "text": [
            " * sqlite:///movie.sqlite\n",
            "Done.\n"
          ]
        },
        {
          "output_type": "execute_result",
          "data": {
            "text/plain": [
              "[('Mel Gibson', 'Peekskill, New York, USA'),\n",
              " ('Barry Sonnenfeld', 'New York, New York, USA'),\n",
              " ('Joel Zwick', 'Brooklyn, New York, USA'),\n",
              " ('Martin Brest', 'The Bronx, New York, New York, USA'),\n",
              " ('Bryan Singer', 'New York, New York, USA')]"
            ],
            "text/html": [
              "<table>\n",
              "    <thead>\n",
              "        <tr>\n",
              "            <th>name</th>\n",
              "            <th>pob</th>\n",
              "        </tr>\n",
              "    </thead>\n",
              "    <tbody>\n",
              "        <tr>\n",
              "            <td>Mel Gibson</td>\n",
              "            <td>Peekskill, New York, USA</td>\n",
              "        </tr>\n",
              "        <tr>\n",
              "            <td>Barry Sonnenfeld</td>\n",
              "            <td>New York, New York, USA</td>\n",
              "        </tr>\n",
              "        <tr>\n",
              "            <td>Joel Zwick</td>\n",
              "            <td>Brooklyn, New York, USA</td>\n",
              "        </tr>\n",
              "        <tr>\n",
              "            <td>Martin Brest</td>\n",
              "            <td>The Bronx, New York, New York, USA</td>\n",
              "        </tr>\n",
              "        <tr>\n",
              "            <td>Bryan Singer</td>\n",
              "            <td>New York, New York, USA</td>\n",
              "        </tr>\n",
              "    </tbody>\n",
              "</table>"
            ]
          },
          "metadata": {},
          "execution_count": 14
        }
      ]
    },
    {
      "cell_type": "markdown",
      "source": [
        "#### Example 4: INNER JOIN with Multiple Conditions - Oscar-Winning Actors in PG-13 Movies\n",
        "The following query finds the number of PG-13 movies for which each actor has won a Best Actor Oscar. It does this by first joining the four tables `Person`, `Actor`, `Movie`, and `Oscar` on the `id` column to create a single table that contains all of the relevant data. It then filters the table to only include rows where the movie rating is `PG-13` and the Oscar type is `BEST-ACTOR`. Finally, it groups the rows by the actor name and counts the number of rows in each group. This gives us a table with two columns: `Actor` and `Number of PG Movies`."
      ],
      "metadata": {
        "id": "EwRG66l0ksp_"
      }
    },
    {
      "cell_type": "code",
      "source": [
        "%%sql\n",
        "\n",
        "SELECT Person.name AS \"Actor\",\n",
        "  COUNT(Movie.name) AS \"Number of PG Movies\"\n",
        "FROM Person\n",
        "INNER JOIN Actor ON Person.id = Actor.actor_id\n",
        "INNER JOIN Movie ON Actor.movie_id = Movie.id\n",
        "INNER JOIN Oscar ON Person.id = Oscar.person_id\n",
        "WHERE Movie.rating = 'PG-13' AND Oscar.type = 'BEST-ACTOR'\n",
        "GROUP BY Person.name\n",
        "LIMIT 5;\n"
      ],
      "metadata": {
        "colab": {
          "base_uri": "https://localhost:8080/",
          "height": 182
        },
        "id": "Xc7sO41zkxnX",
        "outputId": "bd842772-dd53-4fdf-acd7-cfc6459c5f51"
      },
      "execution_count": null,
      "outputs": [
        {
          "output_type": "stream",
          "name": "stdout",
          "text": [
            " * sqlite:///movie.sqlite\n",
            "Done.\n"
          ]
        },
        {
          "output_type": "execute_result",
          "data": {
            "text/plain": [
              "[('Adrien Brody', 1),\n",
              " ('Anthony Hopkins', 6),\n",
              " ('Ben Kingsley', 1),\n",
              " ('Charles Laughton', 1),\n",
              " ('Cliff Robertson', 1)]"
            ],
            "text/html": [
              "<table>\n",
              "    <thead>\n",
              "        <tr>\n",
              "            <th>Actor</th>\n",
              "            <th>Number of PG Movies</th>\n",
              "        </tr>\n",
              "    </thead>\n",
              "    <tbody>\n",
              "        <tr>\n",
              "            <td>Adrien Brody</td>\n",
              "            <td>1</td>\n",
              "        </tr>\n",
              "        <tr>\n",
              "            <td>Anthony Hopkins</td>\n",
              "            <td>6</td>\n",
              "        </tr>\n",
              "        <tr>\n",
              "            <td>Ben Kingsley</td>\n",
              "            <td>1</td>\n",
              "        </tr>\n",
              "        <tr>\n",
              "            <td>Charles Laughton</td>\n",
              "            <td>1</td>\n",
              "        </tr>\n",
              "        <tr>\n",
              "            <td>Cliff Robertson</td>\n",
              "            <td>1</td>\n",
              "        </tr>\n",
              "    </tbody>\n",
              "</table>"
            ]
          },
          "metadata": {},
          "execution_count": 13
        }
      ]
    },
    {
      "cell_type": "markdown",
      "source": [
        "#### Example 5: Sorting with ORDER BY - Top Earning PG-13 Movies and Their Directors\n",
        "\n",
        "Perhaps you're interested in knowing which 'PG-13' movies earned the most at the box office and who directed them. In this example, we use an INNER JOIN between the `Movie` and `Director` tables and sort the results using the `ORDER BY` keyword."
      ],
      "metadata": {
        "id": "GTSEPpuvl8vC"
      }
    },
    {
      "cell_type": "code",
      "source": [
        "%%sql\n",
        "SELECT Movie.name AS \"Movie\",\n",
        "  Person.name AS \"Director\",\n",
        "  Movie.earnings_rank AS \"Earnings Rank\"\n",
        "FROM Movie\n",
        "INNER JOIN Director ON Movie.id = Director.movie_id\n",
        "INNER JOIN Person ON Director.director_id = Person.id\n",
        "WHERE Movie.rating = 'PG-13'\n",
        "  AND Movie.earnings_rank IS NOT NULL\n",
        "ORDER BY Movie.earnings_rank ASC\n",
        "LIMIT 5;"
      ],
      "metadata": {
        "colab": {
          "base_uri": "https://localhost:8080/",
          "height": 182
        },
        "id": "Qkbbf8NSl9Jy",
        "outputId": "e869e7e6-9b16-423d-e2f3-fa4c860298ba"
      },
      "execution_count": null,
      "outputs": [
        {
          "output_type": "stream",
          "name": "stdout",
          "text": [
            " * sqlite:///movie.sqlite\n",
            "Done.\n"
          ]
        },
        {
          "output_type": "execute_result",
          "data": {
            "text/plain": [
              "[('Star Wars: The Force Awakens', 'J.J. Abrams', 1),\n",
              " ('Avengers: Endgame', 'Anthony Russo', 2),\n",
              " ('Avengers: Endgame', 'Joe Russo', 2),\n",
              " ('Spider-Man: No Way Home', 'Jon Watts', 3),\n",
              " ('Avatar', 'James Cameron', 4)]"
            ],
            "text/html": [
              "<table>\n",
              "    <thead>\n",
              "        <tr>\n",
              "            <th>Movie</th>\n",
              "            <th>Director</th>\n",
              "            <th>Earnings Rank</th>\n",
              "        </tr>\n",
              "    </thead>\n",
              "    <tbody>\n",
              "        <tr>\n",
              "            <td>Star Wars: The Force Awakens</td>\n",
              "            <td>J.J. Abrams</td>\n",
              "            <td>1</td>\n",
              "        </tr>\n",
              "        <tr>\n",
              "            <td>Avengers: Endgame</td>\n",
              "            <td>Anthony Russo</td>\n",
              "            <td>2</td>\n",
              "        </tr>\n",
              "        <tr>\n",
              "            <td>Avengers: Endgame</td>\n",
              "            <td>Joe Russo</td>\n",
              "            <td>2</td>\n",
              "        </tr>\n",
              "        <tr>\n",
              "            <td>Spider-Man: No Way Home</td>\n",
              "            <td>Jon Watts</td>\n",
              "            <td>3</td>\n",
              "        </tr>\n",
              "        <tr>\n",
              "            <td>Avatar</td>\n",
              "            <td>James Cameron</td>\n",
              "            <td>4</td>\n",
              "        </tr>\n",
              "    </tbody>\n",
              "</table>"
            ]
          },
          "metadata": {},
          "execution_count": 19
        }
      ]
    },
    {
      "cell_type": "markdown",
      "source": [
        "#### Example 6: Counting Entries with COUNT - Number of Movies by Rating\n",
        "\n",
        "For a school project, you might need to know how many movies exist in each rating category. To accomplish this, we can use the `COUNT()` function along with an INNER JOIN between `Movie` and `Actor` tables, then group the results by rating."
      ],
      "metadata": {
        "id": "mbZnEa1emglX"
      }
    },
    {
      "cell_type": "code",
      "source": [
        "%%sql\n",
        "SELECT Movie.rating, COUNT(Movie.id)\n",
        "FROM Movie\n",
        "INNER JOIN Actor ON Movie.id = Actor.movie_id\n",
        "GROUP BY Movie.rating;\n"
      ],
      "metadata": {
        "colab": {
          "base_uri": "https://localhost:8080/",
          "height": 246
        },
        "id": "nGBMiv_smhjH",
        "outputId": "95f6a3f8-0139-4c6f-8e0f-8196c5785a86"
      },
      "execution_count": null,
      "outputs": [
        {
          "output_type": "stream",
          "name": "stdout",
          "text": [
            " * sqlite:///movie.sqlite\n",
            "Done.\n"
          ]
        },
        {
          "output_type": "execute_result",
          "data": {
            "text/plain": [
              "[(None, 693),\n",
              " ('G', 197),\n",
              " ('GP', 5),\n",
              " ('M', 25),\n",
              " ('NC-17', 11),\n",
              " ('PG', 727),\n",
              " ('PG-13', 1231),\n",
              " ('R', 851)]"
            ],
            "text/html": [
              "<table>\n",
              "    <thead>\n",
              "        <tr>\n",
              "            <th>rating</th>\n",
              "            <th>COUNT(Movie.id)</th>\n",
              "        </tr>\n",
              "    </thead>\n",
              "    <tbody>\n",
              "        <tr>\n",
              "            <td>None</td>\n",
              "            <td>693</td>\n",
              "        </tr>\n",
              "        <tr>\n",
              "            <td>G</td>\n",
              "            <td>197</td>\n",
              "        </tr>\n",
              "        <tr>\n",
              "            <td>GP</td>\n",
              "            <td>5</td>\n",
              "        </tr>\n",
              "        <tr>\n",
              "            <td>M</td>\n",
              "            <td>25</td>\n",
              "        </tr>\n",
              "        <tr>\n",
              "            <td>NC-17</td>\n",
              "            <td>11</td>\n",
              "        </tr>\n",
              "        <tr>\n",
              "            <td>PG</td>\n",
              "            <td>727</td>\n",
              "        </tr>\n",
              "        <tr>\n",
              "            <td>PG-13</td>\n",
              "            <td>1231</td>\n",
              "        </tr>\n",
              "        <tr>\n",
              "            <td>R</td>\n",
              "            <td>851</td>\n",
              "        </tr>\n",
              "    </tbody>\n",
              "</table>"
            ]
          },
          "metadata": {},
          "execution_count": 20
        }
      ]
    },
    {
      "cell_type": "markdown",
      "source": [
        "### LEFT JOIN (LEFT OUTER JOIN)\n",
        "\n",
        "The general form of a LEFT [OUTER] JOIN SQL statement looks like this:\n",
        "\n",
        "```\n",
        "SELECT column1, column2, ...\n",
        "FROM table1\n",
        "LEFT JOIN table2 ON condition;\n",
        "```\n",
        "\n",
        "A LEFT JOIN returns all records from the left table (table1), and the matched records from the right table (table2). If there is no match, the result is NULL on the right side. This is quite different from an INNER JOIN, which only returns records where there is a match in both tables.\n",
        "\n",
        "Continuing with our previous example, consider the 'Actor' and 'Person' tables:\n",
        "\n",
        "'Actor' Table:\n",
        "\n",
        "| actor_id | movie_id |\n",
        "| --- | --- |\n",
        "| 1 | 100 |\n",
        "| 2 | 100 |\n",
        "| 3 | 101 |\n",
        "| 4 | 102 |\n",
        "\n",
        "'Person' Table:\n",
        "\n",
        "| id | name |\n",
        "| --- | --- |\n",
        "| 1 | Tom Hanks |\n",
        "| 2 | Morgan Freeman |\n",
        "| 3 | Meryl Streep |\n",
        "| 5 | Robert De Niro |\n",
        "\n",
        "Now, suppose we want to find out all the actors, including those who didn't act in any movie. We can use a LEFT JOIN to combine the 'Person' and 'Actor' tables:\n",
        "\n",
        "```\n",
        "SELECT Person.name, Actor.movie_id\n",
        "FROM Person\n",
        "LEFT JOIN Actor ON Person.id = Actor.actor_id;\n",
        "```\n",
        "\n",
        "This statement takes the 'Person' table and joins it with the 'Actor' table where the 'id' in 'Person' matches the 'actor_id' in 'Actor'. If there's no match, the 'movie_id' will be NULL.\n",
        "\n",
        "The result of this query would look like this:\n",
        "\n",
        "| name | movie_id |\n",
        "| --- | --- |\n",
        "| Tom Hanks | 100 |\n",
        "| Morgan Freeman | 100 |\n",
        "| Meryl Streep | 101 |\n",
        "| Robert De Niro | NULL |\n",
        "\n",
        "This result shows us that Tom Hanks, Morgan Freeman, and Meryl Streep acted in various movies, while Robert De Niro's name appears with a NULL 'movie_id', meaning he hasn't acted in any of the movies listed in the 'Actor' table.\n",
        "\n",
        "In contrast, if we had used an INNER JOIN instead, Robert De Niro wouldn't appear in our result at all, because INNER JOIN only includes records where there's a match in both tables. The choice between INNER JOIN and LEFT JOIN depends on whether you want to include all records from one table (LEFT JOIN), or only records where there's a match in both tables (INNER JOIN).\n",
        "\n",
        "Some versions of SQL also ofter commands for RIGHT (OUTER) JOIN (which just reverses the order of the two tables in LEFT JOIN) and FULL OUTER JOIN (which combines the results of LEFT and RIGHT joins). However, you can replicate these by smartly using LEFT JOIN."
      ],
      "metadata": {
        "id": "ro9ec2bOL58W"
      }
    },
    {
      "cell_type": "markdown",
      "source": [
        "#### Example 7: All Movies and Their Oscar Wins\n",
        "Imagine you're compiling a list of all movies and want to know which ones have won Oscars. Even if a movie hasn't won, it should still appear in the list."
      ],
      "metadata": {
        "id": "7V0HKizToEXg"
      }
    },
    {
      "cell_type": "code",
      "source": [
        "%%sql\n",
        "SELECT Movie.name, Oscar.type\n",
        "FROM Movie\n",
        "LEFT JOIN Oscar ON Movie.id = Oscar.movie_id\n",
        "LIMIT 30;\n"
      ],
      "metadata": {
        "colab": {
          "base_uri": "https://localhost:8080/",
          "height": 716
        },
        "id": "uHS-x7gBoGRF",
        "outputId": "57af04f5-315f-48dc-e86c-db13295c8507"
      },
      "execution_count": null,
      "outputs": [
        {
          "output_type": "stream",
          "name": "stdout",
          "text": [
            " * sqlite:///movie.sqlite\n",
            "Done.\n"
          ]
        },
        {
          "output_type": "execute_result",
          "data": {
            "text/plain": [
              "[('Star Wars: The Force Awakens', None),\n",
              " ('Avengers: Endgame', None),\n",
              " ('Spider-Man: No Way Home', None),\n",
              " ('Avatar', None),\n",
              " ('Top Gun: Maverick', None),\n",
              " ('Black Panther', None),\n",
              " ('Avengers: Infinity War', None),\n",
              " ('Titanic', 'BEST-DIRECTOR'),\n",
              " ('Titanic', 'BEST-PICTURE'),\n",
              " ('Jurassic World', None),\n",
              " ('The Avengers', None),\n",
              " ('Star Wars: Episode VIII - The Last Jedi', None),\n",
              " ('Incredibles 2', None),\n",
              " ('The Lion King', None),\n",
              " ('The Dark Knight', 'BEST-SUPPORTING-ACTOR'),\n",
              " ('Rogue One: A Star Wars Story', None),\n",
              " ('Star Wars: The Rise Of Skywalker', None),\n",
              " ('Beauty and the Beast', None),\n",
              " ('Finding Dory', None),\n",
              " ('Frozen II', None),\n",
              " ('Star Wars: Episode I - The Phantom Menace', None),\n",
              " ('Star Wars: Episode IV - A New Hope', None),\n",
              " ('Avengers: Age of Ultron', None),\n",
              " ('The Dark Knight Rises', None),\n",
              " ('Shrek 2', None),\n",
              " ('E.T. the Extra-Terrestrial', None),\n",
              " ('Toy Story 4', None),\n",
              " ('Captain Marvel', None),\n",
              " ('The Hunger Games: Catching Fire', None),\n",
              " (\"Pirates of the Caribbean: Dead Man's Chest\", None)]"
            ],
            "text/html": [
              "<table>\n",
              "    <thead>\n",
              "        <tr>\n",
              "            <th>name</th>\n",
              "            <th>type</th>\n",
              "        </tr>\n",
              "    </thead>\n",
              "    <tbody>\n",
              "        <tr>\n",
              "            <td>Star Wars: The Force Awakens</td>\n",
              "            <td>None</td>\n",
              "        </tr>\n",
              "        <tr>\n",
              "            <td>Avengers: Endgame</td>\n",
              "            <td>None</td>\n",
              "        </tr>\n",
              "        <tr>\n",
              "            <td>Spider-Man: No Way Home</td>\n",
              "            <td>None</td>\n",
              "        </tr>\n",
              "        <tr>\n",
              "            <td>Avatar</td>\n",
              "            <td>None</td>\n",
              "        </tr>\n",
              "        <tr>\n",
              "            <td>Top Gun: Maverick</td>\n",
              "            <td>None</td>\n",
              "        </tr>\n",
              "        <tr>\n",
              "            <td>Black Panther</td>\n",
              "            <td>None</td>\n",
              "        </tr>\n",
              "        <tr>\n",
              "            <td>Avengers: Infinity War</td>\n",
              "            <td>None</td>\n",
              "        </tr>\n",
              "        <tr>\n",
              "            <td>Titanic</td>\n",
              "            <td>BEST-DIRECTOR</td>\n",
              "        </tr>\n",
              "        <tr>\n",
              "            <td>Titanic</td>\n",
              "            <td>BEST-PICTURE</td>\n",
              "        </tr>\n",
              "        <tr>\n",
              "            <td>Jurassic World</td>\n",
              "            <td>None</td>\n",
              "        </tr>\n",
              "        <tr>\n",
              "            <td>The Avengers</td>\n",
              "            <td>None</td>\n",
              "        </tr>\n",
              "        <tr>\n",
              "            <td>Star Wars: Episode VIII - The Last Jedi</td>\n",
              "            <td>None</td>\n",
              "        </tr>\n",
              "        <tr>\n",
              "            <td>Incredibles 2</td>\n",
              "            <td>None</td>\n",
              "        </tr>\n",
              "        <tr>\n",
              "            <td>The Lion King</td>\n",
              "            <td>None</td>\n",
              "        </tr>\n",
              "        <tr>\n",
              "            <td>The Dark Knight</td>\n",
              "            <td>BEST-SUPPORTING-ACTOR</td>\n",
              "        </tr>\n",
              "        <tr>\n",
              "            <td>Rogue One: A Star Wars Story</td>\n",
              "            <td>None</td>\n",
              "        </tr>\n",
              "        <tr>\n",
              "            <td>Star Wars: The Rise Of Skywalker</td>\n",
              "            <td>None</td>\n",
              "        </tr>\n",
              "        <tr>\n",
              "            <td>Beauty and the Beast</td>\n",
              "            <td>None</td>\n",
              "        </tr>\n",
              "        <tr>\n",
              "            <td>Finding Dory</td>\n",
              "            <td>None</td>\n",
              "        </tr>\n",
              "        <tr>\n",
              "            <td>Frozen II</td>\n",
              "            <td>None</td>\n",
              "        </tr>\n",
              "        <tr>\n",
              "            <td>Star Wars: Episode I - The Phantom Menace</td>\n",
              "            <td>None</td>\n",
              "        </tr>\n",
              "        <tr>\n",
              "            <td>Star Wars: Episode IV - A New Hope</td>\n",
              "            <td>None</td>\n",
              "        </tr>\n",
              "        <tr>\n",
              "            <td>Avengers: Age of Ultron</td>\n",
              "            <td>None</td>\n",
              "        </tr>\n",
              "        <tr>\n",
              "            <td>The Dark Knight Rises</td>\n",
              "            <td>None</td>\n",
              "        </tr>\n",
              "        <tr>\n",
              "            <td>Shrek 2</td>\n",
              "            <td>None</td>\n",
              "        </tr>\n",
              "        <tr>\n",
              "            <td>E.T. the Extra-Terrestrial</td>\n",
              "            <td>None</td>\n",
              "        </tr>\n",
              "        <tr>\n",
              "            <td>Toy Story 4</td>\n",
              "            <td>None</td>\n",
              "        </tr>\n",
              "        <tr>\n",
              "            <td>Captain Marvel</td>\n",
              "            <td>None</td>\n",
              "        </tr>\n",
              "        <tr>\n",
              "            <td>The Hunger Games: Catching Fire</td>\n",
              "            <td>None</td>\n",
              "        </tr>\n",
              "        <tr>\n",
              "            <td>Pirates of the Caribbean: Dead Man&#x27;s Chest</td>\n",
              "            <td>None</td>\n",
              "        </tr>\n",
              "    </tbody>\n",
              "</table>"
            ]
          },
          "metadata": {},
          "execution_count": 7
        }
      ]
    },
    {
      "cell_type": "markdown",
      "source": [
        "#### Example 8: All the \"Steven\"s and Movies They've Directed\n",
        "For whatever reason, you are interested in knowing which people named Steven have directed which movies. You'd also like to know which Stevens haven't directed any movies. A LEFT JOIN can fetch this information, including directors who haven't yet directed a movie."
      ],
      "metadata": {
        "id": "MJTtyjvtoNv8"
      }
    },
    {
      "cell_type": "code",
      "source": [
        "%%sql\n",
        "SELECT Person.name AS \"Person\",\n",
        "  Movie.name AS \"Movie Directed\"\n",
        "FROM Person\n",
        "LEFT JOIN Director ON Director.director_id = Person.id\n",
        "LEFT JOIN Movie ON Movie.id = Director.movie_id\n",
        "WHERE Person.name LIKE 'Steven%';\n",
        "\n"
      ],
      "metadata": {
        "colab": {
          "base_uri": "https://localhost:8080/",
          "height": 566
        },
        "id": "lfqt6Fc4oTij",
        "outputId": "d6b9128a-4d93-4b91-e33f-931025c016fd"
      },
      "execution_count": null,
      "outputs": [
        {
          "output_type": "stream",
          "name": "stdout",
          "text": [
            " * sqlite:///movie.sqlite\n",
            "Done.\n"
          ]
        },
        {
          "output_type": "execute_result",
          "data": {
            "text/plain": [
              "[('Steven Spielberg', 'Jaws'),\n",
              " ('Steven Spielberg', 'Indiana Jones and the Raiders of the Lost Ark'),\n",
              " ('Steven Spielberg', 'E.T. the Extra-Terrestrial'),\n",
              " ('Steven Spielberg', 'Indiana Jones and the Temple of Doom'),\n",
              " ('Steven Spielberg', 'Indiana Jones and the Last Crusade'),\n",
              " ('Steven Spielberg', 'Jurassic Park'),\n",
              " ('Steven Spielberg', \"Schindler's List\"),\n",
              " ('Steven Spielberg', 'Lost World: Jurassic Park, The'),\n",
              " ('Steven Spielberg', 'Saving Private Ryan'),\n",
              " ('Steven Spielberg', 'Minority Report'),\n",
              " ('Steven Spielberg', 'Catch Me If You Can'),\n",
              " ('Steven Spielberg', 'Indiana Jones and the Kingdom of the Crystal Skull'),\n",
              " ('Steven Spielberg', 'War of the Worlds'),\n",
              " ('Steven Spielberg', 'Lincoln'),\n",
              " ('Steven Spielberg', 'West Side Story'),\n",
              " ('Steven Spielberg', 'Bridge of Spies'),\n",
              " ('Steven Berkoff', None),\n",
              " ('Steven Soderbergh', 'Traffic'),\n",
              " ('Steven Soderbergh', 'Erin Brockovich'),\n",
              " ('Steven Soderbergh', \"Ocean's Eleven\"),\n",
              " ('Steven Weber', None),\n",
              " ('Steven Chester Prince', None),\n",
              " ('Steven Yeun', None)]"
            ],
            "text/html": [
              "<table>\n",
              "    <thead>\n",
              "        <tr>\n",
              "            <th>Person</th>\n",
              "            <th>Movie Directed</th>\n",
              "        </tr>\n",
              "    </thead>\n",
              "    <tbody>\n",
              "        <tr>\n",
              "            <td>Steven Spielberg</td>\n",
              "            <td>Jaws</td>\n",
              "        </tr>\n",
              "        <tr>\n",
              "            <td>Steven Spielberg</td>\n",
              "            <td>Indiana Jones and the Raiders of the Lost Ark</td>\n",
              "        </tr>\n",
              "        <tr>\n",
              "            <td>Steven Spielberg</td>\n",
              "            <td>E.T. the Extra-Terrestrial</td>\n",
              "        </tr>\n",
              "        <tr>\n",
              "            <td>Steven Spielberg</td>\n",
              "            <td>Indiana Jones and the Temple of Doom</td>\n",
              "        </tr>\n",
              "        <tr>\n",
              "            <td>Steven Spielberg</td>\n",
              "            <td>Indiana Jones and the Last Crusade</td>\n",
              "        </tr>\n",
              "        <tr>\n",
              "            <td>Steven Spielberg</td>\n",
              "            <td>Jurassic Park</td>\n",
              "        </tr>\n",
              "        <tr>\n",
              "            <td>Steven Spielberg</td>\n",
              "            <td>Schindler&#x27;s List</td>\n",
              "        </tr>\n",
              "        <tr>\n",
              "            <td>Steven Spielberg</td>\n",
              "            <td>Lost World: Jurassic Park, The</td>\n",
              "        </tr>\n",
              "        <tr>\n",
              "            <td>Steven Spielberg</td>\n",
              "            <td>Saving Private Ryan</td>\n",
              "        </tr>\n",
              "        <tr>\n",
              "            <td>Steven Spielberg</td>\n",
              "            <td>Minority Report</td>\n",
              "        </tr>\n",
              "        <tr>\n",
              "            <td>Steven Spielberg</td>\n",
              "            <td>Catch Me If You Can</td>\n",
              "        </tr>\n",
              "        <tr>\n",
              "            <td>Steven Spielberg</td>\n",
              "            <td>Indiana Jones and the Kingdom of the Crystal Skull</td>\n",
              "        </tr>\n",
              "        <tr>\n",
              "            <td>Steven Spielberg</td>\n",
              "            <td>War of the Worlds</td>\n",
              "        </tr>\n",
              "        <tr>\n",
              "            <td>Steven Spielberg</td>\n",
              "            <td>Lincoln</td>\n",
              "        </tr>\n",
              "        <tr>\n",
              "            <td>Steven Spielberg</td>\n",
              "            <td>West Side Story</td>\n",
              "        </tr>\n",
              "        <tr>\n",
              "            <td>Steven Spielberg</td>\n",
              "            <td>Bridge of Spies</td>\n",
              "        </tr>\n",
              "        <tr>\n",
              "            <td>Steven Berkoff</td>\n",
              "            <td>None</td>\n",
              "        </tr>\n",
              "        <tr>\n",
              "            <td>Steven Soderbergh</td>\n",
              "            <td>Traffic</td>\n",
              "        </tr>\n",
              "        <tr>\n",
              "            <td>Steven Soderbergh</td>\n",
              "            <td>Erin Brockovich</td>\n",
              "        </tr>\n",
              "        <tr>\n",
              "            <td>Steven Soderbergh</td>\n",
              "            <td>Ocean&#x27;s Eleven</td>\n",
              "        </tr>\n",
              "        <tr>\n",
              "            <td>Steven Weber</td>\n",
              "            <td>None</td>\n",
              "        </tr>\n",
              "        <tr>\n",
              "            <td>Steven Chester Prince</td>\n",
              "            <td>None</td>\n",
              "        </tr>\n",
              "        <tr>\n",
              "            <td>Steven Yeun</td>\n",
              "            <td>None</td>\n",
              "        </tr>\n",
              "    </tbody>\n",
              "</table>"
            ]
          },
          "metadata": {},
          "execution_count": 36
        }
      ]
    },
    {
      "cell_type": "markdown",
      "source": [
        "### CROSS JOIN\n",
        "\n",
        "A CROSS JOIN, also known as a Cartesian join, returns the Cartesian product of the two tables. This means that it returns every combination of rows from the first table with every row from the second table. Unlike other types of joins, the CROSS JOIN does not require a join condition, and if used without one, it returns all possible combinations of rows from the joined tables.\n",
        "\n",
        "The general form of a SQL CROSS JOIN statement looks like this:\n",
        "\n",
        "```\n",
        "SELECT column1, column2, ...\n",
        "FROM table1\n",
        "CROSS JOIN table2;\n",
        "```\n",
        "\n",
        "The CROSS JOIN keyword combines every record from the first table with every record from the second table. It doesn't need a matching condition.\n",
        "\n",
        "To illustrate, let's use the same 'Actor' and 'Person' tables from our previous examples:\n",
        "\n",
        "'Actor' Table:\n",
        "\n",
        "| actor_id | movie_id |\n",
        "| --- | --- |\n",
        "| 1 | 100 |\n",
        "| 2 | 100 |\n",
        "| 3 | 101 |\n",
        "| 4 | 102 |\n",
        "\n",
        "'Person' Table:\n",
        "\n",
        "| id | name |\n",
        "| --- | --- |\n",
        "| 1 | Tom Hanks |\n",
        "| 2 | Morgan Freeman |\n",
        "| 3 | Meryl Streep |\n",
        "| 5 | Robert De Niro |\n",
        "\n",
        "Now, suppose we want to see all possible combinations of these two tables. We can perform a CROSS JOIN as follows:\n",
        "\n",
        "```\n",
        "SELECT Person.name, Actor.movie_id\n",
        "FROM Person\n",
        "CROSS JOIN Actor;\n",
        "```\n",
        "\n",
        "The result of this query would include every combination of the 'Person' and 'Actor' tables, resulting in a total of 16 rows (4 rows from 'Actor' multiplied by 4 rows from 'Person'):\n",
        "\n",
        "| name | movie_id |\n",
        "| --- | --- |\n",
        "| Tom Hanks | 100 |\n",
        "| Tom Hanks | 100 |\n",
        "| Tom Hanks | 101 |\n",
        "| Tom Hanks | 102 |\n",
        "| Morgan Freeman | 100 |\n",
        "| Morgan Freeman | 100 |\n",
        "| Morgan Freeman | 101 |\n",
        "| Morgan Freeman | 102 |\n",
        "| ... (continues) |  |\n",
        "\n",
        "The CROSS JOIN produces a large result set, especially if the tables involved have many rows. It's often used in scenarios where you need all possible combinations between two sets of data, such as in certain analytical tasks. Care should be taken when using this join, as it can quickly lead to a large number of results, potentially affecting performance."
      ],
      "metadata": {
        "id": "xj6JHAP-bfet"
      }
    },
    {
      "cell_type": "markdown",
      "source": [
        "#### Example 9: Every Actor With Every Movie\n",
        "In a fantastical \"what if\" scenario, you might wonder what it would look like if every actor had acted in every movie. A CROSS JOIN between the `Actor` and `Movie` tables can simulate this."
      ],
      "metadata": {
        "id": "bbA06xTOsakn"
      }
    },
    {
      "cell_type": "code",
      "source": [
        "%%sql\n",
        "SELECT *\n",
        "FROM Person\n",
        "CROSS JOIN Movie\n",
        "WHERE Person.id IN (SELECT actor_id FROM Actor)\n",
        "LIMIT 10;"
      ],
      "metadata": {
        "colab": {
          "base_uri": "https://localhost:8080/",
          "height": 289
        },
        "id": "1GXDot-UsZxw",
        "outputId": "9a351bce-8bf1-4605-b817-5c982a10a40a"
      },
      "execution_count": null,
      "outputs": [
        {
          "output_type": "stream",
          "name": "stdout",
          "text": [
            " * sqlite:///movie.sqlite\n",
            "Done.\n"
          ]
        },
        {
          "output_type": "execute_result",
          "data": {
            "text/plain": [
              "[('0000002', 'Lauren Bacall', '1924-09-16', 'New York, New York, USA', '2488496', 'Star Wars: The Force Awakens', 2015, 'PG-13', 138, 'A', 1),\n",
              " ('0000002', 'Lauren Bacall', '1924-09-16', 'New York, New York, USA', '4154796', 'Avengers: Endgame', 2019, 'PG-13', 181, 'AVS', 2),\n",
              " ('0000002', 'Lauren Bacall', '1924-09-16', 'New York, New York, USA', '1087260', 'Spider-Man: No Way Home', 2021, 'PG-13', 148, 'AVFS', 3),\n",
              " ('0000002', 'Lauren Bacall', '1924-09-16', 'New York, New York, USA', '0499549', 'Avatar', 2009, 'PG-13', 162, 'AVYS', 4),\n",
              " ('0000002', 'Lauren Bacall', '1924-09-16', 'New York, New York, USA', '1745960', 'Top Gun: Maverick', 2022, 'PG-13', 130, 'AD', 5),\n",
              " ('0000002', 'Lauren Bacall', '1924-09-16', 'New York, New York, USA', '1825683', 'Black Panther', 2018, 'PG-13', 134, 'AVS', 6),\n",
              " ('0000002', 'Lauren Bacall', '1924-09-16', 'New York, New York, USA', '4154756', 'Avengers: Infinity War', 2018, 'PG-13', 149, 'AVYS', 7),\n",
              " ('0000002', 'Lauren Bacall', '1924-09-16', 'New York, New York, USA', '0120338', 'Titanic', 1997, 'PG-13', 194, 'DR', 8),\n",
              " ('0000002', 'Lauren Bacall', '1924-09-16', 'New York, New York, USA', '0369610', 'Jurassic World', 2015, 'PG-13', 124, 'A', 9),\n",
              " ('0000002', 'Lauren Bacall', '1924-09-16', 'New York, New York, USA', '0848228', 'The Avengers', 2012, 'PG-13', 143, 'A', 10)]"
            ],
            "text/html": [
              "<table>\n",
              "    <thead>\n",
              "        <tr>\n",
              "            <th>id</th>\n",
              "            <th>name</th>\n",
              "            <th>dob</th>\n",
              "            <th>pob</th>\n",
              "            <th>id_1</th>\n",
              "            <th>name_1</th>\n",
              "            <th>year</th>\n",
              "            <th>rating</th>\n",
              "            <th>runtime</th>\n",
              "            <th>genre</th>\n",
              "            <th>earnings_rank</th>\n",
              "        </tr>\n",
              "    </thead>\n",
              "    <tbody>\n",
              "        <tr>\n",
              "            <td>0000002</td>\n",
              "            <td>Lauren Bacall</td>\n",
              "            <td>1924-09-16</td>\n",
              "            <td>New York, New York, USA</td>\n",
              "            <td>2488496</td>\n",
              "            <td>Star Wars: The Force Awakens</td>\n",
              "            <td>2015</td>\n",
              "            <td>PG-13</td>\n",
              "            <td>138</td>\n",
              "            <td>A</td>\n",
              "            <td>1</td>\n",
              "        </tr>\n",
              "        <tr>\n",
              "            <td>0000002</td>\n",
              "            <td>Lauren Bacall</td>\n",
              "            <td>1924-09-16</td>\n",
              "            <td>New York, New York, USA</td>\n",
              "            <td>4154796</td>\n",
              "            <td>Avengers: Endgame</td>\n",
              "            <td>2019</td>\n",
              "            <td>PG-13</td>\n",
              "            <td>181</td>\n",
              "            <td>AVS</td>\n",
              "            <td>2</td>\n",
              "        </tr>\n",
              "        <tr>\n",
              "            <td>0000002</td>\n",
              "            <td>Lauren Bacall</td>\n",
              "            <td>1924-09-16</td>\n",
              "            <td>New York, New York, USA</td>\n",
              "            <td>1087260</td>\n",
              "            <td>Spider-Man: No Way Home</td>\n",
              "            <td>2021</td>\n",
              "            <td>PG-13</td>\n",
              "            <td>148</td>\n",
              "            <td>AVFS</td>\n",
              "            <td>3</td>\n",
              "        </tr>\n",
              "        <tr>\n",
              "            <td>0000002</td>\n",
              "            <td>Lauren Bacall</td>\n",
              "            <td>1924-09-16</td>\n",
              "            <td>New York, New York, USA</td>\n",
              "            <td>0499549</td>\n",
              "            <td>Avatar</td>\n",
              "            <td>2009</td>\n",
              "            <td>PG-13</td>\n",
              "            <td>162</td>\n",
              "            <td>AVYS</td>\n",
              "            <td>4</td>\n",
              "        </tr>\n",
              "        <tr>\n",
              "            <td>0000002</td>\n",
              "            <td>Lauren Bacall</td>\n",
              "            <td>1924-09-16</td>\n",
              "            <td>New York, New York, USA</td>\n",
              "            <td>1745960</td>\n",
              "            <td>Top Gun: Maverick</td>\n",
              "            <td>2022</td>\n",
              "            <td>PG-13</td>\n",
              "            <td>130</td>\n",
              "            <td>AD</td>\n",
              "            <td>5</td>\n",
              "        </tr>\n",
              "        <tr>\n",
              "            <td>0000002</td>\n",
              "            <td>Lauren Bacall</td>\n",
              "            <td>1924-09-16</td>\n",
              "            <td>New York, New York, USA</td>\n",
              "            <td>1825683</td>\n",
              "            <td>Black Panther</td>\n",
              "            <td>2018</td>\n",
              "            <td>PG-13</td>\n",
              "            <td>134</td>\n",
              "            <td>AVS</td>\n",
              "            <td>6</td>\n",
              "        </tr>\n",
              "        <tr>\n",
              "            <td>0000002</td>\n",
              "            <td>Lauren Bacall</td>\n",
              "            <td>1924-09-16</td>\n",
              "            <td>New York, New York, USA</td>\n",
              "            <td>4154756</td>\n",
              "            <td>Avengers: Infinity War</td>\n",
              "            <td>2018</td>\n",
              "            <td>PG-13</td>\n",
              "            <td>149</td>\n",
              "            <td>AVYS</td>\n",
              "            <td>7</td>\n",
              "        </tr>\n",
              "        <tr>\n",
              "            <td>0000002</td>\n",
              "            <td>Lauren Bacall</td>\n",
              "            <td>1924-09-16</td>\n",
              "            <td>New York, New York, USA</td>\n",
              "            <td>0120338</td>\n",
              "            <td>Titanic</td>\n",
              "            <td>1997</td>\n",
              "            <td>PG-13</td>\n",
              "            <td>194</td>\n",
              "            <td>DR</td>\n",
              "            <td>8</td>\n",
              "        </tr>\n",
              "        <tr>\n",
              "            <td>0000002</td>\n",
              "            <td>Lauren Bacall</td>\n",
              "            <td>1924-09-16</td>\n",
              "            <td>New York, New York, USA</td>\n",
              "            <td>0369610</td>\n",
              "            <td>Jurassic World</td>\n",
              "            <td>2015</td>\n",
              "            <td>PG-13</td>\n",
              "            <td>124</td>\n",
              "            <td>A</td>\n",
              "            <td>9</td>\n",
              "        </tr>\n",
              "        <tr>\n",
              "            <td>0000002</td>\n",
              "            <td>Lauren Bacall</td>\n",
              "            <td>1924-09-16</td>\n",
              "            <td>New York, New York, USA</td>\n",
              "            <td>0848228</td>\n",
              "            <td>The Avengers</td>\n",
              "            <td>2012</td>\n",
              "            <td>PG-13</td>\n",
              "            <td>143</td>\n",
              "            <td>A</td>\n",
              "            <td>10</td>\n",
              "        </tr>\n",
              "    </tbody>\n",
              "</table>"
            ]
          },
          "metadata": {},
          "execution_count": 40
        }
      ]
    },
    {
      "cell_type": "markdown",
      "source": [
        "## Set Opeations in SQL\n",
        "SQL also allows us to do basic **set** operations, of the sort you might have learned about in high-school or college math classes. In SQL, the main set operations we talk about are UNION, INTERSECT, and EXCEPT. All these operations can be applied to the result sets returned by SELECT statements.\n",
        "\n",
        "To help see how these work, let's suppose we have the following tables:\n",
        "\n",
        "#### Old_Movies:\n",
        "\n",
        "| id | title |\n",
        "| --- | --- |\n",
        "| 1 | Avatar |\n",
        "| 2 | Titanic |\n",
        "| 3 | The Godfather |\n",
        "| 4 | Star Wars |\n",
        "| 5 | Jaws |\n",
        "\n",
        "#### New_Movies:\n",
        "\n",
        "| id | title |\n",
        "| --- | --- |\n",
        "| 1 | Avatar |\n",
        "| 2 | Endgame |\n",
        "| 3 | Inception |\n",
        "| 4 | Interstellar |\n",
        "| 5 | Titanic |\n",
        "\n",
        "### UNION\n",
        "\n",
        "The `UNION` operator is used to combine the result sets of 2 or more SELECT statements. However, it removes duplicate rows from the result set. Also, the SELECT statements within the UNION must have the same number of columns and the corresponding columns must have compatible data types. For example:\n",
        "\n",
        "\n",
        "```\n",
        "SELECT title FROM Old_Movies\n",
        "UNION\n",
        "SELECT title FROM New_Movies;\n",
        "```\n",
        "\n",
        "This gives us:\n",
        "\n",
        "| title |\n",
        "| --- |\n",
        "| Avatar |\n",
        "| Titanic |\n",
        "| The Godfather |\n",
        "| Star Wars |\n",
        "| Jaws |\n",
        "| Endgame |\n",
        "| Inception |\n",
        "| Interstellar |\n",
        "\n",
        "\n",
        "### INTERSECT\n",
        "\n",
        "The INTERSECT operator returns the intersection of 2 or more SELECT statements, i.e., it returns only the rows that are common to all the SELECT statements. For example:\n",
        "\n",
        "```\n",
        "SELECT title FROM Old_Movies\n",
        "INTERSECT\n",
        "SELECT title FROM New_Movies;\n",
        "```\n",
        "\n",
        "This gives us:\n",
        "\n",
        "| title |\n",
        "| --- |\n",
        "| Avatar |\n",
        "| Titanic |\n",
        "\n",
        "### EXCEPT\n",
        "\n",
        "The EXCEPT operator returns the difference between the first SELECT statement and the second SELECT statement. It returns rows from the first SELECT statement that are not returned by the second SELECT statement. For example:\n",
        "\n",
        "\n",
        "```\n",
        "SELECT title FROM Old_Movies\n",
        "EXCEPT\n",
        "SELECT title FROM New_Movies;\n",
        "```\n",
        "\n",
        "This gives us:\n",
        "\n",
        "| title |\n",
        "| --- |\n",
        "| The Godfather |\n",
        "| Star Wars |\n",
        "| Jaws |\n",
        "\n",
        "These set operations help you manipulate and analyze your data in a variety of ways, providing you with the flexibility to obtain the insights you need. Just like SQL join operations, they're another powerful tool in your SQL toolkit for data analysis and manipulation."
      ],
      "metadata": {
        "id": "MCVPjMdFwhWp"
      }
    },
    {
      "cell_type": "markdown",
      "source": [
        "#### Example 10: List of All Actors and Directors\n",
        "You might want to create a list of all persons who have either acted in or directed a movie. This is a case for UNION."
      ],
      "metadata": {
        "id": "cdvRvjPwteZf"
      }
    },
    {
      "cell_type": "code",
      "source": [
        "%%sql\n",
        "SELECT Person.name FROM Person\n",
        "INNER JOIN Actor ON Person.id = Actor.actor_id\n",
        "UNION\n",
        "SELECT Person.name FROM Person\n",
        "INNER JOIN Director ON Person.id = Director.director_id\n",
        "LIMIT 10;\n"
      ],
      "metadata": {
        "colab": {
          "base_uri": "https://localhost:8080/",
          "height": 289
        },
        "id": "SW3_m8pitjci",
        "outputId": "4841a74f-35c7-4e73-f527-cd1446f09dc6"
      },
      "execution_count": null,
      "outputs": [
        {
          "output_type": "stream",
          "name": "stdout",
          "text": [
            " * sqlite:///movie.sqlite\n",
            "Done.\n"
          ]
        },
        {
          "output_type": "execute_result",
          "data": {
            "text/plain": [
              "[('Aaron Eckhart',),\n",
              " ('Aaron Taylor-Johnson',),\n",
              " ('Abe Vigoda',),\n",
              " ('Abigail Breslin',),\n",
              " ('Adam Brody',),\n",
              " ('Adam Bryant',),\n",
              " ('Adam Driver',),\n",
              " ('Adam McKay',),\n",
              " ('Adam Sandler',),\n",
              " ('Adam Shankman',)]"
            ],
            "text/html": [
              "<table>\n",
              "    <thead>\n",
              "        <tr>\n",
              "            <th>name</th>\n",
              "        </tr>\n",
              "    </thead>\n",
              "    <tbody>\n",
              "        <tr>\n",
              "            <td>Aaron Eckhart</td>\n",
              "        </tr>\n",
              "        <tr>\n",
              "            <td>Aaron Taylor-Johnson</td>\n",
              "        </tr>\n",
              "        <tr>\n",
              "            <td>Abe Vigoda</td>\n",
              "        </tr>\n",
              "        <tr>\n",
              "            <td>Abigail Breslin</td>\n",
              "        </tr>\n",
              "        <tr>\n",
              "            <td>Adam Brody</td>\n",
              "        </tr>\n",
              "        <tr>\n",
              "            <td>Adam Bryant</td>\n",
              "        </tr>\n",
              "        <tr>\n",
              "            <td>Adam Driver</td>\n",
              "        </tr>\n",
              "        <tr>\n",
              "            <td>Adam McKay</td>\n",
              "        </tr>\n",
              "        <tr>\n",
              "            <td>Adam Sandler</td>\n",
              "        </tr>\n",
              "        <tr>\n",
              "            <td>Adam Shankman</td>\n",
              "        </tr>\n",
              "    </tbody>\n",
              "</table>"
            ]
          },
          "metadata": {},
          "execution_count": 41
        }
      ]
    },
    {
      "cell_type": "markdown",
      "source": [
        "#### Example 11: Persons Who Are Both Actors and Directors\n",
        "Perhaps you're interested in multi-talented individuals who have both acted in and directed movies. Here, we can use `INTERSECT`."
      ],
      "metadata": {
        "id": "sanwfarRttOV"
      }
    },
    {
      "cell_type": "code",
      "source": [
        "%%sql\n",
        "SELECT Person.name FROM Person\n",
        "INNER JOIN Actor ON Person.id = Actor.actor_id\n",
        "INTERSECT\n",
        "SELECT Person.name FROM Person\n",
        "INNER JOIN Director ON Person.id = Director.director_id\n",
        "LIMIT 10;\n"
      ],
      "metadata": {
        "colab": {
          "base_uri": "https://localhost:8080/",
          "height": 289
        },
        "id": "hmbPQ9NytzNa",
        "outputId": "f61cbb03-f76d-4195-862a-95d0e71970ee"
      },
      "execution_count": null,
      "outputs": [
        {
          "output_type": "stream",
          "name": "stdout",
          "text": [
            " * sqlite:///movie.sqlite\n",
            "Done.\n"
          ]
        },
        {
          "output_type": "execute_result",
          "data": {
            "text/plain": [
              "[('Ben Affleck',),\n",
              " ('Bob Peterson',),\n",
              " ('Bradley Cooper',),\n",
              " ('Chris Sanders',),\n",
              " ('Clint Eastwood',),\n",
              " ('David Butler',),\n",
              " ('Denzel Washington',),\n",
              " ('Ed Harris',),\n",
              " ('Elizabeth Banks',),\n",
              " ('Garry Marshall',)]"
            ],
            "text/html": [
              "<table>\n",
              "    <thead>\n",
              "        <tr>\n",
              "            <th>name</th>\n",
              "        </tr>\n",
              "    </thead>\n",
              "    <tbody>\n",
              "        <tr>\n",
              "            <td>Ben Affleck</td>\n",
              "        </tr>\n",
              "        <tr>\n",
              "            <td>Bob Peterson</td>\n",
              "        </tr>\n",
              "        <tr>\n",
              "            <td>Bradley Cooper</td>\n",
              "        </tr>\n",
              "        <tr>\n",
              "            <td>Chris Sanders</td>\n",
              "        </tr>\n",
              "        <tr>\n",
              "            <td>Clint Eastwood</td>\n",
              "        </tr>\n",
              "        <tr>\n",
              "            <td>David Butler</td>\n",
              "        </tr>\n",
              "        <tr>\n",
              "            <td>Denzel Washington</td>\n",
              "        </tr>\n",
              "        <tr>\n",
              "            <td>Ed Harris</td>\n",
              "        </tr>\n",
              "        <tr>\n",
              "            <td>Elizabeth Banks</td>\n",
              "        </tr>\n",
              "        <tr>\n",
              "            <td>Garry Marshall</td>\n",
              "        </tr>\n",
              "    </tbody>\n",
              "</table>"
            ]
          },
          "metadata": {},
          "execution_count": 43
        }
      ]
    },
    {
      "cell_type": "markdown",
      "source": [
        "#### Example 12: Directors Who Have Never Acted\n",
        "In an exploration of how to become a director, you might want to know which directors have never acted. Now, can use `EXCEPT`."
      ],
      "metadata": {
        "id": "1hZCBMlzt37J"
      }
    },
    {
      "cell_type": "code",
      "source": [
        "%%sql\n",
        "SELECT Person.name FROM Person\n",
        "INNER JOIN Director ON Person.id = Director.director_id\n",
        "EXCEPT\n",
        "SELECT Person.name FROM Person\n",
        "INNER JOIN Actor ON Person.id = Actor.actor_id\n",
        "LIMIT 10;\n",
        "\n"
      ],
      "metadata": {
        "colab": {
          "base_uri": "https://localhost:8080/",
          "height": 289
        },
        "id": "AKE7GykUuBzZ",
        "outputId": "1d0ded89-92b2-4615-c871-cd82f36ce5d5"
      },
      "execution_count": null,
      "outputs": [
        {
          "output_type": "stream",
          "name": "stdout",
          "text": [
            " * sqlite:///movie.sqlite\n",
            "Done.\n"
          ]
        },
        {
          "output_type": "execute_result",
          "data": {
            "text/plain": [
              "[('Adam McKay',),\n",
              " ('Adam Shankman',),\n",
              " ('Adrian Lyne',),\n",
              " ('Adrian Molina',),\n",
              " ('Alan J. Pakula',),\n",
              " ('Alan Taylor',),\n",
              " ('Alejandro Gonzalez Inarritu',),\n",
              " ('Alex Proyas',),\n",
              " ('Alexander Korda',),\n",
              " ('Alfonso Cuaron',)]"
            ],
            "text/html": [
              "<table>\n",
              "    <thead>\n",
              "        <tr>\n",
              "            <th>name</th>\n",
              "        </tr>\n",
              "    </thead>\n",
              "    <tbody>\n",
              "        <tr>\n",
              "            <td>Adam McKay</td>\n",
              "        </tr>\n",
              "        <tr>\n",
              "            <td>Adam Shankman</td>\n",
              "        </tr>\n",
              "        <tr>\n",
              "            <td>Adrian Lyne</td>\n",
              "        </tr>\n",
              "        <tr>\n",
              "            <td>Adrian Molina</td>\n",
              "        </tr>\n",
              "        <tr>\n",
              "            <td>Alan J. Pakula</td>\n",
              "        </tr>\n",
              "        <tr>\n",
              "            <td>Alan Taylor</td>\n",
              "        </tr>\n",
              "        <tr>\n",
              "            <td>Alejandro Gonzalez Inarritu</td>\n",
              "        </tr>\n",
              "        <tr>\n",
              "            <td>Alex Proyas</td>\n",
              "        </tr>\n",
              "        <tr>\n",
              "            <td>Alexander Korda</td>\n",
              "        </tr>\n",
              "        <tr>\n",
              "            <td>Alfonso Cuaron</td>\n",
              "        </tr>\n",
              "    </tbody>\n",
              "</table>"
            ]
          },
          "metadata": {},
          "execution_count": 46
        }
      ]
    },
    {
      "cell_type": "markdown",
      "source": [
        "## More Sample Queries\n",
        "Let's try out what we've learned using joins to explore our movies database. Along the way, we'll also learn a few new tricks and techniques in SQL\n",
        "\n",
        "\n",
        "### Example 13: Actors from Batman Begins"
      ],
      "metadata": {
        "id": "0UT_HJHea46l"
      }
    },
    {
      "cell_type": "code",
      "source": [
        "%%sql\n",
        "-- Get a list of actors in \"Batman Returns\"\n",
        "SELECT * FROM Person\n",
        "JOIN Actor ON Person.id = Actor.actor_id\n",
        "JOIN Movie on Movie.id = Actor.movie_id\n",
        "WHERE Movie.name = \"Batman Returns\";"
      ],
      "metadata": {
        "colab": {
          "base_uri": "https://localhost:8080/",
          "height": 179
        },
        "id": "KKBnEW3OFnj_",
        "outputId": "b8284534-a593-4913-f01f-12632a04d65d"
      },
      "execution_count": null,
      "outputs": [
        {
          "output_type": "stream",
          "name": "stdout",
          "text": [
            " * sqlite:///movie.sqlite\n",
            "Done.\n"
          ]
        },
        {
          "output_type": "execute_result",
          "data": {
            "text/plain": [
              "[('0000474', 'Michael Keaton', '1951-09-05', 'Coraopolis, Pennsylvania, USA', '0000474', '0103776', '0103776', 'Batman Returns', 1992, 'PG-13', 126, 'AYRT', None),\n",
              " ('0000362', 'Danny DeVito', '1944-11-17', 'Neptune, New Jersey, USA', '0000362', '0103776', '0103776', 'Batman Returns', 1992, 'PG-13', 126, 'AYRT', None),\n",
              " ('0000201', 'Michelle Pfeiffer', '1958-04-29', 'Santa Ana, California, USA', '0000201', '0103776', '0103776', 'Batman Returns', 1992, 'PG-13', 126, 'AYRT', None),\n",
              " ('0000686', 'Christopher Walken', '1943-03-31', 'Queens, New York, USA', '0000686', '0103776', '0103776', 'Batman Returns', 1992, 'PG-13', 126, 'AYRT', None),\n",
              " ('0001284', 'Michael Gough', '1917-11-23', 'Malaya. [now Malaysia]', '0001284', '0103776', '0103776', 'Batman Returns', 1992, 'PG-13', 126, 'AYRT', None)]"
            ],
            "text/html": [
              "<table>\n",
              "    <thead>\n",
              "        <tr>\n",
              "            <th>id</th>\n",
              "            <th>name</th>\n",
              "            <th>dob</th>\n",
              "            <th>pob</th>\n",
              "            <th>actor_id</th>\n",
              "            <th>movie_id</th>\n",
              "            <th>id_1</th>\n",
              "            <th>name_1</th>\n",
              "            <th>year</th>\n",
              "            <th>rating</th>\n",
              "            <th>runtime</th>\n",
              "            <th>genre</th>\n",
              "            <th>earnings_rank</th>\n",
              "        </tr>\n",
              "    </thead>\n",
              "    <tbody>\n",
              "        <tr>\n",
              "            <td>0000474</td>\n",
              "            <td>Michael Keaton</td>\n",
              "            <td>1951-09-05</td>\n",
              "            <td>Coraopolis, Pennsylvania, USA</td>\n",
              "            <td>0000474</td>\n",
              "            <td>0103776</td>\n",
              "            <td>0103776</td>\n",
              "            <td>Batman Returns</td>\n",
              "            <td>1992</td>\n",
              "            <td>PG-13</td>\n",
              "            <td>126</td>\n",
              "            <td>AYRT</td>\n",
              "            <td>None</td>\n",
              "        </tr>\n",
              "        <tr>\n",
              "            <td>0000362</td>\n",
              "            <td>Danny DeVito</td>\n",
              "            <td>1944-11-17</td>\n",
              "            <td>Neptune, New Jersey, USA</td>\n",
              "            <td>0000362</td>\n",
              "            <td>0103776</td>\n",
              "            <td>0103776</td>\n",
              "            <td>Batman Returns</td>\n",
              "            <td>1992</td>\n",
              "            <td>PG-13</td>\n",
              "            <td>126</td>\n",
              "            <td>AYRT</td>\n",
              "            <td>None</td>\n",
              "        </tr>\n",
              "        <tr>\n",
              "            <td>0000201</td>\n",
              "            <td>Michelle Pfeiffer</td>\n",
              "            <td>1958-04-29</td>\n",
              "            <td>Santa Ana, California, USA</td>\n",
              "            <td>0000201</td>\n",
              "            <td>0103776</td>\n",
              "            <td>0103776</td>\n",
              "            <td>Batman Returns</td>\n",
              "            <td>1992</td>\n",
              "            <td>PG-13</td>\n",
              "            <td>126</td>\n",
              "            <td>AYRT</td>\n",
              "            <td>None</td>\n",
              "        </tr>\n",
              "        <tr>\n",
              "            <td>0000686</td>\n",
              "            <td>Christopher Walken</td>\n",
              "            <td>1943-03-31</td>\n",
              "            <td>Queens, New York, USA</td>\n",
              "            <td>0000686</td>\n",
              "            <td>0103776</td>\n",
              "            <td>0103776</td>\n",
              "            <td>Batman Returns</td>\n",
              "            <td>1992</td>\n",
              "            <td>PG-13</td>\n",
              "            <td>126</td>\n",
              "            <td>AYRT</td>\n",
              "            <td>None</td>\n",
              "        </tr>\n",
              "        <tr>\n",
              "            <td>0001284</td>\n",
              "            <td>Michael Gough</td>\n",
              "            <td>1917-11-23</td>\n",
              "            <td>Malaya. [now Malaysia]</td>\n",
              "            <td>0001284</td>\n",
              "            <td>0103776</td>\n",
              "            <td>0103776</td>\n",
              "            <td>Batman Returns</td>\n",
              "            <td>1992</td>\n",
              "            <td>PG-13</td>\n",
              "            <td>126</td>\n",
              "            <td>AYRT</td>\n",
              "            <td>None</td>\n",
              "        </tr>\n",
              "    </tbody>\n",
              "</table>"
            ]
          },
          "metadata": {},
          "execution_count": 5
        }
      ]
    },
    {
      "cell_type": "markdown",
      "source": [
        "Here, we \"join\" Actor, Person, and Movie to get a list of actors in \"Batman Returns\" by doing the following:\n",
        "\n",
        "-   `SELECT *` - Select all columns from the `Person` table.\n",
        "-   `FROM Person` - Specify that the data should be retrieved from the `Person` table.\n",
        "-   `JOIN Actor ON Person.id = Actor.actor_id` - Join the `Person` table to the `Actor` table on the `Person.id` and `Actor.actor_id` columns.\n",
        "-   `JOIN Movie on Movie.id = Actor.movie_id` - Join the `Actor` table to the `Movie` table on the `Actor.movie_id` column.\n",
        "-   `WHERE Movie.name = \"Batman Returns\"` - Filter the results to only include records where the `Movie.name` column is equal to \"Batman Returns\".\n",
        "\n",
        "This shows everything (all columns) returned by the join. We could also make the query a bit nicer looking by something like:"
      ],
      "metadata": {
        "id": "mrRF5p9-ebv3"
      }
    },
    {
      "cell_type": "code",
      "source": [
        "%%sql\n",
        "SELECT Person.name AS \"Batman Returns Actor\",\n",
        "  dob AS \"Date of birth\"\n",
        "FROM Person\n",
        "  JOIN Actor ON Person.id = Actor.actor_id\n",
        "  JOIN Movie on Movie.id = Actor.movie_id\n",
        "WHERE Movie.name = \"Batman Returns\"\n",
        "ORDER BY dob;"
      ],
      "metadata": {
        "colab": {
          "base_uri": "https://localhost:8080/",
          "height": 179
        },
        "id": "GrfcnWJZdnRt",
        "outputId": "193739fd-05fe-4016-c468-0f5bd91ec88e"
      },
      "execution_count": null,
      "outputs": [
        {
          "output_type": "stream",
          "name": "stdout",
          "text": [
            " * sqlite:///movie.sqlite\n",
            "Done.\n"
          ]
        },
        {
          "output_type": "execute_result",
          "data": {
            "text/plain": [
              "[('Michael Gough', '1917-11-23'),\n",
              " ('Christopher Walken', '1943-03-31'),\n",
              " ('Danny DeVito', '1944-11-17'),\n",
              " ('Michael Keaton', '1951-09-05'),\n",
              " ('Michelle Pfeiffer', '1958-04-29')]"
            ],
            "text/html": [
              "<table>\n",
              "    <thead>\n",
              "        <tr>\n",
              "            <th>Batman Returns Actor</th>\n",
              "            <th>Date of birth</th>\n",
              "        </tr>\n",
              "    </thead>\n",
              "    <tbody>\n",
              "        <tr>\n",
              "            <td>Michael Gough</td>\n",
              "            <td>1917-11-23</td>\n",
              "        </tr>\n",
              "        <tr>\n",
              "            <td>Christopher Walken</td>\n",
              "            <td>1943-03-31</td>\n",
              "        </tr>\n",
              "        <tr>\n",
              "            <td>Danny DeVito</td>\n",
              "            <td>1944-11-17</td>\n",
              "        </tr>\n",
              "        <tr>\n",
              "            <td>Michael Keaton</td>\n",
              "            <td>1951-09-05</td>\n",
              "        </tr>\n",
              "        <tr>\n",
              "            <td>Michelle Pfeiffer</td>\n",
              "            <td>1958-04-29</td>\n",
              "        </tr>\n",
              "    </tbody>\n",
              "</table>"
            ]
          },
          "metadata": {},
          "execution_count": 6
        }
      ]
    },
    {
      "cell_type": "markdown",
      "source": [
        "#### Example 14: Recent Star Wars and Star Trek Films"
      ],
      "metadata": {
        "id": "mMNcRFWKfrwn"
      }
    },
    {
      "cell_type": "code",
      "source": [
        "%%sql\n",
        "SELECT *\n",
        "FROM Movie\n",
        "WHERE (name LIKE \"Star Wars%\"\n",
        "  OR name LIKE \"Star Trek%\")\n",
        "AND year > 2010\n",
        "ORDER BY year"
      ],
      "metadata": {
        "colab": {
          "base_uri": "https://localhost:8080/",
          "height": 158
        },
        "id": "VSq2Om46b0zh",
        "outputId": "ed0a20ec-8cb2-44d3-9e4c-037ddb813b8a"
      },
      "execution_count": null,
      "outputs": [
        {
          "output_type": "stream",
          "name": "stdout",
          "text": [
            " * sqlite:///movie.sqlite\n",
            "Done.\n"
          ]
        },
        {
          "output_type": "execute_result",
          "data": {
            "text/plain": [
              "[('1408101', 'Star Trek Into Darkness', 2013, 'PG-13', 132, 'A', 164),\n",
              " ('2488496', 'Star Wars: The Force Awakens', 2015, 'PG-13', 138, 'A', 1),\n",
              " ('2527336', 'Star Wars: Episode VIII - The Last Jedi', 2017, 'PG-13', 152, 'AVYS', 11),\n",
              " ('2527338', 'Star Wars: The Rise Of Skywalker', 2019, 'PG-13', 141, 'AVYS', 16)]"
            ],
            "text/html": [
              "<table>\n",
              "    <thead>\n",
              "        <tr>\n",
              "            <th>id</th>\n",
              "            <th>name</th>\n",
              "            <th>year</th>\n",
              "            <th>rating</th>\n",
              "            <th>runtime</th>\n",
              "            <th>genre</th>\n",
              "            <th>earnings_rank</th>\n",
              "        </tr>\n",
              "    </thead>\n",
              "    <tbody>\n",
              "        <tr>\n",
              "            <td>1408101</td>\n",
              "            <td>Star Trek Into Darkness</td>\n",
              "            <td>2013</td>\n",
              "            <td>PG-13</td>\n",
              "            <td>132</td>\n",
              "            <td>A</td>\n",
              "            <td>164</td>\n",
              "        </tr>\n",
              "        <tr>\n",
              "            <td>2488496</td>\n",
              "            <td>Star Wars: The Force Awakens</td>\n",
              "            <td>2015</td>\n",
              "            <td>PG-13</td>\n",
              "            <td>138</td>\n",
              "            <td>A</td>\n",
              "            <td>1</td>\n",
              "        </tr>\n",
              "        <tr>\n",
              "            <td>2527336</td>\n",
              "            <td>Star Wars: Episode VIII - The Last Jedi</td>\n",
              "            <td>2017</td>\n",
              "            <td>PG-13</td>\n",
              "            <td>152</td>\n",
              "            <td>AVYS</td>\n",
              "            <td>11</td>\n",
              "        </tr>\n",
              "        <tr>\n",
              "            <td>2527338</td>\n",
              "            <td>Star Wars: The Rise Of Skywalker</td>\n",
              "            <td>2019</td>\n",
              "            <td>PG-13</td>\n",
              "            <td>141</td>\n",
              "            <td>AVYS</td>\n",
              "            <td>16</td>\n",
              "        </tr>\n",
              "    </tbody>\n",
              "</table>"
            ]
          },
          "metadata": {},
          "execution_count": 7
        }
      ]
    },
    {
      "cell_type": "markdown",
      "source": [
        "Here, get a list of recent Star Wars and Star Trek films by doing the following:\n",
        "-   `SELECT *` - Select all columns from the `Movie` table.\n",
        "-   `FROM Movie` - Specify that the data should be retrieved from the `Movie` table.\n",
        "-   `WHERE (name LIKE \"Star Wars%\" OR name LIKE \"Star Trek%\")` - Filter the results to only include records where the `name` column contains the string \"Star Wars\" or \"Star Trek\".\n",
        "-   `AND year > 2010` - Filter the results to only include records where the `year` column is greater than 2010.\n",
        "-   `ORDER BY year` - Sort the results by the `year` column in ascending order.\n",
        "\n",
        "Note the the parentheses here matter! Here's what happen if I remove them:"
      ],
      "metadata": {
        "id": "KodEWqT4hmf3"
      }
    },
    {
      "cell_type": "code",
      "source": [
        "%%sql\n",
        "SELECT *\n",
        "FROM Movie\n",
        "WHERE name LIKE \"Star Wars%\"\n",
        "  OR name LIKE \"Star Trek%\"\n",
        "AND year > 2010\n",
        "ORDER BY year"
      ],
      "metadata": {
        "colab": {
          "base_uri": "https://localhost:8080/",
          "height": 284
        },
        "id": "Q7dnHS7hhOYp",
        "outputId": "b9afddd5-ea35-4273-af06-a45aeced6acd"
      },
      "execution_count": null,
      "outputs": [
        {
          "output_type": "stream",
          "name": "stdout",
          "text": [
            " * sqlite:///movie.sqlite\n",
            "Done.\n"
          ]
        },
        {
          "output_type": "execute_result",
          "data": {
            "text/plain": [
              "[('0076759', 'Star Wars: Episode IV - A New Hope', 1977, 'PG', 121, 'AVYS', 21),\n",
              " ('0080684', 'Star Wars: Episode V - The Empire Strikes Back', 1980, 'PG', 124, 'AVYS', 101),\n",
              " ('0086190', 'Star Wars: Episode VI - Return of the Jedi', 1983, 'PG', 134, 'AVYS', 90),\n",
              " ('0120915', 'Star Wars: Episode I - The Phantom Menace', 1999, 'PG', 133, 'AVS', 20),\n",
              " ('0121765', 'Star Wars: Episode II - Attack of the Clones', 2002, 'PG', 143, 'AVS', 88),\n",
              " ('0121766', 'Star Wars: Episode III - Revenge of the Sith', 2005, 'PG-13', 140, 'AVYS', 47),\n",
              " ('1408101', 'Star Trek Into Darkness', 2013, 'PG-13', 132, 'A', 164),\n",
              " ('2488496', 'Star Wars: The Force Awakens', 2015, 'PG-13', 138, 'A', 1),\n",
              " ('2527336', 'Star Wars: Episode VIII - The Last Jedi', 2017, 'PG-13', 152, 'AVYS', 11),\n",
              " ('2527338', 'Star Wars: The Rise Of Skywalker', 2019, 'PG-13', 141, 'AVYS', 16)]"
            ],
            "text/html": [
              "<table>\n",
              "    <thead>\n",
              "        <tr>\n",
              "            <th>id</th>\n",
              "            <th>name</th>\n",
              "            <th>year</th>\n",
              "            <th>rating</th>\n",
              "            <th>runtime</th>\n",
              "            <th>genre</th>\n",
              "            <th>earnings_rank</th>\n",
              "        </tr>\n",
              "    </thead>\n",
              "    <tbody>\n",
              "        <tr>\n",
              "            <td>0076759</td>\n",
              "            <td>Star Wars: Episode IV - A New Hope</td>\n",
              "            <td>1977</td>\n",
              "            <td>PG</td>\n",
              "            <td>121</td>\n",
              "            <td>AVYS</td>\n",
              "            <td>21</td>\n",
              "        </tr>\n",
              "        <tr>\n",
              "            <td>0080684</td>\n",
              "            <td>Star Wars: Episode V - The Empire Strikes Back</td>\n",
              "            <td>1980</td>\n",
              "            <td>PG</td>\n",
              "            <td>124</td>\n",
              "            <td>AVYS</td>\n",
              "            <td>101</td>\n",
              "        </tr>\n",
              "        <tr>\n",
              "            <td>0086190</td>\n",
              "            <td>Star Wars: Episode VI - Return of the Jedi</td>\n",
              "            <td>1983</td>\n",
              "            <td>PG</td>\n",
              "            <td>134</td>\n",
              "            <td>AVYS</td>\n",
              "            <td>90</td>\n",
              "        </tr>\n",
              "        <tr>\n",
              "            <td>0120915</td>\n",
              "            <td>Star Wars: Episode I - The Phantom Menace</td>\n",
              "            <td>1999</td>\n",
              "            <td>PG</td>\n",
              "            <td>133</td>\n",
              "            <td>AVS</td>\n",
              "            <td>20</td>\n",
              "        </tr>\n",
              "        <tr>\n",
              "            <td>0121765</td>\n",
              "            <td>Star Wars: Episode II - Attack of the Clones</td>\n",
              "            <td>2002</td>\n",
              "            <td>PG</td>\n",
              "            <td>143</td>\n",
              "            <td>AVS</td>\n",
              "            <td>88</td>\n",
              "        </tr>\n",
              "        <tr>\n",
              "            <td>0121766</td>\n",
              "            <td>Star Wars: Episode III - Revenge of the Sith</td>\n",
              "            <td>2005</td>\n",
              "            <td>PG-13</td>\n",
              "            <td>140</td>\n",
              "            <td>AVYS</td>\n",
              "            <td>47</td>\n",
              "        </tr>\n",
              "        <tr>\n",
              "            <td>1408101</td>\n",
              "            <td>Star Trek Into Darkness</td>\n",
              "            <td>2013</td>\n",
              "            <td>PG-13</td>\n",
              "            <td>132</td>\n",
              "            <td>A</td>\n",
              "            <td>164</td>\n",
              "        </tr>\n",
              "        <tr>\n",
              "            <td>2488496</td>\n",
              "            <td>Star Wars: The Force Awakens</td>\n",
              "            <td>2015</td>\n",
              "            <td>PG-13</td>\n",
              "            <td>138</td>\n",
              "            <td>A</td>\n",
              "            <td>1</td>\n",
              "        </tr>\n",
              "        <tr>\n",
              "            <td>2527336</td>\n",
              "            <td>Star Wars: Episode VIII - The Last Jedi</td>\n",
              "            <td>2017</td>\n",
              "            <td>PG-13</td>\n",
              "            <td>152</td>\n",
              "            <td>AVYS</td>\n",
              "            <td>11</td>\n",
              "        </tr>\n",
              "        <tr>\n",
              "            <td>2527338</td>\n",
              "            <td>Star Wars: The Rise Of Skywalker</td>\n",
              "            <td>2019</td>\n",
              "            <td>PG-13</td>\n",
              "            <td>141</td>\n",
              "            <td>AVYS</td>\n",
              "            <td>16</td>\n",
              "        </tr>\n",
              "    </tbody>\n",
              "</table>"
            ]
          },
          "metadata": {},
          "execution_count": 8
        }
      ]
    },
    {
      "cell_type": "markdown",
      "source": [
        "Here, the \"order of operations\" is different, so I end up with different results.  (Basically, I get a list of movies that are either Star Wars films from *any* year, plus Star Trek films after 2010)."
      ],
      "metadata": {
        "id": "JIxZA4EQh8Rr"
      }
    },
    {
      "cell_type": "markdown",
      "source": [
        "#### Example 15: Actors Who Have Appeared in More than 10 Movies\n",
        "Now, let's get a list of actors who have appeared in more than 10 movies, along with count of these movies:"
      ],
      "metadata": {
        "id": "l7HvliFjkgh5"
      }
    },
    {
      "cell_type": "code",
      "source": [
        "%%sql\n",
        "SELECT P.name, COUNT(*) AS \"Num_Movies\"\n",
        "FROM Person P JOIN\n",
        "Actor A ON A.actor_id = P.id\n",
        "JOIN Movie M on M.id = A.movie_id\n",
        "GROUP BY P.name\n",
        "HAVING COUNT(*) > 10"
      ],
      "metadata": {
        "id": "XLw1o_7ciS2y",
        "colab": {
          "base_uri": "https://localhost:8080/",
          "height": 179
        },
        "outputId": "de949c7a-a978-48f7-da93-9ae68a5356af"
      },
      "execution_count": null,
      "outputs": [
        {
          "output_type": "stream",
          "name": "stdout",
          "text": [
            " * sqlite:///movie.sqlite\n",
            "Done.\n"
          ]
        },
        {
          "output_type": "execute_result",
          "data": {
            "text/plain": [
              "[('Harrison Ford', 11),\n",
              " ('Robert Downey Jr.', 11),\n",
              " ('Tom Cruise', 16),\n",
              " ('Tom Hanks', 12),\n",
              " ('Will Smith', 13)]"
            ],
            "text/html": [
              "<table>\n",
              "    <thead>\n",
              "        <tr>\n",
              "            <th>name</th>\n",
              "            <th>Num_Movies</th>\n",
              "        </tr>\n",
              "    </thead>\n",
              "    <tbody>\n",
              "        <tr>\n",
              "            <td>Harrison Ford</td>\n",
              "            <td>11</td>\n",
              "        </tr>\n",
              "        <tr>\n",
              "            <td>Robert Downey Jr.</td>\n",
              "            <td>11</td>\n",
              "        </tr>\n",
              "        <tr>\n",
              "            <td>Tom Cruise</td>\n",
              "            <td>16</td>\n",
              "        </tr>\n",
              "        <tr>\n",
              "            <td>Tom Hanks</td>\n",
              "            <td>12</td>\n",
              "        </tr>\n",
              "        <tr>\n",
              "            <td>Will Smith</td>\n",
              "            <td>13</td>\n",
              "        </tr>\n",
              "    </tbody>\n",
              "</table>"
            ]
          },
          "metadata": {},
          "execution_count": 9
        }
      ]
    },
    {
      "cell_type": "markdown",
      "source": [
        "The above query uses several important SQL techniques, including:\n",
        "\n",
        "-   JOINs to combine data from multiple tables. In this case, the query uses two JOINs to connect the `Person`, `Actor`, and `Movie` tables.\n",
        "-   GROUP BY to group the results by a particular column. In this case, the query groups the results by the `Person` name.\n",
        "-   HAVING to filter the results based on a condition. In this case, the query filters the results toinclude ONLY people who have appeared in more than 10 movies."
      ],
      "metadata": {
        "id": "mG9O4Z3BmiBN"
      }
    },
    {
      "cell_type": "markdown",
      "source": [
        "#### Example 16: Information About Movies that Have Won 4 or more Oscars\n",
        "Now, let's get information about movies that have won four or more Oscars (Note: Our database only tracks a limited number of Oscars, such as BEST-PICTURE, BEST-ACTOR, BEST-ACTRESS, BEST-SUPPORTING-ACTRESS, and BEST-SUPPORTING-ACTOR:"
      ],
      "metadata": {
        "id": "y17rPAaOnMh7"
      }
    },
    {
      "cell_type": "code",
      "source": [
        "%%sql\n",
        "SELECT M.name, M.year, M.rating, COUNT(M.id)\n",
        "FROM Movie M JOIN\n",
        "Oscar O ON O.movie_id = M.id\n",
        "GROUP BY M.id\n",
        "HAVING COUNT(M.id) > 3\n",
        "ORDER BY M.year"
      ],
      "metadata": {
        "colab": {
          "base_uri": "https://localhost:8080/",
          "height": 389
        },
        "id": "qQom4BtimkBF",
        "outputId": "0d19bd6a-427f-4f4d-9bfd-eb56a6bd89ac"
      },
      "execution_count": null,
      "outputs": [
        {
          "output_type": "stream",
          "name": "stdout",
          "text": [
            " * sqlite:///movie.sqlite\n",
            "Done.\n"
          ]
        },
        {
          "output_type": "execute_result",
          "data": {
            "text/plain": [
              "[('It Happened One Night', 1934, None, 4),\n",
              " ('Gone with the Wind', 1939, 'G', 4),\n",
              " ('Mrs. Miniver', 1942, None, 4),\n",
              " ('Going My Way', 1944, None, 4),\n",
              " ('Best Years of Our Lives, The', 1946, None, 4),\n",
              " ('From Here to Eternity', 1953, None, 4),\n",
              " ('On the Waterfront', 1954, None, 4),\n",
              " ('Ben-Hur', 1959, 'G', 4),\n",
              " ('West Side Story', 1961, None, 5),\n",
              " (\"One Flew Over the Cuckoo's Nest\", 1975, 'R', 4),\n",
              " ('Kramer vs. Kramer', 1979, 'PG', 4),\n",
              " ('Terms of Endearment', 1983, 'PG', 4),\n",
              " ('Silence of the Lambs, The', 1991, 'R', 4),\n",
              " ('Million Dollar Baby', 2004, 'PG-13', 4),\n",
              " ('No Country for Old Men', 2007, 'R', 4)]"
            ],
            "text/html": [
              "<table>\n",
              "    <thead>\n",
              "        <tr>\n",
              "            <th>name</th>\n",
              "            <th>year</th>\n",
              "            <th>rating</th>\n",
              "            <th>COUNT(M.id)</th>\n",
              "        </tr>\n",
              "    </thead>\n",
              "    <tbody>\n",
              "        <tr>\n",
              "            <td>It Happened One Night</td>\n",
              "            <td>1934</td>\n",
              "            <td>None</td>\n",
              "            <td>4</td>\n",
              "        </tr>\n",
              "        <tr>\n",
              "            <td>Gone with the Wind</td>\n",
              "            <td>1939</td>\n",
              "            <td>G</td>\n",
              "            <td>4</td>\n",
              "        </tr>\n",
              "        <tr>\n",
              "            <td>Mrs. Miniver</td>\n",
              "            <td>1942</td>\n",
              "            <td>None</td>\n",
              "            <td>4</td>\n",
              "        </tr>\n",
              "        <tr>\n",
              "            <td>Going My Way</td>\n",
              "            <td>1944</td>\n",
              "            <td>None</td>\n",
              "            <td>4</td>\n",
              "        </tr>\n",
              "        <tr>\n",
              "            <td>Best Years of Our Lives, The</td>\n",
              "            <td>1946</td>\n",
              "            <td>None</td>\n",
              "            <td>4</td>\n",
              "        </tr>\n",
              "        <tr>\n",
              "            <td>From Here to Eternity</td>\n",
              "            <td>1953</td>\n",
              "            <td>None</td>\n",
              "            <td>4</td>\n",
              "        </tr>\n",
              "        <tr>\n",
              "            <td>On the Waterfront</td>\n",
              "            <td>1954</td>\n",
              "            <td>None</td>\n",
              "            <td>4</td>\n",
              "        </tr>\n",
              "        <tr>\n",
              "            <td>Ben-Hur</td>\n",
              "            <td>1959</td>\n",
              "            <td>G</td>\n",
              "            <td>4</td>\n",
              "        </tr>\n",
              "        <tr>\n",
              "            <td>West Side Story</td>\n",
              "            <td>1961</td>\n",
              "            <td>None</td>\n",
              "            <td>5</td>\n",
              "        </tr>\n",
              "        <tr>\n",
              "            <td>One Flew Over the Cuckoo&#x27;s Nest</td>\n",
              "            <td>1975</td>\n",
              "            <td>R</td>\n",
              "            <td>4</td>\n",
              "        </tr>\n",
              "        <tr>\n",
              "            <td>Kramer vs. Kramer</td>\n",
              "            <td>1979</td>\n",
              "            <td>PG</td>\n",
              "            <td>4</td>\n",
              "        </tr>\n",
              "        <tr>\n",
              "            <td>Terms of Endearment</td>\n",
              "            <td>1983</td>\n",
              "            <td>PG</td>\n",
              "            <td>4</td>\n",
              "        </tr>\n",
              "        <tr>\n",
              "            <td>Silence of the Lambs, The</td>\n",
              "            <td>1991</td>\n",
              "            <td>R</td>\n",
              "            <td>4</td>\n",
              "        </tr>\n",
              "        <tr>\n",
              "            <td>Million Dollar Baby</td>\n",
              "            <td>2004</td>\n",
              "            <td>PG-13</td>\n",
              "            <td>4</td>\n",
              "        </tr>\n",
              "        <tr>\n",
              "            <td>No Country for Old Men</td>\n",
              "            <td>2007</td>\n",
              "            <td>R</td>\n",
              "            <td>4</td>\n",
              "        </tr>\n",
              "    </tbody>\n",
              "</table>"
            ]
          },
          "metadata": {},
          "execution_count": 10
        }
      ]
    },
    {
      "cell_type": "markdown",
      "source": [
        "Important ideas:\n",
        "-   The query uses a `JOIN` to combine the `Movie` and `Oscar` tables.\n",
        "-   It then GROUPS the results by the `Movie` id.\n",
        "-   The query filters the results using `HAVING` to only include movies that have been nominated for more than 3 Oscars.\n",
        "- Finally, it sorts the results by the `Movie` year."
      ],
      "metadata": {
        "id": "Cc14GKzaqQlK"
      }
    },
    {
      "cell_type": "markdown",
      "source": [
        "#### Example 18: Simple Subqueries\n",
        "Now, let's review what we learned earlier about subqueries with a few different examples:"
      ],
      "metadata": {
        "id": "vfegOZfDq9ha"
      }
    },
    {
      "cell_type": "code",
      "source": [
        "# Let's find the movie (or movies) with the longest run time\n",
        "%%sql\n",
        "SELECT name, runtime FROM Movie\n",
        "  WHERE runtime IN\n",
        "    (SELECT MAX(runtime) FROM Movie)"
      ],
      "metadata": {
        "colab": {
          "base_uri": "https://localhost:8080/",
          "height": 95
        },
        "id": "bkkASbi-qqJs",
        "outputId": "b58d01e4-ccc6-4d7b-df96-9f697cd6f34c"
      },
      "execution_count": null,
      "outputs": [
        {
          "output_type": "stream",
          "name": "stdout",
          "text": [
            " * sqlite:///movie.sqlite\n",
            "Done.\n"
          ]
        },
        {
          "output_type": "execute_result",
          "data": {
            "text/plain": [
              "[('Justice League', 242)]"
            ],
            "text/html": [
              "<table>\n",
              "    <thead>\n",
              "        <tr>\n",
              "            <th>name</th>\n",
              "            <th>runtime</th>\n",
              "        </tr>\n",
              "    </thead>\n",
              "    <tbody>\n",
              "        <tr>\n",
              "            <td>Justice League</td>\n",
              "            <td>242</td>\n",
              "        </tr>\n",
              "    </tbody>\n",
              "</table>"
            ]
          },
          "metadata": {},
          "execution_count": 11
        }
      ]
    },
    {
      "cell_type": "code",
      "source": [
        "# Or, we could just find the list of movies\n",
        "# that have a run time of 150% or more of the average\n",
        "%%sql\n",
        "SELECT name, runtime FROM Movie\n",
        "  WHERE runtime > 1.5 *\n",
        "    (SELECT AVG(runtime) FROM Movie)"
      ],
      "metadata": {
        "colab": {
          "base_uri": "https://localhost:8080/",
          "height": 493
        },
        "id": "KK4GJ8MQrNBG",
        "outputId": "4f2c01c7-82e2-4d05-c861-be6f962900d9"
      },
      "execution_count": null,
      "outputs": [
        {
          "output_type": "stream",
          "name": "stdout",
          "text": [
            " * sqlite:///movie.sqlite\n",
            "Done.\n"
          ]
        },
        {
          "output_type": "execute_result",
          "data": {
            "text/plain": [
              "[('Titanic', 194),\n",
              " ('Avengers: Age of Ultron', 195),\n",
              " ('Lord of the Rings: The Return of the King, The', 201),\n",
              " ('Batman v Superman: Dawn of Justice', 183),\n",
              " ('Justice League', 242),\n",
              " ('King Kong', 187),\n",
              " ('Gone with the Wind', 238),\n",
              " ('Pearl Harbor', 183),\n",
              " ('Green Mile, The', 188),\n",
              " (\"Schindler's List\", 197),\n",
              " ('Gandhi', 188),\n",
              " ('Reds', 194),\n",
              " ('Deer Hunter, The', 183),\n",
              " ('Godfather: Part II, The', 200),\n",
              " (\"Ryan's Daughter\", 187),\n",
              " ('Lawrence of Arabia', 216),\n",
              " ('Spartacus', 184),\n",
              " ('Ben-Hur', 212),\n",
              " ('Around the World in Eighty Days', 188),\n",
              " ('Giant', 201)]"
            ],
            "text/html": [
              "<table>\n",
              "    <thead>\n",
              "        <tr>\n",
              "            <th>name</th>\n",
              "            <th>runtime</th>\n",
              "        </tr>\n",
              "    </thead>\n",
              "    <tbody>\n",
              "        <tr>\n",
              "            <td>Titanic</td>\n",
              "            <td>194</td>\n",
              "        </tr>\n",
              "        <tr>\n",
              "            <td>Avengers: Age of Ultron</td>\n",
              "            <td>195</td>\n",
              "        </tr>\n",
              "        <tr>\n",
              "            <td>Lord of the Rings: The Return of the King, The</td>\n",
              "            <td>201</td>\n",
              "        </tr>\n",
              "        <tr>\n",
              "            <td>Batman v Superman: Dawn of Justice</td>\n",
              "            <td>183</td>\n",
              "        </tr>\n",
              "        <tr>\n",
              "            <td>Justice League</td>\n",
              "            <td>242</td>\n",
              "        </tr>\n",
              "        <tr>\n",
              "            <td>King Kong</td>\n",
              "            <td>187</td>\n",
              "        </tr>\n",
              "        <tr>\n",
              "            <td>Gone with the Wind</td>\n",
              "            <td>238</td>\n",
              "        </tr>\n",
              "        <tr>\n",
              "            <td>Pearl Harbor</td>\n",
              "            <td>183</td>\n",
              "        </tr>\n",
              "        <tr>\n",
              "            <td>Green Mile, The</td>\n",
              "            <td>188</td>\n",
              "        </tr>\n",
              "        <tr>\n",
              "            <td>Schindler&#x27;s List</td>\n",
              "            <td>197</td>\n",
              "        </tr>\n",
              "        <tr>\n",
              "            <td>Gandhi</td>\n",
              "            <td>188</td>\n",
              "        </tr>\n",
              "        <tr>\n",
              "            <td>Reds</td>\n",
              "            <td>194</td>\n",
              "        </tr>\n",
              "        <tr>\n",
              "            <td>Deer Hunter, The</td>\n",
              "            <td>183</td>\n",
              "        </tr>\n",
              "        <tr>\n",
              "            <td>Godfather: Part II, The</td>\n",
              "            <td>200</td>\n",
              "        </tr>\n",
              "        <tr>\n",
              "            <td>Ryan&#x27;s Daughter</td>\n",
              "            <td>187</td>\n",
              "        </tr>\n",
              "        <tr>\n",
              "            <td>Lawrence of Arabia</td>\n",
              "            <td>216</td>\n",
              "        </tr>\n",
              "        <tr>\n",
              "            <td>Spartacus</td>\n",
              "            <td>184</td>\n",
              "        </tr>\n",
              "        <tr>\n",
              "            <td>Ben-Hur</td>\n",
              "            <td>212</td>\n",
              "        </tr>\n",
              "        <tr>\n",
              "            <td>Around the World in Eighty Days</td>\n",
              "            <td>188</td>\n",
              "        </tr>\n",
              "        <tr>\n",
              "            <td>Giant</td>\n",
              "            <td>201</td>\n",
              "        </tr>\n",
              "    </tbody>\n",
              "</table>"
            ]
          },
          "metadata": {},
          "execution_count": 12
        }
      ]
    },
    {
      "cell_type": "markdown",
      "source": [
        "#### Example 18: Tricky Subqueries.\n",
        "Now, let's consider a tricky subquery -- determining the numbers of movies that appeared in by actors who have appeared in any Star Wars Film.\n"
      ],
      "metadata": {
        "id": "MlJBSmLCsLef"
      }
    },
    {
      "cell_type": "code",
      "source": [
        "# A tricky one -- The number of movies appeared in\n",
        "# by actors who have been in any Star Wars Film\n",
        "%%sql\n",
        "SELECT P.name, COUNT(A.actor_id) as \"# of Movies\" FROM Actor A\n",
        "  JOIN Person P ON P.id = A.actor_id\n",
        "  GROUP BY A.actor_id, P.name\n",
        "  HAVING A.actor_id IN\n",
        "    (SELECT A1.actor_id FROM Movie M1\n",
        "      JOIN Actor A1 ON A1.movie_id=M1.id\n",
        "      WHERE M1.name LIKE '%Star Wars%')\n",
        "    AND COUNT(A.actor_id) > 5;"
      ],
      "metadata": {
        "colab": {
          "base_uri": "https://localhost:8080/",
          "height": 179
        },
        "id": "6rRyRdZUrg60",
        "outputId": "2889f53a-36ce-41e9-f7b6-f4cd397bd095"
      },
      "execution_count": null,
      "outputs": [
        {
          "output_type": "stream",
          "name": "stdout",
          "text": [
            " * sqlite:///movie.sqlite\n",
            "Done.\n"
          ]
        },
        {
          "output_type": "execute_result",
          "data": {
            "text/plain": [
              "[('Harrison Ford', 11),\n",
              " ('Samuel L. Jackson', 7),\n",
              " ('Natalie Portman', 7),\n",
              " ('Carrie Fisher', 7),\n",
              " ('Mark Hamill', 6)]"
            ],
            "text/html": [
              "<table>\n",
              "    <thead>\n",
              "        <tr>\n",
              "            <th>name</th>\n",
              "            <th># of Movies</th>\n",
              "        </tr>\n",
              "    </thead>\n",
              "    <tbody>\n",
              "        <tr>\n",
              "            <td>Harrison Ford</td>\n",
              "            <td>11</td>\n",
              "        </tr>\n",
              "        <tr>\n",
              "            <td>Samuel L. Jackson</td>\n",
              "            <td>7</td>\n",
              "        </tr>\n",
              "        <tr>\n",
              "            <td>Natalie Portman</td>\n",
              "            <td>7</td>\n",
              "        </tr>\n",
              "        <tr>\n",
              "            <td>Carrie Fisher</td>\n",
              "            <td>7</td>\n",
              "        </tr>\n",
              "        <tr>\n",
              "            <td>Mark Hamill</td>\n",
              "            <td>6</td>\n",
              "        </tr>\n",
              "    </tbody>\n",
              "</table>"
            ]
          },
          "metadata": {},
          "execution_count": 13
        }
      ]
    },
    {
      "cell_type": "markdown",
      "source": [
        "Let's break this down piece by piece:\n",
        "\n",
        "1.  `SELECT P.name, COUNT(A.actor_id) as \"# of Movies\" FROM Actor A JOIN Person P ON P.id = A.actor_id`: This section of the query is the main part, it is retrieving the name of the actor from the `Person` table and the number of movies each actor has participated in from the `Actor` table. The `COUNT(A.actor_id)` command is used to count the number of movies each actor has participated in.\n",
        "\n",
        "2.  `JOIN`: The `JOIN` statement is used to combine rows from two or more tables, based on a related column between them. In this case, the related column is the `id` field in the `Person` table and `actor_id` field in the `Actor` table. Essentially, this is how we link an actor's name with their roles.\n",
        "\n",
        "3.  `GROUP BY A.actor_id, P.name`: This clause is used to group the result-set by one or more columns. It's used in collaboration with aggregate functions like `COUNT`, `SUM`, `AVG`, etc., to group the result set by one or more columns. Here it groups the result by `actor_id` and `name`, meaning it will aggregate the count of movies for each unique actor and their corresponding name.\n",
        "\n",
        "4.  `HAVING A.actor_id IN (SELECT A1.actor_id FROM Movie M1 JOIN Actor A1 ON A1.movie_id=M1.id WHERE M1.name LIKE '%Star Wars%') AND COUNT(A.actor_id) > 5;`: This part of the query is a filter that applies to the grouped data. The `HAVING` clause works like a WHERE clause, but for aggregated data. The subquery `(SELECT A1.actor_id FROM Movie M1 JOIN Actor A1 ON A1.movie_id=M1.id WHERE M1.name LIKE '%Star Wars%')` returns a list of actor IDs who have played in a movie with 'Star Wars' in its title. The `IN` operator checks whether a value is within a set of values returned by a subquery. So, `HAVING A.actor_id IN ...` is used to include only the actors who were in a 'Star Wars' movie. The other part of the `HAVING` clause `AND COUNT(A.actor_id) > 5` is used to filter the actors who have played in more than 5 movies."
      ],
      "metadata": {
        "id": "cSObs7aVtGha"
      }
    },
    {
      "cell_type": "markdown",
      "source": [
        "#### Example 19: Making Sense of Genre and Rating\n",
        "Finally, let's talk a bit about two columns we haven't done much with so far: `genre` and rating. The `genre` column allows movies to have MULTIPLE genres, with each genre being abbreviated by a letter. So, for example, the entry for Avtar  is as follows:\n",
        "\n",
        " 0499549 |            Avatar            | 2009 | PG-13  |   162   |  AVYS |       4       |\n",
        "\n",
        " Here `AVYS` means it belongs to the Action (A), Adventure (V), Youth (Y), and Science Fiction (S) Genres.  Other genres include Fantasy (F), Drama (D), and others.\n",
        "\n",
        " We can use this knowledge to make queries. For example, \"What movie ratings (G, PG, PG-13, R) did Science Fiction movies received in the decade 2010-2019?"
      ],
      "metadata": {
        "id": "WKNK85PyXcvR"
      }
    },
    {
      "cell_type": "code",
      "source": [
        "%%sql\n",
        "SELECT rating,\n",
        "  COUNT(rating) As Num_Movies\n",
        "FROM Movie\n",
        "WHERE genre LIKE \"%S%\"\n",
        "AND year BETWEEN 2010 AND 2019\n",
        "GROUP BY rating"
      ],
      "metadata": {
        "colab": {
          "base_uri": "https://localhost:8080/",
          "height": 137
        },
        "id": "Bslql2YXYpTP",
        "outputId": "d1b8933d-4780-4652-f2b6-37a4b22df06e"
      },
      "execution_count": null,
      "outputs": [
        {
          "output_type": "stream",
          "name": "stdout",
          "text": [
            " * sqlite:///movie.sqlite\n",
            "Done.\n"
          ]
        },
        {
          "output_type": "execute_result",
          "data": {
            "text/plain": [
              "[('PG', 2), ('PG-13', 21), ('R', 1)]"
            ],
            "text/html": [
              "<table>\n",
              "    <thead>\n",
              "        <tr>\n",
              "            <th>rating</th>\n",
              "            <th>Num_Movies</th>\n",
              "        </tr>\n",
              "    </thead>\n",
              "    <tbody>\n",
              "        <tr>\n",
              "            <td>PG</td>\n",
              "            <td>2</td>\n",
              "        </tr>\n",
              "        <tr>\n",
              "            <td>PG-13</td>\n",
              "            <td>21</td>\n",
              "        </tr>\n",
              "        <tr>\n",
              "            <td>R</td>\n",
              "            <td>1</td>\n",
              "        </tr>\n",
              "    </tbody>\n",
              "</table>"
            ]
          },
          "metadata": {},
          "execution_count": 15
        }
      ]
    },
    {
      "cell_type": "markdown",
      "source": [
        "The syntax of this query is as follows:\n",
        "-   SELECT: We want to retrieve the `rating`  column and the  `COUNT(rating)` \"calculated\" column.\n",
        "-   FROM: We want to retrieve data from the `Movie` table. (No joins needed!)\n",
        "-   WHERE: We are filtering the results to only include movies that have a genre that contains the letter `S` (for \"science fiction\") We are also filtering the results to only include movies that were released between 2010 and 2019.\n",
        "-   GROUP BY: We group the results of the query by the `rating` column. This means that we will get one row for each unique rating, and the `COUNT(rating)` column will tell us how many movies have that rating."
      ],
      "metadata": {
        "id": "-Z3IbFCZZUyX"
      }
    },
    {
      "cell_type": "markdown",
      "source": [
        "## Review With Quizlet\n",
        "Click the following cell to launch the flashcards for this chapter."
      ],
      "metadata": {
        "id": "ekYZCCs6q_4M"
      }
    },
    {
      "cell_type": "code",
      "source": [
        "%%html\n",
        "<iframe src=\"https://quizlet.com/819344635/learn/embed?i=psvlh&x=1jj1\" height=\"600\" width=\"100%\" style=\"border:0\"></iframe>"
      ],
      "metadata": {
        "id": "o01VEy3DrHgl",
        "outputId": "150a7fab-33f4-45df-84ce-b3ff84455bca",
        "colab": {
          "base_uri": "https://localhost:8080/",
          "height": 622
        }
      },
      "execution_count": null,
      "outputs": [
        {
          "output_type": "display_data",
          "data": {
            "text/plain": [
              "<IPython.core.display.HTML object>"
            ],
            "text/html": [
              "<iframe src=\"https://quizlet.com/819344635/learn/embed?i=psvlh&x=1jj1\" height=\"600\" width=\"100%\" style=\"border:0\"></iframe>\n"
            ]
          },
          "metadata": {}
        }
      ]
    },
    {
      "cell_type": "markdown",
      "source": [
        "## Exercises\n",
        "\n",
        "Here are some problems for you try. For all of these problems should include LIMIT 5 at the end (if you don't, some will lead to MANY results). Before starting the problems, make sure you have \"run\" the cells that start the database (near the beginning of this document). You can find answers to selected exercises below.\n",
        "\n",
        "1. Find the names, release years, and ratings of all movies released in the year 2015 with a rating of 'PG-13'. Limit the results to 5. Hint: Use SELECT and WHERE clauses.\n",
        "\n",
        "2. Retrieve the names of the top 5 actors who played in the movie 'Avatar' along with the movie's name. Hint: Use JOIN to connect the Actor, Movie, and Person tables.\n",
        "\n",
        "3. Find the names of the top 5 directors and the number of movies directed by each. Hint: Use JOIN to connect the Director, Movie, and Person tables, GROUP BY on the director_id column, and LIMIT.\n",
        "\n",
        "4. Determine the number of movies in the \"science fiction\" genre released in each year. (Note: In the genre column, any entry that contains the letter \"S\" belongs to this column). Hint: You'll need to use LIKE and WHERE.\n",
        "\n",
        "5. Find the names of the top 5 directors who have directed movies with names starting with 'A' along with the number of movies they directed. Hint: Use JOIN to connect the Director, Movie, and Person tables, use GROUP BY on the director_id column, use HAVING with the LIKE operator, and LIMIT.\n",
        "\n",
        "6. Find the names of the top 5 actors who have acted in the most movies directed by George Lucas along with the names of those movies. Hint: Use a subquery in the WHERE clause with the IN operator and LIMIT.\n",
        "\n",
        "7. Find the names of the top 5 actors who have acted in more movies than the average number of movies acted in by all actors, along with the number of movies they acted in. Hint: Use a subquery in the HAVING clause to find the average number of movies acted in by all actors, and LIMIT.\n",
        "\n",
        "8. Find the name of the movie in the \"Action\" genre (in the genre column, anything that contains \"A\") with the longest runtime along with its runtime. Hint: Use a subquery with the MAX aggregate function to find the longest runtime and LIMIT."
      ],
      "metadata": {
        "id": "9pW4NaZzWQnQ"
      }
    },
    {
      "cell_type": "code",
      "source": [
        "%%sql\n",
        "--Ex. 1"
      ],
      "metadata": {
        "id": "ouTHWPqmt53a",
        "colab": {
          "base_uri": "https://localhost:8080/"
        },
        "outputId": "85b1909c-5505-4e6f-8592-813cf67b6816"
      },
      "execution_count": null,
      "outputs": [
        {
          "output_type": "stream",
          "name": "stdout",
          "text": [
            " * sqlite:///movie.sqlite\n",
            "Done.\n"
          ]
        },
        {
          "output_type": "execute_result",
          "data": {
            "text/plain": [
              "[]"
            ]
          },
          "metadata": {},
          "execution_count": 17
        }
      ]
    },
    {
      "cell_type": "code",
      "source": [
        "%%sql\n",
        "--Ex. 2"
      ],
      "metadata": {
        "id": "S6W59cB7tLUu",
        "colab": {
          "base_uri": "https://localhost:8080/"
        },
        "outputId": "d2ff26b3-03ee-4b33-f00a-7861efd848b4"
      },
      "execution_count": null,
      "outputs": [
        {
          "output_type": "stream",
          "name": "stdout",
          "text": [
            " * sqlite:///movie.sqlite\n",
            "Done.\n"
          ]
        },
        {
          "output_type": "execute_result",
          "data": {
            "text/plain": [
              "[]"
            ]
          },
          "metadata": {},
          "execution_count": 18
        }
      ]
    },
    {
      "cell_type": "code",
      "source": [
        "%%sql\n",
        "--Ex. 3"
      ],
      "metadata": {
        "id": "ITXvWiefWftl",
        "colab": {
          "base_uri": "https://localhost:8080/"
        },
        "outputId": "bc7c1948-ce9d-4128-ad29-9ff18c53ee82"
      },
      "execution_count": null,
      "outputs": [
        {
          "output_type": "stream",
          "name": "stdout",
          "text": [
            " * sqlite:///movie.sqlite\n",
            "Done.\n"
          ]
        },
        {
          "output_type": "execute_result",
          "data": {
            "text/plain": [
              "[]"
            ]
          },
          "metadata": {},
          "execution_count": 19
        }
      ]
    },
    {
      "cell_type": "code",
      "source": [
        "%%sql\n",
        "--Ex. 4"
      ],
      "metadata": {
        "id": "RXzAxoIMWgUC",
        "colab": {
          "base_uri": "https://localhost:8080/"
        },
        "outputId": "1250f748-6577-4421-f670-ccb6bf15516a"
      },
      "execution_count": null,
      "outputs": [
        {
          "output_type": "stream",
          "name": "stdout",
          "text": [
            " * sqlite:///movie.sqlite\n",
            "Done.\n"
          ]
        },
        {
          "output_type": "execute_result",
          "data": {
            "text/plain": [
              "[]"
            ]
          },
          "metadata": {},
          "execution_count": 20
        }
      ]
    },
    {
      "cell_type": "code",
      "source": [
        "%%sql\n",
        "--Ex. 5"
      ],
      "metadata": {
        "id": "4DtwIM8NWhj_",
        "colab": {
          "base_uri": "https://localhost:8080/"
        },
        "outputId": "fec1a25b-ae63-491e-888c-9174d71af181"
      },
      "execution_count": null,
      "outputs": [
        {
          "output_type": "stream",
          "name": "stdout",
          "text": [
            " * sqlite:///movie.sqlite\n",
            "Done.\n"
          ]
        },
        {
          "output_type": "execute_result",
          "data": {
            "text/plain": [
              "[]"
            ]
          },
          "metadata": {},
          "execution_count": 21
        }
      ]
    },
    {
      "cell_type": "code",
      "source": [
        "%%sql\n",
        "--Ex. 6"
      ],
      "metadata": {
        "id": "uVhgUiebWiXa",
        "colab": {
          "base_uri": "https://localhost:8080/"
        },
        "outputId": "d4c9b658-a408-4dae-97a6-1098f5f5fa99"
      },
      "execution_count": null,
      "outputs": [
        {
          "output_type": "stream",
          "name": "stdout",
          "text": [
            " * sqlite:///movie.sqlite\n",
            "Done.\n"
          ]
        },
        {
          "output_type": "execute_result",
          "data": {
            "text/plain": [
              "[]"
            ]
          },
          "metadata": {},
          "execution_count": 22
        }
      ]
    },
    {
      "cell_type": "code",
      "source": [
        "%%sql\n",
        "--Ex. 7"
      ],
      "metadata": {
        "id": "ezZm-Ai2WjSk",
        "colab": {
          "base_uri": "https://localhost:8080/"
        },
        "outputId": "dc50ae1a-961a-469f-f349-1780155cd6ed"
      },
      "execution_count": null,
      "outputs": [
        {
          "output_type": "stream",
          "name": "stdout",
          "text": [
            " * sqlite:///movie.sqlite\n",
            "Done.\n"
          ]
        },
        {
          "output_type": "execute_result",
          "data": {
            "text/plain": [
              "[]"
            ]
          },
          "metadata": {},
          "execution_count": 23
        }
      ]
    },
    {
      "cell_type": "code",
      "source": [
        "%%sql\n",
        "--Ex. 8"
      ],
      "metadata": {
        "id": "iaJ7FsvkWkDZ",
        "colab": {
          "base_uri": "https://localhost:8080/"
        },
        "outputId": "0ebab8ab-a7ff-488d-f3d0-dda0a3dc9128"
      },
      "execution_count": null,
      "outputs": [
        {
          "output_type": "stream",
          "name": "stdout",
          "text": [
            " * sqlite:///movie.sqlite\n",
            "Done.\n"
          ]
        },
        {
          "output_type": "execute_result",
          "data": {
            "text/plain": [
              "[]"
            ]
          },
          "metadata": {},
          "execution_count": 24
        }
      ]
    },
    {
      "cell_type": "code",
      "source": [
        "%%sql\n",
        "--Ex. 9"
      ],
      "metadata": {
        "id": "ycMCvaoqWkzb",
        "colab": {
          "base_uri": "https://localhost:8080/"
        },
        "outputId": "0ef4cb50-8b13-415c-e428-251f2598ddef"
      },
      "execution_count": null,
      "outputs": [
        {
          "output_type": "stream",
          "name": "stdout",
          "text": [
            " * sqlite:///movie.sqlite\n",
            "Done.\n"
          ]
        },
        {
          "output_type": "execute_result",
          "data": {
            "text/plain": [
              "[]"
            ]
          },
          "metadata": {},
          "execution_count": 25
        }
      ]
    },
    {
      "cell_type": "markdown",
      "source": [
        "## Table: SQL Queries With Joins and Sets\n",
        "Here's a table illustrating some of the main concepts we've been coverining in this section:\n",
        "\n",
        "| SQL Query | Description in English |\n",
        "| --- | --- |\n",
        "| `SELECT * FROM Movie;` | SQL code to retrieve all records from the 'Movie' table |\n",
        "| `SELECT name FROM Person;` | SQL code to retrieve the names of all persons |\n",
        "| `SELECT actor_id FROM Actor;` | SQL code to find all actors' ids |\n",
        "| `SELECT DISTINCT type FROM Oscar;` | SQL code to list all unique Oscar types |\n",
        "| `SELECT COUNT(DISTINCT id) FROM Movie;` | SQL code to count the number of different movies |\n",
        "| `SELECT DISTINC(P.name) FROM Person P JOIN Oscar O ON p.id = O.person_id;` | SQL code to retrieve the names of people who have won an Oscar |\n",
        "| `SELECT M.name FROM Movie M JOIN Director D ON M.id = D.movie_id JOIN Person P ON D.director_id = P.id WHERE P.name LIKE 'Steven Spielberg';` | SQL code to find all movies directed by Steven Spielberg. |\n",
        "| `SELECT P.name FROM Person P JOIN Actor A ON P.id = A.actor_id JOIN Movie M ON A.movie_id = M.id WHERE M.name LIKE '%Batman%';` | SQL code to find all actors who starred in any movie with \"Batman\" in the title. |\n",
        "| `SELECT M.name FROM Movie M JOIN Actor A ON M.id = A.movie_id JOIN Person P ON A.actor_id = P.id WHERE P.name LIKE 'Marlon Brando';` | SQL code to find all movies where Marlon Brando has starred. |\n",
        "| `SELECT M.name FROM Movie M JOIN Oscar O ON M.id = O.movie_id WHERE O.type = \"BEST-PICTURE\" AND M.name LIKE '%War%';` | SQL code to find all movies nominated for Best-picture Oscars  with \"War\" in the title. |\n",
        "| `SELECT DISTINCT(M.name) FROM Movie M JOIN Oscar O ON M.id = O.movie_id WHERE M.genre LIKE '%A%';` | SQL code to finds all 'Action' genre movies that have received an Oscar nomination. |\n",
        "| `SELECT DISTINCT(P.name) FROM Person P JOIN Director D ON P.id = D.director_id JOIN Movie M ON D.movie_id = M.id WHERE M.name LIKE '%Spider-Man%';` | SQL code to find the director(s) of \"Spider-Man\" movies. |\n",
        "| `SELECT p.name FROM Person p INNER JOIN Actor a ON p.id = a.actor_id INTERSECT SELECT p.name FROM Person p INNER JOIN Director d ON p.id = d.director_id;` | SQL code to find persons who are both actors and directors |\n",
        "| `SELECT name, earnings_rank FROM Movie WHERE year > 2000;` | SQL code to retrieve all movies released after 2000 with their earnings ranks |\n",
        "| `SELECT m.name, COUNT(a.actor_id) as num_actors FROM Movie m JOIN Actor a ON m.id = a.movie_id GROUP BY m.id HAVING num_actors > 3;` | SQL code to count the number of actors for each movie, only including movies with more than 3 actors |\n",
        "| `SELECT p.name, COUNT(o.type) as num_oscars FROM Person p JOIN Oscar o ON p.id = o.person_id GROUP BY p.id ORDER BY num_oscars DESC LIMIT 1;` | SQL code to find the person who won the most Oscars |"
      ],
      "metadata": {
        "id": "vkTrnSEGqaVZ"
      }
    },
    {
      "cell_type": "markdown",
      "source": [
        "## Glossary\n",
        "| Term | Definition |\n",
        "| --- | --- |\n",
        "| VARCHAR(n) | A data type used for variable-length strings where the number inside the parentheses specifies the maximum number of characters the field can hold. |\n",
        "| CHAR(n) | A data type used for character strings of a fixed length, with the number inside the parentheses specifying the exact length of characters the field can hold. |\n",
        "| Junction (Join) Table | A table in a database used to resolve many-to-many relationships between two other tables. It typically contains foreign keys that correspond to the primary keys of the related tables. |\n",
        "| INNER (NATURAL) JOIN | A type of join operation in SQL that returns rows where there is a match in both tables being joined. If specified as NATURAL, it automatically matches columns between the tables with the same names. |\n",
        "| LEFT (OUTER) JOIN | A join operation that returns all the rows from the left table and matched rows from the right table. If there is no match, the result from the right side will contain NULL values. |\n",
        "| Entity-Relationship Diagram | A visual representation of different entities within a database and the relationships between them. Entities are typically depicted as rectangles, with relationships illustrated as lines or arrows connecting these rectangles. |\n",
        "| UNION | An SQL operation that combines rows from two or more SELECT statements into a single result, eliminating duplicate entries. All SELECT statements within the UNION must have the same number of columns with compatible data types. |\n",
        "| INTERSECT | An SQL operation that returns the common records between two SELECT statements. Both SELECT statements need to have the same number of columns with compatible data types. |\n",
        "| EXCEPT | An SQL operation that returns the records present in the first SELECT statement but not in the second one. Both SELECT statements must have the same number of columns with compatible data types. |"
      ],
      "metadata": {
        "id": "NJmpLrXqrAK7"
      }
    },
    {
      "cell_type": "code",
      "source": [],
      "metadata": {
        "id": "U27ajL3erC_W"
      },
      "execution_count": null,
      "outputs": []
    }
  ]
}