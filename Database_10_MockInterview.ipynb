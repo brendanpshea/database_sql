{
  "nbformat": 4,
  "nbformat_minor": 0,
  "metadata": {
    "colab": {
      "provenance": [],
      "authorship_tag": "ABX9TyPZzRp8JqtYghDhpnTn31h9",
      "include_colab_link": true
    },
    "kernelspec": {
      "name": "python3",
      "display_name": "Python 3"
    },
    "language_info": {
      "name": "python"
    }
  },
  "cells": [
    {
      "cell_type": "markdown",
      "metadata": {
        "id": "view-in-github",
        "colab_type": "text"
      },
      "source": [
        "<a href=\"https://colab.research.google.com/github/brendanpshea/database_sql/blob/main/Database_10_MockInterview.ipynb\" target=\"_parent\"><img src=\"https://colab.research.google.com/assets/colab-badge.svg\" alt=\"Open In Colab\"/></a>"
      ]
    },
    {
      "cell_type": "markdown",
      "source": [
        "# The Database Lifecycle and the Job of a DBA\n",
        "In this chapter, we'll take a look at the \"lifecycle\" of a database, and the work done by a typical **Database Administrator (DBA)** done during this process. Our case study will involve a fictional DBA--\"Eloise Query-Hopper\"--who works at a research hospital Princeton Plainsborough (based on the TV Show *House*).\n",
        "\n",
        "The content we cover here covers many core outcomes on the *CompTia Data Sys+ Exam* (https://www.comptia.org/certifications/datasys) intended for entry-level database administrators. (In fact, I've used the objectives and terminology of this exam to structure this chapter). This exam also requires knowledge of SQL, database design, database security, and database management (all of which we've covered earlier in more detail). Here, we'll focus mainly on the work of DBAs *other* than designing databases or writing SQL code.\n",
        "\n",
        "You'll notice there's a lot of vocabulary in this chapter. This reflects both the requirements of this exam and the fact that there's a lot of technical terminology swirling around in the Database World. The goal here is not to master each and every concept we'll be discussing (this could be a lifetime's work), but instead to get a sense of how things \"hang together.\"\n"
      ],
      "metadata": {
        "id": "r45KLtaIsccp"
      }
    },
    {
      "cell_type": "markdown",
      "source": [
        "\n",
        "## What is the Database Lifecycle?\n",
        "The **Database Lifecycle (DBLC)** refers to the series of stages that a database goes through from inception to retirement. It is a structural framework guiding the processes involved in the creation, maintenance, and use of a database. The DBLC is similar to other technology life cycles, in that it seeks to identify the most effective and efficient way to create, use, and maintain a database.\n",
        "\n",
        "The primary stages of the Database Lifecycle include:\n",
        "\n",
        "1.  **Requirements Analysis--**This is the initial stage where the needs and objectives of the database are identified. It involves understanding what the database will be used for, the data that will be stored, and the interactions that will occur with that data.\n",
        "\n",
        "2.  **Database Design--** Based on the requirements, a detailed plan for the database is created. This includes defining the database structure, relationships, constraints, and other parameters. This stage often involves creating a visual representation of the database, typically through Entity-Relationship Diagrams (ERDs).\n",
        "\n",
        "3.  **Implementation--** Here, the physical database is built using a database management system (DBMS) based on the design specifications. SQL (Structured Query Language) is often used to define the database structure and manipulate the data.\n",
        "\n",
        "4.  **Testing--** Once the database has been built, it undergoes rigorous testing to ensure that it is functioning correctly and meets the defined requirements. This includes testing the database's performance, security, and integrity.\n",
        "\n",
        "5.  **Operation--** In this phase, the database is in use and data is continuously added, updated, and deleted. It is crucial to ensure that the database operates smoothly, maintains its performance, and data is kept secure.\n",
        "\n",
        "6.  **Maintenance and Evolution--** Over time, the requirements for the database may change, necessitating updates to its structure or functionality. This involves regular monitoring, tuning, backup, recovery, and updates to ensure its ongoing efficiency and relevance.\n",
        "\n",
        "7.  **Decommissioning or Retirement--** Eventually, there may be a need to retire the database. This can be due to a variety of reasons, such as it becoming obsolete, or being replaced by a new system. The data may need to be archived, migrated, or deleted, and resources freed up.\n",
        "\n",
        "The Database Lifecycle is essential in the world of database administration and development because it ensures that databases are well planned, designed, implemented, and maintained. Following these stages can improve the quality and reliability of the database, reduce errors, enhance performance, and improve data integrity and security. Understanding the DBLC is crucial for database administrators, developers, and anyone involved in data management."
      ],
      "metadata": {
        "id": "CN8DtsN2xUuy"
      }
    },
    {
      "cell_type": "markdown",
      "source": [
        "## What are the Different Data Models in Use Today?\n",
        "In the digital library of databases, **relational databases** are the classic novels, organized neatly on a shelf. They use a **linear, table-based format**, where data is stored in rows and columns, much like a ledger. Each table, which you can think of as a chapter in a book, has a **primary key**, and these keys help maintain order through **relationships**, hence 'relational'. **SQL** is the language we use to converse with these databases. The examples later use **Microsoft SQL Server**, a widely used proprietary database.\n",
        "\n",
        "**Non-relational databases**, or **NoSQL**, are the modern e-books, offering a variety of formats for different reading experiences. They are **non-linear** and do not require a fixed schema. We have:\n",
        "\n",
        "- **Document databases**: These store data in documents similar to JSON objects, each with a unique key. They're like a collection of short stories, each independent but part of a larger collection.\n",
        "- **Key-value stores**: The simplest form, akin to a dictionary, with a unique key and a value. It's straightforward but powerful, like a well-crafted haiku.\n",
        "- **Column-oriented databases**: Imagine a ledger turned on its side, where columns are stored together instead of rows. This is great for analytics, where you read and write data by columns.\n",
        "- **Graph databases**: These are like a family tree, focusing on the relationships between entities. They're excellent for understanding interconnected data.\n",
        "\n",
        "In my work at the hospital, **relational databases** are the backbone for the majority of our operations. We rely on them for their robustness and reliability, using SQL Server to manage patient information, staff records, appointment scheduling, and medical inventories. They excel in situations where **integrity** and **complex transactions** are paramount, such as processing patient admissions or tracking treatment histories.\n",
        "\n",
        "For specific use cases, I turn to **NoSQL databases**. I use **MongoDB**, a document database, when I need to store patient records that don't fit neatly into a table. For patient analytics, I might turn to **Cassandra**, a column-oriented database, which allows me to efficiently query large, distributed datasets. When analyzing complex relationships, like which doctors work with which nurses across different departments, **Neo4j**, a graph database, comes in handy. And for web-scale applications requiring quick access to data, I might use **Amazon DynamoDB**, a key-value and document database, for its scalability and performance. Lastly, **Cosmos DB** is Microsoft's answer to a globally distributed, multi-model database service, which I'd use for high availability and low latency on a global scale.\n"
      ],
      "metadata": {
        "id": "_TFXTKiImbt0"
      }
    },
    {
      "cell_type": "markdown",
      "source": [
        "## What is Scripting? Why Do Data Professionals Use It?\n",
        "**Scripting** is the art of writing scripts, which are sets of commands executed by a certain program or scripting engine. It's like writing a play where the actors are the computer's processors and the script tells them what to do. The **script purpose** can vary greatly, from automating tasks to processing data. As for **runtime location**, scripts can be categorized based on where they are executed: **server-side** or **client-side**.\n",
        "\n",
        "**Server-side scripts** run on the hospital's servers, much like the behind-the-scenes work in a hospital's administration wing. They're powerful and can perform complex tasks without depending on the client's machine. Languages like **PowerShell**, which is akin to the hospital's control system, are used here for automating administrative tasks in Windows environments.\n",
        "\n",
        "```powershell\n",
        "# PowerShell script to list all services running on the server\n",
        "Get-Service | Where-Object {$_.Status -eq 'Running'}\n",
        "```\n",
        "\n",
        "**Client-side scripts**, on the other hand, run on the user's machine, like a medical app on a patient's phone. They're often used to create interactive web pages. **Python** is a versatile language that can be used for both client-side and server-side scripting. It's like a multi-specialist doctor, capable of working in various environments and performing a wide range of tasks.\n",
        "\n",
        "```python\n",
        "# Python script to calculate Body Mass Index (BMI)\n",
        "def calculate_bmi(height, weight):\n",
        "    return weight / (height/100)**2\n",
        "```\n",
        "\n",
        "When it comes to **command-line scripting**, it's all about the terminal. Linux and Windows have their own command-line interfaces, each with its own scripting capabilities. Linux uses shells like **Bash**, which is like the hospital's emergency code system—efficient and direct. Windows command-line scripting, often done in PowerShell, is more like the hospital's internal phone system, designed specifically for that environment.\n",
        "\n",
        "```bash\n",
        "# Bash script to check disk usage\n",
        "df -h | grep '^/dev'\n",
        "```\n",
        "\n",
        "In my work, I might use PowerShell to automate the deployment of a new software update across the hospital's network. Python, with its simplicity and power, could be used to write a script that analyzes patient data for research purposes. On the Linux servers, I'd use Bash scripting to manage system updates and backups, while in the Windows environment, PowerShell scripts could automate the configuration of user accounts and permissions. Each scripting language and environment has its strengths, and like choosing the right medicine, one must choose the right tool for the task at hand.\n"
      ],
      "metadata": {
        "id": "d2L0PJ7dnVSF"
      }
    },
    {
      "cell_type": "markdown",
      "source": [
        "## How is SQL Used?\n",
        "Let's walk through the steps using **PostgreSQL**, which adheres to the **ACID principles** to ensure that all transactions are processed reliably.\n",
        "\n",
        "First, we'll use **Data Definition Language (DDL)** to create a table for patient admissions. Here's a simple PostgreSQL statement to create a table:\n",
        "\n",
        "```sql\n",
        "CREATE TABLE PatientAdmissions (\n",
        "    AdmissionID SERIAL PRIMARY KEY,\n",
        "    PatientID INT,\n",
        "    AdmissionDate DATE,\n",
        "    DischargeDate DATE,\n",
        "    DiagnosisCode VARCHAR(10),\n",
        "    TreatmentCode VARCHAR(10)\n",
        ");\n",
        "```\n",
        "\n",
        "This statement creates a new table with columns for admission ID, patient ID, admission and discharge dates, and codes for diagnosis and treatment.\n",
        "\n",
        "Next, we'll insert some data into this table using **Data Manipulation Language (DML)**:\n",
        "\n",
        "```sql\n",
        "INSERT INTO PatientAdmissions (PatientID, AdmissionDate, DischargeDate, DiagnosisCode, TreatmentCode)\n",
        "VALUES (12345, '2023-10-01', '2023-10-05', 'J18.9', '03.09');\n",
        "```\n",
        "\n",
        "This statement adds a record for a patient with a specific diagnosis and treatment code.\n",
        "\n",
        "Now, let's ensure our report is accurate and consistent. We'll use **Transaction Control Language (TCL)** to manage our transactions:\n",
        "\n",
        "```sql\n",
        "BEGIN;\n",
        "\n",
        "UPDATE PatientAdmissions\n",
        "SET DiagnosisCode = 'J20.9'\n",
        "WHERE AdmissionID = 1;\n",
        "\n",
        "COMMIT;\n",
        "```\n",
        "\n",
        "This transaction updates the diagnosis code for a specific admission and then commits the change to the database, ensuring that the update is made atomically and consistently.\n",
        "\n",
        "For the report, we'll use **set-based logic** to retrieve data. Here's a query that selects admissions from the last month in PostgreSQL:\n",
        "\n",
        "```sql\n",
        "SELECT * FROM PatientAdmissions\n",
        "WHERE AdmissionDate BETWEEN CURRENT_DATE - INTERVAL '1 month' AND CURRENT_DATE;\n",
        "```\n",
        "\n",
        "This selects all records where the admission date is within the last month.\n",
        "\n",
        "Lastly, we might want to automate some processes using **programming with SQL**. For instance, we could create a view to simplify access to monthly admission data:\n",
        "\n",
        "```sql\n",
        "CREATE VIEW MonthlyAdmissions AS\n",
        "SELECT * FROM PatientAdmissions\n",
        "WHERE AdmissionDate BETWEEN CURRENT_DATE - INTERVAL '1 month' AND CURRENT_DATE;\n",
        "```\n",
        "\n",
        "Now, users can simply select from the **MonthlyAdmissions** view to get the data they need.\n",
        "\n",
        "We could also create a trigger to log changes, or a stored procedure to generate the report with a single command, or even a function to calculate the length of stay for each patient. But let's not get ahead of ourselves; the above steps should set you on the right path for developing, modifying, and running PostgreSQL code for your report.\n"
      ],
      "metadata": {
        "id": "eNK3ppqSnt2x"
      }
    },
    {
      "cell_type": "markdown",
      "source": [
        "## What is \"Object-Relational Mapping\"?\n",
        "**Object-Relational Mapping (ORM)** is a technique that allows us to convert data between incompatible systems using object-oriented programming languages. It's like having an interpreter who can translate between two people who speak different languages—in this case, the object-oriented language of the application and the relational language of the database.\n",
        "\n",
        "Frameworks like **Hibernate**, **Entity Framework**, and **Ebean** are the interpreters in this analogy. They allow developers to work with databases using the programming language they are comfortable with, rather than writing SQL queries directly.\n",
        "\n",
        "The impact of ORM on database operations can be significant. While ORMs greatly simplify the developers' work, they can sometimes generate SQL code that is less efficient than hand-written SQL, especially with complex queries or large datasets. This can lead to increased load on the database server, potentially affecting performance.\n",
        "\n",
        "To gauge the impact, one would:\n",
        "\n",
        "- **Review the SQL code generated by ORM**: This involves looking at the actual SQL statements the ORM translates from the application code. It's like proofreading a translated document to ensure it conveys the right message.\n",
        "  \n",
        "- **Confirm the validity of the code**: Ensure that the SQL generated is not only syntactically correct but also logically accurate and retrieves the correct data.\n",
        "  \n",
        "- **Determine the impact on the database server**: Analyze how the generated SQL affects the database's performance. This could involve looking at query execution times, resource usage, and how well it scales with increasing data.\n",
        "  \n",
        "- **Provide solutions or an alternate approach, if needed**: If the ORM-generated SQL is not efficient, one might need to override the default behavior by writing custom SQL queries or tweaking the ORM settings for better performance.\n",
        "\n",
        "In practice, if I notice that a Hibernate-generated query is causing slow response times during peak hours in our hospital system, I would first review the query to pinpoint inefficiencies. If the query is fetching more data than needed, I might refine the ORM code or write a custom SQL statement to replace it. The goal is to ensure that our database operations are both effective and efficient, maintaining the integrity and performance of our systems.\n"
      ],
      "metadata": {
        "id": "z-4szUeXorNn"
      }
    },
    {
      "cell_type": "markdown",
      "source": [
        "## What Happens During Database Design?\n",
        "Database design requires meticulous planning, understanding the needs, and ensuring the foundation is strong enough to support the structure.\n",
        "\n",
        "**Requirements gathering** is the initial phase where we determine the scope and specifications of the database. We consider the number of users who will interact with the database, much like estimating the patient footfall. **Storage capacity** is critical; we assess the size of data we expect to handle, the speed at which data must be accessed, and the type of storage that best suits our needs—be it high-performance SSDs for fast data retrieval or larger HDDs for archival storage.\n",
        "\n",
        "The **database objectives** are defined by the use cases and purposes it needs to serve. For instance, does the database need to support real-time patient monitoring for Dr. House's diagnostics team, or is it for historical data analysis of treatment outcomes?\n",
        "\n",
        "Moving to **database architecture factors**, we conduct an inventory of needed assets and perform a gap analysis to identify what we have versus what we need. The decision between cloud-based versus on-premises solutions is pivotal. Cloud-hosted environments offer different services:\n",
        "\n",
        "- **Platform as a Service (PaaS)**: Provides a platform allowing customers to develop, run, and manage applications without the complexity of building and maintaining the infrastructure.\n",
        "- **Software as a Service (SaaS)**: Software is available via a third-party over the internet, typically on a subscription basis.\n",
        "- **Infrastructure as a Service (IaaS)**: Online services provide high-level APIs used to dereference various low-level details of underlying network infrastructure like physical computing resources, location, data partitioning, scaling, security, backup, etc.\n",
        "\n",
        "The **database schema** is the blueprint. It includes the **logical (conceptual) schema**, which defines the structure like entities, attributes, and relationships; the **physical schema**, which is how the database is actually implemented on on particular database system; and the **view schema**, which presents a subset of the database for particular users, such as Dr. Cuddy's administrative staff.\n",
        "\n",
        "**Data sources** and **system specifications** are like the patient's medical history and current health parameters; they tell us what data we need to store and how the system should handle it. For example, we need to ensure that the database can integrate with the hospital's existing electronic health record system and support the high volume of data generated by the diagnostic department.\n",
        "\n",
        "Lastly, **design documentation** is the comprehensive manual for the database. A **data dictionary** defines each element. **Entity relationships** are the connections between different data points, like the relationships between doctors, patients, and treatments. **Data cardinality** refers to the uniqueness of data values in a column. And **system requirements documentation** is the detailed list of specifications the database needs to fulfill, ensuring that it can handle the complex queries Dr. Foreman might run for patient analysis.\n",
        "\n",
        "In essence, planning and designing a database is a complex process that requires careful consideration of many factors to ensure that the final product meets the needs of its users and supports the objectives of the organization effectively and efficiently.\n"
      ],
      "metadata": {
        "id": "PbhTibkZpPe_"
      }
    },
    {
      "cell_type": "markdown",
      "source": [
        "## How are Databases Implemented, Tested, and Deployed?\n",
        "The transition from database design to a live environment is a multi-phase endeavor that ensures the system is robust and ready for deployment. Here's a breakdown of the main phases, incorporating real-world examples:\n",
        "\n",
        "1. **Acquisition of Assets**. Before deployment, we gather all necessary components. For example, a hospital like Princeton-Plainsboro would procure servers for storing patient records or cloud services for hosting their database.\n",
        "\n",
        "2. **Installation and Configuration**.  This phase involves setting up the database software. In a real-world scenario, this could mean configuring a SQL database to handle patient admissions and treatment records, ensuring the setup aligns with the hospital's data protocols.\n",
        "\n",
        "3. **Upgrading** If the hospital's existing system is outdated, an upgrade would be necessary. This might involve transitioning from a legacy system to a more modern database solution that can handle larger datasets, like patient genomic data.\n",
        "\n",
        "4. **Modifying** Adjustments to the existing infrastructure may be needed. For instance, expanding storage capabilities to accommodate the increasing amount of digital imaging data used for diagnostics.\n",
        "\n",
        "5. **Importing** Data migration is critical. A real-world example is transferring patient histories and records into the new system without disrupting ongoing hospital operations.\n",
        "\n",
        "6. **Testing** The testing phase is rigorous. For example, stress testing might simulate peak times in the emergency room, ensuring the database can handle a surge in data input and retrieval without performance dips.\n",
        "\n",
        "7. **Database Connectivity**  Ensuring the database is accessible is crucial. For instance, doctors should be able to access patient data from various departments within the hospital network securely and quickly.\n",
        "\n",
        "9. **Deployment**  The final phase is going live. In practice, this would mean the hospital's staff can start using the database for daily operations, from scheduling appointments to accessing patient treatment histories.\n",
        "\n",
        "Throughout these phases, the focus is on creating a database system that is efficient, secure, and scalable, ready to support the hospital's critical operations.\n",
        "\n"
      ],
      "metadata": {
        "id": "0pLSEP5oqm85"
      }
    },
    {
      "cell_type": "markdown",
      "source": [
        "## How are Databases Tested ?\n",
        "**Testing** in database management is the systematic verification of the database's functionality, integrity, and performance. It ensures that the database system operates as intended under various conditions.\n",
        "\n",
        "1. **Database Quality Check**\n",
        "   - **Structure Verification**: Confirming the accuracy of the database schema, including tables, columns, and data types.\n",
        "   - **Constraint Validation**: Ensuring all constraints are properly enforced, such as foreign keys and unique constraints.\n",
        "   - **Default Values**: Checking that default values are set correctly for relevant columns.\n",
        "\n",
        "2. **Code Execution**\n",
        "   - **Query Execution**: Running SQL statements to verify they perform the expected operations.\n",
        "   - **Stored Procedures**: Testing stored procedures and functions for correct operation.\n",
        "   - **Trigger Responses**: Ensuring triggers execute under the correct conditions and perform the intended actions.\n",
        "\n",
        "3. **Schema Validation**\n",
        "   - **Design Alignment**: Comparing the implemented database schema with the initial design to confirm consistency.\n",
        "   - **Requirement Fulfillment**: Verifying that the schema supports all the defined business requirements.\n",
        "   - **Normalization Checks**: Ensuring that the schema adheres to normalization rules to avoid redundancy.\n"
      ],
      "metadata": {
        "id": "9Y6dtOvXsBzS"
      }
    },
    {
      "cell_type": "markdown",
      "source": [
        "## How are Databases Validated?\n",
        "**Validation** in database management is the process of ensuring that the data and its handling are correct and suitable for the intended purpose.\n",
        "\n",
        "1. **Index Analysis**\n",
        "   - **Performance Impact**: Assessing how indexes affect query performance and making adjustments as needed.\n",
        "   - **Index Coverage**: Ensuring that indexes cover the most frequently used queries.\n",
        "   - **Maintenance Overhead**: Evaluating the impact of indexes on insert, update, and delete operations.\n",
        "\n",
        "2. **Data Mapping and Values**\n",
        "   - **Accuracy Checks**: Comparing data values against known correct values or source data for accuracy.\n",
        "   - **Consistency Evaluation**: Ensuring data is consistent across the database, without duplication or conflict.\n",
        "   - **Transformation Validation**: Verifying that data transformation rules are correctly applied during data import or export.\n",
        "\n",
        "3. **Query and Integrity Validation**\n",
        "   - **Query Results**: Testing queries to ensure they return the correct datasets.\n",
        "   - **Referential Integrity**: Confirming that data across related tables maintains consistent relationships.\n",
        "   - **Scalability Assessment**: Checking that the database can handle increased loads and still maintain data integrity and performance.\n"
      ],
      "metadata": {
        "id": "b8I3PIAJsW4S"
      }
    },
    {
      "cell_type": "markdown",
      "source": [
        "## Examples: Testing and Validation\n",
        "\n",
        "- A hospital database undergoes **stress testing** by simulating the high-volume data input experienced during a mass casualty incident.\n",
        "- **Index analysis** might reveal that a patient lookup is slow due to a missing index on the patient ID column, which is then added to improve performance.\n",
        "- **Data mapping** is validated when patient information from an external lab system is correctly integrated into the hospital's main patient records database.\n",
        "- **Query validation** is performed by running complex SQL reports for patient outcomes and ensuring the data matches expected treatment results.\n",
        "- **Referential integrity** checks ensure that every prescription recorded in the database is linked to a valid doctor and patient ID.\n",
        "- **Scalability validation** could involve testing the database with double the current patient entries to ensure it can handle future growth.\n"
      ],
      "metadata": {
        "id": "jDQCpsfdsZAR"
      }
    },
    {
      "cell_type": "markdown",
      "source": [
        "## Exercise: Mock Interview Questions at Princeton-Plainborough Hospital\n",
        "\n",
        "#### Question 1. SQL Query and Data Retrieval\n",
        "\n",
        "Dr. House's diagnostics team is working on a complex case. They need to quickly retrieve all medical records of patients diagnosed with \"Lupus\" in the last six months. Assume a table named `Medical_Records` with fields `patient_id`, `diagnosis`, and `diagnosis_date`. Write an SQL query to fetch this information.\n",
        "\n",
        "#### Question 2. Database Normalization\n",
        "\n",
        "The hospital is grappling with data redundancy issues, particularly between the `Staff` and `Shifts` tables. The `Staff` table has fields like `staff_id`, `name`, `role`, `department`, and `contact_number`. The `Shifts` table includes `shift_id`, `staff_id`, `staff_name`, `role`, `department`, `shift_start`, and `shift_end`. When a staff member's details change, such as a role change or department transfer, multiple records in the `Shifts` table also need to be manually updated. How would you normalize these tables to eliminate this redundancy?\n",
        "\n",
        "#### Question 3. Entity-Relationship Diagram (ERD)\n",
        "\n",
        "You're tasked with designing a new system to manage the hospital's inventory of medical supplies. The system will have tables for `Suppliers`, `Medical_Supplies`, and `Orders`. The `Suppliers` table has fields like `supplier_id` and `supplier_name`. The `Medical_Supplies` table includes `supply_id`, `name`, and `quantity`. The `Orders` table contains `order_id`, `supplier_id`, and `supply_id`. Sketch an Entity-Relationship Diagram that includes these entities and describe the relationships between them.\n",
        "\n",
        "#### Question 4. Data Security and HIPAA Compliance\n",
        "\n",
        "Ensuring the security of patient data is paramount, especially given HIPAA regulations. The `Patient_Information` table contains sensitive fields such as `patient_id`, `name`, `SSN`, and `medical_history`. What are some best practices you would implement to secure this table?\n",
        "\n",
        "#### Question 5: RDBMS Choice: Client-Server vs. Local Databases\n",
        "\n",
        "Question: Princeton-Plainsboro is considering upgrading its database system. The current database has core tables like `Patient_Information`, `Medical_Records`, and `Staff`. Why would a client-server RDBMS be more suitable for this hospital environment compared to local database systems like MS Access or SQLite? How might you choose between a propriety RDBMS (like Oracle) or an open source database (like Postgres)?"
      ],
      "metadata": {
        "id": "4pCdxppfvP-O"
      }
    },
    {
      "cell_type": "markdown",
      "source": [
        "## My Answers: Interview\n",
        "1.\n",
        "\n",
        "2.\n",
        "\n",
        "3.\n",
        "\n",
        "4.\n",
        "\n",
        "5."
      ],
      "metadata": {
        "id": "EWckc7-xvRsy"
      }
    },
    {
      "cell_type": "markdown",
      "source": [
        "## What Role Do Monitoring and Reporting Play?\n",
        "Monitoring and reporting within the realm of database management are akin to the vigilant practices in patient care within a hospital. **Monitoring** is the continuous observation of the database's operational metrics, akin to a patient's vital signs, ensuring that performance, efficiency, and stability are maintained. **Reporting** is the subsequent documentation and analysis of these metrics, providing a narrative that captures the database's historical and current states, and projecting future performance trends.\n",
        "\n",
        "System alerts and notifications function as the database's early warning system, analogous to a patient's call button, alerting administrators to immediate or impending issues that require attention. These alerts might signal a variety of conditions:\n",
        "\n",
        "- **Growth in size/storage limits**: Monitoring the database size is crucial for predicting and managing storage needs, similar to tracking a patient's growth charts to anticipate future health requirements.\n",
        "- **Daily usage patterns**: Understanding the daily interaction with the database helps in optimizing performance and scheduling maintenance, akin to planning hospital staff shifts according to patient admission patterns.\n",
        "- **Throughput**: This metric reflects the rate at which the database processes transactions, much like measuring a patient's blood flow rate to assess circulatory health.\n",
        "\n",
        "**Resource utilization** is closely monitored, including CPU usage, memory, disk space, and overall system performance. Overutilization can lead to performance bottlenecks, just as overexertion can compromise a patient's health. Establishing a baseline for these metrics allows for the identification of anomalies, much like a physician would note deviations from a patient's baseline health indicators.\n",
        "\n",
        "Monitoring job completion and failures is critical, especially for scheduled tasks such as backups or maintenance operations. A failure in these areas can be as detrimental as a lapse in a critical medical procedure. Replication monitoring ensures data consistency across systems, akin to the synchronization of patient records across various departments.\n",
        "\n",
        "**Database backup alerts** are set to notify of any backup failures, which are essential for data recovery, similar to having an emergency power supply in a hospital to ensure life-saving equipment remains operational.\n",
        "\n",
        "**Transaction log files** serve as a comprehensive record of all transactions and modifications, similar to a patient's medical chart that logs all treatments and medications. System log files provide a detailed account of the database's operational events, including errors and status updates, akin to a patient's chart notes that track their recovery progress.\n",
        "\n",
        "**Deadlock monitoring** is essential, as deadlocks (where \"conflicting\" processes block each other from completing) can bring database operations to a standstill, much like a traffic jam in a hospital corridor can disrupt the flow of care. Monitoring connections and sessions is also crucial, particularly for identifying unauthorized access attempts or system issues that prevent legitimate access, ensuring the database's security and reliability.\n",
        "\n",
        "In essence, monitoring and reporting are indispensable for the proactive management of a database system. They allow administrators to maintain optimal performance, anticipate and mitigate issues, and ensure the database can effectively support the organization's needs.\n"
      ],
      "metadata": {
        "id": "NLJ8u8wKt32g"
      }
    },
    {
      "cell_type": "markdown",
      "source": [
        "## What Happens During Database Maintenance?\n",
        "Database maintenance is the cornerstone of database management, akin to the routine checks and maintenance required to keep hospital equipment in optimal condition. It involves a series of critical tasks:\n",
        "\n",
        "- **Query Optimization**: This is the process of making SQL queries run as efficiently as possible. For example, if a query to retrieve patient records is taking too long, we might rewrite it or adjust the database indexes to speed up the response time.\n",
        "\n",
        "- **Index Optimization**: Indexes are to databases what a directory is to a hospital. They guide us quickly to the information we need. Regularly reorganizing and rebuilding indexes can prevent the database from slowing down, much like updating a hospital directory ensures patients and staff can find departments and services quickly.\n",
        "\n",
        "- **Patch Management**: Applying updates and fixes to the database software is crucial for security and functionality. It's similar to installing the latest software on medical equipment to ensure it functions correctly and remains secure against digital threats.\n",
        "\n",
        "- **Database Integrity Checks**: These checks ensure that the data is accurate and consistent. For instance, we might run integrity checks to verify that all foreign keys in a patient table correctly correspond to existing patient IDs.\n",
        "\n",
        "- **Data Corruption Checks**: Identifying and repairing corrupt data is crucial. If a power outage causes corruption in a patient's records, checks would detect and rectify this to prevent potential misdiagnoses.\n",
        "\n",
        "- **Audit Log Reviews**: Regularly reviewing the database's audit logs helps track all activities and changes, much like how a patient's medical history is reviewed during a follow-up visit to ensure continuity of care.\n",
        "\n",
        "- **Performance Tuning**: This involves adjusting database parameters to handle the transaction volumes efficiently. For example, if a hospital's patient registration system is experiencing delays during peak hours, performance tuning might involve increasing memory allocation to the database servers.\n",
        "\n",
        "- **Load Balancing**: Distributing the workload across multiple servers or resources prevents any single server from becoming a bottleneck. In a hospital setting, this would be like ensuring that patient intake is distributed evenly across all available staff to avoid overburdening any single team.\n",
        "\n",
        "- **Change Management**: This structured approach to managing changes includes planning release schedules, capacity planning, implementing upgrades, remediating vulnerabilities, approving changes, and communication. For instance, before rolling out a new electronic health record system, a hospital would plan the release to minimize disruption to services, ensure staff are trained on the new system, and communicate the changes to all stakeholders.\n",
        "\n",
        "In essence, database maintenance ensures the system remains efficient, secure, and error-free. It's a proactive measure that helps prevent issues before they occur, much like regular maintenance checks in a hospital ensure medical equipment is always ready for use.\n"
      ],
      "metadata": {
        "id": "FKwc23savWpG"
      }
    },
    {
      "cell_type": "markdown",
      "source": [
        "## What Can Be Done To Secure Data?\n",
        "\n",
        "Data security is an essential aspect of database management, akin to the protocols in place for patient confidentiality in healthcare. A breakdown in security could lead to patients being harmed, the hospital losing money, and (very probably) legal troubles because of violations of laws such as **HIPPA**. Here's a breakdown of some of the key concepts involved in data security (some of these will be familiar from our earlier discussion):\n",
        "\n",
        "**Encryption** is the cornerstone of data security. It transforms readable data into a coded form that requires a key to decode, ensuring that sensitive information remains confidential.\n",
        "\n",
        "- **Data in Transit**: Protecting data as it travels across networks is crucial. We use:\n",
        "  - **Client-side encryption** to secure data before it leaves the user's device.\n",
        "  - **In-transit encryption** (like TLS) to safeguard data as it moves between systems.\n",
        "  - **Server-side encryption** to encrypt data as it arrives and is stored on servers.\n",
        "\n",
        "- **Data at Rest**: For stored data (e.g., that lives on hard disks, solid state drives, or even back-up media like tapes or DVDs), encryption ensures that even if unauthorized access is gained, the information remains unreadable without the decryption keys.\n",
        "\n",
        "Other keys concepts related to data security include the following:\n",
        "\n",
        "- **Data masking** is about obscuring specific data (such as social numbers, or other Personally Identifiable Information) within a database to protect it against unauthorized access, while still being usable for operational purposes. For example, personal data about patients should usually be \"masked\" in this way before researchers are allowed to access it. (And researchers shouldn't be using the data at all without the patient's consent AND approval by their relevant hospital authorities).\n",
        "- Proper **data destruction** is as important as secure data storage. When data is no longer needed, we use methods like cryptographic erasure or physical destruction to ensure it cannot be recovered or reconstructed.\n",
        "- Regular **audits** help identify and rectify security gaps. This includes checking for:\n",
        "    - **Expired Accounts**: Ensuring former employees no longer have access.\n",
        "    - **Connection Requests**: Monitoring for unauthorized attempts to access the database.\n",
        "- **Code audits** of SQL queries and procedures, is vital to prevent vulnerabilities. This includes:\n",
        "  - **SQL Code**: Regular reviews to identify potential injection points or logic flaws.\n",
        "  - **Credential Storage Checks**: Ensuring sensitive information like passwords are securely stored (usually via a hash function).\n",
        "\n",
        "In practice, these concepts are not just about following procedures but about fostering a culture of security awareness. For instance, when working with hospital data, we implement rigorous encryption standards to protect patient information, apply data masking to anonymize records for research purposes, and conduct thorough audits to maintain the integrity of our systems. It's a continuous process of improvement to uphold the trust placed in our data systems.\n",
        "\n"
      ],
      "metadata": {
        "id": "p0IefHMOy3Fy"
      }
    },
    {
      "cell_type": "markdown",
      "source": [
        "## What Do \"Typical\" Data Security Procedures Look Like?\n",
        "\n",
        " Here's a breakdown of our approach at Princeton Plainsborough (Brendan's Note: These are intended to be pretty generic, and basically describe what standard models say \"should\" be done basically everywhere):\n",
        "\n",
        "At our hospital, **Data Loss Prevention (DLP)** systems are in place to safeguard against the accidental or unlawful destruction, loss, alteration, unauthorized disclosure of, or access to, personal data. For instance, our DLP system automatically scans outgoing communications for sensitive information, such as patient health records, and blocks transmission if necessary.\n",
        "\n",
        "Our **Data Retention Policy** dictates that patient health records are retained for a minimum of seven years (or whatever), as per state law. After this period, unless there is a reason to retain the information longer (such as ongoing treatment or research guidelines), the data is securely erased.\n",
        "\n",
        "**Data Classification** is systematic. We categorize data into different levels of sensitivity and apply corresponding security controls. For example, **Personally Identifiable Information (PII)** and **Personal Health Information (PHI)** are classified as 'Restricted', with access limited to authorized personnel only. Payment information is protected under the Payment Card Industry Data Security Standard (PCI DSS), ensuring that credit card data is handled in a secure environment.\n",
        "\n",
        "Our **Access Control** measures are robust. Employees are granted access rights and privileges based on their job role, ensuring they can only access the information necessary to perform their duties. The principle of 'least privilege' is strictly enforced.\n",
        "\n",
        "**Password Policies** are stringent. Employees must create complex passwords that are changed regularly. Additionally, **multi-factor authentication** is required for access to more sensitive systems, including all of those containing patient data.\n",
        "\n",
        "For **Service Accounts**, which are used by applications to access databases, we ensure that these accounts have minimal privileges and are regularly audited for any unusual activity.\n",
        "\n",
        "**Identity and Access Management (IAM)** systems are in place to manage digital identities and their access to various IT resources. For example, when a new intern joins, the IAM system is used to set up their access to the electronic health records system, with permissions aligned to their role.\n",
        "\n",
        "By adhering to these policies and best practices, we maintain a high standard of data security and ensure compliance with necessary regulations, safeguarding both our patients' privacy and the hospital's reputation.\n"
      ],
      "metadata": {
        "id": "GqRuXS614pXD"
      }
    },
    {
      "cell_type": "markdown",
      "source": [
        "## How Does Data Backup Work? Key Concepts\n",
        "\n",
        "(Brendan's Note: This is a *very* concise summary of a huge body of work that some people spend their whole lives doing. The goal here is to give you some exposure to the basic vocabulary and concepts).\n",
        "\n",
        "As you're getting acclimated to our systems at Princeton-Plainsboro Teaching Hospital, it's vital to grasp the concept of **Disaster Recovery (DR)** and why it's a cornerstone of our data management strategy. Let's dive into how we prepare for and respond to unexpected events.\n",
        "\n",
        "**Disaster Recovery Planning** is our blueprint for responding to incidents that significantly disrupt our services. We have a suite of documentation that guides our actions:\n",
        "\n",
        "- **Manuals** provide step-by-step instructions for recovery tasks.\n",
        "- The **System Security Plan** outlines the protective measures in place for our IT systems.\n",
        "- The **Continuity of Operations Plan** ensures that critical functions continue during and after a disaster.\n",
        "- **Build Documentation** details the configurations of our systems, which is essential for rebuilding efforts.\n",
        "\n",
        "Our **DR Techniques** include:\n",
        "\n",
        "- **Replication**, which copies data to a secondary location in real-time, ensuring we have up-to-date copies of patient records.\n",
        "- **Log Shipping**, where transaction logs are regularly transferred to a secondary system, allowing us to restore the exact state of our databases up to the last shipment.\n",
        "- **High Availability** setups, which minimize downtime by automatically switching to a standby database if the primary one fails.\n",
        "- **Mirroring**, where a direct copy of the database is constantly updated in tandem with the primary database.\n",
        "\n",
        "**DR Plan Testing** is regularly conducted to ensure our recovery processes are effective. We measure this using:\n",
        "\n",
        "- The **Recovery Point Objective (RPO)**, which is the maximum acceptable amount of data loss measured in time.\n",
        "- The **Recovery Time Objective (RTO)**, which is the target time within which business functionality must be restored.\n",
        "\n",
        "After a disaster, we have protocols for **Transition/Failback to Normal Operations**. This involves a careful process to ensure that systems are stable and data integrity is verified before we resume standard operations.\n",
        "\n",
        "Regarding **Backup and Restore Best Practices**:\n",
        "\n",
        "- We perform both **Full Backups** and **Incremental Backups**. Full backups capture the entire database, while incremental backups only capture changes since the last backup.\n",
        "- **Differential Backups** are also used, which record changes since the last full backup.\n",
        "- **Database Dumping** is a method we use for making a complete copy of the database for archival purposes.\n",
        "- Backups are **Scheduled and Automated** to ensure consistency and reduce the risk of human error.\n",
        "- We **Test Backups** regularly to confirm that they can be restored successfully.\n",
        "- **Validating Backup Hash** ensures that the backup is not corrupted and is identical to the original data.\n",
        "- For **Storage Location**, we use both on-site for quick recovery and off-site for protection against local disasters.\n",
        "- Our **Retention Policy** dictates how long backups are kept, with a balance between **Purge Cycles** for data no longer needed and **Archive Cycles** for long-term storage.\n",
        "\n",
        "Remember, these practices are not just about compliance; they're about ensuring we can always provide uninterrupted care to our patients, even in the face of unforeseen challenges.\n"
      ],
      "metadata": {
        "id": "szdG67lY4puf"
      }
    },
    {
      "cell_type": "markdown",
      "source": [
        "## Exercise: Prepare a Resume for Princeton-Plainsboro\n",
        "\n",
        "This exercise is designed to help you prepare a compelling resume for the Junior Database Administrator position at Princeton–Plainsboro Teaching Hospital. We'll focus on the structure commonly used for entry-level IT jobs and give guidance on how to effectively present your skills and experiences.\n",
        "\n",
        "When filling it out, you can EITHER write down your \"current\" experience or your \"planned\" experience (for example, after you have graduated).\n",
        "\n",
        "1. **Header.** This is where your name, contact information (email and phone number), and LinkedIn profile (if applicable) go. Make sure your contact information is current and professional.\n",
        "\n",
        "2. **Objective or Summary.** This section is optional but can be valuable for entry-level candidates. It's a brief statement about your career goals and why you're a good fit for the position. It should be tailored for each job application.\n",
        "\n",
        "3. **Education.** List your degree, the institution you attended, and the year of graduation. Highlight relevant coursework or projects related to database administration.\n",
        "\n",
        "4. **Skills.** Here, list your technical skills relevant to the job, such as SQL, relational databases, data modeling, and PostgreSQL. Also, list soft skills like problem-solving, communication, and time management. Be honest and realistic with your skills.\n",
        "\n",
        "5. **Experience.** List any internships, co-ops, or relevant projects that demonstrate your skills and abilities. For each, provide a brief description and bullet points highlighting your responsibilities and achievements.\n",
        "\n",
        "6. **Certifications.** If you have earned any certifications that are relevant to the job, list them here. This class will cover many of the objectives for two industry certifications--*CompTia Data Sys+* and *Oracle Database Foundations*. Note that these (entirely optional) exams cost money to take, and you should expect to spend a significant amount of time studying for them!\n",
        "\n",
        "7. **References.** Although it's not necessary to list references on your resume, you can indicate that they are available upon request.\n"
      ],
      "metadata": {
        "id": "zyTX_1lA8XSj"
      }
    },
    {
      "cell_type": "markdown",
      "source": [
        "\n",
        "# [Your Full Name]\n",
        "- **Email:** [your.email@example.com]\n",
        "- **Phone:** [(507) 456-7890]\n",
        "- **LinkedIn:** [linkedin.com/in/your-name]\n",
        "- **GitHub:** [github link]\n",
        "\n",
        "## Objective\n",
        "A motivated Computer Science graduate seeking the position of Junior Database Administrator at Princeton–Plainsboro Teaching Hospital. Proficient in SQL, data modeling, and PostgreSQL with a keen interest in healthcare data management.\n",
        "\n",
        "## Education\n",
        "**Your (Expected) Degree** | [Your College Name] | [Year]\n",
        "\n",
        "- Relevant Coursework: [List Courses Here]\n",
        "\n",
        "## Skills\n",
        "\n",
        "- **Technical:** SQL, SQLite, PostgreSQL, Database Design, ERDs, Data Modeling, [LIST MORE HERE]\n",
        "- **Soft Skills:** [Ideas: Problem-solving, Communication, Time Management, etc.]\n",
        "\n",
        "## Experience\n",
        "\n",
        "**A Job** | [Company Name] | [Location] | [Dates]\n",
        "\n",
        "- [Description of your roles, responsibilities, and achievements]\n",
        "\n",
        "**Project Experience** | [Project Name] | [Location/College Name] | [Dates]\n",
        "\n",
        "- [Description of the project, your role, and what was achieved]\n",
        "\n",
        "## Certifications\n",
        "\n",
        "- [Certification Name] - [Institution/Organization] - [Year]\n",
        "\n",
        "## References\n",
        "\n",
        "- Available upon request\n"
      ],
      "metadata": {
        "id": "-KetKVqP9CeY"
      }
    },
    {
      "cell_type": "code",
      "source": [],
      "metadata": {
        "id": "pEBcRMqdqmVs"
      },
      "execution_count": null,
      "outputs": []
    },
    {
      "cell_type": "code",
      "source": [],
      "metadata": {
        "id": "X1JOzUHSpn3W"
      },
      "execution_count": null,
      "outputs": []
    }
  ]
}