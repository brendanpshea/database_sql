{
  "nbformat": 4,
  "nbformat_minor": 0,
  "metadata": {
    "colab": {
      "provenance": [],
      "authorship_tag": "ABX9TyMkgc/FdvY5SChmEFsNlawq",
      "include_colab_link": true
    },
    "kernelspec": {
      "name": "python3",
      "display_name": "Python 3"
    },
    "language_info": {
      "name": "python"
    }
  },
  "cells": [
    {
      "cell_type": "markdown",
      "metadata": {
        "id": "view-in-github",
        "colab_type": "text"
      },
      "source": [
        "<a href=\"https://colab.research.google.com/github/brendanpshea/database_sql/blob/main/Database_07_Views.ipynb\" target=\"_parent\"><img src=\"https://colab.research.google.com/assets/colab-badge.svg\" alt=\"Open In Colab\"/></a>"
      ]
    },
    {
      "cell_type": "markdown",
      "source": [
        "# Views and Common Table Expressions in SQLite\n",
        "### Database and SQL Through Pop Culture | Brendan Shea, PhD\n",
        "In the world of database management, presenting and manipulating data in a way that is both efficient and secure is of utmost importance. SQLite, a lightweight and versatile relational database management system, offers two powerful tools to achieve these goals: Views and Common Table Expressions (CTEs).\n",
        "\n",
        "Views are virtual tables that allow you to encapsulate complex queries and present them as a single, reusable entity. They provide a way to simplify data retrieval, aggregate information, and control access to sensitive data. By creating views, you can hide the complexity of the underlying tables and provide a more user-friendly interface for querying data.\n",
        "\n",
        "Common Table Expressions (CTEs), on the other hand, are temporary named result sets that exist within the scope of a single SQL statement. They offer a way to break down complex queries into smaller, more manageable parts. CTEs can be thought of as temporary views that are defined within a specific query and can be referenced multiple times within that query.\n",
        "\n",
        "In this chapter, we will explore the concepts of Views and CTEs in SQLite using a real-world dataset related to music. We will be working with data from Rollingstone and Spotify, focusing on albums that appeared in any version of Rollingstone's greatest albums of all time list. (This is a greatly expanded version of the data we introduced in the previous chapter). Through practical examples and step-by-step explanations, you will learn how to create and utilize Views and CTEs to effectively present, aggregate, and secure your data.\n",
        "\n",
        "Whether you are a beginner or an experienced SQLite user, understanding Views and CTEs is crucial for building efficient and maintainable database solutions. By the end of this chapter, you will have a solid grasp of these concepts and be able to apply them in your own projects. Let's dive in and unlock the power of Views and CTEs in SQLite!"
      ],
      "metadata": {
        "id": "xxueb3q7wFhK"
      }
    },
    {
      "cell_type": "code",
      "execution_count": 1,
      "metadata": {
        "id": "Tb0rvhHAzSBN"
      },
      "outputs": [],
      "source": [
        "!wget https://github.com/brendanpshea/database_sql/raw/main/data/rs_greatest_albums.db -q -nc\n",
        "%load_ext sql\n",
        "%sql sqlite:///rs_greatest_albums.db"
      ]
    },
    {
      "cell_type": "markdown",
      "source": [
        "## Data Dictionary for \"Rolling Stone's Greatest Albums DB.\"\n",
        "Before diving into views, it is good to get familiar with our data. Here's the **data dictionary** for our database. (Brendan's Note: I created this database manually, using Rollingstone's lists as a starting point, and then getting the other data from Spotify **Application Programming Interface (API)**.\n",
        "\n",
        "#### **Table: `artists`**\n",
        "\n",
        "This table contains information about the artists included in the RollingStone's greatest albums lists.\n",
        "\n",
        "| **Column Name** | **Data Type** | **Description** |\n",
        "| --- | --- | --- |\n",
        "| `artist_id` | STRING | Unique identifier for each artist. |\n",
        "| `Artist` | TEXT | Name of the artist. |\n",
        "| `followers` | INTEGER | Number of followers the artist has on Spotify. |\n",
        "| `genres` | TEXT | Comma-separated list of genres associated with the artist. |\n",
        "| `popularity` | INTEGER | Popularity score of the artist on Spotify, ranging from 0 to 100. |\n",
        "\n",
        "#### **Table: `albums`**\n",
        "\n",
        "This table contains information about the albums listed in RollingStone's greatest albums lists of various years.\n",
        "\n",
        "| **Column Name** | **Data Type** | **Description** |\n",
        "| --- | --- | --- |\n",
        "| `album_id` | STRING | Unique identifier for each album. |\n",
        "| `Album` | TEXT | Title of the album. |\n",
        "| `artist_id` | STRING | Unique identifier for the artist who created the album. |\n",
        "| `Year` | INTEGER | Year the album was released. |\n",
        "| `rank_2003` | INTEGER | Ranking of the album in RollingStone's 2003 list. |\n",
        "| `rank_2012` | INTEGER | Ranking of the album in RollingStone's 2012 list. |\n",
        "| `rank_2020` | INTEGER | Ranking of the album in RollingStone's 2020 list. |\n",
        "| `rank_2023` | INTEGER | Ranking of the album in RollingStone's 2023 list. |\n",
        "| **Foreign Key** |  | **FOREIGN KEY (`artist_id`) REFERENCES `artists`(`artist_id`)** |\n",
        "\n",
        "#### **Table: `tracks`**\n",
        "\n",
        "This table contains information about the tracks within the albums listed in the database.\n",
        "\n",
        "| **Column Name** | **Data Type** | **Description** |\n",
        "| --- | --- | --- |\n",
        "| `track_id` | STRING | Unique identifier for each track. |\n",
        "| `track_name` | TEXT | Name of the track. |\n",
        "| `album_id` | STRING | Unique identifier for the album that the track belongs to. |\n",
        "| `track_number` | INTEGER | The position of the track within the album. |\n",
        "| `duration_ms` | INTEGER | Duration of the track in milliseconds. |\n",
        "| **Foreign Key** |  | **FOREIGN KEY (`album_id`) REFERENCES `albums`(`album_id`)** |"
      ],
      "metadata": {
        "id": "qGLWN79z0zMl"
      }
    },
    {
      "cell_type": "markdown",
      "source": [
        "### Examining the \"Head\" of the Data\n",
        "Before trying to design our own queries, let's take a look at the **head** of the data (that is, the first few rows). We can do this using LIMIT."
      ],
      "metadata": {
        "id": "eqEkb8ityFCr"
      }
    },
    {
      "cell_type": "code",
      "source": [
        "%%sql\n",
        "SELECT * FROM artists LIMIT 5;"
      ],
      "metadata": {
        "colab": {
          "base_uri": "https://localhost:8080/",
          "height": 214
        },
        "id": "ilVmdgVY1kZv",
        "outputId": "1f5a2c84-c97d-4a56-d912-226ebfaada80"
      },
      "execution_count": 2,
      "outputs": [
        {
          "output_type": "stream",
          "name": "stdout",
          "text": [
            " * sqlite:///rs_greatest_albums.db\n",
            "Done.\n"
          ]
        },
        {
          "output_type": "execute_result",
          "data": {
            "text/plain": [
              "[('3koiLjNrgRTNbOwViDipeA', 'Gaye, Marvin', 5313182, \"['classic soul', 'motown', 'neo soul', 'northern soul', 'quiet storm', 'soul']\", 71),\n",
              " ('3oDbviiivRWhXwIE8hxkVV', 'Beach Boys', 4499081, \"['baroque pop', 'classic rock', 'folk rock', 'mellow gold', 'psychedelic rock', 'rock', 'singer-songwriter', 'sunshine pop']\", 71),\n",
              " ('5hW4L92KnC6dX9t7tYM4Ve', 'Mitchell, Joni', 1461857, \"['canadian singer-songwriter', 'folk', 'folk rock', 'singer-songwriter']\", 59),\n",
              " ('7guDJrEfX3qb6FEbdPA5qi', 'Wonder, Stevie', 6427524, \"['motown', 'soul']\", 73),\n",
              " ('3WrFJ7ztbogyGnTHbHJFl2', 'Beatles', 27469908, \"['british invasion', 'classic rock', 'merseybeat', 'psychedelic rock', 'rock']\", 82)]"
            ],
            "text/html": [
              "<table>\n",
              "    <thead>\n",
              "        <tr>\n",
              "            <th>artist_id</th>\n",
              "            <th>Artist</th>\n",
              "            <th>followers</th>\n",
              "            <th>genres</th>\n",
              "            <th>popularity</th>\n",
              "        </tr>\n",
              "    </thead>\n",
              "    <tbody>\n",
              "        <tr>\n",
              "            <td>3koiLjNrgRTNbOwViDipeA</td>\n",
              "            <td>Gaye, Marvin</td>\n",
              "            <td>5313182</td>\n",
              "            <td>[&#x27;classic soul&#x27;, &#x27;motown&#x27;, &#x27;neo soul&#x27;, &#x27;northern soul&#x27;, &#x27;quiet storm&#x27;, &#x27;soul&#x27;]</td>\n",
              "            <td>71</td>\n",
              "        </tr>\n",
              "        <tr>\n",
              "            <td>3oDbviiivRWhXwIE8hxkVV</td>\n",
              "            <td>Beach Boys</td>\n",
              "            <td>4499081</td>\n",
              "            <td>[&#x27;baroque pop&#x27;, &#x27;classic rock&#x27;, &#x27;folk rock&#x27;, &#x27;mellow gold&#x27;, &#x27;psychedelic rock&#x27;, &#x27;rock&#x27;, &#x27;singer-songwriter&#x27;, &#x27;sunshine pop&#x27;]</td>\n",
              "            <td>71</td>\n",
              "        </tr>\n",
              "        <tr>\n",
              "            <td>5hW4L92KnC6dX9t7tYM4Ve</td>\n",
              "            <td>Mitchell, Joni</td>\n",
              "            <td>1461857</td>\n",
              "            <td>[&#x27;canadian singer-songwriter&#x27;, &#x27;folk&#x27;, &#x27;folk rock&#x27;, &#x27;singer-songwriter&#x27;]</td>\n",
              "            <td>59</td>\n",
              "        </tr>\n",
              "        <tr>\n",
              "            <td>7guDJrEfX3qb6FEbdPA5qi</td>\n",
              "            <td>Wonder, Stevie</td>\n",
              "            <td>6427524</td>\n",
              "            <td>[&#x27;motown&#x27;, &#x27;soul&#x27;]</td>\n",
              "            <td>73</td>\n",
              "        </tr>\n",
              "        <tr>\n",
              "            <td>3WrFJ7ztbogyGnTHbHJFl2</td>\n",
              "            <td>Beatles</td>\n",
              "            <td>27469908</td>\n",
              "            <td>[&#x27;british invasion&#x27;, &#x27;classic rock&#x27;, &#x27;merseybeat&#x27;, &#x27;psychedelic rock&#x27;, &#x27;rock&#x27;]</td>\n",
              "            <td>82</td>\n",
              "        </tr>\n",
              "    </tbody>\n",
              "</table>"
            ]
          },
          "metadata": {},
          "execution_count": 2
        }
      ]
    },
    {
      "cell_type": "code",
      "source": [
        "%%sql\n",
        "SELECT * FROM albums LIMIT 5;"
      ],
      "metadata": {
        "colab": {
          "base_uri": "https://localhost:8080/",
          "height": 179
        },
        "id": "nbasl4suw4BH",
        "outputId": "99461617-b541-489b-af34-9cafa3661a46"
      },
      "execution_count": 3,
      "outputs": [
        {
          "output_type": "stream",
          "name": "stdout",
          "text": [
            " * sqlite:///rs_greatest_albums.db\n",
            "Done.\n"
          ]
        },
        {
          "output_type": "execute_result",
          "data": {
            "text/plain": [
              "[('7qD9oSiS3xFJsw2oSV2akp', \"What's Going On\", '3koiLjNrgRTNbOwViDipeA', 1971, 6, 6, 1, 1),\n",
              " ('2CNEkSE8TADXRT2AzcEt1b', 'Pet Sounds', '3oDbviiivRWhXwIE8hxkVV', 1966, 2, 2, 2, 2),\n",
              " ('1vz94WpXDVYIEGja8cjFNa', 'Blue', '5hW4L92KnC6dX9t7tYM4Ve', 1971, 30, 30, 3, 3),\n",
              " ('6YUCc2RiXcEKS9ibuZxjt0', 'Songs in the Key of Life', '7guDJrEfX3qb6FEbdPA5qi', 1976, 57, 57, 4, 4),\n",
              " ('0ETFjACtuP2ADo6LFhL6HN', 'Abbey Road', '3WrFJ7ztbogyGnTHbHJFl2', 1969, 14, 14, 5, 5)]"
            ],
            "text/html": [
              "<table>\n",
              "    <thead>\n",
              "        <tr>\n",
              "            <th>album_id</th>\n",
              "            <th>Album</th>\n",
              "            <th>artist_id</th>\n",
              "            <th>Year</th>\n",
              "            <th>rank_2003</th>\n",
              "            <th>rank_2012</th>\n",
              "            <th>rank_2020</th>\n",
              "            <th>rank_2023</th>\n",
              "        </tr>\n",
              "    </thead>\n",
              "    <tbody>\n",
              "        <tr>\n",
              "            <td>7qD9oSiS3xFJsw2oSV2akp</td>\n",
              "            <td>What&#x27;s Going On</td>\n",
              "            <td>3koiLjNrgRTNbOwViDipeA</td>\n",
              "            <td>1971</td>\n",
              "            <td>6</td>\n",
              "            <td>6</td>\n",
              "            <td>1</td>\n",
              "            <td>1</td>\n",
              "        </tr>\n",
              "        <tr>\n",
              "            <td>2CNEkSE8TADXRT2AzcEt1b</td>\n",
              "            <td>Pet Sounds</td>\n",
              "            <td>3oDbviiivRWhXwIE8hxkVV</td>\n",
              "            <td>1966</td>\n",
              "            <td>2</td>\n",
              "            <td>2</td>\n",
              "            <td>2</td>\n",
              "            <td>2</td>\n",
              "        </tr>\n",
              "        <tr>\n",
              "            <td>1vz94WpXDVYIEGja8cjFNa</td>\n",
              "            <td>Blue</td>\n",
              "            <td>5hW4L92KnC6dX9t7tYM4Ve</td>\n",
              "            <td>1971</td>\n",
              "            <td>30</td>\n",
              "            <td>30</td>\n",
              "            <td>3</td>\n",
              "            <td>3</td>\n",
              "        </tr>\n",
              "        <tr>\n",
              "            <td>6YUCc2RiXcEKS9ibuZxjt0</td>\n",
              "            <td>Songs in the Key of Life</td>\n",
              "            <td>7guDJrEfX3qb6FEbdPA5qi</td>\n",
              "            <td>1976</td>\n",
              "            <td>57</td>\n",
              "            <td>57</td>\n",
              "            <td>4</td>\n",
              "            <td>4</td>\n",
              "        </tr>\n",
              "        <tr>\n",
              "            <td>0ETFjACtuP2ADo6LFhL6HN</td>\n",
              "            <td>Abbey Road</td>\n",
              "            <td>3WrFJ7ztbogyGnTHbHJFl2</td>\n",
              "            <td>1969</td>\n",
              "            <td>14</td>\n",
              "            <td>14</td>\n",
              "            <td>5</td>\n",
              "            <td>5</td>\n",
              "        </tr>\n",
              "    </tbody>\n",
              "</table>"
            ]
          },
          "metadata": {},
          "execution_count": 3
        }
      ]
    },
    {
      "cell_type": "code",
      "source": [
        "%%sql\n",
        "SELECT * FROM tracks LIMIT 5;"
      ],
      "metadata": {
        "colab": {
          "base_uri": "https://localhost:8080/",
          "height": 179
        },
        "id": "aQ4DTOH7w7JD",
        "outputId": "58e673b8-384d-4028-d712-c0306156296c"
      },
      "execution_count": 4,
      "outputs": [
        {
          "output_type": "stream",
          "name": "stdout",
          "text": [
            " * sqlite:///rs_greatest_albums.db\n",
            "Done.\n"
          ]
        },
        {
          "output_type": "execute_result",
          "data": {
            "text/plain": [
              "[('4cgLt753cDfsBAbpOcGnZi', \"What's Going On - Detroit Mix\", '7qD9oSiS3xFJsw2oSV2akp', 1, 247840),\n",
              " ('0lz97gXzH4DD822L62kLeK', \"What's Happening Brother - Detroit Mix\", '7qD9oSiS3xFJsw2oSV2akp', 2, 163146),\n",
              " ('0oQV9CKXruLbVUTn76eBnr', \"Flyin' High (In The Friendly Sky) - Detroit Mix\", '7qD9oSiS3xFJsw2oSV2akp', 3, 228693),\n",
              " ('3KAbXV1OSwthoke6BqR0y5', 'Save The Children - Detroit Mix', '7qD9oSiS3xFJsw2oSV2akp', 4, 241626),\n",
              " ('1J3WjiLbPAdW0mSBTxoHQF', 'God Is Love - Detroit Mix', '7qD9oSiS3xFJsw2oSV2akp', 5, 106733)]"
            ],
            "text/html": [
              "<table>\n",
              "    <thead>\n",
              "        <tr>\n",
              "            <th>track_id</th>\n",
              "            <th>track_name</th>\n",
              "            <th>album_id</th>\n",
              "            <th>track_number</th>\n",
              "            <th>duration_ms</th>\n",
              "        </tr>\n",
              "    </thead>\n",
              "    <tbody>\n",
              "        <tr>\n",
              "            <td>4cgLt753cDfsBAbpOcGnZi</td>\n",
              "            <td>What&#x27;s Going On - Detroit Mix</td>\n",
              "            <td>7qD9oSiS3xFJsw2oSV2akp</td>\n",
              "            <td>1</td>\n",
              "            <td>247840</td>\n",
              "        </tr>\n",
              "        <tr>\n",
              "            <td>0lz97gXzH4DD822L62kLeK</td>\n",
              "            <td>What&#x27;s Happening Brother - Detroit Mix</td>\n",
              "            <td>7qD9oSiS3xFJsw2oSV2akp</td>\n",
              "            <td>2</td>\n",
              "            <td>163146</td>\n",
              "        </tr>\n",
              "        <tr>\n",
              "            <td>0oQV9CKXruLbVUTn76eBnr</td>\n",
              "            <td>Flyin&#x27; High (In The Friendly Sky) - Detroit Mix</td>\n",
              "            <td>7qD9oSiS3xFJsw2oSV2akp</td>\n",
              "            <td>3</td>\n",
              "            <td>228693</td>\n",
              "        </tr>\n",
              "        <tr>\n",
              "            <td>3KAbXV1OSwthoke6BqR0y5</td>\n",
              "            <td>Save The Children - Detroit Mix</td>\n",
              "            <td>7qD9oSiS3xFJsw2oSV2akp</td>\n",
              "            <td>4</td>\n",
              "            <td>241626</td>\n",
              "        </tr>\n",
              "        <tr>\n",
              "            <td>1J3WjiLbPAdW0mSBTxoHQF</td>\n",
              "            <td>God Is Love - Detroit Mix</td>\n",
              "            <td>7qD9oSiS3xFJsw2oSV2akp</td>\n",
              "            <td>5</td>\n",
              "            <td>106733</td>\n",
              "        </tr>\n",
              "    </tbody>\n",
              "</table>"
            ]
          },
          "metadata": {},
          "execution_count": 4
        }
      ]
    },
    {
      "cell_type": "markdown",
      "source": [
        "You might notice a few things from this:\n",
        "\n",
        "-   The primary keys (`artist_id`, `album_id`, `track_id`) are strings rather than the more commonly used integers. Spotify likely uses string identifiers because they are **globally unique identifiers (GUIDs)** and can be generated independently across different systems or databases without the need for coordination or central allocation. This allows for better scalability and distributed data management. These sorts of keys are common in **distributed databases** that live on multiple computers, and have large numbers of concurrent users.\n",
        "-   The `genres` column in the `artists` table contains a list of genres associated with each artist. This indicates that an artist can belong to multiple genres, providing a more comprehensive categorization. The genres are stored as a comma-separated list within square brackets, resembling a JSON array format. This structure allows for efficient storage and parsing of multiple genres per artist. However, we'll need to be careful when writing SQL queries to access this.\n",
        "-  The `albums` table includes ranking columns (`rank_2003`, `rank_2012`, `rank_2020`, `rank_2023`) representing the album's position in Rollingstone's greatest albums lists for different years. The presence of multiple ranking columns suggests that the rankings have evolved over time, and the dataset captures these changes.\n",
        "- The `duration_ms` column in the `tracks` table stores the duration of each track in milliseconds. This level of granularity allows for precise analysis and calculations related to track lengths. However, it isn't very friendly to human readers. We'll create a view to fix this."
      ],
      "metadata": {
        "id": "4AC_QLMOySXw"
      }
    },
    {
      "cell_type": "markdown",
      "source": [
        "## What is a VIEW?\n",
        "\n",
        "In SQL, a **view** is a virtual table that is based on the result of a SELECT statement. It acts as a stored query that can be accessed and manipulated as if it were a regular table. Views provide a way to simplify complex queries, present data in a more readable format, and enhance data security by limiting access to specific columns or rows.\n",
        "\n",
        "The general syntax for creating a view in SQ is as follows:\n",
        "\n",
        "```sql\n",
        "CREATE [TEMP | TEMPORARY] VIEW [IF NOT EXISTS] view_name AS\n",
        "SELECT column1, column2, ...\n",
        "FROM table_name\n",
        "WHERE condition;\n",
        "```\n",
        "\n",
        "Let's break down the components of the CREATE VIEW statement:\n",
        "\n",
        "-   `TEMP` or `TEMPORARY`: These keywords are optional and are used to create a temporary view that exists only for the duration of the current session.\n",
        "-   `IF NOT EXISTS`: This clause is optional and prevents an error from occurring if a view with the same name already exists.\n",
        "-   `view_name`: This is the name you assign to the view. It follows the same naming conventions as tables.\n",
        "-   `AS`: This keyword precedes the SELECT statement that defines the view.\n",
        "-   `SELECT`: This is the query that retrieves the data for the view. It can include columns from one or more tables, along with any desired conditions, joins, or aggregations.\n",
        "\n",
        "Once a view is created, you can query it just like you would query a regular table. The view's result set is dynamically generated each time it is accessed, based on the underlying SELECT statement.\n",
        "\n",
        "Here's a simple example of creating a view:"
      ],
      "metadata": {
        "id": "IOSlQKvozwJh"
      }
    },
    {
      "cell_type": "code",
      "source": [
        "%%sql\n",
        "DROP VIEW IF EXISTS artist_info;\n",
        "\n",
        "CREATE VIEW album_info AS\n",
        "SELECT\n",
        "  Albums.album,\n",
        "  Albums.year,\n",
        "  Artist.artist\n",
        "FROM Albums\n",
        "  JOIN Artists ON Albums.artist_id = Artists.artist_id;"
      ],
      "metadata": {
        "colab": {
          "base_uri": "https://localhost:8080/"
        },
        "id": "DGRLKY3gzxCW",
        "outputId": "df64d19f-3942-41f8-b24e-087e5e354515"
      },
      "execution_count": 5,
      "outputs": [
        {
          "output_type": "stream",
          "name": "stdout",
          "text": [
            " * sqlite:///rs_greatest_albums.db\n",
            "Done.\n",
            "Done.\n"
          ]
        },
        {
          "output_type": "execute_result",
          "data": {
            "text/plain": [
              "[]"
            ]
          },
          "metadata": {},
          "execution_count": 5
        }
      ]
    },
    {
      "cell_type": "markdown",
      "source": [],
      "metadata": {
        "id": "jnF11t_vz98F"
      }
    },
    {
      "cell_type": "markdown",
      "source": [
        "In this example, we create a view named `album_info` that combines information from the `albums` and `artists` tables. The view includes the `Album` and `Year` columns from the `albums` table and the `Artist` column from the `artists` table. The tables are joined based on the `artist_id` foreign key relationship.\n",
        "\n",
        "Now, whenever we query the `album_info` view, it will return the result set as defined by the SELECT statement, providing a convenient way to access the combined album and artist information."
      ],
      "metadata": {
        "id": "7ab12SIhz-BJ"
      }
    },
    {
      "cell_type": "code",
      "source": [
        "%%sql\n",
        "SELECT * FROM album_info LIMIT 5;"
      ],
      "metadata": {
        "colab": {
          "base_uri": "https://localhost:8080/",
          "height": 179
        },
        "id": "x95T53gsz_D_",
        "outputId": "89296734-e16e-4f18-cbf8-22e5f4d099bc"
      },
      "execution_count": 6,
      "outputs": [
        {
          "output_type": "stream",
          "name": "stdout",
          "text": [
            " * sqlite:///rs_greatest_albums.db\n",
            "Done.\n"
          ]
        },
        {
          "output_type": "execute_result",
          "data": {
            "text/plain": [
              "[(\"What's Going On\", 1971, 'Gaye, Marvin'),\n",
              " ('Pet Sounds', 1966, 'Beach Boys'),\n",
              " ('Blue', 1971, 'Mitchell, Joni'),\n",
              " ('Songs in the Key of Life', 1976, 'Wonder, Stevie'),\n",
              " ('Abbey Road', 1969, 'Beatles')]"
            ],
            "text/html": [
              "<table>\n",
              "    <thead>\n",
              "        <tr>\n",
              "            <th>Album</th>\n",
              "            <th>Year</th>\n",
              "            <th>Artist</th>\n",
              "        </tr>\n",
              "    </thead>\n",
              "    <tbody>\n",
              "        <tr>\n",
              "            <td>What&#x27;s Going On</td>\n",
              "            <td>1971</td>\n",
              "            <td>Gaye, Marvin</td>\n",
              "        </tr>\n",
              "        <tr>\n",
              "            <td>Pet Sounds</td>\n",
              "            <td>1966</td>\n",
              "            <td>Beach Boys</td>\n",
              "        </tr>\n",
              "        <tr>\n",
              "            <td>Blue</td>\n",
              "            <td>1971</td>\n",
              "            <td>Mitchell, Joni</td>\n",
              "        </tr>\n",
              "        <tr>\n",
              "            <td>Songs in the Key of Life</td>\n",
              "            <td>1976</td>\n",
              "            <td>Wonder, Stevie</td>\n",
              "        </tr>\n",
              "        <tr>\n",
              "            <td>Abbey Road</td>\n",
              "            <td>1969</td>\n",
              "            <td>Beatles</td>\n",
              "        </tr>\n",
              "    </tbody>\n",
              "</table>"
            ]
          },
          "metadata": {},
          "execution_count": 6
        }
      ]
    },
    {
      "cell_type": "markdown",
      "source": [
        "Views offer several benefits, such as:\n",
        "\n",
        "-   Simplifying complex queries by encapsulating them into a reusable entity.\n",
        "-   Providing a layer of abstraction and hiding the complexity of the underlying tables.\n",
        "-   Enhancing data security by restricting access to specific columns or rows.\n",
        "-   Enabling consistent and centralized data access across multiple queries or applications.\n",
        "\n",
        "In the following sections, we will explore various practical examples of using views in SQLite to present, aggregate, and secure data from the music dataset."
      ],
      "metadata": {
        "id": "rfQZeR-J0Hoc"
      }
    },
    {
      "cell_type": "markdown",
      "source": [
        "## Views for Presenting Data\n",
        "\n",
        "Views provide a powerful way to present data in a more user-friendly and meaningful manner. By creating views, you can customize the appearance of the data, combine information from multiple tables, and present it in a way that is easier to understand and interpret. Let's look at a few examples using the music dataset.\n",
        "\n",
        "### Greatest albums, 2023 version only\n",
        "\n",
        "Suppose you want to create a view that displays only the albums that appeared in the 2023 version of Rollingstone's greatest albums list. Here's how you can achieve that:"
      ],
      "metadata": {
        "id": "jqZoTtht1hp_"
      }
    },
    {
      "cell_type": "code",
      "source": [
        "%%sql\n",
        "DROP VIEW IF EXISTS greatest_albums_2023;\n",
        "\n",
        "CREATE VIEW greatest_albums_2023 AS\n",
        "SELECT\n",
        "  Albums.album,\n",
        "  Artists.artist,\n",
        "  Albums.year,\n",
        "  Albums.rank_2023\n",
        "FROM Albums\n",
        "JOIN Artists ON Albums.artist_id = artists.artist_id\n",
        "WHERE rank_2023 IS NOT NULL\n",
        "ORDER BY rank_2023;"
      ],
      "metadata": {
        "colab": {
          "base_uri": "https://localhost:8080/"
        },
        "id": "F9WhiNQ7zC33",
        "outputId": "e2a1404d-5900-46e6-e124-d32c2e7793ab"
      },
      "execution_count": 7,
      "outputs": [
        {
          "output_type": "stream",
          "name": "stdout",
          "text": [
            " * sqlite:///rs_greatest_albums.db\n",
            "Done.\n",
            "Done.\n"
          ]
        },
        {
          "output_type": "execute_result",
          "data": {
            "text/plain": [
              "[]"
            ]
          },
          "metadata": {},
          "execution_count": 7
        }
      ]
    },
    {
      "cell_type": "markdown",
      "source": [
        "In this example, the `greatest_albums_2023` view retrieves the `Album`, `Artist`, `Year`, and `rank_2023` columns from the `albums` and `artists` tables. The tables are joined based on the `artist_id` foreign key relationship. The `WHERE` clause filters the results to include only the albums that have a non-null value in the `rank_2023` column. Finally, the `ORDER BY` clause sorts the albums based on their 2023 ranking.\n",
        "\n",
        "Now, you can query the `greatest_albums_2023` view to retrieve the list of albums from the 2023 version of Rollingstone's list:"
      ],
      "metadata": {
        "id": "YjB-xey11xod"
      }
    },
    {
      "cell_type": "code",
      "source": [
        "%%sql\n",
        "SELECT * FROM greatest_albums_2023 LIMIT 10;"
      ],
      "metadata": {
        "colab": {
          "base_uri": "https://localhost:8080/",
          "height": 284
        },
        "id": "qLKe8d7x6RHH",
        "outputId": "2ca1c32c-bf38-4b97-98d6-02b82110b327"
      },
      "execution_count": 8,
      "outputs": [
        {
          "output_type": "stream",
          "name": "stdout",
          "text": [
            " * sqlite:///rs_greatest_albums.db\n",
            "Done.\n"
          ]
        },
        {
          "output_type": "execute_result",
          "data": {
            "text/plain": [
              "[(\"What's Going On\", 'Gaye, Marvin', 1971, 1),\n",
              " ('Pet Sounds', 'Beach Boys', 1966, 2),\n",
              " ('Blue', 'Mitchell, Joni', 1971, 3),\n",
              " ('Songs in the Key of Life', 'Wonder, Stevie', 1976, 4),\n",
              " ('Abbey Road', 'Beatles', 1969, 5),\n",
              " ('Nevermind', 'Nirvana', 1991, 6),\n",
              " ('Rumours', 'Fleetwood Mac', 1977, 7),\n",
              " ('Purple Rain', 'Prince and the Revolution', 1984, 8),\n",
              " ('Blood on the Tracks', 'Dylan, Bob', 1975, 9),\n",
              " ('The Miseducation of Lauryn Hill', 'Hill, Lauryn', 1998, 10)]"
            ],
            "text/html": [
              "<table>\n",
              "    <thead>\n",
              "        <tr>\n",
              "            <th>Album</th>\n",
              "            <th>Artist</th>\n",
              "            <th>Year</th>\n",
              "            <th>rank_2023</th>\n",
              "        </tr>\n",
              "    </thead>\n",
              "    <tbody>\n",
              "        <tr>\n",
              "            <td>What&#x27;s Going On</td>\n",
              "            <td>Gaye, Marvin</td>\n",
              "            <td>1971</td>\n",
              "            <td>1</td>\n",
              "        </tr>\n",
              "        <tr>\n",
              "            <td>Pet Sounds</td>\n",
              "            <td>Beach Boys</td>\n",
              "            <td>1966</td>\n",
              "            <td>2</td>\n",
              "        </tr>\n",
              "        <tr>\n",
              "            <td>Blue</td>\n",
              "            <td>Mitchell, Joni</td>\n",
              "            <td>1971</td>\n",
              "            <td>3</td>\n",
              "        </tr>\n",
              "        <tr>\n",
              "            <td>Songs in the Key of Life</td>\n",
              "            <td>Wonder, Stevie</td>\n",
              "            <td>1976</td>\n",
              "            <td>4</td>\n",
              "        </tr>\n",
              "        <tr>\n",
              "            <td>Abbey Road</td>\n",
              "            <td>Beatles</td>\n",
              "            <td>1969</td>\n",
              "            <td>5</td>\n",
              "        </tr>\n",
              "        <tr>\n",
              "            <td>Nevermind</td>\n",
              "            <td>Nirvana</td>\n",
              "            <td>1991</td>\n",
              "            <td>6</td>\n",
              "        </tr>\n",
              "        <tr>\n",
              "            <td>Rumours</td>\n",
              "            <td>Fleetwood Mac</td>\n",
              "            <td>1977</td>\n",
              "            <td>7</td>\n",
              "        </tr>\n",
              "        <tr>\n",
              "            <td>Purple Rain</td>\n",
              "            <td>Prince and the Revolution</td>\n",
              "            <td>1984</td>\n",
              "            <td>8</td>\n",
              "        </tr>\n",
              "        <tr>\n",
              "            <td>Blood on the Tracks</td>\n",
              "            <td>Dylan, Bob</td>\n",
              "            <td>1975</td>\n",
              "            <td>9</td>\n",
              "        </tr>\n",
              "        <tr>\n",
              "            <td>The Miseducation of Lauryn Hill</td>\n",
              "            <td>Hill, Lauryn</td>\n",
              "            <td>1998</td>\n",
              "            <td>10</td>\n",
              "        </tr>\n",
              "    </tbody>\n",
              "</table>"
            ]
          },
          "metadata": {},
          "execution_count": 8
        }
      ]
    },
    {
      "cell_type": "markdown",
      "source": [
        "### Presenting track information with reading Minutes and Seconds\n",
        "\n",
        "Let's say you want to present the track information in a more readable format by converting the duration from milliseconds to minutes and seconds. Here's how you can create a view for that:"
      ],
      "metadata": {
        "id": "VEtD8Yj37CfO"
      }
    },
    {
      "cell_type": "code",
      "source": [
        "%%sql\n",
        "DROP VIEW IF EXISTS track_info;\n",
        "\n",
        "CREATE VIEW track_info AS\n",
        "SELECT\n",
        "  Tracks.track_name,\n",
        "  Albums.album,\n",
        "  Tracks.track_number,\n",
        "       PRINTF('%d:%02d', duration_ms / 1000 / 60, duration_ms / 1000 % 60) AS duration\n",
        "FROM Tracks\n",
        "  JOIN Albums ON Tracks.album_id = Albums.album_id;"
      ],
      "metadata": {
        "colab": {
          "base_uri": "https://localhost:8080/"
        },
        "id": "LOyqnXKf7D7b",
        "outputId": "ee7c5a4a-37fb-4730-e19f-5beee3ba9c5f"
      },
      "execution_count": 12,
      "outputs": [
        {
          "output_type": "stream",
          "name": "stdout",
          "text": [
            " * sqlite:///rs_greatest_albums.db\n",
            "Done.\n",
            "Done.\n"
          ]
        },
        {
          "output_type": "execute_result",
          "data": {
            "text/plain": [
              "[]"
            ]
          },
          "metadata": {},
          "execution_count": 12
        }
      ]
    },
    {
      "cell_type": "markdown",
      "source": [
        "In this view, the `track_info` retrieves the `track_name`, `album_id`, `track_number`, and `duration` columns from the `tracks` table. The `printf` function is used to format the `duration_ms` column into a string representation of minutes and seconds (MM:SS format). The `duration_ms` value is divided by 1000 to convert it from milliseconds to seconds, and then the minutes and seconds are extracted using integer division and modulo operations.\n",
        "\n",
        "You can now query the `track_info` view to retrieve the track information with the formatted duration:"
      ],
      "metadata": {
        "id": "muWpTEbV7PvW"
      }
    },
    {
      "cell_type": "code",
      "source": [
        "%%sql\n",
        "SELECT * FROM track_info LIMIT 5;"
      ],
      "metadata": {
        "colab": {
          "base_uri": "https://localhost:8080/",
          "height": 179
        },
        "id": "PSNqG7lK7UGk",
        "outputId": "bd1043b2-a132-47a1-e700-3ea0bdf5c1ac"
      },
      "execution_count": 13,
      "outputs": [
        {
          "output_type": "stream",
          "name": "stdout",
          "text": [
            " * sqlite:///rs_greatest_albums.db\n",
            "Done.\n"
          ]
        },
        {
          "output_type": "execute_result",
          "data": {
            "text/plain": [
              "[(\"What's Going On - Detroit Mix\", \"What's Going On\", 1, '4:07'),\n",
              " (\"What's Happening Brother - Detroit Mix\", \"What's Going On\", 2, '2:43'),\n",
              " (\"Flyin' High (In The Friendly Sky) - Detroit Mix\", \"What's Going On\", 3, '3:48'),\n",
              " ('Save The Children - Detroit Mix', \"What's Going On\", 4, '4:01'),\n",
              " ('God Is Love - Detroit Mix', \"What's Going On\", 5, '1:46')]"
            ],
            "text/html": [
              "<table>\n",
              "    <thead>\n",
              "        <tr>\n",
              "            <th>track_name</th>\n",
              "            <th>Album</th>\n",
              "            <th>track_number</th>\n",
              "            <th>duration</th>\n",
              "        </tr>\n",
              "    </thead>\n",
              "    <tbody>\n",
              "        <tr>\n",
              "            <td>What&#x27;s Going On - Detroit Mix</td>\n",
              "            <td>What&#x27;s Going On</td>\n",
              "            <td>1</td>\n",
              "            <td>4:07</td>\n",
              "        </tr>\n",
              "        <tr>\n",
              "            <td>What&#x27;s Happening Brother - Detroit Mix</td>\n",
              "            <td>What&#x27;s Going On</td>\n",
              "            <td>2</td>\n",
              "            <td>2:43</td>\n",
              "        </tr>\n",
              "        <tr>\n",
              "            <td>Flyin&#x27; High (In The Friendly Sky) - Detroit Mix</td>\n",
              "            <td>What&#x27;s Going On</td>\n",
              "            <td>3</td>\n",
              "            <td>3:48</td>\n",
              "        </tr>\n",
              "        <tr>\n",
              "            <td>Save The Children - Detroit Mix</td>\n",
              "            <td>What&#x27;s Going On</td>\n",
              "            <td>4</td>\n",
              "            <td>4:01</td>\n",
              "        </tr>\n",
              "        <tr>\n",
              "            <td>God Is Love - Detroit Mix</td>\n",
              "            <td>What&#x27;s Going On</td>\n",
              "            <td>5</td>\n",
              "            <td>1:46</td>\n",
              "        </tr>\n",
              "    </tbody>\n",
              "</table>"
            ]
          },
          "metadata": {},
          "execution_count": 13
        }
      ]
    },
    {
      "cell_type": "markdown",
      "source": [
        "### Albums with biggest change from 2003 to 2023\n",
        "\n",
        "To identify the albums that had the biggest change in ranking from 2003 to 2023, you can create a view that calculates the difference between the rankings:"
      ],
      "metadata": {
        "id": "qnGgqkvo79--"
      }
    },
    {
      "cell_type": "code",
      "source": [
        "%%sql\n",
        "DROP VIEW IF EXISTS biggest_rank_change;\n",
        "\n",
        "CREATE VIEW biggest_rank_change AS\n",
        "SELECT\n",
        "  Albums.album,\n",
        "  Artists.artist,\n",
        "  Albums.year,\n",
        "  Albums.rank_2003,\n",
        "  Albums.rank_2023,\n",
        "       rank_2003 - rank_2023 AS rank_change\n",
        "FROM\n",
        "  Albums\n",
        "  JOIN Artists ON Albums.artist_id = Artists.artist_id\n",
        "WHERE\n",
        "  rank_2003 IS NOT NULL\n",
        "  AND rank_2023 IS NOT NULL\n",
        "ORDER BY ABS(rank_change) DESC\n",
        "LIMIT 10;"
      ],
      "metadata": {
        "colab": {
          "base_uri": "https://localhost:8080/"
        },
        "id": "e0_9YkfI8EM-",
        "outputId": "45f5845d-dcad-4fc3-ff50-bb20277784b0"
      },
      "execution_count": 19,
      "outputs": [
        {
          "output_type": "stream",
          "name": "stdout",
          "text": [
            " * sqlite:///rs_greatest_albums.db\n",
            "Done.\n",
            "Done.\n"
          ]
        },
        {
          "output_type": "execute_result",
          "data": {
            "text/plain": [
              "[]"
            ]
          },
          "metadata": {},
          "execution_count": 19
        }
      ]
    },
    {
      "cell_type": "markdown",
      "source": [
        "In this view, the `biggest_rank_change` retrieves the `Album`, `Artist`, `rank_2003`, `rank_2023`, and `rank_change` columns. The `rank_change` column is calculated by subtracting the `rank_2023` from the `rank_2003`. The `WHERE` clause filters the results to include only albums that have non-null values for both `rank_2003` and `rank_2023`. The `ORDER BY` clause sorts the albums based on the absolute value of the `rank_change` in descending order. Finally, the `LIMIT` clause retrieves only the top 10 albums with the biggest rank change.\n",
        "\n",
        "You can query the `biggest_rank_change` view to see the albums with the most significant changes in ranking between 2003 and 2023:"
      ],
      "metadata": {
        "id": "RqWdXmP48jvo"
      }
    },
    {
      "cell_type": "code",
      "source": [
        "%%sql\n",
        "SELECT * FROM biggest_rank_change"
      ],
      "metadata": {
        "colab": {
          "base_uri": "https://localhost:8080/",
          "height": 284
        },
        "id": "dL3h_8Xb8zJB",
        "outputId": "c6f17c63-8580-42c6-aa93-b580b6e7cb08"
      },
      "execution_count": 20,
      "outputs": [
        {
          "output_type": "stream",
          "name": "stdout",
          "text": [
            " * sqlite:///rs_greatest_albums.db\n",
            "Done.\n"
          ]
        },
        {
          "output_type": "execute_result",
          "data": {
            "text/plain": [
              "[('Voodoo', \"D'Angelo\", 2000, 480, 28, 452),\n",
              " ('Aquemini', 'OutKast', 1998, 500, 49, 451),\n",
              " ('The Blueprint', 'Jay-Z', 2001, 456, 50, 406),\n",
              " ('Kid A', 'Radiohead', 2000, 420, 20, 400),\n",
              " ('Enter the Wu_Tang: 36 Chambers', 'Wu Tang Clan', 1993, 382, 27, 355),\n",
              " ('Illmatic', 'Nas', 1994, 396, 44, 352),\n",
              " ('Live Through This', 'Hole', 1994, 458, 106, 352),\n",
              " ('Maggot Brain', 'Funkadelic', 1971, 478, 136, 342),\n",
              " ('The Score', 'Fugees', 1996, 469, 134, 335),\n",
              " ('Heart Like a Wheel', 'Ronstadt, Linda', 1975, 163, 490, -327)]"
            ],
            "text/html": [
              "<table>\n",
              "    <thead>\n",
              "        <tr>\n",
              "            <th>Album</th>\n",
              "            <th>Artist</th>\n",
              "            <th>Year</th>\n",
              "            <th>rank_2003</th>\n",
              "            <th>rank_2023</th>\n",
              "            <th>rank_change</th>\n",
              "        </tr>\n",
              "    </thead>\n",
              "    <tbody>\n",
              "        <tr>\n",
              "            <td>Voodoo</td>\n",
              "            <td>D&#x27;Angelo</td>\n",
              "            <td>2000</td>\n",
              "            <td>480</td>\n",
              "            <td>28</td>\n",
              "            <td>452</td>\n",
              "        </tr>\n",
              "        <tr>\n",
              "            <td>Aquemini</td>\n",
              "            <td>OutKast</td>\n",
              "            <td>1998</td>\n",
              "            <td>500</td>\n",
              "            <td>49</td>\n",
              "            <td>451</td>\n",
              "        </tr>\n",
              "        <tr>\n",
              "            <td>The Blueprint</td>\n",
              "            <td>Jay-Z</td>\n",
              "            <td>2001</td>\n",
              "            <td>456</td>\n",
              "            <td>50</td>\n",
              "            <td>406</td>\n",
              "        </tr>\n",
              "        <tr>\n",
              "            <td>Kid A</td>\n",
              "            <td>Radiohead</td>\n",
              "            <td>2000</td>\n",
              "            <td>420</td>\n",
              "            <td>20</td>\n",
              "            <td>400</td>\n",
              "        </tr>\n",
              "        <tr>\n",
              "            <td>Enter the Wu_Tang: 36 Chambers</td>\n",
              "            <td>Wu Tang Clan</td>\n",
              "            <td>1993</td>\n",
              "            <td>382</td>\n",
              "            <td>27</td>\n",
              "            <td>355</td>\n",
              "        </tr>\n",
              "        <tr>\n",
              "            <td>Illmatic</td>\n",
              "            <td>Nas</td>\n",
              "            <td>1994</td>\n",
              "            <td>396</td>\n",
              "            <td>44</td>\n",
              "            <td>352</td>\n",
              "        </tr>\n",
              "        <tr>\n",
              "            <td>Live Through This</td>\n",
              "            <td>Hole</td>\n",
              "            <td>1994</td>\n",
              "            <td>458</td>\n",
              "            <td>106</td>\n",
              "            <td>352</td>\n",
              "        </tr>\n",
              "        <tr>\n",
              "            <td>Maggot Brain</td>\n",
              "            <td>Funkadelic</td>\n",
              "            <td>1971</td>\n",
              "            <td>478</td>\n",
              "            <td>136</td>\n",
              "            <td>342</td>\n",
              "        </tr>\n",
              "        <tr>\n",
              "            <td>The Score</td>\n",
              "            <td>Fugees</td>\n",
              "            <td>1996</td>\n",
              "            <td>469</td>\n",
              "            <td>134</td>\n",
              "            <td>335</td>\n",
              "        </tr>\n",
              "        <tr>\n",
              "            <td>Heart Like a Wheel</td>\n",
              "            <td>Ronstadt, Linda</td>\n",
              "            <td>1975</td>\n",
              "            <td>163</td>\n",
              "            <td>490</td>\n",
              "            <td>-327</td>\n",
              "        </tr>\n",
              "    </tbody>\n",
              "</table>"
            ]
          },
          "metadata": {},
          "execution_count": 20
        }
      ]
    },
    {
      "cell_type": "markdown",
      "source": [
        "This view has some limitations (for example, it doesn't account for albums that fell out of the rankings altogether). However, it gives a good sense of how critics views have changed over time. For example, many of the albums the had the biggest increases in rank (by D'Angelo, Jay-Z, Radiohead, and Outkast) were still relatively \"new\" in 2003. However, looking back, it appears they have \"stood the test of time.\""
      ],
      "metadata": {
        "id": "pY6CcyUeABuV"
      }
    },
    {
      "cell_type": "code",
      "source": [],
      "metadata": {
        "id": "kRt95Q7BBKmu"
      },
      "execution_count": null,
      "outputs": []
    }
  ]
}