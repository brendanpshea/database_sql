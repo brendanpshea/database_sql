{
  "nbformat": 4,
  "nbformat_minor": 0,
  "metadata": {
    "colab": {
      "provenance": [],
      "authorship_tag": "ABX9TyNkkSzF9X+FamL/UX+lF+UG",
      "include_colab_link": true
    },
    "kernelspec": {
      "name": "python3",
      "display_name": "Python 3"
    },
    "language_info": {
      "name": "python"
    }
  },
  "cells": [
    {
      "cell_type": "markdown",
      "metadata": {
        "id": "view-in-github",
        "colab_type": "text"
      },
      "source": [
        "<a href=\"https://colab.research.google.com/github/brendanpshea/database_sql/blob/main/Database_07_Views.ipynb\" target=\"_parent\"><img src=\"https://colab.research.google.com/assets/colab-badge.svg\" alt=\"Open In Colab\"/></a>"
      ]
    },
    {
      "cell_type": "markdown",
      "source": [
        "# Views and Common Table Expressions in SQLite\n",
        "### Database and SQL Through Pop Culture | Brendan Shea, PhD\n",
        "In the world of database management, presenting and manipulating data in a way that is both efficient and secure is of utmost importance. SQLite, a lightweight and versatile relational database management system, offers two powerful tools to achieve these goals: Views and Common Table Expressions (CTEs).\n",
        "\n",
        "Views are virtual tables that allow you to encapsulate complex queries and present them as a single, reusable entity. They provide a way to simplify data retrieval, aggregate information, and control access to sensitive data. By creating views, you can hide the complexity of the underlying tables and provide a more user-friendly interface for querying data.\n",
        "\n",
        "Common Table Expressions (CTEs), on the other hand, are temporary named result sets that exist within the scope of a single SQL statement. They offer a way to break down complex queries into smaller, more manageable parts. CTEs can be thought of as temporary views that are defined within a specific query and can be referenced multiple times within that query.\n",
        "\n",
        "In this chapter, we will explore the concepts of Views and CTEs in SQLite using a real-world dataset related to music. We will be working with data from Rollingstone and Spotify, focusing on albums that appeared in any version of Rollingstone's greatest albums of all time list. (This is a greatly expanded version of the data we introduced in the previous chapter). Through practical examples and step-by-step explanations, you will learn how to create and utilize Views and CTEs to effectively present, aggregate, and secure your data.\n",
        "\n",
        "Whether you are a beginner or an experienced SQLite user, understanding Views and CTEs is crucial for building efficient and maintainable database solutions. By the end of this chapter, you will have a solid grasp of these concepts and be able to apply them in your own projects. Let's dive in and unlock the power of Views and CTEs in SQLite!"
      ],
      "metadata": {
        "id": "xxueb3q7wFhK"
      }
    },
    {
      "cell_type": "code",
      "execution_count": 1,
      "metadata": {
        "id": "Tb0rvhHAzSBN"
      },
      "outputs": [],
      "source": [
        "!wget https://github.com/brendanpshea/database_sql/raw/main/data/rs_greatest_albums.db -q -nc\n",
        "%load_ext sql\n",
        "%sql sqlite:///rs_greatest_albums.db"
      ]
    },
    {
      "cell_type": "markdown",
      "source": [
        "## Data Dictionary for \"Rolling Stone's Greatest Albums DB.\"\n",
        "Before diving into views, it is good to get familiar with our data. Here's the **data dictionary** for our database. (Brendan's Note: I created this database manually, using Rollingstone's lists as a starting point, and then getting the other data from Spotify **Application Programming Interface (API)**.\n",
        "\n",
        "#### **Table: `artists`**\n",
        "\n",
        "This table contains information about the artists included in the RollingStone's greatest albums lists.\n",
        "\n",
        "| **Column Name** | **Data Type** | **Description** |\n",
        "| --- | --- | --- |\n",
        "| `artist_id` | STRING | Unique identifier for each artist. |\n",
        "| `Artist` | TEXT | Name of the artist. |\n",
        "| `followers` | INTEGER | Number of followers the artist has on Spotify. |\n",
        "| `genres` | TEXT | Comma-separated list of genres associated with the artist. |\n",
        "| `popularity` | INTEGER | Popularity score of the artist on Spotify, ranging from 0 to 100. |\n",
        "\n",
        "#### **Table: `albums`**\n",
        "\n",
        "This table contains information about the albums listed in RollingStone's greatest albums lists of various years.\n",
        "\n",
        "| **Column Name** | **Data Type** | **Description** |\n",
        "| --- | --- | --- |\n",
        "| `album_id` | STRING | Unique identifier for each album. |\n",
        "| `Album` | TEXT | Title of the album. |\n",
        "| `artist_id` | STRING | Unique identifier for the artist who created the album. |\n",
        "| `Year` | INTEGER | Year the album was released. |\n",
        "| `rank_2003` | INTEGER | Ranking of the album in RollingStone's 2003 list. |\n",
        "| `rank_2012` | INTEGER | Ranking of the album in RollingStone's 2012 list. |\n",
        "| `rank_2020` | INTEGER | Ranking of the album in RollingStone's 2020 list. |\n",
        "| `rank_2023` | INTEGER | Ranking of the album in RollingStone's 2023 list. |\n",
        "| **Foreign Key** |  | **FOREIGN KEY (`artist_id`) REFERENCES `artists`(`artist_id`)** |\n",
        "\n",
        "#### **Table: `tracks`**\n",
        "\n",
        "This table contains information about the tracks within the albums listed in the database.\n",
        "\n",
        "| **Column Name** | **Data Type** | **Description** |\n",
        "| --- | --- | --- |\n",
        "| `track_id` | STRING | Unique identifier for each track. |\n",
        "| `track_name` | TEXT | Name of the track. |\n",
        "| `album_id` | STRING | Unique identifier for the album that the track belongs to. |\n",
        "| `track_number` | INTEGER | The position of the track within the album. |\n",
        "| `duration_ms` | INTEGER | Duration of the track in milliseconds. |\n",
        "| **Foreign Key** |  | **FOREIGN KEY (`album_id`) REFERENCES `albums`(`album_id`)** |"
      ],
      "metadata": {
        "id": "qGLWN79z0zMl"
      }
    },
    {
      "cell_type": "markdown",
      "source": [
        "### Examining the \"Head\" of the Data\n",
        "Before trying to design our own queries, let's take a look at the **head** of the data (that is, the first few rows). We can do this using LIMIT."
      ],
      "metadata": {
        "id": "eqEkb8ityFCr"
      }
    },
    {
      "cell_type": "code",
      "source": [
        "%%sql\n",
        "SELECT * FROM artists LIMIT 5;"
      ],
      "metadata": {
        "colab": {
          "base_uri": "https://localhost:8080/",
          "height": 214
        },
        "id": "ilVmdgVY1kZv",
        "outputId": "4c590b6b-2820-4b00-de86-6d63b48edcf1"
      },
      "execution_count": 2,
      "outputs": [
        {
          "output_type": "stream",
          "name": "stdout",
          "text": [
            " * sqlite:///rs_greatest_albums.db\n",
            "Done.\n"
          ]
        },
        {
          "output_type": "execute_result",
          "data": {
            "text/plain": [
              "[('3koiLjNrgRTNbOwViDipeA', 'Gaye, Marvin', 5313182, \"['classic soul', 'motown', 'neo soul', 'northern soul', 'quiet storm', 'soul']\", 71),\n",
              " ('3oDbviiivRWhXwIE8hxkVV', 'Beach Boys', 4499081, \"['baroque pop', 'classic rock', 'folk rock', 'mellow gold', 'psychedelic rock', 'rock', 'singer-songwriter', 'sunshine pop']\", 71),\n",
              " ('5hW4L92KnC6dX9t7tYM4Ve', 'Mitchell, Joni', 1461857, \"['canadian singer-songwriter', 'folk', 'folk rock', 'singer-songwriter']\", 59),\n",
              " ('7guDJrEfX3qb6FEbdPA5qi', 'Wonder, Stevie', 6427524, \"['motown', 'soul']\", 73),\n",
              " ('3WrFJ7ztbogyGnTHbHJFl2', 'Beatles', 27469908, \"['british invasion', 'classic rock', 'merseybeat', 'psychedelic rock', 'rock']\", 82)]"
            ],
            "text/html": [
              "<table>\n",
              "    <thead>\n",
              "        <tr>\n",
              "            <th>artist_id</th>\n",
              "            <th>Artist</th>\n",
              "            <th>followers</th>\n",
              "            <th>genres</th>\n",
              "            <th>popularity</th>\n",
              "        </tr>\n",
              "    </thead>\n",
              "    <tbody>\n",
              "        <tr>\n",
              "            <td>3koiLjNrgRTNbOwViDipeA</td>\n",
              "            <td>Gaye, Marvin</td>\n",
              "            <td>5313182</td>\n",
              "            <td>[&#x27;classic soul&#x27;, &#x27;motown&#x27;, &#x27;neo soul&#x27;, &#x27;northern soul&#x27;, &#x27;quiet storm&#x27;, &#x27;soul&#x27;]</td>\n",
              "            <td>71</td>\n",
              "        </tr>\n",
              "        <tr>\n",
              "            <td>3oDbviiivRWhXwIE8hxkVV</td>\n",
              "            <td>Beach Boys</td>\n",
              "            <td>4499081</td>\n",
              "            <td>[&#x27;baroque pop&#x27;, &#x27;classic rock&#x27;, &#x27;folk rock&#x27;, &#x27;mellow gold&#x27;, &#x27;psychedelic rock&#x27;, &#x27;rock&#x27;, &#x27;singer-songwriter&#x27;, &#x27;sunshine pop&#x27;]</td>\n",
              "            <td>71</td>\n",
              "        </tr>\n",
              "        <tr>\n",
              "            <td>5hW4L92KnC6dX9t7tYM4Ve</td>\n",
              "            <td>Mitchell, Joni</td>\n",
              "            <td>1461857</td>\n",
              "            <td>[&#x27;canadian singer-songwriter&#x27;, &#x27;folk&#x27;, &#x27;folk rock&#x27;, &#x27;singer-songwriter&#x27;]</td>\n",
              "            <td>59</td>\n",
              "        </tr>\n",
              "        <tr>\n",
              "            <td>7guDJrEfX3qb6FEbdPA5qi</td>\n",
              "            <td>Wonder, Stevie</td>\n",
              "            <td>6427524</td>\n",
              "            <td>[&#x27;motown&#x27;, &#x27;soul&#x27;]</td>\n",
              "            <td>73</td>\n",
              "        </tr>\n",
              "        <tr>\n",
              "            <td>3WrFJ7ztbogyGnTHbHJFl2</td>\n",
              "            <td>Beatles</td>\n",
              "            <td>27469908</td>\n",
              "            <td>[&#x27;british invasion&#x27;, &#x27;classic rock&#x27;, &#x27;merseybeat&#x27;, &#x27;psychedelic rock&#x27;, &#x27;rock&#x27;]</td>\n",
              "            <td>82</td>\n",
              "        </tr>\n",
              "    </tbody>\n",
              "</table>"
            ]
          },
          "metadata": {},
          "execution_count": 2
        }
      ]
    },
    {
      "cell_type": "code",
      "source": [
        "%%sql\n",
        "SELECT * FROM albums LIMIT 5;"
      ],
      "metadata": {
        "colab": {
          "base_uri": "https://localhost:8080/",
          "height": 179
        },
        "id": "nbasl4suw4BH",
        "outputId": "2eaccc7c-8bfd-4df2-853a-665b88419afb"
      },
      "execution_count": 3,
      "outputs": [
        {
          "output_type": "stream",
          "name": "stdout",
          "text": [
            " * sqlite:///rs_greatest_albums.db\n",
            "Done.\n"
          ]
        },
        {
          "output_type": "execute_result",
          "data": {
            "text/plain": [
              "[('7qD9oSiS3xFJsw2oSV2akp', \"What's Going On\", '3koiLjNrgRTNbOwViDipeA', 1971, 6, 6, 1, 1),\n",
              " ('2CNEkSE8TADXRT2AzcEt1b', 'Pet Sounds', '3oDbviiivRWhXwIE8hxkVV', 1966, 2, 2, 2, 2),\n",
              " ('1vz94WpXDVYIEGja8cjFNa', 'Blue', '5hW4L92KnC6dX9t7tYM4Ve', 1971, 30, 30, 3, 3),\n",
              " ('6YUCc2RiXcEKS9ibuZxjt0', 'Songs in the Key of Life', '7guDJrEfX3qb6FEbdPA5qi', 1976, 57, 57, 4, 4),\n",
              " ('0ETFjACtuP2ADo6LFhL6HN', 'Abbey Road', '3WrFJ7ztbogyGnTHbHJFl2', 1969, 14, 14, 5, 5)]"
            ],
            "text/html": [
              "<table>\n",
              "    <thead>\n",
              "        <tr>\n",
              "            <th>album_id</th>\n",
              "            <th>Album</th>\n",
              "            <th>artist_id</th>\n",
              "            <th>Year</th>\n",
              "            <th>rank_2003</th>\n",
              "            <th>rank_2012</th>\n",
              "            <th>rank_2020</th>\n",
              "            <th>rank_2023</th>\n",
              "        </tr>\n",
              "    </thead>\n",
              "    <tbody>\n",
              "        <tr>\n",
              "            <td>7qD9oSiS3xFJsw2oSV2akp</td>\n",
              "            <td>What&#x27;s Going On</td>\n",
              "            <td>3koiLjNrgRTNbOwViDipeA</td>\n",
              "            <td>1971</td>\n",
              "            <td>6</td>\n",
              "            <td>6</td>\n",
              "            <td>1</td>\n",
              "            <td>1</td>\n",
              "        </tr>\n",
              "        <tr>\n",
              "            <td>2CNEkSE8TADXRT2AzcEt1b</td>\n",
              "            <td>Pet Sounds</td>\n",
              "            <td>3oDbviiivRWhXwIE8hxkVV</td>\n",
              "            <td>1966</td>\n",
              "            <td>2</td>\n",
              "            <td>2</td>\n",
              "            <td>2</td>\n",
              "            <td>2</td>\n",
              "        </tr>\n",
              "        <tr>\n",
              "            <td>1vz94WpXDVYIEGja8cjFNa</td>\n",
              "            <td>Blue</td>\n",
              "            <td>5hW4L92KnC6dX9t7tYM4Ve</td>\n",
              "            <td>1971</td>\n",
              "            <td>30</td>\n",
              "            <td>30</td>\n",
              "            <td>3</td>\n",
              "            <td>3</td>\n",
              "        </tr>\n",
              "        <tr>\n",
              "            <td>6YUCc2RiXcEKS9ibuZxjt0</td>\n",
              "            <td>Songs in the Key of Life</td>\n",
              "            <td>7guDJrEfX3qb6FEbdPA5qi</td>\n",
              "            <td>1976</td>\n",
              "            <td>57</td>\n",
              "            <td>57</td>\n",
              "            <td>4</td>\n",
              "            <td>4</td>\n",
              "        </tr>\n",
              "        <tr>\n",
              "            <td>0ETFjACtuP2ADo6LFhL6HN</td>\n",
              "            <td>Abbey Road</td>\n",
              "            <td>3WrFJ7ztbogyGnTHbHJFl2</td>\n",
              "            <td>1969</td>\n",
              "            <td>14</td>\n",
              "            <td>14</td>\n",
              "            <td>5</td>\n",
              "            <td>5</td>\n",
              "        </tr>\n",
              "    </tbody>\n",
              "</table>"
            ]
          },
          "metadata": {},
          "execution_count": 3
        }
      ]
    },
    {
      "cell_type": "code",
      "source": [
        "%%sql\n",
        "SELECT * FROM tracks LIMIT 5;"
      ],
      "metadata": {
        "colab": {
          "base_uri": "https://localhost:8080/",
          "height": 179
        },
        "id": "aQ4DTOH7w7JD",
        "outputId": "d72ed112-26e7-4587-cf3a-7b9e544ebde4"
      },
      "execution_count": 4,
      "outputs": [
        {
          "output_type": "stream",
          "name": "stdout",
          "text": [
            " * sqlite:///rs_greatest_albums.db\n",
            "Done.\n"
          ]
        },
        {
          "output_type": "execute_result",
          "data": {
            "text/plain": [
              "[('4cgLt753cDfsBAbpOcGnZi', \"What's Going On - Detroit Mix\", '7qD9oSiS3xFJsw2oSV2akp', 1, 247840),\n",
              " ('0lz97gXzH4DD822L62kLeK', \"What's Happening Brother - Detroit Mix\", '7qD9oSiS3xFJsw2oSV2akp', 2, 163146),\n",
              " ('0oQV9CKXruLbVUTn76eBnr', \"Flyin' High (In The Friendly Sky) - Detroit Mix\", '7qD9oSiS3xFJsw2oSV2akp', 3, 228693),\n",
              " ('3KAbXV1OSwthoke6BqR0y5', 'Save The Children - Detroit Mix', '7qD9oSiS3xFJsw2oSV2akp', 4, 241626),\n",
              " ('1J3WjiLbPAdW0mSBTxoHQF', 'God Is Love - Detroit Mix', '7qD9oSiS3xFJsw2oSV2akp', 5, 106733)]"
            ],
            "text/html": [
              "<table>\n",
              "    <thead>\n",
              "        <tr>\n",
              "            <th>track_id</th>\n",
              "            <th>track_name</th>\n",
              "            <th>album_id</th>\n",
              "            <th>track_number</th>\n",
              "            <th>duration_ms</th>\n",
              "        </tr>\n",
              "    </thead>\n",
              "    <tbody>\n",
              "        <tr>\n",
              "            <td>4cgLt753cDfsBAbpOcGnZi</td>\n",
              "            <td>What&#x27;s Going On - Detroit Mix</td>\n",
              "            <td>7qD9oSiS3xFJsw2oSV2akp</td>\n",
              "            <td>1</td>\n",
              "            <td>247840</td>\n",
              "        </tr>\n",
              "        <tr>\n",
              "            <td>0lz97gXzH4DD822L62kLeK</td>\n",
              "            <td>What&#x27;s Happening Brother - Detroit Mix</td>\n",
              "            <td>7qD9oSiS3xFJsw2oSV2akp</td>\n",
              "            <td>2</td>\n",
              "            <td>163146</td>\n",
              "        </tr>\n",
              "        <tr>\n",
              "            <td>0oQV9CKXruLbVUTn76eBnr</td>\n",
              "            <td>Flyin&#x27; High (In The Friendly Sky) - Detroit Mix</td>\n",
              "            <td>7qD9oSiS3xFJsw2oSV2akp</td>\n",
              "            <td>3</td>\n",
              "            <td>228693</td>\n",
              "        </tr>\n",
              "        <tr>\n",
              "            <td>3KAbXV1OSwthoke6BqR0y5</td>\n",
              "            <td>Save The Children - Detroit Mix</td>\n",
              "            <td>7qD9oSiS3xFJsw2oSV2akp</td>\n",
              "            <td>4</td>\n",
              "            <td>241626</td>\n",
              "        </tr>\n",
              "        <tr>\n",
              "            <td>1J3WjiLbPAdW0mSBTxoHQF</td>\n",
              "            <td>God Is Love - Detroit Mix</td>\n",
              "            <td>7qD9oSiS3xFJsw2oSV2akp</td>\n",
              "            <td>5</td>\n",
              "            <td>106733</td>\n",
              "        </tr>\n",
              "    </tbody>\n",
              "</table>"
            ]
          },
          "metadata": {},
          "execution_count": 4
        }
      ]
    },
    {
      "cell_type": "markdown",
      "source": [
        "You might notice a few things from this:\n",
        "\n",
        "-   The primary keys (`artist_id`, `album_id`, `track_id`) are strings rather than the more commonly used integers. Spotify likely uses string identifiers because they are **globally unique identifiers (GUIDs)** and can be generated independently across different systems or databases without the need for coordination or central allocation. This allows for better scalability and distributed data management. These sorts of keys are common in **distributed databases** that live on multiple computers, and have large numbers of concurrent users.\n",
        "-   The `genres` column in the `artists` table contains a list of genres associated with each artist. This indicates that an artist can belong to multiple genres, providing a more comprehensive categorization. The genres are stored as a comma-separated list within square brackets, resembling a JSON array format. This structure allows for efficient storage and parsing of multiple genres per artist. However, we'll need to be careful when writing SQL queries to access this.\n",
        "-  The `albums` table includes ranking columns (`rank_2003`, `rank_2012`, `rank_2020`, `rank_2023`) representing the album's position in Rollingstone's greatest albums lists for different years. The presence of multiple ranking columns suggests that the rankings have evolved over time, and the dataset captures these changes.\n",
        "- The `duration_ms` column in the `tracks` table stores the duration of each track in milliseconds. This level of granularity allows for precise analysis and calculations related to track lengths. However, it isn't very friendly to human readers. We'll create a view to fix this."
      ],
      "metadata": {
        "id": "4AC_QLMOySXw"
      }
    },
    {
      "cell_type": "markdown",
      "source": [
        "## What is a VIEW?\n",
        "\n",
        "In SQL, a **view** is a virtual table that is based on the result of a SELECT statement. It acts as a stored query that can be accessed and manipulated as if it were a regular table. Views provide a way to simplify complex queries, present data in a more readable format, and enhance data security by limiting access to specific columns or rows.\n",
        "\n",
        "The general syntax for creating a view in SQ is as follows:\n",
        "\n",
        "```sql\n",
        "CREATE [TEMP | TEMPORARY] VIEW [IF NOT EXISTS] view_name AS\n",
        "SELECT column1, column2, ...\n",
        "FROM table_name\n",
        "WHERE condition;\n",
        "```\n",
        "\n",
        "Let's break down the components of the CREATE VIEW statement:\n",
        "\n",
        "-   `TEMP` or `TEMPORARY`: These keywords are optional and are used to create a temporary view that exists only for the duration of the current session.\n",
        "-   `IF NOT EXISTS`: This clause is optional and prevents an error from occurring if a view with the same name already exists.\n",
        "-   `view_name`: This is the name you assign to the view. It follows the same naming conventions as tables.\n",
        "-   `AS`: This keyword precedes the SELECT statement that defines the view.\n",
        "-   `SELECT`: This is the query that retrieves the data for the view. It can include columns from one or more tables, along with any desired conditions, joins, or aggregations.\n",
        "\n",
        "Once a view is created, you can query it just like you would query a regular table. The view's result set is dynamically generated each time it is accessed, based on the underlying SELECT statement.\n",
        "\n",
        "Here's a simple example of creating a view:"
      ],
      "metadata": {
        "id": "IOSlQKvozwJh"
      }
    },
    {
      "cell_type": "code",
      "source": [
        "%%sql\n",
        "DROP VIEW IF EXISTS artist_info;\n",
        "\n",
        "CREATE VIEW album_info AS\n",
        "SELECT\n",
        "  Albums.album,\n",
        "  Albums.year,\n",
        "  Artist.artist\n",
        "FROM Albums\n",
        "  JOIN Artists ON Albums.artist_id = Artists.artist_id;"
      ],
      "metadata": {
        "colab": {
          "base_uri": "https://localhost:8080/"
        },
        "id": "DGRLKY3gzxCW",
        "outputId": "8f4bf5e4-62e8-47d9-bd1b-77ddbbee0d19"
      },
      "execution_count": 5,
      "outputs": [
        {
          "output_type": "stream",
          "name": "stdout",
          "text": [
            " * sqlite:///rs_greatest_albums.db\n",
            "Done.\n",
            "(sqlite3.OperationalError) table album_info already exists\n",
            "[SQL: CREATE VIEW album_info AS\n",
            "SELECT \n",
            "  Albums.album, \n",
            "  Albums.year, \n",
            "  Artist.artist\n",
            "FROM Albums\n",
            "  JOIN Artists ON Albums.artist_id = Artists.artist_id;]\n",
            "(Background on this error at: https://sqlalche.me/e/20/e3q8)\n"
          ]
        }
      ]
    },
    {
      "cell_type": "markdown",
      "source": [],
      "metadata": {
        "id": "jnF11t_vz98F"
      }
    },
    {
      "cell_type": "markdown",
      "source": [
        "In this example, we create a view named `album_info` that combines information from the `albums` and `artists` tables. The view includes the `Album` and `Year` columns from the `albums` table and the `Artist` column from the `artists` table. The tables are joined based on the `artist_id` foreign key relationship.\n",
        "\n",
        "Now, whenever we query the `album_info` view, it will return the result set as defined by the SELECT statement, providing a convenient way to access the combined album and artist information."
      ],
      "metadata": {
        "id": "7ab12SIhz-BJ"
      }
    },
    {
      "cell_type": "code",
      "source": [
        "%%sql\n",
        "SELECT * FROM album_info LIMIT 5;"
      ],
      "metadata": {
        "colab": {
          "base_uri": "https://localhost:8080/",
          "height": 179
        },
        "id": "x95T53gsz_D_",
        "outputId": "8777c6f1-2d21-4350-8012-d3dde0037f88"
      },
      "execution_count": 6,
      "outputs": [
        {
          "output_type": "stream",
          "name": "stdout",
          "text": [
            " * sqlite:///rs_greatest_albums.db\n",
            "Done.\n"
          ]
        },
        {
          "output_type": "execute_result",
          "data": {
            "text/plain": [
              "[(\"What's Going On\", 1971, 'Gaye, Marvin'),\n",
              " ('Pet Sounds', 1966, 'Beach Boys'),\n",
              " ('Blue', 1971, 'Mitchell, Joni'),\n",
              " ('Songs in the Key of Life', 1976, 'Wonder, Stevie'),\n",
              " ('Abbey Road', 1969, 'Beatles')]"
            ],
            "text/html": [
              "<table>\n",
              "    <thead>\n",
              "        <tr>\n",
              "            <th>Album</th>\n",
              "            <th>Year</th>\n",
              "            <th>Artist</th>\n",
              "        </tr>\n",
              "    </thead>\n",
              "    <tbody>\n",
              "        <tr>\n",
              "            <td>What&#x27;s Going On</td>\n",
              "            <td>1971</td>\n",
              "            <td>Gaye, Marvin</td>\n",
              "        </tr>\n",
              "        <tr>\n",
              "            <td>Pet Sounds</td>\n",
              "            <td>1966</td>\n",
              "            <td>Beach Boys</td>\n",
              "        </tr>\n",
              "        <tr>\n",
              "            <td>Blue</td>\n",
              "            <td>1971</td>\n",
              "            <td>Mitchell, Joni</td>\n",
              "        </tr>\n",
              "        <tr>\n",
              "            <td>Songs in the Key of Life</td>\n",
              "            <td>1976</td>\n",
              "            <td>Wonder, Stevie</td>\n",
              "        </tr>\n",
              "        <tr>\n",
              "            <td>Abbey Road</td>\n",
              "            <td>1969</td>\n",
              "            <td>Beatles</td>\n",
              "        </tr>\n",
              "    </tbody>\n",
              "</table>"
            ]
          },
          "metadata": {},
          "execution_count": 6
        }
      ]
    },
    {
      "cell_type": "markdown",
      "source": [
        "Views offer several benefits, such as:\n",
        "\n",
        "-   Simplifying complex queries by encapsulating them into a reusable entity.\n",
        "-   Providing a layer of abstraction and hiding the complexity of the underlying tables.\n",
        "-   Enhancing data security by restricting access to specific columns or rows.\n",
        "-   Enabling consistent and centralized data access across multiple queries or applications.\n",
        "\n",
        "In the following sections, we will explore various practical examples of using views in SQLite to present, aggregate, and secure data from the music dataset."
      ],
      "metadata": {
        "id": "rfQZeR-J0Hoc"
      }
    },
    {
      "cell_type": "markdown",
      "source": [
        "## Views for Presenting Data\n",
        "\n",
        "Views provide a powerful way to present data in a more user-friendly and meaningful manner. By creating views, you can customize the appearance of the data, combine information from multiple tables, and present it in a way that is easier to understand and interpret. Let's look at a few examples using the music dataset.\n",
        "\n",
        "### Greatest albums, 2023 version only\n",
        "\n",
        "Suppose you want to create a view that displays only the albums that appeared in the 2023 version of Rollingstone's greatest albums list. Here's how you can achieve that:"
      ],
      "metadata": {
        "id": "jqZoTtht1hp_"
      }
    },
    {
      "cell_type": "code",
      "source": [
        "%%sql\n",
        "DROP VIEW IF EXISTS greatest_albums_2023;\n",
        "\n",
        "CREATE VIEW greatest_albums_2023 AS\n",
        "SELECT\n",
        "  Albums.album,\n",
        "  Artists.artist,\n",
        "  Albums.year,\n",
        "  Albums.rank_2023\n",
        "FROM Albums\n",
        "JOIN Artists ON Albums.artist_id = artists.artist_id\n",
        "WHERE rank_2023 IS NOT NULL\n",
        "ORDER BY rank_2023;"
      ],
      "metadata": {
        "colab": {
          "base_uri": "https://localhost:8080/"
        },
        "id": "F9WhiNQ7zC33",
        "outputId": "141f7580-7188-4d31-a3af-6565012e8a97"
      },
      "execution_count": 7,
      "outputs": [
        {
          "output_type": "stream",
          "name": "stdout",
          "text": [
            " * sqlite:///rs_greatest_albums.db\n",
            "Done.\n",
            "Done.\n"
          ]
        },
        {
          "output_type": "execute_result",
          "data": {
            "text/plain": [
              "[]"
            ]
          },
          "metadata": {},
          "execution_count": 7
        }
      ]
    },
    {
      "cell_type": "markdown",
      "source": [
        "In this example, the `greatest_albums_2023` view retrieves the `Album`, `Artist`, `Year`, and `rank_2023` columns from the `albums` and `artists` tables. The tables are joined based on the `artist_id` foreign key relationship. The `WHERE` clause filters the results to include only the albums that have a non-null value in the `rank_2023` column. Finally, the `ORDER BY` clause sorts the albums based on their 2023 ranking.\n",
        "\n",
        "Now, you can query the `greatest_albums_2023` view to retrieve the list of albums from the 2023 version of Rollingstone's list:"
      ],
      "metadata": {
        "id": "YjB-xey11xod"
      }
    },
    {
      "cell_type": "code",
      "source": [
        "%%sql\n",
        "SELECT * FROM greatest_albums_2023 LIMIT 10;"
      ],
      "metadata": {
        "colab": {
          "base_uri": "https://localhost:8080/",
          "height": 284
        },
        "id": "qLKe8d7x6RHH",
        "outputId": "2151d7ff-2d7d-4c6a-c328-067139c9a815"
      },
      "execution_count": 8,
      "outputs": [
        {
          "output_type": "stream",
          "name": "stdout",
          "text": [
            " * sqlite:///rs_greatest_albums.db\n",
            "Done.\n"
          ]
        },
        {
          "output_type": "execute_result",
          "data": {
            "text/plain": [
              "[(\"What's Going On\", 'Gaye, Marvin', 1971, 1),\n",
              " ('Pet Sounds', 'Beach Boys', 1966, 2),\n",
              " ('Blue', 'Mitchell, Joni', 1971, 3),\n",
              " ('Songs in the Key of Life', 'Wonder, Stevie', 1976, 4),\n",
              " ('Abbey Road', 'Beatles', 1969, 5),\n",
              " ('Nevermind', 'Nirvana', 1991, 6),\n",
              " ('Rumours', 'Fleetwood Mac', 1977, 7),\n",
              " ('Purple Rain', 'Prince and the Revolution', 1984, 8),\n",
              " ('Blood on the Tracks', 'Dylan, Bob', 1975, 9),\n",
              " ('The Miseducation of Lauryn Hill', 'Hill, Lauryn', 1998, 10)]"
            ],
            "text/html": [
              "<table>\n",
              "    <thead>\n",
              "        <tr>\n",
              "            <th>Album</th>\n",
              "            <th>Artist</th>\n",
              "            <th>Year</th>\n",
              "            <th>rank_2023</th>\n",
              "        </tr>\n",
              "    </thead>\n",
              "    <tbody>\n",
              "        <tr>\n",
              "            <td>What&#x27;s Going On</td>\n",
              "            <td>Gaye, Marvin</td>\n",
              "            <td>1971</td>\n",
              "            <td>1</td>\n",
              "        </tr>\n",
              "        <tr>\n",
              "            <td>Pet Sounds</td>\n",
              "            <td>Beach Boys</td>\n",
              "            <td>1966</td>\n",
              "            <td>2</td>\n",
              "        </tr>\n",
              "        <tr>\n",
              "            <td>Blue</td>\n",
              "            <td>Mitchell, Joni</td>\n",
              "            <td>1971</td>\n",
              "            <td>3</td>\n",
              "        </tr>\n",
              "        <tr>\n",
              "            <td>Songs in the Key of Life</td>\n",
              "            <td>Wonder, Stevie</td>\n",
              "            <td>1976</td>\n",
              "            <td>4</td>\n",
              "        </tr>\n",
              "        <tr>\n",
              "            <td>Abbey Road</td>\n",
              "            <td>Beatles</td>\n",
              "            <td>1969</td>\n",
              "            <td>5</td>\n",
              "        </tr>\n",
              "        <tr>\n",
              "            <td>Nevermind</td>\n",
              "            <td>Nirvana</td>\n",
              "            <td>1991</td>\n",
              "            <td>6</td>\n",
              "        </tr>\n",
              "        <tr>\n",
              "            <td>Rumours</td>\n",
              "            <td>Fleetwood Mac</td>\n",
              "            <td>1977</td>\n",
              "            <td>7</td>\n",
              "        </tr>\n",
              "        <tr>\n",
              "            <td>Purple Rain</td>\n",
              "            <td>Prince and the Revolution</td>\n",
              "            <td>1984</td>\n",
              "            <td>8</td>\n",
              "        </tr>\n",
              "        <tr>\n",
              "            <td>Blood on the Tracks</td>\n",
              "            <td>Dylan, Bob</td>\n",
              "            <td>1975</td>\n",
              "            <td>9</td>\n",
              "        </tr>\n",
              "        <tr>\n",
              "            <td>The Miseducation of Lauryn Hill</td>\n",
              "            <td>Hill, Lauryn</td>\n",
              "            <td>1998</td>\n",
              "            <td>10</td>\n",
              "        </tr>\n",
              "    </tbody>\n",
              "</table>"
            ]
          },
          "metadata": {},
          "execution_count": 8
        }
      ]
    },
    {
      "cell_type": "markdown",
      "source": [
        "### Presenting track information with reading Minutes and Seconds\n",
        "\n",
        "Let's say you want to present the track information in a more readable format by converting the duration from milliseconds to minutes and seconds. Here's how you can create a view for that:"
      ],
      "metadata": {
        "id": "VEtD8Yj37CfO"
      }
    },
    {
      "cell_type": "code",
      "source": [
        "%%sql\n",
        "DROP VIEW IF EXISTS track_info;\n",
        "\n",
        "CREATE VIEW track_info AS\n",
        "SELECT\n",
        "  Tracks.track_name,\n",
        "  Albums.album,\n",
        "  Tracks.track_number,\n",
        "       PRINTF('%d:%02d', duration_ms / 1000 / 60, duration_ms / 1000 % 60) AS duration\n",
        "FROM Tracks\n",
        "  JOIN Albums ON Tracks.album_id = Albums.album_id;"
      ],
      "metadata": {
        "colab": {
          "base_uri": "https://localhost:8080/"
        },
        "id": "LOyqnXKf7D7b",
        "outputId": "cb5c2d62-0b4f-4f19-c685-550f5718854c"
      },
      "execution_count": 9,
      "outputs": [
        {
          "output_type": "stream",
          "name": "stdout",
          "text": [
            " * sqlite:///rs_greatest_albums.db\n",
            "Done.\n",
            "Done.\n"
          ]
        },
        {
          "output_type": "execute_result",
          "data": {
            "text/plain": [
              "[]"
            ]
          },
          "metadata": {},
          "execution_count": 9
        }
      ]
    },
    {
      "cell_type": "markdown",
      "source": [
        "In this view, the `track_info` retrieves the `track_name`, `album_id`, `track_number`, and `duration` columns from the `tracks` table. The `printf` function is used to format the `duration_ms` column into a string representation of minutes and seconds (MM:SS format). The `duration_ms` value is divided by 1000 to convert it from milliseconds to seconds, and then the minutes and seconds are extracted using integer division and modulo operations.\n",
        "\n",
        "You can now query the `track_info` view to retrieve the track information with the formatted duration:"
      ],
      "metadata": {
        "id": "muWpTEbV7PvW"
      }
    },
    {
      "cell_type": "code",
      "source": [
        "%%sql\n",
        "SELECT * FROM track_info LIMIT 5;"
      ],
      "metadata": {
        "colab": {
          "base_uri": "https://localhost:8080/",
          "height": 179
        },
        "id": "PSNqG7lK7UGk",
        "outputId": "ee18f14e-df42-4b0f-bda9-c13fa84b18ec"
      },
      "execution_count": 10,
      "outputs": [
        {
          "output_type": "stream",
          "name": "stdout",
          "text": [
            " * sqlite:///rs_greatest_albums.db\n",
            "Done.\n"
          ]
        },
        {
          "output_type": "execute_result",
          "data": {
            "text/plain": [
              "[(\"What's Going On - Detroit Mix\", \"What's Going On\", 1, '4:07'),\n",
              " (\"What's Happening Brother - Detroit Mix\", \"What's Going On\", 2, '2:43'),\n",
              " (\"Flyin' High (In The Friendly Sky) - Detroit Mix\", \"What's Going On\", 3, '3:48'),\n",
              " ('Save The Children - Detroit Mix', \"What's Going On\", 4, '4:01'),\n",
              " ('God Is Love - Detroit Mix', \"What's Going On\", 5, '1:46')]"
            ],
            "text/html": [
              "<table>\n",
              "    <thead>\n",
              "        <tr>\n",
              "            <th>track_name</th>\n",
              "            <th>Album</th>\n",
              "            <th>track_number</th>\n",
              "            <th>duration</th>\n",
              "        </tr>\n",
              "    </thead>\n",
              "    <tbody>\n",
              "        <tr>\n",
              "            <td>What&#x27;s Going On - Detroit Mix</td>\n",
              "            <td>What&#x27;s Going On</td>\n",
              "            <td>1</td>\n",
              "            <td>4:07</td>\n",
              "        </tr>\n",
              "        <tr>\n",
              "            <td>What&#x27;s Happening Brother - Detroit Mix</td>\n",
              "            <td>What&#x27;s Going On</td>\n",
              "            <td>2</td>\n",
              "            <td>2:43</td>\n",
              "        </tr>\n",
              "        <tr>\n",
              "            <td>Flyin&#x27; High (In The Friendly Sky) - Detroit Mix</td>\n",
              "            <td>What&#x27;s Going On</td>\n",
              "            <td>3</td>\n",
              "            <td>3:48</td>\n",
              "        </tr>\n",
              "        <tr>\n",
              "            <td>Save The Children - Detroit Mix</td>\n",
              "            <td>What&#x27;s Going On</td>\n",
              "            <td>4</td>\n",
              "            <td>4:01</td>\n",
              "        </tr>\n",
              "        <tr>\n",
              "            <td>God Is Love - Detroit Mix</td>\n",
              "            <td>What&#x27;s Going On</td>\n",
              "            <td>5</td>\n",
              "            <td>1:46</td>\n",
              "        </tr>\n",
              "    </tbody>\n",
              "</table>"
            ]
          },
          "metadata": {},
          "execution_count": 10
        }
      ]
    },
    {
      "cell_type": "markdown",
      "source": [
        "### Albums with biggest change from 2003 to 2023\n",
        "\n",
        "To identify the albums that had the biggest change in ranking from 2003 to 2023, you can create a view that calculates the difference between the rankings:"
      ],
      "metadata": {
        "id": "qnGgqkvo79--"
      }
    },
    {
      "cell_type": "code",
      "source": [
        "%%sql\n",
        "DROP VIEW IF EXISTS biggest_rank_change;\n",
        "\n",
        "CREATE VIEW biggest_rank_change AS\n",
        "SELECT\n",
        "  Albums.album,\n",
        "  Artists.artist,\n",
        "  Albums.year,\n",
        "  Albums.rank_2003,\n",
        "  Albums.rank_2023,\n",
        "       rank_2003 - rank_2023 AS rank_change\n",
        "FROM\n",
        "  Albums\n",
        "  JOIN Artists ON Albums.artist_id = Artists.artist_id\n",
        "WHERE\n",
        "  rank_2003 IS NOT NULL\n",
        "  AND rank_2023 IS NOT NULL\n",
        "ORDER BY ABS(rank_change) DESC\n",
        "LIMIT 10;"
      ],
      "metadata": {
        "colab": {
          "base_uri": "https://localhost:8080/"
        },
        "id": "e0_9YkfI8EM-",
        "outputId": "a3e21ee5-96e2-43c7-e1be-91536565dbc7"
      },
      "execution_count": 11,
      "outputs": [
        {
          "output_type": "stream",
          "name": "stdout",
          "text": [
            " * sqlite:///rs_greatest_albums.db\n",
            "Done.\n",
            "Done.\n"
          ]
        },
        {
          "output_type": "execute_result",
          "data": {
            "text/plain": [
              "[]"
            ]
          },
          "metadata": {},
          "execution_count": 11
        }
      ]
    },
    {
      "cell_type": "markdown",
      "source": [
        "In this view, the `biggest_rank_change` retrieves the `Album`, `Artist`, `rank_2003`, `rank_2023`, and `rank_change` columns. The `rank_change` column is calculated by subtracting the `rank_2023` from the `rank_2003`. The `WHERE` clause filters the results to include only albums that have non-null values for both `rank_2003` and `rank_2023`. The `ORDER BY` clause sorts the albums based on the absolute value of the `rank_change` in descending order. Finally, the `LIMIT` clause retrieves only the top 10 albums with the biggest rank change.\n",
        "\n",
        "You can query the `biggest_rank_change` view to see the albums with the most significant changes in ranking between 2003 and 2023:"
      ],
      "metadata": {
        "id": "RqWdXmP48jvo"
      }
    },
    {
      "cell_type": "code",
      "source": [
        "%%sql\n",
        "SELECT * FROM biggest_rank_change"
      ],
      "metadata": {
        "colab": {
          "base_uri": "https://localhost:8080/",
          "height": 284
        },
        "id": "dL3h_8Xb8zJB",
        "outputId": "55df8772-a317-462e-ce65-820e64c7e1c9"
      },
      "execution_count": 12,
      "outputs": [
        {
          "output_type": "stream",
          "name": "stdout",
          "text": [
            " * sqlite:///rs_greatest_albums.db\n",
            "Done.\n"
          ]
        },
        {
          "output_type": "execute_result",
          "data": {
            "text/plain": [
              "[('Voodoo', \"D'Angelo\", 2000, 480, 28, 452),\n",
              " ('Aquemini', 'OutKast', 1998, 500, 49, 451),\n",
              " ('The Blueprint', 'Jay-Z', 2001, 456, 50, 406),\n",
              " ('Kid A', 'Radiohead', 2000, 420, 20, 400),\n",
              " ('Enter the Wu_Tang: 36 Chambers', 'Wu Tang Clan', 1993, 382, 27, 355),\n",
              " ('Illmatic', 'Nas', 1994, 396, 44, 352),\n",
              " ('Live Through This', 'Hole', 1994, 458, 106, 352),\n",
              " ('Maggot Brain', 'Funkadelic', 1971, 478, 136, 342),\n",
              " ('The Score', 'Fugees', 1996, 469, 134, 335),\n",
              " ('Heart Like a Wheel', 'Ronstadt, Linda', 1975, 163, 490, -327)]"
            ],
            "text/html": [
              "<table>\n",
              "    <thead>\n",
              "        <tr>\n",
              "            <th>Album</th>\n",
              "            <th>Artist</th>\n",
              "            <th>Year</th>\n",
              "            <th>rank_2003</th>\n",
              "            <th>rank_2023</th>\n",
              "            <th>rank_change</th>\n",
              "        </tr>\n",
              "    </thead>\n",
              "    <tbody>\n",
              "        <tr>\n",
              "            <td>Voodoo</td>\n",
              "            <td>D&#x27;Angelo</td>\n",
              "            <td>2000</td>\n",
              "            <td>480</td>\n",
              "            <td>28</td>\n",
              "            <td>452</td>\n",
              "        </tr>\n",
              "        <tr>\n",
              "            <td>Aquemini</td>\n",
              "            <td>OutKast</td>\n",
              "            <td>1998</td>\n",
              "            <td>500</td>\n",
              "            <td>49</td>\n",
              "            <td>451</td>\n",
              "        </tr>\n",
              "        <tr>\n",
              "            <td>The Blueprint</td>\n",
              "            <td>Jay-Z</td>\n",
              "            <td>2001</td>\n",
              "            <td>456</td>\n",
              "            <td>50</td>\n",
              "            <td>406</td>\n",
              "        </tr>\n",
              "        <tr>\n",
              "            <td>Kid A</td>\n",
              "            <td>Radiohead</td>\n",
              "            <td>2000</td>\n",
              "            <td>420</td>\n",
              "            <td>20</td>\n",
              "            <td>400</td>\n",
              "        </tr>\n",
              "        <tr>\n",
              "            <td>Enter the Wu_Tang: 36 Chambers</td>\n",
              "            <td>Wu Tang Clan</td>\n",
              "            <td>1993</td>\n",
              "            <td>382</td>\n",
              "            <td>27</td>\n",
              "            <td>355</td>\n",
              "        </tr>\n",
              "        <tr>\n",
              "            <td>Illmatic</td>\n",
              "            <td>Nas</td>\n",
              "            <td>1994</td>\n",
              "            <td>396</td>\n",
              "            <td>44</td>\n",
              "            <td>352</td>\n",
              "        </tr>\n",
              "        <tr>\n",
              "            <td>Live Through This</td>\n",
              "            <td>Hole</td>\n",
              "            <td>1994</td>\n",
              "            <td>458</td>\n",
              "            <td>106</td>\n",
              "            <td>352</td>\n",
              "        </tr>\n",
              "        <tr>\n",
              "            <td>Maggot Brain</td>\n",
              "            <td>Funkadelic</td>\n",
              "            <td>1971</td>\n",
              "            <td>478</td>\n",
              "            <td>136</td>\n",
              "            <td>342</td>\n",
              "        </tr>\n",
              "        <tr>\n",
              "            <td>The Score</td>\n",
              "            <td>Fugees</td>\n",
              "            <td>1996</td>\n",
              "            <td>469</td>\n",
              "            <td>134</td>\n",
              "            <td>335</td>\n",
              "        </tr>\n",
              "        <tr>\n",
              "            <td>Heart Like a Wheel</td>\n",
              "            <td>Ronstadt, Linda</td>\n",
              "            <td>1975</td>\n",
              "            <td>163</td>\n",
              "            <td>490</td>\n",
              "            <td>-327</td>\n",
              "        </tr>\n",
              "    </tbody>\n",
              "</table>"
            ]
          },
          "metadata": {},
          "execution_count": 12
        }
      ]
    },
    {
      "cell_type": "markdown",
      "source": [
        "This view has some limitations (for example, it doesn't account for albums that fell out of the rankings altogether). However, it gives a good sense of how critics views have changed over time. For example, many of the albums the had the biggest increases in rank (by D'Angelo, Jay-Z, Radiohead, and Outkast) were still relatively \"new\" in 2003. However, looking back, it appears they have \"stood the test of time.\""
      ],
      "metadata": {
        "id": "pY6CcyUeABuV"
      }
    },
    {
      "cell_type": "markdown",
      "source": [
        "## Views for Aggregating Data\n",
        "\n",
        "In addition to presenting data in a more meaningful way, views can also be used to aggregate data and provide summarized information. Aggregation involves performing calculations or applying functions across multiple rows of data to derive summarized results. Let's explore a couple of examples of using views for data aggregation in our music database.\n",
        "\n",
        "### Artists with the Most Albums in the Database\n",
        "\n",
        "To find out which artists have the most albums in the database, we can create a view that counts the number of albums for each artist and orders the results by the album count in descending order. We'll also include their 2024 popularity (according to Spotify)."
      ],
      "metadata": {
        "id": "lzLggO2jB8uc"
      }
    },
    {
      "cell_type": "code",
      "source": [
        "%%sql\n",
        "DROP VIEW IF EXISTS artist_album_count;\n",
        "\n",
        "CREATE VIEW Artist_Album_Count AS\n",
        "SELECT\n",
        "  Ar.Artist,\n",
        "  COUNT(*) AS Album_Count,\n",
        "  Ar.popularity AS '2024_Popularity'\n",
        "FROM\n",
        "  Albums Al\n",
        "  JOIN Artists Ar ON Al.artist_id = Ar.artist_id\n",
        "GROUP BY Ar.Artist\n",
        "ORDER BY Album_Count DESC;"
      ],
      "metadata": {
        "colab": {
          "base_uri": "https://localhost:8080/"
        },
        "id": "Jh4qFSxGCADN",
        "outputId": "37983b24-b460-4343-ab83-ab3baaca63f0"
      },
      "execution_count": 13,
      "outputs": [
        {
          "output_type": "stream",
          "name": "stdout",
          "text": [
            " * sqlite:///rs_greatest_albums.db\n",
            "Done.\n",
            "Done.\n"
          ]
        },
        {
          "output_type": "execute_result",
          "data": {
            "text/plain": [
              "[]"
            ]
          },
          "metadata": {},
          "execution_count": 13
        }
      ]
    },
    {
      "cell_type": "markdown",
      "source": [
        "1.  The view is named `Artist_Album_Count` and selects two columns: `Ar.Artist` (the artist name) and `COUNT(*)` (the count of albums for each artist).\n",
        "2.  The `FROM` clause specifies the `Albums` table as the main table and joins it with the `Artists` table using the `artist_id` foreign key relationship.\n",
        "3.  The `GROUP BY` clause groups the results by `Ar.Artist`, so that the `COUNT(*)` function calculates the number of albums for each unique artist.\n",
        "4.  The `ORDER BY` clause sorts the results based on the `Album_Count` column in descending order, so artists with the most albums appear at the top.\n",
        "\n",
        "To retrieve the results, you can simply query the `Artist_Album_Count` view:"
      ],
      "metadata": {
        "id": "eI38UN4rCalH"
      }
    },
    {
      "cell_type": "code",
      "source": [
        "%%sql\n",
        "SELECT * FROM Artist_Album_Count LIMIT 10;"
      ],
      "metadata": {
        "colab": {
          "base_uri": "https://localhost:8080/",
          "height": 284
        },
        "id": "w3b0RL-aCbNv",
        "outputId": "80ffcf61-273d-40a7-c078-82858d468b32"
      },
      "execution_count": 14,
      "outputs": [
        {
          "output_type": "stream",
          "name": "stdout",
          "text": [
            " * sqlite:///rs_greatest_albums.db\n",
            "Done.\n"
          ]
        },
        {
          "output_type": "execute_result",
          "data": {
            "text/plain": [
              "[('Dylan, Bob', 11, 69),\n",
              " ('Rolling Stones', 10, 77),\n",
              " ('Beatles', 10, 82),\n",
              " ('Springsteen, Bruce', 9, 75),\n",
              " ('Who, The', 7, 65),\n",
              " ('Bowie, David', 7, 75),\n",
              " ('West, Kanye', 6, 90),\n",
              " ('Marley, Bob', 6, 80),\n",
              " ('John, Elton', 6, 81),\n",
              " ('Young, Neil', 5, 67)]"
            ],
            "text/html": [
              "<table>\n",
              "    <thead>\n",
              "        <tr>\n",
              "            <th>Artist</th>\n",
              "            <th>Album_Count</th>\n",
              "            <th>2024_Popularity</th>\n",
              "        </tr>\n",
              "    </thead>\n",
              "    <tbody>\n",
              "        <tr>\n",
              "            <td>Dylan, Bob</td>\n",
              "            <td>11</td>\n",
              "            <td>69</td>\n",
              "        </tr>\n",
              "        <tr>\n",
              "            <td>Rolling Stones</td>\n",
              "            <td>10</td>\n",
              "            <td>77</td>\n",
              "        </tr>\n",
              "        <tr>\n",
              "            <td>Beatles</td>\n",
              "            <td>10</td>\n",
              "            <td>82</td>\n",
              "        </tr>\n",
              "        <tr>\n",
              "            <td>Springsteen, Bruce</td>\n",
              "            <td>9</td>\n",
              "            <td>75</td>\n",
              "        </tr>\n",
              "        <tr>\n",
              "            <td>Who, The</td>\n",
              "            <td>7</td>\n",
              "            <td>65</td>\n",
              "        </tr>\n",
              "        <tr>\n",
              "            <td>Bowie, David</td>\n",
              "            <td>7</td>\n",
              "            <td>75</td>\n",
              "        </tr>\n",
              "        <tr>\n",
              "            <td>West, Kanye</td>\n",
              "            <td>6</td>\n",
              "            <td>90</td>\n",
              "        </tr>\n",
              "        <tr>\n",
              "            <td>Marley, Bob</td>\n",
              "            <td>6</td>\n",
              "            <td>80</td>\n",
              "        </tr>\n",
              "        <tr>\n",
              "            <td>John, Elton</td>\n",
              "            <td>6</td>\n",
              "            <td>81</td>\n",
              "        </tr>\n",
              "        <tr>\n",
              "            <td>Young, Neil</td>\n",
              "            <td>5</td>\n",
              "            <td>67</td>\n",
              "        </tr>\n",
              "    </tbody>\n",
              "</table>"
            ]
          },
          "metadata": {},
          "execution_count": 14
        }
      ]
    },
    {
      "cell_type": "markdown",
      "source": [
        "### Average Song Length by Artists\n",
        "We can also create an average song length by artist, to see which artists have the longest (or shortest songs). For example, let's create a view that sorts by longest song length"
      ],
      "metadata": {
        "id": "Hm1Z46meCoFc"
      }
    },
    {
      "cell_type": "code",
      "source": [
        "%%sql\n",
        "DROP VIEW IF EXISTS Average_Song_Length;\n",
        "\n",
        "CREATE VIEW Average_Song_Length AS\n",
        "SELECT\n",
        "  Artists.artist,\n",
        "  -- Average song length minutes\n",
        "  ROUND(AVG(Tracks.duration_ms) / 60000,2) AS avg_song_length,\n",
        "  COUNT(Tracks.track_id) AS num_songs\n",
        "FROM\n",
        "  Tracks\n",
        "  JOIN Albums ON Tracks.album_id = Albums.album_id\n",
        "  JOIN Artists ON Albums.artist_id = Artists.artist_id\n",
        "GROUP BY Artists.artist\n",
        "HAVING num_songs > 5\n",
        "ORDER BY avg_song_length DESC;"
      ],
      "metadata": {
        "colab": {
          "base_uri": "https://localhost:8080/"
        },
        "id": "kRt95Q7BBKmu",
        "outputId": "b6d897a8-12af-45e3-bba9-49ce98ab0bce"
      },
      "execution_count": 26,
      "outputs": [
        {
          "output_type": "stream",
          "name": "stdout",
          "text": [
            " * sqlite:///rs_greatest_albums.db\n",
            "Done.\n",
            "Done.\n"
          ]
        },
        {
          "output_type": "execute_result",
          "data": {
            "text/plain": [
              "[]"
            ]
          },
          "metadata": {},
          "execution_count": 26
        }
      ]
    },
    {
      "cell_type": "markdown",
      "source": [
        "This SQL query creates a view named `Average_Song_Length` that calculates the average song length in minutes and the number of songs for each artist in the database. The view performs the following steps:\n",
        "\n",
        "1.  It joins the `Tracks`, `Albums`, and `Artists` tables based on their respective foreign key relationships (`album_id` and `artist_id`).\n",
        "2.  It calculates the average song length for each artist by dividing the `duration_ms` column from the `Tracks` table by 60000 (to convert milliseconds to minutes) and rounds the result to 2 decimal places using the `ROUND` function. The result is aliased as `avg_song_length`.\n",
        "3.  It counts the number of songs for each artist using the `COUNT` function on the `track_id` column from the `Tracks` table. The result is aliased as `num_songs`.\n",
        "4.  It groups the results by the `artist` column from the `Artists` table using the `GROUP BY` clause.\n",
        "5.  It filters the grouped results using the `HAVING` clause to include only artists with more than 5 songs in the database.\n",
        "6.  It orders the results by the `avg_song_length` column in descending order using the `ORDER BY` clause.\n",
        "\n",
        "We can now see the results of this view as follows:"
      ],
      "metadata": {
        "id": "uofKA5W7ckf4"
      }
    },
    {
      "cell_type": "code",
      "source": [
        "%%sql\n",
        "SELECT * FROM Average_Song_Length LIMIT 5;"
      ],
      "metadata": {
        "colab": {
          "base_uri": "https://localhost:8080/",
          "height": 179
        },
        "id": "FweGOIy5clWc",
        "outputId": "3bcd2794-c522-4846-f06d-9804e563e661"
      },
      "execution_count": 27,
      "outputs": [
        {
          "output_type": "stream",
          "name": "stdout",
          "text": [
            " * sqlite:///rs_greatest_albums.db\n",
            "Done.\n"
          ]
        },
        {
          "output_type": "execute_result",
          "data": {
            "text/plain": [
              "[('Allman Brothers Band', 11.24, 7),\n",
              " ('Yes', 9.26, 7),\n",
              " ('Davis, Miles', 7.58, 45),\n",
              " ('War', 7.34, 6),\n",
              " ('King Sunny Ade', 7.15, 10)]"
            ],
            "text/html": [
              "<table>\n",
              "    <thead>\n",
              "        <tr>\n",
              "            <th>Artist</th>\n",
              "            <th>avg_song_length</th>\n",
              "            <th>num_songs</th>\n",
              "        </tr>\n",
              "    </thead>\n",
              "    <tbody>\n",
              "        <tr>\n",
              "            <td>Allman Brothers Band</td>\n",
              "            <td>11.24</td>\n",
              "            <td>7</td>\n",
              "        </tr>\n",
              "        <tr>\n",
              "            <td>Yes</td>\n",
              "            <td>9.26</td>\n",
              "            <td>7</td>\n",
              "        </tr>\n",
              "        <tr>\n",
              "            <td>Davis, Miles</td>\n",
              "            <td>7.58</td>\n",
              "            <td>45</td>\n",
              "        </tr>\n",
              "        <tr>\n",
              "            <td>War</td>\n",
              "            <td>7.34</td>\n",
              "            <td>6</td>\n",
              "        </tr>\n",
              "        <tr>\n",
              "            <td>King Sunny Ade</td>\n",
              "            <td>7.15</td>\n",
              "            <td>10</td>\n",
              "        </tr>\n",
              "    </tbody>\n",
              "</table>"
            ]
          },
          "metadata": {},
          "execution_count": 27
        }
      ]
    },
    {
      "cell_type": "markdown",
      "source": [
        "## Views for Securing Data\n",
        "\n",
        "Views can be used as a security mechanism to control access to sensitive data in a database, particularly **Personally Identifiable Information (PII)**. PII refers to any data that can be used to identify a specific individual, either directly or indirectly. Examples of PII include names, email addresses, phone numbers, Social Security Numbers (SSNs), financial account numbers, and more.\n",
        "\n",
        "Protecting PII is crucial for several reasons:\n",
        "\n",
        "1. Many countries have laws and regulations, such as GDPR or HIPAA, that mandate the protection of PII. Failing to comply with these regulations can result in significant fines and legal consequences.\n",
        "2.  Safeguarding individuals' personal information is an ethical responsibility. Mishandling or unauthorized disclosure of PII can lead to identity theft, financial fraud, or other harmful consequences for the affected individuals.\n",
        "3.  Protecting PII helps maintain customer trust and preserves the reputation of the organization. Data breaches or misuse of PII can damage a company's brand and result in loss of customer confidence.\n",
        "\n",
        "By creating views that expose only specific columns or rows from underlying tables, you can restrict users' access to the PII they are authorized to see, maintaining data privacy and security.\n",
        "\n",
        "Let's consider an example scenario where we have a table containing sensitive information about musicians, including their PII.\n",
        "\n",
        "### Fake Data Table - Musician Info\n",
        "\n",
        "First, let's create a fake data table called `Musician_Info` that includes PII:"
      ],
      "metadata": {
        "id": "emUM27eUd_2t"
      }
    },
    {
      "cell_type": "code",
      "source": [
        "%%sql\n",
        "DROP TABLE IF EXISTS Musician_Info;\n",
        "CREATE TABLE Musician_Info (\n",
        "  musician_id INTEGER PRIMARY KEY,\n",
        "  name TEXT,\n",
        "  email TEXT,\n",
        "  phone TEXT,\n",
        "  address TEXT,\n",
        "  ssn TEXT,\n",
        "  bank_account TEXT\n",
        ");\n",
        "\n",
        "INSERT INTO Musician_Info (name, email, phone, address, ssn, bank_account)\n",
        "VALUES\n",
        "  ('Freddie Mercurious', 'freddie@queen.com', '123-456-7890',\n",
        "    '1 Bohemian Rhapsody Lane', '123-45-6789', '1234567890'),\n",
        "  ('Elton Johnsmith', 'elton@rocketman.com', '987-654-3210',\n",
        "    '42 Yellow Brick Road', '987-65-4321', '9876543210');\n",
        "\n",
        "SELECT * FROM Musician_Info;"
      ],
      "metadata": {
        "colab": {
          "base_uri": "https://localhost:8080/",
          "height": 168
        },
        "id": "V481lBBeeAfG",
        "outputId": "06da90b6-e6ba-4e0b-eaac-bab90e2461cb"
      },
      "execution_count": 33,
      "outputs": [
        {
          "output_type": "stream",
          "name": "stdout",
          "text": [
            " * sqlite:///rs_greatest_albums.db\n",
            "Done.\n",
            "Done.\n",
            "2 rows affected.\n",
            "Done.\n"
          ]
        },
        {
          "output_type": "execute_result",
          "data": {
            "text/plain": [
              "[(1, 'Freddie Mercurious', 'freddie@queen.com', '123-456-7890', '1 Bohemian Rhapsody Lane', '123-45-6789', '1234567890'),\n",
              " (2, 'Elton Johnsmith', 'elton@rocketman.com', '987-654-3210', '42 Yellow Brick Road', '987-65-4321', '9876543210')]"
            ],
            "text/html": [
              "<table>\n",
              "    <thead>\n",
              "        <tr>\n",
              "            <th>musician_id</th>\n",
              "            <th>name</th>\n",
              "            <th>email</th>\n",
              "            <th>phone</th>\n",
              "            <th>address</th>\n",
              "            <th>ssn</th>\n",
              "            <th>bank_account</th>\n",
              "        </tr>\n",
              "    </thead>\n",
              "    <tbody>\n",
              "        <tr>\n",
              "            <td>1</td>\n",
              "            <td>Freddie Mercurious</td>\n",
              "            <td>freddie@queen.com</td>\n",
              "            <td>123-456-7890</td>\n",
              "            <td>1 Bohemian Rhapsody Lane</td>\n",
              "            <td>123-45-6789</td>\n",
              "            <td>1234567890</td>\n",
              "        </tr>\n",
              "        <tr>\n",
              "            <td>2</td>\n",
              "            <td>Elton Johnsmith</td>\n",
              "            <td>elton@rocketman.com</td>\n",
              "            <td>987-654-3210</td>\n",
              "            <td>42 Yellow Brick Road</td>\n",
              "            <td>987-65-4321</td>\n",
              "            <td>9876543210</td>\n",
              "        </tr>\n",
              "    </tbody>\n",
              "</table>"
            ]
          },
          "metadata": {},
          "execution_count": 33
        }
      ]
    },
    {
      "cell_type": "markdown",
      "source": [
        "In this example, the `Musician_Info` table contains PII columns like `ssn` and `bank_account`, which should not be accessible to all users.\n",
        "\n",
        "### Creating Views to Selectively Hide PII\n",
        "\n",
        "To protect PII, we can create a view that exposes only the non-sensitive columns:"
      ],
      "metadata": {
        "id": "d_qXD2O4eHWL"
      }
    },
    {
      "cell_type": "code",
      "source": [
        "%%sql\n",
        "CREATE VIEW Musician_Public_Info AS\n",
        "SELECT musician_id, name, email, phone, address\n",
        "FROM Musician_Info;"
      ],
      "metadata": {
        "colab": {
          "base_uri": "https://localhost:8080/"
        },
        "id": "LXDkylwAeGoY",
        "outputId": "74973178-0d47-4d51-89a4-5f2719d212b8"
      },
      "execution_count": 31,
      "outputs": [
        {
          "output_type": "stream",
          "name": "stdout",
          "text": [
            " * sqlite:///rs_greatest_albums.db\n",
            "Done.\n"
          ]
        },
        {
          "output_type": "execute_result",
          "data": {
            "text/plain": [
              "[]"
            ]
          },
          "metadata": {},
          "execution_count": 31
        }
      ]
    },
    {
      "cell_type": "markdown",
      "source": [
        "The `Musician_Public_Info` view selects only the `musician_id`, `name`, `email`, `phone`, and `address` columns from the `Musician_Info` table, excluding the sensitive PII columns `ssn` and `bank_account`.\n",
        "\n",
        "Now, instead of granting access to the entire `Musician_Info` table, you can grant users access to only the `Musician_Public_Info` view. This way, users can retrieve the public information about musicians without being able to see the PII."
      ],
      "metadata": {
        "id": "hhCjh6xPeaqr"
      }
    },
    {
      "cell_type": "code",
      "source": [
        "%%sql\n",
        "SELECT * FROM Musician_Public_Info;"
      ],
      "metadata": {
        "colab": {
          "base_uri": "https://localhost:8080/",
          "height": 116
        },
        "id": "pM_n86Iaebb5",
        "outputId": "a84498f2-82fa-473b-83f1-c416a54e5805"
      },
      "execution_count": 32,
      "outputs": [
        {
          "output_type": "stream",
          "name": "stdout",
          "text": [
            " * sqlite:///rs_greatest_albums.db\n",
            "Done.\n"
          ]
        },
        {
          "output_type": "execute_result",
          "data": {
            "text/plain": [
              "[(1, 'Freddie Mercurious', 'freddie@queen.com', '123-456-7890', '1 Bohemian Rhapsody Lane'),\n",
              " (2, 'Elton Johnsmith', 'elton@rocketman.com', '987-654-3210', '42 Yellow Brick Road')]"
            ],
            "text/html": [
              "<table>\n",
              "    <thead>\n",
              "        <tr>\n",
              "            <th>musician_id</th>\n",
              "            <th>name</th>\n",
              "            <th>email</th>\n",
              "            <th>phone</th>\n",
              "            <th>address</th>\n",
              "        </tr>\n",
              "    </thead>\n",
              "    <tbody>\n",
              "        <tr>\n",
              "            <td>1</td>\n",
              "            <td>Freddie Mercurious</td>\n",
              "            <td>freddie@queen.com</td>\n",
              "            <td>123-456-7890</td>\n",
              "            <td>1 Bohemian Rhapsody Lane</td>\n",
              "        </tr>\n",
              "        <tr>\n",
              "            <td>2</td>\n",
              "            <td>Elton Johnsmith</td>\n",
              "            <td>elton@rocketman.com</td>\n",
              "            <td>987-654-3210</td>\n",
              "            <td>42 Yellow Brick Road</td>\n",
              "        </tr>\n",
              "    </tbody>\n",
              "</table>"
            ]
          },
          "metadata": {},
          "execution_count": 32
        }
      ]
    },
    {
      "cell_type": "markdown",
      "source": [
        "The query above will return only the non-sensitive columns defined in the view."
      ],
      "metadata": {
        "id": "2r2UJpKAeySr"
      }
    },
    {
      "cell_type": "markdown",
      "source": [
        "## Types of Views and When to Use Them\n",
        "\n",
        "SQL supports three types of views: default views, temporary views, and materialized views. Each type of view serves a different purpose and has specific use cases. Let's explore each type and understand when to use them.\n",
        "\n",
        "### Default Views\n",
        "\n",
        "Default views, also known as simple views or regular views, are the most common type of views in SQLite. They are created using the `CREATE VIEW` statement and are stored in the database schema alongside tables. Default views are dynamically updated whenever the underlying tables are modified.\n",
        "\n",
        "```sql\n",
        "CREATE VIEW view_name AS\n",
        "SELECT column1, column2, ...\n",
        "FROM table_name\n",
        "WHERE condition;\n",
        "```\n",
        "\n",
        "Example use case: Suppose you have a music streaming application that allows users to browse and listen to songs. You can create a default view called `Song_Info` that combines relevant information from the `Songs`, `Albums`, and `Artists` tables. This view would provide a simplified and user-friendly interface for querying song details without exposing the underlying table structure.\n",
        "\n",
        "### Temporary Views\n",
        "\n",
        "Temporary views, also known as ephemeral views, are created using the `CREATE TEMPORARY VIEW` statement. They are stored in a separate temporary database and are automatically dropped when the database connection is closed. Temporary views are not persisted in the main database schema and are not visible to other database connections.\n",
        "\n",
        "```sql\n",
        "CREATE TEMPORARY VIEW view_name AS\n",
        "SELECT column1, column2, ...\n",
        "FROM table_name\n",
        "WHERE condition;\n",
        "```\n",
        "\n",
        "Example use case: Imagine you are building a reporting dashboard for a (one-time) music festival. You need to generate various reports based on ticket sales data, but you don't want to modify the original tables. You can create temporary views to perform complex calculations and transformations on the ticket sales data specific to each report. These temporary views will be isolated and won't affect other parts of the application, or be storied after the music festival is finished.\n",
        "\n",
        "### Materialized Views\n",
        "\n",
        "Materialized views are a special type of views that store the result of a query in a separate table. Unlike default views, which are dynamically updated, materialized views are refreshed manually or on a scheduled basis. They provide a snapshot of the data at a specific point in time and can improve query performance by avoiding the need to recompute complex queries each time they are accessed.\n",
        "\n",
        "```sql\n",
        "-- doesn't work in SQLite!\n",
        "CREATE MATERIALIZED VIEW view_name AS\n",
        "SELECT column1, column2, ...\n",
        "FROM table_name\n",
        "WHERE condition;\n",
        "\n",
        "-- Refresh the materialized view\n",
        "REFRESH MATERIALIZED VIEW view_name;\n",
        "```\n",
        "\n",
        "Example use case: Consider a music analytics platform that generates reports on artist popularity based on streaming data. The platform needs to perform complex aggregations and calculations on a large dataset of streaming logs. To improve query performance, you can create a materialized view that pre-computes the popularity metrics for each artist. The materialized view can be refreshed periodically (e.g., daily or weekly) to update the metrics without recomputing the entire dataset each time.\n",
        "\n",
        "It's important to note that SQLite does not have built-in support for materialized views. *Instead, you would simply need to create another table and \"copy\" in the data). However, this is supported by most \"enterprise-scale\" DBMSs, including Postgres, MySQL, Oracle, and SQL Server.\n",
        "\n",
        "When deciding which type of view to use, consider factors such as the complexity of the query, the frequency of data updates, the performance requirements, and the specific needs of your application. Default views are suitable for most common scenarios, while temporary views are useful for session-specific data isolation. Materialized views, although not natively supported in SQLite, can be simulated to improve query performance for complex and resource-intensive queries."
      ],
      "metadata": {
        "id": "1P0uNMIvhbDY"
      }
    },
    {
      "cell_type": "markdown",
      "source": [
        "## Modifying Data in Views\n",
        "\n",
        "In SQLite, views are read-only by default. This means that you cannot directly perform `INSERT`, `UPDATE`, or `DELETE` operations on a view. Views are essentially stored queries that retrieve data from one or more tables, and they do not store data themselves. However, you can drop views using the `DROP VIEW` statement.\n",
        "\n",
        "The reason why views are read-only is that they may not always contain all the necessary information required to modify the underlying tables. Views can be created based on complex queries that involve joins, aggregations, or calculations, making it ambiguous or impossible to determine how to propagate the changes back to the original tables.\n",
        "\n",
        "However, in certain cases, you can overcome this limitation by using triggers. Triggers are special database objects that automatically execute a set of actions in response to specific events, such as `INSERT`, `UPDATE`, or `DELETE` operations on a table.\n",
        "\n",
        "Let's consider the `Musician_Public_Info` view example from the previous section:\n",
        "\n",
        "```sql\n",
        "CREATE VIEW Musician_Public_Info AS\n",
        "SELECT musician_id, name, email, phone, address\n",
        "FROM Musician_Info;\n",
        "```\n",
        "\n",
        "To allow modifications to the `Musician_Public_Info` view, you can create triggers on the underlying `Musician_Info` table. These triggers will intercept the `INSERT`, `UPDATE`, or `DELETE` operations on the view and redirect them to the corresponding table.\n",
        "\n",
        "Here's an example of how you can create a trigger  to enable an INSERT modifications on the `Musician_Public_Info` view:"
      ],
      "metadata": {
        "id": "UYEu_PckiM-E"
      }
    },
    {
      "cell_type": "code",
      "source": [
        "%%sql\n",
        "DROP TRIGGER IF EXISTS Insert_Musician_Public_Info;\n",
        "\n",
        "-- Initially, this statement won't work\n",
        "INSERT INTO Musician_Public_Info (name, email, phone, address)\n",
        "VALUES ('Taylor Drift', 'taylor@example.com', '123-456-7890', '456 Elm St');\n"
      ],
      "metadata": {
        "colab": {
          "base_uri": "https://localhost:8080/"
        },
        "id": "5tA0I4J-jO2S",
        "outputId": "56b55d87-e067-42e0-ec0c-057c2e15847d"
      },
      "execution_count": 38,
      "outputs": [
        {
          "output_type": "stream",
          "name": "stdout",
          "text": [
            " * sqlite:///rs_greatest_albums.db\n",
            "Done.\n",
            "(sqlite3.OperationalError) cannot modify Musician_Public_Info because it is a view\n",
            "[SQL: INSERT INTO Musician_Public_Info (name, email, phone, address)\n",
            "VALUES ('Taylor Drift', 'taylor@example.com', '123-456-7890', '456 Elm St');]\n",
            "(Background on this error at: https://sqlalche.me/e/20/e3q8)\n"
          ]
        }
      ]
    },
    {
      "cell_type": "code",
      "source": [
        "%%sql\n",
        "DROP TRIGGER IF EXISTS Insert_Musician_Public_Info;\n",
        "\n",
        "-- Trigger for INSERT operation\n",
        "CREATE TRIGGER Insert_Musician_Public_Info\n",
        "INSTEAD OF INSERT ON Musician_Public_Info\n",
        "FOR EACH ROW\n",
        "BEGIN\n",
        "    INSERT INTO Musician_Info (musician_id, name, email, phone, address)\n",
        "    VALUES (NEW.musician_id, NEW.name, NEW.email, NEW.phone, NEW.address);\n",
        "END;\n"
      ],
      "metadata": {
        "colab": {
          "base_uri": "https://localhost:8080/"
        },
        "id": "5oAxb1W2iNrU",
        "outputId": "ddd07f55-7b04-4bf2-9ae5-7714b48751c8"
      },
      "execution_count": 36,
      "outputs": [
        {
          "output_type": "stream",
          "name": "stdout",
          "text": [
            " * sqlite:///rs_greatest_albums.db\n",
            "Done.\n",
            "Done.\n"
          ]
        },
        {
          "output_type": "execute_result",
          "data": {
            "text/plain": [
              "[]"
            ]
          },
          "metadata": {},
          "execution_count": 36
        }
      ]
    },
    {
      "cell_type": "markdown",
      "source": [
        "Now, we should be able to INSERT data into this table:"
      ],
      "metadata": {
        "id": "OP2LY4LQi6X6"
      }
    },
    {
      "cell_type": "code",
      "source": [
        "%%sql\n",
        "-- Insert a new musician into the view\n",
        "INSERT INTO Musician_Public_Info (name, email, phone, address)\n",
        "VALUES ('Taylor Drift', 'taylor@example.com', '123-456-7890', '456 Elm St');\n",
        "\n",
        "SELECT * FROM Musician_Public_Info;"
      ],
      "metadata": {
        "colab": {
          "base_uri": "https://localhost:8080/",
          "height": 154
        },
        "id": "yL_I3q4Ai_ex",
        "outputId": "75b14da1-9e4b-4f62-b7b6-9f06b6d6d535"
      },
      "execution_count": 37,
      "outputs": [
        {
          "output_type": "stream",
          "name": "stdout",
          "text": [
            " * sqlite:///rs_greatest_albums.db\n",
            "0 rows affected.\n",
            "Done.\n"
          ]
        },
        {
          "output_type": "execute_result",
          "data": {
            "text/plain": [
              "[(1, 'Freddie Mercurious', 'freddie@queen.com', '123-456-7890', '1 Bohemian Rhapsody Lane'),\n",
              " (2, 'Elton Johnsmith', 'elton@rocketman.com', '987-654-3210', '42 Yellow Brick Road'),\n",
              " (3, 'Taylor Drift', 'taylor@example.com', '123-456-7890', '456 Elm St')]"
            ],
            "text/html": [
              "<table>\n",
              "    <thead>\n",
              "        <tr>\n",
              "            <th>musician_id</th>\n",
              "            <th>name</th>\n",
              "            <th>email</th>\n",
              "            <th>phone</th>\n",
              "            <th>address</th>\n",
              "        </tr>\n",
              "    </thead>\n",
              "    <tbody>\n",
              "        <tr>\n",
              "            <td>1</td>\n",
              "            <td>Freddie Mercurious</td>\n",
              "            <td>freddie@queen.com</td>\n",
              "            <td>123-456-7890</td>\n",
              "            <td>1 Bohemian Rhapsody Lane</td>\n",
              "        </tr>\n",
              "        <tr>\n",
              "            <td>2</td>\n",
              "            <td>Elton Johnsmith</td>\n",
              "            <td>elton@rocketman.com</td>\n",
              "            <td>987-654-3210</td>\n",
              "            <td>42 Yellow Brick Road</td>\n",
              "        </tr>\n",
              "        <tr>\n",
              "            <td>3</td>\n",
              "            <td>Taylor Drift</td>\n",
              "            <td>taylor@example.com</td>\n",
              "            <td>123-456-7890</td>\n",
              "            <td>456 Elm St</td>\n",
              "        </tr>\n",
              "    </tbody>\n",
              "</table>"
            ]
          },
          "metadata": {},
          "execution_count": 37
        }
      ]
    },
    {
      "cell_type": "markdown",
      "source": [
        "These operations will be intercepted by the respective triggers and applied to the `Musician_Info` table accordingly.\n",
        "\n",
        "It's important to note that using triggers to modify views can have performance implications, especially for large datasets or complex views. Triggers introduce additional overhead and can slow down the modification operations. Therefore, it's crucial to carefully consider the trade-offs and design your triggers efficiently.\n",
        "\n",
        "Additionally, when using triggers to modify views, ensure that the triggers handle all the necessary columns and maintain data integrity. If the view involves multiple tables or complex relationships, you may need to create additional triggers or implement more sophisticated logic to handle the modifications correctly. (It should be noted that enterprise-scale databases have better support for UPDATABLE VIEWS than SQLite)."
      ],
      "metadata": {
        "id": "EVp8N7ZBj0m9"
      }
    },
    {
      "cell_type": "markdown",
      "source": [
        "## Common Table Expressions\n",
        "\n",
        "Common Table Expressions (CTEs) are a powerful feature in SQLite that allow you to define temporary named result sets within a single SQL statement. CTEs provide a way to simplify complex queries by breaking them down into smaller, more manageable parts. They are particularly useful when you need to reference the same subquery multiple times within a single query or when you want to improve the readability and maintainability of your SQL code.\n",
        "\n",
        "### a. Basic Syntax\n",
        "\n",
        "The basic syntax for defining a CTE in SQLite is as follows:\n",
        "\n",
        "```sql\n",
        "WITH cte_name AS (\n",
        "    SELECT column1, column2, ...\n",
        "    FROM table_name\n",
        "    WHERE condition\n",
        ")\n",
        "SELECT *\n",
        "FROM cte_name;\n",
        "```\n",
        "\n",
        "In this syntax:\n",
        "\n",
        "-   The `WITH` keyword is used to introduce the CTE definition.\n",
        "-   `cte_name` is the name assigned to the CTE, which can be referenced later in the query.\n",
        "-   The `SELECT` statement inside the parentheses defines the result set of the CTE.\n",
        "-   The main query then references the CTE using its name.\n",
        "\n",
        "### Example: \"Times\" from 2000 to 2020\n",
        "\n",
        "Let's look at a simple example to illustrate the usage of CTEs in SQLite. Let's create a CTE for albums released between 2000 and 2020 that had the word \"time\" in the title."
      ],
      "metadata": {
        "id": "n3COY3S2lJMT"
      }
    },
    {
      "cell_type": "code",
      "source": [
        "%%sql\n",
        "-- THe Common Table Expression Starts Here\n",
        "WITH recent_albums AS (\n",
        "    SELECT\n",
        "      Albums.album,\n",
        "      Artists.artist,\n",
        "      Albums.year\n",
        "    FROM Albums\n",
        "    JOIN Artists ON Albums.artist_id = Artists.artist_id\n",
        "    WHERE Albums.year BETWEEN 2000 AND 2020\n",
        ")\n",
        "\n",
        "-- The Main Query Starts Here\n",
        "SELECT *\n",
        "FROM recent_albums\n",
        "WHERE recent_albums.album LIKE '%time%'\n",
        "ORDER BY year DESC\n",
        "LIMIT 10;"
      ],
      "metadata": {
        "colab": {
          "base_uri": "https://localhost:8080/",
          "height": 137
        },
        "id": "GluGFRGRlaD-",
        "outputId": "1c63536e-27d1-4a0d-eda6-d8e6e18273eb"
      },
      "execution_count": 52,
      "outputs": [
        {
          "output_type": "stream",
          "name": "stdout",
          "text": [
            " * sqlite:///rs_greatest_albums.db\n",
            "Done.\n"
          ]
        },
        {
          "output_type": "execute_result",
          "data": {
            "text/plain": [
              "[('Modern Times', 'Dylan, Bob', 2006),\n",
              " ('All Time Greatest Hits', 'Lynn, Loretta', 2002),\n",
              " ('Time (The Revelator)', 'Welch, Gillian', 2001)]"
            ],
            "text/html": [
              "<table>\n",
              "    <thead>\n",
              "        <tr>\n",
              "            <th>album</th>\n",
              "            <th>artist</th>\n",
              "            <th>year</th>\n",
              "        </tr>\n",
              "    </thead>\n",
              "    <tbody>\n",
              "        <tr>\n",
              "            <td>Modern Times</td>\n",
              "            <td>Dylan, Bob</td>\n",
              "            <td>2006</td>\n",
              "        </tr>\n",
              "        <tr>\n",
              "            <td>All Time Greatest Hits</td>\n",
              "            <td>Lynn, Loretta</td>\n",
              "            <td>2002</td>\n",
              "        </tr>\n",
              "        <tr>\n",
              "            <td>Time (The Revelator)</td>\n",
              "            <td>Welch, Gillian</td>\n",
              "            <td>2001</td>\n",
              "        </tr>\n",
              "    </tbody>\n",
              "</table>"
            ]
          },
          "metadata": {},
          "execution_count": 52
        }
      ]
    },
    {
      "cell_type": "markdown",
      "source": [
        "The query uses a CTE named `recent_albums` to retrieve albums released between 2000 and 2020, along with the corresponding artist names. The CTE is defined using the `WITH` clause, which specifies the name of the CTE and the `SELECT` statement that generates its result set.\n",
        "\n",
        "The main query then uses the `recent_albums` CTE as if it were a regular table. It selects all columns from the CTE, filters the albums based on the presence of the word \"time\" in the album name, sorts the results by year in descending order, and limits the output to the top 10 rows.\n",
        "\n",
        "Using a CTE in this query provides benefits such as:\n",
        "\n",
        "1.  The CTE allows the query to be broken down into smaller, more understandable parts.\n",
        "2.  The CTE can be reused multiple times within the same query or in different queries.\n",
        "3.  CTEs promote a modular approach to writing SQL queries, making the code more organized and maintainable.\n",
        "\n",
        "Overall, the CTE in this query serves as a temporary named result set that encapsulates the logic for retrieving recent albums, which can then be easily referenced and manipulated in the main query."
      ],
      "metadata": {
        "id": "ocO9gHETnbg_"
      }
    },
    {
      "cell_type": "code",
      "source": [],
      "metadata": {
        "id": "iumhGzrTaWT4"
      },
      "execution_count": null,
      "outputs": []
    }
  ]
}