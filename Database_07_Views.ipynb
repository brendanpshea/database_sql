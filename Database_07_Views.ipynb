{
  "nbformat": 4,
  "nbformat_minor": 0,
  "metadata": {
    "colab": {
      "provenance": [],
      "authorship_tag": "ABX9TyPA6hpR4dW6hP1JopBIm9xO",
      "include_colab_link": true
    },
    "kernelspec": {
      "name": "python3",
      "display_name": "Python 3"
    },
    "language_info": {
      "name": "python"
    },
    "widgets": {
      "application/vnd.jupyter.widget-state+json": {
        "ccab41b878e845d58717204e4b280a64": {
          "model_module": "@jupyter-widgets/controls",
          "model_name": "VBoxModel",
          "model_module_version": "1.5.0",
          "state": {
            "_dom_classes": [],
            "_model_module": "@jupyter-widgets/controls",
            "_model_module_version": "1.5.0",
            "_model_name": "VBoxModel",
            "_view_count": null,
            "_view_module": "@jupyter-widgets/controls",
            "_view_module_version": "1.5.0",
            "_view_name": "VBoxView",
            "box_style": "",
            "children": [
              "IPY_MODEL_570d69fcb4244429b9a796a18e646b7e",
              "IPY_MODEL_1b291cad7ec74c47bb803a28fab955ba",
              "IPY_MODEL_f4c0ee6f707c492ebbd063e9f1bea679"
            ],
            "layout": "IPY_MODEL_97993c872061414989241c88b08d9e86"
          }
        },
        "570d69fcb4244429b9a796a18e646b7e": {
          "model_module": "@jupyter-widgets/controls",
          "model_name": "IntProgressModel",
          "model_module_version": "1.5.0",
          "state": {
            "_dom_classes": [],
            "_model_module": "@jupyter-widgets/controls",
            "_model_module_version": "1.5.0",
            "_model_name": "IntProgressModel",
            "_view_count": null,
            "_view_module": "@jupyter-widgets/controls",
            "_view_module_version": "1.5.0",
            "_view_name": "ProgressView",
            "bar_style": "",
            "description": "Progress:",
            "description_tooltip": null,
            "layout": "IPY_MODEL_4e7c981b7f174de78c2101abf93f8d30",
            "max": 27,
            "min": 0,
            "orientation": "horizontal",
            "style": "IPY_MODEL_7ae440f2625f4c2b9f6a5c97707e6a10",
            "value": 1
          }
        },
        "1b291cad7ec74c47bb803a28fab955ba": {
          "model_module": "@jupyter-widgets/controls",
          "model_name": "HTMLModel",
          "model_module_version": "1.5.0",
          "state": {
            "_dom_classes": [],
            "_model_module": "@jupyter-widgets/controls",
            "_model_module_version": "1.5.0",
            "_model_name": "HTMLModel",
            "_view_count": null,
            "_view_module": "@jupyter-widgets/controls",
            "_view_module_version": "1.5.0",
            "_view_name": "HTMLView",
            "description": "",
            "description_tooltip": null,
            "layout": "IPY_MODEL_a20a056e1b5e426daebdbd704be58e8e",
            "placeholder": "​",
            "style": "IPY_MODEL_57b1b522a45b43d9abb6aede4d475ef1",
            "value": "<h3>Question 1 of 27:</h3><p>List the names of all artists in the database.</p><h3>Database Schema:</h3><ul><li><b>artists</b> (artist_id STRING, Artist TEXT, followers INTEGER, genres TEXT, popularity INTEGER)</li><li><b>albums</b> (album_id STRING, Album TEXT, artist_id STRING, Year INTEGER, rank_2003 INTEGER, rank_2012 INTEGER, rank_2020 INTEGER, rank_2023 INTEGER)</li><li><b>tracks</b> (track_id STRING, track_name TEXT, album_id STRING, track_number INTEGER, duration_ms INTEGER)</li></ul>"
          }
        },
        "f4c0ee6f707c492ebbd063e9f1bea679": {
          "model_module": "@jupyter-widgets/controls",
          "model_name": "TabModel",
          "model_module_version": "1.5.0",
          "state": {
            "_dom_classes": [],
            "_model_module": "@jupyter-widgets/controls",
            "_model_module_version": "1.5.0",
            "_model_name": "TabModel",
            "_titles": {
              "0": "Query",
              "1": "Results"
            },
            "_view_count": null,
            "_view_module": "@jupyter-widgets/controls",
            "_view_module_version": "1.5.0",
            "_view_name": "TabView",
            "box_style": "",
            "children": [
              "IPY_MODEL_016eef56ed3a45b1816d32144e8d88dc",
              "IPY_MODEL_1658f9eeb06a4cfba13cb3e32f37d397"
            ],
            "layout": "IPY_MODEL_2e1852c3c9ee4f6b98060bda4be8741a",
            "selected_index": 0
          }
        },
        "97993c872061414989241c88b08d9e86": {
          "model_module": "@jupyter-widgets/base",
          "model_name": "LayoutModel",
          "model_module_version": "1.2.0",
          "state": {
            "_model_module": "@jupyter-widgets/base",
            "_model_module_version": "1.2.0",
            "_model_name": "LayoutModel",
            "_view_count": null,
            "_view_module": "@jupyter-widgets/base",
            "_view_module_version": "1.2.0",
            "_view_name": "LayoutView",
            "align_content": null,
            "align_items": null,
            "align_self": null,
            "border": null,
            "bottom": null,
            "display": null,
            "flex": null,
            "flex_flow": null,
            "grid_area": null,
            "grid_auto_columns": null,
            "grid_auto_flow": null,
            "grid_auto_rows": null,
            "grid_column": null,
            "grid_gap": null,
            "grid_row": null,
            "grid_template_areas": null,
            "grid_template_columns": null,
            "grid_template_rows": null,
            "height": null,
            "justify_content": null,
            "justify_items": null,
            "left": null,
            "margin": null,
            "max_height": null,
            "max_width": null,
            "min_height": null,
            "min_width": null,
            "object_fit": null,
            "object_position": null,
            "order": null,
            "overflow": null,
            "overflow_x": null,
            "overflow_y": null,
            "padding": null,
            "right": null,
            "top": null,
            "visibility": null,
            "width": null
          }
        },
        "4e7c981b7f174de78c2101abf93f8d30": {
          "model_module": "@jupyter-widgets/base",
          "model_name": "LayoutModel",
          "model_module_version": "1.2.0",
          "state": {
            "_model_module": "@jupyter-widgets/base",
            "_model_module_version": "1.2.0",
            "_model_name": "LayoutModel",
            "_view_count": null,
            "_view_module": "@jupyter-widgets/base",
            "_view_module_version": "1.2.0",
            "_view_name": "LayoutView",
            "align_content": null,
            "align_items": null,
            "align_self": null,
            "border": null,
            "bottom": null,
            "display": null,
            "flex": null,
            "flex_flow": null,
            "grid_area": null,
            "grid_auto_columns": null,
            "grid_auto_flow": null,
            "grid_auto_rows": null,
            "grid_column": null,
            "grid_gap": null,
            "grid_row": null,
            "grid_template_areas": null,
            "grid_template_columns": null,
            "grid_template_rows": null,
            "height": null,
            "justify_content": null,
            "justify_items": null,
            "left": null,
            "margin": null,
            "max_height": null,
            "max_width": null,
            "min_height": null,
            "min_width": null,
            "object_fit": null,
            "object_position": null,
            "order": null,
            "overflow": null,
            "overflow_x": null,
            "overflow_y": null,
            "padding": null,
            "right": null,
            "top": null,
            "visibility": null,
            "width": null
          }
        },
        "7ae440f2625f4c2b9f6a5c97707e6a10": {
          "model_module": "@jupyter-widgets/controls",
          "model_name": "ProgressStyleModel",
          "model_module_version": "1.5.0",
          "state": {
            "_model_module": "@jupyter-widgets/controls",
            "_model_module_version": "1.5.0",
            "_model_name": "ProgressStyleModel",
            "_view_count": null,
            "_view_module": "@jupyter-widgets/base",
            "_view_module_version": "1.2.0",
            "_view_name": "StyleView",
            "bar_color": null,
            "description_width": ""
          }
        },
        "a20a056e1b5e426daebdbd704be58e8e": {
          "model_module": "@jupyter-widgets/base",
          "model_name": "LayoutModel",
          "model_module_version": "1.2.0",
          "state": {
            "_model_module": "@jupyter-widgets/base",
            "_model_module_version": "1.2.0",
            "_model_name": "LayoutModel",
            "_view_count": null,
            "_view_module": "@jupyter-widgets/base",
            "_view_module_version": "1.2.0",
            "_view_name": "LayoutView",
            "align_content": null,
            "align_items": null,
            "align_self": null,
            "border": null,
            "bottom": null,
            "display": null,
            "flex": null,
            "flex_flow": null,
            "grid_area": null,
            "grid_auto_columns": null,
            "grid_auto_flow": null,
            "grid_auto_rows": null,
            "grid_column": null,
            "grid_gap": null,
            "grid_row": null,
            "grid_template_areas": null,
            "grid_template_columns": null,
            "grid_template_rows": null,
            "height": null,
            "justify_content": null,
            "justify_items": null,
            "left": null,
            "margin": null,
            "max_height": null,
            "max_width": null,
            "min_height": null,
            "min_width": null,
            "object_fit": null,
            "object_position": null,
            "order": null,
            "overflow": null,
            "overflow_x": null,
            "overflow_y": null,
            "padding": null,
            "right": null,
            "top": null,
            "visibility": null,
            "width": null
          }
        },
        "57b1b522a45b43d9abb6aede4d475ef1": {
          "model_module": "@jupyter-widgets/controls",
          "model_name": "DescriptionStyleModel",
          "model_module_version": "1.5.0",
          "state": {
            "_model_module": "@jupyter-widgets/controls",
            "_model_module_version": "1.5.0",
            "_model_name": "DescriptionStyleModel",
            "_view_count": null,
            "_view_module": "@jupyter-widgets/base",
            "_view_module_version": "1.2.0",
            "_view_name": "StyleView",
            "description_width": ""
          }
        },
        "016eef56ed3a45b1816d32144e8d88dc": {
          "model_module": "@jupyter-widgets/controls",
          "model_name": "VBoxModel",
          "model_module_version": "1.5.0",
          "state": {
            "_dom_classes": [],
            "_model_module": "@jupyter-widgets/controls",
            "_model_module_version": "1.5.0",
            "_model_name": "VBoxModel",
            "_view_count": null,
            "_view_module": "@jupyter-widgets/controls",
            "_view_module_version": "1.5.0",
            "_view_name": "VBoxView",
            "box_style": "",
            "children": [
              "IPY_MODEL_d153a4c8a0cf494990fa55db4b9de590",
              "IPY_MODEL_9904e6e21e2b4718b775f389d6b64442",
              "IPY_MODEL_b20c10abfab34cb582bfc6a6a638eb3a"
            ],
            "layout": "IPY_MODEL_13fe51644a194f80b85034259d48fbcc"
          }
        },
        "1658f9eeb06a4cfba13cb3e32f37d397": {
          "model_module": "@jupyter-widgets/controls",
          "model_name": "VBoxModel",
          "model_module_version": "1.5.0",
          "state": {
            "_dom_classes": [],
            "_model_module": "@jupyter-widgets/controls",
            "_model_module_version": "1.5.0",
            "_model_name": "VBoxModel",
            "_view_count": null,
            "_view_module": "@jupyter-widgets/controls",
            "_view_module_version": "1.5.0",
            "_view_name": "VBoxView",
            "box_style": "",
            "children": [
              "IPY_MODEL_a48b59a872e64afbac7a07fdf65030f4",
              "IPY_MODEL_7cdd9121144b4bd3a08a313264e222bd"
            ],
            "layout": "IPY_MODEL_ab3d5fb0abed4c8ea9f22013d8aa1de4"
          }
        },
        "2e1852c3c9ee4f6b98060bda4be8741a": {
          "model_module": "@jupyter-widgets/base",
          "model_name": "LayoutModel",
          "model_module_version": "1.2.0",
          "state": {
            "_model_module": "@jupyter-widgets/base",
            "_model_module_version": "1.2.0",
            "_model_name": "LayoutModel",
            "_view_count": null,
            "_view_module": "@jupyter-widgets/base",
            "_view_module_version": "1.2.0",
            "_view_name": "LayoutView",
            "align_content": null,
            "align_items": null,
            "align_self": null,
            "border": null,
            "bottom": null,
            "display": null,
            "flex": null,
            "flex_flow": null,
            "grid_area": null,
            "grid_auto_columns": null,
            "grid_auto_flow": null,
            "grid_auto_rows": null,
            "grid_column": null,
            "grid_gap": null,
            "grid_row": null,
            "grid_template_areas": null,
            "grid_template_columns": null,
            "grid_template_rows": null,
            "height": null,
            "justify_content": null,
            "justify_items": null,
            "left": null,
            "margin": null,
            "max_height": null,
            "max_width": null,
            "min_height": null,
            "min_width": null,
            "object_fit": null,
            "object_position": null,
            "order": null,
            "overflow": null,
            "overflow_x": null,
            "overflow_y": null,
            "padding": null,
            "right": null,
            "top": null,
            "visibility": null,
            "width": null
          }
        },
        "d153a4c8a0cf494990fa55db4b9de590": {
          "model_module": "@jupyter-widgets/controls",
          "model_name": "TextareaModel",
          "model_module_version": "1.5.0",
          "state": {
            "_dom_classes": [],
            "_model_module": "@jupyter-widgets/controls",
            "_model_module_version": "1.5.0",
            "_model_name": "TextareaModel",
            "_view_count": null,
            "_view_module": "@jupyter-widgets/controls",
            "_view_module_version": "1.5.0",
            "_view_name": "TextareaView",
            "continuous_update": true,
            "description": "",
            "description_tooltip": null,
            "disabled": false,
            "layout": "IPY_MODEL_e514a40f4501418a9369ae1d3aad9607",
            "placeholder": "Type your SQL query here...",
            "rows": null,
            "style": "IPY_MODEL_5c5a89d4cfd14f1a9fa774b0529e2dfc",
            "value": ""
          }
        },
        "9904e6e21e2b4718b775f389d6b64442": {
          "model_module": "@jupyter-widgets/controls",
          "model_name": "HBoxModel",
          "model_module_version": "1.5.0",
          "state": {
            "_dom_classes": [],
            "_model_module": "@jupyter-widgets/controls",
            "_model_module_version": "1.5.0",
            "_model_name": "HBoxModel",
            "_view_count": null,
            "_view_module": "@jupyter-widgets/controls",
            "_view_module_version": "1.5.0",
            "_view_name": "HBoxView",
            "box_style": "",
            "children": [
              "IPY_MODEL_37cad71778d34d35b13e4552d1f57e97",
              "IPY_MODEL_4e250e81bbe649e5b5788238b43d7609",
              "IPY_MODEL_810fbb3ff2bf42b484ebfddec57ea468"
            ],
            "layout": "IPY_MODEL_0c8e1c4090bb4fc090f7ab05bbc3f502"
          }
        },
        "b20c10abfab34cb582bfc6a6a638eb3a": {
          "model_module": "@jupyter-widgets/controls",
          "model_name": "HBoxModel",
          "model_module_version": "1.5.0",
          "state": {
            "_dom_classes": [],
            "_model_module": "@jupyter-widgets/controls",
            "_model_module_version": "1.5.0",
            "_model_name": "HBoxModel",
            "_view_count": null,
            "_view_module": "@jupyter-widgets/controls",
            "_view_module_version": "1.5.0",
            "_view_name": "HBoxView",
            "box_style": "",
            "children": [
              "IPY_MODEL_1ecc0d000ebd42df8838e75c942f817b",
              "IPY_MODEL_a990d5ec65cf444ca41a983892d89343",
              "IPY_MODEL_cec786d07389405093f307630dd0d80b"
            ],
            "layout": "IPY_MODEL_597815e202a845abb31c2628ba77c4b6"
          }
        },
        "13fe51644a194f80b85034259d48fbcc": {
          "model_module": "@jupyter-widgets/base",
          "model_name": "LayoutModel",
          "model_module_version": "1.2.0",
          "state": {
            "_model_module": "@jupyter-widgets/base",
            "_model_module_version": "1.2.0",
            "_model_name": "LayoutModel",
            "_view_count": null,
            "_view_module": "@jupyter-widgets/base",
            "_view_module_version": "1.2.0",
            "_view_name": "LayoutView",
            "align_content": null,
            "align_items": null,
            "align_self": null,
            "border": null,
            "bottom": null,
            "display": null,
            "flex": null,
            "flex_flow": null,
            "grid_area": null,
            "grid_auto_columns": null,
            "grid_auto_flow": null,
            "grid_auto_rows": null,
            "grid_column": null,
            "grid_gap": null,
            "grid_row": null,
            "grid_template_areas": null,
            "grid_template_columns": null,
            "grid_template_rows": null,
            "height": null,
            "justify_content": null,
            "justify_items": null,
            "left": null,
            "margin": null,
            "max_height": null,
            "max_width": null,
            "min_height": null,
            "min_width": null,
            "object_fit": null,
            "object_position": null,
            "order": null,
            "overflow": null,
            "overflow_x": null,
            "overflow_y": null,
            "padding": null,
            "right": null,
            "top": null,
            "visibility": null,
            "width": null
          }
        },
        "a48b59a872e64afbac7a07fdf65030f4": {
          "model_module": "@jupyter-widgets/controls",
          "model_name": "HTMLModel",
          "model_module_version": "1.5.0",
          "state": {
            "_dom_classes": [],
            "_model_module": "@jupyter-widgets/controls",
            "_model_module_version": "1.5.0",
            "_model_name": "HTMLModel",
            "_view_count": null,
            "_view_module": "@jupyter-widgets/controls",
            "_view_module_version": "1.5.0",
            "_view_name": "HTMLView",
            "description": "",
            "description_tooltip": null,
            "layout": "IPY_MODEL_1c2046da776140ffaa555ae4a96d6925",
            "placeholder": "​",
            "style": "IPY_MODEL_9712820068ed4c8c9780341037045ebd",
            "value": ""
          }
        },
        "7cdd9121144b4bd3a08a313264e222bd": {
          "model_module": "@jupyter-widgets/controls",
          "model_name": "HBoxModel",
          "model_module_version": "1.5.0",
          "state": {
            "_dom_classes": [],
            "_model_module": "@jupyter-widgets/controls",
            "_model_module_version": "1.5.0",
            "_model_name": "HBoxModel",
            "_view_count": null,
            "_view_module": "@jupyter-widgets/controls",
            "_view_module_version": "1.5.0",
            "_view_name": "HBoxView",
            "box_style": "",
            "children": [
              "IPY_MODEL_ae2d8bdf1bea4976bc6ba7693acc4d23",
              "IPY_MODEL_25d3870046344fb8a496a4d9daf2636e"
            ],
            "layout": "IPY_MODEL_276345d1cecd4a4d9a9f9e90b7f4026b"
          }
        },
        "ab3d5fb0abed4c8ea9f22013d8aa1de4": {
          "model_module": "@jupyter-widgets/base",
          "model_name": "LayoutModel",
          "model_module_version": "1.2.0",
          "state": {
            "_model_module": "@jupyter-widgets/base",
            "_model_module_version": "1.2.0",
            "_model_name": "LayoutModel",
            "_view_count": null,
            "_view_module": "@jupyter-widgets/base",
            "_view_module_version": "1.2.0",
            "_view_name": "LayoutView",
            "align_content": null,
            "align_items": null,
            "align_self": null,
            "border": null,
            "bottom": null,
            "display": null,
            "flex": null,
            "flex_flow": null,
            "grid_area": null,
            "grid_auto_columns": null,
            "grid_auto_flow": null,
            "grid_auto_rows": null,
            "grid_column": null,
            "grid_gap": null,
            "grid_row": null,
            "grid_template_areas": null,
            "grid_template_columns": null,
            "grid_template_rows": null,
            "height": null,
            "justify_content": null,
            "justify_items": null,
            "left": null,
            "margin": null,
            "max_height": null,
            "max_width": null,
            "min_height": null,
            "min_width": null,
            "object_fit": null,
            "object_position": null,
            "order": null,
            "overflow": null,
            "overflow_x": null,
            "overflow_y": null,
            "padding": null,
            "right": null,
            "top": null,
            "visibility": null,
            "width": null
          }
        },
        "e514a40f4501418a9369ae1d3aad9607": {
          "model_module": "@jupyter-widgets/base",
          "model_name": "LayoutModel",
          "model_module_version": "1.2.0",
          "state": {
            "_model_module": "@jupyter-widgets/base",
            "_model_module_version": "1.2.0",
            "_model_name": "LayoutModel",
            "_view_count": null,
            "_view_module": "@jupyter-widgets/base",
            "_view_module_version": "1.2.0",
            "_view_name": "LayoutView",
            "align_content": null,
            "align_items": null,
            "align_self": null,
            "border": null,
            "bottom": null,
            "display": null,
            "flex": null,
            "flex_flow": null,
            "grid_area": null,
            "grid_auto_columns": null,
            "grid_auto_flow": null,
            "grid_auto_rows": null,
            "grid_column": null,
            "grid_gap": null,
            "grid_row": null,
            "grid_template_areas": null,
            "grid_template_columns": null,
            "grid_template_rows": null,
            "height": "150px",
            "justify_content": null,
            "justify_items": null,
            "left": null,
            "margin": null,
            "max_height": null,
            "max_width": null,
            "min_height": null,
            "min_width": null,
            "object_fit": null,
            "object_position": null,
            "order": null,
            "overflow": null,
            "overflow_x": null,
            "overflow_y": null,
            "padding": null,
            "right": null,
            "top": null,
            "visibility": null,
            "width": "100%"
          }
        },
        "5c5a89d4cfd14f1a9fa774b0529e2dfc": {
          "model_module": "@jupyter-widgets/controls",
          "model_name": "DescriptionStyleModel",
          "model_module_version": "1.5.0",
          "state": {
            "_model_module": "@jupyter-widgets/controls",
            "_model_module_version": "1.5.0",
            "_model_name": "DescriptionStyleModel",
            "_view_count": null,
            "_view_module": "@jupyter-widgets/base",
            "_view_module_version": "1.2.0",
            "_view_name": "StyleView",
            "description_width": ""
          }
        },
        "37cad71778d34d35b13e4552d1f57e97": {
          "model_module": "@jupyter-widgets/controls",
          "model_name": "ButtonModel",
          "model_module_version": "1.5.0",
          "state": {
            "_dom_classes": [],
            "_model_module": "@jupyter-widgets/controls",
            "_model_module_version": "1.5.0",
            "_model_name": "ButtonModel",
            "_view_count": null,
            "_view_module": "@jupyter-widgets/controls",
            "_view_module_version": "1.5.0",
            "_view_name": "ButtonView",
            "button_style": "success",
            "description": "Submit",
            "disabled": false,
            "icon": "",
            "layout": "IPY_MODEL_da56dd776e5f4e24931fc632f3f01fcc",
            "style": "IPY_MODEL_36719f772ed2454aa17958fdd55f2345",
            "tooltip": ""
          }
        },
        "4e250e81bbe649e5b5788238b43d7609": {
          "model_module": "@jupyter-widgets/controls",
          "model_name": "ButtonModel",
          "model_module_version": "1.5.0",
          "state": {
            "_dom_classes": [],
            "_model_module": "@jupyter-widgets/controls",
            "_model_module_version": "1.5.0",
            "_model_name": "ButtonModel",
            "_view_count": null,
            "_view_module": "@jupyter-widgets/controls",
            "_view_module_version": "1.5.0",
            "_view_name": "ButtonView",
            "button_style": "warning",
            "description": "Clear",
            "disabled": false,
            "icon": "",
            "layout": "IPY_MODEL_4535c47579194682af0e36b47b30fddc",
            "style": "IPY_MODEL_26afb81deec748f7b47be0591fcc9b92",
            "tooltip": ""
          }
        },
        "810fbb3ff2bf42b484ebfddec57ea468": {
          "model_module": "@jupyter-widgets/controls",
          "model_name": "ButtonModel",
          "model_module_version": "1.5.0",
          "state": {
            "_dom_classes": [],
            "_model_module": "@jupyter-widgets/controls",
            "_model_module_version": "1.5.0",
            "_model_name": "ButtonModel",
            "_view_count": null,
            "_view_module": "@jupyter-widgets/controls",
            "_view_module_version": "1.5.0",
            "_view_name": "ButtonView",
            "button_style": "info",
            "description": "Hint",
            "disabled": false,
            "icon": "",
            "layout": "IPY_MODEL_3d72c91597404e7c9024859514f59f3a",
            "style": "IPY_MODEL_72b467628a204518b02265f4a8ebdbfd",
            "tooltip": ""
          }
        },
        "0c8e1c4090bb4fc090f7ab05bbc3f502": {
          "model_module": "@jupyter-widgets/base",
          "model_name": "LayoutModel",
          "model_module_version": "1.2.0",
          "state": {
            "_model_module": "@jupyter-widgets/base",
            "_model_module_version": "1.2.0",
            "_model_name": "LayoutModel",
            "_view_count": null,
            "_view_module": "@jupyter-widgets/base",
            "_view_module_version": "1.2.0",
            "_view_name": "LayoutView",
            "align_content": null,
            "align_items": null,
            "align_self": null,
            "border": null,
            "bottom": null,
            "display": null,
            "flex": null,
            "flex_flow": null,
            "grid_area": null,
            "grid_auto_columns": null,
            "grid_auto_flow": null,
            "grid_auto_rows": null,
            "grid_column": null,
            "grid_gap": null,
            "grid_row": null,
            "grid_template_areas": null,
            "grid_template_columns": null,
            "grid_template_rows": null,
            "height": null,
            "justify_content": null,
            "justify_items": null,
            "left": null,
            "margin": null,
            "max_height": null,
            "max_width": null,
            "min_height": null,
            "min_width": null,
            "object_fit": null,
            "object_position": null,
            "order": null,
            "overflow": null,
            "overflow_x": null,
            "overflow_y": null,
            "padding": null,
            "right": null,
            "top": null,
            "visibility": null,
            "width": null
          }
        },
        "1ecc0d000ebd42df8838e75c942f817b": {
          "model_module": "@jupyter-widgets/controls",
          "model_name": "LabelModel",
          "model_module_version": "1.5.0",
          "state": {
            "_dom_classes": [],
            "_model_module": "@jupyter-widgets/controls",
            "_model_module_version": "1.5.0",
            "_model_name": "LabelModel",
            "_view_count": null,
            "_view_module": "@jupyter-widgets/controls",
            "_view_module_version": "1.5.0",
            "_view_name": "LabelView",
            "description": "",
            "description_tooltip": null,
            "layout": "IPY_MODEL_50d6bbbbeea4401089e3b41beffc49af",
            "placeholder": "​",
            "style": "IPY_MODEL_5f9e5d56d8f7458f9ece3b0fbd944732",
            "value": "Go to question:"
          }
        },
        "a990d5ec65cf444ca41a983892d89343": {
          "model_module": "@jupyter-widgets/controls",
          "model_name": "IntTextModel",
          "model_module_version": "1.5.0",
          "state": {
            "_dom_classes": [],
            "_model_module": "@jupyter-widgets/controls",
            "_model_module_version": "1.5.0",
            "_model_name": "IntTextModel",
            "_view_count": null,
            "_view_module": "@jupyter-widgets/controls",
            "_view_module_version": "1.5.0",
            "_view_name": "IntTextView",
            "continuous_update": false,
            "description": "",
            "description_tooltip": null,
            "disabled": false,
            "layout": "IPY_MODEL_6498a7e4df744e0c8b519c332849e572",
            "step": 1,
            "style": "IPY_MODEL_77e57fb9c92e4010a4f6dbefa9170ab5",
            "value": 1
          }
        },
        "cec786d07389405093f307630dd0d80b": {
          "model_module": "@jupyter-widgets/controls",
          "model_name": "ButtonModel",
          "model_module_version": "1.5.0",
          "state": {
            "_dom_classes": [],
            "_model_module": "@jupyter-widgets/controls",
            "_model_module_version": "1.5.0",
            "_model_name": "ButtonModel",
            "_view_count": null,
            "_view_module": "@jupyter-widgets/controls",
            "_view_module_version": "1.5.0",
            "_view_name": "ButtonView",
            "button_style": "info",
            "description": "Skip to",
            "disabled": false,
            "icon": "",
            "layout": "IPY_MODEL_d845625759184a3280ea4800cbdda24e",
            "style": "IPY_MODEL_23140db580ed47bda784ca81b78b22e8",
            "tooltip": ""
          }
        },
        "597815e202a845abb31c2628ba77c4b6": {
          "model_module": "@jupyter-widgets/base",
          "model_name": "LayoutModel",
          "model_module_version": "1.2.0",
          "state": {
            "_model_module": "@jupyter-widgets/base",
            "_model_module_version": "1.2.0",
            "_model_name": "LayoutModel",
            "_view_count": null,
            "_view_module": "@jupyter-widgets/base",
            "_view_module_version": "1.2.0",
            "_view_name": "LayoutView",
            "align_content": null,
            "align_items": null,
            "align_self": null,
            "border": null,
            "bottom": null,
            "display": null,
            "flex": null,
            "flex_flow": null,
            "grid_area": null,
            "grid_auto_columns": null,
            "grid_auto_flow": null,
            "grid_auto_rows": null,
            "grid_column": null,
            "grid_gap": null,
            "grid_row": null,
            "grid_template_areas": null,
            "grid_template_columns": null,
            "grid_template_rows": null,
            "height": null,
            "justify_content": null,
            "justify_items": null,
            "left": null,
            "margin": null,
            "max_height": null,
            "max_width": null,
            "min_height": null,
            "min_width": null,
            "object_fit": null,
            "object_position": null,
            "order": null,
            "overflow": null,
            "overflow_x": null,
            "overflow_y": null,
            "padding": null,
            "right": null,
            "top": null,
            "visibility": null,
            "width": null
          }
        },
        "1c2046da776140ffaa555ae4a96d6925": {
          "model_module": "@jupyter-widgets/base",
          "model_name": "LayoutModel",
          "model_module_version": "1.2.0",
          "state": {
            "_model_module": "@jupyter-widgets/base",
            "_model_module_version": "1.2.0",
            "_model_name": "LayoutModel",
            "_view_count": null,
            "_view_module": "@jupyter-widgets/base",
            "_view_module_version": "1.2.0",
            "_view_name": "LayoutView",
            "align_content": null,
            "align_items": null,
            "align_self": null,
            "border": null,
            "bottom": null,
            "display": null,
            "flex": null,
            "flex_flow": null,
            "grid_area": null,
            "grid_auto_columns": null,
            "grid_auto_flow": null,
            "grid_auto_rows": null,
            "grid_column": null,
            "grid_gap": null,
            "grid_row": null,
            "grid_template_areas": null,
            "grid_template_columns": null,
            "grid_template_rows": null,
            "height": null,
            "justify_content": null,
            "justify_items": null,
            "left": null,
            "margin": null,
            "max_height": null,
            "max_width": null,
            "min_height": null,
            "min_width": null,
            "object_fit": null,
            "object_position": null,
            "order": null,
            "overflow": null,
            "overflow_x": null,
            "overflow_y": null,
            "padding": null,
            "right": null,
            "top": null,
            "visibility": null,
            "width": null
          }
        },
        "9712820068ed4c8c9780341037045ebd": {
          "model_module": "@jupyter-widgets/controls",
          "model_name": "DescriptionStyleModel",
          "model_module_version": "1.5.0",
          "state": {
            "_model_module": "@jupyter-widgets/controls",
            "_model_module_version": "1.5.0",
            "_model_name": "DescriptionStyleModel",
            "_view_count": null,
            "_view_module": "@jupyter-widgets/base",
            "_view_module_version": "1.2.0",
            "_view_name": "StyleView",
            "description_width": ""
          }
        },
        "ae2d8bdf1bea4976bc6ba7693acc4d23": {
          "model_module": "@jupyter-widgets/controls",
          "model_name": "ButtonModel",
          "model_module_version": "1.5.0",
          "state": {
            "_dom_classes": [],
            "_model_module": "@jupyter-widgets/controls",
            "_model_module_version": "1.5.0",
            "_model_name": "ButtonModel",
            "_view_count": null,
            "_view_module": "@jupyter-widgets/controls",
            "_view_module_version": "1.5.0",
            "_view_name": "ButtonView",
            "button_style": "warning",
            "description": "Try Again",
            "disabled": false,
            "icon": "",
            "layout": "IPY_MODEL_f9227e2d31a84b38ac498a4167f4ccf4",
            "style": "IPY_MODEL_199a2a4006d346cf919b7ec67c0a257e",
            "tooltip": ""
          }
        },
        "25d3870046344fb8a496a4d9daf2636e": {
          "model_module": "@jupyter-widgets/controls",
          "model_name": "ButtonModel",
          "model_module_version": "1.5.0",
          "state": {
            "_dom_classes": [],
            "_model_module": "@jupyter-widgets/controls",
            "_model_module_version": "1.5.0",
            "_model_name": "ButtonModel",
            "_view_count": null,
            "_view_module": "@jupyter-widgets/controls",
            "_view_module_version": "1.5.0",
            "_view_name": "ButtonView",
            "button_style": "info",
            "description": "Next Question",
            "disabled": false,
            "icon": "",
            "layout": "IPY_MODEL_eaf22836818740f48424f951e88ed32b",
            "style": "IPY_MODEL_a7b4e553e13a43dca11946aeb22ccbb5",
            "tooltip": ""
          }
        },
        "276345d1cecd4a4d9a9f9e90b7f4026b": {
          "model_module": "@jupyter-widgets/base",
          "model_name": "LayoutModel",
          "model_module_version": "1.2.0",
          "state": {
            "_model_module": "@jupyter-widgets/base",
            "_model_module_version": "1.2.0",
            "_model_name": "LayoutModel",
            "_view_count": null,
            "_view_module": "@jupyter-widgets/base",
            "_view_module_version": "1.2.0",
            "_view_name": "LayoutView",
            "align_content": null,
            "align_items": null,
            "align_self": null,
            "border": null,
            "bottom": null,
            "display": null,
            "flex": null,
            "flex_flow": null,
            "grid_area": null,
            "grid_auto_columns": null,
            "grid_auto_flow": null,
            "grid_auto_rows": null,
            "grid_column": null,
            "grid_gap": null,
            "grid_row": null,
            "grid_template_areas": null,
            "grid_template_columns": null,
            "grid_template_rows": null,
            "height": null,
            "justify_content": null,
            "justify_items": null,
            "left": null,
            "margin": null,
            "max_height": null,
            "max_width": null,
            "min_height": null,
            "min_width": null,
            "object_fit": null,
            "object_position": null,
            "order": null,
            "overflow": null,
            "overflow_x": null,
            "overflow_y": null,
            "padding": null,
            "right": null,
            "top": null,
            "visibility": null,
            "width": null
          }
        },
        "da56dd776e5f4e24931fc632f3f01fcc": {
          "model_module": "@jupyter-widgets/base",
          "model_name": "LayoutModel",
          "model_module_version": "1.2.0",
          "state": {
            "_model_module": "@jupyter-widgets/base",
            "_model_module_version": "1.2.0",
            "_model_name": "LayoutModel",
            "_view_count": null,
            "_view_module": "@jupyter-widgets/base",
            "_view_module_version": "1.2.0",
            "_view_name": "LayoutView",
            "align_content": null,
            "align_items": null,
            "align_self": null,
            "border": null,
            "bottom": null,
            "display": null,
            "flex": null,
            "flex_flow": null,
            "grid_area": null,
            "grid_auto_columns": null,
            "grid_auto_flow": null,
            "grid_auto_rows": null,
            "grid_column": null,
            "grid_gap": null,
            "grid_row": null,
            "grid_template_areas": null,
            "grid_template_columns": null,
            "grid_template_rows": null,
            "height": null,
            "justify_content": null,
            "justify_items": null,
            "left": null,
            "margin": null,
            "max_height": null,
            "max_width": null,
            "min_height": null,
            "min_width": null,
            "object_fit": null,
            "object_position": null,
            "order": null,
            "overflow": null,
            "overflow_x": null,
            "overflow_y": null,
            "padding": null,
            "right": null,
            "top": null,
            "visibility": null,
            "width": null
          }
        },
        "36719f772ed2454aa17958fdd55f2345": {
          "model_module": "@jupyter-widgets/controls",
          "model_name": "ButtonStyleModel",
          "model_module_version": "1.5.0",
          "state": {
            "_model_module": "@jupyter-widgets/controls",
            "_model_module_version": "1.5.0",
            "_model_name": "ButtonStyleModel",
            "_view_count": null,
            "_view_module": "@jupyter-widgets/base",
            "_view_module_version": "1.2.0",
            "_view_name": "StyleView",
            "button_color": null,
            "font_weight": ""
          }
        },
        "4535c47579194682af0e36b47b30fddc": {
          "model_module": "@jupyter-widgets/base",
          "model_name": "LayoutModel",
          "model_module_version": "1.2.0",
          "state": {
            "_model_module": "@jupyter-widgets/base",
            "_model_module_version": "1.2.0",
            "_model_name": "LayoutModel",
            "_view_count": null,
            "_view_module": "@jupyter-widgets/base",
            "_view_module_version": "1.2.0",
            "_view_name": "LayoutView",
            "align_content": null,
            "align_items": null,
            "align_self": null,
            "border": null,
            "bottom": null,
            "display": null,
            "flex": null,
            "flex_flow": null,
            "grid_area": null,
            "grid_auto_columns": null,
            "grid_auto_flow": null,
            "grid_auto_rows": null,
            "grid_column": null,
            "grid_gap": null,
            "grid_row": null,
            "grid_template_areas": null,
            "grid_template_columns": null,
            "grid_template_rows": null,
            "height": null,
            "justify_content": null,
            "justify_items": null,
            "left": null,
            "margin": null,
            "max_height": null,
            "max_width": null,
            "min_height": null,
            "min_width": null,
            "object_fit": null,
            "object_position": null,
            "order": null,
            "overflow": null,
            "overflow_x": null,
            "overflow_y": null,
            "padding": null,
            "right": null,
            "top": null,
            "visibility": null,
            "width": null
          }
        },
        "26afb81deec748f7b47be0591fcc9b92": {
          "model_module": "@jupyter-widgets/controls",
          "model_name": "ButtonStyleModel",
          "model_module_version": "1.5.0",
          "state": {
            "_model_module": "@jupyter-widgets/controls",
            "_model_module_version": "1.5.0",
            "_model_name": "ButtonStyleModel",
            "_view_count": null,
            "_view_module": "@jupyter-widgets/base",
            "_view_module_version": "1.2.0",
            "_view_name": "StyleView",
            "button_color": null,
            "font_weight": ""
          }
        },
        "3d72c91597404e7c9024859514f59f3a": {
          "model_module": "@jupyter-widgets/base",
          "model_name": "LayoutModel",
          "model_module_version": "1.2.0",
          "state": {
            "_model_module": "@jupyter-widgets/base",
            "_model_module_version": "1.2.0",
            "_model_name": "LayoutModel",
            "_view_count": null,
            "_view_module": "@jupyter-widgets/base",
            "_view_module_version": "1.2.0",
            "_view_name": "LayoutView",
            "align_content": null,
            "align_items": null,
            "align_self": null,
            "border": null,
            "bottom": null,
            "display": null,
            "flex": null,
            "flex_flow": null,
            "grid_area": null,
            "grid_auto_columns": null,
            "grid_auto_flow": null,
            "grid_auto_rows": null,
            "grid_column": null,
            "grid_gap": null,
            "grid_row": null,
            "grid_template_areas": null,
            "grid_template_columns": null,
            "grid_template_rows": null,
            "height": null,
            "justify_content": null,
            "justify_items": null,
            "left": null,
            "margin": null,
            "max_height": null,
            "max_width": null,
            "min_height": null,
            "min_width": null,
            "object_fit": null,
            "object_position": null,
            "order": null,
            "overflow": null,
            "overflow_x": null,
            "overflow_y": null,
            "padding": null,
            "right": null,
            "top": null,
            "visibility": null,
            "width": null
          }
        },
        "72b467628a204518b02265f4a8ebdbfd": {
          "model_module": "@jupyter-widgets/controls",
          "model_name": "ButtonStyleModel",
          "model_module_version": "1.5.0",
          "state": {
            "_model_module": "@jupyter-widgets/controls",
            "_model_module_version": "1.5.0",
            "_model_name": "ButtonStyleModel",
            "_view_count": null,
            "_view_module": "@jupyter-widgets/base",
            "_view_module_version": "1.2.0",
            "_view_name": "StyleView",
            "button_color": null,
            "font_weight": ""
          }
        },
        "50d6bbbbeea4401089e3b41beffc49af": {
          "model_module": "@jupyter-widgets/base",
          "model_name": "LayoutModel",
          "model_module_version": "1.2.0",
          "state": {
            "_model_module": "@jupyter-widgets/base",
            "_model_module_version": "1.2.0",
            "_model_name": "LayoutModel",
            "_view_count": null,
            "_view_module": "@jupyter-widgets/base",
            "_view_module_version": "1.2.0",
            "_view_name": "LayoutView",
            "align_content": null,
            "align_items": null,
            "align_self": null,
            "border": null,
            "bottom": null,
            "display": null,
            "flex": null,
            "flex_flow": null,
            "grid_area": null,
            "grid_auto_columns": null,
            "grid_auto_flow": null,
            "grid_auto_rows": null,
            "grid_column": null,
            "grid_gap": null,
            "grid_row": null,
            "grid_template_areas": null,
            "grid_template_columns": null,
            "grid_template_rows": null,
            "height": null,
            "justify_content": null,
            "justify_items": null,
            "left": null,
            "margin": null,
            "max_height": null,
            "max_width": null,
            "min_height": null,
            "min_width": null,
            "object_fit": null,
            "object_position": null,
            "order": null,
            "overflow": null,
            "overflow_x": null,
            "overflow_y": null,
            "padding": null,
            "right": null,
            "top": null,
            "visibility": null,
            "width": null
          }
        },
        "5f9e5d56d8f7458f9ece3b0fbd944732": {
          "model_module": "@jupyter-widgets/controls",
          "model_name": "DescriptionStyleModel",
          "model_module_version": "1.5.0",
          "state": {
            "_model_module": "@jupyter-widgets/controls",
            "_model_module_version": "1.5.0",
            "_model_name": "DescriptionStyleModel",
            "_view_count": null,
            "_view_module": "@jupyter-widgets/base",
            "_view_module_version": "1.2.0",
            "_view_name": "StyleView",
            "description_width": ""
          }
        },
        "6498a7e4df744e0c8b519c332849e572": {
          "model_module": "@jupyter-widgets/base",
          "model_name": "LayoutModel",
          "model_module_version": "1.2.0",
          "state": {
            "_model_module": "@jupyter-widgets/base",
            "_model_module_version": "1.2.0",
            "_model_name": "LayoutModel",
            "_view_count": null,
            "_view_module": "@jupyter-widgets/base",
            "_view_module_version": "1.2.0",
            "_view_name": "LayoutView",
            "align_content": null,
            "align_items": null,
            "align_self": null,
            "border": null,
            "bottom": null,
            "display": null,
            "flex": null,
            "flex_flow": null,
            "grid_area": null,
            "grid_auto_columns": null,
            "grid_auto_flow": null,
            "grid_auto_rows": null,
            "grid_column": null,
            "grid_gap": null,
            "grid_row": null,
            "grid_template_areas": null,
            "grid_template_columns": null,
            "grid_template_rows": null,
            "height": null,
            "justify_content": null,
            "justify_items": null,
            "left": null,
            "margin": null,
            "max_height": null,
            "max_width": null,
            "min_height": null,
            "min_width": null,
            "object_fit": null,
            "object_position": null,
            "order": null,
            "overflow": null,
            "overflow_x": null,
            "overflow_y": null,
            "padding": null,
            "right": null,
            "top": null,
            "visibility": null,
            "width": "60px"
          }
        },
        "77e57fb9c92e4010a4f6dbefa9170ab5": {
          "model_module": "@jupyter-widgets/controls",
          "model_name": "DescriptionStyleModel",
          "model_module_version": "1.5.0",
          "state": {
            "_model_module": "@jupyter-widgets/controls",
            "_model_module_version": "1.5.0",
            "_model_name": "DescriptionStyleModel",
            "_view_count": null,
            "_view_module": "@jupyter-widgets/base",
            "_view_module_version": "1.2.0",
            "_view_name": "StyleView",
            "description_width": ""
          }
        },
        "d845625759184a3280ea4800cbdda24e": {
          "model_module": "@jupyter-widgets/base",
          "model_name": "LayoutModel",
          "model_module_version": "1.2.0",
          "state": {
            "_model_module": "@jupyter-widgets/base",
            "_model_module_version": "1.2.0",
            "_model_name": "LayoutModel",
            "_view_count": null,
            "_view_module": "@jupyter-widgets/base",
            "_view_module_version": "1.2.0",
            "_view_name": "LayoutView",
            "align_content": null,
            "align_items": null,
            "align_self": null,
            "border": null,
            "bottom": null,
            "display": null,
            "flex": null,
            "flex_flow": null,
            "grid_area": null,
            "grid_auto_columns": null,
            "grid_auto_flow": null,
            "grid_auto_rows": null,
            "grid_column": null,
            "grid_gap": null,
            "grid_row": null,
            "grid_template_areas": null,
            "grid_template_columns": null,
            "grid_template_rows": null,
            "height": null,
            "justify_content": null,
            "justify_items": null,
            "left": null,
            "margin": null,
            "max_height": null,
            "max_width": null,
            "min_height": null,
            "min_width": null,
            "object_fit": null,
            "object_position": null,
            "order": null,
            "overflow": null,
            "overflow_x": null,
            "overflow_y": null,
            "padding": null,
            "right": null,
            "top": null,
            "visibility": null,
            "width": null
          }
        },
        "23140db580ed47bda784ca81b78b22e8": {
          "model_module": "@jupyter-widgets/controls",
          "model_name": "ButtonStyleModel",
          "model_module_version": "1.5.0",
          "state": {
            "_model_module": "@jupyter-widgets/controls",
            "_model_module_version": "1.5.0",
            "_model_name": "ButtonStyleModel",
            "_view_count": null,
            "_view_module": "@jupyter-widgets/base",
            "_view_module_version": "1.2.0",
            "_view_name": "StyleView",
            "button_color": null,
            "font_weight": ""
          }
        },
        "f9227e2d31a84b38ac498a4167f4ccf4": {
          "model_module": "@jupyter-widgets/base",
          "model_name": "LayoutModel",
          "model_module_version": "1.2.0",
          "state": {
            "_model_module": "@jupyter-widgets/base",
            "_model_module_version": "1.2.0",
            "_model_name": "LayoutModel",
            "_view_count": null,
            "_view_module": "@jupyter-widgets/base",
            "_view_module_version": "1.2.0",
            "_view_name": "LayoutView",
            "align_content": null,
            "align_items": null,
            "align_self": null,
            "border": null,
            "bottom": null,
            "display": null,
            "flex": null,
            "flex_flow": null,
            "grid_area": null,
            "grid_auto_columns": null,
            "grid_auto_flow": null,
            "grid_auto_rows": null,
            "grid_column": null,
            "grid_gap": null,
            "grid_row": null,
            "grid_template_areas": null,
            "grid_template_columns": null,
            "grid_template_rows": null,
            "height": null,
            "justify_content": null,
            "justify_items": null,
            "left": null,
            "margin": null,
            "max_height": null,
            "max_width": null,
            "min_height": null,
            "min_width": null,
            "object_fit": null,
            "object_position": null,
            "order": null,
            "overflow": null,
            "overflow_x": null,
            "overflow_y": null,
            "padding": null,
            "right": null,
            "top": null,
            "visibility": null,
            "width": null
          }
        },
        "199a2a4006d346cf919b7ec67c0a257e": {
          "model_module": "@jupyter-widgets/controls",
          "model_name": "ButtonStyleModel",
          "model_module_version": "1.5.0",
          "state": {
            "_model_module": "@jupyter-widgets/controls",
            "_model_module_version": "1.5.0",
            "_model_name": "ButtonStyleModel",
            "_view_count": null,
            "_view_module": "@jupyter-widgets/base",
            "_view_module_version": "1.2.0",
            "_view_name": "StyleView",
            "button_color": null,
            "font_weight": ""
          }
        },
        "eaf22836818740f48424f951e88ed32b": {
          "model_module": "@jupyter-widgets/base",
          "model_name": "LayoutModel",
          "model_module_version": "1.2.0",
          "state": {
            "_model_module": "@jupyter-widgets/base",
            "_model_module_version": "1.2.0",
            "_model_name": "LayoutModel",
            "_view_count": null,
            "_view_module": "@jupyter-widgets/base",
            "_view_module_version": "1.2.0",
            "_view_name": "LayoutView",
            "align_content": null,
            "align_items": null,
            "align_self": null,
            "border": null,
            "bottom": null,
            "display": null,
            "flex": null,
            "flex_flow": null,
            "grid_area": null,
            "grid_auto_columns": null,
            "grid_auto_flow": null,
            "grid_auto_rows": null,
            "grid_column": null,
            "grid_gap": null,
            "grid_row": null,
            "grid_template_areas": null,
            "grid_template_columns": null,
            "grid_template_rows": null,
            "height": null,
            "justify_content": null,
            "justify_items": null,
            "left": null,
            "margin": null,
            "max_height": null,
            "max_width": null,
            "min_height": null,
            "min_width": null,
            "object_fit": null,
            "object_position": null,
            "order": null,
            "overflow": null,
            "overflow_x": null,
            "overflow_y": null,
            "padding": null,
            "right": null,
            "top": null,
            "visibility": null,
            "width": null
          }
        },
        "a7b4e553e13a43dca11946aeb22ccbb5": {
          "model_module": "@jupyter-widgets/controls",
          "model_name": "ButtonStyleModel",
          "model_module_version": "1.5.0",
          "state": {
            "_model_module": "@jupyter-widgets/controls",
            "_model_module_version": "1.5.0",
            "_model_name": "ButtonStyleModel",
            "_view_count": null,
            "_view_module": "@jupyter-widgets/base",
            "_view_module_version": "1.2.0",
            "_view_name": "StyleView",
            "button_color": null,
            "font_weight": ""
          }
        }
      }
    }
  },
  "cells": [
    {
      "cell_type": "markdown",
      "metadata": {
        "id": "view-in-github",
        "colab_type": "text"
      },
      "source": [
        "<a href=\"https://colab.research.google.com/github/brendanpshea/database_sql/blob/main/Database_07_Views.ipynb\" target=\"_parent\"><img src=\"https://colab.research.google.com/assets/colab-badge.svg\" alt=\"Open In Colab\"/></a>"
      ]
    },
    {
      "cell_type": "markdown",
      "source": [
        "# A Musical \"VIEW\" For Better Data Presentation\n",
        "### Database and SQL Through Pop Culture | Brendan Shea, PhD\n",
        "\n",
        "In the world of database management, presenting and manipulating data efficiently and securely is paramount. SQLite, a lightweight yet powerful relational database management system, offers two invaluable tools for achieving these goals: Views and Common Table Expressions (CTEs).\n",
        "\n",
        "Views are virtual tables that encapsulate complex queries, allowing you to present data in a simplified, reusable manner. They provide a way to aggregate information, control access to sensitive data, and create user-friendly interfaces for querying. CTEs, on the other hand, are temporary named result sets within a single SQL statement. They enable you to break down intricate queries into manageable parts, making your code more readable and maintainable.\n",
        "\n",
        "In this chapter, we will dive deep into the concepts of Views and CTEs in SQLite. Using a real-world dataset related to music, sourced from Rollingstone and Spotify, we will explore practical examples and step-by-step explanations. You will learn how to create and utilize Views and CTEs effectively to present, aggregate, and secure your data.\n",
        "\n",
        "Whether you are a novice or an experienced SQLite user, mastering Views and CTEs is essential for developing efficient and sustainable database solutions. By the end of this chapter, you will have a firm grasp of these concepts and be equipped to apply them in your own projects. Let's embark on this journey to unlock the full potential of Views and CTEs in SQLite!\n",
        "\n",
        "Learning Outcomes:\n",
        "\n",
        "1.  Understand the concept and benefits of Views in SQLite\n",
        "2.  Learn how to create and query Views for presenting and aggregating data\n",
        "3.  Explore the use of Views for securing sensitive data\n",
        "4.  Discover the different types of Views and their use cases\n",
        "5.  Understand Common Table Expressions (CTEs) and their syntax\n",
        "6.  Learn how to use CTEs to simplify complex queries and improve code readability\n",
        "7.  Explore real-world examples and case studies of using Views and CTEs in a music ranking web app\n",
        "8.  Gain insights into data governance, data loss prevention, and compliance with global regulations like GDPR\n",
        "\n",
        "Keywords: SQLite, Views, Common Table Expressions, CTEs, Data Presentation, Data Aggregation, Data Security, Data Governance, GDPR"
      ],
      "metadata": {
        "id": "xxueb3q7wFhK"
      }
    },
    {
      "cell_type": "markdown",
      "source": [
        "## Brendan's Lecture"
      ],
      "metadata": {
        "id": "WTCYy7jyZN0l"
      }
    },
    {
      "cell_type": "code",
      "source": [
        "from IPython.display import YouTubeVideo\n",
        "YouTubeVideo('UYlAo8F9wco', width=800, height=500)"
      ],
      "metadata": {
        "id": "cetLjPoaZZgF"
      },
      "execution_count": null,
      "outputs": []
    },
    {
      "cell_type": "code",
      "execution_count": null,
      "metadata": {
        "id": "Tb0rvhHAzSBN"
      },
      "outputs": [],
      "source": [
        "!wget https://github.com/brendanpshea/database_sql/raw/main/data/rs_greatest_albums.db -q -nc\n",
        "%load_ext sql\n",
        "%sql sqlite:///rs_greatest_albums.db"
      ]
    },
    {
      "cell_type": "markdown",
      "source": [
        "## Data Dictionary for \"Rolling Stone's Greatest Albums DB.\"\n",
        "Before diving into views, it is good to get familiar with our data. Here's the **data dictionary** for our database. (Brendan's Note: I created this database manually, using Rollingstone's lists as a starting point, and then getting the other data from Spotify **Application Programming Interface (API)**.\n",
        "\n",
        "#### **Table: `artists`**\n",
        "\n",
        "This table contains information about the artists included in the RollingStone's greatest albums lists.\n",
        "\n",
        "| **Column Name** | **Data Type** | **Description** |\n",
        "| --- | --- | --- |\n",
        "| `artist_id` | STRING | Unique identifier for each artist. |\n",
        "| `Artist` | TEXT | Name of the artist. |\n",
        "| `followers` | INTEGER | Number of followers the artist has on Spotify. |\n",
        "| `genres` | TEXT | Comma-separated list of genres associated with the artist. |\n",
        "| `popularity` | INTEGER | Popularity score of the artist on Spotify, ranging from 0 to 100. |\n",
        "\n",
        "#### **Table: `albums`**\n",
        "\n",
        "This table contains information about the albums listed in RollingStone's greatest albums lists of various years.\n",
        "\n",
        "| **Column Name** | **Data Type** | **Description** |\n",
        "| --- | --- | --- |\n",
        "| `album_id` | STRING | Unique identifier for each album. |\n",
        "| `Album` | TEXT | Title of the album. |\n",
        "| `artist_id` | STRING | Unique identifier for the artist who created the album. |\n",
        "| `Year` | INTEGER | Year the album was released. |\n",
        "| `rank_2003` | INTEGER | Ranking of the album in RollingStone's 2003 list. |\n",
        "| `rank_2012` | INTEGER | Ranking of the album in RollingStone's 2012 list. |\n",
        "| `rank_2020` | INTEGER | Ranking of the album in RollingStone's 2020 list. |\n",
        "| `rank_2023` | INTEGER | Ranking of the album in RollingStone's 2023 list. |\n",
        "| **Foreign Key** |  | **FOREIGN KEY (`artist_id`) REFERENCES `artists`(`artist_id`)** |\n",
        "\n",
        "#### **Table: `tracks`**\n",
        "\n",
        "This table contains information about the tracks within the albums listed in the database.\n",
        "\n",
        "| **Column Name** | **Data Type** | **Description** |\n",
        "| --- | --- | --- |\n",
        "| `track_id` | STRING | Unique identifier for each track. |\n",
        "| `track_name` | TEXT | Name of the track. |\n",
        "| `album_id` | STRING | Unique identifier for the album that the track belongs to. |\n",
        "| `track_number` | INTEGER | The position of the track within the album. |\n",
        "| `duration_ms` | INTEGER | Duration of the track in milliseconds. |\n",
        "| **Foreign Key** |  | **FOREIGN KEY (`album_id`) REFERENCES `albums`(`album_id`)** |"
      ],
      "metadata": {
        "id": "qGLWN79z0zMl"
      }
    },
    {
      "cell_type": "markdown",
      "source": [
        "### Examining the \"Head\" of the Data\n",
        "Before trying to design our own queries, let's take a look at the **head** of the data (that is, the first few rows). We can do this using LIMIT."
      ],
      "metadata": {
        "id": "eqEkb8ityFCr"
      }
    },
    {
      "cell_type": "code",
      "source": [
        "%%sql\n",
        "SELECT * FROM artists LIMIT 5;"
      ],
      "metadata": {
        "colab": {
          "base_uri": "https://localhost:8080/",
          "height": 179
        },
        "id": "ilVmdgVY1kZv",
        "outputId": "4c590b6b-2820-4b00-de86-6d63b48edcf1"
      },
      "execution_count": null,
      "outputs": [
        {
          "output_type": "stream",
          "name": "stdout",
          "text": [
            " * sqlite:///rs_greatest_albums.db\n",
            "Done.\n"
          ]
        },
        {
          "output_type": "execute_result",
          "data": {
            "text/plain": [
              "[('3koiLjNrgRTNbOwViDipeA', 'Gaye, Marvin', 5313182, \"['classic soul', 'motown', 'neo soul', 'northern soul', 'quiet storm', 'soul']\", 71),\n",
              " ('3oDbviiivRWhXwIE8hxkVV', 'Beach Boys', 4499081, \"['baroque pop', 'classic rock', 'folk rock', 'mellow gold', 'psychedelic rock', 'rock', 'singer-songwriter', 'sunshine pop']\", 71),\n",
              " ('5hW4L92KnC6dX9t7tYM4Ve', 'Mitchell, Joni', 1461857, \"['canadian singer-songwriter', 'folk', 'folk rock', 'singer-songwriter']\", 59),\n",
              " ('7guDJrEfX3qb6FEbdPA5qi', 'Wonder, Stevie', 6427524, \"['motown', 'soul']\", 73),\n",
              " ('3WrFJ7ztbogyGnTHbHJFl2', 'Beatles', 27469908, \"['british invasion', 'classic rock', 'merseybeat', 'psychedelic rock', 'rock']\", 82)]"
            ],
            "text/html": [
              "<table>\n",
              "    <thead>\n",
              "        <tr>\n",
              "            <th>artist_id</th>\n",
              "            <th>Artist</th>\n",
              "            <th>followers</th>\n",
              "            <th>genres</th>\n",
              "            <th>popularity</th>\n",
              "        </tr>\n",
              "    </thead>\n",
              "    <tbody>\n",
              "        <tr>\n",
              "            <td>3koiLjNrgRTNbOwViDipeA</td>\n",
              "            <td>Gaye, Marvin</td>\n",
              "            <td>5313182</td>\n",
              "            <td>[&#x27;classic soul&#x27;, &#x27;motown&#x27;, &#x27;neo soul&#x27;, &#x27;northern soul&#x27;, &#x27;quiet storm&#x27;, &#x27;soul&#x27;]</td>\n",
              "            <td>71</td>\n",
              "        </tr>\n",
              "        <tr>\n",
              "            <td>3oDbviiivRWhXwIE8hxkVV</td>\n",
              "            <td>Beach Boys</td>\n",
              "            <td>4499081</td>\n",
              "            <td>[&#x27;baroque pop&#x27;, &#x27;classic rock&#x27;, &#x27;folk rock&#x27;, &#x27;mellow gold&#x27;, &#x27;psychedelic rock&#x27;, &#x27;rock&#x27;, &#x27;singer-songwriter&#x27;, &#x27;sunshine pop&#x27;]</td>\n",
              "            <td>71</td>\n",
              "        </tr>\n",
              "        <tr>\n",
              "            <td>5hW4L92KnC6dX9t7tYM4Ve</td>\n",
              "            <td>Mitchell, Joni</td>\n",
              "            <td>1461857</td>\n",
              "            <td>[&#x27;canadian singer-songwriter&#x27;, &#x27;folk&#x27;, &#x27;folk rock&#x27;, &#x27;singer-songwriter&#x27;]</td>\n",
              "            <td>59</td>\n",
              "        </tr>\n",
              "        <tr>\n",
              "            <td>7guDJrEfX3qb6FEbdPA5qi</td>\n",
              "            <td>Wonder, Stevie</td>\n",
              "            <td>6427524</td>\n",
              "            <td>[&#x27;motown&#x27;, &#x27;soul&#x27;]</td>\n",
              "            <td>73</td>\n",
              "        </tr>\n",
              "        <tr>\n",
              "            <td>3WrFJ7ztbogyGnTHbHJFl2</td>\n",
              "            <td>Beatles</td>\n",
              "            <td>27469908</td>\n",
              "            <td>[&#x27;british invasion&#x27;, &#x27;classic rock&#x27;, &#x27;merseybeat&#x27;, &#x27;psychedelic rock&#x27;, &#x27;rock&#x27;]</td>\n",
              "            <td>82</td>\n",
              "        </tr>\n",
              "    </tbody>\n",
              "</table>"
            ]
          },
          "metadata": {},
          "execution_count": 2
        }
      ]
    },
    {
      "cell_type": "code",
      "source": [
        "%%sql\n",
        "SELECT * FROM albums LIMIT 5;"
      ],
      "metadata": {
        "colab": {
          "base_uri": "https://localhost:8080/",
          "height": 179
        },
        "id": "nbasl4suw4BH",
        "outputId": "2eaccc7c-8bfd-4df2-853a-665b88419afb"
      },
      "execution_count": null,
      "outputs": [
        {
          "output_type": "stream",
          "name": "stdout",
          "text": [
            " * sqlite:///rs_greatest_albums.db\n",
            "Done.\n"
          ]
        },
        {
          "output_type": "execute_result",
          "data": {
            "text/plain": [
              "[('7qD9oSiS3xFJsw2oSV2akp', \"What's Going On\", '3koiLjNrgRTNbOwViDipeA', 1971, 6, 6, 1, 1),\n",
              " ('2CNEkSE8TADXRT2AzcEt1b', 'Pet Sounds', '3oDbviiivRWhXwIE8hxkVV', 1966, 2, 2, 2, 2),\n",
              " ('1vz94WpXDVYIEGja8cjFNa', 'Blue', '5hW4L92KnC6dX9t7tYM4Ve', 1971, 30, 30, 3, 3),\n",
              " ('6YUCc2RiXcEKS9ibuZxjt0', 'Songs in the Key of Life', '7guDJrEfX3qb6FEbdPA5qi', 1976, 57, 57, 4, 4),\n",
              " ('0ETFjACtuP2ADo6LFhL6HN', 'Abbey Road', '3WrFJ7ztbogyGnTHbHJFl2', 1969, 14, 14, 5, 5)]"
            ],
            "text/html": [
              "<table>\n",
              "    <thead>\n",
              "        <tr>\n",
              "            <th>album_id</th>\n",
              "            <th>Album</th>\n",
              "            <th>artist_id</th>\n",
              "            <th>Year</th>\n",
              "            <th>rank_2003</th>\n",
              "            <th>rank_2012</th>\n",
              "            <th>rank_2020</th>\n",
              "            <th>rank_2023</th>\n",
              "        </tr>\n",
              "    </thead>\n",
              "    <tbody>\n",
              "        <tr>\n",
              "            <td>7qD9oSiS3xFJsw2oSV2akp</td>\n",
              "            <td>What&#x27;s Going On</td>\n",
              "            <td>3koiLjNrgRTNbOwViDipeA</td>\n",
              "            <td>1971</td>\n",
              "            <td>6</td>\n",
              "            <td>6</td>\n",
              "            <td>1</td>\n",
              "            <td>1</td>\n",
              "        </tr>\n",
              "        <tr>\n",
              "            <td>2CNEkSE8TADXRT2AzcEt1b</td>\n",
              "            <td>Pet Sounds</td>\n",
              "            <td>3oDbviiivRWhXwIE8hxkVV</td>\n",
              "            <td>1966</td>\n",
              "            <td>2</td>\n",
              "            <td>2</td>\n",
              "            <td>2</td>\n",
              "            <td>2</td>\n",
              "        </tr>\n",
              "        <tr>\n",
              "            <td>1vz94WpXDVYIEGja8cjFNa</td>\n",
              "            <td>Blue</td>\n",
              "            <td>5hW4L92KnC6dX9t7tYM4Ve</td>\n",
              "            <td>1971</td>\n",
              "            <td>30</td>\n",
              "            <td>30</td>\n",
              "            <td>3</td>\n",
              "            <td>3</td>\n",
              "        </tr>\n",
              "        <tr>\n",
              "            <td>6YUCc2RiXcEKS9ibuZxjt0</td>\n",
              "            <td>Songs in the Key of Life</td>\n",
              "            <td>7guDJrEfX3qb6FEbdPA5qi</td>\n",
              "            <td>1976</td>\n",
              "            <td>57</td>\n",
              "            <td>57</td>\n",
              "            <td>4</td>\n",
              "            <td>4</td>\n",
              "        </tr>\n",
              "        <tr>\n",
              "            <td>0ETFjACtuP2ADo6LFhL6HN</td>\n",
              "            <td>Abbey Road</td>\n",
              "            <td>3WrFJ7ztbogyGnTHbHJFl2</td>\n",
              "            <td>1969</td>\n",
              "            <td>14</td>\n",
              "            <td>14</td>\n",
              "            <td>5</td>\n",
              "            <td>5</td>\n",
              "        </tr>\n",
              "    </tbody>\n",
              "</table>"
            ]
          },
          "metadata": {},
          "execution_count": 3
        }
      ]
    },
    {
      "cell_type": "code",
      "source": [
        "%%sql\n",
        "SELECT * FROM tracks LIMIT 5;"
      ],
      "metadata": {
        "colab": {
          "base_uri": "https://localhost:8080/",
          "height": 179
        },
        "id": "aQ4DTOH7w7JD",
        "outputId": "d72ed112-26e7-4587-cf3a-7b9e544ebde4"
      },
      "execution_count": null,
      "outputs": [
        {
          "output_type": "stream",
          "name": "stdout",
          "text": [
            " * sqlite:///rs_greatest_albums.db\n",
            "Done.\n"
          ]
        },
        {
          "output_type": "execute_result",
          "data": {
            "text/plain": [
              "[('4cgLt753cDfsBAbpOcGnZi', \"What's Going On - Detroit Mix\", '7qD9oSiS3xFJsw2oSV2akp', 1, 247840),\n",
              " ('0lz97gXzH4DD822L62kLeK', \"What's Happening Brother - Detroit Mix\", '7qD9oSiS3xFJsw2oSV2akp', 2, 163146),\n",
              " ('0oQV9CKXruLbVUTn76eBnr', \"Flyin' High (In The Friendly Sky) - Detroit Mix\", '7qD9oSiS3xFJsw2oSV2akp', 3, 228693),\n",
              " ('3KAbXV1OSwthoke6BqR0y5', 'Save The Children - Detroit Mix', '7qD9oSiS3xFJsw2oSV2akp', 4, 241626),\n",
              " ('1J3WjiLbPAdW0mSBTxoHQF', 'God Is Love - Detroit Mix', '7qD9oSiS3xFJsw2oSV2akp', 5, 106733)]"
            ],
            "text/html": [
              "<table>\n",
              "    <thead>\n",
              "        <tr>\n",
              "            <th>track_id</th>\n",
              "            <th>track_name</th>\n",
              "            <th>album_id</th>\n",
              "            <th>track_number</th>\n",
              "            <th>duration_ms</th>\n",
              "        </tr>\n",
              "    </thead>\n",
              "    <tbody>\n",
              "        <tr>\n",
              "            <td>4cgLt753cDfsBAbpOcGnZi</td>\n",
              "            <td>What&#x27;s Going On - Detroit Mix</td>\n",
              "            <td>7qD9oSiS3xFJsw2oSV2akp</td>\n",
              "            <td>1</td>\n",
              "            <td>247840</td>\n",
              "        </tr>\n",
              "        <tr>\n",
              "            <td>0lz97gXzH4DD822L62kLeK</td>\n",
              "            <td>What&#x27;s Happening Brother - Detroit Mix</td>\n",
              "            <td>7qD9oSiS3xFJsw2oSV2akp</td>\n",
              "            <td>2</td>\n",
              "            <td>163146</td>\n",
              "        </tr>\n",
              "        <tr>\n",
              "            <td>0oQV9CKXruLbVUTn76eBnr</td>\n",
              "            <td>Flyin&#x27; High (In The Friendly Sky) - Detroit Mix</td>\n",
              "            <td>7qD9oSiS3xFJsw2oSV2akp</td>\n",
              "            <td>3</td>\n",
              "            <td>228693</td>\n",
              "        </tr>\n",
              "        <tr>\n",
              "            <td>3KAbXV1OSwthoke6BqR0y5</td>\n",
              "            <td>Save The Children - Detroit Mix</td>\n",
              "            <td>7qD9oSiS3xFJsw2oSV2akp</td>\n",
              "            <td>4</td>\n",
              "            <td>241626</td>\n",
              "        </tr>\n",
              "        <tr>\n",
              "            <td>1J3WjiLbPAdW0mSBTxoHQF</td>\n",
              "            <td>God Is Love - Detroit Mix</td>\n",
              "            <td>7qD9oSiS3xFJsw2oSV2akp</td>\n",
              "            <td>5</td>\n",
              "            <td>106733</td>\n",
              "        </tr>\n",
              "    </tbody>\n",
              "</table>"
            ]
          },
          "metadata": {},
          "execution_count": 4
        }
      ]
    },
    {
      "cell_type": "markdown",
      "source": [
        "You might notice a few things from this:\n",
        "\n",
        "-   The primary keys (`artist_id`, `album_id`, `track_id`) are strings rather than the more commonly used integers. Spotify likely uses string identifiers because they are **globally unique identifiers (GUIDs)** and can be generated independently across different systems or databases without the need for coordination or central allocation. This allows for better scalability and distributed data management. These sorts of keys are common in **distributed databases** that live on multiple computers, and have large numbers of concurrent users.\n",
        "-   The `genres` column in the `artists` table contains a list of genres associated with each artist. This indicates that an artist can belong to multiple genres, providing a more comprehensive categorization. The genres are stored as a comma-separated list within square brackets, resembling a JSON array format. This structure allows for efficient storage and parsing of multiple genres per artist. However, we'll need to be careful when writing SQL queries to access this.\n",
        "-  The `albums` table includes ranking columns (`rank_2003`, `rank_2012`, `rank_2020`, `rank_2023`) representing the album's position in Rollingstone's greatest albums lists for different years. The presence of multiple ranking columns suggests that the rankings have evolved over time, and the dataset captures these changes.\n",
        "- The `duration_ms` column in the `tracks` table stores the duration of each track in milliseconds. This level of granularity allows for precise analysis and calculations related to track lengths. However, it isn't very friendly to human readers. We'll create a view to fix this."
      ],
      "metadata": {
        "id": "4AC_QLMOySXw"
      }
    },
    {
      "cell_type": "markdown",
      "source": [
        "## What is a VIEW?\n",
        "\n",
        "In SQL, a **view** is a virtual table that is based on the result of a SELECT statement. It acts as a stored query that can be accessed and manipulated as if it were a regular table. Views provide a way to simplify complex queries, present data in a more readable format, and enhance data security by limiting access to specific columns or rows.\n",
        "\n",
        "The general syntax for creating a view in SQ is as follows:\n",
        "\n",
        "```sql\n",
        "CREATE [TEMP | TEMPORARY] VIEW [IF NOT EXISTS] view_name AS\n",
        "SELECT column1, column2, ...\n",
        "FROM table_name\n",
        "WHERE condition;\n",
        "```\n",
        "\n",
        "Let's break down the components of the CREATE VIEW statement:\n",
        "\n",
        "-   `TEMP` or `TEMPORARY`: These keywords are optional and are used to create a temporary view that exists only for the duration of the current session.\n",
        "-   `IF NOT EXISTS`: This clause is optional and prevents an error from occurring if a view with the same name already exists.\n",
        "-   `view_name`: This is the name you assign to the view. It follows the same naming conventions as tables.\n",
        "-   `AS`: This keyword precedes the SELECT statement that defines the view.\n",
        "-   `SELECT`: This is the query that retrieves the data for the view. It can include columns from one or more tables, along with any desired conditions, joins, or aggregations.\n",
        "\n",
        "Once a view is created, you can query it just like you would query a regular table. The view's result set is dynamically generated each time it is accessed, based on the underlying SELECT statement.\n",
        "\n",
        "Here's a simple example of creating a view:"
      ],
      "metadata": {
        "id": "IOSlQKvozwJh"
      }
    },
    {
      "cell_type": "code",
      "source": [
        "%%sql\n",
        "DROP VIEW IF EXISTS artist_info;\n",
        "\n",
        "CREATE VIEW album_info AS\n",
        "SELECT\n",
        "  Albums.album,\n",
        "  Albums.year,\n",
        "  Artist.artist\n",
        "FROM Albums\n",
        "  JOIN Artists ON Albums.artist_id = Artists.artist_id;"
      ],
      "metadata": {
        "colab": {
          "base_uri": "https://localhost:8080/"
        },
        "id": "DGRLKY3gzxCW",
        "outputId": "8f4bf5e4-62e8-47d9-bd1b-77ddbbee0d19"
      },
      "execution_count": null,
      "outputs": [
        {
          "output_type": "stream",
          "name": "stdout",
          "text": [
            " * sqlite:///rs_greatest_albums.db\n",
            "Done.\n",
            "(sqlite3.OperationalError) table album_info already exists\n",
            "[SQL: CREATE VIEW album_info AS\n",
            "SELECT \n",
            "  Albums.album, \n",
            "  Albums.year, \n",
            "  Artist.artist\n",
            "FROM Albums\n",
            "  JOIN Artists ON Albums.artist_id = Artists.artist_id;]\n",
            "(Background on this error at: https://sqlalche.me/e/20/e3q8)\n"
          ]
        }
      ]
    },
    {
      "cell_type": "markdown",
      "source": [],
      "metadata": {
        "id": "jnF11t_vz98F"
      }
    },
    {
      "cell_type": "markdown",
      "source": [
        "In this example, we create a view named `album_info` that combines information from the `albums` and `artists` tables. The view includes the `Album` and `Year` columns from the `albums` table and the `Artist` column from the `artists` table. The tables are joined based on the `artist_id` foreign key relationship.\n",
        "\n",
        "Now, whenever we query the `album_info` view, it will return the result set as defined by the SELECT statement, providing a convenient way to access the combined album and artist information."
      ],
      "metadata": {
        "id": "7ab12SIhz-BJ"
      }
    },
    {
      "cell_type": "code",
      "source": [
        "%%sql\n",
        "SELECT * FROM album_info LIMIT 5;"
      ],
      "metadata": {
        "colab": {
          "base_uri": "https://localhost:8080/",
          "height": 179
        },
        "id": "x95T53gsz_D_",
        "outputId": "8777c6f1-2d21-4350-8012-d3dde0037f88"
      },
      "execution_count": null,
      "outputs": [
        {
          "output_type": "stream",
          "name": "stdout",
          "text": [
            " * sqlite:///rs_greatest_albums.db\n",
            "Done.\n"
          ]
        },
        {
          "output_type": "execute_result",
          "data": {
            "text/plain": [
              "[(\"What's Going On\", 1971, 'Gaye, Marvin'),\n",
              " ('Pet Sounds', 1966, 'Beach Boys'),\n",
              " ('Blue', 1971, 'Mitchell, Joni'),\n",
              " ('Songs in the Key of Life', 1976, 'Wonder, Stevie'),\n",
              " ('Abbey Road', 1969, 'Beatles')]"
            ],
            "text/html": [
              "<table>\n",
              "    <thead>\n",
              "        <tr>\n",
              "            <th>Album</th>\n",
              "            <th>Year</th>\n",
              "            <th>Artist</th>\n",
              "        </tr>\n",
              "    </thead>\n",
              "    <tbody>\n",
              "        <tr>\n",
              "            <td>What&#x27;s Going On</td>\n",
              "            <td>1971</td>\n",
              "            <td>Gaye, Marvin</td>\n",
              "        </tr>\n",
              "        <tr>\n",
              "            <td>Pet Sounds</td>\n",
              "            <td>1966</td>\n",
              "            <td>Beach Boys</td>\n",
              "        </tr>\n",
              "        <tr>\n",
              "            <td>Blue</td>\n",
              "            <td>1971</td>\n",
              "            <td>Mitchell, Joni</td>\n",
              "        </tr>\n",
              "        <tr>\n",
              "            <td>Songs in the Key of Life</td>\n",
              "            <td>1976</td>\n",
              "            <td>Wonder, Stevie</td>\n",
              "        </tr>\n",
              "        <tr>\n",
              "            <td>Abbey Road</td>\n",
              "            <td>1969</td>\n",
              "            <td>Beatles</td>\n",
              "        </tr>\n",
              "    </tbody>\n",
              "</table>"
            ]
          },
          "metadata": {},
          "execution_count": 6
        }
      ]
    },
    {
      "cell_type": "markdown",
      "source": [
        "Views offer several benefits, such as:\n",
        "\n",
        "-   Simplifying complex queries by encapsulating them into a reusable entity.\n",
        "-   Providing a layer of abstraction and hiding the complexity of the underlying tables.\n",
        "-   Enhancing data security by restricting access to specific columns or rows.\n",
        "-   Enabling consistent and centralized data access across multiple queries or applications.\n",
        "\n",
        "In the following sections, we will explore various practical examples of using views in SQLite to present, aggregate, and secure data from the music dataset."
      ],
      "metadata": {
        "id": "rfQZeR-J0Hoc"
      }
    },
    {
      "cell_type": "markdown",
      "source": [
        "## Views for Presenting Data\n",
        "\n",
        "Views provide a powerful way to present data in a more user-friendly and meaningful manner. By creating views, you can customize the appearance of the data, combine information from multiple tables, and present it in a way that is easier to understand and interpret. Let's look at a few examples using the music dataset.\n",
        "\n",
        "### Greatest albums, 2023 version only\n",
        "\n",
        "Suppose you want to create a view that displays only the albums that appeared in the 2023 version of Rollingstone's greatest albums list. Here's how you can achieve that:"
      ],
      "metadata": {
        "id": "jqZoTtht1hp_"
      }
    },
    {
      "cell_type": "code",
      "source": [
        "%%sql\n",
        "DROP VIEW IF EXISTS greatest_albums_2023;\n",
        "\n",
        "CREATE VIEW greatest_albums_2023 AS\n",
        "SELECT\n",
        "  Albums.album,\n",
        "  Artists.artist,\n",
        "  Albums.year,\n",
        "  Albums.rank_2023\n",
        "FROM Albums\n",
        "JOIN Artists ON Albums.artist_id = artists.artist_id\n",
        "WHERE rank_2023 IS NOT NULL\n",
        "ORDER BY rank_2023;"
      ],
      "metadata": {
        "colab": {
          "base_uri": "https://localhost:8080/"
        },
        "id": "F9WhiNQ7zC33",
        "outputId": "141f7580-7188-4d31-a3af-6565012e8a97"
      },
      "execution_count": null,
      "outputs": [
        {
          "output_type": "stream",
          "name": "stdout",
          "text": [
            " * sqlite:///rs_greatest_albums.db\n",
            "Done.\n",
            "Done.\n"
          ]
        },
        {
          "output_type": "execute_result",
          "data": {
            "text/plain": [
              "[]"
            ]
          },
          "metadata": {},
          "execution_count": 7
        }
      ]
    },
    {
      "cell_type": "markdown",
      "source": [
        "In this example, the `greatest_albums_2023` view retrieves the `Album`, `Artist`, `Year`, and `rank_2023` columns from the `albums` and `artists` tables. The tables are joined based on the `artist_id` foreign key relationship. The `WHERE` clause filters the results to include only the albums that have a non-null value in the `rank_2023` column. Finally, the `ORDER BY` clause sorts the albums based on their 2023 ranking.\n",
        "\n",
        "Now, you can query the `greatest_albums_2023` view to retrieve the list of albums from the 2023 version of Rollingstone's list:"
      ],
      "metadata": {
        "id": "YjB-xey11xod"
      }
    },
    {
      "cell_type": "code",
      "source": [
        "%%sql\n",
        "SELECT * FROM greatest_albums_2023 LIMIT 10;"
      ],
      "metadata": {
        "colab": {
          "base_uri": "https://localhost:8080/",
          "height": 284
        },
        "id": "qLKe8d7x6RHH",
        "outputId": "2151d7ff-2d7d-4c6a-c328-067139c9a815"
      },
      "execution_count": null,
      "outputs": [
        {
          "output_type": "stream",
          "name": "stdout",
          "text": [
            " * sqlite:///rs_greatest_albums.db\n",
            "Done.\n"
          ]
        },
        {
          "output_type": "execute_result",
          "data": {
            "text/plain": [
              "[(\"What's Going On\", 'Gaye, Marvin', 1971, 1),\n",
              " ('Pet Sounds', 'Beach Boys', 1966, 2),\n",
              " ('Blue', 'Mitchell, Joni', 1971, 3),\n",
              " ('Songs in the Key of Life', 'Wonder, Stevie', 1976, 4),\n",
              " ('Abbey Road', 'Beatles', 1969, 5),\n",
              " ('Nevermind', 'Nirvana', 1991, 6),\n",
              " ('Rumours', 'Fleetwood Mac', 1977, 7),\n",
              " ('Purple Rain', 'Prince and the Revolution', 1984, 8),\n",
              " ('Blood on the Tracks', 'Dylan, Bob', 1975, 9),\n",
              " ('The Miseducation of Lauryn Hill', 'Hill, Lauryn', 1998, 10)]"
            ],
            "text/html": [
              "<table>\n",
              "    <thead>\n",
              "        <tr>\n",
              "            <th>Album</th>\n",
              "            <th>Artist</th>\n",
              "            <th>Year</th>\n",
              "            <th>rank_2023</th>\n",
              "        </tr>\n",
              "    </thead>\n",
              "    <tbody>\n",
              "        <tr>\n",
              "            <td>What&#x27;s Going On</td>\n",
              "            <td>Gaye, Marvin</td>\n",
              "            <td>1971</td>\n",
              "            <td>1</td>\n",
              "        </tr>\n",
              "        <tr>\n",
              "            <td>Pet Sounds</td>\n",
              "            <td>Beach Boys</td>\n",
              "            <td>1966</td>\n",
              "            <td>2</td>\n",
              "        </tr>\n",
              "        <tr>\n",
              "            <td>Blue</td>\n",
              "            <td>Mitchell, Joni</td>\n",
              "            <td>1971</td>\n",
              "            <td>3</td>\n",
              "        </tr>\n",
              "        <tr>\n",
              "            <td>Songs in the Key of Life</td>\n",
              "            <td>Wonder, Stevie</td>\n",
              "            <td>1976</td>\n",
              "            <td>4</td>\n",
              "        </tr>\n",
              "        <tr>\n",
              "            <td>Abbey Road</td>\n",
              "            <td>Beatles</td>\n",
              "            <td>1969</td>\n",
              "            <td>5</td>\n",
              "        </tr>\n",
              "        <tr>\n",
              "            <td>Nevermind</td>\n",
              "            <td>Nirvana</td>\n",
              "            <td>1991</td>\n",
              "            <td>6</td>\n",
              "        </tr>\n",
              "        <tr>\n",
              "            <td>Rumours</td>\n",
              "            <td>Fleetwood Mac</td>\n",
              "            <td>1977</td>\n",
              "            <td>7</td>\n",
              "        </tr>\n",
              "        <tr>\n",
              "            <td>Purple Rain</td>\n",
              "            <td>Prince and the Revolution</td>\n",
              "            <td>1984</td>\n",
              "            <td>8</td>\n",
              "        </tr>\n",
              "        <tr>\n",
              "            <td>Blood on the Tracks</td>\n",
              "            <td>Dylan, Bob</td>\n",
              "            <td>1975</td>\n",
              "            <td>9</td>\n",
              "        </tr>\n",
              "        <tr>\n",
              "            <td>The Miseducation of Lauryn Hill</td>\n",
              "            <td>Hill, Lauryn</td>\n",
              "            <td>1998</td>\n",
              "            <td>10</td>\n",
              "        </tr>\n",
              "    </tbody>\n",
              "</table>"
            ]
          },
          "metadata": {},
          "execution_count": 8
        }
      ]
    },
    {
      "cell_type": "markdown",
      "source": [
        "### Presenting track information with reading Minutes and Seconds\n",
        "\n",
        "Let's say you want to present the track information in a more readable format by converting the duration from milliseconds to minutes and seconds. Here's how you can create a view for that:"
      ],
      "metadata": {
        "id": "VEtD8Yj37CfO"
      }
    },
    {
      "cell_type": "code",
      "source": [
        "%%sql\n",
        "DROP VIEW IF EXISTS track_info;\n",
        "\n",
        "CREATE VIEW track_info AS\n",
        "SELECT\n",
        "  Tracks.track_name,\n",
        "  Albums.album,\n",
        "  Tracks.track_number,\n",
        "       PRINTF('%d:%02d', duration_ms / 1000 / 60, duration_ms / 1000 % 60) AS duration\n",
        "FROM Tracks\n",
        "  JOIN Albums ON Tracks.album_id = Albums.album_id;"
      ],
      "metadata": {
        "colab": {
          "base_uri": "https://localhost:8080/"
        },
        "id": "LOyqnXKf7D7b",
        "outputId": "cb5c2d62-0b4f-4f19-c685-550f5718854c"
      },
      "execution_count": null,
      "outputs": [
        {
          "output_type": "stream",
          "name": "stdout",
          "text": [
            " * sqlite:///rs_greatest_albums.db\n",
            "Done.\n",
            "Done.\n"
          ]
        },
        {
          "output_type": "execute_result",
          "data": {
            "text/plain": [
              "[]"
            ]
          },
          "metadata": {},
          "execution_count": 9
        }
      ]
    },
    {
      "cell_type": "markdown",
      "source": [
        "In this view, the `track_info` retrieves the `track_name`, `album_id`, `track_number`, and `duration` columns from the `tracks` table. The `printf` function is used to format the `duration_ms` column into a string representation of minutes and seconds (MM:SS format). The `duration_ms` value is divided by 1000 to convert it from milliseconds to seconds, and then the minutes and seconds are extracted using integer division and modulo operations.\n",
        "\n",
        "You can now query the `track_info` view to retrieve the track information with the formatted duration:"
      ],
      "metadata": {
        "id": "muWpTEbV7PvW"
      }
    },
    {
      "cell_type": "code",
      "source": [
        "%%sql\n",
        "SELECT * FROM track_info LIMIT 5;"
      ],
      "metadata": {
        "colab": {
          "base_uri": "https://localhost:8080/",
          "height": 179
        },
        "id": "PSNqG7lK7UGk",
        "outputId": "ee18f14e-df42-4b0f-bda9-c13fa84b18ec"
      },
      "execution_count": null,
      "outputs": [
        {
          "output_type": "stream",
          "name": "stdout",
          "text": [
            " * sqlite:///rs_greatest_albums.db\n",
            "Done.\n"
          ]
        },
        {
          "output_type": "execute_result",
          "data": {
            "text/plain": [
              "[(\"What's Going On - Detroit Mix\", \"What's Going On\", 1, '4:07'),\n",
              " (\"What's Happening Brother - Detroit Mix\", \"What's Going On\", 2, '2:43'),\n",
              " (\"Flyin' High (In The Friendly Sky) - Detroit Mix\", \"What's Going On\", 3, '3:48'),\n",
              " ('Save The Children - Detroit Mix', \"What's Going On\", 4, '4:01'),\n",
              " ('God Is Love - Detroit Mix', \"What's Going On\", 5, '1:46')]"
            ],
            "text/html": [
              "<table>\n",
              "    <thead>\n",
              "        <tr>\n",
              "            <th>track_name</th>\n",
              "            <th>Album</th>\n",
              "            <th>track_number</th>\n",
              "            <th>duration</th>\n",
              "        </tr>\n",
              "    </thead>\n",
              "    <tbody>\n",
              "        <tr>\n",
              "            <td>What&#x27;s Going On - Detroit Mix</td>\n",
              "            <td>What&#x27;s Going On</td>\n",
              "            <td>1</td>\n",
              "            <td>4:07</td>\n",
              "        </tr>\n",
              "        <tr>\n",
              "            <td>What&#x27;s Happening Brother - Detroit Mix</td>\n",
              "            <td>What&#x27;s Going On</td>\n",
              "            <td>2</td>\n",
              "            <td>2:43</td>\n",
              "        </tr>\n",
              "        <tr>\n",
              "            <td>Flyin&#x27; High (In The Friendly Sky) - Detroit Mix</td>\n",
              "            <td>What&#x27;s Going On</td>\n",
              "            <td>3</td>\n",
              "            <td>3:48</td>\n",
              "        </tr>\n",
              "        <tr>\n",
              "            <td>Save The Children - Detroit Mix</td>\n",
              "            <td>What&#x27;s Going On</td>\n",
              "            <td>4</td>\n",
              "            <td>4:01</td>\n",
              "        </tr>\n",
              "        <tr>\n",
              "            <td>God Is Love - Detroit Mix</td>\n",
              "            <td>What&#x27;s Going On</td>\n",
              "            <td>5</td>\n",
              "            <td>1:46</td>\n",
              "        </tr>\n",
              "    </tbody>\n",
              "</table>"
            ]
          },
          "metadata": {},
          "execution_count": 10
        }
      ]
    },
    {
      "cell_type": "markdown",
      "source": [
        "### Albums with biggest change from 2003 to 2023\n",
        "\n",
        "To identify the albums that had the biggest change in ranking from 2003 to 2023, you can create a view that calculates the difference between the rankings:"
      ],
      "metadata": {
        "id": "qnGgqkvo79--"
      }
    },
    {
      "cell_type": "code",
      "source": [
        "%%sql\n",
        "DROP VIEW IF EXISTS biggest_rank_change;\n",
        "\n",
        "CREATE VIEW biggest_rank_change AS\n",
        "SELECT\n",
        "  Albums.album,\n",
        "  Artists.artist,\n",
        "  Albums.year,\n",
        "  Albums.rank_2003,\n",
        "  Albums.rank_2023,\n",
        "       rank_2003 - rank_2023 AS rank_change\n",
        "FROM\n",
        "  Albums\n",
        "  JOIN Artists ON Albums.artist_id = Artists.artist_id\n",
        "WHERE\n",
        "  rank_2003 IS NOT NULL\n",
        "  AND rank_2023 IS NOT NULL\n",
        "ORDER BY ABS(rank_change) DESC\n",
        "LIMIT 10;"
      ],
      "metadata": {
        "colab": {
          "base_uri": "https://localhost:8080/"
        },
        "id": "e0_9YkfI8EM-",
        "outputId": "a3e21ee5-96e2-43c7-e1be-91536565dbc7"
      },
      "execution_count": null,
      "outputs": [
        {
          "output_type": "stream",
          "name": "stdout",
          "text": [
            " * sqlite:///rs_greatest_albums.db\n",
            "Done.\n",
            "Done.\n"
          ]
        },
        {
          "output_type": "execute_result",
          "data": {
            "text/plain": [
              "[]"
            ]
          },
          "metadata": {},
          "execution_count": 11
        }
      ]
    },
    {
      "cell_type": "markdown",
      "source": [
        "In this view, the `biggest_rank_change` retrieves the `Album`, `Artist`, `rank_2003`, `rank_2023`, and `rank_change` columns. The `rank_change` column is calculated by subtracting the `rank_2023` from the `rank_2003`. The `WHERE` clause filters the results to include only albums that have non-null values for both `rank_2003` and `rank_2023`. The `ORDER BY` clause sorts the albums based on the absolute value of the `rank_change` in descending order. Finally, the `LIMIT` clause retrieves only the top 10 albums with the biggest rank change.\n",
        "\n",
        "You can query the `biggest_rank_change` view to see the albums with the most significant changes in ranking between 2003 and 2023:"
      ],
      "metadata": {
        "id": "RqWdXmP48jvo"
      }
    },
    {
      "cell_type": "code",
      "source": [
        "%%sql\n",
        "SELECT * FROM biggest_rank_change"
      ],
      "metadata": {
        "colab": {
          "base_uri": "https://localhost:8080/",
          "height": 284
        },
        "id": "dL3h_8Xb8zJB",
        "outputId": "55df8772-a317-462e-ce65-820e64c7e1c9"
      },
      "execution_count": null,
      "outputs": [
        {
          "output_type": "stream",
          "name": "stdout",
          "text": [
            " * sqlite:///rs_greatest_albums.db\n",
            "Done.\n"
          ]
        },
        {
          "output_type": "execute_result",
          "data": {
            "text/plain": [
              "[('Voodoo', \"D'Angelo\", 2000, 480, 28, 452),\n",
              " ('Aquemini', 'OutKast', 1998, 500, 49, 451),\n",
              " ('The Blueprint', 'Jay-Z', 2001, 456, 50, 406),\n",
              " ('Kid A', 'Radiohead', 2000, 420, 20, 400),\n",
              " ('Enter the Wu_Tang: 36 Chambers', 'Wu Tang Clan', 1993, 382, 27, 355),\n",
              " ('Illmatic', 'Nas', 1994, 396, 44, 352),\n",
              " ('Live Through This', 'Hole', 1994, 458, 106, 352),\n",
              " ('Maggot Brain', 'Funkadelic', 1971, 478, 136, 342),\n",
              " ('The Score', 'Fugees', 1996, 469, 134, 335),\n",
              " ('Heart Like a Wheel', 'Ronstadt, Linda', 1975, 163, 490, -327)]"
            ],
            "text/html": [
              "<table>\n",
              "    <thead>\n",
              "        <tr>\n",
              "            <th>Album</th>\n",
              "            <th>Artist</th>\n",
              "            <th>Year</th>\n",
              "            <th>rank_2003</th>\n",
              "            <th>rank_2023</th>\n",
              "            <th>rank_change</th>\n",
              "        </tr>\n",
              "    </thead>\n",
              "    <tbody>\n",
              "        <tr>\n",
              "            <td>Voodoo</td>\n",
              "            <td>D&#x27;Angelo</td>\n",
              "            <td>2000</td>\n",
              "            <td>480</td>\n",
              "            <td>28</td>\n",
              "            <td>452</td>\n",
              "        </tr>\n",
              "        <tr>\n",
              "            <td>Aquemini</td>\n",
              "            <td>OutKast</td>\n",
              "            <td>1998</td>\n",
              "            <td>500</td>\n",
              "            <td>49</td>\n",
              "            <td>451</td>\n",
              "        </tr>\n",
              "        <tr>\n",
              "            <td>The Blueprint</td>\n",
              "            <td>Jay-Z</td>\n",
              "            <td>2001</td>\n",
              "            <td>456</td>\n",
              "            <td>50</td>\n",
              "            <td>406</td>\n",
              "        </tr>\n",
              "        <tr>\n",
              "            <td>Kid A</td>\n",
              "            <td>Radiohead</td>\n",
              "            <td>2000</td>\n",
              "            <td>420</td>\n",
              "            <td>20</td>\n",
              "            <td>400</td>\n",
              "        </tr>\n",
              "        <tr>\n",
              "            <td>Enter the Wu_Tang: 36 Chambers</td>\n",
              "            <td>Wu Tang Clan</td>\n",
              "            <td>1993</td>\n",
              "            <td>382</td>\n",
              "            <td>27</td>\n",
              "            <td>355</td>\n",
              "        </tr>\n",
              "        <tr>\n",
              "            <td>Illmatic</td>\n",
              "            <td>Nas</td>\n",
              "            <td>1994</td>\n",
              "            <td>396</td>\n",
              "            <td>44</td>\n",
              "            <td>352</td>\n",
              "        </tr>\n",
              "        <tr>\n",
              "            <td>Live Through This</td>\n",
              "            <td>Hole</td>\n",
              "            <td>1994</td>\n",
              "            <td>458</td>\n",
              "            <td>106</td>\n",
              "            <td>352</td>\n",
              "        </tr>\n",
              "        <tr>\n",
              "            <td>Maggot Brain</td>\n",
              "            <td>Funkadelic</td>\n",
              "            <td>1971</td>\n",
              "            <td>478</td>\n",
              "            <td>136</td>\n",
              "            <td>342</td>\n",
              "        </tr>\n",
              "        <tr>\n",
              "            <td>The Score</td>\n",
              "            <td>Fugees</td>\n",
              "            <td>1996</td>\n",
              "            <td>469</td>\n",
              "            <td>134</td>\n",
              "            <td>335</td>\n",
              "        </tr>\n",
              "        <tr>\n",
              "            <td>Heart Like a Wheel</td>\n",
              "            <td>Ronstadt, Linda</td>\n",
              "            <td>1975</td>\n",
              "            <td>163</td>\n",
              "            <td>490</td>\n",
              "            <td>-327</td>\n",
              "        </tr>\n",
              "    </tbody>\n",
              "</table>"
            ]
          },
          "metadata": {},
          "execution_count": 12
        }
      ]
    },
    {
      "cell_type": "markdown",
      "source": [
        "This view has some limitations (for example, it doesn't account for albums that fell out of the rankings altogether). However, it gives a good sense of how critics views have changed over time. For example, many of the albums the had the biggest increases in rank (by D'Angelo, Jay-Z, Radiohead, and Outkast) were still relatively \"new\" in 2003. However, looking back, it appears they have \"stood the test of time.\""
      ],
      "metadata": {
        "id": "pY6CcyUeABuV"
      }
    },
    {
      "cell_type": "markdown",
      "source": [
        "## Views for Aggregating Data\n",
        "\n",
        "In addition to presenting data in a more meaningful way, views can also be used to aggregate data and provide summarized information. Aggregation involves performing calculations or applying functions across multiple rows of data to derive summarized results. Let's explore a couple of examples of using views for data aggregation in our music database.\n",
        "\n",
        "### Artists with the Most Albums in the Database\n",
        "\n",
        "To find out which artists have the most albums in the database, we can create a view that counts the number of albums for each artist and orders the results by the album count in descending order. We'll also include their 2024 popularity (according to Spotify)."
      ],
      "metadata": {
        "id": "lzLggO2jB8uc"
      }
    },
    {
      "cell_type": "code",
      "source": [
        "%%sql\n",
        "DROP VIEW IF EXISTS artist_album_count;\n",
        "\n",
        "CREATE VIEW Artist_Album_Count AS\n",
        "SELECT\n",
        "  Ar.Artist,\n",
        "  COUNT(*) AS Album_Count,\n",
        "  Ar.popularity AS '2024_Popularity'\n",
        "FROM\n",
        "  Albums Al\n",
        "  JOIN Artists Ar ON Al.artist_id = Ar.artist_id\n",
        "GROUP BY Ar.Artist\n",
        "ORDER BY Album_Count DESC;"
      ],
      "metadata": {
        "colab": {
          "base_uri": "https://localhost:8080/"
        },
        "id": "Jh4qFSxGCADN",
        "outputId": "37983b24-b460-4343-ab83-ab3baaca63f0"
      },
      "execution_count": null,
      "outputs": [
        {
          "output_type": "stream",
          "name": "stdout",
          "text": [
            " * sqlite:///rs_greatest_albums.db\n",
            "Done.\n",
            "Done.\n"
          ]
        },
        {
          "output_type": "execute_result",
          "data": {
            "text/plain": [
              "[]"
            ]
          },
          "metadata": {},
          "execution_count": 13
        }
      ]
    },
    {
      "cell_type": "markdown",
      "source": [
        "1.  The view is named `Artist_Album_Count` and selects two columns: `Ar.Artist` (the artist name) and `COUNT(*)` (the count of albums for each artist).\n",
        "2.  The `FROM` clause specifies the `Albums` table as the main table and joins it with the `Artists` table using the `artist_id` foreign key relationship.\n",
        "3.  The `GROUP BY` clause groups the results by `Ar.Artist`, so that the `COUNT(*)` function calculates the number of albums for each unique artist.\n",
        "4.  The `ORDER BY` clause sorts the results based on the `Album_Count` column in descending order, so artists with the most albums appear at the top.\n",
        "\n",
        "To retrieve the results, you can simply query the `Artist_Album_Count` view:"
      ],
      "metadata": {
        "id": "eI38UN4rCalH"
      }
    },
    {
      "cell_type": "code",
      "source": [
        "%%sql\n",
        "SELECT * FROM Artist_Album_Count LIMIT 10;"
      ],
      "metadata": {
        "colab": {
          "base_uri": "https://localhost:8080/",
          "height": 284
        },
        "id": "w3b0RL-aCbNv",
        "outputId": "80ffcf61-273d-40a7-c078-82858d468b32"
      },
      "execution_count": null,
      "outputs": [
        {
          "output_type": "stream",
          "name": "stdout",
          "text": [
            " * sqlite:///rs_greatest_albums.db\n",
            "Done.\n"
          ]
        },
        {
          "output_type": "execute_result",
          "data": {
            "text/plain": [
              "[('Dylan, Bob', 11, 69),\n",
              " ('Rolling Stones', 10, 77),\n",
              " ('Beatles', 10, 82),\n",
              " ('Springsteen, Bruce', 9, 75),\n",
              " ('Who, The', 7, 65),\n",
              " ('Bowie, David', 7, 75),\n",
              " ('West, Kanye', 6, 90),\n",
              " ('Marley, Bob', 6, 80),\n",
              " ('John, Elton', 6, 81),\n",
              " ('Young, Neil', 5, 67)]"
            ],
            "text/html": [
              "<table>\n",
              "    <thead>\n",
              "        <tr>\n",
              "            <th>Artist</th>\n",
              "            <th>Album_Count</th>\n",
              "            <th>2024_Popularity</th>\n",
              "        </tr>\n",
              "    </thead>\n",
              "    <tbody>\n",
              "        <tr>\n",
              "            <td>Dylan, Bob</td>\n",
              "            <td>11</td>\n",
              "            <td>69</td>\n",
              "        </tr>\n",
              "        <tr>\n",
              "            <td>Rolling Stones</td>\n",
              "            <td>10</td>\n",
              "            <td>77</td>\n",
              "        </tr>\n",
              "        <tr>\n",
              "            <td>Beatles</td>\n",
              "            <td>10</td>\n",
              "            <td>82</td>\n",
              "        </tr>\n",
              "        <tr>\n",
              "            <td>Springsteen, Bruce</td>\n",
              "            <td>9</td>\n",
              "            <td>75</td>\n",
              "        </tr>\n",
              "        <tr>\n",
              "            <td>Who, The</td>\n",
              "            <td>7</td>\n",
              "            <td>65</td>\n",
              "        </tr>\n",
              "        <tr>\n",
              "            <td>Bowie, David</td>\n",
              "            <td>7</td>\n",
              "            <td>75</td>\n",
              "        </tr>\n",
              "        <tr>\n",
              "            <td>West, Kanye</td>\n",
              "            <td>6</td>\n",
              "            <td>90</td>\n",
              "        </tr>\n",
              "        <tr>\n",
              "            <td>Marley, Bob</td>\n",
              "            <td>6</td>\n",
              "            <td>80</td>\n",
              "        </tr>\n",
              "        <tr>\n",
              "            <td>John, Elton</td>\n",
              "            <td>6</td>\n",
              "            <td>81</td>\n",
              "        </tr>\n",
              "        <tr>\n",
              "            <td>Young, Neil</td>\n",
              "            <td>5</td>\n",
              "            <td>67</td>\n",
              "        </tr>\n",
              "    </tbody>\n",
              "</table>"
            ]
          },
          "metadata": {},
          "execution_count": 14
        }
      ]
    },
    {
      "cell_type": "markdown",
      "source": [
        "### Average Song Length by Artists\n",
        "We can also create an average song length by artist, to see which artists have the longest (or shortest songs). For example, let's create a view that sorts by longest song length"
      ],
      "metadata": {
        "id": "Hm1Z46meCoFc"
      }
    },
    {
      "cell_type": "code",
      "source": [
        "%%sql\n",
        "DROP VIEW IF EXISTS Average_Song_Length;\n",
        "\n",
        "CREATE VIEW Average_Song_Length AS\n",
        "SELECT\n",
        "  Artists.artist,\n",
        "  -- Average song length minutes\n",
        "  ROUND(AVG(Tracks.duration_ms) / 60000,2) AS avg_song_length,\n",
        "  COUNT(Tracks.track_id) AS num_songs\n",
        "FROM\n",
        "  Tracks\n",
        "  JOIN Albums ON Tracks.album_id = Albums.album_id\n",
        "  JOIN Artists ON Albums.artist_id = Artists.artist_id\n",
        "GROUP BY Artists.artist\n",
        "HAVING num_songs > 5\n",
        "ORDER BY avg_song_length DESC;"
      ],
      "metadata": {
        "colab": {
          "base_uri": "https://localhost:8080/"
        },
        "id": "kRt95Q7BBKmu",
        "outputId": "b6d897a8-12af-45e3-bba9-49ce98ab0bce"
      },
      "execution_count": null,
      "outputs": [
        {
          "output_type": "stream",
          "name": "stdout",
          "text": [
            " * sqlite:///rs_greatest_albums.db\n",
            "Done.\n",
            "Done.\n"
          ]
        },
        {
          "output_type": "execute_result",
          "data": {
            "text/plain": [
              "[]"
            ]
          },
          "metadata": {},
          "execution_count": 26
        }
      ]
    },
    {
      "cell_type": "markdown",
      "source": [
        "This SQL query creates a view named `Average_Song_Length` that calculates the average song length in minutes and the number of songs for each artist in the database. The view performs the following steps:\n",
        "\n",
        "1.  It joins the `Tracks`, `Albums`, and `Artists` tables based on their respective foreign key relationships (`album_id` and `artist_id`).\n",
        "2.  It calculates the average song length for each artist by dividing the `duration_ms` column from the `Tracks` table by 60000 (to convert milliseconds to minutes) and rounds the result to 2 decimal places using the `ROUND` function. The result is aliased as `avg_song_length`.\n",
        "3.  It counts the number of songs for each artist using the `COUNT` function on the `track_id` column from the `Tracks` table. The result is aliased as `num_songs`.\n",
        "4.  It groups the results by the `artist` column from the `Artists` table using the `GROUP BY` clause.\n",
        "5.  It filters the grouped results using the `HAVING` clause to include only artists with more than 5 songs in the database.\n",
        "6.  It orders the results by the `avg_song_length` column in descending order using the `ORDER BY` clause.\n",
        "\n",
        "We can now see the results of this view as follows:"
      ],
      "metadata": {
        "id": "uofKA5W7ckf4"
      }
    },
    {
      "cell_type": "code",
      "source": [
        "%%sql\n",
        "SELECT * FROM Average_Song_Length LIMIT 5;"
      ],
      "metadata": {
        "colab": {
          "base_uri": "https://localhost:8080/",
          "height": 179
        },
        "id": "FweGOIy5clWc",
        "outputId": "3bcd2794-c522-4846-f06d-9804e563e661"
      },
      "execution_count": null,
      "outputs": [
        {
          "output_type": "stream",
          "name": "stdout",
          "text": [
            " * sqlite:///rs_greatest_albums.db\n",
            "Done.\n"
          ]
        },
        {
          "output_type": "execute_result",
          "data": {
            "text/plain": [
              "[('Allman Brothers Band', 11.24, 7),\n",
              " ('Yes', 9.26, 7),\n",
              " ('Davis, Miles', 7.58, 45),\n",
              " ('War', 7.34, 6),\n",
              " ('King Sunny Ade', 7.15, 10)]"
            ],
            "text/html": [
              "<table>\n",
              "    <thead>\n",
              "        <tr>\n",
              "            <th>Artist</th>\n",
              "            <th>avg_song_length</th>\n",
              "            <th>num_songs</th>\n",
              "        </tr>\n",
              "    </thead>\n",
              "    <tbody>\n",
              "        <tr>\n",
              "            <td>Allman Brothers Band</td>\n",
              "            <td>11.24</td>\n",
              "            <td>7</td>\n",
              "        </tr>\n",
              "        <tr>\n",
              "            <td>Yes</td>\n",
              "            <td>9.26</td>\n",
              "            <td>7</td>\n",
              "        </tr>\n",
              "        <tr>\n",
              "            <td>Davis, Miles</td>\n",
              "            <td>7.58</td>\n",
              "            <td>45</td>\n",
              "        </tr>\n",
              "        <tr>\n",
              "            <td>War</td>\n",
              "            <td>7.34</td>\n",
              "            <td>6</td>\n",
              "        </tr>\n",
              "        <tr>\n",
              "            <td>King Sunny Ade</td>\n",
              "            <td>7.15</td>\n",
              "            <td>10</td>\n",
              "        </tr>\n",
              "    </tbody>\n",
              "</table>"
            ]
          },
          "metadata": {},
          "execution_count": 27
        }
      ]
    },
    {
      "cell_type": "markdown",
      "source": [
        "## Views for Securing Data\n",
        "\n",
        "Views can be used as a security mechanism to control access to sensitive data in a database, particularly **Personally Identifiable Information (PII)**. PII refers to any data that can be used to identify a specific individual, either directly or indirectly. Examples of PII include names, email addresses, phone numbers, Social Security Numbers (SSNs), financial account numbers, and more.\n",
        "\n",
        "Protecting PII is crucial for several reasons:\n",
        "\n",
        "1. Many countries have laws and regulations, such as GDPR or HIPAA, that mandate the protection of PII. Failing to comply with these regulations can result in significant fines and legal consequences.\n",
        "2.  Safeguarding individuals' personal information is an ethical responsibility. Mishandling or unauthorized disclosure of PII can lead to identity theft, financial fraud, or other harmful consequences for the affected individuals.\n",
        "3.  Protecting PII helps maintain customer trust and preserves the reputation of the organization. Data breaches or misuse of PII can damage a company's brand and result in loss of customer confidence.\n",
        "\n",
        "By creating views that expose only specific columns or rows from underlying tables, you can restrict users' access to the PII they are authorized to see, maintaining data privacy and security.\n",
        "\n",
        "Let's consider an example scenario where we have a table containing sensitive information about musicians, including their PII.\n",
        "\n",
        "### Fake Data Table - Musician Info\n",
        "\n",
        "First, let's create a fake data table called `Musician_Info` that includes PII:"
      ],
      "metadata": {
        "id": "emUM27eUd_2t"
      }
    },
    {
      "cell_type": "code",
      "source": [
        "%%sql\n",
        "DROP TABLE IF EXISTS Musician_Info;\n",
        "CREATE TABLE Musician_Info (\n",
        "  musician_id INTEGER PRIMARY KEY,\n",
        "  name TEXT,\n",
        "  email TEXT,\n",
        "  phone TEXT,\n",
        "  address TEXT,\n",
        "  ssn TEXT,\n",
        "  bank_account TEXT\n",
        ");\n",
        "\n",
        "INSERT INTO Musician_Info (name, email, phone, address, ssn, bank_account)\n",
        "VALUES\n",
        "  ('Freddie Mercurious', 'freddie@queen.com', '123-456-7890',\n",
        "    '1 Bohemian Rhapsody Lane', '123-45-6789', '1234567890'),\n",
        "  ('Elton Johnsmith', 'elton@rocketman.com', '987-654-3210',\n",
        "    '42 Yellow Brick Road', '987-65-4321', '9876543210');\n",
        "\n",
        "SELECT * FROM Musician_Info;"
      ],
      "metadata": {
        "colab": {
          "base_uri": "https://localhost:8080/",
          "height": 168
        },
        "id": "V481lBBeeAfG",
        "outputId": "06da90b6-e6ba-4e0b-eaac-bab90e2461cb"
      },
      "execution_count": null,
      "outputs": [
        {
          "output_type": "stream",
          "name": "stdout",
          "text": [
            " * sqlite:///rs_greatest_albums.db\n",
            "Done.\n",
            "Done.\n",
            "2 rows affected.\n",
            "Done.\n"
          ]
        },
        {
          "output_type": "execute_result",
          "data": {
            "text/plain": [
              "[(1, 'Freddie Mercurious', 'freddie@queen.com', '123-456-7890', '1 Bohemian Rhapsody Lane', '123-45-6789', '1234567890'),\n",
              " (2, 'Elton Johnsmith', 'elton@rocketman.com', '987-654-3210', '42 Yellow Brick Road', '987-65-4321', '9876543210')]"
            ],
            "text/html": [
              "<table>\n",
              "    <thead>\n",
              "        <tr>\n",
              "            <th>musician_id</th>\n",
              "            <th>name</th>\n",
              "            <th>email</th>\n",
              "            <th>phone</th>\n",
              "            <th>address</th>\n",
              "            <th>ssn</th>\n",
              "            <th>bank_account</th>\n",
              "        </tr>\n",
              "    </thead>\n",
              "    <tbody>\n",
              "        <tr>\n",
              "            <td>1</td>\n",
              "            <td>Freddie Mercurious</td>\n",
              "            <td>freddie@queen.com</td>\n",
              "            <td>123-456-7890</td>\n",
              "            <td>1 Bohemian Rhapsody Lane</td>\n",
              "            <td>123-45-6789</td>\n",
              "            <td>1234567890</td>\n",
              "        </tr>\n",
              "        <tr>\n",
              "            <td>2</td>\n",
              "            <td>Elton Johnsmith</td>\n",
              "            <td>elton@rocketman.com</td>\n",
              "            <td>987-654-3210</td>\n",
              "            <td>42 Yellow Brick Road</td>\n",
              "            <td>987-65-4321</td>\n",
              "            <td>9876543210</td>\n",
              "        </tr>\n",
              "    </tbody>\n",
              "</table>"
            ]
          },
          "metadata": {},
          "execution_count": 33
        }
      ]
    },
    {
      "cell_type": "markdown",
      "source": [
        "In this example, the `Musician_Info` table contains PII columns like `ssn` and `bank_account`, which should not be accessible to all users.\n",
        "\n",
        "### Creating Views to Selectively Hide PII\n",
        "\n",
        "To protect PII, we can create a view that exposes only the non-sensitive columns:"
      ],
      "metadata": {
        "id": "d_qXD2O4eHWL"
      }
    },
    {
      "cell_type": "code",
      "source": [
        "%%sql\n",
        "CREATE VIEW Musician_Public_Info AS\n",
        "SELECT musician_id, name, email, phone, address\n",
        "FROM Musician_Info;"
      ],
      "metadata": {
        "colab": {
          "base_uri": "https://localhost:8080/"
        },
        "id": "LXDkylwAeGoY",
        "outputId": "74973178-0d47-4d51-89a4-5f2719d212b8"
      },
      "execution_count": null,
      "outputs": [
        {
          "output_type": "stream",
          "name": "stdout",
          "text": [
            " * sqlite:///rs_greatest_albums.db\n",
            "Done.\n"
          ]
        },
        {
          "output_type": "execute_result",
          "data": {
            "text/plain": [
              "[]"
            ]
          },
          "metadata": {},
          "execution_count": 31
        }
      ]
    },
    {
      "cell_type": "markdown",
      "source": [
        "The `Musician_Public_Info` view selects only the `musician_id`, `name`, `email`, `phone`, and `address` columns from the `Musician_Info` table, excluding the sensitive PII columns `ssn` and `bank_account`.\n",
        "\n",
        "Now, instead of granting access to the entire `Musician_Info` table, you can grant users access to only the `Musician_Public_Info` view. This way, users can retrieve the public information about musicians without being able to see the PII."
      ],
      "metadata": {
        "id": "hhCjh6xPeaqr"
      }
    },
    {
      "cell_type": "code",
      "source": [
        "%%sql\n",
        "SELECT * FROM Musician_Public_Info;"
      ],
      "metadata": {
        "colab": {
          "base_uri": "https://localhost:8080/",
          "height": 116
        },
        "id": "pM_n86Iaebb5",
        "outputId": "a84498f2-82fa-473b-83f1-c416a54e5805"
      },
      "execution_count": null,
      "outputs": [
        {
          "output_type": "stream",
          "name": "stdout",
          "text": [
            " * sqlite:///rs_greatest_albums.db\n",
            "Done.\n"
          ]
        },
        {
          "output_type": "execute_result",
          "data": {
            "text/plain": [
              "[(1, 'Freddie Mercurious', 'freddie@queen.com', '123-456-7890', '1 Bohemian Rhapsody Lane'),\n",
              " (2, 'Elton Johnsmith', 'elton@rocketman.com', '987-654-3210', '42 Yellow Brick Road')]"
            ],
            "text/html": [
              "<table>\n",
              "    <thead>\n",
              "        <tr>\n",
              "            <th>musician_id</th>\n",
              "            <th>name</th>\n",
              "            <th>email</th>\n",
              "            <th>phone</th>\n",
              "            <th>address</th>\n",
              "        </tr>\n",
              "    </thead>\n",
              "    <tbody>\n",
              "        <tr>\n",
              "            <td>1</td>\n",
              "            <td>Freddie Mercurious</td>\n",
              "            <td>freddie@queen.com</td>\n",
              "            <td>123-456-7890</td>\n",
              "            <td>1 Bohemian Rhapsody Lane</td>\n",
              "        </tr>\n",
              "        <tr>\n",
              "            <td>2</td>\n",
              "            <td>Elton Johnsmith</td>\n",
              "            <td>elton@rocketman.com</td>\n",
              "            <td>987-654-3210</td>\n",
              "            <td>42 Yellow Brick Road</td>\n",
              "        </tr>\n",
              "    </tbody>\n",
              "</table>"
            ]
          },
          "metadata": {},
          "execution_count": 32
        }
      ]
    },
    {
      "cell_type": "markdown",
      "source": [
        "The query above will return only the non-sensitive columns defined in the view."
      ],
      "metadata": {
        "id": "2r2UJpKAeySr"
      }
    },
    {
      "cell_type": "markdown",
      "source": [
        "## Types of Views and When to Use Them\n",
        "\n",
        "SQL supports three types of views: default views, temporary views, and materialized views. Each type of view serves a different purpose and has specific use cases. Let's explore each type and understand when to use them.\n",
        "\n",
        "### Default Views\n",
        "\n",
        "Default views, also known as simple views or regular views, are the most common type of views in SQLite. They are created using the `CREATE VIEW` statement and are stored in the database schema alongside tables. Default views are dynamically updated whenever the underlying tables are modified.\n",
        "\n",
        "```sql\n",
        "CREATE VIEW view_name AS\n",
        "SELECT column1, column2, ...\n",
        "FROM table_name\n",
        "WHERE condition;\n",
        "```\n",
        "\n",
        "Example use case: Suppose you have a music streaming application that allows users to browse and listen to songs. You can create a default view called `Song_Info` that combines relevant information from the `Songs`, `Albums`, and `Artists` tables. This view would provide a simplified and user-friendly interface for querying song details without exposing the underlying table structure.\n",
        "\n",
        "### Temporary Views\n",
        "\n",
        "Temporary views, also known as ephemeral views, are created using the `CREATE TEMPORARY VIEW` statement. They are stored in a separate temporary database and are automatically dropped when the database connection is closed. Temporary views are not persisted in the main database schema and are not visible to other database connections.\n",
        "\n",
        "```sql\n",
        "CREATE TEMPORARY VIEW view_name AS\n",
        "SELECT column1, column2, ...\n",
        "FROM table_name\n",
        "WHERE condition;\n",
        "```\n",
        "\n",
        "Example use case: Imagine you are building a reporting dashboard for a (one-time) music festival. You need to generate various reports based on ticket sales data, but you don't want to modify the original tables. You can create temporary views to perform complex calculations and transformations on the ticket sales data specific to each report. These temporary views will be isolated and won't affect other parts of the application, or be storied after the music festival is finished.\n",
        "\n",
        "### Materialized Views\n",
        "\n",
        "Materialized views are a special type of views that store the result of a query in a separate table. Unlike default views, which are dynamically updated, materialized views are refreshed manually or on a scheduled basis. They provide a snapshot of the data at a specific point in time and can improve query performance by avoiding the need to recompute complex queries each time they are accessed.\n",
        "\n",
        "```sql\n",
        "-- doesn't work in SQLite!\n",
        "CREATE MATERIALIZED VIEW view_name AS\n",
        "SELECT column1, column2, ...\n",
        "FROM table_name\n",
        "WHERE condition;\n",
        "\n",
        "-- Refresh the materialized view\n",
        "REFRESH MATERIALIZED VIEW view_name;\n",
        "```\n",
        "\n",
        "Example use case: Consider a music analytics platform that generates reports on artist popularity based on streaming data. The platform needs to perform complex aggregations and calculations on a large dataset of streaming logs. To improve query performance, you can create a materialized view that pre-computes the popularity metrics for each artist. The materialized view can be refreshed periodically (e.g., daily or weekly) to update the metrics without recomputing the entire dataset each time.\n",
        "\n",
        "It's important to note that SQLite does not have built-in support for materialized views. *Instead, you would simply need to create another table and \"copy\" in the data). However, this is supported by most \"enterprise-scale\" DBMSs, including Postgres, MySQL, Oracle, and SQL Server.\n",
        "\n",
        "When deciding which type of view to use, consider factors such as the complexity of the query, the frequency of data updates, the performance requirements, and the specific needs of your application. Default views are suitable for most common scenarios, while temporary views are useful for session-specific data isolation. Materialized views, although not natively supported in SQLite, can be simulated to improve query performance for complex and resource-intensive queries."
      ],
      "metadata": {
        "id": "1P0uNMIvhbDY"
      }
    },
    {
      "cell_type": "markdown",
      "source": [
        "## Modifying Data in Views\n",
        "\n",
        "In SQLite, views are read-only by default. This means that you cannot directly perform `INSERT`, `UPDATE`, or `DELETE` operations on a view. Views are essentially stored queries that retrieve data from one or more tables, and they do not store data themselves. However, you can drop views using the `DROP VIEW` statement.\n",
        "\n",
        "The reason why views are read-only is that they may not always contain all the necessary information required to modify the underlying tables. Views can be created based on complex queries that involve joins, aggregations, or calculations, making it ambiguous or impossible to determine how to propagate the changes back to the original tables.\n",
        "\n",
        "However, in certain cases, you can overcome this limitation by using triggers. Triggers are special database objects that automatically execute a set of actions in response to specific events, such as `INSERT`, `UPDATE`, or `DELETE` operations on a table.\n",
        "\n",
        "Let's consider the `Musician_Public_Info` view example from the previous section:\n",
        "\n",
        "```sql\n",
        "CREATE VIEW Musician_Public_Info AS\n",
        "SELECT musician_id, name, email, phone, address\n",
        "FROM Musician_Info;\n",
        "```\n",
        "\n",
        "To allow modifications to the `Musician_Public_Info` view, you can create triggers on the underlying `Musician_Info` table. These triggers will intercept the `INSERT`, `UPDATE`, or `DELETE` operations on the view and redirect them to the corresponding table.\n",
        "\n",
        "Here's an example of how you can create a trigger  to enable an INSERT modifications on the `Musician_Public_Info` view:"
      ],
      "metadata": {
        "id": "UYEu_PckiM-E"
      }
    },
    {
      "cell_type": "code",
      "source": [
        "%%sql\n",
        "DROP TRIGGER IF EXISTS Insert_Musician_Public_Info;\n",
        "\n",
        "-- Initially, this statement won't work\n",
        "INSERT INTO Musician_Public_Info (name, email, phone, address)\n",
        "VALUES ('Taylor Drift', 'taylor@example.com', '123-456-7890', '456 Elm St');\n"
      ],
      "metadata": {
        "colab": {
          "base_uri": "https://localhost:8080/"
        },
        "id": "5tA0I4J-jO2S",
        "outputId": "56b55d87-e067-42e0-ec0c-057c2e15847d"
      },
      "execution_count": null,
      "outputs": [
        {
          "output_type": "stream",
          "name": "stdout",
          "text": [
            " * sqlite:///rs_greatest_albums.db\n",
            "Done.\n",
            "(sqlite3.OperationalError) cannot modify Musician_Public_Info because it is a view\n",
            "[SQL: INSERT INTO Musician_Public_Info (name, email, phone, address)\n",
            "VALUES ('Taylor Drift', 'taylor@example.com', '123-456-7890', '456 Elm St');]\n",
            "(Background on this error at: https://sqlalche.me/e/20/e3q8)\n"
          ]
        }
      ]
    },
    {
      "cell_type": "code",
      "source": [
        "%%sql\n",
        "DROP TRIGGER IF EXISTS Insert_Musician_Public_Info;\n",
        "\n",
        "-- Trigger for INSERT operation\n",
        "CREATE TRIGGER Insert_Musician_Public_Info\n",
        "INSTEAD OF INSERT ON Musician_Public_Info\n",
        "FOR EACH ROW\n",
        "BEGIN\n",
        "    INSERT INTO Musician_Info (musician_id, name, email, phone, address)\n",
        "    VALUES (NEW.musician_id, NEW.name, NEW.email, NEW.phone, NEW.address);\n",
        "END;\n"
      ],
      "metadata": {
        "colab": {
          "base_uri": "https://localhost:8080/"
        },
        "id": "5oAxb1W2iNrU",
        "outputId": "ddd07f55-7b04-4bf2-9ae5-7714b48751c8"
      },
      "execution_count": null,
      "outputs": [
        {
          "output_type": "stream",
          "name": "stdout",
          "text": [
            " * sqlite:///rs_greatest_albums.db\n",
            "Done.\n",
            "Done.\n"
          ]
        },
        {
          "output_type": "execute_result",
          "data": {
            "text/plain": [
              "[]"
            ]
          },
          "metadata": {},
          "execution_count": 36
        }
      ]
    },
    {
      "cell_type": "markdown",
      "source": [
        "Now, we should be able to INSERT data into this table:"
      ],
      "metadata": {
        "id": "OP2LY4LQi6X6"
      }
    },
    {
      "cell_type": "code",
      "source": [
        "%%sql\n",
        "-- Insert a new musician into the view\n",
        "INSERT INTO Musician_Public_Info (name, email, phone, address)\n",
        "VALUES ('Taylor Drift', 'taylor@example.com', '123-456-7890', '456 Elm St');\n",
        "\n",
        "SELECT * FROM Musician_Public_Info;"
      ],
      "metadata": {
        "colab": {
          "base_uri": "https://localhost:8080/",
          "height": 154
        },
        "id": "yL_I3q4Ai_ex",
        "outputId": "75b14da1-9e4b-4f62-b7b6-9f06b6d6d535"
      },
      "execution_count": null,
      "outputs": [
        {
          "output_type": "stream",
          "name": "stdout",
          "text": [
            " * sqlite:///rs_greatest_albums.db\n",
            "0 rows affected.\n",
            "Done.\n"
          ]
        },
        {
          "output_type": "execute_result",
          "data": {
            "text/plain": [
              "[(1, 'Freddie Mercurious', 'freddie@queen.com', '123-456-7890', '1 Bohemian Rhapsody Lane'),\n",
              " (2, 'Elton Johnsmith', 'elton@rocketman.com', '987-654-3210', '42 Yellow Brick Road'),\n",
              " (3, 'Taylor Drift', 'taylor@example.com', '123-456-7890', '456 Elm St')]"
            ],
            "text/html": [
              "<table>\n",
              "    <thead>\n",
              "        <tr>\n",
              "            <th>musician_id</th>\n",
              "            <th>name</th>\n",
              "            <th>email</th>\n",
              "            <th>phone</th>\n",
              "            <th>address</th>\n",
              "        </tr>\n",
              "    </thead>\n",
              "    <tbody>\n",
              "        <tr>\n",
              "            <td>1</td>\n",
              "            <td>Freddie Mercurious</td>\n",
              "            <td>freddie@queen.com</td>\n",
              "            <td>123-456-7890</td>\n",
              "            <td>1 Bohemian Rhapsody Lane</td>\n",
              "        </tr>\n",
              "        <tr>\n",
              "            <td>2</td>\n",
              "            <td>Elton Johnsmith</td>\n",
              "            <td>elton@rocketman.com</td>\n",
              "            <td>987-654-3210</td>\n",
              "            <td>42 Yellow Brick Road</td>\n",
              "        </tr>\n",
              "        <tr>\n",
              "            <td>3</td>\n",
              "            <td>Taylor Drift</td>\n",
              "            <td>taylor@example.com</td>\n",
              "            <td>123-456-7890</td>\n",
              "            <td>456 Elm St</td>\n",
              "        </tr>\n",
              "    </tbody>\n",
              "</table>"
            ]
          },
          "metadata": {},
          "execution_count": 37
        }
      ]
    },
    {
      "cell_type": "markdown",
      "source": [
        "These operations will be intercepted by the respective triggers and applied to the `Musician_Info` table accordingly.\n",
        "\n",
        "It's important to note that using triggers to modify views can have performance implications, especially for large datasets or complex views. Triggers introduce additional overhead and can slow down the modification operations. Therefore, it's crucial to carefully consider the trade-offs and design your triggers efficiently.\n",
        "\n",
        "Additionally, when using triggers to modify views, ensure that the triggers handle all the necessary columns and maintain data integrity. If the view involves multiple tables or complex relationships, you may need to create additional triggers or implement more sophisticated logic to handle the modifications correctly. (It should be noted that enterprise-scale databases have better support for UPDATABLE VIEWS than SQLite)."
      ],
      "metadata": {
        "id": "EVp8N7ZBj0m9"
      }
    },
    {
      "cell_type": "markdown",
      "source": [
        "## Common Table Expressions\n",
        "\n",
        "Common Table Expressions (CTEs) are a powerful feature in SQLite that allow you to define temporary named result sets within a single SQL statement. CTEs provide a way to simplify complex queries by breaking them down into smaller, more manageable parts. They are particularly useful when you need to reference the same subquery multiple times within a single query or when you want to improve the readability and maintainability of your SQL code.\n",
        "\n",
        "### a. Basic Syntax\n",
        "\n",
        "The basic syntax for defining a CTE in SQLite is as follows:\n",
        "\n",
        "```sql\n",
        "WITH cte_name AS (\n",
        "    SELECT column1, column2, ...\n",
        "    FROM table_name\n",
        "    WHERE condition\n",
        ")\n",
        "SELECT *\n",
        "FROM cte_name;\n",
        "```\n",
        "\n",
        "In this syntax:\n",
        "\n",
        "-   The `WITH` keyword is used to introduce the CTE definition.\n",
        "-   `cte_name` is the name assigned to the CTE, which can be referenced later in the query.\n",
        "-   The `SELECT` statement inside the parentheses defines the result set of the CTE.\n",
        "-   The main query then references the CTE using its name.\n",
        "\n",
        "### Example: \"Times\" from 2000 to 2020\n",
        "\n",
        "Let's look at a simple example to illustrate the usage of CTEs in SQLite. Let's create a CTE for albums released between 2000 and 2020 that had the word \"time\" in the title."
      ],
      "metadata": {
        "id": "n3COY3S2lJMT"
      }
    },
    {
      "cell_type": "code",
      "source": [
        "%%sql\n",
        "-- THe Common Table Expression Starts Here\n",
        "WITH recent_albums AS (\n",
        "    SELECT\n",
        "      Albums.album,\n",
        "      Artists.artist,\n",
        "      Albums.year\n",
        "    FROM Albums\n",
        "    JOIN Artists ON Albums.artist_id = Artists.artist_id\n",
        "    WHERE Albums.year BETWEEN 2000 AND 2020\n",
        ")\n",
        "\n",
        "-- The Main Query Starts Here\n",
        "SELECT *\n",
        "FROM recent_albums\n",
        "WHERE recent_albums.album LIKE '%time%'\n",
        "ORDER BY year DESC\n",
        "LIMIT 10;"
      ],
      "metadata": {
        "colab": {
          "base_uri": "https://localhost:8080/",
          "height": 137
        },
        "id": "GluGFRGRlaD-",
        "outputId": "1c63536e-27d1-4a0d-eda6-d8e6e18273eb"
      },
      "execution_count": null,
      "outputs": [
        {
          "output_type": "stream",
          "name": "stdout",
          "text": [
            " * sqlite:///rs_greatest_albums.db\n",
            "Done.\n"
          ]
        },
        {
          "output_type": "execute_result",
          "data": {
            "text/plain": [
              "[('Modern Times', 'Dylan, Bob', 2006),\n",
              " ('All Time Greatest Hits', 'Lynn, Loretta', 2002),\n",
              " ('Time (The Revelator)', 'Welch, Gillian', 2001)]"
            ],
            "text/html": [
              "<table>\n",
              "    <thead>\n",
              "        <tr>\n",
              "            <th>album</th>\n",
              "            <th>artist</th>\n",
              "            <th>year</th>\n",
              "        </tr>\n",
              "    </thead>\n",
              "    <tbody>\n",
              "        <tr>\n",
              "            <td>Modern Times</td>\n",
              "            <td>Dylan, Bob</td>\n",
              "            <td>2006</td>\n",
              "        </tr>\n",
              "        <tr>\n",
              "            <td>All Time Greatest Hits</td>\n",
              "            <td>Lynn, Loretta</td>\n",
              "            <td>2002</td>\n",
              "        </tr>\n",
              "        <tr>\n",
              "            <td>Time (The Revelator)</td>\n",
              "            <td>Welch, Gillian</td>\n",
              "            <td>2001</td>\n",
              "        </tr>\n",
              "    </tbody>\n",
              "</table>"
            ]
          },
          "metadata": {},
          "execution_count": 52
        }
      ]
    },
    {
      "cell_type": "markdown",
      "source": [
        "The query uses a CTE named `recent_albums` to retrieve albums released between 2000 and 2020, along with the corresponding artist names. The CTE is defined using the `WITH` clause, which specifies the name of the CTE and the `SELECT` statement that generates its result set.\n",
        "\n",
        "The main query then uses the `recent_albums` CTE as if it were a regular table. It selects all columns from the CTE, filters the albums based on the presence of the word \"time\" in the album name, sorts the results by year in descending order, and limits the output to the top 10 rows.\n",
        "\n",
        "Using a CTE in this query provides benefits such as:\n",
        "\n",
        "1.  The CTE allows the query to be broken down into smaller, more understandable parts.\n",
        "2.  The CTE can be reused multiple times within the same query or in different queries.\n",
        "3.  CTEs promote a modular approach to writing SQL queries, making the code more organized and maintainable.\n",
        "\n",
        "Overall, the CTE in this query serves as a temporary named result set that encapsulates the logic for retrieving recent albums, which can then be easily referenced and manipulated in the main query."
      ],
      "metadata": {
        "id": "ocO9gHETnbg_"
      }
    },
    {
      "cell_type": "markdown",
      "source": [
        "## Song: The Database Blues\n",
        "(with apologies to Bob Dylan)\n",
        "\n",
        "Come gather 'round people, and hear what I say<br>\n",
        "I'm talkin' 'bout data in a digital way<br>\n",
        "CREATE TABLE, the start of the game<br>\n",
        "Define your columns, and give them a name<br>\n",
        "For the data's now stored, and the tables are tall<br>\n",
        "And the times, they are a-changin'\n",
        "\n",
        "CREATE VIEW, a window so clear<br>\n",
        "See what you want, it's all right here<br>\n",
        "Temporary views, they come and they go<br>\n",
        "Fleeting as birds, with the data they show<br>\n",
        "But materialized views, they freeze a scene<br>\n",
        "Refresh them in time, keep your data so keen<br>\n",
        "For the times, they are a-changin'\n",
        "\n",
        "WITH common table expressions, we gain<br>\n",
        "Temporary results, and clean queries maintain<br>\n",
        "Reference and reuse, make your work neat<br>\n",
        "A secret ingredient, your SQL's heartbeat<br>\n",
        "For the times, they are a-changin'\n",
        "\n",
        "So here's the SQL, a symphony fine<br>\n",
        "CREATE TABLE, CREATE VIEW, in a line<br>\n",
        "Temporary, materialized, and WITH to combine<br>\n",
        "Keep your data warm, like a patchwork design<br>\n",
        "For the times, they are a-changin'\n",
        "\n",
        "Remember, my friends, it's all in the data<br>\n",
        "Store it and query, like a sweet serenata<br>\n",
        "Choose your tools well, let your database grow<br>\n",
        "Find the answers to all you want to know<br>\n",
        "For the times, they are a-changin'\n"
      ],
      "metadata": {
        "id": "w5sTWAGmEdLh"
      }
    },
    {
      "cell_type": "markdown",
      "source": [
        "## Case Study: Data Governance in a Music Ranking Web App\n",
        "\n",
        "In today's digital age, web applications have become an integral part of our lives. They allow us to interact with data, share information, and connect with others in ways that were previously unimaginable. In this case study, we will explore the development of a hypothetical web application that combines the power of SQLite and Python to create a platform for music enthusiasts to store and share their individual album rankings.\n",
        "\n",
        "Imagine a web app called \"MusicRank\" that allows users to create personal profiles, rank their favorite albums, and engage with a community of like-minded music lovers. The app would have features such as:\n",
        "\n",
        "1.  Users can create accounts, log in securely, and manage their profiles.\n",
        "2.  Users can search for albums, add them to their personal rankings, and assign scores or ratings.\n",
        "3.  The app compiles the rankings from all users to generate overall popularity scores and global rankings for albums.\n",
        "4.  Users can connect with friends, share their rankings, and discover new music based on the preferences of their network.\n",
        "\n",
        "Behind the scenes, the app would rely on a robust database management system like SQLite to store and retrieve data efficiently. Python, a versatile programming language, would be used to develop the web application, handle user interactions, and communicate with the database.\n",
        "\n",
        "However, with great power comes great responsibility. As developers, it is crucial to prioritize data governance and ensure the privacy and security of user information. In the following sections, we will delve into various aspects of data governance, including data loss prevention policies, data classification, and compliance with global and regional regulations.\n",
        "\n",
        "By understanding and implementing best practices in data governance, we can create a music ranking web app that not only provides a seamless user experience but also safeguards sensitive data and maintains the trust of its users."
      ],
      "metadata": {
        "id": "6CQ7oXjbtU22"
      }
    },
    {
      "cell_type": "markdown",
      "source": [
        "### Graphic: UML for Music Web App\n",
        "![image.png](data:image/png;base64,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)"
      ],
      "metadata": {
        "id": "LnDbt_WzvOdJ"
      }
    },
    {
      "cell_type": "markdown",
      "source": [
        "## Data Loss Prevention Policies\n",
        "\n",
        "When developing a web application like our music ranking app, it's crucial to have measures in place to protect sensitive user data from unauthorized access or accidental loss. This is where data loss prevention (DLP) policies come into play.\n",
        "\n",
        "Data loss prevention (DLP) refers to the strategies, practices, and tools used to ensure that sensitive data is not lost, misused, or accessed by unauthorized individuals. DLP policies help organizations safeguard their data assets and comply with data protection regulations.\n",
        "\n",
        "In the context of our music ranking web app, let's explore a few key areas of DLP and how they can be implemented:\n",
        "\n",
        "1.  **Data encryption** is the process of converting plain text data into a coded format that can only be deciphered with a special key. It helps protect sensitive information from being accessed by unauthorized parties. Example: When a user creates an account on our music ranking app, their password should be encrypted before it is stored in the database. This way, even if someone gains access to the database, they won't be able to see the actual passwords. In our web app, since we are using SQLite as the database, we can leverage Python's built-in encryption libraries to handle data encryption. Python provides modules like `cryptography` or `pycrypto` that offer encryption algorithms and key management functionalities. We can use these libraries to encrypt sensitive data before storing it in the SQLite database and decrypt it when needed.\n",
        "2.  **Access controls** determine who can access specific data and what actions they can perform on that data. It's important to implement access controls to ensure that users can only access the data they are authorized to see. Example: In our music ranking app, we can implement **role-based access control (RBAC)**. Users with regular accounts should only be able to view and modify their own rankings, while administrators may have additional privileges to manage the overall system. By assigning permissions based on user roles, we can restrict unauthorized access to sensitive data. To implement access controls in our SQLite-based web app, we can leverage Python's web frameworks like Flask or Django. These frameworks provide mechanisms for user authentication and authorization. We can define user roles and assign permissions based on those roles. When a user makes a request to access specific data, the web framework can check their role and permissions to determine whether they are authorized to access the requested data.\n",
        "3.  **Data backup** involves creating copies of data to prevent loss in case of system failures, accidents, or cyber attacks. Regular data backups ensure that data can be recovered in the event of an incident. Example: Let's say our music ranking app experiences a server crash, and the database becomes corrupted. If we have been regularly backing up the data, we can restore the database from the most recent backup, minimizing data loss and ensuring business continuity. To handle data backup and recovery in our SQLite-based web app, we can utilize Python scripts to automate the backup process. We can schedule regular backups of the SQLite database file and store the backups securely on a separate storage system or in the cloud. In case of a disaster, we can restore the database from the backup file to recover the data.\n",
        "\n",
        "It's important to note that while SQLite relies on Python and the operating system for certain DLP functionalities, other database management systems like PostgreSQL or MySQL have more native capabilities for data encryption, access controls, and backup/recovery. However, by leveraging Python libraries and following best practices, we can still implement effective DLP measures in our SQLite-based web app."
      ],
      "metadata": {
        "id": "nf5Upfd8tVeo"
      }
    },
    {
      "cell_type": "markdown",
      "source": [
        "### Data Classification\n",
        "\n",
        "When it comes to data governance, classifying data based on its sensitivity and regulatory requirements is a critical step. Data classification helps organizations understand the nature of their data and apply appropriate security measures. In this section, we'll explore common data classification categories and their relevance to our music ranking web app.\n",
        "\n",
        "1.  **Personally Identifiable Information (PII)** refers to any information that can be used to identify, contact, or locate an individual. Examples of PII include names, email addresses, phone numbers, and social security numbers. In our music ranking app, we may collect PII such as user names, email addresses, and profile pictures. It's essential to handle PII with care and implement appropriate security measures to protect user privacy. This includes encrypting PII in transit and at rest, restricting access to PII based on user roles, and obtaining user consent for data collection and usage.\n",
        "2.  **Protected Health Information (PHI)** is a subset of PII that relates to an individual's health status, healthcare services, or payment for healthcare services. PHI is protected under specific regulations like the Health Insurance Portability and Accountability Act (HIPAA) in the United States. While our music ranking app may not directly deal with PHI, it's important to be aware of this classification category. If our app were to integrate with healthcare-related services or collect any health-related information, we would need to ensure compliance with HIPAA and implement appropriate safeguards for PHI.\n",
        "3.  **Payment Card Industry Data Security Standard (PCI-DSS)**  is a set of security standards designed to protect credit card information during transactions and storage. If our music ranking app were to include e-commerce functionalities or process credit card payments, we would need to comply with PCI-DSS requirements. To ensure PCI-DSS compliance, we would need to implement secure payment processing, encrypt credit card data, and follow strict access control measures. This may involve using third-party payment gateways that are PCI-DSS compliant and regularly conducting security assessments.\n",
        "4.  **Sensitive business data** refers to information that is critical to an organization's operations, intellectual property, or competitive advantage. In the context of our music ranking app, sensitive business data could include algorithms used for ranking calculations, partnership agreements, or financial information. Protecting sensitive business data requires implementing strong access controls, monitoring systems for unauthorized access attempts, and regularly training employees on data handling practices. It's crucial to identify and classify sensitive business data to ensure appropriate security measures are in place.\n",
        "\n",
        "When developing our music ranking web app, it's important to assess the types of data we will be collecting, processing, and storing. By classifying data based on its sensitivity and regulatory requirements, we can implement targeted security controls and ensure compliance with relevant laws and regulations.\n",
        "\n",
        "Some best practices for data classification in our web app include:\n",
        "\n",
        "-   Conducting a data inventory to identify and categorize the types of data we collect.\n",
        "-   Developing clear data classification policies and guidelines for handling different categories of data.\n",
        "-   Implementing data access controls based on user roles and the sensitivity of the data.\n",
        "-   Encrypting sensitive data both in transit and at rest.\n",
        "-   Regularly training employees and developers on data classification and handling procedures.\n",
        "\n",
        "By incorporating data classification into our data governance strategy, we can ensure that our music ranking web app handles user data responsibly, maintains compliance, and builds trust with our users."
      ],
      "metadata": {
        "id": "dqXB_VYjuqtX"
      }
    },
    {
      "cell_type": "markdown",
      "source": [
        "Global Regulations (GDPR)\n",
        "-------------------------\n",
        "\n",
        "In today's interconnected world, web applications often cater to users from different countries and regions. This means that developers need to be aware of and comply with global data protection regulations. One of the most significant regulations in recent years is the General Data Protection Regulation (GDPR) introduced by the European Union (EU).\n",
        "\n",
        "GDPR is a comprehensive data protection law that came into effect on May 25, 2018. It applies to any organization that collects, processes, or stores personal data of individuals within the EU, regardless of the organization's location. The main objectives of GDPR are to give individuals more control over their personal data and to ensure that organizations handle personal data responsibly and transparently.\n",
        "\n",
        "Key aspects of GDPR that are relevant to our music ranking web app include:\n",
        "\n",
        "1.  Data Collection and Consent:\n",
        "    -   Under GDPR, we must have a legal basis for collecting and processing personal data. In most cases, this means obtaining explicit consent from users.\n",
        "    -   When users sign up for our music ranking app, we need to provide them with clear information about what data we collect, why we collect it, and how we will use it. Users should have the option to give or withhold consent for different types of data processing.\n",
        "    -   Consent must be freely given, specific, informed, and unambiguous. It should be as easy for users to withdraw their consent as it is to give it.\n",
        "2.  Data Rights of Individuals:\n",
        "    -   GDPR grants individuals certain rights regarding their personal data. These rights include the right to access their data, the right to rectify inaccurate data, the right to erase their data (also known as the \"right to be forgotten\"), and the right to data portability.\n",
        "    -   In our music ranking app, we need to provide mechanisms for users to exercise these rights. This may involve implementing features that allow users to view and update their profile information, request data deletion, or export their data in a portable format.\n",
        "3.  Data Protection by Design and Default:\n",
        "    -   GDPR requires organizations to implement data protection measures by design and by default. This means that data protection should be considered from the early stages of system development and should be the default setting.\n",
        "    -   In our web app, we need to incorporate data protection principles into our design and development process. This includes minimizing data collection, using pseudonymization or anonymization techniques where possible, and implementing appropriate security measures to protect user data.\n",
        "4.  Data Breach Notification:\n",
        "    -   GDPR requires organizations to notify the relevant supervisory authority and affected individuals in case of a data breach that poses a risk to individuals' rights and freedoms.\n",
        "    -   In our music ranking app, we need to have mechanisms in place to detect and respond to data breaches promptly. This may involve implementing monitoring and alerting systems, having an incident response plan, and establishing clear communication channels with users and authorities.\n",
        "\n",
        "To ensure compliance with GDPR, it's essential to conduct a thorough assessment of our web app's data processing activities, develop comprehensive privacy policies, and implement appropriate technical and organizational measures to protect user data.\n",
        "\n",
        "It's important to note that GDPR is just one example of global data protection regulations. Other regions may have their own specific regulations, such as the California Consumer Privacy Act (CCPA) in the United States or the Personal Information Protection Law (PIPL) in China. As developers, it's crucial to stay informed about the relevant regulations in the regions where our web app operates and ensure compliance accordingly."
      ],
      "metadata": {
        "id": "QJdk14DVvYkO"
      }
    },
    {
      "cell_type": "markdown",
      "source": [
        "### Discussion Questions\n",
        "\n",
        "1.  Why is data governance important for web applications like the music ranking app? What are the potential consequences of neglecting data governance?\n",
        "2.  How can encryption, access controls, and data backups help prevent data loss and unauthorized access in the music ranking app? What are some specific examples of implementing these measures?\n",
        "3.  Imagine the music ranking app expands to include a feature that allows users to purchase concert tickets. What additional data classification considerations would come into play, and how would you address them?\n",
        "4.  As a developer working on the music ranking app, how would you ensure compliance with GDPR? What specific steps would you take to obtain user consent, protect user rights, and implement data protection by design and default?\n",
        "5.  In the event of a data breach in the music ranking app, what actions would you take to mitigate the impact and comply with GDPR's breach notification requirements?\n",
        "6.  How can you stay informed about the latest data protection regulations and ensure that the music ranking app remains compliant as it grows and expands to new regions?\n",
        "7.  Beyond technical measures, what organizational policies and employee training initiatives would you recommend to foster a culture of data privacy and security within the development team?"
      ],
      "metadata": {
        "id": "2x-KIaQKvg8o"
      }
    },
    {
      "cell_type": "markdown",
      "source": [
        "## Chapter Summary Points\n",
        "\n",
        "-   Views are virtual tables that simplify complex queries and provide a user-friendly interface for data retrieval\n",
        "-   Views enable data aggregation, access control, and enhance data security\n",
        "-   SQLite supports three types of views: default views, temporary views, and materialized views (simulated)\n",
        "-   Common Table Expressions (CTEs) are temporary named result sets within a single SQL statement\n",
        "-   CTEs break down complex queries into manageable parts, improving code readability and maintainability\n",
        "-   Views and CTEs can be used together to create powerful and efficient database solutions\n",
        "-   Data governance, including data loss prevention and compliance with regulations like GDPR, is crucial for web applications handling sensitive user data\n",
        "-   Implementing data governance requires a holistic approach involving technical measures, organizational policies, and employee training"
      ],
      "metadata": {
        "id": "ZmfCPCc2DgR7"
      }
    },
    {
      "cell_type": "markdown",
      "source": [
        "## Lab: Practice Your SQL"
      ],
      "metadata": {
        "id": "atRrzE_fyadZ"
      }
    },
    {
      "cell_type": "code",
      "source": [
        "!wget https://github.com/brendanpshea/colab-utilities/raw/main/sql_select_quiz.py -q -nc\n",
        "from sql_select_quiz import *\n",
        "\n",
        "sql_select_quiz_from_id(\"music\")"
      ],
      "metadata": {
        "id": "95av0XwhydBA",
        "outputId": "c14b053f-b0ed-48e9-a5e2-f9e9ec3c9c47",
        "colab": {
          "base_uri": "https://localhost:8080/",
          "height": 566,
          "referenced_widgets": [
            "ccab41b878e845d58717204e4b280a64",
            "570d69fcb4244429b9a796a18e646b7e",
            "1b291cad7ec74c47bb803a28fab955ba",
            "f4c0ee6f707c492ebbd063e9f1bea679",
            "97993c872061414989241c88b08d9e86",
            "4e7c981b7f174de78c2101abf93f8d30",
            "7ae440f2625f4c2b9f6a5c97707e6a10",
            "a20a056e1b5e426daebdbd704be58e8e",
            "57b1b522a45b43d9abb6aede4d475ef1",
            "016eef56ed3a45b1816d32144e8d88dc",
            "1658f9eeb06a4cfba13cb3e32f37d397",
            "2e1852c3c9ee4f6b98060bda4be8741a",
            "d153a4c8a0cf494990fa55db4b9de590",
            "9904e6e21e2b4718b775f389d6b64442",
            "b20c10abfab34cb582bfc6a6a638eb3a",
            "13fe51644a194f80b85034259d48fbcc",
            "a48b59a872e64afbac7a07fdf65030f4",
            "7cdd9121144b4bd3a08a313264e222bd",
            "ab3d5fb0abed4c8ea9f22013d8aa1de4",
            "e514a40f4501418a9369ae1d3aad9607",
            "5c5a89d4cfd14f1a9fa774b0529e2dfc",
            "37cad71778d34d35b13e4552d1f57e97",
            "4e250e81bbe649e5b5788238b43d7609",
            "810fbb3ff2bf42b484ebfddec57ea468",
            "0c8e1c4090bb4fc090f7ab05bbc3f502",
            "1ecc0d000ebd42df8838e75c942f817b",
            "a990d5ec65cf444ca41a983892d89343",
            "cec786d07389405093f307630dd0d80b",
            "597815e202a845abb31c2628ba77c4b6",
            "1c2046da776140ffaa555ae4a96d6925",
            "9712820068ed4c8c9780341037045ebd",
            "ae2d8bdf1bea4976bc6ba7693acc4d23",
            "25d3870046344fb8a496a4d9daf2636e",
            "276345d1cecd4a4d9a9f9e90b7f4026b",
            "da56dd776e5f4e24931fc632f3f01fcc",
            "36719f772ed2454aa17958fdd55f2345",
            "4535c47579194682af0e36b47b30fddc",
            "26afb81deec748f7b47be0591fcc9b92",
            "3d72c91597404e7c9024859514f59f3a",
            "72b467628a204518b02265f4a8ebdbfd",
            "50d6bbbbeea4401089e3b41beffc49af",
            "5f9e5d56d8f7458f9ece3b0fbd944732",
            "6498a7e4df744e0c8b519c332849e572",
            "77e57fb9c92e4010a4f6dbefa9170ab5",
            "d845625759184a3280ea4800cbdda24e",
            "23140db580ed47bda784ca81b78b22e8",
            "f9227e2d31a84b38ac498a4167f4ccf4",
            "199a2a4006d346cf919b7ec67c0a257e",
            "eaf22836818740f48424f951e88ed32b",
            "a7b4e553e13a43dca11946aeb22ccbb5"
          ]
        }
      },
      "execution_count": null,
      "outputs": [
        {
          "output_type": "display_data",
          "data": {
            "text/plain": [
              "VBox(children=(IntProgress(value=1, description='Progress:', max=27), HTML(value='<h3>Question 1 of 27:</h3><p…"
            ],
            "application/vnd.jupyter.widget-view+json": {
              "version_major": 2,
              "version_minor": 0,
              "model_id": "ccab41b878e845d58717204e4b280a64"
            }
          },
          "metadata": {}
        }
      ]
    },
    {
      "cell_type": "markdown",
      "source": [
        "## Review With Quizlet"
      ],
      "metadata": {
        "id": "3T0evpgSymYI"
      }
    },
    {
      "cell_type": "code",
      "source": [
        "%%html\n",
        "<iframe src=\"https://quizlet.com/930415532/learn/embed?i=psvlh&x=1jj1\" height=\"600\" width=\"100%\" style=\"border:0\"></iframe>"
      ],
      "metadata": {
        "id": "DK3smfvgypeS",
        "outputId": "d4a29883-8daa-4d8d-a451-3eba5e372a03",
        "colab": {
          "base_uri": "https://localhost:8080/",
          "height": 621
        }
      },
      "execution_count": null,
      "outputs": [
        {
          "output_type": "display_data",
          "data": {
            "text/plain": [
              "<IPython.core.display.HTML object>"
            ],
            "text/html": [
              "<iframe src=\"https://quizlet.com/930415532/learn/embed?i=psvlh&x=1jj1\" height=\"600\" width=\"100%\" style=\"border:0\"></iframe>\n"
            ]
          },
          "metadata": {}
        }
      ]
    },
    {
      "cell_type": "markdown",
      "source": [
        "## Glossary\n",
        "| Term | Definition |\n",
        "| --- | --- |\n",
        "| Common Table Expression (CTE) | A temporary result set that you can reference within a SELECT, INSERT, UPDATE, or DELETE statement. It is defined using the WITH keyword. |\n",
        "| CREATE v AS VIEW as query | A SQL statement that creates a virtual table named 'v' based on the result set of a query. |\n",
        "| Data classification | The process of organizing data into categories based on its sensitivity, value, or other criteria to ensure it is handled appropriately. |\n",
        "| Data dictionary | A set of metadata that describes the structure, content, and constraints of a database. |\n",
        "| Data Governance | The overall management of the availability, usability, integrity, and security of the data employed in an enterprise. |\n",
        "| Data Loss Prevention | A strategy for ensuring that end users do not send sensitive or critical information outside the corporate network. |\n",
        "| Distributed database | A database in which storage devices are not all attached to a common CPU. It may be stored in multiple computers, located in the same physical location, or dispersed over a network of interconnected computers. |\n",
        "| DROP VIEW IF EXISTS view_name | A SQL statement that deletes the view named 'view_name' if it exists. |\n",
        "| Encryption | The process of converting data into a form that cannot be easily understood by unauthorized parties. |\n",
        "| GDPR | The General Data Protection Regulation, a European Union law on data protection and privacy that addresses the transfer of personal data outside the EU and EEA areas. |\n",
        "| Globally unique identifier (GUID) | A 128-bit integer used to uniquely identify information in computer systems. |\n",
        "| Informed Consent | Permission granted with the knowledge of the possible consequences. |\n",
        "| MATERIALIZED VIEW | A database object that contains the results of a query. Unlike a standard view, a materialized view is stored on disk and can be refreshed periodically. |\n",
        "| PCI-DSS | The Payment Card Industry Data Security Standard, a set of security standards designed to ensure that all companies that accept, process, store, or transmit credit card information maintain a secure environment. |\n",
        "| Personal Health Information (PHI) | Any information about the health status, provision of health care, or payment for health care that can be linked to a specific individual. |\n",
        "| Personally Identifiable Information (PII) | Any data that could potentially be used to identify a particular person. |\n",
        "| Right to be forgotten | A right under the GDPR that allows individuals to have their personal data erased under certain circumstances. |\n",
        "| Right to data breach notification | A right under the GDPR that requires organizations to notify individuals if there has been a breach of their personal data. |\n",
        "| Right to rectify | A right under the GDPR that allows individuals to have inaccurate personal data corrected. |\n",
        "| Role-based access controls (RBAC) | A method of restricting system access to authorized users based on their role within an organization. |\n",
        "| TEMPORARY VIEW | A view that exists only for the duration of a session or transaction. |\n",
        "| VIEW (default) | A virtual table that is based on the result set of a query. A default view is not materialized and is not temporary. |\n",
        "| WITH cte_name AS (inner_query) outer_query | A SQL syntax that defines a Common Table Expression (CTE) named 'cte_name' using the result set of 'inner_query', which can then be used in 'outer_query'. |"
      ],
      "metadata": {
        "id": "J5g48iAwxmYi"
      }
    },
    {
      "cell_type": "code",
      "source": [],
      "metadata": {
        "id": "iumhGzrTaWT4"
      },
      "execution_count": null,
      "outputs": []
    }
  ]
}