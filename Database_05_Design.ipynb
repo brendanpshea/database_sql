{
  "nbformat": 4,
  "nbformat_minor": 0,
  "metadata": {
    "colab": {
      "provenance": [],
      "authorship_tag": "ABX9TyPFiZWGu/fa6I0waHLDpsLX",
      "include_colab_link": true
    },
    "kernelspec": {
      "name": "python3",
      "display_name": "Python 3"
    },
    "language_info": {
      "name": "python"
    }
  },
  "cells": [
    {
      "cell_type": "markdown",
      "metadata": {
        "id": "view-in-github",
        "colab_type": "text"
      },
      "source": [
        "<a href=\"https://colab.research.google.com/github/brendanpshea/database_sql/blob/main/Database_05_Design.ipynb\" target=\"_parent\"><img src=\"https://colab.research.google.com/assets/colab-badge.svg\" alt=\"Open In Colab\"/></a>"
      ]
    },
    {
      "cell_type": "code",
      "execution_count": null,
      "metadata": {
        "id": "rbbaP_RruMWw"
      },
      "outputs": [],
      "source": []
    },
    {
      "cell_type": "markdown",
      "source": [
        "## Conceptual Design at the Covert Academy\n",
        "\n",
        "Welcome to the Covert Academy, the world's premier educational institution for aspiring secret agents! Our state-of-the-art facility is hidden beneath the streets of London and equipped with the latest in espionage technology. We offer a wide range of classes to train our students in the arts of surveillance, infiltration, disguise, and more.\n",
        "\n",
        "To keep track of our students and classes, we need a well-designed database. Let's walk through the process of conceptual design for this database.\n",
        "\n",
        "### What is Conceptual Design?\n",
        "\n",
        "Conceptual design is the first step in creating a database. It involves **formulating business rules**, which define how the database should work and what constraints it should have. It also involves creating a **preliminary list of entities and attributes**, which represent the key concepts and data elements in the system. Finally, it involves creating a **preliminary Entity-Relationship Diagram (ERD)** to visually represent the entities and their relationships.\n",
        "\n",
        "### Formulating Business Rules\n",
        "\n",
        "**Business rules** are concise, unambiguous statements that define or constrain some aspect of the database. They are derived through a combination of **descriptive processes**, such as interviewing stakeholders to understand their needs and requirements, and **normative processes**, which involve making decisions about how the system should work.\n",
        "\n",
        "For the Covert Academy, we have the following business rules:\n",
        "\n",
        "1.  Each **student** must be enrolled in at least one **class**, but may be enrolled in multiple classes.\n",
        "2.  Each **class** must have at least one **student** enrolled, but may have many students.\n",
        "\n",
        "To write effective business rules:\n",
        "\n",
        "-   Keep them concise and unambiguous\n",
        "-   Ensure they are testable (you can determine if the system is complying with the rule)\n",
        "-   Involve all relevant stakeholders in formulating and reviewing them\n",
        "-   Prioritize them (some may be must-haves, others may be nice-to-haves)\n",
        "\n",
        "### Preliminary List of Entities and Attributes\n",
        "\n",
        "Based on our business rules, we can identify our preliminary **entities**, which are the key concepts or objects in our system, and their **attributes**, which are the data elements that describe each entity.\n",
        "\n",
        "For the Covert Academy, our entities and attributes are:\n",
        "\n",
        "**Student**\n",
        "\n",
        "-   Name\n",
        "-   Codename\n",
        "-   Nationality\n",
        "-   Specialization\n",
        "\n",
        "**Class**\n",
        "\n",
        "-   Name\n",
        "-   Description\n",
        "-   Instructor\n",
        "-   Location\n",
        "\n",
        "Note that at this stage, we don't include data types, identifier columns, or join tables. We're just focusing on the core entities and their key attributes."
      ],
      "metadata": {
        "id": "cyzld1UPuM3y"
      }
    },
    {
      "cell_type": "markdown",
      "source": [
        "### Preliminary ERD\n",
        "\n",
        "Finally, we can create a preliminary ERD to visualize our entities and their relationship. Here's what it looks like for the Covert Academy:"
      ],
      "metadata": {
        "id": "cflr3FtDuj5b"
      }
    },
    {
      "cell_type": "code",
      "source": [
        "import base64\n",
        "from IPython.display import Image, display, HTML\n",
        "\n",
        "def mm(graph):\n",
        "    graphbytes = graph.encode(\"utf8\")\n",
        "    base64_bytes = base64.b64encode(graphbytes)\n",
        "    base64_string = base64_bytes.decode(\"ascii\")\n",
        "    display(Image(url=\"https://mermaid.ink/img/\" + base64_string))\n",
        "\n",
        "mm(\"\"\"\n",
        "    erDiagram\n",
        "    STUDENT |{--|{ CLASS : enrolls\n",
        "    \"\"\")"
      ],
      "metadata": {
        "colab": {
          "base_uri": "https://localhost:8080/",
          "height": 312
        },
        "id": "rRXX1yxaumhh",
        "outputId": "34ea1ed4-d84a-4ad4-dec2-7cf295bfc0a6"
      },
      "execution_count": 9,
      "outputs": [
        {
          "output_type": "display_data",
          "data": {
            "text/html": [
              "<img src=\"https://mermaid.ink/img/CiAgICBlckRpYWdyYW0KICAgIFNUVURFTlQgfHstLXx7IENMQVNTIDogZW5yb2xscwogICAg\"/>"
            ],
            "text/plain": [
              "<IPython.core.display.Image object>"
            ]
          },
          "metadata": {}
        }
      ]
    }
  ]
}