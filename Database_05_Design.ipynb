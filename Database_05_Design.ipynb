{
  "nbformat": 4,
  "nbformat_minor": 0,
  "metadata": {
    "colab": {
      "provenance": [],
      "authorship_tag": "ABX9TyM7FJ6FWW2hxZx9RiymsSVq",
      "include_colab_link": true
    },
    "kernelspec": {
      "name": "python3",
      "display_name": "Python 3"
    },
    "language_info": {
      "name": "python"
    }
  },
  "cells": [
    {
      "cell_type": "markdown",
      "metadata": {
        "id": "view-in-github",
        "colab_type": "text"
      },
      "source": [
        "<a href=\"https://colab.research.google.com/github/brendanpshea/database_sql/blob/main/Database_05_Design.ipynb\" target=\"_parent\"><img src=\"https://colab.research.google.com/assets/colab-badge.svg\" alt=\"Open In Colab\"/></a>"
      ]
    },
    {
      "cell_type": "markdown",
      "source": [
        "## Conceptual Design at the Covert Academy\n",
        "\n",
        "Welcome to the Covert Academy, the world's premier educational institution for aspiring secret agents! Our state-of-the-art facility is hidden beneath the streets of London and equipped with the latest in espionage technology. We offer a wide range of classes to train our students in the arts of surveillance, infiltration, disguise, and more.\n",
        "\n",
        "To keep track of our students and classes, we need a well-designed database. Let's walk through the process of conceptual design for this database.\n",
        "\n",
        "### What is Conceptual Design?\n",
        "\n",
        "Conceptual design is the first step in creating a database. It involves **formulating business rules**, which define how the database should work and what constraints it should have. It also involves creating a **preliminary list of entities and attributes**, which represent the key concepts and data elements in the system. Finally, it involves creating a **preliminary Entity-Relationship Diagram (ERD)** to visually represent the entities and their relationships.\n",
        "\n",
        "### Formulating Business Rules\n",
        "\n",
        "**Business rules** are concise, unambiguous statements that define or constrain some aspect of the database. They are derived through a combination of **descriptive processes**, such as interviewing stakeholders to understand their needs and requirements, and **normative processes**, which involve making decisions about how the system should work.\n",
        "\n",
        "For the Covert Academy, we have the following business rules:\n",
        "\n",
        "1.  Each **student** must be enrolled in at least one **class**, but may be enrolled in multiple classes.\n",
        "2.  Each **class** must have at least one **student** enrolled, but may have many students.\n",
        "\n",
        "To write effective business rules:\n",
        "\n",
        "-   Keep them concise and unambiguous\n",
        "-   Ensure they are testable (you can determine if the system is complying with the rule)\n",
        "-   Involve all relevant stakeholders in formulating and reviewing them\n",
        "-   Prioritize them (some may be must-haves, others may be nice-to-haves)\n",
        "\n",
        "### Preliminary List of Entities and Attributes\n",
        "\n",
        "Based on our business rules, we can identify our preliminary **entities**, which are the key concepts or objects in our system, and their **attributes**, which are the data elements that describe each entity.\n",
        "\n",
        "For the Covert Academy, our entities and attributes are:\n",
        "\n",
        "**Student**\n",
        "\n",
        "-   Name\n",
        "-   Codename\n",
        "-   Nationality\n",
        "-   Specialization\n",
        "\n",
        "**Class**\n",
        "\n",
        "-   Name\n",
        "-   Description\n",
        "-   Instructor\n",
        "-   Location\n",
        "\n",
        "Note that at this stage, we don't include data types, identifier columns, or join tables. We're just focusing on the core entities and their key attributes."
      ],
      "metadata": {
        "id": "cyzld1UPuM3y"
      }
    },
    {
      "cell_type": "markdown",
      "source": [
        "### Preliminary ERD\n",
        "\n",
        "Finally, we can create a preliminary ERD to visualize our entities and their relationship. Here's what it looks like for the Covert Academy:"
      ],
      "metadata": {
        "id": "cflr3FtDuj5b"
      }
    },
    {
      "cell_type": "code",
      "source": [
        "import base64\n",
        "from IPython.display import Image, display, HTML\n",
        "\n",
        "def mm(graph):\n",
        "    graphbytes = graph.encode(\"utf8\")\n",
        "    base64_bytes = base64.b64encode(graphbytes)\n",
        "    base64_string = base64_bytes.decode(\"ascii\")\n",
        "    display(Image(url=\"https://mermaid.ink/img/\" + base64_string))\n",
        "\n",
        "mm(\"\"\"\n",
        "    erDiagram\n",
        "    STUDENT |{--|{ CLASS : enrolls\n",
        "    \"\"\")"
      ],
      "metadata": {
        "colab": {
          "base_uri": "https://localhost:8080/",
          "height": 312
        },
        "id": "rRXX1yxaumhh",
        "outputId": "595fc1fb-0221-4660-9bb9-d9e692f3449d"
      },
      "execution_count": 1,
      "outputs": [
        {
          "output_type": "display_data",
          "data": {
            "text/html": [
              "<img src=\"https://mermaid.ink/img/CiAgICBlckRpYWdyYW0KICAgIFNUVURFTlQgfHstLXx7IENMQVNTIDogZW5yb2xscwogICAg\"/>"
            ],
            "text/plain": [
              "<IPython.core.display.Image object>"
            ]
          },
          "metadata": {}
        }
      ]
    },
    {
      "cell_type": "markdown",
      "source": [
        "This diagram shows that there is a many-to-many relationship between **STUDENT** and **CLASS** (a student can enroll in many classes, a class can have many students).\n",
        "\n",
        "We'll refine this ERD in the next step, logical modeling, where we'll resolve the many-to-many relationship with a join table. But this preliminary ERD gives us a good starting point to visualize our system."
      ],
      "metadata": {
        "id": "Hg9MnpzCLw5B"
      }
    },
    {
      "cell_type": "markdown",
      "source": [
        "\n",
        "## What is Logical Modeling?\n",
        "In the previous section, we laid the conceptual foundation for the Covert Academy's database. Now it's time to take that conceptual model and transform it into a **logical model** using the **relational model**.\n",
        "\n",
        "Logical modeling is the process of taking a conceptual model and adapting it to fit a specific logical data model. In our case, we'll be using the **relational model**, which organizes data into **tables** (also known as relations) with **rows** (also known as tuples) and **columns** (also known as attributes).\n",
        "\n",
        "In the relational model:\n",
        "\n",
        "-   Each table should represent a single entity or concept\n",
        "-   Each row in a table represents a specific instance of that entity\n",
        "-   Each column in a table represents an attribute of that entity\n",
        "-   Each table should have a **primary key**, a unique identifier for each row\n",
        "\n",
        "### Resolving Many-to-Many Relationships\n",
        "\n",
        "In our conceptual model, we had a many-to-many relationship between **STUDENT** and **CLASS**. However, in the relational model, we can't directly represent many-to-many relationships. Instead, we need to introduce a **join table**.\n",
        "\n",
        "A join table is a table that breaks down a many-to-many relationship into two one-to-many relationships. It does this by having foreign keys to both of the original tables.\n",
        "\n",
        "For the Covert Academy, our join table will be called **ENROLLMENT**. It will have the following structure:\n",
        "\n",
        "**ENROLLMENT**\n",
        "\n",
        "-   StudentID (Foreign Key to STUDENT)\n",
        "-   ClassID (Foreign Key to CLASS)\n",
        "-   EnrollmentDate\n",
        "\n",
        "Now, instead of a direct many-to-many relationship, we have:\n",
        "\n",
        "-   A one-to-many relationship between **STUDENT** and **ENROLLMENT**\n",
        "-   A one-to-many relationship between **CLASS** and **ENROLLMENT**\n",
        "\n",
        "### Choosing Primary Keys\n",
        "\n",
        "Each table in our database needs a primary key. A primary key is a unique identifier for each row in a table. There are two main options for primary keys:\n",
        "\n",
        "1.  **Natural Key**: A natural key is a key that uses one of the existing attributes of the entity. For example, we could use a student's email as the primary key for the STUDENT table. Natural keys can be convenient because they don't require an additional column. However, they can also be problematic if the natural key ever needs to change.\n",
        "2.  **Surrogate Key**: A surrogate key is an artificial key that is created specifically to be the primary key. It's usually a simple integer or a universally unique identifier (UUID). Surrogate keys are often preferable because they are guaranteed to be unique and they never need to change.\n",
        "\n",
        "For the Covert Academy, we'll use surrogate keys for all of our tables. We'll call these `ID` columns.\n",
        "\n",
        "### Updated ERD\n",
        "\n",
        "With these changes in mind, here's our updated ERD:"
      ],
      "metadata": {
        "id": "tUe_4MLsMT9s"
      }
    },
    {
      "cell_type": "code",
      "source": [
        "mm(\"\"\"\n",
        "erDiagram\n",
        "    STUDENT ||--o{ ENROLLMENT : has\n",
        "    ENROLLMENT }o--|| CLASS : is_for\n",
        "\"\"\")"
      ],
      "metadata": {
        "id": "GCxQM52zMVTI",
        "outputId": "946e7bde-f28f-4c3c-d913-95843373d564",
        "colab": {
          "base_uri": "https://localhost:8080/",
          "height": 487
        }
      },
      "execution_count": 8,
      "outputs": [
        {
          "output_type": "display_data",
          "data": {
            "text/html": [
              "<img src=\"https://mermaid.ink/img/CmVyRGlhZ3JhbQogICAgU1RVREVOVCB8fC0tb3sgRU5ST0xMTUVOVCA6IGhhcwogICAgRU5ST0xMTUVOVCB9by0tfHwgQ0xBU1MgOiBpc19mb3IK\"/>"
            ],
            "text/plain": [
              "<IPython.core.display.Image object>"
            ]
          },
          "metadata": {}
        }
      ]
    },
    {
      "cell_type": "markdown",
      "source": [
        "The tables are as follows:\n",
        "\n",
        "**STUDENT** (ID (Primary Key), Name, Codename, Nationality, Specialization)\n",
        "\n",
        "**CLASS** (ID (Primary Key), Name, Description, Instructor, Location)\n",
        "\n",
        "**ENROLLMENT** (StudentID (Foreign Key to STUDENT), ClassID (Foreign Key to CLASS), EnrollmentDate)"
      ],
      "metadata": {
        "id": "gsTm2RoGMtaA"
      }
    },
    {
      "cell_type": "markdown",
      "source": [
        "## Normalization: Keeping Your Data in Line\n",
        "\n",
        "Before we move on to physical modeling, let's take a moment to discuss a crucial concept in database design: **normalization**. (As it turns out, our table are already in 3NF. However, this won't always be the case!).\n",
        "\n",
        "Normalization is the process of organizing data in a database to avoid data redundancy and improve data integrity. It involves dividing large tables into smaller tables and defining relationships between them based on the rules of **normal forms**.\n",
        "\n",
        "Normalization is important because it:\n",
        "\n",
        "1.  Minimizes data redundancy\n",
        "2.  Avoids data anomalies (such as update and deletion anomalies)\n",
        "3.  Simplifies data management\n",
        "4.  Reduces data inconsistencies\n",
        "\n",
        "There are several normal forms, each with its own set of rules. The most common are 1NF, 2NF, and 3NF. Let's dive into each one!\n",
        "\n",
        "### First Normal Form (1NF)\n",
        "\n",
        "A database is in 1NF if:\n",
        "\n",
        "1.  Each column contains atomic values (indivisible values)\n",
        "2.  There are no repeating groups of columns\n",
        "\n",
        "For example, consider this non-normalized STUDENT table:\n",
        "\n",
        "| ID | Name | Codename | Nationality | Specialization |\n",
        "| --- | --- | --- | --- | --- |\n",
        "| 1 | James | 007 | British | Espionage, Combat |\n",
        "| 2 | Natasha | Black Widow | Russian | Combat, Infiltration |\n",
        "\n",
        "This table is not in 1NF because the Specialization column contains multiple values. To bring it to 1NF, we would create a separate SPECIALIZATION table and establish a one-to-many relationship:\n",
        "\n",
        "**STUDENT**\n",
        "\n",
        "| ID | Name | Codename | Nationality |\n",
        "| --- | --- | --- | --- |\n",
        "| 1 | James | 007 | British |\n",
        "| 2 | Natasha | Black Widow | Russian |\n",
        "\n",
        "**SPECIALIZATION**\n",
        "\n",
        "| ID | StudentID | Specialization |\n",
        "| --- | --- | --- |\n",
        "| 1 | 1 | Espionage |\n",
        "| 2 | 1 | Combat |\n",
        "| 3 | 2 | Combat |\n",
        "| 4 | 2 | Infiltration |\n",
        "\n",
        "### Second Normal Form (2NF)\n",
        "\n",
        "A database is in 2NF if:\n",
        "\n",
        "1.  It is in 1NF\n",
        "2.  All non-key columns are fully dependent on the primary key\n",
        "\n",
        "Consider this 1NF ENROLLMENT table:\n",
        "\n",
        "| StudentID | ClassID | EnrollmentDate | ClassName |\n",
        "| --- | --- | --- | --- |\n",
        "| 1 | 1 | 2023-01-01 | Spy Gadgets |\n",
        "| 1 | 2 | 2023-01-15 | Disguise 101 |\n",
        "| 2 | 1 | 2023-01-01 | Spy Gadgets |\n",
        "\n",
        "This table is not in 2NF because ClassName is dependent on ClassID, which is only part of the primary key (StudentID, ClassID). To bring it to 2NF, we move ClassName to the CLASS table:\n",
        "\n",
        "**ENROLLMENT**\n",
        "\n",
        "| StudentID | ClassID | EnrollmentDate |\n",
        "| --- | --- | --- |\n",
        "| 1 | 1 | 2023-01-01 |\n",
        "| 1 | 2 | 2023-01-15 |\n",
        "| 2 | 1 | 2023-01-01 |\n",
        "\n",
        "**CLASS**\n",
        "\n",
        "| ID | ClassName |\n",
        "| --- | --- |\n",
        "| 1 | Spy Gadgets |\n",
        "| 2 | Disguise 101 |\n",
        "\n",
        "### Third Normal Form (3NF)\n",
        "\n",
        "A database is in 3NF if:\n",
        "\n",
        "1.  It is in 2NF\n",
        "2.  There are no transitive dependencies\n",
        "\n",
        "A transitive dependency is when a non-key column depends on another non-key column.\n",
        "\n",
        "Consider this 2NF CLASS table:\n",
        "\n",
        "| ID | ClassName | InstructorID | InstructorName |\n",
        "| --- | --- | --- | --- |\n",
        "| 1 | Spy Gadgets | 1 | Q |\n",
        "| 2 | Disguise 101 | 2 | M |\n",
        "\n",
        "This table is not in 3NF because InstructorName is transitively dependent on InstructorID (a non-key column). To bring it to 3NF, we move InstructorName to a new INSTRUCTOR table:\n",
        "\n",
        "**CLASS**\n",
        "\n",
        "| ID | ClassName | InstructorID |\n",
        "| --- | --- | --- |\n",
        "| 1 | Spy Gadgets | 1 |\n",
        "| 2 | Disguise 101 | 2 |\n",
        "\n",
        "**INSTRUCTOR**\n",
        "\n",
        "| ID | Name |\n",
        "| --- | --- |\n",
        "| 1 | Q |\n",
        "| 2 | M |\n",
        "\n",
        "And there you have it! By applying these normal forms, we ensure our database is well-structured, minimizes redundancy, and avoids anomalies."
      ],
      "metadata": {
        "id": "RF6idihfQpQH"
      }
    },
    {
      "cell_type": "markdown",
      "source": [
        "Physical Modeling - Bringing the Database to Life\n",
        "=================================================\n",
        "\n",
        "Welcome back, future data masters! We've conceptually designed our database and transformed it into a logical model using the relational model and normalization techniques. Now it's time for the exciting part - actually creating our database!\n",
        "\n",
        "What is Physical Modeling?\n",
        "--------------------------\n",
        "\n",
        "Physical modeling is the process of taking the logical model and implementing it in a specific database management system (DBMS). This involves defining the actual tables, columns, data types, and constraints in the database using the Data Definition Language (DDL) of the chosen DBMS.\n",
        "\n",
        "For the Covert Academy's database, we'll be using **SQLite**.\n",
        "\n",
        "What is SQLite?\n",
        "---------------\n",
        "\n",
        "SQLite is a lightweight, file-based DBMS. It's a popular choice for many applications because:\n",
        "\n",
        "1.  It's serverless (the database is just a file)\n",
        "2.  It's self-contained (no external dependencies)\n",
        "3.  It's cross-platform (works on all major operating systems)\n",
        "4.  It's open-source and free to use\n",
        "\n",
        "SQLite, like most modern DBMSs, uses **SQL (Structured Query Language)** for defining and manipulating databases.\n",
        "\n",
        "### What is ANSI Standard SQL?\n",
        "\n",
        "ANSI (American National Standards Institute) is an organization that defines standards for various industries, including database systems. ANSI SQL is a standard that defines the SQL language.\n",
        "\n",
        "Most modern DBMSs, including SQLite, follow the ANSI SQL standard to a large extent. This means that the core SQL syntax is the same across different DBMSs. However, each DBMS also has its own extensions and quirks.\n",
        "\n",
        "### ANSI Standard SQL Data Types\n",
        "\n",
        "ANSI SQL defines a set of standard data types. The most common ones are:\n",
        "\n",
        "1.  **INTEGER**: A whole number.\n",
        "2.  **REAL**: A floating-point number.\n",
        "3.  **VARCHAR(n)**: A string of characters with a maximum length of n.\n",
        "4.  **BLOB**: Binary Large Object, used for storing large amounts of binary data.\n",
        "5.  **DATE**: A date value (YYYY-MM-DD).\n",
        "6.  **TIME**: A time value (HH:MM:SS).\n",
        "7.  **TIMESTAMP**: A combination of date and time (YYYY-MM-DD HH:MM:SS).\n",
        "\n",
        "SQLite supports most of these data types, although it has some of its own quirks:\n",
        "\n",
        "-   SQLite has a small number of underlying \"storage classes\"  -- TEXT, NUMERIC, REAL, BLOB, NULL -- that it uses to store all values (regardless of SQL data type).\n",
        "- SQLite is \"dynamically typed\", meaning that it determines the storage class for each value as is it inserted and doesn't \"enforce\" column data types, unlike most RDBMSs)."
      ],
      "metadata": {
        "id": "5N26H8AXRrfP"
      }
    },
    {
      "cell_type": "markdown",
      "source": [
        "## The CREATE TABLE Statement\n",
        "\n",
        "Now that we know about data types, we can start creating our tables! In SQL, we use the `CREATE TABLE` statement for this.\n",
        "\n",
        "The general syntax is:\n",
        "\n",
        "```sql\n",
        "CREATE TABLE table_name (\n",
        "    column1 datatype constraint,\n",
        "    column2 datatype constraint,\n",
        "    ...\n",
        "    PRIMARY KEY (one or more columns)\n",
        ");\n",
        "```\n",
        "\n",
        "For example, let's create the STUDENT table:"
      ],
      "metadata": {
        "id": "oZwV6l7mTcp8"
      }
    },
    {
      "cell_type": "code",
      "source": [
        "# connect to sqlite using sql magic\n",
        "%load_ext sql\n",
        "%sql sqlite:///covert_academy.db"
      ],
      "metadata": {
        "id": "jly7J807Tgmd"
      },
      "execution_count": 9,
      "outputs": []
    },
    {
      "cell_type": "code",
      "source": [
        "%%sql\n",
        "CREATE TABLE STUDENT (\n",
        "    ID INTEGER PRIMARY KEY,  -- The primary key, an auto-incrementing integer\n",
        "    Name VARCHAR(100) NOT NULL,  -- The student's name, cannot be NULL\n",
        "    Codename VARCHAR(50),  -- The student's codename, can be NULL\n",
        "    Nationality VARCHAR(50),  -- The student's nationality\n",
        "    Specialization VARCHAR(100)  -- The student's specialization\n",
        ");"
      ],
      "metadata": {
        "id": "ZqN21TxzL-cY",
        "outputId": "bf36356d-e13d-4b84-db36-259456df2dd8",
        "colab": {
          "base_uri": "https://localhost:8080/"
        }
      },
      "execution_count": 10,
      "outputs": [
        {
          "output_type": "stream",
          "name": "stdout",
          "text": [
            " * sqlite:///covert_academy.db\n",
            "Done.\n"
          ]
        },
        {
          "output_type": "execute_result",
          "data": {
            "text/plain": [
              "[]"
            ]
          },
          "metadata": {},
          "execution_count": 10
        }
      ]
    },
    {
      "cell_type": "markdown",
      "source": [
        "This creates a table named STUDENT with five columns. Note the use of ANSI standard data types and the comments explaining each column.\n",
        "\n",
        "We can create the CLASS and ENROLLMENT tables similarly:"
      ],
      "metadata": {
        "id": "Air3yuRbTzZa"
      }
    },
    {
      "cell_type": "code",
      "source": [
        "%%sql\n",
        "CREATE TABLE CLASS (\n",
        "    ID INTEGER PRIMARY KEY,  -- The primary key\n",
        "    Name VARCHAR(100) NOT NULL,  -- The class name, cannot be NULL\n",
        "    Description VARCHAR(200),  -- The class description\n",
        "    Instructor VARCHAR(100),  -- The class instructor\n",
        "    Location VARCHAR(100)  -- The class location\n",
        ");\n",
        "\n",
        "CREATE TABLE ENROLLMENT (\n",
        "    StudentID INTEGER,  -- Foreign key to STUDENT table\n",
        "    ClassID INTEGER,  -- Foreign key to CLASS table\n",
        "    EnrollmentDate DATE,  -- The date of enrollment\n",
        "    PRIMARY KEY (StudentID, ClassID),  -- Composite primary key\n",
        "    FOREIGN KEY (StudentID) REFERENCES STUDENT(ID),  -- Foreign key constraint\n",
        "    FOREIGN KEY (ClassID) REFERENCES CLASS(ID)  -- Foreign key constraint\n",
        ");"
      ],
      "metadata": {
        "id": "4_b1M9hFT2E-",
        "outputId": "8d90a975-a303-4e62-f95b-106e40929c0e",
        "colab": {
          "base_uri": "https://localhost:8080/"
        }
      },
      "execution_count": 11,
      "outputs": [
        {
          "output_type": "stream",
          "name": "stdout",
          "text": [
            " * sqlite:///covert_academy.db\n",
            "Done.\n",
            "Done.\n"
          ]
        },
        {
          "output_type": "execute_result",
          "data": {
            "text/plain": [
              "[]"
            ]
          },
          "metadata": {},
          "execution_count": 11
        }
      ]
    },
    {
      "cell_type": "markdown",
      "source": [
        "Note how in the ENROLLMENT table, we define a composite primary key (StudentID, ClassID) and also specify the foreign key constraints."
      ],
      "metadata": {
        "id": "bdxxyimBUAxv"
      }
    },
    {
      "cell_type": "markdown",
      "source": [
        "## Column Constraints\n",
        "\n",
        "Before we start inserting data into our database, let's discuss some important concepts that help maintain the integrity and consistency of our data: **constraints**.\n",
        "\n",
        "Column constraints are rules applied to individual columns in a table. They restrict the type of data that can be stored in a column. The most common constraints are:\n",
        "\n",
        "1.  **CHECK**: Ensures that a column's value satisfies a boolean expression.\n",
        "2.  **DEFAULT**: Specifies a default value for a column when no value is provided.\n",
        "3.  **NOT NULL**: Ensures that a column cannot have a NULL value.\n",
        "4.  **UNIQUE**: Ensures that each value in a column is unique across the whole table.\n",
        "\n",
        "Let's see how we can apply these constraints to our tables.\n",
        "\n",
        "### The DROP TABLE Statement\n",
        "\n",
        "But first, let's discuss how to drop a table. The `DROP TABLE` statement is used to remove a table definition and all its data. The syntax is simple:\n",
        "\n",
        "```sql\n",
        "DROP TABLE table_name;\n",
        "```\n",
        "\n",
        "This statement is irreversible, so use it with caution!\n",
        "\n",
        "Now, let's recreate our tables with some constraints.\n",
        "\n",
        "### Recreating the STUDENT Table"
      ],
      "metadata": {
        "id": "QRKqTYGNUd4V"
      }
    },
    {
      "cell_type": "code",
      "source": [
        "%%sql\n",
        "DROP TABLE IF EXISTS STUDENT;  -- Drop the table if it already exists\n",
        "\n",
        "CREATE TABLE STUDENT (\n",
        "    ID INTEGER PRIMARY KEY,\n",
        "    Name VARCHAR(100) NOT NULL,\n",
        "    Codename VARCHAR(50) UNIQUE,  -- Codenames must be unique\n",
        "    Nationality VARCHAR(50) DEFAULT 'Unknown',  -- Default nationality is 'Unknown'\n",
        "    Specialization VARCHAR(100),\n",
        "    Age INTEGER CHECK (Age >= 18)  -- Students must be at least 18 years old\n",
        ");"
      ],
      "metadata": {
        "id": "MZKsThi-UlR_",
        "outputId": "0d9a81d8-a5c6-4ea6-a45f-0f62360a5ccb",
        "colab": {
          "base_uri": "https://localhost:8080/"
        }
      },
      "execution_count": 12,
      "outputs": [
        {
          "output_type": "stream",
          "name": "stdout",
          "text": [
            " * sqlite:///covert_academy.db\n",
            "Done.\n",
            "Done.\n"
          ]
        },
        {
          "output_type": "execute_result",
          "data": {
            "text/plain": [
              "[]"
            ]
          },
          "metadata": {},
          "execution_count": 12
        }
      ]
    },
    {
      "cell_type": "markdown",
      "source": [
        "Here, we've added a UNIQUE constraint to the Codename column, a DEFAULT constraint to the Nationality column, and a CHECK constraint to ensure that all students are at least 18 years old."
      ],
      "metadata": {
        "id": "ZamYPobfUqnE"
      }
    },
    {
      "cell_type": "markdown",
      "source": [
        "### Recreating the CLASS Table\n",
        "For the CLASS table, we've added a NOT NULL constraint to the Instructor column and a CHECK constraint to ensure that the StartDate is always before the EndDate."
      ],
      "metadata": {
        "id": "I4BTBQk5U4WW"
      }
    },
    {
      "cell_type": "code",
      "source": [
        "%%sql\n",
        "DROP TABLE IF EXISTS CLASS;\n",
        "\n",
        "CREATE TABLE CLASS (\n",
        "    ID INTEGER PRIMARY KEY,\n",
        "    Name VARCHAR(100) NOT NULL,\n",
        "    Description VARCHAR(200),\n",
        "    Instructor VARCHAR(100) NOT NULL,  -- Every class must have an instructor\n",
        "    Location VARCHAR(100),\n",
        "    StartDate DATE,\n",
        "    EndDate DATE,\n",
        "    CHECK (StartDate < EndDate)  -- The start date must be before the end date\n",
        ");"
      ],
      "metadata": {
        "id": "oBs24XC5Uwnv",
        "outputId": "fb6cf011-2682-4e7b-84b3-70d213d32d19",
        "colab": {
          "base_uri": "https://localhost:8080/"
        }
      },
      "execution_count": 13,
      "outputs": [
        {
          "output_type": "stream",
          "name": "stdout",
          "text": [
            " * sqlite:///covert_academy.db\n",
            "Done.\n",
            "Done.\n"
          ]
        },
        {
          "output_type": "execute_result",
          "data": {
            "text/plain": [
              "[]"
            ]
          },
          "metadata": {},
          "execution_count": 13
        }
      ]
    },
    {
      "cell_type": "markdown",
      "source": [
        "### Recreating the ENROLLMENT Table\n",
        "For the ENROLLMENT table, we've added a DEFAULT constraint to set the EnrollmentDate to the current date if no value is provided."
      ],
      "metadata": {
        "id": "NwdoCZU3U-cC"
      }
    },
    {
      "cell_type": "code",
      "source": [
        "%%sql\n",
        "DROP TABLE IF EXISTS ENROLLMENT;\n",
        "\n",
        "CREATE TABLE ENROLLMENT (\n",
        "    StudentID INTEGER,\n",
        "    ClassID INTEGER,\n",
        "    EnrollmentDate DATE DEFAULT CURRENT_DATE,  -- Default is the current date\n",
        "    PRIMARY KEY (StudentID, ClassID),\n",
        "    FOREIGN KEY (StudentID) REFERENCES STUDENT(ID),\n",
        "    FOREIGN KEY (ClassID) REFERENCES CLASS(ID)\n",
        ");"
      ],
      "metadata": {
        "id": "sPqt-eRPUCpb",
        "outputId": "eab7cd15-cb58-460e-9315-93a0f97d08a8",
        "colab": {
          "base_uri": "https://localhost:8080/"
        }
      },
      "execution_count": 14,
      "outputs": [
        {
          "output_type": "stream",
          "name": "stdout",
          "text": [
            " * sqlite:///covert_academy.db\n",
            "Done.\n",
            "Done.\n"
          ]
        },
        {
          "output_type": "execute_result",
          "data": {
            "text/plain": [
              "[]"
            ]
          },
          "metadata": {},
          "execution_count": 14
        }
      ]
    },
    {
      "cell_type": "markdown",
      "source": [
        "And there we have it! Our Covert Academy database is now set up with constraints to ensure data integrity."
      ],
      "metadata": {
        "id": "S_r2AOyaVI7f"
      }
    },
    {
      "cell_type": "markdown",
      "source": [
        "### Syntax for Creating Tables: A Quick Reference\n",
        "\n",
        "As we've seen, SQL provides a variety of tools for defining the structure and constraints of our database tables. Let's summarize the syntax for some of the key concepts we've encountered.\n",
        "\n",
        "### Defining a Primary Key\n",
        "\n",
        "To define a primary key for a table, you can use the `PRIMARY KEY` constraint. This can be done in two ways:\n",
        "\n",
        "1.  As part of the column definition:\n",
        "\n",
        "   ```sql\n",
        "CREATE TABLE table_name (\n",
        "        column_name datatype PRIMARY KEY,\n",
        "        ...\n",
        "    );\n",
        "```\n",
        "\n",
        "2.  As a separate table constraint:\n",
        "\n",
        "    ```sql\n",
        "CREATE TABLE table_name (\n",
        "        column_name datatype,\n",
        "        ...,\n",
        "        PRIMARY KEY (column_name)\n",
        "    );\n",
        "```\n",
        "\n",
        "If the primary key is composed of multiple columns (a composite key), you must use the second form and list all the columns in the primary key:\n",
        "\n",
        "```sql\n",
        "CREATE TABLE table_name (\n",
        "    column1 datatype,\n",
        "    column2 datatype,\n",
        "    ...,\n",
        "    PRIMARY KEY (column1, column2)\n",
        ");\n",
        "```\n",
        "\n",
        "#### Defining a Foreign Key\n",
        "\n",
        "To define a foreign key, you use the `FOREIGN KEY` constraint. Again, this can be done as part of the column definition or as a separate table constraint:\n",
        "\n",
        "```sql\n",
        "CREATE TABLE table_name (\n",
        "    ...,\n",
        "    foreign_key_column datatype,\n",
        "    ...,\n",
        "    FOREIGN KEY (foreign_key_column) REFERENCES referenced_table(referenced_column)\n",
        ");\n",
        "```\n",
        "\n",
        "#### The NOT NULL Constraint\n",
        "To specify that a column cannot hold NULL values, use the `NOT NULL` constraint:\n",
        "\n",
        "```sql\n",
        "CREATE TABLE table_name (\n",
        "    column_name datatype NOT NULL,\n",
        "    ...\n",
        ");\n",
        "```\n",
        "\n",
        "#### The UNIQUE Constraint\n",
        "\n",
        "To ensure that all values in a column are different, use the `UNIQUE` constraint:\n",
        "\n",
        "```sql\n",
        "CREATE TABLE table_name (\n",
        "    column_name datatype UNIQUE,\n",
        "    ...\n",
        ");\n",
        "```\n",
        "\n",
        "#### The CHECK Constraint\n",
        "To ensure that a column's value satisfies a boolean expression, use the `CHECK` constraint:\n",
        "\n",
        "```sql\n",
        "CREATE TABLE table_name (\n",
        "    ...,\n",
        "    column_name datatype CHECK (boolean_expression),\n",
        "    ...\n",
        ");\n",
        "```\n",
        "\n",
        "#### The DEFAULT Constraint\n",
        "\n",
        "To specify a default value for a column when no value is provided, use the `DEFAULT` constraint:\n",
        "\n",
        "```sql\n",
        "CREATE TABLE table_name (\n",
        "    column_name datatype DEFAULT default_value,\n",
        "    ...\n",
        ");\n",
        "```\n",
        "\n",
        "These are the basic building blocks for defining the structure and integrity of your database tables. With these tools, you can ensure that your data is consistent, valid, and maintains the relationships you've defined."
      ],
      "metadata": {
        "id": "_e19P3YCVJE_"
      }
    }
  ]
}