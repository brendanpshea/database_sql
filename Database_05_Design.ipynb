{
  "nbformat": 4,
  "nbformat_minor": 0,
  "metadata": {
    "colab": {
      "provenance": [],
      "authorship_tag": "ABX9TyPkD1/sIJ38NtplRjyovEAo",
      "include_colab_link": true
    },
    "kernelspec": {
      "name": "python3",
      "display_name": "Python 3"
    },
    "language_info": {
      "name": "python"
    }
  },
  "cells": [
    {
      "cell_type": "markdown",
      "metadata": {
        "id": "view-in-github",
        "colab_type": "text"
      },
      "source": [
        "<a href=\"https://colab.research.google.com/github/brendanpshea/database_sql/blob/main/Database_05_Design.ipynb\" target=\"_parent\"><img src=\"https://colab.research.google.com/assets/colab-badge.svg\" alt=\"Open In Colab\"/></a>"
      ]
    },
    {
      "cell_type": "markdown",
      "source": [
        "# Database Design\n",
        "### Database and SQL Through Pop Culture | Brendan Shea, PhD\n",
        "\n",
        "Welcome to the exciting world of database design! In this chapter, we'll embark on a journey through the process of creating a database from scratch. We'll begin with the conceptual modeling phase, where we'll identify the key entities, attributes, and relationships in our spy academy database. From there, we'll move on to logical modeling, where we'll learn about the importance of keys, normalization, and join tables in ensuring data integrity and avoiding redundancy. Finally, we'll roll up our sleeves and dive into physical modeling, where we'll use SQL statements to actually create, modify, and delete tables in our database. Throughout this chapter, we'll use the spy academy scenario to provide concrete examples and bring the concepts to life. By the end of this chapter, you'll have a solid understanding of how to design and implement a database that can handle even the most covert operations. So, let's put on our secret agent hats and get started on this thrilling database design mission!\n",
        "\n",
        "Learning Outcomes:\n",
        "\n",
        "1.  Understand the three main phases of database design: conceptual, logical, and physical modeling\n",
        "2.  Learn how to identify entities, attributes, and relationships in the conceptual modeling phase\n",
        "3.  Discover the importance of keys in ensuring uniqueness and establishing relationships between tables\n",
        "4.  Understand the role of normalization in reducing data redundancy and improving data integrity\n",
        "5.  Learn how to resolve many-to-many relationships using join tables in the logical modeling phase\n",
        "6.  Gain hands-on experience with SQL statements like CREATE TABLE, DROP TABLE, and ALTER TABLE in the physical modeling phase\n",
        "7.  Understand the importance of constraints in enforcing data integrity and consistency\n",
        "8.  Learn how to use SQL data types to define the structure of columns in a table\n",
        "9. Understand the role of supertypes and subtypes in modeling inheritance relationships between entities\n",
        "\n",
        "Keywords: database design, conceptual modeling, logical modeling, physical modeling, entities, attributes, relationships, keys, primary key, foreign key, normalization, normal forms, join tables, many-to-many relationships, SQL, CREATE TABLE, DROP TABLE, ALTER TABLE, constraints, data types, CASCADE, supertypes, subtypes, inheritance"
      ],
      "metadata": {
        "id": "QyMlxOa8U84Z"
      }
    },
    {
      "cell_type": "markdown",
      "source": [
        "## Conceptual Design at the Covert Academy\n",
        "\n",
        "Welcome to the Covert Academy, the world's premier educational institution for aspiring secret agents! Our state-of-the-art facility is hidden beneath the streets of London and equipped with the latest in espionage technology. We offer a wide range of classes to train our students in the arts of surveillance, infiltration, disguise, and more.\n",
        "\n",
        "To keep track of our students and classes, we need a well-designed database. Let's walk through the process of conceptual design for this database.\n",
        "\n",
        "### What is Conceptual Design?\n",
        "\n",
        "Conceptual design is the first step in creating a database. It involves **formulating business rules**, which define how the database should work and what constraints it should have. It also involves creating a **preliminary list of entities and attributes**, which represent the key concepts and data elements in the system. Finally, it involves creating a **preliminary Entity-Relationship Diagram (ERD)** to visually represent the entities and their relationships.\n",
        "\n",
        "### Formulating Business Rules\n",
        "\n",
        "**Business rules** are concise, unambiguous statements that define or constrain some aspect of the database. They are derived through a combination of **descriptive processes**, such as interviewing stakeholders to understand their needs and requirements, and **normative processes**, which involve making decisions about how the system should work.\n",
        "\n",
        "For the Covert Academy, we have the following business rules:\n",
        "\n",
        "1.  Each **student** must be enrolled in at least one **class**, but may be enrolled in multiple classes.\n",
        "2.  Each **class** must have at least one **student** enrolled, but may have many students.\n",
        "\n",
        "To write effective business rules:\n",
        "\n",
        "-   Keep them concise and unambiguous\n",
        "-   Ensure they are testable (you can determine if the system is complying with the rule)\n",
        "-   Involve all relevant stakeholders in formulating and reviewing them\n",
        "-   Prioritize them (some may be must-haves, others may be nice-to-haves)\n",
        "\n",
        "### Preliminary List of Entities and Attributes\n",
        "\n",
        "Based on our business rules, we can identify our preliminary **entities**, which are the key concepts or objects in our system, and their **attributes**, which are the data elements that describe each entity.\n",
        "\n",
        "For the Covert Academy, our entities and attributes are:\n",
        "\n",
        "**Student**\n",
        "\n",
        "-   Name\n",
        "-   Codename\n",
        "-   Nationality\n",
        "-   Specialization\n",
        "\n",
        "**Class**\n",
        "\n",
        "-   Name\n",
        "-   Description\n",
        "-   Instructor\n",
        "-   Location\n",
        "\n",
        "Note that at this stage, we don't include data types, identifier columns, or join tables. We're just focusing on the core entities and their key attributes."
      ],
      "metadata": {
        "id": "cyzld1UPuM3y"
      }
    },
    {
      "cell_type": "markdown",
      "source": [
        "### Preliminary ERD\n",
        "\n",
        "Finally, we can create a preliminary ERD to visualize our entities and their relationship. Here's what it looks like for the Covert Academy:"
      ],
      "metadata": {
        "id": "cflr3FtDuj5b"
      }
    },
    {
      "cell_type": "code",
      "source": [
        "import base64\n",
        "from IPython.display import Image, display, HTML\n",
        "\n",
        "def mm(graph):\n",
        "    graphbytes = graph.encode(\"utf8\")\n",
        "    base64_bytes = base64.b64encode(graphbytes)\n",
        "    base64_string = base64_bytes.decode(\"ascii\")\n",
        "    display(Image(url=\"https://mermaid.ink/img/\" + base64_string))\n",
        "\n",
        "mm(\"\"\"\n",
        "    erDiagram\n",
        "    STUDENT |{--|{ CLASS : enrolls\n",
        "    \"\"\")"
      ],
      "metadata": {
        "colab": {
          "base_uri": "https://localhost:8080/",
          "height": 312
        },
        "id": "rRXX1yxaumhh",
        "outputId": "6b010672-97db-4843-b9d6-051f090cd317"
      },
      "execution_count": null,
      "outputs": [
        {
          "output_type": "display_data",
          "data": {
            "text/html": [
              "<img src=\"https://mermaid.ink/img/CiAgICBlckRpYWdyYW0KICAgIFNUVURFTlQgfHstLXx7IENMQVNTIDogZW5yb2xscwogICAg\"/>"
            ],
            "text/plain": [
              "<IPython.core.display.Image object>"
            ]
          },
          "metadata": {}
        }
      ]
    },
    {
      "cell_type": "markdown",
      "source": [
        "This diagram shows that there is a many-to-many relationship between **STUDENT** and **CLASS** (a student can enroll in many classes, a class can have many students).\n",
        "\n",
        "We'll refine this ERD in the next step, logical modeling, where we'll resolve the many-to-many relationship with a join table. But this preliminary ERD gives us a good starting point to visualize our system."
      ],
      "metadata": {
        "id": "Hg9MnpzCLw5B"
      }
    },
    {
      "cell_type": "markdown",
      "source": [
        "\n",
        "## What is Logical Modeling?\n",
        "In the previous section, we laid the conceptual foundation for the Covert Academy's database. Now it's time to take that conceptual model and transform it into a **logical model** using the **relational model**.\n",
        "\n",
        "Logical modeling is the process of taking a conceptual model and adapting it to fit a specific logical data model. In our case, we'll be using the **relational model**, which organizes data into **tables** (also known as relations) with **rows** (also known as tuples) and **columns** (also known as attributes).\n",
        "\n",
        "In the relational model:\n",
        "\n",
        "-   Each table should represent a single entity or concept\n",
        "-   Each row in a table represents a specific instance of that entity\n",
        "-   Each column in a table represents an attribute of that entity\n",
        "-   Each table should have a **primary key**, a unique identifier for each row\n",
        "\n",
        "### Resolving Many-to-Many Relationships\n",
        "\n",
        "In our conceptual model, we had a many-to-many relationship between **STUDENT** and **CLASS**. However, in the relational model, we can't directly represent many-to-many relationships. Instead, we need to introduce a **join table**.\n",
        "\n",
        "A join table is a table that breaks down a many-to-many relationship into two one-to-many relationships. It does this by having foreign keys to both of the original tables.\n",
        "\n",
        "For the Covert Academy, our join table will be called **ENROLLMENT**. It will have the following structure:\n",
        "\n",
        "**ENROLLMENT**\n",
        "\n",
        "-   StudentID (Foreign Key to STUDENT)\n",
        "-   ClassID (Foreign Key to CLASS)\n",
        "-   EnrollmentDate\n",
        "\n",
        "Now, instead of a direct many-to-many relationship, we have:\n",
        "\n",
        "-   A one-to-many relationship between **STUDENT** and **ENROLLMENT**\n",
        "-   A one-to-many relationship between **CLASS** and **ENROLLMENT**\n",
        "\n",
        "### Choosing Primary Keys\n",
        "\n",
        "Each table in our database needs a primary key. A primary key is a unique identifier for each row in a table. There are two main options for primary keys:\n",
        "\n",
        "1.  **Natural Key**: A natural key is a key that uses one of the existing attributes of the entity. For example, we could use a student's email as the primary key for the STUDENT table. Natural keys can be convenient because they don't require an additional column. However, they can also be problematic if the natural key ever needs to change.\n",
        "2.  **Surrogate Key**: A surrogate key is an artificial key that is created specifically to be the primary key. It's usually a simple integer or a universally unique identifier (UUID). Surrogate keys are often preferable because they are guaranteed to be unique and they never need to change.\n",
        "\n",
        "For the Covert Academy, we'll use surrogate keys for all of our tables. We'll call these `ID` columns.\n",
        "\n",
        "### Updated ERD\n",
        "\n",
        "With these changes in mind, here's our updated ERD:"
      ],
      "metadata": {
        "id": "tUe_4MLsMT9s"
      }
    },
    {
      "cell_type": "code",
      "source": [
        "mm(\"\"\"\n",
        "erDiagram\n",
        "    STUDENT ||--o{ ENROLLMENT : has\n",
        "    ENROLLMENT }o--|| CLASS : is_for\n",
        "\"\"\")"
      ],
      "metadata": {
        "colab": {
          "base_uri": "https://localhost:8080/",
          "height": 487
        },
        "id": "GCxQM52zMVTI",
        "outputId": "a9ed3fa0-ecad-434e-a1ee-964508361b1f"
      },
      "execution_count": null,
      "outputs": [
        {
          "output_type": "display_data",
          "data": {
            "text/html": [
              "<img src=\"https://mermaid.ink/img/CmVyRGlhZ3JhbQogICAgU1RVREVOVCB8fC0tb3sgRU5ST0xMTUVOVCA6IGhhcwogICAgRU5ST0xMTUVOVCB9by0tfHwgQ0xBU1MgOiBpc19mb3IK\"/>"
            ],
            "text/plain": [
              "<IPython.core.display.Image object>"
            ]
          },
          "metadata": {}
        }
      ]
    },
    {
      "cell_type": "markdown",
      "source": [
        "The tables are as follows:\n",
        "\n",
        "**STUDENT** (ID (Primary Key), Name, Codename, Nationality, Specialization)\n",
        "\n",
        "**CLASS** (ID (Primary Key), Name, Description, Instructor, Location)\n",
        "\n",
        "**ENROLLMENT** (StudentID (Foreign Key to STUDENT), ClassID (Foreign Key to CLASS), EnrollmentDate)"
      ],
      "metadata": {
        "id": "gsTm2RoGMtaA"
      }
    },
    {
      "cell_type": "markdown",
      "source": [
        "## Normalization: Keeping Your Data in Line\n",
        "\n",
        "Before we move on to physical modeling, let's take a moment to discuss a crucial concept in database design: **normalization**. (As it turns out, our table are already in 3NF. However, this won't always be the case!).\n",
        "\n",
        "Normalization is the process of organizing data in a database to avoid data redundancy and improve data integrity. It involves dividing large tables into smaller tables and defining relationships between them based on the rules of **normal forms**.\n",
        "\n",
        "Normalization is important because it:\n",
        "\n",
        "1.  Minimizes data redundancy\n",
        "2.  Avoids data anomalies (such as update and deletion anomalies)\n",
        "3.  Simplifies data management\n",
        "4.  Reduces data inconsistencies\n",
        "\n",
        "There are several normal forms, each with its own set of rules. The most common are 1NF, 2NF, and 3NF. Let's dive into each one!\n",
        "\n",
        "### First Normal Form (1NF)\n",
        "\n",
        "A database is in 1NF if:\n",
        "\n",
        "1.  Each column contains atomic values (indivisible values)\n",
        "2.  There are no repeating groups of columns\n",
        "\n",
        "For example, consider this non-normalized STUDENT table:\n",
        "\n",
        "| ID | Name | Codename | Nationality | Specialization |\n",
        "| --- | --- | --- | --- | --- |\n",
        "| 1 | James | 007 | British | Espionage, Combat |\n",
        "| 2 | Natasha | Black Widow | Russian | Combat, Infiltration |\n",
        "\n",
        "This table is not in 1NF because the Specialization column contains multiple values. To bring it to 1NF, we would create a separate SPECIALIZATION table and establish a one-to-many relationship:\n",
        "\n",
        "**STUDENT**\n",
        "\n",
        "| ID | Name | Codename | Nationality |\n",
        "| --- | --- | --- | --- |\n",
        "| 1 | James | 007 | British |\n",
        "| 2 | Natasha | Black Widow | Russian |\n",
        "\n",
        "**SPECIALIZATION**\n",
        "\n",
        "| ID | StudentID | Specialization |\n",
        "| --- | --- | --- |\n",
        "| 1 | 1 | Espionage |\n",
        "| 2 | 1 | Combat |\n",
        "| 3 | 2 | Combat |\n",
        "| 4 | 2 | Infiltration |\n",
        "\n",
        "### Second Normal Form (2NF)\n",
        "\n",
        "A database is in 2NF if:\n",
        "\n",
        "1.  It is in 1NF\n",
        "2.  All non-key columns are fully dependent on the primary key\n",
        "\n",
        "Consider this 1NF ENROLLMENT table:\n",
        "\n",
        "| StudentID | ClassID | EnrollmentDate | ClassName |\n",
        "| --- | --- | --- | --- |\n",
        "| 1 | 1 | 2023-01-01 | Spy Gadgets |\n",
        "| 1 | 2 | 2023-01-15 | Disguise 101 |\n",
        "| 2 | 1 | 2023-01-01 | Spy Gadgets |\n",
        "\n",
        "This table is not in 2NF because ClassName is dependent on ClassID, which is only part of the primary key (StudentID, ClassID). To bring it to 2NF, we move ClassName to the CLASS table:\n",
        "\n",
        "**ENROLLMENT**\n",
        "\n",
        "| StudentID | ClassID | EnrollmentDate |\n",
        "| --- | --- | --- |\n",
        "| 1 | 1 | 2023-01-01 |\n",
        "| 1 | 2 | 2023-01-15 |\n",
        "| 2 | 1 | 2023-01-01 |\n",
        "\n",
        "**CLASS**\n",
        "\n",
        "| ID | ClassName |\n",
        "| --- | --- |\n",
        "| 1 | Spy Gadgets |\n",
        "| 2 | Disguise 101 |\n",
        "\n",
        "### Third Normal Form (3NF)\n",
        "\n",
        "A database is in 3NF if:\n",
        "\n",
        "1.  It is in 2NF\n",
        "2.  There are no transitive dependencies\n",
        "\n",
        "A transitive dependency is when a non-key column depends on another non-key column.\n",
        "\n",
        "Consider this 2NF CLASS table:\n",
        "\n",
        "| ID | ClassName | InstructorID | InstructorName |\n",
        "| --- | --- | --- | --- |\n",
        "| 1 | Spy Gadgets | 1 | Q |\n",
        "| 2 | Disguise 101 | 2 | M |\n",
        "\n",
        "This table is not in 3NF because InstructorName is transitively dependent on InstructorID (a non-key column). To bring it to 3NF, we move InstructorName to a new INSTRUCTOR table:\n",
        "\n",
        "**CLASS**\n",
        "\n",
        "| ID | ClassName | InstructorID |\n",
        "| --- | --- | --- |\n",
        "| 1 | Spy Gadgets | 1 |\n",
        "| 2 | Disguise 101 | 2 |\n",
        "\n",
        "**INSTRUCTOR**\n",
        "\n",
        "| ID | Name |\n",
        "| --- | --- |\n",
        "| 1 | Q |\n",
        "| 2 | M |\n",
        "\n",
        "And there you have it! By applying these normal forms, we ensure our database is well-structured, minimizes redundancy, and avoids anomalies."
      ],
      "metadata": {
        "id": "RF6idihfQpQH"
      }
    },
    {
      "cell_type": "markdown",
      "source": [
        "Physical Modeling - Bringing the Database to Life\n",
        "=================================================\n",
        "\n",
        "Welcome back, future data masters! We've conceptually designed our database and transformed it into a logical model using the relational model and normalization techniques. Now it's time for the exciting part - actually creating our database!\n",
        "\n",
        "What is Physical Modeling?\n",
        "--------------------------\n",
        "\n",
        "Physical modeling is the process of taking the logical model and implementing it in a specific database management system (DBMS). This involves defining the actual tables, columns, data types, and constraints in the database using the Data Definition Language (DDL) of the chosen DBMS.\n",
        "\n",
        "For the Covert Academy's database, we'll be using **SQLite**.\n",
        "\n",
        "What is SQLite?\n",
        "---------------\n",
        "\n",
        "SQLite is a lightweight, file-based DBMS. It's a popular choice for many applications because:\n",
        "\n",
        "1.  It's serverless (the database is just a file)\n",
        "2.  It's self-contained (no external dependencies)\n",
        "3.  It's cross-platform (works on all major operating systems)\n",
        "4.  It's open-source and free to use\n",
        "\n",
        "SQLite, like most modern DBMSs, uses **SQL (Structured Query Language)** for defining and manipulating databases.\n",
        "\n",
        "### What is ANSI Standard SQL?\n",
        "**ANSI (American National Standards Institute)** is an organization that defines standards for various industries, including database systems. ANSI SQL is a standard that defines the SQL language.  Most modern DBMSs (Database Management Systems), including SQLite, follow the ANSI SQL standard to a large extent. This means that the core SQL syntax is the same across different DBMSs. However, each DBMS also has its own extensions and quirks.\n",
        "\n",
        "While ANSI initiated the SQL standardization process, the **International Organization for Standardization (ISO)** has also played a crucial role, and typically adopts a standard very close to taht of ANSI.\n",
        "\n",
        "### ANSI Standard SQL Data Types\n",
        "\n",
        "ANSI SQL defines a set of standard data types. The most common ones are:\n",
        "\n",
        "1.  **INTEGER**: A whole number.\n",
        "2.  **REAL**: A floating-point number.\n",
        "3.  **VARCHAR(n)**: A string of characters with a maximum length of n.\n",
        "4. **CHAR(n)**: A string of characters with precise length of n.\n",
        "5.  **BLOB**: Binary Large Object, used for storing large amounts of binary data.\n",
        "6.  **DATE**: A date value (YYYY-MM-DD).\n",
        "7.  **TIME**: A time value (HH:MM:SS).\n",
        "8. **TEXT**: A long section of string data.\n",
        "9. **JSONB**: A dataype to hold JSON data in binary format (to speed up queries).\n",
        "\n",
        "SQLite supports most of these data types, although it has some of its own quirks:\n",
        "\n",
        "-   SQLite has a small number of underlying \"storage classes\"  -- TEXT, NUMERIC, REAL, BLOB, NULL -- that it uses to store all values (regardless of SQL data type).\n",
        "- SQLite is \"dynamically typed\", meaning that it determines the storage class for each value as is it inserted and doesn't \"enforce\" column data types, unlike most RDBMSs)."
      ],
      "metadata": {
        "id": "5N26H8AXRrfP"
      }
    },
    {
      "cell_type": "markdown",
      "source": [
        "## The CREATE TABLE Statement\n",
        "\n",
        "Now that we know about data types, we can start creating our tables! In SQL, we use the `CREATE TABLE` statement for this.\n",
        "\n",
        "The general syntax is:\n",
        "\n",
        "```sql\n",
        "CREATE TABLE table_name (\n",
        "    column1 datatype constraint,\n",
        "    column2 datatype constraint,\n",
        "    ...\n",
        "    PRIMARY KEY (one or more columns)\n",
        ");\n",
        "```\n",
        "\n",
        "For example, let's create the STUDENT table:"
      ],
      "metadata": {
        "id": "oZwV6l7mTcp8"
      }
    },
    {
      "cell_type": "code",
      "source": [
        "# connect to sqlite using sql magic\n",
        "%load_ext sql\n",
        "%sql sqlite:///covert_academy.db"
      ],
      "metadata": {
        "id": "jly7J807Tgmd"
      },
      "execution_count": null,
      "outputs": []
    },
    {
      "cell_type": "code",
      "source": [
        "%%sql\n",
        "CREATE TABLE STUDENT (\n",
        "    ID INTEGER PRIMARY KEY,  -- The primary key, an auto-incrementing integer\n",
        "    Name VARCHAR(100) NOT NULL,  -- The student's name, cannot be NULL\n",
        "    Codename VARCHAR(50),  -- The student's codename, can be NULL\n",
        "    Nationality VARCHAR(50),  -- The student's nationality\n",
        "    Specialization VARCHAR(100)  -- The student's specialization\n",
        ");"
      ],
      "metadata": {
        "colab": {
          "base_uri": "https://localhost:8080/"
        },
        "id": "ZqN21TxzL-cY",
        "outputId": "3d3649f6-38f1-4b48-c5a8-29f6607783ad"
      },
      "execution_count": null,
      "outputs": [
        {
          "output_type": "stream",
          "name": "stdout",
          "text": [
            " * sqlite:///covert_academy.db\n",
            "Done.\n"
          ]
        },
        {
          "output_type": "execute_result",
          "data": {
            "text/plain": [
              "[]"
            ]
          },
          "metadata": {},
          "execution_count": 4
        }
      ]
    },
    {
      "cell_type": "markdown",
      "source": [
        "This creates a table named STUDENT with five columns. Note the use of ANSI standard data types and the comments explaining each column.\n",
        "\n",
        "We can create the CLASS and ENROLLMENT tables similarly:"
      ],
      "metadata": {
        "id": "Air3yuRbTzZa"
      }
    },
    {
      "cell_type": "code",
      "source": [
        "%%sql\n",
        "CREATE TABLE CLASS (\n",
        "    ID INTEGER PRIMARY KEY,  -- The primary key\n",
        "    Name VARCHAR(100) NOT NULL,  -- The class name, cannot be NULL\n",
        "    Description VARCHAR(200),  -- The class description\n",
        "    Instructor VARCHAR(100),  -- The class instructor\n",
        "    Location VARCHAR(100)  -- The class location\n",
        ");\n",
        "\n",
        "CREATE TABLE ENROLLMENT (\n",
        "    StudentID INTEGER,  -- Foreign key to STUDENT table\n",
        "    ClassID INTEGER,  -- Foreign key to CLASS table\n",
        "    EnrollmentDate DATE,  -- The date of enrollment\n",
        "    PRIMARY KEY (StudentID, ClassID),  -- Composite primary key\n",
        "    FOREIGN KEY (StudentID) REFERENCES STUDENT(ID),  -- Foreign key constraint\n",
        "    FOREIGN KEY (ClassID) REFERENCES CLASS(ID)  -- Foreign key constraint\n",
        ");"
      ],
      "metadata": {
        "colab": {
          "base_uri": "https://localhost:8080/"
        },
        "id": "4_b1M9hFT2E-",
        "outputId": "5acd73c8-c8c5-4458-fdf7-6e70a6ed4202"
      },
      "execution_count": null,
      "outputs": [
        {
          "output_type": "stream",
          "name": "stdout",
          "text": [
            " * sqlite:///covert_academy.db\n",
            "Done.\n",
            "Done.\n"
          ]
        },
        {
          "output_type": "execute_result",
          "data": {
            "text/plain": [
              "[]"
            ]
          },
          "metadata": {},
          "execution_count": 5
        }
      ]
    },
    {
      "cell_type": "markdown",
      "source": [
        "Note how in the ENROLLMENT table, we define a composite primary key (StudentID, ClassID) and also specify the foreign key constraints. Let's now use PRAGMA to see how our tables appear:"
      ],
      "metadata": {
        "id": "bdxxyimBUAxv"
      }
    },
    {
      "cell_type": "code",
      "source": [
        "%%sql\n",
        "PRAGMA table_info(STUDENT);"
      ],
      "metadata": {
        "colab": {
          "base_uri": "https://localhost:8080/",
          "height": 179
        },
        "id": "Iq9AiN18c-Nz",
        "outputId": "10c211a8-7b32-4d4a-ff65-68f6a339473b"
      },
      "execution_count": null,
      "outputs": [
        {
          "output_type": "stream",
          "name": "stdout",
          "text": [
            " * sqlite:///covert_academy.db\n",
            "Done.\n"
          ]
        },
        {
          "output_type": "execute_result",
          "data": {
            "text/plain": [
              "[(0, 'ID', 'INTEGER', 0, None, 1),\n",
              " (1, 'Name', 'VARCHAR(100)', 1, None, 0),\n",
              " (2, 'Codename', 'VARCHAR(50)', 0, None, 0),\n",
              " (3, 'Nationality', 'VARCHAR(50)', 0, None, 0),\n",
              " (4, 'Specialization', 'VARCHAR(100)', 0, None, 0)]"
            ],
            "text/html": [
              "<table>\n",
              "    <thead>\n",
              "        <tr>\n",
              "            <th>cid</th>\n",
              "            <th>name</th>\n",
              "            <th>type</th>\n",
              "            <th>notnull</th>\n",
              "            <th>dflt_value</th>\n",
              "            <th>pk</th>\n",
              "        </tr>\n",
              "    </thead>\n",
              "    <tbody>\n",
              "        <tr>\n",
              "            <td>0</td>\n",
              "            <td>ID</td>\n",
              "            <td>INTEGER</td>\n",
              "            <td>0</td>\n",
              "            <td>None</td>\n",
              "            <td>1</td>\n",
              "        </tr>\n",
              "        <tr>\n",
              "            <td>1</td>\n",
              "            <td>Name</td>\n",
              "            <td>VARCHAR(100)</td>\n",
              "            <td>1</td>\n",
              "            <td>None</td>\n",
              "            <td>0</td>\n",
              "        </tr>\n",
              "        <tr>\n",
              "            <td>2</td>\n",
              "            <td>Codename</td>\n",
              "            <td>VARCHAR(50)</td>\n",
              "            <td>0</td>\n",
              "            <td>None</td>\n",
              "            <td>0</td>\n",
              "        </tr>\n",
              "        <tr>\n",
              "            <td>3</td>\n",
              "            <td>Nationality</td>\n",
              "            <td>VARCHAR(50)</td>\n",
              "            <td>0</td>\n",
              "            <td>None</td>\n",
              "            <td>0</td>\n",
              "        </tr>\n",
              "        <tr>\n",
              "            <td>4</td>\n",
              "            <td>Specialization</td>\n",
              "            <td>VARCHAR(100)</td>\n",
              "            <td>0</td>\n",
              "            <td>None</td>\n",
              "            <td>0</td>\n",
              "        </tr>\n",
              "    </tbody>\n",
              "</table>"
            ]
          },
          "metadata": {},
          "execution_count": 6
        }
      ]
    },
    {
      "cell_type": "code",
      "source": [
        "%%sql\n",
        "PRAGMA table_info(CLASS);"
      ],
      "metadata": {
        "colab": {
          "base_uri": "https://localhost:8080/",
          "height": 179
        },
        "id": "B88f5JnndAlF",
        "outputId": "76372cc7-025c-4455-be0c-3d795b0a49f8"
      },
      "execution_count": null,
      "outputs": [
        {
          "output_type": "stream",
          "name": "stdout",
          "text": [
            " * sqlite:///covert_academy.db\n",
            "Done.\n"
          ]
        },
        {
          "output_type": "execute_result",
          "data": {
            "text/plain": [
              "[(0, 'ID', 'INTEGER', 0, None, 1),\n",
              " (1, 'Name', 'VARCHAR(100)', 1, None, 0),\n",
              " (2, 'Description', 'VARCHAR(200)', 0, None, 0),\n",
              " (3, 'Instructor', 'VARCHAR(100)', 0, None, 0),\n",
              " (4, 'Location', 'VARCHAR(100)', 0, None, 0)]"
            ],
            "text/html": [
              "<table>\n",
              "    <thead>\n",
              "        <tr>\n",
              "            <th>cid</th>\n",
              "            <th>name</th>\n",
              "            <th>type</th>\n",
              "            <th>notnull</th>\n",
              "            <th>dflt_value</th>\n",
              "            <th>pk</th>\n",
              "        </tr>\n",
              "    </thead>\n",
              "    <tbody>\n",
              "        <tr>\n",
              "            <td>0</td>\n",
              "            <td>ID</td>\n",
              "            <td>INTEGER</td>\n",
              "            <td>0</td>\n",
              "            <td>None</td>\n",
              "            <td>1</td>\n",
              "        </tr>\n",
              "        <tr>\n",
              "            <td>1</td>\n",
              "            <td>Name</td>\n",
              "            <td>VARCHAR(100)</td>\n",
              "            <td>1</td>\n",
              "            <td>None</td>\n",
              "            <td>0</td>\n",
              "        </tr>\n",
              "        <tr>\n",
              "            <td>2</td>\n",
              "            <td>Description</td>\n",
              "            <td>VARCHAR(200)</td>\n",
              "            <td>0</td>\n",
              "            <td>None</td>\n",
              "            <td>0</td>\n",
              "        </tr>\n",
              "        <tr>\n",
              "            <td>3</td>\n",
              "            <td>Instructor</td>\n",
              "            <td>VARCHAR(100)</td>\n",
              "            <td>0</td>\n",
              "            <td>None</td>\n",
              "            <td>0</td>\n",
              "        </tr>\n",
              "        <tr>\n",
              "            <td>4</td>\n",
              "            <td>Location</td>\n",
              "            <td>VARCHAR(100)</td>\n",
              "            <td>0</td>\n",
              "            <td>None</td>\n",
              "            <td>0</td>\n",
              "        </tr>\n",
              "    </tbody>\n",
              "</table>"
            ]
          },
          "metadata": {},
          "execution_count": 7
        }
      ]
    },
    {
      "cell_type": "code",
      "source": [
        "%%sql\n",
        "PRAGMA table_info(ENROLLMENT);"
      ],
      "metadata": {
        "colab": {
          "base_uri": "https://localhost:8080/",
          "height": 137
        },
        "id": "ciZw40j9dGn7",
        "outputId": "9805fcc1-9cf2-4682-88a5-8c09c7d3f452"
      },
      "execution_count": null,
      "outputs": [
        {
          "output_type": "stream",
          "name": "stdout",
          "text": [
            " * sqlite:///covert_academy.db\n",
            "Done.\n"
          ]
        },
        {
          "output_type": "execute_result",
          "data": {
            "text/plain": [
              "[(0, 'StudentID', 'INTEGER', 0, None, 1),\n",
              " (1, 'ClassID', 'INTEGER', 0, None, 2),\n",
              " (2, 'EnrollmentDate', 'DATE', 0, None, 0)]"
            ],
            "text/html": [
              "<table>\n",
              "    <thead>\n",
              "        <tr>\n",
              "            <th>cid</th>\n",
              "            <th>name</th>\n",
              "            <th>type</th>\n",
              "            <th>notnull</th>\n",
              "            <th>dflt_value</th>\n",
              "            <th>pk</th>\n",
              "        </tr>\n",
              "    </thead>\n",
              "    <tbody>\n",
              "        <tr>\n",
              "            <td>0</td>\n",
              "            <td>StudentID</td>\n",
              "            <td>INTEGER</td>\n",
              "            <td>0</td>\n",
              "            <td>None</td>\n",
              "            <td>1</td>\n",
              "        </tr>\n",
              "        <tr>\n",
              "            <td>1</td>\n",
              "            <td>ClassID</td>\n",
              "            <td>INTEGER</td>\n",
              "            <td>0</td>\n",
              "            <td>None</td>\n",
              "            <td>2</td>\n",
              "        </tr>\n",
              "        <tr>\n",
              "            <td>2</td>\n",
              "            <td>EnrollmentDate</td>\n",
              "            <td>DATE</td>\n",
              "            <td>0</td>\n",
              "            <td>None</td>\n",
              "            <td>0</td>\n",
              "        </tr>\n",
              "    </tbody>\n",
              "</table>"
            ]
          },
          "metadata": {},
          "execution_count": 8
        }
      ]
    },
    {
      "cell_type": "markdown",
      "source": [
        "## Column Constraints\n",
        "\n",
        "Before we start inserting data into our database, let's discuss some important concepts that help maintain the integrity and consistency of our data: **constraints**.\n",
        "\n",
        "Column constraints are rules applied to individual columns in a table. They restrict the type of data that can be stored in a column. The most common constraints are:\n",
        "\n",
        "1.  **CHECK**: Ensures that a column's value satisfies a boolean expression.\n",
        "2.  **DEFAULT**: Specifies a default value for a column when no value is provided.\n",
        "3.  **NOT NULL**: Ensures that a column cannot have a NULL value.\n",
        "4.  **UNIQUE**: Ensures that each value in a column is unique across the whole table.\n",
        "\n",
        "Let's see how we can apply these constraints to our tables.\n",
        "\n",
        "### The DROP TABLE Statement\n",
        "\n",
        "But first, let's discuss how to drop a table. The `DROP TABLE` statement is used to remove a table definition and all its data. The syntax is simple:\n",
        "\n",
        "```sql\n",
        "DROP TABLE table_name;\n",
        "```\n",
        "\n",
        "This statement is irreversible, so use it with caution!\n",
        "\n",
        "Now, let's recreate our tables with some constraints.\n",
        "\n",
        "### Recreating the STUDENT Table"
      ],
      "metadata": {
        "id": "QRKqTYGNUd4V"
      }
    },
    {
      "cell_type": "code",
      "source": [
        "%%sql\n",
        "DROP TABLE IF EXISTS STUDENT;  -- Drop the table if it already exists\n",
        "\n",
        "CREATE TABLE STUDENT (\n",
        "    ID INTEGER PRIMARY KEY,\n",
        "    Name VARCHAR(100) NOT NULL,\n",
        "    Codename VARCHAR(50) UNIQUE,  -- Codenames must be unique\n",
        "    Nationality VARCHAR(50) DEFAULT 'Unknown',  -- Default nationality is 'Unknown'\n",
        "    Specialization VARCHAR(100),\n",
        "    Age INTEGER CHECK (Age >= 18)  -- Students must be at least 18 years old\n",
        ");"
      ],
      "metadata": {
        "colab": {
          "base_uri": "https://localhost:8080/"
        },
        "id": "MZKsThi-UlR_",
        "outputId": "de3f53bb-2dab-4519-9192-a4f195d6bea2"
      },
      "execution_count": null,
      "outputs": [
        {
          "output_type": "stream",
          "name": "stdout",
          "text": [
            " * sqlite:///covert_academy.db\n",
            "Done.\n",
            "Done.\n"
          ]
        },
        {
          "output_type": "execute_result",
          "data": {
            "text/plain": [
              "[]"
            ]
          },
          "metadata": {},
          "execution_count": 9
        }
      ]
    },
    {
      "cell_type": "markdown",
      "source": [
        "Here, we've added a UNIQUE constraint to the Codename column, a DEFAULT constraint to the Nationality column, and a CHECK constraint to ensure that all students are at least 18 years old."
      ],
      "metadata": {
        "id": "ZamYPobfUqnE"
      }
    },
    {
      "cell_type": "markdown",
      "source": [
        "### Recreating the CLASS Table\n",
        "For the CLASS table, we've added a NOT NULL constraint to the Instructor column and a CHECK constraint to ensure that the StartDate is always before the EndDate."
      ],
      "metadata": {
        "id": "I4BTBQk5U4WW"
      }
    },
    {
      "cell_type": "code",
      "source": [
        "%%sql\n",
        "DROP TABLE IF EXISTS CLASS;\n",
        "\n",
        "CREATE TABLE CLASS (\n",
        "    ID INTEGER PRIMARY KEY,\n",
        "    Name VARCHAR(100) NOT NULL,\n",
        "    Description VARCHAR(200),\n",
        "    Instructor VARCHAR(100) NOT NULL,  -- Every class must have an instructor\n",
        "    Location VARCHAR(100),\n",
        "    StartDate DATE,\n",
        "    EndDate DATE,\n",
        "    CHECK (StartDate < EndDate)  -- The start date must be before the end date\n",
        ");"
      ],
      "metadata": {
        "colab": {
          "base_uri": "https://localhost:8080/"
        },
        "id": "oBs24XC5Uwnv",
        "outputId": "1df1ee47-7822-4c8a-a1ee-ac9e3b506e97"
      },
      "execution_count": null,
      "outputs": [
        {
          "output_type": "stream",
          "name": "stdout",
          "text": [
            " * sqlite:///covert_academy.db\n",
            "Done.\n",
            "Done.\n"
          ]
        },
        {
          "output_type": "execute_result",
          "data": {
            "text/plain": [
              "[]"
            ]
          },
          "metadata": {},
          "execution_count": 10
        }
      ]
    },
    {
      "cell_type": "markdown",
      "source": [
        "### Recreating the ENROLLMENT Table\n",
        "For the ENROLLMENT table, we've added a DEFAULT constraint to set the EnrollmentDate to the current date if no value is provided."
      ],
      "metadata": {
        "id": "NwdoCZU3U-cC"
      }
    },
    {
      "cell_type": "code",
      "source": [
        "%%sql\n",
        "DROP TABLE IF EXISTS ENROLLMENT;\n",
        "\n",
        "CREATE TABLE ENROLLMENT (\n",
        "    StudentID INTEGER,\n",
        "    ClassID INTEGER,\n",
        "    EnrollmentDate DATE DEFAULT CURRENT_DATE,  -- Default is the current date\n",
        "    PRIMARY KEY (StudentID, ClassID),\n",
        "    FOREIGN KEY (StudentID) REFERENCES STUDENT(ID),\n",
        "    FOREIGN KEY (ClassID) REFERENCES CLASS(ID)\n",
        ");"
      ],
      "metadata": {
        "colab": {
          "base_uri": "https://localhost:8080/"
        },
        "id": "sPqt-eRPUCpb",
        "outputId": "63acaa34-e1e4-41ef-d626-2150ec36d70a"
      },
      "execution_count": null,
      "outputs": [
        {
          "output_type": "stream",
          "name": "stdout",
          "text": [
            " * sqlite:///covert_academy.db\n",
            "Done.\n",
            "Done.\n"
          ]
        },
        {
          "output_type": "execute_result",
          "data": {
            "text/plain": [
              "[]"
            ]
          },
          "metadata": {},
          "execution_count": 11
        }
      ]
    },
    {
      "cell_type": "markdown",
      "source": [
        "And there we have it! Our Covert Academy database is now set up with constraints to ensure data integrity."
      ],
      "metadata": {
        "id": "S_r2AOyaVI7f"
      }
    },
    {
      "cell_type": "markdown",
      "source": [
        "### Syntax for Creating Tables: A Quick Reference\n",
        "\n",
        "As we've seen, SQL provides a variety of tools for defining the structure and constraints of our database tables. Let's summarize the syntax for some of the key concepts we've encountered.\n",
        "\n",
        "### Defining a Primary Key\n",
        "\n",
        "To define a primary key for a table, you can use the `PRIMARY KEY` constraint. This can be done in two ways:\n",
        "\n",
        "1.  As part of the column definition:\n",
        "\n",
        "   ```sql\n",
        "CREATE TABLE table_name (\n",
        "        column_name datatype PRIMARY KEY,\n",
        "        ...\n",
        "    );\n",
        "```\n",
        "\n",
        "2.  As a separate table constraint:\n",
        "\n",
        "    ```sql\n",
        "CREATE TABLE table_name (\n",
        "        column_name datatype,\n",
        "        ...,\n",
        "        PRIMARY KEY (column_name)\n",
        "    );\n",
        "```\n",
        "\n",
        "If the primary key is composed of multiple columns (a composite key), you must use the second form and list all the columns in the primary key:\n",
        "\n",
        "```sql\n",
        "CREATE TABLE table_name (\n",
        "    column1 datatype,\n",
        "    column2 datatype,\n",
        "    ...,\n",
        "    PRIMARY KEY (column1, column2)\n",
        ");\n",
        "```\n",
        "\n",
        "#### Defining a Foreign Key\n",
        "\n",
        "To define a foreign key, you use the `FOREIGN KEY` constraint. Again, this can be done as part of the column definition or as a separate table constraint:\n",
        "\n",
        "```sql\n",
        "CREATE TABLE table_name (\n",
        "    ...,\n",
        "    foreign_key_column datatype,\n",
        "    ...,\n",
        "    FOREIGN KEY (foreign_key_column) REFERENCES referenced_table(referenced_column)\n",
        ");\n",
        "```\n",
        "\n",
        "#### The NOT NULL Constraint\n",
        "To specify that a column cannot hold NULL values, use the `NOT NULL` constraint:\n",
        "\n",
        "```sql\n",
        "CREATE TABLE table_name (\n",
        "    column_name datatype NOT NULL,\n",
        "    ...\n",
        ");\n",
        "```\n",
        "\n",
        "#### The UNIQUE Constraint\n",
        "\n",
        "To ensure that all values in a column are different, use the `UNIQUE` constraint:\n",
        "\n",
        "```sql\n",
        "CREATE TABLE table_name (\n",
        "    column_name datatype UNIQUE,\n",
        "    ...\n",
        ");\n",
        "```\n",
        "\n",
        "#### The CHECK Constraint\n",
        "To ensure that a column's value satisfies a boolean expression, use the `CHECK` constraint:\n",
        "\n",
        "```sql\n",
        "CREATE TABLE table_name (\n",
        "    ...,\n",
        "    column_name datatype CHECK (boolean_expression),\n",
        "    ...\n",
        ");\n",
        "```\n",
        "\n",
        "#### The DEFAULT Constraint\n",
        "\n",
        "To specify a default value for a column when no value is provided, use the `DEFAULT` constraint:\n",
        "\n",
        "```sql\n",
        "CREATE TABLE table_name (\n",
        "    column_name datatype DEFAULT default_value,\n",
        "    ...\n",
        ");\n",
        "```\n",
        "\n",
        "These are the basic building blocks for defining the structure and integrity of your database tables. With these tools, you can ensure that your data is consistent, valid, and maintains the relationships you've defined."
      ],
      "metadata": {
        "id": "_e19P3YCVJE_"
      }
    },
    {
      "cell_type": "markdown",
      "source": [
        "## The DROP Statement: Cascading Effects and SQLite Specifics\n",
        "\n",
        "In the last section, we briefly introduced the `DROP TABLE` statement as a way to remove a table from the database. While dropping tables is a straightforward concept, it can have some unexpected consequences, especially when dealing with tables that are related through foreign key constraints.\n",
        "\n",
        "### The DROP TABLE IF EXISTS Syntax\n",
        "\n",
        "One more thing to note: in our previous examples, we used the syntax `DROP TABLE IF EXISTS` instead of just `DROP TABLE`. What does this do?\n",
        "\n",
        "`DROP TABLE IF EXISTS` is a safer way to drop tables. If the specified table doesn't exist, `DROP TABLE` would normally throw an error. However, with `IF EXISTS`, the statement doesn't throw an error if the table doesn't exist; it simply does nothing.\n",
        "\n",
        "This is useful in scripts where you want to ensure that a table doesn't exist before creating it, but you don't want the script to fail if the table doesn't exist to begin with."
      ],
      "metadata": {
        "id": "JC3zsdgvW_r2"
      }
    },
    {
      "cell_type": "markdown",
      "source": [
        "## ALTER TABLE: Modifying Your Database Structure\n",
        "\n",
        "As your database evolves, you may find yourself needing to modify the structure of existing tables. Maybe you need to add a new column, change a column's data type, or add a new constraint. This is where the `ALTER TABLE` statement comes in.\n",
        "\n",
        "The `ALTER TABLE` statement allows you to change the structure of an existing table without deleting and recreating it. This is useful because it preserves the existing data in the table.\n",
        "\n",
        "### Adding a New Column\n",
        "\n",
        "To add a new column to an existing table, you use the `ADD COLUMN` clause:\n",
        "\n",
        "```sql\n",
        "ALTER TABLE table_name\n",
        "ADD COLUMN new_column_name datatype constraint;\n",
        "```\n",
        "For example, let's say we want to add a 'DateOfBirth' column to our STUDENT table:"
      ],
      "metadata": {
        "id": "9l9vlR-3YGKy"
      }
    },
    {
      "cell_type": "code",
      "source": [
        "%%sql\n",
        "ALTER TABLE STUDENT\n",
        "ADD COLUMN DateOfBirth DATE;"
      ],
      "metadata": {
        "colab": {
          "base_uri": "https://localhost:8080/"
        },
        "id": "fzOFYhOvYNH4",
        "outputId": "750c6ccc-f8d3-4172-8147-98350142e18c"
      },
      "execution_count": null,
      "outputs": [
        {
          "output_type": "stream",
          "name": "stdout",
          "text": [
            " * sqlite:///covert_academy.db\n",
            "Done.\n"
          ]
        },
        {
          "output_type": "execute_result",
          "data": {
            "text/plain": [
              "[]"
            ]
          },
          "metadata": {},
          "execution_count": 12
        }
      ]
    },
    {
      "cell_type": "markdown",
      "source": [
        "We can know view the table schema to ensure it has been added."
      ],
      "metadata": {
        "id": "JT5pJjmyYifT"
      }
    },
    {
      "cell_type": "code",
      "source": [
        "%%sql\n",
        "PRAGMA table_info(STUDENT);"
      ],
      "metadata": {
        "colab": {
          "base_uri": "https://localhost:8080/",
          "height": 221
        },
        "id": "C7OyemeTYVGo",
        "outputId": "1e257196-b1a6-4e09-e082-26e2e49fc56e"
      },
      "execution_count": null,
      "outputs": [
        {
          "output_type": "stream",
          "name": "stdout",
          "text": [
            " * sqlite:///covert_academy.db\n",
            "Done.\n"
          ]
        },
        {
          "output_type": "execute_result",
          "data": {
            "text/plain": [
              "[(0, 'ID', 'INTEGER', 0, None, 1),\n",
              " (1, 'Name', 'VARCHAR(100)', 1, None, 0),\n",
              " (2, 'Codename', 'VARCHAR(50)', 0, None, 0),\n",
              " (3, 'Nationality', 'VARCHAR(50)', 0, \"'Unknown'\", 0),\n",
              " (4, 'Specialization', 'VARCHAR(100)', 0, None, 0),\n",
              " (5, 'Age', 'INTEGER', 0, None, 0),\n",
              " (6, 'DateOfBirth', 'DATE', 0, None, 0)]"
            ],
            "text/html": [
              "<table>\n",
              "    <thead>\n",
              "        <tr>\n",
              "            <th>cid</th>\n",
              "            <th>name</th>\n",
              "            <th>type</th>\n",
              "            <th>notnull</th>\n",
              "            <th>dflt_value</th>\n",
              "            <th>pk</th>\n",
              "        </tr>\n",
              "    </thead>\n",
              "    <tbody>\n",
              "        <tr>\n",
              "            <td>0</td>\n",
              "            <td>ID</td>\n",
              "            <td>INTEGER</td>\n",
              "            <td>0</td>\n",
              "            <td>None</td>\n",
              "            <td>1</td>\n",
              "        </tr>\n",
              "        <tr>\n",
              "            <td>1</td>\n",
              "            <td>Name</td>\n",
              "            <td>VARCHAR(100)</td>\n",
              "            <td>1</td>\n",
              "            <td>None</td>\n",
              "            <td>0</td>\n",
              "        </tr>\n",
              "        <tr>\n",
              "            <td>2</td>\n",
              "            <td>Codename</td>\n",
              "            <td>VARCHAR(50)</td>\n",
              "            <td>0</td>\n",
              "            <td>None</td>\n",
              "            <td>0</td>\n",
              "        </tr>\n",
              "        <tr>\n",
              "            <td>3</td>\n",
              "            <td>Nationality</td>\n",
              "            <td>VARCHAR(50)</td>\n",
              "            <td>0</td>\n",
              "            <td>&#x27;Unknown&#x27;</td>\n",
              "            <td>0</td>\n",
              "        </tr>\n",
              "        <tr>\n",
              "            <td>4</td>\n",
              "            <td>Specialization</td>\n",
              "            <td>VARCHAR(100)</td>\n",
              "            <td>0</td>\n",
              "            <td>None</td>\n",
              "            <td>0</td>\n",
              "        </tr>\n",
              "        <tr>\n",
              "            <td>5</td>\n",
              "            <td>Age</td>\n",
              "            <td>INTEGER</td>\n",
              "            <td>0</td>\n",
              "            <td>None</td>\n",
              "            <td>0</td>\n",
              "        </tr>\n",
              "        <tr>\n",
              "            <td>6</td>\n",
              "            <td>DateOfBirth</td>\n",
              "            <td>DATE</td>\n",
              "            <td>0</td>\n",
              "            <td>None</td>\n",
              "            <td>0</td>\n",
              "        </tr>\n",
              "    </tbody>\n",
              "</table>"
            ]
          },
          "metadata": {},
          "execution_count": 13
        }
      ]
    },
    {
      "cell_type": "markdown",
      "source": [
        "### Dropping a Column\n",
        "We can drop (remove) a column using the drop table keyword:\n",
        "\n",
        "```sql\n",
        "ALTER TABLE table_name\n",
        "DROP COLUMN column_name\n",
        "```\n",
        "Let's now drop the DateOfBirth column.  "
      ],
      "metadata": {
        "id": "XkU9xnxaYnT1"
      }
    },
    {
      "cell_type": "code",
      "source": [
        "%%sql\n",
        "ALTER TABLE STUDENT\n",
        "DROP COLUMN DateOfBirth;"
      ],
      "metadata": {
        "colab": {
          "base_uri": "https://localhost:8080/"
        },
        "id": "C3HDFwLpYQJX",
        "outputId": "be330e98-bf88-4355-b8a1-0fcf91e4495e"
      },
      "execution_count": null,
      "outputs": [
        {
          "output_type": "stream",
          "name": "stdout",
          "text": [
            " * sqlite:///covert_academy.db\n",
            "Done.\n"
          ]
        },
        {
          "output_type": "execute_result",
          "data": {
            "text/plain": [
              "[]"
            ]
          },
          "metadata": {},
          "execution_count": 14
        }
      ]
    },
    {
      "cell_type": "markdown",
      "source": [
        "### Renaming Tables and Columns\n",
        "We can also rename tables and columns. For examples, let's suppose we prefer table names like `Students`, `Classes`, and `Enrollments`."
      ],
      "metadata": {
        "id": "ALfNldFrZ96O"
      }
    },
    {
      "cell_type": "code",
      "source": [
        "%%sql\n",
        "ALTER TABLE STUDENT\n",
        "RENAME TO Students;"
      ],
      "metadata": {
        "colab": {
          "base_uri": "https://localhost:8080/"
        },
        "id": "0ZjSNaWxaJgJ",
        "outputId": "b5422921-c35f-42d5-c37c-e52362e065ca"
      },
      "execution_count": null,
      "outputs": [
        {
          "output_type": "stream",
          "name": "stdout",
          "text": [
            " * sqlite:///covert_academy.db\n",
            "Done.\n"
          ]
        },
        {
          "output_type": "execute_result",
          "data": {
            "text/plain": [
              "[]"
            ]
          },
          "metadata": {},
          "execution_count": 15
        }
      ]
    },
    {
      "cell_type": "code",
      "source": [
        "%%sql\n",
        "ALTER TABLE CLASS\n",
        "RENAME TO Classes;"
      ],
      "metadata": {
        "colab": {
          "base_uri": "https://localhost:8080/"
        },
        "id": "scWl2QTTaNPn",
        "outputId": "a85f5e99-10d3-4d86-b38b-34f63fc39faa"
      },
      "execution_count": null,
      "outputs": [
        {
          "output_type": "stream",
          "name": "stdout",
          "text": [
            " * sqlite:///covert_academy.db\n",
            "Done.\n"
          ]
        },
        {
          "output_type": "execute_result",
          "data": {
            "text/plain": [
              "[]"
            ]
          },
          "metadata": {},
          "execution_count": 16
        }
      ]
    },
    {
      "cell_type": "code",
      "source": [
        "%%sql\n",
        "ALTER TABLE ENROLLMENT\n",
        "RENAME TO Enrollments;"
      ],
      "metadata": {
        "colab": {
          "base_uri": "https://localhost:8080/"
        },
        "id": "8z31cyZZaP6F",
        "outputId": "1d6430c0-6113-47ad-f743-f6847e359b69"
      },
      "execution_count": null,
      "outputs": [
        {
          "output_type": "stream",
          "name": "stdout",
          "text": [
            " * sqlite:///covert_academy.db\n",
            "Done.\n"
          ]
        },
        {
          "output_type": "execute_result",
          "data": {
            "text/plain": [
              "[]"
            ]
          },
          "metadata": {},
          "execution_count": 17
        }
      ]
    },
    {
      "cell_type": "markdown",
      "source": [
        "### Modifying a Column's Definition\n",
        "\n",
        "To change a column's data type in databases like Oracle, MySQL, or Postgres, you use the `MODIFY COLUMN` clause (or `ALTER COLUMN` in other databases):\n",
        "\n",
        "```sql\n",
        "ALTER TABLE table_name\n",
        "MODIFY COLUMN column_name new_datatype;\n",
        "```\n",
        "\n",
        "For example, if you wanted to change the 'Specialization' column in the `STUDENT` table to have a maximum length of 200 characters:\n",
        "\n",
        "```sql\n",
        "ALTER TABLE STUDENT\n",
        "MODIFY COLUMN Specialization VARCHAR(200);\n",
        "```\n",
        "\n",
        "You can also do something similar in these database to add constraints:\n",
        "\n",
        "```sql\n",
        "ALTER TABLE STUDENT\n",
        "ADD CONSTRAINT CHK_Age CHECK (Age < 100);\n",
        "```\n",
        "\n",
        "However, SQLite has limited support for `ALTER TABLE`. While you can rename, add, or drop columns, you can't directly modify a column's datatype or constraints. To achieve this in SQLite, you need to use a workaround:\n",
        "\n",
        "\n",
        "1.  Create a new column with the desired constraints (or new data type).\n",
        "2.  Copy the data from the old column to the new column.\n",
        "3.  Drop the old column.\n",
        "4.  Rename the new column to the original name\n",
        "\n",
        "For example, here's how we can add a constraint to make sure age is between 0 and 100."
      ],
      "metadata": {
        "id": "jGuTb3tKcG62"
      }
    },
    {
      "cell_type": "code",
      "source": [
        "%%sql\n",
        "-- Step 1: Add a new column with the desired constraints\n",
        "ALTER TABLE Students ADD COLUMN Age_NEW INTEGER CHECK (Age_NEW < 100);\n",
        "\n",
        "-- Step 2: Copy the data from the old column to the new column\n",
        "-- Not needed here, since our table is empty!\n",
        "UPDATE Students SET Age_NEW = Age;\n",
        "\n",
        "-- Step 3: Drop the old column\n",
        "ALTER TABLE Students DROP COLUMN Age;\n",
        "\n",
        "-- Step 4: Rename the new column to the original name\n",
        "ALTER TABLE Students RENAME COLUMN Age_NEW TO Age;\n"
      ],
      "metadata": {
        "colab": {
          "base_uri": "https://localhost:8080/"
        },
        "id": "fuyG_C8kcHuH",
        "outputId": "ec493e53-814d-428a-b481-4cefe3da5b9b"
      },
      "execution_count": null,
      "outputs": [
        {
          "output_type": "stream",
          "name": "stdout",
          "text": [
            " * sqlite:///covert_academy.db\n",
            "Done.\n",
            "0 rows affected.\n",
            "Done.\n",
            "Done.\n"
          ]
        },
        {
          "output_type": "execute_result",
          "data": {
            "text/plain": [
              "[]"
            ]
          },
          "metadata": {},
          "execution_count": 18
        }
      ]
    },
    {
      "cell_type": "markdown",
      "source": [
        "## Supertypes and Subtypes at the Spy Academy\n",
        "\n",
        "As our Spy Academy database grows, we might realize that some of our entities have common attributes. For example, both students and instructors are people, and they likely share attributes like name, date of birth, and nationality. In database design, we can model this relationship using **supertypes and subtypes**.\n",
        "\n",
        "A **supertype** is an entity that contains the common attributes and relationships of one or more other entities, which are called **subtypes**. The subtypes inherit the attributes and relationships of the supertype and can also have their own specific attributes and relationships.\n",
        "\n",
        "In our Spy Academy example, we could have a `persons` supertype, with `students` and `instructors` as subtypes. Both students and instructors would inherit attributes like name and date of birth from the `persons` supertype, but they would also have their own specific attributes (like specialization for students and office number for instructors).\n",
        "\n",
        "There are several ways to implement supertypes and subtypes in a relational database. We'll use the \"Class Table Inheritance\" approach, where each entity (supertype and subtypes) gets its own table, and the subtype tables reference the supertype table with a foreign key.\n",
        "\n",
        "### Implementing Supertypes and Subtypes\n",
        "\n",
        "Let's start by creating the `Persons` table, which will be our supertype:"
      ],
      "metadata": {
        "id": "I71toFOcHOyC"
      }
    },
    {
      "cell_type": "code",
      "source": [
        "%%sql\n",
        "DROP TABLE IF EXISTS Persons;\n",
        "\n",
        "CREATE TABLE Persons (\n",
        "    id INTEGER PRIMARY KEY,\n",
        "    name VARCHAR(100) NOT NULL,\n",
        "    date_of_birth DATE,\n",
        "    nationality VARCHAR(50) DEFAULT 'Unknown'\n",
        ");"
      ],
      "metadata": {
        "colab": {
          "base_uri": "https://localhost:8080/"
        },
        "id": "moJ6svT3HPj_",
        "outputId": "60060eaf-3c2d-4067-be51-01e412d1d7b2"
      },
      "execution_count": null,
      "outputs": [
        {
          "output_type": "stream",
          "name": "stdout",
          "text": [
            " * sqlite:///covert_academy.db\n",
            "Done.\n",
            "Done.\n"
          ]
        },
        {
          "output_type": "execute_result",
          "data": {
            "text/plain": [
              "[]"
            ]
          },
          "metadata": {},
          "execution_count": 35
        }
      ]
    },
    {
      "cell_type": "markdown",
      "source": [
        "In this table, we've added a `DEFAULT` constraint to set the default nationality to 'Unknown' if not provided.\n",
        "\n",
        "Now, let's create the `Students` and `Instructors` tables as subtypes. They will reference the `Persons` table with a foreign key:\n"
      ],
      "metadata": {
        "id": "WxGMN7qLHlRZ"
      }
    },
    {
      "cell_type": "code",
      "source": [
        "%%sql\n",
        "\n",
        "DROP TABLE IF EXISTS Students;\n",
        "CREATE TABLE Students (\n",
        "    person_id INTEGER PRIMARY KEY,\n",
        "    codename VARCHAR(50) UNIQUE,\n",
        "    specialization VARCHAR(200),\n",
        "    FOREIGN KEY (person_id) REFERENCES Persons (id)\n",
        ");\n",
        "\n",
        "DROP TABLE IF EXISTS Instructors;\n",
        "CREATE TABLE Instructors (\n",
        "    person_id INTEGER PRIMARY KEY,\n",
        "    office_number VARCHAR(20),\n",
        "    FOREIGN KEY (person_id) REFERENCES Persons (id)\n",
        ");"
      ],
      "metadata": {
        "colab": {
          "base_uri": "https://localhost:8080/"
        },
        "id": "8dIcUXuZHmEs",
        "outputId": "9f72d1c7-0c70-4e89-8db2-bbf7c1e92d99"
      },
      "execution_count": null,
      "outputs": [
        {
          "output_type": "stream",
          "name": "stdout",
          "text": [
            " * sqlite:///covert_academy.db\n",
            "Done.\n",
            "Done.\n",
            "Done.\n",
            "Done.\n"
          ]
        },
        {
          "output_type": "execute_result",
          "data": {
            "text/plain": [
              "[]"
            ]
          },
          "metadata": {},
          "execution_count": 38
        }
      ]
    },
    {
      "cell_type": "markdown",
      "source": [
        "In these tables, the `person_id` column is a foreign key that references the `id` column of the `Persons` table. This establishes the inheritance relationship. We've also made `person_id` `NOT NULL` to ensure every student and instructor is linked to a person.\n",
        "\n",
        "Finally, let's modify the `Enrollments` table to include a `role` column, which can be either 'S' (for student) or 'I' (for instructor):"
      ],
      "metadata": {
        "id": "a_9LxCXqIoH0"
      }
    },
    {
      "cell_type": "code",
      "source": [
        "%%sql\n",
        "DROP TABLE IF EXISTS Enrollments;\n",
        "CREATE TABLE Enrollments (\n",
        "    person_id INTEGER,\n",
        "    class_id INTEGER,\n",
        "    role CHAR(1) CHECK (role IN ('S', 'I')),\n",
        "    PRIMARY KEY (person_id, class_id),\n",
        "    FOREIGN KEY (person_id) REFERENCES Persons (id),\n",
        "    FOREIGN KEY (class_id) REFERENCES Classes (id)\n",
        ");"
      ],
      "metadata": {
        "colab": {
          "base_uri": "https://localhost:8080/"
        },
        "id": "Z7vtxA9UHXsT",
        "outputId": "1997dbd3-926e-482d-c510-f54131652d70"
      },
      "execution_count": null,
      "outputs": [
        {
          "output_type": "stream",
          "name": "stdout",
          "text": [
            " * sqlite:///covert_academy.db\n",
            "Done.\n",
            "Done.\n"
          ]
        },
        {
          "output_type": "execute_result",
          "data": {
            "text/plain": [
              "[]"
            ]
          },
          "metadata": {},
          "execution_count": 49
        }
      ]
    },
    {
      "cell_type": "markdown",
      "source": [
        "Finally, let's recreate the `Classes` table. We'll no longer need to store an \"instructor\" attribute, since this will be handled by enrollment."
      ],
      "metadata": {
        "id": "1n8VVJtuOs3I"
      }
    },
    {
      "cell_type": "code",
      "source": [
        "%%sql\n",
        "DROP TABLE IF EXISTS Classes;\n",
        "CREATE TABLE Classes (\n",
        "    id INTEGER PRIMARY KEY,\n",
        "    name VARCHAR(100) NOT NULL,\n",
        "    description VARCHAR(200),\n",
        "    location VARCHAR(100),\n",
        "    start_date DATE,\n",
        "    end_date DATE,\n",
        "    CHECK (start_date < end_date)\n",
        ");"
      ],
      "metadata": {
        "colab": {
          "base_uri": "https://localhost:8080/"
        },
        "id": "MmJUAqa5O2n-",
        "outputId": "12f20c54-63a5-4db1-d6ea-ae0b58a13f70"
      },
      "execution_count": null,
      "outputs": [
        {
          "output_type": "stream",
          "name": "stdout",
          "text": [
            " * sqlite:///covert_academy.db\n",
            "Done.\n",
            "Done.\n"
          ]
        },
        {
          "output_type": "execute_result",
          "data": {
            "text/plain": [
              "[]"
            ]
          },
          "metadata": {},
          "execution_count": 43
        }
      ]
    },
    {
      "cell_type": "markdown",
      "source": [
        "## Final ERD for Spy School\n",
        "And here is the final ERD for our Spy School database."
      ],
      "metadata": {
        "id": "GidyLTTbIfeB"
      }
    },
    {
      "cell_type": "code",
      "source": [
        "mm(\"\"\"\n",
        "    erDiagram\n",
        "    Persons {\n",
        "        INTEGER id PK\n",
        "        VARCHAR name\n",
        "        DATE date_of_birth\n",
        "        VARCHAR nationality    }\n",
        "\n",
        "    Students {\n",
        "        INTEGER person_id PK, FK\n",
        "        VARCHAR codename\n",
        "        VARCHAR specialization    }\n",
        "\n",
        "    Instructors {\n",
        "        INTEGER person_id PK, FK\n",
        "        VARCHAR office_number     }\n",
        "\n",
        "    Classes {\n",
        "        INTEGER id PK\n",
        "        VARCHAR name\n",
        "        VARCHAR description\n",
        "        VARCHAR location\n",
        "        DATE start_date\n",
        "        DATE end_date     }\n",
        "\n",
        "    Enrollments {\n",
        "        INTEGER person_id PK, FK\n",
        "        INTEGER class_id PK, FK\n",
        "        CHAR role     }\n",
        "\n",
        "    Persons ||--o{ Students : \"is a\"\n",
        "    Persons ||--o{ Instructors : \"is a\"\n",
        "    Persons ||--o{ Enrollments : \"teaches or takes\"\n",
        "    Classes ||--o{ Enrollments : \"has\"\n",
        "    \"\"\"\n",
        ")"
      ],
      "metadata": {
        "colab": {
          "base_uri": "https://localhost:8080/",
          "height": 408
        },
        "id": "-XCZvgovIowD",
        "outputId": "a5852cc8-412c-4597-b9b1-bc160a7eaa2a"
      },
      "execution_count": null,
      "outputs": [
        {
          "output_type": "display_data",
          "data": {
            "text/html": [
              "<img src=\"https://mermaid.ink/img/CiAgICBlckRpYWdyYW0KICAgIFBlcnNvbnMgewogICAgICAgIElOVEVHRVIgaWQgUEsKICAgICAgICBWQVJDSEFSIG5hbWUKICAgICAgICBEQVRFIGRhdGVfb2ZfYmlydGgKICAgICAgICBWQVJDSEFSIG5hdGlvbmFsaXR5ICAgIH0KCiAgICBTdHVkZW50cyB7CiAgICAgICAgSU5URUdFUiBwZXJzb25faWQgUEssIEZLCiAgICAgICAgVkFSQ0hBUiBjb2RlbmFtZQogICAgICAgIFZBUkNIQVIgc3BlY2lhbGl6YXRpb24gICAgfQoKICAgIEluc3RydWN0b3JzIHsKICAgICAgICBJTlRFR0VSIHBlcnNvbl9pZCBQSywgRksKICAgICAgICBWQVJDSEFSIG9mZmljZV9udW1iZXIgICAgIH0KCiAgICBDbGFzc2VzIHsKICAgICAgICBJTlRFR0VSIGlkIFBLCiAgICAgICAgVkFSQ0hBUiBuYW1lCiAgICAgICAgVkFSQ0hBUiBkZXNjcmlwdGlvbgogICAgICAgIFZBUkNIQVIgbG9jYXRpb24KICAgICAgICBEQVRFIHN0YXJ0X2RhdGUKICAgICAgICBEQVRFIGVuZF9kYXRlICAgICB9CgogICAgRW5yb2xsbWVudHMgewogICAgICAgIElOVEVHRVIgcGVyc29uX2lkIFBLLCBGSwogICAgICAgIElOVEVHRVIgY2xhc3NfaWQgUEssIEZLCiAgICAgICAgQ0hBUiByb2xlICAgICB9CgogICAgUGVyc29ucyB8fC0tb3sgU3R1ZGVudHMgOiAiaXMgYSIKICAgIFBlcnNvbnMgfHwtLW97IEluc3RydWN0b3JzIDogImlzIGEiCiAgICBQZXJzb25zIHx8LS1veyBFbnJvbGxtZW50cyA6ICJ0ZWFjaGVzIG9yIHRha2VzIgogICAgQ2xhc3NlcyB8fC0tb3sgRW5yb2xsbWVudHMgOiAiaGFzIgogICAg\"/>"
            ],
            "text/plain": [
              "<IPython.core.display.Image object>"
            ]
          },
          "metadata": {}
        }
      ]
    },
    {
      "cell_type": "markdown",
      "source": [
        "### Querying Supertypes and Subtypes\n",
        "\n",
        "Querying supertypes and subtypes involves using joins. For example, to get the names and codenames of all students, we would do:\n",
        "\n",
        "```sql\n",
        "-- Since we don't have any data yet, we can't run this!\n",
        "SELECT p.name, s.codename\n",
        "FROM persons p\n",
        "JOIN students s ON p.id = s.person_id;\n",
        "```\n",
        "\n",
        "And to get all people (both students and instructors) enrolled in a specific class:\n",
        "\n",
        "```sql\n",
        "SELECT p.name, e.role\n",
        "FROM persons p\n",
        "JOIN enrollments e ON p.id = e.person_id\n",
        "WHERE e.class_id = 1;\n",
        "```\n",
        "\n",
        "Supertypes and subtypes allow us to model inheritance relationships in our database, reducing data redundancy and making our schema more flexible. They're a powerful tool in database design when used appropriately."
      ],
      "metadata": {
        "id": "tbGQ7hMiKPFH"
      }
    },
    {
      "cell_type": "code",
      "source": [
        "%%sql\n",
        "--get PRAGMA for Classes\n",
        "PRAGMA table_info(Classes);"
      ],
      "metadata": {
        "colab": {
          "base_uri": "https://localhost:8080/",
          "height": 221
        },
        "id": "xk2SGZwyJqg0",
        "outputId": "8f152566-4827-4d9e-fa92-b6eb3820fd98"
      },
      "execution_count": null,
      "outputs": [
        {
          "output_type": "stream",
          "name": "stdout",
          "text": [
            " * sqlite:///covert_academy.db\n",
            "Done.\n"
          ]
        },
        {
          "output_type": "execute_result",
          "data": {
            "text/plain": [
              "[(0, 'ID', 'INTEGER', 0, None, 1),\n",
              " (1, 'Name', 'VARCHAR(100)', 1, None, 0),\n",
              " (2, 'Description', 'VARCHAR(200)', 0, None, 0),\n",
              " (3, 'Instructor', 'VARCHAR(100)', 1, None, 0),\n",
              " (4, 'Location', 'VARCHAR(100)', 0, None, 0),\n",
              " (5, 'StartDate', 'DATE', 0, None, 0),\n",
              " (6, 'EndDate', 'DATE', 0, None, 0)]"
            ],
            "text/html": [
              "<table>\n",
              "    <thead>\n",
              "        <tr>\n",
              "            <th>cid</th>\n",
              "            <th>name</th>\n",
              "            <th>type</th>\n",
              "            <th>notnull</th>\n",
              "            <th>dflt_value</th>\n",
              "            <th>pk</th>\n",
              "        </tr>\n",
              "    </thead>\n",
              "    <tbody>\n",
              "        <tr>\n",
              "            <td>0</td>\n",
              "            <td>ID</td>\n",
              "            <td>INTEGER</td>\n",
              "            <td>0</td>\n",
              "            <td>None</td>\n",
              "            <td>1</td>\n",
              "        </tr>\n",
              "        <tr>\n",
              "            <td>1</td>\n",
              "            <td>Name</td>\n",
              "            <td>VARCHAR(100)</td>\n",
              "            <td>1</td>\n",
              "            <td>None</td>\n",
              "            <td>0</td>\n",
              "        </tr>\n",
              "        <tr>\n",
              "            <td>2</td>\n",
              "            <td>Description</td>\n",
              "            <td>VARCHAR(200)</td>\n",
              "            <td>0</td>\n",
              "            <td>None</td>\n",
              "            <td>0</td>\n",
              "        </tr>\n",
              "        <tr>\n",
              "            <td>3</td>\n",
              "            <td>Instructor</td>\n",
              "            <td>VARCHAR(100)</td>\n",
              "            <td>1</td>\n",
              "            <td>None</td>\n",
              "            <td>0</td>\n",
              "        </tr>\n",
              "        <tr>\n",
              "            <td>4</td>\n",
              "            <td>Location</td>\n",
              "            <td>VARCHAR(100)</td>\n",
              "            <td>0</td>\n",
              "            <td>None</td>\n",
              "            <td>0</td>\n",
              "        </tr>\n",
              "        <tr>\n",
              "            <td>5</td>\n",
              "            <td>StartDate</td>\n",
              "            <td>DATE</td>\n",
              "            <td>0</td>\n",
              "            <td>None</td>\n",
              "            <td>0</td>\n",
              "        </tr>\n",
              "        <tr>\n",
              "            <td>6</td>\n",
              "            <td>EndDate</td>\n",
              "            <td>DATE</td>\n",
              "            <td>0</td>\n",
              "            <td>None</td>\n",
              "            <td>0</td>\n",
              "        </tr>\n",
              "    </tbody>\n",
              "</table>"
            ]
          },
          "metadata": {},
          "execution_count": 25
        }
      ]
    },
    {
      "cell_type": "markdown",
      "source": [
        "## Inserting Sample Data\n",
        "In the next chapter, we'll cover inserting data in much more detail. For now, though, here are a few rows of data so that we can test our database."
      ],
      "metadata": {
        "id": "7xbRkC84KvbZ"
      }
    },
    {
      "cell_type": "code",
      "source": [
        "%%sql\n",
        "-- Insert data into the Persons table\n",
        "DELETE FROM Persons;\n",
        "INSERT INTO Persons (Name, date_of_birth, Nationality)\n",
        "VALUES\n",
        "    ('James Bond', '1920-11-11', 'British'),\n",
        "    ('Ethan Hunt', '1964-08-18', 'American'),\n",
        "    ('Jason Bourne', '1970-09-13', 'American'),\n",
        "    ('Natasha Romanoff', '1984-11-22', 'Russian'),\n",
        "    ('Harry Hart', '1960-09-17', 'British'),\n",
        "    ('Lorraine Broughton', '1990-11-10', 'British'),\n",
        "    ('Evelyn Salt', '1980-09-14', 'American');\n",
        "\n",
        "-- Insert data into the Students table\n",
        "DELETE FROM Students;\n",
        "INSERT INTO Students (person_id, codename, specialization)\n",
        "VALUES\n",
        "    (1, '007', 'Covert Operations'),\n",
        "    (2, 'Raptor', 'Infiltration'),\n",
        "    (4, 'Black Widow', 'Assassination'),\n",
        "    (6, 'Wisdom', 'Counter-Intelligence');\n",
        "\n",
        "-- Insert data into the Instructors table\n",
        "DELETE FROM Instructors;\n",
        "INSERT INTO Instructors (person_id, office_number)\n",
        "VALUES\n",
        "    (3, '101A'),\n",
        "    (5, '221B'),\n",
        "    (7, 'X-7');\n",
        "\n",
        "-- Insert data into the Classes table\n",
        "DELETE FROM Classes;\n",
        "INSERT INTO Classes (name, description, start_date, end_date)\n",
        "VALUES\n",
        "    ('Espionage 101', 'Introduction to Spying', '2023-09-01', '2023-12-15'),\n",
        "    ('Advanced Disguise', 'Becoming Anyone', '2023-09-01', '2023-11-30'),\n",
        "    ('Infiltration Tactics', 'Getting In and Out', '2023-10-15', '2024-01-15'),\n",
        "    ('Weapons Training', 'From Pens to Rocket Launchers', '2024-01-15', '2024-04-30');\n",
        "\n",
        "-- Insert data into the Enrollments table\n",
        "DELETE FROM Enrollments;\n",
        "INSERT INTO Enrollments (person_id, class_iD, role)\n",
        "VALUES\n",
        "    (1, 1, 'S'),\n",
        "    (2, 1, 'S'),\n",
        "    (3, 1, 'I'),\n",
        "    (4, 2, 'S'),\n",
        "    (5, 2, 'I'),\n",
        "    (6, 3, 'S'),\n",
        "    (7, 3, 'I'),\n",
        "    (1, 4, 'S'),\n",
        "    (2, 4, 'S'),\n",
        "    (4, 4, 'S'),\n",
        "    (5, 4, 'I');"
      ],
      "metadata": {
        "colab": {
          "base_uri": "https://localhost:8080/"
        },
        "id": "0z_R1bP5K6qU",
        "outputId": "c0d0d3ea-3bd6-490c-8fb1-8e81e6b99730"
      },
      "execution_count": null,
      "outputs": [
        {
          "output_type": "stream",
          "name": "stdout",
          "text": [
            " * sqlite:///covert_academy.db\n",
            "7 rows affected.\n",
            "7 rows affected.\n",
            "4 rows affected.\n",
            "4 rows affected.\n",
            "3 rows affected.\n",
            "3 rows affected.\n",
            "4 rows affected.\n",
            "4 rows affected.\n",
            "0 rows affected.\n",
            "11 rows affected.\n"
          ]
        },
        {
          "output_type": "execute_result",
          "data": {
            "text/plain": [
              "[]"
            ]
          },
          "metadata": {},
          "execution_count": 51
        }
      ]
    },
    {
      "cell_type": "markdown",
      "source": [
        "## Sample Queries\n",
        "Now, we can run some sample queries against the database. First, let's get a list of the students and the classes they are enrolled in."
      ],
      "metadata": {
        "id": "WrvvJsSORAkQ"
      }
    },
    {
      "cell_type": "code",
      "source": [
        "%%sql\n",
        "SELECT\n",
        "  s.codename,\n",
        "  c.name AS \"class_name\"\n",
        "FROM\n",
        "  Students s\n",
        "  JOIN Enrollments e ON s.person_id = e.person_id\n",
        "  JOIN Classes c ON e.class_id = c.id\n",
        "WHERE e.role = 'S';"
      ],
      "metadata": {
        "colab": {
          "base_uri": "https://localhost:8080/",
          "height": 221
        },
        "id": "P9JiT9b3RMNi",
        "outputId": "046bbd6f-8c43-4961-e142-2575ab67f166"
      },
      "execution_count": null,
      "outputs": [
        {
          "output_type": "stream",
          "name": "stdout",
          "text": [
            " * sqlite:///covert_academy.db\n",
            "Done.\n"
          ]
        },
        {
          "output_type": "execute_result",
          "data": {
            "text/plain": [
              "[('007', 'Espionage 101'),\n",
              " ('Raptor', 'Espionage 101'),\n",
              " ('Black Widow', 'Advanced Disguise'),\n",
              " ('Wisdom', 'Infiltration Tactics'),\n",
              " ('007', 'Weapons Training'),\n",
              " ('Raptor', 'Weapons Training'),\n",
              " ('Black Widow', 'Weapons Training')]"
            ],
            "text/html": [
              "<table>\n",
              "    <thead>\n",
              "        <tr>\n",
              "            <th>codename</th>\n",
              "            <th>class_name</th>\n",
              "        </tr>\n",
              "    </thead>\n",
              "    <tbody>\n",
              "        <tr>\n",
              "            <td>007</td>\n",
              "            <td>Espionage 101</td>\n",
              "        </tr>\n",
              "        <tr>\n",
              "            <td>Raptor</td>\n",
              "            <td>Espionage 101</td>\n",
              "        </tr>\n",
              "        <tr>\n",
              "            <td>Black Widow</td>\n",
              "            <td>Advanced Disguise</td>\n",
              "        </tr>\n",
              "        <tr>\n",
              "            <td>Wisdom</td>\n",
              "            <td>Infiltration Tactics</td>\n",
              "        </tr>\n",
              "        <tr>\n",
              "            <td>007</td>\n",
              "            <td>Weapons Training</td>\n",
              "        </tr>\n",
              "        <tr>\n",
              "            <td>Raptor</td>\n",
              "            <td>Weapons Training</td>\n",
              "        </tr>\n",
              "        <tr>\n",
              "            <td>Black Widow</td>\n",
              "            <td>Weapons Training</td>\n",
              "        </tr>\n",
              "    </tbody>\n",
              "</table>"
            ]
          },
          "metadata": {},
          "execution_count": 58
        }
      ]
    },
    {
      "cell_type": "markdown",
      "source": [
        "We could also alter this query to include the information about the student from the `Persons` table."
      ],
      "metadata": {
        "id": "sPsmWepVRhZa"
      }
    },
    {
      "cell_type": "code",
      "source": [
        "%%sql\n",
        "SELECT\n",
        "  p.name AS \"student_name\",\n",
        "  s.codename,\n",
        "  c.name AS \"class_name\"\n",
        "FROM\n",
        "  Students s\n",
        "  JOIN Enrollments e ON s.person_id = e.person_id\n",
        "  JOIN Classes c ON e.class_id = c.id\n",
        "  JOIN Persons p ON s.person_id = p.id\n",
        "WHERE e.role = 'S';"
      ],
      "metadata": {
        "colab": {
          "base_uri": "https://localhost:8080/",
          "height": 221
        },
        "id": "VS9ZS9HbRo4m",
        "outputId": "f33305b6-d0e9-4be2-b502-de466944f41a"
      },
      "execution_count": null,
      "outputs": [
        {
          "output_type": "stream",
          "name": "stdout",
          "text": [
            " * sqlite:///covert_academy.db\n",
            "Done.\n"
          ]
        },
        {
          "output_type": "execute_result",
          "data": {
            "text/plain": [
              "[('James Bond', '007', 'Espionage 101'),\n",
              " ('Ethan Hunt', 'Raptor', 'Espionage 101'),\n",
              " ('Natasha Romanoff', 'Black Widow', 'Advanced Disguise'),\n",
              " ('Lorraine Broughton', 'Wisdom', 'Infiltration Tactics'),\n",
              " ('James Bond', '007', 'Weapons Training'),\n",
              " ('Ethan Hunt', 'Raptor', 'Weapons Training'),\n",
              " ('Natasha Romanoff', 'Black Widow', 'Weapons Training')]"
            ],
            "text/html": [
              "<table>\n",
              "    <thead>\n",
              "        <tr>\n",
              "            <th>student_name</th>\n",
              "            <th>codename</th>\n",
              "            <th>class_name</th>\n",
              "        </tr>\n",
              "    </thead>\n",
              "    <tbody>\n",
              "        <tr>\n",
              "            <td>James Bond</td>\n",
              "            <td>007</td>\n",
              "            <td>Espionage 101</td>\n",
              "        </tr>\n",
              "        <tr>\n",
              "            <td>Ethan Hunt</td>\n",
              "            <td>Raptor</td>\n",
              "            <td>Espionage 101</td>\n",
              "        </tr>\n",
              "        <tr>\n",
              "            <td>Natasha Romanoff</td>\n",
              "            <td>Black Widow</td>\n",
              "            <td>Advanced Disguise</td>\n",
              "        </tr>\n",
              "        <tr>\n",
              "            <td>Lorraine Broughton</td>\n",
              "            <td>Wisdom</td>\n",
              "            <td>Infiltration Tactics</td>\n",
              "        </tr>\n",
              "        <tr>\n",
              "            <td>James Bond</td>\n",
              "            <td>007</td>\n",
              "            <td>Weapons Training</td>\n",
              "        </tr>\n",
              "        <tr>\n",
              "            <td>Ethan Hunt</td>\n",
              "            <td>Raptor</td>\n",
              "            <td>Weapons Training</td>\n",
              "        </tr>\n",
              "        <tr>\n",
              "            <td>Natasha Romanoff</td>\n",
              "            <td>Black Widow</td>\n",
              "            <td>Weapons Training</td>\n",
              "        </tr>\n",
              "    </tbody>\n",
              "</table>"
            ]
          },
          "metadata": {},
          "execution_count": 55
        }
      ]
    },
    {
      "cell_type": "markdown",
      "source": [
        "Or, we could get a count of the classes taught by each instructor."
      ],
      "metadata": {
        "id": "RNYMp71vR_-A"
      }
    },
    {
      "cell_type": "code",
      "source": [
        "%%sql\n",
        "SELECT\n",
        "  p.name AS \"instructor_name\",\n",
        "  COUNT(e.class_id) AS \"classes_taught\"\n",
        "FROM\n",
        "  Instructors i\n",
        "  JOIN Enrollments e ON i.person_id = e.person_id\n",
        "  JOIN Persons p ON i.person_id = p.id\n",
        "WHERE e.role = 'I'\n",
        "GROUP BY i.person_id;"
      ],
      "metadata": {
        "colab": {
          "base_uri": "https://localhost:8080/",
          "height": 137
        },
        "id": "B7xiyQSUSEcx",
        "outputId": "d2089343-f802-480c-a144-0d54c673f2cc"
      },
      "execution_count": null,
      "outputs": [
        {
          "output_type": "stream",
          "name": "stdout",
          "text": [
            " * sqlite:///covert_academy.db\n",
            "Done.\n"
          ]
        },
        {
          "output_type": "execute_result",
          "data": {
            "text/plain": [
              "[('Jason Bourne', 1), ('Harry Hart', 2), ('Evelyn Salt', 1)]"
            ],
            "text/html": [
              "<table>\n",
              "    <thead>\n",
              "        <tr>\n",
              "            <th>instructor_name</th>\n",
              "            <th>classes_taught</th>\n",
              "        </tr>\n",
              "    </thead>\n",
              "    <tbody>\n",
              "        <tr>\n",
              "            <td>Jason Bourne</td>\n",
              "            <td>1</td>\n",
              "        </tr>\n",
              "        <tr>\n",
              "            <td>Harry Hart</td>\n",
              "            <td>2</td>\n",
              "        </tr>\n",
              "        <tr>\n",
              "            <td>Evelyn Salt</td>\n",
              "            <td>1</td>\n",
              "        </tr>\n",
              "    </tbody>\n",
              "</table>"
            ]
          },
          "metadata": {},
          "execution_count": 57
        }
      ]
    },
    {
      "cell_type": "markdown",
      "source": [
        "## Lab: Create Your Own Database\n",
        "\n",
        "In this lab, you will design and implement a database related to a personal interest of your choice. This exercise will take you through the entire process of database design and implementation, from conceptualization to data insertion. **You can can complete directly in the Colab notebook. Just add \"text cells\" to write text, and use code cells starting with %%sql to write SQL queries.\n",
        "\n",
        "### Step 1: Description of idea\n",
        "\n",
        "Choose a topic for your database based on a personal interest. Your database should involve at least two related entities. Here are some ideas to get you started:\n",
        "\n",
        "- A music collection (artists, albums, songs)\n",
        "- A recipe book (recipes, ingredients, categories)\n",
        "- A personal movie library (movies, directors, genres)\n",
        "- A fitness tracker (workouts, exercises, muscle groups)\n",
        "- A plant care diary (plants, care instructions, watering schedule)\n",
        "\n",
        "Write 1-3 paragraphs describing your chosen topic and what kind of information your database will store. Consider what questions your database should be able to answer.\n",
        "\n",
        "Output: A brief description of your database concept.\n",
        "\n",
        "### Step 2: Business rules\n",
        "\n",
        "Define at least 5 business rules for your database. These rules should describe the relationships between your entities and any constraints on the data.\n",
        "\n",
        "Output: A list of at least 5 business rules.\n",
        "\n",
        "### Step 3: Conceptual model (ERD)\n",
        "\n",
        "Create an Entity-Relationship Diagram (ERD) for your database using Mermaid syntax. Include at least two entities and show the relationships between them.\n",
        "\n",
        "Output: A Mermaid ERD diagram. You can use the following syntax:\n",
        "\n",
        "mm(\"\"\"\n",
        "erDiagram\n",
        "    STUDENT ||--o{ ENROLLMENT : has\n",
        "    ENROLLMENT }o--|| CLASS : is_for\n",
        "\"\"\")\n",
        "\n",
        "### Step 4: Simple create table (SQLite)\n",
        "\n",
        "Write SQLite commands to create the tables for your database. At this stage, don't worry about adding constraints - just define the basic structure of your tables.\n",
        "\n",
        "Output: SQLite CREATE TABLE statements for each of your entities.\n",
        "\n",
        "### Step 5: Drop tables, create again with full constraints\n",
        "\n",
        "Now, enhance your table creation scripts. First, write statements to drop the existing tables. Then, recreate them with proper constraints, including primary keys, foreign keys, and any other constraints that enforce your business rules.\n",
        "\n",
        "Output: SQLite DROP TABLE and CREATE TABLE statements with full constraints.\n",
        "\n",
        "### Step 6: Practice alter table\n",
        "\n",
        "Choose one of your tables and write an ALTER TABLE statement to add a new column or constraint that wasn't in your original design.\n",
        "\n",
        "Output: An ALTER TABLE statement for one of your tables.\n",
        "\n",
        "### Step 7: Simple insert\n",
        "\n",
        "Write INSERT statements to add some sample data to your tables. Include at least two rows of data for each table.\n",
        "\n",
        "Output: INSERT statements with sample data for each of your tables.\n",
        "\n",
        "Remember, the goal of this lab is to apply the database design and SQL concepts you've learned to a topic that interests you. Be creative, and don't hesitate to ask for clarification if you're unsure about any step."
      ],
      "metadata": {
        "id": "lG8kTrSzgR2c"
      }
    },
    {
      "cell_type": "code",
      "source": [],
      "metadata": {
        "id": "Pwne7WUHgSay"
      },
      "execution_count": null,
      "outputs": []
    },
    {
      "cell_type": "code",
      "source": [],
      "metadata": {
        "id": "p2hzXqiFgSeU"
      },
      "execution_count": null,
      "outputs": []
    },
    {
      "cell_type": "code",
      "source": [],
      "metadata": {
        "id": "7JkkWQGtgSgf"
      },
      "execution_count": null,
      "outputs": []
    },
    {
      "cell_type": "code",
      "source": [],
      "metadata": {
        "id": "AMdBBWLogSkO"
      },
      "execution_count": null,
      "outputs": []
    },
    {
      "cell_type": "code",
      "source": [],
      "metadata": {
        "id": "bNI5kmCygSzr"
      },
      "execution_count": null,
      "outputs": []
    },
    {
      "cell_type": "markdown",
      "source": [
        "## Summary\n",
        "-   Database design is a crucial process that ensures the efficient storage, retrieval, and management of data in a database.\n",
        "-   The process of database design consists of three main phases: conceptual modeling, logical modeling, and physical modeling.\n",
        "-   Conceptual modeling focuses on identifying the key entities, attributes, and relationships in the database, without worrying about the specific implementation details.\n",
        "-   Logical modeling involves refining the conceptual model by introducing concepts like keys, normalization, and join tables to ensure data integrity and avoid redundancy.\n",
        "-   Physical modeling involves using SQL statements to actually create the tables and define their structure, constraints, and relationships in the database.\n",
        "-   Keys, such as primary keys and foreign keys, are essential for ensuring uniqueness and establishing relationships between tables.\n",
        "-   Normalization is a technique used to reduce data redundancy and improve data integrity by organizing data into multiple tables based on their dependencies.\n",
        "-   Join tables are used to resolve many-to-many relationships between entities in the logical modeling phase.\n",
        "-   SQL statements like CREATE TABLE, DROP TABLE, and ALTER TABLE are used to create, modify, and delete tables in the physical modeling phase.\n",
        "-   Constraints, such as NOT NULL, UNIQUE, and CHECK, are used to enforce data integrity and consistency in the database.\n",
        "-   Supertypes and subtypes are used to model inheritance relationships between entities, allowing for more efficient storage and retrieval of data.\n",
        "-   Designing a database is an iterative process that requires careful planning, attention to detail, and a good understanding of the business requirements and data relationships."
      ],
      "metadata": {
        "id": "PW5G1RMUVElX"
      }
    },
    {
      "cell_type": "markdown",
      "source": [
        "## Review WIth QUizlet"
      ],
      "metadata": {
        "id": "sCGgtDyw614o"
      }
    },
    {
      "cell_type": "code",
      "source": [
        "%%html\n",
        "<iframe src=\"https://quizlet.com/930419891/learn/embed?i=psvlh&x=1jj1\" height=\"600\" width=\"100%\" style=\"border:0\"></iframe>"
      ],
      "metadata": {
        "id": "_UGKkONZ64TR",
        "outputId": "8f9db002-2117-48a4-f656-2168a6bc8ffa",
        "colab": {
          "base_uri": "https://localhost:8080/",
          "height": 621
        }
      },
      "execution_count": null,
      "outputs": [
        {
          "output_type": "display_data",
          "data": {
            "text/plain": [
              "<IPython.core.display.HTML object>"
            ],
            "text/html": [
              "<iframe src=\"https://quizlet.com/930419891/learn/embed?i=psvlh&x=1jj1\" height=\"600\" width=\"100%\" style=\"border:0\"></iframe>\n"
            ]
          },
          "metadata": {}
        }
      ]
    },
    {
      "cell_type": "markdown",
      "source": [
        "## Glossary\n",
        "\n",
        "| Term | Definition |\n",
        "|------|------------|\n",
        "| ALTER TABLE t ADD COLUMN c | SQL command to add a new column to an existing table. |\n",
        "| ALTER TABLE t DROP COLUMN c | SQL command to remove a column from an existing table. |\n",
        "| ALTER TABLE t RENAME TO t2 | SQL command to change the name of an existing table. |\n",
        "| ANSI | American National Standards Institute, which sets standards for various technologies, including SQL. |\n",
        "| Attributes (Crow's foot ERD) | Characteristics or properties of entities that appear as text within boxes. |\n",
        "| BLOB | Binary Large Object, a data type for storing large binary objects such as images or files in a database. |\n",
        "| Business rule | A statement that defines or constrains some aspect of business structure or behavior. |\n",
        "| CHAR(n) | Fixed-length character string data type, where n specifies the number of characters. |\n",
        "| CHECK | A constraint that specifies a condition that must be true for each row in a table. |\n",
        "| col_name datatype PRIMARY KEY | SQL syntax to define a column as the primary key when creating a table. |\n",
        "| Conceptual model | High-level representation of data and relationships in a system, independent of physical implementation details. |\n",
        "| CREATE TABLE | SQL command used to create a new table in a database. |\n",
        "| DATE | Data type for storing date values (typically year, month, and day). |\n",
        "| Descriptive process | Approach to database design that starts with existing data structures and refines them. |\n",
        "| DROP TABLE | SQL command to remove an existing table and all its data from the database. |\n",
        "| DROP TABLE t if exists | SQL command to remove a table only if it exists, preventing errors if the table doesn't exist. |\n",
        "| Entities (Crow's foot ERD) | Distinct objects or concepts represented as boxes |\n",
        "| First normal form (1NF) | A set of rules in database normalization that eliminates repeating groups and ensures atomic values. |\n",
        "| FOREIGN KEY (c1) REFERENCES t (c2) | SQL constraint defining a column as a foreign key referencing another table's column. |\n",
        "| INTEGER | Data type for storing whole numbers without fractional components. |\n",
        "| ISO | International Organization for Standardization, which publishes standards for various technologies, including SQL. |\n",
        "| JSONB | PostgreSQL data type for storing JSON data in a binary format, allowing for efficient querying and indexing. |\n",
        "| Logical model | Detailed representation of data structures and relationships, independent of a specific database management system. |\n",
        "| Natural key | A unique identifier for a database record that is formed from existing attributes with real-world meaning. |\n",
        "| Normalization | Process of organizing data to reduce redundancy and improve data integrity. |\n",
        "| Normative process | Approach to database design that starts with requirements and builds the structure from scratch. |\n",
        "| NOT NULL | Constraint that ensures a column cannot contain null (empty) values. |\n",
        "| Physical model | Representation of database design as implemented in a specific database management system. |\n",
        "| PRIMARY KEY | Constraint that uniquely identifies each record in a database table. |\n",
        "| REAL | Data type for storing single precision floating-point numbers. |\n",
        "| Relationships (Crow's foot ERD) | Connections between entities in a Crow's Foot Entity-Relationship Diagram, represented as lines |\n",
        "| Second normal form (2NF) | Normalization level that builds on 1NF and eliminates partial dependencies on the primary key. |\n",
        "| Surrogate key | Artificial identifier assigned to an entity as a substitute for a natural key. |\n",
        "| TEXT | Data type for storing variable-length character strings, typically with no specified maximum length. |\n",
        "| Third normal form (3NF) | Normalization level that builds on 2NF and eliminates transitive dependencies. |\n",
        "| TIME | Data type for storing time values (typically hour, minute, second). |\n",
        "| UNIQUE | Constraint ensuring all values in a column or set of columns are distinct from one another. |\n",
        "| VARCHAR(n) | Variable-length character string data type, where n specifies the maximum number of characters. |"
      ],
      "metadata": {
        "id": "KwvY67NH6QKG"
      }
    },
    {
      "cell_type": "code",
      "source": [],
      "metadata": {
        "id": "3EPDcB4iVULJ"
      },
      "execution_count": null,
      "outputs": []
    }
  ]
}