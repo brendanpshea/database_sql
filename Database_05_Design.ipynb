{
  "nbformat": 4,
  "nbformat_minor": 0,
  "metadata": {
    "colab": {
      "provenance": [],
      "authorship_tag": "ABX9TyMiZXimRQ4AFybt5RPexMoQ",
      "include_colab_link": true
    },
    "kernelspec": {
      "name": "python3",
      "display_name": "Python 3"
    },
    "language_info": {
      "name": "python"
    },
    "widgets": {
      "application/vnd.jupyter.widget-state+json": {
        "90f4fa901d2f4d699c1665fa364b6438": {
          "model_module": "@jupyter-widgets/controls",
          "model_name": "TabModel",
          "model_module_version": "1.5.0",
          "state": {
            "_dom_classes": [],
            "_model_module": "@jupyter-widgets/controls",
            "_model_module_version": "1.5.0",
            "_model_name": "TabModel",
            "_titles": {
              "0": "Quiz",
              "1": "View Tables"
            },
            "_view_count": null,
            "_view_module": "@jupyter-widgets/controls",
            "_view_module_version": "1.5.0",
            "_view_name": "TabView",
            "box_style": "",
            "children": [
              "IPY_MODEL_17223f4ead5346e8b253143e5ad61c24",
              "IPY_MODEL_e9c548db84d243229b3034ddb16f5457"
            ],
            "layout": "IPY_MODEL_f6bd4d4e0acc4bb69694fde21a97c93d",
            "selected_index": 0
          }
        },
        "17223f4ead5346e8b253143e5ad61c24": {
          "model_module": "@jupyter-widgets/controls",
          "model_name": "VBoxModel",
          "model_module_version": "1.5.0",
          "state": {
            "_dom_classes": [],
            "_model_module": "@jupyter-widgets/controls",
            "_model_module_version": "1.5.0",
            "_model_name": "VBoxModel",
            "_view_count": null,
            "_view_module": "@jupyter-widgets/controls",
            "_view_module_version": "1.5.0",
            "_view_name": "VBoxView",
            "box_style": "",
            "children": [
              "IPY_MODEL_b36e421d8814461d803e461095e60853",
              "IPY_MODEL_184cb0bcc9324c3492efd3dbd89c4c90",
              "IPY_MODEL_7a034eb495874e76bc6dbf23c9e1d2bf",
              "IPY_MODEL_9b56751ac2894476a7d117e8da50b2cd",
              "IPY_MODEL_fdb4b8dac0284467a5494aacd553102d",
              "IPY_MODEL_36ec32cd40e74d7d8383771c0f73b368",
              "IPY_MODEL_1dbc8b42752a4787ad6dc8d4790a2ce6"
            ],
            "layout": "IPY_MODEL_c94df45af29740caa3e02387f4d3957f"
          }
        },
        "e9c548db84d243229b3034ddb16f5457": {
          "model_module": "@jupyter-widgets/controls",
          "model_name": "VBoxModel",
          "model_module_version": "1.5.0",
          "state": {
            "_dom_classes": [],
            "_model_module": "@jupyter-widgets/controls",
            "_model_module_version": "1.5.0",
            "_model_name": "VBoxModel",
            "_view_count": null,
            "_view_module": "@jupyter-widgets/controls",
            "_view_module_version": "1.5.0",
            "_view_name": "VBoxView",
            "box_style": "",
            "children": [
              "IPY_MODEL_07ac6be4cd8f4bedb82c2e8270590668",
              "IPY_MODEL_2e218d831af64ff49e1ef8d350308894"
            ],
            "layout": "IPY_MODEL_7ac94be89b2b4f0cb9100f1d364980d8"
          }
        },
        "f6bd4d4e0acc4bb69694fde21a97c93d": {
          "model_module": "@jupyter-widgets/base",
          "model_name": "LayoutModel",
          "model_module_version": "1.2.0",
          "state": {
            "_model_module": "@jupyter-widgets/base",
            "_model_module_version": "1.2.0",
            "_model_name": "LayoutModel",
            "_view_count": null,
            "_view_module": "@jupyter-widgets/base",
            "_view_module_version": "1.2.0",
            "_view_name": "LayoutView",
            "align_content": null,
            "align_items": null,
            "align_self": null,
            "border": null,
            "bottom": null,
            "display": null,
            "flex": null,
            "flex_flow": null,
            "grid_area": null,
            "grid_auto_columns": null,
            "grid_auto_flow": null,
            "grid_auto_rows": null,
            "grid_column": null,
            "grid_gap": null,
            "grid_row": null,
            "grid_template_areas": null,
            "grid_template_columns": null,
            "grid_template_rows": null,
            "height": null,
            "justify_content": null,
            "justify_items": null,
            "left": null,
            "margin": null,
            "max_height": null,
            "max_width": null,
            "min_height": null,
            "min_width": null,
            "object_fit": null,
            "object_position": null,
            "order": null,
            "overflow": null,
            "overflow_x": null,
            "overflow_y": null,
            "padding": null,
            "right": null,
            "top": null,
            "visibility": null,
            "width": null
          }
        },
        "b36e421d8814461d803e461095e60853": {
          "model_module": "@jupyter-widgets/controls",
          "model_name": "IntProgressModel",
          "model_module_version": "1.5.0",
          "state": {
            "_dom_classes": [],
            "_model_module": "@jupyter-widgets/controls",
            "_model_module_version": "1.5.0",
            "_model_name": "IntProgressModel",
            "_view_count": null,
            "_view_module": "@jupyter-widgets/controls",
            "_view_module_version": "1.5.0",
            "_view_name": "ProgressView",
            "bar_style": "info",
            "description": "Progress:",
            "description_tooltip": null,
            "layout": "IPY_MODEL_519672aa2c6f48018b8d586b3b8b5ca2",
            "max": 100,
            "min": 0,
            "orientation": "horizontal",
            "style": "IPY_MODEL_c218a87d4f544f16bf2786e28164d09a",
            "value": 0
          }
        },
        "184cb0bcc9324c3492efd3dbd89c4c90": {
          "model_module": "@jupyter-widgets/controls",
          "model_name": "HBoxModel",
          "model_module_version": "1.5.0",
          "state": {
            "_dom_classes": [],
            "_model_module": "@jupyter-widgets/controls",
            "_model_module_version": "1.5.0",
            "_model_name": "HBoxModel",
            "_view_count": null,
            "_view_module": "@jupyter-widgets/controls",
            "_view_module_version": "1.5.0",
            "_view_name": "HBoxView",
            "box_style": "",
            "children": [
              "IPY_MODEL_37e362583d64431cbdaacfdd03b5fd77",
              "IPY_MODEL_7815c7e2283a44d8b09057528622b313"
            ],
            "layout": "IPY_MODEL_945a25d65b2042558ae1f5b64759e5f6"
          }
        },
        "7a034eb495874e76bc6dbf23c9e1d2bf": {
          "model_module": "@jupyter-widgets/controls",
          "model_name": "HTMLModel",
          "model_module_version": "1.5.0",
          "state": {
            "_dom_classes": [],
            "_model_module": "@jupyter-widgets/controls",
            "_model_module_version": "1.5.0",
            "_model_name": "HTMLModel",
            "_view_count": null,
            "_view_module": "@jupyter-widgets/controls",
            "_view_module_version": "1.5.0",
            "_view_name": "HTMLView",
            "description": "",
            "description_tooltip": null,
            "layout": "IPY_MODEL_1426dadb481744d09d4a736355c92e35",
            "placeholder": "​",
            "style": "IPY_MODEL_16ea4ac8cd014659a25cdde91f82406e",
            "value": "<h2>Question 1 of 38:</h2><p>Create a table named \"agents\" that includes an integer column 'agent_id' as the primary key and a text column 'name' for the agent's name.</p>"
          }
        },
        "9b56751ac2894476a7d117e8da50b2cd": {
          "model_module": "@jupyter-widgets/controls",
          "model_name": "TextareaModel",
          "model_module_version": "1.5.0",
          "state": {
            "_dom_classes": [],
            "_model_module": "@jupyter-widgets/controls",
            "_model_module_version": "1.5.0",
            "_model_name": "TextareaModel",
            "_view_count": null,
            "_view_module": "@jupyter-widgets/controls",
            "_view_module_version": "1.5.0",
            "_view_name": "TextareaView",
            "continuous_update": true,
            "description": "Your SQL:",
            "description_tooltip": null,
            "disabled": false,
            "layout": "IPY_MODEL_c7a6bd55bd8f42a68189b534275b7370",
            "placeholder": "-- Write your SQL query here",
            "rows": null,
            "style": "IPY_MODEL_1b98024f9f21493ea6a415ff12814996",
            "value": ""
          }
        },
        "fdb4b8dac0284467a5494aacd553102d": {
          "model_module": "@jupyter-widgets/controls",
          "model_name": "HBoxModel",
          "model_module_version": "1.5.0",
          "state": {
            "_dom_classes": [],
            "_model_module": "@jupyter-widgets/controls",
            "_model_module_version": "1.5.0",
            "_model_name": "HBoxModel",
            "_view_count": null,
            "_view_module": "@jupyter-widgets/controls",
            "_view_module_version": "1.5.0",
            "_view_name": "HBoxView",
            "box_style": "",
            "children": [
              "IPY_MODEL_f865e7c5c1154cb1a5bedb78c825bd05",
              "IPY_MODEL_987500b0d279425d849408e754a327c4",
              "IPY_MODEL_7882f910369a420184c5b0dbdedfdeda"
            ],
            "layout": "IPY_MODEL_2adf021b1ab649a49c39f1e7da39fc62"
          }
        },
        "36ec32cd40e74d7d8383771c0f73b368": {
          "model_module": "@jupyter-widgets/output",
          "model_name": "OutputModel",
          "model_module_version": "1.0.0",
          "state": {
            "_dom_classes": [],
            "_model_module": "@jupyter-widgets/output",
            "_model_module_version": "1.0.0",
            "_model_name": "OutputModel",
            "_view_count": null,
            "_view_module": "@jupyter-widgets/output",
            "_view_module_version": "1.0.0",
            "_view_name": "OutputView",
            "layout": "IPY_MODEL_2a44dc5f45fe4acb820d41f1f15df031",
            "msg_id": "",
            "outputs": []
          }
        },
        "1dbc8b42752a4787ad6dc8d4790a2ce6": {
          "model_module": "@jupyter-widgets/output",
          "model_name": "OutputModel",
          "model_module_version": "1.0.0",
          "state": {
            "_dom_classes": [],
            "_model_module": "@jupyter-widgets/output",
            "_model_module_version": "1.0.0",
            "_model_name": "OutputModel",
            "_view_count": null,
            "_view_module": "@jupyter-widgets/output",
            "_view_module_version": "1.0.0",
            "_view_name": "OutputView",
            "layout": "IPY_MODEL_f92a727587364c7980a38980bc48ff44",
            "msg_id": "",
            "outputs": []
          }
        },
        "c94df45af29740caa3e02387f4d3957f": {
          "model_module": "@jupyter-widgets/base",
          "model_name": "LayoutModel",
          "model_module_version": "1.2.0",
          "state": {
            "_model_module": "@jupyter-widgets/base",
            "_model_module_version": "1.2.0",
            "_model_name": "LayoutModel",
            "_view_count": null,
            "_view_module": "@jupyter-widgets/base",
            "_view_module_version": "1.2.0",
            "_view_name": "LayoutView",
            "align_content": null,
            "align_items": null,
            "align_self": null,
            "border": "solid 1px #ddd",
            "bottom": null,
            "display": null,
            "flex": null,
            "flex_flow": null,
            "grid_area": null,
            "grid_auto_columns": null,
            "grid_auto_flow": null,
            "grid_auto_rows": null,
            "grid_column": null,
            "grid_gap": null,
            "grid_row": null,
            "grid_template_areas": null,
            "grid_template_columns": null,
            "grid_template_rows": null,
            "height": null,
            "justify_content": null,
            "justify_items": null,
            "left": null,
            "margin": null,
            "max_height": null,
            "max_width": null,
            "min_height": null,
            "min_width": null,
            "object_fit": null,
            "object_position": null,
            "order": null,
            "overflow": null,
            "overflow_x": null,
            "overflow_y": null,
            "padding": "20px",
            "right": null,
            "top": null,
            "visibility": null,
            "width": "800px"
          }
        },
        "07ac6be4cd8f4bedb82c2e8270590668": {
          "model_module": "@jupyter-widgets/controls",
          "model_name": "HTMLModel",
          "model_module_version": "1.5.0",
          "state": {
            "_dom_classes": [],
            "_model_module": "@jupyter-widgets/controls",
            "_model_module_version": "1.5.0",
            "_model_name": "HTMLModel",
            "_view_count": null,
            "_view_module": "@jupyter-widgets/controls",
            "_view_module_version": "1.5.0",
            "_view_name": "HTMLView",
            "description": "",
            "description_tooltip": null,
            "layout": "IPY_MODEL_232a1c689a8a46be8ee0112a9bf39da6",
            "placeholder": "​",
            "style": "IPY_MODEL_4e98e1d9b3a84786867ad342f541533c",
            "value": "<h2>Current Tables Content</h2>"
          }
        },
        "2e218d831af64ff49e1ef8d350308894": {
          "model_module": "@jupyter-widgets/output",
          "model_name": "OutputModel",
          "model_module_version": "1.0.0",
          "state": {
            "_dom_classes": [],
            "_model_module": "@jupyter-widgets/output",
            "_model_module_version": "1.0.0",
            "_model_name": "OutputModel",
            "_view_count": null,
            "_view_module": "@jupyter-widgets/output",
            "_view_module_version": "1.0.0",
            "_view_name": "OutputView",
            "layout": "IPY_MODEL_412ca83a107a49eaac6cf9c1e420e172",
            "msg_id": "",
            "outputs": [
              {
                "output_type": "display_data",
                "data": {
                  "text/plain": "HTML(value='<span>No tables available.</span>')",
                  "application/vnd.jupyter.widget-view+json": {
                    "version_major": 2,
                    "version_minor": 0,
                    "model_id": "1530ba0749a641d4b6af1702a163e297"
                  }
                },
                "metadata": {}
              }
            ]
          }
        },
        "7ac94be89b2b4f0cb9100f1d364980d8": {
          "model_module": "@jupyter-widgets/base",
          "model_name": "LayoutModel",
          "model_module_version": "1.2.0",
          "state": {
            "_model_module": "@jupyter-widgets/base",
            "_model_module_version": "1.2.0",
            "_model_name": "LayoutModel",
            "_view_count": null,
            "_view_module": "@jupyter-widgets/base",
            "_view_module_version": "1.2.0",
            "_view_name": "LayoutView",
            "align_content": null,
            "align_items": null,
            "align_self": null,
            "border": "solid 1px #ddd",
            "bottom": null,
            "display": null,
            "flex": null,
            "flex_flow": null,
            "grid_area": null,
            "grid_auto_columns": null,
            "grid_auto_flow": null,
            "grid_auto_rows": null,
            "grid_column": null,
            "grid_gap": null,
            "grid_row": null,
            "grid_template_areas": null,
            "grid_template_columns": null,
            "grid_template_rows": null,
            "height": null,
            "justify_content": null,
            "justify_items": null,
            "left": null,
            "margin": null,
            "max_height": null,
            "max_width": null,
            "min_height": null,
            "min_width": null,
            "object_fit": null,
            "object_position": null,
            "order": null,
            "overflow": null,
            "overflow_x": null,
            "overflow_y": null,
            "padding": "20px",
            "right": null,
            "top": null,
            "visibility": null,
            "width": "800px"
          }
        },
        "519672aa2c6f48018b8d586b3b8b5ca2": {
          "model_module": "@jupyter-widgets/base",
          "model_name": "LayoutModel",
          "model_module_version": "1.2.0",
          "state": {
            "_model_module": "@jupyter-widgets/base",
            "_model_module_version": "1.2.0",
            "_model_name": "LayoutModel",
            "_view_count": null,
            "_view_module": "@jupyter-widgets/base",
            "_view_module_version": "1.2.0",
            "_view_name": "LayoutView",
            "align_content": null,
            "align_items": null,
            "align_self": null,
            "border": null,
            "bottom": null,
            "display": null,
            "flex": null,
            "flex_flow": null,
            "grid_area": null,
            "grid_auto_columns": null,
            "grid_auto_flow": null,
            "grid_auto_rows": null,
            "grid_column": null,
            "grid_gap": null,
            "grid_row": null,
            "grid_template_areas": null,
            "grid_template_columns": null,
            "grid_template_rows": null,
            "height": null,
            "justify_content": null,
            "justify_items": null,
            "left": null,
            "margin": null,
            "max_height": null,
            "max_width": null,
            "min_height": null,
            "min_width": null,
            "object_fit": null,
            "object_position": null,
            "order": null,
            "overflow": null,
            "overflow_x": null,
            "overflow_y": null,
            "padding": null,
            "right": null,
            "top": null,
            "visibility": null,
            "width": "100%"
          }
        },
        "c218a87d4f544f16bf2786e28164d09a": {
          "model_module": "@jupyter-widgets/controls",
          "model_name": "ProgressStyleModel",
          "model_module_version": "1.5.0",
          "state": {
            "_model_module": "@jupyter-widgets/controls",
            "_model_module_version": "1.5.0",
            "_model_name": "ProgressStyleModel",
            "_view_count": null,
            "_view_module": "@jupyter-widgets/base",
            "_view_module_version": "1.2.0",
            "_view_name": "StyleView",
            "bar_color": null,
            "description_width": "initial"
          }
        },
        "37e362583d64431cbdaacfdd03b5fd77": {
          "model_module": "@jupyter-widgets/controls",
          "model_name": "HTMLModel",
          "model_module_version": "1.5.0",
          "state": {
            "_dom_classes": [],
            "_model_module": "@jupyter-widgets/controls",
            "_model_module_version": "1.5.0",
            "_model_name": "HTMLModel",
            "_view_count": null,
            "_view_module": "@jupyter-widgets/controls",
            "_view_module_version": "1.5.0",
            "_view_name": "HTMLView",
            "description": "",
            "description_tooltip": null,
            "layout": "IPY_MODEL_54b31160bcf6494299d34ab06f69691c",
            "placeholder": "​",
            "style": "IPY_MODEL_102678df8a10445c974929e1defe4681",
            "value": "<h3>Table Schema:</h3>"
          }
        },
        "7815c7e2283a44d8b09057528622b313": {
          "model_module": "@jupyter-widgets/controls",
          "model_name": "DropdownModel",
          "model_module_version": "1.5.0",
          "state": {
            "_dom_classes": [],
            "_model_module": "@jupyter-widgets/controls",
            "_model_module_version": "1.5.0",
            "_model_name": "DropdownModel",
            "_options_labels": [
              "Question 1",
              "Question 2",
              "Question 3",
              "Question 4",
              "Question 5",
              "Question 6",
              "Question 7",
              "Question 8",
              "Question 9",
              "Question 10",
              "Question 11",
              "Question 12",
              "Question 13",
              "Question 14",
              "Question 15",
              "Question 16",
              "Question 17",
              "Question 18",
              "Question 19",
              "Question 20",
              "Question 21",
              "Question 22",
              "Question 23",
              "Question 24",
              "Question 25",
              "Question 26",
              "Question 27",
              "Question 28",
              "Question 29",
              "Question 30",
              "Question 31",
              "Question 32",
              "Question 33",
              "Question 34",
              "Question 35",
              "Question 36",
              "Question 37",
              "Question 38"
            ],
            "_view_count": null,
            "_view_module": "@jupyter-widgets/controls",
            "_view_module_version": "1.5.0",
            "_view_name": "DropdownView",
            "description": "Go to:",
            "description_tooltip": null,
            "disabled": false,
            "index": 0,
            "layout": "IPY_MODEL_40675a08e3984eef9e660dceb10b087b",
            "style": "IPY_MODEL_ab2b85044fa84544bfa570d418622e8d"
          }
        },
        "945a25d65b2042558ae1f5b64759e5f6": {
          "model_module": "@jupyter-widgets/base",
          "model_name": "LayoutModel",
          "model_module_version": "1.2.0",
          "state": {
            "_model_module": "@jupyter-widgets/base",
            "_model_module_version": "1.2.0",
            "_model_name": "LayoutModel",
            "_view_count": null,
            "_view_module": "@jupyter-widgets/base",
            "_view_module_version": "1.2.0",
            "_view_name": "LayoutView",
            "align_content": null,
            "align_items": null,
            "align_self": null,
            "border": null,
            "bottom": null,
            "display": null,
            "flex": null,
            "flex_flow": null,
            "grid_area": null,
            "grid_auto_columns": null,
            "grid_auto_flow": null,
            "grid_auto_rows": null,
            "grid_column": null,
            "grid_gap": null,
            "grid_row": null,
            "grid_template_areas": null,
            "grid_template_columns": null,
            "grid_template_rows": null,
            "height": null,
            "justify_content": "space-between",
            "justify_items": null,
            "left": null,
            "margin": null,
            "max_height": null,
            "max_width": null,
            "min_height": null,
            "min_width": null,
            "object_fit": null,
            "object_position": null,
            "order": null,
            "overflow": null,
            "overflow_x": null,
            "overflow_y": null,
            "padding": null,
            "right": null,
            "top": null,
            "visibility": null,
            "width": null
          }
        },
        "1426dadb481744d09d4a736355c92e35": {
          "model_module": "@jupyter-widgets/base",
          "model_name": "LayoutModel",
          "model_module_version": "1.2.0",
          "state": {
            "_model_module": "@jupyter-widgets/base",
            "_model_module_version": "1.2.0",
            "_model_name": "LayoutModel",
            "_view_count": null,
            "_view_module": "@jupyter-widgets/base",
            "_view_module_version": "1.2.0",
            "_view_name": "LayoutView",
            "align_content": null,
            "align_items": null,
            "align_self": null,
            "border": null,
            "bottom": null,
            "display": null,
            "flex": null,
            "flex_flow": null,
            "grid_area": null,
            "grid_auto_columns": null,
            "grid_auto_flow": null,
            "grid_auto_rows": null,
            "grid_column": null,
            "grid_gap": null,
            "grid_row": null,
            "grid_template_areas": null,
            "grid_template_columns": null,
            "grid_template_rows": null,
            "height": null,
            "justify_content": null,
            "justify_items": null,
            "left": null,
            "margin": null,
            "max_height": null,
            "max_width": null,
            "min_height": null,
            "min_width": null,
            "object_fit": null,
            "object_position": null,
            "order": null,
            "overflow": null,
            "overflow_x": null,
            "overflow_y": null,
            "padding": null,
            "right": null,
            "top": null,
            "visibility": null,
            "width": null
          }
        },
        "16ea4ac8cd014659a25cdde91f82406e": {
          "model_module": "@jupyter-widgets/controls",
          "model_name": "DescriptionStyleModel",
          "model_module_version": "1.5.0",
          "state": {
            "_model_module": "@jupyter-widgets/controls",
            "_model_module_version": "1.5.0",
            "_model_name": "DescriptionStyleModel",
            "_view_count": null,
            "_view_module": "@jupyter-widgets/base",
            "_view_module_version": "1.2.0",
            "_view_name": "StyleView",
            "description_width": ""
          }
        },
        "c7a6bd55bd8f42a68189b534275b7370": {
          "model_module": "@jupyter-widgets/base",
          "model_name": "LayoutModel",
          "model_module_version": "1.2.0",
          "state": {
            "_model_module": "@jupyter-widgets/base",
            "_model_module_version": "1.2.0",
            "_model_name": "LayoutModel",
            "_view_count": null,
            "_view_module": "@jupyter-widgets/base",
            "_view_module_version": "1.2.0",
            "_view_name": "LayoutView",
            "align_content": null,
            "align_items": null,
            "align_self": null,
            "border": null,
            "bottom": null,
            "display": null,
            "flex": null,
            "flex_flow": null,
            "grid_area": null,
            "grid_auto_columns": null,
            "grid_auto_flow": null,
            "grid_auto_rows": null,
            "grid_column": null,
            "grid_gap": null,
            "grid_row": null,
            "grid_template_areas": null,
            "grid_template_columns": null,
            "grid_template_rows": null,
            "height": "120px",
            "justify_content": null,
            "justify_items": null,
            "left": null,
            "margin": null,
            "max_height": null,
            "max_width": null,
            "min_height": null,
            "min_width": null,
            "object_fit": null,
            "object_position": null,
            "order": null,
            "overflow": null,
            "overflow_x": null,
            "overflow_y": null,
            "padding": null,
            "right": null,
            "top": null,
            "visibility": null,
            "width": "100%"
          }
        },
        "1b98024f9f21493ea6a415ff12814996": {
          "model_module": "@jupyter-widgets/controls",
          "model_name": "DescriptionStyleModel",
          "model_module_version": "1.5.0",
          "state": {
            "_model_module": "@jupyter-widgets/controls",
            "_model_module_version": "1.5.0",
            "_model_name": "DescriptionStyleModel",
            "_view_count": null,
            "_view_module": "@jupyter-widgets/base",
            "_view_module_version": "1.2.0",
            "_view_name": "StyleView",
            "description_width": ""
          }
        },
        "f865e7c5c1154cb1a5bedb78c825bd05": {
          "model_module": "@jupyter-widgets/controls",
          "model_name": "ButtonModel",
          "model_module_version": "1.5.0",
          "state": {
            "_dom_classes": [],
            "_model_module": "@jupyter-widgets/controls",
            "_model_module_version": "1.5.0",
            "_model_name": "ButtonModel",
            "_view_count": null,
            "_view_module": "@jupyter-widgets/controls",
            "_view_module_version": "1.5.0",
            "_view_name": "ButtonView",
            "button_style": "primary",
            "description": "Submit",
            "disabled": false,
            "icon": "",
            "layout": "IPY_MODEL_44001190c0634677b8a90b734b4650e7",
            "style": "IPY_MODEL_9f90e9dd0df54c40ac5836ee9353d576",
            "tooltip": ""
          }
        },
        "987500b0d279425d849408e754a327c4": {
          "model_module": "@jupyter-widgets/controls",
          "model_name": "ButtonModel",
          "model_module_version": "1.5.0",
          "state": {
            "_dom_classes": [],
            "_model_module": "@jupyter-widgets/controls",
            "_model_module_version": "1.5.0",
            "_model_name": "ButtonModel",
            "_view_count": null,
            "_view_module": "@jupyter-widgets/controls",
            "_view_module_version": "1.5.0",
            "_view_name": "ButtonView",
            "button_style": "warning",
            "description": "Retry",
            "disabled": false,
            "icon": "",
            "layout": "IPY_MODEL_f1019d268c5e49c7981cb31f5c364d23",
            "style": "IPY_MODEL_87729eaf63024ad0b4cb7e3da255cbb8",
            "tooltip": ""
          }
        },
        "7882f910369a420184c5b0dbdedfdeda": {
          "model_module": "@jupyter-widgets/controls",
          "model_name": "ButtonModel",
          "model_module_version": "1.5.0",
          "state": {
            "_dom_classes": [],
            "_model_module": "@jupyter-widgets/controls",
            "_model_module_version": "1.5.0",
            "_model_name": "ButtonModel",
            "_view_count": null,
            "_view_module": "@jupyter-widgets/controls",
            "_view_module_version": "1.5.0",
            "_view_name": "ButtonView",
            "button_style": "success",
            "description": "Next",
            "disabled": false,
            "icon": "",
            "layout": "IPY_MODEL_c032fa42081a44d39dda357d94c0b7e8",
            "style": "IPY_MODEL_f1bfbe9ad6eb406787ebd4dfc5b65b6c",
            "tooltip": ""
          }
        },
        "2adf021b1ab649a49c39f1e7da39fc62": {
          "model_module": "@jupyter-widgets/base",
          "model_name": "LayoutModel",
          "model_module_version": "1.2.0",
          "state": {
            "_model_module": "@jupyter-widgets/base",
            "_model_module_version": "1.2.0",
            "_model_name": "LayoutModel",
            "_view_count": null,
            "_view_module": "@jupyter-widgets/base",
            "_view_module_version": "1.2.0",
            "_view_name": "LayoutView",
            "align_content": null,
            "align_items": null,
            "align_self": null,
            "border": null,
            "bottom": null,
            "display": null,
            "flex": null,
            "flex_flow": null,
            "grid_area": null,
            "grid_auto_columns": null,
            "grid_auto_flow": null,
            "grid_auto_rows": null,
            "grid_column": null,
            "grid_gap": null,
            "grid_row": null,
            "grid_template_areas": null,
            "grid_template_columns": null,
            "grid_template_rows": null,
            "height": null,
            "justify_content": "center",
            "justify_items": null,
            "left": null,
            "margin": null,
            "max_height": null,
            "max_width": null,
            "min_height": null,
            "min_width": null,
            "object_fit": null,
            "object_position": null,
            "order": null,
            "overflow": null,
            "overflow_x": null,
            "overflow_y": null,
            "padding": null,
            "right": null,
            "top": null,
            "visibility": null,
            "width": null
          }
        },
        "232a1c689a8a46be8ee0112a9bf39da6": {
          "model_module": "@jupyter-widgets/base",
          "model_name": "LayoutModel",
          "model_module_version": "1.2.0",
          "state": {
            "_model_module": "@jupyter-widgets/base",
            "_model_module_version": "1.2.0",
            "_model_name": "LayoutModel",
            "_view_count": null,
            "_view_module": "@jupyter-widgets/base",
            "_view_module_version": "1.2.0",
            "_view_name": "LayoutView",
            "align_content": null,
            "align_items": null,
            "align_self": null,
            "border": null,
            "bottom": null,
            "display": null,
            "flex": null,
            "flex_flow": null,
            "grid_area": null,
            "grid_auto_columns": null,
            "grid_auto_flow": null,
            "grid_auto_rows": null,
            "grid_column": null,
            "grid_gap": null,
            "grid_row": null,
            "grid_template_areas": null,
            "grid_template_columns": null,
            "grid_template_rows": null,
            "height": null,
            "justify_content": null,
            "justify_items": null,
            "left": null,
            "margin": null,
            "max_height": null,
            "max_width": null,
            "min_height": null,
            "min_width": null,
            "object_fit": null,
            "object_position": null,
            "order": null,
            "overflow": null,
            "overflow_x": null,
            "overflow_y": null,
            "padding": null,
            "right": null,
            "top": null,
            "visibility": null,
            "width": null
          }
        },
        "4e98e1d9b3a84786867ad342f541533c": {
          "model_module": "@jupyter-widgets/controls",
          "model_name": "DescriptionStyleModel",
          "model_module_version": "1.5.0",
          "state": {
            "_model_module": "@jupyter-widgets/controls",
            "_model_module_version": "1.5.0",
            "_model_name": "DescriptionStyleModel",
            "_view_count": null,
            "_view_module": "@jupyter-widgets/base",
            "_view_module_version": "1.2.0",
            "_view_name": "StyleView",
            "description_width": ""
          }
        },
        "54b31160bcf6494299d34ab06f69691c": {
          "model_module": "@jupyter-widgets/base",
          "model_name": "LayoutModel",
          "model_module_version": "1.2.0",
          "state": {
            "_model_module": "@jupyter-widgets/base",
            "_model_module_version": "1.2.0",
            "_model_name": "LayoutModel",
            "_view_count": null,
            "_view_module": "@jupyter-widgets/base",
            "_view_module_version": "1.2.0",
            "_view_name": "LayoutView",
            "align_content": null,
            "align_items": null,
            "align_self": null,
            "border": null,
            "bottom": null,
            "display": null,
            "flex": null,
            "flex_flow": null,
            "grid_area": null,
            "grid_auto_columns": null,
            "grid_auto_flow": null,
            "grid_auto_rows": null,
            "grid_column": null,
            "grid_gap": null,
            "grid_row": null,
            "grid_template_areas": null,
            "grid_template_columns": null,
            "grid_template_rows": null,
            "height": null,
            "justify_content": null,
            "justify_items": null,
            "left": null,
            "margin": null,
            "max_height": null,
            "max_width": null,
            "min_height": null,
            "min_width": null,
            "object_fit": null,
            "object_position": null,
            "order": null,
            "overflow": null,
            "overflow_x": null,
            "overflow_y": null,
            "padding": null,
            "right": null,
            "top": null,
            "visibility": null,
            "width": null
          }
        },
        "102678df8a10445c974929e1defe4681": {
          "model_module": "@jupyter-widgets/controls",
          "model_name": "DescriptionStyleModel",
          "model_module_version": "1.5.0",
          "state": {
            "_model_module": "@jupyter-widgets/controls",
            "_model_module_version": "1.5.0",
            "_model_name": "DescriptionStyleModel",
            "_view_count": null,
            "_view_module": "@jupyter-widgets/base",
            "_view_module_version": "1.2.0",
            "_view_name": "StyleView",
            "description_width": ""
          }
        },
        "40675a08e3984eef9e660dceb10b087b": {
          "model_module": "@jupyter-widgets/base",
          "model_name": "LayoutModel",
          "model_module_version": "1.2.0",
          "state": {
            "_model_module": "@jupyter-widgets/base",
            "_model_module_version": "1.2.0",
            "_model_name": "LayoutModel",
            "_view_count": null,
            "_view_module": "@jupyter-widgets/base",
            "_view_module_version": "1.2.0",
            "_view_name": "LayoutView",
            "align_content": null,
            "align_items": null,
            "align_self": null,
            "border": null,
            "bottom": null,
            "display": null,
            "flex": null,
            "flex_flow": null,
            "grid_area": null,
            "grid_auto_columns": null,
            "grid_auto_flow": null,
            "grid_auto_rows": null,
            "grid_column": null,
            "grid_gap": null,
            "grid_row": null,
            "grid_template_areas": null,
            "grid_template_columns": null,
            "grid_template_rows": null,
            "height": null,
            "justify_content": null,
            "justify_items": null,
            "left": null,
            "margin": null,
            "max_height": null,
            "max_width": null,
            "min_height": null,
            "min_width": null,
            "object_fit": null,
            "object_position": null,
            "order": null,
            "overflow": null,
            "overflow_x": null,
            "overflow_y": null,
            "padding": null,
            "right": null,
            "top": null,
            "visibility": null,
            "width": "200px"
          }
        },
        "ab2b85044fa84544bfa570d418622e8d": {
          "model_module": "@jupyter-widgets/controls",
          "model_name": "DescriptionStyleModel",
          "model_module_version": "1.5.0",
          "state": {
            "_model_module": "@jupyter-widgets/controls",
            "_model_module_version": "1.5.0",
            "_model_name": "DescriptionStyleModel",
            "_view_count": null,
            "_view_module": "@jupyter-widgets/base",
            "_view_module_version": "1.2.0",
            "_view_name": "StyleView",
            "description_width": ""
          }
        },
        "44001190c0634677b8a90b734b4650e7": {
          "model_module": "@jupyter-widgets/base",
          "model_name": "LayoutModel",
          "model_module_version": "1.2.0",
          "state": {
            "_model_module": "@jupyter-widgets/base",
            "_model_module_version": "1.2.0",
            "_model_name": "LayoutModel",
            "_view_count": null,
            "_view_module": "@jupyter-widgets/base",
            "_view_module_version": "1.2.0",
            "_view_name": "LayoutView",
            "align_content": null,
            "align_items": null,
            "align_self": null,
            "border": null,
            "bottom": null,
            "display": "inline-block",
            "flex": null,
            "flex_flow": null,
            "grid_area": null,
            "grid_auto_columns": null,
            "grid_auto_flow": null,
            "grid_auto_rows": null,
            "grid_column": null,
            "grid_gap": null,
            "grid_row": null,
            "grid_template_areas": null,
            "grid_template_columns": null,
            "grid_template_rows": null,
            "height": null,
            "justify_content": null,
            "justify_items": null,
            "left": null,
            "margin": null,
            "max_height": null,
            "max_width": null,
            "min_height": null,
            "min_width": null,
            "object_fit": null,
            "object_position": null,
            "order": null,
            "overflow": null,
            "overflow_x": null,
            "overflow_y": null,
            "padding": null,
            "right": null,
            "top": null,
            "visibility": null,
            "width": "100px"
          }
        },
        "9f90e9dd0df54c40ac5836ee9353d576": {
          "model_module": "@jupyter-widgets/controls",
          "model_name": "ButtonStyleModel",
          "model_module_version": "1.5.0",
          "state": {
            "_model_module": "@jupyter-widgets/controls",
            "_model_module_version": "1.5.0",
            "_model_name": "ButtonStyleModel",
            "_view_count": null,
            "_view_module": "@jupyter-widgets/base",
            "_view_module_version": "1.2.0",
            "_view_name": "StyleView",
            "button_color": null,
            "font_weight": ""
          }
        },
        "f1019d268c5e49c7981cb31f5c364d23": {
          "model_module": "@jupyter-widgets/base",
          "model_name": "LayoutModel",
          "model_module_version": "1.2.0",
          "state": {
            "_model_module": "@jupyter-widgets/base",
            "_model_module_version": "1.2.0",
            "_model_name": "LayoutModel",
            "_view_count": null,
            "_view_module": "@jupyter-widgets/base",
            "_view_module_version": "1.2.0",
            "_view_name": "LayoutView",
            "align_content": null,
            "align_items": null,
            "align_self": null,
            "border": null,
            "bottom": null,
            "display": "none",
            "flex": null,
            "flex_flow": null,
            "grid_area": null,
            "grid_auto_columns": null,
            "grid_auto_flow": null,
            "grid_auto_rows": null,
            "grid_column": null,
            "grid_gap": null,
            "grid_row": null,
            "grid_template_areas": null,
            "grid_template_columns": null,
            "grid_template_rows": null,
            "height": null,
            "justify_content": null,
            "justify_items": null,
            "left": null,
            "margin": null,
            "max_height": null,
            "max_width": null,
            "min_height": null,
            "min_width": null,
            "object_fit": null,
            "object_position": null,
            "order": null,
            "overflow": null,
            "overflow_x": null,
            "overflow_y": null,
            "padding": null,
            "right": null,
            "top": null,
            "visibility": null,
            "width": "100px"
          }
        },
        "87729eaf63024ad0b4cb7e3da255cbb8": {
          "model_module": "@jupyter-widgets/controls",
          "model_name": "ButtonStyleModel",
          "model_module_version": "1.5.0",
          "state": {
            "_model_module": "@jupyter-widgets/controls",
            "_model_module_version": "1.5.0",
            "_model_name": "ButtonStyleModel",
            "_view_count": null,
            "_view_module": "@jupyter-widgets/base",
            "_view_module_version": "1.2.0",
            "_view_name": "StyleView",
            "button_color": null,
            "font_weight": ""
          }
        },
        "c032fa42081a44d39dda357d94c0b7e8": {
          "model_module": "@jupyter-widgets/base",
          "model_name": "LayoutModel",
          "model_module_version": "1.2.0",
          "state": {
            "_model_module": "@jupyter-widgets/base",
            "_model_module_version": "1.2.0",
            "_model_name": "LayoutModel",
            "_view_count": null,
            "_view_module": "@jupyter-widgets/base",
            "_view_module_version": "1.2.0",
            "_view_name": "LayoutView",
            "align_content": null,
            "align_items": null,
            "align_self": null,
            "border": null,
            "bottom": null,
            "display": "none",
            "flex": null,
            "flex_flow": null,
            "grid_area": null,
            "grid_auto_columns": null,
            "grid_auto_flow": null,
            "grid_auto_rows": null,
            "grid_column": null,
            "grid_gap": null,
            "grid_row": null,
            "grid_template_areas": null,
            "grid_template_columns": null,
            "grid_template_rows": null,
            "height": null,
            "justify_content": null,
            "justify_items": null,
            "left": null,
            "margin": null,
            "max_height": null,
            "max_width": null,
            "min_height": null,
            "min_width": null,
            "object_fit": null,
            "object_position": null,
            "order": null,
            "overflow": null,
            "overflow_x": null,
            "overflow_y": null,
            "padding": null,
            "right": null,
            "top": null,
            "visibility": null,
            "width": "100px"
          }
        },
        "f1bfbe9ad6eb406787ebd4dfc5b65b6c": {
          "model_module": "@jupyter-widgets/controls",
          "model_name": "ButtonStyleModel",
          "model_module_version": "1.5.0",
          "state": {
            "_model_module": "@jupyter-widgets/controls",
            "_model_module_version": "1.5.0",
            "_model_name": "ButtonStyleModel",
            "_view_count": null,
            "_view_module": "@jupyter-widgets/base",
            "_view_module_version": "1.2.0",
            "_view_name": "StyleView",
            "button_color": null,
            "font_weight": ""
          }
        },
        "1530ba0749a641d4b6af1702a163e297": {
          "model_module": "@jupyter-widgets/controls",
          "model_name": "HTMLModel",
          "model_module_version": "1.5.0",
          "state": {
            "_dom_classes": [],
            "_model_module": "@jupyter-widgets/controls",
            "_model_module_version": "1.5.0",
            "_model_name": "HTMLModel",
            "_view_count": null,
            "_view_module": "@jupyter-widgets/controls",
            "_view_module_version": "1.5.0",
            "_view_name": "HTMLView",
            "description": "",
            "description_tooltip": null,
            "layout": "IPY_MODEL_26f1065e937a4296a74a64adc3dc25b9",
            "placeholder": "​",
            "style": "IPY_MODEL_8da7d699f00d43158e0ba667b09dd277",
            "value": "<span>No tables available.</span>"
          }
        },
        "2a44dc5f45fe4acb820d41f1f15df031": {
          "model_module": "@jupyter-widgets/base",
          "model_name": "LayoutModel",
          "model_module_version": "1.2.0",
          "state": {
            "_model_module": "@jupyter-widgets/base",
            "_model_module_version": "1.2.0",
            "_model_name": "LayoutModel",
            "_view_count": null,
            "_view_module": "@jupyter-widgets/base",
            "_view_module_version": "1.2.0",
            "_view_name": "LayoutView",
            "align_content": null,
            "align_items": null,
            "align_self": null,
            "border": null,
            "bottom": null,
            "display": null,
            "flex": null,
            "flex_flow": null,
            "grid_area": null,
            "grid_auto_columns": null,
            "grid_auto_flow": null,
            "grid_auto_rows": null,
            "grid_column": null,
            "grid_gap": null,
            "grid_row": null,
            "grid_template_areas": null,
            "grid_template_columns": null,
            "grid_template_rows": null,
            "height": null,
            "justify_content": null,
            "justify_items": null,
            "left": null,
            "margin": null,
            "max_height": null,
            "max_width": null,
            "min_height": null,
            "min_width": null,
            "object_fit": null,
            "object_position": null,
            "order": null,
            "overflow": null,
            "overflow_x": null,
            "overflow_y": null,
            "padding": null,
            "right": null,
            "top": null,
            "visibility": null,
            "width": null
          }
        },
        "f92a727587364c7980a38980bc48ff44": {
          "model_module": "@jupyter-widgets/base",
          "model_name": "LayoutModel",
          "model_module_version": "1.2.0",
          "state": {
            "_model_module": "@jupyter-widgets/base",
            "_model_module_version": "1.2.0",
            "_model_name": "LayoutModel",
            "_view_count": null,
            "_view_module": "@jupyter-widgets/base",
            "_view_module_version": "1.2.0",
            "_view_name": "LayoutView",
            "align_content": null,
            "align_items": null,
            "align_self": null,
            "border": null,
            "bottom": null,
            "display": null,
            "flex": null,
            "flex_flow": null,
            "grid_area": null,
            "grid_auto_columns": null,
            "grid_auto_flow": null,
            "grid_auto_rows": null,
            "grid_column": null,
            "grid_gap": null,
            "grid_row": null,
            "grid_template_areas": null,
            "grid_template_columns": null,
            "grid_template_rows": null,
            "height": null,
            "justify_content": null,
            "justify_items": null,
            "left": null,
            "margin": null,
            "max_height": null,
            "max_width": null,
            "min_height": null,
            "min_width": null,
            "object_fit": null,
            "object_position": null,
            "order": null,
            "overflow": null,
            "overflow_x": null,
            "overflow_y": null,
            "padding": null,
            "right": null,
            "top": null,
            "visibility": null,
            "width": null
          }
        },
        "412ca83a107a49eaac6cf9c1e420e172": {
          "model_module": "@jupyter-widgets/base",
          "model_name": "LayoutModel",
          "model_module_version": "1.2.0",
          "state": {
            "_model_module": "@jupyter-widgets/base",
            "_model_module_version": "1.2.0",
            "_model_name": "LayoutModel",
            "_view_count": null,
            "_view_module": "@jupyter-widgets/base",
            "_view_module_version": "1.2.0",
            "_view_name": "LayoutView",
            "align_content": null,
            "align_items": null,
            "align_self": null,
            "border": null,
            "bottom": null,
            "display": null,
            "flex": null,
            "flex_flow": null,
            "grid_area": null,
            "grid_auto_columns": null,
            "grid_auto_flow": null,
            "grid_auto_rows": null,
            "grid_column": null,
            "grid_gap": null,
            "grid_row": null,
            "grid_template_areas": null,
            "grid_template_columns": null,
            "grid_template_rows": null,
            "height": null,
            "justify_content": null,
            "justify_items": null,
            "left": null,
            "margin": null,
            "max_height": null,
            "max_width": null,
            "min_height": null,
            "min_width": null,
            "object_fit": null,
            "object_position": null,
            "order": null,
            "overflow": null,
            "overflow_x": null,
            "overflow_y": null,
            "padding": null,
            "right": null,
            "top": null,
            "visibility": null,
            "width": null
          }
        },
        "26f1065e937a4296a74a64adc3dc25b9": {
          "model_module": "@jupyter-widgets/base",
          "model_name": "LayoutModel",
          "model_module_version": "1.2.0",
          "state": {
            "_model_module": "@jupyter-widgets/base",
            "_model_module_version": "1.2.0",
            "_model_name": "LayoutModel",
            "_view_count": null,
            "_view_module": "@jupyter-widgets/base",
            "_view_module_version": "1.2.0",
            "_view_name": "LayoutView",
            "align_content": null,
            "align_items": null,
            "align_self": null,
            "border": null,
            "bottom": null,
            "display": null,
            "flex": null,
            "flex_flow": null,
            "grid_area": null,
            "grid_auto_columns": null,
            "grid_auto_flow": null,
            "grid_auto_rows": null,
            "grid_column": null,
            "grid_gap": null,
            "grid_row": null,
            "grid_template_areas": null,
            "grid_template_columns": null,
            "grid_template_rows": null,
            "height": null,
            "justify_content": null,
            "justify_items": null,
            "left": null,
            "margin": null,
            "max_height": null,
            "max_width": null,
            "min_height": null,
            "min_width": null,
            "object_fit": null,
            "object_position": null,
            "order": null,
            "overflow": null,
            "overflow_x": null,
            "overflow_y": null,
            "padding": null,
            "right": null,
            "top": null,
            "visibility": null,
            "width": null
          }
        },
        "8da7d699f00d43158e0ba667b09dd277": {
          "model_module": "@jupyter-widgets/controls",
          "model_name": "DescriptionStyleModel",
          "model_module_version": "1.5.0",
          "state": {
            "_model_module": "@jupyter-widgets/controls",
            "_model_module_version": "1.5.0",
            "_model_name": "DescriptionStyleModel",
            "_view_count": null,
            "_view_module": "@jupyter-widgets/base",
            "_view_module_version": "1.2.0",
            "_view_name": "StyleView",
            "description_width": ""
          }
        }
      }
    }
  },
  "cells": [
    {
      "cell_type": "markdown",
      "metadata": {
        "id": "view-in-github",
        "colab_type": "text"
      },
      "source": [
        "<a href=\"https://colab.research.google.com/github/brendanpshea/database_sql/blob/main/Database_05_Design.ipynb\" target=\"_parent\"><img src=\"https://colab.research.google.com/assets/colab-badge.svg\" alt=\"Open In Colab\"/></a>"
      ]
    },
    {
      "cell_type": "markdown",
      "source": [
        "# Database Design\n",
        "### Database and SQL Through Pop Culture | Brendan Shea, PhD\n",
        "\n",
        "Welcome to the exciting world of database design! In this chapter, we'll embark on a journey through the process of creating a database from scratch. We'll begin with the conceptual modeling phase, where we'll identify the key entities, attributes, and relationships in our spy academy database. From there, we'll move on to logical modeling, where we'll learn about the importance of keys, normalization, and join tables in ensuring data integrity and avoiding redundancy. Finally, we'll roll up our sleeves and dive into physical modeling, where we'll use SQL statements to actually create, modify, and delete tables in our database. Throughout this chapter, we'll use the spy academy scenario to provide concrete examples and bring the concepts to life. By the end of this chapter, you'll have a solid understanding of how to design and implement a database that can handle even the most covert operations. So, let's put on our secret agent hats and get started on this thrilling database design mission!\n",
        "\n",
        "Learning Outcomes:\n",
        "\n",
        "1.  Understand the three main phases of database design: conceptual, logical, and physical modeling\n",
        "2.  Learn how to identify entities, attributes, and relationships in the conceptual modeling phase\n",
        "3.  Discover the importance of keys in ensuring uniqueness and establishing relationships between tables\n",
        "4.  Understand the role of normalization in reducing data redundancy and improving data integrity\n",
        "5.  Learn how to resolve many-to-many relationships using join tables in the logical modeling phase\n",
        "6.  Gain hands-on experience with SQL statements like CREATE TABLE, DROP TABLE, and ALTER TABLE in the physical modeling phase\n",
        "7.  Understand the importance of constraints in enforcing data integrity and consistency\n",
        "8.  Learn how to use SQL data types to define the structure of columns in a table\n",
        "9. Understand the role of supertypes and subtypes in modeling inheritance relationships between entities\n",
        "\n",
        "Keywords: database design, conceptual modeling, logical modeling, physical modeling, entities, attributes, relationships, keys, primary key, foreign key, normalization, normal forms, join tables, many-to-many relationships, SQL, CREATE TABLE, DROP TABLE, ALTER TABLE, constraints, data types, CASCADE, supertypes, subtypes, inheritance"
      ],
      "metadata": {
        "id": "QyMlxOa8U84Z"
      }
    },
    {
      "cell_type": "markdown",
      "source": [
        "## Brendan's Lecture"
      ],
      "metadata": {
        "id": "aH2pk24AhO8R"
      }
    },
    {
      "cell_type": "code",
      "source": [
        "from IPython.display import YouTubeVideo\n",
        "YouTubeVideo('WltnGUNpf2A', width=800, height=500)"
      ],
      "metadata": {
        "id": "o3jkWXL-hQtQ",
        "outputId": "fb89bb3a-ab86-4758-d17a-9d47060c8a6c",
        "colab": {
          "base_uri": "https://localhost:8080/",
          "height": 521
        }
      },
      "execution_count": null,
      "outputs": [
        {
          "output_type": "execute_result",
          "data": {
            "text/plain": [
              "<IPython.lib.display.YouTubeVideo at 0x7862e40806d0>"
            ],
            "text/html": [
              "\n",
              "        <iframe\n",
              "            width=\"800\"\n",
              "            height=\"500\"\n",
              "            src=\"https://www.youtube.com/embed/WltnGUNpf2A\"\n",
              "            frameborder=\"0\"\n",
              "            allowfullscreen\n",
              "            \n",
              "        ></iframe>\n",
              "        "
            ]
          },
          "metadata": {},
          "execution_count": 1
        }
      ]
    },
    {
      "cell_type": "markdown",
      "source": [
        "## Conceptual Design at the Covert Academy\n",
        "\n",
        "Welcome to the Covert Academy, the world's premier educational institution for aspiring secret agents! Our state-of-the-art facility is hidden beneath the streets of London and equipped with the latest in espionage technology. We offer a wide range of classes to train our students in the arts of surveillance, infiltration, disguise, and more.\n",
        "\n",
        "To keep track of our students and classes, we need a well-designed database. Let's walk through the process of conceptual design for this database.\n",
        "\n",
        "### What is Conceptual Design?\n",
        "\n",
        "Conceptual design is the first step in creating a database. It involves **formulating business rules**, which define how the database should work and what constraints it should have. It also involves creating a **preliminary list of entities and attributes**, which represent the key concepts and data elements in the system. Finally, it involves creating a **preliminary Entity-Relationship Diagram (ERD)** to visually represent the entities and their relationships.\n",
        "\n",
        "### Formulating Business Rules\n",
        "\n",
        "**Business rules** are concise, unambiguous statements that define or constrain some aspect of the database. They are derived through a combination of **descriptive processes**, such as interviewing stakeholders to understand their needs and requirements, and **normative processes**, which involve making decisions about how the system should work.\n",
        "\n",
        "For the Covert Academy, we have the following business rules:\n",
        "\n",
        "1.  Each **student** must be enrolled in at least one **class**, but may be enrolled in multiple classes.\n",
        "2.  Each **class** must have at least one **student** enrolled, but may have many students.\n",
        "\n",
        "To write effective business rules:\n",
        "\n",
        "-   Keep them concise and unambiguous\n",
        "-   Ensure they are testable (you can determine if the system is complying with the rule)\n",
        "-   Involve all relevant stakeholders in formulating and reviewing them\n",
        "-   Prioritize them (some may be must-haves, others may be nice-to-haves)\n",
        "\n",
        "### Preliminary List of Entities and Attributes\n",
        "\n",
        "Based on our business rules, we can identify our preliminary **entities**, which are the key concepts or objects in our system, and their **attributes**, which are the data elements that describe each entity.\n",
        "\n",
        "For the Covert Academy, our entities and attributes are:\n",
        "\n",
        "**Student**\n",
        "\n",
        "-   Name\n",
        "-   Codename\n",
        "-   Nationality\n",
        "-   Specialization\n",
        "\n",
        "**Class**\n",
        "\n",
        "-   Name\n",
        "-   Description\n",
        "-   Instructor\n",
        "-   Location\n",
        "\n",
        "Note that at this stage, we don't include data types, identifier columns, or join tables. We're just focusing on the core entities and their key attributes."
      ],
      "metadata": {
        "id": "cyzld1UPuM3y"
      }
    },
    {
      "cell_type": "markdown",
      "source": [
        "### Preliminary ERD\n",
        "\n",
        "Finally, we can create a preliminary ERD to visualize our entities and their relationship. Here's what it looks like for the Covert Academy:"
      ],
      "metadata": {
        "id": "cflr3FtDuj5b"
      }
    },
    {
      "cell_type": "code",
      "source": [
        "# @title\n",
        "import base64\n",
        "from IPython.display import Image, display, HTML\n",
        "\n",
        "def mm(graph):\n",
        "    graphbytes = graph.encode(\"utf8\")\n",
        "    base64_bytes = base64.b64encode(graphbytes)\n",
        "    base64_string = base64_bytes.decode(\"ascii\")\n",
        "    display(Image(url=\"https://mermaid.ink/img/\" + base64_string))\n",
        "\n",
        "mm(\"\"\"\n",
        "    erDiagram\n",
        "    STUDENT |{--|{ CLASS : enrolls\n",
        "    \"\"\")"
      ],
      "metadata": {
        "colab": {
          "base_uri": "https://localhost:8080/",
          "height": 311
        },
        "id": "rRXX1yxaumhh",
        "outputId": "95d05812-7487-4051-d45f-5dc67ebaafa7",
        "cellView": "form"
      },
      "execution_count": null,
      "outputs": [
        {
          "output_type": "display_data",
          "data": {
            "text/html": [
              "<img src=\"https://mermaid.ink/img/CiAgICBlckRpYWdyYW0KICAgIFNUVURFTlQgfHstLXx7IENMQVNTIDogZW5yb2xscwogICAg\"/>"
            ],
            "text/plain": [
              "<IPython.core.display.Image object>"
            ]
          },
          "metadata": {}
        }
      ]
    },
    {
      "cell_type": "markdown",
      "source": [
        "This diagram shows that there is a many-to-many relationship between **STUDENT** and **CLASS** (a student can enroll in many classes, a class can have many students).\n",
        "\n",
        "We'll refine this ERD in the next step, logical modeling, where we'll resolve the many-to-many relationship with a join table. But this preliminary ERD gives us a good starting point to visualize our system."
      ],
      "metadata": {
        "id": "Hg9MnpzCLw5B"
      }
    },
    {
      "cell_type": "markdown",
      "source": [
        "\n",
        "## What is Logical Modeling?\n",
        "In the previous section, we laid the conceptual foundation for the Covert Academy's database. Now it's time to take that conceptual model and transform it into a **logical model** using the **relational model**.\n",
        "\n",
        "Logical modeling is the process of taking a conceptual model and adapting it to fit a specific logical data model. In our case, we'll be using the **relational model**, which organizes data into **tables** (also known as relations) with **rows** (also known as tuples) and **columns** (also known as attributes).\n",
        "\n",
        "In the relational model:\n",
        "\n",
        "-   Each table should represent a single entity or concept\n",
        "-   Each row in a table represents a specific instance of that entity\n",
        "-   Each column in a table represents an attribute of that entity\n",
        "-   Each table should have a **primary key**, a unique identifier for each row\n",
        "\n",
        "### Resolving Many-to-Many Relationships\n",
        "\n",
        "In our conceptual model, we had a many-to-many relationship between **STUDENT** and **CLASS**. However, in the relational model, we can't directly represent many-to-many relationships. Instead, we need to introduce a **join table**.\n",
        "\n",
        "A join table is a table that breaks down a many-to-many relationship into two one-to-many relationships. It does this by having foreign keys to both of the original tables.\n",
        "\n",
        "For the Covert Academy, our join table will be called **ENROLLMENT**. It will have the following structure:\n",
        "\n",
        "**ENROLLMENT**\n",
        "\n",
        "-   StudentID (Foreign Key to STUDENT)\n",
        "-   ClassID (Foreign Key to CLASS)\n",
        "-   EnrollmentDate\n",
        "\n",
        "Now, instead of a direct many-to-many relationship, we have:\n",
        "\n",
        "-   A one-to-many relationship between **STUDENT** and **ENROLLMENT**\n",
        "-   A one-to-many relationship between **CLASS** and **ENROLLMENT**\n",
        "\n",
        "### Choosing Primary Keys\n",
        "\n",
        "Each table in our database needs a primary key. A primary key is a unique identifier for each row in a table. There are two main options for primary keys:\n",
        "\n",
        "1.  **Natural Key**: A natural key is a key that uses one of the existing attributes of the entity. For example, we could use a student's email as the primary key for the STUDENT table. Natural keys can be convenient because they don't require an additional column. However, they can also be problematic if the natural key ever needs to change.\n",
        "2.  **Surrogate Key**: A surrogate key is an artificial key that is created specifically to be the primary key. It's usually a simple integer or a universally unique identifier (UUID). Surrogate keys are often preferable because they are guaranteed to be unique and they never need to change.\n",
        "\n",
        "For the Covert Academy, we'll use surrogate keys for all of our tables. We'll call these `ID` columns.\n",
        "\n",
        "### Updated ERD\n",
        "\n",
        "With these changes in mind, here's our updated ERD:"
      ],
      "metadata": {
        "id": "tUe_4MLsMT9s"
      }
    },
    {
      "cell_type": "code",
      "source": [
        "# @title\n",
        "mm(\"\"\"\n",
        "erDiagram\n",
        "    STUDENT ||--o{ ENROLLMENT : has\n",
        "    ENROLLMENT }o--|| CLASS : is_for\n",
        "\"\"\")"
      ],
      "metadata": {
        "colab": {
          "base_uri": "https://localhost:8080/",
          "height": 487
        },
        "id": "GCxQM52zMVTI",
        "outputId": "a9ed3fa0-ecad-434e-a1ee-964508361b1f",
        "cellView": "form"
      },
      "execution_count": null,
      "outputs": [
        {
          "output_type": "display_data",
          "data": {
            "text/html": [
              "<img src=\"https://mermaid.ink/img/CmVyRGlhZ3JhbQogICAgU1RVREVOVCB8fC0tb3sgRU5ST0xMTUVOVCA6IGhhcwogICAgRU5ST0xMTUVOVCB9by0tfHwgQ0xBU1MgOiBpc19mb3IK\"/>"
            ],
            "text/plain": [
              "<IPython.core.display.Image object>"
            ]
          },
          "metadata": {}
        }
      ]
    },
    {
      "cell_type": "markdown",
      "source": [
        "The tables are as follows:\n",
        "\n",
        "**STUDENT** (ID (Primary Key), Name, Codename, Nationality, Specialization)\n",
        "\n",
        "**CLASS** (ID (Primary Key), Name, Description, Instructor, Location)\n",
        "\n",
        "**ENROLLMENT** (StudentID (Foreign Key to STUDENT), ClassID (Foreign Key to CLASS), EnrollmentDate)"
      ],
      "metadata": {
        "id": "gsTm2RoGMtaA"
      }
    },
    {
      "cell_type": "markdown",
      "source": [
        "## Logical Modeling: Normalization\n",
        "A main part of logical modeling involves **normalizing** your data. While our sample database we've been working with so far doesn't directly raise issues related to this, many real-world data sets will, so it's important to understand how this works.\n",
        "\n",
        "### The Need for Normalization\n",
        "\n",
        "Imagine you're managing a database for SPECTRE Academy, a prestigious spy training institution. You might be tempted to create a single, large table containing all information about agents, their missions, and their specializations:\n",
        "\n",
        "| AgentID | Name | Codename | Skills | MissionID | MissionLocation | Handler | HandlerContact |\n",
        "|---------|------|----------|---------|-----------|-----------------|---------|----------------|\n",
        "| 1 | James | 007 | Espionage, Combat, Driving | M101 | Venice, Italy | M | 555-0123, 555-0124 |\n",
        "| 2 | Natasha | Black Widow | Combat, Infiltration, Hacking | M101 | Venice, Italy | M | 555-0123, 555-0124 |\n",
        "| 3 | Ethan | Ghost | Infiltration, Tech, Combat | M102 | Paris, France | Q | 555-0125 |\n",
        "\n",
        "At first glance, this might seem convenient - all the information is in one place. However, this design has several serious problems:\n",
        "\n",
        "1. **Data redundancy** occurs when the same information is stored in multiple places, such as M's contact information being repeated across multiple rows.\n",
        "2. **Update anomalies** happen when we need to change information in multiple places, such as updating M's phone number across several rows to maintain consistency.\n",
        "3. **Insertion anomalies** prevent us from adding new data unless other related data exists, such as being unable to add a new handler until they are assigned to an agent.\n",
        "4. **Deletion anomalies** occur when deleting some data unintentionally removes other important information, such as losing all information about handler Q when removing the last agent they supervise.\n",
        "\n",
        "This is where normalization comes in.\n",
        "\n",
        "### What is Normalization?\n",
        "\n",
        "**Normalization** is a systematic approach to organizing database tables that achieves several important goals:\n",
        "\n",
        "1. The process eliminates redundant data by organizing information into separate, focused tables.\n",
        "2. The structure ensures data **dependencies** make logical sense and follow established rules.\n",
        "3. The resulting design makes the database more efficient and easier to maintain over time.\n",
        "\n",
        "Think of normalization as organizing your spy agency's filing system: you wouldn't keep complete copies of an agent's dossier in every mission file they're mentioned in. Instead, you'd have a central agents file and reference it from mission files.\n",
        "\n",
        "### First Normal Form (1NF): The Foundation\n",
        "\n",
        "A table must meet several requirements to be in First Normal Form:\n",
        "\n",
        "1. Each column must contain only **atomic values**, which means each value is indivisible.\n",
        "2. The table must not contain any repeating groups of columns.\n",
        "3. Each row in the table must be uniquely identifiable through a primary key.\n",
        "4. Each column in the table must contain values of the same data type.\n",
        "\n",
        "Let's look at some violations of 1NF in our spy database and how to fix them:\n",
        "\n",
        "#### Example 1: Multiple Skills in One Column\n",
        "\n",
        "**Before (Not in 1NF):**\n",
        "\n",
        "| AgentID | Name | Codename | Skills |\n",
        "|---------|------|----------|---------|\n",
        "| 1 | James | 007 | Espionage, Combat, Driving |\n",
        "| 2 | Natasha | Black Widow | Combat, Infiltration, Hacking |\n",
        "\n",
        "This violates 1NF because the Skills column contains multiple values.\n",
        "\n",
        "**After (In 1NF):**\n",
        "\n",
        "AGENT table:\n",
        "\n",
        "| AgentID | Name | Codename |\n",
        "|---------|------|----------|\n",
        "| 1 | James | 007 |\n",
        "| 2 | Natasha | Black Widow |\n",
        "\n",
        "AGENT_SKILLS table:\n",
        "\n",
        "| AgentID | Skill |\n",
        "|---------|-------|\n",
        "| 1 | Espionage |\n",
        "| 1 | Combat |\n",
        "| 1 | Driving |\n",
        "| 2 | Combat |\n",
        "| 2 | Infiltration |\n",
        "| 2 | Hacking |\n",
        "\n",
        "#### Example 2: Multiple Contact Methods\n",
        "\n",
        "**Before (Not in 1NF):**\n",
        "\n",
        "| HandlerID | Name | Contact |\n",
        "|-----------|------|---------|\n",
        "| 1 | M | 555-0123, 555-0124 |\n",
        "| 2 | Q | 555-0125, 555-0126 |\n",
        "\n",
        "**After (In 1NF):**\n",
        "\n",
        "HANDLER table:\n",
        "\n",
        "| HandlerID | Name |\n",
        "|-----------|------|\n",
        "| 1 | M |\n",
        "| 2 | Q |\n",
        "\n",
        "HANDLER_CONTACTS table:\n",
        "\n",
        "| HandlerID | ContactNumber |\n",
        "|-----------|--------------|\n",
        "| 1 | 555-0123 |\n",
        "| 1 | 555-0124 |\n",
        "| 2 | 555-0125 |\n",
        "| 2 | 555-0126 |\n",
        "\n",
        "### Common Mistakes in 1NF\n",
        "\n",
        "When working with First Normal Form, database designers must watch out for several common pitfalls:\n",
        "\n",
        "1. **Hidden non-atomic values** can appear when seemingly single values actually contain multiple pieces of information, such as storing mission locations as \"Venice, Italy\" in a single column.\n",
        "2. **Embedded lists** violate normalization rules when they store multiple values in one field, such as storing an agent's equipment as \"Gun, Radio, Tracker\" in a single column.\n",
        "3. **Multiple purpose columns** break data consistency when they mix different types of data, such as using a single \"Contact\" column that sometimes contains phone numbers and sometimes contains email addresses.\n",
        "\n",
        "### Benefits of 1NF\n",
        "\n",
        "Achieving First Normal Form provides several important benefits for your database:\n",
        "\n",
        "1. **Simplified queries** enable users to search data more effectively because each piece of information exists in its own column.\n",
        "2. **Data integrity** improves significantly because each piece of information is stored exactly once in the database.\n",
        "3. **Data updates** become much simpler because changes only need to be made in one place rather than in multiple locations.\n",
        "4. **Database performance** increases because indexes can be created on atomic values, making searches more efficient.\n",
        "\n",
        "### When to Break 1NF\n",
        "\n",
        "While normalization is generally desirable, certain situations may require denormalization:\n",
        "\n",
        "1. Performance optimization sometimes requires denormalized data structures when the application needs to display frequently accessed information together.\n",
        "2. Report generation systems often benefit from denormalized data when they must compile information from multiple sources into a single view.\n",
        "3. Database system limitations may make fully normalized designs impractical when the system restricts the number of allowed table joins.\n",
        "\n",
        "However, breaking 1NF should be a conscious, documented decision based on specific requirements rather than convenience.\n",
        "\n",
        "In the next section, we'll explore Second Normal Form (2NF) and how it builds upon these foundational principles to further improve our database design."
      ],
      "metadata": {
        "id": "6-ot-aI7Cfp2"
      }
    },
    {
      "cell_type": "markdown",
      "source": [
        "## Second Normal Form (2NF)\n",
        "\n",
        "Once a database achieves First Normal Form, the next step is to evaluate it for Second Normal Form compliance. Second Normal Form builds upon 1NF by addressing a specific type of data dependency.\n",
        "\n",
        "A table is in Second Normal Form when:\n",
        "\n",
        "1. The table is already in First Normal Form.\n",
        "2. Every non-key attribute in the table is fully functionally dependent on the entire primary key.\n",
        "\n",
        "The concept of **functional dependency** means that one attribute's value determines another attribute's value. A **full functional dependency** exists when an attribute depends on the entire primary key, not just part of it.\n",
        "\n",
        "### Recognizing Partial Dependencies\n",
        "\n",
        "Let's examine a table from our spy training academy that tracks agent certifications:\n",
        "\n",
        "| AgentID | SkillID | CertificationDate | SkillName | SkillDifficulty |\n",
        "|---------|---------|------------------|------------|-----------------|\n",
        "| 007 | S1 | 2023-01-15 | Lockpicking | Advanced |\n",
        "| 007 | S2 | 2023-02-01 | Surveillance | Expert |\n",
        "| 008 | S1 | 2023-03-10 | Lockpicking | Advanced |\n",
        "\n",
        "In this table, the primary key consists of both AgentID and SkillID together. Let's analyze the dependencies:\n",
        "\n",
        "1. CertificationDate depends on both AgentID and SkillID (when a specific agent completed a specific skill).\n",
        "2. SkillName depends only on SkillID (a skill's name doesn't change based on the agent).\n",
        "3. SkillDifficulty depends only on SkillID (a skill's difficulty level is the same for all agents).\n",
        "\n",
        "The partial dependencies in this table violate Second Normal Form because SkillName and SkillDifficulty depend only on SkillID, which is just part of the primary key.\n",
        "\n",
        "### Converting to 2NF\n",
        "\n",
        "To achieve Second Normal Form, we separate the attributes that depend on only part of the primary key into their own table:\n",
        "\n",
        "**AGENT_CERTIFICATIONS table:**\n",
        "\n",
        "| AgentID | SkillID | CertificationDate |\n",
        "|---------|---------|------------------|\n",
        "| 007 | S1 | 2023-01-15 |\n",
        "| 007 | S2 | 2023-02-01 |\n",
        "| 008 | S1 | 2023-03-10 |\n",
        "\n",
        "**SKILLS table:**\n",
        "\n",
        "| SkillID | SkillName | SkillDifficulty |\n",
        "|---------|-----------|-----------------|\n",
        "| S1 | Lockpicking | Advanced |\n",
        "| S2 | Surveillance | Expert |\n",
        "\n",
        "### Another 2NF Example\n",
        "\n",
        "Consider a table tracking mission equipment assignments:\n",
        "\n",
        "| MissionID | AgentID | EquipmentID | MissionLocation | EquipmentName | EquipmentType |\n",
        "|-----------|---------|-------------|-----------------|---------------|---------------|\n",
        "| M1 | 007 | E1 | Venice | Laser Watch | Gadget |\n",
        "| M1 | 007 | E2 | Venice | Grappling Hook | Tool |\n",
        "| M2 | 008 | E1 | Paris | Laser Watch | Gadget |\n",
        "\n",
        "This table has several problems:\n",
        "\n",
        "1. MissionLocation depends only on MissionID.\n",
        "2. EquipmentName and EquipmentType depend only on EquipmentID.\n",
        "\n",
        "To achieve 2NF, we create three separate tables:\n",
        "\n",
        "**MISSION_EQUIPMENT table:**\n",
        "\n",
        "| MissionID | AgentID | EquipmentID |\n",
        "|-----------|---------|-------------|\n",
        "| M1 | 007 | E1 |\n",
        "| M1 | 007 | E2 |\n",
        "| M2 | 008 | E1 |\n",
        "\n",
        "**MISSIONS table:**\n",
        "\n",
        "| MissionID | MissionLocation |\n",
        "|-----------|-----------------|\n",
        "| M1 | Venice |\n",
        "| M2 | Paris |\n",
        "\n",
        "**EQUIPMENT table:**\n",
        "\n",
        "| EquipmentID | EquipmentName | EquipmentType |\n",
        "|-------------|---------------|---------------|\n",
        "| E1 | Laser Watch | Gadget |\n",
        "| E2 | Grappling Hook | Tool |\n",
        "\n",
        "### Benefits of Second Normal Form\n",
        "\n",
        "Moving to Second Normal Form provides several important benefits:\n",
        "\n",
        "1. Data consistency improves because information about each entity is stored in only one place.\n",
        "2. Update operations become more reliable because related data is properly grouped together.\n",
        "3. Storage efficiency increases because the database eliminates redundant data storage.\n",
        "4. Data modifications become safer because changes to one aspect of the data won't affect unrelated aspects.\n",
        "\n",
        "### Common 2NF Mistakes to Avoid\n",
        "\n",
        "Database designers should watch for these common issues when working with Second Normal Form:\n",
        "\n",
        "1. Composite keys are sometimes overlooked when analyzing dependencies, leading to incomplete normalization.\n",
        "2. Transitive dependencies might be missed when focusing only on partial dependencies.\n",
        "3. Over-normalization can occur when splitting tables unnecessarily, making the database harder to understand.\n",
        "\n",
        "In the next section, we'll explore Third Normal Form and examine how it addresses transitive dependencies to further improve database design."
      ],
      "metadata": {
        "id": "dMems9wQDYdE"
      }
    },
    {
      "cell_type": "markdown",
      "source": [
        "##  Third Normal Form and Beyond\n",
        "\n",
        "After achieving Second Normal Form, databases can still suffer from certain types of data redundancy. Third Normal Form (3NF) addresses these issues by eliminating **transitive dependencies**.\n",
        "\n",
        "A table is in Third Normal Form when:\n",
        "\n",
        "1. The table already exists in Second Normal Form.\n",
        "2. Every non-key attribute in the table depends on the key, the whole key, and nothing but the key.\n",
        "\n",
        "A **transitive dependency** occurs when one non-key attribute depends on another non-key attribute, rather than depending directly on the primary key.\n",
        "\n",
        "### Identifying Transitive Dependencies\n",
        "\n",
        "Consider this table from our spy academy's personnel database:\n",
        "\n",
        "| AgentID | Name | HandlerID | HandlerName | HandlerRank |\n",
        "|---------|------|-----------|-------------|-------------|\n",
        "| 007 | James | H1 | M | Director |\n",
        "| 008 | Eve | H1 | M | Director |\n",
        "| 009 | Felix | H2 | Q | Quartermaster |\n",
        "\n",
        "In this table:\n",
        "1. Name depends on AgentID (the primary key)\n",
        "2. HandlerName depends on HandlerID (not on AgentID)\n",
        "3. HandlerRank depends on HandlerID (not on AgentID)\n",
        "\n",
        "We have transitive dependencies because HandlerName and HandlerRank depend on HandlerID, which itself depends on AgentID. This creates problems:\n",
        "\n",
        "1. Handler information is duplicated for every agent they handle.\n",
        "2. Updating a handler's rank requires changing multiple rows.\n",
        "3. Adding a new handler requires an assigned agent.\n",
        "\n",
        "### Converting to 3NF\n",
        "\n",
        "To achieve Third Normal Form, we separate the transitively dependent attributes into their own table:\n",
        "\n",
        "**AGENTS table:**\n",
        "\n",
        "| AgentID | Name | HandlerID |\n",
        "|---------|------|-----------|\n",
        "| 007 | James | H1 |\n",
        "| 008 | Eve | H1 |\n",
        "| 009 | Felix | H2 |\n",
        "\n",
        "**HANDLERS table:**\n",
        "\n",
        "| HandlerID | HandlerName | HandlerRank |\n",
        "|-----------|-------------|-------------|\n",
        "| H1 | M | Director |\n",
        "| H2 | Q | Quartermaster |\n",
        "\n",
        "### Another 3NF Example\n",
        "\n",
        "Here's another example showing mission assignments:\n",
        "\n",
        "| MissionID | Location | RegionalDirector | DirectorOffice |\n",
        "|-----------|----------|------------------|----------------|\n",
        "| M1 | Venice | Signora B | Venice HQ |\n",
        "| M2 | Venice | Signora B | Venice HQ |\n",
        "| M3 | Paris | Monsieur C | Paris HQ |\n",
        "\n",
        "The transitive dependencies here are:\n",
        "1. RegionalDirector depends on Location\n",
        "2. DirectorOffice depends on Location\n",
        "\n",
        "To achieve 3NF:\n",
        "\n",
        "**MISSIONS table:**\n",
        "\n",
        "| MissionID | Location |\n",
        "|-----------|----------|\n",
        "| M1 | Venice |\n",
        "| M2 | Venice |\n",
        "| M3 | Paris |\n",
        "\n",
        "**REGIONAL_OFFICES table:**\n",
        "\n",
        "| Location | RegionalDirector | DirectorOffice |\n",
        "|----------|------------------|----------------|\n",
        "| Venice | Signora B | Venice HQ |\n",
        "| Paris | Monsieur C | Paris HQ |\n",
        "\n",
        "### Benefits of Third Normal Form\n",
        "\n",
        "Moving a database to Third Normal Form provides several critical advantages:\n",
        "\n",
        "1. Data consistency increases because related information is stored in a single location.\n",
        "2. Data maintenance becomes simpler because updates only need to happen in one place.\n",
        "3. Data integrity improves because there are fewer opportunities for data to become out of sync.\n",
        "4. Storage efficiency increases because redundant information is eliminated from the database.\n",
        "\n",
        "### Beyond Third Normal Form\n",
        "\n",
        "While 3NF is sufficient for most applications, higher normal forms exist:\n",
        "\n",
        "1. **Boyce-Codd Normal Form (BCNF)** strengthens 3NF by ensuring that every determinant is a candidate key.\n",
        "2. **Fourth Normal Form (4NF)** addresses multi-valued dependencies in the database.\n",
        "3. **Fifth Normal Form (5NF)** deals with join dependencies that are not implied by candidate keys.\n",
        "\n",
        "Most real-world applications stop at 3NF because:\n",
        "\n",
        "1. The complexity of implementing higher normal forms often outweighs their benefits.\n",
        "2. The performance impact of additional table joins can become significant.\n",
        "3. The types of dependencies addressed by higher normal forms rarely occur in practice.\n",
        "\n",
        "### Practical Normalization Strategy\n",
        "\n",
        "When normalizing a database in practice, follow these steps:\n",
        "\n",
        "1. Begin by identifying all attributes and their relationships in your database design.\n",
        "2. Ensure your tables meet the requirements for First Normal Form.\n",
        "3. Analyze and resolve partial dependencies to achieve Second Normal Form.\n",
        "4. Identify and eliminate transitive dependencies to reach Third Normal Form.\n",
        "5. Evaluate whether higher normal forms would provide meaningful benefits for your specific case.\n",
        "\n",
        "### Denormalization Considerations\n",
        "\n",
        "Sometimes, you may choose to denormalize a 3NF database for practical reasons:\n",
        "\n",
        "1. Query performance requirements might necessitate combining frequently joined tables.\n",
        "2. Reporting needs could make denormalized data structures more efficient.\n",
        "3. Application-specific requirements might favor denormalized data access patterns.\n",
        "\n",
        "### Conclusion: Normalization\n",
        "\n",
        "Database normalization is a powerful tool for ensuring data integrity and reducing redundancy. While higher normal forms exist, Third Normal Form typically provides the optimal balance between:\n",
        "\n",
        "1. Data integrity is maintained through proper organization of attributes and dependencies.\n",
        "2. Query performance remains practical for most real-world applications.\n",
        "3. Database maintenance stays manageable for development and operations teams.\n",
        "4. Storage efficiency achieves a good balance between redundancy and accessibility.\n",
        "\n",
        "Remember that normalization is a means to an end, not an end in itself. The goal is to create a database that is both efficient and practical for its intended use."
      ],
      "metadata": {
        "id": "i9pzg7K-D7eU"
      }
    },
    {
      "cell_type": "markdown",
      "source": [
        "### Quiz: Normalize This"
      ],
      "metadata": {
        "id": "lq7FltWVNQFk"
      }
    },
    {
      "cell_type": "markdown",
      "source": [
        "## Physical Modeling - Bringing the Database to Life\n",
        "\n",
        "We've conceptually designed our database and transformed it into a logical model using the relational model and normalization techniques. Now it's time for the exciting part - actually creating our database!\n",
        "\n",
        "**Physical modeling** is the process of taking the logical model and implementing it in a specific database management system (DBMS). This involves defining the actual tables, columns, data types, and constraints in the database using the Data Definition Language (DDL) of the chosen DBMS.\n",
        "\n",
        "For the Covert Academy's database, we'll be using **SQLite** (which is what we've used in the class so far).\n",
        "\n",
        "SQLite is a lightweight, file-based DBMS. It's a popular choice for many applications because:\n",
        "\n",
        "1.  It's serverless (the database is just a file)\n",
        "2.  It's self-contained (no external dependencies)\n",
        "3.  It's cross-platform (works on all major operating systems)\n",
        "4.  It's open-source and free to use\n",
        "\n",
        "SQLite, like most modern DBMSs, uses **SQL (Structured Query Language)** for defining and manipulating databases.\n"
      ],
      "metadata": {
        "id": "5N26H8AXRrfP"
      }
    },
    {
      "cell_type": "markdown",
      "source": [
        "# SQL Data Types: Standards, Implementation, and Best Practices\n",
        "\n",
        "## Understanding ANSI Standard SQL\n",
        "\n",
        "The **American National Standards Institute (ANSI)** plays a crucial role in defining standardized specifications for various technologies, including database systems. The ANSI SQL standard, officially known as **SQL/Foundation**, provides a common framework that database systems can implement to ensure compatibility and portability of SQL code across different platforms.\n",
        "\n",
        "The SQL standard has evolved significantly since its first publication in 1986, progressing through several major revisions including SQL-92, SQL:1999, and more recent versions like SQL:2016 and SQL:2019. While ANSI initiated the standardization process, the **International Organization for Standardization (ISO)** now maintains and develops the SQL standard, which is why people often refer to it as ANSI/ISO SQL.\n",
        "\n",
        "SQL standards serve several critical purposes. They ensure portability of database applications across different systems, provide a common language for database professionals, create a stable foundation for database technologies, and establish best practices for database design. Despite these benefits, it's important to recognize that no database system fully implements every aspect of the SQL standard - each **Database Management System (DBMS)** has its own extensions, limitations, and interpretations of the standard, creating what we call \"SQL dialects.\"\n",
        "\n",
        "## ANSI Standard SQL Data Types in Detail\n",
        "\n",
        "The SQL standard defines a rich set of data types to represent various kinds of information. Let's explore these with spy-themed examples:\n",
        "\n",
        "### Numeric Data Types\n",
        "\n",
        "**INTEGER (or INT)** stores whole numbers without decimal points. With typically 4 bytes of storage, it can handle values from about -2.1 billion to +2.1 billion.\n",
        "\n",
        "* Agent identification numbers (007, 008, 009)\n",
        "* Mission counts (42 completed missions)\n",
        "* Inventory quantities (15 tracking devices)\n",
        "* Building floor numbers (Basement level -2)\n",
        "* Security zone identifiers (Zone 4)\n",
        "\n",
        "**SMALLINT** is a more compact version of INTEGER, using 2 bytes to store values from approximately -32,768 to 32,767.\n",
        "\n",
        "* Security clearance levels (1-10)\n",
        "* Number of gadgets checked out from Q Branch (23)\n",
        "* Days since last contact with field agent (45)\n",
        "* Number of personnel assigned to a safe house (8)\n",
        "* Communication frequency channels (1-999)\n",
        "\n",
        "**BIGINT** provides expanded range with 8 bytes of storage, making it suitable for extremely large numbers.\n",
        "\n",
        "* Millisecond-precision timestamps of surveillance recordings\n",
        "* Unique message identifiers in global communication networks\n",
        "* Microphone signal frequencies in hertz\n",
        "* Total bytes transmitted in encrypted communications\n",
        "* Nanometer-precise measurements for explosive components\n",
        "\n",
        "**DECIMAL(p,s)** or **NUMERIC(p,s)** store exact decimal numbers with specified precision (p) and scale (s).\n",
        "\n",
        "* Mission budget allocations (DECIMAL(12,2) for $1,456,789.45)\n",
        "* Precise explosive compound mixtures (DECIMAL(5,3) for 98.765% purity)\n",
        "* Exact geolocation coordinates (DECIMAL(9,6) for 51.501364, -0.141890)\n",
        "* Asset payment records (DECIMAL(10,2) for exact financial accounting)\n",
        "* Formulation ratios for chemical compounds (DECIMAL(7,5) for 0.00375)\n",
        "\n",
        "**REAL** or **FLOAT** handle approximate floating-point numbers using 4 bytes.\n",
        "\n",
        "* Radiation levels at surveillance sites (0.217 rems)\n",
        "* Approximate distances in kilometers from safe houses (12.7 km)\n",
        "* Probability calculations for mission success scenarios (0.875)\n",
        "* Signal strength measurements (-42.6 dBm)\n",
        "* Atmospheric pressure readings during operations (1013.25 hPa)\n",
        "\n",
        "### Character Data Types\n",
        "\n",
        "**CHAR(n)** creates fixed-length character strings, always using exactly n bytes or characters.\n",
        "\n",
        "* Country codes of operation sites (CHAR(2) for 'US', 'UK', 'RU')\n",
        "* Agent status codes (CHAR(3) for 'ACT', 'MIA', 'KIA')\n",
        "* Fixed-format radio call signs (CHAR(6) for 'EAGLE1')\n",
        "* ISO currency codes (CHAR(3) for 'USD', 'EUR', 'GBP')\n",
        "* Security level identifiers (CHAR(1) for 'A', 'B', 'C', 'S')\n",
        "\n",
        "**VARCHAR(n)** allows variable-length strings with a maximum length of n, storing only what's needed plus minimal overhead.\n",
        "\n",
        "* Agent code names ('Black Widow', 'Ghost', '007')\n",
        "* Operation names ('Skyfall', 'Treadstone', 'Blackbriar')\n",
        "* Surveillance site descriptions ('Embassy back entrance')\n",
        "* Contact method instructions ('Dead drop at the usual location')\n",
        "* Vehicle license plates ('LR58 WKF', 'S3CR3T')\n",
        "\n",
        "**TEXT** or **CLOB** (Character Large Object) handles large text content.\n",
        "\n",
        "* Complete mission briefings\n",
        "* Detailed asset dossiers\n",
        "* Intercepted communications transcripts\n",
        "* Field agent reports\n",
        "* Psychological evaluation profiles\n",
        "\n",
        "### Temporal Data Types\n",
        "\n",
        "**DATE** represents calendar dates in 'YYYY-MM-DD' format using 3-4 bytes.\n",
        "\n",
        "* Mission start dates ('2023-11-15')\n",
        "* Agent recruitment dates ('2020-05-22')\n",
        "* Scheduled extraction dates ('2023-12-01')\n",
        "* Passport/documentation expiration dates ('2025-08-30')\n",
        "* Scheduled maintenance of surveillance equipment ('2023-10-05')\n",
        "\n",
        "**TIME** stores the time of day in 'HH:MM:SS' format.\n",
        "\n",
        "* Precise timing of agent check-ins ('07:30:00')\n",
        "* Scheduled dead drops ('23:15:00')\n",
        "* Shift rotations at surveillance outposts ('18:00:00')\n",
        "* Communication window openings ('22:00:00')\n",
        "* Target movement patterns ('08:45:00' daily departure)\n",
        "\n",
        "**TIMESTAMP** combines date and time information.\n",
        "\n",
        "* Security breach occurrences ('2023-11-15 02:17:42')\n",
        "* Classified message transmission logs ('2023-11-10 23:42:18')\n",
        "* Emergency protocol activations ('2023-11-05 14:32:07')\n",
        "* Facial recognition matches ('2023-11-12 16:05:33')\n",
        "* Alarm trigger events ('2023-11-14 01:27:59')\n",
        "\n",
        "### Binary Data Types\n",
        "\n",
        "**BINARY(n)** and **VARBINARY(n)** store fixed and variable-length binary data respectively.\n",
        "\n",
        "* Encrypted communication keys\n",
        "* Biometric scan data (fingerprints, retina scans)\n",
        "* Encoded microfilm content\n",
        "* Cryptographic hashes of classified documents\n",
        "* Radio frequency signal patterns\n",
        "\n",
        "**BLOB** (Binary Large Object) handles large binary content.\n",
        "\n",
        "* Surveillance photographs\n",
        "* Voice recording files\n",
        "* Satellite imagery of target locations\n",
        "* Scanned documents from infiltration operations\n",
        "* Video footage from covert operations\n",
        "\n",
        "### Other Specialized Types\n",
        "\n",
        "**BOOLEAN** represents true/false values using 1 byte.\n",
        "\n",
        "* Agent active status (active/inactive)\n",
        "* Mission completion status (completed/incomplete)\n",
        "* Security clearance verification (verified/unverified)\n",
        "* Safe house compromise status (compromised/secure)\n",
        "* Communication encryption status (encrypted/unencrypted)\n",
        "\n",
        "**JSON** stores structured data in JavaScript Object Notation.\n",
        "\n",
        "* Complex intelligence data structures\n",
        "* Hierarchical organizational charts of target organizations\n",
        "* Detailed equipment specifications with nested properties\n",
        "* Sensor array configurations with multiple parameters\n",
        "* Asset network relationship mappings\n",
        "\n",
        "**UUID** or **GUID** provides Universally Unique Identifiers.\n",
        "\n",
        "* Distributed intelligence network identifiers\n",
        "* Cross-agency operation references\n",
        "* Secure document tracking across systems\n",
        "* Field-generated communication identifiers\n",
        "* Decentralized agent reporting systems\n",
        "\n",
        "## SQLite's Implementation of Data Types\n",
        "\n",
        "SQLite takes a unique approach to data types compared to most other database systems. Rather than strictly enforcing column types, SQLite uses a dynamic typing system based on the values themselves.\n",
        "\n",
        "### SQLite Storage Classes and Type Affinity\n",
        "\n",
        "SQLite has five primary storage classes for data:\n",
        "\n",
        "* **NULL**: Represents the absence of a value (unknown agent location, pending mission completion date)\n",
        "* **INTEGER**: Whole numbers using 1-8 bytes depending on magnitude (agent IDs, clearance levels)\n",
        "* **REAL**: 8-byte floating-point numbers (coordinates, probabilities, measurements)\n",
        "* **TEXT**: Character data in UTF-8 encoding (code names, operation names, reports)\n",
        "* **BLOB**: Binary data stored exactly as input (fingerprints, encrypted files, images)\n",
        "\n",
        "SQLite connects these internal storage classes to standard SQL type declarations through a concept called **type affinity**:\n",
        "\n",
        "* **INTEGER affinity**: Applied to columns declared as INTEGER, INT, etc.\n",
        "* **TEXT affinity**: Applied to columns declared as CHARACTER, VARCHAR, TEXT, etc.\n",
        "* **BLOB affinity**: Applied to columns explicitly declared as BLOB\n",
        "* **REAL affinity**: Applied to columns declared as REAL, DOUBLE, FLOAT, etc.\n",
        "* **NUMERIC affinity**: Applied to columns declared as NUMERIC, DECIMAL, etc.\n",
        "\n",
        "This flexible system allows SQLite to work with SQL statements written for other database systems while maintaining its dynamic approach. For example, storing \"007\" in an INTEGER column converts it to 7, while storing 7 in a TEXT column saves it as \"7\".\n",
        "\n",
        "### Dynamic Typing Example\n",
        "\n",
        "Here's an example demonstrating SQLite's dynamic typing in a spy database context:\n",
        "\n",
        "```sql\n",
        "CREATE TABLE agents (\n",
        "    id INTEGER PRIMARY KEY,\n",
        "    code_name TEXT,\n",
        "    security_level INTEGER\n",
        ");\n",
        "\n",
        "INSERT INTO agents (code_name, security_level) VALUES (7, 10);         -- Stores 7 as TEXT\n",
        "INSERT INTO agents (code_name, security_level) VALUES ('Falcon', '8'); -- Stores '8' as INTEGER\n",
        "INSERT INTO agents (code_name, security_level) VALUES ('Ghost', NULL); -- Security level unknown\n",
        "```\n",
        "\n",
        "In most other database systems, the first and second inserts would fail because they don't match the declared types. But in SQLite, all three inserts succeed because SQLite converts values when possible or stores them in their native storage class.\n",
        "\n",
        "## Practical Database Design for Beginners\n",
        "\n",
        "When you're creating your first database for an intelligence operation (or any application), choosing the right data types is one of the most important decisions you'll make. Here are some straightforward guidelines:\n",
        "\n",
        "### Choosing the Right Data Type\n",
        "\n",
        "*Keep it simple when starting out.* Begin with these basic types for most of your needs:\n",
        "\n",
        "* **INTEGER** for IDs, counts, and whole numbers\n",
        "* **TEXT** for names, descriptions, and any text content\n",
        "* **REAL** for measurements and calculations\n",
        "* **DATE/TIME** for timestamps and calendar dates\n",
        "* **BOOLEAN** for yes/no or true/false situations\n",
        "\n",
        "*Match the data type to what you're actually storing.* Think about:\n",
        "\n",
        "* What kind of information is this? (number, text, date, etc.)\n",
        "* How large could this value get? (small integers vs. large integers)\n",
        "* Do I need decimal precision? (whole numbers vs. decimals)\n",
        "* Will I need to sort or calculate with this field?\n",
        "\n",
        "### Examples of Basic Data Type Decisions\n",
        "\n",
        "For an agent management system, you might choose:\n",
        "\n",
        "* agent_id: **INTEGER** - Simple, efficient for primary keys\n",
        "* code_name: **TEXT** - Variable length names like \"Bond\" or \"Black Widow\"\n",
        "* clearance_level: **INTEGER** - Simple numbers from 1-10\n",
        "* active_status: **BOOLEAN** - Either active (1) or inactive (0)\n",
        "* recruitment_date: **DATE** - When they joined\n",
        "\n",
        "For mission tracking:\n",
        "* mission_id: **INTEGER** - Sequential identifier\n",
        "* mission_name: **TEXT** - Operation names like \"Skyfall\"\n",
        "* location: **TEXT** - \"London, UK\" or \"Abandoned Warehouse\"\n",
        "* start_date: **DATE** - When the mission begins\n",
        "* budget: **DECIMAL(10,2)** - Precise financial tracking (e.g., $250,000.75)\n",
        "\n",
        "### SQLite's Simple Approach for Beginners\n",
        "\n",
        "*SQLite makes data types easier for beginners.* Unlike other databases, SQLite is flexible about data types. This means:\n",
        "\n",
        "* You can store a number in a TEXT column (it will convert automatically)\n",
        "* You can store text in an INTEGER column (it will try to convert if possible)\n",
        "* You don't need to worry as much about exact type matching\n",
        "\n",
        "This table shows what actually happens when you insert different values into SQLite columns:\n",
        "\n",
        "| Declared Column Type | Value Inserted | What Actually Gets Stored |\n",
        "|----------------------|----------------|---------------------------|\n",
        "| INTEGER | 42 | INTEGER (42) |\n",
        "| INTEGER | \"42\" | INTEGER (42) |\n",
        "| INTEGER | \"Agent 42\" | TEXT (\"Agent 42\") |\n",
        "| TEXT | 42 | TEXT (\"42\") |\n",
        "| TEXT | \"007\" | TEXT (\"007\") |\n",
        "| REAL | 99 | REAL (99.0) |\n",
        "| REAL | \"99.7\" | REAL (99.7) |\n",
        "\n",
        "### Common Beginner Mistakes to Avoid\n",
        "\n",
        "*Using TEXT for everything.* While SQLite allows this, it's not a good practice because:\n",
        "* You lose the ability to do proper numeric sorting (TEXT \"10\" comes before \"2\")\n",
        "* Mathematical operations won't work properly\n",
        "* It uses more storage space than necessary\n",
        "\n",
        "*Choosing types that are too small.* For example:\n",
        "* Using SMALLINT for agent IDs when you might eventually have more than 32,767 agents\n",
        "* Using VARCHAR(20) for names when some might be longer\n",
        "\n",
        "*Ignoring date formatting.* When storing dates as TEXT, they should be in YYYY-MM-DD format for proper sorting and comparison.\n",
        "\n",
        "*Forgetting about NULL values.* Decide whether each column should allow NULL values (unknown/missing information) or require data.\n",
        "\n",
        "### Simple Performance Tips\n",
        "\n",
        "*Make smart choices for smoother operations:*\n",
        "\n",
        "* Use INTEGER for primary keys and foreign keys when possible\n",
        "* Use appropriate field sizes (don't use TEXT for single-character fields)\n",
        "* Put your most frequently searched fields first in your table design\n",
        "* Consider adding indexes to columns you search often\n",
        "\n",
        "### When to Keep It Simple vs. When to Be Specific\n",
        "\n",
        "*For most beginner projects, stick to these guidelines:*\n",
        "\n",
        "* **Keep it simple when:**\n",
        "  * Building your first database\n",
        "  * Creating a prototype\n",
        "  * Working on small projects\n",
        "  * The data structure is unlikely to change much\n",
        "\n",
        "* **Be more specific when:**\n",
        "  * Dealing with financial or scientific data\n",
        "  * Building systems that will grow very large\n",
        "  * Working with multiple connected systems\n",
        "  * Performance is critical to your application\n",
        "\n",
        "## Conclusion\n",
        "\n",
        "Understanding data types is an important first step in database design. For beginners, start with the basic types (INTEGER, TEXT, REAL) and gradually introduce more specific types as your needs and skills grow.\n",
        "\n",
        "Remember that SQLite's flexible approach makes it forgiving for beginners, but developing good habits around data type selection will serve you well as you advance to more complex database systems and larger projects. The right data types ensure your intelligence operations (or any application) run efficiently, maintain data integrity, and scale effectively as your needs grow."
      ],
      "metadata": {
        "id": "SV_xJx76RF8W"
      }
    },
    {
      "cell_type": "markdown",
      "source": [
        "## The CREATE TABLE Statement\n",
        "\n",
        "Now that we know about data types, we can start creating our tables! In SQL, we use the `CREATE TABLE` statement for this.\n",
        "\n",
        "The general syntax is:\n",
        "\n",
        "```sql\n",
        "CREATE TABLE table_name (\n",
        "    column1 datatype constraint,\n",
        "    column2 datatype constraint,\n",
        "    ...\n",
        "    PRIMARY KEY (one or more columns)\n",
        ");\n",
        "```\n",
        "\n",
        "For example, let's create the STUDENT table:"
      ],
      "metadata": {
        "id": "oZwV6l7mTcp8"
      }
    },
    {
      "cell_type": "code",
      "source": [
        "# connect to sqlite using sql magic\n",
        "%load_ext sql\n",
        "%sql sqlite:///covert_academy.db"
      ],
      "metadata": {
        "id": "jly7J807Tgmd"
      },
      "execution_count": null,
      "outputs": []
    },
    {
      "cell_type": "code",
      "source": [
        "%%sql\n",
        "CREATE TABLE STUDENT (\n",
        "    ID INTEGER PRIMARY KEY,  -- The primary key, an auto-incrementing integer\n",
        "    Name VARCHAR(100) NOT NULL,  -- The student's name, cannot be NULL\n",
        "    Codename VARCHAR(50),  -- The student's codename, can be NULL\n",
        "    Nationality VARCHAR(50),  -- The student's nationality\n",
        "    Specialization VARCHAR(100)  -- The student's specialization\n",
        ");"
      ],
      "metadata": {
        "colab": {
          "base_uri": "https://localhost:8080/"
        },
        "id": "ZqN21TxzL-cY",
        "outputId": "3d3649f6-38f1-4b48-c5a8-29f6607783ad"
      },
      "execution_count": null,
      "outputs": [
        {
          "output_type": "stream",
          "name": "stdout",
          "text": [
            " * sqlite:///covert_academy.db\n",
            "Done.\n"
          ]
        },
        {
          "output_type": "execute_result",
          "data": {
            "text/plain": [
              "[]"
            ]
          },
          "metadata": {},
          "execution_count": 4
        }
      ]
    },
    {
      "cell_type": "markdown",
      "source": [
        "This creates a table named STUDENT with five columns. Note the use of ANSI standard data types and the comments explaining each column.\n",
        "\n",
        "We can create the CLASS and ENROLLMENT tables similarly:"
      ],
      "metadata": {
        "id": "Air3yuRbTzZa"
      }
    },
    {
      "cell_type": "code",
      "source": [
        "%%sql\n",
        "CREATE TABLE CLASS (\n",
        "    ID INTEGER PRIMARY KEY,  -- The primary key\n",
        "    Name VARCHAR(100) NOT NULL,  -- The class name, cannot be NULL\n",
        "    Description VARCHAR(200),  -- The class description\n",
        "    Instructor VARCHAR(100),  -- The class instructor\n",
        "    Location VARCHAR(100)  -- The class location\n",
        ");\n",
        "\n",
        "CREATE TABLE ENROLLMENT (\n",
        "    StudentID INTEGER,  -- Foreign key to STUDENT table\n",
        "    ClassID INTEGER,  -- Foreign key to CLASS table\n",
        "    EnrollmentDate DATE,  -- The date of enrollment\n",
        "    PRIMARY KEY (StudentID, ClassID),  -- Composite primary key\n",
        "    FOREIGN KEY (StudentID) REFERENCES STUDENT(ID),  -- Foreign key constraint\n",
        "    FOREIGN KEY (ClassID) REFERENCES CLASS(ID)  -- Foreign key constraint\n",
        ");"
      ],
      "metadata": {
        "colab": {
          "base_uri": "https://localhost:8080/"
        },
        "id": "4_b1M9hFT2E-",
        "outputId": "5acd73c8-c8c5-4458-fdf7-6e70a6ed4202"
      },
      "execution_count": null,
      "outputs": [
        {
          "output_type": "stream",
          "name": "stdout",
          "text": [
            " * sqlite:///covert_academy.db\n",
            "Done.\n",
            "Done.\n"
          ]
        },
        {
          "output_type": "execute_result",
          "data": {
            "text/plain": [
              "[]"
            ]
          },
          "metadata": {},
          "execution_count": 5
        }
      ]
    },
    {
      "cell_type": "markdown",
      "source": [
        "Note how in the ENROLLMENT table, we define a composite primary key (StudentID, ClassID) and also specify the foreign key constraints. Let's now use PRAGMA to see how our tables appear:"
      ],
      "metadata": {
        "id": "bdxxyimBUAxv"
      }
    },
    {
      "cell_type": "code",
      "source": [
        "%%sql\n",
        "PRAGMA table_info(STUDENT);"
      ],
      "metadata": {
        "colab": {
          "base_uri": "https://localhost:8080/",
          "height": 179
        },
        "id": "Iq9AiN18c-Nz",
        "outputId": "10c211a8-7b32-4d4a-ff65-68f6a339473b"
      },
      "execution_count": null,
      "outputs": [
        {
          "output_type": "stream",
          "name": "stdout",
          "text": [
            " * sqlite:///covert_academy.db\n",
            "Done.\n"
          ]
        },
        {
          "output_type": "execute_result",
          "data": {
            "text/plain": [
              "[(0, 'ID', 'INTEGER', 0, None, 1),\n",
              " (1, 'Name', 'VARCHAR(100)', 1, None, 0),\n",
              " (2, 'Codename', 'VARCHAR(50)', 0, None, 0),\n",
              " (3, 'Nationality', 'VARCHAR(50)', 0, None, 0),\n",
              " (4, 'Specialization', 'VARCHAR(100)', 0, None, 0)]"
            ],
            "text/html": [
              "<table>\n",
              "    <thead>\n",
              "        <tr>\n",
              "            <th>cid</th>\n",
              "            <th>name</th>\n",
              "            <th>type</th>\n",
              "            <th>notnull</th>\n",
              "            <th>dflt_value</th>\n",
              "            <th>pk</th>\n",
              "        </tr>\n",
              "    </thead>\n",
              "    <tbody>\n",
              "        <tr>\n",
              "            <td>0</td>\n",
              "            <td>ID</td>\n",
              "            <td>INTEGER</td>\n",
              "            <td>0</td>\n",
              "            <td>None</td>\n",
              "            <td>1</td>\n",
              "        </tr>\n",
              "        <tr>\n",
              "            <td>1</td>\n",
              "            <td>Name</td>\n",
              "            <td>VARCHAR(100)</td>\n",
              "            <td>1</td>\n",
              "            <td>None</td>\n",
              "            <td>0</td>\n",
              "        </tr>\n",
              "        <tr>\n",
              "            <td>2</td>\n",
              "            <td>Codename</td>\n",
              "            <td>VARCHAR(50)</td>\n",
              "            <td>0</td>\n",
              "            <td>None</td>\n",
              "            <td>0</td>\n",
              "        </tr>\n",
              "        <tr>\n",
              "            <td>3</td>\n",
              "            <td>Nationality</td>\n",
              "            <td>VARCHAR(50)</td>\n",
              "            <td>0</td>\n",
              "            <td>None</td>\n",
              "            <td>0</td>\n",
              "        </tr>\n",
              "        <tr>\n",
              "            <td>4</td>\n",
              "            <td>Specialization</td>\n",
              "            <td>VARCHAR(100)</td>\n",
              "            <td>0</td>\n",
              "            <td>None</td>\n",
              "            <td>0</td>\n",
              "        </tr>\n",
              "    </tbody>\n",
              "</table>"
            ]
          },
          "metadata": {},
          "execution_count": 6
        }
      ]
    },
    {
      "cell_type": "code",
      "source": [
        "%%sql\n",
        "PRAGMA table_info(CLASS);"
      ],
      "metadata": {
        "colab": {
          "base_uri": "https://localhost:8080/",
          "height": 179
        },
        "id": "B88f5JnndAlF",
        "outputId": "76372cc7-025c-4455-be0c-3d795b0a49f8"
      },
      "execution_count": null,
      "outputs": [
        {
          "output_type": "stream",
          "name": "stdout",
          "text": [
            " * sqlite:///covert_academy.db\n",
            "Done.\n"
          ]
        },
        {
          "output_type": "execute_result",
          "data": {
            "text/plain": [
              "[(0, 'ID', 'INTEGER', 0, None, 1),\n",
              " (1, 'Name', 'VARCHAR(100)', 1, None, 0),\n",
              " (2, 'Description', 'VARCHAR(200)', 0, None, 0),\n",
              " (3, 'Instructor', 'VARCHAR(100)', 0, None, 0),\n",
              " (4, 'Location', 'VARCHAR(100)', 0, None, 0)]"
            ],
            "text/html": [
              "<table>\n",
              "    <thead>\n",
              "        <tr>\n",
              "            <th>cid</th>\n",
              "            <th>name</th>\n",
              "            <th>type</th>\n",
              "            <th>notnull</th>\n",
              "            <th>dflt_value</th>\n",
              "            <th>pk</th>\n",
              "        </tr>\n",
              "    </thead>\n",
              "    <tbody>\n",
              "        <tr>\n",
              "            <td>0</td>\n",
              "            <td>ID</td>\n",
              "            <td>INTEGER</td>\n",
              "            <td>0</td>\n",
              "            <td>None</td>\n",
              "            <td>1</td>\n",
              "        </tr>\n",
              "        <tr>\n",
              "            <td>1</td>\n",
              "            <td>Name</td>\n",
              "            <td>VARCHAR(100)</td>\n",
              "            <td>1</td>\n",
              "            <td>None</td>\n",
              "            <td>0</td>\n",
              "        </tr>\n",
              "        <tr>\n",
              "            <td>2</td>\n",
              "            <td>Description</td>\n",
              "            <td>VARCHAR(200)</td>\n",
              "            <td>0</td>\n",
              "            <td>None</td>\n",
              "            <td>0</td>\n",
              "        </tr>\n",
              "        <tr>\n",
              "            <td>3</td>\n",
              "            <td>Instructor</td>\n",
              "            <td>VARCHAR(100)</td>\n",
              "            <td>0</td>\n",
              "            <td>None</td>\n",
              "            <td>0</td>\n",
              "        </tr>\n",
              "        <tr>\n",
              "            <td>4</td>\n",
              "            <td>Location</td>\n",
              "            <td>VARCHAR(100)</td>\n",
              "            <td>0</td>\n",
              "            <td>None</td>\n",
              "            <td>0</td>\n",
              "        </tr>\n",
              "    </tbody>\n",
              "</table>"
            ]
          },
          "metadata": {},
          "execution_count": 7
        }
      ]
    },
    {
      "cell_type": "code",
      "source": [
        "%%sql\n",
        "PRAGMA table_info(ENROLLMENT);"
      ],
      "metadata": {
        "colab": {
          "base_uri": "https://localhost:8080/",
          "height": 137
        },
        "id": "ciZw40j9dGn7",
        "outputId": "9805fcc1-9cf2-4682-88a5-8c09c7d3f452"
      },
      "execution_count": null,
      "outputs": [
        {
          "output_type": "stream",
          "name": "stdout",
          "text": [
            " * sqlite:///covert_academy.db\n",
            "Done.\n"
          ]
        },
        {
          "output_type": "execute_result",
          "data": {
            "text/plain": [
              "[(0, 'StudentID', 'INTEGER', 0, None, 1),\n",
              " (1, 'ClassID', 'INTEGER', 0, None, 2),\n",
              " (2, 'EnrollmentDate', 'DATE', 0, None, 0)]"
            ],
            "text/html": [
              "<table>\n",
              "    <thead>\n",
              "        <tr>\n",
              "            <th>cid</th>\n",
              "            <th>name</th>\n",
              "            <th>type</th>\n",
              "            <th>notnull</th>\n",
              "            <th>dflt_value</th>\n",
              "            <th>pk</th>\n",
              "        </tr>\n",
              "    </thead>\n",
              "    <tbody>\n",
              "        <tr>\n",
              "            <td>0</td>\n",
              "            <td>StudentID</td>\n",
              "            <td>INTEGER</td>\n",
              "            <td>0</td>\n",
              "            <td>None</td>\n",
              "            <td>1</td>\n",
              "        </tr>\n",
              "        <tr>\n",
              "            <td>1</td>\n",
              "            <td>ClassID</td>\n",
              "            <td>INTEGER</td>\n",
              "            <td>0</td>\n",
              "            <td>None</td>\n",
              "            <td>2</td>\n",
              "        </tr>\n",
              "        <tr>\n",
              "            <td>2</td>\n",
              "            <td>EnrollmentDate</td>\n",
              "            <td>DATE</td>\n",
              "            <td>0</td>\n",
              "            <td>None</td>\n",
              "            <td>0</td>\n",
              "        </tr>\n",
              "    </tbody>\n",
              "</table>"
            ]
          },
          "metadata": {},
          "execution_count": 8
        }
      ]
    },
    {
      "cell_type": "markdown",
      "source": [
        "## Column Constraints\n",
        "\n",
        "Before we start inserting data into our database, let's discuss some important concepts that help maintain the integrity and consistency of our data: **constraints**.\n",
        "\n",
        "Column constraints are rules applied to individual columns in a table. They restrict the type of data that can be stored in a column. The most common constraints are:\n",
        "\n",
        "1.  **CHECK**: Ensures that a column's value satisfies a boolean expression.\n",
        "2.  **DEFAULT**: Specifies a default value for a column when no value is provided.\n",
        "3.  **NOT NULL**: Ensures that a column cannot have a NULL value.\n",
        "4.  **UNIQUE**: Ensures that each value in a column is unique across the whole table.\n",
        "\n",
        "Let's see how we can apply these constraints to our tables.\n",
        "\n",
        "### The DROP TABLE Statement\n",
        "\n",
        "But first, let's discuss how to drop a table. The `DROP TABLE` statement is used to remove a table definition and all its data. The syntax is simple:\n",
        "\n",
        "```sql\n",
        "DROP TABLE table_name;\n",
        "```\n",
        "\n",
        "This statement is irreversible, so use it with caution!\n",
        "\n",
        "Now, let's recreate our tables with some constraints.\n",
        "\n",
        "### Recreating the STUDENT Table"
      ],
      "metadata": {
        "id": "QRKqTYGNUd4V"
      }
    },
    {
      "cell_type": "code",
      "source": [
        "%%sql\n",
        "DROP TABLE IF EXISTS STUDENT;  -- Drop the table if it already exists\n",
        "\n",
        "CREATE TABLE STUDENT (\n",
        "    ID INTEGER PRIMARY KEY,\n",
        "    Name VARCHAR(100) NOT NULL,\n",
        "    Codename VARCHAR(50) UNIQUE,  -- Codenames must be unique\n",
        "    Nationality VARCHAR(50) DEFAULT 'Unknown',  -- Default nationality is 'Unknown'\n",
        "    Specialization VARCHAR(100),\n",
        "    Age INTEGER CHECK (Age >= 18)  -- Students must be at least 18 years old\n",
        ");"
      ],
      "metadata": {
        "colab": {
          "base_uri": "https://localhost:8080/"
        },
        "id": "MZKsThi-UlR_",
        "outputId": "de3f53bb-2dab-4519-9192-a4f195d6bea2"
      },
      "execution_count": null,
      "outputs": [
        {
          "output_type": "stream",
          "name": "stdout",
          "text": [
            " * sqlite:///covert_academy.db\n",
            "Done.\n",
            "Done.\n"
          ]
        },
        {
          "output_type": "execute_result",
          "data": {
            "text/plain": [
              "[]"
            ]
          },
          "metadata": {},
          "execution_count": 9
        }
      ]
    },
    {
      "cell_type": "markdown",
      "source": [
        "Here, we've added a UNIQUE constraint to the Codename column, a DEFAULT constraint to the Nationality column, and a CHECK constraint to ensure that all students are at least 18 years old."
      ],
      "metadata": {
        "id": "ZamYPobfUqnE"
      }
    },
    {
      "cell_type": "markdown",
      "source": [
        "### Recreating the CLASS Table\n",
        "For the CLASS table, we've added a NOT NULL constraint to the Instructor column and a CHECK constraint to ensure that the StartDate is always before the EndDate."
      ],
      "metadata": {
        "id": "I4BTBQk5U4WW"
      }
    },
    {
      "cell_type": "code",
      "source": [
        "%%sql\n",
        "DROP TABLE IF EXISTS CLASS;\n",
        "\n",
        "CREATE TABLE CLASS (\n",
        "    ID INTEGER PRIMARY KEY,\n",
        "    Name VARCHAR(100) NOT NULL,\n",
        "    Description VARCHAR(200),\n",
        "    Instructor VARCHAR(100) NOT NULL,  -- Every class must have an instructor\n",
        "    Location VARCHAR(100),\n",
        "    StartDate DATE,\n",
        "    EndDate DATE,\n",
        "    CHECK (StartDate < EndDate)  -- The start date must be before the end date\n",
        ");"
      ],
      "metadata": {
        "colab": {
          "base_uri": "https://localhost:8080/"
        },
        "id": "oBs24XC5Uwnv",
        "outputId": "1df1ee47-7822-4c8a-a1ee-ac9e3b506e97"
      },
      "execution_count": null,
      "outputs": [
        {
          "output_type": "stream",
          "name": "stdout",
          "text": [
            " * sqlite:///covert_academy.db\n",
            "Done.\n",
            "Done.\n"
          ]
        },
        {
          "output_type": "execute_result",
          "data": {
            "text/plain": [
              "[]"
            ]
          },
          "metadata": {},
          "execution_count": 10
        }
      ]
    },
    {
      "cell_type": "markdown",
      "source": [
        "### Recreating the ENROLLMENT Table\n",
        "For the ENROLLMENT table, we've added a DEFAULT constraint to set the EnrollmentDate to the current date if no value is provided."
      ],
      "metadata": {
        "id": "NwdoCZU3U-cC"
      }
    },
    {
      "cell_type": "code",
      "source": [
        "%%sql\n",
        "DROP TABLE IF EXISTS ENROLLMENT;\n",
        "\n",
        "CREATE TABLE ENROLLMENT (\n",
        "    StudentID INTEGER,\n",
        "    ClassID INTEGER,\n",
        "    EnrollmentDate DATE DEFAULT CURRENT_DATE,  -- Default is the current date\n",
        "    PRIMARY KEY (StudentID, ClassID),\n",
        "    FOREIGN KEY (StudentID) REFERENCES STUDENT(ID),\n",
        "    FOREIGN KEY (ClassID) REFERENCES CLASS(ID)\n",
        ");"
      ],
      "metadata": {
        "colab": {
          "base_uri": "https://localhost:8080/"
        },
        "id": "sPqt-eRPUCpb",
        "outputId": "63acaa34-e1e4-41ef-d626-2150ec36d70a"
      },
      "execution_count": null,
      "outputs": [
        {
          "output_type": "stream",
          "name": "stdout",
          "text": [
            " * sqlite:///covert_academy.db\n",
            "Done.\n",
            "Done.\n"
          ]
        },
        {
          "output_type": "execute_result",
          "data": {
            "text/plain": [
              "[]"
            ]
          },
          "metadata": {},
          "execution_count": 11
        }
      ]
    },
    {
      "cell_type": "markdown",
      "source": [
        "And there we have it! Our Covert Academy database is now set up with constraints to ensure data integrity."
      ],
      "metadata": {
        "id": "S_r2AOyaVI7f"
      }
    },
    {
      "cell_type": "markdown",
      "source": [
        "### The DROP TABLE IF EXISTS Syntax\n",
        "\n",
        "One more thing to note: in our previous examples, we used the syntax `DROP TABLE IF EXISTS` instead of just `DROP TABLE`. What does this do?\n",
        "\n",
        "`DROP TABLE IF EXISTS` is a safer way to drop tables. If the specified table doesn't exist, `DROP TABLE` would normally throw an error. However, with `IF EXISTS`, the statement doesn't throw an error if the table doesn't exist; it simply does nothing.\n",
        "\n",
        "This is useful in scripts where you want to ensure that a table doesn't exist before creating it, but you don't want the script to fail if the table doesn't exist to begin with."
      ],
      "metadata": {
        "id": "JC3zsdgvW_r2"
      }
    },
    {
      "cell_type": "markdown",
      "source": [
        "## ALTER TABLE: Modifying Your Database Structure\n",
        "\n",
        "As your database evolves, you may find yourself needing to modify the structure of existing tables. Maybe you need to add a new column, change a column's data type, or add a new constraint. This is where the `ALTER TABLE` statement comes in.\n",
        "\n",
        "The `ALTER TABLE` statement allows you to change the structure of an existing table without deleting and recreating it. This is useful because it preserves the existing data in the table.\n",
        "\n",
        "### Adding a New Column\n",
        "\n",
        "To add a new column to an existing table, you use the `ADD COLUMN` clause:\n",
        "\n",
        "```sql\n",
        "ALTER TABLE table_name\n",
        "ADD COLUMN new_column_name datatype constraint;\n",
        "```\n",
        "For example, let's say we want to add a 'DateOfBirth' column to our STUDENT table:"
      ],
      "metadata": {
        "id": "9l9vlR-3YGKy"
      }
    },
    {
      "cell_type": "code",
      "source": [
        "%%sql\n",
        "ALTER TABLE STUDENT\n",
        "ADD COLUMN DateOfBirth DATE;"
      ],
      "metadata": {
        "colab": {
          "base_uri": "https://localhost:8080/"
        },
        "id": "fzOFYhOvYNH4",
        "outputId": "750c6ccc-f8d3-4172-8147-98350142e18c"
      },
      "execution_count": null,
      "outputs": [
        {
          "output_type": "stream",
          "name": "stdout",
          "text": [
            " * sqlite:///covert_academy.db\n",
            "Done.\n"
          ]
        },
        {
          "output_type": "execute_result",
          "data": {
            "text/plain": [
              "[]"
            ]
          },
          "metadata": {},
          "execution_count": 12
        }
      ]
    },
    {
      "cell_type": "markdown",
      "source": [
        "We can know view the table schema to ensure it has been added."
      ],
      "metadata": {
        "id": "JT5pJjmyYifT"
      }
    },
    {
      "cell_type": "code",
      "source": [
        "%%sql\n",
        "PRAGMA table_info(STUDENT);"
      ],
      "metadata": {
        "colab": {
          "base_uri": "https://localhost:8080/",
          "height": 221
        },
        "id": "C7OyemeTYVGo",
        "outputId": "1e257196-b1a6-4e09-e082-26e2e49fc56e"
      },
      "execution_count": null,
      "outputs": [
        {
          "output_type": "stream",
          "name": "stdout",
          "text": [
            " * sqlite:///covert_academy.db\n",
            "Done.\n"
          ]
        },
        {
          "output_type": "execute_result",
          "data": {
            "text/plain": [
              "[(0, 'ID', 'INTEGER', 0, None, 1),\n",
              " (1, 'Name', 'VARCHAR(100)', 1, None, 0),\n",
              " (2, 'Codename', 'VARCHAR(50)', 0, None, 0),\n",
              " (3, 'Nationality', 'VARCHAR(50)', 0, \"'Unknown'\", 0),\n",
              " (4, 'Specialization', 'VARCHAR(100)', 0, None, 0),\n",
              " (5, 'Age', 'INTEGER', 0, None, 0),\n",
              " (6, 'DateOfBirth', 'DATE', 0, None, 0)]"
            ],
            "text/html": [
              "<table>\n",
              "    <thead>\n",
              "        <tr>\n",
              "            <th>cid</th>\n",
              "            <th>name</th>\n",
              "            <th>type</th>\n",
              "            <th>notnull</th>\n",
              "            <th>dflt_value</th>\n",
              "            <th>pk</th>\n",
              "        </tr>\n",
              "    </thead>\n",
              "    <tbody>\n",
              "        <tr>\n",
              "            <td>0</td>\n",
              "            <td>ID</td>\n",
              "            <td>INTEGER</td>\n",
              "            <td>0</td>\n",
              "            <td>None</td>\n",
              "            <td>1</td>\n",
              "        </tr>\n",
              "        <tr>\n",
              "            <td>1</td>\n",
              "            <td>Name</td>\n",
              "            <td>VARCHAR(100)</td>\n",
              "            <td>1</td>\n",
              "            <td>None</td>\n",
              "            <td>0</td>\n",
              "        </tr>\n",
              "        <tr>\n",
              "            <td>2</td>\n",
              "            <td>Codename</td>\n",
              "            <td>VARCHAR(50)</td>\n",
              "            <td>0</td>\n",
              "            <td>None</td>\n",
              "            <td>0</td>\n",
              "        </tr>\n",
              "        <tr>\n",
              "            <td>3</td>\n",
              "            <td>Nationality</td>\n",
              "            <td>VARCHAR(50)</td>\n",
              "            <td>0</td>\n",
              "            <td>&#x27;Unknown&#x27;</td>\n",
              "            <td>0</td>\n",
              "        </tr>\n",
              "        <tr>\n",
              "            <td>4</td>\n",
              "            <td>Specialization</td>\n",
              "            <td>VARCHAR(100)</td>\n",
              "            <td>0</td>\n",
              "            <td>None</td>\n",
              "            <td>0</td>\n",
              "        </tr>\n",
              "        <tr>\n",
              "            <td>5</td>\n",
              "            <td>Age</td>\n",
              "            <td>INTEGER</td>\n",
              "            <td>0</td>\n",
              "            <td>None</td>\n",
              "            <td>0</td>\n",
              "        </tr>\n",
              "        <tr>\n",
              "            <td>6</td>\n",
              "            <td>DateOfBirth</td>\n",
              "            <td>DATE</td>\n",
              "            <td>0</td>\n",
              "            <td>None</td>\n",
              "            <td>0</td>\n",
              "        </tr>\n",
              "    </tbody>\n",
              "</table>"
            ]
          },
          "metadata": {},
          "execution_count": 13
        }
      ]
    },
    {
      "cell_type": "markdown",
      "source": [
        "### Dropping a Column\n",
        "We can drop (remove) a column using the drop table keyword:\n",
        "\n",
        "```sql\n",
        "ALTER TABLE table_name\n",
        "DROP COLUMN column_name\n",
        "```\n",
        "Let's now drop the DateOfBirth column.  "
      ],
      "metadata": {
        "id": "XkU9xnxaYnT1"
      }
    },
    {
      "cell_type": "code",
      "source": [
        "%%sql\n",
        "ALTER TABLE STUDENT\n",
        "DROP COLUMN DateOfBirth;"
      ],
      "metadata": {
        "colab": {
          "base_uri": "https://localhost:8080/"
        },
        "id": "C3HDFwLpYQJX",
        "outputId": "be330e98-bf88-4355-b8a1-0fcf91e4495e"
      },
      "execution_count": null,
      "outputs": [
        {
          "output_type": "stream",
          "name": "stdout",
          "text": [
            " * sqlite:///covert_academy.db\n",
            "Done.\n"
          ]
        },
        {
          "output_type": "execute_result",
          "data": {
            "text/plain": [
              "[]"
            ]
          },
          "metadata": {},
          "execution_count": 14
        }
      ]
    },
    {
      "cell_type": "markdown",
      "source": [
        "### Renaming Tables and Columns\n",
        "We can also rename tables and columns. For examples, let's suppose we prefer table names like `Students`, `Classes`, and `Enrollments`."
      ],
      "metadata": {
        "id": "ALfNldFrZ96O"
      }
    },
    {
      "cell_type": "code",
      "source": [
        "%%sql\n",
        "ALTER TABLE STUDENT\n",
        "RENAME TO Students;"
      ],
      "metadata": {
        "colab": {
          "base_uri": "https://localhost:8080/"
        },
        "id": "0ZjSNaWxaJgJ",
        "outputId": "b5422921-c35f-42d5-c37c-e52362e065ca"
      },
      "execution_count": null,
      "outputs": [
        {
          "output_type": "stream",
          "name": "stdout",
          "text": [
            " * sqlite:///covert_academy.db\n",
            "Done.\n"
          ]
        },
        {
          "output_type": "execute_result",
          "data": {
            "text/plain": [
              "[]"
            ]
          },
          "metadata": {},
          "execution_count": 15
        }
      ]
    },
    {
      "cell_type": "code",
      "source": [
        "%%sql\n",
        "ALTER TABLE CLASS\n",
        "RENAME TO Classes;"
      ],
      "metadata": {
        "colab": {
          "base_uri": "https://localhost:8080/"
        },
        "id": "scWl2QTTaNPn",
        "outputId": "a85f5e99-10d3-4d86-b38b-34f63fc39faa"
      },
      "execution_count": null,
      "outputs": [
        {
          "output_type": "stream",
          "name": "stdout",
          "text": [
            " * sqlite:///covert_academy.db\n",
            "Done.\n"
          ]
        },
        {
          "output_type": "execute_result",
          "data": {
            "text/plain": [
              "[]"
            ]
          },
          "metadata": {},
          "execution_count": 16
        }
      ]
    },
    {
      "cell_type": "code",
      "source": [
        "%%sql\n",
        "ALTER TABLE ENROLLMENT\n",
        "RENAME TO Enrollments;"
      ],
      "metadata": {
        "colab": {
          "base_uri": "https://localhost:8080/"
        },
        "id": "8z31cyZZaP6F",
        "outputId": "1d6430c0-6113-47ad-f743-f6847e359b69"
      },
      "execution_count": null,
      "outputs": [
        {
          "output_type": "stream",
          "name": "stdout",
          "text": [
            " * sqlite:///covert_academy.db\n",
            "Done.\n"
          ]
        },
        {
          "output_type": "execute_result",
          "data": {
            "text/plain": [
              "[]"
            ]
          },
          "metadata": {},
          "execution_count": 17
        }
      ]
    },
    {
      "cell_type": "markdown",
      "source": [
        "### Modifying a Column's Definition\n",
        "\n",
        "To change a column's data type in databases like Oracle, MySQL, or Postgres, you use the `MODIFY COLUMN` clause (or `ALTER COLUMN` in other databases):\n",
        "\n",
        "```sql\n",
        "ALTER TABLE table_name\n",
        "MODIFY COLUMN column_name new_datatype;\n",
        "```\n",
        "\n",
        "For example, if you wanted to change the 'Specialization' column in the `STUDENT` table to have a maximum length of 200 characters:\n",
        "\n",
        "```sql\n",
        "ALTER TABLE STUDENT\n",
        "MODIFY COLUMN Specialization VARCHAR(200);\n",
        "```\n",
        "\n",
        "You can also do something similar in these database to add constraints:\n",
        "\n",
        "```sql\n",
        "ALTER TABLE STUDENT\n",
        "ADD CONSTRAINT CHK_Age CHECK (Age < 100);\n",
        "```\n",
        "\n",
        "However, SQLite has limited support for `ALTER TABLE`. While you can rename, add, or drop columns, you can't directly modify a column's datatype or constraints. To achieve this in SQLite, you need to use a workaround:\n",
        "\n",
        "\n",
        "1.  Create a new column with the desired constraints (or new data type).\n",
        "2.  Copy the data from the old column to the new column.\n",
        "3.  Drop the old column.\n",
        "4.  Rename the new column to the original name\n",
        "\n",
        "For example, here's how we can add a constraint to make sure age is between 0 and 100."
      ],
      "metadata": {
        "id": "jGuTb3tKcG62"
      }
    },
    {
      "cell_type": "code",
      "source": [
        "%%sql\n",
        "-- Step 1: Add a new column with the desired constraints\n",
        "ALTER TABLE Students ADD COLUMN Age_NEW INTEGER CHECK (Age_NEW < 100);\n",
        "\n",
        "-- Step 2: Copy the data from the old column to the new column\n",
        "-- Not needed here, since our table is empty!\n",
        "UPDATE Students SET Age_NEW = Age;\n",
        "\n",
        "-- Step 3: Drop the old column\n",
        "ALTER TABLE Students DROP COLUMN Age;\n",
        "\n",
        "-- Step 4: Rename the new column to the original name\n",
        "ALTER TABLE Students RENAME COLUMN Age_NEW TO Age;\n"
      ],
      "metadata": {
        "colab": {
          "base_uri": "https://localhost:8080/"
        },
        "id": "fuyG_C8kcHuH",
        "outputId": "ec493e53-814d-428a-b481-4cefe3da5b9b"
      },
      "execution_count": null,
      "outputs": [
        {
          "output_type": "stream",
          "name": "stdout",
          "text": [
            " * sqlite:///covert_academy.db\n",
            "Done.\n",
            "0 rows affected.\n",
            "Done.\n",
            "Done.\n"
          ]
        },
        {
          "output_type": "execute_result",
          "data": {
            "text/plain": [
              "[]"
            ]
          },
          "metadata": {},
          "execution_count": 18
        }
      ]
    },
    {
      "cell_type": "markdown",
      "source": [
        "## Supertypes and Subtypes at the Spy Academy\n",
        "\n",
        "As our Spy Academy database grows, we might realize that some of our entities have common attributes. For example, both students and instructors are people, and they likely share attributes like name, date of birth, and nationality. In database design, we can model this relationship using **supertypes and subtypes**.\n",
        "\n",
        "A **supertype** is an entity that contains the common attributes and relationships of one or more other entities, which are called **subtypes**. The subtypes inherit the attributes and relationships of the supertype and can also have their own specific attributes and relationships.\n",
        "\n",
        "In our Spy Academy example, we could have a `persons` supertype, with `students` and `instructors` as subtypes. Both students and instructors would inherit attributes like name and date of birth from the `persons` supertype, but they would also have their own specific attributes (like specialization for students and office number for instructors).\n",
        "\n",
        "There are several ways to implement supertypes and subtypes in a relational database. We'll use the \"Class Table Inheritance\" approach, where each entity (supertype and subtypes) gets its own table, and the subtype tables reference the supertype table with a foreign key.\n",
        "\n",
        "### Implementing Supertypes and Subtypes\n",
        "\n",
        "Let's start by creating the `Persons` table, which will be our supertype:"
      ],
      "metadata": {
        "id": "I71toFOcHOyC"
      }
    },
    {
      "cell_type": "code",
      "source": [
        "%%sql\n",
        "DROP TABLE IF EXISTS Persons;\n",
        "\n",
        "CREATE TABLE Persons (\n",
        "    id INTEGER PRIMARY KEY,\n",
        "    name VARCHAR(100) NOT NULL,\n",
        "    date_of_birth DATE,\n",
        "    nationality VARCHAR(50) DEFAULT 'Unknown'\n",
        ");"
      ],
      "metadata": {
        "colab": {
          "base_uri": "https://localhost:8080/"
        },
        "id": "moJ6svT3HPj_",
        "outputId": "60060eaf-3c2d-4067-be51-01e412d1d7b2"
      },
      "execution_count": null,
      "outputs": [
        {
          "output_type": "stream",
          "name": "stdout",
          "text": [
            " * sqlite:///covert_academy.db\n",
            "Done.\n",
            "Done.\n"
          ]
        },
        {
          "output_type": "execute_result",
          "data": {
            "text/plain": [
              "[]"
            ]
          },
          "metadata": {},
          "execution_count": 35
        }
      ]
    },
    {
      "cell_type": "markdown",
      "source": [
        "In this table, we've added a `DEFAULT` constraint to set the default nationality to 'Unknown' if not provided.\n",
        "\n",
        "Now, let's create the `Students` and `Instructors` tables as subtypes. They will reference the `Persons` table with a foreign key:\n"
      ],
      "metadata": {
        "id": "WxGMN7qLHlRZ"
      }
    },
    {
      "cell_type": "code",
      "source": [
        "%%sql\n",
        "\n",
        "DROP TABLE IF EXISTS Students;\n",
        "CREATE TABLE Students (\n",
        "    person_id INTEGER PRIMARY KEY,\n",
        "    codename VARCHAR(50) UNIQUE,\n",
        "    specialization VARCHAR(200),\n",
        "    FOREIGN KEY (person_id) REFERENCES Persons (id)\n",
        ");\n",
        "\n",
        "DROP TABLE IF EXISTS Instructors;\n",
        "CREATE TABLE Instructors (\n",
        "    person_id INTEGER PRIMARY KEY,\n",
        "    office_number VARCHAR(20),\n",
        "    FOREIGN KEY (person_id) REFERENCES Persons (id)\n",
        ");"
      ],
      "metadata": {
        "colab": {
          "base_uri": "https://localhost:8080/"
        },
        "id": "8dIcUXuZHmEs",
        "outputId": "9f72d1c7-0c70-4e89-8db2-bbf7c1e92d99"
      },
      "execution_count": null,
      "outputs": [
        {
          "output_type": "stream",
          "name": "stdout",
          "text": [
            " * sqlite:///covert_academy.db\n",
            "Done.\n",
            "Done.\n",
            "Done.\n",
            "Done.\n"
          ]
        },
        {
          "output_type": "execute_result",
          "data": {
            "text/plain": [
              "[]"
            ]
          },
          "metadata": {},
          "execution_count": 38
        }
      ]
    },
    {
      "cell_type": "markdown",
      "source": [
        "In these tables, the `person_id` column is a foreign key that references the `id` column of the `Persons` table. This establishes the inheritance relationship. We've also made `person_id` `NOT NULL` to ensure every student and instructor is linked to a person.\n",
        "\n",
        "Finally, let's modify the `Enrollments` table to include a `role` column, which can be either 'S' (for student) or 'I' (for instructor):"
      ],
      "metadata": {
        "id": "a_9LxCXqIoH0"
      }
    },
    {
      "cell_type": "code",
      "source": [
        "%%sql\n",
        "DROP TABLE IF EXISTS Enrollments;\n",
        "CREATE TABLE Enrollments (\n",
        "    person_id INTEGER,\n",
        "    class_id INTEGER,\n",
        "    role CHAR(1) CHECK (role IN ('S', 'I')),\n",
        "    PRIMARY KEY (person_id, class_id),\n",
        "    FOREIGN KEY (person_id) REFERENCES Persons (id),\n",
        "    FOREIGN KEY (class_id) REFERENCES Classes (id)\n",
        ");"
      ],
      "metadata": {
        "colab": {
          "base_uri": "https://localhost:8080/"
        },
        "id": "Z7vtxA9UHXsT",
        "outputId": "1997dbd3-926e-482d-c510-f54131652d70"
      },
      "execution_count": null,
      "outputs": [
        {
          "output_type": "stream",
          "name": "stdout",
          "text": [
            " * sqlite:///covert_academy.db\n",
            "Done.\n",
            "Done.\n"
          ]
        },
        {
          "output_type": "execute_result",
          "data": {
            "text/plain": [
              "[]"
            ]
          },
          "metadata": {},
          "execution_count": 49
        }
      ]
    },
    {
      "cell_type": "markdown",
      "source": [
        "Finally, let's recreate the `Classes` table. We'll no longer need to store an \"instructor\" attribute, since this will be handled by enrollment."
      ],
      "metadata": {
        "id": "1n8VVJtuOs3I"
      }
    },
    {
      "cell_type": "code",
      "source": [
        "%%sql\n",
        "DROP TABLE IF EXISTS Classes;\n",
        "CREATE TABLE Classes (\n",
        "    id INTEGER PRIMARY KEY,\n",
        "    name VARCHAR(100) NOT NULL,\n",
        "    description VARCHAR(200),\n",
        "    location VARCHAR(100),\n",
        "    start_date DATE,\n",
        "    end_date DATE,\n",
        "    CHECK (start_date < end_date)\n",
        ");"
      ],
      "metadata": {
        "colab": {
          "base_uri": "https://localhost:8080/"
        },
        "id": "MmJUAqa5O2n-",
        "outputId": "12f20c54-63a5-4db1-d6ea-ae0b58a13f70"
      },
      "execution_count": null,
      "outputs": [
        {
          "output_type": "stream",
          "name": "stdout",
          "text": [
            " * sqlite:///covert_academy.db\n",
            "Done.\n",
            "Done.\n"
          ]
        },
        {
          "output_type": "execute_result",
          "data": {
            "text/plain": [
              "[]"
            ]
          },
          "metadata": {},
          "execution_count": 43
        }
      ]
    },
    {
      "cell_type": "markdown",
      "source": [
        "## Final ERD for Spy School\n",
        "And here is the final ERD for our Spy School database."
      ],
      "metadata": {
        "id": "GidyLTTbIfeB"
      }
    },
    {
      "cell_type": "code",
      "source": [
        "# @title\n",
        "mm(\"\"\"\n",
        "    erDiagram\n",
        "    Persons {\n",
        "        INTEGER id PK\n",
        "        VARCHAR name\n",
        "        DATE date_of_birth\n",
        "        VARCHAR nationality    }\n",
        "\n",
        "    Students {\n",
        "        INTEGER person_id PK, FK\n",
        "        VARCHAR codename\n",
        "        VARCHAR specialization    }\n",
        "\n",
        "    Instructors {\n",
        "        INTEGER person_id PK, FK\n",
        "        VARCHAR office_number     }\n",
        "\n",
        "    Classes {\n",
        "        INTEGER id PK\n",
        "        VARCHAR name\n",
        "        VARCHAR description\n",
        "        VARCHAR location\n",
        "        DATE start_date\n",
        "        DATE end_date     }\n",
        "\n",
        "    Enrollments {\n",
        "        INTEGER person_id PK, FK\n",
        "        INTEGER class_id PK, FK\n",
        "        CHAR role     }\n",
        "\n",
        "    Persons ||--o| Students : \"is a\"\n",
        "    Persons ||--o| Instructors : \"is a\"\n",
        "    Persons ||--o{ Enrollments : \"teaches or takes\"\n",
        "    Classes ||--o{ Enrollments : \"has\"\n",
        "    \"\"\"\n",
        ")"
      ],
      "metadata": {
        "colab": {
          "base_uri": "https://localhost:8080/",
          "height": 407
        },
        "id": "-XCZvgovIowD",
        "outputId": "c07f1c3b-11d0-4d02-fda5-7e6fa2a8b903",
        "cellView": "form"
      },
      "execution_count": null,
      "outputs": [
        {
          "output_type": "display_data",
          "data": {
            "text/html": [
              "<img src=\"https://mermaid.ink/img/CiAgICBlckRpYWdyYW0KICAgIFBlcnNvbnMgewogICAgICAgIElOVEVHRVIgaWQgUEsKICAgICAgICBWQVJDSEFSIG5hbWUKICAgICAgICBEQVRFIGRhdGVfb2ZfYmlydGgKICAgICAgICBWQVJDSEFSIG5hdGlvbmFsaXR5ICAgIH0KCiAgICBTdHVkZW50cyB7CiAgICAgICAgSU5URUdFUiBwZXJzb25faWQgUEssIEZLCiAgICAgICAgVkFSQ0hBUiBjb2RlbmFtZQogICAgICAgIFZBUkNIQVIgc3BlY2lhbGl6YXRpb24gICAgfQoKICAgIEluc3RydWN0b3JzIHsKICAgICAgICBJTlRFR0VSIHBlcnNvbl9pZCBQSywgRksKICAgICAgICBWQVJDSEFSIG9mZmljZV9udW1iZXIgICAgIH0KCiAgICBDbGFzc2VzIHsKICAgICAgICBJTlRFR0VSIGlkIFBLCiAgICAgICAgVkFSQ0hBUiBuYW1lCiAgICAgICAgVkFSQ0hBUiBkZXNjcmlwdGlvbgogICAgICAgIFZBUkNIQVIgbG9jYXRpb24KICAgICAgICBEQVRFIHN0YXJ0X2RhdGUKICAgICAgICBEQVRFIGVuZF9kYXRlICAgICB9CgogICAgRW5yb2xsbWVudHMgewogICAgICAgIElOVEVHRVIgcGVyc29uX2lkIFBLLCBGSwogICAgICAgIElOVEVHRVIgY2xhc3NfaWQgUEssIEZLCiAgICAgICAgQ0hBUiByb2xlICAgICB9CgogICAgUGVyc29ucyB8fC0tb3wgU3R1ZGVudHMgOiAiaXMgYSIKICAgIFBlcnNvbnMgfHwtLW98IEluc3RydWN0b3JzIDogImlzIGEiCiAgICBQZXJzb25zIHx8LS1veyBFbnJvbGxtZW50cyA6ICJ0ZWFjaGVzIG9yIHRha2VzIgogICAgQ2xhc3NlcyB8fC0tb3sgRW5yb2xsbWVudHMgOiAiaGFzIgogICAg\"/>"
            ],
            "text/plain": [
              "<IPython.core.display.Image object>"
            ]
          },
          "metadata": {}
        }
      ]
    },
    {
      "cell_type": "markdown",
      "source": [
        "### Querying Supertypes and Subtypes\n",
        "\n",
        "Querying supertypes and subtypes involves using joins. For example, to get the names and codenames of all students, we would do:\n",
        "\n",
        "```sql\n",
        "-- Since we don't have any data yet, we can't run this!\n",
        "SELECT p.name, s.codename\n",
        "FROM persons p\n",
        "JOIN students s ON p.id = s.person_id;\n",
        "```\n",
        "\n",
        "And to get all people (both students and instructors) enrolled in a specific class:\n",
        "\n",
        "```sql\n",
        "SELECT p.name, e.role\n",
        "FROM persons p\n",
        "JOIN enrollments e ON p.id = e.person_id\n",
        "WHERE e.class_id = 1;\n",
        "```\n",
        "\n",
        "Supertypes and subtypes allow us to model inheritance relationships in our database, reducing data redundancy and making our schema more flexible. They're a powerful tool in database design when used appropriately."
      ],
      "metadata": {
        "id": "tbGQ7hMiKPFH"
      }
    },
    {
      "cell_type": "code",
      "source": [
        "%%sql\n",
        "--get PRAGMA for Classes\n",
        "PRAGMA table_info(Classes);"
      ],
      "metadata": {
        "colab": {
          "base_uri": "https://localhost:8080/",
          "height": 221
        },
        "id": "xk2SGZwyJqg0",
        "outputId": "8f152566-4827-4d9e-fa92-b6eb3820fd98"
      },
      "execution_count": null,
      "outputs": [
        {
          "output_type": "stream",
          "name": "stdout",
          "text": [
            " * sqlite:///covert_academy.db\n",
            "Done.\n"
          ]
        },
        {
          "output_type": "execute_result",
          "data": {
            "text/plain": [
              "[(0, 'ID', 'INTEGER', 0, None, 1),\n",
              " (1, 'Name', 'VARCHAR(100)', 1, None, 0),\n",
              " (2, 'Description', 'VARCHAR(200)', 0, None, 0),\n",
              " (3, 'Instructor', 'VARCHAR(100)', 1, None, 0),\n",
              " (4, 'Location', 'VARCHAR(100)', 0, None, 0),\n",
              " (5, 'StartDate', 'DATE', 0, None, 0),\n",
              " (6, 'EndDate', 'DATE', 0, None, 0)]"
            ],
            "text/html": [
              "<table>\n",
              "    <thead>\n",
              "        <tr>\n",
              "            <th>cid</th>\n",
              "            <th>name</th>\n",
              "            <th>type</th>\n",
              "            <th>notnull</th>\n",
              "            <th>dflt_value</th>\n",
              "            <th>pk</th>\n",
              "        </tr>\n",
              "    </thead>\n",
              "    <tbody>\n",
              "        <tr>\n",
              "            <td>0</td>\n",
              "            <td>ID</td>\n",
              "            <td>INTEGER</td>\n",
              "            <td>0</td>\n",
              "            <td>None</td>\n",
              "            <td>1</td>\n",
              "        </tr>\n",
              "        <tr>\n",
              "            <td>1</td>\n",
              "            <td>Name</td>\n",
              "            <td>VARCHAR(100)</td>\n",
              "            <td>1</td>\n",
              "            <td>None</td>\n",
              "            <td>0</td>\n",
              "        </tr>\n",
              "        <tr>\n",
              "            <td>2</td>\n",
              "            <td>Description</td>\n",
              "            <td>VARCHAR(200)</td>\n",
              "            <td>0</td>\n",
              "            <td>None</td>\n",
              "            <td>0</td>\n",
              "        </tr>\n",
              "        <tr>\n",
              "            <td>3</td>\n",
              "            <td>Instructor</td>\n",
              "            <td>VARCHAR(100)</td>\n",
              "            <td>1</td>\n",
              "            <td>None</td>\n",
              "            <td>0</td>\n",
              "        </tr>\n",
              "        <tr>\n",
              "            <td>4</td>\n",
              "            <td>Location</td>\n",
              "            <td>VARCHAR(100)</td>\n",
              "            <td>0</td>\n",
              "            <td>None</td>\n",
              "            <td>0</td>\n",
              "        </tr>\n",
              "        <tr>\n",
              "            <td>5</td>\n",
              "            <td>StartDate</td>\n",
              "            <td>DATE</td>\n",
              "            <td>0</td>\n",
              "            <td>None</td>\n",
              "            <td>0</td>\n",
              "        </tr>\n",
              "        <tr>\n",
              "            <td>6</td>\n",
              "            <td>EndDate</td>\n",
              "            <td>DATE</td>\n",
              "            <td>0</td>\n",
              "            <td>None</td>\n",
              "            <td>0</td>\n",
              "        </tr>\n",
              "    </tbody>\n",
              "</table>"
            ]
          },
          "metadata": {},
          "execution_count": 25
        }
      ]
    },
    {
      "cell_type": "markdown",
      "source": [
        "## Inserting Sample Data\n",
        "In the next chapter, we'll cover inserting data in much more detail. For now, though, here are a few rows of data so that we can test our database."
      ],
      "metadata": {
        "id": "7xbRkC84KvbZ"
      }
    },
    {
      "cell_type": "code",
      "source": [
        "%%sql\n",
        "-- Insert data into the Persons table\n",
        "DELETE FROM Persons;\n",
        "INSERT INTO Persons (Name, date_of_birth, Nationality)\n",
        "VALUES\n",
        "    ('James Bond', '1920-11-11', 'British'),\n",
        "    ('Ethan Hunt', '1964-08-18', 'American'),\n",
        "    ('Jason Bourne', '1970-09-13', 'American'),\n",
        "    ('Natasha Romanoff', '1984-11-22', 'Russian'),\n",
        "    ('Harry Hart', '1960-09-17', 'British'),\n",
        "    ('Lorraine Broughton', '1990-11-10', 'British'),\n",
        "    ('Evelyn Salt', '1980-09-14', 'American');\n",
        "\n",
        "-- Insert data into the Students table\n",
        "DELETE FROM Students;\n",
        "INSERT INTO Students (person_id, codename, specialization)\n",
        "VALUES\n",
        "    (1, '007', 'Covert Operations'),\n",
        "    (2, 'Raptor', 'Infiltration'),\n",
        "    (4, 'Black Widow', 'Assassination'),\n",
        "    (6, 'Wisdom', 'Counter-Intelligence');\n",
        "\n",
        "-- Insert data into the Instructors table\n",
        "DELETE FROM Instructors;\n",
        "INSERT INTO Instructors (person_id, office_number)\n",
        "VALUES\n",
        "    (3, '101A'),\n",
        "    (5, '221B'),\n",
        "    (7, 'X-7');\n",
        "\n",
        "-- Insert data into the Classes table\n",
        "DELETE FROM Classes;\n",
        "INSERT INTO Classes (name, description, start_date, end_date)\n",
        "VALUES\n",
        "    ('Espionage 101', 'Introduction to Spying', '2023-09-01', '2023-12-15'),\n",
        "    ('Advanced Disguise', 'Becoming Anyone', '2023-09-01', '2023-11-30'),\n",
        "    ('Infiltration Tactics', 'Getting In and Out', '2023-10-15', '2024-01-15'),\n",
        "    ('Weapons Training', 'From Pens to Rocket Launchers', '2024-01-15', '2024-04-30');\n",
        "\n",
        "-- Insert data into the Enrollments table\n",
        "DELETE FROM Enrollments;\n",
        "INSERT INTO Enrollments (person_id, class_iD, role)\n",
        "VALUES\n",
        "    (1, 1, 'S'),\n",
        "    (2, 1, 'S'),\n",
        "    (3, 1, 'I'),\n",
        "    (4, 2, 'S'),\n",
        "    (5, 2, 'I'),\n",
        "    (6, 3, 'S'),\n",
        "    (7, 3, 'I'),\n",
        "    (1, 4, 'S'),\n",
        "    (2, 4, 'S'),\n",
        "    (4, 4, 'S'),\n",
        "    (5, 4, 'I');"
      ],
      "metadata": {
        "colab": {
          "base_uri": "https://localhost:8080/"
        },
        "id": "0z_R1bP5K6qU",
        "outputId": "c0d0d3ea-3bd6-490c-8fb1-8e81e6b99730"
      },
      "execution_count": null,
      "outputs": [
        {
          "output_type": "stream",
          "name": "stdout",
          "text": [
            " * sqlite:///covert_academy.db\n",
            "7 rows affected.\n",
            "7 rows affected.\n",
            "4 rows affected.\n",
            "4 rows affected.\n",
            "3 rows affected.\n",
            "3 rows affected.\n",
            "4 rows affected.\n",
            "4 rows affected.\n",
            "0 rows affected.\n",
            "11 rows affected.\n"
          ]
        },
        {
          "output_type": "execute_result",
          "data": {
            "text/plain": [
              "[]"
            ]
          },
          "metadata": {},
          "execution_count": 51
        }
      ]
    },
    {
      "cell_type": "markdown",
      "source": [
        "## Sample Queries\n",
        "Now, we can run some sample queries against the database. First, let's get a list of the students and the classes they are enrolled in."
      ],
      "metadata": {
        "id": "WrvvJsSORAkQ"
      }
    },
    {
      "cell_type": "code",
      "source": [
        "%%sql\n",
        "SELECT\n",
        "  s.codename,\n",
        "  c.name AS \"class_name\"\n",
        "FROM\n",
        "  Students s\n",
        "  JOIN Enrollments e ON s.person_id = e.person_id\n",
        "  JOIN Classes c ON e.class_id = c.id\n",
        "WHERE e.role = 'S';"
      ],
      "metadata": {
        "colab": {
          "base_uri": "https://localhost:8080/",
          "height": 221
        },
        "id": "P9JiT9b3RMNi",
        "outputId": "046bbd6f-8c43-4961-e142-2575ab67f166"
      },
      "execution_count": null,
      "outputs": [
        {
          "output_type": "stream",
          "name": "stdout",
          "text": [
            " * sqlite:///covert_academy.db\n",
            "Done.\n"
          ]
        },
        {
          "output_type": "execute_result",
          "data": {
            "text/plain": [
              "[('007', 'Espionage 101'),\n",
              " ('Raptor', 'Espionage 101'),\n",
              " ('Black Widow', 'Advanced Disguise'),\n",
              " ('Wisdom', 'Infiltration Tactics'),\n",
              " ('007', 'Weapons Training'),\n",
              " ('Raptor', 'Weapons Training'),\n",
              " ('Black Widow', 'Weapons Training')]"
            ],
            "text/html": [
              "<table>\n",
              "    <thead>\n",
              "        <tr>\n",
              "            <th>codename</th>\n",
              "            <th>class_name</th>\n",
              "        </tr>\n",
              "    </thead>\n",
              "    <tbody>\n",
              "        <tr>\n",
              "            <td>007</td>\n",
              "            <td>Espionage 101</td>\n",
              "        </tr>\n",
              "        <tr>\n",
              "            <td>Raptor</td>\n",
              "            <td>Espionage 101</td>\n",
              "        </tr>\n",
              "        <tr>\n",
              "            <td>Black Widow</td>\n",
              "            <td>Advanced Disguise</td>\n",
              "        </tr>\n",
              "        <tr>\n",
              "            <td>Wisdom</td>\n",
              "            <td>Infiltration Tactics</td>\n",
              "        </tr>\n",
              "        <tr>\n",
              "            <td>007</td>\n",
              "            <td>Weapons Training</td>\n",
              "        </tr>\n",
              "        <tr>\n",
              "            <td>Raptor</td>\n",
              "            <td>Weapons Training</td>\n",
              "        </tr>\n",
              "        <tr>\n",
              "            <td>Black Widow</td>\n",
              "            <td>Weapons Training</td>\n",
              "        </tr>\n",
              "    </tbody>\n",
              "</table>"
            ]
          },
          "metadata": {},
          "execution_count": 58
        }
      ]
    },
    {
      "cell_type": "markdown",
      "source": [
        "We could also alter this query to include the information about the student from the `Persons` table."
      ],
      "metadata": {
        "id": "sPsmWepVRhZa"
      }
    },
    {
      "cell_type": "code",
      "source": [
        "%%sql\n",
        "SELECT\n",
        "  p.name AS \"student_name\",\n",
        "  s.codename,\n",
        "  c.name AS \"class_name\"\n",
        "FROM\n",
        "  Students s\n",
        "  JOIN Enrollments e ON s.person_id = e.person_id\n",
        "  JOIN Classes c ON e.class_id = c.id\n",
        "  JOIN Persons p ON s.person_id = p.id\n",
        "WHERE e.role = 'S';"
      ],
      "metadata": {
        "colab": {
          "base_uri": "https://localhost:8080/",
          "height": 221
        },
        "id": "VS9ZS9HbRo4m",
        "outputId": "f33305b6-d0e9-4be2-b502-de466944f41a"
      },
      "execution_count": null,
      "outputs": [
        {
          "output_type": "stream",
          "name": "stdout",
          "text": [
            " * sqlite:///covert_academy.db\n",
            "Done.\n"
          ]
        },
        {
          "output_type": "execute_result",
          "data": {
            "text/plain": [
              "[('James Bond', '007', 'Espionage 101'),\n",
              " ('Ethan Hunt', 'Raptor', 'Espionage 101'),\n",
              " ('Natasha Romanoff', 'Black Widow', 'Advanced Disguise'),\n",
              " ('Lorraine Broughton', 'Wisdom', 'Infiltration Tactics'),\n",
              " ('James Bond', '007', 'Weapons Training'),\n",
              " ('Ethan Hunt', 'Raptor', 'Weapons Training'),\n",
              " ('Natasha Romanoff', 'Black Widow', 'Weapons Training')]"
            ],
            "text/html": [
              "<table>\n",
              "    <thead>\n",
              "        <tr>\n",
              "            <th>student_name</th>\n",
              "            <th>codename</th>\n",
              "            <th>class_name</th>\n",
              "        </tr>\n",
              "    </thead>\n",
              "    <tbody>\n",
              "        <tr>\n",
              "            <td>James Bond</td>\n",
              "            <td>007</td>\n",
              "            <td>Espionage 101</td>\n",
              "        </tr>\n",
              "        <tr>\n",
              "            <td>Ethan Hunt</td>\n",
              "            <td>Raptor</td>\n",
              "            <td>Espionage 101</td>\n",
              "        </tr>\n",
              "        <tr>\n",
              "            <td>Natasha Romanoff</td>\n",
              "            <td>Black Widow</td>\n",
              "            <td>Advanced Disguise</td>\n",
              "        </tr>\n",
              "        <tr>\n",
              "            <td>Lorraine Broughton</td>\n",
              "            <td>Wisdom</td>\n",
              "            <td>Infiltration Tactics</td>\n",
              "        </tr>\n",
              "        <tr>\n",
              "            <td>James Bond</td>\n",
              "            <td>007</td>\n",
              "            <td>Weapons Training</td>\n",
              "        </tr>\n",
              "        <tr>\n",
              "            <td>Ethan Hunt</td>\n",
              "            <td>Raptor</td>\n",
              "            <td>Weapons Training</td>\n",
              "        </tr>\n",
              "        <tr>\n",
              "            <td>Natasha Romanoff</td>\n",
              "            <td>Black Widow</td>\n",
              "            <td>Weapons Training</td>\n",
              "        </tr>\n",
              "    </tbody>\n",
              "</table>"
            ]
          },
          "metadata": {},
          "execution_count": 55
        }
      ]
    },
    {
      "cell_type": "markdown",
      "source": [
        "Or, we could get a count of the classes taught by each instructor."
      ],
      "metadata": {
        "id": "RNYMp71vR_-A"
      }
    },
    {
      "cell_type": "code",
      "source": [
        "%%sql\n",
        "SELECT\n",
        "  p.name AS \"instructor_name\",\n",
        "  COUNT(e.class_id) AS \"classes_taught\"\n",
        "FROM\n",
        "  Instructors i\n",
        "  JOIN Enrollments e ON i.person_id = e.person_id\n",
        "  JOIN Persons p ON i.person_id = p.id\n",
        "WHERE e.role = 'I'\n",
        "GROUP BY i.person_id;"
      ],
      "metadata": {
        "colab": {
          "base_uri": "https://localhost:8080/",
          "height": 137
        },
        "id": "B7xiyQSUSEcx",
        "outputId": "d2089343-f802-480c-a144-0d54c673f2cc"
      },
      "execution_count": null,
      "outputs": [
        {
          "output_type": "stream",
          "name": "stdout",
          "text": [
            " * sqlite:///covert_academy.db\n",
            "Done.\n"
          ]
        },
        {
          "output_type": "execute_result",
          "data": {
            "text/plain": [
              "[('Jason Bourne', 1), ('Harry Hart', 2), ('Evelyn Salt', 1)]"
            ],
            "text/html": [
              "<table>\n",
              "    <thead>\n",
              "        <tr>\n",
              "            <th>instructor_name</th>\n",
              "            <th>classes_taught</th>\n",
              "        </tr>\n",
              "    </thead>\n",
              "    <tbody>\n",
              "        <tr>\n",
              "            <td>Jason Bourne</td>\n",
              "            <td>1</td>\n",
              "        </tr>\n",
              "        <tr>\n",
              "            <td>Harry Hart</td>\n",
              "            <td>2</td>\n",
              "        </tr>\n",
              "        <tr>\n",
              "            <td>Evelyn Salt</td>\n",
              "            <td>1</td>\n",
              "        </tr>\n",
              "    </tbody>\n",
              "</table>"
            ]
          },
          "metadata": {},
          "execution_count": 57
        }
      ]
    },
    {
      "cell_type": "markdown",
      "source": [
        "## Lab: SQL Data Definition Langauge Practice\n",
        "\n"
      ],
      "metadata": {
        "id": "Ul24Rgs0Guxw"
      }
    },
    {
      "cell_type": "code",
      "source": [
        "!wget https://github.com/brendanpshea/database_sql/raw/main/sql_ddl_quiz/sql_ddl_quiz.py -q -nc\n",
        "from sql_ddl_quiz import *\n",
        "\n",
        "quiz_url = 'https://github.com/brendanpshea/database_sql/raw/main/sql_ddl_quiz/sqy_sql_ddl_quiz.json'\n",
        "sql_quiz = SQLDDLQuiz(quiz_url)"
      ],
      "metadata": {
        "id": "pkEs-ip9GxPz",
        "outputId": "dca1f4c0-62da-442f-ffdf-e5a6545a0cbe",
        "colab": {
          "base_uri": "https://localhost:8080/",
          "height": 491,
          "referenced_widgets": [
            "90f4fa901d2f4d699c1665fa364b6438",
            "17223f4ead5346e8b253143e5ad61c24",
            "e9c548db84d243229b3034ddb16f5457",
            "f6bd4d4e0acc4bb69694fde21a97c93d",
            "b36e421d8814461d803e461095e60853",
            "184cb0bcc9324c3492efd3dbd89c4c90",
            "7a034eb495874e76bc6dbf23c9e1d2bf",
            "9b56751ac2894476a7d117e8da50b2cd",
            "fdb4b8dac0284467a5494aacd553102d",
            "36ec32cd40e74d7d8383771c0f73b368",
            "1dbc8b42752a4787ad6dc8d4790a2ce6",
            "c94df45af29740caa3e02387f4d3957f",
            "07ac6be4cd8f4bedb82c2e8270590668",
            "2e218d831af64ff49e1ef8d350308894",
            "7ac94be89b2b4f0cb9100f1d364980d8",
            "519672aa2c6f48018b8d586b3b8b5ca2",
            "c218a87d4f544f16bf2786e28164d09a",
            "37e362583d64431cbdaacfdd03b5fd77",
            "7815c7e2283a44d8b09057528622b313",
            "945a25d65b2042558ae1f5b64759e5f6",
            "1426dadb481744d09d4a736355c92e35",
            "16ea4ac8cd014659a25cdde91f82406e",
            "c7a6bd55bd8f42a68189b534275b7370",
            "1b98024f9f21493ea6a415ff12814996",
            "f865e7c5c1154cb1a5bedb78c825bd05",
            "987500b0d279425d849408e754a327c4",
            "7882f910369a420184c5b0dbdedfdeda",
            "2adf021b1ab649a49c39f1e7da39fc62",
            "232a1c689a8a46be8ee0112a9bf39da6",
            "4e98e1d9b3a84786867ad342f541533c",
            "54b31160bcf6494299d34ab06f69691c",
            "102678df8a10445c974929e1defe4681",
            "40675a08e3984eef9e660dceb10b087b",
            "ab2b85044fa84544bfa570d418622e8d",
            "44001190c0634677b8a90b734b4650e7",
            "9f90e9dd0df54c40ac5836ee9353d576",
            "f1019d268c5e49c7981cb31f5c364d23",
            "87729eaf63024ad0b4cb7e3da255cbb8",
            "c032fa42081a44d39dda357d94c0b7e8",
            "f1bfbe9ad6eb406787ebd4dfc5b65b6c",
            "1530ba0749a641d4b6af1702a163e297",
            "2a44dc5f45fe4acb820d41f1f15df031",
            "f92a727587364c7980a38980bc48ff44",
            "412ca83a107a49eaac6cf9c1e420e172",
            "26f1065e937a4296a74a64adc3dc25b9",
            "8da7d699f00d43158e0ba667b09dd277"
          ]
        }
      },
      "execution_count": 1,
      "outputs": [
        {
          "output_type": "display_data",
          "data": {
            "text/plain": [
              "Tab(children=(VBox(children=(IntProgress(value=0, bar_style='info', description='Progress:', layout=Layout(wid…"
            ],
            "application/vnd.jupyter.widget-view+json": {
              "version_major": 2,
              "version_minor": 0,
              "model_id": "90f4fa901d2f4d699c1665fa364b6438"
            }
          },
          "metadata": {}
        }
      ]
    },
    {
      "cell_type": "markdown",
      "source": [
        "## Summary\n",
        "-   Database design is a crucial process that ensures the efficient storage, retrieval, and management of data in a database.\n",
        "-   The process of database design consists of three main phases: conceptual modeling, logical modeling, and physical modeling.\n",
        "-   Conceptual modeling focuses on identifying the key entities, attributes, and relationships in the database, without worrying about the specific implementation details.\n",
        "-   Logical modeling involves refining the conceptual model by introducing concepts like keys, normalization, and join tables to ensure data integrity and avoid redundancy.\n",
        "-   Physical modeling involves using SQL statements to actually create the tables and define their structure, constraints, and relationships in the database.\n",
        "-   Keys, such as primary keys and foreign keys, are essential for ensuring uniqueness and establishing relationships between tables.\n",
        "-   Normalization is a technique used to reduce data redundancy and improve data integrity by organizing data into multiple tables based on their dependencies.\n",
        "-   Join tables are used to resolve many-to-many relationships between entities in the logical modeling phase.\n",
        "-   SQL statements like CREATE TABLE, DROP TABLE, and ALTER TABLE are used to create, modify, and delete tables in the physical modeling phase.\n",
        "-   Constraints, such as NOT NULL, UNIQUE, and CHECK, are used to enforce data integrity and consistency in the database.\n",
        "-   Supertypes and subtypes are used to model inheritance relationships between entities, allowing for more efficient storage and retrieval of data.\n",
        "-   Designing a database is an iterative process that requires careful planning, attention to detail, and a good understanding of the business requirements and data relationships."
      ],
      "metadata": {
        "id": "PW5G1RMUVElX"
      }
    },
    {
      "cell_type": "markdown",
      "source": [
        "## Review WIth QUizlet"
      ],
      "metadata": {
        "id": "sCGgtDyw614o"
      }
    },
    {
      "cell_type": "code",
      "source": [
        "%%html\n",
        "<iframe src=\"https://quizlet.com/930419891/learn/embed?i=psvlh&x=1jj1\" height=\"600\" width=\"100%\" style=\"border:0\"></iframe>"
      ],
      "metadata": {
        "id": "_UGKkONZ64TR",
        "outputId": "8f9db002-2117-48a4-f656-2168a6bc8ffa",
        "colab": {
          "base_uri": "https://localhost:8080/",
          "height": 621
        }
      },
      "execution_count": null,
      "outputs": [
        {
          "output_type": "display_data",
          "data": {
            "text/plain": [
              "<IPython.core.display.HTML object>"
            ],
            "text/html": [
              "<iframe src=\"https://quizlet.com/930419891/learn/embed?i=psvlh&x=1jj1\" height=\"600\" width=\"100%\" style=\"border:0\"></iframe>\n"
            ]
          },
          "metadata": {}
        }
      ]
    },
    {
      "cell_type": "markdown",
      "source": [
        "## Glossary\n",
        "\n",
        "| Term | Definition |\n",
        "|------|------------|\n",
        "| ALTER TABLE t ADD COLUMN c | SQL command to add a new column to an existing table. |\n",
        "| ALTER TABLE t DROP COLUMN c | SQL command to remove a column from an existing table. |\n",
        "| ALTER TABLE t RENAME TO t2 | SQL command to change the name of an existing table. |\n",
        "| ANSI | American National Standards Institute, which sets standards for various technologies, including SQL. |\n",
        "| Attributes (Crow's foot ERD) | Characteristics or properties of entities that appear as text within boxes. |\n",
        "| BLOB | Binary Large Object, a data type for storing large binary objects such as images or files in a database. |\n",
        "| Business rule | A statement that defines or constrains some aspect of business structure or behavior. |\n",
        "| CHAR(n) | Fixed-length character string data type, where n specifies the number of characters. |\n",
        "| CHECK | A constraint that specifies a condition that must be true for each row in a table. |\n",
        "| col_name datatype PRIMARY KEY | SQL syntax to define a column as the primary key when creating a table. |\n",
        "| Conceptual model | High-level representation of data and relationships in a system, independent of physical implementation details. |\n",
        "| CREATE TABLE | SQL command used to create a new table in a database. |\n",
        "| DATE | Data type for storing date values (typically year, month, and day). |\n",
        "| Descriptive process | Approach to database design that starts with existing data structures and refines them. |\n",
        "| DROP TABLE | SQL command to remove an existing table and all its data from the database. |\n",
        "| DROP TABLE t if exists | SQL command to remove a table only if it exists, preventing errors if the table doesn't exist. |\n",
        "| Entities (Crow's foot ERD) | Distinct objects or concepts represented as boxes |\n",
        "| First normal form (1NF) | A set of rules in database normalization that eliminates repeating groups and ensures atomic values. |\n",
        "| FOREIGN KEY (c1) REFERENCES t (c2) | SQL constraint defining a column as a foreign key referencing another table's column. |\n",
        "| INTEGER | Data type for storing whole numbers without fractional components. |\n",
        "| ISO | International Organization for Standardization, which publishes standards for various technologies, including SQL. |\n",
        "| JSONB | PostgreSQL data type for storing JSON data in a binary format, allowing for efficient querying and indexing. |\n",
        "| Logical model | Detailed representation of data structures and relationships, independent of a specific database management system. |\n",
        "| Natural key | A unique identifier for a database record that is formed from existing attributes with real-world meaning. |\n",
        "| Normalization | Process of organizing data to reduce redundancy and improve data integrity. |\n",
        "| Normative process | Approach to database design that starts with requirements and builds the structure from scratch. |\n",
        "| NOT NULL | Constraint that ensures a column cannot contain null (empty) values. |\n",
        "| Physical model | Representation of database design as implemented in a specific database management system. |\n",
        "| PRIMARY KEY | Constraint that uniquely identifies each record in a database table. |\n",
        "| REAL | Data type for storing single precision floating-point numbers. |\n",
        "| Relationships (Crow's foot ERD) | Connections between entities in a Crow's Foot Entity-Relationship Diagram, represented as lines |\n",
        "| Second normal form (2NF) | Normalization level that builds on 1NF and eliminates partial dependencies on the primary key. |\n",
        "| Surrogate key | Artificial identifier assigned to an entity as a substitute for a natural key. |\n",
        "| TEXT | Data type for storing variable-length character strings, typically with no specified maximum length. |\n",
        "| Third normal form (3NF) | Normalization level that builds on 2NF and eliminates transitive dependencies. |\n",
        "| TIME | Data type for storing time values (typically hour, minute, second). |\n",
        "| UNIQUE | Constraint ensuring all values in a column or set of columns are distinct from one another. |\n",
        "| VARCHAR(n) | Variable-length character string data type, where n specifies the maximum number of characters. |"
      ],
      "metadata": {
        "id": "KwvY67NH6QKG"
      }
    },
    {
      "cell_type": "code",
      "source": [],
      "metadata": {
        "id": "3EPDcB4iVULJ"
      },
      "execution_count": null,
      "outputs": []
    }
  ]
}