{
  "nbformat": 4,
  "nbformat_minor": 0,
  "metadata": {
    "colab": {
      "provenance": [],
      "authorship_tag": "ABX9TyNr6jgiU7XTWBRqeXUc7A3Y",
      "include_colab_link": true
    },
    "kernelspec": {
      "name": "python3",
      "display_name": "Python 3"
    },
    "language_info": {
      "name": "python"
    },
    "widgets": {
      "application/vnd.jupyter.widget-state+json": {
        "d1c1107ceb364ea9af075a294c0a7bee": {
          "model_module": "@jupyter-widgets/controls",
          "model_name": "TabModel",
          "model_module_version": "1.5.0",
          "state": {
            "_dom_classes": [],
            "_model_module": "@jupyter-widgets/controls",
            "_model_module_version": "1.5.0",
            "_model_name": "TabModel",
            "_titles": {
              "0": "Quiz",
              "1": "View Tables"
            },
            "_view_count": null,
            "_view_module": "@jupyter-widgets/controls",
            "_view_module_version": "1.5.0",
            "_view_name": "TabView",
            "box_style": "",
            "children": [
              "IPY_MODEL_98f36ff6d816417faf79a721315bd939",
              "IPY_MODEL_cd1cebabdb204e438f15a16cebbf897f"
            ],
            "layout": "IPY_MODEL_12e8490738e54135925ab7bfaefd9146",
            "selected_index": 0
          }
        },
        "98f36ff6d816417faf79a721315bd939": {
          "model_module": "@jupyter-widgets/controls",
          "model_name": "VBoxModel",
          "model_module_version": "1.5.0",
          "state": {
            "_dom_classes": [],
            "_model_module": "@jupyter-widgets/controls",
            "_model_module_version": "1.5.0",
            "_model_name": "VBoxModel",
            "_view_count": null,
            "_view_module": "@jupyter-widgets/controls",
            "_view_module_version": "1.5.0",
            "_view_name": "VBoxView",
            "box_style": "",
            "children": [
              "IPY_MODEL_42d83bca55704da296e71420ef3d3983",
              "IPY_MODEL_395362e5951640d5a440d20c7b021b37",
              "IPY_MODEL_17502cd26deb467fb83a209814238edc",
              "IPY_MODEL_10781eeae0a544f8acdfb3397f5525b3",
              "IPY_MODEL_4918ce5328f84d8493dbad4ea66ec60d",
              "IPY_MODEL_cf40a2d17723461aade263c4db1af23e",
              "IPY_MODEL_5c620decdf0e4a68828c7f4dd9bf3f4f"
            ],
            "layout": "IPY_MODEL_173baed7d20d417a823dc216eeb89ad8"
          }
        },
        "cd1cebabdb204e438f15a16cebbf897f": {
          "model_module": "@jupyter-widgets/controls",
          "model_name": "VBoxModel",
          "model_module_version": "1.5.0",
          "state": {
            "_dom_classes": [],
            "_model_module": "@jupyter-widgets/controls",
            "_model_module_version": "1.5.0",
            "_model_name": "VBoxModel",
            "_view_count": null,
            "_view_module": "@jupyter-widgets/controls",
            "_view_module_version": "1.5.0",
            "_view_name": "VBoxView",
            "box_style": "",
            "children": [
              "IPY_MODEL_a81ba45f819b401e9d9364dbe06ed939",
              "IPY_MODEL_4374b244014d493081ac576c01ad9368"
            ],
            "layout": "IPY_MODEL_ec7b3d740cce4a5ab80212f991bc7996"
          }
        },
        "12e8490738e54135925ab7bfaefd9146": {
          "model_module": "@jupyter-widgets/base",
          "model_name": "LayoutModel",
          "model_module_version": "1.2.0",
          "state": {
            "_model_module": "@jupyter-widgets/base",
            "_model_module_version": "1.2.0",
            "_model_name": "LayoutModel",
            "_view_count": null,
            "_view_module": "@jupyter-widgets/base",
            "_view_module_version": "1.2.0",
            "_view_name": "LayoutView",
            "align_content": null,
            "align_items": null,
            "align_self": null,
            "border": null,
            "bottom": null,
            "display": null,
            "flex": null,
            "flex_flow": null,
            "grid_area": null,
            "grid_auto_columns": null,
            "grid_auto_flow": null,
            "grid_auto_rows": null,
            "grid_column": null,
            "grid_gap": null,
            "grid_row": null,
            "grid_template_areas": null,
            "grid_template_columns": null,
            "grid_template_rows": null,
            "height": null,
            "justify_content": null,
            "justify_items": null,
            "left": null,
            "margin": null,
            "max_height": null,
            "max_width": null,
            "min_height": null,
            "min_width": null,
            "object_fit": null,
            "object_position": null,
            "order": null,
            "overflow": null,
            "overflow_x": null,
            "overflow_y": null,
            "padding": null,
            "right": null,
            "top": null,
            "visibility": null,
            "width": null
          }
        },
        "42d83bca55704da296e71420ef3d3983": {
          "model_module": "@jupyter-widgets/controls",
          "model_name": "IntProgressModel",
          "model_module_version": "1.5.0",
          "state": {
            "_dom_classes": [],
            "_model_module": "@jupyter-widgets/controls",
            "_model_module_version": "1.5.0",
            "_model_name": "IntProgressModel",
            "_view_count": null,
            "_view_module": "@jupyter-widgets/controls",
            "_view_module_version": "1.5.0",
            "_view_name": "ProgressView",
            "bar_style": "info",
            "description": "Progress:",
            "description_tooltip": null,
            "layout": "IPY_MODEL_99804c4a46214814aea966ad389df07d",
            "max": 100,
            "min": 0,
            "orientation": "horizontal",
            "style": "IPY_MODEL_682db133e0cc403399821f97a4929af0",
            "value": 0
          }
        },
        "395362e5951640d5a440d20c7b021b37": {
          "model_module": "@jupyter-widgets/controls",
          "model_name": "HBoxModel",
          "model_module_version": "1.5.0",
          "state": {
            "_dom_classes": [],
            "_model_module": "@jupyter-widgets/controls",
            "_model_module_version": "1.5.0",
            "_model_name": "HBoxModel",
            "_view_count": null,
            "_view_module": "@jupyter-widgets/controls",
            "_view_module_version": "1.5.0",
            "_view_name": "HBoxView",
            "box_style": "",
            "children": [
              "IPY_MODEL_6448d341c89b401e9191a05986367ba6",
              "IPY_MODEL_d4ee353f43e14c38befc7cfec6874de0"
            ],
            "layout": "IPY_MODEL_794f37c9f0d74cdf8e593e5c8820c524"
          }
        },
        "17502cd26deb467fb83a209814238edc": {
          "model_module": "@jupyter-widgets/controls",
          "model_name": "HTMLModel",
          "model_module_version": "1.5.0",
          "state": {
            "_dom_classes": [],
            "_model_module": "@jupyter-widgets/controls",
            "_model_module_version": "1.5.0",
            "_model_name": "HTMLModel",
            "_view_count": null,
            "_view_module": "@jupyter-widgets/controls",
            "_view_module_version": "1.5.0",
            "_view_name": "HTMLView",
            "description": "",
            "description_tooltip": null,
            "layout": "IPY_MODEL_f32cf94cc9074519a3ffcd339c1e991a",
            "placeholder": "​",
            "style": "IPY_MODEL_2262653ab27d40d5825a04be95c32975",
            "value": "<h2>Question 30 of 39:</h2><p>Design a table named \"agent_performance\" with an integer primary key 'performance_id', an integer column 'agent_id' linking to an agent, a date column 'evaluation_date' for the date of evaluation, a numeric column 'score' between 0 and 100 inclusive, enforced by a CHECK constraint. 'agent_id' is a foreign key referencing 'agent_id' in the \"agents\" table.</p>"
          }
        },
        "10781eeae0a544f8acdfb3397f5525b3": {
          "model_module": "@jupyter-widgets/controls",
          "model_name": "TextareaModel",
          "model_module_version": "1.5.0",
          "state": {
            "_dom_classes": [],
            "_model_module": "@jupyter-widgets/controls",
            "_model_module_version": "1.5.0",
            "_model_name": "TextareaModel",
            "_view_count": null,
            "_view_module": "@jupyter-widgets/controls",
            "_view_module_version": "1.5.0",
            "_view_name": "TextareaView",
            "continuous_update": true,
            "description": "Your SQL:",
            "description_tooltip": null,
            "disabled": false,
            "layout": "IPY_MODEL_394babdfdf9247799af026db3cc7a41b",
            "placeholder": "-- Write your SQL query here",
            "rows": null,
            "style": "IPY_MODEL_308ac9f4cb2247df9e6ea7400aee92b5",
            "value": ""
          }
        },
        "4918ce5328f84d8493dbad4ea66ec60d": {
          "model_module": "@jupyter-widgets/controls",
          "model_name": "HBoxModel",
          "model_module_version": "1.5.0",
          "state": {
            "_dom_classes": [],
            "_model_module": "@jupyter-widgets/controls",
            "_model_module_version": "1.5.0",
            "_model_name": "HBoxModel",
            "_view_count": null,
            "_view_module": "@jupyter-widgets/controls",
            "_view_module_version": "1.5.0",
            "_view_name": "HBoxView",
            "box_style": "",
            "children": [
              "IPY_MODEL_9ef721c0cad7412bac8e766de61fb189",
              "IPY_MODEL_75839d70e2a946d09a27be7be930d18e",
              "IPY_MODEL_f4d9667dbd5a4441af4f419b27af54d1"
            ],
            "layout": "IPY_MODEL_1add62dd1bed406fa4ad9c3eef39fe69"
          }
        },
        "cf40a2d17723461aade263c4db1af23e": {
          "model_module": "@jupyter-widgets/output",
          "model_name": "OutputModel",
          "model_module_version": "1.0.0",
          "state": {
            "_dom_classes": [],
            "_model_module": "@jupyter-widgets/output",
            "_model_module_version": "1.0.0",
            "_model_name": "OutputModel",
            "_view_count": null,
            "_view_module": "@jupyter-widgets/output",
            "_view_module_version": "1.0.0",
            "_view_name": "OutputView",
            "layout": "IPY_MODEL_1c1aa06931504c0b99d41cb2231d72ed",
            "msg_id": "",
            "outputs": []
          }
        },
        "5c620decdf0e4a68828c7f4dd9bf3f4f": {
          "model_module": "@jupyter-widgets/output",
          "model_name": "OutputModel",
          "model_module_version": "1.0.0",
          "state": {
            "_dom_classes": [],
            "_model_module": "@jupyter-widgets/output",
            "_model_module_version": "1.0.0",
            "_model_name": "OutputModel",
            "_view_count": null,
            "_view_module": "@jupyter-widgets/output",
            "_view_module_version": "1.0.0",
            "_view_name": "OutputView",
            "layout": "IPY_MODEL_99ef433136034823a137fdbda313f6ed",
            "msg_id": "",
            "outputs": []
          }
        },
        "173baed7d20d417a823dc216eeb89ad8": {
          "model_module": "@jupyter-widgets/base",
          "model_name": "LayoutModel",
          "model_module_version": "1.2.0",
          "state": {
            "_model_module": "@jupyter-widgets/base",
            "_model_module_version": "1.2.0",
            "_model_name": "LayoutModel",
            "_view_count": null,
            "_view_module": "@jupyter-widgets/base",
            "_view_module_version": "1.2.0",
            "_view_name": "LayoutView",
            "align_content": null,
            "align_items": null,
            "align_self": null,
            "border": "solid 1px #ddd",
            "bottom": null,
            "display": null,
            "flex": null,
            "flex_flow": null,
            "grid_area": null,
            "grid_auto_columns": null,
            "grid_auto_flow": null,
            "grid_auto_rows": null,
            "grid_column": null,
            "grid_gap": null,
            "grid_row": null,
            "grid_template_areas": null,
            "grid_template_columns": null,
            "grid_template_rows": null,
            "height": null,
            "justify_content": null,
            "justify_items": null,
            "left": null,
            "margin": null,
            "max_height": null,
            "max_width": null,
            "min_height": null,
            "min_width": null,
            "object_fit": null,
            "object_position": null,
            "order": null,
            "overflow": null,
            "overflow_x": null,
            "overflow_y": null,
            "padding": "20px",
            "right": null,
            "top": null,
            "visibility": null,
            "width": "800px"
          }
        },
        "a81ba45f819b401e9d9364dbe06ed939": {
          "model_module": "@jupyter-widgets/controls",
          "model_name": "HTMLModel",
          "model_module_version": "1.5.0",
          "state": {
            "_dom_classes": [],
            "_model_module": "@jupyter-widgets/controls",
            "_model_module_version": "1.5.0",
            "_model_name": "HTMLModel",
            "_view_count": null,
            "_view_module": "@jupyter-widgets/controls",
            "_view_module_version": "1.5.0",
            "_view_name": "HTMLView",
            "description": "",
            "description_tooltip": null,
            "layout": "IPY_MODEL_2b8861b5c31b4f538880156d3796d92b",
            "placeholder": "​",
            "style": "IPY_MODEL_92dedb54406d4f7db8f69713497cfb42",
            "value": "<h2>Current Tables Content</h2>"
          }
        },
        "4374b244014d493081ac576c01ad9368": {
          "model_module": "@jupyter-widgets/output",
          "model_name": "OutputModel",
          "model_module_version": "1.0.0",
          "state": {
            "_dom_classes": [],
            "_model_module": "@jupyter-widgets/output",
            "_model_module_version": "1.0.0",
            "_model_name": "OutputModel",
            "_view_count": null,
            "_view_module": "@jupyter-widgets/output",
            "_view_module_version": "1.0.0",
            "_view_name": "OutputView",
            "layout": "IPY_MODEL_cd074bb99b034a18855e6326de708db9",
            "msg_id": "",
            "outputs": [
              {
                "output_type": "display_data",
                "data": {
                  "text/plain": "HTML(value='<h3>agents (Empty)</h3>')",
                  "application/vnd.jupyter.widget-view+json": {
                    "version_major": 2,
                    "version_minor": 0,
                    "model_id": "3600af774ef641c7b0b40e392e540858"
                  }
                },
                "metadata": {}
              }
            ]
          }
        },
        "ec7b3d740cce4a5ab80212f991bc7996": {
          "model_module": "@jupyter-widgets/base",
          "model_name": "LayoutModel",
          "model_module_version": "1.2.0",
          "state": {
            "_model_module": "@jupyter-widgets/base",
            "_model_module_version": "1.2.0",
            "_model_name": "LayoutModel",
            "_view_count": null,
            "_view_module": "@jupyter-widgets/base",
            "_view_module_version": "1.2.0",
            "_view_name": "LayoutView",
            "align_content": null,
            "align_items": null,
            "align_self": null,
            "border": "solid 1px #ddd",
            "bottom": null,
            "display": null,
            "flex": null,
            "flex_flow": null,
            "grid_area": null,
            "grid_auto_columns": null,
            "grid_auto_flow": null,
            "grid_auto_rows": null,
            "grid_column": null,
            "grid_gap": null,
            "grid_row": null,
            "grid_template_areas": null,
            "grid_template_columns": null,
            "grid_template_rows": null,
            "height": null,
            "justify_content": null,
            "justify_items": null,
            "left": null,
            "margin": null,
            "max_height": null,
            "max_width": null,
            "min_height": null,
            "min_width": null,
            "object_fit": null,
            "object_position": null,
            "order": null,
            "overflow": null,
            "overflow_x": null,
            "overflow_y": null,
            "padding": "20px",
            "right": null,
            "top": null,
            "visibility": null,
            "width": "800px"
          }
        },
        "99804c4a46214814aea966ad389df07d": {
          "model_module": "@jupyter-widgets/base",
          "model_name": "LayoutModel",
          "model_module_version": "1.2.0",
          "state": {
            "_model_module": "@jupyter-widgets/base",
            "_model_module_version": "1.2.0",
            "_model_name": "LayoutModel",
            "_view_count": null,
            "_view_module": "@jupyter-widgets/base",
            "_view_module_version": "1.2.0",
            "_view_name": "LayoutView",
            "align_content": null,
            "align_items": null,
            "align_self": null,
            "border": null,
            "bottom": null,
            "display": null,
            "flex": null,
            "flex_flow": null,
            "grid_area": null,
            "grid_auto_columns": null,
            "grid_auto_flow": null,
            "grid_auto_rows": null,
            "grid_column": null,
            "grid_gap": null,
            "grid_row": null,
            "grid_template_areas": null,
            "grid_template_columns": null,
            "grid_template_rows": null,
            "height": null,
            "justify_content": null,
            "justify_items": null,
            "left": null,
            "margin": null,
            "max_height": null,
            "max_width": null,
            "min_height": null,
            "min_width": null,
            "object_fit": null,
            "object_position": null,
            "order": null,
            "overflow": null,
            "overflow_x": null,
            "overflow_y": null,
            "padding": null,
            "right": null,
            "top": null,
            "visibility": null,
            "width": "100%"
          }
        },
        "682db133e0cc403399821f97a4929af0": {
          "model_module": "@jupyter-widgets/controls",
          "model_name": "ProgressStyleModel",
          "model_module_version": "1.5.0",
          "state": {
            "_model_module": "@jupyter-widgets/controls",
            "_model_module_version": "1.5.0",
            "_model_name": "ProgressStyleModel",
            "_view_count": null,
            "_view_module": "@jupyter-widgets/base",
            "_view_module_version": "1.2.0",
            "_view_name": "StyleView",
            "bar_color": null,
            "description_width": "initial"
          }
        },
        "6448d341c89b401e9191a05986367ba6": {
          "model_module": "@jupyter-widgets/controls",
          "model_name": "HTMLModel",
          "model_module_version": "1.5.0",
          "state": {
            "_dom_classes": [],
            "_model_module": "@jupyter-widgets/controls",
            "_model_module_version": "1.5.0",
            "_model_name": "HTMLModel",
            "_view_count": null,
            "_view_module": "@jupyter-widgets/controls",
            "_view_module_version": "1.5.0",
            "_view_name": "HTMLView",
            "description": "",
            "description_tooltip": null,
            "layout": "IPY_MODEL_cc9997a4780b4b4c97012f41b7eddaa3",
            "placeholder": "​",
            "style": "IPY_MODEL_c49e0fd3b9e44c0ca9f28f0abb5a2f6f",
            "value": "<h3>Table Schema:</h3><b>agents:</b><br><ul><li>agent_id (INTEGER)  PRIMARY KEY</li><li>codename (TEXT)  </li><li>name (TEXT) NOT NULL </li><li>status (TEXT)  </li></ul>"
          }
        },
        "d4ee353f43e14c38befc7cfec6874de0": {
          "model_module": "@jupyter-widgets/controls",
          "model_name": "DropdownModel",
          "model_module_version": "1.5.0",
          "state": {
            "_dom_classes": [],
            "_model_module": "@jupyter-widgets/controls",
            "_model_module_version": "1.5.0",
            "_model_name": "DropdownModel",
            "_options_labels": [
              "Question 1",
              "Question 2",
              "Question 3",
              "Question 4",
              "Question 5",
              "Question 6",
              "Question 7",
              "Question 8",
              "Question 9",
              "Question 10",
              "Question 11",
              "Question 12",
              "Question 13",
              "Question 14",
              "Question 15",
              "Question 16",
              "Question 17",
              "Question 18",
              "Question 19",
              "Question 20",
              "Question 21",
              "Question 22",
              "Question 23",
              "Question 24",
              "Question 25",
              "Question 26",
              "Question 27",
              "Question 28",
              "Question 29",
              "Question 30",
              "Question 31",
              "Question 32",
              "Question 33",
              "Question 34",
              "Question 35",
              "Question 36",
              "Question 37",
              "Question 38",
              "Question 39"
            ],
            "_view_count": null,
            "_view_module": "@jupyter-widgets/controls",
            "_view_module_version": "1.5.0",
            "_view_name": "DropdownView",
            "description": "Go to:",
            "description_tooltip": null,
            "disabled": false,
            "index": 29,
            "layout": "IPY_MODEL_2c005b96add14da0b7ea9527a5846742",
            "style": "IPY_MODEL_a42456645b87494d82bbae35e7f987dc"
          }
        },
        "794f37c9f0d74cdf8e593e5c8820c524": {
          "model_module": "@jupyter-widgets/base",
          "model_name": "LayoutModel",
          "model_module_version": "1.2.0",
          "state": {
            "_model_module": "@jupyter-widgets/base",
            "_model_module_version": "1.2.0",
            "_model_name": "LayoutModel",
            "_view_count": null,
            "_view_module": "@jupyter-widgets/base",
            "_view_module_version": "1.2.0",
            "_view_name": "LayoutView",
            "align_content": null,
            "align_items": null,
            "align_self": null,
            "border": null,
            "bottom": null,
            "display": null,
            "flex": null,
            "flex_flow": null,
            "grid_area": null,
            "grid_auto_columns": null,
            "grid_auto_flow": null,
            "grid_auto_rows": null,
            "grid_column": null,
            "grid_gap": null,
            "grid_row": null,
            "grid_template_areas": null,
            "grid_template_columns": null,
            "grid_template_rows": null,
            "height": null,
            "justify_content": "space-between",
            "justify_items": null,
            "left": null,
            "margin": null,
            "max_height": null,
            "max_width": null,
            "min_height": null,
            "min_width": null,
            "object_fit": null,
            "object_position": null,
            "order": null,
            "overflow": null,
            "overflow_x": null,
            "overflow_y": null,
            "padding": null,
            "right": null,
            "top": null,
            "visibility": null,
            "width": null
          }
        },
        "f32cf94cc9074519a3ffcd339c1e991a": {
          "model_module": "@jupyter-widgets/base",
          "model_name": "LayoutModel",
          "model_module_version": "1.2.0",
          "state": {
            "_model_module": "@jupyter-widgets/base",
            "_model_module_version": "1.2.0",
            "_model_name": "LayoutModel",
            "_view_count": null,
            "_view_module": "@jupyter-widgets/base",
            "_view_module_version": "1.2.0",
            "_view_name": "LayoutView",
            "align_content": null,
            "align_items": null,
            "align_self": null,
            "border": null,
            "bottom": null,
            "display": null,
            "flex": null,
            "flex_flow": null,
            "grid_area": null,
            "grid_auto_columns": null,
            "grid_auto_flow": null,
            "grid_auto_rows": null,
            "grid_column": null,
            "grid_gap": null,
            "grid_row": null,
            "grid_template_areas": null,
            "grid_template_columns": null,
            "grid_template_rows": null,
            "height": null,
            "justify_content": null,
            "justify_items": null,
            "left": null,
            "margin": null,
            "max_height": null,
            "max_width": null,
            "min_height": null,
            "min_width": null,
            "object_fit": null,
            "object_position": null,
            "order": null,
            "overflow": null,
            "overflow_x": null,
            "overflow_y": null,
            "padding": null,
            "right": null,
            "top": null,
            "visibility": null,
            "width": null
          }
        },
        "2262653ab27d40d5825a04be95c32975": {
          "model_module": "@jupyter-widgets/controls",
          "model_name": "DescriptionStyleModel",
          "model_module_version": "1.5.0",
          "state": {
            "_model_module": "@jupyter-widgets/controls",
            "_model_module_version": "1.5.0",
            "_model_name": "DescriptionStyleModel",
            "_view_count": null,
            "_view_module": "@jupyter-widgets/base",
            "_view_module_version": "1.2.0",
            "_view_name": "StyleView",
            "description_width": ""
          }
        },
        "394babdfdf9247799af026db3cc7a41b": {
          "model_module": "@jupyter-widgets/base",
          "model_name": "LayoutModel",
          "model_module_version": "1.2.0",
          "state": {
            "_model_module": "@jupyter-widgets/base",
            "_model_module_version": "1.2.0",
            "_model_name": "LayoutModel",
            "_view_count": null,
            "_view_module": "@jupyter-widgets/base",
            "_view_module_version": "1.2.0",
            "_view_name": "LayoutView",
            "align_content": null,
            "align_items": null,
            "align_self": null,
            "border": null,
            "bottom": null,
            "display": null,
            "flex": null,
            "flex_flow": null,
            "grid_area": null,
            "grid_auto_columns": null,
            "grid_auto_flow": null,
            "grid_auto_rows": null,
            "grid_column": null,
            "grid_gap": null,
            "grid_row": null,
            "grid_template_areas": null,
            "grid_template_columns": null,
            "grid_template_rows": null,
            "height": "120px",
            "justify_content": null,
            "justify_items": null,
            "left": null,
            "margin": null,
            "max_height": null,
            "max_width": null,
            "min_height": null,
            "min_width": null,
            "object_fit": null,
            "object_position": null,
            "order": null,
            "overflow": null,
            "overflow_x": null,
            "overflow_y": null,
            "padding": null,
            "right": null,
            "top": null,
            "visibility": null,
            "width": "100%"
          }
        },
        "308ac9f4cb2247df9e6ea7400aee92b5": {
          "model_module": "@jupyter-widgets/controls",
          "model_name": "DescriptionStyleModel",
          "model_module_version": "1.5.0",
          "state": {
            "_model_module": "@jupyter-widgets/controls",
            "_model_module_version": "1.5.0",
            "_model_name": "DescriptionStyleModel",
            "_view_count": null,
            "_view_module": "@jupyter-widgets/base",
            "_view_module_version": "1.2.0",
            "_view_name": "StyleView",
            "description_width": ""
          }
        },
        "9ef721c0cad7412bac8e766de61fb189": {
          "model_module": "@jupyter-widgets/controls",
          "model_name": "ButtonModel",
          "model_module_version": "1.5.0",
          "state": {
            "_dom_classes": [],
            "_model_module": "@jupyter-widgets/controls",
            "_model_module_version": "1.5.0",
            "_model_name": "ButtonModel",
            "_view_count": null,
            "_view_module": "@jupyter-widgets/controls",
            "_view_module_version": "1.5.0",
            "_view_name": "ButtonView",
            "button_style": "primary",
            "description": "Submit",
            "disabled": false,
            "icon": "",
            "layout": "IPY_MODEL_f1b7854efa36471ca6c3b7f3ba49d81d",
            "style": "IPY_MODEL_fc0274724802408894ba51463e116dd3",
            "tooltip": ""
          }
        },
        "75839d70e2a946d09a27be7be930d18e": {
          "model_module": "@jupyter-widgets/controls",
          "model_name": "ButtonModel",
          "model_module_version": "1.5.0",
          "state": {
            "_dom_classes": [],
            "_model_module": "@jupyter-widgets/controls",
            "_model_module_version": "1.5.0",
            "_model_name": "ButtonModel",
            "_view_count": null,
            "_view_module": "@jupyter-widgets/controls",
            "_view_module_version": "1.5.0",
            "_view_name": "ButtonView",
            "button_style": "warning",
            "description": "Retry",
            "disabled": false,
            "icon": "",
            "layout": "IPY_MODEL_fa4cff7a15974cf3a8b0c9601732303d",
            "style": "IPY_MODEL_34ffe3bc06c842f18e1c83f60024f8dc",
            "tooltip": ""
          }
        },
        "f4d9667dbd5a4441af4f419b27af54d1": {
          "model_module": "@jupyter-widgets/controls",
          "model_name": "ButtonModel",
          "model_module_version": "1.5.0",
          "state": {
            "_dom_classes": [],
            "_model_module": "@jupyter-widgets/controls",
            "_model_module_version": "1.5.0",
            "_model_name": "ButtonModel",
            "_view_count": null,
            "_view_module": "@jupyter-widgets/controls",
            "_view_module_version": "1.5.0",
            "_view_name": "ButtonView",
            "button_style": "success",
            "description": "Next",
            "disabled": false,
            "icon": "",
            "layout": "IPY_MODEL_bb8bcf5528b2484e8444640a521eff78",
            "style": "IPY_MODEL_9c63d199197344ec9cf30093dfc92dd8",
            "tooltip": ""
          }
        },
        "1add62dd1bed406fa4ad9c3eef39fe69": {
          "model_module": "@jupyter-widgets/base",
          "model_name": "LayoutModel",
          "model_module_version": "1.2.0",
          "state": {
            "_model_module": "@jupyter-widgets/base",
            "_model_module_version": "1.2.0",
            "_model_name": "LayoutModel",
            "_view_count": null,
            "_view_module": "@jupyter-widgets/base",
            "_view_module_version": "1.2.0",
            "_view_name": "LayoutView",
            "align_content": null,
            "align_items": null,
            "align_self": null,
            "border": null,
            "bottom": null,
            "display": null,
            "flex": null,
            "flex_flow": null,
            "grid_area": null,
            "grid_auto_columns": null,
            "grid_auto_flow": null,
            "grid_auto_rows": null,
            "grid_column": null,
            "grid_gap": null,
            "grid_row": null,
            "grid_template_areas": null,
            "grid_template_columns": null,
            "grid_template_rows": null,
            "height": null,
            "justify_content": "center",
            "justify_items": null,
            "left": null,
            "margin": null,
            "max_height": null,
            "max_width": null,
            "min_height": null,
            "min_width": null,
            "object_fit": null,
            "object_position": null,
            "order": null,
            "overflow": null,
            "overflow_x": null,
            "overflow_y": null,
            "padding": null,
            "right": null,
            "top": null,
            "visibility": null,
            "width": null
          }
        },
        "2b8861b5c31b4f538880156d3796d92b": {
          "model_module": "@jupyter-widgets/base",
          "model_name": "LayoutModel",
          "model_module_version": "1.2.0",
          "state": {
            "_model_module": "@jupyter-widgets/base",
            "_model_module_version": "1.2.0",
            "_model_name": "LayoutModel",
            "_view_count": null,
            "_view_module": "@jupyter-widgets/base",
            "_view_module_version": "1.2.0",
            "_view_name": "LayoutView",
            "align_content": null,
            "align_items": null,
            "align_self": null,
            "border": null,
            "bottom": null,
            "display": null,
            "flex": null,
            "flex_flow": null,
            "grid_area": null,
            "grid_auto_columns": null,
            "grid_auto_flow": null,
            "grid_auto_rows": null,
            "grid_column": null,
            "grid_gap": null,
            "grid_row": null,
            "grid_template_areas": null,
            "grid_template_columns": null,
            "grid_template_rows": null,
            "height": null,
            "justify_content": null,
            "justify_items": null,
            "left": null,
            "margin": null,
            "max_height": null,
            "max_width": null,
            "min_height": null,
            "min_width": null,
            "object_fit": null,
            "object_position": null,
            "order": null,
            "overflow": null,
            "overflow_x": null,
            "overflow_y": null,
            "padding": null,
            "right": null,
            "top": null,
            "visibility": null,
            "width": null
          }
        },
        "92dedb54406d4f7db8f69713497cfb42": {
          "model_module": "@jupyter-widgets/controls",
          "model_name": "DescriptionStyleModel",
          "model_module_version": "1.5.0",
          "state": {
            "_model_module": "@jupyter-widgets/controls",
            "_model_module_version": "1.5.0",
            "_model_name": "DescriptionStyleModel",
            "_view_count": null,
            "_view_module": "@jupyter-widgets/base",
            "_view_module_version": "1.2.0",
            "_view_name": "StyleView",
            "description_width": ""
          }
        },
        "cc9997a4780b4b4c97012f41b7eddaa3": {
          "model_module": "@jupyter-widgets/base",
          "model_name": "LayoutModel",
          "model_module_version": "1.2.0",
          "state": {
            "_model_module": "@jupyter-widgets/base",
            "_model_module_version": "1.2.0",
            "_model_name": "LayoutModel",
            "_view_count": null,
            "_view_module": "@jupyter-widgets/base",
            "_view_module_version": "1.2.0",
            "_view_name": "LayoutView",
            "align_content": null,
            "align_items": null,
            "align_self": null,
            "border": null,
            "bottom": null,
            "display": null,
            "flex": null,
            "flex_flow": null,
            "grid_area": null,
            "grid_auto_columns": null,
            "grid_auto_flow": null,
            "grid_auto_rows": null,
            "grid_column": null,
            "grid_gap": null,
            "grid_row": null,
            "grid_template_areas": null,
            "grid_template_columns": null,
            "grid_template_rows": null,
            "height": null,
            "justify_content": null,
            "justify_items": null,
            "left": null,
            "margin": null,
            "max_height": null,
            "max_width": null,
            "min_height": null,
            "min_width": null,
            "object_fit": null,
            "object_position": null,
            "order": null,
            "overflow": null,
            "overflow_x": null,
            "overflow_y": null,
            "padding": null,
            "right": null,
            "top": null,
            "visibility": null,
            "width": null
          }
        },
        "c49e0fd3b9e44c0ca9f28f0abb5a2f6f": {
          "model_module": "@jupyter-widgets/controls",
          "model_name": "DescriptionStyleModel",
          "model_module_version": "1.5.0",
          "state": {
            "_model_module": "@jupyter-widgets/controls",
            "_model_module_version": "1.5.0",
            "_model_name": "DescriptionStyleModel",
            "_view_count": null,
            "_view_module": "@jupyter-widgets/base",
            "_view_module_version": "1.2.0",
            "_view_name": "StyleView",
            "description_width": ""
          }
        },
        "2c005b96add14da0b7ea9527a5846742": {
          "model_module": "@jupyter-widgets/base",
          "model_name": "LayoutModel",
          "model_module_version": "1.2.0",
          "state": {
            "_model_module": "@jupyter-widgets/base",
            "_model_module_version": "1.2.0",
            "_model_name": "LayoutModel",
            "_view_count": null,
            "_view_module": "@jupyter-widgets/base",
            "_view_module_version": "1.2.0",
            "_view_name": "LayoutView",
            "align_content": null,
            "align_items": null,
            "align_self": null,
            "border": null,
            "bottom": null,
            "display": null,
            "flex": null,
            "flex_flow": null,
            "grid_area": null,
            "grid_auto_columns": null,
            "grid_auto_flow": null,
            "grid_auto_rows": null,
            "grid_column": null,
            "grid_gap": null,
            "grid_row": null,
            "grid_template_areas": null,
            "grid_template_columns": null,
            "grid_template_rows": null,
            "height": null,
            "justify_content": null,
            "justify_items": null,
            "left": null,
            "margin": null,
            "max_height": null,
            "max_width": null,
            "min_height": null,
            "min_width": null,
            "object_fit": null,
            "object_position": null,
            "order": null,
            "overflow": null,
            "overflow_x": null,
            "overflow_y": null,
            "padding": null,
            "right": null,
            "top": null,
            "visibility": null,
            "width": "200px"
          }
        },
        "a42456645b87494d82bbae35e7f987dc": {
          "model_module": "@jupyter-widgets/controls",
          "model_name": "DescriptionStyleModel",
          "model_module_version": "1.5.0",
          "state": {
            "_model_module": "@jupyter-widgets/controls",
            "_model_module_version": "1.5.0",
            "_model_name": "DescriptionStyleModel",
            "_view_count": null,
            "_view_module": "@jupyter-widgets/base",
            "_view_module_version": "1.2.0",
            "_view_name": "StyleView",
            "description_width": ""
          }
        },
        "f1b7854efa36471ca6c3b7f3ba49d81d": {
          "model_module": "@jupyter-widgets/base",
          "model_name": "LayoutModel",
          "model_module_version": "1.2.0",
          "state": {
            "_model_module": "@jupyter-widgets/base",
            "_model_module_version": "1.2.0",
            "_model_name": "LayoutModel",
            "_view_count": null,
            "_view_module": "@jupyter-widgets/base",
            "_view_module_version": "1.2.0",
            "_view_name": "LayoutView",
            "align_content": null,
            "align_items": null,
            "align_self": null,
            "border": null,
            "bottom": null,
            "display": "inline-block",
            "flex": null,
            "flex_flow": null,
            "grid_area": null,
            "grid_auto_columns": null,
            "grid_auto_flow": null,
            "grid_auto_rows": null,
            "grid_column": null,
            "grid_gap": null,
            "grid_row": null,
            "grid_template_areas": null,
            "grid_template_columns": null,
            "grid_template_rows": null,
            "height": null,
            "justify_content": null,
            "justify_items": null,
            "left": null,
            "margin": null,
            "max_height": null,
            "max_width": null,
            "min_height": null,
            "min_width": null,
            "object_fit": null,
            "object_position": null,
            "order": null,
            "overflow": null,
            "overflow_x": null,
            "overflow_y": null,
            "padding": null,
            "right": null,
            "top": null,
            "visibility": null,
            "width": "100px"
          }
        },
        "fc0274724802408894ba51463e116dd3": {
          "model_module": "@jupyter-widgets/controls",
          "model_name": "ButtonStyleModel",
          "model_module_version": "1.5.0",
          "state": {
            "_model_module": "@jupyter-widgets/controls",
            "_model_module_version": "1.5.0",
            "_model_name": "ButtonStyleModel",
            "_view_count": null,
            "_view_module": "@jupyter-widgets/base",
            "_view_module_version": "1.2.0",
            "_view_name": "StyleView",
            "button_color": null,
            "font_weight": ""
          }
        },
        "fa4cff7a15974cf3a8b0c9601732303d": {
          "model_module": "@jupyter-widgets/base",
          "model_name": "LayoutModel",
          "model_module_version": "1.2.0",
          "state": {
            "_model_module": "@jupyter-widgets/base",
            "_model_module_version": "1.2.0",
            "_model_name": "LayoutModel",
            "_view_count": null,
            "_view_module": "@jupyter-widgets/base",
            "_view_module_version": "1.2.0",
            "_view_name": "LayoutView",
            "align_content": null,
            "align_items": null,
            "align_self": null,
            "border": null,
            "bottom": null,
            "display": "none",
            "flex": null,
            "flex_flow": null,
            "grid_area": null,
            "grid_auto_columns": null,
            "grid_auto_flow": null,
            "grid_auto_rows": null,
            "grid_column": null,
            "grid_gap": null,
            "grid_row": null,
            "grid_template_areas": null,
            "grid_template_columns": null,
            "grid_template_rows": null,
            "height": null,
            "justify_content": null,
            "justify_items": null,
            "left": null,
            "margin": null,
            "max_height": null,
            "max_width": null,
            "min_height": null,
            "min_width": null,
            "object_fit": null,
            "object_position": null,
            "order": null,
            "overflow": null,
            "overflow_x": null,
            "overflow_y": null,
            "padding": null,
            "right": null,
            "top": null,
            "visibility": null,
            "width": "100px"
          }
        },
        "34ffe3bc06c842f18e1c83f60024f8dc": {
          "model_module": "@jupyter-widgets/controls",
          "model_name": "ButtonStyleModel",
          "model_module_version": "1.5.0",
          "state": {
            "_model_module": "@jupyter-widgets/controls",
            "_model_module_version": "1.5.0",
            "_model_name": "ButtonStyleModel",
            "_view_count": null,
            "_view_module": "@jupyter-widgets/base",
            "_view_module_version": "1.2.0",
            "_view_name": "StyleView",
            "button_color": null,
            "font_weight": ""
          }
        },
        "bb8bcf5528b2484e8444640a521eff78": {
          "model_module": "@jupyter-widgets/base",
          "model_name": "LayoutModel",
          "model_module_version": "1.2.0",
          "state": {
            "_model_module": "@jupyter-widgets/base",
            "_model_module_version": "1.2.0",
            "_model_name": "LayoutModel",
            "_view_count": null,
            "_view_module": "@jupyter-widgets/base",
            "_view_module_version": "1.2.0",
            "_view_name": "LayoutView",
            "align_content": null,
            "align_items": null,
            "align_self": null,
            "border": null,
            "bottom": null,
            "display": "none",
            "flex": null,
            "flex_flow": null,
            "grid_area": null,
            "grid_auto_columns": null,
            "grid_auto_flow": null,
            "grid_auto_rows": null,
            "grid_column": null,
            "grid_gap": null,
            "grid_row": null,
            "grid_template_areas": null,
            "grid_template_columns": null,
            "grid_template_rows": null,
            "height": null,
            "justify_content": null,
            "justify_items": null,
            "left": null,
            "margin": null,
            "max_height": null,
            "max_width": null,
            "min_height": null,
            "min_width": null,
            "object_fit": null,
            "object_position": null,
            "order": null,
            "overflow": null,
            "overflow_x": null,
            "overflow_y": null,
            "padding": null,
            "right": null,
            "top": null,
            "visibility": null,
            "width": "100px"
          }
        },
        "9c63d199197344ec9cf30093dfc92dd8": {
          "model_module": "@jupyter-widgets/controls",
          "model_name": "ButtonStyleModel",
          "model_module_version": "1.5.0",
          "state": {
            "_model_module": "@jupyter-widgets/controls",
            "_model_module_version": "1.5.0",
            "_model_name": "ButtonStyleModel",
            "_view_count": null,
            "_view_module": "@jupyter-widgets/base",
            "_view_module_version": "1.2.0",
            "_view_name": "StyleView",
            "button_color": null,
            "font_weight": ""
          }
        },
        "72373ab9d0464123ba808f27273d9a5b": {
          "model_module": "@jupyter-widgets/controls",
          "model_name": "HTMLModel",
          "model_module_version": "1.5.0",
          "state": {
            "_dom_classes": [],
            "_model_module": "@jupyter-widgets/controls",
            "_model_module_version": "1.5.0",
            "_model_name": "HTMLModel",
            "_view_count": null,
            "_view_module": "@jupyter-widgets/controls",
            "_view_module_version": "1.5.0",
            "_view_name": "HTMLView",
            "description": "",
            "description_tooltip": null,
            "layout": "IPY_MODEL_88746a56d75b4f1ba35a078a46e39840",
            "placeholder": "​",
            "style": "IPY_MODEL_be5fa7b3b2c2445c8de8017153c0aae8",
            "value": "<span>No tables available.</span>"
          }
        },
        "1c1aa06931504c0b99d41cb2231d72ed": {
          "model_module": "@jupyter-widgets/base",
          "model_name": "LayoutModel",
          "model_module_version": "1.2.0",
          "state": {
            "_model_module": "@jupyter-widgets/base",
            "_model_module_version": "1.2.0",
            "_model_name": "LayoutModel",
            "_view_count": null,
            "_view_module": "@jupyter-widgets/base",
            "_view_module_version": "1.2.0",
            "_view_name": "LayoutView",
            "align_content": null,
            "align_items": null,
            "align_self": null,
            "border": null,
            "bottom": null,
            "display": null,
            "flex": null,
            "flex_flow": null,
            "grid_area": null,
            "grid_auto_columns": null,
            "grid_auto_flow": null,
            "grid_auto_rows": null,
            "grid_column": null,
            "grid_gap": null,
            "grid_row": null,
            "grid_template_areas": null,
            "grid_template_columns": null,
            "grid_template_rows": null,
            "height": null,
            "justify_content": null,
            "justify_items": null,
            "left": null,
            "margin": null,
            "max_height": null,
            "max_width": null,
            "min_height": null,
            "min_width": null,
            "object_fit": null,
            "object_position": null,
            "order": null,
            "overflow": null,
            "overflow_x": null,
            "overflow_y": null,
            "padding": null,
            "right": null,
            "top": null,
            "visibility": null,
            "width": null
          }
        },
        "99ef433136034823a137fdbda313f6ed": {
          "model_module": "@jupyter-widgets/base",
          "model_name": "LayoutModel",
          "model_module_version": "1.2.0",
          "state": {
            "_model_module": "@jupyter-widgets/base",
            "_model_module_version": "1.2.0",
            "_model_name": "LayoutModel",
            "_view_count": null,
            "_view_module": "@jupyter-widgets/base",
            "_view_module_version": "1.2.0",
            "_view_name": "LayoutView",
            "align_content": null,
            "align_items": null,
            "align_self": null,
            "border": null,
            "bottom": null,
            "display": null,
            "flex": null,
            "flex_flow": null,
            "grid_area": null,
            "grid_auto_columns": null,
            "grid_auto_flow": null,
            "grid_auto_rows": null,
            "grid_column": null,
            "grid_gap": null,
            "grid_row": null,
            "grid_template_areas": null,
            "grid_template_columns": null,
            "grid_template_rows": null,
            "height": null,
            "justify_content": null,
            "justify_items": null,
            "left": null,
            "margin": null,
            "max_height": null,
            "max_width": null,
            "min_height": null,
            "min_width": null,
            "object_fit": null,
            "object_position": null,
            "order": null,
            "overflow": null,
            "overflow_x": null,
            "overflow_y": null,
            "padding": null,
            "right": null,
            "top": null,
            "visibility": null,
            "width": null
          }
        },
        "cd074bb99b034a18855e6326de708db9": {
          "model_module": "@jupyter-widgets/base",
          "model_name": "LayoutModel",
          "model_module_version": "1.2.0",
          "state": {
            "_model_module": "@jupyter-widgets/base",
            "_model_module_version": "1.2.0",
            "_model_name": "LayoutModel",
            "_view_count": null,
            "_view_module": "@jupyter-widgets/base",
            "_view_module_version": "1.2.0",
            "_view_name": "LayoutView",
            "align_content": null,
            "align_items": null,
            "align_self": null,
            "border": null,
            "bottom": null,
            "display": null,
            "flex": null,
            "flex_flow": null,
            "grid_area": null,
            "grid_auto_columns": null,
            "grid_auto_flow": null,
            "grid_auto_rows": null,
            "grid_column": null,
            "grid_gap": null,
            "grid_row": null,
            "grid_template_areas": null,
            "grid_template_columns": null,
            "grid_template_rows": null,
            "height": null,
            "justify_content": null,
            "justify_items": null,
            "left": null,
            "margin": null,
            "max_height": null,
            "max_width": null,
            "min_height": null,
            "min_width": null,
            "object_fit": null,
            "object_position": null,
            "order": null,
            "overflow": null,
            "overflow_x": null,
            "overflow_y": null,
            "padding": null,
            "right": null,
            "top": null,
            "visibility": null,
            "width": null
          }
        },
        "88746a56d75b4f1ba35a078a46e39840": {
          "model_module": "@jupyter-widgets/base",
          "model_name": "LayoutModel",
          "model_module_version": "1.2.0",
          "state": {
            "_model_module": "@jupyter-widgets/base",
            "_model_module_version": "1.2.0",
            "_model_name": "LayoutModel",
            "_view_count": null,
            "_view_module": "@jupyter-widgets/base",
            "_view_module_version": "1.2.0",
            "_view_name": "LayoutView",
            "align_content": null,
            "align_items": null,
            "align_self": null,
            "border": null,
            "bottom": null,
            "display": null,
            "flex": null,
            "flex_flow": null,
            "grid_area": null,
            "grid_auto_columns": null,
            "grid_auto_flow": null,
            "grid_auto_rows": null,
            "grid_column": null,
            "grid_gap": null,
            "grid_row": null,
            "grid_template_areas": null,
            "grid_template_columns": null,
            "grid_template_rows": null,
            "height": null,
            "justify_content": null,
            "justify_items": null,
            "left": null,
            "margin": null,
            "max_height": null,
            "max_width": null,
            "min_height": null,
            "min_width": null,
            "object_fit": null,
            "object_position": null,
            "order": null,
            "overflow": null,
            "overflow_x": null,
            "overflow_y": null,
            "padding": null,
            "right": null,
            "top": null,
            "visibility": null,
            "width": null
          }
        },
        "be5fa7b3b2c2445c8de8017153c0aae8": {
          "model_module": "@jupyter-widgets/controls",
          "model_name": "DescriptionStyleModel",
          "model_module_version": "1.5.0",
          "state": {
            "_model_module": "@jupyter-widgets/controls",
            "_model_module_version": "1.5.0",
            "_model_name": "DescriptionStyleModel",
            "_view_count": null,
            "_view_module": "@jupyter-widgets/base",
            "_view_module_version": "1.2.0",
            "_view_name": "StyleView",
            "description_width": ""
          }
        },
        "77a188e3d8d046029073ad05e5389658": {
          "model_module": "@jupyter-widgets/controls",
          "model_name": "HTMLModel",
          "model_module_version": "1.5.0",
          "state": {
            "_dom_classes": [],
            "_model_module": "@jupyter-widgets/controls",
            "_model_module_version": "1.5.0",
            "_model_name": "HTMLModel",
            "_view_count": null,
            "_view_module": "@jupyter-widgets/controls",
            "_view_module_version": "1.5.0",
            "_view_name": "HTMLView",
            "description": "",
            "description_tooltip": null,
            "layout": "IPY_MODEL_6940997cfadd4edebc0275216f0cda5a",
            "placeholder": "​",
            "style": "IPY_MODEL_5f756bb6da754ec38a6b3e5b37b4f5a8",
            "value": "<span>No tables available.</span>"
          }
        },
        "6940997cfadd4edebc0275216f0cda5a": {
          "model_module": "@jupyter-widgets/base",
          "model_name": "LayoutModel",
          "model_module_version": "1.2.0",
          "state": {
            "_model_module": "@jupyter-widgets/base",
            "_model_module_version": "1.2.0",
            "_model_name": "LayoutModel",
            "_view_count": null,
            "_view_module": "@jupyter-widgets/base",
            "_view_module_version": "1.2.0",
            "_view_name": "LayoutView",
            "align_content": null,
            "align_items": null,
            "align_self": null,
            "border": null,
            "bottom": null,
            "display": null,
            "flex": null,
            "flex_flow": null,
            "grid_area": null,
            "grid_auto_columns": null,
            "grid_auto_flow": null,
            "grid_auto_rows": null,
            "grid_column": null,
            "grid_gap": null,
            "grid_row": null,
            "grid_template_areas": null,
            "grid_template_columns": null,
            "grid_template_rows": null,
            "height": null,
            "justify_content": null,
            "justify_items": null,
            "left": null,
            "margin": null,
            "max_height": null,
            "max_width": null,
            "min_height": null,
            "min_width": null,
            "object_fit": null,
            "object_position": null,
            "order": null,
            "overflow": null,
            "overflow_x": null,
            "overflow_y": null,
            "padding": null,
            "right": null,
            "top": null,
            "visibility": null,
            "width": null
          }
        },
        "5f756bb6da754ec38a6b3e5b37b4f5a8": {
          "model_module": "@jupyter-widgets/controls",
          "model_name": "DescriptionStyleModel",
          "model_module_version": "1.5.0",
          "state": {
            "_model_module": "@jupyter-widgets/controls",
            "_model_module_version": "1.5.0",
            "_model_name": "DescriptionStyleModel",
            "_view_count": null,
            "_view_module": "@jupyter-widgets/base",
            "_view_module_version": "1.2.0",
            "_view_name": "StyleView",
            "description_width": ""
          }
        },
        "3600af774ef641c7b0b40e392e540858": {
          "model_module": "@jupyter-widgets/controls",
          "model_name": "HTMLModel",
          "model_module_version": "1.5.0",
          "state": {
            "_dom_classes": [],
            "_model_module": "@jupyter-widgets/controls",
            "_model_module_version": "1.5.0",
            "_model_name": "HTMLModel",
            "_view_count": null,
            "_view_module": "@jupyter-widgets/controls",
            "_view_module_version": "1.5.0",
            "_view_name": "HTMLView",
            "description": "",
            "description_tooltip": null,
            "layout": "IPY_MODEL_a2b7d1c2396e44628eb3afcecc36aba5",
            "placeholder": "​",
            "style": "IPY_MODEL_27a918c013f442e8b6a79f5197c292f1",
            "value": "<h3>agents (Empty)</h3>"
          }
        },
        "a2b7d1c2396e44628eb3afcecc36aba5": {
          "model_module": "@jupyter-widgets/base",
          "model_name": "LayoutModel",
          "model_module_version": "1.2.0",
          "state": {
            "_model_module": "@jupyter-widgets/base",
            "_model_module_version": "1.2.0",
            "_model_name": "LayoutModel",
            "_view_count": null,
            "_view_module": "@jupyter-widgets/base",
            "_view_module_version": "1.2.0",
            "_view_name": "LayoutView",
            "align_content": null,
            "align_items": null,
            "align_self": null,
            "border": null,
            "bottom": null,
            "display": null,
            "flex": null,
            "flex_flow": null,
            "grid_area": null,
            "grid_auto_columns": null,
            "grid_auto_flow": null,
            "grid_auto_rows": null,
            "grid_column": null,
            "grid_gap": null,
            "grid_row": null,
            "grid_template_areas": null,
            "grid_template_columns": null,
            "grid_template_rows": null,
            "height": null,
            "justify_content": null,
            "justify_items": null,
            "left": null,
            "margin": null,
            "max_height": null,
            "max_width": null,
            "min_height": null,
            "min_width": null,
            "object_fit": null,
            "object_position": null,
            "order": null,
            "overflow": null,
            "overflow_x": null,
            "overflow_y": null,
            "padding": null,
            "right": null,
            "top": null,
            "visibility": null,
            "width": null
          }
        },
        "27a918c013f442e8b6a79f5197c292f1": {
          "model_module": "@jupyter-widgets/controls",
          "model_name": "DescriptionStyleModel",
          "model_module_version": "1.5.0",
          "state": {
            "_model_module": "@jupyter-widgets/controls",
            "_model_module_version": "1.5.0",
            "_model_name": "DescriptionStyleModel",
            "_view_count": null,
            "_view_module": "@jupyter-widgets/base",
            "_view_module_version": "1.2.0",
            "_view_name": "StyleView",
            "description_width": ""
          }
        }
      }
    }
  },
  "cells": [
    {
      "cell_type": "markdown",
      "metadata": {
        "id": "view-in-github",
        "colab_type": "text"
      },
      "source": [
        "<a href=\"https://colab.research.google.com/github/brendanpshea/database_sql/blob/main/Database_05_Design.ipynb\" target=\"_parent\"><img src=\"https://colab.research.google.com/assets/colab-badge.svg\" alt=\"Open In Colab\"/></a>"
      ]
    },
    {
      "cell_type": "markdown",
      "source": [
        "# Database Design\n",
        "### Database and SQL Through Pop Culture | Brendan Shea, PhD\n",
        "\n",
        "Welcome to the exciting world of database design! In this chapter, we'll embark on a journey through the process of creating a database from scratch. We'll begin with the conceptual modeling phase, where we'll identify the key entities, attributes, and relationships in our spy academy database. From there, we'll move on to logical modeling, where we'll learn about the importance of keys, normalization, and join tables in ensuring data integrity and avoiding redundancy. Finally, we'll roll up our sleeves and dive into physical modeling, where we'll use SQL statements to actually create, modify, and delete tables in our database. Throughout this chapter, we'll use the spy academy scenario to provide concrete examples and bring the concepts to life. By the end of this chapter, you'll have a solid understanding of how to design and implement a database that can handle even the most covert operations. So, let's put on our secret agent hats and get started on this thrilling database design mission!\n",
        "\n",
        "Learning Outcomes:\n",
        "\n",
        "1.  Understand the three main phases of database design: conceptual, logical, and physical modeling\n",
        "2.  Learn how to identify entities, attributes, and relationships in the conceptual modeling phase\n",
        "3.  Discover the importance of keys in ensuring uniqueness and establishing relationships between tables\n",
        "4.  Understand the role of normalization in reducing data redundancy and improving data integrity\n",
        "5.  Learn how to resolve many-to-many relationships using join tables in the logical modeling phase\n",
        "6.  Gain hands-on experience with SQL statements like CREATE TABLE, DROP TABLE, and ALTER TABLE in the physical modeling phase\n",
        "7.  Understand the importance of constraints in enforcing data integrity and consistency\n",
        "8.  Learn how to use SQL data types to define the structure of columns in a table\n",
        "9. Understand the role of supertypes and subtypes in modeling inheritance relationships between entities\n",
        "\n",
        "Keywords: database design, conceptual modeling, logical modeling, physical modeling, entities, attributes, relationships, keys, primary key, foreign key, normalization, normal forms, join tables, many-to-many relationships, SQL, CREATE TABLE, DROP TABLE, ALTER TABLE, constraints, data types, CASCADE, supertypes, subtypes, inheritance"
      ],
      "metadata": {
        "id": "QyMlxOa8U84Z"
      }
    },
    {
      "cell_type": "markdown",
      "source": [
        "## Brendan's Lecture"
      ],
      "metadata": {
        "id": "aH2pk24AhO8R"
      }
    },
    {
      "cell_type": "code",
      "source": [
        "from IPython.display import YouTubeVideo\n",
        "YouTubeVideo('WltnGUNpf2A', width=800, height=500)"
      ],
      "metadata": {
        "id": "o3jkWXL-hQtQ",
        "outputId": "fb89bb3a-ab86-4758-d17a-9d47060c8a6c",
        "colab": {
          "base_uri": "https://localhost:8080/",
          "height": 521
        }
      },
      "execution_count": null,
      "outputs": [
        {
          "output_type": "execute_result",
          "data": {
            "text/plain": [
              "<IPython.lib.display.YouTubeVideo at 0x7862e40806d0>"
            ],
            "text/html": [
              "\n",
              "        <iframe\n",
              "            width=\"800\"\n",
              "            height=\"500\"\n",
              "            src=\"https://www.youtube.com/embed/WltnGUNpf2A\"\n",
              "            frameborder=\"0\"\n",
              "            allowfullscreen\n",
              "            \n",
              "        ></iframe>\n",
              "        "
            ]
          },
          "metadata": {},
          "execution_count": 1
        }
      ]
    },
    {
      "cell_type": "markdown",
      "source": [
        "## Conceptual Design at the Covert Academy\n",
        "\n",
        "Welcome to the Covert Academy, the world's premier educational institution for aspiring secret agents! Our state-of-the-art facility is hidden beneath the streets of London and equipped with the latest in espionage technology. We offer a wide range of classes to train our students in the arts of surveillance, infiltration, disguise, and more.\n",
        "\n",
        "To keep track of our students and classes, we need a well-designed database. Let's walk through the process of conceptual design for this database.\n",
        "\n",
        "### What is Conceptual Design?\n",
        "\n",
        "Conceptual design is the first step in creating a database. It involves **formulating business rules**, which define how the database should work and what constraints it should have. It also involves creating a **preliminary list of entities and attributes**, which represent the key concepts and data elements in the system. Finally, it involves creating a **preliminary Entity-Relationship Diagram (ERD)** to visually represent the entities and their relationships.\n",
        "\n",
        "### Formulating Business Rules\n",
        "\n",
        "**Business rules** are concise, unambiguous statements that define or constrain some aspect of the database. They are derived through a combination of **descriptive processes**, such as interviewing stakeholders to understand their needs and requirements, and **normative processes**, which involve making decisions about how the system should work.\n",
        "\n",
        "For the Covert Academy, we have the following business rules:\n",
        "\n",
        "1.  Each **student** must be enrolled in at least one **class**, but may be enrolled in multiple classes.\n",
        "2.  Each **class** must have at least one **student** enrolled, but may have many students.\n",
        "\n",
        "To write effective business rules:\n",
        "\n",
        "-   Keep them concise and unambiguous\n",
        "-   Ensure they are testable (you can determine if the system is complying with the rule)\n",
        "-   Involve all relevant stakeholders in formulating and reviewing them\n",
        "-   Prioritize them (some may be must-haves, others may be nice-to-haves)\n",
        "\n",
        "### Preliminary List of Entities and Attributes\n",
        "\n",
        "Based on our business rules, we can identify our preliminary **entities**, which are the key concepts or objects in our system, and their **attributes**, which are the data elements that describe each entity.\n",
        "\n",
        "For the Covert Academy, our entities and attributes are:\n",
        "\n",
        "**Student**\n",
        "\n",
        "-   Name\n",
        "-   Codename\n",
        "-   Nationality\n",
        "-   Specialization\n",
        "\n",
        "**Class**\n",
        "\n",
        "-   Name\n",
        "-   Description\n",
        "-   Instructor\n",
        "-   Location\n",
        "\n",
        "Note that at this stage, we don't include data types, identifier columns, or join tables. We're just focusing on the core entities and their key attributes."
      ],
      "metadata": {
        "id": "cyzld1UPuM3y"
      }
    },
    {
      "cell_type": "markdown",
      "source": [
        "### Preliminary ERD\n",
        "\n",
        "Finally, we can create a preliminary ERD to visualize our entities and their relationship. Here's what it looks like for the Covert Academy:"
      ],
      "metadata": {
        "id": "cflr3FtDuj5b"
      }
    },
    {
      "cell_type": "code",
      "source": [
        "import base64\n",
        "from IPython.display import Image, display, HTML\n",
        "\n",
        "def mm(graph):\n",
        "    graphbytes = graph.encode(\"utf8\")\n",
        "    base64_bytes = base64.b64encode(graphbytes)\n",
        "    base64_string = base64_bytes.decode(\"ascii\")\n",
        "    display(Image(url=\"https://mermaid.ink/img/\" + base64_string))\n",
        "\n",
        "mm(\"\"\"\n",
        "    erDiagram\n",
        "    STUDENT |{--|{ CLASS : enrolls\n",
        "    \"\"\")"
      ],
      "metadata": {
        "colab": {
          "base_uri": "https://localhost:8080/",
          "height": 311
        },
        "id": "rRXX1yxaumhh",
        "outputId": "95d05812-7487-4051-d45f-5dc67ebaafa7"
      },
      "execution_count": null,
      "outputs": [
        {
          "output_type": "display_data",
          "data": {
            "text/html": [
              "<img src=\"https://mermaid.ink/img/CiAgICBlckRpYWdyYW0KICAgIFNUVURFTlQgfHstLXx7IENMQVNTIDogZW5yb2xscwogICAg\"/>"
            ],
            "text/plain": [
              "<IPython.core.display.Image object>"
            ]
          },
          "metadata": {}
        }
      ]
    },
    {
      "cell_type": "markdown",
      "source": [
        "This diagram shows that there is a many-to-many relationship between **STUDENT** and **CLASS** (a student can enroll in many classes, a class can have many students).\n",
        "\n",
        "We'll refine this ERD in the next step, logical modeling, where we'll resolve the many-to-many relationship with a join table. But this preliminary ERD gives us a good starting point to visualize our system."
      ],
      "metadata": {
        "id": "Hg9MnpzCLw5B"
      }
    },
    {
      "cell_type": "markdown",
      "source": [
        "\n",
        "## What is Logical Modeling?\n",
        "In the previous section, we laid the conceptual foundation for the Covert Academy's database. Now it's time to take that conceptual model and transform it into a **logical model** using the **relational model**.\n",
        "\n",
        "Logical modeling is the process of taking a conceptual model and adapting it to fit a specific logical data model. In our case, we'll be using the **relational model**, which organizes data into **tables** (also known as relations) with **rows** (also known as tuples) and **columns** (also known as attributes).\n",
        "\n",
        "In the relational model:\n",
        "\n",
        "-   Each table should represent a single entity or concept\n",
        "-   Each row in a table represents a specific instance of that entity\n",
        "-   Each column in a table represents an attribute of that entity\n",
        "-   Each table should have a **primary key**, a unique identifier for each row\n",
        "\n",
        "### Resolving Many-to-Many Relationships\n",
        "\n",
        "In our conceptual model, we had a many-to-many relationship between **STUDENT** and **CLASS**. However, in the relational model, we can't directly represent many-to-many relationships. Instead, we need to introduce a **join table**.\n",
        "\n",
        "A join table is a table that breaks down a many-to-many relationship into two one-to-many relationships. It does this by having foreign keys to both of the original tables.\n",
        "\n",
        "For the Covert Academy, our join table will be called **ENROLLMENT**. It will have the following structure:\n",
        "\n",
        "**ENROLLMENT**\n",
        "\n",
        "-   StudentID (Foreign Key to STUDENT)\n",
        "-   ClassID (Foreign Key to CLASS)\n",
        "-   EnrollmentDate\n",
        "\n",
        "Now, instead of a direct many-to-many relationship, we have:\n",
        "\n",
        "-   A one-to-many relationship between **STUDENT** and **ENROLLMENT**\n",
        "-   A one-to-many relationship between **CLASS** and **ENROLLMENT**\n",
        "\n",
        "### Choosing Primary Keys\n",
        "\n",
        "Each table in our database needs a primary key. A primary key is a unique identifier for each row in a table. There are two main options for primary keys:\n",
        "\n",
        "1.  **Natural Key**: A natural key is a key that uses one of the existing attributes of the entity. For example, we could use a student's email as the primary key for the STUDENT table. Natural keys can be convenient because they don't require an additional column. However, they can also be problematic if the natural key ever needs to change.\n",
        "2.  **Surrogate Key**: A surrogate key is an artificial key that is created specifically to be the primary key. It's usually a simple integer or a universally unique identifier (UUID). Surrogate keys are often preferable because they are guaranteed to be unique and they never need to change.\n",
        "\n",
        "For the Covert Academy, we'll use surrogate keys for all of our tables. We'll call these `ID` columns.\n",
        "\n",
        "### Updated ERD\n",
        "\n",
        "With these changes in mind, here's our updated ERD:"
      ],
      "metadata": {
        "id": "tUe_4MLsMT9s"
      }
    },
    {
      "cell_type": "code",
      "source": [
        "mm(\"\"\"\n",
        "erDiagram\n",
        "    STUDENT ||--o{ ENROLLMENT : has\n",
        "    ENROLLMENT }o--|| CLASS : is_for\n",
        "\"\"\")"
      ],
      "metadata": {
        "colab": {
          "base_uri": "https://localhost:8080/",
          "height": 487
        },
        "id": "GCxQM52zMVTI",
        "outputId": "a9ed3fa0-ecad-434e-a1ee-964508361b1f"
      },
      "execution_count": null,
      "outputs": [
        {
          "output_type": "display_data",
          "data": {
            "text/html": [
              "<img src=\"https://mermaid.ink/img/CmVyRGlhZ3JhbQogICAgU1RVREVOVCB8fC0tb3sgRU5ST0xMTUVOVCA6IGhhcwogICAgRU5ST0xMTUVOVCB9by0tfHwgQ0xBU1MgOiBpc19mb3IK\"/>"
            ],
            "text/plain": [
              "<IPython.core.display.Image object>"
            ]
          },
          "metadata": {}
        }
      ]
    },
    {
      "cell_type": "markdown",
      "source": [
        "The tables are as follows:\n",
        "\n",
        "**STUDENT** (ID (Primary Key), Name, Codename, Nationality, Specialization)\n",
        "\n",
        "**CLASS** (ID (Primary Key), Name, Description, Instructor, Location)\n",
        "\n",
        "**ENROLLMENT** (StudentID (Foreign Key to STUDENT), ClassID (Foreign Key to CLASS), EnrollmentDate)"
      ],
      "metadata": {
        "id": "gsTm2RoGMtaA"
      }
    },
    {
      "cell_type": "markdown",
      "source": [
        "## Normalization: Keeping Your Data in Line\n",
        "\n",
        "Before we move on to physical modeling, let's take a moment to discuss a crucial concept in database design: **normalization**. (As it turns out, our table are already in 3NF. However, this won't always be the case!).\n",
        "\n",
        "Normalization is the process of organizing data in a database to avoid data redundancy and improve data integrity. It involves dividing large tables into smaller tables and defining relationships between them based on the rules of **normal forms**.\n",
        "\n",
        "Normalization is important because it:\n",
        "\n",
        "1.  Minimizes data redundancy\n",
        "2.  Avoids data anomalies (such as update and deletion anomalies)\n",
        "3.  Simplifies data management\n",
        "4.  Reduces data inconsistencies\n",
        "\n",
        "There are several normal forms, each with its own set of rules. The most common are 1NF, 2NF, and 3NF. Let's dive into each one!\n",
        "\n",
        "### First Normal Form (1NF)\n",
        "\n",
        "A database is in 1NF if:\n",
        "\n",
        "1.  Each column contains atomic values (indivisible values)\n",
        "2.  There are no repeating groups of columns\n",
        "\n",
        "For example, consider this non-normalized STUDENT table:\n",
        "\n",
        "| ID | Name | Codename | Nationality | Specialization |\n",
        "| --- | --- | --- | --- | --- |\n",
        "| 1 | James | 007 | British | Espionage, Combat |\n",
        "| 2 | Natasha | Black Widow | Russian | Combat, Infiltration |\n",
        "\n",
        "This table is not in 1NF because the Specialization column contains multiple values. To bring it to 1NF, we would create a separate SPECIALIZATION table and establish a one-to-many relationship:\n",
        "\n",
        "**STUDENT**\n",
        "\n",
        "| ID | Name | Codename | Nationality |\n",
        "| --- | --- | --- | --- |\n",
        "| 1 | James | 007 | British |\n",
        "| 2 | Natasha | Black Widow | Russian |\n",
        "\n",
        "**SPECIALIZATION**\n",
        "\n",
        "| ID | StudentID | Specialization |\n",
        "| --- | --- | --- |\n",
        "| 1 | 1 | Espionage |\n",
        "| 2 | 1 | Combat |\n",
        "| 3 | 2 | Combat |\n",
        "| 4 | 2 | Infiltration |\n",
        "\n",
        "### Second Normal Form (2NF)\n",
        "\n",
        "A database is in 2NF if:\n",
        "\n",
        "1.  It is in 1NF\n",
        "2.  All non-key columns are fully dependent on the primary key\n",
        "\n",
        "Consider this 1NF ENROLLMENT table:\n",
        "\n",
        "| StudentID | ClassID | EnrollmentDate | ClassName |\n",
        "| --- | --- | --- | --- |\n",
        "| 1 | 1 | 2023-01-01 | Spy Gadgets |\n",
        "| 1 | 2 | 2023-01-15 | Disguise 101 |\n",
        "| 2 | 1 | 2023-01-01 | Spy Gadgets |\n",
        "\n",
        "This table is not in 2NF because ClassName is dependent on ClassID, which is only part of the primary key (StudentID, ClassID). To bring it to 2NF, we move ClassName to the CLASS table:\n",
        "\n",
        "**ENROLLMENT**\n",
        "\n",
        "| StudentID | ClassID | EnrollmentDate |\n",
        "| --- | --- | --- |\n",
        "| 1 | 1 | 2023-01-01 |\n",
        "| 1 | 2 | 2023-01-15 |\n",
        "| 2 | 1 | 2023-01-01 |\n",
        "\n",
        "**CLASS**\n",
        "\n",
        "| ID | ClassName |\n",
        "| --- | --- |\n",
        "| 1 | Spy Gadgets |\n",
        "| 2 | Disguise 101 |\n",
        "\n",
        "### Third Normal Form (3NF)\n",
        "\n",
        "A database is in 3NF if:\n",
        "\n",
        "1.  It is in 2NF\n",
        "2.  There are no transitive dependencies\n",
        "\n",
        "A transitive dependency is when a non-key column depends on another non-key column.\n",
        "\n",
        "Consider this 2NF CLASS table:\n",
        "\n",
        "| ID | ClassName | InstructorID | InstructorName |\n",
        "| --- | --- | --- | --- |\n",
        "| 1 | Spy Gadgets | 1 | Q |\n",
        "| 2 | Disguise 101 | 2 | M |\n",
        "\n",
        "This table is not in 3NF because InstructorName is transitively dependent on InstructorID (a non-key column). To bring it to 3NF, we move InstructorName to a new INSTRUCTOR table:\n",
        "\n",
        "**CLASS**\n",
        "\n",
        "| ID | ClassName | InstructorID |\n",
        "| --- | --- | --- |\n",
        "| 1 | Spy Gadgets | 1 |\n",
        "| 2 | Disguise 101 | 2 |\n",
        "\n",
        "**INSTRUCTOR**\n",
        "\n",
        "| ID | Name |\n",
        "| --- | --- |\n",
        "| 1 | Q |\n",
        "| 2 | M |\n",
        "\n",
        "And there you have it! By applying these normal forms, we ensure our database is well-structured, minimizes redundancy, and avoids anomalies."
      ],
      "metadata": {
        "id": "RF6idihfQpQH"
      }
    },
    {
      "cell_type": "markdown",
      "source": [
        "### Table: Normal Forms\n",
        "While normalizing to 3NF is standard for many operatoinal databses, some use cases require normalizing further (to \"higher\" forms) or denormalizing to \"lower\" forms.\n",
        "\n",
        "\n",
        "| Normal Form                       | Description                                                                       |\n",
        "|-----------------------------------|-------------------------------------------------------------------------|\n",
        "| **Zero Normal Form (0NF)**        | A table is in **0NF** if it has **no normalization** applied; <br> that is, it may contain **non-atomic values**, **repeating groups**, or **nested data structures**. <br> Data in this form does not meet the criteria for the **First Normal Form (1NF)**. <br> In **NoSQL** databases or **JSON** data, information often exists in this unnormalized form.<br><br>*Key Concepts:*<br> - **No Normalization**: Data that hasn't been organized according to normalization rules.<br> - **Non-Atomic Values**: Values that can be divided into smaller parts.<br> - **Repeating Groups**: Multiple instances of the same type of data within a single record.<br> - **Nested Data Structures**: Data structures containing other data structures, like arrays or objects within objects.<br><br>Ex: Consider a JSON document storing customer data with nested arrays for addresses and phone numbers. <br> In a relational database, this data is not in 1NF because it contains nested structures and arrays (non-atomic values). |\n",
        "| **First Normal Form (1NF)**       | A table is in **1NF** if all its attributes contain only **atomic** (indivisible) values, and each record is unique. <br> **No repeating groups or arrays are allowed**.<br><br>*Key Concepts:*<br> - **Atomic Value**: An indivisible value that cannot be further decomposed.<br> - **Repeating Groups**: Multiple values of the same type stored in a single field.<br><br>Ex: Instead of storing multiple email addresses in one field like <br> `email: \"email1@example.com, email2@example.com\"`, create separate fields or rows for each email to achieve atomicity. |\n",
        "| **Second Normal Form (2NF)**      | A table is in **2NF** if it is in **1NF** and <br> every **non-key attribute** is **fully functionally dependent** on the **entire primary key**. <br> This eliminates **partial dependencies** on a subset of the primary key.<br><br>*Key Concepts:*<br> - **Non-Key Attribute**: An attribute that is not part of the primary key.<br> - **Fully Functionally Dependent**: The attribute depends on the whole primary key, not just part of it.<br> - **Partial Dependency**: Dependency on a part of a composite primary key.<br><br>Ex: In a table with `OrderID` and `ProductID` as a composite primary key, <br> ensure that attributes like `Quantity` depend on both `OrderID` and `ProductID`, not just one of them. |\n",
        "| **Third Normal Form (3NF)**       | A table is in **3NF** if it is in **2NF** and all the attributes are **functionally dependent only on the primary key**. <br> This removes **transitive dependencies** where a **non-key attribute** depends on another **non-key attribute**.<br><br>*Key Concepts:*<br> - **Transitive Dependency**: A non-key attribute depends on another non-key attribute rather than the primary key.<br><br>Ex: If `EmployeeDept` depends on `EmployeeID`, and `DeptLocation` depends on `EmployeeDept`, <br> then `DeptLocation` should be in a separate table linked by `EmployeeDept` to eliminate transitive dependency. |\n",
        "| **Boyce-Codd Normal Form (BCNF)** | A table is in **BCNF** if it is in **3NF** and <br> for every **functional dependency** (X → Y), X is a **super key**. <br> This is a stricter version of 3NF that handles certain anomalies not addressed by 3NF.<br><br>*Key Concepts:*<br> - **Functional Dependency**: A relationship where one attribute uniquely determines another.<br> - **Super Key**: An attribute or set of attributes that can uniquely identify a record.<br><br>Ex: If a university course schedule table uses `Course` and `Time` to determine `Room`, but `Room` and `Time` also determine `Course`, <br>reorganize the table so that only super keys determine other attributes to prevent anomalies. |\n",
        "| **Fourth Normal Form (4NF)**      | A table is in **4NF** if it is in **BCNF** and has no **multi-valued dependencies**.  <br> This ensures that independent multivalued facts are not stored in the same table.<br><br>*Key Concepts:*<br> - **Multi-Valued Dependency**: When one attribute in a table uniquely determines multiple values of another attribute, independent of other attributes.<br><br>**Example:**<br>An `Artists` table that lists `ArtistName`, `Instrument`, and `Genre` can <br> cause redundant data if an artist plays multiple instruments and genres. <br> Splitting into separate tables for instruments and genres avoids incorrect combinations. |\n",
        "\n",
        "\n",
        "There are also (much more rarely used) definitions of 5NF and 6NF.\n"
      ],
      "metadata": {
        "id": "HDMOt-v7RGd5"
      }
    },
    {
      "cell_type": "markdown",
      "source": [
        "## Physical Modeling - Bringing the Database to Life\n",
        "\n",
        "We've conceptually designed our database and transformed it into a logical model using the relational model and normalization techniques. Now it's time for the exciting part - actually creating our database!\n",
        "\n",
        "**Physical modeling** is the process of taking the logical model and implementing it in a specific database management system (DBMS). This involves defining the actual tables, columns, data types, and constraints in the database using the Data Definition Language (DDL) of the chosen DBMS.\n",
        "\n",
        "For the Covert Academy's database, we'll be using **SQLite** (which is what we've used in the class so far).\n",
        "\n",
        "SQLite is a lightweight, file-based DBMS. It's a popular choice for many applications because:\n",
        "\n",
        "1.  It's serverless (the database is just a file)\n",
        "2.  It's self-contained (no external dependencies)\n",
        "3.  It's cross-platform (works on all major operating systems)\n",
        "4.  It's open-source and free to use\n",
        "\n",
        "SQLite, like most modern DBMSs, uses **SQL (Structured Query Language)** for defining and manipulating databases.\n",
        "\n",
        "### What is ANSI Standard SQL?\n",
        "**ANSI (American National Standards Institute)** is an organization that defines standards for various industries, including database systems. ANSI SQL is a standard that defines the SQL language.  Most modern DBMSs (Database Management Systems), including SQLite, follow the ANSI SQL standard to a large extent. This means that the core SQL syntax is the same across different DBMSs. However, each DBMS also has its own extensions and quirks.\n",
        "\n",
        "While ANSI initiated the SQL standardization process, the **International Organization for Standardization (ISO)** has also played a crucial role, and typically adopts a standard very close to taht of ANSI.\n",
        "\n",
        "### ANSI Standard SQL Data Types\n",
        "\n",
        "ANSI SQL defines a set of standard data types. The most common ones are:\n",
        "\n",
        "1.  **INTEGER**: A whole number.\n",
        "2.  **REAL**: A floating-point number.\n",
        "3.  **VARCHAR(n)**: A string of characters with a maximum length of n.\n",
        "4. **CHAR(n)**: A string of characters with precise length of n.\n",
        "5.  **BLOB**: Binary Large Object, used for storing large amounts of binary data.\n",
        "6.  **DATE**: A date value (YYYY-MM-DD).\n",
        "7.  **TIME**: A time value (HH:MM:SS).\n",
        "8. **TEXT**: A long section of string data.\n",
        "9. **JSONB**: A dataype to hold JSON data in binary format (to speed up queries).\n",
        "\n",
        "SQLite supports most of these data types, although it has some of its own quirks:\n",
        "\n",
        "-   SQLite has a small number of underlying \"storage classes\"  -- TEXT, NUMERIC, REAL, BLOB, NULL -- that it uses to store all values (regardless of SQL data type).\n",
        "- SQLite is \"dynamically typed\", meaning that it determines the storage class for each value as is it inserted and doesn't \"enforce\" column data types, unlike most RDBMSs)."
      ],
      "metadata": {
        "id": "5N26H8AXRrfP"
      }
    },
    {
      "cell_type": "markdown",
      "source": [
        "## The CREATE TABLE Statement\n",
        "\n",
        "Now that we know about data types, we can start creating our tables! In SQL, we use the `CREATE TABLE` statement for this.\n",
        "\n",
        "The general syntax is:\n",
        "\n",
        "```sql\n",
        "CREATE TABLE table_name (\n",
        "    column1 datatype constraint,\n",
        "    column2 datatype constraint,\n",
        "    ...\n",
        "    PRIMARY KEY (one or more columns)\n",
        ");\n",
        "```\n",
        "\n",
        "For example, let's create the STUDENT table:"
      ],
      "metadata": {
        "id": "oZwV6l7mTcp8"
      }
    },
    {
      "cell_type": "code",
      "source": [
        "# connect to sqlite using sql magic\n",
        "%load_ext sql\n",
        "%sql sqlite:///covert_academy.db"
      ],
      "metadata": {
        "id": "jly7J807Tgmd"
      },
      "execution_count": null,
      "outputs": []
    },
    {
      "cell_type": "code",
      "source": [
        "%%sql\n",
        "CREATE TABLE STUDENT (\n",
        "    ID INTEGER PRIMARY KEY,  -- The primary key, an auto-incrementing integer\n",
        "    Name VARCHAR(100) NOT NULL,  -- The student's name, cannot be NULL\n",
        "    Codename VARCHAR(50),  -- The student's codename, can be NULL\n",
        "    Nationality VARCHAR(50),  -- The student's nationality\n",
        "    Specialization VARCHAR(100)  -- The student's specialization\n",
        ");"
      ],
      "metadata": {
        "colab": {
          "base_uri": "https://localhost:8080/"
        },
        "id": "ZqN21TxzL-cY",
        "outputId": "3d3649f6-38f1-4b48-c5a8-29f6607783ad"
      },
      "execution_count": null,
      "outputs": [
        {
          "output_type": "stream",
          "name": "stdout",
          "text": [
            " * sqlite:///covert_academy.db\n",
            "Done.\n"
          ]
        },
        {
          "output_type": "execute_result",
          "data": {
            "text/plain": [
              "[]"
            ]
          },
          "metadata": {},
          "execution_count": 4
        }
      ]
    },
    {
      "cell_type": "markdown",
      "source": [
        "This creates a table named STUDENT with five columns. Note the use of ANSI standard data types and the comments explaining each column.\n",
        "\n",
        "We can create the CLASS and ENROLLMENT tables similarly:"
      ],
      "metadata": {
        "id": "Air3yuRbTzZa"
      }
    },
    {
      "cell_type": "code",
      "source": [
        "%%sql\n",
        "CREATE TABLE CLASS (\n",
        "    ID INTEGER PRIMARY KEY,  -- The primary key\n",
        "    Name VARCHAR(100) NOT NULL,  -- The class name, cannot be NULL\n",
        "    Description VARCHAR(200),  -- The class description\n",
        "    Instructor VARCHAR(100),  -- The class instructor\n",
        "    Location VARCHAR(100)  -- The class location\n",
        ");\n",
        "\n",
        "CREATE TABLE ENROLLMENT (\n",
        "    StudentID INTEGER,  -- Foreign key to STUDENT table\n",
        "    ClassID INTEGER,  -- Foreign key to CLASS table\n",
        "    EnrollmentDate DATE,  -- The date of enrollment\n",
        "    PRIMARY KEY (StudentID, ClassID),  -- Composite primary key\n",
        "    FOREIGN KEY (StudentID) REFERENCES STUDENT(ID),  -- Foreign key constraint\n",
        "    FOREIGN KEY (ClassID) REFERENCES CLASS(ID)  -- Foreign key constraint\n",
        ");"
      ],
      "metadata": {
        "colab": {
          "base_uri": "https://localhost:8080/"
        },
        "id": "4_b1M9hFT2E-",
        "outputId": "5acd73c8-c8c5-4458-fdf7-6e70a6ed4202"
      },
      "execution_count": null,
      "outputs": [
        {
          "output_type": "stream",
          "name": "stdout",
          "text": [
            " * sqlite:///covert_academy.db\n",
            "Done.\n",
            "Done.\n"
          ]
        },
        {
          "output_type": "execute_result",
          "data": {
            "text/plain": [
              "[]"
            ]
          },
          "metadata": {},
          "execution_count": 5
        }
      ]
    },
    {
      "cell_type": "markdown",
      "source": [
        "Note how in the ENROLLMENT table, we define a composite primary key (StudentID, ClassID) and also specify the foreign key constraints. Let's now use PRAGMA to see how our tables appear:"
      ],
      "metadata": {
        "id": "bdxxyimBUAxv"
      }
    },
    {
      "cell_type": "code",
      "source": [
        "%%sql\n",
        "PRAGMA table_info(STUDENT);"
      ],
      "metadata": {
        "colab": {
          "base_uri": "https://localhost:8080/",
          "height": 179
        },
        "id": "Iq9AiN18c-Nz",
        "outputId": "10c211a8-7b32-4d4a-ff65-68f6a339473b"
      },
      "execution_count": null,
      "outputs": [
        {
          "output_type": "stream",
          "name": "stdout",
          "text": [
            " * sqlite:///covert_academy.db\n",
            "Done.\n"
          ]
        },
        {
          "output_type": "execute_result",
          "data": {
            "text/plain": [
              "[(0, 'ID', 'INTEGER', 0, None, 1),\n",
              " (1, 'Name', 'VARCHAR(100)', 1, None, 0),\n",
              " (2, 'Codename', 'VARCHAR(50)', 0, None, 0),\n",
              " (3, 'Nationality', 'VARCHAR(50)', 0, None, 0),\n",
              " (4, 'Specialization', 'VARCHAR(100)', 0, None, 0)]"
            ],
            "text/html": [
              "<table>\n",
              "    <thead>\n",
              "        <tr>\n",
              "            <th>cid</th>\n",
              "            <th>name</th>\n",
              "            <th>type</th>\n",
              "            <th>notnull</th>\n",
              "            <th>dflt_value</th>\n",
              "            <th>pk</th>\n",
              "        </tr>\n",
              "    </thead>\n",
              "    <tbody>\n",
              "        <tr>\n",
              "            <td>0</td>\n",
              "            <td>ID</td>\n",
              "            <td>INTEGER</td>\n",
              "            <td>0</td>\n",
              "            <td>None</td>\n",
              "            <td>1</td>\n",
              "        </tr>\n",
              "        <tr>\n",
              "            <td>1</td>\n",
              "            <td>Name</td>\n",
              "            <td>VARCHAR(100)</td>\n",
              "            <td>1</td>\n",
              "            <td>None</td>\n",
              "            <td>0</td>\n",
              "        </tr>\n",
              "        <tr>\n",
              "            <td>2</td>\n",
              "            <td>Codename</td>\n",
              "            <td>VARCHAR(50)</td>\n",
              "            <td>0</td>\n",
              "            <td>None</td>\n",
              "            <td>0</td>\n",
              "        </tr>\n",
              "        <tr>\n",
              "            <td>3</td>\n",
              "            <td>Nationality</td>\n",
              "            <td>VARCHAR(50)</td>\n",
              "            <td>0</td>\n",
              "            <td>None</td>\n",
              "            <td>0</td>\n",
              "        </tr>\n",
              "        <tr>\n",
              "            <td>4</td>\n",
              "            <td>Specialization</td>\n",
              "            <td>VARCHAR(100)</td>\n",
              "            <td>0</td>\n",
              "            <td>None</td>\n",
              "            <td>0</td>\n",
              "        </tr>\n",
              "    </tbody>\n",
              "</table>"
            ]
          },
          "metadata": {},
          "execution_count": 6
        }
      ]
    },
    {
      "cell_type": "code",
      "source": [
        "%%sql\n",
        "PRAGMA table_info(CLASS);"
      ],
      "metadata": {
        "colab": {
          "base_uri": "https://localhost:8080/",
          "height": 179
        },
        "id": "B88f5JnndAlF",
        "outputId": "76372cc7-025c-4455-be0c-3d795b0a49f8"
      },
      "execution_count": null,
      "outputs": [
        {
          "output_type": "stream",
          "name": "stdout",
          "text": [
            " * sqlite:///covert_academy.db\n",
            "Done.\n"
          ]
        },
        {
          "output_type": "execute_result",
          "data": {
            "text/plain": [
              "[(0, 'ID', 'INTEGER', 0, None, 1),\n",
              " (1, 'Name', 'VARCHAR(100)', 1, None, 0),\n",
              " (2, 'Description', 'VARCHAR(200)', 0, None, 0),\n",
              " (3, 'Instructor', 'VARCHAR(100)', 0, None, 0),\n",
              " (4, 'Location', 'VARCHAR(100)', 0, None, 0)]"
            ],
            "text/html": [
              "<table>\n",
              "    <thead>\n",
              "        <tr>\n",
              "            <th>cid</th>\n",
              "            <th>name</th>\n",
              "            <th>type</th>\n",
              "            <th>notnull</th>\n",
              "            <th>dflt_value</th>\n",
              "            <th>pk</th>\n",
              "        </tr>\n",
              "    </thead>\n",
              "    <tbody>\n",
              "        <tr>\n",
              "            <td>0</td>\n",
              "            <td>ID</td>\n",
              "            <td>INTEGER</td>\n",
              "            <td>0</td>\n",
              "            <td>None</td>\n",
              "            <td>1</td>\n",
              "        </tr>\n",
              "        <tr>\n",
              "            <td>1</td>\n",
              "            <td>Name</td>\n",
              "            <td>VARCHAR(100)</td>\n",
              "            <td>1</td>\n",
              "            <td>None</td>\n",
              "            <td>0</td>\n",
              "        </tr>\n",
              "        <tr>\n",
              "            <td>2</td>\n",
              "            <td>Description</td>\n",
              "            <td>VARCHAR(200)</td>\n",
              "            <td>0</td>\n",
              "            <td>None</td>\n",
              "            <td>0</td>\n",
              "        </tr>\n",
              "        <tr>\n",
              "            <td>3</td>\n",
              "            <td>Instructor</td>\n",
              "            <td>VARCHAR(100)</td>\n",
              "            <td>0</td>\n",
              "            <td>None</td>\n",
              "            <td>0</td>\n",
              "        </tr>\n",
              "        <tr>\n",
              "            <td>4</td>\n",
              "            <td>Location</td>\n",
              "            <td>VARCHAR(100)</td>\n",
              "            <td>0</td>\n",
              "            <td>None</td>\n",
              "            <td>0</td>\n",
              "        </tr>\n",
              "    </tbody>\n",
              "</table>"
            ]
          },
          "metadata": {},
          "execution_count": 7
        }
      ]
    },
    {
      "cell_type": "code",
      "source": [
        "%%sql\n",
        "PRAGMA table_info(ENROLLMENT);"
      ],
      "metadata": {
        "colab": {
          "base_uri": "https://localhost:8080/",
          "height": 137
        },
        "id": "ciZw40j9dGn7",
        "outputId": "9805fcc1-9cf2-4682-88a5-8c09c7d3f452"
      },
      "execution_count": null,
      "outputs": [
        {
          "output_type": "stream",
          "name": "stdout",
          "text": [
            " * sqlite:///covert_academy.db\n",
            "Done.\n"
          ]
        },
        {
          "output_type": "execute_result",
          "data": {
            "text/plain": [
              "[(0, 'StudentID', 'INTEGER', 0, None, 1),\n",
              " (1, 'ClassID', 'INTEGER', 0, None, 2),\n",
              " (2, 'EnrollmentDate', 'DATE', 0, None, 0)]"
            ],
            "text/html": [
              "<table>\n",
              "    <thead>\n",
              "        <tr>\n",
              "            <th>cid</th>\n",
              "            <th>name</th>\n",
              "            <th>type</th>\n",
              "            <th>notnull</th>\n",
              "            <th>dflt_value</th>\n",
              "            <th>pk</th>\n",
              "        </tr>\n",
              "    </thead>\n",
              "    <tbody>\n",
              "        <tr>\n",
              "            <td>0</td>\n",
              "            <td>StudentID</td>\n",
              "            <td>INTEGER</td>\n",
              "            <td>0</td>\n",
              "            <td>None</td>\n",
              "            <td>1</td>\n",
              "        </tr>\n",
              "        <tr>\n",
              "            <td>1</td>\n",
              "            <td>ClassID</td>\n",
              "            <td>INTEGER</td>\n",
              "            <td>0</td>\n",
              "            <td>None</td>\n",
              "            <td>2</td>\n",
              "        </tr>\n",
              "        <tr>\n",
              "            <td>2</td>\n",
              "            <td>EnrollmentDate</td>\n",
              "            <td>DATE</td>\n",
              "            <td>0</td>\n",
              "            <td>None</td>\n",
              "            <td>0</td>\n",
              "        </tr>\n",
              "    </tbody>\n",
              "</table>"
            ]
          },
          "metadata": {},
          "execution_count": 8
        }
      ]
    },
    {
      "cell_type": "markdown",
      "source": [
        "## Column Constraints\n",
        "\n",
        "Before we start inserting data into our database, let's discuss some important concepts that help maintain the integrity and consistency of our data: **constraints**.\n",
        "\n",
        "Column constraints are rules applied to individual columns in a table. They restrict the type of data that can be stored in a column. The most common constraints are:\n",
        "\n",
        "1.  **CHECK**: Ensures that a column's value satisfies a boolean expression.\n",
        "2.  **DEFAULT**: Specifies a default value for a column when no value is provided.\n",
        "3.  **NOT NULL**: Ensures that a column cannot have a NULL value.\n",
        "4.  **UNIQUE**: Ensures that each value in a column is unique across the whole table.\n",
        "\n",
        "Let's see how we can apply these constraints to our tables.\n",
        "\n",
        "### The DROP TABLE Statement\n",
        "\n",
        "But first, let's discuss how to drop a table. The `DROP TABLE` statement is used to remove a table definition and all its data. The syntax is simple:\n",
        "\n",
        "```sql\n",
        "DROP TABLE table_name;\n",
        "```\n",
        "\n",
        "This statement is irreversible, so use it with caution!\n",
        "\n",
        "Now, let's recreate our tables with some constraints.\n",
        "\n",
        "### Recreating the STUDENT Table"
      ],
      "metadata": {
        "id": "QRKqTYGNUd4V"
      }
    },
    {
      "cell_type": "code",
      "source": [
        "%%sql\n",
        "DROP TABLE IF EXISTS STUDENT;  -- Drop the table if it already exists\n",
        "\n",
        "CREATE TABLE STUDENT (\n",
        "    ID INTEGER PRIMARY KEY,\n",
        "    Name VARCHAR(100) NOT NULL,\n",
        "    Codename VARCHAR(50) UNIQUE,  -- Codenames must be unique\n",
        "    Nationality VARCHAR(50) DEFAULT 'Unknown',  -- Default nationality is 'Unknown'\n",
        "    Specialization VARCHAR(100),\n",
        "    Age INTEGER CHECK (Age >= 18)  -- Students must be at least 18 years old\n",
        ");"
      ],
      "metadata": {
        "colab": {
          "base_uri": "https://localhost:8080/"
        },
        "id": "MZKsThi-UlR_",
        "outputId": "de3f53bb-2dab-4519-9192-a4f195d6bea2"
      },
      "execution_count": null,
      "outputs": [
        {
          "output_type": "stream",
          "name": "stdout",
          "text": [
            " * sqlite:///covert_academy.db\n",
            "Done.\n",
            "Done.\n"
          ]
        },
        {
          "output_type": "execute_result",
          "data": {
            "text/plain": [
              "[]"
            ]
          },
          "metadata": {},
          "execution_count": 9
        }
      ]
    },
    {
      "cell_type": "markdown",
      "source": [
        "Here, we've added a UNIQUE constraint to the Codename column, a DEFAULT constraint to the Nationality column, and a CHECK constraint to ensure that all students are at least 18 years old."
      ],
      "metadata": {
        "id": "ZamYPobfUqnE"
      }
    },
    {
      "cell_type": "markdown",
      "source": [
        "### Recreating the CLASS Table\n",
        "For the CLASS table, we've added a NOT NULL constraint to the Instructor column and a CHECK constraint to ensure that the StartDate is always before the EndDate."
      ],
      "metadata": {
        "id": "I4BTBQk5U4WW"
      }
    },
    {
      "cell_type": "code",
      "source": [
        "%%sql\n",
        "DROP TABLE IF EXISTS CLASS;\n",
        "\n",
        "CREATE TABLE CLASS (\n",
        "    ID INTEGER PRIMARY KEY,\n",
        "    Name VARCHAR(100) NOT NULL,\n",
        "    Description VARCHAR(200),\n",
        "    Instructor VARCHAR(100) NOT NULL,  -- Every class must have an instructor\n",
        "    Location VARCHAR(100),\n",
        "    StartDate DATE,\n",
        "    EndDate DATE,\n",
        "    CHECK (StartDate < EndDate)  -- The start date must be before the end date\n",
        ");"
      ],
      "metadata": {
        "colab": {
          "base_uri": "https://localhost:8080/"
        },
        "id": "oBs24XC5Uwnv",
        "outputId": "1df1ee47-7822-4c8a-a1ee-ac9e3b506e97"
      },
      "execution_count": null,
      "outputs": [
        {
          "output_type": "stream",
          "name": "stdout",
          "text": [
            " * sqlite:///covert_academy.db\n",
            "Done.\n",
            "Done.\n"
          ]
        },
        {
          "output_type": "execute_result",
          "data": {
            "text/plain": [
              "[]"
            ]
          },
          "metadata": {},
          "execution_count": 10
        }
      ]
    },
    {
      "cell_type": "markdown",
      "source": [
        "### Recreating the ENROLLMENT Table\n",
        "For the ENROLLMENT table, we've added a DEFAULT constraint to set the EnrollmentDate to the current date if no value is provided."
      ],
      "metadata": {
        "id": "NwdoCZU3U-cC"
      }
    },
    {
      "cell_type": "code",
      "source": [
        "%%sql\n",
        "DROP TABLE IF EXISTS ENROLLMENT;\n",
        "\n",
        "CREATE TABLE ENROLLMENT (\n",
        "    StudentID INTEGER,\n",
        "    ClassID INTEGER,\n",
        "    EnrollmentDate DATE DEFAULT CURRENT_DATE,  -- Default is the current date\n",
        "    PRIMARY KEY (StudentID, ClassID),\n",
        "    FOREIGN KEY (StudentID) REFERENCES STUDENT(ID),\n",
        "    FOREIGN KEY (ClassID) REFERENCES CLASS(ID)\n",
        ");"
      ],
      "metadata": {
        "colab": {
          "base_uri": "https://localhost:8080/"
        },
        "id": "sPqt-eRPUCpb",
        "outputId": "63acaa34-e1e4-41ef-d626-2150ec36d70a"
      },
      "execution_count": null,
      "outputs": [
        {
          "output_type": "stream",
          "name": "stdout",
          "text": [
            " * sqlite:///covert_academy.db\n",
            "Done.\n",
            "Done.\n"
          ]
        },
        {
          "output_type": "execute_result",
          "data": {
            "text/plain": [
              "[]"
            ]
          },
          "metadata": {},
          "execution_count": 11
        }
      ]
    },
    {
      "cell_type": "markdown",
      "source": [
        "And there we have it! Our Covert Academy database is now set up with constraints to ensure data integrity."
      ],
      "metadata": {
        "id": "S_r2AOyaVI7f"
      }
    },
    {
      "cell_type": "markdown",
      "source": [
        "### Syntax for Creating Tables: A Quick Reference\n",
        "\n",
        "As we've seen, SQL provides a variety of tools for defining the structure and constraints of our database tables. Let's summarize the syntax for some of the key concepts we've encountered.\n",
        "\n",
        "### Defining a Primary Key\n",
        "\n",
        "To define a primary key for a table, you can use the `PRIMARY KEY` constraint. This can be done in two ways:\n",
        "\n",
        "1.  As part of the column definition:\n",
        "\n",
        "   ```sql\n",
        "CREATE TABLE table_name (\n",
        "        column_name datatype PRIMARY KEY,\n",
        "        ...\n",
        "    );\n",
        "```\n",
        "\n",
        "2.  As a separate table constraint:\n",
        "\n",
        "    ```sql\n",
        "CREATE TABLE table_name (\n",
        "        column_name datatype,\n",
        "        ...,\n",
        "        PRIMARY KEY (column_name)\n",
        "    );\n",
        "```\n",
        "\n",
        "If the primary key is composed of multiple columns (a composite key), you must use the second form and list all the columns in the primary key:\n",
        "\n",
        "```sql\n",
        "CREATE TABLE table_name (\n",
        "    column1 datatype,\n",
        "    column2 datatype,\n",
        "    ...,\n",
        "    PRIMARY KEY (column1, column2)\n",
        ");\n",
        "```\n",
        "\n",
        "#### Defining a Foreign Key\n",
        "\n",
        "To define a foreign key, you use the `FOREIGN KEY` constraint. Again, this can be done as part of the column definition or as a separate table constraint:\n",
        "\n",
        "```sql\n",
        "CREATE TABLE table_name (\n",
        "    ...,\n",
        "    foreign_key_column datatype,\n",
        "    ...,\n",
        "    FOREIGN KEY (foreign_key_column) REFERENCES referenced_table(referenced_column)\n",
        ");\n",
        "```\n",
        "\n",
        "#### The NOT NULL Constraint\n",
        "To specify that a column cannot hold NULL values, use the `NOT NULL` constraint:\n",
        "\n",
        "```sql\n",
        "CREATE TABLE table_name (\n",
        "    column_name datatype NOT NULL,\n",
        "    ...\n",
        ");\n",
        "```\n",
        "\n",
        "#### The UNIQUE Constraint\n",
        "\n",
        "To ensure that all values in a column are different, use the `UNIQUE` constraint:\n",
        "\n",
        "```sql\n",
        "CREATE TABLE table_name (\n",
        "    column_name datatype UNIQUE,\n",
        "    ...\n",
        ");\n",
        "```\n",
        "\n",
        "#### The CHECK Constraint\n",
        "To ensure that a column's value satisfies a boolean expression, use the `CHECK` constraint:\n",
        "\n",
        "```sql\n",
        "CREATE TABLE table_name (\n",
        "    ...,\n",
        "    column_name datatype CHECK (boolean_expression),\n",
        "    ...\n",
        ");\n",
        "```\n",
        "\n",
        "#### The DEFAULT Constraint\n",
        "\n",
        "To specify a default value for a column when no value is provided, use the `DEFAULT` constraint:\n",
        "\n",
        "```sql\n",
        "CREATE TABLE table_name (\n",
        "    column_name datatype DEFAULT default_value,\n",
        "    ...\n",
        ");\n",
        "```\n",
        "\n",
        "These are the basic building blocks for defining the structure and integrity of your database tables. With these tools, you can ensure that your data is consistent, valid, and maintains the relationships you've defined."
      ],
      "metadata": {
        "id": "_e19P3YCVJE_"
      }
    },
    {
      "cell_type": "markdown",
      "source": [
        "### The DROP TABLE IF EXISTS Syntax\n",
        "\n",
        "One more thing to note: in our previous examples, we used the syntax `DROP TABLE IF EXISTS` instead of just `DROP TABLE`. What does this do?\n",
        "\n",
        "`DROP TABLE IF EXISTS` is a safer way to drop tables. If the specified table doesn't exist, `DROP TABLE` would normally throw an error. However, with `IF EXISTS`, the statement doesn't throw an error if the table doesn't exist; it simply does nothing.\n",
        "\n",
        "This is useful in scripts where you want to ensure that a table doesn't exist before creating it, but you don't want the script to fail if the table doesn't exist to begin with."
      ],
      "metadata": {
        "id": "JC3zsdgvW_r2"
      }
    },
    {
      "cell_type": "markdown",
      "source": [
        "## ALTER TABLE: Modifying Your Database Structure\n",
        "\n",
        "As your database evolves, you may find yourself needing to modify the structure of existing tables. Maybe you need to add a new column, change a column's data type, or add a new constraint. This is where the `ALTER TABLE` statement comes in.\n",
        "\n",
        "The `ALTER TABLE` statement allows you to change the structure of an existing table without deleting and recreating it. This is useful because it preserves the existing data in the table.\n",
        "\n",
        "### Adding a New Column\n",
        "\n",
        "To add a new column to an existing table, you use the `ADD COLUMN` clause:\n",
        "\n",
        "```sql\n",
        "ALTER TABLE table_name\n",
        "ADD COLUMN new_column_name datatype constraint;\n",
        "```\n",
        "For example, let's say we want to add a 'DateOfBirth' column to our STUDENT table:"
      ],
      "metadata": {
        "id": "9l9vlR-3YGKy"
      }
    },
    {
      "cell_type": "code",
      "source": [
        "%%sql\n",
        "ALTER TABLE STUDENT\n",
        "ADD COLUMN DateOfBirth DATE;"
      ],
      "metadata": {
        "colab": {
          "base_uri": "https://localhost:8080/"
        },
        "id": "fzOFYhOvYNH4",
        "outputId": "750c6ccc-f8d3-4172-8147-98350142e18c"
      },
      "execution_count": null,
      "outputs": [
        {
          "output_type": "stream",
          "name": "stdout",
          "text": [
            " * sqlite:///covert_academy.db\n",
            "Done.\n"
          ]
        },
        {
          "output_type": "execute_result",
          "data": {
            "text/plain": [
              "[]"
            ]
          },
          "metadata": {},
          "execution_count": 12
        }
      ]
    },
    {
      "cell_type": "markdown",
      "source": [
        "We can know view the table schema to ensure it has been added."
      ],
      "metadata": {
        "id": "JT5pJjmyYifT"
      }
    },
    {
      "cell_type": "code",
      "source": [
        "%%sql\n",
        "PRAGMA table_info(STUDENT);"
      ],
      "metadata": {
        "colab": {
          "base_uri": "https://localhost:8080/",
          "height": 221
        },
        "id": "C7OyemeTYVGo",
        "outputId": "1e257196-b1a6-4e09-e082-26e2e49fc56e"
      },
      "execution_count": null,
      "outputs": [
        {
          "output_type": "stream",
          "name": "stdout",
          "text": [
            " * sqlite:///covert_academy.db\n",
            "Done.\n"
          ]
        },
        {
          "output_type": "execute_result",
          "data": {
            "text/plain": [
              "[(0, 'ID', 'INTEGER', 0, None, 1),\n",
              " (1, 'Name', 'VARCHAR(100)', 1, None, 0),\n",
              " (2, 'Codename', 'VARCHAR(50)', 0, None, 0),\n",
              " (3, 'Nationality', 'VARCHAR(50)', 0, \"'Unknown'\", 0),\n",
              " (4, 'Specialization', 'VARCHAR(100)', 0, None, 0),\n",
              " (5, 'Age', 'INTEGER', 0, None, 0),\n",
              " (6, 'DateOfBirth', 'DATE', 0, None, 0)]"
            ],
            "text/html": [
              "<table>\n",
              "    <thead>\n",
              "        <tr>\n",
              "            <th>cid</th>\n",
              "            <th>name</th>\n",
              "            <th>type</th>\n",
              "            <th>notnull</th>\n",
              "            <th>dflt_value</th>\n",
              "            <th>pk</th>\n",
              "        </tr>\n",
              "    </thead>\n",
              "    <tbody>\n",
              "        <tr>\n",
              "            <td>0</td>\n",
              "            <td>ID</td>\n",
              "            <td>INTEGER</td>\n",
              "            <td>0</td>\n",
              "            <td>None</td>\n",
              "            <td>1</td>\n",
              "        </tr>\n",
              "        <tr>\n",
              "            <td>1</td>\n",
              "            <td>Name</td>\n",
              "            <td>VARCHAR(100)</td>\n",
              "            <td>1</td>\n",
              "            <td>None</td>\n",
              "            <td>0</td>\n",
              "        </tr>\n",
              "        <tr>\n",
              "            <td>2</td>\n",
              "            <td>Codename</td>\n",
              "            <td>VARCHAR(50)</td>\n",
              "            <td>0</td>\n",
              "            <td>None</td>\n",
              "            <td>0</td>\n",
              "        </tr>\n",
              "        <tr>\n",
              "            <td>3</td>\n",
              "            <td>Nationality</td>\n",
              "            <td>VARCHAR(50)</td>\n",
              "            <td>0</td>\n",
              "            <td>&#x27;Unknown&#x27;</td>\n",
              "            <td>0</td>\n",
              "        </tr>\n",
              "        <tr>\n",
              "            <td>4</td>\n",
              "            <td>Specialization</td>\n",
              "            <td>VARCHAR(100)</td>\n",
              "            <td>0</td>\n",
              "            <td>None</td>\n",
              "            <td>0</td>\n",
              "        </tr>\n",
              "        <tr>\n",
              "            <td>5</td>\n",
              "            <td>Age</td>\n",
              "            <td>INTEGER</td>\n",
              "            <td>0</td>\n",
              "            <td>None</td>\n",
              "            <td>0</td>\n",
              "        </tr>\n",
              "        <tr>\n",
              "            <td>6</td>\n",
              "            <td>DateOfBirth</td>\n",
              "            <td>DATE</td>\n",
              "            <td>0</td>\n",
              "            <td>None</td>\n",
              "            <td>0</td>\n",
              "        </tr>\n",
              "    </tbody>\n",
              "</table>"
            ]
          },
          "metadata": {},
          "execution_count": 13
        }
      ]
    },
    {
      "cell_type": "markdown",
      "source": [
        "### Dropping a Column\n",
        "We can drop (remove) a column using the drop table keyword:\n",
        "\n",
        "```sql\n",
        "ALTER TABLE table_name\n",
        "DROP COLUMN column_name\n",
        "```\n",
        "Let's now drop the DateOfBirth column.  "
      ],
      "metadata": {
        "id": "XkU9xnxaYnT1"
      }
    },
    {
      "cell_type": "code",
      "source": [
        "%%sql\n",
        "ALTER TABLE STUDENT\n",
        "DROP COLUMN DateOfBirth;"
      ],
      "metadata": {
        "colab": {
          "base_uri": "https://localhost:8080/"
        },
        "id": "C3HDFwLpYQJX",
        "outputId": "be330e98-bf88-4355-b8a1-0fcf91e4495e"
      },
      "execution_count": null,
      "outputs": [
        {
          "output_type": "stream",
          "name": "stdout",
          "text": [
            " * sqlite:///covert_academy.db\n",
            "Done.\n"
          ]
        },
        {
          "output_type": "execute_result",
          "data": {
            "text/plain": [
              "[]"
            ]
          },
          "metadata": {},
          "execution_count": 14
        }
      ]
    },
    {
      "cell_type": "markdown",
      "source": [
        "### Renaming Tables and Columns\n",
        "We can also rename tables and columns. For examples, let's suppose we prefer table names like `Students`, `Classes`, and `Enrollments`."
      ],
      "metadata": {
        "id": "ALfNldFrZ96O"
      }
    },
    {
      "cell_type": "code",
      "source": [
        "%%sql\n",
        "ALTER TABLE STUDENT\n",
        "RENAME TO Students;"
      ],
      "metadata": {
        "colab": {
          "base_uri": "https://localhost:8080/"
        },
        "id": "0ZjSNaWxaJgJ",
        "outputId": "b5422921-c35f-42d5-c37c-e52362e065ca"
      },
      "execution_count": null,
      "outputs": [
        {
          "output_type": "stream",
          "name": "stdout",
          "text": [
            " * sqlite:///covert_academy.db\n",
            "Done.\n"
          ]
        },
        {
          "output_type": "execute_result",
          "data": {
            "text/plain": [
              "[]"
            ]
          },
          "metadata": {},
          "execution_count": 15
        }
      ]
    },
    {
      "cell_type": "code",
      "source": [
        "%%sql\n",
        "ALTER TABLE CLASS\n",
        "RENAME TO Classes;"
      ],
      "metadata": {
        "colab": {
          "base_uri": "https://localhost:8080/"
        },
        "id": "scWl2QTTaNPn",
        "outputId": "a85f5e99-10d3-4d86-b38b-34f63fc39faa"
      },
      "execution_count": null,
      "outputs": [
        {
          "output_type": "stream",
          "name": "stdout",
          "text": [
            " * sqlite:///covert_academy.db\n",
            "Done.\n"
          ]
        },
        {
          "output_type": "execute_result",
          "data": {
            "text/plain": [
              "[]"
            ]
          },
          "metadata": {},
          "execution_count": 16
        }
      ]
    },
    {
      "cell_type": "code",
      "source": [
        "%%sql\n",
        "ALTER TABLE ENROLLMENT\n",
        "RENAME TO Enrollments;"
      ],
      "metadata": {
        "colab": {
          "base_uri": "https://localhost:8080/"
        },
        "id": "8z31cyZZaP6F",
        "outputId": "1d6430c0-6113-47ad-f743-f6847e359b69"
      },
      "execution_count": null,
      "outputs": [
        {
          "output_type": "stream",
          "name": "stdout",
          "text": [
            " * sqlite:///covert_academy.db\n",
            "Done.\n"
          ]
        },
        {
          "output_type": "execute_result",
          "data": {
            "text/plain": [
              "[]"
            ]
          },
          "metadata": {},
          "execution_count": 17
        }
      ]
    },
    {
      "cell_type": "markdown",
      "source": [
        "### Modifying a Column's Definition\n",
        "\n",
        "To change a column's data type in databases like Oracle, MySQL, or Postgres, you use the `MODIFY COLUMN` clause (or `ALTER COLUMN` in other databases):\n",
        "\n",
        "```sql\n",
        "ALTER TABLE table_name\n",
        "MODIFY COLUMN column_name new_datatype;\n",
        "```\n",
        "\n",
        "For example, if you wanted to change the 'Specialization' column in the `STUDENT` table to have a maximum length of 200 characters:\n",
        "\n",
        "```sql\n",
        "ALTER TABLE STUDENT\n",
        "MODIFY COLUMN Specialization VARCHAR(200);\n",
        "```\n",
        "\n",
        "You can also do something similar in these database to add constraints:\n",
        "\n",
        "```sql\n",
        "ALTER TABLE STUDENT\n",
        "ADD CONSTRAINT CHK_Age CHECK (Age < 100);\n",
        "```\n",
        "\n",
        "However, SQLite has limited support for `ALTER TABLE`. While you can rename, add, or drop columns, you can't directly modify a column's datatype or constraints. To achieve this in SQLite, you need to use a workaround:\n",
        "\n",
        "\n",
        "1.  Create a new column with the desired constraints (or new data type).\n",
        "2.  Copy the data from the old column to the new column.\n",
        "3.  Drop the old column.\n",
        "4.  Rename the new column to the original name\n",
        "\n",
        "For example, here's how we can add a constraint to make sure age is between 0 and 100."
      ],
      "metadata": {
        "id": "jGuTb3tKcG62"
      }
    },
    {
      "cell_type": "code",
      "source": [
        "%%sql\n",
        "-- Step 1: Add a new column with the desired constraints\n",
        "ALTER TABLE Students ADD COLUMN Age_NEW INTEGER CHECK (Age_NEW < 100);\n",
        "\n",
        "-- Step 2: Copy the data from the old column to the new column\n",
        "-- Not needed here, since our table is empty!\n",
        "UPDATE Students SET Age_NEW = Age;\n",
        "\n",
        "-- Step 3: Drop the old column\n",
        "ALTER TABLE Students DROP COLUMN Age;\n",
        "\n",
        "-- Step 4: Rename the new column to the original name\n",
        "ALTER TABLE Students RENAME COLUMN Age_NEW TO Age;\n"
      ],
      "metadata": {
        "colab": {
          "base_uri": "https://localhost:8080/"
        },
        "id": "fuyG_C8kcHuH",
        "outputId": "ec493e53-814d-428a-b481-4cefe3da5b9b"
      },
      "execution_count": null,
      "outputs": [
        {
          "output_type": "stream",
          "name": "stdout",
          "text": [
            " * sqlite:///covert_academy.db\n",
            "Done.\n",
            "0 rows affected.\n",
            "Done.\n",
            "Done.\n"
          ]
        },
        {
          "output_type": "execute_result",
          "data": {
            "text/plain": [
              "[]"
            ]
          },
          "metadata": {},
          "execution_count": 18
        }
      ]
    },
    {
      "cell_type": "markdown",
      "source": [
        "## Supertypes and Subtypes at the Spy Academy\n",
        "\n",
        "As our Spy Academy database grows, we might realize that some of our entities have common attributes. For example, both students and instructors are people, and they likely share attributes like name, date of birth, and nationality. In database design, we can model this relationship using **supertypes and subtypes**.\n",
        "\n",
        "A **supertype** is an entity that contains the common attributes and relationships of one or more other entities, which are called **subtypes**. The subtypes inherit the attributes and relationships of the supertype and can also have their own specific attributes and relationships.\n",
        "\n",
        "In our Spy Academy example, we could have a `persons` supertype, with `students` and `instructors` as subtypes. Both students and instructors would inherit attributes like name and date of birth from the `persons` supertype, but they would also have their own specific attributes (like specialization for students and office number for instructors).\n",
        "\n",
        "There are several ways to implement supertypes and subtypes in a relational database. We'll use the \"Class Table Inheritance\" approach, where each entity (supertype and subtypes) gets its own table, and the subtype tables reference the supertype table with a foreign key.\n",
        "\n",
        "### Implementing Supertypes and Subtypes\n",
        "\n",
        "Let's start by creating the `Persons` table, which will be our supertype:"
      ],
      "metadata": {
        "id": "I71toFOcHOyC"
      }
    },
    {
      "cell_type": "code",
      "source": [
        "%%sql\n",
        "DROP TABLE IF EXISTS Persons;\n",
        "\n",
        "CREATE TABLE Persons (\n",
        "    id INTEGER PRIMARY KEY,\n",
        "    name VARCHAR(100) NOT NULL,\n",
        "    date_of_birth DATE,\n",
        "    nationality VARCHAR(50) DEFAULT 'Unknown'\n",
        ");"
      ],
      "metadata": {
        "colab": {
          "base_uri": "https://localhost:8080/"
        },
        "id": "moJ6svT3HPj_",
        "outputId": "60060eaf-3c2d-4067-be51-01e412d1d7b2"
      },
      "execution_count": null,
      "outputs": [
        {
          "output_type": "stream",
          "name": "stdout",
          "text": [
            " * sqlite:///covert_academy.db\n",
            "Done.\n",
            "Done.\n"
          ]
        },
        {
          "output_type": "execute_result",
          "data": {
            "text/plain": [
              "[]"
            ]
          },
          "metadata": {},
          "execution_count": 35
        }
      ]
    },
    {
      "cell_type": "markdown",
      "source": [
        "In this table, we've added a `DEFAULT` constraint to set the default nationality to 'Unknown' if not provided.\n",
        "\n",
        "Now, let's create the `Students` and `Instructors` tables as subtypes. They will reference the `Persons` table with a foreign key:\n"
      ],
      "metadata": {
        "id": "WxGMN7qLHlRZ"
      }
    },
    {
      "cell_type": "code",
      "source": [
        "%%sql\n",
        "\n",
        "DROP TABLE IF EXISTS Students;\n",
        "CREATE TABLE Students (\n",
        "    person_id INTEGER PRIMARY KEY,\n",
        "    codename VARCHAR(50) UNIQUE,\n",
        "    specialization VARCHAR(200),\n",
        "    FOREIGN KEY (person_id) REFERENCES Persons (id)\n",
        ");\n",
        "\n",
        "DROP TABLE IF EXISTS Instructors;\n",
        "CREATE TABLE Instructors (\n",
        "    person_id INTEGER PRIMARY KEY,\n",
        "    office_number VARCHAR(20),\n",
        "    FOREIGN KEY (person_id) REFERENCES Persons (id)\n",
        ");"
      ],
      "metadata": {
        "colab": {
          "base_uri": "https://localhost:8080/"
        },
        "id": "8dIcUXuZHmEs",
        "outputId": "9f72d1c7-0c70-4e89-8db2-bbf7c1e92d99"
      },
      "execution_count": null,
      "outputs": [
        {
          "output_type": "stream",
          "name": "stdout",
          "text": [
            " * sqlite:///covert_academy.db\n",
            "Done.\n",
            "Done.\n",
            "Done.\n",
            "Done.\n"
          ]
        },
        {
          "output_type": "execute_result",
          "data": {
            "text/plain": [
              "[]"
            ]
          },
          "metadata": {},
          "execution_count": 38
        }
      ]
    },
    {
      "cell_type": "markdown",
      "source": [
        "In these tables, the `person_id` column is a foreign key that references the `id` column of the `Persons` table. This establishes the inheritance relationship. We've also made `person_id` `NOT NULL` to ensure every student and instructor is linked to a person.\n",
        "\n",
        "Finally, let's modify the `Enrollments` table to include a `role` column, which can be either 'S' (for student) or 'I' (for instructor):"
      ],
      "metadata": {
        "id": "a_9LxCXqIoH0"
      }
    },
    {
      "cell_type": "code",
      "source": [
        "%%sql\n",
        "DROP TABLE IF EXISTS Enrollments;\n",
        "CREATE TABLE Enrollments (\n",
        "    person_id INTEGER,\n",
        "    class_id INTEGER,\n",
        "    role CHAR(1) CHECK (role IN ('S', 'I')),\n",
        "    PRIMARY KEY (person_id, class_id),\n",
        "    FOREIGN KEY (person_id) REFERENCES Persons (id),\n",
        "    FOREIGN KEY (class_id) REFERENCES Classes (id)\n",
        ");"
      ],
      "metadata": {
        "colab": {
          "base_uri": "https://localhost:8080/"
        },
        "id": "Z7vtxA9UHXsT",
        "outputId": "1997dbd3-926e-482d-c510-f54131652d70"
      },
      "execution_count": null,
      "outputs": [
        {
          "output_type": "stream",
          "name": "stdout",
          "text": [
            " * sqlite:///covert_academy.db\n",
            "Done.\n",
            "Done.\n"
          ]
        },
        {
          "output_type": "execute_result",
          "data": {
            "text/plain": [
              "[]"
            ]
          },
          "metadata": {},
          "execution_count": 49
        }
      ]
    },
    {
      "cell_type": "markdown",
      "source": [
        "Finally, let's recreate the `Classes` table. We'll no longer need to store an \"instructor\" attribute, since this will be handled by enrollment."
      ],
      "metadata": {
        "id": "1n8VVJtuOs3I"
      }
    },
    {
      "cell_type": "code",
      "source": [
        "%%sql\n",
        "DROP TABLE IF EXISTS Classes;\n",
        "CREATE TABLE Classes (\n",
        "    id INTEGER PRIMARY KEY,\n",
        "    name VARCHAR(100) NOT NULL,\n",
        "    description VARCHAR(200),\n",
        "    location VARCHAR(100),\n",
        "    start_date DATE,\n",
        "    end_date DATE,\n",
        "    CHECK (start_date < end_date)\n",
        ");"
      ],
      "metadata": {
        "colab": {
          "base_uri": "https://localhost:8080/"
        },
        "id": "MmJUAqa5O2n-",
        "outputId": "12f20c54-63a5-4db1-d6ea-ae0b58a13f70"
      },
      "execution_count": null,
      "outputs": [
        {
          "output_type": "stream",
          "name": "stdout",
          "text": [
            " * sqlite:///covert_academy.db\n",
            "Done.\n",
            "Done.\n"
          ]
        },
        {
          "output_type": "execute_result",
          "data": {
            "text/plain": [
              "[]"
            ]
          },
          "metadata": {},
          "execution_count": 43
        }
      ]
    },
    {
      "cell_type": "markdown",
      "source": [
        "## Final ERD for Spy School\n",
        "And here is the final ERD for our Spy School database."
      ],
      "metadata": {
        "id": "GidyLTTbIfeB"
      }
    },
    {
      "cell_type": "code",
      "source": [
        "mm(\"\"\"\n",
        "    erDiagram\n",
        "    Persons {\n",
        "        INTEGER id PK\n",
        "        VARCHAR name\n",
        "        DATE date_of_birth\n",
        "        VARCHAR nationality    }\n",
        "\n",
        "    Students {\n",
        "        INTEGER person_id PK, FK\n",
        "        VARCHAR codename\n",
        "        VARCHAR specialization    }\n",
        "\n",
        "    Instructors {\n",
        "        INTEGER person_id PK, FK\n",
        "        VARCHAR office_number     }\n",
        "\n",
        "    Classes {\n",
        "        INTEGER id PK\n",
        "        VARCHAR name\n",
        "        VARCHAR description\n",
        "        VARCHAR location\n",
        "        DATE start_date\n",
        "        DATE end_date     }\n",
        "\n",
        "    Enrollments {\n",
        "        INTEGER person_id PK, FK\n",
        "        INTEGER class_id PK, FK\n",
        "        CHAR role     }\n",
        "\n",
        "    Persons ||--o| Students : \"is a\"\n",
        "    Persons ||--o| Instructors : \"is a\"\n",
        "    Persons ||--o{ Enrollments : \"teaches or takes\"\n",
        "    Classes ||--o{ Enrollments : \"has\"\n",
        "    \"\"\"\n",
        ")"
      ],
      "metadata": {
        "colab": {
          "base_uri": "https://localhost:8080/",
          "height": 407
        },
        "id": "-XCZvgovIowD",
        "outputId": "c07f1c3b-11d0-4d02-fda5-7e6fa2a8b903"
      },
      "execution_count": null,
      "outputs": [
        {
          "output_type": "display_data",
          "data": {
            "text/html": [
              "<img src=\"https://mermaid.ink/img/CiAgICBlckRpYWdyYW0KICAgIFBlcnNvbnMgewogICAgICAgIElOVEVHRVIgaWQgUEsKICAgICAgICBWQVJDSEFSIG5hbWUKICAgICAgICBEQVRFIGRhdGVfb2ZfYmlydGgKICAgICAgICBWQVJDSEFSIG5hdGlvbmFsaXR5ICAgIH0KCiAgICBTdHVkZW50cyB7CiAgICAgICAgSU5URUdFUiBwZXJzb25faWQgUEssIEZLCiAgICAgICAgVkFSQ0hBUiBjb2RlbmFtZQogICAgICAgIFZBUkNIQVIgc3BlY2lhbGl6YXRpb24gICAgfQoKICAgIEluc3RydWN0b3JzIHsKICAgICAgICBJTlRFR0VSIHBlcnNvbl9pZCBQSywgRksKICAgICAgICBWQVJDSEFSIG9mZmljZV9udW1iZXIgICAgIH0KCiAgICBDbGFzc2VzIHsKICAgICAgICBJTlRFR0VSIGlkIFBLCiAgICAgICAgVkFSQ0hBUiBuYW1lCiAgICAgICAgVkFSQ0hBUiBkZXNjcmlwdGlvbgogICAgICAgIFZBUkNIQVIgbG9jYXRpb24KICAgICAgICBEQVRFIHN0YXJ0X2RhdGUKICAgICAgICBEQVRFIGVuZF9kYXRlICAgICB9CgogICAgRW5yb2xsbWVudHMgewogICAgICAgIElOVEVHRVIgcGVyc29uX2lkIFBLLCBGSwogICAgICAgIElOVEVHRVIgY2xhc3NfaWQgUEssIEZLCiAgICAgICAgQ0hBUiByb2xlICAgICB9CgogICAgUGVyc29ucyB8fC0tb3wgU3R1ZGVudHMgOiAiaXMgYSIKICAgIFBlcnNvbnMgfHwtLW98IEluc3RydWN0b3JzIDogImlzIGEiCiAgICBQZXJzb25zIHx8LS1veyBFbnJvbGxtZW50cyA6ICJ0ZWFjaGVzIG9yIHRha2VzIgogICAgQ2xhc3NlcyB8fC0tb3sgRW5yb2xsbWVudHMgOiAiaGFzIgogICAg\"/>"
            ],
            "text/plain": [
              "<IPython.core.display.Image object>"
            ]
          },
          "metadata": {}
        }
      ]
    },
    {
      "cell_type": "markdown",
      "source": [
        "### Querying Supertypes and Subtypes\n",
        "\n",
        "Querying supertypes and subtypes involves using joins. For example, to get the names and codenames of all students, we would do:\n",
        "\n",
        "```sql\n",
        "-- Since we don't have any data yet, we can't run this!\n",
        "SELECT p.name, s.codename\n",
        "FROM persons p\n",
        "JOIN students s ON p.id = s.person_id;\n",
        "```\n",
        "\n",
        "And to get all people (both students and instructors) enrolled in a specific class:\n",
        "\n",
        "```sql\n",
        "SELECT p.name, e.role\n",
        "FROM persons p\n",
        "JOIN enrollments e ON p.id = e.person_id\n",
        "WHERE e.class_id = 1;\n",
        "```\n",
        "\n",
        "Supertypes and subtypes allow us to model inheritance relationships in our database, reducing data redundancy and making our schema more flexible. They're a powerful tool in database design when used appropriately."
      ],
      "metadata": {
        "id": "tbGQ7hMiKPFH"
      }
    },
    {
      "cell_type": "code",
      "source": [
        "%%sql\n",
        "--get PRAGMA for Classes\n",
        "PRAGMA table_info(Classes);"
      ],
      "metadata": {
        "colab": {
          "base_uri": "https://localhost:8080/",
          "height": 221
        },
        "id": "xk2SGZwyJqg0",
        "outputId": "8f152566-4827-4d9e-fa92-b6eb3820fd98"
      },
      "execution_count": null,
      "outputs": [
        {
          "output_type": "stream",
          "name": "stdout",
          "text": [
            " * sqlite:///covert_academy.db\n",
            "Done.\n"
          ]
        },
        {
          "output_type": "execute_result",
          "data": {
            "text/plain": [
              "[(0, 'ID', 'INTEGER', 0, None, 1),\n",
              " (1, 'Name', 'VARCHAR(100)', 1, None, 0),\n",
              " (2, 'Description', 'VARCHAR(200)', 0, None, 0),\n",
              " (3, 'Instructor', 'VARCHAR(100)', 1, None, 0),\n",
              " (4, 'Location', 'VARCHAR(100)', 0, None, 0),\n",
              " (5, 'StartDate', 'DATE', 0, None, 0),\n",
              " (6, 'EndDate', 'DATE', 0, None, 0)]"
            ],
            "text/html": [
              "<table>\n",
              "    <thead>\n",
              "        <tr>\n",
              "            <th>cid</th>\n",
              "            <th>name</th>\n",
              "            <th>type</th>\n",
              "            <th>notnull</th>\n",
              "            <th>dflt_value</th>\n",
              "            <th>pk</th>\n",
              "        </tr>\n",
              "    </thead>\n",
              "    <tbody>\n",
              "        <tr>\n",
              "            <td>0</td>\n",
              "            <td>ID</td>\n",
              "            <td>INTEGER</td>\n",
              "            <td>0</td>\n",
              "            <td>None</td>\n",
              "            <td>1</td>\n",
              "        </tr>\n",
              "        <tr>\n",
              "            <td>1</td>\n",
              "            <td>Name</td>\n",
              "            <td>VARCHAR(100)</td>\n",
              "            <td>1</td>\n",
              "            <td>None</td>\n",
              "            <td>0</td>\n",
              "        </tr>\n",
              "        <tr>\n",
              "            <td>2</td>\n",
              "            <td>Description</td>\n",
              "            <td>VARCHAR(200)</td>\n",
              "            <td>0</td>\n",
              "            <td>None</td>\n",
              "            <td>0</td>\n",
              "        </tr>\n",
              "        <tr>\n",
              "            <td>3</td>\n",
              "            <td>Instructor</td>\n",
              "            <td>VARCHAR(100)</td>\n",
              "            <td>1</td>\n",
              "            <td>None</td>\n",
              "            <td>0</td>\n",
              "        </tr>\n",
              "        <tr>\n",
              "            <td>4</td>\n",
              "            <td>Location</td>\n",
              "            <td>VARCHAR(100)</td>\n",
              "            <td>0</td>\n",
              "            <td>None</td>\n",
              "            <td>0</td>\n",
              "        </tr>\n",
              "        <tr>\n",
              "            <td>5</td>\n",
              "            <td>StartDate</td>\n",
              "            <td>DATE</td>\n",
              "            <td>0</td>\n",
              "            <td>None</td>\n",
              "            <td>0</td>\n",
              "        </tr>\n",
              "        <tr>\n",
              "            <td>6</td>\n",
              "            <td>EndDate</td>\n",
              "            <td>DATE</td>\n",
              "            <td>0</td>\n",
              "            <td>None</td>\n",
              "            <td>0</td>\n",
              "        </tr>\n",
              "    </tbody>\n",
              "</table>"
            ]
          },
          "metadata": {},
          "execution_count": 25
        }
      ]
    },
    {
      "cell_type": "markdown",
      "source": [
        "## Inserting Sample Data\n",
        "In the next chapter, we'll cover inserting data in much more detail. For now, though, here are a few rows of data so that we can test our database."
      ],
      "metadata": {
        "id": "7xbRkC84KvbZ"
      }
    },
    {
      "cell_type": "code",
      "source": [
        "%%sql\n",
        "-- Insert data into the Persons table\n",
        "DELETE FROM Persons;\n",
        "INSERT INTO Persons (Name, date_of_birth, Nationality)\n",
        "VALUES\n",
        "    ('James Bond', '1920-11-11', 'British'),\n",
        "    ('Ethan Hunt', '1964-08-18', 'American'),\n",
        "    ('Jason Bourne', '1970-09-13', 'American'),\n",
        "    ('Natasha Romanoff', '1984-11-22', 'Russian'),\n",
        "    ('Harry Hart', '1960-09-17', 'British'),\n",
        "    ('Lorraine Broughton', '1990-11-10', 'British'),\n",
        "    ('Evelyn Salt', '1980-09-14', 'American');\n",
        "\n",
        "-- Insert data into the Students table\n",
        "DELETE FROM Students;\n",
        "INSERT INTO Students (person_id, codename, specialization)\n",
        "VALUES\n",
        "    (1, '007', 'Covert Operations'),\n",
        "    (2, 'Raptor', 'Infiltration'),\n",
        "    (4, 'Black Widow', 'Assassination'),\n",
        "    (6, 'Wisdom', 'Counter-Intelligence');\n",
        "\n",
        "-- Insert data into the Instructors table\n",
        "DELETE FROM Instructors;\n",
        "INSERT INTO Instructors (person_id, office_number)\n",
        "VALUES\n",
        "    (3, '101A'),\n",
        "    (5, '221B'),\n",
        "    (7, 'X-7');\n",
        "\n",
        "-- Insert data into the Classes table\n",
        "DELETE FROM Classes;\n",
        "INSERT INTO Classes (name, description, start_date, end_date)\n",
        "VALUES\n",
        "    ('Espionage 101', 'Introduction to Spying', '2023-09-01', '2023-12-15'),\n",
        "    ('Advanced Disguise', 'Becoming Anyone', '2023-09-01', '2023-11-30'),\n",
        "    ('Infiltration Tactics', 'Getting In and Out', '2023-10-15', '2024-01-15'),\n",
        "    ('Weapons Training', 'From Pens to Rocket Launchers', '2024-01-15', '2024-04-30');\n",
        "\n",
        "-- Insert data into the Enrollments table\n",
        "DELETE FROM Enrollments;\n",
        "INSERT INTO Enrollments (person_id, class_iD, role)\n",
        "VALUES\n",
        "    (1, 1, 'S'),\n",
        "    (2, 1, 'S'),\n",
        "    (3, 1, 'I'),\n",
        "    (4, 2, 'S'),\n",
        "    (5, 2, 'I'),\n",
        "    (6, 3, 'S'),\n",
        "    (7, 3, 'I'),\n",
        "    (1, 4, 'S'),\n",
        "    (2, 4, 'S'),\n",
        "    (4, 4, 'S'),\n",
        "    (5, 4, 'I');"
      ],
      "metadata": {
        "colab": {
          "base_uri": "https://localhost:8080/"
        },
        "id": "0z_R1bP5K6qU",
        "outputId": "c0d0d3ea-3bd6-490c-8fb1-8e81e6b99730"
      },
      "execution_count": null,
      "outputs": [
        {
          "output_type": "stream",
          "name": "stdout",
          "text": [
            " * sqlite:///covert_academy.db\n",
            "7 rows affected.\n",
            "7 rows affected.\n",
            "4 rows affected.\n",
            "4 rows affected.\n",
            "3 rows affected.\n",
            "3 rows affected.\n",
            "4 rows affected.\n",
            "4 rows affected.\n",
            "0 rows affected.\n",
            "11 rows affected.\n"
          ]
        },
        {
          "output_type": "execute_result",
          "data": {
            "text/plain": [
              "[]"
            ]
          },
          "metadata": {},
          "execution_count": 51
        }
      ]
    },
    {
      "cell_type": "markdown",
      "source": [
        "## Sample Queries\n",
        "Now, we can run some sample queries against the database. First, let's get a list of the students and the classes they are enrolled in."
      ],
      "metadata": {
        "id": "WrvvJsSORAkQ"
      }
    },
    {
      "cell_type": "code",
      "source": [
        "%%sql\n",
        "SELECT\n",
        "  s.codename,\n",
        "  c.name AS \"class_name\"\n",
        "FROM\n",
        "  Students s\n",
        "  JOIN Enrollments e ON s.person_id = e.person_id\n",
        "  JOIN Classes c ON e.class_id = c.id\n",
        "WHERE e.role = 'S';"
      ],
      "metadata": {
        "colab": {
          "base_uri": "https://localhost:8080/",
          "height": 221
        },
        "id": "P9JiT9b3RMNi",
        "outputId": "046bbd6f-8c43-4961-e142-2575ab67f166"
      },
      "execution_count": null,
      "outputs": [
        {
          "output_type": "stream",
          "name": "stdout",
          "text": [
            " * sqlite:///covert_academy.db\n",
            "Done.\n"
          ]
        },
        {
          "output_type": "execute_result",
          "data": {
            "text/plain": [
              "[('007', 'Espionage 101'),\n",
              " ('Raptor', 'Espionage 101'),\n",
              " ('Black Widow', 'Advanced Disguise'),\n",
              " ('Wisdom', 'Infiltration Tactics'),\n",
              " ('007', 'Weapons Training'),\n",
              " ('Raptor', 'Weapons Training'),\n",
              " ('Black Widow', 'Weapons Training')]"
            ],
            "text/html": [
              "<table>\n",
              "    <thead>\n",
              "        <tr>\n",
              "            <th>codename</th>\n",
              "            <th>class_name</th>\n",
              "        </tr>\n",
              "    </thead>\n",
              "    <tbody>\n",
              "        <tr>\n",
              "            <td>007</td>\n",
              "            <td>Espionage 101</td>\n",
              "        </tr>\n",
              "        <tr>\n",
              "            <td>Raptor</td>\n",
              "            <td>Espionage 101</td>\n",
              "        </tr>\n",
              "        <tr>\n",
              "            <td>Black Widow</td>\n",
              "            <td>Advanced Disguise</td>\n",
              "        </tr>\n",
              "        <tr>\n",
              "            <td>Wisdom</td>\n",
              "            <td>Infiltration Tactics</td>\n",
              "        </tr>\n",
              "        <tr>\n",
              "            <td>007</td>\n",
              "            <td>Weapons Training</td>\n",
              "        </tr>\n",
              "        <tr>\n",
              "            <td>Raptor</td>\n",
              "            <td>Weapons Training</td>\n",
              "        </tr>\n",
              "        <tr>\n",
              "            <td>Black Widow</td>\n",
              "            <td>Weapons Training</td>\n",
              "        </tr>\n",
              "    </tbody>\n",
              "</table>"
            ]
          },
          "metadata": {},
          "execution_count": 58
        }
      ]
    },
    {
      "cell_type": "markdown",
      "source": [
        "We could also alter this query to include the information about the student from the `Persons` table."
      ],
      "metadata": {
        "id": "sPsmWepVRhZa"
      }
    },
    {
      "cell_type": "code",
      "source": [
        "%%sql\n",
        "SELECT\n",
        "  p.name AS \"student_name\",\n",
        "  s.codename,\n",
        "  c.name AS \"class_name\"\n",
        "FROM\n",
        "  Students s\n",
        "  JOIN Enrollments e ON s.person_id = e.person_id\n",
        "  JOIN Classes c ON e.class_id = c.id\n",
        "  JOIN Persons p ON s.person_id = p.id\n",
        "WHERE e.role = 'S';"
      ],
      "metadata": {
        "colab": {
          "base_uri": "https://localhost:8080/",
          "height": 221
        },
        "id": "VS9ZS9HbRo4m",
        "outputId": "f33305b6-d0e9-4be2-b502-de466944f41a"
      },
      "execution_count": null,
      "outputs": [
        {
          "output_type": "stream",
          "name": "stdout",
          "text": [
            " * sqlite:///covert_academy.db\n",
            "Done.\n"
          ]
        },
        {
          "output_type": "execute_result",
          "data": {
            "text/plain": [
              "[('James Bond', '007', 'Espionage 101'),\n",
              " ('Ethan Hunt', 'Raptor', 'Espionage 101'),\n",
              " ('Natasha Romanoff', 'Black Widow', 'Advanced Disguise'),\n",
              " ('Lorraine Broughton', 'Wisdom', 'Infiltration Tactics'),\n",
              " ('James Bond', '007', 'Weapons Training'),\n",
              " ('Ethan Hunt', 'Raptor', 'Weapons Training'),\n",
              " ('Natasha Romanoff', 'Black Widow', 'Weapons Training')]"
            ],
            "text/html": [
              "<table>\n",
              "    <thead>\n",
              "        <tr>\n",
              "            <th>student_name</th>\n",
              "            <th>codename</th>\n",
              "            <th>class_name</th>\n",
              "        </tr>\n",
              "    </thead>\n",
              "    <tbody>\n",
              "        <tr>\n",
              "            <td>James Bond</td>\n",
              "            <td>007</td>\n",
              "            <td>Espionage 101</td>\n",
              "        </tr>\n",
              "        <tr>\n",
              "            <td>Ethan Hunt</td>\n",
              "            <td>Raptor</td>\n",
              "            <td>Espionage 101</td>\n",
              "        </tr>\n",
              "        <tr>\n",
              "            <td>Natasha Romanoff</td>\n",
              "            <td>Black Widow</td>\n",
              "            <td>Advanced Disguise</td>\n",
              "        </tr>\n",
              "        <tr>\n",
              "            <td>Lorraine Broughton</td>\n",
              "            <td>Wisdom</td>\n",
              "            <td>Infiltration Tactics</td>\n",
              "        </tr>\n",
              "        <tr>\n",
              "            <td>James Bond</td>\n",
              "            <td>007</td>\n",
              "            <td>Weapons Training</td>\n",
              "        </tr>\n",
              "        <tr>\n",
              "            <td>Ethan Hunt</td>\n",
              "            <td>Raptor</td>\n",
              "            <td>Weapons Training</td>\n",
              "        </tr>\n",
              "        <tr>\n",
              "            <td>Natasha Romanoff</td>\n",
              "            <td>Black Widow</td>\n",
              "            <td>Weapons Training</td>\n",
              "        </tr>\n",
              "    </tbody>\n",
              "</table>"
            ]
          },
          "metadata": {},
          "execution_count": 55
        }
      ]
    },
    {
      "cell_type": "markdown",
      "source": [
        "Or, we could get a count of the classes taught by each instructor."
      ],
      "metadata": {
        "id": "RNYMp71vR_-A"
      }
    },
    {
      "cell_type": "code",
      "source": [
        "%%sql\n",
        "SELECT\n",
        "  p.name AS \"instructor_name\",\n",
        "  COUNT(e.class_id) AS \"classes_taught\"\n",
        "FROM\n",
        "  Instructors i\n",
        "  JOIN Enrollments e ON i.person_id = e.person_id\n",
        "  JOIN Persons p ON i.person_id = p.id\n",
        "WHERE e.role = 'I'\n",
        "GROUP BY i.person_id;"
      ],
      "metadata": {
        "colab": {
          "base_uri": "https://localhost:8080/",
          "height": 137
        },
        "id": "B7xiyQSUSEcx",
        "outputId": "d2089343-f802-480c-a144-0d54c673f2cc"
      },
      "execution_count": null,
      "outputs": [
        {
          "output_type": "stream",
          "name": "stdout",
          "text": [
            " * sqlite:///covert_academy.db\n",
            "Done.\n"
          ]
        },
        {
          "output_type": "execute_result",
          "data": {
            "text/plain": [
              "[('Jason Bourne', 1), ('Harry Hart', 2), ('Evelyn Salt', 1)]"
            ],
            "text/html": [
              "<table>\n",
              "    <thead>\n",
              "        <tr>\n",
              "            <th>instructor_name</th>\n",
              "            <th>classes_taught</th>\n",
              "        </tr>\n",
              "    </thead>\n",
              "    <tbody>\n",
              "        <tr>\n",
              "            <td>Jason Bourne</td>\n",
              "            <td>1</td>\n",
              "        </tr>\n",
              "        <tr>\n",
              "            <td>Harry Hart</td>\n",
              "            <td>2</td>\n",
              "        </tr>\n",
              "        <tr>\n",
              "            <td>Evelyn Salt</td>\n",
              "            <td>1</td>\n",
              "        </tr>\n",
              "    </tbody>\n",
              "</table>"
            ]
          },
          "metadata": {},
          "execution_count": 57
        }
      ]
    },
    {
      "cell_type": "markdown",
      "source": [
        "## Lab: SQL Data Definition Langauge Practice\n",
        "\n"
      ],
      "metadata": {
        "id": "Ul24Rgs0Guxw"
      }
    },
    {
      "cell_type": "code",
      "source": [
        "!wget https://github.com/brendanpshea/database_sql/raw/main/sql_ddl_quiz/sql_ddl_quiz.py -q -nc\n",
        "from sql_ddl_quiz import *\n",
        "\n",
        "quiz_url = 'https://github.com/brendanpshea/database_sql/raw/main/sql_ddl_quiz/sqy_sql_ddl_quiz.json'\n",
        "sql_quiz = SQLDDLQuiz(quiz_url)"
      ],
      "metadata": {
        "id": "pkEs-ip9GxPz",
        "outputId": "86257768-c5a4-4d34-ea42-348ee4ab11ad",
        "colab": {
          "base_uri": "https://localhost:8080/",
          "height": 668,
          "referenced_widgets": [
            "d1c1107ceb364ea9af075a294c0a7bee",
            "98f36ff6d816417faf79a721315bd939",
            "cd1cebabdb204e438f15a16cebbf897f",
            "12e8490738e54135925ab7bfaefd9146",
            "42d83bca55704da296e71420ef3d3983",
            "395362e5951640d5a440d20c7b021b37",
            "17502cd26deb467fb83a209814238edc",
            "10781eeae0a544f8acdfb3397f5525b3",
            "4918ce5328f84d8493dbad4ea66ec60d",
            "cf40a2d17723461aade263c4db1af23e",
            "5c620decdf0e4a68828c7f4dd9bf3f4f",
            "173baed7d20d417a823dc216eeb89ad8",
            "a81ba45f819b401e9d9364dbe06ed939",
            "4374b244014d493081ac576c01ad9368",
            "ec7b3d740cce4a5ab80212f991bc7996",
            "99804c4a46214814aea966ad389df07d",
            "682db133e0cc403399821f97a4929af0",
            "6448d341c89b401e9191a05986367ba6",
            "d4ee353f43e14c38befc7cfec6874de0",
            "794f37c9f0d74cdf8e593e5c8820c524",
            "f32cf94cc9074519a3ffcd339c1e991a",
            "2262653ab27d40d5825a04be95c32975",
            "394babdfdf9247799af026db3cc7a41b",
            "308ac9f4cb2247df9e6ea7400aee92b5",
            "9ef721c0cad7412bac8e766de61fb189",
            "75839d70e2a946d09a27be7be930d18e",
            "f4d9667dbd5a4441af4f419b27af54d1",
            "1add62dd1bed406fa4ad9c3eef39fe69",
            "2b8861b5c31b4f538880156d3796d92b",
            "92dedb54406d4f7db8f69713497cfb42",
            "cc9997a4780b4b4c97012f41b7eddaa3",
            "c49e0fd3b9e44c0ca9f28f0abb5a2f6f",
            "2c005b96add14da0b7ea9527a5846742",
            "a42456645b87494d82bbae35e7f987dc",
            "f1b7854efa36471ca6c3b7f3ba49d81d",
            "fc0274724802408894ba51463e116dd3",
            "fa4cff7a15974cf3a8b0c9601732303d",
            "34ffe3bc06c842f18e1c83f60024f8dc",
            "bb8bcf5528b2484e8444640a521eff78",
            "9c63d199197344ec9cf30093dfc92dd8",
            "72373ab9d0464123ba808f27273d9a5b",
            "1c1aa06931504c0b99d41cb2231d72ed",
            "99ef433136034823a137fdbda313f6ed",
            "cd074bb99b034a18855e6326de708db9",
            "88746a56d75b4f1ba35a078a46e39840",
            "be5fa7b3b2c2445c8de8017153c0aae8",
            "77a188e3d8d046029073ad05e5389658",
            "6940997cfadd4edebc0275216f0cda5a",
            "5f756bb6da754ec38a6b3e5b37b4f5a8",
            "3600af774ef641c7b0b40e392e540858",
            "a2b7d1c2396e44628eb3afcecc36aba5",
            "27a918c013f442e8b6a79f5197c292f1"
          ]
        }
      },
      "execution_count": 1,
      "outputs": [
        {
          "output_type": "display_data",
          "data": {
            "text/plain": [
              "Tab(children=(VBox(children=(IntProgress(value=0, bar_style='info', description='Progress:', layout=Layout(wid…"
            ],
            "application/vnd.jupyter.widget-view+json": {
              "version_major": 2,
              "version_minor": 0,
              "model_id": "d1c1107ceb364ea9af075a294c0a7bee"
            }
          },
          "metadata": {}
        }
      ]
    },
    {
      "cell_type": "markdown",
      "source": [
        "## Summary\n",
        "-   Database design is a crucial process that ensures the efficient storage, retrieval, and management of data in a database.\n",
        "-   The process of database design consists of three main phases: conceptual modeling, logical modeling, and physical modeling.\n",
        "-   Conceptual modeling focuses on identifying the key entities, attributes, and relationships in the database, without worrying about the specific implementation details.\n",
        "-   Logical modeling involves refining the conceptual model by introducing concepts like keys, normalization, and join tables to ensure data integrity and avoid redundancy.\n",
        "-   Physical modeling involves using SQL statements to actually create the tables and define their structure, constraints, and relationships in the database.\n",
        "-   Keys, such as primary keys and foreign keys, are essential for ensuring uniqueness and establishing relationships between tables.\n",
        "-   Normalization is a technique used to reduce data redundancy and improve data integrity by organizing data into multiple tables based on their dependencies.\n",
        "-   Join tables are used to resolve many-to-many relationships between entities in the logical modeling phase.\n",
        "-   SQL statements like CREATE TABLE, DROP TABLE, and ALTER TABLE are used to create, modify, and delete tables in the physical modeling phase.\n",
        "-   Constraints, such as NOT NULL, UNIQUE, and CHECK, are used to enforce data integrity and consistency in the database.\n",
        "-   Supertypes and subtypes are used to model inheritance relationships between entities, allowing for more efficient storage and retrieval of data.\n",
        "-   Designing a database is an iterative process that requires careful planning, attention to detail, and a good understanding of the business requirements and data relationships."
      ],
      "metadata": {
        "id": "PW5G1RMUVElX"
      }
    },
    {
      "cell_type": "markdown",
      "source": [
        "## Review WIth QUizlet"
      ],
      "metadata": {
        "id": "sCGgtDyw614o"
      }
    },
    {
      "cell_type": "code",
      "source": [
        "%%html\n",
        "<iframe src=\"https://quizlet.com/930419891/learn/embed?i=psvlh&x=1jj1\" height=\"600\" width=\"100%\" style=\"border:0\"></iframe>"
      ],
      "metadata": {
        "id": "_UGKkONZ64TR",
        "outputId": "8f9db002-2117-48a4-f656-2168a6bc8ffa",
        "colab": {
          "base_uri": "https://localhost:8080/",
          "height": 621
        }
      },
      "execution_count": null,
      "outputs": [
        {
          "output_type": "display_data",
          "data": {
            "text/plain": [
              "<IPython.core.display.HTML object>"
            ],
            "text/html": [
              "<iframe src=\"https://quizlet.com/930419891/learn/embed?i=psvlh&x=1jj1\" height=\"600\" width=\"100%\" style=\"border:0\"></iframe>\n"
            ]
          },
          "metadata": {}
        }
      ]
    },
    {
      "cell_type": "markdown",
      "source": [
        "## Glossary\n",
        "\n",
        "| Term | Definition |\n",
        "|------|------------|\n",
        "| ALTER TABLE t ADD COLUMN c | SQL command to add a new column to an existing table. |\n",
        "| ALTER TABLE t DROP COLUMN c | SQL command to remove a column from an existing table. |\n",
        "| ALTER TABLE t RENAME TO t2 | SQL command to change the name of an existing table. |\n",
        "| ANSI | American National Standards Institute, which sets standards for various technologies, including SQL. |\n",
        "| Attributes (Crow's foot ERD) | Characteristics or properties of entities that appear as text within boxes. |\n",
        "| BLOB | Binary Large Object, a data type for storing large binary objects such as images or files in a database. |\n",
        "| Business rule | A statement that defines or constrains some aspect of business structure or behavior. |\n",
        "| CHAR(n) | Fixed-length character string data type, where n specifies the number of characters. |\n",
        "| CHECK | A constraint that specifies a condition that must be true for each row in a table. |\n",
        "| col_name datatype PRIMARY KEY | SQL syntax to define a column as the primary key when creating a table. |\n",
        "| Conceptual model | High-level representation of data and relationships in a system, independent of physical implementation details. |\n",
        "| CREATE TABLE | SQL command used to create a new table in a database. |\n",
        "| DATE | Data type for storing date values (typically year, month, and day). |\n",
        "| Descriptive process | Approach to database design that starts with existing data structures and refines them. |\n",
        "| DROP TABLE | SQL command to remove an existing table and all its data from the database. |\n",
        "| DROP TABLE t if exists | SQL command to remove a table only if it exists, preventing errors if the table doesn't exist. |\n",
        "| Entities (Crow's foot ERD) | Distinct objects or concepts represented as boxes |\n",
        "| First normal form (1NF) | A set of rules in database normalization that eliminates repeating groups and ensures atomic values. |\n",
        "| FOREIGN KEY (c1) REFERENCES t (c2) | SQL constraint defining a column as a foreign key referencing another table's column. |\n",
        "| INTEGER | Data type for storing whole numbers without fractional components. |\n",
        "| ISO | International Organization for Standardization, which publishes standards for various technologies, including SQL. |\n",
        "| JSONB | PostgreSQL data type for storing JSON data in a binary format, allowing for efficient querying and indexing. |\n",
        "| Logical model | Detailed representation of data structures and relationships, independent of a specific database management system. |\n",
        "| Natural key | A unique identifier for a database record that is formed from existing attributes with real-world meaning. |\n",
        "| Normalization | Process of organizing data to reduce redundancy and improve data integrity. |\n",
        "| Normative process | Approach to database design that starts with requirements and builds the structure from scratch. |\n",
        "| NOT NULL | Constraint that ensures a column cannot contain null (empty) values. |\n",
        "| Physical model | Representation of database design as implemented in a specific database management system. |\n",
        "| PRIMARY KEY | Constraint that uniquely identifies each record in a database table. |\n",
        "| REAL | Data type for storing single precision floating-point numbers. |\n",
        "| Relationships (Crow's foot ERD) | Connections between entities in a Crow's Foot Entity-Relationship Diagram, represented as lines |\n",
        "| Second normal form (2NF) | Normalization level that builds on 1NF and eliminates partial dependencies on the primary key. |\n",
        "| Surrogate key | Artificial identifier assigned to an entity as a substitute for a natural key. |\n",
        "| TEXT | Data type for storing variable-length character strings, typically with no specified maximum length. |\n",
        "| Third normal form (3NF) | Normalization level that builds on 2NF and eliminates transitive dependencies. |\n",
        "| TIME | Data type for storing time values (typically hour, minute, second). |\n",
        "| UNIQUE | Constraint ensuring all values in a column or set of columns are distinct from one another. |\n",
        "| VARCHAR(n) | Variable-length character string data type, where n specifies the maximum number of characters. |"
      ],
      "metadata": {
        "id": "KwvY67NH6QKG"
      }
    },
    {
      "cell_type": "code",
      "source": [],
      "metadata": {
        "id": "3EPDcB4iVULJ"
      },
      "execution_count": null,
      "outputs": []
    }
  ]
}