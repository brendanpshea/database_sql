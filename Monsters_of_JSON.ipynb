{
  "nbformat": 4,
  "nbformat_minor": 0,
  "metadata": {
    "colab": {
      "provenance": [],
      "authorship_tag": "ABX9TyN5TuAp69QUCZG1sWjuTxDX",
      "include_colab_link": true
    },
    "kernelspec": {
      "name": "python3",
      "display_name": "Python 3"
    },
    "language_info": {
      "name": "python"
    }
  },
  "cells": [
    {
      "cell_type": "markdown",
      "metadata": {
        "id": "view-in-github",
        "colab_type": "text"
      },
      "source": [
        "<a href=\"https://colab.research.google.com/github/brendanpshea/database_sql/blob/main/Monsters_of_JSON.ipynb\" target=\"_parent\"><img src=\"https://colab.research.google.com/assets/colab-badge.svg\" alt=\"Open In Colab\"/></a>"
      ]
    },
    {
      "cell_type": "markdown",
      "source": [
        "# Monsters of JSON\n",
        "### Brendan Shea, PhD\n",
        "In the ever-evolving digital world, data has become the lifeblood of modern technology. Every day, countless amounts of data are generated, processed, and exchanged across various systems and platforms. This data can come in a multitude of formats, and one of the most prevalent is JSON, short for JavaScript Object Notation.\n",
        "\n",
        "**JSON** is a lightweight data-interchange format that is easy for humans to read and write and easy for machines to parse and generate. It is based on a subset of the JavaScript Programming Language, Standard ECMA-262 3rd Edition - December 1999. JSON is a text format that is completely language independent but uses conventions that are familiar to programmers of the C-family of languages, including C, C++, C#, Java, JavaScript, Perl, Python, and many others.\n",
        "\n",
        "This chapter aims to provide a comprehensive introduction to JSON, its structure, and its practical uses. We will delve into the essential details of JSON and how it fits into the broader landscape of data formats. We will also explore why JSON has gained such popularity in the realm of databases and data exchange.\n",
        "\n",
        "One such database that has embraced JSON is PostgreSQL. Known for its robustness and advanced capabilities, PostgreSQL offers substantial support for JSON, allowing developers to store, query, and manipulate JSON data efficiently. We will explore these features and provide a hands-on guide to interacting with JSON within the PostgreSQL environment.\n",
        "\n",
        "To bring these concepts to life, we will be using a fascinating case study throughout this chapter. We will work with a JSON dataset related to the world of Dungeons and Dragons (D&D), a popular fantasy role-playing game. This dataset contains detailed information about various monsters in the game, encoded in JSON format. This dataset not only serves as a practical example of real-world JSON data but also adds an element of fun and intrigue to our exploration of JSON.\n",
        "\n",
        "By the end of this chapter, you should have a solid understanding of JSON, its importance, and how to work with it in PostgreSQL. So, prepare yourself for a journey into the realm of data, where monsters lurk in JSON format, and PostgreSQL is our tool of choice for taming them."
      ],
      "metadata": {
        "id": "llXJIM2ytJbS"
      }
    },
    {
      "cell_type": "markdown",
      "source": [
        "## What is JSON?\n",
        "\n",
        "JSON, or JavaScript Object Notation, is a text-based data format that is designed to be human-readable and easy for computers to parse and generate. JSON originated from the JavaScript language, but it is a language-independent data format. It is often used for transmitting data in web applications, serving as an alternative to XML.\n",
        "\n",
        "JSON is built on two simple structures: objects and arrays/\n",
        "\n",
        "### Objects\n",
        "An **object** in JSON is an unordered set of name-value pairs, similar to a dictionary, a hash, or a record in other languages. Objects are enclosed in curly braces {}. A colon : separates the keys and the values, and a comma , separates the pairs. For example:\n",
        "\n",
        "```\n",
        "{\n",
        "  \"monsterName\": \"Fluffy Bunny\",\n",
        "  \"monsterType\": \"Beast\",\n",
        "  \"hitPoints\": 3,\n",
        "  \"abilities\": [\"Hop\", \"Nibble\", \"Cuteness Overload\"]\n",
        "}\n",
        "```\n",
        "In this example, the object describes a somewhat unusual D&D monster, a \"Fluffy Bunny\" with abilities including \"Hop\", \"Nibble\", and \"Cuteness Overload\".\n",
        "\n",
        "### Arrays\n",
        "An **array** in JSON is an ordered list of values, similar to a list, a vector, or an array in other languages. Arrays are enclosed in square brackets [], and the values are separated by commas. For example:\n",
        "\n",
        "```\n",
        "[\n",
        "  \"Bumbling Beholder\",\n",
        "  \"Kind Kobold\",\n",
        "  \"Dancing Doppelganger\",\n",
        "  \"Jolly Jelly Cube\"\n",
        "]\n",
        "```\n",
        "In this example, the array includes a list of whimsical D&D monster names. The order of these monster names in the array can be important, depending on how the data is to be used."
      ],
      "metadata": {
        "id": "4czd6zKft_Hv"
      }
    },
    {
      "cell_type": "markdown",
      "source": [
        "## Why JSON is not Relational\n",
        "Relational databases and JSON structures have fundamentally different ways of representing and organizing data.\n",
        "\n",
        "In a relational database, data is structured into tables, similar to a spreadsheet. Each table has a defined schema, which is a set of attributes (or columns), and each attribute has a specific data type. Each row in the table represents a single record, and each cell in the row represents a value for the corresponding attribute. Relationships can be defined between tables using primary and foreign keys, allowing for complex data models to be represented.\n",
        "\n",
        "In contrast, JSON data is represented as a collection of key-value pairs (objects) or ordered lists of values (arrays). JSON objects do not have a predefined schema, meaning each object can have a different set of keys. Arrays and objects can be nested within each other, allowing for complex, hierarchical data structures.\n",
        "\n",
        "The differences between these two data structures have several implications:\n",
        "\n",
        "1.  *Flexibility:* JSON is schema-less, meaning it can represent a wider variety of data structures compared to relational databases. It's easy to add new fields or nest data structures. However, this flexibility can lead to inconsistencies in data if not managed carefully.\n",
        "\n",
        "2.  *Complexity of Relationships:* Relational databases excel at representing complex relationships between different entities (tables). In JSON, while it's possible to nest objects within each other to represent relationships, it's less straightforward to manage many-to-many or complex relationships.\n",
        "\n",
        "3.  *Data Integrity:* Relational databases provide strong data integrity through constraints, such as unique, primary key, and foreign key constraints. JSON does not inherently support these constraints, so data integrity must be managed at the application level.\n",
        "\n",
        "4.  *Querying:* Relational databases have a powerful querying language (SQL) that supports complex queries, aggregations, and joins. Querying JSON data can be less straightforward and often requires parsing the JSON structure at the application level. However, some databases like PostgreSQL offer JSON functions and operators that make querying JSON data easier.\n",
        "\n",
        "5.  *Storage and Performance:* Generally, relational databases are optimized for performance and can handle large volumes of data efficiently. JSON can be less efficient for large data volumes, especially when the JSON structures are complex and deeply nested. However, some modern databases have improved JSON storage and query performance.\n",
        "\n",
        "In the context of our D&D example, if we were to use a relational database, we might have separate tables for \"Monsters\", \"Abilities\", and \"Types\", and we would define relationships between these tables. With JSON, we could potentially store all this data in a single JSON object, with abilities and types nested within each monster. The best approach would depend on the specific requirements and complexity of our application."
      ],
      "metadata": {
        "id": "ubDRmxJ9vdU1"
      }
    },
    {
      "cell_type": "markdown",
      "source": [
        "## Why is JSON Used?\n",
        "JSON, or JavaScript Object Notation, has found extensive usage in modern software development due to its lightweight nature and easy readability. Here are some of the practical uses of JSON:\n",
        "\n",
        "1.  *Data Storage:* JSON is often used for storing data locally or remotely in a structured, human-readable format. For example, a web application might store user settings in JSON format for easy retrieval and update.\n",
        "\n",
        "2.  *Data Exchange:* JSON is commonly used as the data format for sending data between a server and a web application, or between different parts of a web application. Its human-readable nature and wide support across different programming languages make it ideal for this purpose.\n",
        "\n",
        "3.  *Configuration Files:* JSON is often used to store configuration settings for web applications, desktop applications, servers, and more. These configuration files can be easily read and written by the application, and also easily understood and modified by humans.\n",
        "\n",
        "4.  *Web APIs:* Most modern web APIs (Application Programming Interfaces) use JSON as their communication format. When a web application makes a request to an API (for example, to fetch data), the API often sends back the response in JSON format, which the web application can then easily parse and use.\n",
        "\n",
        "5.  *Database Operations:* Many NoSQL databases, like MongoDB, use JSON for storing and manipulating data. Even SQL databases, like PostgreSQL, now often include support for JSON data types, allowing for more flexible data models.\n",
        "\n",
        "6.  *Frontend Frameworks:* Many modern frontend frameworks (like React and Vue.js) use JSON for handling data within the application.\n",
        "\n",
        "In the context of our Dungeons & Dragons example, a D&D game application might use JSON to store data about different monsters, characters, and game settings. The game might also fetch additional data from a D&D API, which sends back responses in JSON format. This JSON data can then be parsed and used by the application to enhance the gameplay experience."
      ],
      "metadata": {
        "id": "lvPDE5-Au2RL"
      }
    },
    {
      "cell_type": "markdown",
      "source": [
        "## Example: Working With DnD Monsters\n",
        "For the remainder of this chapter, we'll be working with the JSON file `srd_5e_monsters.json` contains data about 327 different monsters from the Dungeons and Dragons universe. Each monster is represented as a JSON object with several attributes. (https://github.com/brendanpshea/database_sql/blob/main/data/srd_5e_monsters.json)\n",
        "\n",
        "Here are the keys (attributes) for the first monster in the data:\n",
        "\n",
        "-   `name`: The name of the monster.\n",
        "-   `meta`: Metadata about the monster, such as its size and alignment.\n",
        "-   `Armor Class`: The monster's armor class.\n",
        "-   `Hit Points`: The monster's hit points.\n",
        "-   `Speed`: The monster's speed.\n",
        "-   `STR`, `STR_mod`, `DEX`, `DEX_mod`, `CON`, `CON_mod`, `INT`, `INT_mod`, `WIS`, `WIS_mod`, `CHA`, `CHA_mod`: These are the monster's ability scores and their modifiers.\n",
        "-   `Saving Throws`: The monster's saving throws.\n",
        "-   `Skills`: An array (list) of the monster's skills.\n",
        "-   `Senses`: An array (list) of the monster's senses.\n",
        "-   `Languages`: The languages the monster can speak.\n",
        "-   `Challenge`: The challenge rating of the monster.\n",
        "-   `XP`: The amount of experience points  the monster is worth.\n",
        "-   `Traits`: Traits that the monster possesses.\n",
        "-   `Actions`: Actions that the monster can take.\n",
        "-   `Legendary Actions`: Legendary actions that the monster can take.\n",
        "-   `img_url`: A URL to an image of the monster.\n",
        "\n",
        "The JSON data is structured as an array of such objects. Each object represents a unique monster, and the keys within each object provide detailed information about that particular monster.\n",
        "\n",
        "The next step, having understood the structure, would be to import this JSON data into a PostgreSQL database."
      ],
      "metadata": {
        "id": "PIpSiiYlyP8m"
      }
    },
    {
      "cell_type": "markdown",
      "source": [
        "## Importing JSON data into SQL\n",
        "Here's a script for importing JSON data into a PostgreSQL database."
      ],
      "metadata": {
        "id": "i9wuIyn10Gi7"
      }
    },
    {
      "cell_type": "code",
      "source": [
        "!pip install SQLAlchemy==1.3.24 -q # Needed o avoid problems with more recent version in Colab\n",
        "\n",
        "!apt install postgresql postgresql-contrib &>log\n",
        "!service postgresql start\n",
        "!sudo -u postgres psql -c \"CREATE USER root WITH SUPERUSER\"\n",
        "# set connection\n",
        "%load_ext sql\n",
        "%sql postgresql+psycopg2://@/postgres"
      ],
      "metadata": {
        "colab": {
          "base_uri": "https://localhost:8080/"
        },
        "id": "P6yAti0Xy6X2",
        "outputId": "72cd62e7-8fab-4ec2-cb8f-a8415be22ec6"
      },
      "execution_count": null,
      "outputs": [
        {
          "output_type": "stream",
          "name": "stdout",
          "text": [
            "\u001b[2K     \u001b[90m━━━━━━━━━━━━━━━━━━━━━━━━━━━━━━━━━━━━━━━━\u001b[0m \u001b[32m6.4/6.4 MB\u001b[0m \u001b[31m22.2 MB/s\u001b[0m eta \u001b[36m0:00:00\u001b[0m\n",
            "\u001b[?25h  Preparing metadata (setup.py) ... \u001b[?25l\u001b[?25hdone\n",
            "  Building wheel for SQLAlchemy (setup.py) ... \u001b[?25l\u001b[?25hdone\n",
            " * Starting PostgreSQL 12 database server\n",
            "   ...done.\n",
            "CREATE ROLE\n"
          ]
        }
      ]
    },
    {
      "cell_type": "code",
      "source": [
        "# download the file\n",
        "!wget https://github.com/brendanpshea/database_sql/raw/main/data/processed_srd_5e_monsters.json -q"
      ],
      "metadata": {
        "id": "piH9e31p3ZI8"
      },
      "execution_count": null,
      "outputs": []
    },
    {
      "cell_type": "code",
      "source": [
        "%%capture\n",
        "import json\n",
        "\n",
        "# Load JSON file\n",
        "with open('processed_srd_5e_monsters.json', 'r') as f:\n",
        "    data = json.load(f)\n",
        "\n",
        "# Use SQL magic to connect to PostgreSQL\n",
        "%sql postgresql+psycopg2://@/postgres\n",
        "\n",
        "# Create table\n",
        "%sql DROP TABLE IF EXISTS monsters;\n",
        "%sql CREATE TABLE monsters (data JSONB);\n",
        "\n",
        "# Insert JSON data into the table\n",
        "for monster in data:\n",
        "    monster_json = json.dumps(monster)\n",
        "    %sql INSERT INTO monsters (data) VALUES (:monster_json)\n"
      ],
      "metadata": {
        "id": "ibu-AhRmtRV8"
      },
      "execution_count": null,
      "outputs": []
    },
    {
      "cell_type": "code",
      "source": [
        "## Make sure we have got all the monsters!\n",
        "%sql SELECT COUNT(*) FROM monsters;"
      ],
      "metadata": {
        "colab": {
          "base_uri": "https://localhost:8080/",
          "height": 95
        },
        "id": "6S8Ww5Oi13pJ",
        "outputId": "887f119b-3794-4d61-c25b-d1b266c94922"
      },
      "execution_count": null,
      "outputs": [
        {
          "output_type": "stream",
          "name": "stdout",
          "text": [
            " * postgresql+psycopg2://@/postgres\n",
            "1 rows affected.\n"
          ]
        },
        {
          "output_type": "execute_result",
          "data": {
            "text/plain": [
              "[(327,)]"
            ],
            "text/html": [
              "<table>\n",
              "    <tr>\n",
              "        <th>count</th>\n",
              "    </tr>\n",
              "    <tr>\n",
              "        <td>327</td>\n",
              "    </tr>\n",
              "</table>"
            ]
          },
          "metadata": {},
          "execution_count": 4
        }
      ]
    },
    {
      "cell_type": "code",
      "source": [
        "## Display the first monster\n",
        "%sql SELECT * FROM monsters LIMIT 1;"
      ],
      "metadata": {
        "colab": {
          "base_uri": "https://localhost:8080/",
          "height": 460
        },
        "id": "NGGCLFCL4XzL",
        "outputId": "84029c78-831e-4526-c535-3e48422a5024"
      },
      "execution_count": null,
      "outputs": [
        {
          "output_type": "stream",
          "name": "stdout",
          "text": [
            " * postgresql+psycopg2://@/postgres\n",
            "1 rows affected.\n"
          ]
        },
        {
          "output_type": "execute_result",
          "data": {
            "text/plain": [
              "[({'XP': 5, 'CHA': '18', 'CON': '15', 'DEX': '9', 'INT': '18', 'STR': '21', 'WIS': '15', 'meta': 'Large aberration, lawful evil', 'name': 'Aboleth', 'Sp ... (3405 characters truncated) ... ). One creature charmed by the aboleth takes 10 (3d6) psychic damage, and the aboleth regains hit points equal to the damage the creature takes.</p>\"},)]"
            ],
            "text/html": [
              "<table>\n",
              "    <tr>\n",
              "        <th>data</th>\n",
              "    </tr>\n",
              "    <tr>\n",
              "        <td>{&#x27;XP&#x27;: 5, &#x27;CHA&#x27;: &#x27;18&#x27;, &#x27;CON&#x27;: &#x27;15&#x27;, &#x27;DEX&#x27;: &#x27;9&#x27;, &#x27;INT&#x27;: &#x27;18&#x27;, &#x27;STR&#x27;: &#x27;21&#x27;, &#x27;WIS&#x27;: &#x27;15&#x27;, &#x27;meta&#x27;: &#x27;Large aberration, lawful evil&#x27;, &#x27;name&#x27;: &#x27;Aboleth&#x27;, &#x27;Speed&#x27;: [&#x27;10 ft.&#x27;, &#x27;swim 40 ft.&#x27;], &#x27;Senses&#x27;: [&#x27;Darkvision 120 ft.&#x27;, &#x27;Passive Perception 20&#x27;], &#x27;Skills&#x27;: [&#x27;History +12&#x27;, &#x27;Perception +10&#x27;], &#x27;Traits&#x27;: &quot;&lt;p&gt;&lt;em&gt;&lt;strong&gt;Amphibious.&lt;/strong&gt;&lt;/em&gt; The aboleth can breathe air and water. &lt;/p&gt;&lt;p&gt;&lt;em&gt;&lt;strong&gt;Mucous Cloud.&lt;/strong&gt;&lt;/em&gt; While underwater, the aboleth is surrounded by transformative mucus. A creature that touches the aboleth or that hits it with a melee attack while within 5 feet of it must make a DC 14 Constitution saving throw. On a failure, the creature is diseased for 1d4 hours. The diseased creature can breathe only underwater. &lt;/p&gt;&lt;p&gt;&lt;em&gt;&lt;strong&gt;Probing Telepathy.&lt;/strong&gt;&lt;/em&gt; If a creature communicates telepathically with the aboleth, the aboleth learns the creature&#x27;s greatest desires if the aboleth can see the creature.&lt;/p&gt;&quot;, &#x27;Actions&#x27;: &quot;&lt;p&gt;&lt;em&gt;&lt;strong&gt;Multiattack.&lt;/strong&gt;&lt;/em&gt; The aboleth makes three tentacle attacks. &lt;/p&gt;&lt;p&gt;&lt;em&gt;&lt;strong&gt;Tentacle.&lt;/strong&gt;&lt;/em&gt; &lt;em&gt;Melee Weapon Attack:&lt;/em&gt; +9 to hit, reach 10 ft., one target. &lt;em&gt;Hit:&lt;/em&gt; 12 (2d6 + 5) bludgeoning damage. If the target is a creature, it must succeed on a DC 14 Constitution saving throw or become diseased. The disease has no effect for 1 minute and can be removed by any magic that cures disease. After 1 minute, the diseased creature&#x27;s skin becomes translucent and slimy, the creature can&#x27;t regain hit points unless it is underwater, and the disease can be removed only by heal or another disease-curing spell of 6th level or higher. When the creature is outside a body of water, it takes 6 (1d12) acid damage every 10 minutes unless moisture is applied to the skin before 10 minutes have passed. &lt;/p&gt;&lt;p&gt;&lt;em&gt;&lt;strong&gt;Tail.&lt;/strong&gt;&lt;/em&gt; &lt;em&gt;Melee Weapon Attack:&lt;/em&gt; +9 to hit, reach 10 ft. one target. &lt;em&gt;Hit:&lt;/em&gt; 15 (3d6 + 5) bludgeoning damage. &lt;/p&gt;&lt;p&gt;&lt;em&gt;&lt;strong&gt;Enslave (3/Day).&lt;/strong&gt;&lt;/em&gt; The aboleth targets one creature it can see within 30 feet of it. The target must succeed on a DC 14 Wisdom saving throw or be magically charmed by the aboleth until the aboleth dies or until it is on a different plane of existence from the target. The charmed target is under the aboleth&#x27;s control and can&#x27;t take reactions, and the aboleth and the target can communicate telepathically with each other over any distance. &lt;/p&gt;&lt;p&gt;Whenever the charmed target takes damage, the target can repeat the saving throw. On a success, the effect ends. No more than once every 24 hours, the target can also repeat the saving throw when it is at least 1 mile away from the aboleth.&lt;/p&gt;&quot;, &#x27;CHA_mod&#x27;: &#x27;(+4)&#x27;, &#x27;CON_mod&#x27;: &#x27;(+2)&#x27;, &#x27;DEX_mod&#x27;: &#x27;(-1)&#x27;, &#x27;INT_mod&#x27;: &#x27;(+4)&#x27;, &#x27;STR_mod&#x27;: &#x27;(+5)&#x27;, &#x27;WIS_mod&#x27;: &#x27;(+2)&#x27;, &#x27;img_url&#x27;: &#x27;https://media-waterdeep.cursecdn.com/avatars/thumbnails/0/11/1000/1000/636238825975375671.jpeg&#x27;, &#x27;Challenge&#x27;: 10, &#x27;Languages&#x27;: [&#x27;Deep Speech&#x27;, &#x27;Telepathy 120 ft.&#x27;], &#x27;Hit Points&#x27;: 135, &#x27;Armor Class&#x27;: 17, &#x27;Saving Throws&#x27;: [&#x27;CON +6&#x27;, &#x27;INT +8&#x27;, &#x27;WIS +6&#x27;], &#x27;Legendary Actions&#x27;: &quot;&lt;p&gt;The aboleth can take 3 legendary actions, choosing from the options below. Only one legendary action option can be used at a time and only at the end of another creature&#x27;s turn. The aboleth regains spent legendary actions at the start of its turn. &lt;/p&gt;&lt;p&gt;&lt;em&gt;&lt;strong&gt;Detect.&lt;/strong&gt;&lt;/em&gt; The aboleth makes a Wisdom (Perception) check. &lt;/p&gt;&lt;p&gt;&lt;em&gt;&lt;strong&gt;Tail Swipe.&lt;/strong&gt;&lt;/em&gt; The aboleth makes one tail attack. &lt;/p&gt;&lt;p&gt;&lt;em&gt;&lt;strong&gt;Psychic Drain&lt;/strong&gt;&lt;/em&gt; (Costs 2 Actions). One creature charmed by the aboleth takes 10 (3d6) psychic damage, and the aboleth regains hit points equal to the damage the creature takes.&lt;/p&gt;&quot;}</td>\n",
              "    </tr>\n",
              "</table>"
            ]
          },
          "metadata": {},
          "execution_count": 5
        }
      ]
    },
    {
      "cell_type": "markdown",
      "source": [
        "## How to Query JSON Data Using Postgres\n",
        "First, it's important to understand how we've stored our JSON data in PostgreSQL. We've created a table named `monsters`, which has a single column named `data` of type `JSONB`. Each row in this table contains a JSON object, which represents a single monster.\n",
        "\n",
        "Now, when it comes to querying JSON data in PostgreSQL, we can use the `->`, `->>`, and `#>` operators.\n",
        "\n",
        "-   `->`: This operator is used to get a JSON object field by key. The result is a JSON object or array. For example, `data->'name'` would give us the name of the monster as a JSON object.\n",
        "\n",
        "-   `->>`: This operator is also used to get a JSON object field by key, but the result is text. For example, `data->>'name'` would give us the name of the monster as text.\n",
        "\n",
        "-   `#>`: This operator is used to get a JSON object field by a path. A path is an array of key strings. This is useful when our JSON objects have nested objects or arrays.\n",
        "\n",
        "Let's start with a simple example:"
      ],
      "metadata": {
        "id": "6XA7E_yq1xPq"
      }
    },
    {
      "cell_type": "code",
      "source": [
        "%%sql\n",
        "--Get the names of the first five monsters\n",
        "SELECT data->>'name' AS Monster_Name\n",
        "FROM monsters\n",
        "LIMIT 5;"
      ],
      "metadata": {
        "colab": {
          "base_uri": "https://localhost:8080/",
          "height": 179
        },
        "id": "CsBVRADv5Ktv",
        "outputId": "a2177eac-29af-4983-e31a-876049e97a6c"
      },
      "execution_count": null,
      "outputs": [
        {
          "output_type": "stream",
          "name": "stdout",
          "text": [
            " * postgresql+psycopg2://@/postgres\n",
            "5 rows affected.\n"
          ]
        },
        {
          "output_type": "execute_result",
          "data": {
            "text/plain": [
              "[('Aboleth',),\n",
              " ('Acolyte',),\n",
              " ('Adult Black Dragon',),\n",
              " ('Adult Blue Dragon',),\n",
              " ('Adult Brass Dragon',)]"
            ],
            "text/html": [
              "<table>\n",
              "    <tr>\n",
              "        <th>monster_name</th>\n",
              "    </tr>\n",
              "    <tr>\n",
              "        <td>Aboleth</td>\n",
              "    </tr>\n",
              "    <tr>\n",
              "        <td>Acolyte</td>\n",
              "    </tr>\n",
              "    <tr>\n",
              "        <td>Adult Black Dragon</td>\n",
              "    </tr>\n",
              "    <tr>\n",
              "        <td>Adult Blue Dragon</td>\n",
              "    </tr>\n",
              "    <tr>\n",
              "        <td>Adult Brass Dragon</td>\n",
              "    </tr>\n",
              "</table>"
            ]
          },
          "metadata": {},
          "execution_count": 6
        }
      ]
    },
    {
      "cell_type": "markdown",
      "source": [
        "Here's what this query does:\n",
        "\n",
        "-   `SELECT`: This keyword is used to select data from a database. The data returned is stored in a result table, called the result-set.\n",
        "\n",
        "-   `data->>'name'`: Here, we're using the `->>` operator to get the `name` field from our `data` JSON objects. The result will be the name of the monster, as text.\n",
        "\n",
        "-   `AS Monster_Name`: The `AS` keyword is used to rename a column or table with an alias. Here, we're renaming our `data->>'name'` column to `Monster_Name`.\n",
        "\n",
        "-   `FROM monsters`: This specifies the name of the table that we're selecting data from. In this case, it's our `monsters` table.\n",
        "\n",
        "-   `LIMIT 5`: This is used to limit the number of rows returned in a result set. Here, we're limiting our result set to the first 5 rows.\n",
        "\n",
        "The result of this query should be the names of the first 5 monsters in our table."
      ],
      "metadata": {
        "id": "APSy_C2f5mJ1"
      }
    },
    {
      "cell_type": "markdown",
      "source": [
        "## Retrieving Nested Data\n",
        "Now that we've learned how to retrieve a specific attribute from our JSON data (in this case, the monster's name), let's explore more ways to interact with our JSONB column in PostgreSQL.\n",
        "\n",
        "In our `monsters` table, each monster object has several skills. Some of these attributes could be objects or arrays themselves. For instance, if a monster has an attribute `Skills` that is an array of abilities, we can use the `->` operator to access this array. Let's consider an example where we want to access the first ability of each monster:"
      ],
      "metadata": {
        "id": "oJj0pS-O6bzD"
      }
    },
    {
      "cell_type": "code",
      "source": [
        "%%sql\n",
        "SELECT data->'name' AS Name,\n",
        "  data->'Skills'->0  AS First_Ability\n",
        "FROM monsters\n",
        "LIMIT 5;\n"
      ],
      "metadata": {
        "colab": {
          "base_uri": "https://localhost:8080/",
          "height": 179
        },
        "id": "nOWvlHOC6faR",
        "outputId": "31de80e1-9159-4b13-cdd5-4a9832228ce6"
      },
      "execution_count": null,
      "outputs": [
        {
          "output_type": "stream",
          "name": "stdout",
          "text": [
            " * postgresql+psycopg2://@/postgres\n",
            "5 rows affected.\n"
          ]
        },
        {
          "output_type": "execute_result",
          "data": {
            "text/plain": [
              "[('Aboleth', 'History +12'),\n",
              " ('Acolyte', 'Medicine +4'),\n",
              " ('Adult Black Dragon', 'Perception +11'),\n",
              " ('Adult Blue Dragon', 'Perception +12'),\n",
              " ('Adult Brass Dragon', 'History +7')]"
            ],
            "text/html": [
              "<table>\n",
              "    <tr>\n",
              "        <th>name</th>\n",
              "        <th>first_ability</th>\n",
              "    </tr>\n",
              "    <tr>\n",
              "        <td>Aboleth</td>\n",
              "        <td>History +12</td>\n",
              "    </tr>\n",
              "    <tr>\n",
              "        <td>Acolyte</td>\n",
              "        <td>Medicine +4</td>\n",
              "    </tr>\n",
              "    <tr>\n",
              "        <td>Adult Black Dragon</td>\n",
              "        <td>Perception +11</td>\n",
              "    </tr>\n",
              "    <tr>\n",
              "        <td>Adult Blue Dragon</td>\n",
              "        <td>Perception +12</td>\n",
              "    </tr>\n",
              "    <tr>\n",
              "        <td>Adult Brass Dragon</td>\n",
              "        <td>History +7</td>\n",
              "    </tr>\n",
              "</table>"
            ]
          },
          "metadata": {},
          "execution_count": 7
        }
      ]
    },
    {
      "cell_type": "markdown",
      "source": [
        "## Filtering Data\n",
        "\n",
        "We can also use these operators in the `WHERE` clause to filter our data. For example, if we want to get all monsters with a hit points greater than 300:\n",
        "\n",
        "Here, `(data->>'Hit Points')::int > 300` is used in the `WHERE` clause to filter our data. We're casting the hit points to an integer using `::int` because the `->>` operator returns text, but we need to perform a numerical comparison."
      ],
      "metadata": {
        "id": "UCDhkCN8C2HR"
      }
    },
    {
      "cell_type": "code",
      "source": [
        "%%sql\n",
        "SELECT data->>'name' AS Monster_Name\n",
        "FROM monsters\n",
        "WHERE (data->>'Hit Points')::int > 300;\n"
      ],
      "metadata": {
        "colab": {
          "base_uri": "https://localhost:8080/",
          "height": 326
        },
        "id": "2deEZYOHC6cO",
        "outputId": "02c419b0-a495-4543-cb01-2b2173e46d1b"
      },
      "execution_count": null,
      "outputs": [
        {
          "output_type": "stream",
          "name": "stdout",
          "text": [
            " * postgresql+psycopg2://@/postgres\n",
            "12 rows affected.\n"
          ]
        },
        {
          "output_type": "execute_result",
          "data": {
            "text/plain": [
              "[('Ancient Black Dragon',),\n",
              " ('Ancient Blue Dragon',),\n",
              " ('Ancient Bronze Dragon',),\n",
              " ('Ancient Copper Dragon',),\n",
              " ('Ancient Gold Dragon',),\n",
              " ('Ancient Green Dragon',),\n",
              " ('Ancient Red Dragon',),\n",
              " ('Ancient Silver Dragon',),\n",
              " ('Ancient White Dragon',),\n",
              " ('Dragon Turtle',),\n",
              " ('Kraken',),\n",
              " ('Tarrasque',)]"
            ],
            "text/html": [
              "<table>\n",
              "    <tr>\n",
              "        <th>monster_name</th>\n",
              "    </tr>\n",
              "    <tr>\n",
              "        <td>Ancient Black Dragon</td>\n",
              "    </tr>\n",
              "    <tr>\n",
              "        <td>Ancient Blue Dragon</td>\n",
              "    </tr>\n",
              "    <tr>\n",
              "        <td>Ancient Bronze Dragon</td>\n",
              "    </tr>\n",
              "    <tr>\n",
              "        <td>Ancient Copper Dragon</td>\n",
              "    </tr>\n",
              "    <tr>\n",
              "        <td>Ancient Gold Dragon</td>\n",
              "    </tr>\n",
              "    <tr>\n",
              "        <td>Ancient Green Dragon</td>\n",
              "    </tr>\n",
              "    <tr>\n",
              "        <td>Ancient Red Dragon</td>\n",
              "    </tr>\n",
              "    <tr>\n",
              "        <td>Ancient Silver Dragon</td>\n",
              "    </tr>\n",
              "    <tr>\n",
              "        <td>Ancient White Dragon</td>\n",
              "    </tr>\n",
              "    <tr>\n",
              "        <td>Dragon Turtle</td>\n",
              "    </tr>\n",
              "    <tr>\n",
              "        <td>Kraken</td>\n",
              "    </tr>\n",
              "    <tr>\n",
              "        <td>Tarrasque</td>\n",
              "    </tr>\n",
              "</table>"
            ]
          },
          "metadata": {},
          "execution_count": 11
        }
      ]
    },
    {
      "cell_type": "markdown",
      "source": [
        "## Aggregating Data\n",
        "\n",
        "We can perform aggregation operations like COUNT, MAX, MIN, AVG, etc., on the data. For instance, if we want to find the average hit points of all monsters:"
      ],
      "metadata": {
        "id": "Z5J6520DDa4u"
      }
    },
    {
      "cell_type": "code",
      "source": [
        "%%sql\n",
        "SELECT AVG((data->>'Hit Points')::int) AS AVG_HP,\n",
        "  MAX((data->>'Hit Points')::int) AS Max_HP,\n",
        "  MIN((data->>'Hit Points')::int) AS Min_HP\n",
        "FROM monsters;"
      ],
      "metadata": {
        "colab": {
          "base_uri": "https://localhost:8080/",
          "height": 95
        },
        "id": "_HLS_MXVDdMf",
        "outputId": "ffe81f9c-96cc-4111-bbd9-77a36e64c061"
      },
      "execution_count": 22,
      "outputs": [
        {
          "output_type": "stream",
          "name": "stdout",
          "text": [
            " * postgresql+psycopg2://@/postgres\n",
            "1 rows affected.\n"
          ]
        },
        {
          "output_type": "execute_result",
          "data": {
            "text/plain": [
              "[(Decimal('81.3425076452599388'), 676, 1)]"
            ],
            "text/html": [
              "<table>\n",
              "    <tr>\n",
              "        <th>avg_hp</th>\n",
              "        <th>max_hp</th>\n",
              "        <th>min_hp</th>\n",
              "    </tr>\n",
              "    <tr>\n",
              "        <td>81.3425076452599388</td>\n",
              "        <td>676</td>\n",
              "        <td>1</td>\n",
              "    </tr>\n",
              "</table>"
            ]
          },
          "metadata": {},
          "execution_count": 22
        }
      ]
    },
    {
      "cell_type": "markdown",
      "source": [
        "In this query, we're using the AVG function to find the average of the hit points.\n",
        "\n",
        "Remember, the keys we use to access the data (`name`, `Skills`, `Hit Points`, etc.) are dependent on the structure of the JSON objects in your monsters table. Always make sure to understand the structure of your JSON data before attempting to query it.\n",
        "\n",
        "Take some time to try out these queries, and see what kind of data you can extract from the monsters table. As you get more comfortable with these operators and JSON data in general, you'll find that you can perform very powerful and flexible queries with PostgreSQL and JSONB."
      ],
      "metadata": {
        "id": "pus1Q1PiEW71"
      }
    },
    {
      "cell_type": "markdown",
      "source": [
        "## JSON and Semi-Structured Data\n",
        "One of the most significant advantages of JSON (JavaScript Object Notation) is its ability to handle semi-structured data. Unlike structured data, which is organized in a predefined manner (like tables in a relational database), semi-structured data is more flexible, allowing for the representation of hierarchical relationships, lists, and other complex structures.\n",
        "\n",
        "Let's illustrate this concept with our Dungeons and Dragons (DnD) monsters dataset. In this dataset, not all monsters have \"Legendary Actions\". This is a perfect example of semi-structured data - while all monsters share some common attributes (like \"name\" or \"hitPoints\"), some monsters have additional attributes that others don't.\n",
        "\n",
        "In a traditional relational database, dealing with such inconsistencies can be challenging. We would typically create a separate table for \"Legendary Actions\", and then use a foreign key to link this table to the main \"Monsters\" table. However, this approach can become complex and inefficient as the number of unique attributes grows. Moreover, the majority of the entries in the \"Legendary Actions\" table might be null if only a few monsters have legendary actions.\n",
        "\n",
        "On the other hand, JSON handles this gracefully. The JSON data model is based on key-value pairs and arrays, making it inherently flexible and suitable for semi-structured data. If a monster has legendary actions, we simply add a \"Legendary Actions\" field to its JSON object. If not, we omit this field. This approach is intuitive and efficient, as it avoids the need for null entries and complex joins.\n",
        "\n",
        "JSON is also excellent at representing hierarchical relationships, which are common in real-world data. For instance, in an e-commerce application, an order might consist of multiple items, each with its own properties. This \"Order -> Items\" relationship can be represented as a JSON object, with \"Order\" being a key, and \"Items\" being an array of item objects.\n",
        "\n",
        "Beyond DnD and e-commerce, JSON is ubiquitous in today's software landscape. It's the de facto standard for web APIs due to its simplicity, readability, and wide support across programming languages. It's used in configuration files, for data serialization, in NoSQL databases like MongoDB, and much more. Its ability to handle semi-structured data makes it a versatile tool for many different use cases.\n",
        "\n",
        "In conclusion, while relational databases are excellent for structured data with well-defined schemas, JSON provides a flexible and efficient alternative for handling semi-structured data. As with all tools, the key is to understand its strengths and use it where it excels. In a world where data is becoming increasingly complex and varied, JSON is a valuable tool to have in your data handling toolbox."
      ],
      "metadata": {
        "id": "XeegCP8_Fjfl"
      }
    },
    {
      "cell_type": "code",
      "source": [],
      "metadata": {
        "id": "Le6MYGXFDpRH"
      },
      "execution_count": null,
      "outputs": []
    }
  ]
}