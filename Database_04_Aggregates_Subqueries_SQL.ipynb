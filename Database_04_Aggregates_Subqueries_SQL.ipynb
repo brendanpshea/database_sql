{
  "nbformat": 4,
  "nbformat_minor": 0,
  "metadata": {
    "colab": {
      "provenance": [],
      "include_colab_link": true
    },
    "kernelspec": {
      "name": "python3",
      "display_name": "Python 3"
    },
    "language_info": {
      "name": "python"
    }
  },
  "cells": [
    {
      "cell_type": "markdown",
      "metadata": {
        "id": "view-in-github",
        "colab_type": "text"
      },
      "source": [
        "<a href=\"https://colab.research.google.com/github/brendanpshea/database_sql/blob/main/Database_04_Aggregates_Subqueries_SQL.ipynb\" target=\"_parent\"><img src=\"https://colab.research.google.com/assets/colab-badge.svg\" alt=\"Open In Colab\"/></a>"
      ]
    },
    {
      "cell_type": "markdown",
      "source": [
        "# Aggregate Functions and Subqueries With Goodreads Data\n",
        "### Brendan Shea, PhD\n",
        "\n",
        "In our last chapter, you learned the basics of SQL. You learned to use SELECT, FROM, WHERE, LIKE, ORDER BY, and LIMIT clauses to navigate a data universe. You asked questions to your database, and it responded. In this chapter, we'll explore SQL in more depth, focusing on aggregate functions and subqueries. In the process, you will uncover the deeper capabilities of Structured Query Language (SQL), finding yourself evolving from a database enthusiast to a capable data wrangler. With this newfound knowledge, you'll be able to retrieve insightful data, analyze complex patterns, and explore the unknowns hidden in your datasets.\n",
        "\n",
        "This chapter introduces you to the dataset of Science Fiction books from Goodreads. We will dissect this dataset, identifying various data types and understanding the concept of null values. As data scientists, we will also reflect on the purpose of our data, setting the stage for more complex queries.\n",
        "\n",
        "As we advance, you'll be introduced to the magic of aggregate functions. COUNT, SUM, MIN, MAX, AVG---these are not just random words but powerful spells that will let you crunch numbers, identify trends, and answer questions you never thought a database could resolve. You'll learn how to count books, sum ratings, find the highest or lowest value in a column, and compute average scores.\n",
        "\n",
        "Next, we'll delve into grouping data using the GROUP BY clause. Imagine sorting the universe of Sci-Fi books by author, publication year, or average rating. With GROUP BY, you can see patterns and trends in your data subsets, making extracting meaning and insights easier.  We'll explore further with the HAVING clause, filtering groups to narrow down our data galaxy to only the most intriguing constellations. This will allow us to answer more specific questions and perform more detailed analysis.\n",
        "\n",
        "As we approach the end of our chapter, prepare to dive deep into the world of subqueries. A query within a query might sound complex, but fear not! We'll break it down into manageable pieces, showing you how to use subqueries in SELECT, FROM, and WHERE statements. With this powerful tool in your SQL toolkit, there are no limits to the questions you can ask your data."
      ],
      "metadata": {
        "id": "rDYV9Tvv_ZsT"
      }
    },
    {
      "cell_type": "markdown",
      "source": [
        "## Why Sites Like Goodreads Use Databases\n",
        "IN this lesson, we'll be using (publicly available) information released by the Amazon-owned Goodreads (https://www.goodreads.com). This is a popular book review and recommendation platform with millions of users worldwide. It serves as a rich source of book-related data, offering details such as book titles, author names, publication dates, ratings, reviews, and much more. But why and how does Goodreads, and by extension its users, benefit from using databases?\n",
        "\n",
        "At its core, Goodreads is a data-driven platform. It provides readers with personalized book recommendations, allows users to track their reading, and enables them to discover new books based on their preferences and those of similar users. None of this would be possible without a robust and efficient data management system. That's where databases come in.\n",
        "\n",
        "A database allows Goodreads to efficiently store, retrieve, and manipulate vast amounts of data. Here are a few specific ways in which Goodreads benefits from using a database:\n",
        "\n",
        "1.  Data Organization: Databases provide structured storage for the immense amount of data that Goodreads deals with. For example, the information about books (like title, author, publisher, etc.) can be stored in one table, while user data (such as user ID, name, reading history, etc.) can be stored in another. This structured organization allows for efficient data retrieval and management.\n",
        "\n",
        "2.  Scalability: As the Goodreads user base grows, so does the amount of data it needs to handle. Databases are designed to manage large volumes of data and can be scaled up as needed. This allows Goodreads to support its growing user base without compromising on performance or efficiency.\n",
        "\n",
        "3.  Data Integrity: Databases also ensure data integrity, meaning that the data remains accurate and consistent across the platform. This is crucial for maintaining user trust and providing reliable book recommendations.\n",
        "\n",
        "4.  Data Security: User data, including personal details and reading histories, needs to be stored securely. Databases provide mechanisms to protect this data, including access controls, backups, and encryption.\n",
        "\n",
        "5.  Querying Capabilities: Databases allow complex queries to be executed on the data. This is how Goodreads can provide personalized book recommendations, find similar books, or allow users to search for books based on various criteria.\n",
        "\n",
        "From the perspective of users, the use of databases by Goodreads enhances their experience on the platform. It enables them to browse through a vast, well-organized library of books, receive personalized recommendations, and connect with other readers seamlessly and efficiently.\n",
        "\n",
        "In our examples, we're using a small subset of the data that Goodreads might actually use. But even with this small dataset, you can see how SQL and databases allow us to extract useful information and insights, manipulate the data, and generate reports. And remember, the full Goodreads platform would have even more tables and data, giving them a lot more to work with and a lot more power to provide useful features for their users."
      ],
      "metadata": {
        "id": "Lz_SWMpd6FjY"
      }
    },
    {
      "cell_type": "markdown",
      "source": [
        "## The Sci_Fi_Books Table\n",
        "\n",
        "Our database of science fiction books, represented as a single table called \"books,\" consists of several fields each representing a different facet of information about a book. Let's decode the structure:\n",
        "\n",
        "-   `firstPublishDate`: The date when the book was first published, represented as a TEXT data type.\n",
        "-   `publishDate`: The most recent publication date of the book, also a TEXT data type.\n",
        "-   `title`: The title of the book.\n",
        "-   `series`: The series the book belongs to, if any.\n",
        "-   `author`: The author of the book.\n",
        "-   `rating`: The average Goodreads rating of the book, given as a REAL number (a decimal number).\n",
        "-   `language`: The language of the book.\n",
        "-   `pages`: The number of pages in the book, represented as an INT (integer).\n",
        "-   `publisher`: The name of the publisher.\n",
        "-   `numRatings`: The total number of ratings the book has received on Goodreads, represented as an INT.\n",
        "-   `id`: A unique identifier for each book, serving as the PRIMARY KEY for our database.\n",
        "\n",
        "One of the things you'll notice is that the data is a mix of different types, including TEXT, REAL, and INT. And remember, not every field will have data -- sometimes, there will be null values, which means that no data is available for that particular field for a specific book.\n",
        "\n",
        "In this chapter, we will embark on a journey to explore this data more thoroughly. We will start by reviewing basic SQL commands and operations, then move onto the powerful aggregate functions like COUNT, SUM, MIN, MAX, and AVG that allow us to extract meaningful insights from data. We will also dive into how to organize and filter data using GROUP BY and HAVING."
      ],
      "metadata": {
        "id": "ScJ4K88eG3aU"
      }
    },
    {
      "cell_type": "markdown",
      "source": [
        "## Loading the Sci_Fi_Books Data\n",
        "\n",
        "Since this our first time loading a \"real world\" data set, we'll walk through it slowly and carefully. While it's necessary to memorize all the steps here, understanding the general process is valuable for anyone who wants to work with data. First, a little neccessary background:\n",
        "\n",
        "### REminder: This is a Jupyter (Colab) Notebook\n",
        "\n",
        "Jupyter Notebook is an open-source web application that allows the creation and sharing of documents that can contain both code and rich text elements (like paragraphs, equations, figures, and links). We're specifically using Google Colab, which is a free Jupyter notebook environment that runs entirely in the cloud and requires no setup.\n",
        "\n",
        "In these notebooks, we write code in cells, which are like blocks of code that can be executed independently. The code within a cell is run by clicking on the cell and hitting `Shift+Enter`. The output of the code (if any) is displayed directly below the cell that was run.\n",
        "\n",
        "### Ubuntu and Linux\n",
        "\n",
        "Behind the scenes (on Google's \"Cloud\" computers), Colab is running on an operatinging system called **Ubuntu***. Ubuntu is a popular open-source operating system based on **Linux**, a free and open-source operating system. When we're interacting with the Ubuntu system directly to execute commands (like installing software or downloading files), we're using the command-line interface, often referred to as the terminal or shell.\n",
        "\n",
        "### Downloading a File and Loading it into a Database\n",
        "\n",
        "The task at hand involves two main steps. First, we want to download a remote file - in this case, a SQLite database file. SQLite is a software library that provides a relational database management system. The lite in SQLite means light weight in terms of setup, database administration, and required resources.\n",
        "\n",
        "After downloading the file, we will load it into an SQLite database. In simple terms, a database is an organized collection of data. By loading the file into a database, we're making it possible to interact with this data using SQL (Structured Query Language), a programming language designed for managing data in a relational database.\n",
        "\n",
        "### The Code\n",
        "Now, we can put these things together to download and load our database:"
      ],
      "metadata": {
        "id": "odE13mXBCbTd"
      }
    },
    {
      "cell_type": "code",
      "execution_count": 1,
      "metadata": {
        "id": "G5O5AA4g-Jl_"
      },
      "outputs": [],
      "source": [
        "# Now let's download the file we'll be using for this lab\n",
        "!wget -N 'https://github.com/brendanpshea/database_sql/raw/main/data/sci_fi_books.db' -q\n",
        "\n",
        "%load_ext sql\n",
        "%sql sqlite:///sci_fi_books.db"
      ]
    },
    {
      "cell_type": "markdown",
      "source": [
        "Let's go through each line of the code now:\n",
        "\n",
        "1.  `!pip install SQLAlchemy==1.3.24`: This line is installing SQLAlchemy. We're using an exclamation mark `!` at the beginning of the line to tell the Jupyter notebook that this isn't a Python command, but a Linux shell command. The `pip install` command is used to install Python packages, and SQLAlchemy is a Python SQL toolkit and Object-Relational Mapping (ORM) library.\n",
        "\n",
        "2.  `!wget -N 'https://github.com/brendanpshea/database_sql/raw/main/data/sci_fi_books.db' -q`: This line is using the `wget` command, a free utility for non-interactive download of files from the web. It supports HTTP, HTTPS, and FTP protocols, and can retrieve files through HTTP proxies. The `-N` flag tells `wget` to only download files that are newer than what we already have, and `-q` tells `wget` to operate quietly without giving output messages.\n",
        "\n",
        "3.  `%load_ext sql`: This line is a Jupyter Notebook magic command. In Jupyter, magic commands are prefixed by the `%` character. These are special commands that are not part of the Python programming language, but are enhancements provided by the IPython kernel. This specific command is loading the SQL extension, which lets us write SQL queries directly into our Jupyter cells.\n",
        "\n",
        "4.  `%sql sqlite:///sci_fi_books.db`: This is establishing a SQLite connection to the `sci_fi_books.db` database. The `%sql` magic command is used to execute SQL commands in Jupyter notebooks. The `sqlite:///` part is specifying the SQLite database we want to connect to. The remaining part `sci_fi_books.db` is the path to the database file. In this case, it's in the same directory as the notebook, so we just provide the file name.\n",
        "\n",
        "With these steps, we have successfully downloaded a database file from a remote location and loaded it into an SQLite database using a Jupyter notebook running Ubuntu."
      ],
      "metadata": {
        "id": "CpICU_WwCbal"
      }
    },
    {
      "cell_type": "markdown",
      "source": [
        "## Our First Query: FInd the Most Popular Books\n",
        "Here is a sample SQL query that fetches the 20 most popular books, assuming popularity is based on the `numRatings` field:"
      ],
      "metadata": {
        "id": "24zdr-NIGA3U"
      }
    },
    {
      "cell_type": "code",
      "source": [
        "%%sql\n",
        "SELECT * FROM books\n",
        "ORDER BY numRatings DESC\n",
        "LIMIT 20;"
      ],
      "metadata": {
        "colab": {
          "base_uri": "https://localhost:8080/",
          "height": 493
        },
        "id": "nhAP2RpJGOHi",
        "outputId": "209a6148-3f8c-4cfc-feed-4a8e316fdf9e"
      },
      "execution_count": 2,
      "outputs": [
        {
          "output_type": "stream",
          "name": "stdout",
          "text": [
            " * sqlite:///sci_fi_books.db\n",
            "Done.\n"
          ]
        },
        {
          "output_type": "execute_result",
          "data": {
            "text/plain": [
              "[('1997-06-26', '2003-11-01', \"Harry Potter and the Sorcerer's Stone\", 'Harry Potter #1', 'J.K. Rowling', 4.47, 'English', 309, 'Scholastic Inc', 7048471, 10),\n",
              " (None, '2008-09-14', 'The Hunger Games', 'The Hunger Games #1', 'Suzanne Collins', 4.33, 'English', 374, 'Scholastic Press', 6376780, 1),\n",
              " ('1949-06-08', '2013-09-03', 1984, None, 'George Orwell', 4.19, 'English', 237, 'Houghton Mifflin Harcourt', 3140442, 24),\n",
              " ('2011-04-25', '2012-02-28', 'Divergent', 'Divergent #1', 'Veronica Roth', 4.19, 'English', 487, 'Katherine Tegen Books', 2906258, 8),\n",
              " ('1937-09-21', '2002-08-15', 'The Hobbit, or There and Back Again', 'The Hobbit', 'J.R.R. Tolkien', 4.27, 'English', 366, 'Houghton Mifflin', 2896265, 38),\n",
              " (None, '2007-07-21', 'Harry Potter and the Deathly Hallows', 'Harry Potter #7', 'J.K. Rowling', 4.62, 'English', 759, 'Arthur A. Levine Books / Scholastic Inc.', 2811637, 22),\n",
              " ('1999-07-08', '2004-05-01', 'Harry Potter and the Prisoner of Azkaban', 'Harry Potter #3', 'J.K. Rowling', 4.57, 'English', 435, 'Scholastic Inc.', 2806471, 29),\n",
              " ('1945-08-17', '1996-04-28', 'Animal Farm', None, 'George Orwell', 3.95, 'English', 141, 'Signet Classics', 2740713, 3),\n",
              " ('1998-07-02', '1999-06-02', 'Harry Potter and the Chamber of Secrets', 'Harry Potter #2', 'J.K. Rowling', 4.43, 'English', 341, 'Arthur A. Levine Books / Scholastic Inc.', 2725847, 35),\n",
              " ('2000-07-08', '2002-09-28', 'Harry Potter and the Goblet of Fire', 'Harry Potter #4', 'J.K. Rowling', 4.56, 'English', 734, 'Scholastic', 2594622, 30),\n",
              " (None, '2009-09-01', 'Catching Fire', 'The Hunger Games #2', 'Suzanne Collins', 4.29, 'English', 391, 'Scholastic Press', 2514084, 53),\n",
              " ('2003-06-21', '2004-09-28', 'Harry Potter and the Order of the Phoenix', 'Harry Potter #5', 'J.K. Rowling', 4.5, 'English', 870, 'Scholastic Inc.', 2507623, 2),\n",
              " ('2005-07-16', '2006-09-16', 'Harry Potter and the Half-Blood Prince', 'Harry Potter #6', 'J.K. Rowling', 4.57, 'English', 652, 'Scholastic Inc.', 2437658, 31),\n",
              " ('1954-07-29', '1973-03-28', 'The Fellowship of the Ring', 'The Lord of the Rings #1', 'J.R.R. Tolkien', 4.36, 'English', 527, 'Ballantine Books', 2355237, 23),\n",
              " (None, '2010-08-24', 'Mockingjay', 'The Hunger Games #3', 'Suzanne Collins', 4.04, 'English', 390, 'Scholastic Press', 2348368, 68),\n",
              " ('1996-08-06', '2005-08-28', 'A Game of Thrones', 'A Song of Ice and Fire #1', 'George R.R. Martin', 4.45, 'English', 835, 'Bantam', 2003043, 15),\n",
              " ('1993-04-26', '2006-01-24', 'The Giver', 'The Giver #1', 'Lois Lowry', 4.13, 'English', 208, 'Ember', 1785054, 19),\n",
              " ('1953-10-19', '2011-11-29', 'Fahrenheit 451', None, 'Ray Bradbury', 3.99, 'English', 194, 'Simon & Schuster', 1680139, 7),\n",
              " ('2003-07-05', '2013-09-23', \"The Time Traveler's Wife\", None, 'Audrey Niffenegger', 3.97, 'English', 500, 'Zola Books', 1573857, 11),\n",
              " ('1985-08-28', '1998-04-28', \"The Handmaid's Tale\", \"The Handmaid's Tale #1\", 'Margaret Atwood', 4.11, 'English', 314, 'Anchor Books', 1459245, 18)]"
            ],
            "text/html": [
              "<table>\n",
              "    <thead>\n",
              "        <tr>\n",
              "            <th>firstPublishDate</th>\n",
              "            <th>publishDate</th>\n",
              "            <th>title</th>\n",
              "            <th>series</th>\n",
              "            <th>author</th>\n",
              "            <th>rating</th>\n",
              "            <th>language</th>\n",
              "            <th>pages</th>\n",
              "            <th>publisher</th>\n",
              "            <th>numRatings</th>\n",
              "            <th>id</th>\n",
              "        </tr>\n",
              "    </thead>\n",
              "    <tbody>\n",
              "        <tr>\n",
              "            <td>1997-06-26</td>\n",
              "            <td>2003-11-01</td>\n",
              "            <td>Harry Potter and the Sorcerer&#x27;s Stone</td>\n",
              "            <td>Harry Potter #1</td>\n",
              "            <td>J.K. Rowling</td>\n",
              "            <td>4.47</td>\n",
              "            <td>English</td>\n",
              "            <td>309</td>\n",
              "            <td>Scholastic Inc</td>\n",
              "            <td>7048471</td>\n",
              "            <td>10</td>\n",
              "        </tr>\n",
              "        <tr>\n",
              "            <td>None</td>\n",
              "            <td>2008-09-14</td>\n",
              "            <td>The Hunger Games</td>\n",
              "            <td>The Hunger Games #1</td>\n",
              "            <td>Suzanne Collins</td>\n",
              "            <td>4.33</td>\n",
              "            <td>English</td>\n",
              "            <td>374</td>\n",
              "            <td>Scholastic Press</td>\n",
              "            <td>6376780</td>\n",
              "            <td>1</td>\n",
              "        </tr>\n",
              "        <tr>\n",
              "            <td>1949-06-08</td>\n",
              "            <td>2013-09-03</td>\n",
              "            <td>1984</td>\n",
              "            <td>None</td>\n",
              "            <td>George Orwell</td>\n",
              "            <td>4.19</td>\n",
              "            <td>English</td>\n",
              "            <td>237</td>\n",
              "            <td>Houghton Mifflin Harcourt</td>\n",
              "            <td>3140442</td>\n",
              "            <td>24</td>\n",
              "        </tr>\n",
              "        <tr>\n",
              "            <td>2011-04-25</td>\n",
              "            <td>2012-02-28</td>\n",
              "            <td>Divergent</td>\n",
              "            <td>Divergent #1</td>\n",
              "            <td>Veronica Roth</td>\n",
              "            <td>4.19</td>\n",
              "            <td>English</td>\n",
              "            <td>487</td>\n",
              "            <td>Katherine Tegen Books</td>\n",
              "            <td>2906258</td>\n",
              "            <td>8</td>\n",
              "        </tr>\n",
              "        <tr>\n",
              "            <td>1937-09-21</td>\n",
              "            <td>2002-08-15</td>\n",
              "            <td>The Hobbit, or There and Back Again</td>\n",
              "            <td>The Hobbit</td>\n",
              "            <td>J.R.R. Tolkien</td>\n",
              "            <td>4.27</td>\n",
              "            <td>English</td>\n",
              "            <td>366</td>\n",
              "            <td>Houghton Mifflin</td>\n",
              "            <td>2896265</td>\n",
              "            <td>38</td>\n",
              "        </tr>\n",
              "        <tr>\n",
              "            <td>None</td>\n",
              "            <td>2007-07-21</td>\n",
              "            <td>Harry Potter and the Deathly Hallows</td>\n",
              "            <td>Harry Potter #7</td>\n",
              "            <td>J.K. Rowling</td>\n",
              "            <td>4.62</td>\n",
              "            <td>English</td>\n",
              "            <td>759</td>\n",
              "            <td>Arthur A. Levine Books / Scholastic Inc.</td>\n",
              "            <td>2811637</td>\n",
              "            <td>22</td>\n",
              "        </tr>\n",
              "        <tr>\n",
              "            <td>1999-07-08</td>\n",
              "            <td>2004-05-01</td>\n",
              "            <td>Harry Potter and the Prisoner of Azkaban</td>\n",
              "            <td>Harry Potter #3</td>\n",
              "            <td>J.K. Rowling</td>\n",
              "            <td>4.57</td>\n",
              "            <td>English</td>\n",
              "            <td>435</td>\n",
              "            <td>Scholastic Inc.</td>\n",
              "            <td>2806471</td>\n",
              "            <td>29</td>\n",
              "        </tr>\n",
              "        <tr>\n",
              "            <td>1945-08-17</td>\n",
              "            <td>1996-04-28</td>\n",
              "            <td>Animal Farm</td>\n",
              "            <td>None</td>\n",
              "            <td>George Orwell</td>\n",
              "            <td>3.95</td>\n",
              "            <td>English</td>\n",
              "            <td>141</td>\n",
              "            <td>Signet Classics</td>\n",
              "            <td>2740713</td>\n",
              "            <td>3</td>\n",
              "        </tr>\n",
              "        <tr>\n",
              "            <td>1998-07-02</td>\n",
              "            <td>1999-06-02</td>\n",
              "            <td>Harry Potter and the Chamber of Secrets</td>\n",
              "            <td>Harry Potter #2</td>\n",
              "            <td>J.K. Rowling</td>\n",
              "            <td>4.43</td>\n",
              "            <td>English</td>\n",
              "            <td>341</td>\n",
              "            <td>Arthur A. Levine Books / Scholastic Inc.</td>\n",
              "            <td>2725847</td>\n",
              "            <td>35</td>\n",
              "        </tr>\n",
              "        <tr>\n",
              "            <td>2000-07-08</td>\n",
              "            <td>2002-09-28</td>\n",
              "            <td>Harry Potter and the Goblet of Fire</td>\n",
              "            <td>Harry Potter #4</td>\n",
              "            <td>J.K. Rowling</td>\n",
              "            <td>4.56</td>\n",
              "            <td>English</td>\n",
              "            <td>734</td>\n",
              "            <td>Scholastic</td>\n",
              "            <td>2594622</td>\n",
              "            <td>30</td>\n",
              "        </tr>\n",
              "        <tr>\n",
              "            <td>None</td>\n",
              "            <td>2009-09-01</td>\n",
              "            <td>Catching Fire</td>\n",
              "            <td>The Hunger Games #2</td>\n",
              "            <td>Suzanne Collins</td>\n",
              "            <td>4.29</td>\n",
              "            <td>English</td>\n",
              "            <td>391</td>\n",
              "            <td>Scholastic Press</td>\n",
              "            <td>2514084</td>\n",
              "            <td>53</td>\n",
              "        </tr>\n",
              "        <tr>\n",
              "            <td>2003-06-21</td>\n",
              "            <td>2004-09-28</td>\n",
              "            <td>Harry Potter and the Order of the Phoenix</td>\n",
              "            <td>Harry Potter #5</td>\n",
              "            <td>J.K. Rowling</td>\n",
              "            <td>4.5</td>\n",
              "            <td>English</td>\n",
              "            <td>870</td>\n",
              "            <td>Scholastic Inc.</td>\n",
              "            <td>2507623</td>\n",
              "            <td>2</td>\n",
              "        </tr>\n",
              "        <tr>\n",
              "            <td>2005-07-16</td>\n",
              "            <td>2006-09-16</td>\n",
              "            <td>Harry Potter and the Half-Blood Prince</td>\n",
              "            <td>Harry Potter #6</td>\n",
              "            <td>J.K. Rowling</td>\n",
              "            <td>4.57</td>\n",
              "            <td>English</td>\n",
              "            <td>652</td>\n",
              "            <td>Scholastic Inc.</td>\n",
              "            <td>2437658</td>\n",
              "            <td>31</td>\n",
              "        </tr>\n",
              "        <tr>\n",
              "            <td>1954-07-29</td>\n",
              "            <td>1973-03-28</td>\n",
              "            <td>The Fellowship of the Ring</td>\n",
              "            <td>The Lord of the Rings #1</td>\n",
              "            <td>J.R.R. Tolkien</td>\n",
              "            <td>4.36</td>\n",
              "            <td>English</td>\n",
              "            <td>527</td>\n",
              "            <td>Ballantine Books</td>\n",
              "            <td>2355237</td>\n",
              "            <td>23</td>\n",
              "        </tr>\n",
              "        <tr>\n",
              "            <td>None</td>\n",
              "            <td>2010-08-24</td>\n",
              "            <td>Mockingjay</td>\n",
              "            <td>The Hunger Games #3</td>\n",
              "            <td>Suzanne Collins</td>\n",
              "            <td>4.04</td>\n",
              "            <td>English</td>\n",
              "            <td>390</td>\n",
              "            <td>Scholastic Press</td>\n",
              "            <td>2348368</td>\n",
              "            <td>68</td>\n",
              "        </tr>\n",
              "        <tr>\n",
              "            <td>1996-08-06</td>\n",
              "            <td>2005-08-28</td>\n",
              "            <td>A Game of Thrones</td>\n",
              "            <td>A Song of Ice and Fire #1</td>\n",
              "            <td>George R.R. Martin</td>\n",
              "            <td>4.45</td>\n",
              "            <td>English</td>\n",
              "            <td>835</td>\n",
              "            <td>Bantam</td>\n",
              "            <td>2003043</td>\n",
              "            <td>15</td>\n",
              "        </tr>\n",
              "        <tr>\n",
              "            <td>1993-04-26</td>\n",
              "            <td>2006-01-24</td>\n",
              "            <td>The Giver</td>\n",
              "            <td>The Giver #1</td>\n",
              "            <td>Lois Lowry</td>\n",
              "            <td>4.13</td>\n",
              "            <td>English</td>\n",
              "            <td>208</td>\n",
              "            <td>Ember</td>\n",
              "            <td>1785054</td>\n",
              "            <td>19</td>\n",
              "        </tr>\n",
              "        <tr>\n",
              "            <td>1953-10-19</td>\n",
              "            <td>2011-11-29</td>\n",
              "            <td>Fahrenheit 451</td>\n",
              "            <td>None</td>\n",
              "            <td>Ray Bradbury</td>\n",
              "            <td>3.99</td>\n",
              "            <td>English</td>\n",
              "            <td>194</td>\n",
              "            <td>Simon &amp; Schuster</td>\n",
              "            <td>1680139</td>\n",
              "            <td>7</td>\n",
              "        </tr>\n",
              "        <tr>\n",
              "            <td>2003-07-05</td>\n",
              "            <td>2013-09-23</td>\n",
              "            <td>The Time Traveler&#x27;s Wife</td>\n",
              "            <td>None</td>\n",
              "            <td>Audrey Niffenegger</td>\n",
              "            <td>3.97</td>\n",
              "            <td>English</td>\n",
              "            <td>500</td>\n",
              "            <td>Zola Books</td>\n",
              "            <td>1573857</td>\n",
              "            <td>11</td>\n",
              "        </tr>\n",
              "        <tr>\n",
              "            <td>1985-08-28</td>\n",
              "            <td>1998-04-28</td>\n",
              "            <td>The Handmaid&#x27;s Tale</td>\n",
              "            <td>The Handmaid&#x27;s Tale #1</td>\n",
              "            <td>Margaret Atwood</td>\n",
              "            <td>4.11</td>\n",
              "            <td>English</td>\n",
              "            <td>314</td>\n",
              "            <td>Anchor Books</td>\n",
              "            <td>1459245</td>\n",
              "            <td>18</td>\n",
              "        </tr>\n",
              "    </tbody>\n",
              "</table>"
            ]
          },
          "metadata": {},
          "execution_count": 2
        }
      ]
    },
    {
      "cell_type": "markdown",
      "source": [
        "Let's break it down:\n",
        "\n",
        "-   `SELECT * FROM books`: This part of the query fetches all the columns (`*` denotes all) from the `books` table.\n",
        "\n",
        "-   `ORDER BY numRatings DESC`: This part sorts the fetched rows based on the `numRatings` column in descending order (`DESC`).\n",
        "\n",
        "-   `LIMIT 20`: This part limits the output to the top 20 rows after sorting.\n",
        "\n",
        "This command will output the details of the 20 most popular books in the dataset. Remember that SQL queries end with a semicolon, though it is not always necessary in Jupyter Notebooks.\n",
        "\n",
        "It's also important to remember that the SQL extension in Jupyter notebooks begins queries with `%%sql` if the SQL statement spans multiple lines, and `%sql` for single line SQL commands.\n",
        "\n",
        "Now you can take a look at the data returned and analyze the most popular books in this dataset!"
      ],
      "metadata": {
        "id": "TfJ9C3S5Ghqi"
      }
    },
    {
      "cell_type": "markdown",
      "source": [
        "### Aggregate Functions\n",
        "\n",
        "In SQL, an aggregate function performs a calculation on a set of values and returns a single value. This is particularly useful when you need to perform calculations on a group of rows, such as counting the number of rows, calculating the average of a column, or adding up all the values in a column.\n",
        "\n",
        "Now let's take a look at two important aggregate functions: `COUNT()` and `SUM()` using the `books` table from the `sci_fi_books.db` database.\n",
        "\n",
        "### COUNT()\n",
        "\n",
        "The `COUNT()` function in SQL returns the number of rows that match a specified criteria. It's a simple way to find out how many rows (i.e., entries) you have in your table or how many of those rows match a certain condition.\n",
        "\n",
        "If we want to know the total number of books in our database, we can use the `COUNT()` function. Here's how you would do it:"
      ],
      "metadata": {
        "id": "MvY3ub3-VmzG"
      }
    },
    {
      "cell_type": "code",
      "source": [
        "# Total books in database\n",
        "%sql SELECT COUNT(*) FROM books;"
      ],
      "metadata": {
        "colab": {
          "base_uri": "https://localhost:8080/",
          "height": 95
        },
        "id": "pyQRKx3AVqJC",
        "outputId": "a10929cd-049f-4247-8f88-2170a24f9a13"
      },
      "execution_count": null,
      "outputs": [
        {
          "output_type": "stream",
          "name": "stdout",
          "text": [
            " * sqlite:///sci_fi_books.db\n",
            "Done.\n"
          ]
        },
        {
          "output_type": "execute_result",
          "data": {
            "text/plain": [
              "[(6591,)]"
            ],
            "text/html": [
              "<table>\n",
              "    <tr>\n",
              "        <th>COUNT(*)</th>\n",
              "    </tr>\n",
              "    <tr>\n",
              "        <td>6591</td>\n",
              "    </tr>\n",
              "</table>"
            ]
          },
          "metadata": {},
          "execution_count": 3
        }
      ]
    },
    {
      "cell_type": "markdown",
      "source": [
        "The `*` inside the parentheses of `COUNT()` function indicates that we want to count all rows, regardless of whether any of their column values are NULL.\n",
        "\n",
        "Now, Suppose we want to find out how many books were first published in the year 2000. We would use the `COUNT()` function with a `WHERE` clause:"
      ],
      "metadata": {
        "id": "oJZnqVv1VzU0"
      }
    },
    {
      "cell_type": "code",
      "source": [
        "# books published in 2000\n",
        "%sql SELECT COUNT(*) FROM books WHERE publishDate BETWEEN '2000-1-1' AND '2000-12-31';"
      ],
      "metadata": {
        "colab": {
          "base_uri": "https://localhost:8080/",
          "height": 95
        },
        "id": "EG-amFGyV2dD",
        "outputId": "4d3e2a57-05a8-4bfb-ea7b-1be908c99335"
      },
      "execution_count": null,
      "outputs": [
        {
          "output_type": "stream",
          "name": "stdout",
          "text": [
            " * sqlite:///sci_fi_books.db\n",
            "Done.\n"
          ]
        },
        {
          "output_type": "execute_result",
          "data": {
            "text/plain": [
              "[(40,)]"
            ],
            "text/html": [
              "<table>\n",
              "    <tr>\n",
              "        <th>COUNT(*)</th>\n",
              "    </tr>\n",
              "    <tr>\n",
              "        <td>40</td>\n",
              "    </tr>\n",
              "</table>"
            ]
          },
          "metadata": {},
          "execution_count": 4
        }
      ]
    },
    {
      "cell_type": "markdown",
      "source": [
        "This SQL query will count the number of books in the books table that were published between January 1, 2000 and December 31, 2000.\n",
        "\n",
        "1. The `SELECT` keyword is used to select data from a table. In this case, we are selecting the `COUNT(*)` column, which will count the number of rows in the table.\n",
        "2. The `WHERE` keyword is used to filter the data that is returned. In this case, we are filtering the data so that only rows where the publishDate column is between '2000-1-1' and '2000-12-31' are returned.\n",
        "3. The `BETWEEN` operator is used to compare a value to a range of values. In this case, we are comparing the publishDate column to the values '2000-1-1' and '2000-12-31'.\n",
        "4. The date formatting in this query is using the **ISO 8601 date standard**. This standard is a widely used format for representing dates and times. The format used in this query is `YYYY-MM-DD`."
      ],
      "metadata": {
        "id": "03uFXVUAW8S0"
      }
    },
    {
      "cell_type": "markdown",
      "source": [
        "### SUM()\n",
        "The SUM() function in SQL returns the total sum of a numeric column.\n",
        "\n",
        "For example, if we want to find out the total number of pages across all books, we can use the SUM() function. Here's how:"
      ],
      "metadata": {
        "id": "r9ilGIsHXY5Q"
      }
    },
    {
      "cell_type": "code",
      "source": [
        "# total pages in all books\n",
        "%sql SELECT SUM(pages) FROM books;"
      ],
      "metadata": {
        "colab": {
          "base_uri": "https://localhost:8080/",
          "height": 95
        },
        "id": "9UpwndxXXfKF",
        "outputId": "c171ef1d-f4cc-4f76-ea89-fde08f0651a0"
      },
      "execution_count": null,
      "outputs": [
        {
          "output_type": "stream",
          "name": "stdout",
          "text": [
            " * sqlite:///sci_fi_books.db\n",
            "Done.\n"
          ]
        },
        {
          "output_type": "execute_result",
          "data": {
            "text/plain": [
              "[(2495231,)]"
            ],
            "text/html": [
              "<table>\n",
              "    <tr>\n",
              "        <th>SUM(pages)</th>\n",
              "    </tr>\n",
              "    <tr>\n",
              "        <td>2495231</td>\n",
              "    </tr>\n",
              "</table>"
            ]
          },
          "metadata": {},
          "execution_count": 5
        }
      ]
    },
    {
      "cell_type": "markdown",
      "source": [
        "This query will return the total sum of the pages column, effectively telling us the total number of pages across all books in the database.\n",
        "\n",
        "Let's say we now want to find out the total number of ratings received by all books of a specific author (such as J.R.R. Tolkien). We could use the SUM() function along with a WHERE clause:"
      ],
      "metadata": {
        "id": "mugms0C-Xk0C"
      }
    },
    {
      "cell_type": "code",
      "source": [
        "# total ratings of Tolkien books\n",
        "%%sql\n",
        "SELECT SUM(numRatings) FROM books\n",
        "  WHERE author='J.R.R. Tolkien';"
      ],
      "metadata": {
        "colab": {
          "base_uri": "https://localhost:8080/",
          "height": 95
        },
        "id": "lBCV_xkPXwzN",
        "outputId": "cd9055e3-f996-468b-82b3-30b56df64749"
      },
      "execution_count": null,
      "outputs": [
        {
          "output_type": "stream",
          "name": "stdout",
          "text": [
            " * sqlite:///sci_fi_books.db\n",
            "Done.\n"
          ]
        },
        {
          "output_type": "execute_result",
          "data": {
            "text/plain": [
              "[(8071714,)]"
            ],
            "text/html": [
              "<table>\n",
              "    <tr>\n",
              "        <th>SUM(numRatings)</th>\n",
              "    </tr>\n",
              "    <tr>\n",
              "        <td>8071714</td>\n",
              "    </tr>\n",
              "</table>"
            ]
          },
          "metadata": {},
          "execution_count": 6
        }
      ]
    },
    {
      "cell_type": "markdown",
      "source": [
        "In these examples, remember that `COUNT()` and `SUM()` are ignoring `NULL` values in their respective columns. If a book doesn't have a `PublishDate` or the `pages` or `numRatings` is not set, those books won't be included in the calculations."
      ],
      "metadata": {
        "id": "GyR4LTYMXlAd"
      }
    },
    {
      "cell_type": "markdown",
      "source": [
        "## Keeping Things DISTINCT\n",
        "The `DISTINCT` keyword is used in SQL to eliminate duplicate records from a result set. The `DISTINCT` keyword can be used with expressions, multiple columns, in aggregate functions, etc.\n",
        "\n",
        "If you consider each row of a result set to be a set of properties (like a book's title, author, number of pages, and so on), then `DISTINCT` ensures that you only get rows with unique combinations of these properties.\n",
        "\n",
        "### Basic Syntax\n",
        "\n",
        "```\n",
        "SELECT DISTINCT column1, column2, ..., columnN\n",
        "FROM table_name;\n",
        "```\n",
        "\n",
        "### Usage with Single Column\n",
        "\n",
        "For example, if you want to know all the unique authors in the `books` table, you can use the `DISTINCT` keyword as follows:"
      ],
      "metadata": {
        "id": "rv5aQ3g_tt0w"
      }
    },
    {
      "cell_type": "code",
      "source": [
        "%%sql\n",
        "SELECT DISTINCT author\n",
        "FROM books\n",
        "ORDER BY author\n",
        "LIMIT 5;"
      ],
      "metadata": {
        "colab": {
          "base_uri": "https://localhost:8080/",
          "height": 179
        },
        "id": "rrE2i1y5t-30",
        "outputId": "3342d637-584a-4160-e22d-157389248c4e"
      },
      "execution_count": null,
      "outputs": [
        {
          "output_type": "stream",
          "name": "stdout",
          "text": [
            " * sqlite:///sci_fi_books.db\n",
            "Done.\n"
          ]
        },
        {
          "output_type": "execute_result",
          "data": {
            "text/plain": [
              "[('A. Lee Martinez',),\n",
              " ('A. Merritt',),\n",
              " ('A.A. Attanasio',),\n",
              " ('A.C. Crispin',),\n",
              " ('A.C. Weisbecker',)]"
            ],
            "text/html": [
              "<table>\n",
              "    <tr>\n",
              "        <th>author</th>\n",
              "    </tr>\n",
              "    <tr>\n",
              "        <td>A. Lee Martinez</td>\n",
              "    </tr>\n",
              "    <tr>\n",
              "        <td>A. Merritt</td>\n",
              "    </tr>\n",
              "    <tr>\n",
              "        <td>A.A. Attanasio</td>\n",
              "    </tr>\n",
              "    <tr>\n",
              "        <td>A.C. Crispin</td>\n",
              "    </tr>\n",
              "    <tr>\n",
              "        <td>A.C. Weisbecker</td>\n",
              "    </tr>\n",
              "</table>"
            ]
          },
          "metadata": {},
          "execution_count": 7
        }
      ]
    },
    {
      "cell_type": "markdown",
      "source": [
        "In the above query, each row is a separat author. We can compare this to what happens when we leave distinct out:"
      ],
      "metadata": {
        "id": "vLQ_SFtuuDSq"
      }
    },
    {
      "cell_type": "code",
      "source": [
        "%%sql\n",
        "SELECT author\n",
        "FROM books\n",
        "ORDER BY author\n",
        "LIMIT 5;"
      ],
      "metadata": {
        "colab": {
          "base_uri": "https://localhost:8080/",
          "height": 179
        },
        "id": "NA3u-lKouGky",
        "outputId": "4a2c4a87-0156-4dea-b60b-ddb14dfc2a3d"
      },
      "execution_count": null,
      "outputs": [
        {
          "output_type": "stream",
          "name": "stdout",
          "text": [
            " * sqlite:///sci_fi_books.db\n",
            "Done.\n"
          ]
        },
        {
          "output_type": "execute_result",
          "data": {
            "text/plain": [
              "[('A. Lee Martinez',),\n",
              " ('A. Lee Martinez',),\n",
              " ('A. Merritt',),\n",
              " ('A.A. Attanasio',),\n",
              " ('A.A. Attanasio',)]"
            ],
            "text/html": [
              "<table>\n",
              "    <tr>\n",
              "        <th>author</th>\n",
              "    </tr>\n",
              "    <tr>\n",
              "        <td>A. Lee Martinez</td>\n",
              "    </tr>\n",
              "    <tr>\n",
              "        <td>A. Lee Martinez</td>\n",
              "    </tr>\n",
              "    <tr>\n",
              "        <td>A. Merritt</td>\n",
              "    </tr>\n",
              "    <tr>\n",
              "        <td>A.A. Attanasio</td>\n",
              "    </tr>\n",
              "    <tr>\n",
              "        <td>A.A. Attanasio</td>\n",
              "    </tr>\n",
              "</table>"
            ]
          },
          "metadata": {},
          "execution_count": 8
        }
      ]
    },
    {
      "cell_type": "markdown",
      "source": [
        "### Usage with Aggregate Functions\n",
        "The `DISTINCT` keyword can also be used with aggregate functions:"
      ],
      "metadata": {
        "id": "4j778E-XuoBl"
      }
    },
    {
      "cell_type": "code",
      "source": [
        "%%sql\n",
        "SELECT COUNT(DISTINCT author)\n",
        "FROM books;"
      ],
      "metadata": {
        "colab": {
          "base_uri": "https://localhost:8080/",
          "height": 95
        },
        "id": "V8n1TnAAusGX",
        "outputId": "5a8377a7-f3ef-4692-8d87-b15c07f1b9ea"
      },
      "execution_count": null,
      "outputs": [
        {
          "output_type": "stream",
          "name": "stdout",
          "text": [
            " * sqlite:///sci_fi_books.db\n",
            "Done.\n"
          ]
        },
        {
          "output_type": "execute_result",
          "data": {
            "text/plain": [
              "[(2466,)]"
            ],
            "text/html": [
              "<table>\n",
              "    <tr>\n",
              "        <th>COUNT(DISTINCT author)</th>\n",
              "    </tr>\n",
              "    <tr>\n",
              "        <td>2466</td>\n",
              "    </tr>\n",
              "</table>"
            ]
          },
          "metadata": {},
          "execution_count": 9
        }
      ]
    },
    {
      "cell_type": "markdown",
      "source": [
        "This query counts the number of unique authors in the `books` table. By contrast, you should NOT try to count authors like this (since this will count the number of \"books\"!):"
      ],
      "metadata": {
        "id": "habhwcUKuvsI"
      }
    },
    {
      "cell_type": "code",
      "source": [
        "%%sql\n",
        "SELECT COUNT(author)\n",
        "FROM books;"
      ],
      "metadata": {
        "colab": {
          "base_uri": "https://localhost:8080/",
          "height": 95
        },
        "id": "T65OKckIu2jn",
        "outputId": "631e8049-1195-43f2-c65b-26f94cfbb86e"
      },
      "execution_count": null,
      "outputs": [
        {
          "output_type": "stream",
          "name": "stdout",
          "text": [
            " * sqlite:///sci_fi_books.db\n",
            "Done.\n"
          ]
        },
        {
          "output_type": "execute_result",
          "data": {
            "text/plain": [
              "[(6591,)]"
            ],
            "text/html": [
              "<table>\n",
              "    <tr>\n",
              "        <th>COUNT(author)</th>\n",
              "    </tr>\n",
              "    <tr>\n",
              "        <td>6591</td>\n",
              "    </tr>\n",
              "</table>"
            ]
          },
          "metadata": {},
          "execution_count": 10
        }
      ]
    },
    {
      "cell_type": "markdown",
      "source": [
        "## Using 'AS' for Renaming in SQL\n",
        "\n",
        "In SQL, the `AS` keyword is used to rename a column or table with an alias. The alias helps make column names more readable. This is especially useful when the column names are long or not very descriptive.\n",
        "\n",
        "An alias only exists for the duration of the query. Let's take a look at some examples of how to use `AS` in SQL:\n",
        "\n",
        "### Renaming Column Names\n",
        "\n",
        "Suppose we are interested in the `firstPublishDate` and `rating` of each book. We can use the `AS` clause to rename these columns in our result set to something more reader-friendly.\n"
      ],
      "metadata": {
        "id": "N7Fi5vfVZn1a"
      }
    },
    {
      "cell_type": "code",
      "source": [
        "%%sql\n",
        "SELECT firstPublishDate AS Published,\n",
        "  rating AS Rating\n",
        "FROM books\n",
        "LIMIT 5;"
      ],
      "metadata": {
        "colab": {
          "base_uri": "https://localhost:8080/",
          "height": 179
        },
        "id": "4DEaJdxBGkNF",
        "outputId": "9ff0c99d-028c-46aa-ed11-d4f630a479d8"
      },
      "execution_count": null,
      "outputs": [
        {
          "output_type": "stream",
          "name": "stdout",
          "text": [
            " * sqlite:///sci_fi_books.db\n",
            "Done.\n"
          ]
        },
        {
          "output_type": "execute_result",
          "data": {
            "text/plain": [
              "[(None, 4.33),\n",
              " ('2003-06-21', 4.5),\n",
              " ('1945-08-17', 3.95),\n",
              " ('1956-10-28', 4.26),\n",
              " ('1955-10-20', 4.6)]"
            ],
            "text/html": [
              "<table>\n",
              "    <tr>\n",
              "        <th>Published</th>\n",
              "        <th>Rating</th>\n",
              "    </tr>\n",
              "    <tr>\n",
              "        <td>None</td>\n",
              "        <td>4.33</td>\n",
              "    </tr>\n",
              "    <tr>\n",
              "        <td>2003-06-21</td>\n",
              "        <td>4.5</td>\n",
              "    </tr>\n",
              "    <tr>\n",
              "        <td>1945-08-17</td>\n",
              "        <td>3.95</td>\n",
              "    </tr>\n",
              "    <tr>\n",
              "        <td>1956-10-28</td>\n",
              "        <td>4.26</td>\n",
              "    </tr>\n",
              "    <tr>\n",
              "        <td>1955-10-20</td>\n",
              "        <td>4.6</td>\n",
              "    </tr>\n",
              "</table>"
            ]
          },
          "metadata": {},
          "execution_count": 11
        }
      ]
    },
    {
      "cell_type": "markdown",
      "source": [
        "### Renaming Aggregated Column\n",
        "\n",
        "The `AS` keyword becomes particularly useful when we use aggregate functions. The name of an aggregated column will typically be something like `COUNT(*)`, which is not very descriptive. Let's use `AS` to make it more understandable by calling it \"Total_Books\":"
      ],
      "metadata": {
        "id": "0Mb8BfNWZ89w"
      }
    },
    {
      "cell_type": "code",
      "source": [
        "%sql SELECT COUNT(*) AS Total_Books FROM books;"
      ],
      "metadata": {
        "colab": {
          "base_uri": "https://localhost:8080/",
          "height": 95
        },
        "id": "3zsN7sYoaCPC",
        "outputId": "075bd7b7-6eec-49b0-97f5-d45200978493"
      },
      "execution_count": null,
      "outputs": [
        {
          "output_type": "stream",
          "name": "stdout",
          "text": [
            " * sqlite:///sci_fi_books.db\n",
            "Done.\n"
          ]
        },
        {
          "output_type": "execute_result",
          "data": {
            "text/plain": [
              "[(6591,)]"
            ],
            "text/html": [
              "<table>\n",
              "    <tr>\n",
              "        <th>Total_Books</th>\n",
              "    </tr>\n",
              "    <tr>\n",
              "        <td>6591</td>\n",
              "    </tr>\n",
              "</table>"
            ]
          },
          "metadata": {},
          "execution_count": 12
        }
      ]
    },
    {
      "cell_type": "markdown",
      "source": [
        "### Combining Column Names\n",
        "\n",
        "We can also use `AS` to combine multiple columns into a single column in the result set. This can be particularly useful when we want to make the output more readable:"
      ],
      "metadata": {
        "id": "ktDTckTmaZqI"
      }
    },
    {
      "cell_type": "code",
      "source": [
        "%%sql\n",
        "SELECT title || ' - ' || author AS 'Book - Author'\n",
        "FROM books\n",
        "LIMIT 5;"
      ],
      "metadata": {
        "colab": {
          "base_uri": "https://localhost:8080/",
          "height": 179
        },
        "id": "u1Wfv6Ddae1J",
        "outputId": "e8e39dc8-28b2-438d-eef2-27d8a9a9af22"
      },
      "execution_count": null,
      "outputs": [
        {
          "output_type": "stream",
          "name": "stdout",
          "text": [
            " * sqlite:///sci_fi_books.db\n",
            "Done.\n"
          ]
        },
        {
          "output_type": "execute_result",
          "data": {
            "text/plain": [
              "[('The Hunger Games - Suzanne Collins',),\n",
              " ('Harry Potter and the Order of the Phoenix - J.K. Rowling',),\n",
              " ('Animal Farm - George Orwell',),\n",
              " ('The Chronicles of Narnia - C.S. Lewis',),\n",
              " ('J.R.R. Tolkien 4-Book Boxed Set: The Hobbit and The Lord of the Rings - J.R.R. Tolkien',)]"
            ],
            "text/html": [
              "<table>\n",
              "    <tr>\n",
              "        <th>Book - Author</th>\n",
              "    </tr>\n",
              "    <tr>\n",
              "        <td>The Hunger Games - Suzanne Collins</td>\n",
              "    </tr>\n",
              "    <tr>\n",
              "        <td>Harry Potter and the Order of the Phoenix - J.K. Rowling</td>\n",
              "    </tr>\n",
              "    <tr>\n",
              "        <td>Animal Farm - George Orwell</td>\n",
              "    </tr>\n",
              "    <tr>\n",
              "        <td>The Chronicles of Narnia - C.S. Lewis</td>\n",
              "    </tr>\n",
              "    <tr>\n",
              "        <td>J.R.R. Tolkien 4-Book Boxed Set: The Hobbit and The Lord of the Rings - J.R.R. Tolkien</td>\n",
              "    </tr>\n",
              "</table>"
            ]
          },
          "metadata": {},
          "execution_count": 13
        }
      ]
    },
    {
      "cell_type": "markdown",
      "source": [
        "In the query above, the `||` operator concatenates the `title` and `author` columns. The result is a new column named `Book - Author`, which combines each book's title and author.\n",
        "\n",
        "In general, the `AS` keyword helps make your SQL queries and their results more understandable, both for you and others who might be reading your code or viewing the output."
      ],
      "metadata": {
        "id": "mpb7oZhTan8X"
      }
    },
    {
      "cell_type": "markdown",
      "source": [
        "## Other Aggregate Functions: MIN, MAX, and AVG\n",
        "\n",
        "In addition to `COUNT` and `SUM`, there are several other commonly used aggregate functions in SQL: `AVG`, `MIN`, `MAX`, and `GROUP BY`. These functions help summarize data in different ways, which can be very useful when you want to extract insights from a large dataset.\n",
        "\n",
        "###  `AVG` (Average)\n",
        " This function returns the average value of a numeric column."
      ],
      "metadata": {
        "id": "PZDb0lq8jpDh"
      }
    },
    {
      "cell_type": "code",
      "source": [
        "#average rating across all the books in our database\n",
        "%sql SELECT AVG(rating) AS Average_Rating FROM books;"
      ],
      "metadata": {
        "colab": {
          "base_uri": "https://localhost:8080/",
          "height": 95
        },
        "id": "Z1F161o2kFzo",
        "outputId": "7205657c-505c-4e04-9758-cbdd7a33f481"
      },
      "execution_count": null,
      "outputs": [
        {
          "output_type": "stream",
          "name": "stdout",
          "text": [
            " * sqlite:///sci_fi_books.db\n",
            "Done.\n"
          ]
        },
        {
          "output_type": "execute_result",
          "data": {
            "text/plain": [
              "[(3.9888848429676864,)]"
            ],
            "text/html": [
              "<table>\n",
              "    <tr>\n",
              "        <th>Average_Rating</th>\n",
              "    </tr>\n",
              "    <tr>\n",
              "        <td>3.9888848429676864</td>\n",
              "    </tr>\n",
              "</table>"
            ]
          },
          "metadata": {},
          "execution_count": 14
        }
      ]
    },
    {
      "cell_type": "markdown",
      "source": [
        "### `MIN` (Minimum)\n",
        "This function returns the smallest value of the selected column."
      ],
      "metadata": {
        "id": "vRoLBk00kL5Y"
      }
    },
    {
      "cell_type": "code",
      "source": [
        "# earliest publication date across all the books\n",
        "%sql SELECT MIN(firstPublishDate) AS Earliest_Publication_Date FROM books;"
      ],
      "metadata": {
        "colab": {
          "base_uri": "https://localhost:8080/",
          "height": 95
        },
        "id": "2sSQ2q8XkTEy",
        "outputId": "59274dcb-0e4c-43da-cbc3-6530b158d3e9"
      },
      "execution_count": null,
      "outputs": [
        {
          "output_type": "stream",
          "name": "stdout",
          "text": [
            " * sqlite:///sci_fi_books.db\n",
            "Done.\n"
          ]
        },
        {
          "output_type": "execute_result",
          "data": {
            "text/plain": [
              "[('1818-10-28',)]"
            ],
            "text/html": [
              "<table>\n",
              "    <tr>\n",
              "        <th>Earliest_Publication_Date</th>\n",
              "    </tr>\n",
              "    <tr>\n",
              "        <td>1818-10-28</td>\n",
              "    </tr>\n",
              "</table>"
            ]
          },
          "metadata": {},
          "execution_count": 15
        }
      ]
    },
    {
      "cell_type": "markdown",
      "source": [
        "### `MAX` (Maximum)\n",
        "This function returns the largest value of the selected column."
      ],
      "metadata": {
        "id": "3h9IzqrJkb-S"
      }
    },
    {
      "cell_type": "code",
      "source": [
        "# most recent publication date\n",
        "%sql SELECT MAX(publishDate) AS Latest_Publication_Date FROM books;"
      ],
      "metadata": {
        "colab": {
          "base_uri": "https://localhost:8080/",
          "height": 95
        },
        "id": "CgYsx-NnkiDY",
        "outputId": "8545294a-0c9e-470f-fac3-4a574fce6e13"
      },
      "execution_count": null,
      "outputs": [
        {
          "output_type": "stream",
          "name": "stdout",
          "text": [
            " * sqlite:///sci_fi_books.db\n",
            "Done.\n"
          ]
        },
        {
          "output_type": "execute_result",
          "data": {
            "text/plain": [
              "[('2020-10-27',)]"
            ],
            "text/html": [
              "<table>\n",
              "    <tr>\n",
              "        <th>Latest_Publication_Date</th>\n",
              "    </tr>\n",
              "    <tr>\n",
              "        <td>2020-10-27</td>\n",
              "    </tr>\n",
              "</table>"
            ]
          },
          "metadata": {},
          "execution_count": 16
        }
      ]
    },
    {
      "cell_type": "markdown",
      "source": [
        "## Putting Things Together With GROUP BY\n",
        "The `GROUP BY` clause is an SQL command used to arrange identical data into groups. The general form is:\n",
        "\n",
        "```\n",
        "SELECT column_name(s), aggregate_function(column_name)\n",
        "FROM table_name\n",
        "WHERE condition\n",
        "GROUP BY column_name(s);\n",
        "```\n",
        "\n",
        "The `GROUP BY` clause follows the `WHERE` clause in a `SELECT` statement and is often used alongside aggregate functions (`COUNT`, `SUM`, `AVG`, `MAX`, `MIN`) to group the result set by one or more columns.\n",
        "\n",
        "Here's an example: Suppose we want to find out the total number of books each author has in our database. We would write a query using `GROUP BY` with the `COUNT` function:"
      ],
      "metadata": {
        "id": "1HKxqGo7cXcj"
      }
    },
    {
      "cell_type": "code",
      "source": [
        "%%sql\n",
        "SELECT author,\n",
        "       COUNT(*) AS Number_of_Books\n",
        "FROM books\n",
        "GROUP BY author\n",
        "LIMIT 5;"
      ],
      "metadata": {
        "colab": {
          "base_uri": "https://localhost:8080/",
          "height": 179
        },
        "id": "AsbBJVgwam0R",
        "outputId": "b8e4a96d-36a9-4a74-9ba3-0d565f9d6210"
      },
      "execution_count": null,
      "outputs": [
        {
          "output_type": "stream",
          "name": "stdout",
          "text": [
            " * sqlite:///sci_fi_books.db\n",
            "Done.\n"
          ]
        },
        {
          "output_type": "execute_result",
          "data": {
            "text/plain": [
              "[('A. Lee Martinez', 2),\n",
              " ('A. Merritt', 1),\n",
              " ('A.A. Attanasio', 2),\n",
              " ('A.C. Crispin', 3),\n",
              " ('A.C. Weisbecker', 1)]"
            ],
            "text/html": [
              "<table>\n",
              "    <tr>\n",
              "        <th>author</th>\n",
              "        <th>Number_of_Books</th>\n",
              "    </tr>\n",
              "    <tr>\n",
              "        <td>A. Lee Martinez</td>\n",
              "        <td>2</td>\n",
              "    </tr>\n",
              "    <tr>\n",
              "        <td>A. Merritt</td>\n",
              "        <td>1</td>\n",
              "    </tr>\n",
              "    <tr>\n",
              "        <td>A.A. Attanasio</td>\n",
              "        <td>2</td>\n",
              "    </tr>\n",
              "    <tr>\n",
              "        <td>A.C. Crispin</td>\n",
              "        <td>3</td>\n",
              "    </tr>\n",
              "    <tr>\n",
              "        <td>A.C. Weisbecker</td>\n",
              "        <td>1</td>\n",
              "    </tr>\n",
              "</table>"
            ]
          },
          "metadata": {},
          "execution_count": 17
        }
      ]
    },
    {
      "cell_type": "markdown",
      "source": [
        "This SQL statement returns a list of authors along with the count of their books present in the database.\n",
        "\n",
        "We could also do things like find out the minimum, maximum, and avg rating for each author:"
      ],
      "metadata": {
        "id": "qW4TDTVmcyBW"
      }
    },
    {
      "cell_type": "code",
      "source": [
        "%%sql\n",
        "SELECT author,\n",
        "  min(rating) AS \"Min\",\n",
        "  max(rating) AS \"Max\",\n",
        "  avg(rating) AS \"Avg\"\n",
        "FROM books\n",
        "GROUP BY author\n",
        "LIMIT 5;"
      ],
      "metadata": {
        "colab": {
          "base_uri": "https://localhost:8080/",
          "height": 179
        },
        "id": "lMUxZoeEeVIO",
        "outputId": "dfa39c47-f98c-477d-9215-5533b788b975"
      },
      "execution_count": null,
      "outputs": [
        {
          "output_type": "stream",
          "name": "stdout",
          "text": [
            " * sqlite:///sci_fi_books.db\n",
            "Done.\n"
          ]
        },
        {
          "output_type": "execute_result",
          "data": {
            "text/plain": [
              "[('A. Lee Martinez', 3.82, 4.02, 3.92),\n",
              " ('A. Merritt', 3.33, 3.33, 3.33),\n",
              " ('A.A. Attanasio', 4.15, 4.16, 4.155),\n",
              " ('A.C. Crispin', 3.36, 3.88, 3.6999999999999997),\n",
              " ('A.C. Weisbecker', 3.88, 3.88, 3.88)]"
            ],
            "text/html": [
              "<table>\n",
              "    <tr>\n",
              "        <th>author</th>\n",
              "        <th>Min</th>\n",
              "        <th>Max</th>\n",
              "        <th>Avg</th>\n",
              "    </tr>\n",
              "    <tr>\n",
              "        <td>A. Lee Martinez</td>\n",
              "        <td>3.82</td>\n",
              "        <td>4.02</td>\n",
              "        <td>3.92</td>\n",
              "    </tr>\n",
              "    <tr>\n",
              "        <td>A. Merritt</td>\n",
              "        <td>3.33</td>\n",
              "        <td>3.33</td>\n",
              "        <td>3.33</td>\n",
              "    </tr>\n",
              "    <tr>\n",
              "        <td>A.A. Attanasio</td>\n",
              "        <td>4.15</td>\n",
              "        <td>4.16</td>\n",
              "        <td>4.155</td>\n",
              "    </tr>\n",
              "    <tr>\n",
              "        <td>A.C. Crispin</td>\n",
              "        <td>3.36</td>\n",
              "        <td>3.88</td>\n",
              "        <td>3.6999999999999997</td>\n",
              "    </tr>\n",
              "    <tr>\n",
              "        <td>A.C. Weisbecker</td>\n",
              "        <td>3.88</td>\n",
              "        <td>3.88</td>\n",
              "        <td>3.88</td>\n",
              "    </tr>\n",
              "</table>"
            ]
          },
          "metadata": {},
          "execution_count": 18
        }
      ]
    },
    {
      "cell_type": "markdown",
      "source": [],
      "metadata": {
        "id": "5Bzx2fQfe1k1"
      }
    },
    {
      "cell_type": "markdown",
      "source": [
        "### Multi-column GROUP BY\n",
        "\n",
        "`GROUP BY` can group by multiple columns. Separate the column names with commas. This allows you to perform aggregations over specific combinations of categories. For instance, you could find out how many books by each publisher are written by each author with this query:"
      ],
      "metadata": {
        "id": "bcWDQlsme1r9"
      }
    },
    {
      "cell_type": "code",
      "source": [
        "%%sql\n",
        "SELECT author, publisher,\n",
        "           COUNT(*) AS \"num_books\"\n",
        "    FROM books\n",
        "    GROUP BY author, publisher\n",
        "    ORDER BY num_books DESC\n",
        "    LIMIT 5;"
      ],
      "metadata": {
        "colab": {
          "base_uri": "https://localhost:8080/",
          "height": 179
        },
        "id": "pEC5IT_Ge7EL",
        "outputId": "9c28ca81-288c-435b-d467-c92f4b86ac22"
      },
      "execution_count": null,
      "outputs": [
        {
          "output_type": "stream",
          "name": "stdout",
          "text": [
            " * sqlite:///sci_fi_books.db\n",
            "Done.\n"
          ]
        },
        {
          "output_type": "execute_result",
          "data": {
            "text/plain": [
              "[('Mercedes Lackey', 'DAW', 22),\n",
              " ('Orson Scott Card', 'Tor Books', 20),\n",
              " ('R.A. Salvatore', 'Wizards of the Coast', 20),\n",
              " ('Jude Watson', 'Scholastic Paperbacks', 19),\n",
              " ('Pittacus Lore', 'HarperCollins', 19)]"
            ],
            "text/html": [
              "<table>\n",
              "    <tr>\n",
              "        <th>author</th>\n",
              "        <th>publisher</th>\n",
              "        <th>num_books</th>\n",
              "    </tr>\n",
              "    <tr>\n",
              "        <td>Mercedes Lackey</td>\n",
              "        <td>DAW</td>\n",
              "        <td>22</td>\n",
              "    </tr>\n",
              "    <tr>\n",
              "        <td>Orson Scott Card</td>\n",
              "        <td>Tor Books</td>\n",
              "        <td>20</td>\n",
              "    </tr>\n",
              "    <tr>\n",
              "        <td>R.A. Salvatore</td>\n",
              "        <td>Wizards of the Coast</td>\n",
              "        <td>20</td>\n",
              "    </tr>\n",
              "    <tr>\n",
              "        <td>Jude Watson</td>\n",
              "        <td>Scholastic Paperbacks</td>\n",
              "        <td>19</td>\n",
              "    </tr>\n",
              "    <tr>\n",
              "        <td>Pittacus Lore</td>\n",
              "        <td>HarperCollins</td>\n",
              "        <td>19</td>\n",
              "    </tr>\n",
              "</table>"
            ]
          },
          "metadata": {},
          "execution_count": 19
        }
      ]
    },
    {
      "cell_type": "markdown",
      "source": [
        "While this is fairly complex query (and invovles most of what we've learned so far in the class), we can break it down as follows:\n",
        "\n",
        "- `SELECT`: This keyword tells the database that we want to select data from the books table.\n",
        "- `author`: This is the name of the column that we want to select.\n",
        "- `publisher`: This is the name of the column that we want to select.\n",
        "- `COUNT(*)`: This is a function that counts the number of rows in the table.\n",
        "- `AS num_books`: This is an alias for the `COUNT(*)` function. This allows us to refer to the result of the COUNT(*) function as num_books.\n",
        "- `FROM books`: This keyword tells the database that we want to select data from the books table.\n",
        "- `GROUP BY author, publisher`: This tells the database that we want to group the data by the author and publisher columns.\n",
        "- `ORDER BY num_books DESC`: This tells the database that we want to order the data by the num_books column in descending order.\n",
        "- `LIMIT 5:` This tells the database that we only want the first 5 rows of data."
      ],
      "metadata": {
        "id": "JivZIKZWflMh"
      }
    },
    {
      "cell_type": "markdown",
      "source": [
        " ### Ordering in GROUP BY matters\n",
        "  The order of column names in your `GROUP BY` clause can affect the results. `GROUP BY author, publisher` is not the same as `GROUP BY publisher, author`. The first groups by author, then by publisher within each author. The second groups by publisher, then by author within each publisher."
      ],
      "metadata": {
        "id": "uKzdgIL9jQVf"
      }
    },
    {
      "cell_type": "markdown",
      "source": [
        "##  I'll \"HAVE\" a Bit More SQL, Please\n",
        "\n",
        "The `HAVING` clause in SQL is used to filter the results of a `GROUP BY` operation. `HAVING` is similar to a `WHERE` clause, but operates on grouped data produced by a `GROUP BY` clause. The basic syntax is:\n",
        "\n",
        "```\n",
        "SELECT column_name(s), aggregate_function(column_name)\n",
        "FROM table_name\n",
        "WHERE condition\n",
        "GROUP BY column_name(s)\n",
        "HAVING condition;\n",
        "```\n",
        "\n",
        "The key thing to remember is `HAVING` is used with `GROUP BY` to filter grouped results from a query. The condition in the `HAVING` clause is applied after the grouping operation while the condition in the `WHERE` clause is applied before the grouping operation.\n",
        "\n",
        "For example, let's say we want to find out authors who have written more than 30 books in the database. We could write:\n"
      ],
      "metadata": {
        "id": "JzkkJAOolTos"
      }
    },
    {
      "cell_type": "code",
      "source": [
        "%%sql\n",
        "SELECT author,\n",
        "       COUNT(*) AS Number_of_Books\n",
        "FROM books\n",
        "GROUP BY author\n",
        "HAVING COUNT(*) > 30"
      ],
      "metadata": {
        "colab": {
          "base_uri": "https://localhost:8080/",
          "height": 347
        },
        "id": "DgtJNy8cgAKa",
        "outputId": "f468e3c5-23ec-4c70-d698-12aa258b514f"
      },
      "execution_count": null,
      "outputs": [
        {
          "output_type": "stream",
          "name": "stdout",
          "text": [
            " * sqlite:///sci_fi_books.db\n",
            "Done.\n"
          ]
        },
        {
          "output_type": "execute_result",
          "data": {
            "text/plain": [
              "[('Anne McCaffrey', 49),\n",
              " ('Brandon Sanderson', 31),\n",
              " ('George R.R. Martin', 33),\n",
              " ('Isaac Asimov', 43),\n",
              " ('J.D. Robb', 60),\n",
              " ('Jude Watson', 32),\n",
              " ('Mercedes Lackey', 54),\n",
              " ('Orson Scott Card', 42),\n",
              " ('Piers Anthony', 35),\n",
              " ('Robert A. Heinlein', 35),\n",
              " ('Stephen King', 38),\n",
              " ('Terry Brooks', 38),\n",
              " ('Terry Pratchett', 63)]"
            ],
            "text/html": [
              "<table>\n",
              "    <tr>\n",
              "        <th>author</th>\n",
              "        <th>Number_of_Books</th>\n",
              "    </tr>\n",
              "    <tr>\n",
              "        <td>Anne McCaffrey</td>\n",
              "        <td>49</td>\n",
              "    </tr>\n",
              "    <tr>\n",
              "        <td>Brandon Sanderson</td>\n",
              "        <td>31</td>\n",
              "    </tr>\n",
              "    <tr>\n",
              "        <td>George R.R. Martin</td>\n",
              "        <td>33</td>\n",
              "    </tr>\n",
              "    <tr>\n",
              "        <td>Isaac Asimov</td>\n",
              "        <td>43</td>\n",
              "    </tr>\n",
              "    <tr>\n",
              "        <td>J.D. Robb</td>\n",
              "        <td>60</td>\n",
              "    </tr>\n",
              "    <tr>\n",
              "        <td>Jude Watson</td>\n",
              "        <td>32</td>\n",
              "    </tr>\n",
              "    <tr>\n",
              "        <td>Mercedes Lackey</td>\n",
              "        <td>54</td>\n",
              "    </tr>\n",
              "    <tr>\n",
              "        <td>Orson Scott Card</td>\n",
              "        <td>42</td>\n",
              "    </tr>\n",
              "    <tr>\n",
              "        <td>Piers Anthony</td>\n",
              "        <td>35</td>\n",
              "    </tr>\n",
              "    <tr>\n",
              "        <td>Robert A. Heinlein</td>\n",
              "        <td>35</td>\n",
              "    </tr>\n",
              "    <tr>\n",
              "        <td>Stephen King</td>\n",
              "        <td>38</td>\n",
              "    </tr>\n",
              "    <tr>\n",
              "        <td>Terry Brooks</td>\n",
              "        <td>38</td>\n",
              "    </tr>\n",
              "    <tr>\n",
              "        <td>Terry Pratchett</td>\n",
              "        <td>63</td>\n",
              "    </tr>\n",
              "</table>"
            ]
          },
          "metadata": {},
          "execution_count": 20
        }
      ]
    },
    {
      "cell_type": "markdown",
      "source": [
        "### `WHERE` vs `HAVING`\n",
        "It's also important to understand the difference between `HAVING` and `WHERE`. Suppose you tried to use `WHERE` instead of `HAVING` in the above query:"
      ],
      "metadata": {
        "id": "798YsC_Jl03T"
      }
    },
    {
      "cell_type": "code",
      "source": [
        "%%sql\n",
        "SELECT author,\n",
        "       COUNT(*) AS Number_of_Books\n",
        "FROM books\n",
        "WHERE COUNT(*) > 30\n",
        "GROUP BY author\n"
      ],
      "metadata": {
        "colab": {
          "base_uri": "https://localhost:8080/"
        },
        "id": "sXkhOxLGl68o",
        "outputId": "fa976fdf-c961-4193-ddfb-adc7a638ca93"
      },
      "execution_count": null,
      "outputs": [
        {
          "output_type": "stream",
          "name": "stdout",
          "text": [
            " * sqlite:///sci_fi_books.db\n",
            "(sqlite3.OperationalError) misuse of aggregate: COUNT()\n",
            "[SQL: SELECT author,\n",
            "       COUNT(*) AS Number_of_Books\n",
            "FROM books\n",
            "WHERE COUNT(*) > 30\n",
            "GROUP BY author]\n",
            "(Background on this error at: http://sqlalche.me/e/13/e3q8)\n"
          ]
        }
      ]
    },
    {
      "cell_type": "markdown",
      "source": [
        "This query would fail because `WHERE` is used to filter rows before the `GROUP BY` operation and it doesn't work with aggregate functions. Conversely, `HAVING` is used to filter the results after the `GROUP BY` operation and it does work with aggregate functions.\n",
        "\n",
        "Now let's consider an example that uses both `WHERE` and `HAVING`. Suppose we want to find out authors who have written more than 20 books with ratings over 4.0. We could write:"
      ],
      "metadata": {
        "id": "02p-tW7ZmA_M"
      }
    },
    {
      "cell_type": "code",
      "source": [
        "%%sql\n",
        "SELECT author,\n",
        "       COUNT(*) AS Number_of_Loved_Books\n",
        "FROM books\n",
        "WHERE rating > 4\n",
        "GROUP BY author\n",
        "HAVING COUNT(*) > 20"
      ],
      "metadata": {
        "colab": {
          "base_uri": "https://localhost:8080/",
          "height": 326
        },
        "id": "L8fxIIDBmDaZ",
        "outputId": "9c314293-21bb-4bd4-ae8d-fb0eff0127ea"
      },
      "execution_count": null,
      "outputs": [
        {
          "output_type": "stream",
          "name": "stdout",
          "text": [
            " * sqlite:///sci_fi_books.db\n",
            "Done.\n"
          ]
        },
        {
          "output_type": "execute_result",
          "data": {
            "text/plain": [
              "[('Anne McCaffrey', 30),\n",
              " ('Brandon Sanderson', 30),\n",
              " ('David Gemmell', 25),\n",
              " ('Isaac Asimov', 33),\n",
              " ('J.D. Robb', 60),\n",
              " ('Jim Butcher', 25),\n",
              " ('Laurann Dohner', 21),\n",
              " ('Mercedes Lackey', 33),\n",
              " ('Peter F. Hamilton', 21),\n",
              " ('R.A. Salvatore', 23),\n",
              " ('Tamora Pierce', 26),\n",
              " ('Terry Pratchett', 41)]"
            ],
            "text/html": [
              "<table>\n",
              "    <tr>\n",
              "        <th>author</th>\n",
              "        <th>Number_of_Loved_Books</th>\n",
              "    </tr>\n",
              "    <tr>\n",
              "        <td>Anne McCaffrey</td>\n",
              "        <td>30</td>\n",
              "    </tr>\n",
              "    <tr>\n",
              "        <td>Brandon Sanderson</td>\n",
              "        <td>30</td>\n",
              "    </tr>\n",
              "    <tr>\n",
              "        <td>David Gemmell</td>\n",
              "        <td>25</td>\n",
              "    </tr>\n",
              "    <tr>\n",
              "        <td>Isaac Asimov</td>\n",
              "        <td>33</td>\n",
              "    </tr>\n",
              "    <tr>\n",
              "        <td>J.D. Robb</td>\n",
              "        <td>60</td>\n",
              "    </tr>\n",
              "    <tr>\n",
              "        <td>Jim Butcher</td>\n",
              "        <td>25</td>\n",
              "    </tr>\n",
              "    <tr>\n",
              "        <td>Laurann Dohner</td>\n",
              "        <td>21</td>\n",
              "    </tr>\n",
              "    <tr>\n",
              "        <td>Mercedes Lackey</td>\n",
              "        <td>33</td>\n",
              "    </tr>\n",
              "    <tr>\n",
              "        <td>Peter F. Hamilton</td>\n",
              "        <td>21</td>\n",
              "    </tr>\n",
              "    <tr>\n",
              "        <td>R.A. Salvatore</td>\n",
              "        <td>23</td>\n",
              "    </tr>\n",
              "    <tr>\n",
              "        <td>Tamora Pierce</td>\n",
              "        <td>26</td>\n",
              "    </tr>\n",
              "    <tr>\n",
              "        <td>Terry Pratchett</td>\n",
              "        <td>41</td>\n",
              "    </tr>\n",
              "</table>"
            ]
          },
          "metadata": {},
          "execution_count": 37
        }
      ]
    },
    {
      "cell_type": "markdown",
      "source": [
        "In this query, `WHERE` is used to filter the rows so only books with ratings over 4.5 are considered. Then, `GROUP BY` groups the rows by author and `HAVING` filters out groups that contain fewer than 21 books.\n",
        "\n",
        "As you can see, `HAVING` is a powerful tool that allows you to filter the results of your `GROUP BY` operations. By using `WHERE` and `HAVING` together, you can perform complex queries on your data."
      ],
      "metadata": {
        "id": "nEbkiBpdmHqH"
      }
    },
    {
      "cell_type": "markdown",
      "source": [
        "## It's SQL All the Way Down: Subqueries\n",
        "\n",
        "A **subquery**, as the name suggests, is a query that is embedded within another query. Subqueries can be used in various places within a query: in the SELECT, FROM, WHERE, and HAVING clauses. They enable complex data manipulation by allowing you to use the results of a query as an input for another query.\n",
        "\n",
        "## Subqueries in WHERE clause\n",
        "\n",
        "Suppose you want to find the book(s) with the highest number of ratings. We first need to find the maximum number of ratings, then find the book(s) with that number of ratings:\n"
      ],
      "metadata": {
        "id": "v0NV3xd-oxUd"
      }
    },
    {
      "cell_type": "code",
      "source": [
        "%%sql\n",
        "--Book with most ratings\n",
        "SELECT title, numRatings\n",
        "FROM books\n",
        "WHERE numRatings = (SELECT MAX(numRatings) FROM books);"
      ],
      "metadata": {
        "colab": {
          "base_uri": "https://localhost:8080/",
          "height": 95
        },
        "id": "lTu04ufUmIFP",
        "outputId": "1ff82123-898a-4865-b954-36ab7bba9dd0"
      },
      "execution_count": null,
      "outputs": [
        {
          "output_type": "stream",
          "name": "stdout",
          "text": [
            " * sqlite:///sci_fi_books.db\n",
            "Done.\n"
          ]
        },
        {
          "output_type": "execute_result",
          "data": {
            "text/plain": [
              "[(\"Harry Potter and the Sorcerer's Stone\", 7048471)]"
            ],
            "text/html": [
              "<table>\n",
              "    <tr>\n",
              "        <th>title</th>\n",
              "        <th>numRatings</th>\n",
              "    </tr>\n",
              "    <tr>\n",
              "        <td>Harry Potter and the Sorcerer&#x27;s Stone</td>\n",
              "        <td>7048471</td>\n",
              "    </tr>\n",
              "</table>"
            ]
          },
          "metadata": {},
          "execution_count": 38
        }
      ]
    },
    {
      "cell_type": "markdown",
      "source": [
        "### Subqueries in FROM clause\n",
        "\n",
        "Let's say we want to compare the number of books published by each publisher with the average number of books published by all publishers. A subquery in the `FROM` clause is perfect for this:"
      ],
      "metadata": {
        "id": "KtqEdpaYpNfl"
      }
    },
    {
      "cell_type": "code",
      "source": [
        "%%sql\n",
        "SELECT publisher, COUNT(*) AS Number_of_Books,\n",
        "       (SELECT AVG(Number_of_Books)\n",
        "        FROM (SELECT COUNT(*) as Number_of_Books\n",
        "              FROM books GROUP BY publisher)) AS Average_Number_of_Books\n",
        "FROM books\n",
        "GROUP BY publisher\n",
        "LIMIT 5;"
      ],
      "metadata": {
        "colab": {
          "base_uri": "https://localhost:8080/",
          "height": 179
        },
        "id": "h30yIjPmpR61",
        "outputId": "40308fc0-9dea-4718-d940-5d1c98deed53"
      },
      "execution_count": null,
      "outputs": [
        {
          "output_type": "stream",
          "name": "stdout",
          "text": [
            " * sqlite:///sci_fi_books.db\n",
            "Done.\n"
          ]
        },
        {
          "output_type": "execute_result",
          "data": {
            "text/plain": [
              "[(None, 250, 3.879340788699235),\n",
              " ('\"Berkley\"', 1, 3.879340788699235),\n",
              " ('1st World Library - Literary Society', 3, 3.879340788699235),\n",
              " ('2000 AD Books', 1, 3.879340788699235),\n",
              " ('323 Books', 1, 3.879340788699235)]"
            ],
            "text/html": [
              "<table>\n",
              "    <tr>\n",
              "        <th>publisher</th>\n",
              "        <th>Number_of_Books</th>\n",
              "        <th>Average_Number_of_Books</th>\n",
              "    </tr>\n",
              "    <tr>\n",
              "        <td>None</td>\n",
              "        <td>250</td>\n",
              "        <td>3.879340788699235</td>\n",
              "    </tr>\n",
              "    <tr>\n",
              "        <td>&quot;Berkley&quot;</td>\n",
              "        <td>1</td>\n",
              "        <td>3.879340788699235</td>\n",
              "    </tr>\n",
              "    <tr>\n",
              "        <td>1st World Library - Literary Society</td>\n",
              "        <td>3</td>\n",
              "        <td>3.879340788699235</td>\n",
              "    </tr>\n",
              "    <tr>\n",
              "        <td>2000 AD Books</td>\n",
              "        <td>1</td>\n",
              "        <td>3.879340788699235</td>\n",
              "    </tr>\n",
              "    <tr>\n",
              "        <td>323 Books</td>\n",
              "        <td>1</td>\n",
              "        <td>3.879340788699235</td>\n",
              "    </tr>\n",
              "</table>"
            ]
          },
          "metadata": {},
          "execution_count": 40
        }
      ]
    },
    {
      "cell_type": "markdown",
      "source": [
        "Here, the subquery in the `FROM` clause calculates the average number of books published by all publishers. The outer query counts the number of books by each publisher and compares it with the average."
      ],
      "metadata": {
        "id": "VOV9JwkZpa20"
      }
    },
    {
      "cell_type": "markdown",
      "source": [
        "## Subqueries in SELECT clause\n",
        "\n",
        "Suppose we want to show the difference between the rating of each book and the average rating of all books. A subquery in the `SELECT` clause can help us calculate the average rating and use it in our calculation:"
      ],
      "metadata": {
        "id": "Khfw0fz6peKl"
      }
    },
    {
      "cell_type": "code",
      "source": [
        "%%sql\n",
        "SELECT title, rating,\n",
        "       rating - (SELECT AVG(rating) FROM books) AS Difference_From_Average\n",
        "FROM books\n",
        "LIMIT 5;"
      ],
      "metadata": {
        "colab": {
          "base_uri": "https://localhost:8080/",
          "height": 179
        },
        "id": "oZ4qauhopihs",
        "outputId": "ab9b6d87-d2b9-4d12-f53c-fb5511937b68"
      },
      "execution_count": null,
      "outputs": [
        {
          "output_type": "stream",
          "name": "stdout",
          "text": [
            " * sqlite:///sci_fi_books.db\n",
            "Done.\n"
          ]
        },
        {
          "output_type": "execute_result",
          "data": {
            "text/plain": [
              "[('The Hunger Games', 4.33, 0.34111515703231365),\n",
              " ('Harry Potter and the Order of the Phoenix', 4.5, 0.5111151570323136),\n",
              " ('Animal Farm', 3.95, -0.03888484296768624),\n",
              " ('The Chronicles of Narnia', 4.26, 0.27111515703231337),\n",
              " ('J.R.R. Tolkien 4-Book Boxed Set: The Hobbit and The Lord of the Rings', 4.6, 0.6111151570323132)]"
            ],
            "text/html": [
              "<table>\n",
              "    <tr>\n",
              "        <th>title</th>\n",
              "        <th>rating</th>\n",
              "        <th>Difference_From_Average</th>\n",
              "    </tr>\n",
              "    <tr>\n",
              "        <td>The Hunger Games</td>\n",
              "        <td>4.33</td>\n",
              "        <td>0.34111515703231365</td>\n",
              "    </tr>\n",
              "    <tr>\n",
              "        <td>Harry Potter and the Order of the Phoenix</td>\n",
              "        <td>4.5</td>\n",
              "        <td>0.5111151570323136</td>\n",
              "    </tr>\n",
              "    <tr>\n",
              "        <td>Animal Farm</td>\n",
              "        <td>3.95</td>\n",
              "        <td>-0.03888484296768624</td>\n",
              "    </tr>\n",
              "    <tr>\n",
              "        <td>The Chronicles of Narnia</td>\n",
              "        <td>4.26</td>\n",
              "        <td>0.27111515703231337</td>\n",
              "    </tr>\n",
              "    <tr>\n",
              "        <td>J.R.R. Tolkien 4-Book Boxed Set: The Hobbit and The Lord of the Rings</td>\n",
              "        <td>4.6</td>\n",
              "        <td>0.6111151570323132</td>\n",
              "    </tr>\n",
              "</table>"
            ]
          },
          "metadata": {},
          "execution_count": 42
        }
      ]
    },
    {
      "cell_type": "markdown",
      "source": [
        "In this example, the subquery `(SELECT AVG(rating) FROM books)` calculates the average rating of all books. The outer query subtracts this average from the rating of each book to find the difference."
      ],
      "metadata": {
        "id": "HI3jddkDpoVZ"
      }
    },
    {
      "cell_type": "markdown",
      "source": [
        "## IN Operator\n",
        "\n",
        "If we want to find books that are published by publishers who have published more than a certain number of books, we could use a subquery with `IN`:"
      ],
      "metadata": {
        "id": "aaXdetlGpq7h"
      }
    },
    {
      "cell_type": "code",
      "source": [
        "%%sql\n",
        "SELECT title, publisher\n",
        "FROM books\n",
        "WHERE publisher IN (SELECT publisher\n",
        "                    FROM books\n",
        "                    GROUP BY publisher\n",
        "                    HAVING COUNT(*) > 50)\n",
        "LIMIT 5;"
      ],
      "metadata": {
        "colab": {
          "base_uri": "https://localhost:8080/",
          "height": 179
        },
        "id": "SRWAKp4mpu7l",
        "outputId": "ab79350d-a332-420f-86cb-c1bda19cc481"
      },
      "execution_count": null,
      "outputs": [
        {
          "output_type": "stream",
          "name": "stdout",
          "text": [
            " * sqlite:///sci_fi_books.db\n",
            "Done.\n"
          ]
        },
        {
          "output_type": "execute_result",
          "data": {
            "text/plain": [
              "[('The Chronicles of Narnia', 'HarperCollins'),\n",
              " (\"The Hitchhiker's Guide to the Galaxy\", 'Del Rey'),\n",
              " ('Dune', 'Ace Books'),\n",
              " (\"The Ultimate Hitchhiker's Guide to the Galaxy\", 'Del Rey Books'),\n",
              " ('The Selection', 'HarperTeen')]"
            ],
            "text/html": [
              "<table>\n",
              "    <tr>\n",
              "        <th>title</th>\n",
              "        <th>publisher</th>\n",
              "    </tr>\n",
              "    <tr>\n",
              "        <td>The Chronicles of Narnia</td>\n",
              "        <td>HarperCollins</td>\n",
              "    </tr>\n",
              "    <tr>\n",
              "        <td>The Hitchhiker&#x27;s Guide to the Galaxy</td>\n",
              "        <td>Del Rey</td>\n",
              "    </tr>\n",
              "    <tr>\n",
              "        <td>Dune</td>\n",
              "        <td>Ace Books</td>\n",
              "    </tr>\n",
              "    <tr>\n",
              "        <td>The Ultimate Hitchhiker&#x27;s Guide to the Galaxy</td>\n",
              "        <td>Del Rey Books</td>\n",
              "    </tr>\n",
              "    <tr>\n",
              "        <td>The Selection</td>\n",
              "        <td>HarperTeen</td>\n",
              "    </tr>\n",
              "</table>"
            ]
          },
          "metadata": {},
          "execution_count": 43
        }
      ]
    },
    {
      "cell_type": "markdown",
      "source": [
        "The subquery `(SELECT publisher FROM books GROUP BY publisher HAVING COUNT(*) > 50)` returns a list of publishers who have published more than 50 books. Then, the outer query returns the titles and publishers of books that are published by publishers in this list"
      ],
      "metadata": {
        "id": "_o6AxMH3p2Zo"
      }
    },
    {
      "cell_type": "markdown",
      "source": [
        "## When to (not) Use Subqueries\n",
        "Subqueries are powerful tools in SQL that allow you to perform multiple levels of data manipulation in a single query. They are beneficial and sometimes necessary in the following situations:\n",
        "\n",
        "1. Sequential Filtering: When data needs to be filtered in a certain sequence, subqueries are incredibly helpful. For example, when you need to first calculate an aggregate over the entire dataset and then use that calculation to filter the data (like our examples for finding books with the maximum number of ratings).\n",
        "\n",
        "2. Cross-Row Calculations: Subqueries can be used to make calculations that require values from multiple rows. For example, calculating the difference between a value in a single row and an aggregate value calculated over a group of rows (like the difference from the average rating in our examples).\n",
        "\n",
        "3. Complex Filtering: The `IN` operator can work with subqueries to filter data based on complex conditions. This is particularly useful when the condition involves a list of values that is dynamically generated from data (like finding books from publishers who have published more than a certain number of books).\n",
        "\n",
        "While subqueries are powerful, they can also lead to issues that should be considered:\n",
        "\n",
        "1. Performance: Subqueries can be slow, especially on large datasets. This is because the database must execute the subquery (potentially many times) before it can execute the outer query. Each execution of the subquery may involve reading and processing a large amount of data.\n",
        "\n",
        "2. Readability: SQL queries with subqueries can become difficult to read and understand, especially if they are nested multiple levels deep. This can make it harder to debug the query or to modify it later.\n",
        "\n",
        "3. Alternatives: In many cases, a subquery can be replaced with a JOIN or an aggregate function, which can be more efficient and easier to understand.\n",
        "\n",
        "In conclusion, while subqueries are an advanced feature of SQL that can enable more complex data manipulations, they should be used judiciously. Always consider if there's a simpler or more efficient way to get the same result before resorting to a subquery."
      ],
      "metadata": {
        "id": "8dTwYUhSprJp"
      }
    },
    {
      "cell_type": "markdown",
      "source": [
        "## Putting it All Together\n",
        "OK, now's let try a query that uses (most) of what we've learned so far.  Let's imagine we want to find authors who published more than 5 books, where at least one of those books has 'star' in the title. For these authors, we also want to know the average rating of their books and the total number of pages written.\n",
        "\n",
        "Here is an SQL query that accomplishes this:"
      ],
      "metadata": {
        "id": "tXAmi66Xq5Ad"
      }
    },
    {
      "cell_type": "code",
      "source": [
        "%%sql\n",
        "SELECT\n",
        "    author AS Author_Name,\n",
        "    COUNT(*) AS Total_Books,\n",
        "    AVG(rating) AS Average_Rating,\n",
        "    SUM(pages) AS Total_Pages\n",
        "FROM books\n",
        "WHERE author IN (\n",
        "        SELECT author FROM books\n",
        "        WHERE title LIKE '%star%'\n",
        "    )\n",
        "GROUP BY author\n",
        "HAVING Total_Books > 5\n"
      ],
      "metadata": {
        "colab": {
          "base_uri": "https://localhost:8080/",
          "height": 828
        },
        "id": "KjHqj1U6qQ2Z",
        "outputId": "8468ec0e-04ff-4cad-c333-534ec99eab0d"
      },
      "execution_count": null,
      "outputs": [
        {
          "output_type": "stream",
          "name": "stdout",
          "text": [
            " * sqlite:///sci_fi_books.db\n",
            "Done.\n"
          ]
        },
        {
          "output_type": "execute_result",
          "data": {
            "text/plain": [
              "[('Amie Kaufman', 8, 4.23, 4087),\n",
              " ('Arthur C. Clarke', 22, 3.914545454545454, 7765),\n",
              " ('Brandon Mull', 6, 4.175, 2633),\n",
              " ('Brandon Sanderson', 31, 4.386129032258065, 18535),\n",
              " ('Christopher Pike', 7, 3.827142857142857, 2274),\n",
              " ('Dan Abnett', 11, 4.248181818181819, 5891),\n",
              " ('David Brin', 11, 3.911818181818182, 6369),\n",
              " ('David Estes', 6, 4.111666666666667, 2311),\n",
              " ('David Gemmell', 27, 4.16962962962963, 9974),\n",
              " ('Elizabeth Haydon', 6, 4.053333333333334, 3642),\n",
              " ('Grant Morrison', 15, 4.004, 3602),\n",
              " ('Greg Bear', 14, 3.8050000000000006, 6165),\n",
              " ('Guy Gavriel Kay', 13, 4.099230769230768, 6863),\n",
              " ('Isaac Asimov', 43, 4.138372093023257, 17352),\n",
              " ('Isobelle Carmody', 7, 4.085714285714285, 4010),\n",
              " ('J. Michael Straczynski', 6, 4.123333333333333, 1597),\n",
              " ('Jules Verne', 30, 3.763999999999999, 10418),\n",
              " ('Karen Traviss', 13, 4.153076923076923, 4941),\n",
              " ('Kate Elliott', 9, 3.862222222222222, 6465),\n",
              " (\"Madeleine L'Engle\", 12, 4.046666666666668, 5484),\n",
              " ('Margaret Atwood', 9, 3.988888888888889, 4152),\n",
              " ('Margaret Weis', 17, 4.07, 7171),\n",
              " ('Maria V. Snyder', 8, 4.07, 3980),\n",
              " ('Marie Lu', 12, 4.133333333333333, 4494),\n",
              " ('Marissa Meyer', 18, 4.27277777777778, 8272),\n",
              " ('Melanie Rawn', 8, 4.02875, 4637),\n",
              " ('Michael Grant', 11, 4.024545454545454, 4976),\n",
              " ('Neil Gaiman', 28, 4.157857142857143, 7102),\n",
              " ('Peter F. Hamilton', 23, 4.226521739130434, 18688),\n",
              " ('R.A. Salvatore', 27, 4.158148148148148, 13274),\n",
              " ('Robert A. Heinlein', 35, 3.8682857142857148, 11176),\n",
              " ('Samuel R. Delany', 6, 3.84, 2412),\n",
              " ('Sara Douglass', 7, 3.9299999999999997, 4459),\n",
              " ('StanisÅ‚aw Lem', 16, 4.007499999999999, 3291),\n",
              " ('Stephen King', 38, 4.057368421052632, 25603),\n",
              " ('Warren Ellis', 12, 4.135000000000001, 2548)]"
            ],
            "text/html": [
              "<table>\n",
              "    <tr>\n",
              "        <th>Author_Name</th>\n",
              "        <th>Total_Books</th>\n",
              "        <th>Average_Rating</th>\n",
              "        <th>Total_Pages</th>\n",
              "    </tr>\n",
              "    <tr>\n",
              "        <td>Amie Kaufman</td>\n",
              "        <td>8</td>\n",
              "        <td>4.23</td>\n",
              "        <td>4087</td>\n",
              "    </tr>\n",
              "    <tr>\n",
              "        <td>Arthur C. Clarke</td>\n",
              "        <td>22</td>\n",
              "        <td>3.914545454545454</td>\n",
              "        <td>7765</td>\n",
              "    </tr>\n",
              "    <tr>\n",
              "        <td>Brandon Mull</td>\n",
              "        <td>6</td>\n",
              "        <td>4.175</td>\n",
              "        <td>2633</td>\n",
              "    </tr>\n",
              "    <tr>\n",
              "        <td>Brandon Sanderson</td>\n",
              "        <td>31</td>\n",
              "        <td>4.386129032258065</td>\n",
              "        <td>18535</td>\n",
              "    </tr>\n",
              "    <tr>\n",
              "        <td>Christopher Pike</td>\n",
              "        <td>7</td>\n",
              "        <td>3.827142857142857</td>\n",
              "        <td>2274</td>\n",
              "    </tr>\n",
              "    <tr>\n",
              "        <td>Dan Abnett</td>\n",
              "        <td>11</td>\n",
              "        <td>4.248181818181819</td>\n",
              "        <td>5891</td>\n",
              "    </tr>\n",
              "    <tr>\n",
              "        <td>David Brin</td>\n",
              "        <td>11</td>\n",
              "        <td>3.911818181818182</td>\n",
              "        <td>6369</td>\n",
              "    </tr>\n",
              "    <tr>\n",
              "        <td>David Estes</td>\n",
              "        <td>6</td>\n",
              "        <td>4.111666666666667</td>\n",
              "        <td>2311</td>\n",
              "    </tr>\n",
              "    <tr>\n",
              "        <td>David Gemmell</td>\n",
              "        <td>27</td>\n",
              "        <td>4.16962962962963</td>\n",
              "        <td>9974</td>\n",
              "    </tr>\n",
              "    <tr>\n",
              "        <td>Elizabeth Haydon</td>\n",
              "        <td>6</td>\n",
              "        <td>4.053333333333334</td>\n",
              "        <td>3642</td>\n",
              "    </tr>\n",
              "    <tr>\n",
              "        <td>Grant Morrison</td>\n",
              "        <td>15</td>\n",
              "        <td>4.004</td>\n",
              "        <td>3602</td>\n",
              "    </tr>\n",
              "    <tr>\n",
              "        <td>Greg Bear</td>\n",
              "        <td>14</td>\n",
              "        <td>3.8050000000000006</td>\n",
              "        <td>6165</td>\n",
              "    </tr>\n",
              "    <tr>\n",
              "        <td>Guy Gavriel Kay</td>\n",
              "        <td>13</td>\n",
              "        <td>4.099230769230768</td>\n",
              "        <td>6863</td>\n",
              "    </tr>\n",
              "    <tr>\n",
              "        <td>Isaac Asimov</td>\n",
              "        <td>43</td>\n",
              "        <td>4.138372093023257</td>\n",
              "        <td>17352</td>\n",
              "    </tr>\n",
              "    <tr>\n",
              "        <td>Isobelle Carmody</td>\n",
              "        <td>7</td>\n",
              "        <td>4.085714285714285</td>\n",
              "        <td>4010</td>\n",
              "    </tr>\n",
              "    <tr>\n",
              "        <td>J. Michael Straczynski</td>\n",
              "        <td>6</td>\n",
              "        <td>4.123333333333333</td>\n",
              "        <td>1597</td>\n",
              "    </tr>\n",
              "    <tr>\n",
              "        <td>Jules Verne</td>\n",
              "        <td>30</td>\n",
              "        <td>3.763999999999999</td>\n",
              "        <td>10418</td>\n",
              "    </tr>\n",
              "    <tr>\n",
              "        <td>Karen Traviss</td>\n",
              "        <td>13</td>\n",
              "        <td>4.153076923076923</td>\n",
              "        <td>4941</td>\n",
              "    </tr>\n",
              "    <tr>\n",
              "        <td>Kate Elliott</td>\n",
              "        <td>9</td>\n",
              "        <td>3.862222222222222</td>\n",
              "        <td>6465</td>\n",
              "    </tr>\n",
              "    <tr>\n",
              "        <td>Madeleine L&#x27;Engle</td>\n",
              "        <td>12</td>\n",
              "        <td>4.046666666666668</td>\n",
              "        <td>5484</td>\n",
              "    </tr>\n",
              "    <tr>\n",
              "        <td>Margaret Atwood</td>\n",
              "        <td>9</td>\n",
              "        <td>3.988888888888889</td>\n",
              "        <td>4152</td>\n",
              "    </tr>\n",
              "    <tr>\n",
              "        <td>Margaret Weis</td>\n",
              "        <td>17</td>\n",
              "        <td>4.07</td>\n",
              "        <td>7171</td>\n",
              "    </tr>\n",
              "    <tr>\n",
              "        <td>Maria V. Snyder</td>\n",
              "        <td>8</td>\n",
              "        <td>4.07</td>\n",
              "        <td>3980</td>\n",
              "    </tr>\n",
              "    <tr>\n",
              "        <td>Marie Lu</td>\n",
              "        <td>12</td>\n",
              "        <td>4.133333333333333</td>\n",
              "        <td>4494</td>\n",
              "    </tr>\n",
              "    <tr>\n",
              "        <td>Marissa Meyer</td>\n",
              "        <td>18</td>\n",
              "        <td>4.27277777777778</td>\n",
              "        <td>8272</td>\n",
              "    </tr>\n",
              "    <tr>\n",
              "        <td>Melanie Rawn</td>\n",
              "        <td>8</td>\n",
              "        <td>4.02875</td>\n",
              "        <td>4637</td>\n",
              "    </tr>\n",
              "    <tr>\n",
              "        <td>Michael Grant</td>\n",
              "        <td>11</td>\n",
              "        <td>4.024545454545454</td>\n",
              "        <td>4976</td>\n",
              "    </tr>\n",
              "    <tr>\n",
              "        <td>Neil Gaiman</td>\n",
              "        <td>28</td>\n",
              "        <td>4.157857142857143</td>\n",
              "        <td>7102</td>\n",
              "    </tr>\n",
              "    <tr>\n",
              "        <td>Peter F. Hamilton</td>\n",
              "        <td>23</td>\n",
              "        <td>4.226521739130434</td>\n",
              "        <td>18688</td>\n",
              "    </tr>\n",
              "    <tr>\n",
              "        <td>R.A. Salvatore</td>\n",
              "        <td>27</td>\n",
              "        <td>4.158148148148148</td>\n",
              "        <td>13274</td>\n",
              "    </tr>\n",
              "    <tr>\n",
              "        <td>Robert A. Heinlein</td>\n",
              "        <td>35</td>\n",
              "        <td>3.8682857142857148</td>\n",
              "        <td>11176</td>\n",
              "    </tr>\n",
              "    <tr>\n",
              "        <td>Samuel R. Delany</td>\n",
              "        <td>6</td>\n",
              "        <td>3.84</td>\n",
              "        <td>2412</td>\n",
              "    </tr>\n",
              "    <tr>\n",
              "        <td>Sara Douglass</td>\n",
              "        <td>7</td>\n",
              "        <td>3.9299999999999997</td>\n",
              "        <td>4459</td>\n",
              "    </tr>\n",
              "    <tr>\n",
              "        <td>StanisÅ‚aw Lem</td>\n",
              "        <td>16</td>\n",
              "        <td>4.007499999999999</td>\n",
              "        <td>3291</td>\n",
              "    </tr>\n",
              "    <tr>\n",
              "        <td>Stephen King</td>\n",
              "        <td>38</td>\n",
              "        <td>4.057368421052632</td>\n",
              "        <td>25603</td>\n",
              "    </tr>\n",
              "    <tr>\n",
              "        <td>Warren Ellis</td>\n",
              "        <td>12</td>\n",
              "        <td>4.135000000000001</td>\n",
              "        <td>2548</td>\n",
              "    </tr>\n",
              "</table>"
            ]
          },
          "metadata": {},
          "execution_count": 44
        }
      ]
    },
    {
      "cell_type": "markdown",
      "source": [
        "Let's break down this query:\n",
        "\n",
        "-   We first define the columns we're interested in: `author` (renamed to `Author_Name` using `AS`), `COUNT(*)` (total number of books published by the author, renamed to `Total_Books`), `AVG(rating)` (average rating of books by the author, renamed to `Average_Rating`), and `SUM(pages)` (total pages written by the author, renamed to `Total_Pages`).\n",
        "\n",
        "-   We're looking at the `books` table.\n",
        "\n",
        "-   The `WHERE` clause is using a subquery to filter the books where the `author` is in the list of authors who have a book with 'star' in the title. We're using the `LIKE` keyword here with the wildcard symbol `%` to match any title that contains the word 'star'.\n",
        "\n",
        "-   The `GROUP BY` clause is used to group the selected rows by `author`. This means the aggregate functions `COUNT(*)`, `AVG(rating)`, and `SUM(pages)` will be applied separately to each group of rows with the same `author`.\n",
        "\n",
        "-   Finally, the `HAVING` clause is used to filter out the authors who have published 5 books or fewer. Unlike `WHERE` which operates on individual rows, `HAVING` operates on groups of rows, making it perfect for this kind of filtering after aggregation."
      ],
      "metadata": {
        "id": "k7zWmJCerfLG"
      }
    },
    {
      "cell_type": "markdown",
      "source": [
        "## Exercises\n",
        "\n",
        "Write SQL queries to answer the following questions.\n",
        "\n",
        "1. Determine how many books were written by author Terry Pratchett.\n",
        "2. Determine the average ratings of books by this author.\n",
        "3. Determine the minimum and maximum page numers of this author. Rename the returned columns.\n",
        "4. Find out how many books have the words \"star\" or \"wars\" anywhere in the title.\n",
        "5. Get the names of the five authors who have the highest average book ratings.\n",
        "6. Determine which book published beween 1980 and 1990 had the most overall reviews.\n",
        "7. Get a list of authors whose first names starts with a \"B\" along the number books that they have published. Exclude authors who have published only 1 books.\n",
        "8. CHALLENGE: Return a list of the number of books published in each decade from the 1950s to the present (NOTE: Depending on how you do this, you may need a number of subqueries!)"
      ],
      "metadata": {
        "id": "bi4CxhLr0k3A"
      }
    },
    {
      "cell_type": "code",
      "source": [
        "%%sql\n",
        "--Q1"
      ],
      "metadata": {
        "id": "a3PQofxGrd6A"
      },
      "execution_count": null,
      "outputs": []
    },
    {
      "cell_type": "code",
      "source": [
        "%%sql\n",
        "--Q2"
      ],
      "metadata": {
        "id": "L0QUiydU4UgQ"
      },
      "execution_count": null,
      "outputs": []
    },
    {
      "cell_type": "code",
      "source": [
        "%%sql\n",
        "--Q3"
      ],
      "metadata": {
        "id": "1JxaKswE4Ui-"
      },
      "execution_count": null,
      "outputs": []
    },
    {
      "cell_type": "code",
      "source": [
        "%%sql\n",
        "--Q4"
      ],
      "metadata": {
        "id": "iP8ndHYU4UmG"
      },
      "execution_count": null,
      "outputs": []
    },
    {
      "cell_type": "code",
      "source": [
        "%%sql\n",
        "--Q5"
      ],
      "metadata": {
        "id": "5iobrUX24Uor"
      },
      "execution_count": null,
      "outputs": []
    },
    {
      "cell_type": "code",
      "source": [
        "%%sql\n",
        "--Q6"
      ],
      "metadata": {
        "id": "lv4HzCMd4U_d"
      },
      "execution_count": null,
      "outputs": []
    },
    {
      "cell_type": "code",
      "source": [
        "%%sql\n",
        "--Q7"
      ],
      "metadata": {
        "id": "MrXLnwef4VG6"
      },
      "execution_count": null,
      "outputs": []
    },
    {
      "cell_type": "code",
      "source": [
        "%%sql\n",
        "--Q8"
      ],
      "metadata": {
        "id": "CucbNjfB4etx"
      },
      "execution_count": null,
      "outputs": []
    },
    {
      "cell_type": "markdown",
      "source": [
        "## Case Study: How Do Sites Like Goodreads And Amazon Get Their Book Data?\n",
        "\n",
        "In the age of information, data is often referred to as the new oil. Platforms like Goodreads and Amazon stand as towering examples of how data can be harnessed to drive innovation, enhance user experience, and create a competitive edge. The acquisition, storage, and utilization of data by these platforms are not just technical feats but also raise significant ethical and legal considerations. This case study aims to unravel the intricate web of data handling by Goodreads and Amazon, shedding light on the methods, implications, and challenges involved. We begin by delving into the first critical question: How do Goodreads and Amazon acquire data?\n",
        "\n",
        "While Amazon (and Goodreads, which is owned by Amazon) don't reveal their exact algorithms, they almost certainly rely on some combination of the following.\n",
        "\n",
        "1.  *User Profiles:* Both Goodreads and Amazon create detailed user profiles that include information such as name, email address, preferences, and more. This data is often voluntarily provided by users during account creation or profile customization.\n",
        "\n",
        "2.  *Browsing Habits:* By employing cookies and tracking technologies, these platforms monitor the pages visited, the time spent on each page, and the links clicked. Amazon, for instance, keeps track of the products viewed by a user, forming a pattern that reveals preferences and interests.\n",
        "\n",
        "3.  *Purchase History:* Amazon meticulously records every purchase made by a user. This includes not only what was bought but also when, how often, and in what combinations. This data is vital in understanding buying behaviors and trends.\n",
        "\n",
        "4.  *Reviews and Ratings:* Goodreads, being a platform dedicated to books, relies heavily on user reviews and ratings. These insights help in understanding individual tastes and the overall reception of a book or author.\n",
        "\n",
        "5.  *Third-Party Integrations:* Sometimes, data is acquired through integrations with other platforms or services. For example, Goodreads allows users to link their account with Facebook, thereby accessing additional data such as friends' reading lists.\n",
        "\n",
        "6.  *Behavioral Tracking:* Beyond mere clicks and views, sophisticated algorithms track user behavior, such as how a user scrolls, hesitates, or even the path their mouse takes. This granular data can reveal subconscious preferences and decision-making processes.\n",
        "\n",
        "As you can see, the acquisition of data by Goodreads and Amazon is a multifaceted process that goes beyond mere \"passive\" collection. It's an orchestrated effort that involves understanding, predicting, and influencing user behavior. The data thus acquired becomes the foundation for numerous features and services that define the modern online experience. The ethical considerations and technological prowess involved in this process make it a subject worthy of deep exploration and understanding."
      ],
      "metadata": {
        "id": "wrGUYuKp98UX"
      }
    },
    {
      "cell_type": "markdown",
      "source": [
        "### Data Storage\n",
        "The storage of data within large digital platforms such as Amazon and its subsidiary Goodreads is a complex task that requires a multifaceted approach. One of the primary methods employed is the use of **relational databases**, such as Amazon Aurora. This MySQL and PostgreSQL-compatible relational database is designed for the cloud, providing efficient performance by automatically dividing and replicating data across multiple locations. Goodreads, being part of Amazon, likely leverages similar relational database technologies to manage structured data, such as user profiles and basic book information.\n",
        "\n",
        "In addition to relational databases, **NoSQL databases** play a significant role in handling unstructured or semi-structured data. Amazon's DynamoDB, a fully managed NoSQL database, is utilized for key-value and document data structures. Its design allows for high availability and seamless scaling, making it suitable for various purposes within Amazon's ecosystem, including storing shopping cart information and managing high-traffic data.\n",
        "\n",
        "The vast scale of data handled by Amazon and Goodreads necessitates the use of **cloud and distributed systems**. These systems allow data to be stored across multiple servers or locations, providing essential scalability, redundancy, and accessibility. Amazon leverages its own cloud platform, **Amazon Web Services (AWS)**, to run both relational and NoSQL databases. Services within AWS, such as Amazon S3 for object storage and EC2 for scalable computing resources, enable the efficient management of data across the entire Amazon family of services, including Goodreads. AWS is, in fact, among the world's largest provider of cloud services and many, many websites (such as Netflix) physically \"live\" on Amazon servers that are distributed across the globe.\n",
        "\n",
        "The integration of relational databases, NoSQL databases, and cloud/distributed systems within Amazon and Goodreads illustrates a sophisticated approach to data storage. It reflects a strategic alignment of technologies tailored to specific needs and challenges, ensuring that data is not only stored efficiently but is also accessible and resilient. This complex architecture underscores the importance of data as a vital asset in the digital age, and the thoughtful consideration given to its management within leading technology companies."
      ],
      "metadata": {
        "id": "wLiOrjAVPLkI"
      }
    },
    {
      "cell_type": "markdown",
      "source": [
        "### Ethical Concerns\n",
        "The collection and use of data by Amazon and other **FAANG (Facebook, Apple, Amazon, Netfix)** companies has been a topic of heated debate over the last few years. Some main concerns include:\n",
        "\n",
        "**Consent and Transparency.** The collection of large amounts of user data raises fundamental questions about consent. Are users fully aware of what data is being collected, how it's being used, and with whom it might be shared? Transparency in data practices is essential, but often, the complexity of data operations and the use of lengthy, unclear terms of service can obscure true understanding. For example, when a user signs up for a service, they may be presented with a dense legal document that hides the true nature of data collection. The ethical obligation to ensure **informed consent** is a central concern, and it requires that companies make their practices clear and understandable to the average user.\n",
        "\n",
        "**Bias and Discrimination.** Algorithms that drive personalization and targeted advertising can inadvertently reinforce biases or lead to discrimination. If an algorithm is trained on biased data, it may perpetuate or even worsen those biases. Consider a recommendation system that might favor certain authors, genres, or products based on biased historical data. If the data reflects a preference for male (or white) authors, the algorithm might continue to recommend books by white men, leading to a lack of diversity in recommendations.  Philosophically, however, it raises profound questions about how we value different voices and perspectives. Are women's voices being marginalized not just in literature but in society at large? Is the algorithm merely reflecting a deeper bias, or is it actively contributing to the perpetuation of inequality?\n",
        "\n",
        "\n",
        "**Security.** With the collection of sensitive information comes the ethical responsibility to protect that data. Security breaches can have devastating consequences for individuals, ranging from financial loss to personal harm. Imagine a scenario where a person's medical records are leaked, leading to embarrassment or even blackmail. Ensuring robust security measures and being transparent about potential risks is an essential aspect of ethical data handling. Companies must not only implement strong safeguards but also communicate openly with users about the risks and protections in place.\n",
        "\n",
        "In Amazon's case, this is especially important, given the fact that they store not only their own data (with hundreds of millions of customers), but also that of many other large companies.\n",
        "\n",
        "**Environmental Impact.** The storage and processing of large amounts of data require significant energy resources, contributing to the environmental impact of data centers. Ethical considerations extend to the environmental stewardship of these operations, including energy efficiency and the sourcing of renewable energy. For instance, a data center that relies on coal power contributes to air pollution and climate change, whereas one powered by wind or solar energy has a much smaller environmental footprint. The ethical dimension here is not merely a matter of compliance with regulations but a broader responsibility to consider the long-term health of our planet.\n"
      ],
      "metadata": {
        "id": "5WGGuhuykttW"
      }
    },
    {
      "cell_type": "markdown",
      "source": [
        "### Questions: Data Collection\n",
        "\n",
        "1. How can platforms like Amazon and Goodreads ensure that users are fully aware of the data being collected, and that they genuinely consent to its use? What philosophical principles should guide their approach to consent and transparency, and how might these be practically implemented?\n",
        "\n",
        "2. In what ways might the algorithms used by Amazon and Goodreads inadvertently reinforce societal biases? How can these platforms recognize and mitigate such biases, and what philosophical considerations should inform their approach to fairness and equality?\n",
        "\n",
        "3. Considering that Amazon's data centers are distributed across the globe, what are the global ethical considerations related to energy consumption, environmental impact, and regulatory compliance? How should we (as a society) address these issues?\n",
        "\n",
        "4. The case study mentions tracking user behavior down to mouse movements and hesitations. What are the ethical implications of such granular data collection? How might this level of surveillance affect users' experience and trust?\n",
        "\n",
        "5. How do the recommendation algorithms used by Amazon and Goodreads shape users' choices and experiences? What ethical considerations arise from the influence that these algorithms can exert over users' reading habits and purchasing decisions?"
      ],
      "metadata": {
        "id": "HqKUih31_86e"
      }
    },
    {
      "cell_type": "markdown",
      "source": [
        "## My Answers: Data Collection\n",
        "\n",
        "1.\n",
        "\n",
        "2.\n",
        "\n",
        "3.\n",
        "\n",
        "4.\n",
        "\n",
        "5."
      ],
      "metadata": {
        "id": "N0HKcBO0D8dl"
      }
    },
    {
      "cell_type": "markdown",
      "source": [
        "## Glossary\n",
        "\n",
        "| Term | Definition |\n",
        "| --- | --- |\n",
        "| Aggregate Function | A type of function in SQL that processes a set of values and returns a single value summarizing the input. Examples include SUM, AVG, MAX, MIN, and COUNT. |\n",
        "| Subquery | A query that is nested inside another query in SQL. It is used to retrieve data that will be used in the main query as a condition, enhancing the flexibility of SQL queries. |\n",
        "| Jupyter Notebook | An open-source web application that allows the creation of documents containing both code (e.g. python, R, SQL) and rich text elements (paragraphs, equations, figures, links, etc.). It's particularly useful for data analysis and visualization. |\n",
        "| Colab | Short for Google Colaboratory, it's a free cloud-based service provided by Google for hosting Jupyter notebooks. |\n",
        "| Linux | An open-source operating system modelled on the Unix operating system. It's known for its robustness, flexibility, and variety of distributions, such as Ubuntu, Fedora, and CentOS. |\n",
        "| Ubuntu | A popular distribution or 'flavor' of Linux, designed to be user-friendly and functional for both desktops and servers.  |\n",
        "| ISO 8601 date standard | An internationally accepted way to represent dates and times as a string of numbers and symbols. It follows the format: YYYY-MM-DD for dates and HH:MM:SS for times. |\n",
        "| Data collection | The systematic process of gathering and measuring information from a variety of sources to get a complete and accurate picture of an area of interest. |\n",
        "| Web scraping | A method of extracting data from websites by downloading and analyzing the HTML code from the webpage. |\n",
        "| Public databases | Databases that are freely available to the public for use and distribution. They can be on various topics like health, science, literature, etc. |\n",
        "| Application Programming Interface (API) | A set of rules and protocols that specify how software components should interact. In the context of data collection APIs can be used to retrieve data. |\n",
        "| Survey | A data collection method that involves asking questions to respondents. Surveys can be conducted in various ways such as online, over the phone, paper surveys, etc. |\n",
        "| Sampling | The process of selecting a subset of individuals from a statistical population to estimate characteristics of the whole population. |\n",
        "| Observation | A data collection method that involves obtaining data by watching and recording the subjects under study. |\n",
        "| Quantitative data | Information about quantities or data that can be measured and written down with numbers. Some examples are height, weight, time, price, etc. |\n",
        "| Qualitative data | Information about qualities or data that can't be measured but can be observed subjectively---such as smell, taste, appearance, beauty, etc. |"
      ],
      "metadata": {
        "id": "EU_mkI1n__4q"
      }
    },
    {
      "cell_type": "markdown",
      "source": [
        "## Table: Aggregate Functions and Subqueries in SQL\n",
        "\n",
        "| Description in English | SQL Query |\n",
        "| --- | --- |\n",
        "| SQL code to get the number of books | `SELECT COUNT(*) FROM books` |\n",
        "| SQL code to find the number of unique authors in `books` table | `SELECT COUNT(DISTINCT authors) FROM books` |\n",
        "|  SQL code to get the total number of pages of all books | `SELECT SUM(pages) FROM books` |\n",
        "| SQL code to get the average rating of all books | `SELECT AVG(rating) FROM books` |\n",
        "| SQL code to get the maximum number of ratings a book has received | `SELECT MAX(numRatings) FROM books` |\n",
        "|SQL code to get the minimum number of ratings a book has received | `SELECT MIN(numRatings) FROM books` |\n",
        "| SQL code to retrieve a list of authors and the numbers of books they've written | `SELECT author, COUNT(*) AS Books_Per_Author FROM books GROUP BY author` |\n",
        "| SQL code to get group books by authors, count the number of books per author, only include authors with more than 5 books | `SELECT author, COUNT(*) AS Books_Per_Author FROM books GROUP BY author HAVING Books_Per_Author > 5` |\n",
        "| SQL code to get the title of the book that has the maximum number of pages (using subquery in WHERE clause) | `SELECT title FROM books WHERE pages = (SELECT MAX(pages) FROM books)` |\n",
        "| SQL code to get the number of authors who have written books with more than 1000 pages (using subquery in FROM clause) | `SELECT COUNT(*) FROM (SELECT DISTINCT author FROM books WHERE pages > 1000)` |\n",
        "| SQL code to show average rating per author, but only for authors who have written a book with 'star' in the title <br /> (using subquery in WHERE clause) | `SELECT author, AVG(rating) FROM books WHERE author IN (SELECT author FROM books WHERE title LIKE '%star%') GROUP BY author` |\n",
        "| SQL code to find authors who published more than 5 books, where at least one of those books has 'star' in the title. <br />Also, display the average rating of their books and the total number of pages written. | `SELECT author AS Author_Name, COUNT(*) AS Total_Books, AVG(rating) AS Average_Rating, SUM(pages) AS Total_Pages FROM books WHERE author IN (SELECT author FROM books WHERE title LIKE '%star%') GROUP BY author HAVING Total_Books > 5` |\n"
      ],
      "metadata": {
        "id": "j__SQF1tsSc0"
      }
    },
    {
      "cell_type": "code",
      "source": [],
      "metadata": {
        "id": "AK5SmQsN_OCU"
      },
      "execution_count": null,
      "outputs": []
    }
  ]
}