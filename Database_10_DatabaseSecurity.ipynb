{
  "nbformat": 4,
  "nbformat_minor": 0,
  "metadata": {
    "colab": {
      "provenance": [],
      "authorship_tag": "ABX9TyOPUnuzr3DLi80mCEPErdXB",
      "include_colab_link": true
    },
    "kernelspec": {
      "name": "python3",
      "display_name": "Python 3"
    },
    "language_info": {
      "name": "python"
    }
  },
  "cells": [
    {
      "cell_type": "markdown",
      "metadata": {
        "id": "view-in-github",
        "colab_type": "text"
      },
      "source": [
        "<a href=\"https://colab.research.google.com/github/brendanpshea/database_sql/blob/main/Database_10_DatabaseSecurity.ipynb\" target=\"_parent\"><img src=\"https://colab.research.google.com/assets/colab-badge.svg\" alt=\"Open In Colab\"/></a>"
      ]
    },
    {
      "cell_type": "markdown",
      "source": [
        "# Guarding the Virtual Vault: A Deep Dive into Database Security\n",
        "### Databases Through Pop Culture | Brendan Shea, PhD\n",
        "\n",
        "In the digital age, databases have become the lifeblood of organizations, storing vast amounts of sensitive information. Just as the Toad City Hospital safeguards the health and well-being of its patients, it must also protect the confidentiality, integrity, and availability of its database systems. In this chapter, we embark on a comprehensive journey through the world of database security, exploring the fundamental concepts, common threats, and essential strategies to fortify these virtual vaults. From the CIA Triad to encryption, data masking to auditing, and firewalls to network segmentation, we'll uncover the critical measures that ensure the safety and resilience of databases in the face of ever-evolving cyber threats. Join us as we delve into the art and science of database security, arming you with the knowledge and tools to become a guardian of the digital realm.\n",
        "\n",
        "Outcomes:\n",
        "\n",
        "1.  Understand the CIA Triad and its importance in database security\n",
        "2.  Identify common threats to databases and their impact\n",
        "3.  Learn about encryption techniques and their role in protecting sensitive data\n",
        "4.  Discover data masking and its application in safeguarding confidential information\n",
        "5.  Recognize the significance of data destruction and secure deletion practices\n",
        "6.  Appreciate the value of auditing and monitoring database activities\n",
        "7.  Grasp the concepts of authentication, authorization, and access control\n",
        "8.  Realize the importance of physical security measures for databases\n",
        "9.  Comprehend the role of firewalls in database security\n",
        "10. Explore network segmentation as a strategy to isolate and protect databases\n",
        "\n",
        "Keywords: database security, CIA Triad, encryption, data masking, data destruction, auditing, authentication, authorization, access control, physical security, firewalls, network segmentation!\n"
      ],
      "metadata": {
        "id": "d5I40CRFzKmA"
      }
    },
    {
      "cell_type": "markdown",
      "source": [
        "### Brendan's Lecture"
      ],
      "metadata": {
        "id": "qfeFZnEQQ4bT"
      }
    },
    {
      "cell_type": "code",
      "source": [
        "## Video Lecture\n",
        "from IPython.display import YouTubeVideo\n",
        "YouTubeVideo('97lWHDiFO2Y', width=800, height=500)"
      ],
      "metadata": {
        "id": "zyZ4xvxSQ6nR"
      },
      "execution_count": null,
      "outputs": []
    },
    {
      "cell_type": "markdown",
      "source": [
        "What is the CIA Triad and why is it important for database security?\n",
        "--------------------------------------------------------------------\n",
        "\n",
        "The **CIA Triad** is a fundamental concept in information security that stands for **Confidentiality**, **Integrity**, and **Availability**. It serves as a guiding framework for designing and implementing security measures to protect sensitive data stored in databases.\n",
        "\n",
        "1.  **Confidentiality**: This principle ensures that data is accessible only to authorized individuals or systems. It prevents unauthorized disclosure of sensitive information. Confidentiality is maintained through various mechanisms such as encryption, access controls, and authentication.\n",
        "2.  **Integrity**: Integrity ensures that data remains accurate, consistent, and trustworthy throughout its lifecycle. It prevents unauthorized modification or tampering of data. Integrity is maintained through techniques like data validation, checksums, and version control.\n",
        "3.  **Availability**: Availability ensures that data is readily accessible to authorized users whenever needed. It involves maintaining the proper functioning of systems, networks, and resources. Availability is ensured through measures such as redundancy, backup systems, and disaster recovery planning.\n",
        "\n",
        "The CIA Triad is crucial for database security because databases often store sensitive and critical information. A breach in any of these three aspects can lead to severe consequences, such as data leaks, financial losses, reputational damage, and legal implications.\n"
      ],
      "metadata": {
        "id": "XELq0mcfMZxe"
      }
    },
    {
      "cell_type": "markdown",
      "source": [
        "## Case Study: Database at the Toad City Hospital\n",
        "\n",
        "Let's consider a case study of the database at the Toad City Hospital, the Mushroom Kingdom's main medical center (which we encountered in earlier chapters). The hospital uses a PostgreSQL database to store sensitive patient information.\n",
        "\n",
        "Here's an example of a sample table named `patients` with sensitive data:"
      ],
      "metadata": {
        "id": "6H0m56rPMcPn"
      }
    },
    {
      "cell_type": "code",
      "execution_count": null,
      "metadata": {
        "colab": {
          "base_uri": "https://localhost:8080/",
          "height": 139
        },
        "id": "YY99eNYGMZGD",
        "outputId": "6cb517fc-303d-4543-b511-cc8e8f21e12d"
      },
      "outputs": [
        {
          "output_type": "stream",
          "name": "stdout",
          "text": [
            " * Starting PostgreSQL 14 database server\n",
            "   ...done.\n",
            "CREATE ROLE\n",
            "\u001b[2K   \u001b[90m━━━━━━━━━━━━━━━━━━━━━━━━━━━━━━━━━━━━━━━━\u001b[0m \u001b[32m95.1/95.1 kB\u001b[0m \u001b[31m2.4 MB/s\u001b[0m eta \u001b[36m0:00:00\u001b[0m\n",
            "\u001b[2K   \u001b[90m━━━━━━━━━━━━━━━━━━━━━━━━━━━━━━━━━━━━━━━━\u001b[0m \u001b[32m192.8/192.8 kB\u001b[0m \u001b[31m7.3 MB/s\u001b[0m eta \u001b[36m0:00:00\u001b[0m\n",
            "\u001b[2K   \u001b[90m━━━━━━━━━━━━━━━━━━━━━━━━━━━━━━━━━━━━━━━━\u001b[0m \u001b[32m54.4/54.4 kB\u001b[0m \u001b[31m3.6 MB/s\u001b[0m eta \u001b[36m0:00:00\u001b[0m\n",
            "\u001b[?25h"
          ]
        },
        {
          "output_type": "display_data",
          "data": {
            "text/plain": [
              "Connecting to 'postgresql+psycopg2://@/postgres'"
            ],
            "text/html": [
              "<span style=\"None\">Connecting to &#x27;postgresql+psycopg2://@/postgres&#x27;</span>"
            ]
          },
          "metadata": {}
        }
      ],
      "source": [
        "# Install postgres\n",
        "!apt install postgresql postgresql-contrib &>log\n",
        "!service postgresql start\n",
        "!sudo -u postgres psql -c \"CREATE USER root WITH SUPERUSER\"\n",
        "\n",
        "# install jupysql\n",
        "!pip install jupysql -q\n",
        "\n",
        "# set connection\n",
        "%reload_ext sql\n",
        "%config SqlMagic.autopandas=True\n",
        "%sql postgresql+psycopg2://@/postgres"
      ]
    },
    {
      "cell_type": "code",
      "source": [
        "%%sql\n",
        "DROP TABLE IF EXISTS patients;\n",
        "\n",
        "CREATE TABLE patients (\n",
        "  patient_id SERIAL PRIMARY KEY,\n",
        "  name VARCHAR(100) NOT NULL,\n",
        "  date_of_birth DATE NOT NULL,\n",
        "  social_security_number VARCHAR(200) NOT NULL,\n",
        "  medical_history JSONB\n",
        ");"
      ],
      "metadata": {
        "colab": {
          "base_uri": "https://localhost:8080/",
          "height": 70
        },
        "id": "FlAtWYdFM3KU",
        "outputId": "773aad10-6f16-4ec3-b24f-5fd84879176a"
      },
      "execution_count": null,
      "outputs": [
        {
          "output_type": "display_data",
          "data": {
            "text/plain": [
              "Running query in 'postgresql+psycopg2://@/postgres'"
            ],
            "text/html": [
              "<span style=\"None\">Running query in &#x27;postgresql+psycopg2://@/postgres&#x27;</span>"
            ]
          },
          "metadata": {}
        },
        {
          "output_type": "execute_result",
          "data": {
            "text/plain": [
              "Empty DataFrame\n",
              "Columns: []\n",
              "Index: []"
            ],
            "text/html": [
              "\n",
              "  <div id=\"df-cda7158c-6321-481c-983a-9300037fe165\" class=\"colab-df-container\">\n",
              "    <div>\n",
              "<style scoped>\n",
              "    .dataframe tbody tr th:only-of-type {\n",
              "        vertical-align: middle;\n",
              "    }\n",
              "\n",
              "    .dataframe tbody tr th {\n",
              "        vertical-align: top;\n",
              "    }\n",
              "\n",
              "    .dataframe thead th {\n",
              "        text-align: right;\n",
              "    }\n",
              "</style>\n",
              "<table border=\"1\" class=\"dataframe\">\n",
              "  <thead>\n",
              "    <tr style=\"text-align: right;\">\n",
              "      <th></th>\n",
              "    </tr>\n",
              "  </thead>\n",
              "  <tbody>\n",
              "  </tbody>\n",
              "</table>\n",
              "</div>\n",
              "    <div class=\"colab-df-buttons\">\n",
              "\n",
              "  <div class=\"colab-df-container\">\n",
              "    <button class=\"colab-df-convert\" onclick=\"convertToInteractive('df-cda7158c-6321-481c-983a-9300037fe165')\"\n",
              "            title=\"Convert this dataframe to an interactive table.\"\n",
              "            style=\"display:none;\">\n",
              "\n",
              "  <svg xmlns=\"http://www.w3.org/2000/svg\" height=\"24px\" viewBox=\"0 -960 960 960\">\n",
              "    <path d=\"M120-120v-720h720v720H120Zm60-500h600v-160H180v160Zm220 220h160v-160H400v160Zm0 220h160v-160H400v160ZM180-400h160v-160H180v160Zm440 0h160v-160H620v160ZM180-180h160v-160H180v160Zm440 0h160v-160H620v160Z\"/>\n",
              "  </svg>\n",
              "    </button>\n",
              "\n",
              "  <style>\n",
              "    .colab-df-container {\n",
              "      display:flex;\n",
              "      gap: 12px;\n",
              "    }\n",
              "\n",
              "    .colab-df-convert {\n",
              "      background-color: #E8F0FE;\n",
              "      border: none;\n",
              "      border-radius: 50%;\n",
              "      cursor: pointer;\n",
              "      display: none;\n",
              "      fill: #1967D2;\n",
              "      height: 32px;\n",
              "      padding: 0 0 0 0;\n",
              "      width: 32px;\n",
              "    }\n",
              "\n",
              "    .colab-df-convert:hover {\n",
              "      background-color: #E2EBFA;\n",
              "      box-shadow: 0px 1px 2px rgba(60, 64, 67, 0.3), 0px 1px 3px 1px rgba(60, 64, 67, 0.15);\n",
              "      fill: #174EA6;\n",
              "    }\n",
              "\n",
              "    .colab-df-buttons div {\n",
              "      margin-bottom: 4px;\n",
              "    }\n",
              "\n",
              "    [theme=dark] .colab-df-convert {\n",
              "      background-color: #3B4455;\n",
              "      fill: #D2E3FC;\n",
              "    }\n",
              "\n",
              "    [theme=dark] .colab-df-convert:hover {\n",
              "      background-color: #434B5C;\n",
              "      box-shadow: 0px 1px 3px 1px rgba(0, 0, 0, 0.15);\n",
              "      filter: drop-shadow(0px 1px 2px rgba(0, 0, 0, 0.3));\n",
              "      fill: #FFFFFF;\n",
              "    }\n",
              "  </style>\n",
              "\n",
              "    <script>\n",
              "      const buttonEl =\n",
              "        document.querySelector('#df-cda7158c-6321-481c-983a-9300037fe165 button.colab-df-convert');\n",
              "      buttonEl.style.display =\n",
              "        google.colab.kernel.accessAllowed ? 'block' : 'none';\n",
              "\n",
              "      async function convertToInteractive(key) {\n",
              "        const element = document.querySelector('#df-cda7158c-6321-481c-983a-9300037fe165');\n",
              "        const dataTable =\n",
              "          await google.colab.kernel.invokeFunction('convertToInteractive',\n",
              "                                                    [key], {});\n",
              "        if (!dataTable) return;\n",
              "\n",
              "        const docLinkHtml = 'Like what you see? Visit the ' +\n",
              "          '<a target=\"_blank\" href=https://colab.research.google.com/notebooks/data_table.ipynb>data table notebook</a>'\n",
              "          + ' to learn more about interactive tables.';\n",
              "        element.innerHTML = '';\n",
              "        dataTable['output_type'] = 'display_data';\n",
              "        await google.colab.output.renderOutput(dataTable, element);\n",
              "        const docLink = document.createElement('div');\n",
              "        docLink.innerHTML = docLinkHtml;\n",
              "        element.appendChild(docLink);\n",
              "      }\n",
              "    </script>\n",
              "  </div>\n",
              "\n",
              "\n",
              "    </div>\n",
              "  </div>\n"
            ],
            "application/vnd.google.colaboratory.intrinsic+json": {
              "type": "dataframe",
              "summary": "{\n  \"name\": \"get_ipython()\",\n  \"rows\": 0,\n  \"fields\": []\n}"
            }
          },
          "metadata": {},
          "execution_count": 2
        }
      ]
    },
    {
      "cell_type": "markdown",
      "source": [
        "The `patients` table contains sensitive information such as patient names, dates of birth, social security numbers, and medical histories. Ensuring the CIA Triad for this database is critical:\n",
        "\n",
        "-   **Confidentiality**: Patient information should be kept confidential and accessible only to authorized healthcare professionals and staff members. Unauthorized access to this data could lead to privacy breaches and legal consequences.\n",
        "-   **Integrity**: The accuracy and consistency of patient information are vital. Any unauthorized modifications or tampering with the data could result in incorrect diagnoses, treatment errors, and potential harm to patients.\n",
        "-   **Availability**: The database must be available and accessible to authorized personnel whenever needed, especially in emergency situations. Downtime or inaccessibility of the database could hinder patient care and hospital operations.\n",
        "\n",
        "To protect the sensitive data in the Toad City Hospital's database, various security measures aligned with the CIA Triad should be implemented. These measures will be explored in the subsequent sections of this chapter."
      ],
      "metadata": {
        "id": "vGCngX6BNFWX"
      }
    },
    {
      "cell_type": "code",
      "source": [
        "# @title\n",
        "import base64\n",
        "from IPython.display import Image, display\n",
        "import matplotlib.pyplot as plt\n",
        "\n",
        "def mm(graph, width=1000, height=700):  # Add default dimensions\n",
        "    graphbytes = graph.encode(\"utf8\")\n",
        "    base64_bytes = base64.urlsafe_b64encode(graphbytes)\n",
        "    base64_string = base64_bytes.decode(\"ascii\")\n",
        "    # Add width and height parameters to the URL\n",
        "    url = f\"https://mermaid.ink/img/{base64_string}?width={width}&height={height}\"\n",
        "    display(Image(url=url))\n",
        "\n",
        "mm(\"\"\"\n",
        "flowchart LR\n",
        "    classDef primary fill:#ff9999,stroke:#333,stroke-width:2px\n",
        "    classDef secondary fill:#99ff99,stroke:#333,stroke-width:2px\n",
        "    classDef tertiary fill:#9999ff,stroke:#333,stroke-width:2px\n",
        "\n",
        "    CIA[\"CIA Security Triad\"]:::primary\n",
        "    C[\"Confidentiality\"]:::secondary\n",
        "    I[\"Integrity\"]:::secondary\n",
        "    A[\"Availability\"]:::secondary\n",
        "\n",
        "    CIA --> C\n",
        "    CIA --> I\n",
        "    CIA --> A\n",
        "\n",
        "    C --> C1[\"Patient records only viewable by<br>authorized hospital staff\"]\n",
        "    C --> C2[\"Encrypted medical test results<br>from Dr. Mario\"]\n",
        "\n",
        "    I --> I1[\"Accurate medication dosages<br>cannot be tampered with\"]\n",
        "    I --> I2[\"Lab results protected from<br>Bowser's hacking attempts\"]\n",
        "\n",
        "    A --> A1[\"Emergency room systems<br>operational 24/7\"]\n",
        "    A --> A2[\"Backup generators for<br>power mushroom storage\"]\n",
        "\"\"\")"
      ],
      "metadata": {
        "cellView": "form",
        "id": "uswGw71Jms0X",
        "outputId": "ca9a79ee-c1c1-4b4c-f900-ef189b5fc2fb",
        "colab": {
          "base_uri": "https://localhost:8080/",
          "height": 721
        }
      },
      "execution_count": null,
      "outputs": [
        {
          "output_type": "display_data",
          "data": {
            "text/html": [
              "<img src=\"https://mermaid.ink/img/CmZsb3djaGFydCBMUgogICAgY2xhc3NEZWYgcHJpbWFyeSBmaWxsOiNmZjk5OTksc3Ryb2tlOiMzMzMsc3Ryb2tlLXdpZHRoOjJweAogICAgY2xhc3NEZWYgc2Vjb25kYXJ5IGZpbGw6Izk5ZmY5OSxzdHJva2U6IzMzMyxzdHJva2Utd2lkdGg6MnB4CiAgICBjbGFzc0RlZiB0ZXJ0aWFyeSBmaWxsOiM5OTk5ZmYsc3Ryb2tlOiMzMzMsc3Ryb2tlLXdpZHRoOjJweAoKICAgIENJQVsiQ0lBIFNlY3VyaXR5IFRyaWFkIl06OjpwcmltYXJ5CiAgICBDWyJDb25maWRlbnRpYWxpdHkiXTo6OnNlY29uZGFyeQogICAgSVsiSW50ZWdyaXR5Il06OjpzZWNvbmRhcnkKICAgIEFbIkF2YWlsYWJpbGl0eSJdOjo6c2Vjb25kYXJ5CgogICAgQ0lBIC0tPiBDCiAgICBDSUEgLS0-IEkKICAgIENJQSAtLT4gQQoKICAgIEMgLS0-IEMxWyJQYXRpZW50IHJlY29yZHMgb25seSB2aWV3YWJsZSBieTxicj5hdXRob3JpemVkIGhvc3BpdGFsIHN0YWZmIl0KICAgIEMgLS0-IEMyWyJFbmNyeXB0ZWQgbWVkaWNhbCB0ZXN0IHJlc3VsdHM8YnI-ZnJvbSBEci4gTWFyaW8iXQoKICAgIEkgLS0-IEkxWyJBY2N1cmF0ZSBtZWRpY2F0aW9uIGRvc2FnZXM8YnI-Y2Fubm90IGJlIHRhbXBlcmVkIHdpdGgiXQogICAgSSAtLT4gSTJbIkxhYiByZXN1bHRzIHByb3RlY3RlZCBmcm9tPGJyPkJvd3NlcidzIGhhY2tpbmcgYXR0ZW1wdHMiXQoKICAgIEEgLS0-IEExWyJFbWVyZ2VuY3kgcm9vbSBzeXN0ZW1zPGJyPm9wZXJhdGlvbmFsIDI0LzciXQogICAgQSAtLT4gQTJbIkJhY2t1cCBnZW5lcmF0b3JzIGZvcjxicj5wb3dlciBtdXNocm9vbSBzdG9yYWdlIl0K?width=1000&height=700\"/>"
            ],
            "text/plain": [
              "<IPython.core.display.Image object>"
            ]
          },
          "metadata": {}
        }
      ]
    },
    {
      "cell_type": "markdown",
      "source": [
        "## What are the common threats to databases and how do they work?\n",
        "\n",
        "Databases face various threats that can compromise the confidentiality, integrity, and availability of sensitive data. Understanding these threats is crucial for implementing effective security measures. Let's explore some of the common threats to databases:\n",
        "\n",
        "### Who might want their data? (types of attackers)\n",
        "\n",
        "Attackers seeking to gain unauthorized access to database data can be categorized into several types:\n",
        "\n",
        "1.  **Cybercriminals** are motivated by financial gain. They may attempt to steal sensitive information for identity theft, financial fraud, or selling on the dark web.\n",
        "2.  **Insider threats** include disgruntled employees, contractors, or privileged users with malicious intent can misuse their access to steal or manipulate data.\n",
        "3.  **Competitors** such as rival organizations may seek to gain a competitive advantage by stealing trade secrets, customer data, or other confidential information.\n",
        "4.  **Hacktivists** are driven by political or ideological motives. They may target databases to expose perceived wrongdoings or to make a statement.\n",
        "5. **Advanced Persistent Threats** are often sponsored by hostile nation-states (such as the Koopa Kingdom), and reguarly deploy **zero-day exploits** (that is, entirely new ones) and have many resources (money, time, expertise) at their disposal. A major medical research center like Toad City hospital might well be a target for these actors.\n",
        "\n",
        "### SQL Injection\n",
        "\n",
        "**SQL Injection** is a code injection technique that exploits vulnerabilities in the database's input validation process. Attackers insert malicious SQL statements into application input fields, which are then executed by the database, allowing them to bypass security measures and gain unauthorized access to data.\n",
        "\n",
        "Example: Consider a login form that accepts a username and password. If the application doesn't properly validate the input, an attacker could enter the following malicious input:\n",
        "\n",
        "```\n",
        "Username: admin' --\n",
        "Password: this_is_now_irrelevant\n",
        "```\n",
        "\n",
        "The resulting SQL query would be:\n",
        "\n",
        "```sql\n",
        "SELECT * FROM users WHERE username = 'admin' -- AND password = 'this_is_now_irrelevant';\n",
        "```\n",
        "\n",
        "The `--` in the username input comments out the rest of the query, effectively bypassing the password check and granting access to the attacker.\n",
        "\n",
        "To prevent SQL Injection, it's crucial to implement proper input validation and parameterized queries. (This was covered in previous chapters).\n",
        "\n",
        "### DDoS (Distributed Denial of Service)\n",
        "\n",
        "A **DDoS attack** aims to overwhelm a database server with a flood of traffic from multiple sources, rendering it unavailable to legitimate users. Attackers often use botnets (networks of compromised devices) to generate the massive traffic.\n",
        "\n",
        "Example: Imagine the Toad City Hospital's database server is suddenly hit with a DDoS attack. The server is bombarded with a huge number of simultaneous requests, causing it to slow down or crash. As a result, healthcare professionals are unable to access critical patient information, disrupting patient care and hospital operations.\n",
        "\n",
        "To mitigate DDoS attacks, organizations can implement traffic filtering, rate limiting, and use DDoS mitigation services. Firewalls play an important role in  this--more on these later.\n",
        "\n",
        "### On-path attacks\n",
        "\n",
        "**On-path attacks**, also known as Man-in-the-Middle (MitM) attacks, occur when an attacker intercepts the communication between the database client and server. The attacker can eavesdrop on the transmitted data and potentially modify it.\n",
        "\n",
        "Example: Consider a scenario where a doctor at Toad City Hospital is accessing patient records from a remote location. If the communication channel is not properly secured, an attacker could intercept the data in transit, compromising the confidentiality and integrity of sensitive patient information.\n",
        "\n",
        "To prevent on-path attacks, it's essential to use secure communication protocols like HTTPS and implement proper encryption for data in transit."
      ],
      "metadata": {
        "id": "J1CsdcH1OIxu"
      }
    },
    {
      "cell_type": "markdown",
      "source": [
        "### Brute Force Attacks\n",
        "**Brute force attacks** involve an attacker systematically trying all possible combinations of usernames and passwords until they find the correct credentials to gain unauthorized access to the database.\n",
        "\n",
        "Example: Suppose an attacker targets the Toad City Hospital's database and obtains a list of employee usernames. Using automated tools, the attacker starts guessing common passwords or using a dictionary of frequently used passwords. If an employee has a weak or easily guessable password, the attacker may successfully gain access to the database.\n",
        "\n",
        "To protect against brute force attacks, it's important to enforce strong password policies, implement account lockout mechanisms after multiple failed attempts, and consider using multi-factor authentication (MFA).\n",
        "\n",
        "### Phishing\n",
        "**Phishing** is a social engineering technique where attackers send fraudulent emails or messages posing as legitimate sources to trick individuals into revealing sensitive information, such as login credentials or personal data.\n",
        "\n",
        "Example: An attacker sends an email to the employees of Toad City Hospital, pretending to be from the IT department. The email contains a link to a fake login page that resembles the hospital's legitimate database login page. If an employee falls for the phishing attempt and enters their credentials, the attacker can capture them and gain unauthorized access to the database.\n",
        "\n",
        "To combat phishing, it's crucial to educate employees about identifying and reporting suspicious emails, implementing email filters, and using anti-phishing technologies.\n",
        "\n",
        "### Malware\n",
        "**Malware**, short for malicious software, refers to any software designed to harm computer systems or gain unauthorized access. In the context of databases, malware can be used to steal sensitive data, manipulate database content, or disrupt database operations.\n",
        "\n",
        "Example: An attacker creates a malware program that infects the computers of Toad City Hospital employees. The malware secretly captures keystrokes, including database login credentials, and sends them back to the attacker. With these stolen credentials, the attacker can then access the database and exfiltrate sensitive patient information.\n",
        "\n",
        "To protect against malware, it's important to keep systems and software up to date, use reputable anti-malware software, and implement strict access controls and monitoring mechanisms.\n",
        "\n",
        "### Ransomware\n",
        "**Ransomware** is a type of malware that encrypts the victim's data and demands a ransom payment in exchange for the decryption key. In the context of databases, ransomware attacks can render the entire database inaccessible, causing significant disruption to business operations.\n",
        "\n",
        "Example: Imagine a ransomware attack on the Toad City Hospital's database. The attacker manages to infiltrate the hospital's network and deploy ransomware that encrypts all the data in the database. The hospital is then faced with a ransom demand to obtain the decryption key. Without access to critical patient information, the hospital's operations are severely hampered, and patient care is compromised.\n",
        "\n",
        "To mitigate the risk of ransomware, it's essential to maintain regular backups of the database, implement strong access controls, and have an incident response plan in place.\n",
        "\n",
        "Real-world example: In 2017, the WannaCry ransomware attack affected numerous organizations worldwide, including healthcare institutions. The UK's National Health Service (NHS) was significantly impacted, with multiple hospitals and clinics unable to access patient records and forced to cancel appointments and surgeries.\n",
        "\n",
        "These are just a few examples of the threats that databases face. In the upcoming sections, we will explore encryption techniques, data masking, data destruction, auditing, and more to learn how to effectively secure databases against these threats."
      ],
      "metadata": {
        "id": "XvD0jGjeOQdY"
      }
    },
    {
      "cell_type": "markdown",
      "source": [
        "### Graphic: Threats to Databases"
      ],
      "metadata": {
        "id": "mOvOHBpRntgb"
      }
    },
    {
      "cell_type": "code",
      "source": [
        "# @title\n",
        "mm(\"\"\"\n",
        "graph TD\n",
        "    classDef threat fill:#ff9999,stroke:#333,stroke-width:2px\n",
        "    classDef method fill:#ffff99,stroke:#333,stroke-width:2px\n",
        "    classDef impact fill:#ff99cc,stroke:#333,stroke-width:2px\n",
        "\n",
        "    DB[(\"Database<br>Security Threats\")]:::threat\n",
        "\n",
        "    SQL[\"SQL Injection\"]:::threat\n",
        "    DDOS[\"DDoS Attack\"]:::threat\n",
        "    BF[\"Brute Force\"]:::threat\n",
        "    MIM[\"Man in the Middle\"]:::threat\n",
        "\n",
        "    DB --> SQL\n",
        "    DB --> DDOS\n",
        "    DB --> BF\n",
        "    DB --> MIM\n",
        "\n",
        "    SQL --> SQL1[\"Attacker injects malicious<br>SQL code via input fields\"]:::method\n",
        "    SQL1 --> SQL2[\"Database executes harmful<br>commands, exposing data\"]:::impact\n",
        "\n",
        "    DDOS --> DDOS1[\"Multiple systems flood<br>database with requests\"]:::method\n",
        "    DDOS1 --> DDOS2[\"Server overwhelmed,<br>service unavailable\"]:::impact\n",
        "\n",
        "    BF --> BF1[\"Automated attempts to<br>guess credentials\"]:::method\n",
        "    BF1 --> BF2[\"Unauthorized database<br>access if successful\"]:::impact\n",
        "\n",
        "    MIM --> MIM1[\"Intercepts data between<br>client and database\"]:::method\n",
        "    MIM1 --> MIM2[\"Captures or modifies<br>sensitive information\"]:::impact\n",
        "\"\"\")"
      ],
      "metadata": {
        "cellView": "form",
        "id": "s9Fouk9inwJ9",
        "outputId": "1967d51a-1145-49a2-ff54-9b831283a126",
        "colab": {
          "base_uri": "https://localhost:8080/",
          "height": 721
        }
      },
      "execution_count": null,
      "outputs": [
        {
          "output_type": "display_data",
          "data": {
            "text/html": [
              "<img src=\"https://mermaid.ink/img/CmdyYXBoIFRECiAgICBjbGFzc0RlZiB0aHJlYXQgZmlsbDojZmY5OTk5LHN0cm9rZTojMzMzLHN0cm9rZS13aWR0aDoycHgKICAgIGNsYXNzRGVmIG1ldGhvZCBmaWxsOiNmZmZmOTksc3Ryb2tlOiMzMzMsc3Ryb2tlLXdpZHRoOjJweAogICAgY2xhc3NEZWYgaW1wYWN0IGZpbGw6I2ZmOTljYyxzdHJva2U6IzMzMyxzdHJva2Utd2lkdGg6MnB4CgogICAgREJbKCJEYXRhYmFzZTxicj5TZWN1cml0eSBUaHJlYXRzIildOjo6dGhyZWF0CgogICAgU1FMWyJTUUwgSW5qZWN0aW9uIl06Ojp0aHJlYXQKICAgIERET1NbIkREb1MgQXR0YWNrIl06Ojp0aHJlYXQKICAgIEJGWyJCcnV0ZSBGb3JjZSJdOjo6dGhyZWF0CiAgICBNSU1bIk1hbiBpbiB0aGUgTWlkZGxlIl06Ojp0aHJlYXQKCiAgICBEQiAtLT4gU1FMCiAgICBEQiAtLT4gRERPUwogICAgREIgLS0-IEJGCiAgICBEQiAtLT4gTUlNCgogICAgU1FMIC0tPiBTUUwxWyJBdHRhY2tlciBpbmplY3RzIG1hbGljaW91czxicj5TUUwgY29kZSB2aWEgaW5wdXQgZmllbGRzIl06OjptZXRob2QKICAgIFNRTDEgLS0-IFNRTDJbIkRhdGFiYXNlIGV4ZWN1dGVzIGhhcm1mdWw8YnI-Y29tbWFuZHMsIGV4cG9zaW5nIGRhdGEiXTo6OmltcGFjdAoKICAgIERET1MgLS0-IERET1MxWyJNdWx0aXBsZSBzeXN0ZW1zIGZsb29kPGJyPmRhdGFiYXNlIHdpdGggcmVxdWVzdHMiXTo6Om1ldGhvZAogICAgRERPUzEgLS0-IERET1MyWyJTZXJ2ZXIgb3ZlcndoZWxtZWQsPGJyPnNlcnZpY2UgdW5hdmFpbGFibGUiXTo6OmltcGFjdAoKICAgIEJGIC0tPiBCRjFbIkF1dG9tYXRlZCBhdHRlbXB0cyB0bzxicj5ndWVzcyBjcmVkZW50aWFscyJdOjo6bWV0aG9kCiAgICBCRjEgLS0-IEJGMlsiVW5hdXRob3JpemVkIGRhdGFiYXNlPGJyPmFjY2VzcyBpZiBzdWNjZXNzZnVsIl06OjppbXBhY3QKCiAgICBNSU0gLS0-IE1JTTFbIkludGVyY2VwdHMgZGF0YSBiZXR3ZWVuPGJyPmNsaWVudCBhbmQgZGF0YWJhc2UiXTo6Om1ldGhvZAogICAgTUlNMSAtLT4gTUlNMlsiQ2FwdHVyZXMgb3IgbW9kaWZpZXM8YnI-c2Vuc2l0aXZlIGluZm9ybWF0aW9uIl06OjppbXBhY3QK?width=1000&height=700\"/>"
            ],
            "text/plain": [
              "<IPython.core.display.Image object>"
            ]
          },
          "metadata": {}
        }
      ]
    },
    {
      "cell_type": "markdown",
      "source": [
        "## What is encryption and how does it protect databases?\n",
        "\n",
        "Encryption is the process of converting plain text or data into a coded format that is unreadable without the proper decryption key. It is a fundamental technique used to protect the confidentiality and integrity of data stored in databases. Encryption ensures that even if unauthorized individuals gain access to the encrypted data, they cannot decipher its contents without the decryption key.\n",
        "\n",
        "### Asymmetric vs Symmetric Encryption\n",
        "\n",
        "There are two main types of encryption: asymmetric encryption and symmetric encryption. Let's explore how they work and their roles in database security.\n",
        "\n",
        "#### Asymmetric Encryption (Public Key Cryptography)\n",
        "Asymmetric encryption uses two separate keys: a public key for encryption and a private key for decryption. The public key can be freely distributed, while the private key must be kept secret. When data is encrypted with the public key, only the corresponding private key can decrypt it. In the context of database security, asymmetric encryption is often used for secure communication between clients and the database server.\n",
        "\n",
        "For example, when a doctor at Toad City Hospital wants to access patient records from a remote location, they can use the hospital's public key to encrypt their login credentials. Only the database server, which holds the corresponding private key, can decrypt the credentials and authenticate the doctor's access. Asymmetric encryption is also used for digital signatures, which ensure the integrity and authenticity of data. When a doctor updates a patient's medical record, they can digitally sign the update using their private key. Anyone can then verify the signature using the doctor's public key, confirming that the update originated from the doctor and has not been tampered with.\n",
        "\n",
        "\n",
        "#### Symmetric Encryption\n",
        "Symmetric encryption uses a single secret key for both encryption and decryption. The same key must be securely shared between the sender and the receiver. When data is encrypted with the secret key, the same key is used to decrypt it. In database security, symmetric encryption is commonly used to encrypt data-at-rest, which refers to data stored on disk or in database tables.\n",
        "\n",
        "For example, the Toad City Hospital can use symmetric encryption to encrypt sensitive patient information, such as social security numbers or medical histories, before storing it in the database. Only authorized personnel with access to the secret key can decrypt and view the data. Symmetric encryption is faster and more efficient compared to asymmetric encryption, making it suitable for encrypting large amounts of data. However, the challenge lies in securely sharing the secret key between the parties involved.\n",
        "\n",
        "### Data-in-Transit vs Data-at-Rest\n",
        "\n",
        "Encryption can be applied to data in two states: data-in-transit and data-at-rest.\n",
        "\n",
        "**Data-in-transit** refers to data that is being transmitted over a network or communication channel. When sensitive data, such as patient information, is sent between the Toad City Hospital's client applications and the database server, it is crucial to encrypt the data to protect it from interception and eavesdropping. Secure communication protocols like HTTPS (HTTP Secure) and SSL/TLS (Secure Sockets Layer/Transport Layer Security) are used to establish an encrypted channel between the client and the server. These protocols use a combination of asymmetric and symmetric encryption to secure the data during transmission.\n",
        "\n",
        "\n",
        "**Data-at-rest** refers to data that is stored on a device or storage medium, such as a database server's hard drive. Encrypting data-at-rest ensures that even if an attacker gains physical access to the storage device, they cannot read the data without the decryption key. For example, the Toad City Hospital can encrypt the entire database or specific sensitive columns, such as patient social security numbers or medical histories, using symmetric encryption. The encryption key is securely stored and managed by the database management system or a separate key management system.\n",
        "\n",
        "### Client-side encryption, in-transit encryption, server-side encryption\n",
        "\n",
        "When it comes to encrypting data in a database system, there are different stages at which encryption can be applied: client-side encryption, in-transit encryption, and server-side encryption.\n",
        "\n",
        "1.  **Client-side encryption.** Data is encrypted on the client device before sending it to the database server. This ensures that the data remains encrypted throughout its journey from the client to the server. Client-side encryption provides an additional layer of security, as the database server never sees the unencrypted data.\n",
        "2.  **In-transit encryption.** As mentioned earlier, data-in-transit encryption protects data as it travels over the network between the client and the server. Secure communication protocols like HTTPS and SSL/TLS are used to establish an encrypted channel, preventing eavesdropping and tampering during transmission.\n",
        "3.  **Server-side encryption.** Data is encrypted on the database server before it is stored on disk. Server-side encryption protects data-at-rest and ensures that even if an attacker gains access to the database files, they cannot decipher the encrypted data without the decryption key. Server-side encryption can be implemented at the database level, file system level, or using specialized hardware."
      ],
      "metadata": {
        "id": "2xw0iZKFQGP4"
      }
    },
    {
      "cell_type": "markdown",
      "source": [
        "### Graphic: Symmetric and Assymetric Encryption"
      ],
      "metadata": {
        "id": "onmLwnpjoHZ8"
      }
    },
    {
      "cell_type": "code",
      "source": [
        "# @title\n",
        "mm(\"\"\"\n",
        "graph LR\n",
        "    classDef sender fill:#90EE90,stroke:#333,stroke-width:2px\n",
        "    classDef receiver fill:#87CEEB,stroke:#333,stroke-width:2px\n",
        "    classDef key fill:#FFD700,stroke:#333,stroke-width:2px\n",
        "    classDef process fill:#E6E6FA,stroke:#333,stroke-width:2px\n",
        "    classDef data fill:#FFA07A,stroke:#333,stroke-width:2px\n",
        "\n",
        "    subgraph Symmetric[\"Symmetric Encryption\"]\n",
        "        S_DR[\"Dr. Mario<br>(Sender)\"]:::sender\n",
        "        S_N[\"Nurse Toad<br>(Receiver)\"]:::receiver\n",
        "        S_SK[\"Shared Secret Key:<br>Super Mushroom\"]:::key\n",
        "        S_D[\"Patient Data\"]:::data\n",
        "        S_E[\"Encrypted Data\"]:::process\n",
        "\n",
        "        S_DR -->|\"Uses key to<br>encrypt\"| S_E\n",
        "        S_SK -->|\"Same key\"| S_DR\n",
        "        S_SK -->|\"Same key\"| S_N\n",
        "        S_E -->|\"Uses key to<br>decrypt\"| S_N\n",
        "    end\n",
        "\"\"\")"
      ],
      "metadata": {
        "cellView": "form",
        "id": "fC94VjkKoL3D",
        "outputId": "8e10eae8-b73a-49c0-d084-69d2e8cee5cd",
        "colab": {
          "base_uri": "https://localhost:8080/",
          "height": 721
        }
      },
      "execution_count": null,
      "outputs": [
        {
          "output_type": "display_data",
          "data": {
            "text/html": [
              "<img src=\"https://mermaid.ink/img/CmdyYXBoIExSCiAgICBjbGFzc0RlZiBzZW5kZXIgZmlsbDojOTBFRTkwLHN0cm9rZTojMzMzLHN0cm9rZS13aWR0aDoycHgKICAgIGNsYXNzRGVmIHJlY2VpdmVyIGZpbGw6Izg3Q0VFQixzdHJva2U6IzMzMyxzdHJva2Utd2lkdGg6MnB4CiAgICBjbGFzc0RlZiBrZXkgZmlsbDojRkZENzAwLHN0cm9rZTojMzMzLHN0cm9rZS13aWR0aDoycHgKICAgIGNsYXNzRGVmIHByb2Nlc3MgZmlsbDojRTZFNkZBLHN0cm9rZTojMzMzLHN0cm9rZS13aWR0aDoycHgKICAgIGNsYXNzRGVmIGRhdGEgZmlsbDojRkZBMDdBLHN0cm9rZTojMzMzLHN0cm9rZS13aWR0aDoycHgKCiAgICBzdWJncmFwaCBTeW1tZXRyaWNbIlN5bW1ldHJpYyBFbmNyeXB0aW9uIl0KICAgICAgICBTX0RSWyJEci4gTWFyaW88YnI-KFNlbmRlcikiXTo6OnNlbmRlcgogICAgICAgIFNfTlsiTnVyc2UgVG9hZDxicj4oUmVjZWl2ZXIpIl06OjpyZWNlaXZlcgogICAgICAgIFNfU0tbIlNoYXJlZCBTZWNyZXQgS2V5Ojxicj5TdXBlciBNdXNocm9vbSJdOjo6a2V5CiAgICAgICAgU19EWyJQYXRpZW50IERhdGEiXTo6OmRhdGEKICAgICAgICBTX0VbIkVuY3J5cHRlZCBEYXRhIl06Ojpwcm9jZXNzCiAgICAgICAgCiAgICAgICAgU19EUiAtLT58IlVzZXMga2V5IHRvPGJyPmVuY3J5cHQifCBTX0UKICAgICAgICBTX1NLIC0tPnwiU2FtZSBrZXkifCBTX0RSCiAgICAgICAgU19TSyAtLT58IlNhbWUga2V5InwgU19OCiAgICAgICAgU19FIC0tPnwiVXNlcyBrZXkgdG88YnI-ZGVjcnlwdCJ8IFNfTgogICAgZW5kCg==?width=1000&height=700\"/>"
            ],
            "text/plain": [
              "<IPython.core.display.Image object>"
            ]
          },
          "metadata": {}
        }
      ]
    },
    {
      "cell_type": "code",
      "source": [
        "# @title\n",
        "mm(\"\"\"\n",
        "graph TB\n",
        "    classDef sender fill:#90EE90,stroke:#333,stroke-width:2px\n",
        "    classDef receiver fill:#87CEEB,stroke:#333,stroke-width:2px\n",
        "    classDef key fill:#FFD700,stroke:#333,stroke-width:2px\n",
        "    classDef process fill:#E6E6FA,stroke:#333,stroke-width:2px\n",
        "    classDef data fill:#FFA07A,stroke:#333,stroke-width:2px\n",
        "\n",
        "    subgraph Asymmetric[\"Asymmetric Encryption\"]\n",
        "        A_DR[\"Dr. Mario<br>(Sender)\"]:::sender\n",
        "        A_N[\"Nurse Toad<br>(Receiver)\"]:::receiver\n",
        "        A_PUB[\"Public Key:<br>Star Power\"]:::key\n",
        "        A_PRIV[\"Private Key:<br>1-Up\"]:::key\n",
        "        A_D[\"Patient Data\"]:::data\n",
        "        A_E[\"Encrypted Data\"]:::process\n",
        "\n",
        "        A_DR -->|\"Encrypts with<br>public key\"| A_E\n",
        "        A_PUB --> A_DR\n",
        "        A_E -->|\"Decrypts with<br>private key\"| A_N\n",
        "        A_PRIV --> A_N\n",
        "    end\n",
        "\"\"\")"
      ],
      "metadata": {
        "cellView": "form",
        "id": "zSLCo2iGojZD",
        "outputId": "1ca86da7-6de0-484a-9afc-3eecb76d4f4b",
        "colab": {
          "base_uri": "https://localhost:8080/",
          "height": 721
        }
      },
      "execution_count": null,
      "outputs": [
        {
          "output_type": "display_data",
          "data": {
            "text/html": [
              "<img src=\"https://mermaid.ink/img/CmdyYXBoIFRCCiAgICBjbGFzc0RlZiBzZW5kZXIgZmlsbDojOTBFRTkwLHN0cm9rZTojMzMzLHN0cm9rZS13aWR0aDoycHgKICAgIGNsYXNzRGVmIHJlY2VpdmVyIGZpbGw6Izg3Q0VFQixzdHJva2U6IzMzMyxzdHJva2Utd2lkdGg6MnB4CiAgICBjbGFzc0RlZiBrZXkgZmlsbDojRkZENzAwLHN0cm9rZTojMzMzLHN0cm9rZS13aWR0aDoycHgKICAgIGNsYXNzRGVmIHByb2Nlc3MgZmlsbDojRTZFNkZBLHN0cm9rZTojMzMzLHN0cm9rZS13aWR0aDoycHgKICAgIGNsYXNzRGVmIGRhdGEgZmlsbDojRkZBMDdBLHN0cm9rZTojMzMzLHN0cm9rZS13aWR0aDoycHgKICAgIAogICAgc3ViZ3JhcGggQXN5bW1ldHJpY1siQXN5bW1ldHJpYyBFbmNyeXB0aW9uIl0KICAgICAgICBBX0RSWyJEci4gTWFyaW88YnI-KFNlbmRlcikiXTo6OnNlbmRlcgogICAgICAgIEFfTlsiTnVyc2UgVG9hZDxicj4oUmVjZWl2ZXIpIl06OjpyZWNlaXZlcgogICAgICAgIEFfUFVCWyJQdWJsaWMgS2V5Ojxicj5TdGFyIFBvd2VyIl06OjprZXkKICAgICAgICBBX1BSSVZbIlByaXZhdGUgS2V5Ojxicj4xLVVwIl06OjprZXkKICAgICAgICBBX0RbIlBhdGllbnQgRGF0YSJdOjo6ZGF0YQogICAgICAgIEFfRVsiRW5jcnlwdGVkIERhdGEiXTo6OnByb2Nlc3MKICAgICAgICAKICAgICAgICBBX0RSIC0tPnwiRW5jcnlwdHMgd2l0aDxicj5wdWJsaWMga2V5InwgQV9FCiAgICAgICAgQV9QVUIgLS0-IEFfRFIKICAgICAgICBBX0UgLS0-fCJEZWNyeXB0cyB3aXRoPGJyPnByaXZhdGUga2V5InwgQV9OCiAgICAgICAgQV9QUklWIC0tPiBBX04KICAgIGVuZAo=?width=1000&height=700\"/>"
            ],
            "text/plain": [
              "<IPython.core.display.Image object>"
            ]
          },
          "metadata": {}
        }
      ]
    },
    {
      "cell_type": "markdown",
      "source": [
        "### Example of a Postgres encrypted column\n",
        "\n",
        "Let's consider an example of encrypting sensitive patient data in the Toad City Hospital's PostgreSQL database. We'll focus on encrypting the social security numbers (SSN) of patients using **symmetric encryption** for **at-rest** data.\n",
        "\n",
        "Suppose we have a table named `patients` with a column `ssn` that needs to be encrypted. We can use the `pgcrypto` extension in PostgreSQL to encrypt the data using symmetric encryption."
      ],
      "metadata": {
        "id": "c3z7jNsoQOOW"
      }
    },
    {
      "cell_type": "code",
      "source": [
        "%%sql\n",
        "-- To use encyption, we need to enable an extension\n",
        "CREATE EXTENSION IF NOT EXISTS pgcrypto;\n",
        "\n",
        "DELETE FROM patients;\n",
        "\n",
        "INSERT INTO patients (name, date_of_birth, social_security_number, medical_history)\n",
        "VALUES\n",
        "  ('Mario Mario', '1981-07-09', pgp_sym_encrypt('123-45-6789', 'my_secret_key'), '{\"allergies\": \"none\", \"medications\": \"none\"}'),\n",
        "  ('Luigi Mario', '1983-07-14', pgp_sym_encrypt('987-65-4321', 'my_secret_key'), '{\"allergies\": \"pollen\", \"medications\": \"none\"}'),\n",
        "  ('Princess Peach', '1985-10-18', pgp_sym_encrypt('456-78-9123', 'my_secret_key'), '{\"allergies\": \"none\", \"medications\": \"none\"}'),\n",
        "  ('Yoshi', '1990-11-21', pgp_sym_encrypt('789-01-2345', 'my_secret_key'), '{\"allergies\": \"none\", \"medications\": \"none\"}'),\n",
        "  ('Toad', '1985-07-14', pgp_sym_encrypt('567-89-0123', 'my_secret_key'), '{\"allergies\": \"none\", \"medications\": \"none\"}');\n",
        "\n",
        "SELECT * FROM patients LIMIT 5;"
      ],
      "metadata": {
        "colab": {
          "base_uri": "https://localhost:8080/",
          "height": 258
        },
        "id": "kPwYnhXRQVaV",
        "outputId": "bef4c3bc-25d4-4df3-d113-265575e1af52"
      },
      "execution_count": null,
      "outputs": [
        {
          "output_type": "display_data",
          "data": {
            "text/plain": [
              "Running query in 'postgresql+psycopg2://@/postgres'"
            ],
            "text/html": [
              "<span style=\"None\">Running query in &#x27;postgresql+psycopg2://@/postgres&#x27;</span>"
            ]
          },
          "metadata": {}
        },
        {
          "output_type": "display_data",
          "data": {
            "text/plain": [
              "5 rows affected."
            ],
            "text/html": [
              "<span style=\"color: green\">5 rows affected.</span>"
            ]
          },
          "metadata": {}
        },
        {
          "output_type": "display_data",
          "data": {
            "text/plain": [
              "5 rows affected."
            ],
            "text/html": [
              "<span style=\"color: green\">5 rows affected.</span>"
            ]
          },
          "metadata": {}
        },
        {
          "output_type": "execute_result",
          "data": {
            "text/plain": [
              "   patient_id            name date_of_birth  \\\n",
              "0           1     Mario Mario    1981-07-09   \n",
              "1           2     Luigi Mario    1983-07-14   \n",
              "2           3  Princess Peach    1985-10-18   \n",
              "3           4           Yoshi    1990-11-21   \n",
              "4           5            Toad    1985-07-14   \n",
              "\n",
              "                              social_security_number  \\\n",
              "0  \\xc30d040703027d4cd2cba96eb15b6fd23c015dbbacde...   \n",
              "1  \\xc30d04070302d28f835d76242def71d23c0165f64694...   \n",
              "2  \\xc30d0407030212e312d5191b6bd97dd23c016213895e...   \n",
              "3  \\xc30d0407030208be55eb9411b06971d23c01c92e1bda...   \n",
              "4  \\xc30d04070302a28aa3eac04ad29778d23c01742a8ed0...   \n",
              "\n",
              "                                  medical_history  \n",
              "0    {'allergies': 'none', 'medications': 'none'}  \n",
              "1  {'allergies': 'pollen', 'medications': 'none'}  \n",
              "2    {'allergies': 'none', 'medications': 'none'}  \n",
              "3    {'allergies': 'none', 'medications': 'none'}  \n",
              "4    {'allergies': 'none', 'medications': 'none'}  "
            ],
            "text/html": [
              "\n",
              "  <div id=\"df-60009901-2ea4-46db-85ff-92364d42e47c\" class=\"colab-df-container\">\n",
              "    <div>\n",
              "<style scoped>\n",
              "    .dataframe tbody tr th:only-of-type {\n",
              "        vertical-align: middle;\n",
              "    }\n",
              "\n",
              "    .dataframe tbody tr th {\n",
              "        vertical-align: top;\n",
              "    }\n",
              "\n",
              "    .dataframe thead th {\n",
              "        text-align: right;\n",
              "    }\n",
              "</style>\n",
              "<table border=\"1\" class=\"dataframe\">\n",
              "  <thead>\n",
              "    <tr style=\"text-align: right;\">\n",
              "      <th></th>\n",
              "      <th>patient_id</th>\n",
              "      <th>name</th>\n",
              "      <th>date_of_birth</th>\n",
              "      <th>social_security_number</th>\n",
              "      <th>medical_history</th>\n",
              "    </tr>\n",
              "  </thead>\n",
              "  <tbody>\n",
              "    <tr>\n",
              "      <th>0</th>\n",
              "      <td>1</td>\n",
              "      <td>Mario Mario</td>\n",
              "      <td>1981-07-09</td>\n",
              "      <td>\\xc30d040703027d4cd2cba96eb15b6fd23c015dbbacde...</td>\n",
              "      <td>{'allergies': 'none', 'medications': 'none'}</td>\n",
              "    </tr>\n",
              "    <tr>\n",
              "      <th>1</th>\n",
              "      <td>2</td>\n",
              "      <td>Luigi Mario</td>\n",
              "      <td>1983-07-14</td>\n",
              "      <td>\\xc30d04070302d28f835d76242def71d23c0165f64694...</td>\n",
              "      <td>{'allergies': 'pollen', 'medications': 'none'}</td>\n",
              "    </tr>\n",
              "    <tr>\n",
              "      <th>2</th>\n",
              "      <td>3</td>\n",
              "      <td>Princess Peach</td>\n",
              "      <td>1985-10-18</td>\n",
              "      <td>\\xc30d0407030212e312d5191b6bd97dd23c016213895e...</td>\n",
              "      <td>{'allergies': 'none', 'medications': 'none'}</td>\n",
              "    </tr>\n",
              "    <tr>\n",
              "      <th>3</th>\n",
              "      <td>4</td>\n",
              "      <td>Yoshi</td>\n",
              "      <td>1990-11-21</td>\n",
              "      <td>\\xc30d0407030208be55eb9411b06971d23c01c92e1bda...</td>\n",
              "      <td>{'allergies': 'none', 'medications': 'none'}</td>\n",
              "    </tr>\n",
              "    <tr>\n",
              "      <th>4</th>\n",
              "      <td>5</td>\n",
              "      <td>Toad</td>\n",
              "      <td>1985-07-14</td>\n",
              "      <td>\\xc30d04070302a28aa3eac04ad29778d23c01742a8ed0...</td>\n",
              "      <td>{'allergies': 'none', 'medications': 'none'}</td>\n",
              "    </tr>\n",
              "  </tbody>\n",
              "</table>\n",
              "</div>\n",
              "    <div class=\"colab-df-buttons\">\n",
              "\n",
              "  <div class=\"colab-df-container\">\n",
              "    <button class=\"colab-df-convert\" onclick=\"convertToInteractive('df-60009901-2ea4-46db-85ff-92364d42e47c')\"\n",
              "            title=\"Convert this dataframe to an interactive table.\"\n",
              "            style=\"display:none;\">\n",
              "\n",
              "  <svg xmlns=\"http://www.w3.org/2000/svg\" height=\"24px\" viewBox=\"0 -960 960 960\">\n",
              "    <path d=\"M120-120v-720h720v720H120Zm60-500h600v-160H180v160Zm220 220h160v-160H400v160Zm0 220h160v-160H400v160ZM180-400h160v-160H180v160Zm440 0h160v-160H620v160ZM180-180h160v-160H180v160Zm440 0h160v-160H620v160Z\"/>\n",
              "  </svg>\n",
              "    </button>\n",
              "\n",
              "  <style>\n",
              "    .colab-df-container {\n",
              "      display:flex;\n",
              "      gap: 12px;\n",
              "    }\n",
              "\n",
              "    .colab-df-convert {\n",
              "      background-color: #E8F0FE;\n",
              "      border: none;\n",
              "      border-radius: 50%;\n",
              "      cursor: pointer;\n",
              "      display: none;\n",
              "      fill: #1967D2;\n",
              "      height: 32px;\n",
              "      padding: 0 0 0 0;\n",
              "      width: 32px;\n",
              "    }\n",
              "\n",
              "    .colab-df-convert:hover {\n",
              "      background-color: #E2EBFA;\n",
              "      box-shadow: 0px 1px 2px rgba(60, 64, 67, 0.3), 0px 1px 3px 1px rgba(60, 64, 67, 0.15);\n",
              "      fill: #174EA6;\n",
              "    }\n",
              "\n",
              "    .colab-df-buttons div {\n",
              "      margin-bottom: 4px;\n",
              "    }\n",
              "\n",
              "    [theme=dark] .colab-df-convert {\n",
              "      background-color: #3B4455;\n",
              "      fill: #D2E3FC;\n",
              "    }\n",
              "\n",
              "    [theme=dark] .colab-df-convert:hover {\n",
              "      background-color: #434B5C;\n",
              "      box-shadow: 0px 1px 3px 1px rgba(0, 0, 0, 0.15);\n",
              "      filter: drop-shadow(0px 1px 2px rgba(0, 0, 0, 0.3));\n",
              "      fill: #FFFFFF;\n",
              "    }\n",
              "  </style>\n",
              "\n",
              "    <script>\n",
              "      const buttonEl =\n",
              "        document.querySelector('#df-60009901-2ea4-46db-85ff-92364d42e47c button.colab-df-convert');\n",
              "      buttonEl.style.display =\n",
              "        google.colab.kernel.accessAllowed ? 'block' : 'none';\n",
              "\n",
              "      async function convertToInteractive(key) {\n",
              "        const element = document.querySelector('#df-60009901-2ea4-46db-85ff-92364d42e47c');\n",
              "        const dataTable =\n",
              "          await google.colab.kernel.invokeFunction('convertToInteractive',\n",
              "                                                    [key], {});\n",
              "        if (!dataTable) return;\n",
              "\n",
              "        const docLinkHtml = 'Like what you see? Visit the ' +\n",
              "          '<a target=\"_blank\" href=https://colab.research.google.com/notebooks/data_table.ipynb>data table notebook</a>'\n",
              "          + ' to learn more about interactive tables.';\n",
              "        element.innerHTML = '';\n",
              "        dataTable['output_type'] = 'display_data';\n",
              "        await google.colab.output.renderOutput(dataTable, element);\n",
              "        const docLink = document.createElement('div');\n",
              "        docLink.innerHTML = docLinkHtml;\n",
              "        element.appendChild(docLink);\n",
              "      }\n",
              "    </script>\n",
              "  </div>\n",
              "\n",
              "\n",
              "<div id=\"df-68f81a83-8cd1-4b74-ab3f-59d009197a93\">\n",
              "  <button class=\"colab-df-quickchart\" onclick=\"quickchart('df-68f81a83-8cd1-4b74-ab3f-59d009197a93')\"\n",
              "            title=\"Suggest charts\"\n",
              "            style=\"display:none;\">\n",
              "\n",
              "<svg xmlns=\"http://www.w3.org/2000/svg\" height=\"24px\"viewBox=\"0 0 24 24\"\n",
              "     width=\"24px\">\n",
              "    <g>\n",
              "        <path d=\"M19 3H5c-1.1 0-2 .9-2 2v14c0 1.1.9 2 2 2h14c1.1 0 2-.9 2-2V5c0-1.1-.9-2-2-2zM9 17H7v-7h2v7zm4 0h-2V7h2v10zm4 0h-2v-4h2v4z\"/>\n",
              "    </g>\n",
              "</svg>\n",
              "  </button>\n",
              "\n",
              "<style>\n",
              "  .colab-df-quickchart {\n",
              "      --bg-color: #E8F0FE;\n",
              "      --fill-color: #1967D2;\n",
              "      --hover-bg-color: #E2EBFA;\n",
              "      --hover-fill-color: #174EA6;\n",
              "      --disabled-fill-color: #AAA;\n",
              "      --disabled-bg-color: #DDD;\n",
              "  }\n",
              "\n",
              "  [theme=dark] .colab-df-quickchart {\n",
              "      --bg-color: #3B4455;\n",
              "      --fill-color: #D2E3FC;\n",
              "      --hover-bg-color: #434B5C;\n",
              "      --hover-fill-color: #FFFFFF;\n",
              "      --disabled-bg-color: #3B4455;\n",
              "      --disabled-fill-color: #666;\n",
              "  }\n",
              "\n",
              "  .colab-df-quickchart {\n",
              "    background-color: var(--bg-color);\n",
              "    border: none;\n",
              "    border-radius: 50%;\n",
              "    cursor: pointer;\n",
              "    display: none;\n",
              "    fill: var(--fill-color);\n",
              "    height: 32px;\n",
              "    padding: 0;\n",
              "    width: 32px;\n",
              "  }\n",
              "\n",
              "  .colab-df-quickchart:hover {\n",
              "    background-color: var(--hover-bg-color);\n",
              "    box-shadow: 0 1px 2px rgba(60, 64, 67, 0.3), 0 1px 3px 1px rgba(60, 64, 67, 0.15);\n",
              "    fill: var(--button-hover-fill-color);\n",
              "  }\n",
              "\n",
              "  .colab-df-quickchart-complete:disabled,\n",
              "  .colab-df-quickchart-complete:disabled:hover {\n",
              "    background-color: var(--disabled-bg-color);\n",
              "    fill: var(--disabled-fill-color);\n",
              "    box-shadow: none;\n",
              "  }\n",
              "\n",
              "  .colab-df-spinner {\n",
              "    border: 2px solid var(--fill-color);\n",
              "    border-color: transparent;\n",
              "    border-bottom-color: var(--fill-color);\n",
              "    animation:\n",
              "      spin 1s steps(1) infinite;\n",
              "  }\n",
              "\n",
              "  @keyframes spin {\n",
              "    0% {\n",
              "      border-color: transparent;\n",
              "      border-bottom-color: var(--fill-color);\n",
              "      border-left-color: var(--fill-color);\n",
              "    }\n",
              "    20% {\n",
              "      border-color: transparent;\n",
              "      border-left-color: var(--fill-color);\n",
              "      border-top-color: var(--fill-color);\n",
              "    }\n",
              "    30% {\n",
              "      border-color: transparent;\n",
              "      border-left-color: var(--fill-color);\n",
              "      border-top-color: var(--fill-color);\n",
              "      border-right-color: var(--fill-color);\n",
              "    }\n",
              "    40% {\n",
              "      border-color: transparent;\n",
              "      border-right-color: var(--fill-color);\n",
              "      border-top-color: var(--fill-color);\n",
              "    }\n",
              "    60% {\n",
              "      border-color: transparent;\n",
              "      border-right-color: var(--fill-color);\n",
              "    }\n",
              "    80% {\n",
              "      border-color: transparent;\n",
              "      border-right-color: var(--fill-color);\n",
              "      border-bottom-color: var(--fill-color);\n",
              "    }\n",
              "    90% {\n",
              "      border-color: transparent;\n",
              "      border-bottom-color: var(--fill-color);\n",
              "    }\n",
              "  }\n",
              "</style>\n",
              "\n",
              "  <script>\n",
              "    async function quickchart(key) {\n",
              "      const quickchartButtonEl =\n",
              "        document.querySelector('#' + key + ' button');\n",
              "      quickchartButtonEl.disabled = true;  // To prevent multiple clicks.\n",
              "      quickchartButtonEl.classList.add('colab-df-spinner');\n",
              "      try {\n",
              "        const charts = await google.colab.kernel.invokeFunction(\n",
              "            'suggestCharts', [key], {});\n",
              "      } catch (error) {\n",
              "        console.error('Error during call to suggestCharts:', error);\n",
              "      }\n",
              "      quickchartButtonEl.classList.remove('colab-df-spinner');\n",
              "      quickchartButtonEl.classList.add('colab-df-quickchart-complete');\n",
              "    }\n",
              "    (() => {\n",
              "      let quickchartButtonEl =\n",
              "        document.querySelector('#df-68f81a83-8cd1-4b74-ab3f-59d009197a93 button');\n",
              "      quickchartButtonEl.style.display =\n",
              "        google.colab.kernel.accessAllowed ? 'block' : 'none';\n",
              "    })();\n",
              "  </script>\n",
              "</div>\n",
              "\n",
              "    </div>\n",
              "  </div>\n"
            ],
            "application/vnd.google.colaboratory.intrinsic+json": {
              "type": "dataframe",
              "summary": "{\n  \"name\": \"get_ipython()\",\n  \"rows\": 5,\n  \"fields\": [\n    {\n      \"column\": \"patient_id\",\n      \"properties\": {\n        \"dtype\": \"number\",\n        \"std\": 1,\n        \"min\": 1,\n        \"max\": 5,\n        \"num_unique_values\": 5,\n        \"samples\": [\n          2,\n          5,\n          3\n        ],\n        \"semantic_type\": \"\",\n        \"description\": \"\"\n      }\n    },\n    {\n      \"column\": \"name\",\n      \"properties\": {\n        \"dtype\": \"string\",\n        \"num_unique_values\": 5,\n        \"samples\": [\n          \"Luigi Mario\",\n          \"Toad\",\n          \"Princess Peach\"\n        ],\n        \"semantic_type\": \"\",\n        \"description\": \"\"\n      }\n    },\n    {\n      \"column\": \"date_of_birth\",\n      \"properties\": {\n        \"dtype\": \"date\",\n        \"min\": \"1981-07-09\",\n        \"max\": \"1990-11-21\",\n        \"num_unique_values\": 5,\n        \"samples\": [\n          \"1983-07-14\",\n          \"1985-07-14\",\n          \"1985-10-18\"\n        ],\n        \"semantic_type\": \"\",\n        \"description\": \"\"\n      }\n    },\n    {\n      \"column\": \"social_security_number\",\n      \"properties\": {\n        \"dtype\": \"string\",\n        \"num_unique_values\": 5,\n        \"samples\": [\n          \"\\\\xc30d04070302d28f835d76242def71d23c0165f64694194bf1eec63ce9f7d94d199045b2ebbb3c6998bc35248e342db2b004d957c86be498db042b563e21e4ca4139627b26151b028eec42ec19\",\n          \"\\\\xc30d04070302a28aa3eac04ad29778d23c01742a8ed07833d225dbb70ffc42a14c03ca907e1b227e843a429fca339d89ad1f88d7c060eaa15d367e4f3bcbd5dfb72780860e01b2799877d7abd6\",\n          \"\\\\xc30d0407030212e312d5191b6bd97dd23c016213895e843510c0d0120c46ac0c513ee8c21bc15d27fbde838e4e5a99674c70294ab8dd720ee4ba8bea42d63497deb979a56f6966690c63bf23b1\"\n        ],\n        \"semantic_type\": \"\",\n        \"description\": \"\"\n      }\n    },\n    {\n      \"column\": \"medical_history\",\n      \"properties\": {\n        \"dtype\": \"object\",\n        \"semantic_type\": \"\",\n        \"description\": \"\"\n      }\n    }\n  ]\n}"
            }
          },
          "metadata": {},
          "execution_count": 3
        }
      ]
    },
    {
      "cell_type": "markdown",
      "source": [
        "As you can see, the ssn numbers have now been encrypted, so they cannot be without knowing the key.\n",
        "\n",
        "To decrypt the SSN value, we can use the pgp_sym_decrypt function with the same secret key:"
      ],
      "metadata": {
        "id": "y5vO2pwmRYnl"
      }
    },
    {
      "cell_type": "code",
      "source": [
        "%%sql\n",
        "\n",
        "SELECT\n",
        "  patient_id,\n",
        "  name,\n",
        "  date_of_birth,\n",
        "  pgp_sym_decrypt(social_security_number::bytea, 'my_secret_key') AS social_security_number,\n",
        "  medical_history\n",
        "FROM patients;\n"
      ],
      "metadata": {
        "colab": {
          "base_uri": "https://localhost:8080/",
          "height": 284
        },
        "id": "B5kfR5cGOjuv",
        "outputId": "35bebf59-7891-40bf-a55d-fb0995589550"
      },
      "execution_count": null,
      "outputs": [
        {
          "output_type": "stream",
          "name": "stdout",
          "text": [
            " * postgresql+psycopg2://@/postgres\n",
            "10 rows affected.\n"
          ]
        },
        {
          "output_type": "execute_result",
          "data": {
            "text/plain": [
              "[(1, 'Mario Mario', datetime.date(1981, 7, 9), '123-45-6789', {'allergies': 'none', 'medications': 'none'}),\n",
              " (2, 'Luigi Mario', datetime.date(1983, 7, 14), '987-65-4321', {'allergies': 'pollen', 'medications': 'none'}),\n",
              " (3, 'Princess Peach', datetime.date(1985, 10, 18), '456-78-9123', {'allergies': 'none', 'medications': 'none'}),\n",
              " (4, 'Yoshi', datetime.date(1990, 11, 21), '789-01-2345', {'allergies': 'none', 'medications': 'none'}),\n",
              " (5, 'Toad', datetime.date(1985, 7, 14), '567-89-0123', {'allergies': 'none', 'medications': 'none'}),\n",
              " (6, 'Bowser', datetime.date(1980, 9, 13), '321-65-9874', {'allergies': 'none', 'medications': 'fire'}),\n",
              " (7, 'Daisy', datetime.date(1989, 4, 20), '654-32-1987', {'allergies': 'none', 'medications': 'none'}),\n",
              " (8, 'Wario', datetime.date(1992, 3, 19), '234-56-7891', {'allergies': 'none', 'medications': 'none'}),\n",
              " (9, 'Waluigi', datetime.date(1992, 4, 1), '890-12-3456', {'allergies': 'none', 'medications': 'none'}),\n",
              " (10, 'Rosalina', datetime.date(2007, 11, 12), '345-67-8901', {'allergies': 'none', 'medications': 'none'})]"
            ],
            "text/html": [
              "<table>\n",
              "    <thead>\n",
              "        <tr>\n",
              "            <th>patient_id</th>\n",
              "            <th>name</th>\n",
              "            <th>date_of_birth</th>\n",
              "            <th>social_security_number</th>\n",
              "            <th>medical_history</th>\n",
              "        </tr>\n",
              "    </thead>\n",
              "    <tbody>\n",
              "        <tr>\n",
              "            <td>1</td>\n",
              "            <td>Mario Mario</td>\n",
              "            <td>1981-07-09</td>\n",
              "            <td>123-45-6789</td>\n",
              "            <td>{&#x27;allergies&#x27;: &#x27;none&#x27;, &#x27;medications&#x27;: &#x27;none&#x27;}</td>\n",
              "        </tr>\n",
              "        <tr>\n",
              "            <td>2</td>\n",
              "            <td>Luigi Mario</td>\n",
              "            <td>1983-07-14</td>\n",
              "            <td>987-65-4321</td>\n",
              "            <td>{&#x27;allergies&#x27;: &#x27;pollen&#x27;, &#x27;medications&#x27;: &#x27;none&#x27;}</td>\n",
              "        </tr>\n",
              "        <tr>\n",
              "            <td>3</td>\n",
              "            <td>Princess Peach</td>\n",
              "            <td>1985-10-18</td>\n",
              "            <td>456-78-9123</td>\n",
              "            <td>{&#x27;allergies&#x27;: &#x27;none&#x27;, &#x27;medications&#x27;: &#x27;none&#x27;}</td>\n",
              "        </tr>\n",
              "        <tr>\n",
              "            <td>4</td>\n",
              "            <td>Yoshi</td>\n",
              "            <td>1990-11-21</td>\n",
              "            <td>789-01-2345</td>\n",
              "            <td>{&#x27;allergies&#x27;: &#x27;none&#x27;, &#x27;medications&#x27;: &#x27;none&#x27;}</td>\n",
              "        </tr>\n",
              "        <tr>\n",
              "            <td>5</td>\n",
              "            <td>Toad</td>\n",
              "            <td>1985-07-14</td>\n",
              "            <td>567-89-0123</td>\n",
              "            <td>{&#x27;allergies&#x27;: &#x27;none&#x27;, &#x27;medications&#x27;: &#x27;none&#x27;}</td>\n",
              "        </tr>\n",
              "        <tr>\n",
              "            <td>6</td>\n",
              "            <td>Bowser</td>\n",
              "            <td>1980-09-13</td>\n",
              "            <td>321-65-9874</td>\n",
              "            <td>{&#x27;allergies&#x27;: &#x27;none&#x27;, &#x27;medications&#x27;: &#x27;fire&#x27;}</td>\n",
              "        </tr>\n",
              "        <tr>\n",
              "            <td>7</td>\n",
              "            <td>Daisy</td>\n",
              "            <td>1989-04-20</td>\n",
              "            <td>654-32-1987</td>\n",
              "            <td>{&#x27;allergies&#x27;: &#x27;none&#x27;, &#x27;medications&#x27;: &#x27;none&#x27;}</td>\n",
              "        </tr>\n",
              "        <tr>\n",
              "            <td>8</td>\n",
              "            <td>Wario</td>\n",
              "            <td>1992-03-19</td>\n",
              "            <td>234-56-7891</td>\n",
              "            <td>{&#x27;allergies&#x27;: &#x27;none&#x27;, &#x27;medications&#x27;: &#x27;none&#x27;}</td>\n",
              "        </tr>\n",
              "        <tr>\n",
              "            <td>9</td>\n",
              "            <td>Waluigi</td>\n",
              "            <td>1992-04-01</td>\n",
              "            <td>890-12-3456</td>\n",
              "            <td>{&#x27;allergies&#x27;: &#x27;none&#x27;, &#x27;medications&#x27;: &#x27;none&#x27;}</td>\n",
              "        </tr>\n",
              "        <tr>\n",
              "            <td>10</td>\n",
              "            <td>Rosalina</td>\n",
              "            <td>2007-11-12</td>\n",
              "            <td>345-67-8901</td>\n",
              "            <td>{&#x27;allergies&#x27;: &#x27;none&#x27;, &#x27;medications&#x27;: &#x27;none&#x27;}</td>\n",
              "        </tr>\n",
              "    </tbody>\n",
              "</table>"
            ]
          },
          "metadata": {},
          "execution_count": 10
        }
      ]
    },
    {
      "cell_type": "markdown",
      "source": [
        "By encrypting sensitive data like social security numbers, the Toad City Hospital adds an extra layer of protection to its database. Even if an attacker gains access to the database, they would need the secret key to decrypt and make sense of the encrypted data.\n",
        "In the next section, we will explore data masking techniques and how they can be used to protect sensitive information in databases."
      ],
      "metadata": {
        "id": "oWtKDrBuS4xX"
      }
    },
    {
      "cell_type": "markdown",
      "source": [
        "## Data Masking: Protecting Sensitive Information\n",
        "\n",
        "Data masking is a technique used to protect sensitive information by replacing it with fictitious but realistic data. The purpose of data masking is to create a version of the data that can be used for non-production purposes, such as testing, development, or analytics, without exposing the real sensitive information.\n",
        "\n",
        "Data masking is particularly important in scenarios where sensitive data needs to be shared with third parties or used in less secure environments. By masking the sensitive data, organizations can:\n",
        "\n",
        "-   Comply with data privacy regulations, such as HIPAA or GDPR\n",
        "-   Protect personally identifiable information (PII) and other sensitive data\n",
        "-   Reduce the risk of data breaches and unauthorized access\n",
        "-   Enable the use of realistic data for testing and development while maintaining data confidentiality\n",
        "\n",
        "There are different types of data masking techniques, including:\n",
        "\n",
        "-   **Static data masking**: Sensitive data is masked in a separate copy of the database, creating a masked version that can be used for non-production purposes.\n",
        "-   **Dynamic data masking**: Masking is applied in real-time when the data is queried, providing different views of the data based on user roles and permissions.\n",
        "-   **Deterministic masking**: The same input value always generates the same masked output, preserving data consistency across multiple databases or applications.\n",
        "-   **Random masking**: Sensitive data is replaced with randomly generated values, making it impossible to reverse-engineer the original data.\n",
        "\n",
        "### Implementing Data Masking in PostgreSQL\n",
        "\n",
        "Let's walk through an example of implementing static data masking in PostgreSQL using the `patients` table. Let's begin by creating a copy of this table that will store our masked data."
      ],
      "metadata": {
        "id": "lY4cpN8xTzJt"
      }
    },
    {
      "cell_type": "code",
      "source": [
        "%%sql\n",
        "DROP TABLE IF EXISTS patients_masked;\n",
        "CREATE TABLE patients_masked (\n",
        "  patient_id SERIAL PRIMARY KEY,\n",
        "  name VARCHAR(100) NOT NULL,\n",
        "  date_of_birth DATE NOT NULL,\n",
        "  social_security_number VARCHAR(200) NOT NULL,\n",
        "  medical_history JSONB\n",
        ");"
      ],
      "metadata": {
        "colab": {
          "base_uri": "https://localhost:8080/"
        },
        "id": "lsAaPtl5UGlJ",
        "outputId": "35a73a21-58ad-45c7-db6d-a34bdb290140"
      },
      "execution_count": null,
      "outputs": [
        {
          "output_type": "stream",
          "name": "stdout",
          "text": [
            " * postgresql+psycopg2://@/postgres\n",
            "Done.\n",
            "Done.\n"
          ]
        },
        {
          "output_type": "execute_result",
          "data": {
            "text/plain": [
              "[]"
            ]
          },
          "metadata": {},
          "execution_count": 18
        }
      ]
    },
    {
      "cell_type": "markdown",
      "source": [
        "Now, let's again insert our original patient (with unecrypted social security numbers)."
      ],
      "metadata": {
        "id": "IGS1CaidUuW6"
      }
    },
    {
      "cell_type": "code",
      "source": [
        "%%sql\n",
        "DELETE FROM patients;\n",
        "\n",
        "INSERT INTO patients (name, date_of_birth, social_security_number, medical_history)\n",
        "VALUES\n",
        "  ('Mario Mario', '1981-07-09', '123-45-6789', '{\"allergies\": \"none\", \"medications\": \"none\"}'),\n",
        "  ('Luigi Mario', '1983-07-14', '987-65-4321', '{\"allergies\": \"pollen\", \"medications\": \"none\"}'),\n",
        "  ('Princess Peach', '1985-10-18', '456-78-9123', '{\"allergies\": \"none\", \"medications\": \"none\"}'),\n",
        "  ('Yoshi', '1990-11-21','789-01-2345', '{\"allergies\": \"none\", \"medications\": \"none\"}'),\n",
        "  ('Toad', '1985-07-14', '567-89-0123', '{\"allergies\": \"none\", \"medications\": \"none\"}');\n",
        "\n",
        "SELECT * FROM patients LIMIT 5;"
      ],
      "metadata": {
        "colab": {
          "base_uri": "https://localhost:8080/",
          "height": 214
        },
        "id": "IX-3-pqeVI-n",
        "outputId": "b840ede9-0c9a-4149-c72d-22004f84b61c"
      },
      "execution_count": null,
      "outputs": [
        {
          "output_type": "stream",
          "name": "stdout",
          "text": [
            " * postgresql+psycopg2://@/postgres\n",
            "5 rows affected.\n",
            "5 rows affected.\n",
            "5 rows affected.\n"
          ]
        },
        {
          "output_type": "execute_result",
          "data": {
            "text/plain": [
              "[(31, 'Mario Mario', datetime.date(1981, 7, 9), '123-45-6789', {'allergies': 'none', 'medications': 'none'}),\n",
              " (32, 'Luigi Mario', datetime.date(1983, 7, 14), '987-65-4321', {'allergies': 'pollen', 'medications': 'none'}),\n",
              " (33, 'Princess Peach', datetime.date(1985, 10, 18), '456-78-9123', {'allergies': 'none', 'medications': 'none'}),\n",
              " (34, 'Yoshi', datetime.date(1990, 11, 21), '789-01-2345', {'allergies': 'none', 'medications': 'none'}),\n",
              " (35, 'Toad', datetime.date(1985, 7, 14), '567-89-0123', {'allergies': 'none', 'medications': 'none'})]"
            ],
            "text/html": [
              "<table>\n",
              "    <thead>\n",
              "        <tr>\n",
              "            <th>patient_id</th>\n",
              "            <th>name</th>\n",
              "            <th>date_of_birth</th>\n",
              "            <th>social_security_number</th>\n",
              "            <th>medical_history</th>\n",
              "        </tr>\n",
              "    </thead>\n",
              "    <tbody>\n",
              "        <tr>\n",
              "            <td>31</td>\n",
              "            <td>Mario Mario</td>\n",
              "            <td>1981-07-09</td>\n",
              "            <td>123-45-6789</td>\n",
              "            <td>{&#x27;allergies&#x27;: &#x27;none&#x27;, &#x27;medications&#x27;: &#x27;none&#x27;}</td>\n",
              "        </tr>\n",
              "        <tr>\n",
              "            <td>32</td>\n",
              "            <td>Luigi Mario</td>\n",
              "            <td>1983-07-14</td>\n",
              "            <td>987-65-4321</td>\n",
              "            <td>{&#x27;allergies&#x27;: &#x27;pollen&#x27;, &#x27;medications&#x27;: &#x27;none&#x27;}</td>\n",
              "        </tr>\n",
              "        <tr>\n",
              "            <td>33</td>\n",
              "            <td>Princess Peach</td>\n",
              "            <td>1985-10-18</td>\n",
              "            <td>456-78-9123</td>\n",
              "            <td>{&#x27;allergies&#x27;: &#x27;none&#x27;, &#x27;medications&#x27;: &#x27;none&#x27;}</td>\n",
              "        </tr>\n",
              "        <tr>\n",
              "            <td>34</td>\n",
              "            <td>Yoshi</td>\n",
              "            <td>1990-11-21</td>\n",
              "            <td>789-01-2345</td>\n",
              "            <td>{&#x27;allergies&#x27;: &#x27;none&#x27;, &#x27;medications&#x27;: &#x27;none&#x27;}</td>\n",
              "        </tr>\n",
              "        <tr>\n",
              "            <td>35</td>\n",
              "            <td>Toad</td>\n",
              "            <td>1985-07-14</td>\n",
              "            <td>567-89-0123</td>\n",
              "            <td>{&#x27;allergies&#x27;: &#x27;none&#x27;, &#x27;medications&#x27;: &#x27;none&#x27;}</td>\n",
              "        </tr>\n",
              "    </tbody>\n",
              "</table>"
            ]
          },
          "metadata": {},
          "execution_count": 19
        }
      ]
    },
    {
      "cell_type": "markdown",
      "source": [
        "Now, let's populate our new database with a masked version of our original data."
      ],
      "metadata": {
        "id": "nG-7emRVUKPZ"
      }
    },
    {
      "cell_type": "code",
      "source": [
        "%%sql\n",
        "DELETE FROM patients_masked;\n",
        "INSERT INTO patients_masked (name, date_of_birth, social_security_number, medical_history)\n",
        "SELECT\n",
        "  'Patient ' || patient_id,\n",
        "  '1900-01-01',\n",
        "  'XXX-XX-' || substr(social_security_number, 8),\n",
        "  '{\"allergies\": [\"masked\"], \"conditions\": [\"masked\"]}'\n",
        "FROM patients;"
      ],
      "metadata": {
        "colab": {
          "base_uri": "https://localhost:8080/",
          "height": 214
        },
        "id": "LI0zg0IzUWbJ",
        "outputId": "4ec2a0ff-98b3-4013-bfb2-d6b2936c0767"
      },
      "execution_count": null,
      "outputs": [
        {
          "output_type": "stream",
          "name": "stdout",
          "text": [
            " * postgresql+psycopg2://@/postgres\n",
            "0 rows affected.\n",
            "5 rows affected.\n",
            "5 rows affected.\n"
          ]
        },
        {
          "output_type": "execute_result",
          "data": {
            "text/plain": [
              "[(1, 'Patient 31', datetime.date(1900, 1, 1), 'XXX-XX-6789', {'allergies': ['masked'], 'conditions': ['masked']}),\n",
              " (2, 'Patient 32', datetime.date(1900, 1, 1), 'XXX-XX-4321', {'allergies': ['masked'], 'conditions': ['masked']}),\n",
              " (3, 'Patient 33', datetime.date(1900, 1, 1), 'XXX-XX-9123', {'allergies': ['masked'], 'conditions': ['masked']}),\n",
              " (4, 'Patient 34', datetime.date(1900, 1, 1), 'XXX-XX-2345', {'allergies': ['masked'], 'conditions': ['masked']}),\n",
              " (5, 'Patient 35', datetime.date(1900, 1, 1), 'XXX-XX-0123', {'allergies': ['masked'], 'conditions': ['masked']})]"
            ],
            "text/html": [
              "<table>\n",
              "    <thead>\n",
              "        <tr>\n",
              "            <th>patient_id</th>\n",
              "            <th>name</th>\n",
              "            <th>date_of_birth</th>\n",
              "            <th>social_security_number</th>\n",
              "            <th>medical_history</th>\n",
              "        </tr>\n",
              "    </thead>\n",
              "    <tbody>\n",
              "        <tr>\n",
              "            <td>1</td>\n",
              "            <td>Patient 31</td>\n",
              "            <td>1900-01-01</td>\n",
              "            <td>XXX-XX-6789</td>\n",
              "            <td>{&#x27;allergies&#x27;: [&#x27;masked&#x27;], &#x27;conditions&#x27;: [&#x27;masked&#x27;]}</td>\n",
              "        </tr>\n",
              "        <tr>\n",
              "            <td>2</td>\n",
              "            <td>Patient 32</td>\n",
              "            <td>1900-01-01</td>\n",
              "            <td>XXX-XX-4321</td>\n",
              "            <td>{&#x27;allergies&#x27;: [&#x27;masked&#x27;], &#x27;conditions&#x27;: [&#x27;masked&#x27;]}</td>\n",
              "        </tr>\n",
              "        <tr>\n",
              "            <td>3</td>\n",
              "            <td>Patient 33</td>\n",
              "            <td>1900-01-01</td>\n",
              "            <td>XXX-XX-9123</td>\n",
              "            <td>{&#x27;allergies&#x27;: [&#x27;masked&#x27;], &#x27;conditions&#x27;: [&#x27;masked&#x27;]}</td>\n",
              "        </tr>\n",
              "        <tr>\n",
              "            <td>4</td>\n",
              "            <td>Patient 34</td>\n",
              "            <td>1900-01-01</td>\n",
              "            <td>XXX-XX-2345</td>\n",
              "            <td>{&#x27;allergies&#x27;: [&#x27;masked&#x27;], &#x27;conditions&#x27;: [&#x27;masked&#x27;]}</td>\n",
              "        </tr>\n",
              "        <tr>\n",
              "            <td>5</td>\n",
              "            <td>Patient 35</td>\n",
              "            <td>1900-01-01</td>\n",
              "            <td>XXX-XX-0123</td>\n",
              "            <td>{&#x27;allergies&#x27;: [&#x27;masked&#x27;], &#x27;conditions&#x27;: [&#x27;masked&#x27;]}</td>\n",
              "        </tr>\n",
              "    </tbody>\n",
              "</table>"
            ]
          },
          "metadata": {},
          "execution_count": 21
        }
      ]
    },
    {
      "cell_type": "markdown",
      "source": [
        "In this example, we:\n",
        "\n",
        "-   Replace the `name` with a generic \"Patient\" followed by the `patient_id`\n",
        "-   Set the `date_of_birth` to a fixed value (`'1900-01-01'`)\n",
        "-   Mask all but the last four digits of the `social_security_number`\n",
        "-   Replace the `medical_history` JSON data with a masked version\n",
        "\n",
        "The resulting `patients_masked` table will contain the masked data:"
      ],
      "metadata": {
        "id": "bZXLYgEhWMmo"
      }
    },
    {
      "cell_type": "code",
      "source": [
        "%%sql\n",
        "SELECT * FROM patients_masked;"
      ],
      "metadata": {
        "colab": {
          "base_uri": "https://localhost:8080/",
          "height": 196
        },
        "id": "JHoeEY0jWOXv",
        "outputId": "895665ec-4238-4f79-b84b-51e6fb5cb1d3"
      },
      "execution_count": null,
      "outputs": [
        {
          "output_type": "stream",
          "name": "stdout",
          "text": [
            " * postgresql+psycopg2://@/postgres\n",
            "5 rows affected.\n"
          ]
        },
        {
          "output_type": "execute_result",
          "data": {
            "text/plain": [
              "[(1, 'Patient 31', datetime.date(1900, 1, 1), 'XXX-XX-6789', {'allergies': ['masked'], 'conditions': ['masked']}),\n",
              " (2, 'Patient 32', datetime.date(1900, 1, 1), 'XXX-XX-4321', {'allergies': ['masked'], 'conditions': ['masked']}),\n",
              " (3, 'Patient 33', datetime.date(1900, 1, 1), 'XXX-XX-9123', {'allergies': ['masked'], 'conditions': ['masked']}),\n",
              " (4, 'Patient 34', datetime.date(1900, 1, 1), 'XXX-XX-2345', {'allergies': ['masked'], 'conditions': ['masked']}),\n",
              " (5, 'Patient 35', datetime.date(1900, 1, 1), 'XXX-XX-0123', {'allergies': ['masked'], 'conditions': ['masked']})]"
            ],
            "text/html": [
              "<table>\n",
              "    <thead>\n",
              "        <tr>\n",
              "            <th>patient_id</th>\n",
              "            <th>name</th>\n",
              "            <th>date_of_birth</th>\n",
              "            <th>social_security_number</th>\n",
              "            <th>medical_history</th>\n",
              "        </tr>\n",
              "    </thead>\n",
              "    <tbody>\n",
              "        <tr>\n",
              "            <td>1</td>\n",
              "            <td>Patient 31</td>\n",
              "            <td>1900-01-01</td>\n",
              "            <td>XXX-XX-6789</td>\n",
              "            <td>{&#x27;allergies&#x27;: [&#x27;masked&#x27;], &#x27;conditions&#x27;: [&#x27;masked&#x27;]}</td>\n",
              "        </tr>\n",
              "        <tr>\n",
              "            <td>2</td>\n",
              "            <td>Patient 32</td>\n",
              "            <td>1900-01-01</td>\n",
              "            <td>XXX-XX-4321</td>\n",
              "            <td>{&#x27;allergies&#x27;: [&#x27;masked&#x27;], &#x27;conditions&#x27;: [&#x27;masked&#x27;]}</td>\n",
              "        </tr>\n",
              "        <tr>\n",
              "            <td>3</td>\n",
              "            <td>Patient 33</td>\n",
              "            <td>1900-01-01</td>\n",
              "            <td>XXX-XX-9123</td>\n",
              "            <td>{&#x27;allergies&#x27;: [&#x27;masked&#x27;], &#x27;conditions&#x27;: [&#x27;masked&#x27;]}</td>\n",
              "        </tr>\n",
              "        <tr>\n",
              "            <td>4</td>\n",
              "            <td>Patient 34</td>\n",
              "            <td>1900-01-01</td>\n",
              "            <td>XXX-XX-2345</td>\n",
              "            <td>{&#x27;allergies&#x27;: [&#x27;masked&#x27;], &#x27;conditions&#x27;: [&#x27;masked&#x27;]}</td>\n",
              "        </tr>\n",
              "        <tr>\n",
              "            <td>5</td>\n",
              "            <td>Patient 35</td>\n",
              "            <td>1900-01-01</td>\n",
              "            <td>XXX-XX-0123</td>\n",
              "            <td>{&#x27;allergies&#x27;: [&#x27;masked&#x27;], &#x27;conditions&#x27;: [&#x27;masked&#x27;]}</td>\n",
              "        </tr>\n",
              "    </tbody>\n",
              "</table>"
            ]
          },
          "metadata": {},
          "execution_count": 22
        }
      ]
    },
    {
      "cell_type": "markdown",
      "source": [
        "## Data Discovery and Classification: Understanding Your Data\n",
        "\n",
        "Data can include sensitive information, such as personally identifiable information (PII), protected health information (PHI), financial data, and intellectual property. To effectively protect and manage this data, organizations need to understand what data they have, where it resides, and how sensitive it is. This is where data discovery and data classification come into play.\n",
        "\n",
        "### Data Discovery\n",
        "\n",
        "Data discovery is the process of identifying and locating sensitive data within an organization's IT environment. It involves scanning databases, file systems, cloud storage, and other data repositories to uncover sensitive information. The goal of data discovery is to create an inventory of sensitive data assets and gain visibility into the organization's data landscape.\n",
        "\n",
        "Data discovery techniques include:\n",
        "\n",
        "1.  **Metadata analysis**. Examining database schemas, table and column names, and other metadata to identify potential sensitive data based on naming conventions and data types.\n",
        "2.  **Pattern matching**. Searching for specific patterns or regular expressions that typically represent sensitive data, such as social security numbers, credit card numbers, or email addresses.\n",
        "3.  **Content analysis**. Scanning the actual data values to identify sensitive information based on predefined keywords, phrases, or contextual clues.\n",
        "4.  **Machine learning**. Leveraging machine learning algorithms to automatically classify and identify sensitive data based on historical patterns and examples.\n",
        "\n",
        "### Data Classification\n",
        "\n",
        "Data classification is the process of categorizing data based on its sensitivity level and the potential impact of its disclosure. It involves assigning predefined labels or tags to data elements to indicate their level of confidentiality and the security controls required to protect them.\n",
        "\n",
        "Common data classification levels include:\n",
        "\n",
        "1.  **Public**. Data that is freely available to the public and has no confidentiality requirements.\n",
        "2.  **Internal**. Data that is intended for internal use within the organization and requires moderate security controls.\n",
        "3.  **Confidential**. Sensitive data that, if disclosed, could cause significant harm to the organization or individuals. It requires strict security controls and access restrictions.\n",
        "4.  **Restricted** or **Highly Confidential**. The most sensitive data that requires the highest level of security and is subject to regulatory compliance, such as **Personal Health Information (PHI)** or financial data.\n",
        "\n",
        "Examples of data at each classification level:\n",
        "\n",
        "- Public:\n",
        "    -   Hospital Address: 123 Mushroom Kingdom Way, Toad City\n",
        "    -   General Health Tip: Eating a balanced diet rich in fruits and vegetables can boost your immune system.\n",
        "-   Internal:\n",
        "    -   Employee Handbook Policy: All employees are required to wear their identification badges while on hospital premises.\n",
        "    -   Internal Phone Directory Entry: Dr. Mario, Extension: 1234, Department: Infectious Diseases\n",
        "-   Confidential:\n",
        "    -   Employee Record: Toadette, 456 Toad Lane, Toad City, 555-123-4567, Hired: 2020-01-01, Position: Registered Nurse\n",
        "    -   Financial Data: 2023 Budget Allocation for Medical Equipment: $500,000\n",
        "-   Restricted:\n",
        "    -   Patient Medical Record: Bowser, MRN: 98765, Diagnosis: Koopa Pox, Treatment: Antiviral Medication, Prescription: Mushroom Extract 500mg\n",
        "    -   Patient Personal Information: Princess Peach, 789 Castle Street, Toad City, DOB: 1985-10-18, SSN: 123-45-6789\n",
        "\n",
        "These examples illustrate the different types of data that fall under each classification level at Toad City Hospital. The classification levels help determine the appropriate security controls, access restrictions, and handling procedures for each type of data.\n",
        "\n",
        "It's important to note that the specific classification of data may vary depending on the organization's policies, legal requirements, and the sensitivity of the information in the context of their industry. Toad City Hospital should regularly review and update its data classification scheme to ensure it aligns with changing regulations and best practices in healthcare data security.\n",
        "\n",
        "### Applying Data Discovery and Classification in Toad City Hospital\n",
        "\n",
        "Let's consider how Toad City Hospital might apply data discovery and data classification to protect sensitive patient information.\n",
        "\n",
        "1.  **Data Discovery**:\n",
        "    -   The hospital's IT team conducts a comprehensive data discovery exercise to identify all instances of sensitive patient data across their database systems, file servers, and cloud storage.\n",
        "    -   They use a combination of metadata analysis, pattern matching, and content analysis techniques to locate PHI, such as patient names, addresses, social security numbers, and medical records.\n",
        "    -   The team creates an inventory of sensitive data assets, including the location, data owner, and access privileges for each asset.\n",
        "2.  **Data Classification**:\n",
        "    -   The hospital establishes a data classification policy that defines the different classification levels and the criteria for each level.\n",
        "    -   They classify patient data as \"Restricted\" or \"Highly Confidential\" due to its sensitive nature and the potential harm caused by unauthorized disclosure.\n",
        "    -   Other data, such as employee records and financial data, are classified as \"Confidential.\"\n",
        "    -   Public information, such as hospital contact details and general health information, is classified as \"Public.\"\n",
        "3.  **Data Protection**:\n",
        "    -   Based on the data classification levels, the hospital implements stringent security controls for \"Restricted\" and \"Confidential\" data.\n",
        "    -   Access to sensitive patient data is strictly limited to authorized medical staff and administrators based on the principle of least privilege.\n",
        "    -   Strong encryption, both at rest and in transit, is applied to protect the confidentiality and integrity of sensitive data.\n",
        "    -   Regular access reviews and audits are conducted to ensure that access privileges align with job responsibilities and to detect any unauthorized access attempts.\n",
        "4.  **Data Handling and Disposal**:\n",
        "    -   The hospital establishes data handling procedures for each classification level, specifying how data should be stored, transmitted, and shared securely.\n",
        "    -   Sensitive data is only shared with authorized third parties, such as insurance providers or research institutions, under strict confidentiality agreements and using secure communication channels.\n",
        "    -   When sensitive data is no longer needed, it is securely disposed of using data destruction methods, such as secure shredding or data wiping, to prevent unauthorized access.\n",
        "\n",
        "By implementing data discovery and classification, Toad City Hospital can gain a clear understanding of its sensitive data assets, prioritize security efforts, and implement appropriate controls to protect patient information. These practices help the hospital comply with data privacy regulations, such as HIPAA, and maintain the trust and confidence of its patients."
      ],
      "metadata": {
        "id": "mP2MOaCaXDcK"
      }
    },
    {
      "cell_type": "markdown",
      "source": [
        "### Graphic: Data Discovery and Classification"
      ],
      "metadata": {
        "id": "dH1zQK6cpU8W"
      }
    },
    {
      "cell_type": "code",
      "source": [
        "# @title\n",
        "mm(\"\"\"\n",
        "graph TD\n",
        "    classDef discovery fill:#FFB6C1,stroke:#333,stroke-width:2px\n",
        "    classDef scanning fill:#98FB98,stroke:#333,stroke-width:2px\n",
        "    classDef classification fill:#87CEEB,stroke:#333,stroke-width:2px\n",
        "    classDef action fill:#DDA0DD,stroke:#333,stroke-width:2px\n",
        "\n",
        "    Start[Data Discovery Process]:::discovery\n",
        "    Scan[Automated Data Scanning]:::scanning\n",
        "    ID[Identify Data Locations]:::discovery\n",
        "    Cat[Categorize Data]:::classification\n",
        "    Tag[Apply Tags & Labels]:::classification\n",
        "    Pol[Apply Security Policies]:::action\n",
        "    Mon[Continuous Monitoring]:::action\n",
        "\n",
        "    Start --> Scan\n",
        "    Scan --> ID\n",
        "    ID --> Cat\n",
        "\n",
        "    Cat --> |\"Personal Data\"| Tag\n",
        "    Cat --> |\"Financial Data\"| Tag\n",
        "    Cat --> |\"Healthcare Data\"| Tag\n",
        "    Cat --> |\"Internal Data\"| Tag\n",
        "\n",
        "    Tag --> Pol\n",
        "\n",
        "    Pol --> |\"Access Controls\"| Mon\n",
        "    Pol --> |\"Encryption Rules\"| Mon\n",
        "    Pol --> |\"Retention Policies\"| Mon\n",
        "\n",
        "    Mon --> |\"New Data Detected\"| Start\n",
        "\n",
        "    style Start fill:#FFB6C1\n",
        "    style Mon fill:#DDA0DD\"\"\")"
      ],
      "metadata": {
        "cellView": "form",
        "id": "E2WlbDrPpXcw",
        "outputId": "fc4ada9a-dc55-41b2-9bdf-7af04ec8c918",
        "colab": {
          "base_uri": "https://localhost:8080/",
          "height": 721
        }
      },
      "execution_count": null,
      "outputs": [
        {
          "output_type": "display_data",
          "data": {
            "text/html": [
              "<img src=\"https://mermaid.ink/img/CmdyYXBoIFRECiAgICBjbGFzc0RlZiBkaXNjb3ZlcnkgZmlsbDojRkZCNkMxLHN0cm9rZTojMzMzLHN0cm9rZS13aWR0aDoycHgKICAgIGNsYXNzRGVmIHNjYW5uaW5nIGZpbGw6Izk4RkI5OCxzdHJva2U6IzMzMyxzdHJva2Utd2lkdGg6MnB4CiAgICBjbGFzc0RlZiBjbGFzc2lmaWNhdGlvbiBmaWxsOiM4N0NFRUIsc3Ryb2tlOiMzMzMsc3Ryb2tlLXdpZHRoOjJweAogICAgY2xhc3NEZWYgYWN0aW9uIGZpbGw6I0REQTBERCxzdHJva2U6IzMzMyxzdHJva2Utd2lkdGg6MnB4CgogICAgU3RhcnRbRGF0YSBEaXNjb3ZlcnkgUHJvY2Vzc106OjpkaXNjb3ZlcnkKICAgIFNjYW5bQXV0b21hdGVkIERhdGEgU2Nhbm5pbmddOjo6c2Nhbm5pbmcKICAgIElEW0lkZW50aWZ5IERhdGEgTG9jYXRpb25zXTo6OmRpc2NvdmVyeQogICAgQ2F0W0NhdGVnb3JpemUgRGF0YV06OjpjbGFzc2lmaWNhdGlvbgogICAgVGFnW0FwcGx5IFRhZ3MgJiBMYWJlbHNdOjo6Y2xhc3NpZmljYXRpb24KICAgIFBvbFtBcHBseSBTZWN1cml0eSBQb2xpY2llc106OjphY3Rpb24KICAgIE1vbltDb250aW51b3VzIE1vbml0b3JpbmddOjo6YWN0aW9uCgogICAgU3RhcnQgLS0-IFNjYW4KICAgIFNjYW4gLS0-IElECiAgICBJRCAtLT4gQ2F0CgogICAgQ2F0IC0tPiB8IlBlcnNvbmFsIERhdGEifCBUYWcKICAgIENhdCAtLT4gfCJGaW5hbmNpYWwgRGF0YSJ8IFRhZwogICAgQ2F0IC0tPiB8IkhlYWx0aGNhcmUgRGF0YSJ8IFRhZwogICAgQ2F0IC0tPiB8IkludGVybmFsIERhdGEifCBUYWcKCiAgICBUYWcgLS0-IFBvbAoKICAgIFBvbCAtLT4gfCJBY2Nlc3MgQ29udHJvbHMifCBNb24KICAgIFBvbCAtLT4gfCJFbmNyeXB0aW9uIFJ1bGVzInwgTW9uCiAgICBQb2wgLS0-IHwiUmV0ZW50aW9uIFBvbGljaWVzInwgTW9uCgogICAgTW9uIC0tPiB8Ik5ldyBEYXRhIERldGVjdGVkInwgU3RhcnQKCiAgICBzdHlsZSBTdGFydCBmaWxsOiNGRkI2QzEKICAgIHN0eWxlIE1vbiBmaWxsOiNEREEwREQ=?width=1000&height=700\"/>"
            ],
            "text/plain": [
              "<IPython.core.display.Image object>"
            ]
          },
          "metadata": {}
        }
      ]
    },
    {
      "cell_type": "markdown",
      "source": [
        "## When and How to Destroy Data\n",
        "\n",
        "Data destruction is a critical aspect of database security and privacy. It involves securely and permanently deleting data that is no longer needed or required to be retained. Proper data destruction ensures that sensitive information is not accessible to unauthorized individuals and helps organizations comply with data privacy regulations and legal requirements.\n",
        "\n",
        "### Principles of Data Destruction\n",
        "\n",
        "1.  **Data Lifecycle Management**: Organizations should have a clear understanding of the lifecycle of their data, from creation to destruction. This includes defining retention periods for different types of data based on legal, regulatory, and business requirements.\n",
        "2.  **Data Retention Policies**: Establish clear data retention policies that specify how long different categories of data should be kept and when they should be securely destroyed. These policies should be regularly reviewed and updated to ensure compliance with changing regulations and organizational needs.\n",
        "3.  **Secure Deletion Methods**: When data needs to be destroyed, it is essential to use secure deletion methods that ensure the data is permanently and irreversibly removed. Simple deletion or formatting of storage media may not be sufficient, as the data can often be recovered using specialized tools.\n",
        "4.  **Overwriting Sensitive Data**: Before deleting data, it is recommended to overwrite sensitive information with random or meaningless values. This adds an extra layer of protection by making it difficult to recover the original data even if the storage media is compromised.\n",
        "5.  **Auditing and Logging**: Implement auditing and logging mechanisms to track data destruction activities. This includes recording when data was destroyed, who initiated the process, and ensuring that the destruction was carried out in accordance with defined policies and procedures.\n",
        "6.  **Authorization and Approval**: Establish proper authorization and approval processes for data destruction. Only authorized personnel should be allowed to initiate and execute the destruction of sensitive data, following a well-defined approval workflow.\n",
        "7.  **Compliance and Legal Requirements**: Ensure that your data destruction practices align with relevant laws, regulations, and industry standards. This may include requirements related to data privacy, data protection, and data retention periods.\n",
        "\n",
        "### Example: Destroying Patient Records in Toad City Hospital\n",
        "\n",
        "Let's consider an example of how Toad City Hospital can securely destroy patient records that have exceeded the retention period defined in their data retention policy."
      ],
      "metadata": {
        "id": "lEEtgmYGaJ3D"
      }
    },
    {
      "cell_type": "markdown",
      "source": [
        "```sql\n",
        "-- Create a temporary table to store the patient IDs to be deleted\n",
        "CREATE TEMPORARY TABLE patients_to_delete AS\n",
        "SELECT patient_id\n",
        "FROM patients\n",
        "WHERE last_treatment_date < NOW() - INTERVAL '10 years';\n",
        "\n",
        "-- Overwrite the sensitive data with random values\n",
        "UPDATE patients\n",
        "SET name = 'DELETED', date_of_birth = '1900-01-01', ssn = 'XXX-XX-XXXX'\n",
        "WHERE patient_id IN (\n",
        "  SELECT patient_id FROM patients_to_delete\n",
        ");\n",
        "\n",
        "-- Delete the records from the patients table\n",
        "DELETE FROM patients\n",
        "WHERE patient_id IN (\n",
        "  SELECT patient_id FROM patients_to_delete\n",
        ");\n",
        "\n",
        "-- Drop the temporary table\n",
        "DROP TABLE patients_to_delete;\n",
        "```"
      ],
      "metadata": {
        "id": "aTbV8obQaQRR"
      }
    },
    {
      "cell_type": "markdown",
      "source": [
        "In this example:\n",
        "\n",
        "1.  A temporary table `patients_to_delete` is created to store the patient IDs of the records that need to be deleted based on the last treatment date exceeding the retention period of 10 years.\n",
        "2.  The sensitive data (name, date of birth, SSN) in the `patients` table is overwritten with random or meaningless values for the records that match the patient IDs in the temporary table.\n",
        "3.  The records are then deleted from the `patients` table based on the patient IDs in the temporary table.\n",
        "4.  Finally, the temporary table is dropped.\n",
        "\n",
        "By following these steps, Toad City Hospital ensures that the sensitive patient data is securely destroyed while maintaining a record of the deletion process.\n",
        "\n",
        "It's important to note that data destruction should be carried out in accordance with the hospital's data retention policies, legal requirements, and industry regulations. The hospital should also have proper backup and archival procedures in place to ensure that data is not lost prematurely and can be restored if needed for legal or regulatory purposes."
      ],
      "metadata": {
        "id": "1CZ1e5Y0aSik"
      }
    },
    {
      "cell_type": "code",
      "source": [
        "# @title\n",
        "mm(\"\"\"\n",
        "flowchart TD\n",
        "    classDef physical fill:#ff9999,stroke:#333,stroke-width:2px\n",
        "    classDef digital fill:#99ff99,stroke:#333,stroke-width:2px\n",
        "    classDef crypto fill:#9999ff,stroke:#333,stroke-width:2px\n",
        "\n",
        "    M[Data Destruction Methods]\n",
        "\n",
        "    P[Physical Destruction]:::physical\n",
        "    D[Digital Wiping]:::digital\n",
        "    C[Cryptographic Erasure]:::crypto\n",
        "\n",
        "    M --> P\n",
        "    M --> D\n",
        "    M --> C\n",
        "\n",
        "    P --> P1[Shredding]\n",
        "    P --> P2[Degaussing]\n",
        "    P --> P3[Incineration]\n",
        "\n",
        "    D --> D1[Single Pass Overwrite]\n",
        "    D --> D2[DoD 5220.22-M<br>3 Pass Overwrite]\n",
        "    D --> D3[Gutmann Method<br>35 Pass Overwrite]\n",
        "\n",
        "    C --> C1[Destroy Encryption Key]\n",
        "    C --> C2[Render Data Inaccessible]\n",
        "\n",
        "    P1 --> PS[Physical Verification<br>Required]\n",
        "    P2 --> PS\n",
        "    P3 --> PS\n",
        "\n",
        "    D1 --> DS[Verification Scan<br>Required]\n",
        "    D2 --> DS\n",
        "    D3 --> DS\n",
        "\n",
        "    C1 --> CS[Key Destruction<br>Verification]\n",
        "    C2 --> CS\n",
        "\"\"\")"
      ],
      "metadata": {
        "cellView": "form",
        "id": "SSq76izYqPPo",
        "outputId": "2325271f-a609-43fd-a68e-f693a956af8f",
        "colab": {
          "base_uri": "https://localhost:8080/",
          "height": 721
        }
      },
      "execution_count": null,
      "outputs": [
        {
          "output_type": "display_data",
          "data": {
            "text/html": [
              "<img src=\"https://mermaid.ink/img/CmZsb3djaGFydCBURAogICAgY2xhc3NEZWYgcGh5c2ljYWwgZmlsbDojZmY5OTk5LHN0cm9rZTojMzMzLHN0cm9rZS13aWR0aDoycHgKICAgIGNsYXNzRGVmIGRpZ2l0YWwgZmlsbDojOTlmZjk5LHN0cm9rZTojMzMzLHN0cm9rZS13aWR0aDoycHgKICAgIGNsYXNzRGVmIGNyeXB0byBmaWxsOiM5OTk5ZmYsc3Ryb2tlOiMzMzMsc3Ryb2tlLXdpZHRoOjJweAoKICAgIE1bRGF0YSBEZXN0cnVjdGlvbiBNZXRob2RzXQoKICAgIFBbUGh5c2ljYWwgRGVzdHJ1Y3Rpb25dOjo6cGh5c2ljYWwKICAgIERbRGlnaXRhbCBXaXBpbmddOjo6ZGlnaXRhbAogICAgQ1tDcnlwdG9ncmFwaGljIEVyYXN1cmVdOjo6Y3J5cHRvCgogICAgTSAtLT4gUAogICAgTSAtLT4gRAogICAgTSAtLT4gQwoKICAgIFAgLS0-IFAxW1NocmVkZGluZ10KICAgIFAgLS0-IFAyW0RlZ2F1c3NpbmddCiAgICBQIC0tPiBQM1tJbmNpbmVyYXRpb25dCiAgICAKICAgIEQgLS0-IEQxW1NpbmdsZSBQYXNzIE92ZXJ3cml0ZV0KICAgIEQgLS0-IEQyW0RvRCA1MjIwLjIyLU08YnI-MyBQYXNzIE92ZXJ3cml0ZV0KICAgIEQgLS0-IEQzW0d1dG1hbm4gTWV0aG9kPGJyPjM1IFBhc3MgT3ZlcndyaXRlXQoKICAgIEMgLS0-IEMxW0Rlc3Ryb3kgRW5jcnlwdGlvbiBLZXldCiAgICBDIC0tPiBDMltSZW5kZXIgRGF0YSBJbmFjY2Vzc2libGVdCgogICAgUDEgLS0-IFBTW1BoeXNpY2FsIFZlcmlmaWNhdGlvbjxicj5SZXF1aXJlZF0KICAgIFAyIC0tPiBQUwogICAgUDMgLS0-IFBTCgogICAgRDEgLS0-IERTW1ZlcmlmaWNhdGlvbiBTY2FuPGJyPlJlcXVpcmVkXQogICAgRDIgLS0-IERTCiAgICBEMyAtLT4gRFMKCiAgICBDMSAtLT4gQ1NbS2V5IERlc3RydWN0aW9uPGJyPlZlcmlmaWNhdGlvbl0KICAgIEMyIC0tPiBDUwo=?width=1000&height=700\"/>"
            ],
            "text/plain": [
              "<IPython.core.display.Image object>"
            ]
          },
          "metadata": {}
        }
      ]
    },
    {
      "cell_type": "markdown",
      "source": [
        "## Why audits are awesome (really)\n",
        "\n",
        "Database auditing is a critical process that involves monitoring, recording, and analyzing database activities to ensure the security, integrity, and compliance of the database. Audits help organizations detect and investigate suspicious activities, track changes to sensitive data, and meet regulatory requirements.\n",
        "\n",
        "### How to conduct data security audits\n",
        "\n",
        "Data security audits focus on assessing the security measures and controls in place to protect sensitive data stored in databases. Here are some key steps involved in conducting data security audits:\n",
        "\n",
        "1.  Determine which data elements are considered *sensitive* based on organizational policies, legal requirements, and industry standards. This may include personally identifiable information (PII), financial data, or protected health information (PHI).\n",
        "2.  Assess the **access controls** and permissions granted to users and applications. Ensure that the **principle of least privilege** is followed, meaning users have access only to the data they need to perform their job functions. Check for expired or inactive user accounts that should be disabled or removed.\n",
        "3.  Review the **database configuration settings** to ensure they adhere to security best practices. This includes checking for default or weak passwords, unnecessarily enabled features or services, and misconfigurations that could lead to vulnerabilities.\n",
        "4.  Implement **database activity monitoring** solutions to track and record database events such as logins, data modifications, and privileged operations. Regularly review audit logs to identify unusual or suspicious activities that may indicate a security breach or unauthorized access attempts.\n",
        "5.   Assess the encryption mechanisms used to protect sensitive data at rest and in transit. Ensure that appropriate encryption algorithms and key management practices are in place to safeguard data confidentiality.\n",
        "6.  Perform regular **vulnerability assessments** and **penetration testing** to identify potential security weaknesses in the database infrastructure. This may include scanning for known vulnerabilities, testing for SQL injection vulnerabilities, and simulating attacks to evaluate the effectiveness of security controls."
      ],
      "metadata": {
        "id": "21PGAQyKben4"
      }
    },
    {
      "cell_type": "markdown",
      "source": [
        "### Example of audit logs\n",
        "\n",
        "Let's consider an example of audit logs generated by the Toad City Hospital's database. Suppose the hospital wants to monitor access to sensitive patient information and track any modifications made to the `patients` table.\n",
        "\n",
        "Here's an example of what the audit logs might look like:\n",
        "\n",
        "```\n",
        "Timestamp               | User      | Action      | Table     | Details\n",
        "------------------------+-----------+-------------+-----------+-----------------------------\n",
        "2023-06-18 09:30:15.123 | dr_mario  | SELECT      | patients  | Query: SELECT * FROM patients WHERE patient_id = 1\n",
        "2023-06-18 09:32:45.789 | nurse_toad| UPDATE      | patients  | Old value: Mario, New value: Mario Mario\n",
        "2023-06-18 09:35:20.456 | dr_bowser | DELETE      | patients  | Deleted rows: patient_id = 3\n",
        "2023-06-18 09:40:10.987 | admin     | GRANT       | -         | Granted SELECT permission on patients to dr_peach\n",
        "```\n",
        "\n",
        "In this example, the audit logs capture:\n",
        "\n",
        "-   The timestamp of each activity\n",
        "-   The user who performed the action\n",
        "-   The type of action (SELECT, UPDATE, DELETE, GRANT)\n",
        "-   The affected table (if applicable)\n",
        "-   Additional details such as the executed query, old and new values for updates, or the number of deleted rows\n",
        "\n",
        "By regularly reviewing audit logs, the Toad City Hospital can monitor database activities, detect suspicious behavior, and investigate any potential security incidents. Audit logs serve as a valuable tool for maintaining the security and integrity of the database."
      ],
      "metadata": {
        "id": "ddhauIJkbrGA"
      }
    },
    {
      "cell_type": "markdown",
      "source": [
        "## Code Audit Case Study: Very Insecure SQL\n",
        "\n",
        "Bowser Jr., a new database intern at Toad City Hospital, has been tasked with writing SQL queries and stored procedures to interact with the hospital's database. However, due to his lack of experience and knowledge of secure coding practices, he has introduced several vulnerabilities in his code. Toadette, the senior database administrator, has conducted a **code audit** to identify the issues and provide recommendations for improvement.\n",
        "\n",
        "### Query 1: Login Authentication\n",
        "\n",
        "Bowser Jr.'s code:\n",
        "\n",
        "```sql\n",
        "CREATE PROCEDURE authenticate_user(username VARCHAR(50), password VARCHAR(50))\n",
        "AS\n",
        "BEGIN\n",
        "    DECLARE @query VARCHAR(200);\n",
        "    SET @query = 'SELECT * FROM users WHERE username = ''' + username + ''' AND password = ''' + password + '''';\n",
        "    EXEC (@query);\n",
        "END;\n",
        "```\n",
        "\n",
        "Toadette's code audit: Issue: SQL Injection Vulnerability\n",
        "\n",
        "Explanation: The login authentication procedure is vulnerable to SQL injection attacks. Bowser Jr. is directly concatenating user input into the SQL query without any validation or parameterization. An attacker can input malicious SQL code as the username or password, potentially gaining unauthorized access to the database or executing arbitrary SQL commands.\n",
        "\n",
        "Recommendation: Use parameterized queries or prepared statements to separate user input from the SQL query structure. This prevents SQL injection attacks by treating user input as data rather than executable code.\n",
        "\n",
        "```sql\n",
        "CREATE PROCEDURE authenticate_user(username VARCHAR(50), password VARCHAR(50))\n",
        "AS\n",
        "BEGIN\n",
        "    SELECT * FROM users WHERE username = @username AND password = @password;\n",
        "END;\n",
        "```\n",
        "\n",
        "### Query 2: Patient Record Retrieval\n",
        "\n",
        "Bowser Jr.'s code:\n",
        "\n",
        "```sql\n",
        "CREATE PROCEDURE get_patient_records(patient_id INT)\n",
        "AS\n",
        "BEGIN\n",
        "    EXEC ('SELECT * FROM patients WHERE patient_id = ' + CAST(patient_id AS VARCHAR(10)));\n",
        "END;\n",
        "```\n",
        "\n",
        "Toadette's code audit: Issue: SQL Injection Vulnerability\n",
        "\n",
        "Explanation: Similar to the previous example, Bowser Jr. is concatenating user input directly into the SQL query. This allows attackers to manipulate the query by providing malicious input, potentially exposing sensitive patient information or modifying the database.\n",
        "\n",
        "Recommendation: Use parameterized queries to pass user input securely. Avoid using dynamic SQL with string concatenation.\n",
        "\n",
        "Fixed code:\n",
        "\n",
        "```sql\n",
        "CREATE PROCEDURE get_patient_records(patient_id INT)\n",
        "AS\n",
        "BEGIN\n",
        "    SELECT * FROM patients WHERE patient_id = @patient_id;\n",
        "END;\n",
        "```\n",
        "\n",
        "### Query 3: Sensitive Data Exposure\n",
        "\n",
        "Bowser Jr.'s code:\n",
        "\n",
        "```sql\n",
        "CREATE VIEW patient_info AS\n",
        "SELECT patient_id, name, date_of_birth, ssn\n",
        "FROM patients;\n",
        "```\n",
        "\n",
        "Toadette's code audit: Issue: Sensitive Data Exposure\n",
        "\n",
        "Explanation: The `patient_info` view created by Bowser Jr. exposes sensitive patient information, including their social security numbers (SSN). Views should only contain the necessary columns and avoid exposing sensitive data unnecessarily.\n",
        "\n",
        "Recommendation: Limit the columns exposed in the view to only the required information. Avoid including sensitive data like SSNs unless absolutely necessary. If sensitive data is needed, consider implementing additional security measures such as encryption or access controls.\n",
        "\n",
        "```sql\n",
        "CREATE VIEW patient_info AS\n",
        "SELECT patient_id, name, date_of_birth\n",
        "FROM patients;\n",
        "```\n",
        "\n",
        "### Query 4: Lack of Access Controls\n",
        "\n",
        "Bowser Jr.'s code:\n",
        "\n",
        "```sql\n",
        "GRANT ALL PRIVILEGES ON patients TO 'guest_user';\n",
        "```\n",
        "\n",
        "Toadette's code audit: Issue: Lack of Access Controls\n",
        "\n",
        " Explanation: Bowser Jr. has granted all privileges on the `patients` table to a `guest_user` account. This violates the principle of least privilege and allows the guest user to perform any operation on the sensitive patient data, including reading, modifying, and deleting records.\n",
        "\n",
        "Recommendation: Follow the principle of least privilege and grant only the necessary permissions to users based on their roles and responsibilities. Guest or non-privileged users should have limited access to sensitive data. Use granular permissions and roles to control access to specific tables, columns, or operations.\n",
        "\n",
        "Fixed code:\n",
        "\n",
        "```sql\n",
        "GRANT SELECT ON patients(patient_id, name, date_of_birth) TO 'guest_user';\n",
        "```\n",
        "\n",
        "Toadette's code audit highlights several critical security issues in Bowser Jr.'s code, including SQL injection vulnerabilities, sensitive data exposure, and lack of access controls. By following secure coding practices, such as using parameterized queries, limiting exposure of sensitive data, and implementing proper access controls, Toad City Hospital can mitigate these risks and ensure the security and privacy of patient information."
      ],
      "metadata": {
        "id": "JRzqULM3dVPt"
      }
    },
    {
      "cell_type": "markdown",
      "source": [
        "## Three As: Authentication, Authorization, Access Control\n",
        "\n",
        "**Authentication** is the process of verifying the identity of a user or system that is attempting to access the database. It answers the question, \"Who are you?\" The most common authentication methods include username and password, where users provide a unique username and a secret password to prove their identity; two-factor authentication (2FA), where users are required to provide a second form of authentication in addition to a password, such as a one-time code sent to their mobile device or a biometric factor like a fingerprint; and single sign-on (SSO), where users authenticate once through a centralized identity provider and gain access to multiple systems or applications.\n",
        "\n",
        "**Authorization** is the process of granting or denying access rights and privileges to authenticated users. It answers the question, \"What are you allowed to do?\" Authorization determines what actions a user can perform on specific resources, such as databases, tables, or individual records. This is typically achieved through the use of access control mechanisms, such as role-based access control (RBAC) or attribute-based access control (ABAC).\n",
        "\n",
        "**Access control** refers to the mechanisms and policies that enforce authorization decisions. It ensures that users can only access the resources and perform the actions they are authorized to do. Access control can be implemented at different levels, such as database-level access control, where permissions are granted or revoked at the database level, or application-level access control, where the application itself enforces access rules based on user roles or attributes.\n",
        "\n",
        "The principle of **least privilege** is a key concept in authorization and access control. It states that users should be granted the minimum level of access necessary to perform their job functions. This helps minimize the potential impact of a security breach or unauthorized access attempt.\n",
        "\n",
        "### The 3 As at Toad City Hospital\n",
        "\n",
        "Let's consider an example scenario at Toad City Hospital to illustrate the application of authentication, authorization, and access control in a database system.\n",
        "\n",
        "Toad City Hospital has a database that stores sensitive patient information, including personal details, medical history, and treatment records. The hospital wants to ensure that only authorized personnel can access this information based on their roles and responsibilities.\n",
        "\n",
        "The hospital implements the following security measures:\n",
        "\n",
        "1.  **Authentication**: All users, including doctors, nurses, and administrative staff, are required to authenticate using unique usernames and strong passwords. The hospital also enforces multi-factor authentication for remote access to the database, requiring users to provide a one-time code sent to their registered mobile devices.\n",
        "2.  **Authorization**: The hospital defines different user roles, such as doctors, nurses, and administrators, and assigns specific access privileges to each role. For example, doctors have read and write access to patient records, while nurses have read-only access. Administrative staff has limited access to non-sensitive patient information for billing and scheduling purposes.\n",
        "3.  **Access Control**: The hospital implements role-based access control (RBAC) in their database management system. Permissions are granted or revoked based on user roles, ensuring that users can only access the information and perform the actions they are authorized to do. For example, a doctor can view and update patient records, but a nurse can only view them.\n",
        "4.  **Auditing**: The hospital enables logging and auditing features in the database to monitor user activities. All access attempts, successful or failed, are recorded, along with details such as the user's identity, timestamp, and the specific actions performed. The audit logs are regularly reviewed by security administrators to detect any suspicious or unauthorized access attempts.\n",
        "\n",
        "By implementing these security measures, Toad City Hospital ensures that sensitive patient information is protected from unauthorized access and that users can only perform actions based on their assigned roles and responsibilities."
      ],
      "metadata": {
        "id": "lMtOPGJCqzZy"
      }
    },
    {
      "cell_type": "code",
      "source": [
        "# @title\n",
        "mm(\"\"\"\n",
        "mindmap\n",
        "    root((AAA Security))\n",
        "        (Authentication)\n",
        "            [Who are you?]\n",
        "                (Dr. Mario scans ID badge)\n",
        "                (Nurse Toad enters password)\n",
        "                (Two-factor via Mushroom App)\n",
        "        (Authorization)\n",
        "            [What can you access?]\n",
        "                (Dr. Mario: All patient records)\n",
        "                (Nurse: Ward-specific data)\n",
        "                (IT Toad: System controls)\n",
        "        (Accounting)\n",
        "            [What did you do?]\n",
        "                (Login timestamps)\n",
        "                (Record access logs)\n",
        "                (Prescription changes tracked)\n",
        "                (System modifications recorded)\n",
        "\"\"\")"
      ],
      "metadata": {
        "cellView": "form",
        "id": "QtTr1pLprZdO",
        "outputId": "efcf1b10-c8ac-48e2-ddd4-c17c48e774da",
        "colab": {
          "base_uri": "https://localhost:8080/",
          "height": 721
        }
      },
      "execution_count": null,
      "outputs": [
        {
          "output_type": "display_data",
          "data": {
            "text/html": [
              "<img src=\"https://mermaid.ink/img/Cm1pbmRtYXAKICAgIHJvb3QoKEFBQSBTZWN1cml0eSkpCiAgICAgICAgKEF1dGhlbnRpY2F0aW9uKQogICAgICAgICAgICBbV2hvIGFyZSB5b3U_XQogICAgICAgICAgICAgICAgKERyLiBNYXJpbyBzY2FucyBJRCBiYWRnZSkKICAgICAgICAgICAgICAgIChOdXJzZSBUb2FkIGVudGVycyBwYXNzd29yZCkKICAgICAgICAgICAgICAgIChUd28tZmFjdG9yIHZpYSBNdXNocm9vbSBBcHApCiAgICAgICAgKEF1dGhvcml6YXRpb24pCiAgICAgICAgICAgIFtXaGF0IGNhbiB5b3UgYWNjZXNzP10KICAgICAgICAgICAgICAgIChEci4gTWFyaW86IEFsbCBwYXRpZW50IHJlY29yZHMpCiAgICAgICAgICAgICAgICAoTnVyc2U6IFdhcmQtc3BlY2lmaWMgZGF0YSkKICAgICAgICAgICAgICAgIChJVCBUb2FkOiBTeXN0ZW0gY29udHJvbHMpCiAgICAgICAgKEFjY291bnRpbmcpCiAgICAgICAgICAgIFtXaGF0IGRpZCB5b3UgZG8_XQogICAgICAgICAgICAgICAgKExvZ2luIHRpbWVzdGFtcHMpCiAgICAgICAgICAgICAgICAoUmVjb3JkIGFjY2VzcyBsb2dzKQogICAgICAgICAgICAgICAgKFByZXNjcmlwdGlvbiBjaGFuZ2VzIHRyYWNrZWQpCiAgICAgICAgICAgICAgICAoU3lzdGVtIG1vZGlmaWNhdGlvbnMgcmVjb3JkZWQpCg==?width=1000&height=700\"/>"
            ],
            "text/plain": [
              "<IPython.core.display.Image object>"
            ]
          },
          "metadata": {}
        }
      ]
    },
    {
      "cell_type": "markdown",
      "source": [
        "## Database: Physical Security\n",
        "\n",
        "While much of the focus in database security is on logical security measures like encryption, access control, and auditing, physical security is equally important. Physical security refers to the protection of the hardware, infrastructure, and facilities that host the database systems from physical threats and unauthorized access.\n",
        "\n",
        "There are several physical security measures that organizations can implement to protect their database systems:\n",
        "\n",
        "1.  Databases should be housed in secure, purpose-built data centers with restricted access. These facilities should have physical barriers, such as perimeter fencing, security gates, and reinforced walls, to prevent unauthorized entry.\n",
        "2.  Implement robust **access control systems**, such as **biometric scanners**, key cards, or PIN codes, to restrict access to the data center and server rooms. Only authorized personnel should be granted access based on their roles and responsibilities.\n",
        "3.  Install **surveillance cameras** and monitoring systems to detect and record any suspicious activities or unauthorized access attempts. Security personnel should monitor these systems 24/7 and respond promptly to any security incidents.\n",
        "4.  Ensure that the data center has appropriate **environmental controls**, such as temperature and humidity regulation, to protect the hardware from damage. Implement fire suppression systems, such as sprinklers or gas-based systems, to protect against fire hazards.\n",
        "5.  Provide redundant power supplies, such as **uninterruptible power systems (UPS)** and backup generators, to ensure continuous operation in case of power outages. Implement redundant cooling systems to maintain optimal operating temperatures for the hardware.\n",
        "6.  Properly secure and label network cables and power cords to prevent accidental disconnection or tampering. Use cable trays or conduits to protect cables from physical damage.\n",
        "7.  When decommissioning or disposing of old hardware, ensure that all data is securely wiped or destroyed to prevent unauthorized access. Follow proper disposal procedures, such as shredding or crushing hard drives, to render the data unrecoverable."
      ],
      "metadata": {
        "id": "8ZPiavXmsEpZ"
      }
    },
    {
      "cell_type": "code",
      "source": [
        "# @title\n",
        "mm(\"\"\"\n",
        "graph TD\n",
        "    classDef perimeter fill:#ff9999,stroke:#333,stroke-width:2px\n",
        "    classDef building fill:#99ff99,stroke:#333,stroke-width:2px\n",
        "    classDef room fill:#9999ff,stroke:#333,stroke-width:2px\n",
        "    classDef server fill:#ffff99,stroke:#333,stroke-width:2px\n",
        "\n",
        "    P[Perimeter Security]:::perimeter\n",
        "    B[Building Security]:::building\n",
        "    R[Server Room]:::room\n",
        "    S[Server Rack]:::server\n",
        "\n",
        "    P --> |\"Chain Chomp Guards<br>Security Cameras<br>Fence with Piranha Plants\"| B\n",
        "    B --> |\"Koopa Security Guard<br>Badge Readers<br>Motion Sensors\"| R\n",
        "    R --> |\"Biometric Scanner<br>Climate Control<br>Fire Suppression\"| S\n",
        "\n",
        "    S --> |\"Rack Locks<br>Tamper Alerts<br>Asset Tags\"| DB[(\"Database<br>Servers\")]\n",
        "\n",
        "    subgraph Monitoring\n",
        "        M[Security Office]\n",
        "        L[Access Logs]\n",
        "        C[CCTV Feeds]\n",
        "    end\n",
        "\n",
        "    M --> P\n",
        "    M --> B\n",
        "    M --> R\n",
        "    M --> S\n",
        "\n",
        "    style M fill:#FFA07A\n",
        "    style L fill:#FFA07A\n",
        "    style C fill:#FFA07A\n",
        "    style DB fill:#DDA0DD\n",
        "\"\"\")"
      ],
      "metadata": {
        "cellView": "form",
        "id": "hPTLZZJGrrxq",
        "outputId": "d1f7f8e6-b4ae-48b2-f9ed-4a0e6de69a47",
        "colab": {
          "base_uri": "https://localhost:8080/",
          "height": 721
        }
      },
      "execution_count": null,
      "outputs": [
        {
          "output_type": "display_data",
          "data": {
            "text/html": [
              "<img src=\"https://mermaid.ink/img/CmdyYXBoIFRECiAgICBjbGFzc0RlZiBwZXJpbWV0ZXIgZmlsbDojZmY5OTk5LHN0cm9rZTojMzMzLHN0cm9rZS13aWR0aDoycHgKICAgIGNsYXNzRGVmIGJ1aWxkaW5nIGZpbGw6Izk5ZmY5OSxzdHJva2U6IzMzMyxzdHJva2Utd2lkdGg6MnB4CiAgICBjbGFzc0RlZiByb29tIGZpbGw6Izk5OTlmZixzdHJva2U6IzMzMyxzdHJva2Utd2lkdGg6MnB4CiAgICBjbGFzc0RlZiBzZXJ2ZXIgZmlsbDojZmZmZjk5LHN0cm9rZTojMzMzLHN0cm9rZS13aWR0aDoycHgKCiAgICBQW1BlcmltZXRlciBTZWN1cml0eV06OjpwZXJpbWV0ZXIKICAgIEJbQnVpbGRpbmcgU2VjdXJpdHldOjo6YnVpbGRpbmcKICAgIFJbU2VydmVyIFJvb21dOjo6cm9vbQogICAgU1tTZXJ2ZXIgUmFja106OjpzZXJ2ZXIKCiAgICBQIC0tPiB8IkNoYWluIENob21wIEd1YXJkczxicj5TZWN1cml0eSBDYW1lcmFzPGJyPkZlbmNlIHdpdGggUGlyYW5oYSBQbGFudHMifCBCCiAgICBCIC0tPiB8Iktvb3BhIFNlY3VyaXR5IEd1YXJkPGJyPkJhZGdlIFJlYWRlcnM8YnI-TW90aW9uIFNlbnNvcnMifCBSCiAgICBSIC0tPiB8IkJpb21ldHJpYyBTY2FubmVyPGJyPkNsaW1hdGUgQ29udHJvbDxicj5GaXJlIFN1cHByZXNzaW9uInwgUwogICAgCiAgICBTIC0tPiB8IlJhY2sgTG9ja3M8YnI-VGFtcGVyIEFsZXJ0czxicj5Bc3NldCBUYWdzInwgREJbKCJEYXRhYmFzZTxicj5TZXJ2ZXJzIildCgogICAgc3ViZ3JhcGggTW9uaXRvcmluZwogICAgICAgIE1bU2VjdXJpdHkgT2ZmaWNlXQogICAgICAgIExbQWNjZXNzIExvZ3NdCiAgICAgICAgQ1tDQ1RWIEZlZWRzXQogICAgZW5kCgogICAgTSAtLT4gUAogICAgTSAtLT4gQgogICAgTSAtLT4gUgogICAgTSAtLT4gUwogICAgCiAgICBzdHlsZSBNIGZpbGw6I0ZGQTA3QQogICAgc3R5bGUgTCBmaWxsOiNGRkEwN0EKICAgIHN0eWxlIEMgZmlsbDojRkZBMDdBCiAgICBzdHlsZSBEQiBmaWxsOiNEREEwREQK?width=1000&height=700\"/>"
            ],
            "text/plain": [
              "<IPython.core.display.Image object>"
            ]
          },
          "metadata": {}
        }
      ]
    },
    {
      "cell_type": "markdown",
      "source": [
        "## Firewalls\n",
        "\n",
        "Firewalls are essential for maintaining the **logical security** of database systems. They serve as a protective barrier between the database and the network, managing incoming and outgoing network traffic based on predefined **security rules**. Essentially, firewalls help to ensure that only legitimate and safe traffic reaches the database, while potentially harmful traffic is blocked.\n",
        "Firewalls can be configured to perform various tasks to secure a database system:\n",
        "\n",
        "1.  *Allow or Block Specific IP Addresses or Ranges*. This enables the firewall to permit or deny traffic from particular **IP addresses** or a range of addresses. For example, traffic from a trusted internal network might be allowed, while traffic from untrusted external networks could be blocked.\n",
        "\n",
        "2.  *Restrict Access to Specific Ports and Protocols*. Databases often communicate over specific network **(network) ports** using particular **protocols**. Firewalls can be set to allow traffic only on these designated ports and protocols, ensuring that unauthorized access through other ports or protocols is prevented.\n",
        "\n",
        "3.  *Implement Access Control Lists (ACLs)*. ACLs are lists of rules that control network traffic. They can filter traffic based on various criteria such as source and destination IP addresses, port numbers, and protocols. This helps in fine-tuning the control over who can access the database and under what conditions.\n",
        "\n",
        "4.  *Monitor and Log Network Traffic*. Firewalls can keep a record of all traffic passing through them. This log can be analyzed to detect suspicious activities, such as repeated failed login attempts or traffic from known malicious IP addresses. Monitoring helps in identifying and responding to potential security threats in real-time.\n",
        "\n",
        "### Example Configuration\n",
        "\n",
        "To illustrate how a firewall protects a database server, consider the following example configuration:\n",
        "\n",
        "| Rule | Source IP | Destination IP | Port | Protocol | Action |\n",
        "| --- | --- | --- | --- | --- | --- |\n",
        "| 1 | 192.168.1.0/24 | 10.0.0.10 | 5432 | TCP | Allow |\n",
        "| 2 | Any | 10.0.0.10 | Any | Any | Deny |\n",
        "\n",
        "In this example, there are two rules:\n",
        "\n",
        "1. The first **allow rule** permits incoming traffic from the internal network (IP range `192.168.1.0/24`) to the database server (IP `10.0.0.10`) on port `5432` using the TCP protocol. Port 5432 is the default port for PostgreSQL, a common database system. This rule ensures that legitimate internal traffic can reach the database server.\n",
        "\n",
        "2.  The second **deny rule** blocks all other incoming traffic to the database server (`10.0.0.10`). This means that any traffic not explicitly allowed by the first rule will be denied access. This rule is crucial for preventing unauthorized access from external networks.\n",
        "\n",
        "By implementing these firewall rules, the database server gains significant protection:\n",
        "\n",
        "-   Only traffic from trusted sources within the internal network can reach the database, reducing the risk of unauthorized access.\n",
        "-   By restricting access to specific ports and protocols, the firewall minimizes potential vulnerabilities that could be exploited by attackers.\n",
        "-   Logging network traffic allows for continuous monitoring, enabling quick detection and response to suspicious activities.\n"
      ],
      "metadata": {
        "id": "IxEicKy0sFTb"
      }
    },
    {
      "cell_type": "markdown",
      "source": [
        "### Example: Firewall Log\n",
        "Here's a snippet of a typical firewall log (using `iptables` on Ubuntu) that might be recorded for our database server:\n",
        "\n",
        "```\n",
        "Jun 18 12:34:56 servername kernel: [123456.789123] IPTABLES DROP IN=eth0 OUT= MAC=01:23:45:67:89:ab:cd:ef:01:23:45:67:89:ab SRC=203.0.113.1 DST=10.0.0.10 LEN=60 TOS=0x00 PREC=0x00 TTL=55 ID=54321 DF PROTO=TCP SPT=56789 DPT=5432 WINDOW=29200 RES=0x00 SYN URGP=0\n",
        "Jun 18 12:35:01 servername kernel: [123457.123456] IPTABLES ACCEPT IN=eth0 OUT= MAC=01:23:45:67:89:ab:cd:ef:01:23:45:67:89:ab SRC=192.168.1.15 DST=10.0.0.10 LEN=52 TOS=0x00 PREC=0x00 TTL=64 ID=54322 DF PROTO=TCP SPT=12345 DPT=5432 WINDOW=29200 RES=0x00 ACK URGP=0\n",
        "Jun 18 12:35:07 servername kernel: [123458.456789] IPTABLES DROP IN=eth0 OUT= MAC=01:23:45:67:89:ab:cd:ef:01:23:45:67:89:ab SRC=198.51.100.2 DST=10.0.0.10 LEN=60 TOS=0x00 PREC=0x00 TTL=50 ID=54323 DF PROTO=TCP SPT=34567 DPT=5432 WINDOW=29200 RES=0x00 SYN URGP=0\n",
        "```\n",
        "\n",
        "### Interpreting the Log\n",
        "\n",
        "Each log entry contains several pieces of information that can help you understand the nature of the traffic and how the firewall is handling it. Let's break down one of the entries for detailed understanding:\n",
        "\n",
        "```\n",
        "Jun 18 12:34:56 servername kernel: [123456.789123] IPTABLES DROP IN=eth0 OUT= MAC=01:23:45:67:89:ab:cd:ef:01:23:45:67:89:ab SRC=203.0.113.1 DST=10.0.0.10 LEN=60 TOS=0x00 PREC=0x00 TTL=55 ID=54321 DF PROTO=TCP SPT=56789 DPT=5432 WINDOW=29200 RES=0x00 SYN URGP=0\n",
        "```\n",
        "\n",
        "-   **Date and Time**: `Jun 18 12:34:56` - The timestamp when the log entry was recorded.\n",
        "-   **Hostname**: `servername` - The name of the server.\n",
        "-   **Source**: `kernel` - Indicates the log is generated by the kernel.\n",
        "-   **Event ID**: `[123456.789123]` - A unique identifier for the log event.\n",
        "-   **Action**: `IPTABLES DROP` - The action taken by `iptables`, which in this case is to drop the packet.\n",
        "-   **Interface**: `IN=eth0 OUT=` - The network interface on which the packet was received (`eth0`). The `OUT=` part is empty, meaning this is an incoming packet.\n",
        "-   **MAC Address**: `MAC=01:23:45:67:89:ab:cd:ef:01:23:45:67:89:ab` - The Media Access Control address, indicating the physical address of the network interfaces involved.\n",
        "-   **Source IP**: `SRC=203.0.113.1` - The IP address from which the packet originated.\n",
        "-   **Destination IP**: `DST=10.0.0.10` - The IP address to which the packet was directed (the database server).\n",
        "-   **Packet Length**: `LEN=60` - The length of the packet.\n",
        "-   **Type of Service**: `TOS=0x00` - Quality of service of the packet.\n",
        "-   **Precedence**: `PREC=0x00` - Precedence of the packet.\n",
        "-   **Time to Live**: `TTL=55` - Indicates how many hops the packet can take before being discarded.\n",
        "-   **Packet ID**: `ID=54321` - A unique identifier for the packet.\n",
        "-   **Flags**: `DF` - Do not Fragment flag.\n",
        "-   **Protocol**: `PROTO=TCP` - The protocol used, in this case, TCP (Transmission Control Protocol).\n",
        "-   **Source Port**: `SPT=56789` - The port number on the source machine.\n",
        "-   **Destination Port**: `DPT=5432` - The port number on the destination machine (default port for PostgreSQL).\n",
        "-   **Window Size**: `WINDOW=29200` - The size of the TCP window.\n",
        "-   **Reserved Bits**: `RES=0x00` - Reserved bits.\n",
        "-   **TCP Flags**: `SYN` - Indicates this is a SYN (synchronize) packet, part of the TCP handshake.\n",
        "-   **Urgent Pointer**: `URGP=0` - Urgent pointer value.\n",
        "\n",
        "By examining the firewall log, you can determine which traffic is being allowed or denied access to your database server. Accepted entries indicate legitimate traffic permitted by your firewall rules, while dropped entries signify potential unauthorized access attempts. Understanding these logs helps in maintaining the security and integrity of your database systems."
      ],
      "metadata": {
        "id": "YfITcQietQ1B"
      }
    },
    {
      "cell_type": "code",
      "source": [
        "# @title\n",
        "mm(\"\"\"\n",
        "graph TD\n",
        "    classDef external fill:#ff9999,stroke:#333,stroke-width:2px\n",
        "    classDef firewall fill:#ffcc99,stroke:#333,stroke-width:4px\n",
        "    classDef internal fill:#99ff99,stroke:#333,stroke-width:2px\n",
        "    classDef threat fill:#ff6666,stroke:#333,stroke-width:2px\n",
        "\n",
        "    I[Internet]:::external\n",
        "    P[Perimeter Firewall]:::firewall\n",
        "    DMZ[DMZ]:::internal\n",
        "    IF[Internal Firewall]:::firewall\n",
        "    DB[(\"Hospital Database\")]:::internal\n",
        "\n",
        "    T1[\"DDoS Attack<br>from Bowser\"]:::threat\n",
        "    T2[\"SQL Injection<br>from Wario\"]:::threat\n",
        "    T3[\"Port Scan<br>from Waluigi\"]:::threat\n",
        "    T4[\"Malware from<br>Kamek's Spells\"]:::threat\n",
        "    T5[\"Unauthorized Website Access<br>from Intern Toad\"]:::threat\n",
        "\n",
        "    T1 -->|BLOCKED| P\n",
        "    T2 -->|FILTERED| P\n",
        "    T3 -->|DETECTED| P\n",
        "    T4 -->|QUARANTINED| P\n",
        "    T5 -->|BLOCKED BY<br>INTERNAL FIREWALL| IF\n",
        "\n",
        "    P -->|\"Legitimate Traffic<br>Only\"| DMZ\n",
        "    DMZ -->|\"Verified<br>Requests\"| IF\n",
        "    IF -->|\"Authorized<br>Access\"| DB\n",
        "\n",
        "    subgraph Protection\n",
        "        direction TB\n",
        "        R1[\"Rate Limiting\"]\n",
        "        R2[\"Packet Inspection\"]\n",
        "        R3[\"Port Security\"]\n",
        "        R4[\"Application Rules\"]\n",
        "    end\n",
        "\n",
        "    P -.->|\"Uses\"| Protection\n",
        "    IF -.->|\"Uses\"| Protection\n",
        "\"\"\")"
      ],
      "metadata": {
        "cellView": "form",
        "id": "8dzqjLUPsHH0",
        "outputId": "dd8360a4-24f7-4645-adb1-3734cced7b23",
        "colab": {
          "base_uri": "https://localhost:8080/",
          "height": 721
        }
      },
      "execution_count": null,
      "outputs": [
        {
          "output_type": "display_data",
          "data": {
            "text/html": [
              "<img src=\"https://mermaid.ink/img/CmdyYXBoIFRECiAgICBjbGFzc0RlZiBleHRlcm5hbCBmaWxsOiNmZjk5OTksc3Ryb2tlOiMzMzMsc3Ryb2tlLXdpZHRoOjJweAogICAgY2xhc3NEZWYgZmlyZXdhbGwgZmlsbDojZmZjYzk5LHN0cm9rZTojMzMzLHN0cm9rZS13aWR0aDo0cHgKICAgIGNsYXNzRGVmIGludGVybmFsIGZpbGw6Izk5ZmY5OSxzdHJva2U6IzMzMyxzdHJva2Utd2lkdGg6MnB4CiAgICBjbGFzc0RlZiB0aHJlYXQgZmlsbDojZmY2NjY2LHN0cm9rZTojMzMzLHN0cm9rZS13aWR0aDoycHgKCiAgICBJW0ludGVybmV0XTo6OmV4dGVybmFsCiAgICBQW1BlcmltZXRlciBGaXJld2FsbF06OjpmaXJld2FsbAogICAgRE1aW0RNWl06OjppbnRlcm5hbAogICAgSUZbSW50ZXJuYWwgRmlyZXdhbGxdOjo6ZmlyZXdhbGwKICAgIERCWygiSG9zcGl0YWwgRGF0YWJhc2UiKV06OjppbnRlcm5hbAoKICAgIFQxWyJERG9TIEF0dGFjazxicj5mcm9tIEJvd3NlciJdOjo6dGhyZWF0CiAgICBUMlsiU1FMIEluamVjdGlvbjxicj5mcm9tIFdhcmlvIl06Ojp0aHJlYXQKICAgIFQzWyJQb3J0IFNjYW48YnI-ZnJvbSBXYWx1aWdpIl06Ojp0aHJlYXQKICAgIFQ0WyJNYWx3YXJlIGZyb208YnI-S2FtZWsncyBTcGVsbHMiXTo6OnRocmVhdAogICAgVDVbIlVuYXV0aG9yaXplZCBXZWJzaXRlIEFjY2Vzczxicj5mcm9tIEludGVybiBUb2FkIl06Ojp0aHJlYXQKICAgIAogICAgVDEgLS0-fEJMT0NLRUR8IFAKICAgIFQyIC0tPnxGSUxURVJFRHwgUAogICAgVDMgLS0-fERFVEVDVEVEfCBQCiAgICBUNCAtLT58UVVBUkFOVElORUR8IFAKICAgIFQ1IC0tPnxCTE9DS0VEIEJZPGJyPklOVEVSTkFMIEZJUkVXQUxMfCBJRgogICAgCiAgICBQIC0tPnwiTGVnaXRpbWF0ZSBUcmFmZmljPGJyPk9ubHkifCBETVoKICAgIERNWiAtLT58IlZlcmlmaWVkPGJyPlJlcXVlc3RzInwgSUYKICAgIElGIC0tPnwiQXV0aG9yaXplZDxicj5BY2Nlc3MifCBEQgoKICAgIHN1YmdyYXBoIFByb3RlY3Rpb24KICAgICAgICBkaXJlY3Rpb24gVEIKICAgICAgICBSMVsiUmF0ZSBMaW1pdGluZyJdCiAgICAgICAgUjJbIlBhY2tldCBJbnNwZWN0aW9uIl0KICAgICAgICBSM1siUG9ydCBTZWN1cml0eSJdCiAgICAgICAgUjRbIkFwcGxpY2F0aW9uIFJ1bGVzIl0KICAgIGVuZAoKICAgIFAgLS4tPnwiVXNlcyJ8IFByb3RlY3Rpb24KICAgIElGIC0uLT58IlVzZXMifCBQcm90ZWN0aW9uCg==?width=1000&height=700\"/>"
            ],
            "text/plain": [
              "<IPython.core.display.Image object>"
            ]
          },
          "metadata": {}
        }
      ]
    },
    {
      "cell_type": "markdown",
      "source": [
        "### Network Segmentation and VLANs\n",
        "**Network segmentation** is a crucial security practice that divides a computer network into smaller parts. Just as a hospital has different departments with varying security needs, a network can be divided to protect sensitive data and systems. This prevents problems in one area from affecting others and makes it harder for attackers to move through the network.\n",
        "\n",
        "**Virtual Local Area Networks (VLANs)** take this concept further by creating logical divisions that work independently of physical location. At Toad City Hospital, VLANs allow devices to be grouped by function rather than where they're physically located, providing both security and flexibility.\n",
        "\n",
        "1. **Public Services (VLAN 10)**\n",
        "The hospital's front desk of the digital world. This VLAN contains web servers and public-facing services, allowing patients to check appointments and access general information without ever touching sensitive systems.\n",
        "\n",
        "2. **Medical Systems (VLAN 20)**\n",
        "Where the clinical work happens digitally. This VLAN hosts medical equipment, Electronic Health Record (EHR) systems, and healthcare workstations. Dr. Mario and other medical staff can access patient care systems while keeping them isolated from public areas.\n",
        "\n",
        "3. **Database Systems (VLAN 30)**\n",
        "The secure vault for patient data. This VLAN contains the hospital's databases and their backup systems, with strict access controls. Only authorized systems from other VLANs can connect, and all connections are encrypted.\n",
        "\n",
        "4. **Management Systems (VLAN 40)**\n",
        "IT Toad's domain. This VLAN hosts administrative systems and network monitoring tools. It's completely separate from patient-care systems and public access, providing a secure space for hospital management.\n",
        "\n",
        "5. **Traffic Control**\n",
        "The **Core Switch** and **Firewall** work together like smart security guards. The switch maintains VLAN boundaries, while the firewall uses **Access Control Lists (ACLs)** to regulate traffic between VLANs, ensuring that each type of traffic follows approved paths only."
      ],
      "metadata": {
        "id": "F9FhTWjsuWld"
      }
    },
    {
      "cell_type": "code",
      "source": [
        "# @title\n",
        "mm(\"\"\"\n",
        "graph TD\n",
        "    classDef fw fill:#ff9999,stroke:#333,stroke-width:4px\n",
        "    classDef net fill:#99ff99,stroke:#333,stroke-width:2px\n",
        "    classDef srv fill:#9999ff,stroke:#333,stroke-width:2px\n",
        "    classDef db fill:#ffcc99,stroke:#333,stroke-width:4px\n",
        "    classDef sw fill:#dddddd,stroke:#333,stroke-width:3px\n",
        "\n",
        "    FW[Core Firewall]:::fw\n",
        "    SW1[Core Switch]:::sw\n",
        "\n",
        "    subgraph VLAN10[\"VLAN 10 - Public Services\"]\n",
        "        WEB[Web Servers]:::srv\n",
        "        MAIL[Mail Systems]:::srv\n",
        "    end\n",
        "\n",
        "    subgraph VLAN20[\"VLAN 20 - Medical Systems\"]\n",
        "        EHR[EHR Systems]:::srv\n",
        "        LAB[Laboratory]:::srv\n",
        "        RAD[Radiology]:::srv\n",
        "    end\n",
        "\n",
        "    subgraph VLAN30[\"VLAN 30 - Database\"]\n",
        "        DBS[(\"Primary Database\")]:::db\n",
        "        BKP[Backup Systems]:::srv\n",
        "    end\n",
        "\n",
        "    subgraph VLAN40[\"VLAN 40 - Management\"]\n",
        "        ADM[Admin Systems]:::srv\n",
        "        MON[Monitoring]:::srv\n",
        "    end\n",
        "\n",
        "    FW -->|\"ACLs Filter<br>Inter-VLAN Traffic\"| SW1\n",
        "\n",
        "    SW1 -->|\"VLAN 10<br>10.1.0.0/16\"| VLAN10\n",
        "    SW1 -->|\"VLAN 20<br>172.16.0.0/16\"| VLAN20\n",
        "    SW1 -->|\"VLAN 30<br>192.168.1.0/24\"| VLAN30\n",
        "    SW1 -->|\"VLAN 40<br>192.168.2.0/24\"| VLAN40\n",
        "\n",
        "    WEB -->|\"Trunked<br>Connection\"| EHR\n",
        "    EHR -->|\"Encrypted<br>Connection\"| DBS\n",
        "    LAB -->|\"Secure<br>Channel\"| DBS\n",
        "    RAD -->|\"Dedicated<br>Link\"| DBS\n",
        "    ADM -->|\"Admin<br>Access\"| DBS\n",
        "    \"\"\")"
      ],
      "metadata": {
        "colab": {
          "base_uri": "https://localhost:8080/",
          "height": 721
        },
        "id": "S_OQG-lkuX60",
        "outputId": "ce216f93-12ba-4a42-d97f-5b66590ac0ea",
        "cellView": "form"
      },
      "execution_count": null,
      "outputs": [
        {
          "output_type": "display_data",
          "data": {
            "text/html": [
              "<img src=\"https://mermaid.ink/img/CmdyYXBoIFRECiAgICBjbGFzc0RlZiBmdyBmaWxsOiNmZjk5OTksc3Ryb2tlOiMzMzMsc3Ryb2tlLXdpZHRoOjRweAogICAgY2xhc3NEZWYgbmV0IGZpbGw6Izk5ZmY5OSxzdHJva2U6IzMzMyxzdHJva2Utd2lkdGg6MnB4CiAgICBjbGFzc0RlZiBzcnYgZmlsbDojOTk5OWZmLHN0cm9rZTojMzMzLHN0cm9rZS13aWR0aDoycHgKICAgIGNsYXNzRGVmIGRiIGZpbGw6I2ZmY2M5OSxzdHJva2U6IzMzMyxzdHJva2Utd2lkdGg6NHB4CiAgICBjbGFzc0RlZiBzdyBmaWxsOiNkZGRkZGQsc3Ryb2tlOiMzMzMsc3Ryb2tlLXdpZHRoOjNweAoKICAgIEZXW0NvcmUgRmlyZXdhbGxdOjo6ZncKICAgIFNXMVtDb3JlIFN3aXRjaF06OjpzdwogICAgCiAgICBzdWJncmFwaCBWTEFOMTBbIlZMQU4gMTAgLSBQdWJsaWMgU2VydmljZXMiXQogICAgICAgIFdFQltXZWIgU2VydmVyc106OjpzcnYKICAgICAgICBNQUlMW01haWwgU3lzdGVtc106OjpzcnYKICAgIGVuZAoKICAgIHN1YmdyYXBoIFZMQU4yMFsiVkxBTiAyMCAtIE1lZGljYWwgU3lzdGVtcyJdCiAgICAgICAgRUhSW0VIUiBTeXN0ZW1zXTo6OnNydgogICAgICAgIExBQltMYWJvcmF0b3J5XTo6OnNydgogICAgICAgIFJBRFtSYWRpb2xvZ3ldOjo6c3J2CiAgICBlbmQKCiAgICBzdWJncmFwaCBWTEFOMzBbIlZMQU4gMzAgLSBEYXRhYmFzZSJdCiAgICAgICAgREJTWygiUHJpbWFyeSBEYXRhYmFzZSIpXTo6OmRiCiAgICAgICAgQktQW0JhY2t1cCBTeXN0ZW1zXTo6OnNydgogICAgZW5kCgogICAgc3ViZ3JhcGggVkxBTjQwWyJWTEFOIDQwIC0gTWFuYWdlbWVudCJdCiAgICAgICAgQURNW0FkbWluIFN5c3RlbXNdOjo6c3J2CiAgICAgICAgTU9OW01vbml0b3JpbmddOjo6c3J2CiAgICBlbmQKCiAgICBGVyAtLT58IkFDTHMgRmlsdGVyPGJyPkludGVyLVZMQU4gVHJhZmZpYyJ8IFNXMQogICAgCiAgICBTVzEgLS0-fCJWTEFOIDEwPGJyPjEwLjEuMC4wLzE2InwgVkxBTjEwCiAgICBTVzEgLS0-fCJWTEFOIDIwPGJyPjE3Mi4xNi4wLjAvMTYifCBWTEFOMjAKICAgIFNXMSAtLT58IlZMQU4gMzA8YnI-MTkyLjE2OC4xLjAvMjQifCBWTEFOMzAKICAgIFNXMSAtLT58IlZMQU4gNDA8YnI-MTkyLjE2OC4yLjAvMjQifCBWTEFONDAKCiAgICBXRUIgLS0-fCJUcnVua2VkPGJyPkNvbm5lY3Rpb24ifCBFSFIKICAgIEVIUiAtLT58IkVuY3J5cHRlZDxicj5Db25uZWN0aW9uInwgREJTCiAgICBMQUIgLS0-fCJTZWN1cmU8YnI-Q2hhbm5lbCJ8IERCUwogICAgUkFEIC0tPnwiRGVkaWNhdGVkPGJyPkxpbmsifCBEQlMKICAgIEFETSAtLT58IkFkbWluPGJyPkFjY2VzcyJ8IERCUwogICAg?width=1000&height=700\"/>"
            ],
            "text/plain": [
              "<IPython.core.display.Image object>"
            ]
          },
          "metadata": {}
        }
      ]
    },
    {
      "cell_type": "markdown",
      "source": [
        "## Chapter Key Points\n",
        "-   Database security revolves around the CIA Triad: Confidentiality, Integrity, and Availability\n",
        "-   Common threats to databases include SQL injection, DDoS attacks, insider threats, and malware\n",
        "-   Encryption protects sensitive data by converting it into an unreadable format without the proper key\n",
        "-   Data masking creates a fictional but realistic version of sensitive data for non-production use\n",
        "-   Proper data destruction ensures that sensitive information is securely and permanently deleted\n",
        "-   Auditing and monitoring database activities help detect and investigate suspicious behavior\n",
        "-   Authentication verifies user identities, authorization grants access rights, and access control enforces permissions\n",
        "-   Physical security measures protect the hardware and infrastructure hosting the databases\n",
        "-   Firewalls act as a barrier, filtering network traffic and blocking unauthorized access attempts\n",
        "-   Network segmentation isolates databases from other network resources to minimize the impact of security breaches"
      ],
      "metadata": {
        "id": "V0Dd2ePtxa53"
      }
    },
    {
      "cell_type": "markdown",
      "source": [
        "## Activity: Analyzing Hospital Firewall Logs (NOTE: CODE TO COME)\n",
        "In this activity, you'll analyze network security logs from Toad City Hospital's firewall. The database contains a day's worth of network traffic, including both normal operations and security events. You'll learn to:\n",
        "- Query firewall logs to identify security incidents\n",
        "- Analyze patterns in network traffic\n",
        "- Monitor access to sensitive medical systems\n",
        "- Track user activity across network zones\n",
        "\n",
        "## The Database\n",
        "\n",
        "### Zones and Security Context\n",
        "Toad City Hospital's network is divided into three zones:\n",
        "- **Medical Zone** (192.168.10.0/24, 10.10.10.0/24): Contains clinical systems and patient data\n",
        "- **Admin Zone** (192.168.20.0/24, 10.20.20.0/24): Hospital administration and IT systems\n",
        "- **Public Zone** (192.168.30.0/24, 10.30.30.0/24): Guest wifi and public-facing services\n",
        "\n",
        "### Table Structure: firewall_logs\n",
        "\n",
        "| Column Name     | Data Type | Description | Example Value |\n",
        "|----------------|-----------|-------------|---------------|\n",
        "| timestamp      | TEXT      | When the connection occurred | \"2024-11-18T14:35:22\" |\n",
        "| src_ip         | TEXT      | Source IP address | \"192.168.10.45\" |\n",
        "| dst_ip         | TEXT      | Destination IP address | \"10.20.20.100\" |\n",
        "| src_port       | INTEGER   | Source port | 50123 |\n",
        "| dst_port       | INTEGER   | Destination port | 443 |\n",
        "| protocol       | TEXT      | Service name | \"HTTPS\" |\n",
        "| action         | TEXT      | ALLOW or BLOCK | \"ALLOW\" |\n",
        "| user_id        | TEXT      | Username | \"mario.bros\" |\n",
        "| bytes_sent     | INTEGER   | Upload size in bytes | 50000 |\n",
        "| bytes_received | INTEGER   | Download size in bytes | 75000 |\n",
        "\n",
        "### Common Service Ports\n",
        "- 80, 443: Web traffic\n",
        "- 22: SSH (remote access)\n",
        "- 3389: Remote Desktop\n",
        "- 1433: Database\n",
        "- 8080: Alternative web\n",
        "\n",
        "### Users\n",
        "- **Administrators**: mario.bros, luigi.bros, princess.peach\n",
        "- **Standard Users**: toad, yoshi, bowser, wario, waluigi, daisy, rosalina\n",
        "\n",
        "## Basic Queries\n",
        "\n",
        "| Task | Query | Expected Output |\n",
        "|------|-------|----------------|\n",
        "| View Recent Blocks | `SELECT timestamp, src_ip, dst_ip FROM firewall_logs WHERE action = 'BLOCK' LIMIT 5;` | Recent security blocks |\n",
        "| Count by Protocol | `SELECT protocol, COUNT(*) as count FROM firewall_logs GROUP BY protocol;` | Traffic breakdown |\n",
        "| Find User Activity | `SELECT * FROM firewall_logs WHERE user_id = 'mario.bros';` | Single user's connections |\n",
        "| Medical Zone Traffic | `SELECT * FROM firewall_logs WHERE dst_ip LIKE '192.168.10.%';` | Medical system access |\n",
        "| Large Transfers | `SELECT * FROM firewall_logs WHERE bytes_sent > 1000000;` | Big data movements |\n",
        "| Action Summary | `SELECT action, COUNT(*) FROM firewall_logs GROUP BY action;` | Allow vs block totals |\n",
        "| Hourly Activity | `SELECT strftime('%H', timestamp) as hour, COUNT(*) FROM firewall_logs GROUP BY hour;` | Traffic by hour |\n",
        "| Active Users | `SELECT user_id, COUNT(*) as count FROM firewall_logs GROUP BY user_id LIMIT 5;` | Most active users |\n"
      ],
      "metadata": {
        "id": "JSYTRpl84C1H"
      }
    },
    {
      "cell_type": "markdown",
      "source": [
        "## Review With Quizlet"
      ],
      "metadata": {
        "id": "_kLw81NQUnwv"
      }
    },
    {
      "cell_type": "code",
      "source": [
        "%%html\n",
        "<iframe src=\"https://quizlet.com/930524668/learn/embed?i=psvlh&x=1jj1\" height=\"600\" width=\"100%\" style=\"border:0\"></iframe>"
      ],
      "metadata": {
        "id": "kKEzssAhUs0t",
        "outputId": "719682c6-62af-413a-ae43-75be12d94f16",
        "colab": {
          "base_uri": "https://localhost:8080/",
          "height": 621
        }
      },
      "execution_count": null,
      "outputs": [
        {
          "output_type": "display_data",
          "data": {
            "text/plain": [
              "<IPython.core.display.HTML object>"
            ],
            "text/html": [
              "<iframe src=\"https://quizlet.com/930524668/learn/embed?i=psvlh&x=1jj1\" height=\"600\" width=\"100%\" style=\"border:0\"></iframe>\n"
            ]
          },
          "metadata": {}
        }
      ]
    },
    {
      "cell_type": "markdown",
      "source": [
        "## Glossary\n",
        "\n",
        "| Term | Definition |\n",
        "|------|------------|\n",
        "| Access controls | Mechanisms that regulate and restrict access to resources based on user identity and permissions. |\n",
        "| Advanced Persistent Threats | Sophisticated, long-term cyberattacks typically targeting specific organizations for espionage or data theft. |\n",
        "| Allow rule (firewall) | A firewall configuration that explicitly permits specific types of network traffic to pass through. |\n",
        "| Asymmetric Encryption | Cryptographic system using pairs of keys: public keys for encryption and private keys for decryption. |\n",
        "| Audit logs | Records of system activities, providing a trail for monitoring and investigating security incidents. |\n",
        "| Authentication | Process of verifying the identity of a user, device, or system attempting to access a resource. |\n",
        "| Authorization | Process of granting or denying specific permissions to authenticated entities. |\n",
        "| Availability | Principle ensuring that data and resources are accessible to authorized users when needed. |\n",
        "| Biometric scanners | Devices that verify identity using unique physical characteristics like fingerprints or retinal patterns. |\n",
        "| Brute Force attack | Method of trying all possible combinations to guess passwords or encryption keys. |\n",
        "| CIA Triad | Fundamental model of information security: Confidentiality, Integrity, and Availability. |\n",
        "| Code audit | Systematic examination of source code to identify security vulnerabilities and coding errors. |\n",
        "| Confidentiality | Principle of keeping data private and accessible only to authorized parties. |\n",
        "| Cybercriminals | Individuals or groups who use technology to commit illegal activities for financial gain or malicious purposes. |\n",
        "| Data classification | Process of categorizing data based on its sensitivity and importance to an organization. |\n",
        "| Data discovery | Process of identifying and locating sensitive or regulated data within an organization's systems. |\n",
        "| Data masking | Technique of hiding original data with modified content to protect sensitive information. |\n",
        "| Data retention policies | Guidelines specifying how long data should be kept and when it should be deleted or archived. |\n",
        "| Data-at-rest | Information stored on devices or systems, not actively moving through networks. |\n",
        "| Data-in-transit | Information moving through a network, vulnerable to interception. |\n",
        "| Deny rule (firewall) | A firewall configuration that explicitly blocks specific types of network traffic. |\n",
        "| Distributed Denial of Service (DDoS) | Attack that overwhelms a system with traffic from multiple sources, rendering it unavailable. |\n",
        "| Firewall | Network security system that monitors and controls incoming and outgoing traffic based on predetermined rules. |\n",
        "| Hacktivists | Individuals who use hacking techniques to promote a political agenda or social change. |\n",
        "| Insider Threats | Security risks originating from within an organization, such as employees or contractors. |\n",
        "| Integrity | Principle of maintaining and assuring the accuracy and consistency of data over its lifecycle. |\n",
        "| Malware | Malicious software designed to disrupt, damage, or gain unauthorized access to a computer system. |\n",
        "| Network segmentation | Practice of dividing a network into smaller parts to improve security and performance. |\n",
        "| On-path attack | Interception and potential alteration of data as it travels between two parties. |\n",
        "| Penetration testing | Authorized simulated cyberattack on a system to evaluate its security. |\n",
        "| Phishing | Fraudulent attempt to obtain sensitive information by disguising as a trustworthy entity. |\n",
        "| Ransomware | Malware that encrypts a victim's files, demanding payment for the decryption key. |\n",
        "| Secure deletion | Process of permanently erasing data to prevent recovery, often using multiple overwrites. |\n",
        "| SQL injection | Attack technique inserting malicious SQL statements into application queries. |\n",
        "| Symmetric Encryption | Cryptographic method using the same key for both encryption and decryption. |\n",
        "| Uninterruptable power supplies (UPS) | Devices providing emergency power when the main power source fails. |\n",
        "| Virtual Local Area Network (VLAN) | Logical grouping of devices in the same broadcast domain, regardless of physical location. |\n",
        "| Zero-Day Exploit | Attack that targets a previously unknown vulnerability before a patch is available. |"
      ],
      "metadata": {
        "id": "NN9yWitVUO5w"
      }
    },
    {
      "cell_type": "code",
      "source": [],
      "metadata": {
        "id": "RYIm6P-qxmIM"
      },
      "execution_count": null,
      "outputs": []
    }
  ]
}