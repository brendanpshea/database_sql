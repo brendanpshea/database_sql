{
  "nbformat": 4,
  "nbformat_minor": 0,
  "metadata": {
    "colab": {
      "provenance": [],
      "authorship_tag": "ABX9TyNE2LETelxoDndfnC9DlXup",
      "include_colab_link": true
    },
    "kernelspec": {
      "name": "python3",
      "display_name": "Python 3"
    },
    "language_info": {
      "name": "python"
    }
  },
  "cells": [
    {
      "cell_type": "markdown",
      "metadata": {
        "id": "view-in-github",
        "colab_type": "text"
      },
      "source": [
        "<a href=\"https://colab.research.google.com/github/brendanpshea/database_sql/blob/main/Database_10_DatabaseSecurity.ipynb\" target=\"_parent\"><img src=\"https://colab.research.google.com/assets/colab-badge.svg\" alt=\"Open In Colab\"/></a>"
      ]
    },
    {
      "cell_type": "markdown",
      "source": [
        "What is the CIA Triad and why is it important for database security?\n",
        "--------------------------------------------------------------------\n",
        "\n",
        "The **CIA Triad** is a fundamental concept in information security that stands for **Confidentiality**, **Integrity**, and **Availability**. It serves as a guiding framework for designing and implementing security measures to protect sensitive data stored in databases.\n",
        "\n",
        "1.  **Confidentiality**: This principle ensures that data is accessible only to authorized individuals or systems. It prevents unauthorized disclosure of sensitive information. Confidentiality is maintained through various mechanisms such as encryption, access controls, and authentication.\n",
        "2.  **Integrity**: Integrity ensures that data remains accurate, consistent, and trustworthy throughout its lifecycle. It prevents unauthorized modification or tampering of data. Integrity is maintained through techniques like data validation, checksums, and version control.\n",
        "3.  **Availability**: Availability ensures that data is readily accessible to authorized users whenever needed. It involves maintaining the proper functioning of systems, networks, and resources. Availability is ensured through measures such as redundancy, backup systems, and disaster recovery planning.\n",
        "\n",
        "The CIA Triad is crucial for database security because databases often store sensitive and critical information. A breach in any of these three aspects can lead to severe consequences, such as data leaks, financial losses, reputational damage, and legal implications."
      ],
      "metadata": {
        "id": "XELq0mcfMZxe"
      }
    },
    {
      "cell_type": "markdown",
      "source": [
        "## Case Study: Database at the Toad City Hospital\n",
        "\n",
        "Let's consider a case study of the database at the Toad City Hospital, the Mushroom Kingdom's main medical center (which we encountered in earlier chapters). The hospital uses a PostgreSQL database to store sensitive patient information.\n",
        "\n",
        "Here's an example of a sample table named `patients` with sensitive data:"
      ],
      "metadata": {
        "id": "6H0m56rPMcPn"
      }
    },
    {
      "cell_type": "code",
      "execution_count": 1,
      "metadata": {
        "colab": {
          "base_uri": "https://localhost:8080/"
        },
        "id": "YY99eNYGMZGD",
        "outputId": "aaeaf43f-29c2-4624-e529-fc79fc2ad96d"
      },
      "outputs": [
        {
          "output_type": "stream",
          "name": "stdout",
          "text": [
            " * Starting PostgreSQL 14 database server\n",
            "   ...done.\n",
            "CREATE ROLE\n"
          ]
        }
      ],
      "source": [
        "# Install postgres\n",
        "!apt install postgresql postgresql-contrib &>log\n",
        "!service postgresql start\n",
        "!sudo -u postgres psql -c \"CREATE USER root WITH SUPERUSER\"\n",
        "# set connection\n",
        "%load_ext sql\n",
        "%sql postgresql+psycopg2://@/postgres"
      ]
    },
    {
      "cell_type": "code",
      "source": [
        "%%sql\n",
        "DROP TABLE IF EXISTS patients;\n",
        "\n",
        "CREATE TABLE patients (\n",
        "  patient_id SERIAL PRIMARY KEY,\n",
        "  name VARCHAR(100) NOT NULL,\n",
        "  date_of_birth DATE NOT NULL,\n",
        "  social_security_number VARCHAR(200) NOT NULL,\n",
        "  medical_history JSONB\n",
        ");"
      ],
      "metadata": {
        "colab": {
          "base_uri": "https://localhost:8080/"
        },
        "id": "FlAtWYdFM3KU",
        "outputId": "bf356f4f-8696-4e35-db95-38952eb0fe6b"
      },
      "execution_count": 7,
      "outputs": [
        {
          "output_type": "stream",
          "name": "stdout",
          "text": [
            " * postgresql+psycopg2://@/postgres\n",
            "Done.\n",
            "Done.\n"
          ]
        },
        {
          "output_type": "execute_result",
          "data": {
            "text/plain": [
              "[]"
            ]
          },
          "metadata": {},
          "execution_count": 7
        }
      ]
    },
    {
      "cell_type": "markdown",
      "source": [
        "The `patients` table contains sensitive information such as patient names, dates of birth, social security numbers, and medical histories. Ensuring the CIA Triad for this database is critical:\n",
        "\n",
        "-   **Confidentiality**: Patient information should be kept confidential and accessible only to authorized healthcare professionals and staff members. Unauthorized access to this data could lead to privacy breaches and legal consequences.\n",
        "-   **Integrity**: The accuracy and consistency of patient information are vital. Any unauthorized modifications or tampering with the data could result in incorrect diagnoses, treatment errors, and potential harm to patients.\n",
        "-   **Availability**: The database must be available and accessible to authorized personnel whenever needed, especially in emergency situations. Downtime or inaccessibility of the database could hinder patient care and hospital operations.\n",
        "\n",
        "To protect the sensitive data in the Toad City Hospital's database, various security measures aligned with the CIA Triad should be implemented. These measures will be explored in the subsequent sections of this chapter."
      ],
      "metadata": {
        "id": "vGCngX6BNFWX"
      }
    },
    {
      "cell_type": "markdown",
      "source": [
        "## What are the common threats to databases and how do they work?\n",
        "\n",
        "Databases face various threats that can compromise the confidentiality, integrity, and availability of sensitive data. Understanding these threats is crucial for implementing effective security measures. Let's explore some of the common threats to databases:\n",
        "\n",
        "### Who might want their data? (types of attackers)\n",
        "\n",
        "Attackers seeking to gain unauthorized access to database data can be categorized into several types:\n",
        "\n",
        "1.  **Cybercriminals** are motivated by financial gain. They may attempt to steal sensitive information for identity theft, financial fraud, or selling on the dark web.\n",
        "2.  **Insider threats** include disgruntled employees, contractors, or privileged users with malicious intent can misuse their access to steal or manipulate data.\n",
        "3.  **Competitors** such as rival organizations may seek to gain a competitive advantage by stealing trade secrets, customer data, or other confidential information.\n",
        "4.  **Hacktivists** are driven by political or ideological motives. They may target databases to expose perceived wrongdoings or to make a statement.\n",
        "5. **Advanced Persistent Threats** are often sponsored by hostile nation-states (such as the Koopa Kingdom), and reguarly deploy **zero-day exploits** (that is, entirely new ones) and have many resources (money, time, expertise) at their disposal. A major medical research center like Toad City hospital might well be a target for these actors.\n",
        "\n",
        "### SQL Injection\n",
        "\n",
        "**SQL Injection** is a code injection technique that exploits vulnerabilities in the database's input validation process. Attackers insert malicious SQL statements into application input fields, which are then executed by the database, allowing them to bypass security measures and gain unauthorized access to data.\n",
        "\n",
        "Example: Consider a login form that accepts a username and password. If the application doesn't properly validate the input, an attacker could enter the following malicious input:\n",
        "\n",
        "```\n",
        "Username: admin' --\n",
        "Password: this_is_now_irrelevant\n",
        "```\n",
        "\n",
        "The resulting SQL query would be:\n",
        "\n",
        "```sql\n",
        "SELECT * FROM users WHERE username = 'admin' -- AND password = 'this_is_now_irrelevant';\n",
        "```\n",
        "\n",
        "The `--` in the username input comments out the rest of the query, effectively bypassing the password check and granting access to the attacker.\n",
        "\n",
        "To prevent SQL Injection, it's crucial to implement proper input validation and parameterized queries. (This was covered in previous chapters).\n",
        "\n",
        "### DDoS (Distributed Denial of Service)\n",
        "\n",
        "A **DDoS attack** aims to overwhelm a database server with a flood of traffic from multiple sources, rendering it unavailable to legitimate users. Attackers often use botnets (networks of compromised devices) to generate the massive traffic.\n",
        "\n",
        "Example: Imagine the Toad City Hospital's database server is suddenly hit with a DDoS attack. The server is bombarded with a huge number of simultaneous requests, causing it to slow down or crash. As a result, healthcare professionals are unable to access critical patient information, disrupting patient care and hospital operations.\n",
        "\n",
        "To mitigate DDoS attacks, organizations can implement traffic filtering, rate limiting, and use DDoS mitigation services. Firewalls play an important role in  this--more on these later.\n",
        "\n",
        "### On-path attacks\n",
        "\n",
        "**On-path attacks**, also known as Man-in-the-Middle (MitM) attacks, occur when an attacker intercepts the communication between the database client and server. The attacker can eavesdrop on the transmitted data and potentially modify it.\n",
        "\n",
        "Example: Consider a scenario where a doctor at Toad City Hospital is accessing patient records from a remote location. If the communication channel is not properly secured, an attacker could intercept the data in transit, compromising the confidentiality and integrity of sensitive patient information.\n",
        "\n",
        "To prevent on-path attacks, it's essential to use secure communication protocols like HTTPS and implement proper encryption for data in transit."
      ],
      "metadata": {
        "id": "J1CsdcH1OIxu"
      }
    },
    {
      "cell_type": "markdown",
      "source": [
        "### Brute Force Attacks\n",
        "**Brute force attacks** involve an attacker systematically trying all possible combinations of usernames and passwords until they find the correct credentials to gain unauthorized access to the database.\n",
        "\n",
        "Example: Suppose an attacker targets the Toad City Hospital's database and obtains a list of employee usernames. Using automated tools, the attacker starts guessing common passwords or using a dictionary of frequently used passwords. If an employee has a weak or easily guessable password, the attacker may successfully gain access to the database.\n",
        "\n",
        "To protect against brute force attacks, it's important to enforce strong password policies, implement account lockout mechanisms after multiple failed attempts, and consider using multi-factor authentication (MFA).\n",
        "\n",
        "### Phishing\n",
        "**Phishing** is a social engineering technique where attackers send fraudulent emails or messages posing as legitimate sources to trick individuals into revealing sensitive information, such as login credentials or personal data.\n",
        "\n",
        "Example: An attacker sends an email to the employees of Toad City Hospital, pretending to be from the IT department. The email contains a link to a fake login page that resembles the hospital's legitimate database login page. If an employee falls for the phishing attempt and enters their credentials, the attacker can capture them and gain unauthorized access to the database.\n",
        "\n",
        "To combat phishing, it's crucial to educate employees about identifying and reporting suspicious emails, implementing email filters, and using anti-phishing technologies.\n",
        "\n",
        "### Malware\n",
        "**Malware**, short for malicious software, refers to any software designed to harm computer systems or gain unauthorized access. In the context of databases, malware can be used to steal sensitive data, manipulate database content, or disrupt database operations.\n",
        "\n",
        "Example: An attacker creates a malware program that infects the computers of Toad City Hospital employees. The malware secretly captures keystrokes, including database login credentials, and sends them back to the attacker. With these stolen credentials, the attacker can then access the database and exfiltrate sensitive patient information.\n",
        "\n",
        "To protect against malware, it's important to keep systems and software up to date, use reputable anti-malware software, and implement strict access controls and monitoring mechanisms.\n",
        "\n",
        "### Ransomware\n",
        "**Ransomware** is a type of malware that encrypts the victim's data and demands a ransom payment in exchange for the decryption key. In the context of databases, ransomware attacks can render the entire database inaccessible, causing significant disruption to business operations.\n",
        "\n",
        "Example: Imagine a ransomware attack on the Toad City Hospital's database. The attacker manages to infiltrate the hospital's network and deploy ransomware that encrypts all the data in the database. The hospital is then faced with a ransom demand to obtain the decryption key. Without access to critical patient information, the hospital's operations are severely hampered, and patient care is compromised.\n",
        "\n",
        "To mitigate the risk of ransomware, it's essential to maintain regular backups of the database, implement strong access controls, and have an incident response plan in place.\n",
        "\n",
        "Real-world example: In 2017, the WannaCry ransomware attack affected numerous organizations worldwide, including healthcare institutions. The UK's National Health Service (NHS) was significantly impacted, with multiple hospitals and clinics unable to access patient records and forced to cancel appointments and surgeries.\n",
        "\n",
        "These are just a few examples of the threats that databases face. In the upcoming sections, we will explore encryption techniques, data masking, data destruction, auditing, and more to learn how to effectively secure databases against these threats."
      ],
      "metadata": {
        "id": "XvD0jGjeOQdY"
      }
    },
    {
      "cell_type": "markdown",
      "source": [
        "## What is encryption and how does it protect databases?\n",
        "\n",
        "Encryption is the process of converting plain text or data into a coded format that is unreadable without the proper decryption key. It is a fundamental technique used to protect the confidentiality and integrity of data stored in databases. Encryption ensures that even if unauthorized individuals gain access to the encrypted data, they cannot decipher its contents without the decryption key.\n",
        "\n",
        "### Asymmetric vs Symmetric Encryption\n",
        "\n",
        "There are two main types of encryption: asymmetric encryption and symmetric encryption. Let's explore how they work and their roles in database security.\n",
        "\n",
        "#### Asymmetric Encryption (Public Key Cryptography)\n",
        "Asymmetric encryption uses two separate keys: a public key for encryption and a private key for decryption. The public key can be freely distributed, while the private key must be kept secret. When data is encrypted with the public key, only the corresponding private key can decrypt it. In the context of database security, asymmetric encryption is often used for secure communication between clients and the database server.\n",
        "\n",
        "For example, when a doctor at Toad City Hospital wants to access patient records from a remote location, they can use the hospital's public key to encrypt their login credentials. Only the database server, which holds the corresponding private key, can decrypt the credentials and authenticate the doctor's access. Asymmetric encryption is also used for digital signatures, which ensure the integrity and authenticity of data. When a doctor updates a patient's medical record, they can digitally sign the update using their private key. Anyone can then verify the signature using the doctor's public key, confirming that the update originated from the doctor and has not been tampered with.\n",
        "\n",
        "\n",
        "#### Symmetric Encryption\n",
        "Symmetric encryption uses a single secret key for both encryption and decryption. The same key must be securely shared between the sender and the receiver. When data is encrypted with the secret key, the same key is used to decrypt it. In database security, symmetric encryption is commonly used to encrypt data-at-rest, which refers to data stored on disk or in database tables.\n",
        "\n",
        "For example, the Toad City Hospital can use symmetric encryption to encrypt sensitive patient information, such as social security numbers or medical histories, before storing it in the database. Only authorized personnel with access to the secret key can decrypt and view the data. Symmetric encryption is faster and more efficient compared to asymmetric encryption, making it suitable for encrypting large amounts of data. However, the challenge lies in securely sharing the secret key between the parties involved.\n",
        "\n",
        "### Data-in-Transit vs Data-at-Rest\n",
        "\n",
        "Encryption can be applied to data in two states: data-in-transit and data-at-rest.\n",
        "\n",
        "**Data-in-transit** refers to data that is being transmitted over a network or communication channel. When sensitive data, such as patient information, is sent between the Toad City Hospital's client applications and the database server, it is crucial to encrypt the data to protect it from interception and eavesdropping. Secure communication protocols like HTTPS (HTTP Secure) and SSL/TLS (Secure Sockets Layer/Transport Layer Security) are used to establish an encrypted channel between the client and the server. These protocols use a combination of asymmetric and symmetric encryption to secure the data during transmission.\n",
        "\n",
        "\n",
        "**Data-at-rest** refers to data that is stored on a device or storage medium, such as a database server's hard drive. Encrypting data-at-rest ensures that even if an attacker gains physical access to the storage device, they cannot read the data without the decryption key. For example, the Toad City Hospital can encrypt the entire database or specific sensitive columns, such as patient social security numbers or medical histories, using symmetric encryption. The encryption key is securely stored and managed by the database management system or a separate key management system.\n",
        "\n",
        "### Client-side encryption, in-transit encryption, server-side encryption\n",
        "\n",
        "When it comes to encrypting data in a database system, there are different stages at which encryption can be applied: client-side encryption, in-transit encryption, and server-side encryption.\n",
        "\n",
        "1.  **Client-side encryption.** Data is encrypted on the client device before sending it to the database server. This ensures that the data remains encrypted throughout its journey from the client to the server. Client-side encryption provides an additional layer of security, as the database server never sees the unencrypted data.\n",
        "2.  **In-transit encryption.** As mentioned earlier, data-in-transit encryption protects data as it travels over the network between the client and the server. Secure communication protocols like HTTPS and SSL/TLS are used to establish an encrypted channel, preventing eavesdropping and tampering during transmission.\n",
        "3.  **Server-side encryption.** Data is encrypted on the database server before it is stored on disk. Server-side encryption protects data-at-rest and ensures that even if an attacker gains access to the database files, they cannot decipher the encrypted data without the decryption key. Server-side encryption can be implemented at the database level, file system level, or using specialized hardware."
      ],
      "metadata": {
        "id": "2xw0iZKFQGP4"
      }
    },
    {
      "cell_type": "markdown",
      "source": [
        "### Example of a Postgres encrypted column\n",
        "\n",
        "Let's consider an example of encrypting sensitive patient data in the Toad City Hospital's PostgreSQL database. We'll focus on encrypting the social security numbers (SSN) of patients using **symmetric encryption** for **at-rest** data.\n",
        "\n",
        "Suppose we have a table named `patients` with a column `ssn` that needs to be encrypted. We can use the `pgcrypto` extension in PostgreSQL to encrypt the data using symmetric encryption."
      ],
      "metadata": {
        "id": "c3z7jNsoQOOW"
      }
    },
    {
      "cell_type": "code",
      "source": [
        "%%sql\n",
        "-- To use encyption, we need to enable an extension\n",
        "CREATE EXTENSION IF NOT EXISTS pgcrypto;\n",
        "\n",
        "DELETE FROM patients;\n",
        "\n",
        "INSERT INTO patients (name, date_of_birth, social_security_number, medical_history)\n",
        "VALUES\n",
        "  ('Mario Mario', '1981-07-09', pgp_sym_encrypt('123-45-6789', 'my_secret_key'), '{\"allergies\": \"none\", \"medications\": \"none\"}'),\n",
        "  ('Luigi Mario', '1983-07-14', pgp_sym_encrypt('987-65-4321', 'my_secret_key'), '{\"allergies\": \"pollen\", \"medications\": \"none\"}'),\n",
        "  ('Princess Peach', '1985-10-18', pgp_sym_encrypt('456-78-9123', 'my_secret_key'), '{\"allergies\": \"none\", \"medications\": \"none\"}'),\n",
        "  ('Yoshi', '1990-11-21', pgp_sym_encrypt('789-01-2345', 'my_secret_key'), '{\"allergies\": \"none\", \"medications\": \"none\"}'),\n",
        "  ('Toad', '1985-07-14', pgp_sym_encrypt('567-89-0123', 'my_secret_key'), '{\"allergies\": \"none\", \"medications\": \"none\"}');\n",
        "\n",
        "SELECT * FROM patients LIMIT 5;"
      ],
      "metadata": {
        "colab": {
          "base_uri": "https://localhost:8080/",
          "height": 511
        },
        "id": "kPwYnhXRQVaV",
        "outputId": "f14bc83b-1180-479e-8c27-43a22cb23836"
      },
      "execution_count": 15,
      "outputs": [
        {
          "output_type": "stream",
          "name": "stdout",
          "text": [
            " * postgresql+psycopg2://@/postgres\n",
            "Done.\n",
            "10 rows affected.\n",
            "5 rows affected.\n",
            "5 rows affected.\n"
          ]
        },
        {
          "output_type": "execute_result",
          "data": {
            "text/plain": [
              "[(21, 'Mario Mario', datetime.date(1981, 7, 9), '\\\\xc30d04070302655b0a9d9080245b74d23c01a74c62ae5a941034e2b9ed33d3044987ed8071529d348fc82547110847a0cf39a21304b6f42c8c47ab2af75f118f76c4d86ed4808d84fd8ad4d3c9', {'allergies': 'none', 'medications': 'none'}),\n",
              " (22, 'Luigi Mario', datetime.date(1983, 7, 14), '\\\\xc30d040703022b47c44813fbe7f579d23c01bf2a43aabec0fe66981a6754bed47a5cf00123aef86102cadde11cd11dffa27094e357a4f21a803ed146939ce053a35895afa286a1417fd03acc1d', {'allergies': 'pollen', 'medications': 'none'}),\n",
              " (23, 'Princess Peach', datetime.date(1985, 10, 18), '\\\\xc30d04070302ee153b518b3a63fc6cd23c01973829b86905207e19c6a872170faf8b8100ca04f8951567091b9586efa6caece8fa9897e0e4bc6b92f658530dc094ed384efcb161bf8897ad4d68', {'allergies': 'none', 'medications': 'none'}),\n",
              " (24, 'Yoshi', datetime.date(1990, 11, 21), '\\\\xc30d04070302967c0a8461a6c84079d23c01c2b77bab1e53b4ad01579d0a63470605edeac64479386dc63c80796e204c701624caf6f4dc8b23399df2ca04420512f6dfb1a43c7043a191faf99e', {'allergies': 'none', 'medications': 'none'}),\n",
              " (25, 'Toad', datetime.date(1985, 7, 14), '\\\\xc30d04070302c85121336cb28f4e71d23c01082c103e7b99fdf2a2ab2ece1c3afb37ba4658bba5295c81c47dd50b641bccfecb371456b0e2a51103877c0a3e8c0ad32ccbab7d1931e79e4a3f82', {'allergies': 'none', 'medications': 'none'})]"
            ],
            "text/html": [
              "<table>\n",
              "    <thead>\n",
              "        <tr>\n",
              "            <th>patient_id</th>\n",
              "            <th>name</th>\n",
              "            <th>date_of_birth</th>\n",
              "            <th>social_security_number</th>\n",
              "            <th>medical_history</th>\n",
              "        </tr>\n",
              "    </thead>\n",
              "    <tbody>\n",
              "        <tr>\n",
              "            <td>21</td>\n",
              "            <td>Mario Mario</td>\n",
              "            <td>1981-07-09</td>\n",
              "            <td>\\xc30d04070302655b0a9d9080245b74d23c01a74c62ae5a941034e2b9ed33d3044987ed8071529d348fc82547110847a0cf39a21304b6f42c8c47ab2af75f118f76c4d86ed4808d84fd8ad4d3c9</td>\n",
              "            <td>{&#x27;allergies&#x27;: &#x27;none&#x27;, &#x27;medications&#x27;: &#x27;none&#x27;}</td>\n",
              "        </tr>\n",
              "        <tr>\n",
              "            <td>22</td>\n",
              "            <td>Luigi Mario</td>\n",
              "            <td>1983-07-14</td>\n",
              "            <td>\\xc30d040703022b47c44813fbe7f579d23c01bf2a43aabec0fe66981a6754bed47a5cf00123aef86102cadde11cd11dffa27094e357a4f21a803ed146939ce053a35895afa286a1417fd03acc1d</td>\n",
              "            <td>{&#x27;allergies&#x27;: &#x27;pollen&#x27;, &#x27;medications&#x27;: &#x27;none&#x27;}</td>\n",
              "        </tr>\n",
              "        <tr>\n",
              "            <td>23</td>\n",
              "            <td>Princess Peach</td>\n",
              "            <td>1985-10-18</td>\n",
              "            <td>\\xc30d04070302ee153b518b3a63fc6cd23c01973829b86905207e19c6a872170faf8b8100ca04f8951567091b9586efa6caece8fa9897e0e4bc6b92f658530dc094ed384efcb161bf8897ad4d68</td>\n",
              "            <td>{&#x27;allergies&#x27;: &#x27;none&#x27;, &#x27;medications&#x27;: &#x27;none&#x27;}</td>\n",
              "        </tr>\n",
              "        <tr>\n",
              "            <td>24</td>\n",
              "            <td>Yoshi</td>\n",
              "            <td>1990-11-21</td>\n",
              "            <td>\\xc30d04070302967c0a8461a6c84079d23c01c2b77bab1e53b4ad01579d0a63470605edeac64479386dc63c80796e204c701624caf6f4dc8b23399df2ca04420512f6dfb1a43c7043a191faf99e</td>\n",
              "            <td>{&#x27;allergies&#x27;: &#x27;none&#x27;, &#x27;medications&#x27;: &#x27;none&#x27;}</td>\n",
              "        </tr>\n",
              "        <tr>\n",
              "            <td>25</td>\n",
              "            <td>Toad</td>\n",
              "            <td>1985-07-14</td>\n",
              "            <td>\\xc30d04070302c85121336cb28f4e71d23c01082c103e7b99fdf2a2ab2ece1c3afb37ba4658bba5295c81c47dd50b641bccfecb371456b0e2a51103877c0a3e8c0ad32ccbab7d1931e79e4a3f82</td>\n",
              "            <td>{&#x27;allergies&#x27;: &#x27;none&#x27;, &#x27;medications&#x27;: &#x27;none&#x27;}</td>\n",
              "        </tr>\n",
              "    </tbody>\n",
              "</table>"
            ]
          },
          "metadata": {},
          "execution_count": 15
        }
      ]
    },
    {
      "cell_type": "markdown",
      "source": [
        "As you can see, the ssn numbers have now been encrypted, so they cannot be without knowing the key.\n",
        "\n",
        "To decrypt the SSN value, we can use the pgp_sym_decrypt function with the same secret key:"
      ],
      "metadata": {
        "id": "y5vO2pwmRYnl"
      }
    },
    {
      "cell_type": "code",
      "source": [
        "%%sql\n",
        "\n",
        "SELECT\n",
        "  patient_id,\n",
        "  name,\n",
        "  date_of_birth,\n",
        "  pgp_sym_decrypt(social_security_number::bytea, 'my_secret_key') AS social_security_number,\n",
        "  medical_history\n",
        "FROM patients;\n"
      ],
      "metadata": {
        "colab": {
          "base_uri": "https://localhost:8080/",
          "height": 284
        },
        "id": "B5kfR5cGOjuv",
        "outputId": "35bebf59-7891-40bf-a55d-fb0995589550"
      },
      "execution_count": 10,
      "outputs": [
        {
          "output_type": "stream",
          "name": "stdout",
          "text": [
            " * postgresql+psycopg2://@/postgres\n",
            "10 rows affected.\n"
          ]
        },
        {
          "output_type": "execute_result",
          "data": {
            "text/plain": [
              "[(1, 'Mario Mario', datetime.date(1981, 7, 9), '123-45-6789', {'allergies': 'none', 'medications': 'none'}),\n",
              " (2, 'Luigi Mario', datetime.date(1983, 7, 14), '987-65-4321', {'allergies': 'pollen', 'medications': 'none'}),\n",
              " (3, 'Princess Peach', datetime.date(1985, 10, 18), '456-78-9123', {'allergies': 'none', 'medications': 'none'}),\n",
              " (4, 'Yoshi', datetime.date(1990, 11, 21), '789-01-2345', {'allergies': 'none', 'medications': 'none'}),\n",
              " (5, 'Toad', datetime.date(1985, 7, 14), '567-89-0123', {'allergies': 'none', 'medications': 'none'}),\n",
              " (6, 'Bowser', datetime.date(1980, 9, 13), '321-65-9874', {'allergies': 'none', 'medications': 'fire'}),\n",
              " (7, 'Daisy', datetime.date(1989, 4, 20), '654-32-1987', {'allergies': 'none', 'medications': 'none'}),\n",
              " (8, 'Wario', datetime.date(1992, 3, 19), '234-56-7891', {'allergies': 'none', 'medications': 'none'}),\n",
              " (9, 'Waluigi', datetime.date(1992, 4, 1), '890-12-3456', {'allergies': 'none', 'medications': 'none'}),\n",
              " (10, 'Rosalina', datetime.date(2007, 11, 12), '345-67-8901', {'allergies': 'none', 'medications': 'none'})]"
            ],
            "text/html": [
              "<table>\n",
              "    <thead>\n",
              "        <tr>\n",
              "            <th>patient_id</th>\n",
              "            <th>name</th>\n",
              "            <th>date_of_birth</th>\n",
              "            <th>social_security_number</th>\n",
              "            <th>medical_history</th>\n",
              "        </tr>\n",
              "    </thead>\n",
              "    <tbody>\n",
              "        <tr>\n",
              "            <td>1</td>\n",
              "            <td>Mario Mario</td>\n",
              "            <td>1981-07-09</td>\n",
              "            <td>123-45-6789</td>\n",
              "            <td>{&#x27;allergies&#x27;: &#x27;none&#x27;, &#x27;medications&#x27;: &#x27;none&#x27;}</td>\n",
              "        </tr>\n",
              "        <tr>\n",
              "            <td>2</td>\n",
              "            <td>Luigi Mario</td>\n",
              "            <td>1983-07-14</td>\n",
              "            <td>987-65-4321</td>\n",
              "            <td>{&#x27;allergies&#x27;: &#x27;pollen&#x27;, &#x27;medications&#x27;: &#x27;none&#x27;}</td>\n",
              "        </tr>\n",
              "        <tr>\n",
              "            <td>3</td>\n",
              "            <td>Princess Peach</td>\n",
              "            <td>1985-10-18</td>\n",
              "            <td>456-78-9123</td>\n",
              "            <td>{&#x27;allergies&#x27;: &#x27;none&#x27;, &#x27;medications&#x27;: &#x27;none&#x27;}</td>\n",
              "        </tr>\n",
              "        <tr>\n",
              "            <td>4</td>\n",
              "            <td>Yoshi</td>\n",
              "            <td>1990-11-21</td>\n",
              "            <td>789-01-2345</td>\n",
              "            <td>{&#x27;allergies&#x27;: &#x27;none&#x27;, &#x27;medications&#x27;: &#x27;none&#x27;}</td>\n",
              "        </tr>\n",
              "        <tr>\n",
              "            <td>5</td>\n",
              "            <td>Toad</td>\n",
              "            <td>1985-07-14</td>\n",
              "            <td>567-89-0123</td>\n",
              "            <td>{&#x27;allergies&#x27;: &#x27;none&#x27;, &#x27;medications&#x27;: &#x27;none&#x27;}</td>\n",
              "        </tr>\n",
              "        <tr>\n",
              "            <td>6</td>\n",
              "            <td>Bowser</td>\n",
              "            <td>1980-09-13</td>\n",
              "            <td>321-65-9874</td>\n",
              "            <td>{&#x27;allergies&#x27;: &#x27;none&#x27;, &#x27;medications&#x27;: &#x27;fire&#x27;}</td>\n",
              "        </tr>\n",
              "        <tr>\n",
              "            <td>7</td>\n",
              "            <td>Daisy</td>\n",
              "            <td>1989-04-20</td>\n",
              "            <td>654-32-1987</td>\n",
              "            <td>{&#x27;allergies&#x27;: &#x27;none&#x27;, &#x27;medications&#x27;: &#x27;none&#x27;}</td>\n",
              "        </tr>\n",
              "        <tr>\n",
              "            <td>8</td>\n",
              "            <td>Wario</td>\n",
              "            <td>1992-03-19</td>\n",
              "            <td>234-56-7891</td>\n",
              "            <td>{&#x27;allergies&#x27;: &#x27;none&#x27;, &#x27;medications&#x27;: &#x27;none&#x27;}</td>\n",
              "        </tr>\n",
              "        <tr>\n",
              "            <td>9</td>\n",
              "            <td>Waluigi</td>\n",
              "            <td>1992-04-01</td>\n",
              "            <td>890-12-3456</td>\n",
              "            <td>{&#x27;allergies&#x27;: &#x27;none&#x27;, &#x27;medications&#x27;: &#x27;none&#x27;}</td>\n",
              "        </tr>\n",
              "        <tr>\n",
              "            <td>10</td>\n",
              "            <td>Rosalina</td>\n",
              "            <td>2007-11-12</td>\n",
              "            <td>345-67-8901</td>\n",
              "            <td>{&#x27;allergies&#x27;: &#x27;none&#x27;, &#x27;medications&#x27;: &#x27;none&#x27;}</td>\n",
              "        </tr>\n",
              "    </tbody>\n",
              "</table>"
            ]
          },
          "metadata": {},
          "execution_count": 10
        }
      ]
    },
    {
      "cell_type": "markdown",
      "source": [
        "By encrypting sensitive data like social security numbers, the Toad City Hospital adds an extra layer of protection to its database. Even if an attacker gains access to the database, they would need the secret key to decrypt and make sense of the encrypted data.\n",
        "In the next section, we will explore data masking techniques and how they can be used to protect sensitive information in databases."
      ],
      "metadata": {
        "id": "oWtKDrBuS4xX"
      }
    },
    {
      "cell_type": "markdown",
      "source": [
        "## Data Masking: Protecting Sensitive Information\n",
        "\n",
        "Data masking is a technique used to protect sensitive information by replacing it with fictitious but realistic data. The purpose of data masking is to create a version of the data that can be used for non-production purposes, such as testing, development, or analytics, without exposing the real sensitive information.\n",
        "\n",
        "Data masking is particularly important in scenarios where sensitive data needs to be shared with third parties or used in less secure environments. By masking the sensitive data, organizations can:\n",
        "\n",
        "-   Comply with data privacy regulations, such as HIPAA or GDPR\n",
        "-   Protect personally identifiable information (PII) and other sensitive data\n",
        "-   Reduce the risk of data breaches and unauthorized access\n",
        "-   Enable the use of realistic data for testing and development while maintaining data confidentiality\n",
        "\n",
        "There are different types of data masking techniques, including:\n",
        "\n",
        "-   **Static data masking**: Sensitive data is masked in a separate copy of the database, creating a masked version that can be used for non-production purposes.\n",
        "-   **Dynamic data masking**: Masking is applied in real-time when the data is queried, providing different views of the data based on user roles and permissions.\n",
        "-   **Deterministic masking**: The same input value always generates the same masked output, preserving data consistency across multiple databases or applications.\n",
        "-   **Random masking**: Sensitive data is replaced with randomly generated values, making it impossible to reverse-engineer the original data.\n",
        "\n",
        "### Implementing Data Masking in PostgreSQL\n",
        "\n",
        "Let's walk through an example of implementing static data masking in PostgreSQL using the `patients` table. Let's begin by creating a copy of this table that will store our masked data."
      ],
      "metadata": {
        "id": "lY4cpN8xTzJt"
      }
    },
    {
      "cell_type": "code",
      "source": [
        "%%sql\n",
        "DROP TABLE IF EXISTS patients_masked;\n",
        "CREATE TABLE patients_masked (\n",
        "  patient_id SERIAL PRIMARY KEY,\n",
        "  name VARCHAR(100) NOT NULL,\n",
        "  date_of_birth DATE NOT NULL,\n",
        "  social_security_number VARCHAR(200) NOT NULL,\n",
        "  medical_history JSONB\n",
        ");"
      ],
      "metadata": {
        "colab": {
          "base_uri": "https://localhost:8080/"
        },
        "id": "lsAaPtl5UGlJ",
        "outputId": "35a73a21-58ad-45c7-db6d-a34bdb290140"
      },
      "execution_count": 18,
      "outputs": [
        {
          "output_type": "stream",
          "name": "stdout",
          "text": [
            " * postgresql+psycopg2://@/postgres\n",
            "Done.\n",
            "Done.\n"
          ]
        },
        {
          "output_type": "execute_result",
          "data": {
            "text/plain": [
              "[]"
            ]
          },
          "metadata": {},
          "execution_count": 18
        }
      ]
    },
    {
      "cell_type": "markdown",
      "source": [
        "Now, let's again insert our original patient (with unecrypted social security numbers)."
      ],
      "metadata": {
        "id": "IGS1CaidUuW6"
      }
    },
    {
      "cell_type": "code",
      "source": [
        "%%sql\n",
        "DELETE FROM patients;\n",
        "\n",
        "INSERT INTO patients (name, date_of_birth, social_security_number, medical_history)\n",
        "VALUES\n",
        "  ('Mario Mario', '1981-07-09', '123-45-6789', '{\"allergies\": \"none\", \"medications\": \"none\"}'),\n",
        "  ('Luigi Mario', '1983-07-14', '987-65-4321', '{\"allergies\": \"pollen\", \"medications\": \"none\"}'),\n",
        "  ('Princess Peach', '1985-10-18', '456-78-9123', '{\"allergies\": \"none\", \"medications\": \"none\"}'),\n",
        "  ('Yoshi', '1990-11-21','789-01-2345', '{\"allergies\": \"none\", \"medications\": \"none\"}'),\n",
        "  ('Toad', '1985-07-14', '567-89-0123', '{\"allergies\": \"none\", \"medications\": \"none\"}');\n",
        "\n",
        "SELECT * FROM patients LIMIT 5;"
      ],
      "metadata": {
        "colab": {
          "base_uri": "https://localhost:8080/",
          "height": 214
        },
        "id": "IX-3-pqeVI-n",
        "outputId": "b840ede9-0c9a-4149-c72d-22004f84b61c"
      },
      "execution_count": 19,
      "outputs": [
        {
          "output_type": "stream",
          "name": "stdout",
          "text": [
            " * postgresql+psycopg2://@/postgres\n",
            "5 rows affected.\n",
            "5 rows affected.\n",
            "5 rows affected.\n"
          ]
        },
        {
          "output_type": "execute_result",
          "data": {
            "text/plain": [
              "[(31, 'Mario Mario', datetime.date(1981, 7, 9), '123-45-6789', {'allergies': 'none', 'medications': 'none'}),\n",
              " (32, 'Luigi Mario', datetime.date(1983, 7, 14), '987-65-4321', {'allergies': 'pollen', 'medications': 'none'}),\n",
              " (33, 'Princess Peach', datetime.date(1985, 10, 18), '456-78-9123', {'allergies': 'none', 'medications': 'none'}),\n",
              " (34, 'Yoshi', datetime.date(1990, 11, 21), '789-01-2345', {'allergies': 'none', 'medications': 'none'}),\n",
              " (35, 'Toad', datetime.date(1985, 7, 14), '567-89-0123', {'allergies': 'none', 'medications': 'none'})]"
            ],
            "text/html": [
              "<table>\n",
              "    <thead>\n",
              "        <tr>\n",
              "            <th>patient_id</th>\n",
              "            <th>name</th>\n",
              "            <th>date_of_birth</th>\n",
              "            <th>social_security_number</th>\n",
              "            <th>medical_history</th>\n",
              "        </tr>\n",
              "    </thead>\n",
              "    <tbody>\n",
              "        <tr>\n",
              "            <td>31</td>\n",
              "            <td>Mario Mario</td>\n",
              "            <td>1981-07-09</td>\n",
              "            <td>123-45-6789</td>\n",
              "            <td>{&#x27;allergies&#x27;: &#x27;none&#x27;, &#x27;medications&#x27;: &#x27;none&#x27;}</td>\n",
              "        </tr>\n",
              "        <tr>\n",
              "            <td>32</td>\n",
              "            <td>Luigi Mario</td>\n",
              "            <td>1983-07-14</td>\n",
              "            <td>987-65-4321</td>\n",
              "            <td>{&#x27;allergies&#x27;: &#x27;pollen&#x27;, &#x27;medications&#x27;: &#x27;none&#x27;}</td>\n",
              "        </tr>\n",
              "        <tr>\n",
              "            <td>33</td>\n",
              "            <td>Princess Peach</td>\n",
              "            <td>1985-10-18</td>\n",
              "            <td>456-78-9123</td>\n",
              "            <td>{&#x27;allergies&#x27;: &#x27;none&#x27;, &#x27;medications&#x27;: &#x27;none&#x27;}</td>\n",
              "        </tr>\n",
              "        <tr>\n",
              "            <td>34</td>\n",
              "            <td>Yoshi</td>\n",
              "            <td>1990-11-21</td>\n",
              "            <td>789-01-2345</td>\n",
              "            <td>{&#x27;allergies&#x27;: &#x27;none&#x27;, &#x27;medications&#x27;: &#x27;none&#x27;}</td>\n",
              "        </tr>\n",
              "        <tr>\n",
              "            <td>35</td>\n",
              "            <td>Toad</td>\n",
              "            <td>1985-07-14</td>\n",
              "            <td>567-89-0123</td>\n",
              "            <td>{&#x27;allergies&#x27;: &#x27;none&#x27;, &#x27;medications&#x27;: &#x27;none&#x27;}</td>\n",
              "        </tr>\n",
              "    </tbody>\n",
              "</table>"
            ]
          },
          "metadata": {},
          "execution_count": 19
        }
      ]
    },
    {
      "cell_type": "markdown",
      "source": [
        "Now, let's populate our new database with a masked version of our original data."
      ],
      "metadata": {
        "id": "nG-7emRVUKPZ"
      }
    },
    {
      "cell_type": "code",
      "source": [
        "%%sql\n",
        "DELETE FROM patients_masked;\n",
        "INSERT INTO patients_masked (name, date_of_birth, social_security_number, medical_history)\n",
        "SELECT\n",
        "  'Patient ' || patient_id,\n",
        "  '1900-01-01',\n",
        "  'XXX-XX-' || substr(social_security_number, 8),\n",
        "  '{\"allergies\": [\"masked\"], \"conditions\": [\"masked\"]}'\n",
        "FROM patients;"
      ],
      "metadata": {
        "colab": {
          "base_uri": "https://localhost:8080/",
          "height": 214
        },
        "id": "LI0zg0IzUWbJ",
        "outputId": "4ec2a0ff-98b3-4013-bfb2-d6b2936c0767"
      },
      "execution_count": 21,
      "outputs": [
        {
          "output_type": "stream",
          "name": "stdout",
          "text": [
            " * postgresql+psycopg2://@/postgres\n",
            "0 rows affected.\n",
            "5 rows affected.\n",
            "5 rows affected.\n"
          ]
        },
        {
          "output_type": "execute_result",
          "data": {
            "text/plain": [
              "[(1, 'Patient 31', datetime.date(1900, 1, 1), 'XXX-XX-6789', {'allergies': ['masked'], 'conditions': ['masked']}),\n",
              " (2, 'Patient 32', datetime.date(1900, 1, 1), 'XXX-XX-4321', {'allergies': ['masked'], 'conditions': ['masked']}),\n",
              " (3, 'Patient 33', datetime.date(1900, 1, 1), 'XXX-XX-9123', {'allergies': ['masked'], 'conditions': ['masked']}),\n",
              " (4, 'Patient 34', datetime.date(1900, 1, 1), 'XXX-XX-2345', {'allergies': ['masked'], 'conditions': ['masked']}),\n",
              " (5, 'Patient 35', datetime.date(1900, 1, 1), 'XXX-XX-0123', {'allergies': ['masked'], 'conditions': ['masked']})]"
            ],
            "text/html": [
              "<table>\n",
              "    <thead>\n",
              "        <tr>\n",
              "            <th>patient_id</th>\n",
              "            <th>name</th>\n",
              "            <th>date_of_birth</th>\n",
              "            <th>social_security_number</th>\n",
              "            <th>medical_history</th>\n",
              "        </tr>\n",
              "    </thead>\n",
              "    <tbody>\n",
              "        <tr>\n",
              "            <td>1</td>\n",
              "            <td>Patient 31</td>\n",
              "            <td>1900-01-01</td>\n",
              "            <td>XXX-XX-6789</td>\n",
              "            <td>{&#x27;allergies&#x27;: [&#x27;masked&#x27;], &#x27;conditions&#x27;: [&#x27;masked&#x27;]}</td>\n",
              "        </tr>\n",
              "        <tr>\n",
              "            <td>2</td>\n",
              "            <td>Patient 32</td>\n",
              "            <td>1900-01-01</td>\n",
              "            <td>XXX-XX-4321</td>\n",
              "            <td>{&#x27;allergies&#x27;: [&#x27;masked&#x27;], &#x27;conditions&#x27;: [&#x27;masked&#x27;]}</td>\n",
              "        </tr>\n",
              "        <tr>\n",
              "            <td>3</td>\n",
              "            <td>Patient 33</td>\n",
              "            <td>1900-01-01</td>\n",
              "            <td>XXX-XX-9123</td>\n",
              "            <td>{&#x27;allergies&#x27;: [&#x27;masked&#x27;], &#x27;conditions&#x27;: [&#x27;masked&#x27;]}</td>\n",
              "        </tr>\n",
              "        <tr>\n",
              "            <td>4</td>\n",
              "            <td>Patient 34</td>\n",
              "            <td>1900-01-01</td>\n",
              "            <td>XXX-XX-2345</td>\n",
              "            <td>{&#x27;allergies&#x27;: [&#x27;masked&#x27;], &#x27;conditions&#x27;: [&#x27;masked&#x27;]}</td>\n",
              "        </tr>\n",
              "        <tr>\n",
              "            <td>5</td>\n",
              "            <td>Patient 35</td>\n",
              "            <td>1900-01-01</td>\n",
              "            <td>XXX-XX-0123</td>\n",
              "            <td>{&#x27;allergies&#x27;: [&#x27;masked&#x27;], &#x27;conditions&#x27;: [&#x27;masked&#x27;]}</td>\n",
              "        </tr>\n",
              "    </tbody>\n",
              "</table>"
            ]
          },
          "metadata": {},
          "execution_count": 21
        }
      ]
    },
    {
      "cell_type": "markdown",
      "source": [
        "In this example, we:\n",
        "\n",
        "-   Replace the `name` with a generic \"Patient\" followed by the `patient_id`\n",
        "-   Set the `date_of_birth` to a fixed value (`'1900-01-01'`)\n",
        "-   Mask all but the last four digits of the `social_security_number`\n",
        "-   Replace the `medical_history` JSON data with a masked version\n",
        "\n",
        "The resulting `patients_masked` table will contain the masked data:"
      ],
      "metadata": {
        "id": "bZXLYgEhWMmo"
      }
    },
    {
      "cell_type": "code",
      "source": [
        "%%sql\n",
        "SELECT * FROM patients_masked;"
      ],
      "metadata": {
        "colab": {
          "base_uri": "https://localhost:8080/",
          "height": 196
        },
        "id": "JHoeEY0jWOXv",
        "outputId": "895665ec-4238-4f79-b84b-51e6fb5cb1d3"
      },
      "execution_count": 22,
      "outputs": [
        {
          "output_type": "stream",
          "name": "stdout",
          "text": [
            " * postgresql+psycopg2://@/postgres\n",
            "5 rows affected.\n"
          ]
        },
        {
          "output_type": "execute_result",
          "data": {
            "text/plain": [
              "[(1, 'Patient 31', datetime.date(1900, 1, 1), 'XXX-XX-6789', {'allergies': ['masked'], 'conditions': ['masked']}),\n",
              " (2, 'Patient 32', datetime.date(1900, 1, 1), 'XXX-XX-4321', {'allergies': ['masked'], 'conditions': ['masked']}),\n",
              " (3, 'Patient 33', datetime.date(1900, 1, 1), 'XXX-XX-9123', {'allergies': ['masked'], 'conditions': ['masked']}),\n",
              " (4, 'Patient 34', datetime.date(1900, 1, 1), 'XXX-XX-2345', {'allergies': ['masked'], 'conditions': ['masked']}),\n",
              " (5, 'Patient 35', datetime.date(1900, 1, 1), 'XXX-XX-0123', {'allergies': ['masked'], 'conditions': ['masked']})]"
            ],
            "text/html": [
              "<table>\n",
              "    <thead>\n",
              "        <tr>\n",
              "            <th>patient_id</th>\n",
              "            <th>name</th>\n",
              "            <th>date_of_birth</th>\n",
              "            <th>social_security_number</th>\n",
              "            <th>medical_history</th>\n",
              "        </tr>\n",
              "    </thead>\n",
              "    <tbody>\n",
              "        <tr>\n",
              "            <td>1</td>\n",
              "            <td>Patient 31</td>\n",
              "            <td>1900-01-01</td>\n",
              "            <td>XXX-XX-6789</td>\n",
              "            <td>{&#x27;allergies&#x27;: [&#x27;masked&#x27;], &#x27;conditions&#x27;: [&#x27;masked&#x27;]}</td>\n",
              "        </tr>\n",
              "        <tr>\n",
              "            <td>2</td>\n",
              "            <td>Patient 32</td>\n",
              "            <td>1900-01-01</td>\n",
              "            <td>XXX-XX-4321</td>\n",
              "            <td>{&#x27;allergies&#x27;: [&#x27;masked&#x27;], &#x27;conditions&#x27;: [&#x27;masked&#x27;]}</td>\n",
              "        </tr>\n",
              "        <tr>\n",
              "            <td>3</td>\n",
              "            <td>Patient 33</td>\n",
              "            <td>1900-01-01</td>\n",
              "            <td>XXX-XX-9123</td>\n",
              "            <td>{&#x27;allergies&#x27;: [&#x27;masked&#x27;], &#x27;conditions&#x27;: [&#x27;masked&#x27;]}</td>\n",
              "        </tr>\n",
              "        <tr>\n",
              "            <td>4</td>\n",
              "            <td>Patient 34</td>\n",
              "            <td>1900-01-01</td>\n",
              "            <td>XXX-XX-2345</td>\n",
              "            <td>{&#x27;allergies&#x27;: [&#x27;masked&#x27;], &#x27;conditions&#x27;: [&#x27;masked&#x27;]}</td>\n",
              "        </tr>\n",
              "        <tr>\n",
              "            <td>5</td>\n",
              "            <td>Patient 35</td>\n",
              "            <td>1900-01-01</td>\n",
              "            <td>XXX-XX-0123</td>\n",
              "            <td>{&#x27;allergies&#x27;: [&#x27;masked&#x27;], &#x27;conditions&#x27;: [&#x27;masked&#x27;]}</td>\n",
              "        </tr>\n",
              "    </tbody>\n",
              "</table>"
            ]
          },
          "metadata": {},
          "execution_count": 22
        }
      ]
    },
    {
      "cell_type": "markdown",
      "source": [
        "Data Discovery and Classification: Understanding Your Data\n",
        "----------------------------------------------------------\n",
        "\n",
        "In today's data-driven world, organizations collect and store vast amounts of data from various sources. This data can include sensitive information, such as personally identifiable information (PII), protected health information (PHI), financial data, and intellectual property. To effectively protect and manage this data, organizations need to understand what data they have, where it resides, and how sensitive it is. This is where data discovery and data classification come into play.\n",
        "\n",
        "### Data Discovery\n",
        "\n",
        "Data discovery is the process of identifying and locating sensitive data within an organization's IT environment. It involves scanning databases, file systems, cloud storage, and other data repositories to uncover sensitive information. The goal of data discovery is to create an inventory of sensitive data assets and gain visibility into the organization's data landscape.\n",
        "\n",
        "Data discovery techniques include:\n",
        "\n",
        "1.  **Metadata analysis**. Examining database schemas, table and column names, and other metadata to identify potential sensitive data based on naming conventions and data types.\n",
        "2.  **Pattern matching**. Searching for specific patterns or regular expressions that typically represent sensitive data, such as social security numbers, credit card numbers, or email addresses.\n",
        "3.  **Content analysis**. Scanning the actual data values to identify sensitive information based on predefined keywords, phrases, or contextual clues.\n",
        "4.  **Machine learning**. Leveraging machine learning algorithms to automatically classify and identify sensitive data based on historical patterns and examples.\n",
        "\n",
        "### Data Classification\n",
        "\n",
        "Data classification is the process of categorizing data based on its sensitivity level and the potential impact of its disclosure. It involves assigning predefined labels or tags to data elements to indicate their level of confidentiality and the security controls required to protect them.\n",
        "\n",
        "Common data classification levels include:\n",
        "\n",
        "1.  **Public**. Data that is freely available to the public and has no confidentiality requirements.\n",
        "2.  **Internal**. Data that is intended for internal use within the organization and requires moderate security controls.\n",
        "3.  **Confidential**. Sensitive data that, if disclosed, could cause significant harm to the organization or individuals. It requires strict security controls and access restrictions.\n",
        "4.  **Restricted** or **Highly Confidential**. The most sensitive data that requires the highest level of security and is subject to regulatory compliance, such as **Personal Health Information (PHI)** or financial data.\n",
        "\n",
        "Examples of data at each classification level:\n",
        "\n",
        "- Public:\n",
        "    -   Hospital Address: 123 Mushroom Kingdom Way, Toad City\n",
        "    -   General Health Tip: Eating a balanced diet rich in fruits and vegetables can boost your immune system.\n",
        "-   Internal:\n",
        "    -   Employee Handbook Policy: All employees are required to wear their identification badges while on hospital premises.\n",
        "    -   Internal Phone Directory Entry: Dr. Mario, Extension: 1234, Department: Infectious Diseases\n",
        "-   Confidential:\n",
        "    -   Employee Record: Toadette, 456 Toad Lane, Toad City, 555-123-4567, Hired: 2020-01-01, Position: Registered Nurse\n",
        "    -   Financial Data: 2023 Budget Allocation for Medical Equipment: $500,000\n",
        "-   Restricted:\n",
        "    -   Patient Medical Record: Bowser, MRN: 98765, Diagnosis: Koopa Pox, Treatment: Antiviral Medication, Prescription: Mushroom Extract 500mg\n",
        "    -   Patient Personal Information: Princess Peach, 789 Castle Street, Toad City, DOB: 1985-10-18, SSN: 123-45-6789\n",
        "\n",
        "These examples illustrate the different types of data that fall under each classification level at Toad City Hospital. The classification levels help determine the appropriate security controls, access restrictions, and handling procedures for each type of data.\n",
        "\n",
        "It's important to note that the specific classification of data may vary depending on the organization's policies, legal requirements, and the sensitivity of the information in the context of their industry. Toad City Hospital should regularly review and update its data classification scheme to ensure it aligns with changing regulations and best practices in healthcare data security.\n",
        "\n",
        "### Applying Data Discovery and Classification in Toad City Hospital\n",
        "\n",
        "Let's consider how Toad City Hospital might apply data discovery and data classification to protect sensitive patient information.\n",
        "\n",
        "1.  **Data Discovery**:\n",
        "    -   The hospital's IT team conducts a comprehensive data discovery exercise to identify all instances of sensitive patient data across their database systems, file servers, and cloud storage.\n",
        "    -   They use a combination of metadata analysis, pattern matching, and content analysis techniques to locate PHI, such as patient names, addresses, social security numbers, and medical records.\n",
        "    -   The team creates an inventory of sensitive data assets, including the location, data owner, and access privileges for each asset.\n",
        "2.  **Data Classification**:\n",
        "    -   The hospital establishes a data classification policy that defines the different classification levels and the criteria for each level.\n",
        "    -   They classify patient data as \"Restricted\" or \"Highly Confidential\" due to its sensitive nature and the potential harm caused by unauthorized disclosure.\n",
        "    -   Other data, such as employee records and financial data, are classified as \"Confidential.\"\n",
        "    -   Public information, such as hospital contact details and general health information, is classified as \"Public.\"\n",
        "3.  **Data Protection**:\n",
        "    -   Based on the data classification levels, the hospital implements stringent security controls for \"Restricted\" and \"Confidential\" data.\n",
        "    -   Access to sensitive patient data is strictly limited to authorized medical staff and administrators based on the principle of least privilege.\n",
        "    -   Strong encryption, both at rest and in transit, is applied to protect the confidentiality and integrity of sensitive data.\n",
        "    -   Regular access reviews and audits are conducted to ensure that access privileges align with job responsibilities and to detect any unauthorized access attempts.\n",
        "4.  **Data Handling and Disposal**:\n",
        "    -   The hospital establishes data handling procedures for each classification level, specifying how data should be stored, transmitted, and shared securely.\n",
        "    -   Sensitive data is only shared with authorized third parties, such as insurance providers or research institutions, under strict confidentiality agreements and using secure communication channels.\n",
        "    -   When sensitive data is no longer needed, it is securely disposed of using data destruction methods, such as secure shredding or data wiping, to prevent unauthorized access.\n",
        "\n",
        "By implementing data discovery and classification, Toad City Hospital can gain a clear understanding of its sensitive data assets, prioritize security efforts, and implement appropriate controls to protect patient information. These practices help the hospital comply with data privacy regulations, such as HIPAA, and maintain the trust and confidence of its patients."
      ],
      "metadata": {
        "id": "mP2MOaCaXDcK"
      }
    },
    {
      "cell_type": "markdown",
      "source": [
        "## When and How to Destroy Data\n",
        "\n",
        "Data destruction is a critical aspect of database security and privacy. It involves securely and permanently deleting data that is no longer needed or required to be retained. Proper data destruction ensures that sensitive information is not accessible to unauthorized individuals and helps organizations comply with data privacy regulations and legal requirements.\n",
        "\n",
        "### Principles of Data Destruction\n",
        "\n",
        "1.  **Data Lifecycle Management**: Organizations should have a clear understanding of the lifecycle of their data, from creation to destruction. This includes defining retention periods for different types of data based on legal, regulatory, and business requirements.\n",
        "2.  **Data Retention Policies**: Establish clear data retention policies that specify how long different categories of data should be kept and when they should be securely destroyed. These policies should be regularly reviewed and updated to ensure compliance with changing regulations and organizational needs.\n",
        "3.  **Secure Deletion Methods**: When data needs to be destroyed, it is essential to use secure deletion methods that ensure the data is permanently and irreversibly removed. Simple deletion or formatting of storage media may not be sufficient, as the data can often be recovered using specialized tools.\n",
        "4.  **Overwriting Sensitive Data**: Before deleting data, it is recommended to overwrite sensitive information with random or meaningless values. This adds an extra layer of protection by making it difficult to recover the original data even if the storage media is compromised.\n",
        "5.  **Auditing and Logging**: Implement auditing and logging mechanisms to track data destruction activities. This includes recording when data was destroyed, who initiated the process, and ensuring that the destruction was carried out in accordance with defined policies and procedures.\n",
        "6.  **Authorization and Approval**: Establish proper authorization and approval processes for data destruction. Only authorized personnel should be allowed to initiate and execute the destruction of sensitive data, following a well-defined approval workflow.\n",
        "7.  **Compliance and Legal Requirements**: Ensure that your data destruction practices align with relevant laws, regulations, and industry standards. This may include requirements related to data privacy, data protection, and data retention periods.\n",
        "\n",
        "### Example: Destroying Patient Records in Toad City Hospital\n",
        "\n",
        "Let's consider an example of how Toad City Hospital can securely destroy patient records that have exceeded the retention period defined in their data retention policy."
      ],
      "metadata": {
        "id": "lEEtgmYGaJ3D"
      }
    },
    {
      "cell_type": "markdown",
      "source": [
        "```sql\n",
        "-- Create a temporary table to store the patient IDs to be deleted\n",
        "CREATE TEMPORARY TABLE patients_to_delete AS\n",
        "SELECT patient_id\n",
        "FROM patients\n",
        "WHERE last_treatment_date < NOW() - INTERVAL '10 years';\n",
        "\n",
        "-- Overwrite the sensitive data with random values\n",
        "UPDATE patients\n",
        "SET name = 'DELETED', date_of_birth = '1900-01-01', ssn = 'XXX-XX-XXXX'\n",
        "WHERE patient_id IN (\n",
        "  SELECT patient_id FROM patients_to_delete\n",
        ");\n",
        "\n",
        "-- Delete the records from the patients table\n",
        "DELETE FROM patients\n",
        "WHERE patient_id IN (\n",
        "  SELECT patient_id FROM patients_to_delete\n",
        ");\n",
        "\n",
        "-- Drop the temporary table\n",
        "DROP TABLE patients_to_delete;\n",
        "```"
      ],
      "metadata": {
        "id": "aTbV8obQaQRR"
      }
    },
    {
      "cell_type": "markdown",
      "source": [
        "In this example:\n",
        "\n",
        "1.  A temporary table `patients_to_delete` is created to store the patient IDs of the records that need to be deleted based on the last treatment date exceeding the retention period of 10 years.\n",
        "2.  The sensitive data (name, date of birth, SSN) in the `patients` table is overwritten with random or meaningless values for the records that match the patient IDs in the temporary table.\n",
        "3.  The records are then deleted from the `patients` table based on the patient IDs in the temporary table.\n",
        "4.  Finally, the temporary table is dropped.\n",
        "\n",
        "By following these steps, Toad City Hospital ensures that the sensitive patient data is securely destroyed while maintaining a record of the deletion process.\n",
        "\n",
        "It's important to note that data destruction should be carried out in accordance with the hospital's data retention policies, legal requirements, and industry regulations. The hospital should also have proper backup and archival procedures in place to ensure that data is not lost prematurely and can be restored if needed for legal or regulatory purposes."
      ],
      "metadata": {
        "id": "1CZ1e5Y0aSik"
      }
    },
    {
      "cell_type": "code",
      "source": [],
      "metadata": {
        "id": "yjbusIjKaPbe"
      },
      "execution_count": null,
      "outputs": []
    },
    {
      "cell_type": "code",
      "source": [],
      "metadata": {
        "id": "7DQ4HVWUaLcN"
      },
      "execution_count": null,
      "outputs": []
    },
    {
      "cell_type": "code",
      "source": [],
      "metadata": {
        "id": "uVhNUQIjYHXI"
      },
      "execution_count": null,
      "outputs": []
    }
  ]
}