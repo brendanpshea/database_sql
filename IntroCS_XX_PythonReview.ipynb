{
  "nbformat": 4,
  "nbformat_minor": 0,
  "metadata": {
    "colab": {
      "provenance": [],
      "authorship_tag": "ABX9TyP8QFF8TSYJKkYdeNpdnuOb",
      "include_colab_link": true
    },
    "kernelspec": {
      "name": "python3",
      "display_name": "Python 3"
    },
    "language_info": {
      "name": "python"
    }
  },
  "cells": [
    {
      "cell_type": "markdown",
      "metadata": {
        "id": "view-in-github",
        "colab_type": "text"
      },
      "source": [
        "<a href=\"https://colab.research.google.com/github/brendanpshea/database_sql/blob/main/IntroCS_XX_PythonReview.ipynb\" target=\"_parent\"><img src=\"https://colab.research.google.com/assets/colab-badge.svg\" alt=\"Open In Colab\"/></a>"
      ]
    },
    {
      "cell_type": "markdown",
      "source": [
        "# A Brief Review of Python"
      ],
      "metadata": {
        "id": "xkAzmnz62twr"
      }
    },
    {
      "cell_type": "markdown",
      "source": [
        "#### What is Python?\n",
        "\n",
        "Python is an interpreted, high-level programming language. It emphasizes readability and allows for the efficient design of both small-scale scripts and large-scale applications. Created by Guido van Rossum and first released in 1991, Python is Turing complete, which means it can theoretically perform any computation that can be algorithmically described.\n",
        "\n",
        "#### What are its Uses?\n",
        "\n",
        "1. Python has become a cornerstone in the field of **data science** due to its powerful libraries like Pandas and NumPy. Pandas provides data structures for efficiently storing large datasets and time series, while NumPy offers numerical operations to manipulate the data. Data visualization libraries like Matplotlib and Seaborn integrate seamlessly with these data structures, making Python a comprehensive solution for data analysis.\n",
        "\n",
        "2.  Frameworks such as Django and Flask have made Python a popular choice for **web development**. Django provides a high-level framework that encourages rapid development and clean, pragmatic design. It comes with an Object-Relational Mapping (ORM) layer for database operations. Flask, on the other hand, offers more flexibility and is more suited for microservices architecture.\n",
        "\n",
        "3.  Python's ecosystem includes robust libraries for **machine learning** and **artificial intelligence**, such as TensorFlow and PyTorch. TensorFlow, developed by Google, is optimized for neural network training and inference. PyTorch, developed by Facebook, offers dynamic computation graphs, making it particularly useful for research and experimentation.\n",
        "\n",
        "4.  Python excels in **automating repetitive tasks** and **scripting**. Its standard library comes with modules for file manipulation, regular expressions, and networking among others. The language's simplicity and readability make it ideal for quick scripting solutions, from file renaming scripts to complex task automation.\n",
        "\n",
        "5.  Python is widely used in **cybersecurity** for tasks like penetration testing, network scanning, and forensic analysis. Libraries such as Scapy and PyCrypto provide low-level access to network packets and cryptographic algorithms, respectively. Its ability to create powerful cybersecurity tools with relatively few lines of code makes Python a preferred choice in this domain.\n",
        "\n",
        "Each of these uses leverages Python's strengths---its extensive libraries, readability, and community support---to provide efficient and effective solutions across a range of applications."
      ],
      "metadata": {
        "id": "BjCeqocB1Svi"
      }
    },
    {
      "cell_type": "markdown",
      "source": [
        "## Datatypes and Variables\n",
        "In Python, datatypes are the classification or categorization of data items. They signify the type of value that tells what operations can be performed on a particular data. Python has several built-in datatypes, which can be grouped into the following categories:\n",
        "\n",
        "1.  Numeric Types include integers (`int`), floating-point numbers (`float`), and complex numbers (`complex`).\n",
        "\n",
        "    -   Example: `batmanAge = 32` (integer), `batmanHeight = 6.2` (float)\n",
        "2.  Sequence Types are lists (`list`), tuples (`tuple`), and range (`range`).\n",
        "\n",
        "    -   Example: `batmanGadgets = [\"Batarang\", \"Grappling Hook\"]` (list)\n",
        "3.  Text Type: This is simply string (`str`).\n",
        "\n",
        "    -   Example: `batmanAlias = \"Bruce Wayne\"` (string)\n",
        "4.  Dictionaries (`dict`) map keys to values.\n",
        "\n",
        "    -   Example: `batmanProfile = {\"alias\": \"Bruce Wayne\", \"occupation\": \"Businessman\"}` (dictionary)\n",
        "5.  Boolean Type are either true or false (`bool`).\n",
        "\n",
        "    -   Example: `isBatmanHuman = True` (boolean)\n",
        "\n",
        "#### How Do I Declare Variables?\n",
        "\n",
        "In Python, variables are declared by assigning a value to a name using the assignment operator `=`. Unlike some languages like C++ or Java, Python does not require you to declare the datatype of the variable explicitly. The interpreter determines the datatype dynamically."
      ],
      "metadata": {
        "id": "M5VGsaOx1uK6"
      }
    },
    {
      "cell_type": "code",
      "source": [
        "# Numeric Types\n",
        "batmanAge = 32  # Integer\n",
        "batmanHeight = 6.2  # Float\n",
        "\n",
        "# Sequence Types\n",
        "batmanGadgets = [\"Batarang\", \"Grappling Hook\"]  # List\n",
        "oracleSkills = (\"Hacking\", \"Information Gathering\")  # Tuple\n",
        "\n",
        "# Text Type\n",
        "alfredRole = \"Butler\"  # String\n",
        "\n",
        "# Mapping Type\n",
        "catwomanProfile = {\"real_name\": \"Selina Kyle\", \"occupation\": \"Thief\"}  # Dictionary\n",
        "\n",
        "# Boolean Type\n",
        "isOracleGenius = True  # Boolean"
      ],
      "metadata": {
        "id": "AvcQ36wG1new"
      },
      "execution_count": null,
      "outputs": []
    },
    {
      "cell_type": "markdown",
      "source": [
        "#### How to Print Variables to Screen with `print()` and f-strings\n",
        "\n",
        "In Python, the `print()` function is used to output text or variables to the console. The function can take multiple arguments and can also format output in various ways. One of the most convenient methods for string formatting is using f-strings, introduced in Python 3.6.\n",
        "\n",
        "Here's how you can print variables using `print()` and f-strings:"
      ],
      "metadata": {
        "id": "pvwumBJE2LJj"
      }
    },
    {
      "cell_type": "code",
      "source": [
        "# Declare variables\n",
        "batmanAlias = \"Bruce Wayne\"\n",
        "riddlerQuestion = \"What belongs to you, but other people use it more than you do?\"\n",
        "riddleAnswer = \"Your name\"\n",
        "\n",
        "# Using print() to display a single variable\n",
        "print(batmanAlias)  # Output: Bruce Wayne\n",
        "\n",
        "# Using print() to display multiple variables\n",
        "print(\"Riddler's Question:\", riddlerQuestion)\n",
        "\n",
        "# Using f-strings for formatted output\n",
        "print(f\"The answer to Riddler's question '{riddlerQuestion}' is {riddleAnswer}.\")\n",
        "\n",
        "# Combining text and variables in f-strings\n",
        "print(f\"{batmanAlias}, also known as Batman, solved the riddle: {riddleAnswer}.\")"
      ],
      "metadata": {
        "colab": {
          "base_uri": "https://localhost:8080/"
        },
        "id": "88Jha1yS2PLe",
        "outputId": "9ca3d4eb-50b1-4aae-c0d6-f84509dc3f3d"
      },
      "execution_count": 1,
      "outputs": [
        {
          "output_type": "stream",
          "name": "stdout",
          "text": [
            "Bruce Wayne\n",
            "Riddler's Question: What belongs to you, but other people use it more than you do?\n",
            "The answer to Riddler's question 'What belongs to you, but other people use it more than you do?' is Your name.\n",
            "Bruce Wayne, also known as Batman, solved the riddle: Your name.\n"
          ]
        }
      ]
    },
    {
      "cell_type": "markdown",
      "source": [
        "In the above examples:\n",
        "\n",
        "-   The `print()` function is used to display the value of the variable `batmanAlias`.\n",
        "\n",
        "-   Multiple variables are printed by separating them with a comma inside the `print()` function.\n",
        "\n",
        "-   f-strings are used for formatted output. Inside an f-string, expressions enclosed between curly braces `{}` can be used to embed variables directly into the string. The expressions are evaluated at runtime.\n",
        "\n",
        "This allows for a more readable and concise way to format and print variables in Python."
      ],
      "metadata": {
        "id": "ztFaMaW02hEe"
      }
    },
    {
      "cell_type": "markdown",
      "source": [
        "#### How to Get Input and Cast It to the Correct Data Type\n",
        "\n",
        "In Python, the `input()` function is used to read a line from the standard input (usually the keyboard) and returns it as a string. To convert this string into the desired data type, you can use type casting functions like `int()`, `float()`, and `bool()`.\n",
        "\n",
        "Here's how you can get input and cast it to the correct data type, using a hypothetical scenario where Batman needs to input some information:"
      ],
      "metadata": {
        "id": "dNGfwhng3U6C"
      }
    },
    {
      "cell_type": "code",
      "source": [
        "# Get input as string and store it in a variable\n",
        "jokerAlias = input(\"Enter Joker's alias: \")  # Input will be read as a string\n",
        "\n",
        "# Get numerical input and cast it to integer\n",
        "jokerCrimes = int(input(\"Enter the number of crimes Joker has committed: \"))  # Input will be cast to an integer\n",
        "\n",
        "# Get numerical input and cast it to float\n",
        "jokerHeight = float(input(\"Enter Joker's height in meters: \"))  # Input will be cast to a float\n",
        "\n",
        "# Get boolean input and cast it to boolean\n",
        "isJokerInsane = bool(int(input(\"Is Joker insane? Enter 1 for True and 0 for False: \")))  # Input will be cast to a boolean\n",
        "\n",
        "# Display the collected information using f-strings\n",
        "print(f\"Joker's alias is {jokerAlias}. He has committed {jokerCrimes} crimes and is {jokerHeight} meters tall. Is he insane? {isJokerInsane}.\")\n"
      ],
      "metadata": {
        "colab": {
          "base_uri": "https://localhost:8080/"
        },
        "id": "0VbfuEdo3ZSp",
        "outputId": "06f96669-bf5d-40b8-8e81-8fb8b2253251"
      },
      "execution_count": 2,
      "outputs": [
        {
          "output_type": "stream",
          "name": "stdout",
          "text": [
            "Enter Joker's alias: Joker\n",
            "Enter the number of crimes Joker has committed: 6\n",
            "Enter Joker's height in meters: 4.3\n",
            "Is Joker insane? Enter 1 for True and 0 for False: 1\n",
            "Joker's alias is Joker. He has committed 6 crimes and is 4.3 meters tall. Is he insane? True.\n"
          ]
        }
      ]
    },
    {
      "cell_type": "markdown",
      "source": [
        "In this example:\n",
        "\n",
        "-   `input(\"Enter Joker's alias: \")` captures the alias of the Joker as a string. No type casting is required as the alias is already textual information.\n",
        "\n",
        "-   `int(input(\"Enter the number of crimes Joker has committed: \"))` captures the input as a string and then casts it to an integer using the `int()` function.\n",
        "\n",
        "-   `float(input(\"Enter Joker's height in meters: \"))` captures the input as a string and then casts it to a float using the `float()` function.\n",
        "\n",
        "-   `bool(int(input(\"Is Joker insane? Enter 1 for True and 0 for False: \")))` captures the input as a string, casts it to an integer using `int()`, and then further casts it to a boolean using `bool()`.\n",
        "\n",
        "The `print()` function with f-strings is then used to display the collected information, confirming that the inputs have been cast to their appropriate data types."
      ],
      "metadata": {
        "id": "FZPwTOwC3qbA"
      }
    },
    {
      "cell_type": "markdown",
      "source": [
        "#### How to Declare and Use Functions in Python\n",
        "\n",
        "In Python, functions are declared using the `def` keyword, followed by the function name and a pair of parentheses `()`. The function body is indented and usually contains a `return` statement to send back the result. Functions encapsulate a sequence of statements that perform a specific task, enhancing code reusability and modularity.\n",
        "\n",
        "Let's consider examples that would be of interest to Barbara Gordon, also known as Oracle, who specializes in information gathering, hacking, and providing tactical support.\n",
        "\n",
        "##### Example 1: Function to Encrypt a Message\n",
        "\n",
        "Oracle often needs to encrypt sensitive messages. Here's a simple function to perform a variety of the Caesar cipher encryption:"
      ],
      "metadata": {
        "id": "P9joIEJp4LeA"
      }
    },
    {
      "cell_type": "code",
      "source": [
        "def encrypt_message(message, shift):\n",
        "    encrypted = \"\"\n",
        "    for char in message.upper():\n",
        "        if char.isalpha():\n",
        "            shifted_char = chr(((ord(char) - 65 + shift) % 26) + 65)\n",
        "            encrypted += shifted_char\n",
        "        else:\n",
        "            encrypted += char\n",
        "    return encrypted\n",
        "\n",
        "# Usage\n",
        "secret_message = \"GOTHAM\"\n",
        "encrypted_message = encrypt_message(secret_message, 3)\n",
        "print(f\"Encrypted Message: {encrypted_message}\")\n"
      ],
      "metadata": {
        "colab": {
          "base_uri": "https://localhost:8080/"
        },
        "id": "DOr1Ixa14SUh",
        "outputId": "e37c58f4-2ebd-494f-d72b-bb959276fc7a"
      },
      "execution_count": 3,
      "outputs": [
        {
          "output_type": "stream",
          "name": "stdout",
          "text": [
            "Encrypted Message: JRWKDP\n"
          ]
        }
      ]
    },
    {
      "cell_type": "markdown",
      "source": [
        "In this example, the function `encrypt_message` takes a message and a shift value as parameters. It returns the encrypted message.\n",
        "\n",
        "##### Example 2: Function to Analyze Network Traffic\n",
        "\n",
        "Oracle might need to analyze network traffic to identify suspicious activity. Here's a function that simulates this:"
      ],
      "metadata": {
        "id": "BrV-58LC4bhE"
      }
    },
    {
      "cell_type": "markdown",
      "source": [
        "#### How to Declare and Use Simple Functions in Python\n",
        "\n",
        "In Python, a function is a reusable block of code that performs a specific task. Functions are declared using the `def` keyword, followed by the function name and parentheses `()`. The code block within the function is indented.\n",
        "\n",
        "\n",
        "```python\n",
        "def function_name(parameters):\n",
        "    # function body\n",
        "    return result\n",
        "```"
      ],
      "metadata": {
        "id": "hdqjLM4D58qk"
      }
    },
    {
      "cell_type": "markdown",
      "source": [
        "For example, let's say Barbara Gordon, also known as Oracle, wants a simple function to calculate her age based on her birth year."
      ],
      "metadata": {
        "id": "SS-D8KB_6I-l"
      }
    },
    {
      "cell_type": "code",
      "source": [
        "def calculate_age(birth_year):\n",
        "    current_year = 2023  # Assuming the current year is 2023\n",
        "    age = current_year - birth_year\n",
        "    return age\n",
        "\n",
        "# Usage\n",
        "oracle_age = calculate_age(1985)\n",
        "print(f\"Oracle's age is {oracle_age}.\")"
      ],
      "metadata": {
        "colab": {
          "base_uri": "https://localhost:8080/"
        },
        "id": "vPaRZPxV6Exa",
        "outputId": "d7e858ed-c8d1-49d9-9470-cdca29f63305"
      },
      "execution_count": 4,
      "outputs": [
        {
          "output_type": "stream",
          "name": "stdout",
          "text": [
            "Oracle's age is 38.\n"
          ]
        }
      ]
    },
    {
      "cell_type": "markdown",
      "source": [
        "#### Built-in String Methods\n",
        "\n",
        "Python provides a variety of built-in string methods that can be directly invoked on string objects. For instance, Oracle might frequently use `.upper()` to convert text to uppercase or `.replace()` to replace substrings."
      ],
      "metadata": {
        "id": "YhznR0B_6ZQK"
      }
    },
    {
      "cell_type": "code",
      "source": [
        "message = \"gotham city\"\n",
        "\n",
        "# Basic String Methods\n",
        "print(f\"Original Message: {message}\")\n",
        "print(f\"Uppercase: {message.upper()}\")\n",
        "print(f\"Capitalized: {message.capitalize()}\")\n",
        "print(f\"Replaced 'city' with 'metropolis': {message.replace('city', 'metropolis')}\")\n",
        "\n",
        "# Combining Methods\n",
        "print(f\"Chained Methods (Uppercase + Replace): {message.upper().replace('CITY', 'METROPOLIS')}\")\n",
        "\n",
        "# Finding Substrings\n",
        "print(f\"Position of 'city' in message: {message.find('city')}\")\n"
      ],
      "metadata": {
        "colab": {
          "base_uri": "https://localhost:8080/"
        },
        "id": "S0Ebzyit4dQI",
        "outputId": "38338b70-736b-4d64-def1-229b0de7323d"
      },
      "execution_count": 8,
      "outputs": [
        {
          "output_type": "stream",
          "name": "stdout",
          "text": [
            "Original Message: gotham city\n",
            "Uppercase: GOTHAM CITY\n",
            "Capitalized: Gotham city\n",
            "Replaced 'city' with 'metropolis': gotham metropolis\n",
            "Chained Methods (Uppercase + Replace): GOTHAM METROPOLIS\n",
            "Position of 'city' in message: 7\n"
          ]
        }
      ]
    },
    {
      "cell_type": "markdown",
      "source": [
        "## Mathematical Operations with Python's Math Library\n",
        "Given Oracle's penchant for data analysis and cryptography, mathematical operations are indispensable. Python's math library offers a wide range of mathematical functions. Here are five examples:"
      ],
      "metadata": {
        "id": "vd3PBzcR8FWn"
      }
    },
    {
      "cell_type": "code",
      "source": [
        "import math\n",
        "\n",
        "# Basic Operations\n",
        "print(f\"Square root of 16: {math.sqrt(16)}\")\n",
        "print(f\"15.2 rounded up: {math.ceil(15.2)}\")\n",
        "\n",
        "# Trigonometry\n",
        "print(f\"Sine of pi/2: {math.sin(math.pi / 2)}\")\n",
        "\n",
        "# Logarithms and Exponentiation\n",
        "print(f\"Log base 10 of 100: {math.log(100, 10)}\")\n",
        "\n",
        "# Combining Functions\n",
        "print(f\"Hypotenuse calculated from sides 4 and 3: {math.sqrt(math.pow(4, 2) + math.pow(3, 2))}\")\n"
      ],
      "metadata": {
        "colab": {
          "base_uri": "https://localhost:8080/"
        },
        "id": "3MnHxbJp8G0L",
        "outputId": "47e68091-b097-44a9-b224-5dae521cdf1e"
      },
      "execution_count": 9,
      "outputs": [
        {
          "output_type": "stream",
          "name": "stdout",
          "text": [
            "Square root of 16: 4.0\n",
            "15.2 rounded up: 16\n",
            "Sine of pi/2: 1.0\n",
            "Log base 10 of 100: 2.0\n",
            "Hypotenuse calculated from sides 4 and 3: 5.0\n"
          ]
        }
      ]
    },
    {
      "cell_type": "markdown",
      "source": [
        "## Generating Random Numbers with Python's Random Library\n",
        "In the realms of cryptography and data sampling, the generation of random numbers is crucial. Python's random library serves this purpose well. Here are five examples:"
      ],
      "metadata": {
        "id": "a4l8SmrD8TrE"
      }
    },
    {
      "cell_type": "code",
      "source": [
        "import random\n",
        "\n",
        "# Basic Random Numbers\n",
        "print(f\"Random integer between 1 and 10: {random.randint(1, 10)}\")\n",
        "print(f\"Random float between 1.0 and 10.0: {random.uniform(1.0, 10.0)}\")\n",
        "\n",
        "# Random Choice from a List\n",
        "heroes = [\"Raven\", \"Superman\", \"Wonder Woman\"]\n",
        "print(f\"Random hero from list: {random.choice(heroes)}\")\n",
        "\n",
        "# Shuffling a List\n",
        "random.shuffle(heroes)\n",
        "print(f\"Shuffled list of heroes: {heroes}\")\n",
        "\n",
        "# Combining Methods\n",
        "print(f\"Random float between sqrt(2) and 3^2: {random.uniform(math.sqrt(2), math.pow(3, 2))}\")"
      ],
      "metadata": {
        "colab": {
          "base_uri": "https://localhost:8080/"
        },
        "id": "RfVsjoRW8VVF",
        "outputId": "3bef7e29-c72e-4358-bcee-926f2836c3ff"
      },
      "execution_count": 11,
      "outputs": [
        {
          "output_type": "stream",
          "name": "stdout",
          "text": [
            "Random integer between 1 and 10: 1\n",
            "Random float between 1.0 and 10.0: 5.960407438965776\n",
            "Random hero from list: Superman\n",
            "Shuffled list of heroes: ['Wonder Woman', 'Raven', 'Superman']\n",
            "Random float between sqrt(2) and 3^2: 3.694089829756452\n"
          ]
        }
      ]
    },
    {
      "cell_type": "code",
      "source": [],
      "metadata": {
        "id": "R8Gv3DG22h_X"
      },
      "execution_count": null,
      "outputs": []
    }
  ]
}