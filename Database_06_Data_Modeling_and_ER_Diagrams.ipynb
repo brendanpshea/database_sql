{
  "nbformat": 4,
  "nbformat_minor": 0,
  "metadata": {
    "colab": {
      "provenance": [],
      "include_colab_link": true
    },
    "kernelspec": {
      "name": "python3",
      "display_name": "Python 3"
    },
    "language_info": {
      "name": "python"
    }
  },
  "cells": [
    {
      "cell_type": "markdown",
      "metadata": {
        "id": "view-in-github",
        "colab_type": "text"
      },
      "source": [
        "<a href=\"https://colab.research.google.com/github/brendanpshea/database_sql/blob/main/Database_06_Data_Modeling_and_ER_Diagrams.ipynb\" target=\"_parent\"><img src=\"https://colab.research.google.com/assets/colab-badge.svg\" alt=\"Open In Colab\"/></a>"
      ]
    },
    {
      "cell_type": "markdown",
      "source": [
        "#Data Modeling and E-R Diagrams with Wednesday Addams\n",
        "### Brendan Shea, PhD\n",
        "\n",
        "\n",
        "**Data modeling** is like building the blueprints for a house. But instead of creating spaces for people to live in, we're making space for data to live in a database. This chapter will guide you through the steps of drawing up these blueprints for your database, starting from your initial concept to the final design.\n",
        "\n",
        "To make things more interesting and practical, we're going to walk through this process using a case study. We'll be helping Wednesday Addams, who wants to build a database for her online shop selling quirky magical items. By the end of this chapter, you'll be equipped with the knowledge to create your own robust and efficient database designs."
      ],
      "metadata": {
        "id": "WqF6qtKrFFB1"
      }
    },
    {
      "cell_type": "markdown",
      "source": [
        "## Brendan's Lecture\n",
        "The lecture will be available by Tuesday."
      ],
      "metadata": {
        "id": "qFg9_DCClRaf"
      }
    },
    {
      "cell_type": "code",
      "source": [],
      "metadata": {
        "id": "kDRr0WSwlQTz"
      },
      "execution_count": null,
      "outputs": []
    },
    {
      "cell_type": "markdown",
      "source": [
        "## Introduction to the Case Study: Wednesday's \"Web Shop\"\n",
        "To aid us in our exploration of data modeling, we're going to enlist the help of the famous Wednesday Addams.\n",
        "\n",
        "No stranger to the peculiar, Wednesday has a fascinating project in her hands - she's creating an e-commerce \"Web shop\" for trading all things magic. Not your everyday magic rabbits or hats, mind you, but the kind of magic that makes the hairs on the back of your neck stand up. Be it a broom that sweeps itself or a teapot that sings cryptic riddles, Wednesday's website will be a marketplace for items steeped in enchantment.\n",
        "\n",
        "Now, magic items aren't your usual commodities, each possesses its own set of peculiar traits, meaning Wednesday will need a well-planned database to keep track of them. So, where does she start? What does she need to consider?\n",
        "\n",
        "For beginners, Wednesday will need a Data Model - a kind of visual map that outlines how all the data within her website will relate to each other. This model will serve as the blueprint for her entire operation. Will she need a separate category for potions and amulets, or should they all be under 'items'? The Data Model can help decide that.\n",
        "\n",
        "Next, she will consider Conceptual Modeling. This is a way of simplifying the complexity of her data into a higher-level diagram. With an array of enchanted items, from self-pouring teapots to mirrors that tell uncomfortable truths, a conceptual model will help Wednesday and her team to get a general understanding of the data without getting entangled in details.\n",
        "\n",
        "Then, there are the Business Rules. These are the laws that govern her database, defining how it operates. For instance, should an item be held by multiple owners at the same time? How would trades be conducted? Business rules help answer these questions and provide structure to the data. They can be Structural, which dictates how the data is organized, or Procedural, which dictates how the operations are performed.\n",
        "\n",
        "To visualize her database and its relationships more intuitively, Wednesday will rely on Entity-Relationship Diagrams (ERDs). Using ERDs, she can represent entities - like witches, potions, or flying brooms - and show the relationships between them. Whether she uses Chen's notation or Crow's Foot, these diagrams will be invaluable in understanding the structure of her data.\n",
        "\n",
        "Distinguishing between entities and their attributes is also key. Entities are the things she wants to keep track of - like a magic item or a customer. Attributes are the specific pieces of data associated with each entity - like the item's age or the customer's name. Some attributes may be mandatory, like the name of an item, while others may be optional, like its curse status.\n",
        "\n",
        "Understanding relationships between entities and deciding on Unique Identifiers (UIDs) and Primary Keys will also be part of her journey. Relationships determine how one entity is associated with another. UIDs and primary keys, meanwhile, help in uniquely identifying each record in her database.\n",
        "\n",
        "Wednesday's challenge doesn't stop at the Conceptual model. She will also have to build a Physical Model, which includes specific technical details about how her database will be implemented.\n",
        "\n",
        "This chapter will delve into these concepts, using Wednesday's peculiar case as a backdrop. We’ll uncover the intricacies of managing many-to-many relationships, choosing appropriate data types, and much more. We hope you're ready for a fun, macabre, and informative ride! After all, as Wednesday would remind us, \"Life's not all lovely thorns and singing vultures, you know.\""
      ],
      "metadata": {
        "id": "oO9qzMBNiHcZ"
      }
    },
    {
      "cell_type": "markdown",
      "source": [
        "## Data Models as Blueprints\n",
        "\n",
        "\"Imagine building a haunted house without a blueprint,\" Wednesday Addams might say, \"Sure, you could probably throw something together, but will it withstand the first ghoulish storm or the weight of an attic full of bewitched artifacts?\" Similarly, a **data model** serves as the blueprint in the world of databases. It's a simplified representation---usually visual, mathematical, or symbolic---of complex real-world data structures and the relationships between them.\n",
        "\n",
        "British statistician George E.P. Box once said, \"All models are wrong, but some are useful.\" He meant that while no model can perfectly encapsulate the complexity and unpredictability of the real world, good models can simplify that complexity into something understandable and useful. They help us predict outcomes, make informed decisions, and understand systems better.\n",
        "\n",
        "When it comes to databases, data models are indispensable tools for several reasons:\n",
        "\n",
        "1.  *Planning and Structuring Data:* A data model helps organize data systematically and logically. This aids in understanding what data is needed and how it should be organized. For Wednesday, this could mean figuring out how to categorize her array of magic items and their various attributes in a coherent way.\n",
        "\n",
        "2.  *Increasing Efficiency:* A well-planned data model enhances the efficiency of a database by reducing data redundancy and improving data integrity. It helps ensure that the system can effectively store, retrieve, and manage data. This means that when a witch in Timbuktu orders a self-sweeping broom at midnight, the order is processed smoothly without any hitches.\n",
        "\n",
        "3.  *Improving Communication:* Data models provide business and technical teams a shared language. They serve as a collaboration tool, helping stakeholders visualize data structures and validate requirements. So, whether it's Wednesday's coven of web developers or the users of her magical marketplace, everyone can better understand how the data works.\n",
        "\n",
        "So how might a data model aid Wednesday in designing her magic item shopping site? Well, imagine she's got an ancient wand listed on her website. This wand could have numerous attributes: its material, its age, the spells it can cast, its price, and so on. Now, how does she link this wand to its previous owners, or to the customers interested in buying it? And what about the transaction data? The answers to these questions lie in creating a robust data model, which will help her design an efficient, user-friendly website that even the most discerning witches and wizards would enjoy using.\n",
        "\n",
        "Remember, a data model is not an end in itself but a means to an end. As Wednesday's peculiar sense of humor might prompt her to say, \"A good data model is like a good tombstone. It stands the test of time, and even if it doesn't tell the whole story, it provides enough information to pique one's curiosity.\""
      ],
      "metadata": {
        "id": "R9YgFcd0jJ1f"
      }
    },
    {
      "cell_type": "markdown",
      "source": [
        "## Conceptual Modeling: A Bird's-Eye View of Your Data Universe\n",
        "\n",
        "Just as Wednesday Addams might lay out the pieces of a disquieting jigsaw puzzle of a graveyard on a cold, gloomy evening, conceptual modeling involves arranging complex data into a clear, comprehensive picture. It's all about creating a high-level, simplified diagram of a database. This model doesn't delve into the nitty-gritty of technical details but instead focuses on the big picture: the critical entities in the database and their relationships.\n",
        "\n",
        "Let's take a moment to decode that a bit. When we speak about **entities**, we're referring to the significant objects or concepts in our data universe. In Wednesday's case, an entity could be a 'magic item', a 'customer', or a 'transaction'.  On the other hand, **relationships** are the associations or interactions between these entities. For example, a 'customer' might 'purchase' a 'magic item', forming a relationship between those two entities.\n",
        "\n",
        "A **conceptual (logical)** model captures these entities and relationships in a manner that's easily understood, not just by database designers or developers, but by non-technical stakeholders too. It's an invaluable tool that fosters better team communication and understanding.\n",
        "\n",
        "But how does Wednesday Addams, purveyor of all things magical and mysterious, create a conceptual model for her magic item website?\n",
        "\n",
        "- First, she'd identify the key entities in her database. These could be 'magic items', 'customers', 'transactions', 'suppliers', or anything else significant to her website. Each entity would be a major category of data that she needs to keep track of.\n",
        "\n",
        "- Next, she'd identify the relationships between these entities. Does a customer 'buy' a magic item? Does a supplier 'supply' a magic item? These relationships would illustrate how the different entities interact with each other.\n",
        "\n",
        "- Then, she'd represent all these entities and relationships in a high-level, easy-to-understand diagram. This might look like a bunch of boxes (representing entities) connected by lines (representing relationships), but to Wednesday, it would be an essential roadmap for her website's data structure.\n",
        "\n",
        "By creating this conceptual model, Wednesday would establish a clear, coherent view of her website's data. It would be a simplified snapshot of her entire database, giving her and her team a strong foundation to build upon. And as Wednesday might dryly note, \"Just like planning a good prank, the success of a project often lies in the preparation.\""
      ],
      "metadata": {
        "id": "DlEiXt2yjqy5"
      }
    },
    {
      "cell_type": "markdown",
      "source": [
        "## Business Rules: The Laws Governing Your Data Universe\n",
        "\n",
        "Imagine a rule at the Addams Family dinner table: \"Always compliment Morticia's deadly nightshade salad.\" That's a business rule, but in the world of databases. Precisely defined, **business rules** are explicit, actionable, and business-specific criteria that provide a robust framework for an organization's decision-making, behavior, and operations. They act as the structural and operational directives guiding a system. (Note: In the context of data modeling, a \"business\" might be anything from a scientific research project to a video game--it doesn't necessarily have to involve money or sales).\n",
        "\n",
        "In conceptual modeling, business rules play a fundamental role. They shape the structure and flow of data and precisely define business operations, directly influencing how entities and relationships are formed and manipulated. Comprehending these business rules aids in creating a data model that mirrors the realities of the business.\n",
        "\n",
        "Business rules can be of two types:\n",
        "\n",
        "1.  **Structural Rules:** These rules pertain to the organization of data within the system. They outline the relationships between entities and stipulate how data elements correlate. An example in Wednesday's case could be \"Each magic item must be affiliated with one category.\"\n",
        "\n",
        "2.  **Procedural Rules:** These rules govern the operations performed within the system. They outline the guidelines for processes and transactions that interact with the data. For instance, a rule like \"An item must be paid for before it can be shipped\" is a procedural rule.\n",
        "\n",
        "Business rules function as **constraints** on data--specific boundaries placed on the data or operations within the system. They serve to maintain data integrity and reliability. For instance, Wednesday could have a rule such as \"The listed price of a magic item must be a positive number.  \n",
        "Now, considering Wednesday's uniquely peculiar magic item shop, here are five potential business rules:\n",
        "\n",
        "1. Each magic item should have at least one associated magical property. (Structural Rule)\n",
        "2.  A customer must provide a valid magical identification number to make a purchase. (Procedural Rule)\n",
        "3.  A magic item cannot belong to multiple categories (e.g., potions, amulets). (Structural Rule)\n",
        "4.  Customers can only purchase items if their magical credit score exceeds a certain threshold. (Procedural Rule)\n",
        "5.  All transactions must be recorded with the customer's ID, item ID, and the date of purchase. (Structural Rule)\n",
        "\n",
        "These business rules, whether invisible directives or explicit constraints, are the governing principles for Wednesday's magic item shop. Like a well-spun spiderweb, they provide a consistent, reliable, and efficient framework for managing data. Or as Wednesday might put it, \"In a world where the norm is peculiar, rules are your only constant.\""
      ],
      "metadata": {
        "id": "lunOO2A0khul"
      }
    },
    {
      "cell_type": "markdown",
      "source": [
        "## Entity-Relationship Diagrams: Mapping the Data Landscape\n",
        "\n",
        "If the Addams Family mansion were a database, an Entity-Relationship Diagram (ERD) would be its floor plan. ERDs are graphical tools that allow us to map out and visualize the various entities in a database and the relationships between them. In Wednesday's case, creating an ERD for her magic item shop would help her better understand how different data elements interact with one another.\n",
        "\n",
        "An ERD is essentially a collection of symbols representing entities (think: tables), attributes (think: columns), and relationships (think: connections). Now, there are several ways we can draw an ERD, and two popular notations are Chen's and Crow's Foot.\n",
        "\n",
        "### Chen's Notation\n",
        "\n",
        "Invented by Peter Chen in the 1970s, this notation represents entities as rectangles, attributes as ovals, and relationships as diamonds. Lines are used to link these symbols together. The relationship symbols also contain verbs that describe the interaction between entities. The basic symbols are:\n",
        "\n",
        "- Entities are represents by RECTANGLES.\n",
        "- Atttributes are represented by OVALS.\n",
        "- Attributes that are keys are UNDERLINED.\n",
        "- Relationships are represented by DIAMONDS.\n",
        "- Cardinality (number) are represted by LABELS on LINES. N means \"many\" and 1 means \"one.\"\n",
        "- Solid lines are **mandatory** (required), while dotted lines are **optional.**\n",
        "\n",
        "So, suppose Wednesday were using Chen's notation. In that case, she might have a rectangles labeled 'Customer' and 'Order', an oval labeled 'Name', and a diamond labeled 'Buys' to represent the relationship between a customer and the items they purchased.\n",
        "\n",
        "![Simple_Chen](https://github.com/brendanpshea/database_sql/raw/main/images/Wed_Chen_Simple.svg)\n",
        "\n",
        "\n",
        "\n",
        "Here, the \"M\" and \"N\" indicate that there is a \"many-to-many\" (cardinality) relationship between Customers and Items. That is, one customer can buy many items, and Item of a given type can be bought by many customers."
      ],
      "metadata": {
        "id": "ULrrSjEUmOba"
      }
    },
    {
      "cell_type": "markdown",
      "source": [
        "### Crow's Foot Notation\n",
        "\n",
        "This notation, with its simplified design, is widely used for its ease of interpretation. In this notation:\n",
        "\n",
        "- Entities are represented by RECTANGLES\n",
        "- Relationships are represented by LINES directly connecting those rectangles\n",
        "- Attributes are written insides the rectangles\n",
        "- The 'Crow's Foot' - three lines at the end of the relationship line - represents the 'many' in a 'one-to-many' or 'many-to-many' relationship.\n",
        "- A \"one\" (as opposed to \"many\") is a single line.\n",
        "- Optional relationships are denoted by a small \"o\" on the line, while mandatory relationshiprs have a \"|\".\n",
        "\n",
        "\n",
        "For example, Wednesday might connect a rectangle labeled 'Customer' to another labeled 'Order' with a line that has a crow's foot near the 'Order' rectangle. This would represent that one customer can buy many orders.\n",
        "\n",
        "\n",
        "![Simple_Crow](https://github.com/brendanpshea/database_sql/raw/main/images/Wed_Crow_Simple.svg)\n"
      ],
      "metadata": {
        "id": "Y1Q_sGZCqYGl"
      }
    },
    {
      "cell_type": "markdown",
      "source": [
        "Entity-Relationship diagrams can also be described by the use of **\"ERDish\" sentences**. These sentences allow us to express the elements of an ERD in a simple, English-like language. For example, some ERDish sentence for a relationship might be:\n",
        "\n",
        "1. \"A Customer (entity) can Buy (relationship) many Items (entity).\n",
        "2. \"A Customer (entity) Has a Name (attribute).\"\n",
        "3. \"An Item (entity) can be Bought (relationship) by many Customers (entity).\"\n",
        "\n",
        "You don't necessarily need to inlude the labels such as \"(entity)\"--I've simply used them here to make there more explicit. This form of representation aids in making ERDs more readable and understandable, especially for stakeholders without a technical background.\n",
        "\n",
        "As Wednesday Addams starts designing her ERD, she'd choose the notation that suits her best and start defining her entities (e.g., Customers, Items, Transactions), their attributes (e.g., Name, Price, Date), and their relationships (e.g., Buys, Sells, Contains). Her ERD would help her visualize her database structure, enabling her to understand how data flows and interacts within her system."
      ],
      "metadata": {
        "id": "h58WEzPfr1cN"
      }
    },
    {
      "cell_type": "markdown",
      "source": [
        "## Entities and Attributes: Defining the Characters of Your Database Story\n",
        "\n",
        "As Wednesday knows well, every member of the Addams Family has their unique quirks, just as entities in a database have their distinctive attributes. Entities represent the 'things' or objects we want to collect data about, while attributes are the specific data points associated with each entity.\n",
        "\n",
        "In the context of Wednesday's magic item shop, potential entities could include 'Customers', 'Magic Items', 'Transactions', and 'Suppliers'. Each of these entities would have its unique attributes. For example, the 'Customer' entity might possess attributes such as 'Name', 'Contact Information', and 'Magical Affiliation', whereas the 'Magic Items' entity could have attributes like 'Item Name', 'Price', 'Category', and 'Cursed Status'.\n",
        "\n",
        "During the identification process of attributes, Wednesday would distinguish between:\n",
        "\n",
        "1.  **Mandatory** vs **Optional**: Mandatory attributes must have a value for every instance of an entity. In contrast, optional attributes might not always have a value. For example, the 'Customer Name' could be a mandatory attribute, while 'Magical Affiliation' might be optional, given not all customers are magical beings.\n",
        "  - In SQL, a mandatoary attribute will eventually be coded with a NOT NULL contraint during the table creation process.\n",
        "  - On Chen diagrams, optional attributes are sometimes indicated with dotted (as opposed to solid) lines.\n",
        "\n",
        "2.  **Volatile** vs **Non-volatile**: Volatile attributes change frequently, like 'Item Quantity' for the 'Magic Items' entity, whereas non-volatile attributes are relatively stable, such as 'Item Name'.\n",
        "\n",
        "After pinpointing her entities and their attributes, Wednesday could craft ERDish sentences to illustrate her data model more understandably:\n",
        "\n",
        "1.  \"A Customer (entity) [Mandatory] has a Name (attribute).\"\n",
        "2.  \"A Magic Item (entity) [Optional] may have a Cursed Status (attribute).\"\n",
        "3.  \"A Supplier (entity) [Mandatory] has a Contact Information (attribute).\"\n",
        "4.  \"A Transaction (entity) [Volatile] can change its Total Amount (attribute).\"\n",
        "5.  \"A Customer (entity) [Non-volatile] maintains a Stable Magical Affiliation (attribute).\"\n",
        "\n",
        "In database design, like the crafting of a mysterious potion, every ingredient matters. By meticulously identifying entities and their attributes, Wednesday lays the foundation for an efficient and effective system. After all, even in the peculiar world of the Addams Family, a well-structured plan can make all the difference.\n"
      ],
      "metadata": {
        "id": "ce51Tl8YzXnj"
      }
    },
    {
      "cell_type": "markdown",
      "source": [
        "## Unique Identifiers (UIDs) and Primary Keys: The Magical Keys to Unlocking Organized Data\n",
        "\n",
        "Let's delve back into the mystical world of Wednesday Addams, where every potion has a unique formula, and each customer in her magic item shop has a unique identity. In database terms, these distinct identities are known as Unique Identifiers (UIDs) or Primary Keys.\n",
        "\n",
        "A **Unique Identifier (UID)** is a specific attribute that sets each record apart within a table. The UID that primarily identifies records within a table is recognized as a **Primary Key.** Remember, these are not just ordinary keys - they hold the power to uniquely identify each record, and no two records can share the same value. EVERy TABLE MUST HAVE A PRIMARY KEY, MADE UP OF ONE OR MORE ATTRIBUTES (the caps are because this is so important!).\n",
        "\n",
        "Take Wednesday's 'Customer' entity for example, which has attributes like 'Name', 'Contact Information', 'Email', 'Magical Affiliation', 'Favorite Item', 'Last Purchase Date', and 'Referral Source'. At first glance, 'Email' stands out as a potential UID since it is unique for each customer. However, emails can change over time or even become invalid, leading to potential instability in our data. For this reason, Wednesday decides against using 'Email' as a primary key.\n",
        "\n",
        "So, what's next for Wednesday?\n",
        "\n",
        "1.  **Candidate UIDs** and **Primary Keys:** Given that none of the existing attributes perfectly fit the role of a UID, Wednesday chooses to create an artificial 'Customer ID'. This ID is an alphanumeric combination, such as 'CUST1234', and serves as the ideal candidate for both a UID and Primary Key.\n",
        "\n",
        "2.  **Natural** vs **Artificial UIDs/Keys**: Wednesday had natural key options, like 'Email', derived from the data itself. However, considering their potential to change and cause instability, she opts for an artificial key. The 'Customer ID', an alphanumeric value, provides stable identification as it remains constant and isn't subject to change.\n",
        "\n",
        "3.  **Simple** vs **Composite Keys:** A primary key can be simple (based on a single attribute) or composite (based on multiple attributes). Although 'Name' and 'Email' together could form a composite key, it could still suffer from potential instability if the customer changes their name or email. Hence, Wednesday selects a simple key, 'Customer ID', as her primary key.\n",
        "\n",
        "4.  **Integer Keys** vs **Alphanumeric Keys:** When creating artificial keys, Wednesday could choose integers (e.g., 1, 2, 3) or alphanumeric values (e.g., CUST123). She opts for the alphanumeric route, providing an added layer of context ('CUST' implies it's a customer ID) and capacity (the combination of letters and numbers allows for a greater number of unique IDs).\n",
        "\n",
        "In the process of choosing keys, Wednesday considers these guiding principles:\n",
        "\n",
        "-   Uniqueness: The key should uniquely identify each record.\n",
        "-   Stability: The key should remain stable over time.\n",
        "-   Simplicity: Ideally, the key should be a single attribute or a minimal combination of attributes.\n",
        "-   Consistency: The same key should be used consistently across different tables to represent the same data.\n",
        "\n",
        "After considering all these factors, Wednesday decides that 'Customer ID' is the perfect Primary Key for her 'Customer' table. It's as unique as a magical sigil, as stable as a centuries-old spell, and as simple and consistent as the elemental symbols in her spellbook.\n",
        "\n",
        "As every sorcerer needs a unique name to control their magic, every record in a database needs a unique identifier. And so, Wednesday, armed with her carefully chosen UIDs and Primary Keys, is one step closer to mastering the arcane art of databases.\n",
        "\n",
        "On ERDs, keys are indicated by being UNDERLINED (in Chen) or explicitly labeled (Crow's Foot.)"
      ],
      "metadata": {
        "id": "2xUWQsz-6b4n"
      }
    },
    {
      "cell_type": "markdown",
      "source": [
        "## Identifying Relationships Between Entities\n",
        "\n",
        "Entities in a database don't exist in isolation. Like the interconnecting lines in a spell diagram, relationships link entities in a meaningful way, forming the basis of a logical data model.\n",
        "\n",
        "Let's examine Wednesday Addams' magic item shopping site. Consider two entities - 'Customer' and 'Item'. What relationships might exist between them? How would Wednesday identify these relationships and what does this mean for her conceptual-logical model?\n",
        "\n",
        "1.  Understanding Relationships: In the simplest terms, relationships are the associations that exist between entities. For instance, a 'Customer' can 'purchase' an 'Item'. This 'purchase' is the relationship that links the 'Customer' and 'Item' entities. In a conceptual data model, we depict these relationships as lines connecting the respective entity boxes.\n",
        "\n",
        "2.  Cardinality and Optionality: Cardinality describes the numerical attributes of a relationship, that is, how many instances of one entity relate to instances of another entity. For Wednesday's site, each 'Customer' can 'purchase' multiple 'Items', and each 'Item' can be 'purchased' by multiple 'Customers'. This brings us to the concept of optionality. For instance, it is possible that a 'Customer' has not yet made a purchase, so an 'Item' is optional for a 'Customer'. Similarly, an 'Item' may not yet have been purchased by any 'Customer'.\n",
        "\n",
        "3.  One-to-one, One-to-many, Many-to-many: Here, we dive into the different types of relationships:\n",
        "\n",
        "    -   One-to-One (1:1): Each instance of Entity A relates to one and only one instance of Entity B, and vice versa. An example for Wednesday's shop could be 'Customer' and 'Customer Profile' - each 'Customer' has one 'Profile', and each 'Profile' belongs to one 'Customer'.\n",
        "    -   One-to-Many (1:M): Each instance of Entity A can relate to multiple instances of Entity B, but each instance of Entity B relates to only one instance of Entity A. For instance, a 'Customer' can 'make' many 'Orders', but each 'Order' is 'made' by one 'Customer' at a time.\n",
        "    -   Many-to-Many (M:N): Multiple instances of Entity A can relate to multiple instances of Entity B. For example, many 'Customers' can 'purchase' many 'Items', and vice versa.\n",
        "\n",
        "    In Chen notation, these relationships are represented as lines connecting entities, with the relationship type ('purchase', for example) inscribed along the line. Cardinality is depicted as '1' and 'N' markers.\n",
        "\n",
        "    Crow's Foot notation provides a visual representation of cardinality using three pronged 'crow's foot' for 'many' and a straight line for 'one'. The optional nature of a relationship is shown by a small circle or a straight line (mandatory).\n",
        "\n",
        "Just as a skilled sorceress like Wednesday Addams understands the intricate connections between her spells, potions, and magical items, understanding relationships between entities empowers you to create a more efficient, effective, and meaningful database. It's this magical network of relationships that brings a database to life, enabling it to tell a story, reveal patterns, and unlock insights."
      ],
      "metadata": {
        "id": "uCvnNgGl1X9i"
      }
    },
    {
      "cell_type": "markdown",
      "source": [
        "## Types of Relationsips in Chen and Crow's Foot\n",
        "\n",
        "![Diagram showing connections](https://github.com/brendanpshea/database_sql/raw/main/images/ChenVsCrowsFoot.jpg)\n",
        "\n",
        "From: Colonel and Morris, 2021, **Database Systems** 13e. Cengage Publishing."
      ],
      "metadata": {
        "id": "UdOBASjq2x_h"
      }
    },
    {
      "cell_type": "markdown",
      "source": [
        "## Wednesday's Business Rules: A Final List\n",
        "\n",
        "At the end of the day, here are Wednsesday's finally list of business rules.\n",
        "\n",
        "1.  Each 'Customer' has a a primary key 'CustomerID'.\n",
        "\n",
        "2.  A 'Customer's' 'Name' is mandatory.\n",
        "\n",
        "3.  A 'Customer's' 'Email' is mandatory and unique.\n",
        "\n",
        "4.  A 'Customer's' 'Phone Number' is optional.\n",
        "\n",
        "5.  An 'Item' has a primary key 'ItemID'.\n",
        "\n",
        "6.  An 'Item's' 'Name' is mandatory.\n",
        "\n",
        "7.  An 'Item's' 'Price' is mandatory.\n",
        "\n",
        "8.  An 'Item's' 'Description' is optional.\n",
        "\n",
        "9.  Each 'Order' has a primary'OrderID'.\n",
        "\n",
        "10. Each 'Order' has a mandatory 'Order Date'.\n",
        "\n",
        "11. An 'Order' can 'contain' many 'Items'.\n",
        "\n",
        "12. An 'Order' must 'contain' at least one 'Item'.\n",
        "\n",
        "13. A 'Customer' can 'place' an 'Order'.\n",
        "\n",
        "14. Each 'Order' is 'placed by' one 'Customer'.\n",
        "\n",
        "15. Each 'Customer' can 'have' multiple 'Orders'.\n",
        "\n",
        "16. Each 'Item' can 'be in' many 'Orders'."
      ],
      "metadata": {
        "id": "EBSzk2RA3sLd"
      }
    },
    {
      "cell_type": "markdown",
      "source": [
        "## Chen ERD\n",
        "The complete Chen ERD is as follows:\n",
        "\n",
        "![Diagram showing connections](https://github.com/brendanpshea/database_sql/raw/main/images/Wed-Chen-Full.svg)"
      ],
      "metadata": {
        "id": "csKjNLAkmfiH"
      }
    },
    {
      "cell_type": "markdown",
      "source": [
        "## Exercise: Create a Crow's Foot Diagram in Diagrams.net\n",
        "For this exercise, I'd like to create an ERD diagram for Wednesday's database in Crow's Foot diagram, and include it in this notebook. Here are the directions:\n",
        "1.  Open diagrams.net: Go to the website for https://diagrams.net (or https://www.drawio.com/). This is a web-based application, so there's nothing to download or install.\n",
        "\n",
        "2.  Create a new diagram: On the home page, click on \"Create New Diagram\". A popup window will appear. You can name your diagram in the \"Diagram Name\" field, select the blank template, and click on the \"Create\" button.\n",
        "\n",
        "3.  Understand the interface: The interface of diagrams.net is divided into three main areas:\n",
        "\n",
        "    -   Left Sidebar: Here, you can access shapes, texts, connectors, etc.\n",
        "\n",
        "    -   Central Working Area: This is where you'll create your diagram.\n",
        "\n",
        "    -   Right Sidebar: This area is for formatting and styling your shapes and texts.\n",
        "\n",
        "4.  Select the Entity-Relationship symbols: Click on \"Entity Relation\" category of symbols at the bottom of the left sidebar.\n",
        "5.  Draw your diagram:\n",
        "\n",
        "    -   Drag and drop \"Entity\" shapes from the left sidebar onto the central working area. Double-click inside these shapes to add text.\n",
        "\n",
        "    -   Connect the entities using the Crow's Foot Notation symbols. Click on the arrow symbol (Connector) on the left sidebar, and then click and drag between two entities in the central working area to connect them.\n",
        "\n",
        "6.  Save your work: Click on \"File\" on the top menu bar and select \"Save As\". Choose your preferred destination to save the diagram (your device, Google Drive, Dropbox, etc.).\n",
        "\n",
        "### How to Export a Diagram to SVG Format in Diagrams.net\n",
        "\n",
        "1.  Navigate to the File menu: Click on the \"File\" button located in the top menu bar.\n",
        "2.  Select Export As: In the dropdown list, select \"Export as\", and then choose \"SVG\".\n",
        "3.  Download the file: A dialog box will pop up. Click \"Export\", and then \"Download\" on the next screen. This will save the SVG file on your device.\n",
        "\n",
        "### How to Include the SVG in a Colab Notebook\n",
        "\n",
        "1. Create a new \"text cell\" to insert your diagram in and open it to edit.\n",
        "2.  Choose \"insert image\". Then upload your SVG file.\n",
        "3.  Run the cell: Press `Shift + Enter` to run the cell. The diagram should now appear in your Jupyter notebook.\n",
        "\n"
      ],
      "metadata": {
        "id": "2xUlOr1ecLj4"
      }
    },
    {
      "cell_type": "markdown",
      "source": [
        "### My Crow's Foot Diagram\n",
        "Your work goes below:"
      ],
      "metadata": {
        "id": "BxHzlZHHeDTQ"
      }
    },
    {
      "cell_type": "markdown",
      "source": [
        "## How Do I Go From a Conceptual Model to a Physical Model?\n",
        "\n",
        "Having designed our conceptual model, it's now time to dive into the nitty-gritty and create a **physical model**, the blueprint that guides the construction of the actual database. A physical data model outlines our database system's specific technical requirements and specifications, including the data types, constraints, and relationships among data elements. Here, the real-world considerations of a database system come into play, such as storage capacity, performance optimization, and specific features of the database management system (DBMS) in use.\n",
        "\n",
        "Our next step is implementing this in the ANSI standard SQL, a widely used language for managing and manipulating databases. In our case, Wednesday Addams would be formulating the spells (SQL statements) to construct her magical shopping site.\n",
        "\n",
        "- *Many-to-many relationships:* First, we need to handle many-to-many relationships. In the world of relational databases, these relationships are tricky and need to be resolved into two one-to-many relationships using a **junction table** (association table, join table). This table includes the primary keys from both related tables.\n",
        "    \n",
        "    - For instance, the relationship between 'Order' and 'Item' is many-to-many: one order can contain many items, and one item can be in many orders. This would be resolved in SQL by creating an 'OrderDetail' table that references both 'Order' and 'Item' tables.\n",
        "\n",
        "- *Choosing data types:* In choosing data types, we need to consider what kind of data will be stored in each attribute and what operations we need to perform on that data. SQL provides a range of data types such as INT (integer), DECIMAL for precise numeric values, VARCHAR for variable-length strings, and DATE for dates.\n",
        "    - For instance, 'CustomerID' could be INT, 'Email' could be VARCHAR, and 'Order Date' could be DATE.\n",
        "\n",
        "- *Implementing Constraints:* We also need to implement constraints that enforce the data's business rules. These can range from ensuring unique identifiers (e.g., using the UNIQUE keyword for 'CustomerID' and 'Email' in the 'Customer' table), making sure certain attributes must have data (e.g., NOT NULL for 'Name' and 'Email' in the 'Customer' table), to specifying relationships between tables (e.g., using the FOREIGN KEY keyword to link 'OrderDetail' to 'Order' and 'Item').\n",
        "\n",
        "Translating a conceptual model into a physical model, and subsequently into SQL, is akin to Wednesday Addams preparing her potion ingredients, stirring them together in a cauldron, and casting the perfect spell to bring her magical shopping site to life."
      ],
      "metadata": {
        "id": "7eQcbd7VnbiT"
      }
    },
    {
      "cell_type": "markdown",
      "source": [
        "## Data Definition Language (DDL)\n",
        "\n",
        "In the realm of SQL, the **Data Definition Language (DDL)** is the set of SQL commands used to create, modify, and delete database structures but not data. These commands will serve as Wednesday's incantations to mold the structure of her database.\n",
        "\n",
        "DDL includes commands like CREATE, ALTER, and DROP:\n",
        "\n",
        "-   CREATE: This command is used to create the database or its objects (like table, index, function, views, triggers, etc.).\n",
        "-   ALTER: This is used to alter the structure of the database.\n",
        "-   DROP: This is used to drop the database or its objects.\n",
        "\n",
        "In particular, the CREATE command is used to summon tables into existence from the void.\n",
        "\n",
        "### CREATE TABLE Statement\n",
        "\n",
        "The `CREATE TABLE` statement is a DDL command that allows us to define a new table in the database. It lets us specify the name of the table and the names of the columns, along with their data types and constraints. Here's an example:\n",
        "\n",
        "\n",
        "```\n",
        "CREATE TABLE Customer (\n",
        "    CustomerID INT PRIMARY KEY,\n",
        "    Name VARCHAR(100) NOT NULL,\n",
        "    Email VARCHAR(255) NOT NULL UNIQUE,\n",
        "    Phone VARCHAR(15)\n",
        ");\n",
        "```\n",
        "\n",
        "In this spell, Wednesday conjures a `Customer` table with four columns: `CustomerID`, `Name`, `Email`, and `Phone`. `CustomerID` is of type `INT` and is also the `PRIMARY KEY` of the table. `Name` and `Email` are of type VARCHAR with maximum lengths of 100 and 255 characters respectively, and they must contain data (`NOT NULL`). `Email` also has the UNIQUE constraint, meaning all emails in the table must be unique. `Phone` is an optional field, so it doesn't have the `NOT NULL` constraint.\n",
        "\n",
        "The `CREATE TABLE` command lays the foundation of the database, where all the data will be stored. It is a crucial step in setting up Wednesday's magical item shopping site."
      ],
      "metadata": {
        "id": "4SZEelVBn96v"
      }
    },
    {
      "cell_type": "markdown",
      "source": [
        "## Data Types and Constaints in SQL\n",
        "When creating and updating tables in SQL, we need to think about the **data types** of each attribute, as well as the **constraints** on their values. (We get these things from our conceptual model). Here are the main options we have:\n",
        "\n",
        "Here is a summary of some commonly used ANSI-standard SQL data types:\n",
        "\n",
        "| Data Type | Description |\n",
        "| --- | --- |\n",
        "| INT | An integer number, typically used for numerical values without decimal points. |\n",
        "| DECIMAL | A precise number with a fixed number of digits to the right of the decimal point, typically used for monetary or other exact numeric values. |\n",
        "| VARCHAR | A variable-length string of characters, useful for text-based data of varying lengths, such as names or addresses. |\n",
        "| CHAR | A fixed-length string of characters, useful for storing fixed-length data such as postal codes or country codes. |\n",
        "| DATE | Used for date values, typically in the format 'YYYY-MM-DD'. |\n",
        "| TIME | Used for time values, typically in the format 'HH:MI:SS'. |\n",
        "| TIMESTAMP | Combines both date and time values. |\n",
        "| BOOLEAN | Used for Boolean logical values (TRUE or FALSE). |\n",
        "| BLOB | Binary Large Object, used for storing large amounts of binary data like images or files. |\n",
        "\n",
        "Now, let's look at some of the key constraints available in SQL:\n",
        "\n",
        "| Constraint | Description |\n",
        "| --- | --- |\n",
        "| PRIMARY KEY | Uniquely identifies each record in a database table. Each table has only one primary key which may consist of single or multiple fields. |\n",
        "| FOREIGN KEY | Uniquely identifies a record in another table, establishing a link between two tables. |\n",
        "| UNIQUE | Ensures that all values in a column are different, providing a way to enforce uniqueness beyond the primary key. |\n",
        "| NOT NULL | Ensures that a column cannot have a NULL value, guaranteeing that every record has a value in this field. |\n",
        "| CHECK | Ensures that the value in a column meets certain specified conditions. |\n",
        "| INDEX | Used to create and retrieve data from the database very quickly. Not a constraint per se, but a performance optimization technique. |\n",
        "| DEFAULT | Provides a default value for a column when none is specified. |\n",
        "\n",
        "When designing her magical item shopping site, Wednesday Addams would need to strategically utilize these data types and constraints to ensure her database functions efficiently and correctly."
      ],
      "metadata": {
        "id": "oE_AVZoVocp5"
      }
    },
    {
      "cell_type": "markdown",
      "source": [
        "## Creating Tables for Wednesday's Web Shop\n",
        "We can now go about creating the tables for Wednesday's Web Shop"
      ],
      "metadata": {
        "id": "rxnLnCO3pP9t"
      }
    },
    {
      "cell_type": "code",
      "source": [
        "# For this section, we need to use PostgreSQL,\n",
        "# which fully support ANSI SQL ALTER TABLE functions\n",
        "\n",
        "!apt install postgresql postgresql-contrib &>log\n",
        "!service postgresql start\n",
        "!sudo -u postgres psql -c \"CREATE USER root WITH SUPERUSER\"\n",
        "# set connection\n",
        "%load_ext sql\n",
        "%sql postgresql+psycopg2://@/postgres"
      ],
      "metadata": {
        "id": "CbhT-9POYzVY",
        "colab": {
          "base_uri": "https://localhost:8080/"
        },
        "outputId": "53da08fe-8044-45ca-b833-8fc7895a15ca"
      },
      "execution_count": 1,
      "outputs": [
        {
          "output_type": "stream",
          "name": "stdout",
          "text": [
            " * Starting PostgreSQL 14 database server\n",
            "   ...done.\n",
            "CREATE ROLE\n"
          ]
        }
      ]
    },
    {
      "cell_type": "code",
      "execution_count": 9,
      "metadata": {
        "id": "hQm73oFYE_ej",
        "colab": {
          "base_uri": "https://localhost:8080/"
        },
        "outputId": "3f25b2a3-8521-456d-e1c7-eccc7a61cac2"
      },
      "outputs": [
        {
          "output_type": "stream",
          "name": "stdout",
          "text": [
            " * postgresql+psycopg2://@/postgres\n",
            "Done.\n",
            "Done.\n",
            "Done.\n",
            "Done.\n",
            "Done.\n",
            "Done.\n"
          ]
        },
        {
          "output_type": "execute_result",
          "data": {
            "text/plain": [
              "[]"
            ]
          },
          "metadata": {},
          "execution_count": 9
        }
      ],
      "source": [
        "%%sql\n",
        "-- First, we'll make sure the table don't exist yet\n",
        "DROP TABLE IF EXISTS Customers CASCADE;\n",
        "DROP TABLE IF EXISTS Items CASCADE;\n",
        "DROP TABLE IF EXISTS Orders CASCADE;\n",
        "\n",
        "-- The 'Customer' table:\n",
        "CREATE TABLE Customers (\n",
        "    CustomerID CHAR(10) PRIMARY KEY, -- We use CHAR(10) to hold a 10-character unique ID.\n",
        "    Name VARCHAR(100) NOT NULL, -- Name is mandatory, VARCHAR is used for potentially long and varying lengths.\n",
        "    Email VARCHAR(255) NOT NULL UNIQUE, -- Email is mandatory and must be unique.\n",
        "    Phone VARCHAR(15) -- Phone is optional, it can be NULL.\n",
        ");\n",
        "\n",
        "-- The 'Item' table:\n",
        "CREATE TABLE Items (\n",
        "    ItemID INT PRIMARY KEY, -- An integer is sufficient and efficient for a unique ItemID.\n",
        "    Name VARCHAR(100) NOT NULL, -- Name is mandatory, and VARCHAR suits varying lengths.\n",
        "    Price DECIMAL(10,2) NOT NULL, -- Price is mandatory. A DECIMAL type suits monetary values, with precision up to 2 decimal places.\n",
        "    Description TEXT -- Description is optional, and TEXT is suitable for long strings.\n",
        ");\n",
        "\n",
        "-- The 'Order' table:\n",
        "CREATE TABLE Orders (\n",
        "    OrderID INT PRIMARY KEY, -- We use INT for OrderID, as it is a straightforward, efficient data type for unique identifiers.\n",
        "    OrderDate DATE NOT NULL, -- Order Date is mandatory, and DATE type is appropriate.\n",
        "    CustomerID CHAR(10) NOT NULL, -- To link the Order to the Customer, the CustomerID is mandatory.\n",
        "    FOREIGN KEY (CustomerID) REFERENCES Customers(CustomerID) -- Ensuring the CustomerID in Order corresponds to a valid Customer.\n",
        ");\n"
      ]
    },
    {
      "cell_type": "markdown",
      "source": [
        "Now, the 'Order' can 'contain' many 'Items', but must 'contain' at least one. This sounds like a classic many-to-many relationship. To handle this, we use a junction table, which we'll call 'Order_Item'. It will have foreign keys to both 'Order' and 'Item' and will allow us to represent the many-to-many relationship."
      ],
      "metadata": {
        "id": "BZd0u9kWqHYk"
      }
    },
    {
      "cell_type": "code",
      "source": [
        "%%sql\n",
        "DROP TABLE IF EXISTS Order_Item;\n",
        "-- The 'Order_Item' junction table:\n",
        "CREATE TABLE Order_Item (\n",
        "    OrderID INT,\n",
        "    ItemID INT,\n",
        "    Quantity INT NOT NULL CHECK (Quantity > 0), -- Each Order must contain at least one Item.\n",
        "    FOREIGN KEY (OrderID) REFERENCES Orders(OrderID),\n",
        "    FOREIGN KEY (ItemID) REFERENCES Items(ItemID),\n",
        "    PRIMARY KEY (OrderID, ItemID) -- The combination of OrderID and ItemID is unique.\n",
        ");\n"
      ],
      "metadata": {
        "colab": {
          "base_uri": "https://localhost:8080/"
        },
        "id": "_1pasUGKqKQa",
        "outputId": "fa98576d-b3f2-42c8-f82a-7e5d8f21552a"
      },
      "execution_count": 11,
      "outputs": [
        {
          "output_type": "stream",
          "name": "stdout",
          "text": [
            " * postgresql+psycopg2://@/postgres\n",
            "Done.\n",
            "Done.\n"
          ]
        },
        {
          "output_type": "execute_result",
          "data": {
            "text/plain": [
              "[]"
            ]
          },
          "metadata": {},
          "execution_count": 11
        }
      ]
    },
    {
      "cell_type": "markdown",
      "source": [
        "That takes care of all the rules in Wednesday's scenario!"
      ],
      "metadata": {
        "id": "RyOvuVP_qVzG"
      }
    },
    {
      "cell_type": "markdown",
      "source": [
        "## The INSERT Statement\n",
        "\n",
        "With the structure of the tables defined using the `CREATE` TABLE command, Wednesday Addams is now ready to populate them with data using the `INSERT` statement. The syntax is as follows:\n",
        "\n",
        "```\n",
        "INSERT INTO table_name (column1, column2, column3,...)\n",
        "VALUES (value1, value2, value,...);\n",
        "```\n",
        "\n",
        "In this command, `table_name` is the name of the table where you want to insert the data. `column1, column2, column3,...` are the names of the columns in the table where you want to add the data. `value1, value2, value3,...` are the values to be added.\n",
        "\n",
        "Let's see an example of how Wednesday can add a customer to her 'Customer' table:\n",
        "\n",
        "```\n",
        "INSERT INTO Customer (CustomerID, Name, Email, Phone)\n",
        "VALUES ('CUST12345', 'Gomez Addams', 'gomez@addams.com', '123-456-7890');\n",
        "```\n",
        "\n",
        "In this statement, Wednesday is adding a new customer with 'CustomerID' 'CUST12345', 'Name' 'Gomez Addams', 'Email' '<gomez@addams.com>', and 'Phone' '123-456-7890'.\n",
        "\n",
        "It's important to note that the values must be listed in the same order as the columns. Also, text and date values should typically be enclosed in single quotes.\n",
        "\n",
        "If she's adding values for all the columns, Wednesday could leave out the column names, like so:\n",
        "\n",
        "```\n",
        "INSERT INTO Customer\n",
        "VALUES ('CUST12345', 'Gomez Addams', 'gomez@addams.com', '123-456-7890');\n",
        "```\n",
        "\n",
        "However, it's considered good practice always to include the column names for clarity and to avoid potential errors if the table structure changes in the future.\n",
        "\n",
        "With the INSERT command, Wednesday can fill her database with customers, items, and orders, and bring her magic item shop to life!"
      ],
      "metadata": {
        "id": "xsOwkJl2kCl1"
      }
    },
    {
      "cell_type": "code",
      "source": [
        "## Sample data\n",
        "%%sql\n",
        "-- Inserting Customers:\n",
        "INSERT INTO Customers (CustomerID, Name, Email, Phone)\n",
        "VALUES\n",
        "('CUST0001', 'Gomez Addams', 'gomez@addams.com', '123-456-7890'),\n",
        "('CUST0002', 'Morticia Addams', 'morticia@addams.com', '123-456-7891'),\n",
        "('CUST0003', 'Pugsley Addams', 'pugsley@addams.com', NULL),\n",
        "('CUST0004', 'Thing', 'thing@addams.com', NULL);\n",
        "\n",
        "-- Inserting Items:\n",
        "INSERT INTO Items (ItemID, Name, Price, Description)\n",
        "VALUES\n",
        "(1, 'Cursed Mirror', 99.99, 'Shows a horrifying face when looked into.'),\n",
        "(2, 'Talking Tombstone', 249.99, 'Gives cryptic advice when asked.'),\n",
        "(3, 'Possessed Doll', 39.99, 'Moves on its own when nobody is looking.'),\n",
        "(4, 'Invisible Sword', 199.99, NULL);\n",
        "\n",
        "-- Inserting Orders:\n",
        "INSERT INTO Orders (OrderID, OrderDate, CustomerID)\n",
        "VALUES\n",
        "(1001, '2023-06-21', 'CUST0001'),\n",
        "(1002, '2023-06-22', 'CUST0002'),\n",
        "(1003, '2023-06-23', 'CUST0003'),\n",
        "(1004, '2023-06-24', 'CUST0004');\n",
        "\n",
        "-- Inserting Order_Items:\n",
        "INSERT INTO Order_Item (OrderID, ItemID, Quantity)\n",
        "VALUES\n",
        "(1001, 1, 2),\n",
        "(1001, 2, 1),\n",
        "(1002, 3, 1),\n",
        "(1003, 2, 3),\n",
        "(1004, 4, 1),\n",
        "(1004, 1, 1);\n"
      ],
      "metadata": {
        "colab": {
          "base_uri": "https://localhost:8080/"
        },
        "id": "QrZPlbu1qWHi",
        "outputId": "668f5a2b-a436-4585-fde4-34b2d4ffe4f6"
      },
      "execution_count": 12,
      "outputs": [
        {
          "output_type": "stream",
          "name": "stdout",
          "text": [
            " * postgresql+psycopg2://@/postgres\n",
            "4 rows affected.\n",
            "4 rows affected.\n",
            "4 rows affected.\n",
            "6 rows affected.\n"
          ]
        },
        {
          "output_type": "execute_result",
          "data": {
            "text/plain": [
              "[]"
            ]
          },
          "metadata": {},
          "execution_count": 12
        }
      ]
    },
    {
      "cell_type": "markdown",
      "source": [
        "## Updating and Deleting Data\n",
        "\n",
        "In the life of a database, it's not only about inserting new data. There will be times when Wednesday needs to update existing information or even delete some data. This is where the SQL UPDATE and DELETE statements come into play.\n",
        "\n",
        "The `UPDATE` statement allows you to modify existing records in a table. It's like casting a spell to transform an object into something else. The syntax is as follows:\n",
        "\n",
        "```\n",
        "UPDATE table_name\n",
        "SET column1 = value1, column2 = value2,...\n",
        "WHERE condition;\n",
        "```\n",
        "\n",
        "The `table_name` is the name of the table where you want to update data, `column1, column2,...` are the names of the columns to be updated, and `value1, value2,...` are the new values to be set. The WHERE clause specifies which record(s) should be updated. If the WHERE clause is omitted, all records will be updated!\n",
        "\n",
        "For instance, if Gomez changes his email, Wednesday would need to update his record like this:\n",
        "\n",
        "```\n",
        "UPDATE Customer\n",
        "SET Email = 'newgomez@addams.com'\n",
        "WHERE CustomerID = 'CUST0001';\n",
        "```\n",
        "\n",
        "The DELETE statement removes one or more records from a table. It's like casting a vanishing spell to make data disappear. Here's the syntax:\n",
        "\n",
        "```\n",
        "DELETE FROM table_name\n",
        "WHERE condition;\n",
        "```\n",
        "\n",
        "`table_name` is the name of the table where you want to delete data. The WHERE clause specifies which record(s) should be deleted. If the WHERE clause is omitted, all records will be deleted!\n",
        "\n",
        "For example, if, for some unfathomable reason, the Cursed Mirror is no longer available, Wednesday would delete it from the 'Item' table like so:\n",
        "\n",
        "```\n",
        "DELETE FROM Item\n",
        "WHERE Name = \"Cursed Mirror\";\n",
        "```\n",
        "\n",
        "But be careful! The `DELETE` statement is permanent and cannot be undone. Always double-check the condition in the `WHERE` clause before running a `DELETE` statement. It's also a good practice to perform regular backups of your data to safeguard against accidental deletions.\n",
        "\n",
        "By mastering the `INSERT`, `UPDATE`, and `DELETE` statements, Wednesday can effectively manage her database, ensuring that her magic item shopping site remains current and accurate."
      ],
      "metadata": {
        "id": "kLnbNGr0lMhk"
      }
    },
    {
      "cell_type": "markdown",
      "source": [
        "## ALTER TABLE\n",
        "The ALTER TABLE statement serves as a tool for metamorphosis, allowing one to modify the structure of an existing table. This SQL command is akin to a wizard's spellbook in Wednesday Addams' Web Shop, granting you the power to change the attributes of magical items or even the properties of customers without disrupting the underlying essence of the table.\n",
        "\n",
        "The ALTER TABLE statement can be employed for various tasks:\n",
        "\n",
        "1.  **Adding Columns--**You can introduce new attributes. For instance, if Wednesday decides to add a 'LoyaltyPoints' column to the 'Customers' table, this can be done without creating a new table.\n",
        "\n",
        "2.  **Modifying Columns--**Existing columns can be altered. If the 'Price' column in the 'Items' table needs to accommodate larger values, its data type can be changed.\n",
        "\n",
        "3.  **Dropping Columns--**If a column becomes obsolete, like if Wednesday decides that phone numbers are no longer needed, it can be removed.\n",
        "\n",
        "4.  **Renaming Table or Columns--**The table or its columns can be renamed for better clarity or due to a change in business logic.\n",
        "\n",
        "5.  **Add or Drop Constraints--** Constraints like 'UNIQUE', 'FOREIGN KEY', or 'CHECK' can be added or removed. For example, if Wednesday starts selling items that can be ordered in fractions, the 'CHECK' constraint on 'Quantity' in the 'Order_Item' table may need to be revised.\n",
        "\n",
        "6.  **Change Data Type--**The data type of a column can be changed, provided the change does not lead to data loss or logical inconsistencies.\n",
        "\n",
        "Here's how you might use ALTER TABLE in the context of Wednesday Addams' Web Shop:\n"
      ],
      "metadata": {
        "id": "uK6FmcInLBRX"
      }
    },
    {
      "cell_type": "code",
      "source": [
        "%%sql\n",
        "-- Add a 'LoyaltyPoints' column to 'Customers'\n",
        "ALTER TABLE Customers ADD LoyaltyPoints INT;\n",
        "\n",
        "-- Modify the 'Price' column in 'Items'\n",
        "ALTER TABLE Items ALTER COLUMN Price TYPE DECIMAL(15,2);\n",
        "\n",
        "-- Drop the 'Phone' column from 'Customers'\n",
        "ALTER TABLE Customers DROP COLUMN Phone;\n",
        "\n",
        "-- Rename the 'Order_Item' table to 'OrderDetails'\n",
        "ALTER TABLE Order_Item RENAME TO OrderDetails;\n"
      ],
      "metadata": {
        "id": "bWav77XmLqXr"
      },
      "execution_count": null,
      "outputs": []
    },
    {
      "cell_type": "markdown",
      "source": [
        "## Summary: Wednesday's 10 Rules for Data Modeling\n",
        "\n",
        "Let's help Wednesday consolidate her newfound database modeling knowledge with a list of ten key rules.\n",
        "\n",
        "1.  *Start with a good plan:* Clearly define your objectives and plan your database around your needs. It's like casting a spell: you need to know what you want to achieve before you start the incantation.\n",
        "\n",
        "2.  *Data Models are the Magic Mirror:* They don't tell you everything, but they reflect essential truths. Use them to visualize data structures and communicate with your team, but don't expect them to represent every detail perfectly.\n",
        "\n",
        "3.  *Conceptualize before you materialize:* Always start with a conceptual model. It helps you understand the big picture without getting entangled in technical details.\n",
        "\n",
        "4.  *Understand your business rules:* They're the incantations that make your database work. Distinguish between structural (organizing data) and procedural rules (performing operations). Set constraints where necessary.\n",
        "\n",
        "5.  *Entities and Attributes are your Actors and Props:* Identify them carefully, keeping in mind that attributes can be mandatory or optional, volatile or stable. Each entity (actor) in your system has attributes (props) that define them.\n",
        "\n",
        "6.  *Relationships bind your database:* Define relationships clearly. Understand cardinality (the numbers in the relationship) and optionality (the necessity of the relationship). Master one-to-one, one-to-many, and many-to-many relationships.\n",
        "\n",
        "7.  *Unique Identifiers are your magic markers:* They distinctly identify each record in your table. You can use natural keys (inherent in the data) or create artificial keys (assigned for identification). Make thoughtful decisions about them.\n",
        "\n",
        "8.  *Many-to-many relationships are tricksters:* They seem simple but can complicate your model. Use associative entities to handle them efficiently.\n",
        "\n",
        "9.  *Choose the right potion for your data:* When transitioning to the physical model, choose the correct data types and constraints. Your choice affects storage, accuracy, and the type of operations you can perform.\n",
        "\n",
        "10. *Data is a living creature:* It grows, it changes. Use INSERT to introduce new data, UPDATE to transform existing data, and DELETE to remove unwanted data. Be careful, especially with DELETE. It's a powerful spell that cannot be undone.\n",
        "\n",
        "Armed with these rules, Wednesday is ready to take on the world of database modeling with confidence and a dash of her unique style."
      ],
      "metadata": {
        "id": "0bHLM1b0lOLp"
      }
    },
    {
      "cell_type": "markdown",
      "source": [
        "## Review With Quizlet\n",
        "Run the following cell to see the flashcards!"
      ],
      "metadata": {
        "id": "F2MRN8dKtq4A"
      }
    },
    {
      "cell_type": "code",
      "source": [
        "%%html\n",
        "<iframe src=\"https://quizlet.com/819346854/learn/embed?i=psvlh&x=1jj1\" height=\"600\" width=\"100%\" style=\"border:0\"></iframe>"
      ],
      "metadata": {
        "id": "WKM5kmTFtqRA",
        "outputId": "5f9abd37-fbc2-4172-baf5-4945d3c2c461",
        "colab": {
          "base_uri": "https://localhost:8080/",
          "height": 622
        }
      },
      "execution_count": null,
      "outputs": [
        {
          "output_type": "display_data",
          "data": {
            "text/plain": [
              "<IPython.core.display.HTML object>"
            ],
            "text/html": [
              "<iframe src=\"https://quizlet.com/819346854/learn/embed?i=psvlh&x=1jj1\" height=\"600\" width=\"100%\" style=\"border:0\"></iframe>\n"
            ]
          },
          "metadata": {}
        }
      ]
    },
    {
      "cell_type": "markdown",
      "source": [
        "## Exercises: Data Definition Language\n",
        "1.  Create a new table called `Supplier` with columns for `SupplierID`, `Name`, `Address`, `Phone`, and `Email`. *Hint: Use the CREATE TABLE statement. Remember to choose appropriate data types.*\n",
        "\n",
        "2.  Add a new column to the `Supplier` table called `Rating` that holds a number between 1 and 5. *Hint: You can use the ALTER TABLE statement to modify an existing table.*\n",
        "\n",
        "3.  Insert a new supplier into the `Supplier` table with appropriate data. *Hint: Use the INSERT INTO statement.*\n",
        "\n",
        "4.  Update the `Rating` of the supplier you just inserted to 4. *Hint: Use the UPDATE statement. Be sure to use the WHERE clause to specify the correct record.*\n",
        "\n",
        "5.  Add a new column to the `Items` table called `SupplierID` which references the `Supplier` table. *Hint: You will need to use ALTER TABLE and add a foreign key constraint.*\n",
        "\n",
        "6.  Insert a new item into the `Items` table that is supplied by the new supplier you inserted. *Hint: You'll need to know the SupplierID of the new supplier.*\n",
        "\n",
        "7.  Update the `Price` of the new item to increase it by 10%. *Hint: The UPDATE statement can use mathematical expressions.*\n",
        "\n",
        "8.  Create a new order in the `Orders` table that includes the new item. *Hint: You'll need to use INSERT INTO for both the `Order` and `OrderItem` tables.*\n",
        "\n",
        "9.  Update the new order to add another item. *Hint: You'll need to use INSERT INTO on the `OrderItem` table.*\n",
        "\n",
        "10. Delete the supplier you inserted from the `Supplier` table. *Hint: Use the DELETE statement, but remember that you might need to handle existing foreign key references first.*"
      ],
      "metadata": {
        "id": "AbTyuALNma8o"
      }
    },
    {
      "cell_type": "code",
      "source": [
        "%%sql\n",
        "--Ex 1"
      ],
      "metadata": {
        "id": "GTxKHB6PlNSF",
        "outputId": "c653d4a5-3707-4492-bd98-d3059c924cea",
        "colab": {
          "base_uri": "https://localhost:8080/"
        }
      },
      "execution_count": null,
      "outputs": [
        {
          "output_type": "stream",
          "name": "stdout",
          "text": [
            " * sqlite:///web_shop.sqlite\n",
            "Done.\n"
          ]
        },
        {
          "output_type": "execute_result",
          "data": {
            "text/plain": [
              "[]"
            ]
          },
          "metadata": {},
          "execution_count": 6
        }
      ]
    },
    {
      "cell_type": "code",
      "source": [
        "%%sql\n",
        "--Ex 2"
      ],
      "metadata": {
        "id": "XwTnvD08mqEM",
        "outputId": "ade894b1-335b-48d1-a401-ff3931c7cdda",
        "colab": {
          "base_uri": "https://localhost:8080/"
        }
      },
      "execution_count": null,
      "outputs": [
        {
          "output_type": "stream",
          "name": "stdout",
          "text": [
            " * sqlite:///web_shop.sqlite\n",
            "Done.\n"
          ]
        },
        {
          "output_type": "execute_result",
          "data": {
            "text/plain": [
              "[]"
            ]
          },
          "metadata": {},
          "execution_count": 7
        }
      ]
    },
    {
      "cell_type": "code",
      "source": [
        "%%sql\n",
        "--Ex 3"
      ],
      "metadata": {
        "id": "EH0dGH1imqQM",
        "outputId": "40630282-a855-48b5-877a-9f036ce6e61c",
        "colab": {
          "base_uri": "https://localhost:8080/"
        }
      },
      "execution_count": null,
      "outputs": [
        {
          "output_type": "stream",
          "name": "stdout",
          "text": [
            " * sqlite:///web_shop.sqlite\n",
            "Done.\n"
          ]
        },
        {
          "output_type": "execute_result",
          "data": {
            "text/plain": [
              "[]"
            ]
          },
          "metadata": {},
          "execution_count": 8
        }
      ]
    },
    {
      "cell_type": "code",
      "source": [
        "%%sql\n",
        "--Ex 4"
      ],
      "metadata": {
        "id": "-F6MNHdYmqWO",
        "outputId": "740745ab-6bb6-4a06-e17e-5ba07a01c262",
        "colab": {
          "base_uri": "https://localhost:8080/"
        }
      },
      "execution_count": null,
      "outputs": [
        {
          "output_type": "stream",
          "name": "stdout",
          "text": [
            " * sqlite:///web_shop.sqlite\n",
            "Done.\n"
          ]
        },
        {
          "output_type": "execute_result",
          "data": {
            "text/plain": [
              "[]"
            ]
          },
          "metadata": {},
          "execution_count": 9
        }
      ]
    },
    {
      "cell_type": "code",
      "source": [
        "%%sql\n",
        "--Ex 5"
      ],
      "metadata": {
        "id": "3r_S1i9NmtDx",
        "outputId": "01444afa-1c40-4f05-ed5f-3a15acc92571",
        "colab": {
          "base_uri": "https://localhost:8080/"
        }
      },
      "execution_count": null,
      "outputs": [
        {
          "output_type": "stream",
          "name": "stdout",
          "text": [
            " * sqlite:///web_shop.sqlite\n",
            "Done.\n"
          ]
        },
        {
          "output_type": "execute_result",
          "data": {
            "text/plain": [
              "[]"
            ]
          },
          "metadata": {},
          "execution_count": 10
        }
      ]
    },
    {
      "cell_type": "code",
      "source": [
        "%%sql\n",
        "--Ex 6"
      ],
      "metadata": {
        "id": "5-RNTZn_mt7t",
        "outputId": "e1713221-7ca8-406e-fdcc-4e4ef77da72d",
        "colab": {
          "base_uri": "https://localhost:8080/"
        }
      },
      "execution_count": null,
      "outputs": [
        {
          "output_type": "stream",
          "name": "stdout",
          "text": [
            " * sqlite:///web_shop.sqlite\n",
            "Done.\n"
          ]
        },
        {
          "output_type": "execute_result",
          "data": {
            "text/plain": [
              "[]"
            ]
          },
          "metadata": {},
          "execution_count": 11
        }
      ]
    },
    {
      "cell_type": "code",
      "source": [
        "%%sql\n",
        "--Ex 7"
      ],
      "metadata": {
        "id": "0k4Lw8KVmuuE",
        "outputId": "824fc63d-bc17-4493-9656-9080c957e51d",
        "colab": {
          "base_uri": "https://localhost:8080/"
        }
      },
      "execution_count": null,
      "outputs": [
        {
          "output_type": "stream",
          "name": "stdout",
          "text": [
            " * sqlite:///web_shop.sqlite\n",
            "Done.\n"
          ]
        },
        {
          "output_type": "execute_result",
          "data": {
            "text/plain": [
              "[]"
            ]
          },
          "metadata": {},
          "execution_count": 12
        }
      ]
    },
    {
      "cell_type": "code",
      "source": [
        "%%sql\n",
        "--Ex 8"
      ],
      "metadata": {
        "id": "2KFZw_6vmu7A",
        "outputId": "55bf264c-e9b8-4270-d74a-66738107da02",
        "colab": {
          "base_uri": "https://localhost:8080/"
        }
      },
      "execution_count": null,
      "outputs": [
        {
          "output_type": "stream",
          "name": "stdout",
          "text": [
            " * sqlite:///web_shop.sqlite\n",
            "Done.\n"
          ]
        },
        {
          "output_type": "execute_result",
          "data": {
            "text/plain": [
              "[]"
            ]
          },
          "metadata": {},
          "execution_count": 13
        }
      ]
    },
    {
      "cell_type": "code",
      "source": [
        "%%sql\n",
        "--Ex 9"
      ],
      "metadata": {
        "id": "ymhxIZrPmw5i",
        "outputId": "ad595b2d-a26b-4c20-f26d-be552500b29d",
        "colab": {
          "base_uri": "https://localhost:8080/"
        }
      },
      "execution_count": null,
      "outputs": [
        {
          "output_type": "stream",
          "name": "stdout",
          "text": [
            " * sqlite:///web_shop.sqlite\n",
            "Done.\n"
          ]
        },
        {
          "output_type": "execute_result",
          "data": {
            "text/plain": [
              "[]"
            ]
          },
          "metadata": {},
          "execution_count": 14
        }
      ]
    },
    {
      "cell_type": "code",
      "source": [
        "%%sql\n",
        "%%sql\n",
        "--Ex 10"
      ],
      "metadata": {
        "id": "Ex-5J7cYmx1U",
        "outputId": "abb5101a-a118-4c41-e407-48ec7deeb579",
        "colab": {
          "base_uri": "https://localhost:8080/"
        }
      },
      "execution_count": null,
      "outputs": [
        {
          "output_type": "stream",
          "name": "stdout",
          "text": [
            " * sqlite:///web_shop.sqlite\n",
            "(sqlite3.OperationalError) near \"%\": syntax error\n",
            "[SQL: %%sql\n",
            "--Ex 10]\n",
            "(Background on this error at: https://sqlalche.me/e/20/e3q8)\n"
          ]
        }
      ]
    },
    {
      "cell_type": "markdown",
      "source": [
        "## Table: Sample SQL Statements\n",
        "\n",
        "\n",
        "| Description | SQL Statement |\n",
        "| --- | --- |\n",
        "| SQL code to create a new table named `Items` with `ItemID` as a unique key, `Name`, `Description`, `Price`, and `Category`. | `CREATE TABLE Items (ItemID INT PRIMARY KEY, Name VARCHAR(100) NOT NULL, Description VARCHAR(255), Price DECIMAL(10,2) NOT NULL, Category VARCHAR(50));` |\n",
        "| SQL code to insert a new item into the `Items` table, a shrunken head with the name \"Pugsley's Favorite\". | `INSERT INTO Items (ItemID, Name, Description, Price, Category) VALUES (1, 'Pugsley''s Favorite', 'A shrunken head, quite popular with the young ones', 50.00, 'Curiosities');` |\n",
        "| SQL code to update the description of \"Pugsley's Favorite\" to make it more appealing for a wider audience. | `UPDATE Items SET Description = 'A shrunken head, an unusual addition for any collection' WHERE Name = 'Pugsley''s Favorite';` |\n",
        "| SQL code to delete \"Pugsley's Favorite\" from the `Items` table, as it was purchased by Uncle Fester. | `DELETE FROM Items WHERE Name = 'Pugsley''s Favorite';` |\n",
        "| SQL code to add a NOT NULL constraint to the `Category` column, as every item must have a category. | `ALTER TABLE Items MODIFY Category VARCHAR(50) NOT NULL;` |\n",
        "| SQL code to create a unique key constraint for the `Name` column, as each item should have a unique name. | `ALTER TABLE Items ADD CONSTRAINT uc_ItemName UNIQUE (Name);` |\n",
        "| SQL code to update the `Price` of all items in the 'Curiosities' category by increasing the prices by 10%. | `UPDATE Items SET Price = Price * 1.1 WHERE Category = 'Curiosities';` |\n",
        "| SQL code to delete all items in the 'Curiosities' category that are priced over 100. | `DELETE FROM Items WHERE Category = 'Curiosities' AND Price > 100;` |"
      ],
      "metadata": {
        "id": "oUYrZT8utF-j"
      }
    },
    {
      "cell_type": "markdown",
      "source": [
        "## Glossary\n",
        "\n",
        "\n",
        "\n",
        "| Term | Definition |\n",
        "| --- | --- |\n",
        "| Data Model | A framework used to structure, organize, and define the concepts and rules for data, often employed in designing databases or managing data in various formats. |\n",
        "| Conceptual (Logical) Data Model | This represents the logical organization of the entire database. It details the entities, attributes, and relationships without regard to physical implementation or specific database technology. |\n",
        "| Physical Data Model | Describes how data is physically stored in the database. It includes table structures, column names, data types, indexes, and constraints. |\n",
        "| Entity-Relationship Diagram (ERD) | A visual representation of major entities within a system, their attributes, and the relationships among these entities. Commonly used in database design. |\n",
        "| Business Rules | Explicit criteria that define and constrain the operations of a business, including the procedures it follows, the data it processes, and the actions it executes. |\n",
        "| Structural Rules | Business rules that impose Constraints and standards on how data within a system is organized interacts with other data.  |\n",
        "| Procedural Rules | Business rules that define the series of steps to be followed when a given data item is created, updated, or delated. |\n",
        "| Chen Diagram | A type of ERD created by Peter Chen. It uses rectangles to represent entities, diamonds to represent relationships, and ovals to represent attributes. Entities are connected to their attributes and relationships through lines. |\n",
        "| Crow's Foot Diagram | A form of ERD where entities are represented as boxes and relationships are lines between the boxes. It uses three prongs or a 'crow's foot' to represent 'many' in a one-to-many or many-to-many relationship, while a straight line or a circle represents 'one' or 'zero or one' respectively. |\n",
        "| Junction Table | Also known as a bridge table or associative table, it is used in a relational database to resolve many-to-many relationships between tables. It consists of compound primary keys from both related tables along with additional information, if any. |\n",
        "| Unique Identifier (UID) | A value that is guaranteed to be distinct among all records in a database or data set. |\n",
        "| Primary Key | A field or combination of fields in a database that uniquely identify each record in a table. Primary keys do not allow null values and must contain unique values. |\n",
        "| Foreign Key | A field (or collection of fields) in one table, that is used to identify a unique record in another table. It provides a link between data in two tables. |\n",
        "| Simple Key | A single attribute or column that can uniquely identify a record in a table. Also known as a single-column key. |\n",
        "| Composite Key | A combination of two or more columns in a table that can be used to uniquely identify each row in the table when the columns are combined. |\n",
        "| Natural Key | A type of unique identifier that has intrinsic meaning in the real world and is typically used to identify an entity. For example, a social security number or an email address. |\n",
        "| Artificial Key | Also known as a surrogate key, it is a unique identifier that has no intrinsic meaning but is solely used for identification purposes in a database. Often it is an auto-incrementing integer. |\n",
        "| Data Definition Language (DDL) | A type of SQL command used to define or alter the structure of a database, including creating, altering, and deleting tables, indices, or views. |\n",
        "| SQL Datatypes | The type of data that can be stored in a table column. Examples include: INT (integer), VARCHAR (variable-length character string), TEXT (large character string), DATE (date), FLOAT (floating point number), BOOLEAN (boolean value: TRUE, FALSE, or NULL). |"
      ],
      "metadata": {
        "id": "zz69CKj84s2Q"
      }
    },
    {
      "cell_type": "code",
      "source": [],
      "metadata": {
        "id": "fwXMj-XF5nxE"
      },
      "execution_count": null,
      "outputs": []
    }
  ]
}