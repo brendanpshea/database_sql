{
  "nbformat": 4,
  "nbformat_minor": 0,
  "metadata": {
    "colab": {
      "provenance": [],
      "authorship_tag": "ABX9TyOf2qTXVxheITQkhmhV+4lA",
      "include_colab_link": true
    },
    "kernelspec": {
      "name": "python3",
      "display_name": "Python 3"
    },
    "language_info": {
      "name": "python"
    }
  },
  "cells": [
    {
      "cell_type": "markdown",
      "metadata": {
        "id": "view-in-github",
        "colab_type": "text"
      },
      "source": [
        "<a href=\"https://colab.research.google.com/github/brendanpshea/database_sql/blob/main/Database_09_PokemonAndPostgres.ipynb\" target=\"_parent\"><img src=\"https://colab.research.google.com/assets/colab-badge.svg\" alt=\"Open In Colab\"/></a>"
      ]
    },
    {
      "cell_type": "markdown",
      "source": [
        "## What is PostgreSQL? How Does it Differ from SQLite?\n",
        "\n",
        "PostgreSQL and SQLite are both relational database management systems that support ACID (Atomicity, Consistency, Isolation, Durability) properties and transactions. However, they have significant differences in their architectures, feature sets, and use cases.\n",
        "\n",
        "**SQLite** is a lightweight, serverless, and self-contained database engine. It's ideal for small to medium-scale applications, embedded systems, or local data storage. SQLite stores the entire database as a single file on disk, making it easy to set up and manage. It's often used in mobile apps, desktop applications, and small websites.\n",
        "\n",
        "On the other hand, **PostgreSQL** is a full-featured, server-based RDBMS designed to handle large amounts of data and support multiple concurrent users. Its client-server architecture allows it to manage resources more efficiently and handle heavier workloads.\n",
        "\n",
        "When deciding between SQLite and PostgreSQL, consider the following factors:\n",
        "\n",
        "1.  **Scalability**: As your application grows and the number of concurrent users increases, PostgreSQL's client-server architecture becomes crucial. It can handle a large number of simultaneous connections and efficiently manage resources. SQLite, being serverless, may struggle with high levels of concurrency and may not be suitable for applications with a large number of concurrent writers.\n",
        "2.  **Data Size and Distribution**: PostgreSQL is designed to handle large and massive datasets, even in the terabyte range. It offers features like table partitioning, which allows you to split large tables across multiple files or even servers, improving query performance and manageability. SQLite, while capable of handling moderately sized datasets, may not be the best choice for extremely large or distributed datasets.\n",
        "3.  **Advanced Features**: PostgreSQL offers a rich set of advanced features that become increasingly important as your application grows. These include:\n",
        "    -   **Strict Typing**: PostgreSQL enforces strict data typing, ensuring data integrity and reducing the chances of data inconsistencies. This becomes increasingly critical when there many \"writers\" to the database.\n",
        "    -   **Complex Queries**: PostgreSQL supports complex queries, including advanced joins, subqueries, and window functions, which are essential for handling sophisticated data retrieval tasks.\n",
        "    -   **Stored Procedures and Triggers**: PostgreSQL allows you to define stored procedures and triggers, enabling you to encapsulate complex business logic within the database itself. This can lead to better performance and maintainability.\n",
        "    -   **Extensibility**: PostgreSQL is highly extensible, allowing you to add custom data types, functions, and even programming languages. This flexibility becomes crucial as your application's requirements evolve.\n",
        "    - **Security and User Management**: Postgres has built-in support for things like encryption, user management, password hashing, and other security measures. SQLite, by contrast, relies on the surrounding \"application\" (written in Python, Java, C#, etc.) to handle these things. This can be become impractical as the numbers of users becomes large.\n",
        "4.  **Replication and High Availability**: As your application becomes mission-critical, you may need to ensure high availability and minimize downtime. PostgreSQL offers built-in replication features, such as streaming replication and logical replication, which allow you to create standby servers and distribute the workload. SQLite, being a serverless database, does not have built-in replication capabilities.\n",
        "5. **Available Resources.** Postgres requires more physical resources (processing power, disk space) and human resources (e.g., a trained database administrator) than SQLite. SQLite's dynamic typing can make database development and deployment quicker than Postgres's strict typing. (In fact, SQLite is often used to develop protoype databases, which can then be \"scaled up\" to Postgres or a similar RDBMS).\n",
        "\n",
        "While SQLite is a great choice for small to medium-sized applications, embedded systems, or local data storage, it may not be suitable for large-scale, high-concurrency, or mission-critical applications. In these cases, PostgreSQL's robustness, scalability, and advanced features make it the better choice.\n",
        "\n",
        "For example, a large institution like a university or a financial organization would likely choose PostgreSQL over SQLite due to its ability to handle large amounts of data, support multiple concurrent users, and provide advanced features necessary for complex data management tasks."
      ],
      "metadata": {
        "id": "lKy_pawl8ql_"
      }
    },
    {
      "cell_type": "code",
      "source": [],
      "metadata": {
        "id": "fZ6ZA4qsBYLP"
      },
      "execution_count": null,
      "outputs": []
    },
    {
      "cell_type": "markdown",
      "source": [
        "## Data Types in Postgres\n",
        "\n",
        "PostgreSQL offers a rich set of data types, including several that are not available in SQLite. These data types allow you to store and manipulate data more efficiently and with greater precision. Let's explore some of the key data types in PostgreSQL.\n",
        "\n",
        "| Data Type Category | Examples | Description |\n",
        "| --- | --- | --- |\n",
        "| Numeric Types | `INTEGER`, `BIGINT`, `SMALLINT`, `DECIMAL`, `NUMERIC`, `REAL`, `DOUBLE PRECISION`, `SERIAL`, `BIGSERIAL` | Whole numbers, fixed-point numbers, floating-point numbers, and auto-incrementing integers. |\n",
        "| Character Types | `CHAR(n)`, `VARCHAR(n)`, `TEXT` | Fixed-length and variable-length character strings. |\n",
        "| Date/Time Types | `DATE`, `TIME`, `TIMESTAMP`, `INTERVAL` | Stores date, time, timestamp, and interval values. |\n",
        "| Boolean Type | `BOOLEAN` | Stores a logical value of either `TRUE` or `FALSE`. |\n",
        "| Enumerated Type | `ENUM` | Defines a custom data type with a static set of values. |\n",
        "| Array Type | Any data type followed by `[]` | Represents an array of elements of the same type. |\n",
        "| UUID Type | `UUID` | Stores Universally Unique Identifiers (UUIDs). |\n",
        "| JSON and JSONB Types | `JSON`, `JSONB` | Stores JSON data as text or in a binary format. |\n",
        "| Hstore Type | `HSTORE` | Represents a key-value pair data type. |\n",
        "| Range Types | `INT4RANGE`, `TSRANGE`, `DATERANGE`, etc. | Represent a range of values, such as integers, timestamps, or dates. |\n",
        "\n",
        "Here are a few examples to illustrate the usage of some of these data types:\n",
        "\n",
        "1.  Enumerated Type:\n",
        "\n",
        "```sql\n",
        "CREATE TYPE mood AS ENUM ('sad', 'ok', 'happy');\n",
        "```\n",
        "\n",
        "2.  Array Type:\n",
        "\n",
        "```sql\n",
        "CREATE TABLE scores (\n",
        "      id SERIAL PRIMARY KEY,\n",
        "      student_id INTEGER,\n",
        "      grades INTEGER[]\n",
        "    );\n",
        "```\n",
        "\n",
        "When choosing data types for your database schema, consider factors such as data integrity, storage efficiency, and the nature of the data being stored. PostgreSQL's wide range of data types gives you flexibility and power in designing your database schema.\n",
        "\n",
        "It's worth noting that while SQLite also supports many of these data types, such as numeric, character, and date/time types, it lacks some of the more advanced types like arrays, UUIDs, and range types. PostgreSQL's extensive set of data types is one of the factors that make it a more versatile and feature-rich database system."
      ],
      "metadata": {
        "id": "odw3N2TqADxz"
      }
    },
    {
      "cell_type": "code",
      "execution_count": 1,
      "metadata": {
        "colab": {
          "base_uri": "https://localhost:8080/"
        },
        "id": "0lA6gmIbyY1I",
        "outputId": "f1e0d55e-c485-467c-9d7d-33a35fb44165"
      },
      "outputs": [
        {
          "output_type": "stream",
          "name": "stdout",
          "text": [
            " * Starting PostgreSQL 14 database server\n",
            "   ...done.\n",
            "CREATE ROLE\n"
          ]
        }
      ],
      "source": [
        "# Insteall postgres\n",
        "!apt install postgresql postgresql-contrib &>log\n",
        "!service postgresql start\n",
        "!sudo -u postgres psql -c \"CREATE USER root WITH SUPERUSER\"\n",
        "# set connection\n",
        "%load_ext sql\n",
        "%sql postgresql+psycopg2://@/postgres"
      ]
    },
    {
      "cell_type": "markdown",
      "source": [
        "## Overview of the Pokemon Clinic Database\n",
        "\n",
        "To demonstrate the power of Postgres, we'll be creating a The Pokemon Clinic database consists of three main tables: `trainers`, `pokemon`, and `medical_records`. These tables are designed to store information about Pokemon trainers, their Pokemon, and the medical records associated with each Pokemon."
      ],
      "metadata": {
        "id": "2L4rRpqF56h_"
      }
    },
    {
      "cell_type": "code",
      "source": [
        "%%sql\n",
        "-- Create the trainers table\n",
        "DROP TABLE IF EXISTS trainers CASCADE;\n",
        "DROP TABLE IF EXISTS pokemon CASCADE;\n",
        "DROP TABLE IF EXISTS medical_records;\n",
        "\n",
        "-- Create the trainers table\n",
        "CREATE TABLE trainers (\n",
        "  id SERIAL PRIMARY KEY,\n",
        "  name VARCHAR(100) NOT NULL,\n",
        "  email VARCHAR(100) UNIQUE NOT NULL,\n",
        "  password_hash VARCHAR(100) NOT NULL,\n",
        "  phone VARCHAR(20),\n",
        "  date_of_birth DATE,\n",
        "  CHECK (date_of_birth < CURRENT_DATE)\n",
        ");\n",
        "\n",
        "-- Create the pokemon table\n",
        "CREATE TABLE pokemon (\n",
        "  id SERIAL PRIMARY KEY,\n",
        "  name VARCHAR(50) NOT NULL,\n",
        "  species VARCHAR(50) NOT NULL,\n",
        "  trainer_id INTEGER REFERENCES trainers(id),\n",
        "  level INTEGER CHECK (level BETWEEN 1 AND 100),\n",
        "  health_status VARCHAR(20),\n",
        "  abilities TEXT[]\n",
        ");\n",
        "\n",
        "-- Create the medical_records table\n",
        "CREATE TABLE medical_records (\n",
        "  id SERIAL PRIMARY KEY,\n",
        "  pokemon_id INTEGER REFERENCES pokemon(id),\n",
        "  visit_date TIMESTAMP DEFAULT CURRENT_TIMESTAMP,\n",
        "  diagnosis TEXT,\n",
        "  treatment TEXT,\n",
        "  cost NUMERIC(8, 2)\n",
        ");"
      ],
      "metadata": {
        "colab": {
          "base_uri": "https://localhost:8080/"
        },
        "id": "mRFjaDj33GoT",
        "outputId": "f618f4e4-2da7-45a9-c599-4e94ca66490e"
      },
      "execution_count": 2,
      "outputs": [
        {
          "output_type": "stream",
          "name": "stdout",
          "text": [
            " * postgresql+psycopg2://@/postgres\n",
            "Done.\n",
            "Done.\n",
            "Done.\n",
            "Done.\n",
            "Done.\n",
            "Done.\n"
          ]
        },
        {
          "output_type": "execute_result",
          "data": {
            "text/plain": [
              "[]"
            ]
          },
          "metadata": {},
          "execution_count": 2
        }
      ]
    },
    {
      "cell_type": "markdown",
      "source": [
        "While much of this statement should be familiar, you might notice a few new things, as well.\n",
        "\n",
        "The `trainers` table stores information about Pokemon trainers.\n",
        "  -   It includes columns for the trainer's ID (auto-generated), name, email (unique), hashed password, phone number, and date of birth.\n",
        "  -   The `date_of_birth` column has a CHECK constraint that ensures the value is always less than the current date. This constraint uses the `CURRENT_DATE` function, which is specific to PostgreSQL and not available in SQLite.\n",
        "  -   The `email` column has a UNIQUE constraint to ensure that each email address is associated with only one trainer.\n",
        "\n",
        "The pokemon` table stores information about individual Pokemon.\n",
        "  -   It includes columns for the Pokemon's ID (auto-generated), name, species, trainer ID (foreign key referencing the `trainers` table), level, health status, and abilities.\n",
        "   -   The `level` column has a CHECK constraint that ensures the value is between 1 and 100.\n",
        "  -   The `abilities` column is of type TEXT[] (array), which allows storing multiple abilities for each Pokemon. Arrays are a feature specific to PostgreSQL and not available in SQLite.\n",
        "\n",
        "The `medical_records` table stores information about medical visits and treatments for each Pokemon.\n",
        "  -   It includes columns for the medical record ID (auto-generated), Pokemon ID (foreign key referencing the `pokemon` table), visit date, diagnosis, treatment, and cost.\n",
        "  -   The `visit_date` column has a DEFAULT value of `CURRENT_TIMESTAMP`, which automatically sets the value to the current timestamp if no value is provided during insertion. This is a PostgreSQL-specific feature.\n",
        "  -   The `cost` column is of type NUMERIC(8, 2), which allows storing monetary values with a precision of 8 digits and 2 decimal places. The NUMERIC type provides more precise decimal calculations compared to SQLite's REAL type.\n",
        "\n",
        "### Test Data for Pokemon Clinic\n",
        "Now, let's insert some test data for our Pokemon Clinic"
      ],
      "metadata": {
        "id": "04G8cYtx6R_u"
      }
    },
    {
      "cell_type": "code",
      "source": [
        "%%sql\n",
        "CREATE EXTENSION IF NOT EXISTS pgcrypto;\n",
        "-- Insert sample data into the trainers table\n",
        "INSERT INTO trainers (name, email, password_hash, phone, date_of_birth)\n",
        "VALUES\n",
        "  ('Ash Ketchum', 'ash@example.com', crypt('bad_password', gen_salt('bf')), '123-456-7890', '1990-05-22'),\n",
        "  ('Misty', 'misty@example.com', crypt('long_password_with_symbols_23423odsgv*732x', gen_salt('bf')), '987-654-3210', '1991-07-19');\n",
        "\n",
        "-- Insert sample data into the pokemon table\n",
        "INSERT INTO pokemon (name, species, trainer_id, level, health_status, abilities)\n",
        "VALUES\n",
        "  ('Pikachu', 'Pikachu', 1, 25, 'Healthy', ARRAY['Static', 'Lightning Rod']),\n",
        "  ('Charizard', 'Charizard', 1, 65, 'Healthy', ARRAY['Blaze']),\n",
        "  ('Staryu', 'Staryu', 2, 30, 'Injured', ARRAY['Natural Cure', 'Illuminate']);\n",
        "\n",
        "-- Insert sample data into the medical_records table\n",
        "INSERT INTO medical_records (pokemon_id, diagnosis, treatment, cost)\n",
        "VALUES\n",
        "  (3, 'Minor abrasions', 'Applied healing salve', 50.00),\n",
        "  (1, 'Regular check-up', 'None', 0.00);"
      ],
      "metadata": {
        "colab": {
          "base_uri": "https://localhost:8080/"
        },
        "id": "6ZEymZFi3T_e",
        "outputId": "1c514789-7d29-48b8-f0ba-6937b5c4f44a"
      },
      "execution_count": 3,
      "outputs": [
        {
          "output_type": "stream",
          "name": "stdout",
          "text": [
            " * postgresql+psycopg2://@/postgres\n",
            "Done.\n",
            "2 rows affected.\n",
            "3 rows affected.\n",
            "2 rows affected.\n"
          ]
        },
        {
          "output_type": "execute_result",
          "data": {
            "text/plain": [
              "[]"
            ]
          },
          "metadata": {},
          "execution_count": 3
        }
      ]
    },
    {
      "cell_type": "markdown",
      "source": [
        "### `Trainers` Table: What is a Password \"Hash\"?\n",
        "Again, much of the above `INSERT` statement should be familar. However, if you look closely at the ways the trainer's passwords are handled, you'll notice something a bit different.\n",
        "\n",
        "- The `password_hash` column stores the hashed version of the trainer's password. **Hashing** is a one-way process that converts the plain-text password into a fixed-size string of characters. The resulting hash is irreversible, meaning it is computationally infeasible to obtain the original password from the hash.\n",
        "- In this example, the `crypt` function is used along with the `gen_salt` function to hash the passwords. The `crypt` function applies a cryptographic hash function to the password, and the `gen_salt` function generates a random salt value using the Blowfish ('bf') algorithm. The salt is appended to the password before hashing, making it more resistant to rainbow table attacks and increasing the security of stored passwords.\n",
        "- Storing hashed passwords instead of plain-text passwords is crucial for security. If the database is compromised, attackers would only have access to the hashed passwords, making it extremely difficult for them to retrieve the original passwords.\n",
        "\n",
        "It's important to note that while the example uses the `crypt` function for simplicity, in a production environment, it's recommended to use more secure and modern hashing algorithms specifically designed for password hashing, such as bcrypt, scrypt, or PBKDF2, which provide better protection against various types of attacks.\n",
        "\n",
        "We see what this hash looks like:"
      ],
      "metadata": {
        "id": "svKI36dr7Ynd"
      }
    },
    {
      "cell_type": "code",
      "source": [
        "%%sql\n",
        "SELECT * FROM trainers;"
      ],
      "metadata": {
        "colab": {
          "base_uri": "https://localhost:8080/",
          "height": 116
        },
        "id": "Af2DTeYI7_zd",
        "outputId": "61921342-4509-4785-a679-1b32b97509ec"
      },
      "execution_count": 4,
      "outputs": [
        {
          "output_type": "stream",
          "name": "stdout",
          "text": [
            " * postgresql+psycopg2://@/postgres\n",
            "2 rows affected.\n"
          ]
        },
        {
          "output_type": "execute_result",
          "data": {
            "text/plain": [
              "[(1, 'Ash Ketchum', 'ash@example.com', '$2a$06$V6mJFWDR3jLM74O2syFUi.ECuvCkhSqHNYa0VJuJWV7MJ2Rk36l6.', '123-456-7890', datetime.date(1990, 5, 22)),\n",
              " (2, 'Misty', 'misty@example.com', '$2a$06$WW7XkylwYa/xXy8ay/OAJeniFtUzFKbQp5cZONHYUaXsFDZMx/yXG', '987-654-3210', datetime.date(1991, 7, 19))]"
            ],
            "text/html": [
              "<table>\n",
              "    <thead>\n",
              "        <tr>\n",
              "            <th>id</th>\n",
              "            <th>name</th>\n",
              "            <th>email</th>\n",
              "            <th>password_hash</th>\n",
              "            <th>phone</th>\n",
              "            <th>date_of_birth</th>\n",
              "        </tr>\n",
              "    </thead>\n",
              "    <tbody>\n",
              "        <tr>\n",
              "            <td>1</td>\n",
              "            <td>Ash Ketchum</td>\n",
              "            <td>ash@example.com</td>\n",
              "            <td>$2a$06$V6mJFWDR3jLM74O2syFUi.ECuvCkhSqHNYa0VJuJWV7MJ2Rk36l6.</td>\n",
              "            <td>123-456-7890</td>\n",
              "            <td>1990-05-22</td>\n",
              "        </tr>\n",
              "        <tr>\n",
              "            <td>2</td>\n",
              "            <td>Misty</td>\n",
              "            <td>misty@example.com</td>\n",
              "            <td>$2a$06$WW7XkylwYa/xXy8ay/OAJeniFtUzFKbQp5cZONHYUaXsFDZMx/yXG</td>\n",
              "            <td>987-654-3210</td>\n",
              "            <td>1991-07-19</td>\n",
              "        </tr>\n",
              "    </tbody>\n",
              "</table>"
            ]
          },
          "metadata": {},
          "execution_count": 4
        }
      ]
    },
    {
      "cell_type": "markdown",
      "source": [
        "If you look closely, you'll notice that the **password hash** is ALWAYS the exact same length, regardless of the initial length of the password. So, for example, if take two passwords, one of which is \"123\", and the other of which is the text of my favorite novel (300 pages--also a bad password, though for different reasons!), they will oth generate a \"hash\" of the exact same length.\n",
        "\n",
        "The basic idea is this:\n",
        "1. When the user first creates their password, we \"hash\" the password and store that hash (not the password) in the database.\n",
        "2. WHen the user logs in again and enters their password again, we again \"hash\" whatever they entered, and compare this to our database. If it matches, we let them in!\n",
        "3. The advantage of this is that if someone manages to break into our database and access the password hash, they won't be able to recover the user's password. This is because hashing is a **one-way** function. If you know the password, you can get the hash, but knowing the hash does NOT allow you to compute the password.\n",
        "\n"
      ],
      "metadata": {
        "id": "dpKhDaQNB2aG"
      }
    },
    {
      "cell_type": "markdown",
      "source": [
        "### Postgres Arrays in the `Pokemon` Table\n",
        "\n",
        "Let's now take a look at the `pokemon` table, which has an array."
      ],
      "metadata": {
        "id": "78y1dAs0aRRP"
      }
    },
    {
      "cell_type": "code",
      "source": [
        "%%sql\n",
        "SELECT * FROM pokemon;"
      ],
      "metadata": {
        "colab": {
          "base_uri": "https://localhost:8080/",
          "height": 137
        },
        "id": "AGq6EnGaBzlN",
        "outputId": "ed1942d4-72b1-4a19-fd22-603f15936da8"
      },
      "execution_count": 5,
      "outputs": [
        {
          "output_type": "stream",
          "name": "stdout",
          "text": [
            " * postgresql+psycopg2://@/postgres\n",
            "3 rows affected.\n"
          ]
        },
        {
          "output_type": "execute_result",
          "data": {
            "text/plain": [
              "[(1, 'Pikachu', 'Pikachu', 1, 25, 'Healthy', ['Static', 'Lightning Rod']),\n",
              " (2, 'Charizard', 'Charizard', 1, 65, 'Healthy', ['Blaze']),\n",
              " (3, 'Staryu', 'Staryu', 2, 30, 'Injured', ['Natural Cure', 'Illuminate'])]"
            ],
            "text/html": [
              "<table>\n",
              "    <thead>\n",
              "        <tr>\n",
              "            <th>id</th>\n",
              "            <th>name</th>\n",
              "            <th>species</th>\n",
              "            <th>trainer_id</th>\n",
              "            <th>level</th>\n",
              "            <th>health_status</th>\n",
              "            <th>abilities</th>\n",
              "        </tr>\n",
              "    </thead>\n",
              "    <tbody>\n",
              "        <tr>\n",
              "            <td>1</td>\n",
              "            <td>Pikachu</td>\n",
              "            <td>Pikachu</td>\n",
              "            <td>1</td>\n",
              "            <td>25</td>\n",
              "            <td>Healthy</td>\n",
              "            <td>[&#x27;Static&#x27;, &#x27;Lightning Rod&#x27;]</td>\n",
              "        </tr>\n",
              "        <tr>\n",
              "            <td>2</td>\n",
              "            <td>Charizard</td>\n",
              "            <td>Charizard</td>\n",
              "            <td>1</td>\n",
              "            <td>65</td>\n",
              "            <td>Healthy</td>\n",
              "            <td>[&#x27;Blaze&#x27;]</td>\n",
              "        </tr>\n",
              "        <tr>\n",
              "            <td>3</td>\n",
              "            <td>Staryu</td>\n",
              "            <td>Staryu</td>\n",
              "            <td>2</td>\n",
              "            <td>30</td>\n",
              "            <td>Injured</td>\n",
              "            <td>[&#x27;Natural Cure&#x27;, &#x27;Illuminate&#x27;]</td>\n",
              "        </tr>\n",
              "    </tbody>\n",
              "</table>"
            ]
          },
          "metadata": {},
          "execution_count": 5
        }
      ]
    },
    {
      "cell_type": "markdown",
      "source": [
        "Here, you'll notice there is an array of abilities. We can access this as follows:"
      ],
      "metadata": {
        "id": "6-JNh1eIZzfj"
      }
    },
    {
      "cell_type": "code",
      "source": [
        "%%sql\n",
        "SELECT\n",
        "  name,\n",
        "  abilities[1] as first_ability,\n",
        "  abilities[2] as second_ability,\n",
        "  abilities[3] as third_ability\n",
        "FROM pokemon;"
      ],
      "metadata": {
        "colab": {
          "base_uri": "https://localhost:8080/",
          "height": 137
        },
        "id": "4EnPBdFLZ4ol",
        "outputId": "613b0793-0e8a-42ba-ad24-638122d21226"
      },
      "execution_count": 6,
      "outputs": [
        {
          "output_type": "stream",
          "name": "stdout",
          "text": [
            " * postgresql+psycopg2://@/postgres\n",
            "3 rows affected.\n"
          ]
        },
        {
          "output_type": "execute_result",
          "data": {
            "text/plain": [
              "[('Pikachu', 'Static', 'Lightning Rod', None),\n",
              " ('Charizard', 'Blaze', None, None),\n",
              " ('Staryu', 'Natural Cure', 'Illuminate', None)]"
            ],
            "text/html": [
              "<table>\n",
              "    <thead>\n",
              "        <tr>\n",
              "            <th>name</th>\n",
              "            <th>first_ability</th>\n",
              "            <th>second_ability</th>\n",
              "            <th>third_ability</th>\n",
              "        </tr>\n",
              "    </thead>\n",
              "    <tbody>\n",
              "        <tr>\n",
              "            <td>Pikachu</td>\n",
              "            <td>Static</td>\n",
              "            <td>Lightning Rod</td>\n",
              "            <td>None</td>\n",
              "        </tr>\n",
              "        <tr>\n",
              "            <td>Charizard</td>\n",
              "            <td>Blaze</td>\n",
              "            <td>None</td>\n",
              "            <td>None</td>\n",
              "        </tr>\n",
              "        <tr>\n",
              "            <td>Staryu</td>\n",
              "            <td>Natural Cure</td>\n",
              "            <td>Illuminate</td>\n",
              "            <td>None</td>\n",
              "        </tr>\n",
              "    </tbody>\n",
              "</table>"
            ]
          },
          "metadata": {},
          "execution_count": 6
        }
      ]
    },
    {
      "cell_type": "markdown",
      "source": [
        "THe attempt to access the third ability fails (since the Pokemon don't have one!). However, it doesn't crash the database--it just returns `None`."
      ],
      "metadata": {
        "id": "8g-00hLGaWTX"
      }
    },
    {
      "cell_type": "markdown",
      "source": [
        "## A Better ALTER TABLE\n",
        "\n",
        "In PostgreSQL, the `ALTER TABLE` command is more versatile and feature-rich compared to SQLite. While SQLite supports basic table modifications, PostgreSQL offers a wide range of options to alter tables efficiently. Let's explore some of the key improvements in PostgreSQL's `ALTER TABLE` command.\n",
        "\n",
        "###  Adding Columns with Default Values\n",
        "In PostgreSQL, you can add a new column to a table and specify a default value for existing rows in a single statement. Example:"
      ],
      "metadata": {
        "id": "46KEudLnWgfz"
      }
    },
    {
      "cell_type": "code",
      "source": [
        "%%sql\n",
        "ALTER TABLE trainers ADD COLUMN created_at TIMESTAMP DEFAULT CURRENT_TIMESTAMP;"
      ],
      "metadata": {
        "colab": {
          "base_uri": "https://localhost:8080/"
        },
        "id": "eGW_eNYYWkTx",
        "outputId": "acdd23ee-5c24-45f3-966d-085f16c9e217"
      },
      "execution_count": 7,
      "outputs": [
        {
          "output_type": "stream",
          "name": "stdout",
          "text": [
            " * postgresql+psycopg2://@/postgres\n",
            "Done.\n"
          ]
        },
        {
          "output_type": "execute_result",
          "data": {
            "text/plain": [
              "[]"
            ]
          },
          "metadata": {},
          "execution_count": 7
        }
      ]
    },
    {
      "cell_type": "markdown",
      "source": [
        "This statement adds a new column named `created_at` of type `TIMESTAMP` to the `trainers` table and sets the default value to the current timestamp for existing rows.\n",
        "\n",
        "### Modifying Column Data Types\n",
        "PostgreSQL allows you to modify the data type of a column using the `ALTER TABLE` command. Example:"
      ],
      "metadata": {
        "id": "NnXCVn2QWplD"
      }
    },
    {
      "cell_type": "code",
      "source": [
        "%%sql\n",
        "ALTER TABLE trainers ALTER COLUMN phone TYPE VARCHAR(15);"
      ],
      "metadata": {
        "colab": {
          "base_uri": "https://localhost:8080/"
        },
        "id": "P2a1SyLHWw4g",
        "outputId": "e36a8d2e-e48c-4ff5-aab0-315483b4edf3"
      },
      "execution_count": 8,
      "outputs": [
        {
          "output_type": "stream",
          "name": "stdout",
          "text": [
            " * postgresql+psycopg2://@/postgres\n",
            "Done.\n"
          ]
        },
        {
          "output_type": "execute_result",
          "data": {
            "text/plain": [
              "[]"
            ]
          },
          "metadata": {},
          "execution_count": 8
        }
      ]
    },
    {
      "cell_type": "markdown",
      "source": [
        "This statement changes the data type of the `phone` column in the `trainers` table from `VARCHAR(20)` to `VARCHAR(15)`.\n",
        "\n",
        "### Adding Constraints\n",
        "PostgreSQL enables you to add constraints to existing tables using the `ALTER TABLE` command. Example:"
      ],
      "metadata": {
        "id": "FqwQtd8OW119"
      }
    },
    {
      "cell_type": "code",
      "source": [
        "%%sql\n",
        "ALTER TABLE pokemon ADD CONSTRAINT unique_name_per_trainer UNIQUE (name, trainer_id);"
      ],
      "metadata": {
        "colab": {
          "base_uri": "https://localhost:8080/"
        },
        "id": "GQDrQl9bW-CK",
        "outputId": "52c231a2-ca0c-40b1-fd0d-ac12a07ce37a"
      },
      "execution_count": 9,
      "outputs": [
        {
          "output_type": "stream",
          "name": "stdout",
          "text": [
            " * postgresql+psycopg2://@/postgres\n",
            "Done.\n"
          ]
        },
        {
          "output_type": "execute_result",
          "data": {
            "text/plain": [
              "[]"
            ]
          },
          "metadata": {},
          "execution_count": 9
        }
      ]
    },
    {
      "cell_type": "markdown",
      "source": [
        "This statement adds a unique constraint named `unique_name_per_trainer` to the `pokemon` table, ensuring that the combination of `name` and `trainer_id` is unique."
      ],
      "metadata": {
        "id": "kw0OwtrWXDTa"
      }
    },
    {
      "cell_type": "markdown",
      "source": [
        "These examples demonstrate the powerful capabilities of PostgreSQL's `ALTER TABLE` command. PostgreSQL provides a rich set of options to modify table structures, add or drop constraints, change column data types, and perform various other table alterations.\n",
        "\n",
        "The flexibility and extensive features of `ALTER TABLE` in PostgreSQL allow for efficient schema modifications without the need to recreate tables from scratch. This is particularly useful in scenarios where the database schema needs to evolve over time to accommodate changing requirements.\n",
        "\n",
        "It's important to note that while SQLite does support some basic `ALTER TABLE` operations, such as renaming tables and adding columns, it lacks the extensive options and flexibility provided by PostgreSQL's `ALTER TABLE` command."
      ],
      "metadata": {
        "id": "tAzukugiYKvb"
      }
    },
    {
      "cell_type": "markdown",
      "source": [
        "## Stored Procedures in PostgreSQL\n",
        "\n",
        "In the world of Pokemon, trainers often have a set of routines they follow to care for their Pokemon. They may have a specific way of feeding them, training them, or even a special technique for battling. These routines help trainers manage their Pokemon effectively and consistently. Similarly, in the world of databases, we have stored procedures that allow us to encapsulate and reuse common tasks or complex operations.\n",
        "\n",
        "### What are Stored Procedures?\n",
        "\n",
        "A **stored procedure** is a precompiled collection of SQL statements and optional control-flow statements stored under a name and processed as a unit. It is a database object that performs a specific task or a series of tasks when invoked. Stored procedures are stored within the database itself and can be called or executed whenever needed.\n",
        "\n",
        "Stored procedures offer several benefits:\n",
        "\n",
        "1.  *Reusability*. Stored procedures can be called multiple times from different parts of an application, promoting code reuse and reducing duplication.\n",
        "2.  *Encapsulation*. Stored procedures encapsulate complex logic and SQL statements, making the code more modular and easier to maintain.\n",
        "3.  *Performance*. Since stored procedures are precompiled and stored in the database, they can execute faster compared to individual SQL statements sent from an application.\n",
        "4.  *Security*. Stored procedures can help enforce security by granting execute permissions to users without giving them direct access to the underlying tables.\n",
        "\n",
        "### Basic Syntax of Stored Procedures\n",
        "\n",
        "In PostgreSQL, you can create a stored procedure using the `CREATE PROCEDURE` statement. Here's the basic syntax:\n",
        "\n",
        "```sql\n",
        "CREATE PROCEDURE procedure_name(parameter1 datatype, parameter2 datatype, ...)\n",
        "AS $$\n",
        "BEGIN\n",
        "  -- Procedure logic goes here\n",
        "  -- SQL statements and control-flow statements\n",
        "END;\n",
        "$$ LANGUAGE plpgsql;\n",
        "```\n",
        "\n",
        "Let's break down the syntax:\n",
        "\n",
        "-   `procedure_name`: The name you give to the stored procedure.\n",
        "-   `parameter1`, `parameter2`, etc.: Optional input parameters that the procedure can accept. You specify the parameter name and its data type.\n",
        "-   `AS $$`: Indicates the start of the procedure body.\n",
        "-   `BEGIN` and `END`: Delimits the procedure body, which contains the SQL statements and control-flow statements.\n",
        "-   `LANGUAGE plpgsql`: Specifies the language used for the stored procedure, in this case, PL/pgSQL (Procedural Language/PostgreSQL).\n",
        "\n",
        "### Example: Stored Procedure for the Pokemon Clinic\n",
        "\n",
        "Let's create a stored procedure for the Pokemon Clinic that retrieves the medical records of a specific Pokemon based on its ID."
      ],
      "metadata": {
        "id": "VQOnOCbstVGn"
      }
    },
    {
      "cell_type": "code",
      "source": [
        "%%sql\n",
        "CREATE OR REPLACE PROCEDURE update_pokemon_level(\n",
        "  p_pokemon_id INTEGER,\n",
        "  p_new_level INTEGER\n",
        ")\n",
        "AS $$\n",
        "BEGIN\n",
        "  -- Update the level of the Pokemon\n",
        "  UPDATE pokemon\n",
        "  SET level = p_new_level\n",
        "  WHERE id = p_pokemon_id;\n",
        "\n",
        "  -- Check if any rows were affected\n",
        "  IF FOUND THEN\n",
        "    RAISE NOTICE 'Pokemon level updated successfully';\n",
        "  ELSE\n",
        "    RAISE NOTICE 'No Pokemon found with the given ID';\n",
        "  END IF;\n",
        "END;\n",
        "$$ LANGUAGE plpgsql;"
      ],
      "metadata": {
        "colab": {
          "base_uri": "https://localhost:8080/"
        },
        "id": "7sn5YVV_vcHe",
        "outputId": "afba5554-ffe5-423d-dc44-dd967cd2dd14"
      },
      "execution_count": 26,
      "outputs": [
        {
          "output_type": "stream",
          "name": "stdout",
          "text": [
            " * postgresql+psycopg2://@/postgres\n",
            "Done.\n"
          ]
        },
        {
          "output_type": "execute_result",
          "data": {
            "text/plain": [
              "[]"
            ]
          },
          "metadata": {},
          "execution_count": 26
        }
      ]
    },
    {
      "cell_type": "markdown",
      "source": [
        "In this example:\n",
        "\n",
        "-   The `CREATE OR REPLACE PROCEDURE` statement is used to create a procedure named `update_pokemon_level`.\n",
        "-   The procedure takes two input parameters: `p_pokemon_id` (INTEGER) representing the ID of the Pokemon to update, and `p_new_level` (INTEGER) representing the new level to set for the Pokemon.\n",
        "-   Inside the procedure body, an `UPDATE` statement is used to update the `level` column of the `pokemon` table for the row where the `id` matches the provided `p_pokemon_id`.\n",
        "-   The `IF FOUND THEN` clause checks if any rows were affected by the `UPDATE` statement. If rows were affected (i.e., a Pokemon with the given ID was found and updated), it raises a notice indicating that the level was updated successfully (it also **logs** this notice). Otherwise, it raises a notice indicating that no Pokemon was found with the given ID.\n",
        "\n",
        "To call this stored procedure and update the level of a Pokemon, you can use the `CALL` statement followed by the procedure name and the required arguments. For example:"
      ],
      "metadata": {
        "id": "bocMDlOnvyRK"
      }
    },
    {
      "cell_type": "code",
      "source": [
        "%%sql\n",
        "CALL update_pokemon_level(1, 30);"
      ],
      "metadata": {
        "colab": {
          "base_uri": "https://localhost:8080/"
        },
        "id": "Rw6_SrbMvgFI",
        "outputId": "35d369ec-bcc8-435c-a1b1-e01362e0db4f"
      },
      "execution_count": 27,
      "outputs": [
        {
          "output_type": "stream",
          "name": "stdout",
          "text": [
            " * postgresql+psycopg2://@/postgres\n",
            "Done.\n"
          ]
        },
        {
          "output_type": "execute_result",
          "data": {
            "text/plain": [
              "[]"
            ]
          },
          "metadata": {},
          "execution_count": 27
        }
      ]
    },
    {
      "cell_type": "markdown",
      "source": [
        "This statement calls the `update_pokemon_level` procedure, passing the values `1` as the `p_pokemon_id` parameter and `30` as the `p_new_level` parameter. The procedure will then execute the `UPDATE` statement and update the level of the Pokemon with ID 1 to 30."
      ],
      "metadata": {
        "id": "90yu-wY1wEaF"
      }
    },
    {
      "cell_type": "markdown",
      "source": [
        "## User Management and Roles in PostgreSQL\n",
        "\n",
        "When it comes to managing a database, one of the most critical aspects is ensuring the security and integrity of the data. In the world of Pokemon, this means safeguarding sensitive information about trainers, their Pokemon, and the medical records of the Pokemon Clinic. Just like how a Pokemon trainer must carefully manage their team and delegate responsibilities, a database administrator must effectively manage user access and privileges to maintain a secure and organized system.\n",
        "\n",
        "PostgreSQL provides a robust user management system that allows you to create, modify, and delete user accounts, as well as assign privileges and roles to users. By properly setting up user accounts and roles, you can ensure that each user has access to only the necessary data and functionality, reducing the risk of unauthorized access or data breaches.\n",
        "\n",
        "Let's explore how to manage users and their roles in PostgreSQL using our Pokemon Clinic database as an example.\n",
        "\n",
        "### Creating Users\n",
        "In PostgreSQL, you can create a new user using the `CREATE USER` statement. For example, let's create a user account for the head nurse of the Pokemon Clinic:"
      ],
      "metadata": {
        "id": "Jq04Q9yLqch4"
      }
    },
    {
      "cell_type": "code",
      "source": [
        "%%sql\n",
        "CREATE USER nurse_joy WITH PASSWORD 'chansey123';"
      ],
      "metadata": {
        "colab": {
          "base_uri": "https://localhost:8080/"
        },
        "id": "DkVJ2SKoBCDb",
        "outputId": "543f7e4f-82d7-4ef5-a51f-45fcb6d5c8e1"
      },
      "execution_count": 10,
      "outputs": [
        {
          "output_type": "stream",
          "name": "stdout",
          "text": [
            " * postgresql+psycopg2://@/postgres\n",
            "Done.\n"
          ]
        },
        {
          "output_type": "execute_result",
          "data": {
            "text/plain": [
              "[]"
            ]
          },
          "metadata": {},
          "execution_count": 10
        }
      ]
    },
    {
      "cell_type": "markdown",
      "source": [
        "This statement creates a new user named `nurse_joy` with the password `'chansey123'`. It's important to choose a strong and secure password to protect the user account from unauthorized access.\n",
        "\n",
        "### Creating Roles\n",
        "**Roles** in PostgreSQL are used to group together privileges and assign them to users. Think of roles as job titles or categories that define what actions users can perform. Let's create a role for Pokemon trainers:"
      ],
      "metadata": {
        "id": "rQjAF_J5qrN8"
      }
    },
    {
      "cell_type": "code",
      "source": [
        "%%sql\n",
        "CREATE ROLE pokemon_trainer;"
      ],
      "metadata": {
        "colab": {
          "base_uri": "https://localhost:8080/"
        },
        "id": "t46FzZn4qslv",
        "outputId": "be7deece-651d-4115-cb4f-0cbad3ad10a3"
      },
      "execution_count": 11,
      "outputs": [
        {
          "output_type": "stream",
          "name": "stdout",
          "text": [
            " * postgresql+psycopg2://@/postgres\n",
            "Done.\n"
          ]
        },
        {
          "output_type": "execute_result",
          "data": {
            "text/plain": [
              "[]"
            ]
          },
          "metadata": {},
          "execution_count": 11
        }
      ]
    },
    {
      "cell_type": "markdown",
      "source": [
        "This statement creates a new role named `pokemon_trainer`. We can later assign this role to users who are authorized to perform actions related to Pokemon training.\n",
        "\n",
        "### Granting Privileges to Roles\n",
        "Once you have created a role, you can grant specific privileges to that role using the `GRANT` statement. For example, let's grant the necessary privileges to the `pokemon_trainer` role:"
      ],
      "metadata": {
        "id": "muBGg1y9qwlr"
      }
    },
    {
      "cell_type": "code",
      "source": [
        "%%sql\n",
        "GRANT SELECT, INSERT, UPDATE ON pokemon TO pokemon_trainer;"
      ],
      "metadata": {
        "colab": {
          "base_uri": "https://localhost:8080/"
        },
        "id": "fpkkSQ-Xq4yi",
        "outputId": "990357bc-c195-494a-cc73-af899027d401"
      },
      "execution_count": 12,
      "outputs": [
        {
          "output_type": "stream",
          "name": "stdout",
          "text": [
            " * postgresql+psycopg2://@/postgres\n",
            "Done.\n"
          ]
        },
        {
          "output_type": "execute_result",
          "data": {
            "text/plain": [
              "[]"
            ]
          },
          "metadata": {},
          "execution_count": 12
        }
      ]
    },
    {
      "cell_type": "markdown",
      "source": [
        "### Assigning Roles to Users\n",
        "To assign a role to a user, you can use the GRANT statement with the TO clause. Let's assign the pokemon_trainer role to a user named ash_ketchum:"
      ],
      "metadata": {
        "id": "xAx9BFyhrANc"
      }
    },
    {
      "cell_type": "code",
      "source": [
        "%%sql\n",
        "CREATE USER ash_ketchum WITH PASSWORD 'pika!';\n",
        "GRANT pokemon_trainer TO ash_ketchum;"
      ],
      "metadata": {
        "colab": {
          "base_uri": "https://localhost:8080/"
        },
        "id": "OuDGomSPrE3U",
        "outputId": "0aa22453-2717-46a7-d9f4-760a46ce7961"
      },
      "execution_count": 13,
      "outputs": [
        {
          "output_type": "stream",
          "name": "stdout",
          "text": [
            " * postgresql+psycopg2://@/postgres\n",
            "Done.\n",
            "Done.\n"
          ]
        },
        {
          "output_type": "execute_result",
          "data": {
            "text/plain": [
              "[]"
            ]
          },
          "metadata": {},
          "execution_count": 13
        }
      ]
    },
    {
      "cell_type": "markdown",
      "source": [
        "This statement grants the `pokemon_trainer` role to the user `ash_ketchum`. Now, `ash_ketchum` has all the privileges associated with the `pokemon_trainer` role.\n",
        "\n",
        "### Revoking Privileges and Roles\n",
        "Sometimes, you may need to revoke privileges or roles from users or roles. This is useful when a user's responsibilities change or when you want to restrict access to certain data. You can use the `REVOKE` statement to revoke privileges and roles. For example:"
      ],
      "metadata": {
        "id": "1lNFp9pArLYi"
      }
    },
    {
      "cell_type": "code",
      "source": [
        "%%sql\n",
        "REVOKE UPDATE ON pokemon FROM pokemon_trainer;\n",
        "REVOKE pokemon_trainer FROM ash_ketchum;"
      ],
      "metadata": {
        "colab": {
          "base_uri": "https://localhost:8080/"
        },
        "id": "a9QJtf86rTKW",
        "outputId": "d8e42bd5-40e7-4109-e403-41ce83e91b8d"
      },
      "execution_count": 14,
      "outputs": [
        {
          "output_type": "stream",
          "name": "stdout",
          "text": [
            " * postgresql+psycopg2://@/postgres\n",
            "Done.\n",
            "Done.\n"
          ]
        },
        {
          "output_type": "execute_result",
          "data": {
            "text/plain": [
              "[]"
            ]
          },
          "metadata": {},
          "execution_count": 14
        }
      ]
    },
    {
      "cell_type": "markdown",
      "source": [
        "The first statement revokes the `UPDATE` privilege on the `pokemon` table from the `pokemon_trainer` role. This means that users with the `pokemon_trainer` role will no longer be able to modify data in the `pokemon` table. The second statement revokes the `pokemon_trainer` role from the user `ash_ketchum`. As a result, `ash_ketchum` will no longer have the privileges associated with the `pokemon_trainer` role.\n",
        "\n",
        "PostgreSQL allows you to modify user attributes and delete user accounts using the `ALTER USER` and `DROP USER` statements, respectively. For example:"
      ],
      "metadata": {
        "id": "yFKa4FnIrYdx"
      }
    },
    {
      "cell_type": "code",
      "source": [
        "%%sql\n",
        "ALTER USER nurse_joy WITH PASSWORD 'blissey456';\n",
        "DROP USER ash_ketchum;"
      ],
      "metadata": {
        "colab": {
          "base_uri": "https://localhost:8080/"
        },
        "id": "qFtuAeM8rgsq",
        "outputId": "0441af89-37e2-4c2b-c81f-4bded8700d2c"
      },
      "execution_count": 15,
      "outputs": [
        {
          "output_type": "stream",
          "name": "stdout",
          "text": [
            " * postgresql+psycopg2://@/postgres\n",
            "Done.\n",
            "Done.\n"
          ]
        },
        {
          "output_type": "execute_result",
          "data": {
            "text/plain": [
              "[]"
            ]
          },
          "metadata": {},
          "execution_count": 15
        }
      ]
    },
    {
      "cell_type": "markdown",
      "source": [
        "The first statement changes the password of the user `nurse_joy` to `'blissey456'`. It's a good practice to regularly update passwords to enhance security. The second statement deletes the user `ash_ketchum` from the database. This should be done with caution and only when necessary, as it permanently removes the user and their associated permissions.\n"
      ],
      "metadata": {
        "id": "TGWK8gKtrlI7"
      }
    },
    {
      "cell_type": "markdown",
      "source": [
        "### Importance of User Management and Security\n",
        "\n",
        "Proper user management is crucial for maintaining the security of your database. By creating separate user accounts and assigning appropriate privileges and roles, you can ensure that users have access only to the necessary data and operations. Some important security considerations include:\n",
        "  -   Use strong and unique passwords for user accounts.\n",
        "  -   Grant privileges based on the **principle of least privilege**, giving users only the permissions they need to perform their tasks.\n",
        "  -   Regularly review and audit user privileges to ensure they align with the users' responsibilities.\n",
        "  -   Revoke unnecessary privileges and remove inactive user accounts to minimize security risks.\n",
        "\n",
        "By leveraging PostgreSQL's user management and role-based access control features, you can effectively manage user access, enforce security policies, and protect sensitive data in your database."
      ],
      "metadata": {
        "id": "VvTfufi7sTZU"
      }
    },
    {
      "cell_type": "markdown",
      "source": [
        "##  Deploying Your PostgreSQL Database\n",
        "\n",
        "Congratulations on learning the fundamentals of PostgreSQL! You now have the skills to create tables, insert data, and manage users and their roles. The next step is to deploy your database so that it can be accessed by your application. When it comes to deploying PostgreSQL, you have two main options: on-site deployment and cloud-based deployment. In this section, we'll explore each option in detail, using our Pokemon Clinic database as an example.\n",
        "\n",
        "### On-site Deployment\n",
        "\n",
        "On-site deployment, also known as on-premises deployment, means installing and running PostgreSQL on your own physical servers or computers within your organization's network.\n",
        "\n",
        "Imagine you're setting up the database for the Pokemon Clinic. With on-site deployment, you would need to buy or use existing **servers** (powerful computers designed to host applications and databases) to run PostgreSQL. You'll also need to configure the operating system (the software that manages the computer's hardware and software resources) and set up security measures to protect the database. While SQLite is often \"built in\" to programming languages like Python, Postres needs to be downloaded and installed for your particular operating system\n",
        "\n",
        "Some advantages of On-site deployment include\n",
        "\n",
        "1.  *Control*. On-site deployment gives you full control over your PostgreSQL environment. You can customize and optimize it to meet your specific needs.\n",
        "2.  *Security* With on-site deployment, you have complete control over the security of your database. This is particularly important for the Pokemon Clinic, as it stores sensitive information about Pokemon and their trainers.\n",
        "\n",
        "Some disadvantages include:\n",
        "\n",
        "1.  *Cost*. On-site deployment can be expensive, as you need to invest in hardware, software licenses, and infrastructure setup. You'll also need to factor in the ongoing costs of maintenance and support.\n",
        "2.  *Maintenance*. With on-site deployment, you're responsible for maintaining the database. This includes tasks like installing updates, making backups, and troubleshooting issues. You'll need a dedicated team or staff member with the necessary expertise to handle these tasks.\n",
        "\n",
        "### Cloud-based Deployment\n",
        "\n",
        "Cloud-based deployment involves running PostgreSQL on servers provided by a third-party vendor, such as Amazon Web Services (AWS), Google Cloud Platform (GCP), or Microsoft Azure.\n",
        "\n",
        "In the context of the Pokemon Clinic, you would set up your database on a cloud platform, and the cloud provider would take care of the underlying infrastructure, installation, and configuration of PostgreSQL.\n",
        "\n",
        "The main advantages of cloud-based deployment include:\n",
        "\n",
        "1.  *Scalability*. Cloud platforms allow you to easily scale your PostgreSQL database up or down based on your needs. For example, if the Pokemon Clinic experiences a surge in patients, you can quickly allocate more resources to the database to handle the increased load.\n",
        "2.  *Cost-effective*. With cloud-based deployment, you only pay for the resources you use. This can be more cost-effective than on-site deployment, where you need to invest in expensive hardware upfront.\n",
        "3.  *Maintenance*. Cloud providers take care of routine maintenance tasks, such as software updates and backups. This frees up your time and resources to focus on running the Pokemon Clinic.\n",
        "\n",
        "Disadvantages of cloud-based deployment include:\n",
        "\n",
        "1.  *Security*. When you deploy your database on a cloud platform, you're trusting the cloud provider with your data. While cloud providers have robust security measures in place, some organizations may prefer (or be required by law) to keep sensitive data on-site.\n",
        "2.  *Dependency*. With cloud-based deployment, you're dependent on the cloud provider. If the cloud provider experiences an outage or issue, it could impact your database and application.\n",
        "\n",
        "### Choosing the Right Deployment Option\n",
        "\n",
        "When choosing between on-site and cloud-based deployment for your PostgreSQL database, consider the following factors:\n",
        "\n",
        "1.  *Security/Legal requirements*. If you're storing sensitive data, like the Pokemon Clinic's medical records, you may prefer on-site deployment for added control over security.\n",
        "2.  *Scalability needs*. If you anticipate needing to quickly scale your database up or down, cloud-based deployment may be the better choice.\n",
        "3.  *Budget*. On-site deployment requires a larger upfront investment, while cloud-based deployment allows you to pay for only the resources you use. Consider your budget and long-term costs when making a decision.\n",
        "4.  *Maintenance capabilities*. If you have a dedicated IT team that can handle database maintenance, on-site deployment may be a good fit. If you prefer to focus on your core business, cloud-based deployment can free up your resources.\n",
        "\n",
        "In real life, you may also opt for a **hybrid** option, where some databases live on the \"cloud\", while others like locally.\n"
      ],
      "metadata": {
        "id": "QU1slJo5y2uK"
      }
    },
    {
      "cell_type": "markdown",
      "source": [
        "## Other Relational Database Management Systems (RDBMSs)\n",
        "\n",
        "While SQLite and PostgreSQL are popular choices for relational database management, there are several other RDBMSs available in the market. Each RDBMS has its own strengths, features, and target audiences. Let's take a brief look at some of the other notable RDBMSs and compare them to SQLite and PostgreSQL.\n",
        "\n",
        "### MySQL and MariaDB\n",
        "\n",
        "MySQL is an open-source RDBMS (now owned by Oracle) that is widely used for web applications and online services. It is known for its simplicity, ease of use, and good performance for read-heavy workloads. MySQL supports various storage engines, including InnoDB and MyISAM, which offer different features and trade-offs. Compared to PostgreSQL, MySQL is sometimes considered to be simpler and easier to set up, making it a popular choice for small to medium-sized applications. However, PostgreSQL tends to have more advanced features and is often preferred for complex queries and data integrity. **Maria DB** is an off-shoot of MySQL that implements many of the same features.\n",
        "\n",
        "### Oracle Database\n",
        "\n",
        "Oracle Database is a commercial RDBMS that is widely used in enterprise environments. It is known for its scalability, reliability, and advanced features. Oracle Database provides a comprehensive set of tools for data management, including partitioning, data replication, and advanced security features. It supports a wide range of data types and has a powerful optimizer for query performance. Compared to SQLite and PostgreSQL, Oracle Database is generally more complex and requires more resources to set up and maintain. It is typically used in large-scale, mission-critical applications where high performance and enterprise-level features are required.\n",
        "\n",
        "### Microsoft SQL Server\n",
        "\n",
        "Microsoft SQL Server is a commercial RDBMS developed by Microsoft. It is commonly used in Windows-based environments and integrates well with other Microsoft technologies. SQL Server provides a range of features, including support for T-SQL (Transact-SQL), a proprietary extension to standard SQL, and integration with Microsoft's business intelligence tools. It offers strong performance, scalability, and security features. Compared to SQLite and PostgreSQL, SQL Server is more tightly integrated with the Microsoft ecosystem and is often preferred by organizations using Microsoft technologies.\n",
        "\n",
        "### IBM Db2\n",
        "\n",
        "IBM Db2 is a commercial RDBMS developed by IBM. It is known for its scalability, reliability, and support for large-scale enterprise applications. Db2 provides advanced features such as data compression, data encryption, and multi-temperature data management. It is available on various platforms, including Linux, Unix, and Windows. Compared to SQLite and PostgreSQL, Db2 is generally more suited for large-scale, enterprise-level applications and is often used in mainframe environments.\n",
        "\n",
        "When comparing these RDBMSs to SQLite and PostgreSQL, it's important to consider factors such as scalability, performance, features, ecosystem, and cost. SQLite is lightweight and embedded, making it suitable for small-scale applications or local data storage. PostgreSQL is known for its robustness, extensibility, and adherence to SQL standards, making it a good choice for applications that require advanced features and data integrity.\n",
        "\n",
        "Ultimately, the choice of RDBMS depends on the specific requirements of your application, the scale of your data, the platform and ecosystem you are working with, and your budget. It's essential to evaluate the features, performance, and costs of each RDBMS and choose the one that aligns best with your needs."
      ],
      "metadata": {
        "id": "FsRzbgRo0SYE"
      }
    },
    {
      "cell_type": "code",
      "source": [],
      "metadata": {
        "id": "ay6zOx5AscVr"
      },
      "execution_count": null,
      "outputs": []
    }
  ]
}