{
  "nbformat": 4,
  "nbformat_minor": 0,
  "metadata": {
    "colab": {
      "provenance": [],
      "authorship_tag": "ABX9TyN/F6QyXc5fcr3Z4k7R84E5",
      "include_colab_link": true
    },
    "kernelspec": {
      "name": "python3",
      "display_name": "Python 3"
    },
    "language_info": {
      "name": "python"
    }
  },
  "cells": [
    {
      "cell_type": "markdown",
      "metadata": {
        "id": "view-in-github",
        "colab_type": "text"
      },
      "source": [
        "<a href=\"https://colab.research.google.com/github/brendanpshea/database_sql/blob/main/Database_09_PokemonAndPostgres.ipynb\" target=\"_parent\"><img src=\"https://colab.research.google.com/assets/colab-badge.svg\" alt=\"Open In Colab\"/></a>"
      ]
    },
    {
      "cell_type": "code",
      "execution_count": 1,
      "metadata": {
        "colab": {
          "base_uri": "https://localhost:8080/"
        },
        "id": "0lA6gmIbyY1I",
        "outputId": "3293415b-8a34-407f-874c-e3f86cb1efa3"
      },
      "outputs": [
        {
          "output_type": "stream",
          "name": "stdout",
          "text": [
            " * Starting PostgreSQL 14 database server\n",
            "   ...done.\n",
            "ERROR:  role \"root\" already exists\n"
          ]
        }
      ],
      "source": [
        "# Insteall postgres\n",
        "!apt install postgresql postgresql-contrib &>log\n",
        "!service postgresql start\n",
        "!sudo -u postgres psql -c \"CREATE USER root WITH SUPERUSER\"\n",
        "# set connection\n",
        "%load_ext sql\n",
        "%sql postgresql+psycopg2://@/postgres"
      ]
    },
    {
      "cell_type": "markdown",
      "source": [
        "## Overview of the Pokemon Clinic Database:\n",
        "\n",
        "To demonstrate the power of Postgres, we'll be creating a The Pokemon Clinic database consists of three main tables: `trainers`, `pokemon`, and `medical_records`. These tables are designed to store information about Pokemon trainers, their Pokemon, and the medical records associated with each Pokemon."
      ],
      "metadata": {
        "id": "2L4rRpqF56h_"
      }
    },
    {
      "cell_type": "code",
      "source": [
        "%%sql\n",
        "-- Create the trainers table\n",
        "DROP TABLE IF EXISTS trainers CASCADE;\n",
        "DROP TABLE IF EXISTS pokemon CASCADE;\n",
        "DROP TABLE IF EXISTS medical_records;\n",
        "\n",
        "-- Create the trainers table\n",
        "CREATE TABLE trainers (\n",
        "  id SERIAL PRIMARY KEY,\n",
        "  name VARCHAR(100) NOT NULL,\n",
        "  email VARCHAR(100) UNIQUE NOT NULL,\n",
        "  password_hash VARCHAR(100) NOT NULL,\n",
        "  phone VARCHAR(20),\n",
        "  date_of_birth DATE,\n",
        "  CHECK (date_of_birth < CURRENT_DATE)\n",
        ");\n",
        "\n",
        "-- Create the pokemon table\n",
        "CREATE TABLE pokemon (\n",
        "  id SERIAL PRIMARY KEY,\n",
        "  name VARCHAR(50) NOT NULL,\n",
        "  species VARCHAR(50) NOT NULL,\n",
        "  trainer_id INTEGER REFERENCES trainers(id),\n",
        "  level INTEGER CHECK (level BETWEEN 1 AND 100),\n",
        "  health_status VARCHAR(20),\n",
        "  abilities TEXT[]\n",
        ");\n",
        "\n",
        "-- Create the medical_records table\n",
        "CREATE TABLE medical_records (\n",
        "  id SERIAL PRIMARY KEY,\n",
        "  pokemon_id INTEGER REFERENCES pokemon(id),\n",
        "  visit_date TIMESTAMP DEFAULT CURRENT_TIMESTAMP,\n",
        "  diagnosis TEXT,\n",
        "  treatment TEXT,\n",
        "  cost NUMERIC(8, 2)\n",
        ");"
      ],
      "metadata": {
        "colab": {
          "base_uri": "https://localhost:8080/"
        },
        "id": "mRFjaDj33GoT",
        "outputId": "e3d95b3a-1b8e-45c7-e85b-14b005d3d2d0"
      },
      "execution_count": 7,
      "outputs": [
        {
          "output_type": "stream",
          "name": "stdout",
          "text": [
            " * postgresql+psycopg2://@/postgres\n",
            "Done.\n",
            "Done.\n",
            "Done.\n",
            "Done.\n",
            "Done.\n",
            "Done.\n"
          ]
        },
        {
          "output_type": "execute_result",
          "data": {
            "text/plain": [
              "[]"
            ]
          },
          "metadata": {},
          "execution_count": 7
        }
      ]
    },
    {
      "cell_type": "markdown",
      "source": [
        "While much of this statement should be familiar, you might notice a few new things, as well.\n",
        "\n",
        "The `trainers` table stores information about Pokemon trainers.\n",
        "  -   It includes columns for the trainer's ID (auto-generated), name, email (unique), hashed password, phone number, and date of birth.\n",
        "  -   The `date_of_birth` column has a CHECK constraint that ensures the value is always less than the current date. This constraint uses the `CURRENT_DATE` function, which is specific to PostgreSQL and not available in SQLite.\n",
        "  -   The `email` column has a UNIQUE constraint to ensure that each email address is associated with only one trainer.\n",
        "\n",
        "The pokemon` table stores information about individual Pokemon.\n",
        "  -   It includes columns for the Pokemon's ID (auto-generated), name, species, trainer ID (foreign key referencing the `trainers` table), level, health status, and abilities.\n",
        "   -   The `level` column has a CHECK constraint that ensures the value is between 1 and 100.\n",
        "  -   The `abilities` column is of type TEXT[] (array), which allows storing multiple abilities for each Pokemon. Arrays are a feature specific to PostgreSQL and not available in SQLite.\n",
        "\n",
        "The `medical_records` table stores information about medical visits and treatments for each Pokemon.\n",
        "  -   It includes columns for the medical record ID (auto-generated), Pokemon ID (foreign key referencing the `pokemon` table), visit date, diagnosis, treatment, and cost.\n",
        "  -   The `visit_date` column has a DEFAULT value of `CURRENT_TIMESTAMP`, which automatically sets the value to the current timestamp if no value is provided during insertion. This is a PostgreSQL-specific feature.\n",
        "  -   The `cost` column is of type NUMERIC(8, 2), which allows storing monetary values with a precision of 8 digits and 2 decimal places. The NUMERIC type provides more precise decimal calculations compared to SQLite's REAL type.\n",
        "\n",
        "### Test Data for Pokemon Clinic\n",
        "Now, let's insert some test data for our Pokemon Clinic"
      ],
      "metadata": {
        "id": "04G8cYtx6R_u"
      }
    },
    {
      "cell_type": "code",
      "source": [
        "%%sql\n",
        "CREATE EXTENSION IF NOT EXISTS pgcrypto;\n",
        "-- Insert sample data into the trainers table\n",
        "INSERT INTO trainers (name, email, password_hash, phone, date_of_birth)\n",
        "VALUES\n",
        "  ('Ash Ketchum', 'ash@example.com', crypt('password1', gen_salt('bf')), '123-456-7890', '1990-05-22'),\n",
        "  ('Misty', 'misty@example.com', crypt('password2', gen_salt('bf')), '987-654-3210', '1991-07-19');\n",
        "\n",
        "-- Insert sample data into the pokemon table\n",
        "INSERT INTO pokemon (name, species, trainer_id, level, health_status, abilities)\n",
        "VALUES\n",
        "  ('Pikachu', 'Pikachu', 1, 25, 'Healthy', ARRAY['Static', 'Lightning Rod']),\n",
        "  ('Charizard', 'Charizard', 1, 65, 'Healthy', ARRAY['Blaze']),\n",
        "  ('Staryu', 'Staryu', 2, 30, 'Injured', ARRAY['Natural Cure', 'Illuminate']);\n",
        "\n",
        "-- Insert sample data into the medical_records table\n",
        "INSERT INTO medical_records (pokemon_id, diagnosis, treatment, cost)\n",
        "VALUES\n",
        "  (3, 'Minor abrasions', 'Applied healing salve', 50.00),\n",
        "  (1, 'Regular check-up', 'None', 0.00);"
      ],
      "metadata": {
        "colab": {
          "base_uri": "https://localhost:8080/"
        },
        "id": "6ZEymZFi3T_e",
        "outputId": "a8094193-fe8d-41db-8e5d-ac4efc5cdd4d"
      },
      "execution_count": 9,
      "outputs": [
        {
          "output_type": "stream",
          "name": "stdout",
          "text": [
            " * postgresql+psycopg2://@/postgres\n",
            "Done.\n",
            "2 rows affected.\n",
            "3 rows affected.\n",
            "2 rows affected.\n"
          ]
        },
        {
          "output_type": "execute_result",
          "data": {
            "text/plain": [
              "[]"
            ]
          },
          "metadata": {},
          "execution_count": 9
        }
      ]
    },
    {
      "cell_type": "markdown",
      "source": [
        "Again, much of this shoudl be familar. However, if you look closely at the ways the trainer's passwords are handled, you'll notice something a bit different.\n",
        "\n",
        "- The `password_hash` column stores the hashed version of the trainer's password. **Hashing** is a one-way process that converts the plain-text password into a fixed-size string of characters. The resulting hash is irreversible, meaning it is computationally infeasible to obtain the original password from the hash.\n",
        "- In this example, the `crypt` function is used along with the `gen_salt` function to hash the passwords. The `crypt` function applies a cryptographic hash function to the password, and the `gen_salt` function generates a random salt value using the Blowfish ('bf') algorithm. The salt is appended to the password before hashing, making it more resistant to rainbow table attacks and increasing the security of stored passwords.\n",
        "- Storing hashed passwords instead of plain-text passwords is crucial for security. If the database is compromised, attackers would only have access to the hashed passwords, making it extremely difficult for them to retrieve the original passwords.\n",
        "\n",
        "It's important to note that while the example uses the `crypt` function for simplicity, in a production environment, it's recommended to use more secure and modern hashing algorithms specifically designed for password hashing, such as bcrypt, scrypt, or PBKDF2, which provide better protection against various types of attacks.\n",
        "\n",
        "We see what this hash looks like:"
      ],
      "metadata": {
        "id": "svKI36dr7Ynd"
      }
    },
    {
      "cell_type": "code",
      "source": [
        "%%sql\n",
        "SELECT * FROM trainers;"
      ],
      "metadata": {
        "colab": {
          "base_uri": "https://localhost:8080/",
          "height": 134
        },
        "id": "Af2DTeYI7_zd",
        "outputId": "c9224167-0637-44a9-eac0-7a88f9cce5b8"
      },
      "execution_count": 10,
      "outputs": [
        {
          "output_type": "stream",
          "name": "stdout",
          "text": [
            " * postgresql+psycopg2://@/postgres\n",
            "2 rows affected.\n"
          ]
        },
        {
          "output_type": "execute_result",
          "data": {
            "text/plain": [
              "[(1, 'Ash Ketchum', 'ash@example.com', '$2a$06$8D1p1/.vbeVQVKI4nsthWOa5x/kUmgb59TNAC.lZ91NpCzVTnvtHa', '123-456-7890', datetime.date(1990, 5, 22)),\n",
              " (2, 'Misty', 'misty@example.com', '$2a$06$eLSwPwVKwJYx3VIGwHbpvOAcE3R/YjBVUx.EPwAHo9EgiHVu0wqpe', '987-654-3210', datetime.date(1991, 7, 19))]"
            ],
            "text/html": [
              "<table>\n",
              "    <thead>\n",
              "        <tr>\n",
              "            <th>id</th>\n",
              "            <th>name</th>\n",
              "            <th>email</th>\n",
              "            <th>password_hash</th>\n",
              "            <th>phone</th>\n",
              "            <th>date_of_birth</th>\n",
              "        </tr>\n",
              "    </thead>\n",
              "    <tbody>\n",
              "        <tr>\n",
              "            <td>1</td>\n",
              "            <td>Ash Ketchum</td>\n",
              "            <td>ash@example.com</td>\n",
              "            <td>$2a$06$8D1p1/.vbeVQVKI4nsthWOa5x/kUmgb59TNAC.lZ91NpCzVTnvtHa</td>\n",
              "            <td>123-456-7890</td>\n",
              "            <td>1990-05-22</td>\n",
              "        </tr>\n",
              "        <tr>\n",
              "            <td>2</td>\n",
              "            <td>Misty</td>\n",
              "            <td>misty@example.com</td>\n",
              "            <td>$2a$06$eLSwPwVKwJYx3VIGwHbpvOAcE3R/YjBVUx.EPwAHo9EgiHVu0wqpe</td>\n",
              "            <td>987-654-3210</td>\n",
              "            <td>1991-07-19</td>\n",
              "        </tr>\n",
              "    </tbody>\n",
              "</table>"
            ]
          },
          "metadata": {},
          "execution_count": 10
        }
      ]
    }
  ]
}