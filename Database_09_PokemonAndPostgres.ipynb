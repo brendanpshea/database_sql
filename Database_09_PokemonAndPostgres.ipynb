{
  "nbformat": 4,
  "nbformat_minor": 0,
  "metadata": {
    "colab": {
      "provenance": [],
      "authorship_tag": "ABX9TyMEYgDWGaEXjMLEwfb90Sfn",
      "include_colab_link": true
    },
    "kernelspec": {
      "name": "python3",
      "display_name": "Python 3"
    },
    "language_info": {
      "name": "python"
    }
  },
  "cells": [
    {
      "cell_type": "markdown",
      "metadata": {
        "id": "view-in-github",
        "colab_type": "text"
      },
      "source": [
        "<a href=\"https://colab.research.google.com/github/brendanpshea/database_sql/blob/main/Database_09_PokemonAndPostgres.ipynb\" target=\"_parent\"><img src=\"https://colab.research.google.com/assets/colab-badge.svg\" alt=\"Open In Colab\"/></a>"
      ]
    },
    {
      "cell_type": "markdown",
      "source": [
        "## What is PostgreSQL? How Does it Differ from SQLite?\n",
        "\n",
        "PostgreSQL and SQLite are both relational database management systems that support ACID (Atomicity, Consistency, Isolation, Durability) properties and transactions. However, they have significant differences in their architectures, feature sets, and use cases.\n",
        "\n",
        "**SQLite** is a lightweight, serverless, and self-contained database engine. It's ideal for small to medium-scale applications, embedded systems, or local data storage. SQLite stores the entire database as a single file on disk, making it easy to set up and manage. It's often used in mobile apps, desktop applications, and small websites.\n",
        "\n",
        "On the other hand, **PostgreSQL** is a full-featured, server-based RDBMS designed to handle large amounts of data and support multiple concurrent users. Its client-server architecture allows it to manage resources more efficiently and handle heavier workloads.\n",
        "\n",
        "When deciding between SQLite and PostgreSQL, consider the following factors:\n",
        "\n",
        "1.  **Scalability**: As your application grows and the number of concurrent users increases, PostgreSQL's client-server architecture becomes crucial. It can handle a large number of simultaneous connections and efficiently manage resources. SQLite, being serverless, may struggle with high levels of concurrency and may not be suitable for applications with a large number of concurrent writers.\n",
        "2.  **Data Size and Distribution**: PostgreSQL is designed to handle large and massive datasets, even in the terabyte range. It offers features like table partitioning, which allows you to split large tables across multiple files or even servers, improving query performance and manageability. SQLite, while capable of handling moderately sized datasets, may not be the best choice for extremely large or distributed datasets.\n",
        "3.  **Advanced Features**: PostgreSQL offers a rich set of advanced features that become increasingly important as your application grows. These include:\n",
        "    -   **Strict Typing**: PostgreSQL enforces strict data typing, ensuring data integrity and reducing the chances of data inconsistencies. This becomes increasingly critical when there many \"writers\" to the database.\n",
        "    -   **Complex Queries**: PostgreSQL supports complex queries, including advanced joins, subqueries, and window functions, which are essential for handling sophisticated data retrieval tasks.\n",
        "    -   **Stored Procedures and Triggers**: PostgreSQL allows you to define stored procedures and triggers, enabling you to encapsulate complex business logic within the database itself. This can lead to better performance and maintainability.\n",
        "    -   **Extensibility**: PostgreSQL is highly extensible, allowing you to add custom data types, functions, and even programming languages. This flexibility becomes crucial as your application's requirements evolve.\n",
        "    - **Security and User Management**: Postgres has built-in support for things like encryption, user management, password hashing, and other security measures. SQLite, by contrast, relies on the surrounding \"application\" (written in Python, Java, C#, etc.) to handle these things. This can be become impractical as the numbers of users becomes large.\n",
        "4.  **Replication and High Availability**: As your application becomes mission-critical, you may need to ensure high availability and minimize downtime. PostgreSQL offers built-in replication features, such as streaming replication and logical replication, which allow you to create standby servers and distribute the workload. SQLite, being a serverless database, does not have built-in replication capabilities.\n",
        "5. **Available Resources.** Postgres requires more physical resources (processing power, disk space) and human resources (e.g., a trained database administrator) than SQLite. SQLite's dynamic typing can make database development and deployment quicker than Postgres's strict typing. (In fact, SQLite is often used to develop protoype databases, which can then be \"scaled up\" to Postgres or a similar RDBMS).\n",
        "\n",
        "While SQLite is a great choice for small to medium-sized applications, embedded systems, or local data storage, it may not be suitable for large-scale, high-concurrency, or mission-critical applications. In these cases, PostgreSQL's robustness, scalability, and advanced features make it the better choice.\n",
        "\n",
        "For example, a large institution like a university or a financial organization would likely choose PostgreSQL over SQLite due to its ability to handle large amounts of data, support multiple concurrent users, and provide advanced features necessary for complex data management tasks."
      ],
      "metadata": {
        "id": "lKy_pawl8ql_"
      }
    },
    {
      "cell_type": "code",
      "source": [],
      "metadata": {
        "id": "fZ6ZA4qsBYLP"
      },
      "execution_count": null,
      "outputs": []
    },
    {
      "cell_type": "markdown",
      "source": [
        "## Data Types in Postgres\n",
        "\n",
        "PostgreSQL offers a rich set of data types, including several that are not available in SQLite. These data types allow you to store and manipulate data more efficiently and with greater precision. Let's explore some of the key data types in PostgreSQL.\n",
        "\n",
        "| Data Type Category | Examples | Description |\n",
        "| --- | --- | --- |\n",
        "| Numeric Types | `INTEGER`, `BIGINT`, `SMALLINT`, `DECIMAL`, `NUMERIC`, `REAL`, `DOUBLE PRECISION`, `SERIAL`, `BIGSERIAL` | Whole numbers, fixed-point numbers, floating-point numbers, and auto-incrementing integers. |\n",
        "| Character Types | `CHAR(n)`, `VARCHAR(n)`, `TEXT` | Fixed-length and variable-length character strings. |\n",
        "| Date/Time Types | `DATE`, `TIME`, `TIMESTAMP`, `INTERVAL` | Stores date, time, timestamp, and interval values. |\n",
        "| Boolean Type | `BOOLEAN` | Stores a logical value of either `TRUE` or `FALSE`. |\n",
        "| Enumerated Type | `ENUM` | Defines a custom data type with a static set of values. |\n",
        "| Array Type | Any data type followed by `[]` | Represents an array of elements of the same type. |\n",
        "| UUID Type | `UUID` | Stores Universally Unique Identifiers (UUIDs). |\n",
        "| JSON and JSONB Types | `JSON`, `JSONB` | Stores JSON data as text or in a binary format. |\n",
        "| Hstore Type | `HSTORE` | Represents a key-value pair data type. |\n",
        "| Range Types | `INT4RANGE`, `TSRANGE`, `DATERANGE`, etc. | Represent a range of values, such as integers, timestamps, or dates. |\n",
        "\n",
        "Here are a few examples to illustrate the usage of some of these data types:\n",
        "\n",
        "1.  Enumerated Type:\n",
        "\n",
        "```sql\n",
        "CREATE TYPE mood AS ENUM ('sad', 'ok', 'happy');\n",
        "```\n",
        "\n",
        "2.  Array Type:\n",
        "\n",
        "```sql\n",
        "CREATE TABLE scores (\n",
        "      id SERIAL PRIMARY KEY,\n",
        "      student_id INTEGER,\n",
        "      grades INTEGER[]\n",
        "    );\n",
        "```\n",
        "\n",
        "When choosing data types for your database schema, consider factors such as data integrity, storage efficiency, and the nature of the data being stored. PostgreSQL's wide range of data types gives you flexibility and power in designing your database schema.\n",
        "\n",
        "It's worth noting that while SQLite also supports many of these data types, such as numeric, character, and date/time types, it lacks some of the more advanced types like arrays, UUIDs, and range types. PostgreSQL's extensive set of data types is one of the factors that make it a more versatile and feature-rich database system."
      ],
      "metadata": {
        "id": "odw3N2TqADxz"
      }
    },
    {
      "cell_type": "code",
      "execution_count": 1,
      "metadata": {
        "colab": {
          "base_uri": "https://localhost:8080/"
        },
        "id": "0lA6gmIbyY1I",
        "outputId": "2cd905eb-1d87-46a7-f023-e3555948005d"
      },
      "outputs": [
        {
          "output_type": "stream",
          "name": "stdout",
          "text": [
            " * Starting PostgreSQL 14 database server\n",
            "   ...done.\n",
            "CREATE ROLE\n"
          ]
        }
      ],
      "source": [
        "# Insteall postgres\n",
        "!apt install postgresql postgresql-contrib &>log\n",
        "!service postgresql start\n",
        "!sudo -u postgres psql -c \"CREATE USER root WITH SUPERUSER\"\n",
        "# set connection\n",
        "%load_ext sql\n",
        "%sql postgresql+psycopg2://@/postgres"
      ]
    },
    {
      "cell_type": "markdown",
      "source": [],
      "metadata": {
        "id": "2ZmPF5Xx8pN-"
      }
    },
    {
      "cell_type": "markdown",
      "source": [
        "## Overview of the Pokemon Clinic Database:\n",
        "\n",
        "To demonstrate the power of Postgres, we'll be creating a The Pokemon Clinic database consists of three main tables: `trainers`, `pokemon`, and `medical_records`. These tables are designed to store information about Pokemon trainers, their Pokemon, and the medical records associated with each Pokemon."
      ],
      "metadata": {
        "id": "2L4rRpqF56h_"
      }
    },
    {
      "cell_type": "code",
      "source": [
        "%%sql\n",
        "-- Create the trainers table\n",
        "DROP TABLE IF EXISTS trainers CASCADE;\n",
        "DROP TABLE IF EXISTS pokemon CASCADE;\n",
        "DROP TABLE IF EXISTS medical_records;\n",
        "\n",
        "-- Create the trainers table\n",
        "CREATE TABLE trainers (\n",
        "  id SERIAL PRIMARY KEY,\n",
        "  name VARCHAR(100) NOT NULL,\n",
        "  email VARCHAR(100) UNIQUE NOT NULL,\n",
        "  password_hash VARCHAR(100) NOT NULL,\n",
        "  phone VARCHAR(20),\n",
        "  date_of_birth DATE,\n",
        "  CHECK (date_of_birth < CURRENT_DATE)\n",
        ");\n",
        "\n",
        "-- Create the pokemon table\n",
        "CREATE TABLE pokemon (\n",
        "  id SERIAL PRIMARY KEY,\n",
        "  name VARCHAR(50) NOT NULL,\n",
        "  species VARCHAR(50) NOT NULL,\n",
        "  trainer_id INTEGER REFERENCES trainers(id),\n",
        "  level INTEGER CHECK (level BETWEEN 1 AND 100),\n",
        "  health_status VARCHAR(20),\n",
        "  abilities TEXT[]\n",
        ");\n",
        "\n",
        "-- Create the medical_records table\n",
        "CREATE TABLE medical_records (\n",
        "  id SERIAL PRIMARY KEY,\n",
        "  pokemon_id INTEGER REFERENCES pokemon(id),\n",
        "  visit_date TIMESTAMP DEFAULT CURRENT_TIMESTAMP,\n",
        "  diagnosis TEXT,\n",
        "  treatment TEXT,\n",
        "  cost NUMERIC(8, 2)\n",
        ");"
      ],
      "metadata": {
        "colab": {
          "base_uri": "https://localhost:8080/"
        },
        "id": "mRFjaDj33GoT",
        "outputId": "c3134fd8-34ca-4681-e989-20c8710a3239"
      },
      "execution_count": 2,
      "outputs": [
        {
          "output_type": "stream",
          "name": "stdout",
          "text": [
            " * postgresql+psycopg2://@/postgres\n",
            "Done.\n",
            "Done.\n",
            "Done.\n",
            "Done.\n",
            "Done.\n",
            "Done.\n"
          ]
        },
        {
          "output_type": "execute_result",
          "data": {
            "text/plain": [
              "[]"
            ]
          },
          "metadata": {},
          "execution_count": 2
        }
      ]
    },
    {
      "cell_type": "markdown",
      "source": [
        "While much of this statement should be familiar, you might notice a few new things, as well.\n",
        "\n",
        "The `trainers` table stores information about Pokemon trainers.\n",
        "  -   It includes columns for the trainer's ID (auto-generated), name, email (unique), hashed password, phone number, and date of birth.\n",
        "  -   The `date_of_birth` column has a CHECK constraint that ensures the value is always less than the current date. This constraint uses the `CURRENT_DATE` function, which is specific to PostgreSQL and not available in SQLite.\n",
        "  -   The `email` column has a UNIQUE constraint to ensure that each email address is associated with only one trainer.\n",
        "\n",
        "The pokemon` table stores information about individual Pokemon.\n",
        "  -   It includes columns for the Pokemon's ID (auto-generated), name, species, trainer ID (foreign key referencing the `trainers` table), level, health status, and abilities.\n",
        "   -   The `level` column has a CHECK constraint that ensures the value is between 1 and 100.\n",
        "  -   The `abilities` column is of type TEXT[] (array), which allows storing multiple abilities for each Pokemon. Arrays are a feature specific to PostgreSQL and not available in SQLite.\n",
        "\n",
        "The `medical_records` table stores information about medical visits and treatments for each Pokemon.\n",
        "  -   It includes columns for the medical record ID (auto-generated), Pokemon ID (foreign key referencing the `pokemon` table), visit date, diagnosis, treatment, and cost.\n",
        "  -   The `visit_date` column has a DEFAULT value of `CURRENT_TIMESTAMP`, which automatically sets the value to the current timestamp if no value is provided during insertion. This is a PostgreSQL-specific feature.\n",
        "  -   The `cost` column is of type NUMERIC(8, 2), which allows storing monetary values with a precision of 8 digits and 2 decimal places. The NUMERIC type provides more precise decimal calculations compared to SQLite's REAL type.\n",
        "\n",
        "### Test Data for Pokemon Clinic\n",
        "Now, let's insert some test data for our Pokemon Clinic"
      ],
      "metadata": {
        "id": "04G8cYtx6R_u"
      }
    },
    {
      "cell_type": "code",
      "source": [
        "%%sql\n",
        "CREATE EXTENSION IF NOT EXISTS pgcrypto;\n",
        "-- Insert sample data into the trainers table\n",
        "INSERT INTO trainers (name, email, password_hash, phone, date_of_birth)\n",
        "VALUES\n",
        "  ('Ash Ketchum', 'ash@example.com', crypt('bad_password', gen_salt('bf')), '123-456-7890', '1990-05-22'),\n",
        "  ('Misty', 'misty@example.com', crypt('long_password_with_symbols_23423odsgv*732x', gen_salt('bf')), '987-654-3210', '1991-07-19');\n",
        "\n",
        "-- Insert sample data into the pokemon table\n",
        "INSERT INTO pokemon (name, species, trainer_id, level, health_status, abilities)\n",
        "VALUES\n",
        "  ('Pikachu', 'Pikachu', 1, 25, 'Healthy', ARRAY['Static', 'Lightning Rod']),\n",
        "  ('Charizard', 'Charizard', 1, 65, 'Healthy', ARRAY['Blaze']),\n",
        "  ('Staryu', 'Staryu', 2, 30, 'Injured', ARRAY['Natural Cure', 'Illuminate']);\n",
        "\n",
        "-- Insert sample data into the medical_records table\n",
        "INSERT INTO medical_records (pokemon_id, diagnosis, treatment, cost)\n",
        "VALUES\n",
        "  (3, 'Minor abrasions', 'Applied healing salve', 50.00),\n",
        "  (1, 'Regular check-up', 'None', 0.00);"
      ],
      "metadata": {
        "colab": {
          "base_uri": "https://localhost:8080/"
        },
        "id": "6ZEymZFi3T_e",
        "outputId": "a1249179-e359-4b60-860f-ca7489c72732"
      },
      "execution_count": 3,
      "outputs": [
        {
          "output_type": "stream",
          "name": "stdout",
          "text": [
            " * postgresql+psycopg2://@/postgres\n",
            "Done.\n",
            "2 rows affected.\n",
            "3 rows affected.\n",
            "2 rows affected.\n"
          ]
        },
        {
          "output_type": "execute_result",
          "data": {
            "text/plain": [
              "[]"
            ]
          },
          "metadata": {},
          "execution_count": 3
        }
      ]
    },
    {
      "cell_type": "markdown",
      "source": [
        "### `Trainers` Table: What is a Password \"Hash\"?\n",
        "Again, much of the above `INSERT` statement should be familar. However, if you look closely at the ways the trainer's passwords are handled, you'll notice something a bit different.\n",
        "\n",
        "- The `password_hash` column stores the hashed version of the trainer's password. **Hashing** is a one-way process that converts the plain-text password into a fixed-size string of characters. The resulting hash is irreversible, meaning it is computationally infeasible to obtain the original password from the hash.\n",
        "- In this example, the `crypt` function is used along with the `gen_salt` function to hash the passwords. The `crypt` function applies a cryptographic hash function to the password, and the `gen_salt` function generates a random salt value using the Blowfish ('bf') algorithm. The salt is appended to the password before hashing, making it more resistant to rainbow table attacks and increasing the security of stored passwords.\n",
        "- Storing hashed passwords instead of plain-text passwords is crucial for security. If the database is compromised, attackers would only have access to the hashed passwords, making it extremely difficult for them to retrieve the original passwords.\n",
        "\n",
        "It's important to note that while the example uses the `crypt` function for simplicity, in a production environment, it's recommended to use more secure and modern hashing algorithms specifically designed for password hashing, such as bcrypt, scrypt, or PBKDF2, which provide better protection against various types of attacks.\n",
        "\n",
        "We see what this hash looks like:"
      ],
      "metadata": {
        "id": "svKI36dr7Ynd"
      }
    },
    {
      "cell_type": "code",
      "source": [
        "%%sql\n",
        "SELECT * FROM trainers;"
      ],
      "metadata": {
        "colab": {
          "base_uri": "https://localhost:8080/",
          "height": 116
        },
        "id": "Af2DTeYI7_zd",
        "outputId": "6647a7d0-66ed-44a0-f0c9-2fe79c2a6064"
      },
      "execution_count": 4,
      "outputs": [
        {
          "output_type": "stream",
          "name": "stdout",
          "text": [
            " * postgresql+psycopg2://@/postgres\n",
            "2 rows affected.\n"
          ]
        },
        {
          "output_type": "execute_result",
          "data": {
            "text/plain": [
              "[(1, 'Ash Ketchum', 'ash@example.com', '$2a$06$tW1aWoHy4VjdtyfU.An/4.jw/YFAT/DHGacZcNsWTkM0C9nBOeOuG', '123-456-7890', datetime.date(1990, 5, 22)),\n",
              " (2, 'Misty', 'misty@example.com', '$2a$06$lGSHZvctjhuiTptaF1EHWOYm9JARWEp.BIHWh7s6oFagXMsvmvcta', '987-654-3210', datetime.date(1991, 7, 19))]"
            ],
            "text/html": [
              "<table>\n",
              "    <thead>\n",
              "        <tr>\n",
              "            <th>id</th>\n",
              "            <th>name</th>\n",
              "            <th>email</th>\n",
              "            <th>password_hash</th>\n",
              "            <th>phone</th>\n",
              "            <th>date_of_birth</th>\n",
              "        </tr>\n",
              "    </thead>\n",
              "    <tbody>\n",
              "        <tr>\n",
              "            <td>1</td>\n",
              "            <td>Ash Ketchum</td>\n",
              "            <td>ash@example.com</td>\n",
              "            <td>$2a$06$tW1aWoHy4VjdtyfU.An/4.jw/YFAT/DHGacZcNsWTkM0C9nBOeOuG</td>\n",
              "            <td>123-456-7890</td>\n",
              "            <td>1990-05-22</td>\n",
              "        </tr>\n",
              "        <tr>\n",
              "            <td>2</td>\n",
              "            <td>Misty</td>\n",
              "            <td>misty@example.com</td>\n",
              "            <td>$2a$06$lGSHZvctjhuiTptaF1EHWOYm9JARWEp.BIHWh7s6oFagXMsvmvcta</td>\n",
              "            <td>987-654-3210</td>\n",
              "            <td>1991-07-19</td>\n",
              "        </tr>\n",
              "    </tbody>\n",
              "</table>"
            ]
          },
          "metadata": {},
          "execution_count": 4
        }
      ]
    },
    {
      "cell_type": "markdown",
      "source": [
        "If you look closely, you'll notice that the **password hash** is ALWAYS the exact same length, regardless of the initial length of the password. So, for example, if take two passwords, one of which is \"123\", and the other of which is the text of my favorite novel (300 pages--also a bad password, though for different reasons!), they will oth generate a \"hash\" of the exact same length.\n",
        "\n",
        "The basic idea is this:\n",
        "1. When the user first creates their password, we \"hash\" the password and store that hash (not the password) in the database.\n",
        "2. WHen the user logs in again and enters their password again, we again \"hash\" whatever they entered, and compare this to our database. If it matches, we let them in!\n",
        "3. The advantage of this is that if someone manages to break into our database and access the password hash, they won't be able to recover the user's password. This is because hashing is a **one-way** function. If you know the password, you can get the hash, but knowing the hash does NOT allow you to compute the password.\n",
        "\n"
      ],
      "metadata": {
        "id": "dpKhDaQNB2aG"
      }
    },
    {
      "cell_type": "markdown",
      "source": [
        "### Postgres Arrays in the `Pokemon` Table\n",
        "\n",
        "Let's now take a look at the `pokemon` table, which has an array."
      ],
      "metadata": {
        "id": "78y1dAs0aRRP"
      }
    },
    {
      "cell_type": "code",
      "source": [
        "%%sql\n",
        "SELECT * FROM pokemon;"
      ],
      "metadata": {
        "colab": {
          "base_uri": "https://localhost:8080/",
          "height": 137
        },
        "id": "AGq6EnGaBzlN",
        "outputId": "db1c3e6b-2869-4b5e-fb79-78f13a5c9a5b"
      },
      "execution_count": 5,
      "outputs": [
        {
          "output_type": "stream",
          "name": "stdout",
          "text": [
            " * postgresql+psycopg2://@/postgres\n",
            "3 rows affected.\n"
          ]
        },
        {
          "output_type": "execute_result",
          "data": {
            "text/plain": [
              "[(1, 'Pikachu', 'Pikachu', 1, 25, 'Healthy', ['Static', 'Lightning Rod']),\n",
              " (2, 'Charizard', 'Charizard', 1, 65, 'Healthy', ['Blaze']),\n",
              " (3, 'Staryu', 'Staryu', 2, 30, 'Injured', ['Natural Cure', 'Illuminate'])]"
            ],
            "text/html": [
              "<table>\n",
              "    <thead>\n",
              "        <tr>\n",
              "            <th>id</th>\n",
              "            <th>name</th>\n",
              "            <th>species</th>\n",
              "            <th>trainer_id</th>\n",
              "            <th>level</th>\n",
              "            <th>health_status</th>\n",
              "            <th>abilities</th>\n",
              "        </tr>\n",
              "    </thead>\n",
              "    <tbody>\n",
              "        <tr>\n",
              "            <td>1</td>\n",
              "            <td>Pikachu</td>\n",
              "            <td>Pikachu</td>\n",
              "            <td>1</td>\n",
              "            <td>25</td>\n",
              "            <td>Healthy</td>\n",
              "            <td>[&#x27;Static&#x27;, &#x27;Lightning Rod&#x27;]</td>\n",
              "        </tr>\n",
              "        <tr>\n",
              "            <td>2</td>\n",
              "            <td>Charizard</td>\n",
              "            <td>Charizard</td>\n",
              "            <td>1</td>\n",
              "            <td>65</td>\n",
              "            <td>Healthy</td>\n",
              "            <td>[&#x27;Blaze&#x27;]</td>\n",
              "        </tr>\n",
              "        <tr>\n",
              "            <td>3</td>\n",
              "            <td>Staryu</td>\n",
              "            <td>Staryu</td>\n",
              "            <td>2</td>\n",
              "            <td>30</td>\n",
              "            <td>Injured</td>\n",
              "            <td>[&#x27;Natural Cure&#x27;, &#x27;Illuminate&#x27;]</td>\n",
              "        </tr>\n",
              "    </tbody>\n",
              "</table>"
            ]
          },
          "metadata": {},
          "execution_count": 5
        }
      ]
    },
    {
      "cell_type": "markdown",
      "source": [
        "Here, you'll notice there is an array of abilities. We can access this as follows:"
      ],
      "metadata": {
        "id": "6-JNh1eIZzfj"
      }
    },
    {
      "cell_type": "code",
      "source": [
        "%%sql\n",
        "SELECT\n",
        "  name,\n",
        "  abilities[1] as first_ability,\n",
        "  abilities[2] as second_ability,\n",
        "  abilities[3] as third_ability\n",
        "FROM pokemon;"
      ],
      "metadata": {
        "colab": {
          "base_uri": "https://localhost:8080/",
          "height": 137
        },
        "id": "4EnPBdFLZ4ol",
        "outputId": "bf0372ec-f24c-41ec-9bea-0adff701c40c"
      },
      "execution_count": 15,
      "outputs": [
        {
          "output_type": "stream",
          "name": "stdout",
          "text": [
            " * postgresql+psycopg2://@/postgres\n",
            "3 rows affected.\n"
          ]
        },
        {
          "output_type": "execute_result",
          "data": {
            "text/plain": [
              "[('Pikachu', 'Static', 'Lightning Rod', None),\n",
              " ('Charizard', 'Blaze', None, None),\n",
              " ('Staryu', 'Natural Cure', 'Illuminate', None)]"
            ],
            "text/html": [
              "<table>\n",
              "    <thead>\n",
              "        <tr>\n",
              "            <th>name</th>\n",
              "            <th>first_ability</th>\n",
              "            <th>second_ability</th>\n",
              "            <th>third_ability</th>\n",
              "        </tr>\n",
              "    </thead>\n",
              "    <tbody>\n",
              "        <tr>\n",
              "            <td>Pikachu</td>\n",
              "            <td>Static</td>\n",
              "            <td>Lightning Rod</td>\n",
              "            <td>None</td>\n",
              "        </tr>\n",
              "        <tr>\n",
              "            <td>Charizard</td>\n",
              "            <td>Blaze</td>\n",
              "            <td>None</td>\n",
              "            <td>None</td>\n",
              "        </tr>\n",
              "        <tr>\n",
              "            <td>Staryu</td>\n",
              "            <td>Natural Cure</td>\n",
              "            <td>Illuminate</td>\n",
              "            <td>None</td>\n",
              "        </tr>\n",
              "    </tbody>\n",
              "</table>"
            ]
          },
          "metadata": {},
          "execution_count": 15
        }
      ]
    },
    {
      "cell_type": "markdown",
      "source": [
        "THe attempt to access the third ability fails (since the Pokemon don't have one!). However, it doesn't crash the database--it just returns `None`."
      ],
      "metadata": {
        "id": "8g-00hLGaWTX"
      }
    },
    {
      "cell_type": "markdown",
      "source": [
        "## A Better ALTER TABLE\n",
        "\n",
        "In PostgreSQL, the `ALTER TABLE` command is more versatile and feature-rich compared to SQLite. While SQLite supports basic table modifications, PostgreSQL offers a wide range of options to alter tables efficiently. Let's explore some of the key improvements in PostgreSQL's `ALTER TABLE` command.\n",
        "\n",
        "###  Adding Columns with Default Values\n",
        "In PostgreSQL, you can add a new column to a table and specify a default value for existing rows in a single statement. Example:"
      ],
      "metadata": {
        "id": "46KEudLnWgfz"
      }
    },
    {
      "cell_type": "code",
      "source": [
        "%%sql\n",
        "ALTER TABLE trainers ADD COLUMN created_at TIMESTAMP DEFAULT CURRENT_TIMESTAMP;"
      ],
      "metadata": {
        "colab": {
          "base_uri": "https://localhost:8080/"
        },
        "id": "eGW_eNYYWkTx",
        "outputId": "337e5c00-37f3-4755-90cd-c366659d3fd1"
      },
      "execution_count": 6,
      "outputs": [
        {
          "output_type": "stream",
          "name": "stdout",
          "text": [
            " * postgresql+psycopg2://@/postgres\n",
            "Done.\n"
          ]
        },
        {
          "output_type": "execute_result",
          "data": {
            "text/plain": [
              "[]"
            ]
          },
          "metadata": {},
          "execution_count": 6
        }
      ]
    },
    {
      "cell_type": "markdown",
      "source": [
        "This statement adds a new column named `created_at` of type `TIMESTAMP` to the `trainers` table and sets the default value to the current timestamp for existing rows.\n",
        "\n",
        "### Modifying Column Data Types\n",
        "PostgreSQL allows you to modify the data type of a column using the `ALTER TABLE` command. Example:"
      ],
      "metadata": {
        "id": "NnXCVn2QWplD"
      }
    },
    {
      "cell_type": "code",
      "source": [
        "%%sql\n",
        "ALTER TABLE trainers ALTER COLUMN phone TYPE VARCHAR(15);"
      ],
      "metadata": {
        "colab": {
          "base_uri": "https://localhost:8080/"
        },
        "id": "P2a1SyLHWw4g",
        "outputId": "a2e78ac2-34e0-4e87-c996-38fc0ee54ef3"
      },
      "execution_count": 8,
      "outputs": [
        {
          "output_type": "stream",
          "name": "stdout",
          "text": [
            " * postgresql+psycopg2://@/postgres\n",
            "Done.\n"
          ]
        },
        {
          "output_type": "execute_result",
          "data": {
            "text/plain": [
              "[]"
            ]
          },
          "metadata": {},
          "execution_count": 8
        }
      ]
    },
    {
      "cell_type": "markdown",
      "source": [
        "This statement changes the data type of the `phone` column in the `trainers` table from `VARCHAR(20)` to `VARCHAR(15)`.\n",
        "\n",
        "### Adding Constraints\n",
        "PostgreSQL enables you to add constraints to existing tables using the `ALTER TABLE` command. Example:"
      ],
      "metadata": {
        "id": "FqwQtd8OW119"
      }
    },
    {
      "cell_type": "code",
      "source": [
        "%%sql\n",
        "ALTER TABLE pokemon ADD CONSTRAINT unique_name_per_trainer UNIQUE (name, trainer_id);"
      ],
      "metadata": {
        "colab": {
          "base_uri": "https://localhost:8080/"
        },
        "id": "GQDrQl9bW-CK",
        "outputId": "ddffa2bf-4901-4583-f76b-41b2b1fd419d"
      },
      "execution_count": 9,
      "outputs": [
        {
          "output_type": "stream",
          "name": "stdout",
          "text": [
            " * postgresql+psycopg2://@/postgres\n",
            "Done.\n"
          ]
        },
        {
          "output_type": "execute_result",
          "data": {
            "text/plain": [
              "[]"
            ]
          },
          "metadata": {},
          "execution_count": 9
        }
      ]
    },
    {
      "cell_type": "markdown",
      "source": [
        "This statement adds a unique constraint named `unique_name_per_trainer` to the `pokemon` table, ensuring that the combination of `name` and `trainer_id` is unique."
      ],
      "metadata": {
        "id": "kw0OwtrWXDTa"
      }
    },
    {
      "cell_type": "markdown",
      "source": [
        "These examples demonstrate the powerful capabilities of PostgreSQL's `ALTER TABLE` command. PostgreSQL provides a rich set of options to modify table structures, add or drop constraints, change column data types, and perform various other table alterations.\n",
        "\n",
        "The flexibility and extensive features of `ALTER TABLE` in PostgreSQL allow for efficient schema modifications without the need to recreate tables from scratch. This is particularly useful in scenarios where the database schema needs to evolve over time to accommodate changing requirements.\n",
        "\n",
        "It's important to note that while SQLite does support some basic `ALTER TABLE` operations, such as renaming tables and adding columns, it lacks the extensive options and flexibility provided by PostgreSQL's `ALTER TABLE` command."
      ],
      "metadata": {
        "id": "tAzukugiYKvb"
      }
    },
    {
      "cell_type": "code",
      "source": [
        "%%sql\n",
        "CREATE USER john_doe WITH PASSWORD 'secret_password';"
      ],
      "metadata": {
        "colab": {
          "base_uri": "https://localhost:8080/"
        },
        "id": "DkVJ2SKoBCDb",
        "outputId": "e316151f-abff-4061-9ec6-d96889a68758"
      },
      "execution_count": 7,
      "outputs": [
        {
          "output_type": "stream",
          "name": "stdout",
          "text": [
            " * postgresql+psycopg2://@/postgres\n",
            "Done.\n"
          ]
        },
        {
          "output_type": "execute_result",
          "data": {
            "text/plain": [
              "[]"
            ]
          },
          "metadata": {},
          "execution_count": 7
        }
      ]
    }
  ]
}