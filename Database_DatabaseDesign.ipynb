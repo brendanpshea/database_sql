{
  "nbformat": 4,
  "nbformat_minor": 0,
  "metadata": {
    "colab": {
      "provenance": [],
      "authorship_tag": "ABX9TyNFk7QM+XV8eIpdRWVXNT+T",
      "include_colab_link": true
    },
    "kernelspec": {
      "name": "python3",
      "display_name": "Python 3"
    },
    "language_info": {
      "name": "python"
    }
  },
  "cells": [
    {
      "cell_type": "markdown",
      "metadata": {
        "id": "view-in-github",
        "colab_type": "text"
      },
      "source": [
        "<a href=\"https://colab.research.google.com/github/brendanpshea/database_sql/blob/main/Database_DatabaseDesign.ipynb\" target=\"_parent\"><img src=\"https://colab.research.google.com/assets/colab-badge.svg\" alt=\"Open In Colab\"/></a>"
      ]
    },
    {
      "cell_type": "markdown",
      "source": [
        "## What is Conceptual Modeling?\n",
        "\n",
        "Conceptual modeling is the first step in designing a database. It involves understanding the data requirements without focusing on technical details. Think of it as sketching a rough draft before creating a detailed blueprint. This process helps us determine what data needs to be stored and how it should be organized to reflect real-world scenarios accurately.\n",
        "\n",
        "### Determining Business Rules\n",
        "\n",
        "**Business rules** are the guidelines that define how data can be created, stored, and modified within the database. They ensure that the data accurately represents the business operations. In Wednesday Addams' Web Shop, several business rules need to be established to ensure the database supports the shop's operations effectively.\n",
        "\n",
        "#### Examples of Business Rules\n",
        "\n",
        "1.  Each order must be linked to a specific customer. This means that every time an order is created, it must reference an existing customer in the database.\n",
        "\n",
        "2. Each product should have a stock count that decreases with each sale. This ensures that the database keeps track of inventory accurately.\n",
        "\n",
        "3.  Each customer must have a unique email address to prevent duplicate accounts and ensure efficient communication.\n",
        "\n",
        "4.  Orders should have a status (e.g., pending, shipped, delivered) to track their progress through the system.\n",
        "\n",
        "These business rules help us understand the structure and constraints needed for the database.\n",
        "\n",
        "### Identifying Entities and Attributes\n",
        "\n",
        "The next step in conceptual modeling is identifying the entities and their attributes. An entity is a distinct object or thing in the system, and an attribute is a property or characteristic of an entity.\n",
        "\n",
        "#### Example Entities and Attributes for Wednesday's Web Shop\n",
        "\n",
        "1.  Customer\n",
        "\n",
        "    -   Attributes:\n",
        "        -   `CustomerID`: A unique identifier for each customer.\n",
        "        -   `Name`: The full name of the customer.\n",
        "        -   `Email`: The email address of the customer (must be unique).\n",
        "        -   `Address`: The postal address of the customer.\n",
        "        -   `PhoneNumber`: The contact number of the customer.\n",
        "    -   Business Rule: Each customer must have a unique `Email`.\n",
        "2.  Order\n",
        "\n",
        "    -   Attributes:\n",
        "        -   `OrderID`: A unique identifier for each order.\n",
        "        -   `OrderDate`: The date the order was placed.\n",
        "        -   `CustomerID`: A reference to the customer who placed the order.\n",
        "        -   `TotalAmount`: The total cost of the order.\n",
        "        -   `Status`: The current status of the order (e.g., pending, shipped, delivered).\n",
        "    -   Business Rule: Each order must be linked to a valid `CustomerID`.\n",
        "3.  Product\n",
        "\n",
        "    -   Attributes:\n",
        "        -   `ProductID`: A unique identifier for each product.\n",
        "        -   `ProductName`: The name of the product.\n",
        "        -   `Description`: A brief description of the product.\n",
        "        -   `Price`: The cost of the product.\n",
        "        -   `StockCount`: The number of units available in stock.\n",
        "    -   Business Rule: `StockCount` must be updated with each sale."
      ],
      "metadata": {
        "id": "zrE3Qt8rLbgR"
      }
    },
    {
      "cell_type": "markdown",
      "source": [
        "### Relationships\n",
        "\n",
        "Once we've identified the entities, we need to determine how they relate to each other. Relationships help us understand how data is connected within the database.\n",
        "\n",
        "First, we need to consider relationship **cardinality**, which concerns the number of entities of one type that can be in that particular relationship with the other type.\n",
        "\n",
        "1.   In a **one-to-one relationship**, a single instance of one entity is associated with a single instance of another entity. For example, if each customer has one loyalty card, the relationship between `Customer` and `LoyaltyCard` would be one-to-one.\n",
        "2.  In a **one-to-many relationship**, a single instance of one entity is associated with multiple instances of another entity. For example, each customer can place multiple orders, but each order is placed by only one customer. Here, the relationship between `Customer` and `Order` is one-to-many.\n",
        "3.  In a **many-to-many relationship**, multiple instances of one entity are associated with multiple instances of another entity. For example, each order can contain multiple products, and each product can be part of multiple orders. This relationship cannot be directly represented in a relational database and usually requires an intermediary entity to resolve it. We'll discuss this in the next section.\n",
        "\n",
        "Along with cardinality, we must consider **optionality**. Here:\n",
        "\n",
        "1. In an **optional relationship**, an entity can exist without being associated with another entity. For example, a student may not be enrolled in any courses yet, but they still exist in the system. Optional relationships are depicted with an open circle or using the notation `|o`-- for one-to-many optional relationships.\n",
        "\n",
        "2. In a **mandatory relationship** An entity must be associated with another entity. For example, each order must be associated with at least one customer. Mandatory relationships are depicted with a solid line or using the notation `||`-- for one-to-many mandatory relationships."
      ],
      "metadata": {
        "id": "ZZasYSVcLh0D"
      }
    },
    {
      "cell_type": "markdown",
      "source": [
        "### Creating an Initial List of Entities and Attributes\n",
        "\n",
        "Based on the business rules and identified entities, let's create an initial list of entities and their attributes for Wednesday's Web Shop:\n",
        "\n",
        "1.  Customer:\n",
        "\n",
        "    -   `CustomerID`: A unique identifier for each customer.\n",
        "    -   `Name`: The full name of the customer.\n",
        "    -   `Email`: The email address of the customer (must be unique).\n",
        "    -   `Address`: The postal address of the customer.\n",
        "    -   `PhoneNumber`: The contact number of the customer.\n",
        "2.  Order:\n",
        "\n",
        "    -   `OrderID`: A unique identifier for each order.\n",
        "    -   `OrderDate`: The date the order was placed.\n",
        "    -   `CustomerID`: A reference to the customer who placed the order.\n",
        "    -   `TotalAmount`: The total cost of the order.\n",
        "    -   `Status`: The current status of the order (e.g., pending, shipped, delivered).\n",
        "3.  Product:\n",
        "\n",
        "    -   `ProductID`: A unique identifier for each product.\n",
        "    -   `ProductName`: The name of the product.\n",
        "    -   `Description`: A brief description of the product.\n",
        "    -   `Price`: The cost of the product.\n",
        "    -   `StockCount`: The number of units available in stock.\n",
        "\n",
        "With these entities and attributes identified, we have a solid foundation for our database. Next, we will explore how these entities relate to each other and how to represent these relationships visually. This prepares us for the logical and physical modeling stages, where we will refine and implement our database design."
      ],
      "metadata": {
        "id": "3qNfeuQaLkrB"
      }
    },
    {
      "cell_type": "markdown",
      "source": [
        "## Creating and Interpreting ER Diagrams\n",
        "\n",
        "An **Entity-Relationship Diagram (ERD)** is a visual representation of the entities within a database and the relationships between them. ERDs help us understand the structure and flow of data, making it easier to design and implement databases. In this section, we will introduce the basics of creating and interpreting ER diagrams using Mermaid in Python.\n",
        "\n",
        "An ER diagram consists of the following components:\n",
        "\n",
        "1.  **Entities** are represented by rectangles, entities are objects or things in the system that have data stored about them. For example, `Customer`, `Order`, and `Product` are entities in Wednesday Addams' Web Shop.\n",
        "\n",
        "2.  **Attributes** are represented by ovals or listed within the entity rectangles, attributes are properties or details about the entities. For instance, a `Customer` entity might have attributes like `name`, `custNumber`, and `email`.\n",
        "\n",
        "3.  **Relationships** are represented by diamonds or lines connecting entities, relationships illustrate how entities are connected to each other. For example, a `Customer` places an `Order`, indicating a relationship between these two entities."
      ],
      "metadata": {
        "id": "v8osvNmXNB8Q"
      }
    },
    {
      "cell_type": "markdown",
      "source": [
        "### Example ER Diagram\n",
        "\n",
        "Let's consider an example ER diagram for a simple e-commerce system, including `Customer`, `Order`, and `Product` entities. We'll use **Mermaid** syntax to create this diagram.\n",
        "\n",
        "The basic rules of Mermaid (when it comes to ER diagrams) are:\n",
        "\n",
        "0. We start with the keyword `erDiagram`.\n",
        "\n",
        "1. We can define entities with their attributes like this:\n",
        "```mermaid\n",
        "ENTITY_NAME {\n",
        "    attributeType attributeName\n",
        "    attributeType attributeName\n",
        "}\n",
        "```\n",
        "2. We can connect entities with relationship lines:\n",
        "\n",
        "-   One-to-One: `||--||` (mandatory on both sides)\n",
        "-   One-to-Many: `||--o{` (mandatory on the \"one\" side, optional on the \"many\" side)\n",
        "-   Many-to-Many: `}o--o{` (optional on both sides)\n",
        "-   Optional One-to-One: `|o--||` (optional on one side, mandatory on the other)\n",
        "-   Optional One-to-Many: `|o--o{` (optional on the \"one\" side, optional on the \"many\" side)\n",
        "\n",
        "To create ER diagrams using Mermaid syntax in Python, we can use a helper function. Here's an example of how to define the function and create an ER diagram:"
      ],
      "metadata": {
        "id": "eWybZHQXNMgM"
      }
    },
    {
      "cell_type": "code",
      "source": [
        "\n",
        "\n",
        "def er_diagram(graph):\n",
        "    \"\"\" Create an ER diagram using Mermaid syntax. \"\"\"\n",
        "    import base64\n",
        "    from IPython.display import Image, display\n",
        "\n",
        "    graphbytes = graph.encode(\"utf8\")\n",
        "    base64_bytes = base64.b64encode(graphbytes)\n",
        "    base64_string = base64_bytes.decode(\"ascii\")\n",
        "    display(Image(url=\"https://mermaid.ink/img/\" + base64_string))\n",
        "\n",
        "er_diagram(\"\"\"\n",
        "erDiagram\n",
        "    CUSTOMER ||--o{ ORDER : places\n",
        "    CUSTOMER {\n",
        "        string name\n",
        "        string custNumber\n",
        "        string email\n",
        "        string address\n",
        "        string phoneNumber\n",
        "    }\n",
        "    ORDER ||--o{ PRODUCT : contains\n",
        "    ORDER {\n",
        "        int orderID\n",
        "        string orderDate\n",
        "        string status\n",
        "        float totalAmount\n",
        "    }\n",
        "    PRODUCT {\n",
        "        int productID\n",
        "        string productName\n",
        "        string description\n",
        "        float price\n",
        "        int stockCount\n",
        "    }\n",
        "\"\"\")\n"
      ],
      "metadata": {
        "colab": {
          "base_uri": "https://localhost:8080/",
          "height": 641
        },
        "id": "0n_M62QINT5O",
        "outputId": "873938f3-9170-4019-d4ff-015ddf3d8587"
      },
      "execution_count": 9,
      "outputs": [
        {
          "output_type": "display_data",
          "data": {
            "text/html": [
              "<img src=\"https://mermaid.ink/img/CmVyRGlhZ3JhbQogICAgQ1VTVE9NRVIgfHwtLW97IE9SREVSIDogcGxhY2VzCiAgICBDVVNUT01FUiB7CiAgICAgICAgc3RyaW5nIG5hbWUKICAgICAgICBzdHJpbmcgY3VzdE51bWJlcgogICAgICAgIHN0cmluZyBlbWFpbAogICAgICAgIHN0cmluZyBhZGRyZXNzCiAgICAgICAgc3RyaW5nIHBob25lTnVtYmVyCiAgICB9CiAgICBPUkRFUiB8fC0tb3sgUFJPRFVDVCA6IGNvbnRhaW5zCiAgICBPUkRFUiB7CiAgICAgICAgaW50IG9yZGVySUQKICAgICAgICBzdHJpbmcgb3JkZXJEYXRlCiAgICAgICAgc3RyaW5nIHN0YXR1cwogICAgICAgIGZsb2F0IHRvdGFsQW1vdW50CiAgICB9CiAgICBQUk9EVUNUIHsKICAgICAgICBpbnQgcHJvZHVjdElECiAgICAgICAgc3RyaW5nIHByb2R1Y3ROYW1lCiAgICAgICAgc3RyaW5nIGRlc2NyaXB0aW9uCiAgICAgICAgZmxvYXQgcHJpY2UKICAgICAgICBpbnQgc3RvY2tDb3VudAogICAgfQo=\"/>"
            ],
            "text/plain": [
              "<IPython.core.display.Image object>"
            ]
          },
          "metadata": {}
        }
      ]
    },
    {
      "cell_type": "markdown",
      "source": [
        "Here's how to read this diagram:\n",
        "-   In an ER diagram, entities are represented by rectangles. Inside each rectangle, you will find the attributes of the entity, listed as lines within the rectangle. For example, the `CUSTOMER` entity includes attributes like `name`, `custNumber`, `email`, `address`, and `phoneNumber`.\n",
        "\n",
        "-   Relationships between entities are shown by lines connecting the rectangles. Each relationship has a name that describes the nature of the relationship. For instance, the line labeled \"places\" connects `CUSTOMER` to `ORDER`, indicating that customers place orders.\n",
        "\n",
        "-  Cardinality describes the numerical relationship between entities. It is depicted using symbols at the ends of the relationship lines. A `crow's foot` (three branching lines) represents \"many,\" indicating that one instance of an entity can be related to many instances of another entity. For example, the `crow's foot` on the `ORDER` side of the \"places\" relationship shows that one customer can place many orders.\n",
        "\n",
        "-    Optionality indicates whether the relationship is mandatory or optional. A small circle (or the absence of a circle) at the end of a relationship line denotes optionality. If there is no circle, it means the relationship is mandatory from the entity with the `crow's foot`. For example, in the \"places\" relationship, the absence of a circle on the `CUSTOMER` side means that each order must be placed by a customer, making it a mandatory relationship from the order's perspective.\n",
        "\n",
        "For instance, in our diagram:\n",
        "\n",
        "    -   A `CUSTOMER` can place many `ORDER`s (one-to-many).\n",
        "    -   Each `ORDER` must belong to a `CUSTOMER` (mandatory).\n",
        "    -   An `ORDER` can contain many `PRODUCT`s (one-to-many).\n",
        "    -   Each `PRODUCT` must be part of an `ORDER` (mandatory).\n",
        "\n",
        "Understanding these symbols and their meanings will help you accurately interpret the relationships and constraints within an ER diagram."
      ],
      "metadata": {
        "id": "BMb3tWTfNqvP"
      }
    },
    {
      "cell_type": "markdown",
      "source": [
        "### An E-R Diagram: Wednesday Goes to School\n",
        "For a more complex E-R diagram, let's take a look at the database for Wednesday's school."
      ],
      "metadata": {
        "id": "IgCkYGb5OCAM"
      }
    },
    {
      "cell_type": "code",
      "source": [
        "er_diagram(\"\"\"\n",
        "erDiagram\n",
        "    STUDENT ||--o{ ENROLLMENT : enrolls_in\n",
        "    STUDENT ||--|| ADVISOR : assigned_to\n",
        "    STUDENT {\n",
        "        int StudentID\n",
        "        string Name\n",
        "        string Email\n",
        "        string Major\n",
        "        string Year\n",
        "    }\n",
        "    ENROLLMENT {\n",
        "        int EnrollmentID\n",
        "        int StudentID\n",
        "        int CourseID\n",
        "        string EnrollmentDate\n",
        "        string Grade\n",
        "    }\n",
        "    COURSE ||--o{ ENROLLMENT : includes\n",
        "    COURSE {\n",
        "        int CourseID\n",
        "        string CourseName\n",
        "        int Credits\n",
        "        string Department\n",
        "    }\n",
        "    ADVISOR {\n",
        "        int AdvisorID\n",
        "        string Name\n",
        "        string Email\n",
        "    }\n",
        "\"\"\")"
      ],
      "metadata": {
        "colab": {
          "base_uri": "https://localhost:8080/",
          "height": 429
        },
        "id": "wdG6ZusxOCmT",
        "outputId": "67c5ed41-90f3-4092-c4b9-202f010ceac2"
      },
      "execution_count": 10,
      "outputs": [
        {
          "output_type": "display_data",
          "data": {
            "text/html": [
              "<img src=\"https://mermaid.ink/img/CmVyRGlhZ3JhbQogICAgU1RVREVOVCB8fC0tb3sgRU5ST0xMTUVOVCA6IGVucm9sbHNfaW4KICAgIFNUVURFTlQgfHwtLXx8IEFEVklTT1IgOiBhc3NpZ25lZF90bwogICAgU1RVREVOVCB7CiAgICAgICAgaW50IFN0dWRlbnRJRAogICAgICAgIHN0cmluZyBOYW1lCiAgICAgICAgc3RyaW5nIEVtYWlsCiAgICAgICAgc3RyaW5nIE1ham9yCiAgICAgICAgc3RyaW5nIFllYXIKICAgIH0KICAgIEVOUk9MTE1FTlQgewogICAgICAgIGludCBFbnJvbGxtZW50SUQKICAgICAgICBpbnQgU3R1ZGVudElECiAgICAgICAgaW50IENvdXJzZUlECiAgICAgICAgc3RyaW5nIEVucm9sbG1lbnREYXRlCiAgICAgICAgc3RyaW5nIEdyYWRlCiAgICB9CiAgICBDT1VSU0UgfHwtLW97IEVOUk9MTE1FTlQgOiBpbmNsdWRlcwogICAgQ09VUlNFIHsKICAgICAgICBpbnQgQ291cnNlSUQKICAgICAgICBzdHJpbmcgQ291cnNlTmFtZQogICAgICAgIGludCBDcmVkaXRzCiAgICAgICAgc3RyaW5nIERlcGFydG1lbnQKICAgIH0KICAgIEFEVklTT1IgewogICAgICAgIGludCBBZHZpc29ySUQKICAgICAgICBzdHJpbmcgTmFtZQogICAgICAgIHN0cmluZyBFbWFpbAogICAgfQo=\"/>"
            ],
            "text/plain": [
              "<IPython.core.display.Image object>"
            ]
          },
          "metadata": {}
        }
      ]
    },
    {
      "cell_type": "markdown",
      "source": [
        "Here, we see the following:\n",
        "\n",
        "-   STUDENT enrolls in many `ENROLLMENT`s (one-to-many, optional for students).\n",
        "-   COURSE includes many `ENROLLMENT`s (one-to-many, optional for courses).\n",
        "-   ENROLLMENT has attributes linking it to both `STUDENT` and `COURSE`.\n",
        "-   STUDENT is assigned to one `ADVISOR`, and each `ADVISOR` oversees one `STUDENT` (one-to-one, mandatory)."
      ],
      "metadata": {
        "id": "x8P5mRmbS-Dv"
      }
    },
    {
      "cell_type": "markdown",
      "source": [
        "## ANSI-standard SQL Datatypes\n",
        "ANSI-standard SQL refers to the standardized version of SQL (Structured Query Language) that is defined by the American National Standards Institute (ANSI). This standardization ensures that SQL implementations across different database management systems (DBMS) follow a consistent set of rules and syntax, making SQL code more portable and interoperable across systems.\n",
        "\n",
        "\n",
        "The following table outlines common datatypes defined in the ANSI SQL standard along with their descriptions:\n",
        "\n",
        "| ANSI Datatype | Description | SQLite Affinity |\n",
        "| --- | --- | --- |\n",
        "| CHAR(n) | Fixed-length character string. `n` specifies the length. | TEXT |\n",
        "| VARCHAR(n) | Variable-length character string. `n` specifies the maximum length. | TEXT |\n",
        "| TEXT | Large variable-length character string. | TEXT |\n",
        "| INT | Integer number. | INTEGER |\n",
        "| SMALLINT | Small integer number. | INTEGER |\n",
        "| BIGINT | Large integer number. | INTEGER |\n",
        "| FLOAT | Floating-point number. | REAL |\n",
        "| DOUBLE | Double-precision floating-point number. | REAL |\n",
        "| DECIMAL(p,s) | Fixed-point number. `p` specifies precision (total digits), and `s` specifies scale (digits after the decimal). | NUMERIC |\n",
        "| NUMERIC(p,s) | Similar to `DECIMAL` but used for arithmetic calculations requiring exact precision. | NUMERIC |\n",
        "| DATE | Calendar date (year, month, day). | Varies |\n",
        "| TIME | Time of day (hour, minute, second). | Varies |\n",
        "| TIMESTAMP | Combination of `DATE` and `TIME`. | Varies |\n",
        "| BOOLEAN | Logical TRUE or FALSE value. | NUMERIC |\n",
        "| BLOB | Binary large object, used to store binary data. | BLOB |\n",
        "\n",
        "\n",
        "### SQLite and \"Type Affinities\"\n",
        "Unlike many SQL databases that enforce strict datatype constraints, SQLite uses a concept called **type affinity**. This means that while a column can have a ASNI-standard datatype declared, SQLite is flexible in terms of what it accepts for storage. For instance, you can store a string in a column declared as INTEGER.\n",
        "\n",
        "Underneath the hood, SQLite stores all data (regardless of datatype) in one of five **storage classes**:\n",
        "\n",
        "-   NULL: The value is a NULL value.\n",
        "-   INTEGER: The value is a signed integer.\n",
        "-   REAL: The value is a floating-point number.\n",
        "-   TEXT: The value is a text string, stored using the database encoding (UTF-8, UTF-16BE, or UTF-16LE).\n",
        "-   BLOB: The value is a blob of data, stored exactly as it was input.\n",
        "\n",
        "Enterprise-scale RDBMs (Oracle, SQL Server, MySQL, Postgres) have a more complex way of storing date. However, so long as you write SQL code using ANSI-standard SQL, it should work with ANY of them.\n"
      ],
      "metadata": {
        "id": "YiaJkjQwFJ3N"
      }
    },
    {
      "cell_type": "code",
      "source": [],
      "metadata": {
        "id": "WkbKOajiGz8a"
      },
      "execution_count": null,
      "outputs": []
    }
  ]
}