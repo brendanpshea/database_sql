{
  "nbformat": 4,
  "nbformat_minor": 0,
  "metadata": {
    "colab": {
      "provenance": [],
      "authorship_tag": "ABX9TyMc2H0kjKK8kBuPM56tjmpG",
      "include_colab_link": true
    },
    "kernelspec": {
      "name": "python3",
      "display_name": "Python 3"
    },
    "language_info": {
      "name": "python"
    }
  },
  "cells": [
    {
      "cell_type": "markdown",
      "metadata": {
        "id": "view-in-github",
        "colab_type": "text"
      },
      "source": [
        "<a href=\"https://colab.research.google.com/github/brendanpshea/database_sql/blob/main/labs/Database_Lab_Chapter_3.ipynb\" target=\"_parent\"><img src=\"https://colab.research.google.com/assets/colab-badge.svg\" alt=\"Open In Colab\"/></a>"
      ]
    },
    {
      "cell_type": "markdown",
      "source": [
        "# SQL Practice (Chapter 3)\n",
        "Before starting to write queries, please run the following two cells."
      ],
      "metadata": {
        "id": "UETqdk7jCANJ"
      }
    },
    {
      "cell_type": "code",
      "execution_count": null,
      "metadata": {
        "id": "Ug4CR0BDt-35"
      },
      "outputs": [],
      "source": [
        "!pip install prettytable==0.7.2 --force-reinstall -q\n",
        "%reload_ext sql\n",
        "%sql sqlite://"
      ]
    },
    {
      "cell_type": "code",
      "source": [
        "%%sql\n",
        "-- Drop tables if they exist\n",
        "DROP TABLE IF EXISTS rentals;\n",
        "DROP TABLE IF EXISTS videos;\n",
        "DROP TABLE IF EXISTS patrons;\n",
        "\n",
        "-- Create patrons table\n",
        "CREATE TABLE patrons (\n",
        "    patron_id INTEGER PRIMARY KEY,\n",
        "    first_name VARCHAR(50) NOT NULL,\n",
        "    last_name VARCHAR(50) NOT NULL,\n",
        "    email VARCHAR(100) UNIQUE NOT NULL,\n",
        "    join_date DATE NOT NULL,\n",
        "    membership_level VARCHAR(20) CHECK (membership_level IN ('Bronze', 'Silver', 'Gold'))\n",
        ");\n",
        "\n",
        "-- Create videos table\n",
        "CREATE TABLE videos (\n",
        "    video_id INTEGER PRIMARY KEY,\n",
        "    title VARCHAR(100) NOT NULL,\n",
        "    genre VARCHAR(50) NOT NULL,\n",
        "    release_year INTEGER NOT NULL,\n",
        "    rental_price DECIMAL(4,2) NOT NULL,\n",
        "    total_copies INTEGER NOT NULL,\n",
        "    available_copies INTEGER NOT NULL,\n",
        "    CHECK (available_copies <= total_copies)\n",
        ");\n",
        "\n",
        "-- Create rentals table\n",
        "CREATE TABLE rentals (\n",
        "    rental_id INTEGER PRIMARY KEY,\n",
        "    patron_id INTEGER REFERENCES patrons(patron_id),\n",
        "    video_id INTEGER REFERENCES videos(video_id),\n",
        "    checkout_date DATE NOT NULL,\n",
        "    due_date DATE NOT NULL,\n",
        "    return_date DATE,\n",
        "    late_fee DECIMAL(4,2) DEFAULT 0.00,\n",
        "    CHECK (return_date >= checkout_date OR return_date IS NULL),\n",
        "    CHECK (due_date > checkout_date)\n",
        ");\n",
        "\n",
        "-- Insert patron data\n",
        "INSERT INTO patrons VALUES\n",
        "    (1, 'Sarah', 'Johnson', 'sarah.j@email.com', '2023-01-15', 'Gold'),\n",
        "    (2, 'Michael', 'Chen', 'mchen@email.com', '2023-02-01', 'Silver'),\n",
        "    (3, 'Emma', 'Williams', 'ewilliams@email.com', '2023-03-10', 'Bronze'),\n",
        "    (4, 'James', 'Martinez', 'jmartinez@email.com', '2023-02-28', 'Gold'),\n",
        "    (5, 'Lisa', 'Anderson', 'landerson@email.com', '2023-04-05', 'Silver'),\n",
        "    (6, 'David', 'Brown', 'dbrown@email.com', '2023-04-10', 'Bronze');\n",
        "\n",
        "-- Insert video data\n",
        "INSERT INTO videos VALUES\n",
        "    (1, 'The Matrix', 'Science Fiction', 1999, 3.99, 3, 2),\n",
        "    (2, 'Jurassic Park', 'Adventure', 1993, 3.99, 4, 3),\n",
        "    (3, 'The Shawshank Redemption', 'Drama', 1994, 2.99, 2, 1),\n",
        "    (4, 'Toy Story', 'Animation', 1995, 2.99, 3, 3),\n",
        "    (5, 'The Godfather', 'Drama', 1972, 3.99, 2, 1),\n",
        "    (6, 'Pulp Fiction', 'Drama', 1994, 3.99, 2, 2),\n",
        "    (7, 'Finding Nemo', 'Animation', 2003, 2.99, 3, 3);\n",
        "\n",
        "-- Insert rental data\n",
        "INSERT INTO rentals VALUES\n",
        "    (1, 1, 1, '2024-01-15', '2024-01-18', '2024-01-17', 0.00),\n",
        "    (2, 2, 3, '2024-01-16', '2024-01-19', '2024-01-20', 2.00),\n",
        "    (3, 4, 2, '2024-01-17', '2024-01-20', NULL, 0.00),\n",
        "    (4, 3, 5, '2024-01-15', '2024-01-18', '2024-01-18', 0.00),\n",
        "    (5, 5, 1, '2024-01-18', '2024-01-21', NULL, 0.00);"
      ],
      "metadata": {
        "colab": {
          "base_uri": "https://localhost:8080/"
        },
        "id": "naaBkSWTuC7C",
        "outputId": "abc52b8d-59c5-487c-f2fb-7c46f647bc50"
      },
      "execution_count": null,
      "outputs": [
        {
          "output_type": "stream",
          "name": "stdout",
          "text": [
            " * sqlite://\n",
            "Done.\n",
            "Done.\n",
            "Done.\n",
            "Done.\n",
            "Done.\n",
            "Done.\n",
            "6 rows affected.\n",
            "7 rows affected.\n",
            "5 rows affected.\n"
          ]
        },
        {
          "output_type": "execute_result",
          "data": {
            "text/plain": [
              "[]"
            ]
          },
          "metadata": {},
          "execution_count": 6
        }
      ]
    },
    {
      "cell_type": "markdown",
      "source": [
        "## Overview of the Data"
      ],
      "metadata": {
        "id": "rfr8e3qCCI__"
      }
    },
    {
      "cell_type": "code",
      "source": [
        "%%sql\n",
        "SELECT * FROM patrons;"
      ],
      "metadata": {
        "colab": {
          "base_uri": "https://localhost:8080/",
          "height": 203
        },
        "id": "AGpf2wBSzUwu",
        "outputId": "9c92cb81-9739-4e0b-edc0-02c9d6cc813c"
      },
      "execution_count": null,
      "outputs": [
        {
          "output_type": "stream",
          "name": "stdout",
          "text": [
            " * sqlite://\n",
            "Done.\n"
          ]
        },
        {
          "output_type": "execute_result",
          "data": {
            "text/plain": [
              "[(1, 'Sarah', 'Johnson', 'sarah.j@email.com', '2023-01-15', 'Gold'),\n",
              " (2, 'Michael', 'Chen', 'mchen@email.com', '2023-02-01', 'Silver'),\n",
              " (3, 'Emma', 'Williams', 'ewilliams@email.com', '2023-03-10', 'Bronze'),\n",
              " (4, 'James', 'Martinez', 'jmartinez@email.com', '2023-02-28', 'Gold'),\n",
              " (5, 'Lisa', 'Anderson', 'landerson@email.com', '2023-04-05', 'Silver'),\n",
              " (6, 'David', 'Brown', 'dbrown@email.com', '2023-04-10', 'Bronze')]"
            ],
            "text/html": [
              "<table>\n",
              "    <tr>\n",
              "        <th>patron_id</th>\n",
              "        <th>first_name</th>\n",
              "        <th>last_name</th>\n",
              "        <th>email</th>\n",
              "        <th>join_date</th>\n",
              "        <th>membership_level</th>\n",
              "    </tr>\n",
              "    <tr>\n",
              "        <td>1</td>\n",
              "        <td>Sarah</td>\n",
              "        <td>Johnson</td>\n",
              "        <td>sarah.j@email.com</td>\n",
              "        <td>2023-01-15</td>\n",
              "        <td>Gold</td>\n",
              "    </tr>\n",
              "    <tr>\n",
              "        <td>2</td>\n",
              "        <td>Michael</td>\n",
              "        <td>Chen</td>\n",
              "        <td>mchen@email.com</td>\n",
              "        <td>2023-02-01</td>\n",
              "        <td>Silver</td>\n",
              "    </tr>\n",
              "    <tr>\n",
              "        <td>3</td>\n",
              "        <td>Emma</td>\n",
              "        <td>Williams</td>\n",
              "        <td>ewilliams@email.com</td>\n",
              "        <td>2023-03-10</td>\n",
              "        <td>Bronze</td>\n",
              "    </tr>\n",
              "    <tr>\n",
              "        <td>4</td>\n",
              "        <td>James</td>\n",
              "        <td>Martinez</td>\n",
              "        <td>jmartinez@email.com</td>\n",
              "        <td>2023-02-28</td>\n",
              "        <td>Gold</td>\n",
              "    </tr>\n",
              "    <tr>\n",
              "        <td>5</td>\n",
              "        <td>Lisa</td>\n",
              "        <td>Anderson</td>\n",
              "        <td>landerson@email.com</td>\n",
              "        <td>2023-04-05</td>\n",
              "        <td>Silver</td>\n",
              "    </tr>\n",
              "    <tr>\n",
              "        <td>6</td>\n",
              "        <td>David</td>\n",
              "        <td>Brown</td>\n",
              "        <td>dbrown@email.com</td>\n",
              "        <td>2023-04-10</td>\n",
              "        <td>Bronze</td>\n",
              "    </tr>\n",
              "</table>"
            ]
          },
          "metadata": {},
          "execution_count": 7
        }
      ]
    },
    {
      "cell_type": "code",
      "source": [
        "%%sql\n",
        "SELECT * FROM videos;"
      ],
      "metadata": {
        "colab": {
          "base_uri": "https://localhost:8080/",
          "height": 225
        },
        "id": "T10UYyDYzXHe",
        "outputId": "c847d8b8-5ef2-4d11-bc33-4a68e1ab0fa2"
      },
      "execution_count": null,
      "outputs": [
        {
          "output_type": "stream",
          "name": "stdout",
          "text": [
            " * sqlite://\n",
            "Done.\n"
          ]
        },
        {
          "output_type": "execute_result",
          "data": {
            "text/plain": [
              "[(1, 'The Matrix', 'Science Fiction', 1999, 3.99, 3, 2),\n",
              " (2, 'Jurassic Park', 'Adventure', 1993, 3.99, 4, 3),\n",
              " (3, 'The Shawshank Redemption', 'Drama', 1994, 2.99, 2, 1),\n",
              " (4, 'Toy Story', 'Animation', 1995, 2.99, 3, 3),\n",
              " (5, 'The Godfather', 'Drama', 1972, 3.99, 2, 1),\n",
              " (6, 'Pulp Fiction', 'Drama', 1994, 3.99, 2, 2),\n",
              " (7, 'Finding Nemo', 'Animation', 2003, 2.99, 3, 3)]"
            ],
            "text/html": [
              "<table>\n",
              "    <tr>\n",
              "        <th>video_id</th>\n",
              "        <th>title</th>\n",
              "        <th>genre</th>\n",
              "        <th>release_year</th>\n",
              "        <th>rental_price</th>\n",
              "        <th>total_copies</th>\n",
              "        <th>available_copies</th>\n",
              "    </tr>\n",
              "    <tr>\n",
              "        <td>1</td>\n",
              "        <td>The Matrix</td>\n",
              "        <td>Science Fiction</td>\n",
              "        <td>1999</td>\n",
              "        <td>3.99</td>\n",
              "        <td>3</td>\n",
              "        <td>2</td>\n",
              "    </tr>\n",
              "    <tr>\n",
              "        <td>2</td>\n",
              "        <td>Jurassic Park</td>\n",
              "        <td>Adventure</td>\n",
              "        <td>1993</td>\n",
              "        <td>3.99</td>\n",
              "        <td>4</td>\n",
              "        <td>3</td>\n",
              "    </tr>\n",
              "    <tr>\n",
              "        <td>3</td>\n",
              "        <td>The Shawshank Redemption</td>\n",
              "        <td>Drama</td>\n",
              "        <td>1994</td>\n",
              "        <td>2.99</td>\n",
              "        <td>2</td>\n",
              "        <td>1</td>\n",
              "    </tr>\n",
              "    <tr>\n",
              "        <td>4</td>\n",
              "        <td>Toy Story</td>\n",
              "        <td>Animation</td>\n",
              "        <td>1995</td>\n",
              "        <td>2.99</td>\n",
              "        <td>3</td>\n",
              "        <td>3</td>\n",
              "    </tr>\n",
              "    <tr>\n",
              "        <td>5</td>\n",
              "        <td>The Godfather</td>\n",
              "        <td>Drama</td>\n",
              "        <td>1972</td>\n",
              "        <td>3.99</td>\n",
              "        <td>2</td>\n",
              "        <td>1</td>\n",
              "    </tr>\n",
              "    <tr>\n",
              "        <td>6</td>\n",
              "        <td>Pulp Fiction</td>\n",
              "        <td>Drama</td>\n",
              "        <td>1994</td>\n",
              "        <td>3.99</td>\n",
              "        <td>2</td>\n",
              "        <td>2</td>\n",
              "    </tr>\n",
              "    <tr>\n",
              "        <td>7</td>\n",
              "        <td>Finding Nemo</td>\n",
              "        <td>Animation</td>\n",
              "        <td>2003</td>\n",
              "        <td>2.99</td>\n",
              "        <td>3</td>\n",
              "        <td>3</td>\n",
              "    </tr>\n",
              "</table>"
            ]
          },
          "metadata": {},
          "execution_count": 8
        }
      ]
    },
    {
      "cell_type": "code",
      "source": [
        "%%sql\n",
        "SELECT * FROM rentals;"
      ],
      "metadata": {
        "colab": {
          "base_uri": "https://localhost:8080/",
          "height": 182
        },
        "id": "ufsjYe73zZ7u",
        "outputId": "48d352e1-637f-45da-8e24-4a500f0b1004"
      },
      "execution_count": null,
      "outputs": [
        {
          "output_type": "stream",
          "name": "stdout",
          "text": [
            " * sqlite://\n",
            "Done.\n"
          ]
        },
        {
          "output_type": "execute_result",
          "data": {
            "text/plain": [
              "[(1, 1, 1, '2024-01-15', '2024-01-18', '2024-01-17', 0),\n",
              " (2, 2, 3, '2024-01-16', '2024-01-19', '2024-01-20', 2),\n",
              " (3, 4, 2, '2024-01-17', '2024-01-20', None, 0),\n",
              " (4, 3, 5, '2024-01-15', '2024-01-18', '2024-01-18', 0),\n",
              " (5, 5, 1, '2024-01-18', '2024-01-21', None, 0)]"
            ],
            "text/html": [
              "<table>\n",
              "    <tr>\n",
              "        <th>rental_id</th>\n",
              "        <th>patron_id</th>\n",
              "        <th>video_id</th>\n",
              "        <th>checkout_date</th>\n",
              "        <th>due_date</th>\n",
              "        <th>return_date</th>\n",
              "        <th>late_fee</th>\n",
              "    </tr>\n",
              "    <tr>\n",
              "        <td>1</td>\n",
              "        <td>1</td>\n",
              "        <td>1</td>\n",
              "        <td>2024-01-15</td>\n",
              "        <td>2024-01-18</td>\n",
              "        <td>2024-01-17</td>\n",
              "        <td>0</td>\n",
              "    </tr>\n",
              "    <tr>\n",
              "        <td>2</td>\n",
              "        <td>2</td>\n",
              "        <td>3</td>\n",
              "        <td>2024-01-16</td>\n",
              "        <td>2024-01-19</td>\n",
              "        <td>2024-01-20</td>\n",
              "        <td>2</td>\n",
              "    </tr>\n",
              "    <tr>\n",
              "        <td>3</td>\n",
              "        <td>4</td>\n",
              "        <td>2</td>\n",
              "        <td>2024-01-17</td>\n",
              "        <td>2024-01-20</td>\n",
              "        <td>None</td>\n",
              "        <td>0</td>\n",
              "    </tr>\n",
              "    <tr>\n",
              "        <td>4</td>\n",
              "        <td>3</td>\n",
              "        <td>5</td>\n",
              "        <td>2024-01-15</td>\n",
              "        <td>2024-01-18</td>\n",
              "        <td>2024-01-18</td>\n",
              "        <td>0</td>\n",
              "    </tr>\n",
              "    <tr>\n",
              "        <td>5</td>\n",
              "        <td>5</td>\n",
              "        <td>1</td>\n",
              "        <td>2024-01-18</td>\n",
              "        <td>2024-01-21</td>\n",
              "        <td>None</td>\n",
              "        <td>0</td>\n",
              "    </tr>\n",
              "</table>"
            ]
          },
          "metadata": {},
          "execution_count": 9
        }
      ]
    },
    {
      "cell_type": "markdown",
      "source": [
        "## Questions\n",
        "Please write queries to answer the following questions. You can use the code cells below.\n",
        "\n",
        "1.\tFind all videos that cost $3.99 to rent.\n",
        "\n",
        "2.\tFind all patrons whose last name starts with the letter 'W'.\n",
        "\n",
        "\n",
        "3.\tFind all rentals where the video hasn't been returned yet.\n",
        "\n",
        "4.\tFind all videos released after 1995.\n",
        "\n",
        "\n",
        "5.\tFind all videos that are either Drama genre OR cost less than $3.50 to rent.\n",
        "\n",
        "6.\tCount how many Gold membership patrons we have.\n",
        "\n",
        "\n",
        "7.\tFind the oldest and newest release years.\n",
        "\n",
        "8.\tFind all videos that are either:  (a) drama genre with more than 1 copy availabl OR (b) any genre with rental price less than $3.00\n",
        "\n",
        "9.\tFind all patrons who are not Silver members.\n",
        "\n",
        "10.\tCalculate the average rental price of all videos.\n",
        "\n",
        "\n",
        "11.\tDisplay the title of each rented video along with the first and last name of the patron who rented it. Only include videos that are currently rented out (where return_date is NULL).\n",
        "\n",
        "\n",
        "12.\tShow all patrons and any videos they currently have checked out. Include patrons who have no current rentals.\n",
        "\n",
        "13.\tDisplay all videos and their current rental status. Include the patron's name if the video is currently rented out. Show all videos, even those not currently rented.\n",
        "\n",
        "14.\tCreate a list of all patron names (first and last) who are either Gold members OR have rented a Drama movie. Use UNION to combine these two groups.\n",
        "\n",
        "15.\tFind patrons who are both Gold members AND have rented a movie with a rental price over $3.50. Use INTERSECT to find this overlap.\n",
        "\n",
        "\n",
        "16.\tCHALLENGE: Show all possible combinations of videos and membership levels by using a CROSS JOIN. Display the video title, rental price, and membership level.\n",
        "\n",
        "\n"
      ],
      "metadata": {
        "id": "uka5rkxhCLoH"
      }
    },
    {
      "cell_type": "code",
      "source": [
        "%%sql\n",
        "-- problem 1"
      ],
      "metadata": {
        "id": "DzdLNlCOzBiY"
      },
      "execution_count": null,
      "outputs": []
    },
    {
      "cell_type": "code",
      "source": [
        "%%sql\n",
        "-- problem 2"
      ],
      "metadata": {
        "id": "fiKo9chGzEuf"
      },
      "execution_count": null,
      "outputs": []
    },
    {
      "cell_type": "code",
      "source": [
        "%%sql\n",
        "-- problem 3"
      ],
      "metadata": {
        "id": "cECZNMCkzFvH"
      },
      "execution_count": null,
      "outputs": []
    },
    {
      "cell_type": "code",
      "source": [
        "%%sql\n",
        "-- problem 4"
      ],
      "metadata": {
        "id": "GLqm8S-rzG_P"
      },
      "execution_count": null,
      "outputs": []
    },
    {
      "cell_type": "code",
      "source": [
        "%%sql\n",
        "-- problem 5"
      ],
      "metadata": {
        "id": "3R2YmripzIVH"
      },
      "execution_count": null,
      "outputs": []
    },
    {
      "cell_type": "code",
      "source": [
        "%%sql\n",
        "-- problem 6"
      ],
      "metadata": {
        "id": "E4bordhyzJVP"
      },
      "execution_count": null,
      "outputs": []
    },
    {
      "cell_type": "code",
      "source": [
        "%%sql\n",
        "-- problem 7"
      ],
      "metadata": {
        "id": "TFv9BdcwzKFv"
      },
      "execution_count": null,
      "outputs": []
    },
    {
      "cell_type": "code",
      "source": [
        "%%sql\n",
        "-- problem 8"
      ],
      "metadata": {
        "id": "QadVizOmzK0n"
      },
      "execution_count": null,
      "outputs": []
    },
    {
      "cell_type": "code",
      "source": [
        "%%sql\n",
        "-- problem 9"
      ],
      "metadata": {
        "id": "ylY8VBP9zL5n"
      },
      "execution_count": null,
      "outputs": []
    },
    {
      "cell_type": "code",
      "source": [
        "%%sql\n",
        "-- problem 10"
      ],
      "metadata": {
        "id": "edSx9sSFzMyn"
      },
      "execution_count": null,
      "outputs": []
    },
    {
      "cell_type": "code",
      "source": [
        "%%sql\n",
        "-- problem 11"
      ],
      "metadata": {
        "id": "8UDOnkWUzNgX"
      },
      "execution_count": null,
      "outputs": []
    },
    {
      "cell_type": "code",
      "source": [
        "%%sql\n",
        "-- problem 12"
      ],
      "metadata": {
        "id": "G1jMdnSfzO5n"
      },
      "execution_count": null,
      "outputs": []
    },
    {
      "cell_type": "code",
      "source": [
        "%%sql\n",
        "-- problem 13"
      ],
      "metadata": {
        "id": "WJxghtPGzPin"
      },
      "execution_count": null,
      "outputs": []
    },
    {
      "cell_type": "code",
      "source": [
        "%%sql\n",
        "-- problem 14"
      ],
      "metadata": {
        "id": "JkWDDtsYzQnu"
      },
      "execution_count": null,
      "outputs": []
    },
    {
      "cell_type": "code",
      "source": [
        "%%sql\n",
        "-- problem 15"
      ],
      "metadata": {
        "id": "tiSW01l5zRd2"
      },
      "execution_count": null,
      "outputs": []
    },
    {
      "cell_type": "code",
      "source": [
        "%%sql\n",
        "-- problem 16"
      ],
      "metadata": {
        "id": "1peMgZMszSIG"
      },
      "execution_count": null,
      "outputs": []
    }
  ]
}