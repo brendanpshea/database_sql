{
  "nbformat": 4,
  "nbformat_minor": 0,
  "metadata": {
    "colab": {
      "provenance": [],
      "authorship_tag": "ABX9TyPD/TLf+t3o1W671Cu0DdBX",
      "include_colab_link": true
    },
    "kernelspec": {
      "name": "python3",
      "display_name": "Python 3"
    },
    "language_info": {
      "name": "python"
    }
  },
  "cells": [
    {
      "cell_type": "markdown",
      "metadata": {
        "id": "view-in-github",
        "colab_type": "text"
      },
      "source": [
        "<a href=\"https://colab.research.google.com/github/brendanpshea/database_sql/blob/main/Database_02_RelationalModel_SQL.ipynb\" target=\"_parent\"><img src=\"https://colab.research.google.com/assets/colab-badge.svg\" alt=\"Open In Colab\"/></a>"
      ]
    },
    {
      "cell_type": "markdown",
      "source": [
        "# Tomes of Tables: A Librarian's Guide to the Relational Model and SQL Basics\n",
        "### Brendan Shea, PhD\n",
        "\n",
        "Welcome to Chapter 2 of our journey through the fascinating world of data management! In this chapter, we'll be stepping into the realm of the relational model – a fundamental and foundational concept in the field of databases that has revolutionized how we handle and interpret information.\n",
        "\n",
        "The relational model is much like a well-organized school library, where books are categorized and arranged in a way that makes it easy to find and connect different pieces of information. We will dive deep into the history of the relational model, exploring its importance, and uncovering the basic concepts that make it an indispensable part of modern data management.\n",
        "\n",
        "We'll set the stage with an extended case study: \"The Librarian at Unseen University Decides to Use a Database\". Our librarian faces the challenge of efficiently organizing vast amounts of books, which are like the data we handle daily. As we delve into the world of the librarian, you'll learn how a database, much like a library, can help manage and simplify complex, interrelated pieces of information.\n",
        "\n",
        "We'll cover the reasons to adopt a relational database, drawing parallels between the needs of our librarian and the needs of modern businesses and organizations. From simplifying data retrieval to enhancing data integrity, we'll explore why relational databases have become the standard in information management.\n",
        "\n",
        "From there, we'll introduce you to the basic building blocks of a relational database: tables, attributes, and keys. Imagine tables as shelves in our library, attributes as different aspects of the books, and keys as unique identifiers for each book. We'll learn how these concepts interact to store and retrieve information efficiently.\n",
        "\n",
        "In the sections on foreign keys and types of relationships, we'll explore how books (or data) are not isolated, but instead, they often have connections with each other. A book may have the same author, similar themes, or be part of a series – these relationships mirror the ones in a database.\n",
        "\n",
        "Next, we'll tackle database normalization – the practice of designing our 'library' to minimize redundancy and improve integrity. It's like ensuring that each book is placed where it should be, and no two books are confused with each other.\n",
        "\n",
        "Finally, we'll get hands-on with SQLite, a popular database management system. Imagine it as the library's catalogue system, helping you find and organize your books. We'll cover various commands, from SELECT, FROM, ORDER, and LIMIT to more advanced techniques like filtering text with WHERE and LIKE, filtering numbers and dates with operators, and using AND, OR, and NOT. By the end of this chapter, you'll be able to command your database to find and manipulate data, much like how a librarian navigates their library.\n",
        "\n",
        "So, grab your library card, and let's start exploring the world of the relational model!"
      ],
      "metadata": {
        "id": "bIAPM58yo26s"
      }
    },
    {
      "cell_type": "markdown",
      "source": [
        "## Brendan's Lecture\n",
        "Click on the following cell to launch my lecture."
      ],
      "metadata": {
        "id": "D_nIJQNtgC0c"
      }
    },
    {
      "cell_type": "code",
      "source": [
        "from IPython.display import YouTubeVideo\n",
        "YouTubeVideo('GThF8Vs7uJY', width=800, height=500)"
      ],
      "metadata": {
        "id": "5LfVnBnLgIF0",
        "outputId": "a4380f08-ad9a-4c50-f609-aeecc70b7ab8",
        "colab": {
          "base_uri": "https://localhost:8080/",
          "height": 521
        }
      },
      "execution_count": 74,
      "outputs": [
        {
          "output_type": "execute_result",
          "data": {
            "text/plain": [
              "<IPython.lib.display.YouTubeVideo at 0x788e20719ff0>"
            ],
            "text/html": [
              "\n",
              "        <iframe\n",
              "            width=\"800\"\n",
              "            height=\"500\"\n",
              "            src=\"https://www.youtube.com/embed/GThF8Vs7uJY\"\n",
              "            frameborder=\"0\"\n",
              "            allowfullscreen\n",
              "            \n",
              "        ></iframe>\n",
              "        "
            ],
            "image/jpeg": "[encoded data removed]"
          },
          "metadata": {},
          "execution_count": 74
        }
      ]
    },
    {
      "cell_type": "markdown",
      "source": [
        "### Introduction to the Relational Model\n",
        "\n",
        "The**relational model**, an underpinning element of modern data management, has an intriguing history that dates back to the late 1960s. It was first proposed by an English computer scientist named Edgar F. Codd while he was working at IBM. He imagined a new method of structuring data that would make it easier to manage, manipulate, and understand.\n",
        "\n",
        "Codd saw data much like a vast city of information, bustling with activity. At that time, data was often stored in hierarchical or network models---imagine trying to navigate through a city with only a few main roads and many cul-de-sacs. It could be tedious and complex. Codd's vision? To turn this into a well-planned city with structured streets and intersections---each data point accessible from any direction. This vision became the foundation of the relational model.\n",
        "\n",
        "The importance of the relational model can't be overstated. It has revolutionized the way we store, retrieve, and manipulate data. Businesses, governments, hospitals, schools, and countless other organizations depend on relational databases for everything from inventory management to patient records, from academic research to finance. The relational model made it possible to link related pieces of information, thereby turning raw data into meaningful insights.\n",
        "\n",
        "The relational model's basic concepts are deceptively simple and incredibly powerful:\n",
        "\n",
        "1.  **Tables** (or **Relations**): The model gets its name from these \"relations\". Tables are like a grid with rows and columns, where each row represents a single data entity (like a book in our library), and each column represents an attribute of that entity (like the book's title, author, or publication year).\n",
        "\n",
        "2.  **Attributes:** These are the properties or characteristics of an entity. In the library analogy, attributes could be the title, author, publisher, or genre of a book. In a table, each column represents an attribute.\n",
        "\n",
        "3.  **Keys:** Keys are unique identifiers for each row in a table. They're like the unique call number for a book in a library, allowing you to find exactly what you're looking for. There are various types of keys in a relational model, including primary keys (unique to each row), foreign keys (linking rows between tables), and candidate keys (potential primary keys).\n",
        "\n",
        "These concepts come together to form a relational database, turning rows and columns of data into a rich, interconnected web of information. Much like a well-organized library, this structure allows users to locate specific data (books), understand their attributes (details), and see their connections to other data (related books)."
      ],
      "metadata": {
        "id": "4StSHM-tpIdZ"
      }
    },
    {
      "cell_type": "markdown",
      "source": [
        "## Chapter Case Study: The Librarian at Unseen University Decides to Use a Database\n",
        "\n",
        "In Terry Pratchett's Discworld series, the Unseen University houses a vast library of unique and peculiar books. Our central character in this case study is the university's Librarian, an orangutan with the arduous task of managing this unconventional collection. The books at Unseen University aren't like the ones you'd find in an ordinary library. Some are magical, some sentient, while others exhibit peculiar behaviors like changing their content or disappearing altogether. These unique characteristics pose a significant challenge when it comes to cataloging and tracking each book.\n",
        "\n",
        "Recognizing that a standard library catalogue system falls short in managing such a dynamic collection, the Librarian decides to implement a database. He envisions a system capable of capturing each book's attributes, from the standard details like title and author to more unusual traits such as magical properties and behaviors.\n",
        "\n",
        "In our case study, we'll accompany the Librarian on this ambitious project, using his challenges and solutions as practical examples to understand the relational model's intricacies better. From setting up tables to defining unique keys and maintaining relationships between data, we'll see how a well-designed database can help bring order to even the most magically chaotic library."
      ],
      "metadata": {
        "id": "LTOmXkfUqGUC"
      }
    },
    {
      "cell_type": "markdown",
      "source": [
        "## Tables, Attributes, and Keys\n",
        "\n",
        "Understanding the concepts of tables, attributes, and keys is vital when working with a relational database. To clarify these terms, we'll refer back to our case study at the Unseen University library.\n",
        "\n",
        "1.  **Tables:** A table, or relation, in a database is like a single shelf or section in our library. It holds a set of related data. For instance, a table in our librarian's database might be \"Books\", storing information about all the books in the library. Another table might be \"Authors\", containing details about authors of the various books.\n",
        "\n",
        "2.  **Attributes:** Attributes are the specific pieces of data that characterize the entities in a table. They can be thought of as the different details we have about each book on our \"Books\" shelf. For example, an attribute of a book might be its title, author, publication year, genre, page count, or magical properties. In a table, these attributes form the columns. So, in our \"Books\" table, we might have columns for \"Title\", \"Author\", \"Publication_Year\", \"Genre\", and \"Pages\".\n",
        "\n",
        "3.  **Keys:** Keys are like the unique identifiers we use to locate a specific book in the library. In a database, keys help us identify unique rows in a table. In our case study, each book might have a \"Book_ID\" that is unique to it - this would be its key in the \"Books\" table. There are different types of keys in a database:\n",
        "\n",
        "    -   **Primary Key:** This is a unique identifier for a record in a table. In our \"Books\" table, the \"Book_ID\" could be the primary key, as it is unique to each book.\n",
        "\n",
        "    -   **Foreign Key:** This is a key in a table that establishes a link between data in two tables. For instance, our \"Books\" table might have an \"Author_ID\" column that links to the \"Authors\" table, creating a connection between a book and its author.\n",
        "\n",
        "    -   **Candidate Key:** This is a field or a set of fields that can act as a primary key. For example, if every book had a unique title, then \"Title\" could be a candidate key.\n",
        "\n",
        "Understanding these three concepts is the first step towards effectively using relational databases. As we navigate through our case study, these fundamental components will become even clearer, providing a solid foundation for your exploration of the relational model."
      ],
      "metadata": {
        "id": "ubk49Lx2qmhS"
      }
    },
    {
      "cell_type": "markdown",
      "source": [
        "## Sample Tables\n",
        "\n",
        "As a first try, here's a simple relational data model that our friendly Librarian might come up with:\n",
        "\n",
        "### Books Table\n",
        "\n",
        "| Book_ID | Title | Author_ID | Publication_Date | Genre | Pages |\n",
        "| --- | --- | --- | --- | --- | --- |\n",
        "| 1 | 'The Transmuting Toadstool' | 1 | '1071-04-15' | 'Transmutation' | 310 |\n",
        "| 2 | 'Ghoul Goulash: A Necromancy Narrative' | 2 | '1075-10-31' | 'Necromancy' | 500 |\n",
        "| 3 | 'The Drunken Diviner' | 3 | '1077-07-07' | 'Divination' | 200 |\n",
        "| 4 | 'Bewitched Broomsticks: Household Magic' | 1 | '1080-12-21' | 'Household' | 185 |\n",
        "| 5 | 'Alchemy of Amphibians' | 1 | '1082-03-01' | 'Transmutation' | 312 |\n",
        "\n",
        "In the \"Books\" table, Book_ID is the Primary Key (PK), and Author_ID is a Foreign Key (FK) that references the Author_ID in the \"Authors\" table.\n",
        "\n",
        "### Authors Table\n",
        "\n",
        "| Author_ID (PK) | Name | Birth_Date |\n",
        "| --- | --- | --- |\n",
        "| 1 | 'Mostrum Ridcully' | 1045-02-28 |\n",
        "| 2 | 'Granny Weatherwax' | 1040-06-11 |\n",
        "| 3 | `Susan Death' | 1060-12-17|\n",
        "\n",
        "In the \"Authors\" table, Author_ID is the Primary Key (PK). This table gives us additional information about the authors of the books in the library.\n",
        "\n",
        "Remember, this is a simplified view. In a real-world application, tables in a relational database might have many more fields and much more data. Also, please note that in a real database, the keys would be indicated in the database schema rather than directly in the table."
      ],
      "metadata": {
        "id": "hC-_vDXDsVBq"
      }
    },
    {
      "cell_type": "markdown",
      "source": [
        "## Types of Relationships Between Tables\n",
        "There are three basic **cardinarilites** of possible relationships between tables in a relational database: one-to-one, one-to-many (or many-to-one), and many-to-many.\n",
        "\n",
        "### One-to-One:\n",
        "In a one-to-one relationship, one record in a table corresponds to one and only one record in another table.\n",
        "\n",
        "-   Example 1: If the librarian had a \"Librarian\" table with a unique record for each librarian working at the library and a \"Library_Section\" table with a unique record for each library section, a one-to-one relationship could exist if each librarian was responsible for exactly one section, and each section was managed by exactly one librarian.\n",
        "\n",
        "-   Example 2: Consider a \"Books\" table and a \"Book_Cover\" table. If every book in the library has a unique cover and each cover is designed for a specific book, there would be a one-to-one relationship between the books and their covers.\n",
        "\n",
        "-   Example 3: In a business context, if a company has a \"CEO\" table and a \"Company\" table, there could be a one-to-one relationship, as each CEO leads only one company, and each company has only one CEO.\n",
        "\n",
        "### One-to-Many:\n",
        "This is the most common relationship type. In a one-to-many relationship, one record in a table can relate to multiple records in another table.\n",
        "\n",
        "-   Example 1: For instance, one author (in the \"Authors\" table) can write many books (in the \"Books\" table). But each book is written by only one author. This is a one-to-many relationship from authors to books.\n",
        "\n",
        "-   Example 2: In our \"Librarian\" table, one librarian could be responsible for many books. However, each book is managed by only one librarian. This creates a one-to-many relationship from librarians to books.\n",
        "\n",
        "-   Example 3: If a \"Publisher\" table were added to the library database, one publisher could publish many books, but each book would be published by one publisher, creating a one-to-many relationship from publishers to books.\n",
        "\n",
        "### Many-to-Many:\n",
        "In a many-to-many relationship, one record in a table can relate to many records in another table, and vice versa.\n",
        "\n",
        "-   Example 1: Let's say our librarian introduces a \"Categories\" table to categorize books (like Magic, Witchery, etc.). A book can belong to multiple categories, and each category can contain multiple books. This is a many-to-many relationship. To handle such relationships, we typically use a junction table that holds the primary keys of both related tables.\n",
        "\n",
        "-   Example 2: Consider a \"Readers\" table and the \"Books\" table. A reader could read many books, and each book could be read by many readers. This creates a many-to-many relationship. A \"Reading\" junction table, containing the reader's ID and the book's ID, could be used to manage this relationship.\n",
        "\n",
        "-   Example 3: If the library were to run \"Events\", with each event attended by many readers and each reader able to attend many events, a many-to-many relationship would exist between \"Readers\" and \"Events\". This could be managed with an \"Attendance\" junction table, storing the IDs of both the reader and the event."
      ],
      "metadata": {
        "id": "pdSBmFOKt2rv"
      }
    },
    {
      "cell_type": "markdown",
      "source": [
        "## Database Normalization\n",
        "In the quest for an efficient, flexible, and reliable database, we stumble upon the concept of **database normalization**. This is a process that involves structuring a database in accordance with a series of so-called normal forms to reduce data redundancy and improve data integrity. In our Unseen University library case study, normalization would help the librarian to minimize duplicate data and ensure consistency.\n",
        "\n",
        "Normalization involves a set of rules or guidelines known as normal forms. Let's examine some of these forms:\n",
        "\n",
        "1.  **First Normal Form (1NF)**: According to 1NF, each column of a table should have atomic (indivisible) values, and each row must be unique. For example, instead of having a \"Genres\" column in our \"Books\" table that lists multiple genres for a book, we would have a separate row for each genre that the book falls under.\n",
        "\n",
        "2.  **Second Normal Form (2NF)**: To fulfill 2NF, all non-key columns in the table must depend on the entire primary key. In the context of our library, if we had a table where the primary key is a composite key (e.g., Book_ID and Edition), every other column in the table should be related to both these components, not just one.\n",
        "\n",
        "3.  **Third Normal Form (3NF)**: According to 3NF, all non-key columns should not depend on other non-key columns. For instance, if our \"Books\" table also included a column for \"Author_Birth_Year\", this would violate 3NF as \"Author_Birth_Year\" is dependent on \"Author\", which is a non-key column. Instead, \"Author_Birth_Year\" should be moved to the \"Authors\" table.\n",
        "\n",
        "4.  Beyond 3NF: There are more advanced normal forms beyond 3NF, like Boyce-Codd Normal Form (BCNF), 4NF, and 5NF. These tackle more complex scenarios and dependencies. However, for most applications, achieving 3NF is considered sufficient.\n",
        "\n",
        "Normalization comes with advantages such as reducing data redundancy, improving data integrity, and making the database more flexible to changes. But it's important to note that it isn't always the best approach. In some cases, a certain degree of data redundancy might be acceptable or even beneficial for performance reasons.\n",
        "\n",
        "As our librarian continues to refine the database for the Unseen University library, understanding normalization can help ensure that the database is designed in a way that best suits the library's unique needs."
      ],
      "metadata": {
        "id": "Mzj34R2L-lrv"
      }
    },
    {
      "cell_type": "markdown",
      "source": [
        "## SQL (Structured Query Language)\n",
        "\n",
        "SQL, an acronym for Structured Query Language, is a programming language specifically designed for managing and manipulating databases. It's the standard language for relational database management systems (RDBMS), which are a type of database management system (DBMS) that store data in the form of related tables. SQL allows us to perform various operations on a database such as querying, inserting, updating, and deleting data.\n",
        "\n",
        "SQL is fundamental to the operation of relational databases. It allows us to build and modify the structure of databases, define the type and nature of the data that they will hold, and create relationships between different pieces of data.  SQL commands can be broadly categorized into four types, each serving different purposes:\n",
        "\n",
        "1.  **Data Definition Language (DDL):** These commands are used to define or modify the structure of a database and its tables. The main DDL commands are CREATE (to create new tables), ALTER (to modify existing tables), and DROP (to delete tables).\n",
        "\n",
        "2.  **Data Manipulation Language (DML):** DML commands are used to manipulate the data within tables. The primary DML commands are SELECT (to retrieve data), INSERT (to add new data), UPDATE (to modify existing data), and DELETE (to remove data).\n",
        "\n",
        "3.  **Data Control Language (DCL):** DCL commands are used to control access to data within the database. GRANT and REVOKE are two key DCL commands.\n",
        "\n",
        "4.  **Transaction Control Language (TCL):** TCL commands like COMMIT, ROLLBACK, and SAVEPOINT are used to manage transactions within a database.\n",
        "\n",
        "When our librarian at Unseen University builds his database and starts to populate it with the library's book and author data, he'll be using SQL. Whether he's adding new books to the database, updating an author's details, or retrieving a list of books in a specific category, SQL will provide the tools needed to perform these tasks efficiently and effectively.\n",
        "\n",
        "In the following sections, we'll explore some of the most commonly used SQL commands and learn how to use them to interact with a relational database. These SQL skills will equip our librarian to manage the Unseen University library database effectively, keeping track of the ever-growing collection of magical (and occasionally explosive) books."
      ],
      "metadata": {
        "id": "NDk6XhkT2dAT"
      }
    },
    {
      "cell_type": "markdown",
      "source": [
        "### Unseen Library: Questions\n",
        "1. What are the advantages of using a relational database for something like a library? (Most real-world libaries use them!).\n",
        "2. The data model we've described so far (the list of tables and attributes) is pretty minimal. What sorts of tables and attributes might we want to add? why?\n",
        "3. What are the similarities between a relational database and a real-world \"library\"? What are the differences?\n",
        "4. Relational databases can be used to handle *many* types of data. Give an example of a topic related to a hobby of yours and describe a relational database for it. You should describe the \"tables\" and their \"attributes.\""
      ],
      "metadata": {
        "id": "k-BEHjfA_yeg"
      }
    },
    {
      "cell_type": "markdown",
      "source": [
        "### Unseen Library: My Answers\n",
        "1.\n",
        "\n",
        "2.\n",
        "\n",
        "3.\n",
        "\n",
        "4."
      ],
      "metadata": {
        "id": "pizlfQyoAUuu"
      }
    },
    {
      "cell_type": "markdown",
      "source": [
        "## Setting Up SQL\n",
        "To use SQL in a Jupyter notebook, we first have to load the SQL extension using the `%load_ext` magic command. Then, we can connect to our SQLite database. Here's how to create the two tables:"
      ],
      "metadata": {
        "id": "91Dw472H3gbT"
      }
    },
    {
      "cell_type": "code",
      "source": [
        "# First, we create a database and connect to it\n",
        "%load_ext sql\n",
        "%sql sqlite:///unseen_library.db"
      ],
      "metadata": {
        "id": "TyKwtf8csUTq",
        "outputId": "1ed84ab8-47e8-4736-b4e7-088e739b7ea0",
        "colab": {
          "base_uri": "https://localhost:8080/"
        }
      },
      "execution_count": 75,
      "outputs": [
        {
          "output_type": "stream",
          "name": "stdout",
          "text": [
            "The sql extension is already loaded. To reload it, use:\n",
            "  %reload_ext sql\n"
          ]
        }
      ]
    },
    {
      "cell_type": "markdown",
      "source": [
        "### Making Tables with CREATE TABLE\n",
        "To begin, let's create a few tables. We'll be covering the process of table creation in more detail in later chapter, so we don't need to worry too much about the details (yet). First, let's create the Author's table:"
      ],
      "metadata": {
        "id": "0SVRo5Qy4aNy"
      }
    },
    {
      "cell_type": "code",
      "source": [
        "%%sql\n",
        "\n",
        "DROP TABLE IF EXISTS Authors;\n",
        "CREATE TABLE Authors (\n",
        "    Author_ID INTEGER PRIMARY KEY, -- this is unique for every author\n",
        "    Name VARCHAR(48) NOT NULL, -- up to 48 chars long\n",
        "    Birthdate DATE -- in yyyy-mm-dd format\n",
        ");\n"
      ],
      "metadata": {
        "colab": {
          "base_uri": "https://localhost:8080/"
        },
        "id": "1y_XG_MhpllY",
        "outputId": "b6ef136d-07bd-4ff6-d059-af14a4fddb48"
      },
      "execution_count": 76,
      "outputs": [
        {
          "output_type": "stream",
          "name": "stdout",
          "text": [
            " * sqlite:///unseen_library.db\n",
            "Done.\n",
            "Done.\n"
          ]
        },
        {
          "output_type": "execute_result",
          "data": {
            "text/plain": [
              "[]"
            ]
          },
          "metadata": {},
          "execution_count": 76
        }
      ]
    },
    {
      "cell_type": "markdown",
      "source": [
        "In this table, `Author_ID` is the primary key (a unique identifier for each author), `Name` is the author's name, and `Birthdate` is the author's birthdate.\n",
        "\n",
        "Now, we can create the `Books` table:"
      ],
      "metadata": {
        "id": "j-xAYk2A4hFx"
      }
    },
    {
      "cell_type": "code",
      "source": [
        "%%sql\n",
        "\n",
        "DROP TABLE IF EXISTS Books;\n",
        "\n",
        "CREATE TABLE Books (\n",
        "    Book_ID INTEGER PRIMARY KEY,\n",
        "    Title VARCHAR(64) NOT NULL, -- a book MUST have a title\n",
        "    Author_ID INTEGER, -- used to link to author table\n",
        "    Publication_Date DATE,\n",
        "    Genre VARCHAR(32),\n",
        "    Pages INTEGER,\n",
        "    FOREIGN KEY(Author_ID) REFERENCES Authors(Author_ID)\n",
        ");\n"
      ],
      "metadata": {
        "colab": {
          "base_uri": "https://localhost:8080/"
        },
        "id": "yLWWgqTZpgvt",
        "outputId": "3d707670-808e-4d9a-9a71-9e7fff2f62c7"
      },
      "execution_count": 77,
      "outputs": [
        {
          "output_type": "stream",
          "name": "stdout",
          "text": [
            " * sqlite:///unseen_library.db\n",
            "Done.\n",
            "Done.\n"
          ]
        },
        {
          "output_type": "execute_result",
          "data": {
            "text/plain": [
              "[]"
            ]
          },
          "metadata": {},
          "execution_count": 77
        }
      ]
    },
    {
      "cell_type": "markdown",
      "source": [
        "In the \"Books\" table,`Book_ID` is the primary key, `Title` is the book's title, and `Publication_Date` is when the book was published. `Author_ID` is a foreign key that refers to the Author_ID in the \"Authors\" table, creating a link between each book and its author. Finally, `Genre` and `Pages` keep track of important infrormation about the book."
      ],
      "metadata": {
        "id": "vYBYQcyohyQE"
      }
    },
    {
      "cell_type": "markdown",
      "source": [
        "### Adding data with INSERT\n",
        "Now, we can add some data to our tables. Again, this is something we'll be covering in more detail later. First, let's add information for three authors:"
      ],
      "metadata": {
        "id": "xTSPrxXEiNSS"
      }
    },
    {
      "cell_type": "code",
      "source": [
        "%%sql\n",
        "DELETE FROM Authors;\n",
        "INSERT INTO Authors (Author_ID, Name, Birthdate)\n",
        "VALUES\n",
        "    (1, 'Mostrum Ridcully', '1045-02-28'),\n",
        "    (2, 'Granny Weatherwick', '1040-06-11'),\n",
        "    (3, 'Susan Death', '1060-12-17');"
      ],
      "metadata": {
        "colab": {
          "base_uri": "https://localhost:8080/"
        },
        "id": "xrwd-bPyhxXw",
        "outputId": "98100124-c0d7-4eb1-f237-9974e6678d17"
      },
      "execution_count": 78,
      "outputs": [
        {
          "output_type": "stream",
          "name": "stdout",
          "text": [
            " * sqlite:///unseen_library.db\n",
            "0 rows affected.\n",
            "3 rows affected.\n"
          ]
        },
        {
          "output_type": "execute_result",
          "data": {
            "text/plain": [
              "[]"
            ]
          },
          "metadata": {},
          "execution_count": 78
        }
      ]
    },
    {
      "cell_type": "markdown",
      "source": [
        "Now, we can information about the books:"
      ],
      "metadata": {
        "id": "P-TNbRRHkkWX"
      }
    },
    {
      "cell_type": "code",
      "source": [
        "%%sql\n",
        "\n",
        "DELETE FROM Books;\n",
        "INSERT INTO Books (Book_ID, Title, Author_ID, Publication_Date, Genre, Pages)\n",
        "VALUES\n",
        "(1, 'The Transmuting Toadstool', 1, '1071-04-15', 'Transmutation', 310),\n",
        "(2, 'Ghoul Goulash: A Necromancy Narrative', 2, '1075-10-31', 'Necromancy', 500),\n",
        "(3, 'The Drunken Diviner', 3, '1077-07-07', 'Divination', 200),\n",
        "(4, 'Bewitched Broomsticks: Household Magic', 1, '1080-12-21', 'Household', 185),\n",
        "(5, 'Alchemy of Amphibians', 1, '1082-03-01', 'Transmutation', 312),\n",
        "(6, 'Lunch with the Living Dead', 2, '1086-08-15', 'Necromancy', 503),\n",
        "(7, 'The Prophetic Pint: A Tavern Diviner’s Guide', 3, '1088-09-09', 'Divination', 202),\n",
        "(8, 'Cauldron Conundrums: Household Spells', 1, '1090-01-31', 'Household', 190),\n",
        "(9, 'Frog or Prince? The Transmutation Dilemma', 1, '1095-05-05', 'Transmutation', 320),\n",
        "(10, 'Dinner with the Deceased: A Necromancer’s Diary', 2, '1100-12-01', 'Necromancy', 520),\n",
        "(11, 'The Seer’s Stein: A Pub Divination Primer', 3, '1107-11-11', 'Divination', 210),\n",
        "(12, 'Magic Mops and More: A Household Guide', 1, '1110-02-28', 'Household', 195),\n",
        "(13, 'Lizard or Lord? The Transmutation Challenge', 1, '1115-06-06', 'Transmutation', 330),\n",
        "(14, 'Resurrecting Rodents: A Necromancer’s Notes', 2, '1120-09-01', 'Necromancy', 550),\n",
        "(15, 'The Predictive Pilsner: Alehouse Divination Decoded', 3, '1125-11-11', 'Divination', 220);\n"
      ],
      "metadata": {
        "colab": {
          "base_uri": "https://localhost:8080/"
        },
        "id": "zWfY9huzk_CN",
        "outputId": "b381563e-e389-430a-8f04-e227228aae12"
      },
      "execution_count": 79,
      "outputs": [
        {
          "output_type": "stream",
          "name": "stdout",
          "text": [
            " * sqlite:///unseen_library.db\n",
            "0 rows affected.\n",
            "15 rows affected.\n"
          ]
        },
        {
          "output_type": "execute_result",
          "data": {
            "text/plain": [
              "[]"
            ]
          },
          "metadata": {},
          "execution_count": 79
        }
      ]
    },
    {
      "cell_type": "markdown",
      "source": [
        "## Starting with SQL: SELECT and FROM\n",
        "\n",
        "Ok, now that we've created our tables and added some data, we can starting using our database (and learn some basic SQL along the way).\n",
        "\n",
        "The most basic SQL command is `SELECT`, which is used to **query** the data from a database. Here \"query\" means to fetch data from one or multiple tables where the data complies with certain criteria. It is the most commonly used command in SQL to perform tasks that relate to the fetching or retrieving of data from a database.  The simplest form of a `SELECT` statement is:\n",
        "\n",
        "```\n",
        "SELECT column1, column2, ..., columnN\n",
        "FROM table_name;\n",
        "\n",
        "```\n",
        "\n",
        "In this syntax, `column1, column2, ..., columnN` are the names of the columns you want to select from table_name. If you want to select all columns, you can use the `*`  symbol as a shorthand:\n",
        "\n",
        "```\n",
        "SELECT *\n",
        "FROM table_name;\n",
        "```\n",
        "Let's say the Librarian at Unseen University wants to view a list of all the book information  in the library. Here's how he'd do it:\n",
        "\n"
      ],
      "metadata": {
        "id": "IuPra0w5lnDL"
      }
    },
    {
      "cell_type": "code",
      "source": [
        "%%sql\n",
        "SELECT * FROM Books;"
      ],
      "metadata": {
        "colab": {
          "base_uri": "https://localhost:8080/",
          "height": 395
        },
        "id": "rDu1PnWQmffO",
        "outputId": "908c2bbe-20a5-421c-f53d-b2330cb6bfb4"
      },
      "execution_count": 80,
      "outputs": [
        {
          "output_type": "stream",
          "name": "stdout",
          "text": [
            " * sqlite:///unseen_library.db\n",
            "Done.\n"
          ]
        },
        {
          "output_type": "execute_result",
          "data": {
            "text/plain": [
              "[(1, 'The Transmuting Toadstool', 1, '1071-04-15', 'Transmutation', 310),\n",
              " (2, 'Ghoul Goulash: A Necromancy Narrative', 2, '1075-10-31', 'Necromancy', 500),\n",
              " (3, 'The Drunken Diviner', 3, '1077-07-07', 'Divination', 200),\n",
              " (4, 'Bewitched Broomsticks: Household Magic', 1, '1080-12-21', 'Household', 185),\n",
              " (5, 'Alchemy of Amphibians', 1, '1082-03-01', 'Transmutation', 312),\n",
              " (6, 'Lunch with the Living Dead', 2, '1086-08-15', 'Necromancy', 503),\n",
              " (7, 'The Prophetic Pint: A Tavern Diviner’s Guide', 3, '1088-09-09', 'Divination', 202),\n",
              " (8, 'Cauldron Conundrums: Household Spells', 1, '1090-01-31', 'Household', 190),\n",
              " (9, 'Frog or Prince? The Transmutation Dilemma', 1, '1095-05-05', 'Transmutation', 320),\n",
              " (10, 'Dinner with the Deceased: A Necromancer’s Diary', 2, '1100-12-01', 'Necromancy', 520),\n",
              " (11, 'The Seer’s Stein: A Pub Divination Primer', 3, '1107-11-11', 'Divination', 210),\n",
              " (12, 'Magic Mops and More: A Household Guide', 1, '1110-02-28', 'Household', 195),\n",
              " (13, 'Lizard or Lord? The Transmutation Challenge', 1, '1115-06-06', 'Transmutation', 330),\n",
              " (14, 'Resurrecting Rodents: A Necromancer’s Notes', 2, '1120-09-01', 'Necromancy', 550),\n",
              " (15, 'The Predictive Pilsner: Alehouse Divination Decoded', 3, '1125-11-11', 'Divination', 220)]"
            ],
            "text/html": [
              "<table>\n",
              "    <thead>\n",
              "        <tr>\n",
              "            <th>Book_ID</th>\n",
              "            <th>Title</th>\n",
              "            <th>Author_ID</th>\n",
              "            <th>Publication_Date</th>\n",
              "            <th>Genre</th>\n",
              "            <th>Pages</th>\n",
              "        </tr>\n",
              "    </thead>\n",
              "    <tbody>\n",
              "        <tr>\n",
              "            <td>1</td>\n",
              "            <td>The Transmuting Toadstool</td>\n",
              "            <td>1</td>\n",
              "            <td>1071-04-15</td>\n",
              "            <td>Transmutation</td>\n",
              "            <td>310</td>\n",
              "        </tr>\n",
              "        <tr>\n",
              "            <td>2</td>\n",
              "            <td>Ghoul Goulash: A Necromancy Narrative</td>\n",
              "            <td>2</td>\n",
              "            <td>1075-10-31</td>\n",
              "            <td>Necromancy</td>\n",
              "            <td>500</td>\n",
              "        </tr>\n",
              "        <tr>\n",
              "            <td>3</td>\n",
              "            <td>The Drunken Diviner</td>\n",
              "            <td>3</td>\n",
              "            <td>1077-07-07</td>\n",
              "            <td>Divination</td>\n",
              "            <td>200</td>\n",
              "        </tr>\n",
              "        <tr>\n",
              "            <td>4</td>\n",
              "            <td>Bewitched Broomsticks: Household Magic</td>\n",
              "            <td>1</td>\n",
              "            <td>1080-12-21</td>\n",
              "            <td>Household</td>\n",
              "            <td>185</td>\n",
              "        </tr>\n",
              "        <tr>\n",
              "            <td>5</td>\n",
              "            <td>Alchemy of Amphibians</td>\n",
              "            <td>1</td>\n",
              "            <td>1082-03-01</td>\n",
              "            <td>Transmutation</td>\n",
              "            <td>312</td>\n",
              "        </tr>\n",
              "        <tr>\n",
              "            <td>6</td>\n",
              "            <td>Lunch with the Living Dead</td>\n",
              "            <td>2</td>\n",
              "            <td>1086-08-15</td>\n",
              "            <td>Necromancy</td>\n",
              "            <td>503</td>\n",
              "        </tr>\n",
              "        <tr>\n",
              "            <td>7</td>\n",
              "            <td>The Prophetic Pint: A Tavern Diviner’s Guide</td>\n",
              "            <td>3</td>\n",
              "            <td>1088-09-09</td>\n",
              "            <td>Divination</td>\n",
              "            <td>202</td>\n",
              "        </tr>\n",
              "        <tr>\n",
              "            <td>8</td>\n",
              "            <td>Cauldron Conundrums: Household Spells</td>\n",
              "            <td>1</td>\n",
              "            <td>1090-01-31</td>\n",
              "            <td>Household</td>\n",
              "            <td>190</td>\n",
              "        </tr>\n",
              "        <tr>\n",
              "            <td>9</td>\n",
              "            <td>Frog or Prince? The Transmutation Dilemma</td>\n",
              "            <td>1</td>\n",
              "            <td>1095-05-05</td>\n",
              "            <td>Transmutation</td>\n",
              "            <td>320</td>\n",
              "        </tr>\n",
              "        <tr>\n",
              "            <td>10</td>\n",
              "            <td>Dinner with the Deceased: A Necromancer’s Diary</td>\n",
              "            <td>2</td>\n",
              "            <td>1100-12-01</td>\n",
              "            <td>Necromancy</td>\n",
              "            <td>520</td>\n",
              "        </tr>\n",
              "        <tr>\n",
              "            <td>11</td>\n",
              "            <td>The Seer’s Stein: A Pub Divination Primer</td>\n",
              "            <td>3</td>\n",
              "            <td>1107-11-11</td>\n",
              "            <td>Divination</td>\n",
              "            <td>210</td>\n",
              "        </tr>\n",
              "        <tr>\n",
              "            <td>12</td>\n",
              "            <td>Magic Mops and More: A Household Guide</td>\n",
              "            <td>1</td>\n",
              "            <td>1110-02-28</td>\n",
              "            <td>Household</td>\n",
              "            <td>195</td>\n",
              "        </tr>\n",
              "        <tr>\n",
              "            <td>13</td>\n",
              "            <td>Lizard or Lord? The Transmutation Challenge</td>\n",
              "            <td>1</td>\n",
              "            <td>1115-06-06</td>\n",
              "            <td>Transmutation</td>\n",
              "            <td>330</td>\n",
              "        </tr>\n",
              "        <tr>\n",
              "            <td>14</td>\n",
              "            <td>Resurrecting Rodents: A Necromancer’s Notes</td>\n",
              "            <td>2</td>\n",
              "            <td>1120-09-01</td>\n",
              "            <td>Necromancy</td>\n",
              "            <td>550</td>\n",
              "        </tr>\n",
              "        <tr>\n",
              "            <td>15</td>\n",
              "            <td>The Predictive Pilsner: Alehouse Divination Decoded</td>\n",
              "            <td>3</td>\n",
              "            <td>1125-11-11</td>\n",
              "            <td>Divination</td>\n",
              "            <td>220</td>\n",
              "        </tr>\n",
              "    </tbody>\n",
              "</table>"
            ]
          },
          "metadata": {},
          "execution_count": 80
        }
      ]
    },
    {
      "cell_type": "markdown",
      "source": [
        "If the Librarian wants to view a list of all authors' names and their corresponding birthdates, we would use:"
      ],
      "metadata": {
        "id": "guWQGZQzmleS"
      }
    },
    {
      "cell_type": "code",
      "source": [
        "%%sql\n",
        "SELECT Name, Birthdate FROM Authors;"
      ],
      "metadata": {
        "colab": {
          "base_uri": "https://localhost:8080/",
          "height": 139
        },
        "id": "zwPjIrikmIQ8",
        "outputId": "af9e3ca2-b181-4fac-87ac-007734097aae"
      },
      "execution_count": 81,
      "outputs": [
        {
          "output_type": "stream",
          "name": "stdout",
          "text": [
            " * sqlite:///unseen_library.db\n",
            "Done.\n"
          ]
        },
        {
          "output_type": "execute_result",
          "data": {
            "text/plain": [
              "[('Mostrum Ridcully', '1045-02-28'),\n",
              " ('Granny Weatherwick', '1040-06-11'),\n",
              " ('Susan Death', '1060-12-17')]"
            ],
            "text/html": [
              "<table>\n",
              "    <thead>\n",
              "        <tr>\n",
              "            <th>Name</th>\n",
              "            <th>Birthdate</th>\n",
              "        </tr>\n",
              "    </thead>\n",
              "    <tbody>\n",
              "        <tr>\n",
              "            <td>Mostrum Ridcully</td>\n",
              "            <td>1045-02-28</td>\n",
              "        </tr>\n",
              "        <tr>\n",
              "            <td>Granny Weatherwick</td>\n",
              "            <td>1040-06-11</td>\n",
              "        </tr>\n",
              "        <tr>\n",
              "            <td>Susan Death</td>\n",
              "            <td>1060-12-17</td>\n",
              "        </tr>\n",
              "    </tbody>\n",
              "</table>"
            ]
          },
          "metadata": {},
          "execution_count": 81
        }
      ]
    },
    {
      "cell_type": "markdown",
      "source": [
        "These are very basic queries, but SQL becomes really powerful when you start filtering and ordering results, joining tables, and performing complex operations. We will cover those topics later in this chapter."
      ],
      "metadata": {
        "id": "a8ychEeEmveY"
      }
    },
    {
      "cell_type": "markdown",
      "source": [
        "## Sorting and limiting with ORDER BY and LIMIT\n",
        "After understanding how to use `SELECT` to fetch data, let's look at how to sort and limit the results we get using `ORDER BY` and `LIMIT`.\n",
        "\n",
        "### ORDER BY\n",
        "The `ORDER BY` keyword is used in SQL to sort the result-set in ascending or descending order. The `ORDER BY` keyword sorts the records in ascending order by default. If you want to sort the records in descending order, you can use the `DESC` keyword. Here's the basic syntax:\n",
        "```\n",
        "    SELECT column1, column2, ..., columnN\n",
        "    FROM table_name\n",
        "    ORDER BY column1 [ASC|DESC],\n",
        "      column2 [ASC|DESC], ...\n",
        "      columnN [ASC|DESC];\n",
        "\n",
        "```\n",
        "Let's say the librarian wants to view the book titles alphabetically. He would do:\n"
      ],
      "metadata": {
        "id": "yh7GmUJrmvjn"
      }
    },
    {
      "cell_type": "code",
      "source": [
        "%%sql\n",
        "SELECT * FROM Books ORDER BY Title ASC;"
      ],
      "metadata": {
        "colab": {
          "base_uri": "https://localhost:8080/",
          "height": 395
        },
        "id": "Z_tV2GwOni5t",
        "outputId": "c44954f7-75e8-4bdc-8d66-68125cdcff68"
      },
      "execution_count": 106,
      "outputs": [
        {
          "output_type": "stream",
          "name": "stdout",
          "text": [
            " * sqlite:///unseen_library.db\n",
            "Done.\n"
          ]
        },
        {
          "output_type": "execute_result",
          "data": {
            "text/plain": [
              "[(5, 'Alchemy of Amphibians', 1, '1082-03-01', 'Transmutation', 312),\n",
              " (4, 'Bewitched Broomsticks: Household Magic', 1, '1080-12-21', 'Household', 185),\n",
              " (8, 'Cauldron Conundrums: Household Spells', 1, '1090-01-31', 'Household', 190),\n",
              " (10, 'Dinner with the Deceased: A Necromancer’s Diary', 2, '1100-12-01', 'Necromancy', 520),\n",
              " (9, 'Frog or Prince? The Transmutation Dilemma', 1, '1095-05-05', 'Transmutation', 320),\n",
              " (2, 'Ghoul Goulash: A Necromancy Narrative', 2, '1075-10-31', 'Necromancy', 500),\n",
              " (13, 'Lizard or Lord? The Transmutation Challenge', 1, '1115-06-06', 'Transmutation', 330),\n",
              " (6, 'Lunch with the Living Dead', 2, '1086-08-15', 'Necromancy', 503),\n",
              " (12, 'Magic Mops and More: A Household Guide', 1, '1110-02-28', 'Household', 195),\n",
              " (14, 'Resurrecting Rodents: A Necromancer’s Notes', 2, '1120-09-01', 'Necromancy', 550),\n",
              " (3, 'The Drunken Diviner', 3, '1077-07-07', 'Divination', 200),\n",
              " (15, 'The Predictive Pilsner: Alehouse Divination Decoded', 3, '1125-11-11', 'Divination', 220),\n",
              " (7, 'The Prophetic Pint: A Tavern Diviner’s Guide', 3, '1088-09-09', 'Divination', 202),\n",
              " (11, 'The Seer’s Stein: A Pub Divination Primer', 3, '1107-11-11', 'Divination', 210),\n",
              " (1, 'The Transmuting Toadstool', 1, '1071-04-15', 'Transmutation', 310)]"
            ],
            "text/html": [
              "<table>\n",
              "    <thead>\n",
              "        <tr>\n",
              "            <th>Book_ID</th>\n",
              "            <th>Title</th>\n",
              "            <th>Author_ID</th>\n",
              "            <th>Publication_Date</th>\n",
              "            <th>Genre</th>\n",
              "            <th>Pages</th>\n",
              "        </tr>\n",
              "    </thead>\n",
              "    <tbody>\n",
              "        <tr>\n",
              "            <td>5</td>\n",
              "            <td>Alchemy of Amphibians</td>\n",
              "            <td>1</td>\n",
              "            <td>1082-03-01</td>\n",
              "            <td>Transmutation</td>\n",
              "            <td>312</td>\n",
              "        </tr>\n",
              "        <tr>\n",
              "            <td>4</td>\n",
              "            <td>Bewitched Broomsticks: Household Magic</td>\n",
              "            <td>1</td>\n",
              "            <td>1080-12-21</td>\n",
              "            <td>Household</td>\n",
              "            <td>185</td>\n",
              "        </tr>\n",
              "        <tr>\n",
              "            <td>8</td>\n",
              "            <td>Cauldron Conundrums: Household Spells</td>\n",
              "            <td>1</td>\n",
              "            <td>1090-01-31</td>\n",
              "            <td>Household</td>\n",
              "            <td>190</td>\n",
              "        </tr>\n",
              "        <tr>\n",
              "            <td>10</td>\n",
              "            <td>Dinner with the Deceased: A Necromancer’s Diary</td>\n",
              "            <td>2</td>\n",
              "            <td>1100-12-01</td>\n",
              "            <td>Necromancy</td>\n",
              "            <td>520</td>\n",
              "        </tr>\n",
              "        <tr>\n",
              "            <td>9</td>\n",
              "            <td>Frog or Prince? The Transmutation Dilemma</td>\n",
              "            <td>1</td>\n",
              "            <td>1095-05-05</td>\n",
              "            <td>Transmutation</td>\n",
              "            <td>320</td>\n",
              "        </tr>\n",
              "        <tr>\n",
              "            <td>2</td>\n",
              "            <td>Ghoul Goulash: A Necromancy Narrative</td>\n",
              "            <td>2</td>\n",
              "            <td>1075-10-31</td>\n",
              "            <td>Necromancy</td>\n",
              "            <td>500</td>\n",
              "        </tr>\n",
              "        <tr>\n",
              "            <td>13</td>\n",
              "            <td>Lizard or Lord? The Transmutation Challenge</td>\n",
              "            <td>1</td>\n",
              "            <td>1115-06-06</td>\n",
              "            <td>Transmutation</td>\n",
              "            <td>330</td>\n",
              "        </tr>\n",
              "        <tr>\n",
              "            <td>6</td>\n",
              "            <td>Lunch with the Living Dead</td>\n",
              "            <td>2</td>\n",
              "            <td>1086-08-15</td>\n",
              "            <td>Necromancy</td>\n",
              "            <td>503</td>\n",
              "        </tr>\n",
              "        <tr>\n",
              "            <td>12</td>\n",
              "            <td>Magic Mops and More: A Household Guide</td>\n",
              "            <td>1</td>\n",
              "            <td>1110-02-28</td>\n",
              "            <td>Household</td>\n",
              "            <td>195</td>\n",
              "        </tr>\n",
              "        <tr>\n",
              "            <td>14</td>\n",
              "            <td>Resurrecting Rodents: A Necromancer’s Notes</td>\n",
              "            <td>2</td>\n",
              "            <td>1120-09-01</td>\n",
              "            <td>Necromancy</td>\n",
              "            <td>550</td>\n",
              "        </tr>\n",
              "        <tr>\n",
              "            <td>3</td>\n",
              "            <td>The Drunken Diviner</td>\n",
              "            <td>3</td>\n",
              "            <td>1077-07-07</td>\n",
              "            <td>Divination</td>\n",
              "            <td>200</td>\n",
              "        </tr>\n",
              "        <tr>\n",
              "            <td>15</td>\n",
              "            <td>The Predictive Pilsner: Alehouse Divination Decoded</td>\n",
              "            <td>3</td>\n",
              "            <td>1125-11-11</td>\n",
              "            <td>Divination</td>\n",
              "            <td>220</td>\n",
              "        </tr>\n",
              "        <tr>\n",
              "            <td>7</td>\n",
              "            <td>The Prophetic Pint: A Tavern Diviner’s Guide</td>\n",
              "            <td>3</td>\n",
              "            <td>1088-09-09</td>\n",
              "            <td>Divination</td>\n",
              "            <td>202</td>\n",
              "        </tr>\n",
              "        <tr>\n",
              "            <td>11</td>\n",
              "            <td>The Seer’s Stein: A Pub Divination Primer</td>\n",
              "            <td>3</td>\n",
              "            <td>1107-11-11</td>\n",
              "            <td>Divination</td>\n",
              "            <td>210</td>\n",
              "        </tr>\n",
              "        <tr>\n",
              "            <td>1</td>\n",
              "            <td>The Transmuting Toadstool</td>\n",
              "            <td>1</td>\n",
              "            <td>1071-04-15</td>\n",
              "            <td>Transmutation</td>\n",
              "            <td>310</td>\n",
              "        </tr>\n",
              "    </tbody>\n",
              "</table>"
            ]
          },
          "metadata": {},
          "execution_count": 106
        }
      ]
    },
    {
      "cell_type": "markdown",
      "source": [
        "If he wants to view the authors in order of their birthdates, from oldest to youngest, he would do:"
      ],
      "metadata": {
        "id": "IzRsMO13nnTh"
      }
    },
    {
      "cell_type": "code",
      "source": [
        "%%sql\n",
        "SELECT * FROM Authors ORDER BY Birthdate ASC;\n"
      ],
      "metadata": {
        "colab": {
          "base_uri": "https://localhost:8080/",
          "height": 139
        },
        "id": "WHLGVAi6nolU",
        "outputId": "ef3ef335-7316-44ca-d422-cd3ebcaf8f83"
      },
      "execution_count": 104,
      "outputs": [
        {
          "output_type": "stream",
          "name": "stdout",
          "text": [
            " * sqlite:///unseen_library.db\n",
            "Done.\n"
          ]
        },
        {
          "output_type": "execute_result",
          "data": {
            "text/plain": [
              "[(2, 'Granny Weatherwick', '1040-06-11'),\n",
              " (1, 'Mostrum Ridcully', '1045-02-28'),\n",
              " (3, 'Susan Death', '1060-12-17')]"
            ],
            "text/html": [
              "<table>\n",
              "    <thead>\n",
              "        <tr>\n",
              "            <th>Author_ID</th>\n",
              "            <th>Name</th>\n",
              "            <th>Birthdate</th>\n",
              "        </tr>\n",
              "    </thead>\n",
              "    <tbody>\n",
              "        <tr>\n",
              "            <td>2</td>\n",
              "            <td>Granny Weatherwick</td>\n",
              "            <td>1040-06-11</td>\n",
              "        </tr>\n",
              "        <tr>\n",
              "            <td>1</td>\n",
              "            <td>Mostrum Ridcully</td>\n",
              "            <td>1045-02-28</td>\n",
              "        </tr>\n",
              "        <tr>\n",
              "            <td>3</td>\n",
              "            <td>Susan Death</td>\n",
              "            <td>1060-12-17</td>\n",
              "        </tr>\n",
              "    </tbody>\n",
              "</table>"
            ]
          },
          "metadata": {},
          "execution_count": 104
        }
      ]
    },
    {
      "cell_type": "markdown",
      "source": [
        "Conversely, if he wants to view the authors from youngest to oldest, he would simply replace `ASC` with `DESC:`"
      ],
      "metadata": {
        "id": "8VAsyrmjnrsp"
      }
    },
    {
      "cell_type": "code",
      "source": [
        "%%sql\n",
        "SELECT * FROM Authors ORDER BY Birthdate DESC;"
      ],
      "metadata": {
        "colab": {
          "base_uri": "https://localhost:8080/",
          "height": 139
        },
        "id": "jWKpuWhJnuo5",
        "outputId": "ddea04d2-ff76-40f8-87c4-d4ac3b4e0101"
      },
      "execution_count": 105,
      "outputs": [
        {
          "output_type": "stream",
          "name": "stdout",
          "text": [
            " * sqlite:///unseen_library.db\n",
            "Done.\n"
          ]
        },
        {
          "output_type": "execute_result",
          "data": {
            "text/plain": [
              "[(3, 'Susan Death', '1060-12-17'),\n",
              " (1, 'Mostrum Ridcully', '1045-02-28'),\n",
              " (2, 'Granny Weatherwick', '1040-06-11')]"
            ],
            "text/html": [
              "<table>\n",
              "    <thead>\n",
              "        <tr>\n",
              "            <th>Author_ID</th>\n",
              "            <th>Name</th>\n",
              "            <th>Birthdate</th>\n",
              "        </tr>\n",
              "    </thead>\n",
              "    <tbody>\n",
              "        <tr>\n",
              "            <td>3</td>\n",
              "            <td>Susan Death</td>\n",
              "            <td>1060-12-17</td>\n",
              "        </tr>\n",
              "        <tr>\n",
              "            <td>1</td>\n",
              "            <td>Mostrum Ridcully</td>\n",
              "            <td>1045-02-28</td>\n",
              "        </tr>\n",
              "        <tr>\n",
              "            <td>2</td>\n",
              "            <td>Granny Weatherwick</td>\n",
              "            <td>1040-06-11</td>\n",
              "        </tr>\n",
              "    </tbody>\n",
              "</table>"
            ]
          },
          "metadata": {},
          "execution_count": 105
        }
      ]
    },
    {
      "cell_type": "markdown",
      "source": [
        "### LIMIT\n",
        "The `LIMIT` keyword is used to set an upper limit on the number of tuples returned by SQL. It is useful when you want to test a query on a handful of rows of a table. Here's the basic syntax:\n",
        "\n",
        "```\n",
        "SELECT column1, column2, ..., columnN\n",
        "FROM table_name\n",
        "LIMIT number;\n",
        "```\n",
        "\n",
        "For instance, if the librarian only wants to see the first 5 books in the database when ordered by title, he would use:"
      ],
      "metadata": {
        "id": "7H7ga2NBn-m0"
      }
    },
    {
      "cell_type": "code",
      "source": [
        "%%sql\n",
        "SELECT * FROM Books ORDER BY Title ASC LIMIT 5;\n"
      ],
      "metadata": {
        "colab": {
          "base_uri": "https://localhost:8080/",
          "height": 182
        },
        "id": "6myLLuAsoBGa",
        "outputId": "45a6d488-fe92-4584-81ee-9be740d24bf1"
      },
      "execution_count": 85,
      "outputs": [
        {
          "output_type": "stream",
          "name": "stdout",
          "text": [
            " * sqlite:///unseen_library.db\n",
            "Done.\n"
          ]
        },
        {
          "output_type": "execute_result",
          "data": {
            "text/plain": [
              "[(5, 'Alchemy of Amphibians', 1, '1082-03-01', 'Transmutation', 312),\n",
              " (4, 'Bewitched Broomsticks: Household Magic', 1, '1080-12-21', 'Household', 185),\n",
              " (8, 'Cauldron Conundrums: Household Spells', 1, '1090-01-31', 'Household', 190),\n",
              " (10, 'Dinner with the Deceased: A Necromancer’s Diary', 2, '1100-12-01', 'Necromancy', 520),\n",
              " (9, 'Frog or Prince? The Transmutation Dilemma', 1, '1095-05-05', 'Transmutation', 320)]"
            ],
            "text/html": [
              "<table>\n",
              "    <thead>\n",
              "        <tr>\n",
              "            <th>Book_ID</th>\n",
              "            <th>Title</th>\n",
              "            <th>Author_ID</th>\n",
              "            <th>Publication_Date</th>\n",
              "            <th>Genre</th>\n",
              "            <th>Pages</th>\n",
              "        </tr>\n",
              "    </thead>\n",
              "    <tbody>\n",
              "        <tr>\n",
              "            <td>5</td>\n",
              "            <td>Alchemy of Amphibians</td>\n",
              "            <td>1</td>\n",
              "            <td>1082-03-01</td>\n",
              "            <td>Transmutation</td>\n",
              "            <td>312</td>\n",
              "        </tr>\n",
              "        <tr>\n",
              "            <td>4</td>\n",
              "            <td>Bewitched Broomsticks: Household Magic</td>\n",
              "            <td>1</td>\n",
              "            <td>1080-12-21</td>\n",
              "            <td>Household</td>\n",
              "            <td>185</td>\n",
              "        </tr>\n",
              "        <tr>\n",
              "            <td>8</td>\n",
              "            <td>Cauldron Conundrums: Household Spells</td>\n",
              "            <td>1</td>\n",
              "            <td>1090-01-31</td>\n",
              "            <td>Household</td>\n",
              "            <td>190</td>\n",
              "        </tr>\n",
              "        <tr>\n",
              "            <td>10</td>\n",
              "            <td>Dinner with the Deceased: A Necromancer’s Diary</td>\n",
              "            <td>2</td>\n",
              "            <td>1100-12-01</td>\n",
              "            <td>Necromancy</td>\n",
              "            <td>520</td>\n",
              "        </tr>\n",
              "        <tr>\n",
              "            <td>9</td>\n",
              "            <td>Frog or Prince? The Transmutation Dilemma</td>\n",
              "            <td>1</td>\n",
              "            <td>1095-05-05</td>\n",
              "            <td>Transmutation</td>\n",
              "            <td>320</td>\n",
              "        </tr>\n",
              "    </tbody>\n",
              "</table>"
            ]
          },
          "metadata": {},
          "execution_count": 85
        }
      ]
    },
    {
      "cell_type": "markdown",
      "source": [
        "If he only wants to see the three youngest authors:"
      ],
      "metadata": {
        "id": "50QCOcu6oNaL"
      }
    },
    {
      "cell_type": "code",
      "source": [
        "%%sql\n",
        "SELECT Name FROM Authors ORDER BY Birthdate DESC LIMIT 3;"
      ],
      "metadata": {
        "colab": {
          "base_uri": "https://localhost:8080/",
          "height": 139
        },
        "id": "5WrWZjzHoPBn",
        "outputId": "d0879580-d24f-4383-c785-0000b0c21cbe"
      },
      "execution_count": 86,
      "outputs": [
        {
          "output_type": "stream",
          "name": "stdout",
          "text": [
            " * sqlite:///unseen_library.db\n",
            "Done.\n"
          ]
        },
        {
          "output_type": "execute_result",
          "data": {
            "text/plain": [
              "[('Susan Death',), ('Mostrum Ridcully',), ('Granny Weatherwick',)]"
            ],
            "text/html": [
              "<table>\n",
              "    <thead>\n",
              "        <tr>\n",
              "            <th>Name</th>\n",
              "        </tr>\n",
              "    </thead>\n",
              "    <tbody>\n",
              "        <tr>\n",
              "            <td>Susan Death</td>\n",
              "        </tr>\n",
              "        <tr>\n",
              "            <td>Mostrum Ridcully</td>\n",
              "        </tr>\n",
              "        <tr>\n",
              "            <td>Granny Weatherwick</td>\n",
              "        </tr>\n",
              "    </tbody>\n",
              "</table>"
            ]
          },
          "metadata": {},
          "execution_count": 86
        }
      ]
    },
    {
      "cell_type": "markdown",
      "source": [
        "In these ways, `ORDER BY` and `LIMIT` help us handle the data returned by `SELECT` in more useful and manageable ways."
      ],
      "metadata": {
        "id": "M2H2-WgsoS5M"
      }
    },
    {
      "cell_type": "markdown",
      "source": [
        "## Filtering Data with WHERE and LKE\n",
        "\n",
        "The `WHERE` keyword is used to **filter** records based on specific conditions. It's used to extract only those records that fulfill a specified condition. Along with SELECT and FROM, a WHERE clause is part of almost every SQL query. The basic form is:\n",
        "\n",
        "```\n",
        "SELECT col1, col2, .... coln\n",
        "FROM table\n",
        "WHERE condition\n",
        "```\n",
        "\n",
        "For example, if the librarian wants to find a book with title \"Alchemy of Amphibians,\" he could do the following:"
      ],
      "metadata": {
        "id": "MM0JzVdSyig7"
      }
    },
    {
      "cell_type": "code",
      "source": [
        "%%sql\n",
        "SELECT * FROM Books WHERE Title = \"Alchemy of Amphibians\";"
      ],
      "metadata": {
        "colab": {
          "base_uri": "https://localhost:8080/",
          "height": 96
        },
        "id": "gfyAThE7oVz1",
        "outputId": "4d88db10-87bd-4be4-ad74-9c341dae8ad3"
      },
      "execution_count": 87,
      "outputs": [
        {
          "output_type": "stream",
          "name": "stdout",
          "text": [
            " * sqlite:///unseen_library.db\n",
            "Done.\n"
          ]
        },
        {
          "output_type": "execute_result",
          "data": {
            "text/plain": [
              "[(5, 'Alchemy of Amphibians', 1, '1082-03-01', 'Transmutation', 312)]"
            ],
            "text/html": [
              "<table>\n",
              "    <thead>\n",
              "        <tr>\n",
              "            <th>Book_ID</th>\n",
              "            <th>Title</th>\n",
              "            <th>Author_ID</th>\n",
              "            <th>Publication_Date</th>\n",
              "            <th>Genre</th>\n",
              "            <th>Pages</th>\n",
              "        </tr>\n",
              "    </thead>\n",
              "    <tbody>\n",
              "        <tr>\n",
              "            <td>5</td>\n",
              "            <td>Alchemy of Amphibians</td>\n",
              "            <td>1</td>\n",
              "            <td>1082-03-01</td>\n",
              "            <td>Transmutation</td>\n",
              "            <td>312</td>\n",
              "        </tr>\n",
              "    </tbody>\n",
              "</table>"
            ]
          },
          "metadata": {},
          "execution_count": 87
        }
      ]
    },
    {
      "cell_type": "markdown",
      "source": [
        "The `=` operator is used here to test equality. If he wants to find all books by a certain author, say an author with the Author_ID of 3, he could use:"
      ],
      "metadata": {
        "id": "pe0ZPRaEzdDt"
      }
    },
    {
      "cell_type": "code",
      "source": [
        "%%sql\n",
        "SELECT * FROM Books WHERE Author_ID = 3;"
      ],
      "metadata": {
        "colab": {
          "base_uri": "https://localhost:8080/",
          "height": 161
        },
        "id": "-XM-9ruDzgwY",
        "outputId": "a93ed019-35ff-443b-d397-73ea4e49ec32"
      },
      "execution_count": 88,
      "outputs": [
        {
          "output_type": "stream",
          "name": "stdout",
          "text": [
            " * sqlite:///unseen_library.db\n",
            "Done.\n"
          ]
        },
        {
          "output_type": "execute_result",
          "data": {
            "text/plain": [
              "[(3, 'The Drunken Diviner', 3, '1077-07-07', 'Divination', 200),\n",
              " (7, 'The Prophetic Pint: A Tavern Diviner’s Guide', 3, '1088-09-09', 'Divination', 202),\n",
              " (11, 'The Seer’s Stein: A Pub Divination Primer', 3, '1107-11-11', 'Divination', 210),\n",
              " (15, 'The Predictive Pilsner: Alehouse Divination Decoded', 3, '1125-11-11', 'Divination', 220)]"
            ],
            "text/html": [
              "<table>\n",
              "    <thead>\n",
              "        <tr>\n",
              "            <th>Book_ID</th>\n",
              "            <th>Title</th>\n",
              "            <th>Author_ID</th>\n",
              "            <th>Publication_Date</th>\n",
              "            <th>Genre</th>\n",
              "            <th>Pages</th>\n",
              "        </tr>\n",
              "    </thead>\n",
              "    <tbody>\n",
              "        <tr>\n",
              "            <td>3</td>\n",
              "            <td>The Drunken Diviner</td>\n",
              "            <td>3</td>\n",
              "            <td>1077-07-07</td>\n",
              "            <td>Divination</td>\n",
              "            <td>200</td>\n",
              "        </tr>\n",
              "        <tr>\n",
              "            <td>7</td>\n",
              "            <td>The Prophetic Pint: A Tavern Diviner’s Guide</td>\n",
              "            <td>3</td>\n",
              "            <td>1088-09-09</td>\n",
              "            <td>Divination</td>\n",
              "            <td>202</td>\n",
              "        </tr>\n",
              "        <tr>\n",
              "            <td>11</td>\n",
              "            <td>The Seer’s Stein: A Pub Divination Primer</td>\n",
              "            <td>3</td>\n",
              "            <td>1107-11-11</td>\n",
              "            <td>Divination</td>\n",
              "            <td>210</td>\n",
              "        </tr>\n",
              "        <tr>\n",
              "            <td>15</td>\n",
              "            <td>The Predictive Pilsner: Alehouse Divination Decoded</td>\n",
              "            <td>3</td>\n",
              "            <td>1125-11-11</td>\n",
              "            <td>Divination</td>\n",
              "            <td>220</td>\n",
              "        </tr>\n",
              "    </tbody>\n",
              "</table>"
            ]
          },
          "metadata": {},
          "execution_count": 88
        }
      ]
    },
    {
      "cell_type": "markdown",
      "source": [
        "### LIKE\n",
        "The `LIKE` operator is used in a `WHERE` clause to search for a specified pattern in a column. There are two wildcards used in conjunction with the `LIKE` operator:\n",
        "\n",
        "-   `%`: The percent sign represents zero, one, or multiple characters.\n",
        "-   `_`: The underscore represents a single character.\n",
        "\n",
        "These symbols can be used in combinations. Here's the basic syntax:\n",
        "\n",
        "```\n",
        "SELECT column1, column2, ..., columnN\n",
        "FROM table_name WHERE columnN\n",
        "LIKE pattern;\n",
        "```\n",
        "\n",
        "For instance, if our librarian wants to find any books with a title that starts with \"The\", he could use:"
      ],
      "metadata": {
        "id": "V_3D60wWzv2p"
      }
    },
    {
      "cell_type": "code",
      "source": [
        "%%sql\n",
        "SELECT * FROM Books WHERE Title LIKE 'The%';"
      ],
      "metadata": {
        "colab": {
          "base_uri": "https://localhost:8080/",
          "height": 182
        },
        "id": "SrI72zDQz5r4",
        "outputId": "ce41d09f-0a4d-4faf-9057-465d063424e2"
      },
      "execution_count": 89,
      "outputs": [
        {
          "output_type": "stream",
          "name": "stdout",
          "text": [
            " * sqlite:///unseen_library.db\n",
            "Done.\n"
          ]
        },
        {
          "output_type": "execute_result",
          "data": {
            "text/plain": [
              "[(1, 'The Transmuting Toadstool', 1, '1071-04-15', 'Transmutation', 310),\n",
              " (3, 'The Drunken Diviner', 3, '1077-07-07', 'Divination', 200),\n",
              " (7, 'The Prophetic Pint: A Tavern Diviner’s Guide', 3, '1088-09-09', 'Divination', 202),\n",
              " (11, 'The Seer’s Stein: A Pub Divination Primer', 3, '1107-11-11', 'Divination', 210),\n",
              " (15, 'The Predictive Pilsner: Alehouse Divination Decoded', 3, '1125-11-11', 'Divination', 220)]"
            ],
            "text/html": [
              "<table>\n",
              "    <thead>\n",
              "        <tr>\n",
              "            <th>Book_ID</th>\n",
              "            <th>Title</th>\n",
              "            <th>Author_ID</th>\n",
              "            <th>Publication_Date</th>\n",
              "            <th>Genre</th>\n",
              "            <th>Pages</th>\n",
              "        </tr>\n",
              "    </thead>\n",
              "    <tbody>\n",
              "        <tr>\n",
              "            <td>1</td>\n",
              "            <td>The Transmuting Toadstool</td>\n",
              "            <td>1</td>\n",
              "            <td>1071-04-15</td>\n",
              "            <td>Transmutation</td>\n",
              "            <td>310</td>\n",
              "        </tr>\n",
              "        <tr>\n",
              "            <td>3</td>\n",
              "            <td>The Drunken Diviner</td>\n",
              "            <td>3</td>\n",
              "            <td>1077-07-07</td>\n",
              "            <td>Divination</td>\n",
              "            <td>200</td>\n",
              "        </tr>\n",
              "        <tr>\n",
              "            <td>7</td>\n",
              "            <td>The Prophetic Pint: A Tavern Diviner’s Guide</td>\n",
              "            <td>3</td>\n",
              "            <td>1088-09-09</td>\n",
              "            <td>Divination</td>\n",
              "            <td>202</td>\n",
              "        </tr>\n",
              "        <tr>\n",
              "            <td>11</td>\n",
              "            <td>The Seer’s Stein: A Pub Divination Primer</td>\n",
              "            <td>3</td>\n",
              "            <td>1107-11-11</td>\n",
              "            <td>Divination</td>\n",
              "            <td>210</td>\n",
              "        </tr>\n",
              "        <tr>\n",
              "            <td>15</td>\n",
              "            <td>The Predictive Pilsner: Alehouse Divination Decoded</td>\n",
              "            <td>3</td>\n",
              "            <td>1125-11-11</td>\n",
              "            <td>Divination</td>\n",
              "            <td>220</td>\n",
              "        </tr>\n",
              "    </tbody>\n",
              "</table>"
            ]
          },
          "metadata": {},
          "execution_count": 89
        }
      ]
    },
    {
      "cell_type": "markdown",
      "source": [
        "This will match any book titles that start with \"The\", regardless of what follows after.\n",
        "\n",
        "If he wants to find books with  genres that end with \"n\", he could do the following:"
      ],
      "metadata": {
        "id": "y9XAFwaH0GIq"
      }
    },
    {
      "cell_type": "code",
      "source": [
        "%%sql\n",
        "\n",
        "SELECT * FROM Books WHERE Genre LIKE \"%n\";"
      ],
      "metadata": {
        "colab": {
          "base_uri": "https://localhost:8080/",
          "height": 246
        },
        "id": "aXQf_L2Jz8BR",
        "outputId": "fe6084c4-8c1a-4a68-a8b0-c10b043f03a8"
      },
      "execution_count": 90,
      "outputs": [
        {
          "output_type": "stream",
          "name": "stdout",
          "text": [
            " * sqlite:///unseen_library.db\n",
            "Done.\n"
          ]
        },
        {
          "output_type": "execute_result",
          "data": {
            "text/plain": [
              "[(1, 'The Transmuting Toadstool', 1, '1071-04-15', 'Transmutation', 310),\n",
              " (3, 'The Drunken Diviner', 3, '1077-07-07', 'Divination', 200),\n",
              " (5, 'Alchemy of Amphibians', 1, '1082-03-01', 'Transmutation', 312),\n",
              " (7, 'The Prophetic Pint: A Tavern Diviner’s Guide', 3, '1088-09-09', 'Divination', 202),\n",
              " (9, 'Frog or Prince? The Transmutation Dilemma', 1, '1095-05-05', 'Transmutation', 320),\n",
              " (11, 'The Seer’s Stein: A Pub Divination Primer', 3, '1107-11-11', 'Divination', 210),\n",
              " (13, 'Lizard or Lord? The Transmutation Challenge', 1, '1115-06-06', 'Transmutation', 330),\n",
              " (15, 'The Predictive Pilsner: Alehouse Divination Decoded', 3, '1125-11-11', 'Divination', 220)]"
            ],
            "text/html": [
              "<table>\n",
              "    <thead>\n",
              "        <tr>\n",
              "            <th>Book_ID</th>\n",
              "            <th>Title</th>\n",
              "            <th>Author_ID</th>\n",
              "            <th>Publication_Date</th>\n",
              "            <th>Genre</th>\n",
              "            <th>Pages</th>\n",
              "        </tr>\n",
              "    </thead>\n",
              "    <tbody>\n",
              "        <tr>\n",
              "            <td>1</td>\n",
              "            <td>The Transmuting Toadstool</td>\n",
              "            <td>1</td>\n",
              "            <td>1071-04-15</td>\n",
              "            <td>Transmutation</td>\n",
              "            <td>310</td>\n",
              "        </tr>\n",
              "        <tr>\n",
              "            <td>3</td>\n",
              "            <td>The Drunken Diviner</td>\n",
              "            <td>3</td>\n",
              "            <td>1077-07-07</td>\n",
              "            <td>Divination</td>\n",
              "            <td>200</td>\n",
              "        </tr>\n",
              "        <tr>\n",
              "            <td>5</td>\n",
              "            <td>Alchemy of Amphibians</td>\n",
              "            <td>1</td>\n",
              "            <td>1082-03-01</td>\n",
              "            <td>Transmutation</td>\n",
              "            <td>312</td>\n",
              "        </tr>\n",
              "        <tr>\n",
              "            <td>7</td>\n",
              "            <td>The Prophetic Pint: A Tavern Diviner’s Guide</td>\n",
              "            <td>3</td>\n",
              "            <td>1088-09-09</td>\n",
              "            <td>Divination</td>\n",
              "            <td>202</td>\n",
              "        </tr>\n",
              "        <tr>\n",
              "            <td>9</td>\n",
              "            <td>Frog or Prince? The Transmutation Dilemma</td>\n",
              "            <td>1</td>\n",
              "            <td>1095-05-05</td>\n",
              "            <td>Transmutation</td>\n",
              "            <td>320</td>\n",
              "        </tr>\n",
              "        <tr>\n",
              "            <td>11</td>\n",
              "            <td>The Seer’s Stein: A Pub Divination Primer</td>\n",
              "            <td>3</td>\n",
              "            <td>1107-11-11</td>\n",
              "            <td>Divination</td>\n",
              "            <td>210</td>\n",
              "        </tr>\n",
              "        <tr>\n",
              "            <td>13</td>\n",
              "            <td>Lizard or Lord? The Transmutation Challenge</td>\n",
              "            <td>1</td>\n",
              "            <td>1115-06-06</td>\n",
              "            <td>Transmutation</td>\n",
              "            <td>330</td>\n",
              "        </tr>\n",
              "        <tr>\n",
              "            <td>15</td>\n",
              "            <td>The Predictive Pilsner: Alehouse Divination Decoded</td>\n",
              "            <td>3</td>\n",
              "            <td>1125-11-11</td>\n",
              "            <td>Divination</td>\n",
              "            <td>220</td>\n",
              "        </tr>\n",
              "    </tbody>\n",
              "</table>"
            ]
          },
          "metadata": {},
          "execution_count": 90
        }
      ]
    },
    {
      "cell_type": "markdown",
      "source": [
        "Finally, he could look for books that had a colon (:) anywhere in the title"
      ],
      "metadata": {
        "id": "O8t69NMbzv64"
      }
    },
    {
      "cell_type": "code",
      "source": [
        "%%sql\n",
        "SELECT * FROM Books\n",
        "WHERE Title LIKE \"%:%\"\n",
        "LIMIT 5;"
      ],
      "metadata": {
        "colab": {
          "base_uri": "https://localhost:8080/",
          "height": 182
        },
        "id": "R7t0oZ26zg_k",
        "outputId": "18c08c91-6f5a-4497-e0f1-e93904074a63"
      },
      "execution_count": 91,
      "outputs": [
        {
          "output_type": "stream",
          "name": "stdout",
          "text": [
            " * sqlite:///unseen_library.db\n",
            "Done.\n"
          ]
        },
        {
          "output_type": "execute_result",
          "data": {
            "text/plain": [
              "[(2, 'Ghoul Goulash: A Necromancy Narrative', 2, '1075-10-31', 'Necromancy', 500),\n",
              " (4, 'Bewitched Broomsticks: Household Magic', 1, '1080-12-21', 'Household', 185),\n",
              " (7, 'The Prophetic Pint: A Tavern Diviner’s Guide', 3, '1088-09-09', 'Divination', 202),\n",
              " (8, 'Cauldron Conundrums: Household Spells', 1, '1090-01-31', 'Household', 190),\n",
              " (10, 'Dinner with the Deceased: A Necromancer’s Diary', 2, '1100-12-01', 'Necromancy', 520)]"
            ],
            "text/html": [
              "<table>\n",
              "    <thead>\n",
              "        <tr>\n",
              "            <th>Book_ID</th>\n",
              "            <th>Title</th>\n",
              "            <th>Author_ID</th>\n",
              "            <th>Publication_Date</th>\n",
              "            <th>Genre</th>\n",
              "            <th>Pages</th>\n",
              "        </tr>\n",
              "    </thead>\n",
              "    <tbody>\n",
              "        <tr>\n",
              "            <td>2</td>\n",
              "            <td>Ghoul Goulash: A Necromancy Narrative</td>\n",
              "            <td>2</td>\n",
              "            <td>1075-10-31</td>\n",
              "            <td>Necromancy</td>\n",
              "            <td>500</td>\n",
              "        </tr>\n",
              "        <tr>\n",
              "            <td>4</td>\n",
              "            <td>Bewitched Broomsticks: Household Magic</td>\n",
              "            <td>1</td>\n",
              "            <td>1080-12-21</td>\n",
              "            <td>Household</td>\n",
              "            <td>185</td>\n",
              "        </tr>\n",
              "        <tr>\n",
              "            <td>7</td>\n",
              "            <td>The Prophetic Pint: A Tavern Diviner’s Guide</td>\n",
              "            <td>3</td>\n",
              "            <td>1088-09-09</td>\n",
              "            <td>Divination</td>\n",
              "            <td>202</td>\n",
              "        </tr>\n",
              "        <tr>\n",
              "            <td>8</td>\n",
              "            <td>Cauldron Conundrums: Household Spells</td>\n",
              "            <td>1</td>\n",
              "            <td>1090-01-31</td>\n",
              "            <td>Household</td>\n",
              "            <td>190</td>\n",
              "        </tr>\n",
              "        <tr>\n",
              "            <td>10</td>\n",
              "            <td>Dinner with the Deceased: A Necromancer’s Diary</td>\n",
              "            <td>2</td>\n",
              "            <td>1100-12-01</td>\n",
              "            <td>Necromancy</td>\n",
              "            <td>520</td>\n",
              "        </tr>\n",
              "    </tbody>\n",
              "</table>"
            ]
          },
          "metadata": {},
          "execution_count": 91
        }
      ]
    },
    {
      "cell_type": "markdown",
      "source": [
        "## Filtering Based on Numbers or Dates\n",
        "The LIKE keyword is used for string/text data. However, we can also use `WHERE` to filter data that comes in the form of numbers or dates.\n",
        "\n",
        "\n",
        "### Greater than `>` and Less than `<` Operators:\n",
        "Let's say the librarian wants to find books that are more than 300 pages long. We could use the > operator:"
      ],
      "metadata": {
        "id": "H3i8pcOv1g-d"
      }
    },
    {
      "cell_type": "code",
      "source": [
        "%%sql\n",
        "SELECT * FROM Books WHERE Pages > 300;"
      ],
      "metadata": {
        "colab": {
          "base_uri": "https://localhost:8080/",
          "height": 246
        },
        "id": "tbpu8N9h38RB",
        "outputId": "57dbbb03-f82e-4786-aa38-20cb91dc840e"
      },
      "execution_count": 92,
      "outputs": [
        {
          "output_type": "stream",
          "name": "stdout",
          "text": [
            " * sqlite:///unseen_library.db\n",
            "Done.\n"
          ]
        },
        {
          "output_type": "execute_result",
          "data": {
            "text/plain": [
              "[(1, 'The Transmuting Toadstool', 1, '1071-04-15', 'Transmutation', 310),\n",
              " (2, 'Ghoul Goulash: A Necromancy Narrative', 2, '1075-10-31', 'Necromancy', 500),\n",
              " (5, 'Alchemy of Amphibians', 1, '1082-03-01', 'Transmutation', 312),\n",
              " (6, 'Lunch with the Living Dead', 2, '1086-08-15', 'Necromancy', 503),\n",
              " (9, 'Frog or Prince? The Transmutation Dilemma', 1, '1095-05-05', 'Transmutation', 320),\n",
              " (10, 'Dinner with the Deceased: A Necromancer’s Diary', 2, '1100-12-01', 'Necromancy', 520),\n",
              " (13, 'Lizard or Lord? The Transmutation Challenge', 1, '1115-06-06', 'Transmutation', 330),\n",
              " (14, 'Resurrecting Rodents: A Necromancer’s Notes', 2, '1120-09-01', 'Necromancy', 550)]"
            ],
            "text/html": [
              "<table>\n",
              "    <thead>\n",
              "        <tr>\n",
              "            <th>Book_ID</th>\n",
              "            <th>Title</th>\n",
              "            <th>Author_ID</th>\n",
              "            <th>Publication_Date</th>\n",
              "            <th>Genre</th>\n",
              "            <th>Pages</th>\n",
              "        </tr>\n",
              "    </thead>\n",
              "    <tbody>\n",
              "        <tr>\n",
              "            <td>1</td>\n",
              "            <td>The Transmuting Toadstool</td>\n",
              "            <td>1</td>\n",
              "            <td>1071-04-15</td>\n",
              "            <td>Transmutation</td>\n",
              "            <td>310</td>\n",
              "        </tr>\n",
              "        <tr>\n",
              "            <td>2</td>\n",
              "            <td>Ghoul Goulash: A Necromancy Narrative</td>\n",
              "            <td>2</td>\n",
              "            <td>1075-10-31</td>\n",
              "            <td>Necromancy</td>\n",
              "            <td>500</td>\n",
              "        </tr>\n",
              "        <tr>\n",
              "            <td>5</td>\n",
              "            <td>Alchemy of Amphibians</td>\n",
              "            <td>1</td>\n",
              "            <td>1082-03-01</td>\n",
              "            <td>Transmutation</td>\n",
              "            <td>312</td>\n",
              "        </tr>\n",
              "        <tr>\n",
              "            <td>6</td>\n",
              "            <td>Lunch with the Living Dead</td>\n",
              "            <td>2</td>\n",
              "            <td>1086-08-15</td>\n",
              "            <td>Necromancy</td>\n",
              "            <td>503</td>\n",
              "        </tr>\n",
              "        <tr>\n",
              "            <td>9</td>\n",
              "            <td>Frog or Prince? The Transmutation Dilemma</td>\n",
              "            <td>1</td>\n",
              "            <td>1095-05-05</td>\n",
              "            <td>Transmutation</td>\n",
              "            <td>320</td>\n",
              "        </tr>\n",
              "        <tr>\n",
              "            <td>10</td>\n",
              "            <td>Dinner with the Deceased: A Necromancer’s Diary</td>\n",
              "            <td>2</td>\n",
              "            <td>1100-12-01</td>\n",
              "            <td>Necromancy</td>\n",
              "            <td>520</td>\n",
              "        </tr>\n",
              "        <tr>\n",
              "            <td>13</td>\n",
              "            <td>Lizard or Lord? The Transmutation Challenge</td>\n",
              "            <td>1</td>\n",
              "            <td>1115-06-06</td>\n",
              "            <td>Transmutation</td>\n",
              "            <td>330</td>\n",
              "        </tr>\n",
              "        <tr>\n",
              "            <td>14</td>\n",
              "            <td>Resurrecting Rodents: A Necromancer’s Notes</td>\n",
              "            <td>2</td>\n",
              "            <td>1120-09-01</td>\n",
              "            <td>Necromancy</td>\n",
              "            <td>550</td>\n",
              "        </tr>\n",
              "    </tbody>\n",
              "</table>"
            ]
          },
          "metadata": {},
          "execution_count": 92
        }
      ]
    },
    {
      "cell_type": "markdown",
      "source": [
        "Similarly, if he wants to find books that are less than 200 pages long, we would use the `<` operator:"
      ],
      "metadata": {
        "id": "xO0UhMEC4App"
      }
    },
    {
      "cell_type": "code",
      "source": [
        "%%sql\n",
        "SELECT * FROM Books WHERE Pages < 200;"
      ],
      "metadata": {
        "colab": {
          "base_uri": "https://localhost:8080/",
          "height": 139
        },
        "id": "1oSJh-VO4CBs",
        "outputId": "6d2df4e3-3b1e-46a4-dabe-58f58a894395"
      },
      "execution_count": 93,
      "outputs": [
        {
          "output_type": "stream",
          "name": "stdout",
          "text": [
            " * sqlite:///unseen_library.db\n",
            "Done.\n"
          ]
        },
        {
          "output_type": "execute_result",
          "data": {
            "text/plain": [
              "[(4, 'Bewitched Broomsticks: Household Magic', 1, '1080-12-21', 'Household', 185),\n",
              " (8, 'Cauldron Conundrums: Household Spells', 1, '1090-01-31', 'Household', 190),\n",
              " (12, 'Magic Mops and More: A Household Guide', 1, '1110-02-28', 'Household', 195)]"
            ],
            "text/html": [
              "<table>\n",
              "    <thead>\n",
              "        <tr>\n",
              "            <th>Book_ID</th>\n",
              "            <th>Title</th>\n",
              "            <th>Author_ID</th>\n",
              "            <th>Publication_Date</th>\n",
              "            <th>Genre</th>\n",
              "            <th>Pages</th>\n",
              "        </tr>\n",
              "    </thead>\n",
              "    <tbody>\n",
              "        <tr>\n",
              "            <td>4</td>\n",
              "            <td>Bewitched Broomsticks: Household Magic</td>\n",
              "            <td>1</td>\n",
              "            <td>1080-12-21</td>\n",
              "            <td>Household</td>\n",
              "            <td>185</td>\n",
              "        </tr>\n",
              "        <tr>\n",
              "            <td>8</td>\n",
              "            <td>Cauldron Conundrums: Household Spells</td>\n",
              "            <td>1</td>\n",
              "            <td>1090-01-31</td>\n",
              "            <td>Household</td>\n",
              "            <td>190</td>\n",
              "        </tr>\n",
              "        <tr>\n",
              "            <td>12</td>\n",
              "            <td>Magic Mops and More: A Household Guide</td>\n",
              "            <td>1</td>\n",
              "            <td>1110-02-28</td>\n",
              "            <td>Household</td>\n",
              "            <td>195</td>\n",
              "        </tr>\n",
              "    </tbody>\n",
              "</table>"
            ]
          },
          "metadata": {},
          "execution_count": 93
        }
      ]
    },
    {
      "cell_type": "markdown",
      "source": [
        "This also works for dates. For example, if the librarian wants to find people born after 1050:"
      ],
      "metadata": {
        "id": "HHj3k4DW4UsF"
      }
    },
    {
      "cell_type": "code",
      "source": [
        "%%sql\n",
        "SELECT * FROM Authors WHERE Birthdate > '1050-01-01';"
      ],
      "metadata": {
        "colab": {
          "base_uri": "https://localhost:8080/",
          "height": 96
        },
        "id": "_Q15rpGX4aeQ",
        "outputId": "fc49c8f7-3a07-4e3b-98a1-94e3a9bac310"
      },
      "execution_count": 94,
      "outputs": [
        {
          "output_type": "stream",
          "name": "stdout",
          "text": [
            " * sqlite:///unseen_library.db\n",
            "Done.\n"
          ]
        },
        {
          "output_type": "execute_result",
          "data": {
            "text/plain": [
              "[(3, 'Susan Death', '1060-12-17')]"
            ],
            "text/html": [
              "<table>\n",
              "    <thead>\n",
              "        <tr>\n",
              "            <th>Author_ID</th>\n",
              "            <th>Name</th>\n",
              "            <th>Birthdate</th>\n",
              "        </tr>\n",
              "    </thead>\n",
              "    <tbody>\n",
              "        <tr>\n",
              "            <td>3</td>\n",
              "            <td>Susan Death</td>\n",
              "            <td>1060-12-17</td>\n",
              "        </tr>\n",
              "    </tbody>\n",
              "</table>"
            ]
          },
          "metadata": {},
          "execution_count": 94
        }
      ]
    },
    {
      "cell_type": "markdown",
      "source": [
        "### BETWEEN Operator:\n",
        "The `BETWEEN` operator selects values within a given range. The values can be numbers, text, or dates. It's inclusive: begin and end values are included.\n",
        "\n",
        "If the librarian wants to find books with page numbers ranging between 200 and 300, he would use:"
      ],
      "metadata": {
        "id": "BJlKkTaF4JTH"
      }
    },
    {
      "cell_type": "code",
      "source": [
        "%%sql\n",
        "SELECT * FROM Books WHERE Pages BETWEEN 200 AND 300;"
      ],
      "metadata": {
        "colab": {
          "base_uri": "https://localhost:8080/",
          "height": 161
        },
        "id": "BvuKZd5x4IZL",
        "outputId": "99285ecc-f2cd-428e-e164-b9af5c046533"
      },
      "execution_count": 95,
      "outputs": [
        {
          "output_type": "stream",
          "name": "stdout",
          "text": [
            " * sqlite:///unseen_library.db\n",
            "Done.\n"
          ]
        },
        {
          "output_type": "execute_result",
          "data": {
            "text/plain": [
              "[(3, 'The Drunken Diviner', 3, '1077-07-07', 'Divination', 200),\n",
              " (7, 'The Prophetic Pint: A Tavern Diviner’s Guide', 3, '1088-09-09', 'Divination', 202),\n",
              " (11, 'The Seer’s Stein: A Pub Divination Primer', 3, '1107-11-11', 'Divination', 210),\n",
              " (15, 'The Predictive Pilsner: Alehouse Divination Decoded', 3, '1125-11-11', 'Divination', 220)]"
            ],
            "text/html": [
              "<table>\n",
              "    <thead>\n",
              "        <tr>\n",
              "            <th>Book_ID</th>\n",
              "            <th>Title</th>\n",
              "            <th>Author_ID</th>\n",
              "            <th>Publication_Date</th>\n",
              "            <th>Genre</th>\n",
              "            <th>Pages</th>\n",
              "        </tr>\n",
              "    </thead>\n",
              "    <tbody>\n",
              "        <tr>\n",
              "            <td>3</td>\n",
              "            <td>The Drunken Diviner</td>\n",
              "            <td>3</td>\n",
              "            <td>1077-07-07</td>\n",
              "            <td>Divination</td>\n",
              "            <td>200</td>\n",
              "        </tr>\n",
              "        <tr>\n",
              "            <td>7</td>\n",
              "            <td>The Prophetic Pint: A Tavern Diviner’s Guide</td>\n",
              "            <td>3</td>\n",
              "            <td>1088-09-09</td>\n",
              "            <td>Divination</td>\n",
              "            <td>202</td>\n",
              "        </tr>\n",
              "        <tr>\n",
              "            <td>11</td>\n",
              "            <td>The Seer’s Stein: A Pub Divination Primer</td>\n",
              "            <td>3</td>\n",
              "            <td>1107-11-11</td>\n",
              "            <td>Divination</td>\n",
              "            <td>210</td>\n",
              "        </tr>\n",
              "        <tr>\n",
              "            <td>15</td>\n",
              "            <td>The Predictive Pilsner: Alehouse Divination Decoded</td>\n",
              "            <td>3</td>\n",
              "            <td>1125-11-11</td>\n",
              "            <td>Divination</td>\n",
              "            <td>220</td>\n",
              "        </tr>\n",
              "    </tbody>\n",
              "</table>"
            ]
          },
          "metadata": {},
          "execution_count": 95
        }
      ]
    },
    {
      "cell_type": "markdown",
      "source": [
        "Again, we can do this for dates as well. For example, let's find books published between 1080 and 1100."
      ],
      "metadata": {
        "id": "ioIxVcnf4gSp"
      }
    },
    {
      "cell_type": "code",
      "source": [
        "%%sql\n",
        "SELECT * FROM Books\n",
        "WHERE Publication_Date BETWEEN '1080-01-01' and '1100-01-01';\n"
      ],
      "metadata": {
        "colab": {
          "base_uri": "https://localhost:8080/",
          "height": 203
        },
        "id": "h3DuGRLH4mmf",
        "outputId": "567722e6-731e-45ab-aac0-45eeecf8a3f8"
      },
      "execution_count": 96,
      "outputs": [
        {
          "output_type": "stream",
          "name": "stdout",
          "text": [
            " * sqlite:///unseen_library.db\n",
            "Done.\n"
          ]
        },
        {
          "output_type": "execute_result",
          "data": {
            "text/plain": [
              "[(4, 'Bewitched Broomsticks: Household Magic', 1, '1080-12-21', 'Household', 185),\n",
              " (5, 'Alchemy of Amphibians', 1, '1082-03-01', 'Transmutation', 312),\n",
              " (6, 'Lunch with the Living Dead', 2, '1086-08-15', 'Necromancy', 503),\n",
              " (7, 'The Prophetic Pint: A Tavern Diviner’s Guide', 3, '1088-09-09', 'Divination', 202),\n",
              " (8, 'Cauldron Conundrums: Household Spells', 1, '1090-01-31', 'Household', 190),\n",
              " (9, 'Frog or Prince? The Transmutation Dilemma', 1, '1095-05-05', 'Transmutation', 320)]"
            ],
            "text/html": [
              "<table>\n",
              "    <thead>\n",
              "        <tr>\n",
              "            <th>Book_ID</th>\n",
              "            <th>Title</th>\n",
              "            <th>Author_ID</th>\n",
              "            <th>Publication_Date</th>\n",
              "            <th>Genre</th>\n",
              "            <th>Pages</th>\n",
              "        </tr>\n",
              "    </thead>\n",
              "    <tbody>\n",
              "        <tr>\n",
              "            <td>4</td>\n",
              "            <td>Bewitched Broomsticks: Household Magic</td>\n",
              "            <td>1</td>\n",
              "            <td>1080-12-21</td>\n",
              "            <td>Household</td>\n",
              "            <td>185</td>\n",
              "        </tr>\n",
              "        <tr>\n",
              "            <td>5</td>\n",
              "            <td>Alchemy of Amphibians</td>\n",
              "            <td>1</td>\n",
              "            <td>1082-03-01</td>\n",
              "            <td>Transmutation</td>\n",
              "            <td>312</td>\n",
              "        </tr>\n",
              "        <tr>\n",
              "            <td>6</td>\n",
              "            <td>Lunch with the Living Dead</td>\n",
              "            <td>2</td>\n",
              "            <td>1086-08-15</td>\n",
              "            <td>Necromancy</td>\n",
              "            <td>503</td>\n",
              "        </tr>\n",
              "        <tr>\n",
              "            <td>7</td>\n",
              "            <td>The Prophetic Pint: A Tavern Diviner’s Guide</td>\n",
              "            <td>3</td>\n",
              "            <td>1088-09-09</td>\n",
              "            <td>Divination</td>\n",
              "            <td>202</td>\n",
              "        </tr>\n",
              "        <tr>\n",
              "            <td>8</td>\n",
              "            <td>Cauldron Conundrums: Household Spells</td>\n",
              "            <td>1</td>\n",
              "            <td>1090-01-31</td>\n",
              "            <td>Household</td>\n",
              "            <td>190</td>\n",
              "        </tr>\n",
              "        <tr>\n",
              "            <td>9</td>\n",
              "            <td>Frog or Prince? The Transmutation Dilemma</td>\n",
              "            <td>1</td>\n",
              "            <td>1095-05-05</td>\n",
              "            <td>Transmutation</td>\n",
              "            <td>320</td>\n",
              "        </tr>\n",
              "    </tbody>\n",
              "</table>"
            ]
          },
          "metadata": {},
          "execution_count": 96
        }
      ]
    },
    {
      "cell_type": "markdown",
      "source": [
        "As you can see, the `WHERE` clause becomes extremely powerful when combined with these operators, allowing for complex and specific queries."
      ],
      "metadata": {
        "id": "80HmSDnw4_G0"
      }
    },
    {
      "cell_type": "markdown",
      "source": [
        "## Combining Conditiosns With AND, OR, and NOT\n",
        "When querying a relational database using SQL, it is often necessary to specify multiple conditions that a record must meet. SQL provides three logical operators for this purpose: AND, OR, and NOT.\n",
        "\n",
        "### AND\n",
        "The AND operator allows you to select only those records that satisfy *all* specified conditions. If you use the AND operator between two conditions, both of them must be true for a row to be included in the result set.\n",
        "\n",
        "Let's say we want to find all books that are of the 'Transmutation' genre and have more than 300 pages. For that, we can use the AND operator:"
      ],
      "metadata": {
        "id": "RNDBiuHL6ayO"
      }
    },
    {
      "cell_type": "code",
      "source": [
        "%%sql\n",
        "SELECT * FROM Books\n",
        "WHERE Genre = 'Transmutation' AND Pages > 300;\n"
      ],
      "metadata": {
        "colab": {
          "base_uri": "https://localhost:8080/",
          "height": 161
        },
        "id": "G0IbCzE47NZo",
        "outputId": "de95c252-95be-4916-cf93-9fc2fa032139"
      },
      "execution_count": 97,
      "outputs": [
        {
          "output_type": "stream",
          "name": "stdout",
          "text": [
            " * sqlite:///unseen_library.db\n",
            "Done.\n"
          ]
        },
        {
          "output_type": "execute_result",
          "data": {
            "text/plain": [
              "[(1, 'The Transmuting Toadstool', 1, '1071-04-15', 'Transmutation', 310),\n",
              " (5, 'Alchemy of Amphibians', 1, '1082-03-01', 'Transmutation', 312),\n",
              " (9, 'Frog or Prince? The Transmutation Dilemma', 1, '1095-05-05', 'Transmutation', 320),\n",
              " (13, 'Lizard or Lord? The Transmutation Challenge', 1, '1115-06-06', 'Transmutation', 330)]"
            ],
            "text/html": [
              "<table>\n",
              "    <thead>\n",
              "        <tr>\n",
              "            <th>Book_ID</th>\n",
              "            <th>Title</th>\n",
              "            <th>Author_ID</th>\n",
              "            <th>Publication_Date</th>\n",
              "            <th>Genre</th>\n",
              "            <th>Pages</th>\n",
              "        </tr>\n",
              "    </thead>\n",
              "    <tbody>\n",
              "        <tr>\n",
              "            <td>1</td>\n",
              "            <td>The Transmuting Toadstool</td>\n",
              "            <td>1</td>\n",
              "            <td>1071-04-15</td>\n",
              "            <td>Transmutation</td>\n",
              "            <td>310</td>\n",
              "        </tr>\n",
              "        <tr>\n",
              "            <td>5</td>\n",
              "            <td>Alchemy of Amphibians</td>\n",
              "            <td>1</td>\n",
              "            <td>1082-03-01</td>\n",
              "            <td>Transmutation</td>\n",
              "            <td>312</td>\n",
              "        </tr>\n",
              "        <tr>\n",
              "            <td>9</td>\n",
              "            <td>Frog or Prince? The Transmutation Dilemma</td>\n",
              "            <td>1</td>\n",
              "            <td>1095-05-05</td>\n",
              "            <td>Transmutation</td>\n",
              "            <td>320</td>\n",
              "        </tr>\n",
              "        <tr>\n",
              "            <td>13</td>\n",
              "            <td>Lizard or Lord? The Transmutation Challenge</td>\n",
              "            <td>1</td>\n",
              "            <td>1115-06-06</td>\n",
              "            <td>Transmutation</td>\n",
              "            <td>330</td>\n",
              "        </tr>\n",
              "    </tbody>\n",
              "</table>"
            ]
          },
          "metadata": {},
          "execution_count": 97
        }
      ]
    },
    {
      "cell_type": "markdown",
      "source": [
        "### OR\n",
        "The OR operator allows you to select records that satisfy *any* of the specified conditions. If you use the OR operator between two conditions, a row will be included in the result set if either (or both) of the conditions is true.\n",
        "\n",
        "Now, let's say we want to find books that are either of the 'Necromancy' genre or were published after 1100. For this, we can use the OR operator:"
      ],
      "metadata": {
        "id": "aVEU6Psk7FSS"
      }
    },
    {
      "cell_type": "code",
      "source": [
        "%%sql\n",
        "SELECT * FROM Books\n",
        "WHERE Genre = 'Necromancy' OR Publication_Date > '1100-01-01';\n"
      ],
      "metadata": {
        "colab": {
          "base_uri": "https://localhost:8080/",
          "height": 246
        },
        "id": "yK3M8d9X7WNK",
        "outputId": "f6fa6aa9-fd8e-4e13-c33e-864facf06f83"
      },
      "execution_count": 101,
      "outputs": [
        {
          "output_type": "stream",
          "name": "stdout",
          "text": [
            " * sqlite:///unseen_library.db\n",
            "Done.\n"
          ]
        },
        {
          "output_type": "execute_result",
          "data": {
            "text/plain": [
              "[(2, 'Ghoul Goulash: A Necromancy Narrative', 2, '1075-10-31', 'Necromancy', 500),\n",
              " (6, 'Lunch with the Living Dead', 2, '1086-08-15', 'Necromancy', 503),\n",
              " (10, 'Dinner with the Deceased: A Necromancer’s Diary', 2, '1100-12-01', 'Necromancy', 520),\n",
              " (11, 'The Seer’s Stein: A Pub Divination Primer', 3, '1107-11-11', 'Divination', 210),\n",
              " (12, 'Magic Mops and More: A Household Guide', 1, '1110-02-28', 'Household', 195),\n",
              " (13, 'Lizard or Lord? The Transmutation Challenge', 1, '1115-06-06', 'Transmutation', 330),\n",
              " (14, 'Resurrecting Rodents: A Necromancer’s Notes', 2, '1120-09-01', 'Necromancy', 550),\n",
              " (15, 'The Predictive Pilsner: Alehouse Divination Decoded', 3, '1125-11-11', 'Divination', 220)]"
            ],
            "text/html": [
              "<table>\n",
              "    <thead>\n",
              "        <tr>\n",
              "            <th>Book_ID</th>\n",
              "            <th>Title</th>\n",
              "            <th>Author_ID</th>\n",
              "            <th>Publication_Date</th>\n",
              "            <th>Genre</th>\n",
              "            <th>Pages</th>\n",
              "        </tr>\n",
              "    </thead>\n",
              "    <tbody>\n",
              "        <tr>\n",
              "            <td>2</td>\n",
              "            <td>Ghoul Goulash: A Necromancy Narrative</td>\n",
              "            <td>2</td>\n",
              "            <td>1075-10-31</td>\n",
              "            <td>Necromancy</td>\n",
              "            <td>500</td>\n",
              "        </tr>\n",
              "        <tr>\n",
              "            <td>6</td>\n",
              "            <td>Lunch with the Living Dead</td>\n",
              "            <td>2</td>\n",
              "            <td>1086-08-15</td>\n",
              "            <td>Necromancy</td>\n",
              "            <td>503</td>\n",
              "        </tr>\n",
              "        <tr>\n",
              "            <td>10</td>\n",
              "            <td>Dinner with the Deceased: A Necromancer’s Diary</td>\n",
              "            <td>2</td>\n",
              "            <td>1100-12-01</td>\n",
              "            <td>Necromancy</td>\n",
              "            <td>520</td>\n",
              "        </tr>\n",
              "        <tr>\n",
              "            <td>11</td>\n",
              "            <td>The Seer’s Stein: A Pub Divination Primer</td>\n",
              "            <td>3</td>\n",
              "            <td>1107-11-11</td>\n",
              "            <td>Divination</td>\n",
              "            <td>210</td>\n",
              "        </tr>\n",
              "        <tr>\n",
              "            <td>12</td>\n",
              "            <td>Magic Mops and More: A Household Guide</td>\n",
              "            <td>1</td>\n",
              "            <td>1110-02-28</td>\n",
              "            <td>Household</td>\n",
              "            <td>195</td>\n",
              "        </tr>\n",
              "        <tr>\n",
              "            <td>13</td>\n",
              "            <td>Lizard or Lord? The Transmutation Challenge</td>\n",
              "            <td>1</td>\n",
              "            <td>1115-06-06</td>\n",
              "            <td>Transmutation</td>\n",
              "            <td>330</td>\n",
              "        </tr>\n",
              "        <tr>\n",
              "            <td>14</td>\n",
              "            <td>Resurrecting Rodents: A Necromancer’s Notes</td>\n",
              "            <td>2</td>\n",
              "            <td>1120-09-01</td>\n",
              "            <td>Necromancy</td>\n",
              "            <td>550</td>\n",
              "        </tr>\n",
              "        <tr>\n",
              "            <td>15</td>\n",
              "            <td>The Predictive Pilsner: Alehouse Divination Decoded</td>\n",
              "            <td>3</td>\n",
              "            <td>1125-11-11</td>\n",
              "            <td>Divination</td>\n",
              "            <td>220</td>\n",
              "        </tr>\n",
              "    </tbody>\n",
              "</table>"
            ]
          },
          "metadata": {},
          "execution_count": 101
        }
      ]
    },
    {
      "cell_type": "markdown",
      "source": [
        "### NOT\n",
        "The NOT operator is used to exclude records that match a certain condition. When you put NOT before a condition, the condition is reversed: the query will return only the rows for which that condition is false.\n",
        "\n",
        "Suppose we want to find all books that are not of the 'Divination' genre. We can use the NOT operator for this:"
      ],
      "metadata": {
        "id": "ErVlfDKR7FoV"
      }
    },
    {
      "cell_type": "code",
      "source": [
        "%%sql\n",
        "SELECT * FROM Books\n",
        "WHERE NOT Genre = 'Divination'\n",
        "LIMIT 5;\n"
      ],
      "metadata": {
        "colab": {
          "base_uri": "https://localhost:8080/",
          "height": 182
        },
        "id": "0n1ePwDg7eoS",
        "outputId": "dbd796e5-7a05-486c-cc07-5fa12acd0896"
      },
      "execution_count": 102,
      "outputs": [
        {
          "output_type": "stream",
          "name": "stdout",
          "text": [
            " * sqlite:///unseen_library.db\n",
            "Done.\n"
          ]
        },
        {
          "output_type": "execute_result",
          "data": {
            "text/plain": [
              "[(1, 'The Transmuting Toadstool', 1, '1071-04-15', 'Transmutation', 310),\n",
              " (2, 'Ghoul Goulash: A Necromancy Narrative', 2, '1075-10-31', 'Necromancy', 500),\n",
              " (4, 'Bewitched Broomsticks: Household Magic', 1, '1080-12-21', 'Household', 185),\n",
              " (5, 'Alchemy of Amphibians', 1, '1082-03-01', 'Transmutation', 312),\n",
              " (6, 'Lunch with the Living Dead', 2, '1086-08-15', 'Necromancy', 503)]"
            ],
            "text/html": [
              "<table>\n",
              "    <thead>\n",
              "        <tr>\n",
              "            <th>Book_ID</th>\n",
              "            <th>Title</th>\n",
              "            <th>Author_ID</th>\n",
              "            <th>Publication_Date</th>\n",
              "            <th>Genre</th>\n",
              "            <th>Pages</th>\n",
              "        </tr>\n",
              "    </thead>\n",
              "    <tbody>\n",
              "        <tr>\n",
              "            <td>1</td>\n",
              "            <td>The Transmuting Toadstool</td>\n",
              "            <td>1</td>\n",
              "            <td>1071-04-15</td>\n",
              "            <td>Transmutation</td>\n",
              "            <td>310</td>\n",
              "        </tr>\n",
              "        <tr>\n",
              "            <td>2</td>\n",
              "            <td>Ghoul Goulash: A Necromancy Narrative</td>\n",
              "            <td>2</td>\n",
              "            <td>1075-10-31</td>\n",
              "            <td>Necromancy</td>\n",
              "            <td>500</td>\n",
              "        </tr>\n",
              "        <tr>\n",
              "            <td>4</td>\n",
              "            <td>Bewitched Broomsticks: Household Magic</td>\n",
              "            <td>1</td>\n",
              "            <td>1080-12-21</td>\n",
              "            <td>Household</td>\n",
              "            <td>185</td>\n",
              "        </tr>\n",
              "        <tr>\n",
              "            <td>5</td>\n",
              "            <td>Alchemy of Amphibians</td>\n",
              "            <td>1</td>\n",
              "            <td>1082-03-01</td>\n",
              "            <td>Transmutation</td>\n",
              "            <td>312</td>\n",
              "        </tr>\n",
              "        <tr>\n",
              "            <td>6</td>\n",
              "            <td>Lunch with the Living Dead</td>\n",
              "            <td>2</td>\n",
              "            <td>1086-08-15</td>\n",
              "            <td>Necromancy</td>\n",
              "            <td>503</td>\n",
              "        </tr>\n",
              "    </tbody>\n",
              "</table>"
            ]
          },
          "metadata": {},
          "execution_count": 102
        }
      ]
    },
    {
      "cell_type": "markdown",
      "source": [
        "We could also do this using the not-equal operator `!=`"
      ],
      "metadata": {
        "id": "VayPxL-c8TDw"
      }
    },
    {
      "cell_type": "code",
      "source": [
        "%%sql\n",
        "SELECT * FROM Books\n",
        "WHERE Genre != 'Divination';"
      ],
      "metadata": {
        "id": "5QqHGRTe8ZX3",
        "outputId": "468e6def-3e28-4327-d2ea-e5d668f18874",
        "colab": {
          "base_uri": "https://localhost:8080/",
          "height": 310
        }
      },
      "execution_count": 103,
      "outputs": [
        {
          "output_type": "stream",
          "name": "stdout",
          "text": [
            " * sqlite:///unseen_library.db\n",
            "Done.\n"
          ]
        },
        {
          "output_type": "execute_result",
          "data": {
            "text/plain": [
              "[(1, 'The Transmuting Toadstool', 1, '1071-04-15', 'Transmutation', 310),\n",
              " (2, 'Ghoul Goulash: A Necromancy Narrative', 2, '1075-10-31', 'Necromancy', 500),\n",
              " (4, 'Bewitched Broomsticks: Household Magic', 1, '1080-12-21', 'Household', 185),\n",
              " (5, 'Alchemy of Amphibians', 1, '1082-03-01', 'Transmutation', 312),\n",
              " (6, 'Lunch with the Living Dead', 2, '1086-08-15', 'Necromancy', 503),\n",
              " (8, 'Cauldron Conundrums: Household Spells', 1, '1090-01-31', 'Household', 190),\n",
              " (9, 'Frog or Prince? The Transmutation Dilemma', 1, '1095-05-05', 'Transmutation', 320),\n",
              " (10, 'Dinner with the Deceased: A Necromancer’s Diary', 2, '1100-12-01', 'Necromancy', 520),\n",
              " (12, 'Magic Mops and More: A Household Guide', 1, '1110-02-28', 'Household', 195),\n",
              " (13, 'Lizard or Lord? The Transmutation Challenge', 1, '1115-06-06', 'Transmutation', 330),\n",
              " (14, 'Resurrecting Rodents: A Necromancer’s Notes', 2, '1120-09-01', 'Necromancy', 550)]"
            ],
            "text/html": [
              "<table>\n",
              "    <thead>\n",
              "        <tr>\n",
              "            <th>Book_ID</th>\n",
              "            <th>Title</th>\n",
              "            <th>Author_ID</th>\n",
              "            <th>Publication_Date</th>\n",
              "            <th>Genre</th>\n",
              "            <th>Pages</th>\n",
              "        </tr>\n",
              "    </thead>\n",
              "    <tbody>\n",
              "        <tr>\n",
              "            <td>1</td>\n",
              "            <td>The Transmuting Toadstool</td>\n",
              "            <td>1</td>\n",
              "            <td>1071-04-15</td>\n",
              "            <td>Transmutation</td>\n",
              "            <td>310</td>\n",
              "        </tr>\n",
              "        <tr>\n",
              "            <td>2</td>\n",
              "            <td>Ghoul Goulash: A Necromancy Narrative</td>\n",
              "            <td>2</td>\n",
              "            <td>1075-10-31</td>\n",
              "            <td>Necromancy</td>\n",
              "            <td>500</td>\n",
              "        </tr>\n",
              "        <tr>\n",
              "            <td>4</td>\n",
              "            <td>Bewitched Broomsticks: Household Magic</td>\n",
              "            <td>1</td>\n",
              "            <td>1080-12-21</td>\n",
              "            <td>Household</td>\n",
              "            <td>185</td>\n",
              "        </tr>\n",
              "        <tr>\n",
              "            <td>5</td>\n",
              "            <td>Alchemy of Amphibians</td>\n",
              "            <td>1</td>\n",
              "            <td>1082-03-01</td>\n",
              "            <td>Transmutation</td>\n",
              "            <td>312</td>\n",
              "        </tr>\n",
              "        <tr>\n",
              "            <td>6</td>\n",
              "            <td>Lunch with the Living Dead</td>\n",
              "            <td>2</td>\n",
              "            <td>1086-08-15</td>\n",
              "            <td>Necromancy</td>\n",
              "            <td>503</td>\n",
              "        </tr>\n",
              "        <tr>\n",
              "            <td>8</td>\n",
              "            <td>Cauldron Conundrums: Household Spells</td>\n",
              "            <td>1</td>\n",
              "            <td>1090-01-31</td>\n",
              "            <td>Household</td>\n",
              "            <td>190</td>\n",
              "        </tr>\n",
              "        <tr>\n",
              "            <td>9</td>\n",
              "            <td>Frog or Prince? The Transmutation Dilemma</td>\n",
              "            <td>1</td>\n",
              "            <td>1095-05-05</td>\n",
              "            <td>Transmutation</td>\n",
              "            <td>320</td>\n",
              "        </tr>\n",
              "        <tr>\n",
              "            <td>10</td>\n",
              "            <td>Dinner with the Deceased: A Necromancer’s Diary</td>\n",
              "            <td>2</td>\n",
              "            <td>1100-12-01</td>\n",
              "            <td>Necromancy</td>\n",
              "            <td>520</td>\n",
              "        </tr>\n",
              "        <tr>\n",
              "            <td>12</td>\n",
              "            <td>Magic Mops and More: A Household Guide</td>\n",
              "            <td>1</td>\n",
              "            <td>1110-02-28</td>\n",
              "            <td>Household</td>\n",
              "            <td>195</td>\n",
              "        </tr>\n",
              "        <tr>\n",
              "            <td>13</td>\n",
              "            <td>Lizard or Lord? The Transmutation Challenge</td>\n",
              "            <td>1</td>\n",
              "            <td>1115-06-06</td>\n",
              "            <td>Transmutation</td>\n",
              "            <td>330</td>\n",
              "        </tr>\n",
              "        <tr>\n",
              "            <td>14</td>\n",
              "            <td>Resurrecting Rodents: A Necromancer’s Notes</td>\n",
              "            <td>2</td>\n",
              "            <td>1120-09-01</td>\n",
              "            <td>Necromancy</td>\n",
              "            <td>550</td>\n",
              "        </tr>\n",
              "    </tbody>\n",
              "</table>"
            ]
          },
          "metadata": {},
          "execution_count": 103
        }
      ]
    },
    {
      "cell_type": "markdown",
      "source": [
        "In all these examples, the conditions we've specified after the WHERE keyword determine which rows will be included in the results. By using AND, OR, and NOT, we can create complex queries that return exactly the data we're interested in."
      ],
      "metadata": {
        "id": "ai5wLi1C7k-Q"
      }
    },
    {
      "cell_type": "markdown",
      "source": [
        "## Review With Quizlet\n",
        "Run the cell below to launch the flascards for this chapter."
      ],
      "metadata": {
        "id": "mYGs_u2I_dXn"
      }
    },
    {
      "cell_type": "code",
      "source": [
        "%%html\n",
        "<iframe src=\"https://quizlet.com/819299445/learn/embed?i=psvlh&x=1jj1\" height=\"600\" width=\"100%\" style=\"border:0\"></iframe>"
      ],
      "metadata": {
        "id": "7al8wsmU_j_2",
        "outputId": "7dd7c4ec-67f1-4a1e-f4d6-2411b0f1f6e6",
        "colab": {
          "base_uri": "https://localhost:8080/",
          "height": 622
        }
      },
      "execution_count": null,
      "outputs": [
        {
          "output_type": "display_data",
          "data": {
            "text/plain": [
              "<IPython.core.display.HTML object>"
            ],
            "text/html": [
              "<iframe src=\"https://quizlet.com/819299445/learn/embed?i=psvlh&x=1jj1\" height=\"600\" width=\"100%\" style=\"border:0\"></iframe>\n"
            ]
          },
          "metadata": {}
        }
      ]
    },
    {
      "cell_type": "markdown",
      "source": [
        "## Exercises\n",
        "NOTE: In order to \"run\" your queries, you'll need to make sure the database cells above (that create the tables and insert the data) have been recenty \"run.\" You can do this by selecting \"Runtime: Run Before\".\n",
        "\n",
        "1.  Write a SQL query to select all columns from the \"Books\" table where the \"Genre\" is 'Divination'.\n",
        "\n",
        "2.  Write a SQL query to select the \"Title\" and \"Pages\" columns from the \"Books\" table where the number of pages is less than 100.\n",
        "\n",
        "3.  Write a SQL query to select all columns from the \"Authors\" table, ordered by \"Name\" in descending (Z-A) order.\n",
        "\n",
        "4.  Write a SQL query to select the first 10 rows from the \"Books\" table, ordered by \"Pages\" in descending (most pages first) order.\n",
        "\n",
        "5. Write a SQL query to select all columns from the \"Books\" table where the \"Title\" column contains the word 'or' (Hint: use the LIKE operator).\n",
        "\n",
        "6.  Write a SQL query to select all columns from the \"Books\" table where the \"Title\" ends with 'Guide' (Hint: use the LIKE operator).\n",
        "\n",
        "7.   Write a SQL query to select all columns from the \"Authors\" table where the \"Birthdate\" is before the year 1050.\n",
        "\n",
        "8.  Write a SQL query to select all columns from the \"Books\" table where the \"Pages\" is between 150 and 300 and the \"Genre\" is 'Necromancy'."
      ],
      "metadata": {
        "id": "EX7s7Q7P5RQy"
      }
    },
    {
      "cell_type": "code",
      "source": [
        "%%sql\n",
        "-- Ex 1"
      ],
      "metadata": {
        "id": "oLfSwFwb6IRx"
      },
      "execution_count": null,
      "outputs": []
    },
    {
      "cell_type": "code",
      "source": [
        "%%sql\n",
        "-- Ex 2"
      ],
      "metadata": {
        "id": "yyTp9jhy8pkr"
      },
      "execution_count": null,
      "outputs": []
    },
    {
      "cell_type": "code",
      "source": [
        "%%sql\n",
        "-- Ex 3"
      ],
      "metadata": {
        "id": "jL-2w9c38p13"
      },
      "execution_count": null,
      "outputs": []
    },
    {
      "cell_type": "code",
      "source": [
        "%%sql\n",
        "-- Ex 4"
      ],
      "metadata": {
        "id": "2bB2oyUv8r9x"
      },
      "execution_count": null,
      "outputs": []
    },
    {
      "cell_type": "code",
      "source": [
        "%%sql\n",
        "-- Ex 5"
      ],
      "metadata": {
        "id": "9OUEhqsU8s_S"
      },
      "execution_count": null,
      "outputs": []
    },
    {
      "cell_type": "code",
      "source": [
        "%%sql\n",
        "-- Ex 6"
      ],
      "metadata": {
        "id": "hgHMGlrk8uL3"
      },
      "execution_count": null,
      "outputs": []
    },
    {
      "cell_type": "code",
      "source": [
        "%%sql\n",
        "-- Ex 7"
      ],
      "metadata": {
        "id": "rbqPqybw8uWo"
      },
      "execution_count": null,
      "outputs": []
    },
    {
      "cell_type": "code",
      "source": [
        "%%sql\n",
        "-- Ex 8"
      ],
      "metadata": {
        "id": "M40cVVcw8xhc"
      },
      "execution_count": null,
      "outputs": []
    },
    {
      "cell_type": "markdown",
      "source": [
        "## Basic SQL: Summary Table\n",
        "Here's a table summarizing some of the queries we've covered:\n",
        "\n",
        "| SQL Query |  Description |\n",
        "| --- | --- |\n",
        "| `SELECT * FROM Books;` | SQL: Select all columns from the Books table |\n",
        "| `SELECT Title FROM Books;` | SQL: Select the Title column from the Books table |\n",
        "| `SELECT Name, Birthdate FROM Authors;` | SQL: Select the Name and Birthdate columns from the Authors table |\n",
        "| `SELECT * FROM Books ORDER BY Title ASC;` | SQL: Select all columns from the Books table, ordered by Title in ascending order |\n",
        "| `SELECT Name FROM Authors ORDER BY Birthdate DESC;` | SQL: Select the Name column from the Authors table, ordered by Birthdate in descending (youngest first) order |\n",
        "| `SELECT * FROM Authors ORDER BY Birthdate DESC LIMIT 3;` | SQL: Select the first 3 rows from the Authors table, ordered by Birthdate in descending order |\n",
        "| `SELECT * FROM Books WHERE Title = 'The Abominable Teapot of Terror';` | SQL: Select all columns from the Books table where Title is 'The Abominable Teapot of Terror' |\n",
        "| `SELECT * FROM Books WHERE Author_ID = 3;` | SQL: Select all columns from the Books table where Author_ID is 3 |\n",
        "| `SELECT * FROM Books WHERE Title LIKE 'The%';` | SQL: Select all columns from the Books table where Title starts with 'The' |\n",
        "| `SELECT * FROM Books WHERE Num_Pages < 200;` | SQL: Select all columns from the Books table where Num_Pages is less than 200 |\n",
        "| `SELECT * FROM Books WHERE Num_Pages BETWEEN 200 AND 300;` | SQL: Select all columns from the Books table where Num_Pages is between 200 and 300 |\n",
        "| `SELECT * FROM Authors WHERE Birthdate > '1950-01-01';` | SQL: Select all columns from the Authors table where Birthdate is after 1950 |\n",
        "| `SELECT * FROM Authors WHERE Birthdate BETWEEN '1920-01-01' AND '1950-12-31';` | SQL: Select all columns from the Authors table where Birthdate is between 1920 and 1950 |\n",
        "| `SELECT * FROM Books WHERE Genre = 'Transmutation' AND Pages > 300;` | SQL: Find books from Transmutation genre that more than 300 pages. |"
      ],
      "metadata": {
        "id": "i8yG6uCk5BW0"
      }
    },
    {
      "cell_type": "markdown",
      "source": [
        "## Glossary\n",
        "| Term | Definition |\n",
        "| --- | --- |\n",
        "| Relational Model | A type of data model that organizes data into tables (or relations), which can be linked---or related---based on data common to each. |\n",
        "| Edgar Codd | A British computer scientist known for inventing the relational model for database management. |\n",
        "| Table (Relation) | In the context of databases, it is a set of data elements organized using a model of vertical columns (which are identified by their name) and horizontal rows. |\n",
        "| Attribute | A column in a table. Each attribute represents a specific piece of data, like a name or date, associated with the object modeled by the table. |\n",
        "| Primary Key | A field in a table which is used to uniquely identify each record in that table. |\n",
        "| Foreign Key | A field in one table that uniquely identifies a row of another table, establishing a link between them. |\n",
        "| Relationship Cardinality | The numerical mapping between entities (or tables). It shows the number of instances of one entity that can, or must, be associated with each instance of another entity. |\n",
        "| One-to-One | A type of relationship where a single record in one table is linked to a single record in another table. |\n",
        "| One-to-Many | A type of relationship where one record in a table can be linked to multiple records in another table. |\n",
        "| Many-to-Many | A type of relationship where multiple records in a table can be associated with multiple records in another table. |\n",
        "| Data Definition Language (DDL) | A subset of SQL used to define and manage database structures, including creating, altering, and dropping tables. |\n",
        "| Data Manipulation Language (DML) | A subset of SQL used to retrieve, insert, modify, and delete data in a database. |\n",
        "| Database Normalization Form | Rules used to design tables where the data dependencies are logical, avoiding redundancy and anomalies. |\n",
        "| First Normal Form (1NF) | A database normalization form that eliminates duplicate columns from the same table and identifies each piece of data by a unique key. |\n",
        "| Second Normal Form (2NF) | A database normalization form that requires a table to be in First Normal Form and also requires that all non-key attributes be fully dependent on the primary key. |\n",
        "| Third Normal Form (3NF) | A database normalization form that requires a table to be in Second Normal Form and also requires that all columns be directly dependent on the primary key. |"
      ],
      "metadata": {
        "id": "X-oKVk82_lIT"
      }
    },
    {
      "cell_type": "code",
      "source": [],
      "metadata": {
        "id": "sgQZaE6R_mvK"
      },
      "execution_count": null,
      "outputs": []
    }
  ]
}