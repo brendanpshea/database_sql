{
  "nbformat": 4,
  "nbformat_minor": 0,
  "metadata": {
    "colab": {
      "provenance": [],
      "authorship_tag": "ABX9TyPHJ43Hhkpcjxl3ud9QWIBs",
      "include_colab_link": true
    },
    "kernelspec": {
      "name": "python3",
      "display_name": "Python 3"
    },
    "language_info": {
      "name": "python"
    }
  },
  "cells": [
    {
      "cell_type": "markdown",
      "metadata": {
        "id": "view-in-github",
        "colab_type": "text"
      },
      "source": [
        "<a href=\"https://colab.research.google.com/github/brendanpshea/database_sql/blob/main/Database_05_Data_Modeling_and_ER_Diagrams.ipynb\" target=\"_parent\"><img src=\"https://colab.research.google.com/assets/colab-badge.svg\" alt=\"Open In Colab\"/></a>"
      ]
    },
    {
      "cell_type": "markdown",
      "source": [
        "#Data Modeling and E-R Diagrams\n",
        "### Brendan Shea, PhD\n",
        "\n",
        "\n",
        "**Data modeling** is like building the blueprints for a house. But instead of creating spaces for people to live in, we're making space for data to live in a database. This chapter will guide you through the steps of drawing up these blueprints for your database, starting from your initial concept to the final design.\n",
        "\n",
        "First, we'll get to grips with the basics of data modeling, explaining why it's so important for any database project. You'll learn how business rules, which are essentially the \"house rules\" for your data, help shape the structure and organization of your database.\n",
        "\n",
        "Next, we'll venture into the realms of conceptual and logical modeling. Conceptual modeling is like sketching your house’s layout, giving us a high-level overview of how everything fits together. Logical modeling, on the other hand, is where we decide what materials to use and how to construct the house, providing a detailed view of the data structures and relationships.\n",
        "\n",
        "We'll also introduce you to two commonly used tools for data modeling - Chen's Entity-Relationship (E-R) Diagrams and Crow's Foot E-R Diagrams. These are like different styles of architectural drawings, each with their unique ways of showing how the data in your database are connected.\n",
        "\n",
        "To make things more interesting and practical, we're going to walk through this process using a case study. We'll be helping Wednesday Addams, who wants to build a database for her online shop selling quirky magical items. By the end of this chapter, you'll be equipped with the knowledge to create your own robust and efficient database designs."
      ],
      "metadata": {
        "id": "WqF6qtKrFFB1"
      }
    },
    {
      "cell_type": "markdown",
      "source": [
        "## Introduction to the Case Study: Wednesday's \"Web Shop\"\n",
        "To aid us in our exploration of data modeling, we're going to enlist the help of the famous Wednesday Addams.\n",
        "\n",
        "No stranger to the peculiar, Wednesday has a fascinating project in her hands - she's creating an e-commerce \"Web shop\" for trading all things magic. Not your everyday magic rabbits or hats, mind you, but the kind of magic that makes the hairs on the back of your neck stand up. Be it a broom that sweeps itself or a teapot that sings cryptic riddles, Wednesday's website will be a marketplace for items steeped in enchantment.\n",
        "\n",
        "The question we have now is, how does she plan her database? We're talking about more than just a list of products and their prices; this task demands deep thought. She has to account for the unique attributes of each magic item, keep track of who owns what, manage transactions, and above all, ensure that every single cursed teddy bear and potion of eternal twilight is correctly cataloged and easy to find.\n",
        "\n",
        "There's a lot to ponder here. For instance, how does she define the attributes for each magic item? Some items might come with instructions, while others might be... less cooperative. Should she account for the age of an item? After all, an older item might be more powerful...or more dangerous. And what about the owners? Can one witch own multiple magic items? And can a magic item have more than one owner? She needs to ask questions like these to accurately structure her database.\n",
        "\n",
        "This chapter is about peeling back the layers of Wednesday's challenge and understanding how she can plan her database effectively. We will explore her approach, from creating data models to defining business rules, and even getting down to the nitty-gritty of Entity-Relationship Diagrams. We will also learn how she determines entities and their attributes, relationships between these entities, and the importance of unique identifiers and primary keys.\n",
        "\n",
        "So, brace yourself for a darkly humorous and intellectually stimulating journey through the world of databases. After all, as Wednesday herself would say, \"I'm not perky [but I'm efficient].\""
      ],
      "metadata": {
        "id": "oO9qzMBNiHcZ"
      }
    },
    {
      "cell_type": "markdown",
      "source": [
        "## Data Models: The Unsung Heroes of Database Design\n",
        "\n",
        "\"Imagine building a haunted house without a blueprint,\" Wednesday Addams might say, \"Sure, you could probably throw something together, but will it withstand the first ghoulish storm or the weight of an attic full of bewitched artifacts?\" Similarly, a **data model** serves as the blueprint in the world of databases. It's a simplified representation---usually visual, mathematical, or symbolic---of complex real-world data structures and the relationships between them.\n",
        "\n",
        "British statistician George E.P. Box once said, \"All models are wrong, but some are useful.\" He meant that while no model can perfectly encapsulate the complexity and unpredictability of the real world, good models can simplify that complexity into something understandable and useful. They help us predict outcomes, make informed decisions, and understand systems better.\n",
        "\n",
        "When it comes to databases, data models are indispensable tools for several reasons:\n",
        "\n",
        "1.  *Planning and Structuring Data:* A data model helps organize data systematically and logically. This aids in understanding what data is needed and how it should be organized. For Wednesday, this could mean figuring out how to categorize her array of magic items and their various attributes in a coherent way.\n",
        "\n",
        "2.  *Increasing Efficiency:* A well-planned data model enhances the efficiency of a database by reducing data redundancy and improving data integrity. It helps ensure that the system can effectively store, retrieve, and manage data. This means that when a witch in Timbuktu orders a self-sweeping broom at midnight, the order is processed smoothly without any hitches.\n",
        "\n",
        "3.  *Improving Communication:* Data models provide business and technical teams a shared language. They serve as a collaboration tool, helping stakeholders visualize data structures and validate requirements. So, whether it's Wednesday's coven of web developers or the users of her magical marketplace, everyone can better understand how the data works.\n",
        "\n",
        "So how might a data model aid Wednesday in designing her magic item shopping site? Well, imagine she's got an ancient wand listed on her website. This wand could have numerous attributes: its material, its age, the spells it can cast, its price, and so on. Now, how does she link this wand to its previous owners, or to the customers interested in buying it? And what about the transaction data? The answers to these questions lie in creating a robust data model, which will help her design an efficient, user-friendly website that even the most discerning witches and wizards would enjoy using.\n",
        "\n",
        "Remember, a data model is not an end in itself but a means to an end. As Wednesday's peculiar sense of humor might prompt her to say, \"A good data model is like a good tombstone. It stands the test of time, and even if it doesn't tell the whole story, it provides enough information to pique one's curiosity.\""
      ],
      "metadata": {
        "id": "R9YgFcd0jJ1f"
      }
    },
    {
      "cell_type": "markdown",
      "source": [
        "## Conceptual Modeling: A Bird's-Eye View of Your Data Universe\n",
        "\n",
        "Just as Wednesday Addams might lay out the pieces of a disquieting jigsaw puzzle of a graveyard on a cold, gloomy evening, conceptual modeling involves arranging complex data into a clear, comprehensive picture. It's all about creating a high-level, simplified diagram of a database. This model doesn't delve into the nitty-gritty of technical details but instead focuses on the big picture: the critical entities in the database and their relationships.\n",
        "\n",
        "Let's take a moment to decode that a bit. When we speak about **entities**, we're referring to the significant objects or concepts in our data universe. In Wednesday's case, an entity could be a 'magic item', a 'customer', or a 'transaction'.  On the other hand, **relationships** are the associations or interactions between these entities. For example, a 'customer' might 'purchase' a 'magic item', forming a relationship between those two entities.\n",
        "\n",
        "A **conceptual (logical)** model captures these entities and relationships in a manner that's easily understood, not just by database designers or developers, but by non-technical stakeholders too. It's an invaluable tool that fosters better team communication and understanding.\n",
        "\n",
        "But how does Wednesday Addams, purveyor of all things magical and mysterious, create a conceptual model for her magic item website?\n",
        "\n",
        "- First, she'd identify the key entities in her database. These could be 'magic items', 'customers', 'transactions', 'suppliers', or anything else significant to her website. Each entity would be a major category of data that she needs to keep track of.\n",
        "\n",
        "- Next, she'd identify the relationships between these entities. Does a customer 'buy' a magic item? Does a supplier 'supply' a magic item? These relationships would illustrate how the different entities interact with each other.\n",
        "\n",
        "- Then, she'd represent all these entities and relationships in a high-level, easy-to-understand diagram. This might look like a bunch of boxes (representing entities) connected by lines (representing relationships), but to Wednesday, it would be an essential roadmap for her website's data structure.\n",
        "\n",
        "By creating this conceptual model, Wednesday would establish a clear, coherent view of her website's data. It would be a simplified snapshot of her entire database, giving her and her team a strong foundation to build upon. And as Wednesday might dryly note, \"Just like planning a good prank, the success of a project often lies in the preparation.\""
      ],
      "metadata": {
        "id": "DlEiXt2yjqy5"
      }
    },
    {
      "cell_type": "markdown",
      "source": [
        "## Business Rules: The Laws Governing Your Data Universe\n",
        "\n",
        "Imagine a rule at the Addams Family dinner table: \"Always compliment Morticia's deadly nightshade salad.\" That's a business rule, but in the world of databases. Precisely defined, **business rules** are explicit, actionable, and business-specific criteria that provide a robust framework for an organization's decision-making, behavior, and operations. They act as the structural and operational directives guiding a system. (Note: In the context of data modeling, a \"business\" might be anything from a scientific research project to a video game--it doesn't necessarily have to involve money or sales).\n",
        "\n",
        "In conceptual modeling, business rules play a fundamental role. They shape the structure and flow of data and precisely define business operations, directly influencing how entities and relationships are formed and manipulated. Comprehending these business rules aids in creating a data model that mirrors the realities of the business.\n",
        "\n",
        "Business rules can be of two types:\n",
        "\n",
        "1.  **Structural Rules:** These rules pertain to the organization of data within the system. They outline the relationships between entities and stipulate how data elements correlate. An example in Wednesday's case could be \"Each magic item must be affiliated with one category.\"\n",
        "\n",
        "2.  **Procedural Rules:** These rules govern the operations performed within the system. They outline the guidelines for processes and transactions that interact with the data. For instance, a rule like \"An item must be paid for before it can be shipped\" is a procedural rule.\n",
        "\n",
        "Business rules function as **constraints** on data--specific boundaries placed on the data or operations within the system. They serve to maintain data integrity and reliability. For instance, Wednesday could have a rule such as \"The listed price of a magic item must be a positive number.  \n",
        "Now, considering Wednesday's uniquely peculiar magic item shop, here are five potential business rules:\n",
        "\n",
        "1. Each magic item should have at least one associated magical property. (Structural Rule)\n",
        "2.  A customer must provide a valid magical identification number to make a purchase. (Procedural Rule)\n",
        "3.  A magic item cannot belong to multiple categories (e.g., potions, amulets). (Structural Rule)\n",
        "4.  Customers can only purchase items if their magical credit score exceeds a certain threshold. (Procedural Rule)\n",
        "5.  All transactions must be recorded with the customer's ID, item ID, and the date of purchase. (Structural Rule)\n",
        "\n",
        "These business rules, whether invisible directives or explicit constraints, are the governing principles for Wednesday's magic item shop. Like a well-spun spiderweb, they provide a consistent, reliable, and efficient framework for managing data. Or as Wednesday might put it, \"In a world where the norm is peculiar, rules are your only constant.\""
      ],
      "metadata": {
        "id": "lunOO2A0khul"
      }
    },
    {
      "cell_type": "code",
      "source": [],
      "metadata": {
        "id": "CbhT-9POYzVY"
      },
      "execution_count": null,
      "outputs": []
    },
    {
      "cell_type": "code",
      "execution_count": null,
      "metadata": {
        "id": "hQm73oFYE_ej"
      },
      "outputs": [],
      "source": []
    }
  ]
}