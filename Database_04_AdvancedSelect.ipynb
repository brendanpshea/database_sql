{
  "nbformat": 4,
  "nbformat_minor": 0,
  "metadata": {
    "colab": {
      "provenance": [],
      "authorship_tag": "ABX9TyOhEnPW47ztoR8ztw+L4D8x",
      "include_colab_link": true
    },
    "kernelspec": {
      "name": "python3",
      "display_name": "Python 3"
    },
    "language_info": {
      "name": "python"
    }
  },
  "cells": [
    {
      "cell_type": "markdown",
      "metadata": {
        "id": "view-in-github",
        "colab_type": "text"
      },
      "source": [
        "<a href=\"https://colab.research.google.com/github/brendanpshea/database_sql/blob/main/Database_04_AdvancedSelect.ipynb\" target=\"_parent\"><img src=\"https://colab.research.google.com/assets/colab-badge.svg\" alt=\"Open In Colab\"/></a>"
      ]
    },
    {
      "cell_type": "markdown",
      "source": [
        "## Super Select: Advanced Retrieval With Mario Brothers Plumbing"
      ],
      "metadata": {
        "id": "AII7oszGYseO"
      }
    },
    {
      "cell_type": "markdown",
      "source": [],
      "metadata": {
        "id": "oFtLES_o6yPE"
      }
    },
    {
      "cell_type": "markdown",
      "source": [
        "## Mario Brothers Plumbing: Database Schema\n",
        "In this lesson, we'll be working with a database that represents the plumbing business of the famous \"Mario Brothers\". Let's get started.\n",
        "\n",
        "First, we'll load the database and display the basic schema."
      ],
      "metadata": {
        "id": "PsODBAfaREKB"
      }
    },
    {
      "cell_type": "code",
      "source": [
        "# download database\n",
        "!wget https://github.com/brendanpshea/database_sql/raw/main/data/mario_bros_plumbing.db -q -nc\n",
        "\n",
        "# Load sql magic and connect\n",
        "%load_ext sql\n",
        "%sql sqlite:///mario_bros_plumbing.db"
      ],
      "metadata": {
        "id": "yZD3Ag6oRXEn"
      },
      "execution_count": 1,
      "outputs": []
    },
    {
      "cell_type": "code",
      "source": [
        "# display schema (SQLite)\n",
        "%%sql\n",
        "SELECT * FROM sqlite_master WHERE type='table';"
      ],
      "metadata": {
        "colab": {
          "base_uri": "https://localhost:8080/",
          "height": 911
        },
        "id": "mB-lZjE6Rmvj",
        "outputId": "ad3cb085-d534-4a96-9909-f89c39f4156a"
      },
      "execution_count": 2,
      "outputs": [
        {
          "output_type": "stream",
          "name": "stdout",
          "text": [
            " * sqlite:///mario_bros_plumbing.db\n",
            "Done.\n"
          ]
        },
        {
          "output_type": "execute_result",
          "data": {
            "text/plain": [
              "[('table', 'Customers', 'Customers', 2, 'CREATE TABLE Customers (\\n  customer_id INTEGER PRIMARY KEY,\\n  first_name VARCHAR(255),\\n  last_name VARCHAR(255),\\n  address JSON,\\n  phone_number VARCHAR(20)\\n)'),\n",
              " ('table', 'Employees', 'Employees', 3, 'CREATE TABLE Employees (\\n  employee_id INTEGER PRIMARY KEY,\\n  first_name VARCHAR(255),\\n  last_name VARCHAR(255),\\n  job_title VARCHAR(255),\\n  hire_date DATE\\n)'),\n",
              " ('table', 'ServiceTypes', 'ServiceTypes', 4, 'CREATE TABLE ServiceTypes (\\n  service_type_id INTEGER PRIMARY KEY,\\n  service_type_name VARCHAR(255),\\n  description VARCHAR(255)\\n)'),\n",
              " ('table', 'Services', 'Services', 5, 'CREATE TABLE Services (\\n  service_id INTEGER PRIMARY KEY,\\n  service_type_id INTEGER,\\n  service_name VARCHAR(255),\\n  description VARCHAR(255),\\n  price DECIMAL(10,2),\\n  FOREIGN KEY (service_type_id) REFERENCES ServiceTypes (service_type_id)\\n)'),\n",
              " ('table', 'Orders', 'Orders', 6, \"CREATE TABLE Orders (\\n  -- Keeps track of a customer's orders\\n  order_id INTEGER PRIMARY KEY,\\n  customer_id INTEGER,\\n  employee_id INTEGER,\\n  or ... (28 characters truncated) ... nt DECIMAL(10,2),\\n  FOREIGN KEY (customer_id) REFERENCES Customers (customer_id),\\n  FOREIGN KEY (employee_id) REFERENCES Employees (employee_id)\\n)\"),\n",
              " ('table', 'Order_Items', 'Order_Items', 7, \"CREATE TABLE Order_Items (\\n  -- Keeps track of a customer's order items\\n  -- This is one line on an invoice\\n  order_item_id INTEGER PRIMARY KEY,\\n ... (34 characters truncated) ... INTEGER,\\n  quantity INTEGER,\\n  FOREIGN KEY (order_id) REFERENCES Orders (order_id),\\n  FOREIGN KEY (service_id) REFERENCES Services (service_id)\\n)\")]"
            ],
            "text/html": [
              "<table>\n",
              "    <thead>\n",
              "        <tr>\n",
              "            <th>type</th>\n",
              "            <th>name</th>\n",
              "            <th>tbl_name</th>\n",
              "            <th>rootpage</th>\n",
              "            <th>sql</th>\n",
              "        </tr>\n",
              "    </thead>\n",
              "    <tbody>\n",
              "        <tr>\n",
              "            <td>table</td>\n",
              "            <td>Customers</td>\n",
              "            <td>Customers</td>\n",
              "            <td>2</td>\n",
              "            <td>CREATE TABLE Customers (<br>  customer_id INTEGER PRIMARY KEY,<br>  first_name VARCHAR(255),<br>  last_name VARCHAR(255),<br>  address JSON,<br>  phone_number VARCHAR(20)<br>)</td>\n",
              "        </tr>\n",
              "        <tr>\n",
              "            <td>table</td>\n",
              "            <td>Employees</td>\n",
              "            <td>Employees</td>\n",
              "            <td>3</td>\n",
              "            <td>CREATE TABLE Employees (<br>  employee_id INTEGER PRIMARY KEY,<br>  first_name VARCHAR(255),<br>  last_name VARCHAR(255),<br>  job_title VARCHAR(255),<br>  hire_date DATE<br>)</td>\n",
              "        </tr>\n",
              "        <tr>\n",
              "            <td>table</td>\n",
              "            <td>ServiceTypes</td>\n",
              "            <td>ServiceTypes</td>\n",
              "            <td>4</td>\n",
              "            <td>CREATE TABLE ServiceTypes (<br>  service_type_id INTEGER PRIMARY KEY,<br>  service_type_name VARCHAR(255),<br>  description VARCHAR(255)<br>)</td>\n",
              "        </tr>\n",
              "        <tr>\n",
              "            <td>table</td>\n",
              "            <td>Services</td>\n",
              "            <td>Services</td>\n",
              "            <td>5</td>\n",
              "            <td>CREATE TABLE Services (<br>  service_id INTEGER PRIMARY KEY,<br>  service_type_id INTEGER,<br>  service_name VARCHAR(255),<br>  description VARCHAR(255),<br>  price DECIMAL(10,2),<br>  FOREIGN KEY (service_type_id) REFERENCES ServiceTypes (service_type_id)<br>)</td>\n",
              "        </tr>\n",
              "        <tr>\n",
              "            <td>table</td>\n",
              "            <td>Orders</td>\n",
              "            <td>Orders</td>\n",
              "            <td>6</td>\n",
              "            <td>CREATE TABLE Orders (<br>  -- Keeps track of a customer&#x27;s orders<br>  order_id INTEGER PRIMARY KEY,<br>  customer_id INTEGER,<br>  employee_id INTEGER,<br>  order_date DATE,<br>  total_amount DECIMAL(10,2),<br>  FOREIGN KEY (customer_id) REFERENCES Customers (customer_id),<br>  FOREIGN KEY (employee_id) REFERENCES Employees (employee_id)<br>)</td>\n",
              "        </tr>\n",
              "        <tr>\n",
              "            <td>table</td>\n",
              "            <td>Order_Items</td>\n",
              "            <td>Order_Items</td>\n",
              "            <td>7</td>\n",
              "            <td>CREATE TABLE Order_Items (<br>  -- Keeps track of a customer&#x27;s order items<br>  -- This is one line on an invoice<br>  order_item_id INTEGER PRIMARY KEY,<br>  order_id INTEGER,<br>  service_id INTEGER,<br>  quantity INTEGER,<br>  FOREIGN KEY (order_id) REFERENCES Orders (order_id),<br>  FOREIGN KEY (service_id) REFERENCES Services (service_id)<br>)</td>\n",
              "        </tr>\n",
              "    </tbody>\n",
              "</table>"
            ]
          },
          "metadata": {},
          "execution_count": 2
        }
      ]
    },
    {
      "cell_type": "markdown",
      "source": [
        "## Database Overview\n",
        "The \"Mario Brothers Plumbing\" database consists of six interconnected tables designed to manage a plumbing business:\n",
        "\n",
        "1.  **Customers**: Stores customer information, including a JSON field for address.\n",
        "2.  **Employees**: Stores employee information, including job title and hire date.\n",
        "3.  **ServiceTypes**: Stores service type information, including name and description.\n",
        "4.  **Services**: Stores service information, including name, description, and price (DECIMAL).\n",
        "5.  **Orders**: Stores order information, including customer, employee, date, and total amount (DECIMAL).\n",
        "6.  **Order_Items**: Stores order item information, including order, service, and quantity.\n",
        "\n",
        "### Data Types: JSON and DECIMAL\n",
        "Two notable data types used in this database are JSON and DECIMAL.\n",
        "\n",
        "JSON (JavaScript Object Notation) is a lightweight data interchange format that allows for flexible and structured data representation. It can store complex data types like objects and arrays. In this database, JSON is used to store customer addresses, as it provides a convenient way to store and retrieve structured address data without the need for separate address-related tables. Later in this chapter, we'll see how to use SQLite to query this data.\n",
        "\n",
        "DECIMAL is a data type used to store precise numeric values, with a specified precision and scale. It is suitable for storing monetary values, such as prices and total amounts, where exactness is crucial. In this database, DECIMAL(10,2) is used, allowing for prices and total amounts up to 99,999,999.99.\n",
        "\n",
        "### Relationships\n",
        "\n",
        "The tables in this database are related through one-to-many relationships, established using foreign key constraints:\n",
        "\n",
        "-   **Customers** and **Orders**: A customer can have multiple orders, but an order belongs to only one customer. This is a one-to-many relationship, with the `customer_id` foreign key in the Orders table referencing the `customer_id` primary key in the Customers table.\n",
        "-   **Employees** and **Orders**: An employee can handle multiple orders, but an order is handled by only one employee. This is a one-to-many relationship, with the `employee_id` foreign key in the Orders table referencing the `employee_id` primary key in the Employees table.\n",
        "-   **Orders** and **Order_Items**: An order can have multiple order items, but an order item belongs to only one order. This is a one-to-many relationship, with the `order_id` foreign key in the Order_Items table referencing the `order_id` primary key in the Orders table.\n",
        "-   **Services** and **Order_Items**: A service can be included in multiple order items, but an order item includes only one service. This is a one-to-many relationship, with the `service_id` foreign key in the Order_Items table referencing the `service_id` primary key in the Services table.\n",
        "\n",
        "### Sub-type Relationship\n",
        "\n",
        "In this database, Services are a **sub-type** of ServiceTypes. This means that each service belongs to a specific service type, and the service type provides a way to categorize and group related services.\n",
        "\n",
        "The sub-type relationship is encoded in the relational database using a one-to-many relationship between the ServiceTypes and Services tables. The `service_type_id` foreign key in the Services table references the `service_type_id` primary key in the ServiceTypes table. This relationship ensures that each service is associated with a valid service type and allows for efficient querying and data integrity maintenance.\n",
        "\n",
        "By using a sub-type relationship, the database can store common attributes of service types in the ServiceTypes table, while specific details of individual services are stored in the Services table. This design promotes data normalization, reduces data redundancy, and allows for easier management and extension of the service catalog."
      ],
      "metadata": {
        "id": "1Ukb73tlKGpZ"
      }
    },
    {
      "cell_type": "markdown",
      "source": [
        "## AN ERD for Mario Brothers Plumbing\n",
        "Now, let's take a look a the entity-relationship diagram for this database."
      ],
      "metadata": {
        "id": "29Wb1k1uKgZX"
      }
    },
    {
      "cell_type": "code",
      "source": [
        "import base64\n",
        "from IPython.display import Image, display, HTML\n",
        "\n",
        "def mm(graph):\n",
        "    graphbytes = graph.encode(\"utf8\")\n",
        "    base64_bytes = base64.b64encode(graphbytes)\n",
        "    base64_string = base64_bytes.decode(\"ascii\")\n",
        "    display(Image(url=\"https://mermaid.ink/img/\" + base64_string))\n",
        "\n",
        "mm(\"\"\"\n",
        "classDiagram\n",
        "    Customers \"1\" -- \"*\" Orders\n",
        "    Employees \"1\" -- \"*\" Orders\n",
        "    Orders \"1\" -- \"*\" Order_Items\n",
        "    Services \"1\" -- \"*\" Order_Items\n",
        "    ServiceTypes <|-- Services\n",
        "\n",
        "    class Customers {\n",
        "        +customer_id: INTEGER PK\n",
        "        +first_name: VARCHAR\n",
        "        +last_name: VARCHAR\n",
        "        +address: JSON\n",
        "        +phone_number: VARCHAR\n",
        "    }\n",
        "\n",
        "    class Employees {\n",
        "        +employee_id: INTEGER PK\n",
        "        +first_name: VARCHAR\n",
        "        +last_name: VARCHAR\n",
        "        +job_title: VARCHAR\n",
        "        +hire_date: DATE\n",
        "    }\n",
        "\n",
        "    class ServiceTypes {\n",
        "        +service_type_id: INTEGER PK\n",
        "        +service_type_name: VARCHAR\n",
        "        +description: VARCHAR\n",
        "    }\n",
        "\n",
        "    class Services {\n",
        "        +service_id: INTEGER PK\n",
        "        +service_type_id: INTEGER FK\n",
        "        +service_name: VARCHAR\n",
        "        +description: VARCHAR\n",
        "        +price: DECIMAL\n",
        "    }\n",
        "\n",
        "    class Orders {\n",
        "        +order_id: INTEGER PK\n",
        "        +customer_id: INTEGER FK\n",
        "        +employee_id: INTEGER FK\n",
        "        +order_date: DATE\n",
        "        +total_amount: DECIMAL\n",
        "    }\n",
        "\n",
        "    class Order_Items {\n",
        "        +order_item_id: INTEGER PK\n",
        "        +order_id: INTEGER FK\n",
        "        +service_id: INTEGER FK\n",
        "        +quantity: INTEGER\n",
        "    }\n",
        "\"\"\")"
      ],
      "metadata": {
        "colab": {
          "base_uri": "https://localhost:8080/",
          "height": 634
        },
        "id": "tMcrPUsqKsCG",
        "outputId": "ea44c2d1-d5c9-41c3-d38b-2e33c0f14d59"
      },
      "execution_count": 3,
      "outputs": [
        {
          "output_type": "display_data",
          "data": {
            "text/html": [
              "<img src=\"https://mermaid.ink/img/CmNsYXNzRGlhZ3JhbQogICAgQ3VzdG9tZXJzICIxIiAtLSAiKiIgT3JkZXJzCiAgICBFbXBsb3llZXMgIjEiIC0tICIqIiBPcmRlcnMKICAgIE9yZGVycyAiMSIgLS0gIioiIE9yZGVyX0l0ZW1zCiAgICBTZXJ2aWNlcyAiMSIgLS0gIioiIE9yZGVyX0l0ZW1zCiAgICBTZXJ2aWNlVHlwZXMgPHwtLSBTZXJ2aWNlcwoKICAgIGNsYXNzIEN1c3RvbWVycyB7CiAgICAgICAgK2N1c3RvbWVyX2lkOiBJTlRFR0VSIFBLCiAgICAgICAgK2ZpcnN0X25hbWU6IFZBUkNIQVIKICAgICAgICArbGFzdF9uYW1lOiBWQVJDSEFSCiAgICAgICAgK2FkZHJlc3M6IEpTT04KICAgICAgICArcGhvbmVfbnVtYmVyOiBWQVJDSEFSCiAgICB9CgogICAgY2xhc3MgRW1wbG95ZWVzIHsKICAgICAgICArZW1wbG95ZWVfaWQ6IElOVEVHRVIgUEsKICAgICAgICArZmlyc3RfbmFtZTogVkFSQ0hBUgogICAgICAgICtsYXN0X25hbWU6IFZBUkNIQVIKICAgICAgICAram9iX3RpdGxlOiBWQVJDSEFSCiAgICAgICAgK2hpcmVfZGF0ZTogREFURQogICAgfQoKICAgIGNsYXNzIFNlcnZpY2VUeXBlcyB7CiAgICAgICAgK3NlcnZpY2VfdHlwZV9pZDogSU5URUdFUiBQSwogICAgICAgICtzZXJ2aWNlX3R5cGVfbmFtZTogVkFSQ0hBUgogICAgICAgICtkZXNjcmlwdGlvbjogVkFSQ0hBUgogICAgfQoKICAgIGNsYXNzIFNlcnZpY2VzIHsKICAgICAgICArc2VydmljZV9pZDogSU5URUdFUiBQSwogICAgICAgICtzZXJ2aWNlX3R5cGVfaWQ6IElOVEVHRVIgRksKICAgICAgICArc2VydmljZV9uYW1lOiBWQVJDSEFSCiAgICAgICAgK2Rlc2NyaXB0aW9uOiBWQVJDSEFSCiAgICAgICAgK3ByaWNlOiBERUNJTUFMCiAgICB9CgogICAgY2xhc3MgT3JkZXJzIHsKICAgICAgICArb3JkZXJfaWQ6IElOVEVHRVIgUEsKICAgICAgICArY3VzdG9tZXJfaWQ6IElOVEVHRVIgRksKICAgICAgICArZW1wbG95ZWVfaWQ6IElOVEVHRVIgRksKICAgICAgICArb3JkZXJfZGF0ZTogREFURQogICAgICAgICt0b3RhbF9hbW91bnQ6IERFQ0lNQUwKICAgIH0KCiAgICBjbGFzcyBPcmRlcl9JdGVtcyB7CiAgICAgICAgK29yZGVyX2l0ZW1faWQ6IElOVEVHRVIgUEsKICAgICAgICArb3JkZXJfaWQ6IElOVEVHRVIgRksKICAgICAgICArc2VydmljZV9pZDogSU5URUdFUiBGSwogICAgICAgICtxdWFudGl0eTogSU5URUdFUgogICAgfQo=\"/>"
            ],
            "text/plain": [
              "<IPython.core.display.Image object>"
            ]
          },
          "metadata": {}
        }
      ]
    },
    {
      "cell_type": "markdown",
      "source": [
        "THe above diagram is in Unified Modeling Language. This is similar to the Crow's foot style we saw before, but with a few key differences.\n",
        "1. In UML, entities are represented as classes, which are depicted as rectangles.\n",
        "2. The attribute of an entity are listed inside the rectangle, below the entity name. The attribute name is followed by a colon (:) and its data type.\n",
        "3. Primary key attributes are marked with PK, indicating that they uniquely identify each record in the entity.\n",
        "4. Foreign key attributes are marked with FK, indicating that they establish relationships with other entities.\n",
        "5. Relationships between entities are represented by lines connecting the rectangles. The cardinality of a relationship is indicated at each end of the line.\n",
        "6. In this diagram, a single number (1) represents a one-to-one or one-to-many relationship, while an asterisk (*) represents a many-to-one or many-to-many relationship.\n",
        "  - For example, the line between Customers and Orders with 1 on the Customers end and * on the Orders end indicates that one customer can have multiple orders (a one-to-many relationship).\n",
        "7.  In UML, **inheritance** is represented by a line with a hollow arrowhead pointing from the subclass to the superclass.\n",
        "  - In this diagram, the inheritance relationship is shown between Services and ServiceTypes, with Services inheriting from ServiceTypes."
      ],
      "metadata": {
        "id": "jNNf7vStLGIc"
      }
    },
    {
      "cell_type": "markdown",
      "source": [
        "## A Quick Look at the Data\n",
        "Now, let's take a quick look at the data in each table."
      ],
      "metadata": {
        "id": "Fi5hIXMALxic"
      }
    },
    {
      "cell_type": "code",
      "source": [
        "%%sql\n",
        "SELECT * FROM employees LIMIT 5;"
      ],
      "metadata": {
        "colab": {
          "base_uri": "https://localhost:8080/",
          "height": 179
        },
        "id": "cFoHHnP6Lo0-",
        "outputId": "51448541-9612-40f1-bb6a-54cab7fd6f42"
      },
      "execution_count": 4,
      "outputs": [
        {
          "output_type": "stream",
          "name": "stdout",
          "text": [
            " * sqlite:///mario_bros_plumbing.db\n",
            "Done.\n"
          ]
        },
        {
          "output_type": "execute_result",
          "data": {
            "text/plain": [
              "[(1, 'Super', 'Mario', 'Master Plumber', '2000-09-13'),\n",
              " (2, 'Super', 'Luigi', 'Journeyman Plumber', '2003-02-20'),\n",
              " (3, 'Princess', 'Peach', 'Project Manager', '2005-06-10'),\n",
              " (4, 'Cat', 'Peach', 'Apprentice Plumber', '2014-11-05'),\n",
              " (5, 'Tanuki', 'Mario', 'Plumbing Technician', '2011-04-28')]"
            ],
            "text/html": [
              "<table>\n",
              "    <thead>\n",
              "        <tr>\n",
              "            <th>employee_id</th>\n",
              "            <th>first_name</th>\n",
              "            <th>last_name</th>\n",
              "            <th>job_title</th>\n",
              "            <th>hire_date</th>\n",
              "        </tr>\n",
              "    </thead>\n",
              "    <tbody>\n",
              "        <tr>\n",
              "            <td>1</td>\n",
              "            <td>Super</td>\n",
              "            <td>Mario</td>\n",
              "            <td>Master Plumber</td>\n",
              "            <td>2000-09-13</td>\n",
              "        </tr>\n",
              "        <tr>\n",
              "            <td>2</td>\n",
              "            <td>Super</td>\n",
              "            <td>Luigi</td>\n",
              "            <td>Journeyman Plumber</td>\n",
              "            <td>2003-02-20</td>\n",
              "        </tr>\n",
              "        <tr>\n",
              "            <td>3</td>\n",
              "            <td>Princess</td>\n",
              "            <td>Peach</td>\n",
              "            <td>Project Manager</td>\n",
              "            <td>2005-06-10</td>\n",
              "        </tr>\n",
              "        <tr>\n",
              "            <td>4</td>\n",
              "            <td>Cat</td>\n",
              "            <td>Peach</td>\n",
              "            <td>Apprentice Plumber</td>\n",
              "            <td>2014-11-05</td>\n",
              "        </tr>\n",
              "        <tr>\n",
              "            <td>5</td>\n",
              "            <td>Tanuki</td>\n",
              "            <td>Mario</td>\n",
              "            <td>Plumbing Technician</td>\n",
              "            <td>2011-04-28</td>\n",
              "        </tr>\n",
              "    </tbody>\n",
              "</table>"
            ]
          },
          "metadata": {},
          "execution_count": 4
        }
      ]
    },
    {
      "cell_type": "code",
      "source": [
        "%%sql\n",
        "SELECT * FROM customers LIMIT 5;"
      ],
      "metadata": {
        "colab": {
          "base_uri": "https://localhost:8080/",
          "height": 179
        },
        "id": "bXFWiDImL-vr",
        "outputId": "d2665f86-4c61-4e65-fe90-abae8cf17a2e"
      },
      "execution_count": 5,
      "outputs": [
        {
          "output_type": "stream",
          "name": "stdout",
          "text": [
            " * sqlite:///mario_bros_plumbing.db\n",
            "Done.\n"
          ]
        },
        {
          "output_type": "execute_result",
          "data": {
            "text/plain": [
              "[(1, 'Peach', 'Toadstool', '{\"street\": \"Mushroom Castle\", \"city\": \"Toad Town\"}', '(555) 123-4567'),\n",
              " (2, 'Yoshi', 'Dino', '{\"street\": \"24 Egg Island\", \"city\": \"Dinosaur Land\", \"apartment\": \"A\"}', '(555) 987-6543'),\n",
              " (3, 'Daisy', 'Sarasa', '{\"street\": \"10 Sarasaland Way\", \"city\": \"Chai Kingdom\"}', '(555) 456-7890'),\n",
              " (4, 'Toadette', 'Toadstool', '{\"street\": \"15 Mushroom St\", \"city\": \"Toad Town\", \"apartment\": \"2B\"}', '(555) 789-0123'),\n",
              " (5, 'Bowser', 'Koopa', '{\"street\": \"1 Bowser Castle\", \"city\": \"Dark Land\"}', '(555) 654-3210')]"
            ],
            "text/html": [
              "<table>\n",
              "    <thead>\n",
              "        <tr>\n",
              "            <th>customer_id</th>\n",
              "            <th>first_name</th>\n",
              "            <th>last_name</th>\n",
              "            <th>address</th>\n",
              "            <th>phone_number</th>\n",
              "        </tr>\n",
              "    </thead>\n",
              "    <tbody>\n",
              "        <tr>\n",
              "            <td>1</td>\n",
              "            <td>Peach</td>\n",
              "            <td>Toadstool</td>\n",
              "            <td>{&quot;street&quot;: &quot;Mushroom Castle&quot;, &quot;city&quot;: &quot;Toad Town&quot;}</td>\n",
              "            <td>(555) 123-4567</td>\n",
              "        </tr>\n",
              "        <tr>\n",
              "            <td>2</td>\n",
              "            <td>Yoshi</td>\n",
              "            <td>Dino</td>\n",
              "            <td>{&quot;street&quot;: &quot;24 Egg Island&quot;, &quot;city&quot;: &quot;Dinosaur Land&quot;, &quot;apartment&quot;: &quot;A&quot;}</td>\n",
              "            <td>(555) 987-6543</td>\n",
              "        </tr>\n",
              "        <tr>\n",
              "            <td>3</td>\n",
              "            <td>Daisy</td>\n",
              "            <td>Sarasa</td>\n",
              "            <td>{&quot;street&quot;: &quot;10 Sarasaland Way&quot;, &quot;city&quot;: &quot;Chai Kingdom&quot;}</td>\n",
              "            <td>(555) 456-7890</td>\n",
              "        </tr>\n",
              "        <tr>\n",
              "            <td>4</td>\n",
              "            <td>Toadette</td>\n",
              "            <td>Toadstool</td>\n",
              "            <td>{&quot;street&quot;: &quot;15 Mushroom St&quot;, &quot;city&quot;: &quot;Toad Town&quot;, &quot;apartment&quot;: &quot;2B&quot;}</td>\n",
              "            <td>(555) 789-0123</td>\n",
              "        </tr>\n",
              "        <tr>\n",
              "            <td>5</td>\n",
              "            <td>Bowser</td>\n",
              "            <td>Koopa</td>\n",
              "            <td>{&quot;street&quot;: &quot;1 Bowser Castle&quot;, &quot;city&quot;: &quot;Dark Land&quot;}</td>\n",
              "            <td>(555) 654-3210</td>\n",
              "        </tr>\n",
              "    </tbody>\n",
              "</table>"
            ]
          },
          "metadata": {},
          "execution_count": 5
        }
      ]
    },
    {
      "cell_type": "code",
      "source": [
        "%%sql\n",
        "SELECT * FROM serviceTypes LIMIT 5;"
      ],
      "metadata": {
        "colab": {
          "base_uri": "https://localhost:8080/",
          "height": 137
        },
        "id": "Wu1ZToXKMB9L",
        "outputId": "e4826a49-6805-49f5-df4f-4a9e06c52634"
      },
      "execution_count": 6,
      "outputs": [
        {
          "output_type": "stream",
          "name": "stdout",
          "text": [
            " * sqlite:///mario_bros_plumbing.db\n",
            "Done.\n"
          ]
        },
        {
          "output_type": "execute_result",
          "data": {
            "text/plain": [
              "[(1, 'Repair', 'Services related to fixing and repairing plumbing issues'),\n",
              " (2, 'Installation', 'Services related to installing new plumbing fixtures and systems'),\n",
              " (3, 'Inspection', 'Services related to inspecting and assessing plumbing systems')]"
            ],
            "text/html": [
              "<table>\n",
              "    <thead>\n",
              "        <tr>\n",
              "            <th>service_type_id</th>\n",
              "            <th>service_type_name</th>\n",
              "            <th>description</th>\n",
              "        </tr>\n",
              "    </thead>\n",
              "    <tbody>\n",
              "        <tr>\n",
              "            <td>1</td>\n",
              "            <td>Repair</td>\n",
              "            <td>Services related to fixing and repairing plumbing issues</td>\n",
              "        </tr>\n",
              "        <tr>\n",
              "            <td>2</td>\n",
              "            <td>Installation</td>\n",
              "            <td>Services related to installing new plumbing fixtures and systems</td>\n",
              "        </tr>\n",
              "        <tr>\n",
              "            <td>3</td>\n",
              "            <td>Inspection</td>\n",
              "            <td>Services related to inspecting and assessing plumbing systems</td>\n",
              "        </tr>\n",
              "    </tbody>\n",
              "</table>"
            ]
          },
          "metadata": {},
          "execution_count": 6
        }
      ]
    },
    {
      "cell_type": "code",
      "source": [
        "%%sql\n",
        "SELECT * FROM services LIMIT 5;"
      ],
      "metadata": {
        "colab": {
          "base_uri": "https://localhost:8080/",
          "height": 179
        },
        "id": "Iy4WDckBMPEA",
        "outputId": "ebf1c227-436a-4a2c-9845-1102da43671f"
      },
      "execution_count": 7,
      "outputs": [
        {
          "output_type": "stream",
          "name": "stdout",
          "text": [
            " * sqlite:///mario_bros_plumbing.db\n",
            "Done.\n"
          ]
        },
        {
          "output_type": "execute_result",
          "data": {
            "text/plain": [
              "[(1, 1, 'Pipe Repair', 'Fix leaky or broken pipes', 50),\n",
              " (2, 1, 'Drain Cleaning', 'Clear clogged drains and pipes', 75),\n",
              " (3, 2, 'Toilet Installation', 'Install a new toilet', 150),\n",
              " (4, 2, 'Sink Replacement', 'Replace an old or damaged sink', 200),\n",
              " (5, 1, 'Water Heater Repair', 'Fix issues with water heaters', 120)]"
            ],
            "text/html": [
              "<table>\n",
              "    <thead>\n",
              "        <tr>\n",
              "            <th>service_id</th>\n",
              "            <th>service_type_id</th>\n",
              "            <th>service_name</th>\n",
              "            <th>description</th>\n",
              "            <th>price</th>\n",
              "        </tr>\n",
              "    </thead>\n",
              "    <tbody>\n",
              "        <tr>\n",
              "            <td>1</td>\n",
              "            <td>1</td>\n",
              "            <td>Pipe Repair</td>\n",
              "            <td>Fix leaky or broken pipes</td>\n",
              "            <td>50</td>\n",
              "        </tr>\n",
              "        <tr>\n",
              "            <td>2</td>\n",
              "            <td>1</td>\n",
              "            <td>Drain Cleaning</td>\n",
              "            <td>Clear clogged drains and pipes</td>\n",
              "            <td>75</td>\n",
              "        </tr>\n",
              "        <tr>\n",
              "            <td>3</td>\n",
              "            <td>2</td>\n",
              "            <td>Toilet Installation</td>\n",
              "            <td>Install a new toilet</td>\n",
              "            <td>150</td>\n",
              "        </tr>\n",
              "        <tr>\n",
              "            <td>4</td>\n",
              "            <td>2</td>\n",
              "            <td>Sink Replacement</td>\n",
              "            <td>Replace an old or damaged sink</td>\n",
              "            <td>200</td>\n",
              "        </tr>\n",
              "        <tr>\n",
              "            <td>5</td>\n",
              "            <td>1</td>\n",
              "            <td>Water Heater Repair</td>\n",
              "            <td>Fix issues with water heaters</td>\n",
              "            <td>120</td>\n",
              "        </tr>\n",
              "    </tbody>\n",
              "</table>"
            ]
          },
          "metadata": {},
          "execution_count": 7
        }
      ]
    },
    {
      "cell_type": "code",
      "source": [
        "%%sql\n",
        "SELECT * FROM orders LIMIT 5;"
      ],
      "metadata": {
        "colab": {
          "base_uri": "https://localhost:8080/",
          "height": 179
        },
        "id": "Ym3YDrSKMRsQ",
        "outputId": "ee64a6f6-6eda-4b7e-8f06-ec711f127334"
      },
      "execution_count": 8,
      "outputs": [
        {
          "output_type": "stream",
          "name": "stdout",
          "text": [
            " * sqlite:///mario_bros_plumbing.db\n",
            "Done.\n"
          ]
        },
        {
          "output_type": "execute_result",
          "data": {
            "text/plain": [
              "[(1, 3, 1, '2001-10-14', 925),\n",
              " (2, 2, 1, '2010-05-29', 825),\n",
              " (3, 1, 3, '2008-03-14', 1025),\n",
              " (4, 6, 3, '2008-04-16', 1140),\n",
              " (5, 2, 1, '2016-03-03', 750)]"
            ],
            "text/html": [
              "<table>\n",
              "    <thead>\n",
              "        <tr>\n",
              "            <th>order_id</th>\n",
              "            <th>customer_id</th>\n",
              "            <th>employee_id</th>\n",
              "            <th>order_date</th>\n",
              "            <th>total_amount</th>\n",
              "        </tr>\n",
              "    </thead>\n",
              "    <tbody>\n",
              "        <tr>\n",
              "            <td>1</td>\n",
              "            <td>3</td>\n",
              "            <td>1</td>\n",
              "            <td>2001-10-14</td>\n",
              "            <td>925</td>\n",
              "        </tr>\n",
              "        <tr>\n",
              "            <td>2</td>\n",
              "            <td>2</td>\n",
              "            <td>1</td>\n",
              "            <td>2010-05-29</td>\n",
              "            <td>825</td>\n",
              "        </tr>\n",
              "        <tr>\n",
              "            <td>3</td>\n",
              "            <td>1</td>\n",
              "            <td>3</td>\n",
              "            <td>2008-03-14</td>\n",
              "            <td>1025</td>\n",
              "        </tr>\n",
              "        <tr>\n",
              "            <td>4</td>\n",
              "            <td>6</td>\n",
              "            <td>3</td>\n",
              "            <td>2008-04-16</td>\n",
              "            <td>1140</td>\n",
              "        </tr>\n",
              "        <tr>\n",
              "            <td>5</td>\n",
              "            <td>2</td>\n",
              "            <td>1</td>\n",
              "            <td>2016-03-03</td>\n",
              "            <td>750</td>\n",
              "        </tr>\n",
              "    </tbody>\n",
              "</table>"
            ]
          },
          "metadata": {},
          "execution_count": 8
        }
      ]
    },
    {
      "cell_type": "code",
      "source": [
        "%%sql\n",
        "SELECT * FROM order_items LIMIT 5;"
      ],
      "metadata": {
        "colab": {
          "base_uri": "https://localhost:8080/",
          "height": 179
        },
        "id": "3PORFq4AMVTO",
        "outputId": "da2fb330-93cc-46d1-d1bd-125f91ec0e1d"
      },
      "execution_count": 9,
      "outputs": [
        {
          "output_type": "stream",
          "name": "stdout",
          "text": [
            " * sqlite:///mario_bros_plumbing.db\n",
            "Done.\n"
          ]
        },
        {
          "output_type": "execute_result",
          "data": {
            "text/plain": [
              "[(1, 1, 1, 1), (2, 1, 4, 2), (3, 1, 1, 3), (4, 1, 2, 3), (5, 1, 1, 2)]"
            ],
            "text/html": [
              "<table>\n",
              "    <thead>\n",
              "        <tr>\n",
              "            <th>order_item_id</th>\n",
              "            <th>order_id</th>\n",
              "            <th>service_id</th>\n",
              "            <th>quantity</th>\n",
              "        </tr>\n",
              "    </thead>\n",
              "    <tbody>\n",
              "        <tr>\n",
              "            <td>1</td>\n",
              "            <td>1</td>\n",
              "            <td>1</td>\n",
              "            <td>1</td>\n",
              "        </tr>\n",
              "        <tr>\n",
              "            <td>2</td>\n",
              "            <td>1</td>\n",
              "            <td>4</td>\n",
              "            <td>2</td>\n",
              "        </tr>\n",
              "        <tr>\n",
              "            <td>3</td>\n",
              "            <td>1</td>\n",
              "            <td>1</td>\n",
              "            <td>3</td>\n",
              "        </tr>\n",
              "        <tr>\n",
              "            <td>4</td>\n",
              "            <td>1</td>\n",
              "            <td>2</td>\n",
              "            <td>3</td>\n",
              "        </tr>\n",
              "        <tr>\n",
              "            <td>5</td>\n",
              "            <td>1</td>\n",
              "            <td>1</td>\n",
              "            <td>2</td>\n",
              "        </tr>\n",
              "    </tbody>\n",
              "</table>"
            ]
          },
          "metadata": {},
          "execution_count": 9
        }
      ]
    },
    {
      "cell_type": "markdown",
      "source": [
        "## Using GROUP BY in SQL\n",
        "\n",
        "The `GROUP BY` clause in SQL is used to group rows in a result set based on one or more columns. It is often used in combination with aggregate functions like `COUNT()`, `SUM()`, `AVG()`, `MIN()`, and `MAX()` to perform calculations on grouped data.\n",
        "\n",
        "The basic syntax of `GROUP BY` is as follows:\n",
        "\n",
        "```sql\n",
        "SELECT\n",
        " column1,\n",
        " column2,\n",
        " ...,\n",
        " aggregate_function(column) -- Ex: SUM(), COUNT(), AVG()\n",
        "FROM\n",
        " table_name\n",
        "GROUP BY column1, column2, ...;\n",
        "```\n",
        "\n",
        "When using `GROUP BY`, the `SELECT` statement should only include columns that are either listed in the `GROUP BY` clause or used with an aggregate function. The `GROUP BY` clause comes after the `FROM` and `WHERE` clauses but before the `ORDER BY` clause.\n",
        "\n",
        "Let's explore some examples using the \"Mario Brothers Plumbing\" database to understand how GROUP BY can be used in practice."
      ],
      "metadata": {
        "id": "VMGbkW-6MjLq"
      }
    },
    {
      "cell_type": "markdown",
      "source": [
        "### Example: Counting Orders per Customer (with Table Aliases)\n",
        "\n",
        "Suppose we want to count the number of orders placed by each customer. We can use `GROUP BY` with the `COUNT()` aggregate function to achieve this."
      ],
      "metadata": {
        "id": "WQuq7GoTNfHC"
      }
    },
    {
      "cell_type": "code",
      "source": [
        "%%sql\n",
        "--Number of orders by each customer\n",
        "SELECT\n",
        "  c.customer_id AS \"customer_id\",\n",
        "  c.first_name,\n",
        "  c.last_name,\n",
        "  COUNT(o.order_id) AS order_count\n",
        "FROM\n",
        "  Customers c -- We use a Table alias \"c\" for \"Customers\"\n",
        "  -- Table alias \"o\" for orders\n",
        "  JOIN Orders o ON c.customer_id = o.customer_id\n",
        "-- We group by all columns in the select clause, but NOT the COUNT\n",
        "GROUP BY c.customer_id, c.first_name, c.last_name\n",
        "LIMIT 10;"
      ],
      "metadata": {
        "colab": {
          "base_uri": "https://localhost:8080/",
          "height": 284
        },
        "id": "lZaiBwXHNjnw",
        "outputId": "a8814629-a464-49a1-b7a0-bbb749ead1c2"
      },
      "execution_count": 10,
      "outputs": [
        {
          "output_type": "stream",
          "name": "stdout",
          "text": [
            " * sqlite:///mario_bros_plumbing.db\n",
            "Done.\n"
          ]
        },
        {
          "output_type": "execute_result",
          "data": {
            "text/plain": [
              "[(1, 'Peach', 'Toadstool', 63),\n",
              " (2, 'Yoshi', 'Dino', 57),\n",
              " (3, 'Daisy', 'Sarasa', 67),\n",
              " (4, 'Toadette', 'Toadstool', 27),\n",
              " (5, 'Bowser', 'Koopa', 27),\n",
              " (6, 'Wario', 'Wario', 32),\n",
              " (7, 'Waluigi', 'Wario', 2),\n",
              " (8, 'Donkey', 'Kong', 1),\n",
              " (9, 'Diddy', 'Kong', 1),\n",
              " (11, 'Cappy', 'Bonneter', 1)]"
            ],
            "text/html": [
              "<table>\n",
              "    <thead>\n",
              "        <tr>\n",
              "            <th>customer_id</th>\n",
              "            <th>first_name</th>\n",
              "            <th>last_name</th>\n",
              "            <th>order_count</th>\n",
              "        </tr>\n",
              "    </thead>\n",
              "    <tbody>\n",
              "        <tr>\n",
              "            <td>1</td>\n",
              "            <td>Peach</td>\n",
              "            <td>Toadstool</td>\n",
              "            <td>63</td>\n",
              "        </tr>\n",
              "        <tr>\n",
              "            <td>2</td>\n",
              "            <td>Yoshi</td>\n",
              "            <td>Dino</td>\n",
              "            <td>57</td>\n",
              "        </tr>\n",
              "        <tr>\n",
              "            <td>3</td>\n",
              "            <td>Daisy</td>\n",
              "            <td>Sarasa</td>\n",
              "            <td>67</td>\n",
              "        </tr>\n",
              "        <tr>\n",
              "            <td>4</td>\n",
              "            <td>Toadette</td>\n",
              "            <td>Toadstool</td>\n",
              "            <td>27</td>\n",
              "        </tr>\n",
              "        <tr>\n",
              "            <td>5</td>\n",
              "            <td>Bowser</td>\n",
              "            <td>Koopa</td>\n",
              "            <td>27</td>\n",
              "        </tr>\n",
              "        <tr>\n",
              "            <td>6</td>\n",
              "            <td>Wario</td>\n",
              "            <td>Wario</td>\n",
              "            <td>32</td>\n",
              "        </tr>\n",
              "        <tr>\n",
              "            <td>7</td>\n",
              "            <td>Waluigi</td>\n",
              "            <td>Wario</td>\n",
              "            <td>2</td>\n",
              "        </tr>\n",
              "        <tr>\n",
              "            <td>8</td>\n",
              "            <td>Donkey</td>\n",
              "            <td>Kong</td>\n",
              "            <td>1</td>\n",
              "        </tr>\n",
              "        <tr>\n",
              "            <td>9</td>\n",
              "            <td>Diddy</td>\n",
              "            <td>Kong</td>\n",
              "            <td>1</td>\n",
              "        </tr>\n",
              "        <tr>\n",
              "            <td>11</td>\n",
              "            <td>Cappy</td>\n",
              "            <td>Bonneter</td>\n",
              "            <td>1</td>\n",
              "        </tr>\n",
              "    </tbody>\n",
              "</table>"
            ]
          },
          "metadata": {},
          "execution_count": 10
        }
      ]
    },
    {
      "cell_type": "markdown",
      "source": [
        "A few things happen in this query:\n",
        "\n",
        "1. First, **table aliases** are used to give a table, or a subquery in a FROM clause, a temporary name. They can make queries easier to write and to read by shortening the names of tables. In this query, 'c' is an alias for the 'Customers' table, and 'o' is an alias for the 'Orders' table. This allows us to refer to these tables using these shorter names throughout the query.\n",
        "\n",
        "2.  The `GROUP BY` statement in SQL is used to group rows that have the same values in specified columns. In this case, we're grouping by 'c.customer_id', which means that the result set will have one row for each unique customer_id in the 'Customers' table.\n",
        "\n",
        "3. The query is also using a aggregate function, `COUNT()`, to count the number of orders for each customer. The `COUNT()` function returns the number of rows that matches a specified criteria. In this case, it's counting the number of 'o.order_id' for each group of 'c.customer_id'.\n",
        "\n",
        "So, the overall result of this query will be a list of customers (with their customer_id, first_name, and last_name), along with the number of orders that each customer has made."
      ],
      "metadata": {
        "id": "WXCdNkWaOWbb"
      }
    },
    {
      "cell_type": "markdown",
      "source": [
        "### Example: Calculating Total Order Sales per Employee (with PRINTF)\n",
        "\n",
        "Let's say we want to calculate the total amount of sales handled by each employee. We can use `GROUP BY` with the `SUM()` aggregate function."
      ],
      "metadata": {
        "id": "idbXPgGzO3Tx"
      }
    },
    {
      "cell_type": "code",
      "source": [
        "%%sql\n",
        "SELECT\n",
        "  e.employee_id,\n",
        "  e.first_name,\n",
        "  e.last_name,\n",
        "  -- We can use printf to format the way currency appears\n",
        "  PRINTF(\"$%.2f\", SUM(o.total_amount)) AS total_sales_usd\n",
        "FROM\n",
        "  Employees e\n",
        "  JOIN Orders o ON e.employee_id = o.employee_id\n",
        "-- One row per employee id\n",
        "GROUP BY e.employee_id;"
      ],
      "metadata": {
        "colab": {
          "base_uri": "https://localhost:8080/",
          "height": 221
        },
        "id": "qMVnMNsdOkmG",
        "outputId": "c1005485-b625-40cd-9909-71911f862d3d"
      },
      "execution_count": 11,
      "outputs": [
        {
          "output_type": "stream",
          "name": "stdout",
          "text": [
            " * sqlite:///mario_bros_plumbing.db\n",
            "Done.\n"
          ]
        },
        {
          "output_type": "execute_result",
          "data": {
            "text/plain": [
              "[(1, 'Super', 'Mario', '$68485.00'),\n",
              " (2, 'Super', 'Luigi', '$38815.00'),\n",
              " (3, 'Princess', 'Peach', '$33755.00'),\n",
              " (4, 'Cat', 'Peach', '$11635.00'),\n",
              " (5, 'Tanuki', 'Mario', '$25855.00'),\n",
              " (6, 'Fire', 'Luigi', '$17430.00'),\n",
              " (7, 'Toad', 'Toadstool', '$7185.00')]"
            ],
            "text/html": [
              "<table>\n",
              "    <thead>\n",
              "        <tr>\n",
              "            <th>employee_id</th>\n",
              "            <th>first_name</th>\n",
              "            <th>last_name</th>\n",
              "            <th>total_sales_usd</th>\n",
              "        </tr>\n",
              "    </thead>\n",
              "    <tbody>\n",
              "        <tr>\n",
              "            <td>1</td>\n",
              "            <td>Super</td>\n",
              "            <td>Mario</td>\n",
              "            <td>$68485.00</td>\n",
              "        </tr>\n",
              "        <tr>\n",
              "            <td>2</td>\n",
              "            <td>Super</td>\n",
              "            <td>Luigi</td>\n",
              "            <td>$38815.00</td>\n",
              "        </tr>\n",
              "        <tr>\n",
              "            <td>3</td>\n",
              "            <td>Princess</td>\n",
              "            <td>Peach</td>\n",
              "            <td>$33755.00</td>\n",
              "        </tr>\n",
              "        <tr>\n",
              "            <td>4</td>\n",
              "            <td>Cat</td>\n",
              "            <td>Peach</td>\n",
              "            <td>$11635.00</td>\n",
              "        </tr>\n",
              "        <tr>\n",
              "            <td>5</td>\n",
              "            <td>Tanuki</td>\n",
              "            <td>Mario</td>\n",
              "            <td>$25855.00</td>\n",
              "        </tr>\n",
              "        <tr>\n",
              "            <td>6</td>\n",
              "            <td>Fire</td>\n",
              "            <td>Luigi</td>\n",
              "            <td>$17430.00</td>\n",
              "        </tr>\n",
              "        <tr>\n",
              "            <td>7</td>\n",
              "            <td>Toad</td>\n",
              "            <td>Toadstool</td>\n",
              "            <td>$7185.00</td>\n",
              "        </tr>\n",
              "    </tbody>\n",
              "</table>"
            ]
          },
          "metadata": {},
          "execution_count": 11
        }
      ]
    },
    {
      "cell_type": "markdown",
      "source": [
        "Here, the `GROUP BY` clause is used to group the result set by one or more columns. In this query, we group the rows by `employee_id`. This means that the query will produce one row per unique `employee_id` value. When `GROUP BY` is used, any column in the `SELECT` list that is not an aggregate function (like `SUM()`) must be included in the `GROUP BY` clause. In this case, `employee_id`, `first_name`, and `last_name` are not aggregate functions, so they must (technically) be listed in the `GROUP BY` clause. However, since `employee_id` uniquely identifies each employee, we only need to include `employee_id` in the `GROUP BY` clause.\n",
        "\n",
        "The `PRINTF()` function is used to format the total sales amount as a currency string. It takes two arguments: a format string and a value.\n",
        "  -   The format string `\"$%.2f\"` specifies that the output should start with a dollar sign (`$`), followed by the value with two decimal places (`%.2f`).\n",
        "  -   The value passed to `PRINTF()` is the result of `SUM(o.total_amount)`, which calculates the sum of `total_amount` for each employee. Since we are grouping by `employee_id`, the `SUM()` function will calculate the total sales for each employee."
      ],
      "metadata": {
        "id": "v_Pyvv7pUdHL"
      }
    },
    {
      "cell_type": "markdown",
      "source": [
        "### Finding the Most Popular Service Type\n",
        "\n",
        "To find the most popular service type based on the number of order items, we can use `GROUP BY` with the `COUNT()` function and an `ORDER BY` clause."
      ],
      "metadata": {
        "id": "UiQ_6lWYVoln"
      }
    },
    {
      "cell_type": "code",
      "source": [
        "%%sql\n",
        "SELECT\n",
        "  st.service_type_name AS most_popular_service,\n",
        "  COUNT(oi.order_item_id) AS order_item_count\n",
        "FROM\n",
        "  ServiceTypes st\n",
        "  JOIN Services s ON st.service_type_id = s.service_type_id\n",
        "  JOIN Order_Items oi ON s.service_id = oi.service_id\n",
        "GROUP BY st.service_type_name -- biggest first\n",
        "ORDER BY order_item_count DESC  -- top result only\n",
        "LIMIT 1;"
      ],
      "metadata": {
        "colab": {
          "base_uri": "https://localhost:8080/",
          "height": 95
        },
        "id": "LfQEDsCvVGEA",
        "outputId": "1ed69e16-88aa-42ef-9760-52c6ce74260b"
      },
      "execution_count": 12,
      "outputs": [
        {
          "output_type": "stream",
          "name": "stdout",
          "text": [
            " * sqlite:///mario_bros_plumbing.db\n",
            "Done.\n"
          ]
        },
        {
          "output_type": "execute_result",
          "data": {
            "text/plain": [
              "[('Repair', 582)]"
            ],
            "text/html": [
              "<table>\n",
              "    <thead>\n",
              "        <tr>\n",
              "            <th>most_popular_service</th>\n",
              "            <th>order_item_count</th>\n",
              "        </tr>\n",
              "    </thead>\n",
              "    <tbody>\n",
              "        <tr>\n",
              "            <td>Repair</td>\n",
              "            <td>582</td>\n",
              "        </tr>\n",
              "    </tbody>\n",
              "</table>"
            ]
          },
          "metadata": {},
          "execution_count": 12
        }
      ]
    },
    {
      "cell_type": "markdown",
      "source": [
        "In this example, we join the ServiceTypes, Services, and Order_Items tables to connect the service types with their corresponding order items. We group the results by `service_type_name` and count the number of order items for each service type using `COUNT()`. The `ORDER BY` clause is used to sort the results in descending order based on the `order_item_count`, and the `LIMIT` clause is used to retrieve only the top result, which represents the most popular service type."
      ],
      "metadata": {
        "id": "4BiWjVJIWcX4"
      }
    },
    {
      "cell_type": "markdown",
      "source": [
        "## Using HAVING in SQL\n",
        "\n",
        "The `HAVING` clause in SQL is used to filter the results of an aggregate function based on a specified condition. It is similar to the `WHERE` clause, but while `WHERE` filters individual rows before grouping, `HAVING` filters grouped rows after the `GROUP BY` clause has been applied.\n",
        "\n",
        "The basic syntax of `HAVING` is as follows:\n",
        "\n",
        "```sql\n",
        "SELECT\n",
        "  column1,\n",
        "  column2,\n",
        "  ...,\n",
        "  aggregate_function(column)\n",
        "FROM table_name\n",
        "(WHERE condition) -- A WHERE comes before\n",
        "GROUP BY column1, column2, ...\n",
        "-- HAVING comes after a group by\n",
        "HAVING condition;\n",
        "```\n",
        "\n",
        "The `HAVING` clause comes after the `GROUP BY` clause and before the `ORDER BY` clause. The condition in the `HAVING` clause typically involves an aggregate function and can use comparison operators like `=`, `>`, `<`, `>=`, `<=`, and `<>`."
      ],
      "metadata": {
        "id": "JdliaAD4XG6J"
      }
    },
    {
      "cell_type": "markdown",
      "source": [
        "### Example: Filtering Employees by Total Sales Amount\n",
        "Suppose we want to find employees who have achieved total sales greater than $20,000. We can use HAVING with the SUM() aggregate function to filter the grouped results."
      ],
      "metadata": {
        "id": "BowsDXlbXYBS"
      }
    },
    {
      "cell_type": "code",
      "source": [
        "%%sql\n",
        "SELECT\n",
        "  e.employee_id,\n",
        "  e.first_name,\n",
        "  e.last_name,\n",
        "  PRINTF(\"$%.2f\", SUM(o.total_amount)) AS total_sales_usd\n",
        "FROM\n",
        "  Employees e\n",
        "  JOIN Orders o ON e.employee_id = o.employee_id\n",
        "GROUP BY e.employee_id\n",
        "HAVING SUM(o.total_amount) > 20000;"
      ],
      "metadata": {
        "colab": {
          "base_uri": "https://localhost:8080/",
          "height": 158
        },
        "id": "tEItoaa9Wctz",
        "outputId": "dc24d1ca-d2f4-4687-c111-5ce4ce1863ed"
      },
      "execution_count": 13,
      "outputs": [
        {
          "output_type": "stream",
          "name": "stdout",
          "text": [
            " * sqlite:///mario_bros_plumbing.db\n",
            "Done.\n"
          ]
        },
        {
          "output_type": "execute_result",
          "data": {
            "text/plain": [
              "[(1, 'Super', 'Mario', '$68485.00'),\n",
              " (2, 'Super', 'Luigi', '$38815.00'),\n",
              " (3, 'Princess', 'Peach', '$33755.00'),\n",
              " (5, 'Tanuki', 'Mario', '$25855.00')]"
            ],
            "text/html": [
              "<table>\n",
              "    <thead>\n",
              "        <tr>\n",
              "            <th>employee_id</th>\n",
              "            <th>first_name</th>\n",
              "            <th>last_name</th>\n",
              "            <th>total_sales_usd</th>\n",
              "        </tr>\n",
              "    </thead>\n",
              "    <tbody>\n",
              "        <tr>\n",
              "            <td>1</td>\n",
              "            <td>Super</td>\n",
              "            <td>Mario</td>\n",
              "            <td>$68485.00</td>\n",
              "        </tr>\n",
              "        <tr>\n",
              "            <td>2</td>\n",
              "            <td>Super</td>\n",
              "            <td>Luigi</td>\n",
              "            <td>$38815.00</td>\n",
              "        </tr>\n",
              "        <tr>\n",
              "            <td>3</td>\n",
              "            <td>Princess</td>\n",
              "            <td>Peach</td>\n",
              "            <td>$33755.00</td>\n",
              "        </tr>\n",
              "        <tr>\n",
              "            <td>5</td>\n",
              "            <td>Tanuki</td>\n",
              "            <td>Mario</td>\n",
              "            <td>$25855.00</td>\n",
              "        </tr>\n",
              "    </tbody>\n",
              "</table>"
            ]
          },
          "metadata": {},
          "execution_count": 13
        }
      ]
    },
    {
      "cell_type": "markdown",
      "source": [
        "In this example, we join the Employees and Orders tables, group the results by `employee_id`, and calculate the total sales for each employee using `SUM()`. The `HAVING` clause then filters the grouped results to include only employees whose total sales exceed $1000."
      ],
      "metadata": {
        "id": "YeEHevsnX7y3"
      }
    },
    {
      "cell_type": "markdown",
      "source": [
        "### Example: Filtering Service Types by Average Price\n",
        "\n",
        "Let's say we want to find service types whose average price is greater than $100. We can use `HAVING` with the `AVG()` aggregate function to filter the grouped results."
      ],
      "metadata": {
        "id": "oIT2VFBkX8hS"
      }
    },
    {
      "cell_type": "code",
      "source": [
        "%%sql\n",
        "SELECT\n",
        "  st.service_type_name,\n",
        "  PRINTF(\"$%.2f\", AVG(s.price)) AS average_price\n",
        "FROM\n",
        "  ServiceTypes st\n",
        "  JOIN Services s ON st.service_type_id = s.service_type_id\n",
        "GROUP BY st.service_type_name\n",
        "HAVING AVG(s.price) > 100;"
      ],
      "metadata": {
        "colab": {
          "base_uri": "https://localhost:8080/",
          "height": 116
        },
        "id": "83AFd9yMYIjx",
        "outputId": "e7afb24f-a1d3-4730-94be-107a5084603a"
      },
      "execution_count": 14,
      "outputs": [
        {
          "output_type": "stream",
          "name": "stdout",
          "text": [
            " * sqlite:///mario_bros_plumbing.db\n",
            "Done.\n"
          ]
        },
        {
          "output_type": "execute_result",
          "data": {
            "text/plain": [
              "[('Installation', '$175.00'), ('Repair', '$123.75')]"
            ],
            "text/html": [
              "<table>\n",
              "    <thead>\n",
              "        <tr>\n",
              "            <th>service_type_name</th>\n",
              "            <th>average_price</th>\n",
              "        </tr>\n",
              "    </thead>\n",
              "    <tbody>\n",
              "        <tr>\n",
              "            <td>Installation</td>\n",
              "            <td>$175.00</td>\n",
              "        </tr>\n",
              "        <tr>\n",
              "            <td>Repair</td>\n",
              "            <td>$123.75</td>\n",
              "        </tr>\n",
              "    </tbody>\n",
              "</table>"
            ]
          },
          "metadata": {},
          "execution_count": 14
        }
      ]
    },
    {
      "cell_type": "markdown",
      "source": [
        "Here, we join the ServiceTypes and Services tables, group the results by `service_type_name`, and calculate the average price for each service type using `AVG()`. The `HAVING` clause then filters the grouped results to include only service types whose average price is greater than $100."
      ],
      "metadata": {
        "id": "I7XTpz4OYfwj"
      }
    },
    {
      "cell_type": "markdown",
      "source": [
        "## Subqueries in SQL\n",
        "A **subquery**, also known as a nested query or inner query, is a query within another query. It allows you to use the results of one query as input for another query. Subqueries can be used in various parts of an SQL statement, such as `SELECT`, `FROM`, `WHERE`, and `HAVING` clauses.\n",
        "\n",
        "The basic syntax of a subquery is as follows:\n",
        "\n",
        "```sql\n",
        "SELECT ... -- Start of \"outer query\"\n",
        "FROM ...\n",
        "WHERE column_name operator (\n",
        "  -- Start of subquery (\"inner query\")\n",
        "    SELECT ...\n",
        "    FROM ...\n",
        "    WHERE ...\n",
        ");\n",
        "```\n",
        "\n",
        "The subquery is enclosed in parentheses and placed within the outer query. The outer query uses the results of the subquery to perform further operations or filtering.\n",
        "\n",
        "Let's take a look at a few examples."
      ],
      "metadata": {
        "id": "Q3gLW8qSZ7el"
      }
    },
    {
      "cell_type": "markdown",
      "source": [
        "### Subquery in the SELECT Clause\n",
        "Suppose we want to retrieve the customer details along with the difference between their total order amount and the average order amount of all customers. We can use a subquery in the SELECT clause to calculate the average order amount."
      ],
      "metadata": {
        "id": "WJ9vpcFgc4fx"
      }
    },
    {
      "cell_type": "code",
      "source": [
        "%%sql\n",
        "SELECT\n",
        "  c.customer_id,\n",
        "  c.first_name,\n",
        "  c.last_name,\n",
        "  SUM(o.total_amount) AS total_order_amount,\n",
        "  (SUM(o.total_amount) -\n",
        "    -- We subtract the results of this subquery\n",
        "    (SELECT AVG(total_amount) FROM Orders)\n",
        "  ) AS difference_from_average\n",
        "FROM\n",
        "  Customers c\n",
        "  JOIN  Orders o ON c.customer_id = o.customer_id\n",
        "GROUP BY c.customer_id, c.first_name, c.last_name\n",
        "LIMIT 10;"
      ],
      "metadata": {
        "colab": {
          "base_uri": "https://localhost:8080/",
          "height": 284
        },
        "id": "WBdM9ZKlc6Vu",
        "outputId": "2b0154a4-2988-4765-82a9-a7f1040007fe"
      },
      "execution_count": 15,
      "outputs": [
        {
          "output_type": "stream",
          "name": "stdout",
          "text": [
            " * sqlite:///mario_bros_plumbing.db\n",
            "Done.\n"
          ]
        },
        {
          "output_type": "execute_result",
          "data": {
            "text/plain": [
              "[(1, 'Peach', 'Toadstool', 37110, 36450.38961038961),\n",
              " (2, 'Yoshi', 'Dino', 35635, 34975.38961038961),\n",
              " (3, 'Daisy', 'Sarasa', 46210, 45550.38961038961),\n",
              " (4, 'Toadette', 'Toadstool', 20450, 19790.38961038961),\n",
              " (5, 'Bowser', 'Koopa', 18275, 17615.38961038961),\n",
              " (6, 'Wario', 'Wario', 21465, 20805.38961038961),\n",
              " (7, 'Waluigi', 'Wario', 2295, 1635.3896103896104),\n",
              " (8, 'Donkey', 'Kong', 75, -584.6103896103896),\n",
              " (9, 'Diddy', 'Kong', 1065, 405.3896103896104),\n",
              " (11, 'Cappy', 'Bonneter', 570, -89.61038961038957)]"
            ],
            "text/html": [
              "<table>\n",
              "    <thead>\n",
              "        <tr>\n",
              "            <th>customer_id</th>\n",
              "            <th>first_name</th>\n",
              "            <th>last_name</th>\n",
              "            <th>total_order_amount</th>\n",
              "            <th>difference_from_average</th>\n",
              "        </tr>\n",
              "    </thead>\n",
              "    <tbody>\n",
              "        <tr>\n",
              "            <td>1</td>\n",
              "            <td>Peach</td>\n",
              "            <td>Toadstool</td>\n",
              "            <td>37110</td>\n",
              "            <td>36450.38961038961</td>\n",
              "        </tr>\n",
              "        <tr>\n",
              "            <td>2</td>\n",
              "            <td>Yoshi</td>\n",
              "            <td>Dino</td>\n",
              "            <td>35635</td>\n",
              "            <td>34975.38961038961</td>\n",
              "        </tr>\n",
              "        <tr>\n",
              "            <td>3</td>\n",
              "            <td>Daisy</td>\n",
              "            <td>Sarasa</td>\n",
              "            <td>46210</td>\n",
              "            <td>45550.38961038961</td>\n",
              "        </tr>\n",
              "        <tr>\n",
              "            <td>4</td>\n",
              "            <td>Toadette</td>\n",
              "            <td>Toadstool</td>\n",
              "            <td>20450</td>\n",
              "            <td>19790.38961038961</td>\n",
              "        </tr>\n",
              "        <tr>\n",
              "            <td>5</td>\n",
              "            <td>Bowser</td>\n",
              "            <td>Koopa</td>\n",
              "            <td>18275</td>\n",
              "            <td>17615.38961038961</td>\n",
              "        </tr>\n",
              "        <tr>\n",
              "            <td>6</td>\n",
              "            <td>Wario</td>\n",
              "            <td>Wario</td>\n",
              "            <td>21465</td>\n",
              "            <td>20805.38961038961</td>\n",
              "        </tr>\n",
              "        <tr>\n",
              "            <td>7</td>\n",
              "            <td>Waluigi</td>\n",
              "            <td>Wario</td>\n",
              "            <td>2295</td>\n",
              "            <td>1635.3896103896104</td>\n",
              "        </tr>\n",
              "        <tr>\n",
              "            <td>8</td>\n",
              "            <td>Donkey</td>\n",
              "            <td>Kong</td>\n",
              "            <td>75</td>\n",
              "            <td>-584.6103896103896</td>\n",
              "        </tr>\n",
              "        <tr>\n",
              "            <td>9</td>\n",
              "            <td>Diddy</td>\n",
              "            <td>Kong</td>\n",
              "            <td>1065</td>\n",
              "            <td>405.3896103896104</td>\n",
              "        </tr>\n",
              "        <tr>\n",
              "            <td>11</td>\n",
              "            <td>Cappy</td>\n",
              "            <td>Bonneter</td>\n",
              "            <td>570</td>\n",
              "            <td>-89.61038961038957</td>\n",
              "        </tr>\n",
              "    </tbody>\n",
              "</table>"
            ]
          },
          "metadata": {},
          "execution_count": 15
        }
      ]
    },
    {
      "cell_type": "markdown",
      "source": [
        "In this example, the subquery `(SELECT AVG(total_amount) FROM Orders)` calculates the average order amount of all customers. The result of the subquery is then used in the outer query to calculate the difference between each customer's total order amount and the average order amount. This calculation would be difficult to achieve without a subquery.\n",
        "\n",
        "We can use PRINTF to clean up the presentation of this data as follows:"
      ],
      "metadata": {
        "id": "EwpRFlzvdy-8"
      }
    },
    {
      "cell_type": "code",
      "source": [
        "%%sql\n",
        "SELECT\n",
        "  c.customer_id,\n",
        "  c.first_name,\n",
        "  c.last_name,\n",
        "  PRINTF(\"$%.2f\", SUM(o.total_amount)) AS total_order_amount,\n",
        "  PRINTF(\"$%.2f\",\n",
        "    (\n",
        "    SUM(o.total_amount) -\n",
        "    -- We subtract the results of this subquery\n",
        "    (SELECT AVG(total_amount) FROM Orders)\n",
        "    )\n",
        "  )AS difference_from_average\n",
        "FROM\n",
        "  Customers c\n",
        "  JOIN Orders o ON c.customer_id = o.customer_id\n",
        "GROUP BY c.customer_id, c.first_name, c.last_name\n",
        "LIMIT 10;"
      ],
      "metadata": {
        "colab": {
          "base_uri": "https://localhost:8080/",
          "height": 284
        },
        "id": "H0L1QAJCd37_",
        "outputId": "bf8ad161-4530-4dea-95c0-8e7eb3f0793a"
      },
      "execution_count": 16,
      "outputs": [
        {
          "output_type": "stream",
          "name": "stdout",
          "text": [
            " * sqlite:///mario_bros_plumbing.db\n",
            "Done.\n"
          ]
        },
        {
          "output_type": "execute_result",
          "data": {
            "text/plain": [
              "[(1, 'Peach', 'Toadstool', '$37110.00', '$36450.39'),\n",
              " (2, 'Yoshi', 'Dino', '$35635.00', '$34975.39'),\n",
              " (3, 'Daisy', 'Sarasa', '$46210.00', '$45550.39'),\n",
              " (4, 'Toadette', 'Toadstool', '$20450.00', '$19790.39'),\n",
              " (5, 'Bowser', 'Koopa', '$18275.00', '$17615.39'),\n",
              " (6, 'Wario', 'Wario', '$21465.00', '$20805.39'),\n",
              " (7, 'Waluigi', 'Wario', '$2295.00', '$1635.39'),\n",
              " (8, 'Donkey', 'Kong', '$75.00', '$-584.61'),\n",
              " (9, 'Diddy', 'Kong', '$1065.00', '$405.39'),\n",
              " (11, 'Cappy', 'Bonneter', '$570.00', '$-89.61')]"
            ],
            "text/html": [
              "<table>\n",
              "    <thead>\n",
              "        <tr>\n",
              "            <th>customer_id</th>\n",
              "            <th>first_name</th>\n",
              "            <th>last_name</th>\n",
              "            <th>total_order_amount</th>\n",
              "            <th>difference_from_average</th>\n",
              "        </tr>\n",
              "    </thead>\n",
              "    <tbody>\n",
              "        <tr>\n",
              "            <td>1</td>\n",
              "            <td>Peach</td>\n",
              "            <td>Toadstool</td>\n",
              "            <td>$37110.00</td>\n",
              "            <td>$36450.39</td>\n",
              "        </tr>\n",
              "        <tr>\n",
              "            <td>2</td>\n",
              "            <td>Yoshi</td>\n",
              "            <td>Dino</td>\n",
              "            <td>$35635.00</td>\n",
              "            <td>$34975.39</td>\n",
              "        </tr>\n",
              "        <tr>\n",
              "            <td>3</td>\n",
              "            <td>Daisy</td>\n",
              "            <td>Sarasa</td>\n",
              "            <td>$46210.00</td>\n",
              "            <td>$45550.39</td>\n",
              "        </tr>\n",
              "        <tr>\n",
              "            <td>4</td>\n",
              "            <td>Toadette</td>\n",
              "            <td>Toadstool</td>\n",
              "            <td>$20450.00</td>\n",
              "            <td>$19790.39</td>\n",
              "        </tr>\n",
              "        <tr>\n",
              "            <td>5</td>\n",
              "            <td>Bowser</td>\n",
              "            <td>Koopa</td>\n",
              "            <td>$18275.00</td>\n",
              "            <td>$17615.39</td>\n",
              "        </tr>\n",
              "        <tr>\n",
              "            <td>6</td>\n",
              "            <td>Wario</td>\n",
              "            <td>Wario</td>\n",
              "            <td>$21465.00</td>\n",
              "            <td>$20805.39</td>\n",
              "        </tr>\n",
              "        <tr>\n",
              "            <td>7</td>\n",
              "            <td>Waluigi</td>\n",
              "            <td>Wario</td>\n",
              "            <td>$2295.00</td>\n",
              "            <td>$1635.39</td>\n",
              "        </tr>\n",
              "        <tr>\n",
              "            <td>8</td>\n",
              "            <td>Donkey</td>\n",
              "            <td>Kong</td>\n",
              "            <td>$75.00</td>\n",
              "            <td>$-584.61</td>\n",
              "        </tr>\n",
              "        <tr>\n",
              "            <td>9</td>\n",
              "            <td>Diddy</td>\n",
              "            <td>Kong</td>\n",
              "            <td>$1065.00</td>\n",
              "            <td>$405.39</td>\n",
              "        </tr>\n",
              "        <tr>\n",
              "            <td>11</td>\n",
              "            <td>Cappy</td>\n",
              "            <td>Bonneter</td>\n",
              "            <td>$570.00</td>\n",
              "            <td>$-89.61</td>\n",
              "        </tr>\n",
              "    </tbody>\n",
              "</table>"
            ]
          },
          "metadata": {},
          "execution_count": 16
        }
      ]
    },
    {
      "cell_type": "markdown",
      "source": [
        "###  Subquery in the `WHERE` or `HAVING` Clauses\n",
        "\n",
        "Let's say we want to find the employees who have greater than average sales per order."
      ],
      "metadata": {
        "id": "pEfG78NOe6v1"
      }
    },
    {
      "cell_type": "code",
      "source": [
        "%%sql\n",
        "SELECT\n",
        "  e.employee_id,\n",
        "  e.first_name,\n",
        "  e.last_name,\n",
        "  PRINTF(\"$%.2f\", SUM(o.total_amount) / COUNT(o.total_amount)) AS avg_sales_order\n",
        "FROM\n",
        "  Employees e\n",
        "  JOIN Orders o ON e.employee_id = o.employee_id\n",
        "GROUP BY e.employee_id\n",
        "HAVING (SUM(o.total_amount) / COUNT(o.total_amount)) >\n",
        "  (SELECT AVG(total_amount) FROM Orders);"
      ],
      "metadata": {
        "colab": {
          "base_uri": "https://localhost:8080/",
          "height": 158
        },
        "id": "zv-eCjzAfCQN",
        "outputId": "07c1bec1-c01e-413c-c37b-777404ae2075"
      },
      "execution_count": 17,
      "outputs": [
        {
          "output_type": "stream",
          "name": "stdout",
          "text": [
            " * sqlite:///mario_bros_plumbing.db\n",
            "Done.\n"
          ]
        },
        {
          "output_type": "execute_result",
          "data": {
            "text/plain": [
              "[(1, 'Super', 'Mario', '$678.00'),\n",
              " (3, 'Princess', 'Peach', '$675.00'),\n",
              " (5, 'Tanuki', 'Mario', '$698.00'),\n",
              " (7, 'Toad', 'Toadstool', '$718.00')]"
            ],
            "text/html": [
              "<table>\n",
              "    <thead>\n",
              "        <tr>\n",
              "            <th>employee_id</th>\n",
              "            <th>first_name</th>\n",
              "            <th>last_name</th>\n",
              "            <th>avg_sales_order</th>\n",
              "        </tr>\n",
              "    </thead>\n",
              "    <tbody>\n",
              "        <tr>\n",
              "            <td>1</td>\n",
              "            <td>Super</td>\n",
              "            <td>Mario</td>\n",
              "            <td>$678.00</td>\n",
              "        </tr>\n",
              "        <tr>\n",
              "            <td>3</td>\n",
              "            <td>Princess</td>\n",
              "            <td>Peach</td>\n",
              "            <td>$675.00</td>\n",
              "        </tr>\n",
              "        <tr>\n",
              "            <td>5</td>\n",
              "            <td>Tanuki</td>\n",
              "            <td>Mario</td>\n",
              "            <td>$698.00</td>\n",
              "        </tr>\n",
              "        <tr>\n",
              "            <td>7</td>\n",
              "            <td>Toad</td>\n",
              "            <td>Toadstool</td>\n",
              "            <td>$718.00</td>\n",
              "        </tr>\n",
              "    </tbody>\n",
              "</table>"
            ]
          },
          "metadata": {},
          "execution_count": 17
        }
      ]
    },
    {
      "cell_type": "markdown",
      "source": [
        "The query retrieves employee details and their average sales per order, but only for employees whose average sales per order is greater than the overall average order amount. It joins the `Employees` and `Orders` tables, groups the results by `employee_id`, calculates the average sales per order using `SUM` and `COUNT`, and filters the results using a `HAVING` clause that compares each employee's average sales with the overall average calculated by a subquery."
      ],
      "metadata": {
        "id": "wOzGpe0Ag90S"
      }
    },
    {
      "cell_type": "markdown",
      "source": [
        "## Case Study: Subqueries and Big O in the Mushroom Kingdom\n",
        "Welcome to the Mushroom Kingdom, where Birdo and Yoshi have taken up SQL programming in their spare time! As they dive into the world of databases, they quickly realize the importance of understanding query efficiency and performance. This is where Big O notation comes into play.\n",
        "\n",
        "### Introduction to Big O Notation\n",
        "Big O notation is a mathematical notation used to describe the performance or complexity of an algorithm. In the context of databases and SQL queries, Big O notation helps us analyze how the running time of a query changes as the size of the input data grows.\n",
        "\n",
        "The \"O\" in Big O stands for \"order of,\" and it describes the upper bound of the growth rate of a function. In simpler terms, it tells us how fast the running time of a query increases as the amount of data it processes increases.\n",
        "\n",
        "Some common Big O notations and their meanings:\n",
        "\n",
        "-   O(1): Constant time - The query's running time remains constant, regardless of the input size.\n",
        "-   O(log n): Logarithmic time - The query's running time grows logarithmically with the input size.\n",
        "-   O(n): Linear time - The query's running time grows linearly with the input size.\n",
        "-   O(n log n): Linearithmic time - The query's running time grows in a combination of linear and logarithmic factors.\n",
        "-   O(n^2): Quadratic time - The query's running time grows quadratically with the input size.\n",
        "\n",
        "Now, let's look at some simple database queries and their corresponding Big O notations.\n",
        "\n",
        "### Example 1: Constant Time - O(1)\n",
        "\n",
        "Birdo has a query that retrieves a single record from the `Toads` table based on a specific `id`:\n",
        "\n",
        "```sql\n",
        "SELECT * FROM Toads WHERE id = 1;\n",
        "```\n",
        "\n",
        "This query has a Big O notation of O(1) because it always retrieves a single record based on its **primary key**, regardless of the size of the `Toads` table. The running time remains constant. (Note: If this was something besides the primary key, this might be different)!\n",
        "\n",
        "### Example 2: Linear Time - O(n)\n",
        "\n",
        "Yoshi has a query that retrieves all the records from the `Toads` table:\n",
        "\n",
        "```sql\n",
        "SELECT * FROM Toads;\n",
        "```\n",
        "\n",
        "This query has a Big O notation of O(n), where n is the number of records in the `Toads` table. As the number of records grows, the running time of the query increases linearly.\n",
        "\n",
        "### Example 3: Linearithmic Time - O(n log n)\n",
        "\n",
        "Birdo has a query that sorts the `Toads` table based on the `name` column:\n",
        "\n",
        "```sql\n",
        "SELECT * FROM Toads ORDER BY name;\n",
        "```\n",
        "\n",
        "This query has a Big O notation of O(n log n) because sorting algorithms typically have a time complexity of O(n log n). The running time grows in a combination of linear and logarithmic factors.\n",
        "\n",
        "### Example 4: Subquery with Quadratic Time - O(n^2)\n",
        "Birdo has a query that retrieves the names of all Toads who have collected more than the average number of Power Stars:\n",
        "\n",
        "```sql\n",
        "SELECT name\n",
        "FROM Toads\n",
        "WHERE num_power_stars > (\n",
        "  SELECT AVG(num_power_stars)\n",
        "  FROM Toads\n",
        ");\n",
        "```\n",
        "\n",
        "In this query, the subquery calculates the average number of Power Stars collected by all Toads. The outer query then compares each Toad's `num_power_stars` against this average. The subquery has a Big O notation of O(n^2) because\n",
        " 1. The \"inner query needs to scan the entire `Toads` table to calculate the average.  This is O(n),\n",
        " 2. The outer query also has a Big O notation of O(n) because it needs to compare each Toad's `num_power_stars` against the average.\n",
        "\n",
        "Therefore, the overall Big O notation of this query is O(n * n) = O(n^2). This could be pretty slow with large datasets. After Birdo and Yoshi discuss it a while, they discover they could speed up this query with **common table expressions** which we will learn about later."
      ],
      "metadata": {
        "id": "zw13TVc0l6jY"
      }
    },
    {
      "cell_type": "markdown",
      "source": [
        "### Example 5: Subquery with Cubic Time - O(n^3)\n",
        "\n",
        "Yoshi has a query that retrieves the names of all Toads who have collected more Power Stars than the average number of Power Stars collected by their friends:\n",
        "\n",
        "```sql\n",
        "SELECT name\n",
        "FROM Toads t1\n",
        "WHERE num_power_stars > (\n",
        "  SELECT AVG(num_power_stars)\n",
        "  FROM Toads t2\n",
        "  WHERE t2.id IN (\n",
        "    SELECT friend_id\n",
        "    FROM Friends\n",
        "    WHERE toad_id = t1.id\n",
        "  )\n",
        ");\n",
        "```\n",
        "\n",
        "In this query, we have a table called `Friends` that stores the friendship relationships between Toads. The subquery first finds the friends of each Toad by querying the `Friends` table. Then, for each Toad, it calculates the average number of Power Stars collected by their friends using another subquery. Finally, the outer query compares each Toad's `num_power_stars` against the average calculated for their friends.\n",
        "\n",
        "The innermost subquery (`SELECT friend_id FROM Friends WHERE toad_id = t1.id`) has a Big O notation of O(n), where n is the number of friendship records in the `Friends` table. This subquery is executed for each Toad in the outer query.\n",
        "\n",
        "The middle subquery (`SELECT AVG(num_power_stars) FROM Toads t2 WHERE t2.id IN (...)`), which calculates the average number of Power Stars for each Toad's friends, has a Big O notation of O(m), where m is the average number of friends per Toad. This subquery is executed for each Toad in the outer query.\n",
        "\n",
        "The outer query (`SELECT name FROM Toads t1 WHERE num_power_stars > (...)`), which compares each Toad's `num_power_stars` against the average calculated for their friends, has a Big O notation of O(n), where n is the number of Toads in the `Toads` table.\n",
        "\n",
        "Combining these three factors, the overall Big O notation of this query is O(n * m * n), which simplifies to O(n^3), assuming that the average number of friends per Toad (m) is proportional to the total number of Toads (n).\n",
        "\n",
        "This query demonstrates a scenario where the use of nested subqueries can lead to a cubic time complexity, which can be very inefficient for large datasets. In such cases, it's essential to consider alternative approaches, such as optimizing the database schema, using joins instead of subqueries, or breaking down the query into smaller, more efficient parts.\n",
        "\n",
        "Birdo and Yoshi are surprised by the complexity of this query and the potential performance impact it can have. They realize that understanding Big O notation is crucial for writing efficient SQL queries, especially when dealing with large datasets and complex relationships between tables.\n",
        "\n",
        "(Brendan's Note: Fuguring out how to query huge, complex social network data--of the sort in the last example--efficiently is a major areas of research. In the real world, database systems like SQLite try to \"optimize\" queries in various ways to make them more efficient, and provide various utilities for measuring their real-world run times. Later in the book, we'll find out more about this.).\n"
      ],
      "metadata": {
        "id": "8Xpf08XtnjK-"
      }
    },
    {
      "cell_type": "markdown",
      "source": [
        "## JSON and SQL\n",
        "In chapter 1, we discussed different logical \"data models\", or ways of organizing information. The two most prominent data models in use today are:\n",
        "\n",
        "1. The **relational model** that organizes data into related \"tables\". SQL is designed for databases organized on this model. SQLite follows this model, as do most other leading databases (MySQL, Oracle, SQL Server, Postgres).\n",
        "2. Databases in **key-value** structures, such as **JSON**. These are sometimes called **document databases**. MongoDB is the most widely used type of this database.\n",
        "\n",
        "As it turns out, most modern relational databases have added the capacity to deal natively with JSON data. (And so, they are technically \"hybrid\" databases). We'll briefly take a look at how this works, using the `Address` column of the `Customer` table in our Mario Bros plumbing database.\n",
        "\n",
        "### What is JSON?\n",
        "\n",
        "JSON (JavaScript Object Notation) is a lightweight data interchange format that is easy for humans to read and write and easy for machines to parse and generate. It is commonly used to transmit data between a server and a web application, as an alternative to XML.\n",
        "\n",
        "JSON represents data in key-value pairs and supports various data types such as strings, numbers, booleans, arrays, and nested objects. Here's an example of a JSON object representing an address:\n",
        "\n",
        "```javascript\n",
        "// An example of a JSON object\n",
        "{\n",
        "  \"street\": \"Mushroom Castle\",\n",
        "  \"city\": \"Toad Town\",\n",
        "  \"zip_code\": \"12345\",\n",
        "  \"country\": \"Mushroom Kingdom\"\n",
        "}\n",
        "```\n",
        "\n",
        "In this example, the JSON object contains key-value pairs where the keys are \"street\", \"city\", \"zip_code\", and \"country\", and their corresponding values are \"Mushroom Castle\", \"Toad Town\", \"12345\", and \"Mushroom Kingdom\".\n",
        "\n",
        "### Storing JSON in SQLite\n",
        "\n",
        "SQLite provides support for storing JSON data directly in database columns. You can store JSON objects as text in a column of type TEXT. In our database, we have a table called `Customers` with a column named `address` that stores JSON data representing customer addresses. Let's see what this looks like:"
      ],
      "metadata": {
        "id": "1bb-nKtlfZjx"
      }
    },
    {
      "cell_type": "code",
      "source": [
        "%%sql\n",
        "SELECT address FROM Customers LIMIT 15;"
      ],
      "metadata": {
        "colab": {
          "base_uri": "https://localhost:8080/",
          "height": 389
        },
        "id": "HV_h-5tyhTHO",
        "outputId": "e62d27b8-ef1b-4f8e-d98d-5228bb033406"
      },
      "execution_count": 18,
      "outputs": [
        {
          "output_type": "stream",
          "name": "stdout",
          "text": [
            " * sqlite:///mario_bros_plumbing.db\n",
            "Done.\n"
          ]
        },
        {
          "output_type": "execute_result",
          "data": {
            "text/plain": [
              "[('{\"street\": \"Mushroom Castle\", \"city\": \"Toad Town\"}',),\n",
              " ('{\"street\": \"24 Egg Island\", \"city\": \"Dinosaur Land\", \"apartment\": \"A\"}',),\n",
              " ('{\"street\": \"10 Sarasaland Way\", \"city\": \"Chai Kingdom\"}',),\n",
              " ('{\"street\": \"15 Mushroom St\", \"city\": \"Toad Town\", \"apartment\": \"2B\"}',),\n",
              " ('{\"street\": \"1 Bowser Castle\", \"city\": \"Dark Land\"}',),\n",
              " ('{\"street\": \"100 Gold Coin Blvd\", \"city\": \"Diamond City\"}',),\n",
              " ('{\"street\": \"101 Silver Coin Ave\", \"city\": \"Diamond City\", \"unit\": \"5C\"}',),\n",
              " ('{\"street\": \"50 Banana Jungle\", \"city\": \"DK Island\", \"house\": \"Treehouse\"}',),\n",
              " ('{\"street\": \"51 Banana Jungle\", \"city\": \"DK Island\", \"floor\": \"Ground\"}',),\n",
              " ('{\"street\": \"Comet Observatory\", \"city\": \"Space\"}',),\n",
              " ('{\"street\": \"1 Hat Kingdom Way\", \"city\": \"Cap Kingdom\"}',),\n",
              " ('{\"street\": \"1 New Donk City Plaza\", \"city\": \"Metro Kingdom\"}',),\n",
              " ('{\"street\": \"1 Hyrule Castle\", \"city\": \"Hyrule Kingdom\"}',),\n",
              " ('{\"street\": \"2 Hyrule Castle\", \"city\": \"Hyrule Kingdom\"}',),\n",
              " ('{\"street\": \"10 Bounty Hunter Ave\", \"city\": \"Space Colony K-2L\"}',)]"
            ],
            "text/html": [
              "<table>\n",
              "    <thead>\n",
              "        <tr>\n",
              "            <th>address</th>\n",
              "        </tr>\n",
              "    </thead>\n",
              "    <tbody>\n",
              "        <tr>\n",
              "            <td>{&quot;street&quot;: &quot;Mushroom Castle&quot;, &quot;city&quot;: &quot;Toad Town&quot;}</td>\n",
              "        </tr>\n",
              "        <tr>\n",
              "            <td>{&quot;street&quot;: &quot;24 Egg Island&quot;, &quot;city&quot;: &quot;Dinosaur Land&quot;, &quot;apartment&quot;: &quot;A&quot;}</td>\n",
              "        </tr>\n",
              "        <tr>\n",
              "            <td>{&quot;street&quot;: &quot;10 Sarasaland Way&quot;, &quot;city&quot;: &quot;Chai Kingdom&quot;}</td>\n",
              "        </tr>\n",
              "        <tr>\n",
              "            <td>{&quot;street&quot;: &quot;15 Mushroom St&quot;, &quot;city&quot;: &quot;Toad Town&quot;, &quot;apartment&quot;: &quot;2B&quot;}</td>\n",
              "        </tr>\n",
              "        <tr>\n",
              "            <td>{&quot;street&quot;: &quot;1 Bowser Castle&quot;, &quot;city&quot;: &quot;Dark Land&quot;}</td>\n",
              "        </tr>\n",
              "        <tr>\n",
              "            <td>{&quot;street&quot;: &quot;100 Gold Coin Blvd&quot;, &quot;city&quot;: &quot;Diamond City&quot;}</td>\n",
              "        </tr>\n",
              "        <tr>\n",
              "            <td>{&quot;street&quot;: &quot;101 Silver Coin Ave&quot;, &quot;city&quot;: &quot;Diamond City&quot;, &quot;unit&quot;: &quot;5C&quot;}</td>\n",
              "        </tr>\n",
              "        <tr>\n",
              "            <td>{&quot;street&quot;: &quot;50 Banana Jungle&quot;, &quot;city&quot;: &quot;DK Island&quot;, &quot;house&quot;: &quot;Treehouse&quot;}</td>\n",
              "        </tr>\n",
              "        <tr>\n",
              "            <td>{&quot;street&quot;: &quot;51 Banana Jungle&quot;, &quot;city&quot;: &quot;DK Island&quot;, &quot;floor&quot;: &quot;Ground&quot;}</td>\n",
              "        </tr>\n",
              "        <tr>\n",
              "            <td>{&quot;street&quot;: &quot;Comet Observatory&quot;, &quot;city&quot;: &quot;Space&quot;}</td>\n",
              "        </tr>\n",
              "        <tr>\n",
              "            <td>{&quot;street&quot;: &quot;1 Hat Kingdom Way&quot;, &quot;city&quot;: &quot;Cap Kingdom&quot;}</td>\n",
              "        </tr>\n",
              "        <tr>\n",
              "            <td>{&quot;street&quot;: &quot;1 New Donk City Plaza&quot;, &quot;city&quot;: &quot;Metro Kingdom&quot;}</td>\n",
              "        </tr>\n",
              "        <tr>\n",
              "            <td>{&quot;street&quot;: &quot;1 Hyrule Castle&quot;, &quot;city&quot;: &quot;Hyrule Kingdom&quot;}</td>\n",
              "        </tr>\n",
              "        <tr>\n",
              "            <td>{&quot;street&quot;: &quot;2 Hyrule Castle&quot;, &quot;city&quot;: &quot;Hyrule Kingdom&quot;}</td>\n",
              "        </tr>\n",
              "        <tr>\n",
              "            <td>{&quot;street&quot;: &quot;10 Bounty Hunter Ave&quot;, &quot;city&quot;: &quot;Space Colony K-2L&quot;}</td>\n",
              "        </tr>\n",
              "    </tbody>\n",
              "</table>"
            ]
          },
          "metadata": {},
          "execution_count": 18
        }
      ]
    },
    {
      "cell_type": "markdown",
      "source": [
        "### Querying JSON Data in SQLite\n",
        "To extract a specific value from a JSON column, you can use the `json_extract()` function in the SELECT statement. The `json_extract()` function takes the JSON column and a path expression as arguments. For example, to retrieve the street address for each customer:"
      ],
      "metadata": {
        "id": "FQBYgQKZhnxM"
      }
    },
    {
      "cell_type": "code",
      "source": [
        "%%sql\n",
        "SELECT\n",
        "  customer_id,\n",
        "  -- address is the (JSON) column, and street is a \"key\"\n",
        "  json_extract(address, '$.street') AS street\n",
        "FROM Customers\n",
        "LIMIT 10;"
      ],
      "metadata": {
        "colab": {
          "base_uri": "https://localhost:8080/",
          "height": 284
        },
        "id": "2Z9Fy9tshyJ6",
        "outputId": "c7e58f86-d264-45d2-e4c1-12cac401c8d8"
      },
      "execution_count": 19,
      "outputs": [
        {
          "output_type": "stream",
          "name": "stdout",
          "text": [
            " * sqlite:///mario_bros_plumbing.db\n",
            "Done.\n"
          ]
        },
        {
          "output_type": "execute_result",
          "data": {
            "text/plain": [
              "[(1, 'Mushroom Castle'),\n",
              " (2, '24 Egg Island'),\n",
              " (3, '10 Sarasaland Way'),\n",
              " (4, '15 Mushroom St'),\n",
              " (5, '1 Bowser Castle'),\n",
              " (6, '100 Gold Coin Blvd'),\n",
              " (7, '101 Silver Coin Ave'),\n",
              " (8, '50 Banana Jungle'),\n",
              " (9, '51 Banana Jungle'),\n",
              " (10, 'Comet Observatory')]"
            ],
            "text/html": [
              "<table>\n",
              "    <thead>\n",
              "        <tr>\n",
              "            <th>customer_id</th>\n",
              "            <th>street</th>\n",
              "        </tr>\n",
              "    </thead>\n",
              "    <tbody>\n",
              "        <tr>\n",
              "            <td>1</td>\n",
              "            <td>Mushroom Castle</td>\n",
              "        </tr>\n",
              "        <tr>\n",
              "            <td>2</td>\n",
              "            <td>24 Egg Island</td>\n",
              "        </tr>\n",
              "        <tr>\n",
              "            <td>3</td>\n",
              "            <td>10 Sarasaland Way</td>\n",
              "        </tr>\n",
              "        <tr>\n",
              "            <td>4</td>\n",
              "            <td>15 Mushroom St</td>\n",
              "        </tr>\n",
              "        <tr>\n",
              "            <td>5</td>\n",
              "            <td>1 Bowser Castle</td>\n",
              "        </tr>\n",
              "        <tr>\n",
              "            <td>6</td>\n",
              "            <td>100 Gold Coin Blvd</td>\n",
              "        </tr>\n",
              "        <tr>\n",
              "            <td>7</td>\n",
              "            <td>101 Silver Coin Ave</td>\n",
              "        </tr>\n",
              "        <tr>\n",
              "            <td>8</td>\n",
              "            <td>50 Banana Jungle</td>\n",
              "        </tr>\n",
              "        <tr>\n",
              "            <td>9</td>\n",
              "            <td>51 Banana Jungle</td>\n",
              "        </tr>\n",
              "        <tr>\n",
              "            <td>10</td>\n",
              "            <td>Comet Observatory</td>\n",
              "        </tr>\n",
              "    </tbody>\n",
              "</table>"
            ]
          },
          "metadata": {},
          "execution_count": 19
        }
      ]
    },
    {
      "cell_type": "markdown",
      "source": [
        "This query will return the `customer_id` and the value of the \"street\" key from the JSON object stored in the `address` column. The `$` symbol represents the root of the JSON object, and `.street` specifies the path to the \"street\" key.\n",
        "\n",
        "You can extract multiple values from a JSON column by specifying multiple path expressions in the `json_extract()` function. For example, to retrieve the street and city for each customer:"
      ],
      "metadata": {
        "id": "cWvUVvBtiTTG"
      }
    },
    {
      "cell_type": "code",
      "source": [
        "%%sql\n",
        "SELECT\n",
        "  customer_id,\n",
        "  last_name,\n",
        "  json_extract(address, '$.street') AS street,\n",
        "  json_extract(address, '$.city') AS city\n",
        "FROM Customers\n",
        "LIMIT 10;"
      ],
      "metadata": {
        "id": "cqIHytX4g-Fl",
        "colab": {
          "base_uri": "https://localhost:8080/",
          "height": 284
        },
        "outputId": "b9eaa5f6-12a5-4b47-86f9-1a520535d7f2"
      },
      "execution_count": 20,
      "outputs": [
        {
          "output_type": "stream",
          "name": "stdout",
          "text": [
            " * sqlite:///mario_bros_plumbing.db\n",
            "Done.\n"
          ]
        },
        {
          "output_type": "execute_result",
          "data": {
            "text/plain": [
              "[(1, 'Toadstool', 'Mushroom Castle', 'Toad Town'),\n",
              " (2, 'Dino', '24 Egg Island', 'Dinosaur Land'),\n",
              " (3, 'Sarasa', '10 Sarasaland Way', 'Chai Kingdom'),\n",
              " (4, 'Toadstool', '15 Mushroom St', 'Toad Town'),\n",
              " (5, 'Koopa', '1 Bowser Castle', 'Dark Land'),\n",
              " (6, 'Wario', '100 Gold Coin Blvd', 'Diamond City'),\n",
              " (7, 'Wario', '101 Silver Coin Ave', 'Diamond City'),\n",
              " (8, 'Kong', '50 Banana Jungle', 'DK Island'),\n",
              " (9, 'Kong', '51 Banana Jungle', 'DK Island'),\n",
              " (10, 'Cosmic', 'Comet Observatory', 'Space')]"
            ],
            "text/html": [
              "<table>\n",
              "    <thead>\n",
              "        <tr>\n",
              "            <th>customer_id</th>\n",
              "            <th>last_name</th>\n",
              "            <th>street</th>\n",
              "            <th>city</th>\n",
              "        </tr>\n",
              "    </thead>\n",
              "    <tbody>\n",
              "        <tr>\n",
              "            <td>1</td>\n",
              "            <td>Toadstool</td>\n",
              "            <td>Mushroom Castle</td>\n",
              "            <td>Toad Town</td>\n",
              "        </tr>\n",
              "        <tr>\n",
              "            <td>2</td>\n",
              "            <td>Dino</td>\n",
              "            <td>24 Egg Island</td>\n",
              "            <td>Dinosaur Land</td>\n",
              "        </tr>\n",
              "        <tr>\n",
              "            <td>3</td>\n",
              "            <td>Sarasa</td>\n",
              "            <td>10 Sarasaland Way</td>\n",
              "            <td>Chai Kingdom</td>\n",
              "        </tr>\n",
              "        <tr>\n",
              "            <td>4</td>\n",
              "            <td>Toadstool</td>\n",
              "            <td>15 Mushroom St</td>\n",
              "            <td>Toad Town</td>\n",
              "        </tr>\n",
              "        <tr>\n",
              "            <td>5</td>\n",
              "            <td>Koopa</td>\n",
              "            <td>1 Bowser Castle</td>\n",
              "            <td>Dark Land</td>\n",
              "        </tr>\n",
              "        <tr>\n",
              "            <td>6</td>\n",
              "            <td>Wario</td>\n",
              "            <td>100 Gold Coin Blvd</td>\n",
              "            <td>Diamond City</td>\n",
              "        </tr>\n",
              "        <tr>\n",
              "            <td>7</td>\n",
              "            <td>Wario</td>\n",
              "            <td>101 Silver Coin Ave</td>\n",
              "            <td>Diamond City</td>\n",
              "        </tr>\n",
              "        <tr>\n",
              "            <td>8</td>\n",
              "            <td>Kong</td>\n",
              "            <td>50 Banana Jungle</td>\n",
              "            <td>DK Island</td>\n",
              "        </tr>\n",
              "        <tr>\n",
              "            <td>9</td>\n",
              "            <td>Kong</td>\n",
              "            <td>51 Banana Jungle</td>\n",
              "            <td>DK Island</td>\n",
              "        </tr>\n",
              "        <tr>\n",
              "            <td>10</td>\n",
              "            <td>Cosmic</td>\n",
              "            <td>Comet Observatory</td>\n",
              "            <td>Space</td>\n",
              "        </tr>\n",
              "    </tbody>\n",
              "</table>"
            ]
          },
          "metadata": {},
          "execution_count": 20
        }
      ]
    },
    {
      "cell_type": "markdown",
      "source": [
        "You can use JSON values in the WHERE clause to filter rows based on specific conditions. The `json_extract()` function can be used to extract the desired JSON value for comparison. For example, to find customers who live in the city \"Toad Town\":"
      ],
      "metadata": {
        "id": "_SBF33Eai-n9"
      }
    },
    {
      "cell_type": "code",
      "source": [
        "%%sql\n",
        "SELECT\n",
        "  customer_id,\n",
        "  first_name,\n",
        "  last_name,\n",
        "  json_extract(address, '$.city') AS city\n",
        "FROM Customers\n",
        "WHERE json_extract(address, '$.city') = 'Toad Town'\n",
        "LIMIT 10;"
      ],
      "metadata": {
        "colab": {
          "base_uri": "https://localhost:8080/",
          "height": 158
        },
        "id": "Mt6O5Vpui_ko",
        "outputId": "4c84c949-8bd0-4135-dbe1-dec7f29bd1c7"
      },
      "execution_count": 21,
      "outputs": [
        {
          "output_type": "stream",
          "name": "stdout",
          "text": [
            " * sqlite:///mario_bros_plumbing.db\n",
            "Done.\n"
          ]
        },
        {
          "output_type": "execute_result",
          "data": {
            "text/plain": [
              "[(1, 'Peach', 'Toadstool', 'Toad Town'),\n",
              " (4, 'Toadette', 'Toadstool', 'Toad Town'),\n",
              " (23, 'Toad', 'Toadstool', 'Toad Town'),\n",
              " (28, 'Toadsworth', 'Toadstool', 'Toad Town')]"
            ],
            "text/html": [
              "<table>\n",
              "    <thead>\n",
              "        <tr>\n",
              "            <th>customer_id</th>\n",
              "            <th>first_name</th>\n",
              "            <th>last_name</th>\n",
              "            <th>city</th>\n",
              "        </tr>\n",
              "    </thead>\n",
              "    <tbody>\n",
              "        <tr>\n",
              "            <td>1</td>\n",
              "            <td>Peach</td>\n",
              "            <td>Toadstool</td>\n",
              "            <td>Toad Town</td>\n",
              "        </tr>\n",
              "        <tr>\n",
              "            <td>4</td>\n",
              "            <td>Toadette</td>\n",
              "            <td>Toadstool</td>\n",
              "            <td>Toad Town</td>\n",
              "        </tr>\n",
              "        <tr>\n",
              "            <td>23</td>\n",
              "            <td>Toad</td>\n",
              "            <td>Toadstool</td>\n",
              "            <td>Toad Town</td>\n",
              "        </tr>\n",
              "        <tr>\n",
              "            <td>28</td>\n",
              "            <td>Toadsworth</td>\n",
              "            <td>Toadstool</td>\n",
              "            <td>Toad Town</td>\n",
              "        </tr>\n",
              "    </tbody>\n",
              "</table>"
            ]
          },
          "metadata": {},
          "execution_count": 21
        }
      ]
    },
    {
      "cell_type": "markdown",
      "source": [
        "To check if a specific key exists in a JSON column, you can use the `json_type()` function in the WHERE clause. The `json_type()` function returns the data type of the value at the specified path. If the key exists, it will return the data type; otherwise, it will return NULL. For example, to find customers who have a \"apartment\" key in their address:"
      ],
      "metadata": {
        "id": "koHzwsRZjWaC"
      }
    },
    {
      "cell_type": "code",
      "source": [
        "%%sql\n",
        "SELECT\n",
        "  customer_id,\n",
        "  first_name,\n",
        "  last_name,\n",
        "  json_extract(address, '$.apartment') AS apartment\n",
        "FROM Customers\n",
        "WHERE json_type(address, '$.apartment') IS NOT NULL\n",
        "LIMIT 10;"
      ],
      "metadata": {
        "colab": {
          "base_uri": "https://localhost:8080/",
          "height": 137
        },
        "id": "fpFCDmcajHpw",
        "outputId": "66fa3f5e-954c-4cce-c34b-f41d3950e745"
      },
      "execution_count": 22,
      "outputs": [
        {
          "output_type": "stream",
          "name": "stdout",
          "text": [
            " * sqlite:///mario_bros_plumbing.db\n",
            "Done.\n"
          ]
        },
        {
          "output_type": "execute_result",
          "data": {
            "text/plain": [
              "[(2, 'Yoshi', 'Dino', 'A'),\n",
              " (4, 'Toadette', 'Toadstool', '2B'),\n",
              " (27, 'Lakitu', 'Cloud', 'Skyview')]"
            ],
            "text/html": [
              "<table>\n",
              "    <thead>\n",
              "        <tr>\n",
              "            <th>customer_id</th>\n",
              "            <th>first_name</th>\n",
              "            <th>last_name</th>\n",
              "            <th>apartment</th>\n",
              "        </tr>\n",
              "    </thead>\n",
              "    <tbody>\n",
              "        <tr>\n",
              "            <td>2</td>\n",
              "            <td>Yoshi</td>\n",
              "            <td>Dino</td>\n",
              "            <td>A</td>\n",
              "        </tr>\n",
              "        <tr>\n",
              "            <td>4</td>\n",
              "            <td>Toadette</td>\n",
              "            <td>Toadstool</td>\n",
              "            <td>2B</td>\n",
              "        </tr>\n",
              "        <tr>\n",
              "            <td>27</td>\n",
              "            <td>Lakitu</td>\n",
              "            <td>Cloud</td>\n",
              "            <td>Skyview</td>\n",
              "        </tr>\n",
              "    </tbody>\n",
              "</table>"
            ]
          },
          "metadata": {},
          "execution_count": 22
        }
      ]
    },
    {
      "cell_type": "markdown",
      "source": [
        "We can also combine JSON with what we've been learning about GROUP BY in this chapter. For example, here is a query that gives a count of how many residents live in each city."
      ],
      "metadata": {
        "id": "n44xg_fgkbFr"
      }
    },
    {
      "cell_type": "code",
      "source": [
        "%%sql\n",
        "-- Count of residents in each city\n",
        "SELECT\n",
        "  json_extract(address, '$.city') AS city,\n",
        "  COUNT(*) AS resident_count\n",
        "FROM Customers\n",
        "GROUP BY city\n",
        "LIMIT 10;"
      ],
      "metadata": {
        "colab": {
          "base_uri": "https://localhost:8080/",
          "height": 284
        },
        "id": "O58TMr-Xkjvu",
        "outputId": "7e72407b-d090-4242-da37-f0a15028747c"
      },
      "execution_count": 23,
      "outputs": [
        {
          "output_type": "stream",
          "name": "stdout",
          "text": [
            " * sqlite:///mario_bros_plumbing.db\n",
            "Done.\n"
          ]
        },
        {
          "output_type": "execute_result",
          "data": {
            "text/plain": [
              "[('Acorn Plains', 1),\n",
              " ('Cap Kingdom', 1),\n",
              " ('Chai Kingdom', 1),\n",
              " ('DK Island', 4),\n",
              " ('Dark Land', 4),\n",
              " ('Diamond City', 2),\n",
              " ('Dinosaur Land', 1),\n",
              " ('Eagleland', 1),\n",
              " ('Hyrule Kingdom', 2),\n",
              " ('Kanto Region', 1)]"
            ],
            "text/html": [
              "<table>\n",
              "    <thead>\n",
              "        <tr>\n",
              "            <th>city</th>\n",
              "            <th>resident_count</th>\n",
              "        </tr>\n",
              "    </thead>\n",
              "    <tbody>\n",
              "        <tr>\n",
              "            <td>Acorn Plains</td>\n",
              "            <td>1</td>\n",
              "        </tr>\n",
              "        <tr>\n",
              "            <td>Cap Kingdom</td>\n",
              "            <td>1</td>\n",
              "        </tr>\n",
              "        <tr>\n",
              "            <td>Chai Kingdom</td>\n",
              "            <td>1</td>\n",
              "        </tr>\n",
              "        <tr>\n",
              "            <td>DK Island</td>\n",
              "            <td>4</td>\n",
              "        </tr>\n",
              "        <tr>\n",
              "            <td>Dark Land</td>\n",
              "            <td>4</td>\n",
              "        </tr>\n",
              "        <tr>\n",
              "            <td>Diamond City</td>\n",
              "            <td>2</td>\n",
              "        </tr>\n",
              "        <tr>\n",
              "            <td>Dinosaur Land</td>\n",
              "            <td>1</td>\n",
              "        </tr>\n",
              "        <tr>\n",
              "            <td>Eagleland</td>\n",
              "            <td>1</td>\n",
              "        </tr>\n",
              "        <tr>\n",
              "            <td>Hyrule Kingdom</td>\n",
              "            <td>2</td>\n",
              "        </tr>\n",
              "        <tr>\n",
              "            <td>Kanto Region</td>\n",
              "            <td>1</td>\n",
              "        </tr>\n",
              "    </tbody>\n",
              "</table>"
            ]
          },
          "metadata": {},
          "execution_count": 23
        }
      ]
    },
    {
      "cell_type": "markdown",
      "source": [
        "Or, a bit more ambitiously, we could find out some summary statistics about the orders in each city:"
      ],
      "metadata": {
        "id": "i59MbBJo3go4"
      }
    },
    {
      "cell_type": "code",
      "source": [
        "%%sql\n",
        "SELECT\n",
        "  json_extract(c.address, '$.city') AS city,\n",
        "  COUNT(*) AS order_count,\n",
        "  MAX(total_amount) AS max_order_amount,\n",
        "  MIN(total_amount) AS min_order_amount,\n",
        "  AVG(total_amount) AS avg_order_amount\n",
        "FROM\n",
        "  Customers c\n",
        "  JOIN Orders o ON c.customer_id = o.customer_id\n",
        "GROUP BY city"
      ],
      "metadata": {
        "colab": {
          "base_uri": "https://localhost:8080/",
          "height": 389
        },
        "id": "zIrhu2Uo3pNw",
        "outputId": "3c390c93-4368-426a-f006-0d0a4aecf984"
      },
      "execution_count": 25,
      "outputs": [
        {
          "output_type": "stream",
          "name": "stdout",
          "text": [
            " * sqlite:///mario_bros_plumbing.db\n",
            "Done.\n"
          ]
        },
        {
          "output_type": "execute_result",
          "data": {
            "text/plain": [
              "[('Acorn Plains', 3, 1575, 225, 800.0),\n",
              " ('Cap Kingdom', 1, 570, 570, 570.0),\n",
              " ('Chai Kingdom', 67, 1485, 75, 689.7014925373135),\n",
              " ('DK Island', 4, 1065, 75, 553.75),\n",
              " ('Dark Land', 31, 1700, 75, 677.258064516129),\n",
              " ('Diamond City', 34, 1620, 50, 698.8235294117648),\n",
              " ('Dinosaur Land', 57, 2210, 50, 625.1754385964912),\n",
              " ('Hyrule Kingdom', 4, 1025, 150, 640.0),\n",
              " ('Kanto Region', 3, 850, 300, 483.3333333333333),\n",
              " ('Lycia', 1, 775, 775, 775.0),\n",
              " ('Lylat System', 1, 300, 300, 300.0),\n",
              " ('Metro Kingdom', 1, 600, 600, 600.0),\n",
              " ('Skyworld', 3, 760, 300, 603.3333333333334),\n",
              " ('Subcon', 4, 1375, 450, 983.75),\n",
              " ('Toad Town', 94, 1600, 75, 637.7127659574468)]"
            ],
            "text/html": [
              "<table>\n",
              "    <thead>\n",
              "        <tr>\n",
              "            <th>city</th>\n",
              "            <th>order_count</th>\n",
              "            <th>max_order_amount</th>\n",
              "            <th>min_order_amount</th>\n",
              "            <th>avg_order_amount</th>\n",
              "        </tr>\n",
              "    </thead>\n",
              "    <tbody>\n",
              "        <tr>\n",
              "            <td>Acorn Plains</td>\n",
              "            <td>3</td>\n",
              "            <td>1575</td>\n",
              "            <td>225</td>\n",
              "            <td>800.0</td>\n",
              "        </tr>\n",
              "        <tr>\n",
              "            <td>Cap Kingdom</td>\n",
              "            <td>1</td>\n",
              "            <td>570</td>\n",
              "            <td>570</td>\n",
              "            <td>570.0</td>\n",
              "        </tr>\n",
              "        <tr>\n",
              "            <td>Chai Kingdom</td>\n",
              "            <td>67</td>\n",
              "            <td>1485</td>\n",
              "            <td>75</td>\n",
              "            <td>689.7014925373135</td>\n",
              "        </tr>\n",
              "        <tr>\n",
              "            <td>DK Island</td>\n",
              "            <td>4</td>\n",
              "            <td>1065</td>\n",
              "            <td>75</td>\n",
              "            <td>553.75</td>\n",
              "        </tr>\n",
              "        <tr>\n",
              "            <td>Dark Land</td>\n",
              "            <td>31</td>\n",
              "            <td>1700</td>\n",
              "            <td>75</td>\n",
              "            <td>677.258064516129</td>\n",
              "        </tr>\n",
              "        <tr>\n",
              "            <td>Diamond City</td>\n",
              "            <td>34</td>\n",
              "            <td>1620</td>\n",
              "            <td>50</td>\n",
              "            <td>698.8235294117648</td>\n",
              "        </tr>\n",
              "        <tr>\n",
              "            <td>Dinosaur Land</td>\n",
              "            <td>57</td>\n",
              "            <td>2210</td>\n",
              "            <td>50</td>\n",
              "            <td>625.1754385964912</td>\n",
              "        </tr>\n",
              "        <tr>\n",
              "            <td>Hyrule Kingdom</td>\n",
              "            <td>4</td>\n",
              "            <td>1025</td>\n",
              "            <td>150</td>\n",
              "            <td>640.0</td>\n",
              "        </tr>\n",
              "        <tr>\n",
              "            <td>Kanto Region</td>\n",
              "            <td>3</td>\n",
              "            <td>850</td>\n",
              "            <td>300</td>\n",
              "            <td>483.3333333333333</td>\n",
              "        </tr>\n",
              "        <tr>\n",
              "            <td>Lycia</td>\n",
              "            <td>1</td>\n",
              "            <td>775</td>\n",
              "            <td>775</td>\n",
              "            <td>775.0</td>\n",
              "        </tr>\n",
              "        <tr>\n",
              "            <td>Lylat System</td>\n",
              "            <td>1</td>\n",
              "            <td>300</td>\n",
              "            <td>300</td>\n",
              "            <td>300.0</td>\n",
              "        </tr>\n",
              "        <tr>\n",
              "            <td>Metro Kingdom</td>\n",
              "            <td>1</td>\n",
              "            <td>600</td>\n",
              "            <td>600</td>\n",
              "            <td>600.0</td>\n",
              "        </tr>\n",
              "        <tr>\n",
              "            <td>Skyworld</td>\n",
              "            <td>3</td>\n",
              "            <td>760</td>\n",
              "            <td>300</td>\n",
              "            <td>603.3333333333334</td>\n",
              "        </tr>\n",
              "        <tr>\n",
              "            <td>Subcon</td>\n",
              "            <td>4</td>\n",
              "            <td>1375</td>\n",
              "            <td>450</td>\n",
              "            <td>983.75</td>\n",
              "        </tr>\n",
              "        <tr>\n",
              "            <td>Toad Town</td>\n",
              "            <td>94</td>\n",
              "            <td>1600</td>\n",
              "            <td>75</td>\n",
              "            <td>637.7127659574468</td>\n",
              "        </tr>\n",
              "    </tbody>\n",
              "</table>"
            ]
          },
          "metadata": {},
          "execution_count": 25
        }
      ]
    },
    {
      "cell_type": "markdown",
      "source": [
        "### Putting it Altogether\n",
        "Finally, let's put everything (well, not everything, but a bunch of thigs) we've learned into a sigle query."
      ],
      "metadata": {
        "id": "dUziLWcD4KZ1"
      }
    },
    {
      "cell_type": "code",
      "source": [
        "%%sql\n",
        "SELECT\n",
        "  json_extract(c.address, '$.city') AS city,\n",
        "  COUNT(*) AS order_count,\n",
        "  PRINTF('$%.2f', MAX(total_amount)) AS max_order_amount,\n",
        "  PRINTF('$%.2f', MIN(total_amount)) AS min_order_amount,\n",
        "  PRINTF('$%.2f', AVG(total_amount)) AS avg_order_amount\n",
        "FROM\n",
        "  Customers c\n",
        "  JOIN Orders o ON c.customer_id = o.customer_id\n",
        "WHERE c.first_name NOT IN (\"Wario\", \"Bowser\")\n",
        "GROUP BY city\n",
        "HAVING order_count > 10\n",
        "ORDER BY order_count DESC;\n"
      ],
      "metadata": {
        "colab": {
          "base_uri": "https://localhost:8080/",
          "height": 137
        },
        "id": "ZXGnPOQ-4NeC",
        "outputId": "25dc47a2-25ca-4507-ffe7-71fc7107b036"
      },
      "execution_count": 35,
      "outputs": [
        {
          "output_type": "stream",
          "name": "stdout",
          "text": [
            " * sqlite:///mario_bros_plumbing.db\n",
            "Done.\n"
          ]
        },
        {
          "output_type": "execute_result",
          "data": {
            "text/plain": [
              "[('Toad Town', 94, '$1600.00', '$75.00', '$637.71'),\n",
              " ('Chai Kingdom', 67, '$1485.00', '$75.00', '$689.70'),\n",
              " ('Dinosaur Land', 57, '$2210.00', '$50.00', '$625.18')]"
            ],
            "text/html": [
              "<table>\n",
              "    <thead>\n",
              "        <tr>\n",
              "            <th>city</th>\n",
              "            <th>order_count</th>\n",
              "            <th>max_order_amount</th>\n",
              "            <th>min_order_amount</th>\n",
              "            <th>avg_order_amount</th>\n",
              "        </tr>\n",
              "    </thead>\n",
              "    <tbody>\n",
              "        <tr>\n",
              "            <td>Toad Town</td>\n",
              "            <td>94</td>\n",
              "            <td>$1600.00</td>\n",
              "            <td>$75.00</td>\n",
              "            <td>$637.71</td>\n",
              "        </tr>\n",
              "        <tr>\n",
              "            <td>Chai Kingdom</td>\n",
              "            <td>67</td>\n",
              "            <td>$1485.00</td>\n",
              "            <td>$75.00</td>\n",
              "            <td>$689.70</td>\n",
              "        </tr>\n",
              "        <tr>\n",
              "            <td>Dinosaur Land</td>\n",
              "            <td>57</td>\n",
              "            <td>$2210.00</td>\n",
              "            <td>$50.00</td>\n",
              "            <td>$625.18</td>\n",
              "        </tr>\n",
              "    </tbody>\n",
              "</table>"
            ]
          },
          "metadata": {},
          "execution_count": 35
        }
      ]
    },
    {
      "cell_type": "markdown",
      "source": [
        "his query demonstrates various SQL concepts and techniques that we have learned in the course so far. Let's go through each part:\n",
        "\n",
        "1.  `SELECT` clause:\n",
        "    -   `json_extract(address, '$.city') AS city`: Extracts the value of the \"city\" key from the JSON object stored in the `address` column of the `Customers` table and aliases it as `city`.\n",
        "    -   `COUNT(*) AS order_count`: Counts the number of rows in each group and aliases the result as `order_count`.\n",
        "    -   `PRINTF('$%.2f', MAX(total_amount)) AS max_order_amount`: Calculates the maximum value of `total_amount` for each group, formats it as a currency string using `PRINTF`, and aliases the result as `max_order_amount`.\n",
        "    -   `PRINTF('$%.2f', MIN(total_amount)) AS min_order_amount`: Calculates the minimum value of `total_amount` for each group, formats it as a currency string using `PRINTF`, and aliases the result as `min_order_amount`.\n",
        "    -   `PRINTF('$%.2f', AVG(total_amount)) AS avg_order_amount`: Calculates the average value of `total_amount` for each group, formats it as a currency string using `PRINTF`, and aliases the result as `avg_order_amount`.\n",
        "2.  `FROM` clause:\n",
        "    -   `Customers c`: Specifies the `Customers` table as the main table for the query and assigns it the alias `c`.\n",
        "3.  `JOIN` clause:\n",
        "    -   `JOIN Orders o ON c.customer_id = o.customer_id`: Performs an inner join between the `Customers` table (aliased as `c`) and the `Orders` table (aliased as `o`) based on the matching `customer_id` column. This join retrieves rows from both tables where the `customer_id` values match.\n",
        "4.  `WHERE` clause:\n",
        "    -   `Customers.first_name NOT IN (\"Wario\", \"Bowser\")`: Filters the rows from the `Customers` table where the `first_name` is not \"Wario\" or \"Bowser\". This condition excludes customers with those specific first names from the result set.\n",
        "5.  `GROUP BY` clause:\n",
        "    -   `GROUP BY city`: Groups the rows based on the `city` column extracted from the JSON address object. This clause ensures that the aggregate functions (`COUNT`, `MAX`, `MIN`, `AVG`) are applied to each group of rows with the same city value.\n",
        "6.  `HAVING` clause:\n",
        "    -   `HAVING order_count > 10`: Filters the grouped rows based on the condition that the `order_count` (calculated by `COUNT(*)`) is greater than 10. This clause removes cities with 10 or fewer orders from the result set.\n",
        "7.  `ORDER BY` clause:\n",
        "    -   `ORDER BY order_count DESC`: Sorts the result set in descending order based on the `order_count` column. Cities with the highest number of orders will appear first in the result set.\n",
        "\n",
        "This query showcases the use of JSON extraction, joining tables, aggregate functions, grouping, filtering with `WHERE` and `HAVING` clauses, and ordering the results."
      ],
      "metadata": {
        "id": "GxKwdf326F1D"
      }
    },
    {
      "cell_type": "code",
      "source": [],
      "metadata": {
        "id": "L3r7Tnwi6GOW"
      },
      "execution_count": null,
      "outputs": []
    }
  ]
}