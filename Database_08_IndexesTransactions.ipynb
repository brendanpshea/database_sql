{
  "nbformat": 4,
  "nbformat_minor": 0,
  "metadata": {
    "colab": {
      "provenance": [],
      "authorship_tag": "ABX9TyNgYwKFbl/I8olSjyeh6rW9",
      "include_colab_link": true
    },
    "kernelspec": {
      "name": "python3",
      "display_name": "Python 3"
    },
    "language_info": {
      "name": "python"
    }
  },
  "cells": [
    {
      "cell_type": "markdown",
      "metadata": {
        "id": "view-in-github",
        "colab_type": "text"
      },
      "source": [
        "<a href=\"https://colab.research.google.com/github/brendanpshea/database_sql/blob/main/Database_08_IndexesTransactions.ipynb\" target=\"_parent\"><img src=\"https://colab.research.google.com/assets/colab-badge.svg\" alt=\"Open In Colab\"/></a>"
      ]
    },
    {
      "cell_type": "markdown",
      "source": [
        "# Database Performance: Index, Query Plans, and Transactsion Management\n",
        "\n",
        "In this chapter, we'll be exploring the inner workings of **SQLite** using a dataset from the fictional **Gotham National Bank**. Our database, *gotham.db*, contains two tables:\n",
        "\n",
        "1.  **Customers**: Stores customer information like name, address, and contact details.\n",
        "2.  **Accounts**: Holds account-related data such as account type, balance, and creation date, with a foreign key linking to the Customers table.\n",
        "\n",
        "Throughout this chapter, we'll use these tables to understand how **indexes** and **transactions** can optimize our SQLite database performance. We'll cover the fundamentals of indexes, demonstrate their impact on query speed and database size, and discuss best practices for implementing them effectively.\n",
        "\n",
        "But before we dive in, let's take a closer look at our dataset. The Customers table includes an intriguing cast of characters, from the enigmatic Bruce Wayne to the clever Selina Kyle. Each customer has a unique *CustomerID*, serving as the **primary key**.\n",
        "\n",
        "The Accounts table, on the other hand, logs the financial details of each customer's bank accounts. It uses *AccountID* as its primary key and *CustomerID* as a **foreign key** to establish a link between the two tables. This allows us to associate each account with its respective owner."
      ],
      "metadata": {
        "id": "P8p0DiGl7a6f"
      }
    },
    {
      "cell_type": "code",
      "execution_count": 1,
      "metadata": {
        "id": "qsF2EjFB6Dyf"
      },
      "outputs": [],
      "source": [
        "!wget https://github.com/brendanpshea/database_sql/raw/main/data/gotham.db -q -nc\n",
        "%load_ext sql\n",
        "%sql sqlite:///gotham.db\n"
      ]
    },
    {
      "cell_type": "markdown",
      "source": [
        "## Database Schema for Gotham City Bank\n",
        "Here is the database schema."
      ],
      "metadata": {
        "id": "Fy6vnP-_8Nub"
      }
    },
    {
      "cell_type": "code",
      "source": [
        "%%sql\n",
        "-- get table schema using sqlite master\n",
        "SELECT sql FROM sqlite_master WHERE type='table';"
      ],
      "metadata": {
        "colab": {
          "base_uri": "https://localhost:8080/",
          "height": 449
        },
        "id": "kx50EYAW6ao7",
        "outputId": "bc6d6438-eaca-473c-a4d0-598e93d75f47"
      },
      "execution_count": 2,
      "outputs": [
        {
          "output_type": "stream",
          "name": "stdout",
          "text": [
            " * sqlite:///gotham.db\n",
            "Done.\n"
          ]
        },
        {
          "output_type": "execute_result",
          "data": {
            "text/plain": [
              "[('CREATE TABLE Customers (\\n    CustomerID INTEGER PRIMARY KEY AUTOINCREMENT,\\n    FirstName VARCHAR(50) NOT NULL,\\n    LastName VARCHAR(50) NOT NULL,\\ ... (35 characters truncated) ... dress VARCHAR(255),\\n    City VARCHAR(50),\\n    State VARCHAR(50),\\n    ZipCode VARCHAR(10),\\n    PhoneNumber VARCHAR(15),\\n    Email VARCHAR(100)\\n)',),\n",
              " ('CREATE TABLE sqlite_sequence(name,seq)',),\n",
              " ('CREATE TABLE Accounts (\\n    AccountID INTEGER PRIMARY KEY AUTOINCREMENT,\\n    CustomerID INT,\\n    AccountType VARCHAR(20),\\n    Balance DECIMAL(15, 2) DEFAULT 0.00,\\n    CreatedDate DATE,\\n    FOREIGN KEY (CustomerID) REFERENCES Customers(CustomerID)\\n)',)]"
            ],
            "text/html": [
              "<table>\n",
              "    <thead>\n",
              "        <tr>\n",
              "            <th>sql</th>\n",
              "        </tr>\n",
              "    </thead>\n",
              "    <tbody>\n",
              "        <tr>\n",
              "            <td>CREATE TABLE Customers (<br>    CustomerID INTEGER PRIMARY KEY AUTOINCREMENT,<br>    FirstName VARCHAR(50) NOT NULL,<br>    LastName VARCHAR(50) NOT NULL,<br>    MiddleInitial CHAR(1),<br>    Address VARCHAR(255),<br>    City VARCHAR(50),<br>    State VARCHAR(50),<br>    ZipCode VARCHAR(10),<br>    PhoneNumber VARCHAR(15),<br>    Email VARCHAR(100)<br>)</td>\n",
              "        </tr>\n",
              "        <tr>\n",
              "            <td>CREATE TABLE sqlite_sequence(name,seq)</td>\n",
              "        </tr>\n",
              "        <tr>\n",
              "            <td>CREATE TABLE Accounts (<br>    AccountID INTEGER PRIMARY KEY AUTOINCREMENT,<br>    CustomerID INT,<br>    AccountType VARCHAR(20),<br>    Balance DECIMAL(15, 2) DEFAULT 0.00,<br>    CreatedDate DATE,<br>    FOREIGN KEY (CustomerID) REFERENCES Customers(CustomerID)<br>)</td>\n",
              "        </tr>\n",
              "    </tbody>\n",
              "</table>"
            ]
          },
          "metadata": {},
          "execution_count": 2
        }
      ]
    },
    {
      "cell_type": "markdown",
      "source": [
        "## A Closer Look at Customers and Accounts\n",
        "Now, let's take a quick look at the head of our table."
      ],
      "metadata": {
        "id": "ps0Bhu1F7sUE"
      }
    },
    {
      "cell_type": "code",
      "source": [
        "%%sql\n",
        "SELECT * FROM Customers LIMIT 5;"
      ],
      "metadata": {
        "colab": {
          "base_uri": "https://localhost:8080/",
          "height": 179
        },
        "id": "u4_M74pe8dsr",
        "outputId": "fba4f82f-ef7d-45b9-a4ac-0afd61957992"
      },
      "execution_count": 3,
      "outputs": [
        {
          "output_type": "stream",
          "name": "stdout",
          "text": [
            " * sqlite:///gotham.db\n",
            "Done.\n"
          ]
        },
        {
          "output_type": "execute_result",
          "data": {
            "text/plain": [
              "[(1, 'Bruce', 'Wayne', None, '1007 Mountain Drive', 'Gotham', 'NY', '10001', '123-456-7890', 'bruce.wayne@gothambank.com'),\n",
              " (2, 'Selina', 'Kyle', None, '123 Cat St', 'Blüdhaven', 'NY', '20002', '234-567-8901', 'selina.kyle@gothambank.com'),\n",
              " (3, 'James', 'Gordon', None, '789 Police Plaza', 'Gotham', 'NY', '10003', '345-678-9012', 'james.gordon@gothambank.com'),\n",
              " (4, 'Harvey', 'Dent', None, '456 Lawyer Ave', 'Metropolis', 'NY', '30004', '456-789-0123', 'harvey.dent@gothambank.com'),\n",
              " (5, 'Pamela', 'Isley', None, '369 Botanic St', 'Gotham', 'NY', '10005', '567-890-1234', 'pamela.isley@gothambank.com')]"
            ],
            "text/html": [
              "<table>\n",
              "    <thead>\n",
              "        <tr>\n",
              "            <th>CustomerID</th>\n",
              "            <th>FirstName</th>\n",
              "            <th>LastName</th>\n",
              "            <th>MiddleInitial</th>\n",
              "            <th>Address</th>\n",
              "            <th>City</th>\n",
              "            <th>State</th>\n",
              "            <th>ZipCode</th>\n",
              "            <th>PhoneNumber</th>\n",
              "            <th>Email</th>\n",
              "        </tr>\n",
              "    </thead>\n",
              "    <tbody>\n",
              "        <tr>\n",
              "            <td>1</td>\n",
              "            <td>Bruce</td>\n",
              "            <td>Wayne</td>\n",
              "            <td>None</td>\n",
              "            <td>1007 Mountain Drive</td>\n",
              "            <td>Gotham</td>\n",
              "            <td>NY</td>\n",
              "            <td>10001</td>\n",
              "            <td>123-456-7890</td>\n",
              "            <td>bruce.wayne@gothambank.com</td>\n",
              "        </tr>\n",
              "        <tr>\n",
              "            <td>2</td>\n",
              "            <td>Selina</td>\n",
              "            <td>Kyle</td>\n",
              "            <td>None</td>\n",
              "            <td>123 Cat St</td>\n",
              "            <td>Blüdhaven</td>\n",
              "            <td>NY</td>\n",
              "            <td>20002</td>\n",
              "            <td>234-567-8901</td>\n",
              "            <td>selina.kyle@gothambank.com</td>\n",
              "        </tr>\n",
              "        <tr>\n",
              "            <td>3</td>\n",
              "            <td>James</td>\n",
              "            <td>Gordon</td>\n",
              "            <td>None</td>\n",
              "            <td>789 Police Plaza</td>\n",
              "            <td>Gotham</td>\n",
              "            <td>NY</td>\n",
              "            <td>10003</td>\n",
              "            <td>345-678-9012</td>\n",
              "            <td>james.gordon@gothambank.com</td>\n",
              "        </tr>\n",
              "        <tr>\n",
              "            <td>4</td>\n",
              "            <td>Harvey</td>\n",
              "            <td>Dent</td>\n",
              "            <td>None</td>\n",
              "            <td>456 Lawyer Ave</td>\n",
              "            <td>Metropolis</td>\n",
              "            <td>NY</td>\n",
              "            <td>30004</td>\n",
              "            <td>456-789-0123</td>\n",
              "            <td>harvey.dent@gothambank.com</td>\n",
              "        </tr>\n",
              "        <tr>\n",
              "            <td>5</td>\n",
              "            <td>Pamela</td>\n",
              "            <td>Isley</td>\n",
              "            <td>None</td>\n",
              "            <td>369 Botanic St</td>\n",
              "            <td>Gotham</td>\n",
              "            <td>NY</td>\n",
              "            <td>10005</td>\n",
              "            <td>567-890-1234</td>\n",
              "            <td>pamela.isley@gothambank.com</td>\n",
              "        </tr>\n",
              "    </tbody>\n",
              "</table>"
            ]
          },
          "metadata": {},
          "execution_count": 3
        }
      ]
    },
    {
      "cell_type": "code",
      "source": [
        "%%sql\n",
        "SELECT * FROM Accounts LIMIT 5;"
      ],
      "metadata": {
        "colab": {
          "base_uri": "https://localhost:8080/",
          "height": 179
        },
        "id": "Ol8O-SD-8fuB",
        "outputId": "66c6048a-3797-4eba-fa79-585e99859f40"
      },
      "execution_count": 4,
      "outputs": [
        {
          "output_type": "stream",
          "name": "stdout",
          "text": [
            " * sqlite:///gotham.db\n",
            "Done.\n"
          ]
        },
        {
          "output_type": "execute_result",
          "data": {
            "text/plain": [
              "[(1, 1, 'Checking', 15000, '2021-01-10'),\n",
              " (2, 1, 'Savings', 75000, '2021-02-11'),\n",
              " (3, 2, 'Checking', 32000, '2022-03-05'),\n",
              " (4, 3, 'Checking', 86000, '2023-04-15'),\n",
              " (5, 4, 'Checking', 22000, '2024-05-20')]"
            ],
            "text/html": [
              "<table>\n",
              "    <thead>\n",
              "        <tr>\n",
              "            <th>AccountID</th>\n",
              "            <th>CustomerID</th>\n",
              "            <th>AccountType</th>\n",
              "            <th>Balance</th>\n",
              "            <th>CreatedDate</th>\n",
              "        </tr>\n",
              "    </thead>\n",
              "    <tbody>\n",
              "        <tr>\n",
              "            <td>1</td>\n",
              "            <td>1</td>\n",
              "            <td>Checking</td>\n",
              "            <td>15000</td>\n",
              "            <td>2021-01-10</td>\n",
              "        </tr>\n",
              "        <tr>\n",
              "            <td>2</td>\n",
              "            <td>1</td>\n",
              "            <td>Savings</td>\n",
              "            <td>75000</td>\n",
              "            <td>2021-02-11</td>\n",
              "        </tr>\n",
              "        <tr>\n",
              "            <td>3</td>\n",
              "            <td>2</td>\n",
              "            <td>Checking</td>\n",
              "            <td>32000</td>\n",
              "            <td>2022-03-05</td>\n",
              "        </tr>\n",
              "        <tr>\n",
              "            <td>4</td>\n",
              "            <td>3</td>\n",
              "            <td>Checking</td>\n",
              "            <td>86000</td>\n",
              "            <td>2023-04-15</td>\n",
              "        </tr>\n",
              "        <tr>\n",
              "            <td>5</td>\n",
              "            <td>4</td>\n",
              "            <td>Checking</td>\n",
              "            <td>22000</td>\n",
              "            <td>2024-05-20</td>\n",
              "        </tr>\n",
              "    </tbody>\n",
              "</table>"
            ]
          },
          "metadata": {},
          "execution_count": 4
        }
      ]
    },
    {
      "cell_type": "markdown",
      "source": [
        "## What are Indexes and How Do I Create Them?\n",
        "\n",
        "If you've ever used a book index to quickly locate a specific topic, you already understand the basic concept of a database **index**. In the context of databases, an index is a separate data structure that allows the database engine to find and retrieve data more efficiently without having to scan the entire table.\n",
        "\n",
        "When you create a table, SQLite (like all versions of SQL) automatically creates a unique index on the **primary key** column(s). However, you can also create additional indexes on other columns to speed up frequently used queries.\n",
        "\n",
        "To create an index in SQL, you use the **CREATE INDEX** statement with the following syntax:\n",
        "\n",
        "```sql\n",
        "CREATE [UNIQUE] INDEX index_name\n",
        "ON table_name (column1 [, column2, ...]);\n",
        "```\n",
        "\n",
        "Here's a breakdown of the components:\n",
        "\n",
        "-   `UNIQUE`: Optional keyword that creates a unique index, ensuring no duplicate values in the indexed column(s).\n",
        "-   `index_name`: The name you want to give your index.\n",
        "-   `table_name`: The name of the table on which you're creating the index.\n",
        "-   `column1, column2, ...`: The column(s) to be indexed. You can index multiple columns by separating them with commas.\n",
        "\n",
        "For example, let's say we want to create an index on the *LastName* column of our *Customers* table:!"
      ],
      "metadata": {
        "id": "cwWgv-hn7Ihb"
      }
    },
    {
      "cell_type": "code",
      "source": [
        "%%sql\n",
        "DROP INDEX IF EXISTS idx_customers_lastname;\n",
        "CREATE INDEX idx_customers_lastname\n",
        "ON Customers (LastName);"
      ],
      "metadata": {
        "colab": {
          "base_uri": "https://localhost:8080/"
        },
        "id": "VWB_i0vg89Vo",
        "outputId": "e686362b-fa25-4e6d-e47d-5143344c7680"
      },
      "execution_count": 5,
      "outputs": [
        {
          "output_type": "stream",
          "name": "stdout",
          "text": [
            " * sqlite:///gotham.db\n",
            "Done.\n",
            "Done.\n"
          ]
        },
        {
          "output_type": "execute_result",
          "data": {
            "text/plain": [
              "[]"
            ]
          },
          "metadata": {},
          "execution_count": 5
        }
      ]
    },
    {
      "cell_type": "markdown",
      "source": [
        "This statement creates an index named idx_customer_lastname on the LastName column, allowing for faster searches based on customer last names. This will allow us to search customers by their last name more quickly.\n",
        "\n",
        "SQLite supports several types of indexes, including unique indexes, which ensure that the indexed column(s) contain no duplicate values, and partial indexes, which only index a subset of rows based on a specified condition.\n",
        "\n",
        "Creating appropriate indexes is crucial for optimizing database performance, but how do they actually impact query speed? In the next section, we'll explore the power of indexes in action using the EXPLAIN QUERY PLAN command and some practical examples from our Gotham City dataset."
      ],
      "metadata": {
        "id": "z0rumVik9GtV"
      }
    },
    {
      "cell_type": "markdown",
      "source": [
        "## How Indexes Impact Speed\n",
        "\n",
        "To understand the impact of indexes on query speed, we'll use the **EXPLAIN QUERY PLAN** command. This command provides insight into how SQLite executes a query, including which indexes (if any) are being used.\n",
        "\n",
        "Let's start with an example query on our *Accounts* table that gets customers with higher than average balances"
      ],
      "metadata": {
        "id": "bVpTi1eC9UKh"
      }
    },
    {
      "cell_type": "code",
      "source": [
        "%%sql\n",
        "SELECT * FROM Accounts\n",
        "WHERE Balance > (SELECT AVG(Balance) FROM Accounts)\n",
        "ORDER BY Balance DESC\n",
        "LIMIT 5;"
      ],
      "metadata": {
        "colab": {
          "base_uri": "https://localhost:8080/",
          "height": 179
        },
        "id": "kFFBXZs3C5i5",
        "outputId": "44ea3734-bad7-4104-f738-052b9c4a0df4"
      },
      "execution_count": 6,
      "outputs": [
        {
          "output_type": "stream",
          "name": "stdout",
          "text": [
            " * sqlite:///gotham.db\n",
            "Done.\n"
          ]
        },
        {
          "output_type": "execute_result",
          "data": {
            "text/plain": [
              "[(8136, 7952, 'Savings', 92802.15340000001, '2003-01-18'),\n",
              " (3401, 4699, 'Savings', 91534.3495, '2015-03-25'),\n",
              " (304, 277, 'Savings', 91283.00280000002, '2021-05-08'),\n",
              " (10, 8, 'Checking', 91000, '2024-10-10'),\n",
              " (5953, 5751, 'Savings', 90689.35260000001, '2013-12-29')]"
            ],
            "text/html": [
              "<table>\n",
              "    <thead>\n",
              "        <tr>\n",
              "            <th>AccountID</th>\n",
              "            <th>CustomerID</th>\n",
              "            <th>AccountType</th>\n",
              "            <th>Balance</th>\n",
              "            <th>CreatedDate</th>\n",
              "        </tr>\n",
              "    </thead>\n",
              "    <tbody>\n",
              "        <tr>\n",
              "            <td>8136</td>\n",
              "            <td>7952</td>\n",
              "            <td>Savings</td>\n",
              "            <td>92802.15340000001</td>\n",
              "            <td>2003-01-18</td>\n",
              "        </tr>\n",
              "        <tr>\n",
              "            <td>3401</td>\n",
              "            <td>4699</td>\n",
              "            <td>Savings</td>\n",
              "            <td>91534.3495</td>\n",
              "            <td>2015-03-25</td>\n",
              "        </tr>\n",
              "        <tr>\n",
              "            <td>304</td>\n",
              "            <td>277</td>\n",
              "            <td>Savings</td>\n",
              "            <td>91283.00280000002</td>\n",
              "            <td>2021-05-08</td>\n",
              "        </tr>\n",
              "        <tr>\n",
              "            <td>10</td>\n",
              "            <td>8</td>\n",
              "            <td>Checking</td>\n",
              "            <td>91000</td>\n",
              "            <td>2024-10-10</td>\n",
              "        </tr>\n",
              "        <tr>\n",
              "            <td>5953</td>\n",
              "            <td>5751</td>\n",
              "            <td>Savings</td>\n",
              "            <td>90689.35260000001</td>\n",
              "            <td>2013-12-29</td>\n",
              "        </tr>\n",
              "    </tbody>\n",
              "</table>"
            ]
          },
          "metadata": {},
          "execution_count": 6
        }
      ]
    },
    {
      "cell_type": "markdown",
      "source": [
        "Now, let's see what the \"query plan\" is for this:"
      ],
      "metadata": {
        "id": "VdGfHJDTDfCO"
      }
    },
    {
      "cell_type": "code",
      "source": [
        "%%sql\n",
        "DROP INDEX IF EXISTS idx_accounts_balance;\n",
        "\n",
        "EXPLAIN QUERY PLAN\n",
        "SELECT * FROM Accounts\n",
        "WHERE Balance > (SELECT AVG(Balance) FROM Accounts)\n",
        "ORDER BY Balance DESC;"
      ],
      "metadata": {
        "colab": {
          "base_uri": "https://localhost:8080/",
          "height": 175
        },
        "id": "Bdi_nxgZ9lwk",
        "outputId": "78ed6560-2d31-4cd9-f072-b5724fb81b3c"
      },
      "execution_count": 7,
      "outputs": [
        {
          "output_type": "stream",
          "name": "stdout",
          "text": [
            " * sqlite:///gotham.db\n",
            "Done.\n",
            "Done.\n"
          ]
        },
        {
          "output_type": "execute_result",
          "data": {
            "text/plain": [
              "[(3, 0, 0, 'SCAN Accounts'),\n",
              " (8, 0, 0, 'SCALAR SUBQUERY 1'),\n",
              " (13, 8, 0, 'SCAN Accounts'),\n",
              " (31, 0, 0, 'USE TEMP B-TREE FOR ORDER BY')]"
            ],
            "text/html": [
              "<table>\n",
              "    <thead>\n",
              "        <tr>\n",
              "            <th>id</th>\n",
              "            <th>parent</th>\n",
              "            <th>notused</th>\n",
              "            <th>detail</th>\n",
              "        </tr>\n",
              "    </thead>\n",
              "    <tbody>\n",
              "        <tr>\n",
              "            <td>3</td>\n",
              "            <td>0</td>\n",
              "            <td>0</td>\n",
              "            <td>SCAN Accounts</td>\n",
              "        </tr>\n",
              "        <tr>\n",
              "            <td>8</td>\n",
              "            <td>0</td>\n",
              "            <td>0</td>\n",
              "            <td>SCALAR SUBQUERY 1</td>\n",
              "        </tr>\n",
              "        <tr>\n",
              "            <td>13</td>\n",
              "            <td>8</td>\n",
              "            <td>0</td>\n",
              "            <td>SCAN Accounts</td>\n",
              "        </tr>\n",
              "        <tr>\n",
              "            <td>31</td>\n",
              "            <td>0</td>\n",
              "            <td>0</td>\n",
              "            <td>USE TEMP B-TREE FOR ORDER BY</td>\n",
              "        </tr>\n",
              "    </tbody>\n",
              "</table>"
            ]
          },
          "metadata": {},
          "execution_count": 7
        }
      ]
    },
    {
      "cell_type": "markdown",
      "source": [
        "If you look at the query plan here, you'll notice a few key terms that pop out:\n",
        "\n",
        "-   **Full Table Scan**: A full table scan occurs when SQLite reads every row in a table to find the data that matches the query conditions. In this case, `SCAN Accounts` indicates that SQLite is performing a full table scan on the *Accounts* table. Full table scans can be inefficient, especially for large tables, as they require reading and checking every single row. This will change when we create an index.\n",
        "-   **Scalar Subquery**: A scalar subquery is a subquery that returns a single value. In this example, `SCALAR SUBQUERY 1` refers to the subquery `(SELECT AVG(Balance) FROM Accounts)`, which calculates the average balance of all accounts. The result of this subquery is used in the main query's WHERE clause.\n",
        "-   **Temporary B-Tree**: In this case, `USE TEMP B-TREE FOR ORDER BY` indicates that SQLite is using a temporary B-tree data structure to sort the result set in descending order by the *Balance* column. We'll dive deeper into B-trees in a future section."
      ],
      "metadata": {
        "id": "BHy58HwN-TYU"
      }
    },
    {
      "cell_type": "markdown",
      "source": [
        "### Impact of Indexes\n",
        "\n",
        "If an index were created on the `Balance` column, the query execution plan would likely be different. For example, with an index on `Balance`, the execution plan might show an **index search** instead of a full table scan, resulting in faster query execution times.\n",
        "\n",
        "To create an index on the `Balance` column, you could use the following command:"
      ],
      "metadata": {
        "id": "vKvSgWmD-hSI"
      }
    },
    {
      "cell_type": "code",
      "source": [
        "%%sql\n",
        "CREATE INDEX idx_accounts_balance\n",
        "ON Accounts (Balance);"
      ],
      "metadata": {
        "colab": {
          "base_uri": "https://localhost:8080/"
        },
        "id": "c8bqlxQa-gsh",
        "outputId": "6c0e8382-9bf4-4cb3-f917-ab2a1e11af91"
      },
      "execution_count": 8,
      "outputs": [
        {
          "output_type": "stream",
          "name": "stdout",
          "text": [
            " * sqlite:///gotham.db\n",
            "Done.\n"
          ]
        },
        {
          "output_type": "execute_result",
          "data": {
            "text/plain": [
              "[]"
            ]
          },
          "metadata": {},
          "execution_count": 8
        }
      ]
    },
    {
      "cell_type": "markdown",
      "source": [
        "Now, let's see what happens to our query plan:"
      ],
      "metadata": {
        "id": "k1IidaNe-l7g"
      }
    },
    {
      "cell_type": "code",
      "source": [
        "%%sql\n",
        "EXPLAIN QUERY PLAN\n",
        "SELECT * FROM Accounts\n",
        "WHERE Balance > (SELECT AVG(Balance) FROM Accounts)\n",
        "ORDER BY Balance DESC;"
      ],
      "metadata": {
        "colab": {
          "base_uri": "https://localhost:8080/",
          "height": 137
        },
        "id": "dQq1f2P8-lJm",
        "outputId": "ad1f309a-5bfb-4d47-de14-9dcd92b4558c"
      },
      "execution_count": 9,
      "outputs": [
        {
          "output_type": "stream",
          "name": "stdout",
          "text": [
            " * sqlite:///gotham.db\n",
            "Done.\n"
          ]
        },
        {
          "output_type": "execute_result",
          "data": {
            "text/plain": [
              "[(4, 0, 0, 'SEARCH Accounts USING INDEX idx_accounts_balance (Balance>?)'),\n",
              " (8, 0, 0, 'SCALAR SUBQUERY 1'),\n",
              " (13, 8, 0, 'SCAN Accounts USING COVERING INDEX idx_accounts_balance')]"
            ],
            "text/html": [
              "<table>\n",
              "    <thead>\n",
              "        <tr>\n",
              "            <th>id</th>\n",
              "            <th>parent</th>\n",
              "            <th>notused</th>\n",
              "            <th>detail</th>\n",
              "        </tr>\n",
              "    </thead>\n",
              "    <tbody>\n",
              "        <tr>\n",
              "            <td>4</td>\n",
              "            <td>0</td>\n",
              "            <td>0</td>\n",
              "            <td>SEARCH Accounts USING INDEX idx_accounts_balance (Balance&gt;?)</td>\n",
              "        </tr>\n",
              "        <tr>\n",
              "            <td>8</td>\n",
              "            <td>0</td>\n",
              "            <td>0</td>\n",
              "            <td>SCALAR SUBQUERY 1</td>\n",
              "        </tr>\n",
              "        <tr>\n",
              "            <td>13</td>\n",
              "            <td>8</td>\n",
              "            <td>0</td>\n",
              "            <td>SCAN Accounts USING COVERING INDEX idx_accounts_balance</td>\n",
              "        </tr>\n",
              "    </tbody>\n",
              "</table>"
            ]
          },
          "metadata": {},
          "execution_count": 9
        }
      ]
    },
    {
      "cell_type": "markdown",
      "source": [
        "SQLite now uses the idx_account_balance index to search for matching rows, resulting in a more efficient query execution. Instead of scanning the entire table, it can quickly locate the relevant rows using the index.\n",
        "\n",
        "Some new terms you'll notice:\n",
        "\n",
        "1.  **Index Scan**: An index scan is a type of table access that uses an index to locate the required data. In this example, `SEARCH Accounts USING INDEX idx_accounts_balance (Balance>?)` means that SQLite is using the *idx_accounts_balance* index to find rows where the *Balance* is greater than the result of the scalar subquery.\n",
        "2.  **Covering Index**: A covering index is an index that contains all the columns required to satisfy a query, eliminating the need for additional table lookups. In the updated plan, `SCAN Accounts USING COVERING INDEX idx_accounts_balance` indicates that the *idx_accounts_balance* index is a covering index for the subquery. This means that all the data needed to calculate the average balance is available within the index itself, making the query more efficient.\n"
      ],
      "metadata": {
        "id": "yZnmhKLV-1Nq"
      }
    },
    {
      "cell_type": "markdown",
      "source": [
        "## Timing Our Queries\n",
        "To further demonstrate the performance impact, let's measure the execution time of our query with and without the index. We'll be using Colab's builtin **timeit** function, which will run this query many times, and give us the average runninng time. This helps miminize the role of chance in evaluating query performance based on a single case."
      ],
      "metadata": {
        "id": "1lHtyz8eIAoa"
      }
    },
    {
      "cell_type": "code",
      "source": [
        "%%sql\n",
        "-- to start, drop the index\n",
        "DROP INDEX idx_accounts_balance;"
      ],
      "metadata": {
        "colab": {
          "base_uri": "https://localhost:8080/"
        },
        "id": "kZu5-Ev0-9i_",
        "outputId": "eb2e4c9c-88a3-4c94-f337-b82d063d2609"
      },
      "execution_count": 10,
      "outputs": [
        {
          "output_type": "stream",
          "name": "stdout",
          "text": [
            " * sqlite:///gotham.db\n",
            "Done.\n"
          ]
        },
        {
          "output_type": "execute_result",
          "data": {
            "text/plain": [
              "[]"
            ]
          },
          "metadata": {},
          "execution_count": 10
        }
      ]
    },
    {
      "cell_type": "code",
      "source": [
        "%%timeit -n 1\n",
        "%%sql\n",
        "-- This will run this query many times\n",
        "SELECT * FROM Accounts\n",
        "WHERE Balance > (SELECT AVG(Balance) FROM Accounts)\n",
        "ORDER BY Balance DESC;"
      ],
      "metadata": {
        "colab": {
          "base_uri": "https://localhost:8080/"
        },
        "id": "_Cj6twxX_Hfb",
        "outputId": "afab8089-6847-4a71-8f0b-d452cc67aafd"
      },
      "execution_count": 11,
      "outputs": [
        {
          "output_type": "stream",
          "name": "stdout",
          "text": [
            " * sqlite:///gotham.db\n",
            "Done.\n",
            " * sqlite:///gotham.db\n",
            "Done.\n",
            " * sqlite:///gotham.db\n",
            "Done.\n",
            " * sqlite:///gotham.db\n",
            "Done.\n",
            " * sqlite:///gotham.db\n",
            "Done.\n",
            " * sqlite:///gotham.db\n",
            "Done.\n",
            " * sqlite:///gotham.db\n",
            "Done.\n",
            "66 ms ± 23.2 ms per loop (mean ± std. dev. of 7 runs, 1 loop each)\n"
          ]
        }
      ]
    },
    {
      "cell_type": "code",
      "source": [
        "%%sql\n",
        "-- Recreate our index\n",
        "CREATE INDEX idx_accounts_balance\n",
        "ON Accounts (Balance);"
      ],
      "metadata": {
        "colab": {
          "base_uri": "https://localhost:8080/"
        },
        "id": "SY7mkE6O_rlc",
        "outputId": "c2a85363-3f0e-472c-902b-0b1194457d7d"
      },
      "execution_count": 12,
      "outputs": [
        {
          "output_type": "stream",
          "name": "stdout",
          "text": [
            " * sqlite:///gotham.db\n",
            "Done.\n"
          ]
        },
        {
          "output_type": "execute_result",
          "data": {
            "text/plain": [
              "[]"
            ]
          },
          "metadata": {},
          "execution_count": 12
        }
      ]
    },
    {
      "cell_type": "code",
      "source": [
        "%%timeit -n 1\n",
        "%%sql\n",
        "-- Now run the query with the index\n",
        "SELECT * FROM Accounts\n",
        "WHERE Balance > 25000 AND  Balance < 50000;"
      ],
      "metadata": {
        "colab": {
          "base_uri": "https://localhost:8080/"
        },
        "id": "DBa4gnRA_31L",
        "outputId": "f1d94751-0407-4a05-c985-a3daf4677b3d"
      },
      "execution_count": 13,
      "outputs": [
        {
          "output_type": "stream",
          "name": "stdout",
          "text": [
            " * sqlite:///gotham.db\n",
            "Done.\n",
            " * sqlite:///gotham.db\n",
            "Done.\n",
            " * sqlite:///gotham.db\n",
            "Done.\n",
            " * sqlite:///gotham.db\n",
            "Done.\n",
            " * sqlite:///gotham.db\n",
            "Done.\n",
            " * sqlite:///gotham.db\n",
            "Done.\n",
            " * sqlite:///gotham.db\n",
            "Done.\n",
            "47.7 ms ± 9.78 ms per loop (mean ± std. dev. of 7 runs, 1 loop each)\n"
          ]
        }
      ]
    },
    {
      "cell_type": "markdown",
      "source": [
        "While the specific results you get will vary each time you run the test, you should find that (on average) the index scan runs a bit faster than the full table scan."
      ],
      "metadata": {
        "id": "HGWbpHNzIfpA"
      }
    },
    {
      "cell_type": "markdown",
      "source": [
        "## How Indexes Impact Storage\n",
        "Now that we've seen how indexes can significantly improve query performance, let's explore how they impact database storage. To understand this, we first need to discuss how SQLite (and many other databases) store data using a data structure called a B-tree.\n",
        "\n",
        "### B-trees: The Backbone of Database Storage\n",
        "\n",
        "A B-tree is a self-balancing tree data structure that maintains sorted data and allows for efficient insertion, deletion, and search operations. B-trees are particularly well-suited for databases because they optimize disk I/O operations, which is crucial when dealing with large amounts of data that cannot fit entirely in memory.\n",
        "\n",
        "In a B-tree, each node contains multiple keys and pointers to child nodes. The keys within a node are kept in sorted order, and each key is associated with two pointers:\n",
        "\n",
        "1.  A pointer to the child node containing keys less than the current key.\n",
        "2.  A pointer to the child node containing keys greater than or equal to the current key.\n",
        "\n",
        "This structure allows for quick traversal and search operations, as the database can navigate the tree by comparing the desired key with the keys in each node and following the appropriate pointers.\n",
        "\n",
        "### How SQLite Uses B-trees\n",
        "\n",
        "SQLite uses B-trees to store both tables and indexes. When you create a table, SQLite creates a B-tree where each node contains one or more rows of data. The rows within a node are sorted by the primary key, enabling efficient lookups and range queries.\n",
        "\n",
        "For example, let's consider a simplified representation of the *Accounts* table:\n",
        "\n",
        "```\n",
        "AccountID | CustomerID | Balance\n",
        "1         | 1          | 10000\n",
        "2         | 1          | 5000\n",
        "3         | 2          | 7500\n",
        "4         | 3          | 12000`\n",
        "```\n",
        "\n",
        "In the table's B-tree, the rows would be stored in nodes, sorted by the primary key (AccountID):\n",
        "\n",
        "```\n",
        "Node 1: (1, 1, 10000) | (2, 1, 5000)\n",
        "Node 2: (3, 2, 7500)  | (4, 3, 12000)\n",
        "```\n",
        "\n",
        "When you create an index on a column, SQLite generates a separate B-tree specifically for that index. The index B-tree stores the indexed column's values along with pointers to the corresponding rows in the table's B-tree.\n",
        "\n",
        "Let's say we create an index on the *Balance* column. Then the *idx_accounts_balance* index B-tree would store the *Balance* values in sorted order, along with pointers to the corresponding rows in the *Accounts* table's B-tree:\n",
        "\n",
        "```sql\n",
        "Node 1: (5000, pointer to row 2) | (7500, pointer to row 3)\n",
        "Node 2: (10000, pointer to row 1) | (12000, pointer to row 4)\n",
        "```\n",
        "\n",
        "When you query the table using the indexed column, SQLite can quickly traverse the index B-tree to find the matching values and then follow the pointers to retrieve the full row data from the table's B-tree.\n",
        "\n",
        "By using B-trees for both tables and indexes, SQLite ensures efficient data storage and retrieval, even for large datasets. However, it's important to keep in mind that creating indexes also requires additional storage space, as each index maintains its own B-tree structure.\n"
      ],
      "metadata": {
        "id": "2x6r4wNZJ2Hz"
      }
    },
    {
      "cell_type": "markdown",
      "source": [
        "### Graphic: B-Trees\n",
        "Here's what our B-tree for our original table might look like:\n"
      ],
      "metadata": {
        "id": "xEt2fbfSLkvV"
      }
    },
    {
      "cell_type": "code",
      "source": [
        "import base64\n",
        "from IPython.display import Image, display, HTML\n",
        "\n",
        "def mm(graph):\n",
        "    graphbytes = graph.encode(\"utf8\")\n",
        "    base64_bytes = base64.b64encode(graphbytes)\n",
        "    base64_string = base64_bytes.decode(\"ascii\")\n",
        "    display(Image(url=\"https://mermaid.ink/img/\" + base64_string))\n",
        "\n",
        "\n",
        "mm(\"\"\"\n",
        "graph TB\n",
        "  subgraph Accounts Table B-tree - sorting by id\n",
        "    N1((Node 1)) --- |pointer to next/previous node| N2((Node 2))\n",
        "    N1 --- |contains| A1[AccountID - key: 1<br>CustomerID: 1<br>Balance: 10000]\n",
        "    N1 --- |contains| A2[AccountID - key: 2<br>CustomerID: 1<br>Balance: 5000]\n",
        "    N2 --- |contains| A3[AccountID - key: 3<br>CustomerID: 2<br>Balance: 7500]\n",
        "    N2 --- |contains| A4[AccountID - key: 4<br>CustomerID: 3<br>Balance: 12000]\n",
        "  end\n",
        "\"\"\")"
      ],
      "metadata": {
        "colab": {
          "base_uri": "https://localhost:8080/",
          "height": 481
        },
        "id": "2qECvrr-IpTc",
        "outputId": "002ae150-ebef-4951-987f-4c329d32d430"
      },
      "execution_count": 38,
      "outputs": [
        {
          "output_type": "display_data",
          "data": {
            "text/html": [
              "<img src=\"https://mermaid.ink/img/CmdyYXBoIFRCCiAgc3ViZ3JhcGggQWNjb3VudHMgVGFibGUgQi10cmVlIC0gc29ydGluZyBieSBpZAogICAgTjEoKE5vZGUgMSkpIC0tLSB8cG9pbnRlciB0byBuZXh0L3ByZXZpb3VzIG5vZGV8IE4yKChOb2RlIDIpKQogICAgTjEgLS0tIHxjb250YWluc3wgQTFbQWNjb3VudElEIC0ga2V5OiAxPGJyPkN1c3RvbWVySUQ6IDE8YnI+QmFsYW5jZTogMTAwMDBdCiAgICBOMSAtLS0gfGNvbnRhaW5zfCBBMltBY2NvdW50SUQgLSBrZXk6IDI8YnI+Q3VzdG9tZXJJRDogMTxicj5CYWxhbmNlOiA1MDAwXQogICAgTjIgLS0tIHxjb250YWluc3wgQTNbQWNjb3VudElEIC0ga2V5OiAzPGJyPkN1c3RvbWVySUQ6IDI8YnI+QmFsYW5jZTogNzUwMF0KICAgIE4yIC0tLSB8Y29udGFpbnN8IEE0W0FjY291bnRJRCAtIGtleTogNDxicj5DdXN0b21lcklEOiAzPGJyPkJhbGFuY2U6IDEyMDAwXQogIGVuZAo=\"/>"
            ],
            "text/plain": [
              "<IPython.core.display.Image object>"
            ]
          },
          "metadata": {}
        }
      ]
    },
    {
      "cell_type": "markdown",
      "source": [
        "And here's what the B-tree for the index might look like:"
      ],
      "metadata": {
        "id": "mCnKWYRjPhM9"
      }
    },
    {
      "cell_type": "code",
      "source": [
        "mm(\"\"\"\n",
        "graph TB\n",
        "  subgraph Balance Index B-tree - sorting by balance\n",
        "    IN1((Node 1)) --- | points to next/previous node | IN2((Node 2))\n",
        "    IN1 --- IA2[Balance - key: 5000<br>Pointer to Account 2]\n",
        "    IN1 --- IA3[Balance - key: 7500<br>Pointer to Account 3]\n",
        "    IN2 --- IA1[Balance - key: 10000<br>Pointer to Account 1]\n",
        "    IN2 --- IA4[Balance - key: 12000<br>Pointer to Account 4]\n",
        "  end\n",
        "\"\"\"\n",
        ")"
      ],
      "metadata": {
        "colab": {
          "base_uri": "https://localhost:8080/",
          "height": 427
        },
        "id": "djEJaH77NyuS",
        "outputId": "9b3a5564-19b4-434f-caad-712239883963"
      },
      "execution_count": 39,
      "outputs": [
        {
          "output_type": "display_data",
          "data": {
            "text/html": [
              "<img src=\"https://mermaid.ink/img/CmdyYXBoIFRCCiAgc3ViZ3JhcGggQmFsYW5jZSBJbmRleCBCLXRyZWUgLSBzb3J0aW5nIGJ5IGJhbGFuY2UKICAgIElOMSgoTm9kZSAxKSkgLS0tIHwgcG9pbnRzIHRvIG5leHQvcHJldmlvdXMgbm9kZSB8IElOMigoTm9kZSAyKSkKICAgIElOMSAtLS0gSUEyW0JhbGFuY2UgLSBrZXk6IDUwMDA8YnI+UG9pbnRlciB0byBBY2NvdW50IDJdCiAgICBJTjEgLS0tIElBM1tCYWxhbmNlIC0ga2V5OiA3NTAwPGJyPlBvaW50ZXIgdG8gQWNjb3VudCAzXQogICAgSU4yIC0tLSBJQTFbQmFsYW5jZSAtIGtleTogMTAwMDA8YnI+UG9pbnRlciB0byBBY2NvdW50IDFdCiAgICBJTjIgLS0tIElBNFtCYWxhbmNlIC0ga2V5OiAxMjAwMDxicj5Qb2ludGVyIHRvIEFjY291bnQgNF0KICBlbmQK\"/>"
            ],
            "text/plain": [
              "<IPython.core.display.Image object>"
            ]
          },
          "metadata": {}
        }
      ]
    },
    {
      "cell_type": "code",
      "source": [],
      "metadata": {
        "id": "UoqlNmixNzqX"
      },
      "execution_count": null,
      "outputs": []
    }
  ]
}