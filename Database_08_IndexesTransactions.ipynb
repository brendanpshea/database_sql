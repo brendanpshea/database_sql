{
  "nbformat": 4,
  "nbformat_minor": 0,
  "metadata": {
    "colab": {
      "provenance": [],
      "authorship_tag": "ABX9TyPmaoPe4kGjQMDIHC5JVDny",
      "include_colab_link": true
    },
    "kernelspec": {
      "name": "python3",
      "display_name": "Python 3"
    },
    "language_info": {
      "name": "python"
    },
    "widgets": {
      "application/vnd.jupyter.widget-state+json": {
        "5e5058c85ea64fe8a1500354d93a62ec": {
          "model_module": "@jupyter-widgets/controls",
          "model_name": "VBoxModel",
          "model_module_version": "1.5.0",
          "state": {
            "_dom_classes": [],
            "_model_module": "@jupyter-widgets/controls",
            "_model_module_version": "1.5.0",
            "_model_name": "VBoxModel",
            "_view_count": null,
            "_view_module": "@jupyter-widgets/controls",
            "_view_module_version": "1.5.0",
            "_view_name": "VBoxView",
            "box_style": "",
            "children": [
              "IPY_MODEL_3401ae4bb95f4319b1e0136e9215d0d2",
              "IPY_MODEL_b94294cdb579449983d2945c23fdc126",
              "IPY_MODEL_db41abed0f564ee78156e5dac5c1ae30"
            ],
            "layout": "IPY_MODEL_b47556d577bb4fde9594a0e88d903819"
          }
        },
        "3401ae4bb95f4319b1e0136e9215d0d2": {
          "model_module": "@jupyter-widgets/controls",
          "model_name": "IntProgressModel",
          "model_module_version": "1.5.0",
          "state": {
            "_dom_classes": [],
            "_model_module": "@jupyter-widgets/controls",
            "_model_module_version": "1.5.0",
            "_model_name": "IntProgressModel",
            "_view_count": null,
            "_view_module": "@jupyter-widgets/controls",
            "_view_module_version": "1.5.0",
            "_view_name": "ProgressView",
            "bar_style": "",
            "description": "Progress:",
            "description_tooltip": null,
            "layout": "IPY_MODEL_6695132194944ce5bac28c68b87ccae6",
            "max": 24,
            "min": 0,
            "orientation": "horizontal",
            "style": "IPY_MODEL_a19a153012914adea53ececadacd5d5b",
            "value": 1
          }
        },
        "b94294cdb579449983d2945c23fdc126": {
          "model_module": "@jupyter-widgets/controls",
          "model_name": "HTMLModel",
          "model_module_version": "1.5.0",
          "state": {
            "_dom_classes": [],
            "_model_module": "@jupyter-widgets/controls",
            "_model_module_version": "1.5.0",
            "_model_name": "HTMLModel",
            "_view_count": null,
            "_view_module": "@jupyter-widgets/controls",
            "_view_module_version": "1.5.0",
            "_view_name": "HTMLView",
            "description": "",
            "description_tooltip": null,
            "layout": "IPY_MODEL_2905e8bb788e4c318e0e62615b9907ce",
            "placeholder": "​",
            "style": "IPY_MODEL_09d6682db90848eab6ef3ae5ed340e9c",
            "value": "<h3>Question 1 of 24:</h3><p>Retrieve the total number of log entries in the Logs table. Display the result as 'total_logs'.</p><h3>Database Schema:</h3><ul><li><b>Logs</b> (id INTEGER, timestamp DATETIME, data JSON)</li><li><b>sqlite_sequence</b> (name , seq )</li></ul>"
          }
        },
        "db41abed0f564ee78156e5dac5c1ae30": {
          "model_module": "@jupyter-widgets/controls",
          "model_name": "TabModel",
          "model_module_version": "1.5.0",
          "state": {
            "_dom_classes": [],
            "_model_module": "@jupyter-widgets/controls",
            "_model_module_version": "1.5.0",
            "_model_name": "TabModel",
            "_titles": {
              "0": "Query",
              "1": "Results"
            },
            "_view_count": null,
            "_view_module": "@jupyter-widgets/controls",
            "_view_module_version": "1.5.0",
            "_view_name": "TabView",
            "box_style": "",
            "children": [
              "IPY_MODEL_6535910968f0488a9cbd314dcc0f573b",
              "IPY_MODEL_a4c4d3dbf2954490a128839f980f8f16"
            ],
            "layout": "IPY_MODEL_be293faefffa48fe896ba4aff934d8e1",
            "selected_index": 0
          }
        },
        "b47556d577bb4fde9594a0e88d903819": {
          "model_module": "@jupyter-widgets/base",
          "model_name": "LayoutModel",
          "model_module_version": "1.2.0",
          "state": {
            "_model_module": "@jupyter-widgets/base",
            "_model_module_version": "1.2.0",
            "_model_name": "LayoutModel",
            "_view_count": null,
            "_view_module": "@jupyter-widgets/base",
            "_view_module_version": "1.2.0",
            "_view_name": "LayoutView",
            "align_content": null,
            "align_items": null,
            "align_self": null,
            "border": null,
            "bottom": null,
            "display": null,
            "flex": null,
            "flex_flow": null,
            "grid_area": null,
            "grid_auto_columns": null,
            "grid_auto_flow": null,
            "grid_auto_rows": null,
            "grid_column": null,
            "grid_gap": null,
            "grid_row": null,
            "grid_template_areas": null,
            "grid_template_columns": null,
            "grid_template_rows": null,
            "height": null,
            "justify_content": null,
            "justify_items": null,
            "left": null,
            "margin": null,
            "max_height": null,
            "max_width": null,
            "min_height": null,
            "min_width": null,
            "object_fit": null,
            "object_position": null,
            "order": null,
            "overflow": null,
            "overflow_x": null,
            "overflow_y": null,
            "padding": null,
            "right": null,
            "top": null,
            "visibility": null,
            "width": null
          }
        },
        "6695132194944ce5bac28c68b87ccae6": {
          "model_module": "@jupyter-widgets/base",
          "model_name": "LayoutModel",
          "model_module_version": "1.2.0",
          "state": {
            "_model_module": "@jupyter-widgets/base",
            "_model_module_version": "1.2.0",
            "_model_name": "LayoutModel",
            "_view_count": null,
            "_view_module": "@jupyter-widgets/base",
            "_view_module_version": "1.2.0",
            "_view_name": "LayoutView",
            "align_content": null,
            "align_items": null,
            "align_self": null,
            "border": null,
            "bottom": null,
            "display": null,
            "flex": null,
            "flex_flow": null,
            "grid_area": null,
            "grid_auto_columns": null,
            "grid_auto_flow": null,
            "grid_auto_rows": null,
            "grid_column": null,
            "grid_gap": null,
            "grid_row": null,
            "grid_template_areas": null,
            "grid_template_columns": null,
            "grid_template_rows": null,
            "height": null,
            "justify_content": null,
            "justify_items": null,
            "left": null,
            "margin": null,
            "max_height": null,
            "max_width": null,
            "min_height": null,
            "min_width": null,
            "object_fit": null,
            "object_position": null,
            "order": null,
            "overflow": null,
            "overflow_x": null,
            "overflow_y": null,
            "padding": null,
            "right": null,
            "top": null,
            "visibility": null,
            "width": null
          }
        },
        "a19a153012914adea53ececadacd5d5b": {
          "model_module": "@jupyter-widgets/controls",
          "model_name": "ProgressStyleModel",
          "model_module_version": "1.5.0",
          "state": {
            "_model_module": "@jupyter-widgets/controls",
            "_model_module_version": "1.5.0",
            "_model_name": "ProgressStyleModel",
            "_view_count": null,
            "_view_module": "@jupyter-widgets/base",
            "_view_module_version": "1.2.0",
            "_view_name": "StyleView",
            "bar_color": null,
            "description_width": ""
          }
        },
        "2905e8bb788e4c318e0e62615b9907ce": {
          "model_module": "@jupyter-widgets/base",
          "model_name": "LayoutModel",
          "model_module_version": "1.2.0",
          "state": {
            "_model_module": "@jupyter-widgets/base",
            "_model_module_version": "1.2.0",
            "_model_name": "LayoutModel",
            "_view_count": null,
            "_view_module": "@jupyter-widgets/base",
            "_view_module_version": "1.2.0",
            "_view_name": "LayoutView",
            "align_content": null,
            "align_items": null,
            "align_self": null,
            "border": null,
            "bottom": null,
            "display": null,
            "flex": null,
            "flex_flow": null,
            "grid_area": null,
            "grid_auto_columns": null,
            "grid_auto_flow": null,
            "grid_auto_rows": null,
            "grid_column": null,
            "grid_gap": null,
            "grid_row": null,
            "grid_template_areas": null,
            "grid_template_columns": null,
            "grid_template_rows": null,
            "height": null,
            "justify_content": null,
            "justify_items": null,
            "left": null,
            "margin": null,
            "max_height": null,
            "max_width": null,
            "min_height": null,
            "min_width": null,
            "object_fit": null,
            "object_position": null,
            "order": null,
            "overflow": null,
            "overflow_x": null,
            "overflow_y": null,
            "padding": null,
            "right": null,
            "top": null,
            "visibility": null,
            "width": null
          }
        },
        "09d6682db90848eab6ef3ae5ed340e9c": {
          "model_module": "@jupyter-widgets/controls",
          "model_name": "DescriptionStyleModel",
          "model_module_version": "1.5.0",
          "state": {
            "_model_module": "@jupyter-widgets/controls",
            "_model_module_version": "1.5.0",
            "_model_name": "DescriptionStyleModel",
            "_view_count": null,
            "_view_module": "@jupyter-widgets/base",
            "_view_module_version": "1.2.0",
            "_view_name": "StyleView",
            "description_width": ""
          }
        },
        "6535910968f0488a9cbd314dcc0f573b": {
          "model_module": "@jupyter-widgets/controls",
          "model_name": "VBoxModel",
          "model_module_version": "1.5.0",
          "state": {
            "_dom_classes": [],
            "_model_module": "@jupyter-widgets/controls",
            "_model_module_version": "1.5.0",
            "_model_name": "VBoxModel",
            "_view_count": null,
            "_view_module": "@jupyter-widgets/controls",
            "_view_module_version": "1.5.0",
            "_view_name": "VBoxView",
            "box_style": "",
            "children": [
              "IPY_MODEL_3fc7d2f9b8534288a5db730b68ec20c7",
              "IPY_MODEL_90ec3ee3a663428585f1933dacf4cbdf",
              "IPY_MODEL_2e02ee164a3847b7b80ebf4bad249743"
            ],
            "layout": "IPY_MODEL_fbf6ef8026724639a10d4fdf03c608c3"
          }
        },
        "a4c4d3dbf2954490a128839f980f8f16": {
          "model_module": "@jupyter-widgets/controls",
          "model_name": "VBoxModel",
          "model_module_version": "1.5.0",
          "state": {
            "_dom_classes": [],
            "_model_module": "@jupyter-widgets/controls",
            "_model_module_version": "1.5.0",
            "_model_name": "VBoxModel",
            "_view_count": null,
            "_view_module": "@jupyter-widgets/controls",
            "_view_module_version": "1.5.0",
            "_view_name": "VBoxView",
            "box_style": "",
            "children": [
              "IPY_MODEL_27174b6d9de54271af5bfc375de68f83",
              "IPY_MODEL_7dbece6aa677488ebe7c80182b911cef"
            ],
            "layout": "IPY_MODEL_e5398f8fb97b42e9addcffa7c58aa8d1"
          }
        },
        "be293faefffa48fe896ba4aff934d8e1": {
          "model_module": "@jupyter-widgets/base",
          "model_name": "LayoutModel",
          "model_module_version": "1.2.0",
          "state": {
            "_model_module": "@jupyter-widgets/base",
            "_model_module_version": "1.2.0",
            "_model_name": "LayoutModel",
            "_view_count": null,
            "_view_module": "@jupyter-widgets/base",
            "_view_module_version": "1.2.0",
            "_view_name": "LayoutView",
            "align_content": null,
            "align_items": null,
            "align_self": null,
            "border": null,
            "bottom": null,
            "display": null,
            "flex": null,
            "flex_flow": null,
            "grid_area": null,
            "grid_auto_columns": null,
            "grid_auto_flow": null,
            "grid_auto_rows": null,
            "grid_column": null,
            "grid_gap": null,
            "grid_row": null,
            "grid_template_areas": null,
            "grid_template_columns": null,
            "grid_template_rows": null,
            "height": null,
            "justify_content": null,
            "justify_items": null,
            "left": null,
            "margin": null,
            "max_height": null,
            "max_width": null,
            "min_height": null,
            "min_width": null,
            "object_fit": null,
            "object_position": null,
            "order": null,
            "overflow": null,
            "overflow_x": null,
            "overflow_y": null,
            "padding": null,
            "right": null,
            "top": null,
            "visibility": null,
            "width": null
          }
        },
        "3fc7d2f9b8534288a5db730b68ec20c7": {
          "model_module": "@jupyter-widgets/controls",
          "model_name": "TextareaModel",
          "model_module_version": "1.5.0",
          "state": {
            "_dom_classes": [],
            "_model_module": "@jupyter-widgets/controls",
            "_model_module_version": "1.5.0",
            "_model_name": "TextareaModel",
            "_view_count": null,
            "_view_module": "@jupyter-widgets/controls",
            "_view_module_version": "1.5.0",
            "_view_name": "TextareaView",
            "continuous_update": true,
            "description": "",
            "description_tooltip": null,
            "disabled": false,
            "layout": "IPY_MODEL_12f3caa00686411782ca6ab509f4b2cc",
            "placeholder": "Type your SQL query here...",
            "rows": null,
            "style": "IPY_MODEL_24ecc0faf6bb4f82803c5b9a99d08a69",
            "value": ""
          }
        },
        "90ec3ee3a663428585f1933dacf4cbdf": {
          "model_module": "@jupyter-widgets/controls",
          "model_name": "HBoxModel",
          "model_module_version": "1.5.0",
          "state": {
            "_dom_classes": [],
            "_model_module": "@jupyter-widgets/controls",
            "_model_module_version": "1.5.0",
            "_model_name": "HBoxModel",
            "_view_count": null,
            "_view_module": "@jupyter-widgets/controls",
            "_view_module_version": "1.5.0",
            "_view_name": "HBoxView",
            "box_style": "",
            "children": [
              "IPY_MODEL_33c514a6969040ebad467c5cc29ec6a4",
              "IPY_MODEL_f8605e40a3034094a3b97151a0f96796",
              "IPY_MODEL_60e8ddf1f3f5491bb22d174f9837fc53"
            ],
            "layout": "IPY_MODEL_e26c70ef997a44cbae11a06110303d3b"
          }
        },
        "2e02ee164a3847b7b80ebf4bad249743": {
          "model_module": "@jupyter-widgets/controls",
          "model_name": "HBoxModel",
          "model_module_version": "1.5.0",
          "state": {
            "_dom_classes": [],
            "_model_module": "@jupyter-widgets/controls",
            "_model_module_version": "1.5.0",
            "_model_name": "HBoxModel",
            "_view_count": null,
            "_view_module": "@jupyter-widgets/controls",
            "_view_module_version": "1.5.0",
            "_view_name": "HBoxView",
            "box_style": "",
            "children": [
              "IPY_MODEL_953d93cea1df4277a19ebeb590fe42ba",
              "IPY_MODEL_3594778ec1b644c180ced8713737e790",
              "IPY_MODEL_3c8e81ae6d584c7e963e1f12c4f457ab"
            ],
            "layout": "IPY_MODEL_ec869523f12a4fb9bf24eefc4e974947"
          }
        },
        "fbf6ef8026724639a10d4fdf03c608c3": {
          "model_module": "@jupyter-widgets/base",
          "model_name": "LayoutModel",
          "model_module_version": "1.2.0",
          "state": {
            "_model_module": "@jupyter-widgets/base",
            "_model_module_version": "1.2.0",
            "_model_name": "LayoutModel",
            "_view_count": null,
            "_view_module": "@jupyter-widgets/base",
            "_view_module_version": "1.2.0",
            "_view_name": "LayoutView",
            "align_content": null,
            "align_items": null,
            "align_self": null,
            "border": null,
            "bottom": null,
            "display": null,
            "flex": null,
            "flex_flow": null,
            "grid_area": null,
            "grid_auto_columns": null,
            "grid_auto_flow": null,
            "grid_auto_rows": null,
            "grid_column": null,
            "grid_gap": null,
            "grid_row": null,
            "grid_template_areas": null,
            "grid_template_columns": null,
            "grid_template_rows": null,
            "height": null,
            "justify_content": null,
            "justify_items": null,
            "left": null,
            "margin": null,
            "max_height": null,
            "max_width": null,
            "min_height": null,
            "min_width": null,
            "object_fit": null,
            "object_position": null,
            "order": null,
            "overflow": null,
            "overflow_x": null,
            "overflow_y": null,
            "padding": null,
            "right": null,
            "top": null,
            "visibility": null,
            "width": null
          }
        },
        "27174b6d9de54271af5bfc375de68f83": {
          "model_module": "@jupyter-widgets/controls",
          "model_name": "HTMLModel",
          "model_module_version": "1.5.0",
          "state": {
            "_dom_classes": [],
            "_model_module": "@jupyter-widgets/controls",
            "_model_module_version": "1.5.0",
            "_model_name": "HTMLModel",
            "_view_count": null,
            "_view_module": "@jupyter-widgets/controls",
            "_view_module_version": "1.5.0",
            "_view_name": "HTMLView",
            "description": "",
            "description_tooltip": null,
            "layout": "IPY_MODEL_5d07e9d05f50493eb059d84c7e30384a",
            "placeholder": "​",
            "style": "IPY_MODEL_cad14171e53240afbc7b4e741b55ed19",
            "value": ""
          }
        },
        "7dbece6aa677488ebe7c80182b911cef": {
          "model_module": "@jupyter-widgets/controls",
          "model_name": "HBoxModel",
          "model_module_version": "1.5.0",
          "state": {
            "_dom_classes": [],
            "_model_module": "@jupyter-widgets/controls",
            "_model_module_version": "1.5.0",
            "_model_name": "HBoxModel",
            "_view_count": null,
            "_view_module": "@jupyter-widgets/controls",
            "_view_module_version": "1.5.0",
            "_view_name": "HBoxView",
            "box_style": "",
            "children": [
              "IPY_MODEL_46ce9a1524ee43438f91e2c387614dc4",
              "IPY_MODEL_9f4eb33407da44c1ad67cc6b53db3df1"
            ],
            "layout": "IPY_MODEL_b8892fd2599842949ea21442f7458c38"
          }
        },
        "e5398f8fb97b42e9addcffa7c58aa8d1": {
          "model_module": "@jupyter-widgets/base",
          "model_name": "LayoutModel",
          "model_module_version": "1.2.0",
          "state": {
            "_model_module": "@jupyter-widgets/base",
            "_model_module_version": "1.2.0",
            "_model_name": "LayoutModel",
            "_view_count": null,
            "_view_module": "@jupyter-widgets/base",
            "_view_module_version": "1.2.0",
            "_view_name": "LayoutView",
            "align_content": null,
            "align_items": null,
            "align_self": null,
            "border": null,
            "bottom": null,
            "display": null,
            "flex": null,
            "flex_flow": null,
            "grid_area": null,
            "grid_auto_columns": null,
            "grid_auto_flow": null,
            "grid_auto_rows": null,
            "grid_column": null,
            "grid_gap": null,
            "grid_row": null,
            "grid_template_areas": null,
            "grid_template_columns": null,
            "grid_template_rows": null,
            "height": null,
            "justify_content": null,
            "justify_items": null,
            "left": null,
            "margin": null,
            "max_height": null,
            "max_width": null,
            "min_height": null,
            "min_width": null,
            "object_fit": null,
            "object_position": null,
            "order": null,
            "overflow": null,
            "overflow_x": null,
            "overflow_y": null,
            "padding": null,
            "right": null,
            "top": null,
            "visibility": null,
            "width": null
          }
        },
        "12f3caa00686411782ca6ab509f4b2cc": {
          "model_module": "@jupyter-widgets/base",
          "model_name": "LayoutModel",
          "model_module_version": "1.2.0",
          "state": {
            "_model_module": "@jupyter-widgets/base",
            "_model_module_version": "1.2.0",
            "_model_name": "LayoutModel",
            "_view_count": null,
            "_view_module": "@jupyter-widgets/base",
            "_view_module_version": "1.2.0",
            "_view_name": "LayoutView",
            "align_content": null,
            "align_items": null,
            "align_self": null,
            "border": null,
            "bottom": null,
            "display": null,
            "flex": null,
            "flex_flow": null,
            "grid_area": null,
            "grid_auto_columns": null,
            "grid_auto_flow": null,
            "grid_auto_rows": null,
            "grid_column": null,
            "grid_gap": null,
            "grid_row": null,
            "grid_template_areas": null,
            "grid_template_columns": null,
            "grid_template_rows": null,
            "height": "150px",
            "justify_content": null,
            "justify_items": null,
            "left": null,
            "margin": null,
            "max_height": null,
            "max_width": null,
            "min_height": null,
            "min_width": null,
            "object_fit": null,
            "object_position": null,
            "order": null,
            "overflow": null,
            "overflow_x": null,
            "overflow_y": null,
            "padding": null,
            "right": null,
            "top": null,
            "visibility": null,
            "width": "100%"
          }
        },
        "24ecc0faf6bb4f82803c5b9a99d08a69": {
          "model_module": "@jupyter-widgets/controls",
          "model_name": "DescriptionStyleModel",
          "model_module_version": "1.5.0",
          "state": {
            "_model_module": "@jupyter-widgets/controls",
            "_model_module_version": "1.5.0",
            "_model_name": "DescriptionStyleModel",
            "_view_count": null,
            "_view_module": "@jupyter-widgets/base",
            "_view_module_version": "1.2.0",
            "_view_name": "StyleView",
            "description_width": ""
          }
        },
        "33c514a6969040ebad467c5cc29ec6a4": {
          "model_module": "@jupyter-widgets/controls",
          "model_name": "ButtonModel",
          "model_module_version": "1.5.0",
          "state": {
            "_dom_classes": [],
            "_model_module": "@jupyter-widgets/controls",
            "_model_module_version": "1.5.0",
            "_model_name": "ButtonModel",
            "_view_count": null,
            "_view_module": "@jupyter-widgets/controls",
            "_view_module_version": "1.5.0",
            "_view_name": "ButtonView",
            "button_style": "success",
            "description": "Submit",
            "disabled": false,
            "icon": "",
            "layout": "IPY_MODEL_fd95ffa2cb9648098c6c65006ff2f629",
            "style": "IPY_MODEL_7c9de5a891554c198fc30742b34d7a8c",
            "tooltip": ""
          }
        },
        "f8605e40a3034094a3b97151a0f96796": {
          "model_module": "@jupyter-widgets/controls",
          "model_name": "ButtonModel",
          "model_module_version": "1.5.0",
          "state": {
            "_dom_classes": [],
            "_model_module": "@jupyter-widgets/controls",
            "_model_module_version": "1.5.0",
            "_model_name": "ButtonModel",
            "_view_count": null,
            "_view_module": "@jupyter-widgets/controls",
            "_view_module_version": "1.5.0",
            "_view_name": "ButtonView",
            "button_style": "warning",
            "description": "Clear",
            "disabled": false,
            "icon": "",
            "layout": "IPY_MODEL_bd2d90c94def41fb9569a813bcd6fc5c",
            "style": "IPY_MODEL_d92dafbff8fa4cf2baf54e7e8ed0d381",
            "tooltip": ""
          }
        },
        "60e8ddf1f3f5491bb22d174f9837fc53": {
          "model_module": "@jupyter-widgets/controls",
          "model_name": "ButtonModel",
          "model_module_version": "1.5.0",
          "state": {
            "_dom_classes": [],
            "_model_module": "@jupyter-widgets/controls",
            "_model_module_version": "1.5.0",
            "_model_name": "ButtonModel",
            "_view_count": null,
            "_view_module": "@jupyter-widgets/controls",
            "_view_module_version": "1.5.0",
            "_view_name": "ButtonView",
            "button_style": "info",
            "description": "Hint",
            "disabled": false,
            "icon": "",
            "layout": "IPY_MODEL_9a4f907bb973493cb7228ac6eaca5f20",
            "style": "IPY_MODEL_34a3af92bb0c418c811f1d0a00a16ca8",
            "tooltip": ""
          }
        },
        "e26c70ef997a44cbae11a06110303d3b": {
          "model_module": "@jupyter-widgets/base",
          "model_name": "LayoutModel",
          "model_module_version": "1.2.0",
          "state": {
            "_model_module": "@jupyter-widgets/base",
            "_model_module_version": "1.2.0",
            "_model_name": "LayoutModel",
            "_view_count": null,
            "_view_module": "@jupyter-widgets/base",
            "_view_module_version": "1.2.0",
            "_view_name": "LayoutView",
            "align_content": null,
            "align_items": null,
            "align_self": null,
            "border": null,
            "bottom": null,
            "display": null,
            "flex": null,
            "flex_flow": null,
            "grid_area": null,
            "grid_auto_columns": null,
            "grid_auto_flow": null,
            "grid_auto_rows": null,
            "grid_column": null,
            "grid_gap": null,
            "grid_row": null,
            "grid_template_areas": null,
            "grid_template_columns": null,
            "grid_template_rows": null,
            "height": null,
            "justify_content": null,
            "justify_items": null,
            "left": null,
            "margin": null,
            "max_height": null,
            "max_width": null,
            "min_height": null,
            "min_width": null,
            "object_fit": null,
            "object_position": null,
            "order": null,
            "overflow": null,
            "overflow_x": null,
            "overflow_y": null,
            "padding": null,
            "right": null,
            "top": null,
            "visibility": null,
            "width": null
          }
        },
        "953d93cea1df4277a19ebeb590fe42ba": {
          "model_module": "@jupyter-widgets/controls",
          "model_name": "LabelModel",
          "model_module_version": "1.5.0",
          "state": {
            "_dom_classes": [],
            "_model_module": "@jupyter-widgets/controls",
            "_model_module_version": "1.5.0",
            "_model_name": "LabelModel",
            "_view_count": null,
            "_view_module": "@jupyter-widgets/controls",
            "_view_module_version": "1.5.0",
            "_view_name": "LabelView",
            "description": "",
            "description_tooltip": null,
            "layout": "IPY_MODEL_eecc6d09fdf64256bea20ec507ec0bb3",
            "placeholder": "​",
            "style": "IPY_MODEL_aa37a5d7d3604f44afd606bfe02ceb95",
            "value": "Go to question:"
          }
        },
        "3594778ec1b644c180ced8713737e790": {
          "model_module": "@jupyter-widgets/controls",
          "model_name": "IntTextModel",
          "model_module_version": "1.5.0",
          "state": {
            "_dom_classes": [],
            "_model_module": "@jupyter-widgets/controls",
            "_model_module_version": "1.5.0",
            "_model_name": "IntTextModel",
            "_view_count": null,
            "_view_module": "@jupyter-widgets/controls",
            "_view_module_version": "1.5.0",
            "_view_name": "IntTextView",
            "continuous_update": false,
            "description": "",
            "description_tooltip": null,
            "disabled": false,
            "layout": "IPY_MODEL_2ef81944e24b4dd4bc8dfbdb21c1989b",
            "step": 1,
            "style": "IPY_MODEL_f3e627344fd140469f367c06683c5ea4",
            "value": 1
          }
        },
        "3c8e81ae6d584c7e963e1f12c4f457ab": {
          "model_module": "@jupyter-widgets/controls",
          "model_name": "ButtonModel",
          "model_module_version": "1.5.0",
          "state": {
            "_dom_classes": [],
            "_model_module": "@jupyter-widgets/controls",
            "_model_module_version": "1.5.0",
            "_model_name": "ButtonModel",
            "_view_count": null,
            "_view_module": "@jupyter-widgets/controls",
            "_view_module_version": "1.5.0",
            "_view_name": "ButtonView",
            "button_style": "info",
            "description": "Skip to",
            "disabled": false,
            "icon": "",
            "layout": "IPY_MODEL_4c45aa133f284443860e0119feb1e3e1",
            "style": "IPY_MODEL_a3b185883e3041e98afba172069ac3e6",
            "tooltip": ""
          }
        },
        "ec869523f12a4fb9bf24eefc4e974947": {
          "model_module": "@jupyter-widgets/base",
          "model_name": "LayoutModel",
          "model_module_version": "1.2.0",
          "state": {
            "_model_module": "@jupyter-widgets/base",
            "_model_module_version": "1.2.0",
            "_model_name": "LayoutModel",
            "_view_count": null,
            "_view_module": "@jupyter-widgets/base",
            "_view_module_version": "1.2.0",
            "_view_name": "LayoutView",
            "align_content": null,
            "align_items": null,
            "align_self": null,
            "border": null,
            "bottom": null,
            "display": null,
            "flex": null,
            "flex_flow": null,
            "grid_area": null,
            "grid_auto_columns": null,
            "grid_auto_flow": null,
            "grid_auto_rows": null,
            "grid_column": null,
            "grid_gap": null,
            "grid_row": null,
            "grid_template_areas": null,
            "grid_template_columns": null,
            "grid_template_rows": null,
            "height": null,
            "justify_content": null,
            "justify_items": null,
            "left": null,
            "margin": null,
            "max_height": null,
            "max_width": null,
            "min_height": null,
            "min_width": null,
            "object_fit": null,
            "object_position": null,
            "order": null,
            "overflow": null,
            "overflow_x": null,
            "overflow_y": null,
            "padding": null,
            "right": null,
            "top": null,
            "visibility": null,
            "width": null
          }
        },
        "5d07e9d05f50493eb059d84c7e30384a": {
          "model_module": "@jupyter-widgets/base",
          "model_name": "LayoutModel",
          "model_module_version": "1.2.0",
          "state": {
            "_model_module": "@jupyter-widgets/base",
            "_model_module_version": "1.2.0",
            "_model_name": "LayoutModel",
            "_view_count": null,
            "_view_module": "@jupyter-widgets/base",
            "_view_module_version": "1.2.0",
            "_view_name": "LayoutView",
            "align_content": null,
            "align_items": null,
            "align_self": null,
            "border": null,
            "bottom": null,
            "display": null,
            "flex": null,
            "flex_flow": null,
            "grid_area": null,
            "grid_auto_columns": null,
            "grid_auto_flow": null,
            "grid_auto_rows": null,
            "grid_column": null,
            "grid_gap": null,
            "grid_row": null,
            "grid_template_areas": null,
            "grid_template_columns": null,
            "grid_template_rows": null,
            "height": null,
            "justify_content": null,
            "justify_items": null,
            "left": null,
            "margin": null,
            "max_height": null,
            "max_width": null,
            "min_height": null,
            "min_width": null,
            "object_fit": null,
            "object_position": null,
            "order": null,
            "overflow": null,
            "overflow_x": null,
            "overflow_y": null,
            "padding": null,
            "right": null,
            "top": null,
            "visibility": null,
            "width": null
          }
        },
        "cad14171e53240afbc7b4e741b55ed19": {
          "model_module": "@jupyter-widgets/controls",
          "model_name": "DescriptionStyleModel",
          "model_module_version": "1.5.0",
          "state": {
            "_model_module": "@jupyter-widgets/controls",
            "_model_module_version": "1.5.0",
            "_model_name": "DescriptionStyleModel",
            "_view_count": null,
            "_view_module": "@jupyter-widgets/base",
            "_view_module_version": "1.2.0",
            "_view_name": "StyleView",
            "description_width": ""
          }
        },
        "46ce9a1524ee43438f91e2c387614dc4": {
          "model_module": "@jupyter-widgets/controls",
          "model_name": "ButtonModel",
          "model_module_version": "1.5.0",
          "state": {
            "_dom_classes": [],
            "_model_module": "@jupyter-widgets/controls",
            "_model_module_version": "1.5.0",
            "_model_name": "ButtonModel",
            "_view_count": null,
            "_view_module": "@jupyter-widgets/controls",
            "_view_module_version": "1.5.0",
            "_view_name": "ButtonView",
            "button_style": "warning",
            "description": "Try Again",
            "disabled": false,
            "icon": "",
            "layout": "IPY_MODEL_af8d6529cc11446e8ffa588c56b30df6",
            "style": "IPY_MODEL_1041c9e9563b46f3a876908ad45539b8",
            "tooltip": ""
          }
        },
        "9f4eb33407da44c1ad67cc6b53db3df1": {
          "model_module": "@jupyter-widgets/controls",
          "model_name": "ButtonModel",
          "model_module_version": "1.5.0",
          "state": {
            "_dom_classes": [],
            "_model_module": "@jupyter-widgets/controls",
            "_model_module_version": "1.5.0",
            "_model_name": "ButtonModel",
            "_view_count": null,
            "_view_module": "@jupyter-widgets/controls",
            "_view_module_version": "1.5.0",
            "_view_name": "ButtonView",
            "button_style": "info",
            "description": "Next Question",
            "disabled": false,
            "icon": "",
            "layout": "IPY_MODEL_16192dd0370f4dc2b2fb736824c59667",
            "style": "IPY_MODEL_93b3cad01a5a4169b7d58bd63f596c71",
            "tooltip": ""
          }
        },
        "b8892fd2599842949ea21442f7458c38": {
          "model_module": "@jupyter-widgets/base",
          "model_name": "LayoutModel",
          "model_module_version": "1.2.0",
          "state": {
            "_model_module": "@jupyter-widgets/base",
            "_model_module_version": "1.2.0",
            "_model_name": "LayoutModel",
            "_view_count": null,
            "_view_module": "@jupyter-widgets/base",
            "_view_module_version": "1.2.0",
            "_view_name": "LayoutView",
            "align_content": null,
            "align_items": null,
            "align_self": null,
            "border": null,
            "bottom": null,
            "display": null,
            "flex": null,
            "flex_flow": null,
            "grid_area": null,
            "grid_auto_columns": null,
            "grid_auto_flow": null,
            "grid_auto_rows": null,
            "grid_column": null,
            "grid_gap": null,
            "grid_row": null,
            "grid_template_areas": null,
            "grid_template_columns": null,
            "grid_template_rows": null,
            "height": null,
            "justify_content": null,
            "justify_items": null,
            "left": null,
            "margin": null,
            "max_height": null,
            "max_width": null,
            "min_height": null,
            "min_width": null,
            "object_fit": null,
            "object_position": null,
            "order": null,
            "overflow": null,
            "overflow_x": null,
            "overflow_y": null,
            "padding": null,
            "right": null,
            "top": null,
            "visibility": null,
            "width": null
          }
        },
        "fd95ffa2cb9648098c6c65006ff2f629": {
          "model_module": "@jupyter-widgets/base",
          "model_name": "LayoutModel",
          "model_module_version": "1.2.0",
          "state": {
            "_model_module": "@jupyter-widgets/base",
            "_model_module_version": "1.2.0",
            "_model_name": "LayoutModel",
            "_view_count": null,
            "_view_module": "@jupyter-widgets/base",
            "_view_module_version": "1.2.0",
            "_view_name": "LayoutView",
            "align_content": null,
            "align_items": null,
            "align_self": null,
            "border": null,
            "bottom": null,
            "display": null,
            "flex": null,
            "flex_flow": null,
            "grid_area": null,
            "grid_auto_columns": null,
            "grid_auto_flow": null,
            "grid_auto_rows": null,
            "grid_column": null,
            "grid_gap": null,
            "grid_row": null,
            "grid_template_areas": null,
            "grid_template_columns": null,
            "grid_template_rows": null,
            "height": null,
            "justify_content": null,
            "justify_items": null,
            "left": null,
            "margin": null,
            "max_height": null,
            "max_width": null,
            "min_height": null,
            "min_width": null,
            "object_fit": null,
            "object_position": null,
            "order": null,
            "overflow": null,
            "overflow_x": null,
            "overflow_y": null,
            "padding": null,
            "right": null,
            "top": null,
            "visibility": null,
            "width": null
          }
        },
        "7c9de5a891554c198fc30742b34d7a8c": {
          "model_module": "@jupyter-widgets/controls",
          "model_name": "ButtonStyleModel",
          "model_module_version": "1.5.0",
          "state": {
            "_model_module": "@jupyter-widgets/controls",
            "_model_module_version": "1.5.0",
            "_model_name": "ButtonStyleModel",
            "_view_count": null,
            "_view_module": "@jupyter-widgets/base",
            "_view_module_version": "1.2.0",
            "_view_name": "StyleView",
            "button_color": null,
            "font_weight": ""
          }
        },
        "bd2d90c94def41fb9569a813bcd6fc5c": {
          "model_module": "@jupyter-widgets/base",
          "model_name": "LayoutModel",
          "model_module_version": "1.2.0",
          "state": {
            "_model_module": "@jupyter-widgets/base",
            "_model_module_version": "1.2.0",
            "_model_name": "LayoutModel",
            "_view_count": null,
            "_view_module": "@jupyter-widgets/base",
            "_view_module_version": "1.2.0",
            "_view_name": "LayoutView",
            "align_content": null,
            "align_items": null,
            "align_self": null,
            "border": null,
            "bottom": null,
            "display": null,
            "flex": null,
            "flex_flow": null,
            "grid_area": null,
            "grid_auto_columns": null,
            "grid_auto_flow": null,
            "grid_auto_rows": null,
            "grid_column": null,
            "grid_gap": null,
            "grid_row": null,
            "grid_template_areas": null,
            "grid_template_columns": null,
            "grid_template_rows": null,
            "height": null,
            "justify_content": null,
            "justify_items": null,
            "left": null,
            "margin": null,
            "max_height": null,
            "max_width": null,
            "min_height": null,
            "min_width": null,
            "object_fit": null,
            "object_position": null,
            "order": null,
            "overflow": null,
            "overflow_x": null,
            "overflow_y": null,
            "padding": null,
            "right": null,
            "top": null,
            "visibility": null,
            "width": null
          }
        },
        "d92dafbff8fa4cf2baf54e7e8ed0d381": {
          "model_module": "@jupyter-widgets/controls",
          "model_name": "ButtonStyleModel",
          "model_module_version": "1.5.0",
          "state": {
            "_model_module": "@jupyter-widgets/controls",
            "_model_module_version": "1.5.0",
            "_model_name": "ButtonStyleModel",
            "_view_count": null,
            "_view_module": "@jupyter-widgets/base",
            "_view_module_version": "1.2.0",
            "_view_name": "StyleView",
            "button_color": null,
            "font_weight": ""
          }
        },
        "9a4f907bb973493cb7228ac6eaca5f20": {
          "model_module": "@jupyter-widgets/base",
          "model_name": "LayoutModel",
          "model_module_version": "1.2.0",
          "state": {
            "_model_module": "@jupyter-widgets/base",
            "_model_module_version": "1.2.0",
            "_model_name": "LayoutModel",
            "_view_count": null,
            "_view_module": "@jupyter-widgets/base",
            "_view_module_version": "1.2.0",
            "_view_name": "LayoutView",
            "align_content": null,
            "align_items": null,
            "align_self": null,
            "border": null,
            "bottom": null,
            "display": null,
            "flex": null,
            "flex_flow": null,
            "grid_area": null,
            "grid_auto_columns": null,
            "grid_auto_flow": null,
            "grid_auto_rows": null,
            "grid_column": null,
            "grid_gap": null,
            "grid_row": null,
            "grid_template_areas": null,
            "grid_template_columns": null,
            "grid_template_rows": null,
            "height": null,
            "justify_content": null,
            "justify_items": null,
            "left": null,
            "margin": null,
            "max_height": null,
            "max_width": null,
            "min_height": null,
            "min_width": null,
            "object_fit": null,
            "object_position": null,
            "order": null,
            "overflow": null,
            "overflow_x": null,
            "overflow_y": null,
            "padding": null,
            "right": null,
            "top": null,
            "visibility": null,
            "width": null
          }
        },
        "34a3af92bb0c418c811f1d0a00a16ca8": {
          "model_module": "@jupyter-widgets/controls",
          "model_name": "ButtonStyleModel",
          "model_module_version": "1.5.0",
          "state": {
            "_model_module": "@jupyter-widgets/controls",
            "_model_module_version": "1.5.0",
            "_model_name": "ButtonStyleModel",
            "_view_count": null,
            "_view_module": "@jupyter-widgets/base",
            "_view_module_version": "1.2.0",
            "_view_name": "StyleView",
            "button_color": null,
            "font_weight": ""
          }
        },
        "eecc6d09fdf64256bea20ec507ec0bb3": {
          "model_module": "@jupyter-widgets/base",
          "model_name": "LayoutModel",
          "model_module_version": "1.2.0",
          "state": {
            "_model_module": "@jupyter-widgets/base",
            "_model_module_version": "1.2.0",
            "_model_name": "LayoutModel",
            "_view_count": null,
            "_view_module": "@jupyter-widgets/base",
            "_view_module_version": "1.2.0",
            "_view_name": "LayoutView",
            "align_content": null,
            "align_items": null,
            "align_self": null,
            "border": null,
            "bottom": null,
            "display": null,
            "flex": null,
            "flex_flow": null,
            "grid_area": null,
            "grid_auto_columns": null,
            "grid_auto_flow": null,
            "grid_auto_rows": null,
            "grid_column": null,
            "grid_gap": null,
            "grid_row": null,
            "grid_template_areas": null,
            "grid_template_columns": null,
            "grid_template_rows": null,
            "height": null,
            "justify_content": null,
            "justify_items": null,
            "left": null,
            "margin": null,
            "max_height": null,
            "max_width": null,
            "min_height": null,
            "min_width": null,
            "object_fit": null,
            "object_position": null,
            "order": null,
            "overflow": null,
            "overflow_x": null,
            "overflow_y": null,
            "padding": null,
            "right": null,
            "top": null,
            "visibility": null,
            "width": null
          }
        },
        "aa37a5d7d3604f44afd606bfe02ceb95": {
          "model_module": "@jupyter-widgets/controls",
          "model_name": "DescriptionStyleModel",
          "model_module_version": "1.5.0",
          "state": {
            "_model_module": "@jupyter-widgets/controls",
            "_model_module_version": "1.5.0",
            "_model_name": "DescriptionStyleModel",
            "_view_count": null,
            "_view_module": "@jupyter-widgets/base",
            "_view_module_version": "1.2.0",
            "_view_name": "StyleView",
            "description_width": ""
          }
        },
        "2ef81944e24b4dd4bc8dfbdb21c1989b": {
          "model_module": "@jupyter-widgets/base",
          "model_name": "LayoutModel",
          "model_module_version": "1.2.0",
          "state": {
            "_model_module": "@jupyter-widgets/base",
            "_model_module_version": "1.2.0",
            "_model_name": "LayoutModel",
            "_view_count": null,
            "_view_module": "@jupyter-widgets/base",
            "_view_module_version": "1.2.0",
            "_view_name": "LayoutView",
            "align_content": null,
            "align_items": null,
            "align_self": null,
            "border": null,
            "bottom": null,
            "display": null,
            "flex": null,
            "flex_flow": null,
            "grid_area": null,
            "grid_auto_columns": null,
            "grid_auto_flow": null,
            "grid_auto_rows": null,
            "grid_column": null,
            "grid_gap": null,
            "grid_row": null,
            "grid_template_areas": null,
            "grid_template_columns": null,
            "grid_template_rows": null,
            "height": null,
            "justify_content": null,
            "justify_items": null,
            "left": null,
            "margin": null,
            "max_height": null,
            "max_width": null,
            "min_height": null,
            "min_width": null,
            "object_fit": null,
            "object_position": null,
            "order": null,
            "overflow": null,
            "overflow_x": null,
            "overflow_y": null,
            "padding": null,
            "right": null,
            "top": null,
            "visibility": null,
            "width": "60px"
          }
        },
        "f3e627344fd140469f367c06683c5ea4": {
          "model_module": "@jupyter-widgets/controls",
          "model_name": "DescriptionStyleModel",
          "model_module_version": "1.5.0",
          "state": {
            "_model_module": "@jupyter-widgets/controls",
            "_model_module_version": "1.5.0",
            "_model_name": "DescriptionStyleModel",
            "_view_count": null,
            "_view_module": "@jupyter-widgets/base",
            "_view_module_version": "1.2.0",
            "_view_name": "StyleView",
            "description_width": ""
          }
        },
        "4c45aa133f284443860e0119feb1e3e1": {
          "model_module": "@jupyter-widgets/base",
          "model_name": "LayoutModel",
          "model_module_version": "1.2.0",
          "state": {
            "_model_module": "@jupyter-widgets/base",
            "_model_module_version": "1.2.0",
            "_model_name": "LayoutModel",
            "_view_count": null,
            "_view_module": "@jupyter-widgets/base",
            "_view_module_version": "1.2.0",
            "_view_name": "LayoutView",
            "align_content": null,
            "align_items": null,
            "align_self": null,
            "border": null,
            "bottom": null,
            "display": null,
            "flex": null,
            "flex_flow": null,
            "grid_area": null,
            "grid_auto_columns": null,
            "grid_auto_flow": null,
            "grid_auto_rows": null,
            "grid_column": null,
            "grid_gap": null,
            "grid_row": null,
            "grid_template_areas": null,
            "grid_template_columns": null,
            "grid_template_rows": null,
            "height": null,
            "justify_content": null,
            "justify_items": null,
            "left": null,
            "margin": null,
            "max_height": null,
            "max_width": null,
            "min_height": null,
            "min_width": null,
            "object_fit": null,
            "object_position": null,
            "order": null,
            "overflow": null,
            "overflow_x": null,
            "overflow_y": null,
            "padding": null,
            "right": null,
            "top": null,
            "visibility": null,
            "width": null
          }
        },
        "a3b185883e3041e98afba172069ac3e6": {
          "model_module": "@jupyter-widgets/controls",
          "model_name": "ButtonStyleModel",
          "model_module_version": "1.5.0",
          "state": {
            "_model_module": "@jupyter-widgets/controls",
            "_model_module_version": "1.5.0",
            "_model_name": "ButtonStyleModel",
            "_view_count": null,
            "_view_module": "@jupyter-widgets/base",
            "_view_module_version": "1.2.0",
            "_view_name": "StyleView",
            "button_color": null,
            "font_weight": ""
          }
        },
        "af8d6529cc11446e8ffa588c56b30df6": {
          "model_module": "@jupyter-widgets/base",
          "model_name": "LayoutModel",
          "model_module_version": "1.2.0",
          "state": {
            "_model_module": "@jupyter-widgets/base",
            "_model_module_version": "1.2.0",
            "_model_name": "LayoutModel",
            "_view_count": null,
            "_view_module": "@jupyter-widgets/base",
            "_view_module_version": "1.2.0",
            "_view_name": "LayoutView",
            "align_content": null,
            "align_items": null,
            "align_self": null,
            "border": null,
            "bottom": null,
            "display": null,
            "flex": null,
            "flex_flow": null,
            "grid_area": null,
            "grid_auto_columns": null,
            "grid_auto_flow": null,
            "grid_auto_rows": null,
            "grid_column": null,
            "grid_gap": null,
            "grid_row": null,
            "grid_template_areas": null,
            "grid_template_columns": null,
            "grid_template_rows": null,
            "height": null,
            "justify_content": null,
            "justify_items": null,
            "left": null,
            "margin": null,
            "max_height": null,
            "max_width": null,
            "min_height": null,
            "min_width": null,
            "object_fit": null,
            "object_position": null,
            "order": null,
            "overflow": null,
            "overflow_x": null,
            "overflow_y": null,
            "padding": null,
            "right": null,
            "top": null,
            "visibility": null,
            "width": null
          }
        },
        "1041c9e9563b46f3a876908ad45539b8": {
          "model_module": "@jupyter-widgets/controls",
          "model_name": "ButtonStyleModel",
          "model_module_version": "1.5.0",
          "state": {
            "_model_module": "@jupyter-widgets/controls",
            "_model_module_version": "1.5.0",
            "_model_name": "ButtonStyleModel",
            "_view_count": null,
            "_view_module": "@jupyter-widgets/base",
            "_view_module_version": "1.2.0",
            "_view_name": "StyleView",
            "button_color": null,
            "font_weight": ""
          }
        },
        "16192dd0370f4dc2b2fb736824c59667": {
          "model_module": "@jupyter-widgets/base",
          "model_name": "LayoutModel",
          "model_module_version": "1.2.0",
          "state": {
            "_model_module": "@jupyter-widgets/base",
            "_model_module_version": "1.2.0",
            "_model_name": "LayoutModel",
            "_view_count": null,
            "_view_module": "@jupyter-widgets/base",
            "_view_module_version": "1.2.0",
            "_view_name": "LayoutView",
            "align_content": null,
            "align_items": null,
            "align_self": null,
            "border": null,
            "bottom": null,
            "display": null,
            "flex": null,
            "flex_flow": null,
            "grid_area": null,
            "grid_auto_columns": null,
            "grid_auto_flow": null,
            "grid_auto_rows": null,
            "grid_column": null,
            "grid_gap": null,
            "grid_row": null,
            "grid_template_areas": null,
            "grid_template_columns": null,
            "grid_template_rows": null,
            "height": null,
            "justify_content": null,
            "justify_items": null,
            "left": null,
            "margin": null,
            "max_height": null,
            "max_width": null,
            "min_height": null,
            "min_width": null,
            "object_fit": null,
            "object_position": null,
            "order": null,
            "overflow": null,
            "overflow_x": null,
            "overflow_y": null,
            "padding": null,
            "right": null,
            "top": null,
            "visibility": null,
            "width": null
          }
        },
        "93b3cad01a5a4169b7d58bd63f596c71": {
          "model_module": "@jupyter-widgets/controls",
          "model_name": "ButtonStyleModel",
          "model_module_version": "1.5.0",
          "state": {
            "_model_module": "@jupyter-widgets/controls",
            "_model_module_version": "1.5.0",
            "_model_name": "ButtonStyleModel",
            "_view_count": null,
            "_view_module": "@jupyter-widgets/base",
            "_view_module_version": "1.2.0",
            "_view_name": "StyleView",
            "button_color": null,
            "font_weight": ""
          }
        },
        "706ef7fc0c6b4bb7b7ef7a6d7058a0e4": {
          "model_module": "@jupyter-widgets/controls",
          "model_name": "VBoxModel",
          "model_module_version": "1.5.0",
          "state": {
            "_dom_classes": [],
            "_model_module": "@jupyter-widgets/controls",
            "_model_module_version": "1.5.0",
            "_model_name": "VBoxModel",
            "_view_count": null,
            "_view_module": "@jupyter-widgets/controls",
            "_view_module_version": "1.5.0",
            "_view_name": "VBoxView",
            "box_style": "",
            "children": [
              "IPY_MODEL_cd543e8831134d2f976c95a4bd4f1b12",
              "IPY_MODEL_d620b4b9548b42ed907db35de7bd3eb2"
            ],
            "layout": "IPY_MODEL_bb22ee763e51490299da5518dcefea58"
          }
        },
        "cd543e8831134d2f976c95a4bd4f1b12": {
          "model_module": "@jupyter-widgets/controls",
          "model_name": "HTMLModel",
          "model_module_version": "1.5.0",
          "state": {
            "_dom_classes": [],
            "_model_module": "@jupyter-widgets/controls",
            "_model_module_version": "1.5.0",
            "_model_name": "HTMLModel",
            "_view_count": null,
            "_view_module": "@jupyter-widgets/controls",
            "_view_module_version": "1.5.0",
            "_view_name": "HTMLView",
            "description": "",
            "description_tooltip": null,
            "layout": "IPY_MODEL_23f242474b6e4944b2356e95b459e670",
            "placeholder": "​",
            "style": "IPY_MODEL_adaf116defb34a94874323b0fabcad50",
            "value": "\n        <div class='bbs-container'>\n            <div class='title'>Welcome to the Loop of the Recursive Dragon!</div>\n            <div class='section'>\n                Face monsters near your level. Answer questions to deal damage and gain XP. Level up to improve gear and health.\n            </div>\n        </div>\n        "
          }
        },
        "d620b4b9548b42ed907db35de7bd3eb2": {
          "model_module": "@jupyter-widgets/controls",
          "model_name": "ButtonModel",
          "model_module_version": "1.5.0",
          "state": {
            "_dom_classes": [],
            "_model_module": "@jupyter-widgets/controls",
            "_model_module_version": "1.5.0",
            "_model_name": "ButtonModel",
            "_view_count": null,
            "_view_module": "@jupyter-widgets/controls",
            "_view_module_version": "1.5.0",
            "_view_name": "ButtonView",
            "button_style": "success",
            "description": "Start Adventure",
            "disabled": false,
            "icon": "",
            "layout": "IPY_MODEL_27ece0dd0319454d8412c08c09d9ae7c",
            "style": "IPY_MODEL_8f9d1e239541485990e470b20f24e0f3",
            "tooltip": ""
          }
        },
        "bb22ee763e51490299da5518dcefea58": {
          "model_module": "@jupyter-widgets/base",
          "model_name": "LayoutModel",
          "model_module_version": "1.2.0",
          "state": {
            "_model_module": "@jupyter-widgets/base",
            "_model_module_version": "1.2.0",
            "_model_name": "LayoutModel",
            "_view_count": null,
            "_view_module": "@jupyter-widgets/base",
            "_view_module_version": "1.2.0",
            "_view_name": "LayoutView",
            "align_content": null,
            "align_items": null,
            "align_self": null,
            "border": "solid 1px #00ff00",
            "bottom": null,
            "display": null,
            "flex": null,
            "flex_flow": null,
            "grid_area": null,
            "grid_auto_columns": null,
            "grid_auto_flow": null,
            "grid_auto_rows": null,
            "grid_column": null,
            "grid_gap": null,
            "grid_row": null,
            "grid_template_areas": null,
            "grid_template_columns": null,
            "grid_template_rows": null,
            "height": null,
            "justify_content": null,
            "justify_items": null,
            "left": null,
            "margin": null,
            "max_height": null,
            "max_width": null,
            "min_height": null,
            "min_width": null,
            "object_fit": null,
            "object_position": null,
            "order": null,
            "overflow": null,
            "overflow_x": null,
            "overflow_y": null,
            "padding": "20px",
            "right": null,
            "top": null,
            "visibility": null,
            "width": "800px"
          }
        },
        "23f242474b6e4944b2356e95b459e670": {
          "model_module": "@jupyter-widgets/base",
          "model_name": "LayoutModel",
          "model_module_version": "1.2.0",
          "state": {
            "_model_module": "@jupyter-widgets/base",
            "_model_module_version": "1.2.0",
            "_model_name": "LayoutModel",
            "_view_count": null,
            "_view_module": "@jupyter-widgets/base",
            "_view_module_version": "1.2.0",
            "_view_name": "LayoutView",
            "align_content": null,
            "align_items": null,
            "align_self": null,
            "border": null,
            "bottom": null,
            "display": null,
            "flex": null,
            "flex_flow": null,
            "grid_area": null,
            "grid_auto_columns": null,
            "grid_auto_flow": null,
            "grid_auto_rows": null,
            "grid_column": null,
            "grid_gap": null,
            "grid_row": null,
            "grid_template_areas": null,
            "grid_template_columns": null,
            "grid_template_rows": null,
            "height": null,
            "justify_content": null,
            "justify_items": null,
            "left": null,
            "margin": null,
            "max_height": null,
            "max_width": null,
            "min_height": null,
            "min_width": null,
            "object_fit": null,
            "object_position": null,
            "order": null,
            "overflow": null,
            "overflow_x": null,
            "overflow_y": null,
            "padding": null,
            "right": null,
            "top": null,
            "visibility": null,
            "width": null
          }
        },
        "adaf116defb34a94874323b0fabcad50": {
          "model_module": "@jupyter-widgets/controls",
          "model_name": "DescriptionStyleModel",
          "model_module_version": "1.5.0",
          "state": {
            "_model_module": "@jupyter-widgets/controls",
            "_model_module_version": "1.5.0",
            "_model_name": "DescriptionStyleModel",
            "_view_count": null,
            "_view_module": "@jupyter-widgets/base",
            "_view_module_version": "1.2.0",
            "_view_name": "StyleView",
            "description_width": ""
          }
        },
        "27ece0dd0319454d8412c08c09d9ae7c": {
          "model_module": "@jupyter-widgets/base",
          "model_name": "LayoutModel",
          "model_module_version": "1.2.0",
          "state": {
            "_model_module": "@jupyter-widgets/base",
            "_model_module_version": "1.2.0",
            "_model_name": "LayoutModel",
            "_view_count": null,
            "_view_module": "@jupyter-widgets/base",
            "_view_module_version": "1.2.0",
            "_view_name": "LayoutView",
            "align_content": null,
            "align_items": null,
            "align_self": null,
            "border": null,
            "bottom": null,
            "display": null,
            "flex": null,
            "flex_flow": null,
            "grid_area": null,
            "grid_auto_columns": null,
            "grid_auto_flow": null,
            "grid_auto_rows": null,
            "grid_column": null,
            "grid_gap": null,
            "grid_row": null,
            "grid_template_areas": null,
            "grid_template_columns": null,
            "grid_template_rows": null,
            "height": "40px",
            "justify_content": null,
            "justify_items": null,
            "left": null,
            "margin": null,
            "max_height": null,
            "max_width": null,
            "min_height": null,
            "min_width": null,
            "object_fit": null,
            "object_position": null,
            "order": null,
            "overflow": null,
            "overflow_x": null,
            "overflow_y": null,
            "padding": null,
            "right": null,
            "top": null,
            "visibility": null,
            "width": "200px"
          }
        },
        "8f9d1e239541485990e470b20f24e0f3": {
          "model_module": "@jupyter-widgets/controls",
          "model_name": "ButtonStyleModel",
          "model_module_version": "1.5.0",
          "state": {
            "_model_module": "@jupyter-widgets/controls",
            "_model_module_version": "1.5.0",
            "_model_name": "ButtonStyleModel",
            "_view_count": null,
            "_view_module": "@jupyter-widgets/base",
            "_view_module_version": "1.2.0",
            "_view_name": "StyleView",
            "button_color": null,
            "font_weight": ""
          }
        }
      }
    }
  },
  "cells": [
    {
      "cell_type": "markdown",
      "metadata": {
        "id": "view-in-github",
        "colab_type": "text"
      },
      "source": [
        "<a href=\"https://colab.research.google.com/github/brendanpshea/database_sql/blob/main/Database_08_IndexesTransactions.ipynb\" target=\"_parent\"><img src=\"https://colab.research.google.com/assets/colab-badge.svg\" alt=\"Open In Colab\"/></a>"
      ]
    },
    {
      "cell_type": "markdown",
      "source": [
        "# Database Performance: Index, Query Plans, and Transaction Management\n",
        "### Database and SQL Through Pop Culture | Brendan Shea, PhD\n",
        "\n",
        "In this chapter, we will explore the inner workings of SQLite using a dataset from the fictional Gotham National Bank. Our focus will be on understanding how indexes, transactions, and database monitoring can optimize SQLite database performance and ensure smooth operations. We will cover the fundamentals of indexes, demonstrate their impact on query speed and database size, and discuss best practices for implementing them effectively.\n",
        "\n",
        "Additionally, we will delve into the concept of transactions and the crucial role they play in ensuring data integrity and reliability. We will examine the ACID properties that transactions must adhere to and showcase how to work with transactions in SQLite using commands like BEGIN, COMMIT, and ROLLBACK.\n",
        "\n",
        "Furthermore, we will emphasize the importance of database monitoring, reporting, and logging in maintaining the health and performance of SQLite databases. We will explore various monitoring techniques, discuss the types of logs generated, and highlight the tools and practices used by database administrators like ORACLE to keep databases running optimally.\n",
        "\n",
        "Throughout the chapter, we will use practical examples and step-by-step explanations to illustrate how indexes, transactions, and monitoring can be leveraged to build robust and efficient databases. By the end, you should have a solid foundation in these key concepts and be well-equipped to apply them in your own SQLite projects.\n",
        "\n",
        "Learning Outcomes:\n",
        "\n",
        "1.  Understand the purpose and benefits of indexes in SQLite databases\n",
        "2.  Learn how to create indexes and analyze their impact on query performance and database size\n",
        "3.  Recognize situations where creating an index is advantageous and when it may not be necessary\n",
        "4.  Grasp the concept of transactions and their importance in maintaining data integrity and reliability\n",
        "5.  Become familiar with the ACID properties of transactions and their implications for database consistency\n",
        "6.  Learn how to work with transactions in SQLite using BEGIN, COMMIT, ROLLBACK, and SAVEPOINT commands\n",
        "7.  Understand the challenges of concurrent transactions and the role of locking mechanisms in managing simultaneous access to data\n",
        "8.  Appreciate the significance of database monitoring, reporting, and logging in ensuring optimal performance and health of SQLite databases\n",
        "9.  Gain insights into the tools and techniques used by database administrators to monitor and manage databases effectively\n",
        "\n",
        "Keywords: SQLite, indexes, transactions, database monitoring, reporting, logging, query performance, database size, ACID properties, data integrity, reliability, concurrency, locking\n",
        "\n",
        "\n"
      ],
      "metadata": {
        "id": "P8p0DiGl7a6f"
      }
    },
    {
      "cell_type": "markdown",
      "source": [
        "## Brendan's Lecture"
      ],
      "metadata": {
        "id": "PKUOTjqWv8Bb"
      }
    },
    {
      "cell_type": "code",
      "source": [
        "# play youtube video\n",
        "from IPython.display import YouTubeVideo\n",
        "YouTubeVideo('DtqP72S_keA', width=800, height=450)"
      ],
      "metadata": {
        "colab": {
          "base_uri": "https://localhost:8080/",
          "height": 472
        },
        "id": "h6vTiUPrv-h6",
        "outputId": "c32fb968-75fe-4aad-c0e7-f11bf3df605c"
      },
      "execution_count": 1,
      "outputs": [
        {
          "output_type": "execute_result",
          "data": {
            "text/plain": [
              "<IPython.lib.display.YouTubeVideo at 0x7fde5a9f2550>"
            ],
            "text/html": [
              "\n",
              "        <iframe\n",
              "            width=\"800\"\n",
              "            height=\"450\"\n",
              "            src=\"https://www.youtube.com/embed/DtqP72S_keA\"\n",
              "            frameborder=\"0\"\n",
              "            allowfullscreen\n",
              "            \n",
              "        ></iframe>\n",
              "        "
            ],
            "image/jpeg": "[encoded data removed]"
          },
          "metadata": {},
          "execution_count": 1
        }
      ]
    },
    {
      "cell_type": "markdown",
      "source": [
        "## Gotham National Bank Database\n",
        "In this chapter, we'll be exploring the inner workings of **SQLite** using a dataset from the fictional **Gotham National Bank**. Our database, *gotham.db*, contains two tables:\n",
        "\n",
        "1.  **Customers**: Stores customer information like name, address, and contact details.\n",
        "2.  **Accounts**: Holds account-related data such as account type, balance, and creation date, with a foreign key linking to the Customers table.\n",
        "\n",
        "Throughout this chapter, we'll use these tables to understand how **indexes** and **transactions** can optimize our SQLite database performance. We'll cover the fundamentals of indexes, demonstrate their impact on query speed and database size, and discuss best practices for implementing them effectively."
      ],
      "metadata": {
        "id": "OlZDsIe35EiY"
      }
    },
    {
      "cell_type": "code",
      "execution_count": 2,
      "metadata": {
        "id": "qsF2EjFB6Dyf",
        "outputId": "09ec90fe-9688-46a9-e381-f209fec3b2c3",
        "colab": {
          "base_uri": "https://localhost:8080/"
        }
      },
      "outputs": [
        {
          "output_type": "stream",
          "name": "stdout",
          "text": [
            "  Preparing metadata (setup.py) ... \u001b[?25l\u001b[?25hdone\n",
            "  Building wheel for prettytable (setup.py) ... \u001b[?25l\u001b[?25hdone\n"
          ]
        }
      ],
      "source": [
        "!wget https://github.com/brendanpshea/database_sql/raw/main/data/gotham.db -q -nc\n",
        "!pip install prettytable==0.7.2 --force-reinstall -q\n",
        "\n",
        "%reload_ext sql\n",
        "%sql sqlite:///gotham.db\n"
      ]
    },
    {
      "cell_type": "markdown",
      "source": [],
      "metadata": {
        "id": "rc5uIXlz5Nnx"
      }
    },
    {
      "cell_type": "markdown",
      "source": [
        "## Database Schema for Gotham City Bank\n",
        "Here is the database schema."
      ],
      "metadata": {
        "id": "Fy6vnP-_8Nub"
      }
    },
    {
      "cell_type": "code",
      "source": [
        "%%sql\n",
        "-- we are going to turn on \"profiling\" this lesson\n",
        "PRAGMA profile = 1;\n",
        "-- get table schema using sqlite master\n",
        "SELECT sql FROM sqlite_master WHERE type='table';"
      ],
      "metadata": {
        "colab": {
          "base_uri": "https://localhost:8080/",
          "height": 467
        },
        "id": "kx50EYAW6ao7",
        "outputId": "ee0d8713-3190-48f8-f0ee-872442ce4ed7"
      },
      "execution_count": 3,
      "outputs": [
        {
          "output_type": "stream",
          "name": "stdout",
          "text": [
            " * sqlite:///gotham.db\n",
            "Done.\n",
            "Done.\n"
          ]
        },
        {
          "output_type": "execute_result",
          "data": {
            "text/plain": [
              "[('CREATE TABLE Customers (\\n    CustomerID INTEGER PRIMARY KEY AUTOINCREMENT,\\n    FirstName VARCHAR(50) NOT NULL,\\n    LastName VARCHAR(50) NOT NULL,\\ ... (35 characters truncated) ... dress VARCHAR(255),\\n    City VARCHAR(50),\\n    State VARCHAR(50),\\n    ZipCode VARCHAR(10),\\n    PhoneNumber VARCHAR(15),\\n    Email VARCHAR(100)\\n)',),\n",
              " ('CREATE TABLE sqlite_sequence(name,seq)',),\n",
              " ('CREATE TABLE Accounts (\\n    AccountID INTEGER PRIMARY KEY AUTOINCREMENT,\\n    CustomerID INT,\\n    AccountType VARCHAR(20),\\n    Balance DECIMAL(15, 2) DEFAULT 0.00,\\n    CreatedDate DATE,\\n    FOREIGN KEY (CustomerID) REFERENCES Customers(CustomerID)\\n)',)]"
            ],
            "text/html": [
              "<table>\n",
              "    <tr>\n",
              "        <th>sql</th>\n",
              "    </tr>\n",
              "    <tr>\n",
              "        <td>CREATE TABLE Customers (<br>    CustomerID INTEGER PRIMARY KEY AUTOINCREMENT,<br>    FirstName VARCHAR(50) NOT NULL,<br>    LastName VARCHAR(50) NOT NULL,<br>    MiddleInitial CHAR(1),<br>    Address VARCHAR(255),<br>    City VARCHAR(50),<br>    State VARCHAR(50),<br>    ZipCode VARCHAR(10),<br>    PhoneNumber VARCHAR(15),<br>    Email VARCHAR(100)<br>)</td>\n",
              "    </tr>\n",
              "    <tr>\n",
              "        <td>CREATE TABLE sqlite_sequence(name,seq)</td>\n",
              "    </tr>\n",
              "    <tr>\n",
              "        <td>CREATE TABLE Accounts (<br>    AccountID INTEGER PRIMARY KEY AUTOINCREMENT,<br>    CustomerID INT,<br>    AccountType VARCHAR(20),<br>    Balance DECIMAL(15, 2) DEFAULT 0.00,<br>    CreatedDate DATE,<br>    FOREIGN KEY (CustomerID) REFERENCES Customers(CustomerID)<br>)</td>\n",
              "    </tr>\n",
              "</table>"
            ]
          },
          "metadata": {},
          "execution_count": 3
        }
      ]
    },
    {
      "cell_type": "markdown",
      "source": [
        "## A Closer Look at Customers and Accounts\n",
        "Now, let's take a quick look at the head of our table."
      ],
      "metadata": {
        "id": "ps0Bhu1F7sUE"
      }
    },
    {
      "cell_type": "code",
      "source": [
        "%%sql\n",
        "SELECT * FROM Customers LIMIT 5;"
      ],
      "metadata": {
        "colab": {
          "base_uri": "https://localhost:8080/",
          "height": 179
        },
        "id": "u4_M74pe8dsr",
        "outputId": "cc66b151-fc84-4180-effa-9edfe133d945"
      },
      "execution_count": 4,
      "outputs": [
        {
          "output_type": "stream",
          "name": "stdout",
          "text": [
            " * sqlite:///gotham.db\n",
            "Done.\n"
          ]
        },
        {
          "output_type": "execute_result",
          "data": {
            "text/plain": [
              "[(1, 'Bruce', 'Wayne', None, '1007 Mountain Drive', 'Gotham', 'NY', '10001', '123-456-7890', 'bruce.wayne@gothambank.com'),\n",
              " (2, 'Selina', 'Kyle', None, '123 Cat St', 'Blüdhaven', 'NY', '20002', '234-567-8901', 'selina.kyle@gothambank.com'),\n",
              " (3, 'James', 'Gordon', None, '789 Police Plaza', 'Gotham', 'NY', '10003', '345-678-9012', 'james.gordon@gothambank.com'),\n",
              " (4, 'Harvey', 'Dent', None, '456 Lawyer Ave', 'Metropolis', 'NY', '30004', '456-789-0123', 'harvey.dent@gothambank.com'),\n",
              " (5, 'Pamela', 'Isley', None, '369 Botanic St', 'Gotham', 'NY', '10005', '567-890-1234', 'pamela.isley@gothambank.com')]"
            ],
            "text/html": [
              "<table>\n",
              "    <tr>\n",
              "        <th>CustomerID</th>\n",
              "        <th>FirstName</th>\n",
              "        <th>LastName</th>\n",
              "        <th>MiddleInitial</th>\n",
              "        <th>Address</th>\n",
              "        <th>City</th>\n",
              "        <th>State</th>\n",
              "        <th>ZipCode</th>\n",
              "        <th>PhoneNumber</th>\n",
              "        <th>Email</th>\n",
              "    </tr>\n",
              "    <tr>\n",
              "        <td>1</td>\n",
              "        <td>Bruce</td>\n",
              "        <td>Wayne</td>\n",
              "        <td>None</td>\n",
              "        <td>1007 Mountain Drive</td>\n",
              "        <td>Gotham</td>\n",
              "        <td>NY</td>\n",
              "        <td>10001</td>\n",
              "        <td>123-456-7890</td>\n",
              "        <td>bruce.wayne@gothambank.com</td>\n",
              "    </tr>\n",
              "    <tr>\n",
              "        <td>2</td>\n",
              "        <td>Selina</td>\n",
              "        <td>Kyle</td>\n",
              "        <td>None</td>\n",
              "        <td>123 Cat St</td>\n",
              "        <td>Blüdhaven</td>\n",
              "        <td>NY</td>\n",
              "        <td>20002</td>\n",
              "        <td>234-567-8901</td>\n",
              "        <td>selina.kyle@gothambank.com</td>\n",
              "    </tr>\n",
              "    <tr>\n",
              "        <td>3</td>\n",
              "        <td>James</td>\n",
              "        <td>Gordon</td>\n",
              "        <td>None</td>\n",
              "        <td>789 Police Plaza</td>\n",
              "        <td>Gotham</td>\n",
              "        <td>NY</td>\n",
              "        <td>10003</td>\n",
              "        <td>345-678-9012</td>\n",
              "        <td>james.gordon@gothambank.com</td>\n",
              "    </tr>\n",
              "    <tr>\n",
              "        <td>4</td>\n",
              "        <td>Harvey</td>\n",
              "        <td>Dent</td>\n",
              "        <td>None</td>\n",
              "        <td>456 Lawyer Ave</td>\n",
              "        <td>Metropolis</td>\n",
              "        <td>NY</td>\n",
              "        <td>30004</td>\n",
              "        <td>456-789-0123</td>\n",
              "        <td>harvey.dent@gothambank.com</td>\n",
              "    </tr>\n",
              "    <tr>\n",
              "        <td>5</td>\n",
              "        <td>Pamela</td>\n",
              "        <td>Isley</td>\n",
              "        <td>None</td>\n",
              "        <td>369 Botanic St</td>\n",
              "        <td>Gotham</td>\n",
              "        <td>NY</td>\n",
              "        <td>10005</td>\n",
              "        <td>567-890-1234</td>\n",
              "        <td>pamela.isley@gothambank.com</td>\n",
              "    </tr>\n",
              "</table>"
            ]
          },
          "metadata": {},
          "execution_count": 4
        }
      ]
    },
    {
      "cell_type": "code",
      "source": [
        "%%sql\n",
        "SELECT * FROM Accounts LIMIT 5;"
      ],
      "metadata": {
        "colab": {
          "base_uri": "https://localhost:8080/",
          "height": 179
        },
        "id": "Ol8O-SD-8fuB",
        "outputId": "18f85428-e992-48f8-dafd-cff7f8bb51e5"
      },
      "execution_count": 5,
      "outputs": [
        {
          "output_type": "stream",
          "name": "stdout",
          "text": [
            " * sqlite:///gotham.db\n",
            "Done.\n"
          ]
        },
        {
          "output_type": "execute_result",
          "data": {
            "text/plain": [
              "[(1, 1, 'Checking', 15000, '2021-01-10'),\n",
              " (2, 1, 'Savings', 75000, '2021-02-11'),\n",
              " (3, 2, 'Checking', 32000, '2022-03-05'),\n",
              " (4, 3, 'Checking', 86000, '2023-04-15'),\n",
              " (5, 4, 'Checking', 22000, '2024-05-20')]"
            ],
            "text/html": [
              "<table>\n",
              "    <tr>\n",
              "        <th>AccountID</th>\n",
              "        <th>CustomerID</th>\n",
              "        <th>AccountType</th>\n",
              "        <th>Balance</th>\n",
              "        <th>CreatedDate</th>\n",
              "    </tr>\n",
              "    <tr>\n",
              "        <td>1</td>\n",
              "        <td>1</td>\n",
              "        <td>Checking</td>\n",
              "        <td>15000</td>\n",
              "        <td>2021-01-10</td>\n",
              "    </tr>\n",
              "    <tr>\n",
              "        <td>2</td>\n",
              "        <td>1</td>\n",
              "        <td>Savings</td>\n",
              "        <td>75000</td>\n",
              "        <td>2021-02-11</td>\n",
              "    </tr>\n",
              "    <tr>\n",
              "        <td>3</td>\n",
              "        <td>2</td>\n",
              "        <td>Checking</td>\n",
              "        <td>32000</td>\n",
              "        <td>2022-03-05</td>\n",
              "    </tr>\n",
              "    <tr>\n",
              "        <td>4</td>\n",
              "        <td>3</td>\n",
              "        <td>Checking</td>\n",
              "        <td>86000</td>\n",
              "        <td>2023-04-15</td>\n",
              "    </tr>\n",
              "    <tr>\n",
              "        <td>5</td>\n",
              "        <td>4</td>\n",
              "        <td>Checking</td>\n",
              "        <td>22000</td>\n",
              "        <td>2024-05-20</td>\n",
              "    </tr>\n",
              "</table>"
            ]
          },
          "metadata": {},
          "execution_count": 5
        }
      ]
    },
    {
      "cell_type": "markdown",
      "source": [
        "## What are Indexes and How Do I Create Them?\n",
        "\n",
        "If you've ever used a book index to quickly locate a specific topic, you already understand the basic concept of a database **index**. In the context of databases, an index is a separate data structure that allows the database engine to find and retrieve data more efficiently without having to scan the entire table.\n",
        "\n",
        "When you create a table, SQLite (like all versions of SQL) automatically creates a unique index on the **primary key** column(s). However, you can also create additional indexes on other columns to speed up frequently used queries.\n",
        "\n",
        "To create an index in SQL, you use the **CREATE INDEX** statement with the following syntax:\n",
        "\n",
        "```sql\n",
        "CREATE [UNIQUE] INDEX index_name\n",
        "ON table_name (column1 [, column2, ...]);\n",
        "```\n",
        "\n",
        "Here's a breakdown of the components:\n",
        "\n",
        "-   `UNIQUE`: Optional keyword that creates a unique index, ensuring no duplicate values in the indexed column(s).\n",
        "-   `index_name`: The name you want to give your index.\n",
        "-   `table_name`: The name of the table on which you're creating the index.\n",
        "-   `column1, column2, ...`: The column(s) to be indexed. You can index multiple columns by separating them with commas.\n",
        "\n",
        "For example, let's say we want to create an index on the *LastName* column of our *Customers* table:!"
      ],
      "metadata": {
        "id": "cwWgv-hn7Ihb"
      }
    },
    {
      "cell_type": "code",
      "source": [
        "%%sql\n",
        "DROP INDEX IF EXISTS idx_customers_lastname;\n",
        "CREATE INDEX idx_customers_lastname\n",
        "ON Customers (LastName);"
      ],
      "metadata": {
        "colab": {
          "base_uri": "https://localhost:8080/"
        },
        "id": "VWB_i0vg89Vo",
        "outputId": "d82e89a7-3443-4aee-de16-b3dc4b8c0ac1"
      },
      "execution_count": 6,
      "outputs": [
        {
          "output_type": "stream",
          "name": "stdout",
          "text": [
            " * sqlite:///gotham.db\n",
            "Done.\n",
            "Done.\n"
          ]
        },
        {
          "output_type": "execute_result",
          "data": {
            "text/plain": [
              "[]"
            ]
          },
          "metadata": {},
          "execution_count": 6
        }
      ]
    },
    {
      "cell_type": "markdown",
      "source": [
        "This statement creates an index named idx_customer_lastname on the LastName column, allowing for faster searches based on customer last names. This will allow us to search customers by their last name more quickly.\n",
        "\n",
        "SQLite supports several types of indexes, including **unique indexes**, which ensure that the indexed column(s) contain no duplicate values, and partial indexes, which only index a subset of rows based on a specified condition.\n",
        "\n",
        "By default, SQLite (like other RDBMSs) creates a **clustered index** for the primary key of every table, without you needing to do anything. This means that items are physically \"clustered together\" on disk (so, a record with id=1 is next to the record with id=2). THe `CREATE INDEX` command creates what is a called a **non-clustered** index, meaning that the indexes records that are NOT physically next to each other. (We'll see more on how this works later). There can be only one clustered index per table, but any number of non-clustered indexes.\n",
        "\n",
        "Creating appropriate indexes is crucial for optimizing database performance, but how do they actually impact query speed? In the next section, we'll explore the power of indexes in action using the EXPLAIN QUERY PLAN command and some practical examples from our Gotham City dataset."
      ],
      "metadata": {
        "id": "z0rumVik9GtV"
      }
    },
    {
      "cell_type": "markdown",
      "source": [
        "## How Indexes Impact Speed\n",
        "\n",
        "To understand the impact of indexes on query speed, we'll use the **EXPLAIN QUERY PLAN** command. This command provides insight into how SQLite executes a query, including which indexes (if any) are being used.\n",
        "\n",
        "Let's start with an example query on our *Accounts* table that gets customers with higher than average balances"
      ],
      "metadata": {
        "id": "bVpTi1eC9UKh"
      }
    },
    {
      "cell_type": "code",
      "source": [
        "%%sql\n",
        "SELECT * FROM Accounts\n",
        "WHERE Balance > (SELECT AVG(Balance) FROM Accounts)\n",
        "ORDER BY Balance DESC\n",
        "LIMIT 5;"
      ],
      "metadata": {
        "colab": {
          "base_uri": "https://localhost:8080/",
          "height": 179
        },
        "id": "kFFBXZs3C5i5",
        "outputId": "18f24c0f-89b8-41c0-cc1b-d3b0f22f895e"
      },
      "execution_count": 7,
      "outputs": [
        {
          "output_type": "stream",
          "name": "stdout",
          "text": [
            " * sqlite:///gotham.db\n",
            "Done.\n"
          ]
        },
        {
          "output_type": "execute_result",
          "data": {
            "text/plain": [
              "[(8136, 7952, 'Savings', 92802.15340000001, '2003-01-18'),\n",
              " (3401, 4699, 'Savings', 91534.3495, '2015-03-25'),\n",
              " (304, 277, 'Savings', 91283.00280000002, '2021-05-08'),\n",
              " (10, 8, 'Checking', 91000, '2024-10-10'),\n",
              " (5953, 5751, 'Savings', 90689.35260000001, '2013-12-29')]"
            ],
            "text/html": [
              "<table>\n",
              "    <tr>\n",
              "        <th>AccountID</th>\n",
              "        <th>CustomerID</th>\n",
              "        <th>AccountType</th>\n",
              "        <th>Balance</th>\n",
              "        <th>CreatedDate</th>\n",
              "    </tr>\n",
              "    <tr>\n",
              "        <td>8136</td>\n",
              "        <td>7952</td>\n",
              "        <td>Savings</td>\n",
              "        <td>92802.15340000001</td>\n",
              "        <td>2003-01-18</td>\n",
              "    </tr>\n",
              "    <tr>\n",
              "        <td>3401</td>\n",
              "        <td>4699</td>\n",
              "        <td>Savings</td>\n",
              "        <td>91534.3495</td>\n",
              "        <td>2015-03-25</td>\n",
              "    </tr>\n",
              "    <tr>\n",
              "        <td>304</td>\n",
              "        <td>277</td>\n",
              "        <td>Savings</td>\n",
              "        <td>91283.00280000002</td>\n",
              "        <td>2021-05-08</td>\n",
              "    </tr>\n",
              "    <tr>\n",
              "        <td>10</td>\n",
              "        <td>8</td>\n",
              "        <td>Checking</td>\n",
              "        <td>91000</td>\n",
              "        <td>2024-10-10</td>\n",
              "    </tr>\n",
              "    <tr>\n",
              "        <td>5953</td>\n",
              "        <td>5751</td>\n",
              "        <td>Savings</td>\n",
              "        <td>90689.35260000001</td>\n",
              "        <td>2013-12-29</td>\n",
              "    </tr>\n",
              "</table>"
            ]
          },
          "metadata": {},
          "execution_count": 7
        }
      ]
    },
    {
      "cell_type": "markdown",
      "source": [
        "Now, let's see what the \"query plan\" is for this:"
      ],
      "metadata": {
        "id": "VdGfHJDTDfCO"
      }
    },
    {
      "cell_type": "code",
      "source": [
        "%%sql\n",
        "DROP INDEX IF EXISTS idx_accounts_balance;\n",
        "\n",
        "EXPLAIN QUERY PLAN\n",
        "SELECT * FROM Accounts\n",
        "WHERE Balance > (SELECT AVG(Balance) FROM Accounts)\n",
        "ORDER BY Balance DESC;"
      ],
      "metadata": {
        "colab": {
          "base_uri": "https://localhost:8080/",
          "height": 175
        },
        "id": "Bdi_nxgZ9lwk",
        "outputId": "d44def35-e6af-4740-ab93-b20de33cfe6c"
      },
      "execution_count": 8,
      "outputs": [
        {
          "output_type": "stream",
          "name": "stdout",
          "text": [
            " * sqlite:///gotham.db\n",
            "Done.\n",
            "Done.\n"
          ]
        },
        {
          "output_type": "execute_result",
          "data": {
            "text/plain": [
              "[(3, 0, 0, 'SCAN Accounts'),\n",
              " (8, 0, 0, 'SCALAR SUBQUERY 1'),\n",
              " (13, 8, 0, 'SCAN Accounts'),\n",
              " (31, 0, 0, 'USE TEMP B-TREE FOR ORDER BY')]"
            ],
            "text/html": [
              "<table>\n",
              "    <tr>\n",
              "        <th>id</th>\n",
              "        <th>parent</th>\n",
              "        <th>notused</th>\n",
              "        <th>detail</th>\n",
              "    </tr>\n",
              "    <tr>\n",
              "        <td>3</td>\n",
              "        <td>0</td>\n",
              "        <td>0</td>\n",
              "        <td>SCAN Accounts</td>\n",
              "    </tr>\n",
              "    <tr>\n",
              "        <td>8</td>\n",
              "        <td>0</td>\n",
              "        <td>0</td>\n",
              "        <td>SCALAR SUBQUERY 1</td>\n",
              "    </tr>\n",
              "    <tr>\n",
              "        <td>13</td>\n",
              "        <td>8</td>\n",
              "        <td>0</td>\n",
              "        <td>SCAN Accounts</td>\n",
              "    </tr>\n",
              "    <tr>\n",
              "        <td>31</td>\n",
              "        <td>0</td>\n",
              "        <td>0</td>\n",
              "        <td>USE TEMP B-TREE FOR ORDER BY</td>\n",
              "    </tr>\n",
              "</table>"
            ]
          },
          "metadata": {},
          "execution_count": 8
        }
      ]
    },
    {
      "cell_type": "markdown",
      "source": [
        "If you look at the query plan here, you'll notice a few key terms that pop out:\n",
        "\n",
        "-   **Full Table Scan**: A full table scan occurs when SQLite reads every row in a table to find the data that matches the query conditions. In this case, `SCAN Accounts` indicates that SQLite is performing a full table scan on the *Accounts* table. Full table scans can be inefficient, especially for large tables, as they require reading and checking every single row. This will change when we create an index.\n",
        "-   **Scalar Subquery**: A scalar subquery is a subquery that returns a single value. In this example, `SCALAR SUBQUERY 1` refers to the subquery `(SELECT AVG(Balance) FROM Accounts)`, which calculates the average balance of all accounts. The result of this subquery is used in the main query's WHERE clause.\n",
        "-   **Temporary B-Tree**: In this case, `USE TEMP B-TREE FOR ORDER BY` indicates that SQLite is using a temporary B-tree data structure to sort the result set in descending order by the *Balance* column. We'll dive deeper into B-trees in a future section."
      ],
      "metadata": {
        "id": "BHy58HwN-TYU"
      }
    },
    {
      "cell_type": "markdown",
      "source": [
        "### Impact of Indexes\n",
        "\n",
        "If an index were created on the `Balance` column, the query execution plan would likely be different. For example, with an index on `Balance`, the execution plan might show an **index search** instead of a full table scan, resulting in faster query execution times.\n",
        "\n",
        "To create an index on the `Balance` column, you could use the following command:"
      ],
      "metadata": {
        "id": "vKvSgWmD-hSI"
      }
    },
    {
      "cell_type": "code",
      "source": [
        "%%sql\n",
        "CREATE INDEX idx_accounts_balance\n",
        "ON Accounts (Balance);"
      ],
      "metadata": {
        "colab": {
          "base_uri": "https://localhost:8080/"
        },
        "id": "c8bqlxQa-gsh",
        "outputId": "a61765cc-252d-4d80-e49b-f420b4c961ca"
      },
      "execution_count": 9,
      "outputs": [
        {
          "output_type": "stream",
          "name": "stdout",
          "text": [
            " * sqlite:///gotham.db\n",
            "Done.\n"
          ]
        },
        {
          "output_type": "execute_result",
          "data": {
            "text/plain": [
              "[]"
            ]
          },
          "metadata": {},
          "execution_count": 9
        }
      ]
    },
    {
      "cell_type": "markdown",
      "source": [
        "Now, let's see what happens to our query plan:"
      ],
      "metadata": {
        "id": "k1IidaNe-l7g"
      }
    },
    {
      "cell_type": "code",
      "source": [
        "%%sql\n",
        "EXPLAIN QUERY PLAN\n",
        "SELECT * FROM Accounts\n",
        "WHERE Balance > (SELECT AVG(Balance) FROM Accounts)\n",
        "ORDER BY Balance DESC;"
      ],
      "metadata": {
        "colab": {
          "base_uri": "https://localhost:8080/",
          "height": 137
        },
        "id": "dQq1f2P8-lJm",
        "outputId": "2d993dd3-25a1-4656-99e4-1795c0208266"
      },
      "execution_count": 10,
      "outputs": [
        {
          "output_type": "stream",
          "name": "stdout",
          "text": [
            " * sqlite:///gotham.db\n",
            "Done.\n"
          ]
        },
        {
          "output_type": "execute_result",
          "data": {
            "text/plain": [
              "[(4, 0, 0, 'SEARCH Accounts USING INDEX idx_accounts_balance (Balance>?)'),\n",
              " (8, 0, 0, 'SCALAR SUBQUERY 1'),\n",
              " (13, 8, 0, 'SCAN Accounts USING COVERING INDEX idx_accounts_balance')]"
            ],
            "text/html": [
              "<table>\n",
              "    <tr>\n",
              "        <th>id</th>\n",
              "        <th>parent</th>\n",
              "        <th>notused</th>\n",
              "        <th>detail</th>\n",
              "    </tr>\n",
              "    <tr>\n",
              "        <td>4</td>\n",
              "        <td>0</td>\n",
              "        <td>0</td>\n",
              "        <td>SEARCH Accounts USING INDEX idx_accounts_balance (Balance&gt;?)</td>\n",
              "    </tr>\n",
              "    <tr>\n",
              "        <td>8</td>\n",
              "        <td>0</td>\n",
              "        <td>0</td>\n",
              "        <td>SCALAR SUBQUERY 1</td>\n",
              "    </tr>\n",
              "    <tr>\n",
              "        <td>13</td>\n",
              "        <td>8</td>\n",
              "        <td>0</td>\n",
              "        <td>SCAN Accounts USING COVERING INDEX idx_accounts_balance</td>\n",
              "    </tr>\n",
              "</table>"
            ]
          },
          "metadata": {},
          "execution_count": 10
        }
      ]
    },
    {
      "cell_type": "markdown",
      "source": [
        "SQLite now uses the idx_account_balance index to search for matching rows, resulting in a more efficient query execution. Instead of scanning the entire table, it can quickly locate the relevant rows using the index.\n",
        "\n",
        "Some new terms you'll notice:\n",
        "\n",
        "1.  **Index Scan**: An index scan is a type of table access that uses an index to locate the required data. In this example, `SEARCH Accounts USING INDEX idx_accounts_balance (Balance>?)` means that SQLite is using the *idx_accounts_balance* index to find rows where the *Balance* is greater than the result of the scalar subquery.\n",
        "2.  **Covering Index**: A covering index is an index that contains all the columns required to satisfy a query, eliminating the need for additional table lookups. In the updated plan, `SCAN Accounts USING COVERING INDEX idx_accounts_balance` indicates that the *idx_accounts_balance* index is a covering index for the subquery. This means that all the data needed to calculate the average balance is available within the index itself, making the query more efficient.\n"
      ],
      "metadata": {
        "id": "yZnmhKLV-1Nq"
      }
    },
    {
      "cell_type": "markdown",
      "source": [
        "## Timing Our Queries\n",
        "To further demonstrate the performance impact, let's measure the execution time of our query with and without the index. We'll be using Colab's builtin **timeit** function, which will run this query many times, and give us the average runninng time. This helps miminize the role of chance in evaluating query performance based on a single case."
      ],
      "metadata": {
        "id": "1lHtyz8eIAoa"
      }
    },
    {
      "cell_type": "code",
      "source": [
        "%%sql\n",
        "-- to start, drop the index\n",
        "DROP INDEX idx_accounts_balance;"
      ],
      "metadata": {
        "colab": {
          "base_uri": "https://localhost:8080/"
        },
        "id": "kZu5-Ev0-9i_",
        "outputId": "32d03cee-544f-466b-ab06-d82a8f72e975"
      },
      "execution_count": 11,
      "outputs": [
        {
          "output_type": "stream",
          "name": "stdout",
          "text": [
            " * sqlite:///gotham.db\n",
            "Done.\n"
          ]
        },
        {
          "output_type": "execute_result",
          "data": {
            "text/plain": [
              "[]"
            ]
          },
          "metadata": {},
          "execution_count": 11
        }
      ]
    },
    {
      "cell_type": "code",
      "source": [
        "%%timeit -n 1\n",
        "%%sql\n",
        "-- This will run this query many times\n",
        "SELECT * FROM Accounts\n",
        "WHERE Balance > (SELECT AVG(Balance) FROM Accounts)\n",
        "ORDER BY Balance DESC;"
      ],
      "metadata": {
        "colab": {
          "base_uri": "https://localhost:8080/"
        },
        "id": "_Cj6twxX_Hfb",
        "outputId": "1c1c5364-909c-46ec-c409-f6c443c28965"
      },
      "execution_count": 12,
      "outputs": [
        {
          "output_type": "stream",
          "name": "stdout",
          "text": [
            " * sqlite:///gotham.db\n",
            "Done.\n",
            " * sqlite:///gotham.db\n",
            "Done.\n",
            " * sqlite:///gotham.db\n",
            "Done.\n",
            " * sqlite:///gotham.db\n",
            "Done.\n",
            " * sqlite:///gotham.db\n",
            "Done.\n",
            " * sqlite:///gotham.db\n",
            "Done.\n",
            " * sqlite:///gotham.db\n",
            "Done.\n",
            "34.2 ms ± 6.2 ms per loop (mean ± std. dev. of 7 runs, 1 loop each)\n"
          ]
        }
      ]
    },
    {
      "cell_type": "code",
      "source": [
        "%%sql\n",
        "-- Recreate our index\n",
        "CREATE INDEX idx_accounts_balance\n",
        "ON Accounts (Balance);"
      ],
      "metadata": {
        "colab": {
          "base_uri": "https://localhost:8080/"
        },
        "id": "SY7mkE6O_rlc",
        "outputId": "8cf61465-83c2-41bb-c9cd-6b8c2c8bd209"
      },
      "execution_count": 13,
      "outputs": [
        {
          "output_type": "stream",
          "name": "stdout",
          "text": [
            " * sqlite:///gotham.db\n",
            "Done.\n"
          ]
        },
        {
          "output_type": "execute_result",
          "data": {
            "text/plain": [
              "[]"
            ]
          },
          "metadata": {},
          "execution_count": 13
        }
      ]
    },
    {
      "cell_type": "code",
      "source": [
        "%%timeit -n 1\n",
        "%%sql\n",
        "-- Now run the query with the index\n",
        "SELECT * FROM Accounts\n",
        "WHERE Balance > 25000 AND  Balance < 50000;"
      ],
      "metadata": {
        "colab": {
          "base_uri": "https://localhost:8080/"
        },
        "id": "DBa4gnRA_31L",
        "outputId": "cb61ec90-b5c3-44f1-8084-fcfde52cfac8"
      },
      "execution_count": 14,
      "outputs": [
        {
          "output_type": "stream",
          "name": "stdout",
          "text": [
            " * sqlite:///gotham.db\n",
            "Done.\n",
            " * sqlite:///gotham.db\n",
            "Done.\n",
            " * sqlite:///gotham.db\n",
            "Done.\n",
            " * sqlite:///gotham.db\n",
            "Done.\n",
            " * sqlite:///gotham.db\n",
            "Done.\n",
            " * sqlite:///gotham.db\n",
            "Done.\n",
            " * sqlite:///gotham.db\n",
            "Done.\n",
            "29.6 ms ± 4.87 ms per loop (mean ± std. dev. of 7 runs, 1 loop each)\n"
          ]
        }
      ]
    },
    {
      "cell_type": "markdown",
      "source": [
        "While the specific results you get will vary each time you run the test, you should find that (on average) the index scan runs a bit faster than the full table scan. (The differences in speed will be much more pronounced with large data sets)."
      ],
      "metadata": {
        "id": "HGWbpHNzIfpA"
      }
    },
    {
      "cell_type": "markdown",
      "source": [
        "## How Indexes Impact Storage\n",
        "Now that we've seen how indexes can significantly improve query performance, let's explore how they impact database storage. To understand this, we first need to discuss how SQLite (and many other databases) store data using a data structure called a B-tree.\n",
        "\n",
        "### B-trees: The Backbone of Database Storage\n",
        "\n",
        "A B-tree is a self-balancing tree data structure that maintains sorted data and allows for efficient insertion, deletion, and search operations. B-trees are particularly well-suited for databases because they optimize disk I/O operations, which is crucial when dealing with large amounts of data that cannot fit entirely in memory.\n",
        "\n",
        "In a B-tree, each node contains multiple keys and pointers to child nodes. The keys within a node are kept in sorted order, and each key is associated with two pointers:\n",
        "\n",
        "1.  A pointer to the child node containing keys less than the current key.\n",
        "2.  A pointer to the child node containing keys greater than or equal to the current key.\n",
        "\n",
        "This structure allows for quick traversal and search operations, as the database can navigate the tree by comparing the desired key with the keys in each node and following the appropriate pointers.\n",
        "\n",
        "### How SQLite Uses B-trees\n",
        "\n",
        "SQLite uses B-trees to store both tables and indexes. When you create a table, SQLite creates a B-tree where each node contains one or more rows of data. The rows within a node are sorted by the primary key, enabling efficient lookups and range queries.\n",
        "\n",
        "For example, let's consider a simplified representation of the *Accounts* table:\n",
        "\n",
        "```\n",
        "AccountID | CustomerID | Balance\n",
        "1         | 1          | 10000\n",
        "2         | 1          | 5000\n",
        "3         | 2          | 7500\n",
        "4         | 3          | 12000`\n",
        "```\n",
        "\n",
        "In the table's B-tree, the rows would be stored in nodes, sorted by the primary key (AccountID):\n",
        "\n",
        "```\n",
        "Node 1: (1, 1, 10000) | (2, 1, 5000)\n",
        "Node 2: (3, 2, 7500)  | (4, 3, 12000)\n",
        "```\n",
        "\n",
        "When you create an index on a column, SQLite generates a separate B-tree specifically for that index. The index B-tree stores the indexed column's values along with pointers to the corresponding rows in the table's B-tree.\n",
        "\n",
        "Let's say we create an index on the *Balance* column. Then the *idx_accounts_balance* index B-tree would store the *Balance* values in sorted order, along with pointers to the corresponding rows in the *Accounts* table's B-tree:\n",
        "\n",
        "```sql\n",
        "Node 1: (5000, pointer to row 2) | (7500, pointer to row 3)\n",
        "Node 2: (10000, pointer to row 1) | (12000, pointer to row 4)\n",
        "```\n",
        "\n",
        "When you query the table using the indexed column, SQLite can quickly traverse the index B-tree to find the matching values and then follow the pointers to retrieve the full row data from the table's B-tree.\n",
        "\n",
        "By using B-trees for both tables and indexes, SQLite ensures efficient data storage and retrieval, even for large datasets. However, it's important to keep in mind that creating indexes also requires additional storage space, as each index maintains its own B-tree structure.\n"
      ],
      "metadata": {
        "id": "2x6r4wNZJ2Hz"
      }
    },
    {
      "cell_type": "markdown",
      "source": [
        "### Graphic: B-Trees\n",
        "Here's what our B-tree for our original table might look like:\n"
      ],
      "metadata": {
        "id": "xEt2fbfSLkvV"
      }
    },
    {
      "cell_type": "code",
      "source": [
        "# @title\n",
        "import base64\n",
        "from IPython.display import Image, display, HTML\n",
        "\n",
        "def mm(graph):\n",
        "    graphbytes = graph.encode(\"utf8\")\n",
        "    base64_bytes = base64.b64encode(graphbytes)\n",
        "    base64_string = base64_bytes.decode(\"ascii\")\n",
        "    display(Image(url=\"https://mermaid.ink/img/\" + base64_string))\n",
        "\n",
        "\n",
        "mm(\"\"\"\n",
        "graph TB\n",
        "  subgraph Accounts Table B-tree - sorting by id\n",
        "    N1((Node 1)) <--> |pointer to next/previous node| N2((Node 2))\n",
        "    N1 --- |contains| A1[AccountID - key: 1<br>CustomerID: 1<br>Balance: 10000]\n",
        "    N1 --- |contains| A2[AccountID - key: 2<br>CustomerID: 1<br>Balance: 5000]\n",
        "    N2 --- |contains| A3[AccountID - key: 3<br>CustomerID: 2<br>Balance: 7500]\n",
        "    N2 --- |contains| A4[AccountID - key: 4<br>CustomerID: 3<br>Balance: 12000]\n",
        "  end\n",
        "\"\"\")"
      ],
      "metadata": {
        "colab": {
          "base_uri": "https://localhost:8080/",
          "height": 572
        },
        "id": "2qECvrr-IpTc",
        "outputId": "61342e5f-58fe-4b7b-91f3-4baa4e0ee76d",
        "cellView": "form"
      },
      "execution_count": 15,
      "outputs": [
        {
          "output_type": "display_data",
          "data": {
            "text/html": [
              "<img src=\"https://mermaid.ink/img/CmdyYXBoIFRCCiAgc3ViZ3JhcGggQWNjb3VudHMgVGFibGUgQi10cmVlIC0gc29ydGluZyBieSBpZAogICAgTjEoKE5vZGUgMSkpIDwtLT4gfHBvaW50ZXIgdG8gbmV4dC9wcmV2aW91cyBub2RlfCBOMigoTm9kZSAyKSkKICAgIE4xIC0tLSB8Y29udGFpbnN8IEExW0FjY291bnRJRCAtIGtleTogMTxicj5DdXN0b21lcklEOiAxPGJyPkJhbGFuY2U6IDEwMDAwXQogICAgTjEgLS0tIHxjb250YWluc3wgQTJbQWNjb3VudElEIC0ga2V5OiAyPGJyPkN1c3RvbWVySUQ6IDE8YnI+QmFsYW5jZTogNTAwMF0KICAgIE4yIC0tLSB8Y29udGFpbnN8IEEzW0FjY291bnRJRCAtIGtleTogMzxicj5DdXN0b21lcklEOiAyPGJyPkJhbGFuY2U6IDc1MDBdCiAgICBOMiAtLS0gfGNvbnRhaW5zfCBBNFtBY2NvdW50SUQgLSBrZXk6IDQ8YnI+Q3VzdG9tZXJJRDogMzxicj5CYWxhbmNlOiAxMjAwMF0KICBlbmQK\"/>"
            ],
            "text/plain": [
              "<IPython.core.display.Image object>"
            ]
          },
          "metadata": {}
        }
      ]
    },
    {
      "cell_type": "markdown",
      "source": [
        "And here's what the B-tree for the index might look like:"
      ],
      "metadata": {
        "id": "mCnKWYRjPhM9"
      }
    },
    {
      "cell_type": "code",
      "source": [
        "# @title\n",
        "mm(\"\"\"\n",
        "graph TB\n",
        "  subgraph Balance Index B-tree - sorting by balance\n",
        "    IN1((Node 1)) <--> | points to next/previous node | IN2((Node 2))\n",
        "    IN1 --- |contains| IA2[Balance - key: 5000<br>Pointer to Account 2]\n",
        "    IN1 --- |contains| IA3[Balance - key: 7500<br>Pointer to Account 3]\n",
        "    IN2 --- |contains| IA1[Balance - key: 10000<br>Pointer to Account 1]\n",
        "    IN2 --- |contains| IA4[Balance - key: 12000<br>Pointer to Account 4]\n",
        "  end\n",
        "\"\"\"\n",
        ")"
      ],
      "metadata": {
        "colab": {
          "base_uri": "https://localhost:8080/",
          "height": 500
        },
        "id": "djEJaH77NyuS",
        "outputId": "168b9fa6-40c4-478b-8c3e-87bcf800385c",
        "cellView": "form"
      },
      "execution_count": 16,
      "outputs": [
        {
          "output_type": "display_data",
          "data": {
            "text/html": [
              "<img src=\"https://mermaid.ink/img/CmdyYXBoIFRCCiAgc3ViZ3JhcGggQmFsYW5jZSBJbmRleCBCLXRyZWUgLSBzb3J0aW5nIGJ5IGJhbGFuY2UKICAgIElOMSgoTm9kZSAxKSkgPC0tPiB8IHBvaW50cyB0byBuZXh0L3ByZXZpb3VzIG5vZGUgfCBJTjIoKE5vZGUgMikpCiAgICBJTjEgLS0tIHxjb250YWluc3wgSUEyW0JhbGFuY2UgLSBrZXk6IDUwMDA8YnI+UG9pbnRlciB0byBBY2NvdW50IDJdCiAgICBJTjEgLS0tIHxjb250YWluc3wgSUEzW0JhbGFuY2UgLSBrZXk6IDc1MDA8YnI+UG9pbnRlciB0byBBY2NvdW50IDNdCiAgICBJTjIgLS0tIHxjb250YWluc3wgSUExW0JhbGFuY2UgLSBrZXk6IDEwMDAwPGJyPlBvaW50ZXIgdG8gQWNjb3VudCAxXQogICAgSU4yIC0tLSB8Y29udGFpbnN8IElBNFtCYWxhbmNlIC0ga2V5OiAxMjAwMDxicj5Qb2ludGVyIHRvIEFjY291bnQgNF0KICBlbmQK\"/>"
            ],
            "text/plain": [
              "<IPython.core.display.Image object>"
            ]
          },
          "metadata": {}
        }
      ]
    },
    {
      "cell_type": "markdown",
      "source": [
        "### Checking File Size\n",
        "Because indexes require the construction of new B-trees, they require additional disk space. We can  check the file size (using Windows, Linux, etc.). Let's first first check the size our database:"
      ],
      "metadata": {
        "id": "Yu3uUArmpe4b"
      }
    },
    {
      "cell_type": "code",
      "source": [
        "# In ubuntu du gives file size\n",
        "!du -h gotham.db"
      ],
      "metadata": {
        "colab": {
          "base_uri": "https://localhost:8080/"
        },
        "id": "UoqlNmixNzqX",
        "outputId": "c210319e-b9f8-4c83-fd4e-31ea32521bc1"
      },
      "execution_count": 17,
      "outputs": [
        {
          "output_type": "stream",
          "name": "stdout",
          "text": [
            "1.9M\tgotham.db\n"
          ]
        }
      ]
    },
    {
      "cell_type": "markdown",
      "source": [
        "Now, let's see what happens when we an index."
      ],
      "metadata": {
        "id": "a0PTDDWiqHLw"
      }
    },
    {
      "cell_type": "code",
      "source": [
        "%%sql\n",
        "DROP INDEX IF EXISTS idx_accounts_balance;\n",
        "-- create an index based on first name, last name, phone\n",
        "CREATE INDEX idx_customers_first_last_phone\n",
        "ON Customers (FirstName, LastName, PhoneNumber);"
      ],
      "metadata": {
        "colab": {
          "base_uri": "https://localhost:8080/"
        },
        "id": "D0v_6dzrqLus",
        "outputId": "32f601b7-3765-48c1-c570-915e4c9c5680"
      },
      "execution_count": 18,
      "outputs": [
        {
          "output_type": "stream",
          "name": "stdout",
          "text": [
            " * sqlite:///gotham.db\n",
            "Done.\n",
            "Done.\n"
          ]
        },
        {
          "output_type": "execute_result",
          "data": {
            "text/plain": [
              "[]"
            ]
          },
          "metadata": {},
          "execution_count": 18
        }
      ]
    },
    {
      "cell_type": "code",
      "source": [
        "# Now, we can check the size again\n",
        "!du -h gotham.db"
      ],
      "metadata": {
        "colab": {
          "base_uri": "https://localhost:8080/"
        },
        "id": "BADn2cB2rQdH",
        "outputId": "2387f99c-f7e4-4ba2-d51b-4af16b6572c0"
      },
      "execution_count": 19,
      "outputs": [
        {
          "output_type": "stream",
          "name": "stdout",
          "text": [
            "2.0M\tgotham.db\n"
          ]
        }
      ]
    },
    {
      "cell_type": "markdown",
      "source": [
        "While your results migth vary somewhat, here's what I got from running these commands:\n",
        "\n",
        "- The database size before building the index was 1.9 mb\n",
        "- The database size after building the index was 2.2 mb.\n",
        "\n",
        "This is a large difference--over 10%--and reinforces the principle that indexes (especially ones that combine multiple columns) need to be used with care."
      ],
      "metadata": {
        "id": "FAeu39hJre4p"
      }
    },
    {
      "cell_type": "markdown",
      "source": [
        "# SQL Indexing Guidelines: When to Create and Avoid Indexes\n",
        "\n",
        "| Create an Index When... | Avoid Creating an Index When... |\n",
        "|-------------------------|----------------------------------|\n",
        "| Columns are frequently used in WHERE clauses<br>*E.g., `VillainID` in `SELECT * FROM Crimes WHERE VillainID = 123`* | Tables are small<br>*For tables with few rows, a full table scan might be faster than using an index* |\n",
        "| Joining tables on specific columns<br>*E.g., `CrimeID` in `Crimes` table when joining with `Evidence` table* | Columns have low cardinality (few unique values)<br>*E.g., a `Gender` column with only 'M' and 'F' values* |\n",
        "| Columns are often used in ORDER BY clauses<br>*E.g., `Date` in `SELECT * FROM Crimes ORDER BY Date DESC`* | Columns are frequently updated<br>*Indexes need to be updated when the column values change, which can slow down write operations* |\n",
        "| Enforcing uniqueness is required<br>*E.g., `VillainAlias` in the `Villains` table to ensure no duplicate aliases* | Tables experience frequent large batch updates or inserts<br>*Indexes can significantly slow down these operations* |\n",
        "| Querying for a range of values is common<br>*E.g., `Date` in `SELECT * FROM Crimes WHERE Date BETWEEN '2023-01-01' AND '2023-12-31'`* | Columns contain large amounts of text<br>*Indexing `TEXT` or `BLOB` columns can be inefficient and consume a lot of space* |\n",
        "| Columns are used in aggregate functions with GROUP BY<br>*E.g., `District` in `SELECT District, COUNT(*) FROM Crimes GROUP BY District`* | The column is rarely used in queries<br>*If a column is only occasionally used in WHERE or JOIN clauses, an index might not be worth the overhead* |\n",
        "| Foreign key columns<br>*E.g., `VillainID` in the `Crimes` table referencing `Villains` table* | Tables are very frequently updated but rarely queried<br>*In write-heavy scenarios, the cost of maintaining indexes might outweigh their benefits* |\n",
        "| Columns used in DISTINCT queries<br>*E.g., `SELECT DISTINCT CrimeType FROM Crimes`* | Composite indexes with too many columns<br>*Indexes with many columns can become inefficient and hard to maintain* |\n",
        "| Covering index opportunities exist<br>*When all columns in a query can be satisfied by an index without accessing the table* | The database is already over-indexed<br>*Too many indexes can lead to performance degradation and increased storage use* |\n",
        "| Improving performance of full-text searches<br>*E.g., creating a full-text index on `Description` in a `CrimeReports` table* | Columns contain primarily NULL values<br>*Indexing columns with many NULL values might not provide significant performance benefits* |\n",
        "\n",
        "**Note**: Always test the performance impact of indexes in your specific database environment. The effectiveness of an index can vary based on factors such as data distribution, query patterns, and the specific database management system being used."
      ],
      "metadata": {
        "id": "wuioIVmztSae"
      }
    },
    {
      "cell_type": "markdown",
      "source": [
        "## Introduction to Transactions\n",
        "\n",
        "In the world of databases, much like in the bustling financial district of Gotham City, many operations happen simultaneously. Imagine the chaos if every bank transaction in Gotham wasn't carefully managed - it would be a playground for villains! This is where database transactions come into play. A **transaction** is a sequence of one or more database operations that are treated as a single unit of work. These operations could be inserting, updating, or deleting data. The key characteristic of a transaction is that it's all-or-nothing: either all the operations within the transaction are completed successfully, or none of them are.\n",
        "\n",
        "Let's consider a scenario at Gotham City Bank. Bruce Wayne wants to transfer money from his personal account to Wayne Enterprises' account. This seemingly simple transfer actually involves multiple steps: first, the money is deducted from Bruce's account, and then it's added to the company's account. If something goes wrong halfway through - perhaps due to a system crash or The Riddler's latest cyber attack - we wouldn't want Bruce's money to vanish into thin air. This is why we use transactions.\n",
        "\n",
        "Transactions are crucial in maintaining the integrity and consistency of our database. They ensure that our data remains accurate even when multiple operations are happening concurrently or when unexpected errors occur. In our Gotham City Bank example, a transaction would guarantee that either both steps of the money transfer are completed, or neither is - the money can't be deducted from Bruce's account without being added to Wayne Enterprises', or vice versa.\n",
        "\n",
        "### ACID Properties Overview\n",
        "\n",
        "When discussing database transactions, you'll often hear the term **ACID**. This isn't a reference to Joker's favorite chemical weapons, but rather an acronym that stands for four critical properties of transactions: **Atomicity**, **Consistency**, **Isolation**, and **Durability**. These properties ensure that database transactions are processed reliably and maintain data integrity, even in the face of errors, system failures, or concurrent access.\n",
        "\n",
        "Let's break down what each of these properties means:\n",
        "\n",
        "1. **Atomicity** ensures that a transaction is treated as a single, indivisible unit. Either all operations in the transaction are completed successfully, or none are.\n",
        "2. **Consistency** guarantees that a transaction brings the database from one valid state to another, maintaining all predefined rules and constraints.\n",
        "3. **Isolation** ensures that concurrent execution of transactions leaves the database in the same state as if the transactions were executed sequentially.\n",
        "4. **Durability**  means that once a transaction is committed, it remains so, even in the event of power loss, crashes, or errors.\n",
        "\n",
        "Understanding ACID properties is crucial for anyone working with databases, as they form the foundation of reliable data management. They're like the principles Batman follows to keep Gotham safe - non-negotiable rules that maintain order in the face of chaos.\n",
        "\n",
        "In the following sections, we'll dive deeper into each of these properties, exploring how they work and why they're important. We'll see how they apply in various scenarios in Gotham City, from managing the Batcave's high-tech systems to keeping track of Arkham Asylum's ever-rotating cast of inmates. By the end, you'll have a solid grasp of how transactions and ACID properties help maintain order in the complex world of databases."
      ],
      "metadata": {
        "id": "_ldAGYB1G8lp"
      }
    },
    {
      "cell_type": "markdown",
      "source": [
        "### Atomicity\n",
        "\n",
        "**Atomicity** is the first pillar of ACID properties, and it's a concept as uncompromising as Batman's commitment to justice. In database terms, atomicity guarantees that a transaction is treated as a single, indivisible unit of work. This means that all operations within a transaction must be completed successfully, or none of them will be. There's no middle ground - it's all or nothing.\n",
        "\n",
        "Let's illustrate this with a scenario from Gotham City. Imagine Bruce Wayne is updating the Batcave's inventory system. He's adding a new Batmobile while simultaneously removing an older model. This process involves two operations:\n",
        "\n",
        "1. Insert a record for the new Batmobile\n",
        "2. Delete the record of the old Batmobile\n",
        "\n",
        "Atomicity ensures that either both of these operations succeed, or neither does. If something goes wrong halfway through - perhaps a power outage caused by one of Mr. Freeze's attacks - the database will revert to its original state. We won't end up in a situation where we've added the new Batmobile but failed to remove the old one, or vice versa.\n",
        "\n",
        "This \"all-or-nothing\" approach is crucial for maintaining data integrity. Without atomicity, we could end up with inconsistent data that doesn't reflect reality. In our Batcave example, an inventory that shows two Batmobiles when there's really only one could lead to confusion and inefficiency in Batman's operations.\n",
        "\n",
        "Implementing atomicity involves using **commits** and **rollbacks**. When a transaction completes successfully, we **commit** it, making all of its changes permanent. If any part of the transaction fails, we perform a **rollback**, undoing any changes made by the transaction and returning the database to its previous consistent state.\n",
        "\n",
        "In standard SQL, you can implement atomic transactions using the following basic syntax:\n",
        "\n",
        "```sql\n",
        "BEGIN TRANSACTION;\n",
        "-- Your SQL operations here\n",
        "COMMIT;\n",
        "```\n",
        "\n",
        "If an error occurs, you can use `ROLLBACK` instead of `COMMIT` to undo the changes:\n",
        "\n",
        "```sql\n",
        "BEGIN TRANSACTION;\n",
        "-- Your SQL operations here\n",
        "-- If an error occurs:\n",
        "ROLLBACK;\n",
        "```\n",
        "\n",
        "Understanding and properly implementing atomicity is crucial for maintaining the integrity of your database, ensuring that complex operations either complete fully or don't happen at all."
      ],
      "metadata": {
        "id": "8cHiemHlG_7d"
      }
    },
    {
      "cell_type": "code",
      "source": [
        "# @title\n",
        "mm(\"\"\"\n",
        "flowchart TD\n",
        "    subgraph Transaction_Process\n",
        "        A[Starting State A<br>Consistent State of Database] --> B[BEGIN TRANSACTION]\n",
        "        B --> C[Perform Operations]\n",
        "        C --> D{Error Occurred?}\n",
        "        D -- No --> E[COMMIT TRANSACTION<br>Write operations to disk]\n",
        "        D -- Yes --> F[ROLLBACK<br>Undo all operations]\n",
        "        F --> A\n",
        "        E -->G[Ending State B<br>Consistent State of Database]\n",
        "    end\n",
        "\"\"\")"
      ],
      "metadata": {
        "colab": {
          "base_uri": "https://localhost:8080/",
          "height": 1000
        },
        "id": "-L1NijYTbzRW",
        "outputId": "bac00d4c-af3a-4149-af81-96a6f47b07a1",
        "cellView": "form"
      },
      "execution_count": 20,
      "outputs": [
        {
          "output_type": "display_data",
          "data": {
            "text/html": [
              "<img src=\"https://mermaid.ink/img/CmZsb3djaGFydCBURAogICAgc3ViZ3JhcGggVHJhbnNhY3Rpb25fUHJvY2VzcwogICAgICAgIEFbU3RhcnRpbmcgU3RhdGUgQTxicj5Db25zaXN0ZW50IFN0YXRlIG9mIERhdGFiYXNlXSAtLT4gQltCRUdJTiBUUkFOU0FDVElPTl0KICAgICAgICBCIC0tPiBDW1BlcmZvcm0gT3BlcmF0aW9uc10KICAgICAgICBDIC0tPiBEe0Vycm9yIE9jY3VycmVkP30KICAgICAgICBEIC0tIE5vIC0tPiBFW0NPTU1JVCBUUkFOU0FDVElPTjxicj5Xcml0ZSBvcGVyYXRpb25zIHRvIGRpc2tdCiAgICAgICAgRCAtLSBZZXMgLS0+IEZbUk9MTEJBQ0s8YnI+VW5kbyBhbGwgb3BlcmF0aW9uc10KICAgICAgICBGIC0tPiBBCiAgICAgICAgRSAtLT5HW0VuZGluZyBTdGF0ZSBCPGJyPkNvbnNpc3RlbnQgU3RhdGUgb2YgRGF0YWJhc2VdCiAgICBlbmQK\"/>"
            ],
            "text/plain": [
              "<IPython.core.display.Image object>"
            ]
          },
          "metadata": {}
        }
      ]
    },
    {
      "cell_type": "markdown",
      "source": [
        "### Consistency\n",
        "\n",
        "**Consistency**, the second ACID property, is all about maintaining the database in a valid state. It ensures that a transaction can only bring the database from one valid state to another, adhering to all predefined rules and constraints. This property is like the laws and regulations that keep Gotham City functioning - they ensure that no matter what changes occur, the city (or in our case, the database) remains in a valid, predictable state.\n",
        "\n",
        "In database terms, consistency means that all data written to the database must adhere to all defined rules, including constraints, cascades, and triggers. These rules might include:\n",
        "\n",
        "- Data types (e.g., you can't store text in a numeric field)\n",
        "- Unique constraints\n",
        "- Foreign key constraints\n",
        "- Check constraints that enforce specific business rules\n",
        "\n",
        "Let's consider an example from the Gotham City Police Department (GCPD). They maintain a database of known super-villains, including which cell they're assigned to in Arkham Asylum. The database has a rule that each cell can only hold one villain at a time. Consistency ensures that no transaction can violate this rule.\n",
        "\n",
        "Imagine Commissioner Gordon is updating the database after capturing both The Joker and The Penguin in a single night. Here's what the transaction might look like:\n",
        "\n",
        "1. Assign The Joker to Cell A1\n",
        "2. Assign The Penguin to Cell B2\n",
        "3. Update the status of both villains to \"Incarcerated\"\n",
        "\n",
        "Consistency guarantees that if any part of this transaction would violate the \"one villain per cell\" rule (for example, if Cell A1 was already occupied), the entire transaction would fail. The database would remain in its previous consistent state, rather than ending up in an invalid state with two villains assigned to the same cell.\n",
        "\n",
        "SQL provides various mechanisms to enforce consistency, some of which we have discussed earlier:\n",
        "\n",
        "1. **Constraints**: These are rules defined on columns or tables. For example:\n",
        "\n",
        "```sql\n",
        "CREATE TABLE Villains (\n",
        "    ID INTEGER PRIMARY KEY,\n",
        "    Name TEXT NOT NULL,\n",
        "    Cell TEXT UNIQUE,\n",
        "    Status TEXT CHECK (Status IN ('At Large', 'Incarcerated'))\n",
        ");\n",
        "```\n",
        "\n",
        "2. **Triggers**: These are automated actions that occur in response to certain database events. For example:\n",
        "\n",
        "```sql\n",
        "CREATE TRIGGER check_cell_occupancy\n",
        "BEFORE INSERT ON Villains\n",
        "FOR EACH ROW\n",
        "BEGIN\n",
        "    SELECT CASE\n",
        "        WHEN (SELECT COUNT(*) FROM Villains WHERE Cell = NEW.Cell) > 0\n",
        "        THEN RAISE(ABORT, 'Cell already occupied')\n",
        "    END;\n",
        "END;\n",
        "```\n",
        "\n",
        "3. **Transactions**: By grouping operations together in a transaction, you ensure that either all consistency rules are met, or none of the operations are performed.\n",
        "\n",
        "Maintaining consistency is crucial for ensuring that your database always reflects a valid real-world scenario. It prevents contradictions and impossibilities in your data, much like how the laws of Gotham prevent (or at least try to prevent) chaos from taking over the city."
      ],
      "metadata": {
        "id": "rdjUinTYHIu1"
      }
    },
    {
      "cell_type": "markdown",
      "source": [
        "### Isolation\n",
        "\n",
        "**Isolation**, the third ACID property, ensures that concurrent execution of transactions leaves the database in the same state as if the transactions were executed sequentially. In other words, each transaction should feel like it's the only one interacting with the database, even when multiple transactions are running simultaneously. This property is crucial in multi-user database systems, much like how Batman needs to isolate and handle multiple crimes occurring simultaneously in Gotham without letting them interfere with each other.\n",
        "\n",
        "Imagine a scenario where both Bruce Wayne and Alfred are accessing the Batcomputer's database at the same time. Bruce is updating the Batmobile's fuel levels after a night of patrol, while Alfred is logging new equipment arrivals. Isolation ensures that these two operations don't interfere with each other, preventing scenarios like lost updates or dirty reads.\n",
        "\n",
        "**Concurrency** in databases refers to the ability of the database management system (DBMS) to handle multiple transactions simultaneously. While concurrency can greatly improve performance and responsiveness, it also introduces challenges. For instance, if two villains, let's say The Riddler and The Penguin, try to access Wayne Enterprises' financial records simultaneously, we need to ensure they don't interfere with each other's operations or see partially updated data.\n",
        "\n",
        "To manage concurrency and maintain isolation, databases use **locks**. A **lock** is a mechanism that restricts access to a piece of data. There are typically two types of locks:\n",
        "\n",
        "1. **Shared locks (\"read locks\")**: Allow multiple transactions to read data simultaneously.\n",
        "2. **Exclusive locks (\"write locks\")**: Restrict access to a single transaction for write operations.\n",
        "\n",
        "For example, when Bruce is updating the Batmobile's fuel levels, the database might place an exclusive lock on that record, preventing Alfred from making changes to the same data until Bruce's transaction is complete.\n",
        "\n",
        "However, excessive locking can lead to performance issues and, in some cases, **deadlocks**. A **deadlock** occurs when two or more transactions are waiting for each other to release locks, resulting in a standoff. Imagine Batman and Catwoman each holding a piece of evidence the other needs - neither can proceed without the other's item, but neither is willing to give up their own first. Databases have mechanisms to detect and resolve deadlocks, often by choosing one transaction to roll back.\n",
        "\n",
        "Full-featured client-server databases (such as PostgreSQL, MySQL, ORacle, etc.) offer various **isolation levels** that provide different trade-offs between consistency and performance:\n",
        "\n",
        "* **Read Uncommitted.** Transactions can see changes made by other transactions before they are finalized, which can lead to inconsistent data.\n",
        "* **Read Committed.**  Transactions can only see changes made by other transactions after they are finalized, reducing the risk of inconsistent data.\n",
        "* **Repeatable Read.**  Once a transaction reads data, it will see the same data if it reads it again, even if other transactions make changes in the meantime.\n",
        "* **Serializable.** Transactions are completely isolated from each other, as if they are happening one after the other, ensuring the highest level of data consistency.\n",
        "\n",
        "Each level provides stronger guarantees but potentially at the cost of reduced concurrency. SQLite, by default, operates at the Serializable isolation level.\n",
        "\n",
        "Understanding and properly implementing isolation is crucial for maintaining data integrity in multi-user environments, ensuring that concurrent operations don't lead to data inconsistencies or conflicts."
      ],
      "metadata": {
        "id": "Jp-pbPlrHV01"
      }
    },
    {
      "cell_type": "markdown",
      "source": [
        "### Durability\n",
        "\n",
        "**Durability**, the final ACID property, guarantees that once a transaction has been committed, it will remain so, even in the event of a system failure, power outage, or crash. This property ensures that your data persists, much like how the legacy of Batman endures through all of Gotham's trials and tribulations.\n",
        "\n",
        "In database terms, durability means that all completed transactions are recorded in non-volatile memory. Once the database confirms that a transaction has been committed, that data should be safe, even if the server crashes immediately afterward.\n",
        "\n",
        "Let's consider a scenario at Arkham Asylum. Dr. Harleen Quinzel (before her transformation into Harley Quinn) is updating patient records. She's just finished noting that The Joker has been administered his daily medication - a crucial piece of information for maintaining order in the asylum. Durability ensures that even if there's a sudden power outage (perhaps caused by Electrocutioner), this update will not be lost.\n",
        "\n",
        "Both SQLite and PostgreSQL implement durability, but they do so in slightly different ways:\n",
        "\n",
        "1. **SQLite** uses a write-ahead log (WAL) by default. Before changes are made to the main database file, they are written to this log. If a crash occurs during a transaction, SQLite can recover the changes from the WAL.\n",
        "\n",
        "2. **PostgreSQL** uses a write-ahead log as well, but it also provides more advanced features for ensuring durability, such as:\n",
        "   - Asynchronous Commit: Allows for faster performance at the risk of losing the latest transactions in case of a crash.\n",
        "   - Synchronous Replication: Ensures that data is written to multiple servers before considering a transaction complete.\n",
        "\n",
        "To ensure durability, databases use **transaction logs**. These logs record all database modifications. In the event of a system failure, the database can use these logs to recover to a consistent state. It's like Batman's case files - even if the Batcave is compromised, he can reconstruct his investigations from these detailed records.\n",
        "\n",
        "Here's a simple example of a durable transaction in SQL:\n",
        "\n",
        "```sql\n",
        "BEGIN;\n",
        "UPDATE Inmates\n",
        "SET MedicationAdministered = TRUE\n",
        "WHERE Name = 'Joker' AND Date = CURRENT_DATE;\n",
        "COMMIT;\n",
        "```\n",
        "\n",
        "Once this COMMIT statement successfully completes, the database guarantees that this update will persist, even in the face of subsequent system failures.\n",
        "\n",
        "While durability provides strong guarantees, it's important to note that it can impact performance. Writing every change to disk immediately can slow down transaction processing. Database administrators often need to balance durability requirements with performance needs, much like how Batman must balance his desire for justice with the practical limitations of his resources.\n",
        "\n",
        "Proper backup strategies are also crucial for maintaining durability over the long term. Regular backups ensure that even in catastrophic scenarios, your data can be recovered. It's the database equivalent of Batman's contingency plans - always prepared for the worst-case scenario.\n",
        "\n",
        "Understanding durability helps ensure that critical data is never lost, maintaining the integrity and reliability of your database system even in the face of unexpected events or system failures."
      ],
      "metadata": {
        "id": "c8AsZ26lHcfp"
      }
    },
    {
      "cell_type": "markdown",
      "source": [
        "### Deadlocks\n",
        "\n",
        "A **deadlock** occurs when two or more transactions are waiting for each other to release resources, resulting in a standoff where none can proceed. It's like a situation where Batman and Catwoman are each holding a piece of evidence that the other needs, and neither is willing to give up their item first.\n",
        "\n",
        "Deadlocks typically involve at least two transactions and two resources. For example:\n",
        "1. Transaction A holds a lock on Resource X and requests a lock on Resource Y.\n",
        "2. Simultaneously, Transaction B holds a lock on Resource Y and requests a lock on Resource X.\n",
        "\n",
        "Both transactions are now stuck, waiting for a resource that the other holds.\n",
        "\n",
        "To prevent deadlocks, database systems use various strategies:\n",
        "- **Timeout mechanisms**: Transactions are automatically rolled back if they wait too long for a resource.\n",
        "- **Deadlock detection**: The system actively looks for deadlock cycles and resolves them by choosing a \"victim\" transaction to roll back.\n",
        "- **Deadlock prevention**: This involves techniques like always acquiring resources in a specific order.\n",
        "\n",
        "Here's an example of how you might handle a deadlock situation in your code:\n",
        "\n",
        "```sql\n",
        "BEGIN;\n",
        "-- Attempt to acquire locks with a timeout\n",
        "SET LOCAL lock_timeout = '5s';\n",
        "-- Your transaction operations here\n",
        "COMMIT;\n",
        "```\n",
        "\n",
        "If a deadlock occurs, this transaction will be automatically rolled back after 5 seconds, allowing other transactions to proceed.\n",
        "\n",
        "### Performance Considerations\n",
        "\n",
        "While transactions are crucial for data integrity, they can impact database performance if not used judiciously. Each transaction requires overhead for managing locks, logging changes, and ensuring ACID properties.\n",
        "\n",
        "Some key performance considerations include:\n",
        "- **Transaction size**: Smaller, focused transactions generally perform better than large, complex ones.\n",
        "- **Indexing**: Proper indexing can significantly speed up the operations within a transaction.\n",
        "- **Isolation level**: Higher isolation levels provide stronger guarantees but may reduce concurrency.\n",
        "\n",
        "For instance, in managing Gotham City's traffic system, you might use different transaction strategies for routine updates versus emergency situations:\n",
        "\n",
        "```sql\n",
        "-- Routine update: lower isolation, shorter duration\n",
        "BEGIN;\n",
        "SET TRANSACTION ISOLATION LEVEL READ COMMITTED;\n",
        "UPDATE TrafficLights SET State = 'Green' WHERE Intersection = 'Park Row';\n",
        "COMMIT;\n",
        "\n",
        "-- Emergency situation: highest isolation, possibly longer duration\n",
        "BEGIN;\n",
        "SET TRANSACTION ISOLATION LEVEL SERIALIZABLE;\n",
        "UPDATE TrafficLights SET State = 'Red' WHERE District = 'Downtown';\n",
        "UPDATE EmergencyRoutes SET Status = 'Active' WHERE Type = 'Fire';\n",
        "COMMIT;\n",
        "```\n",
        "\n",
        "### Error Handling in Transactions\n",
        "\n",
        "Proper error handling is crucial in transactional systems. It's like Batman's contingency plans - you hope you won't need them, but they're essential when things go wrong.\n",
        "\n",
        "In SQL, you can use TRY-CATCH blocks (in systems that support them) or check for error conditions and roll back manually:\n",
        "\n",
        "```sql\n",
        "BEGIN;\n",
        "SAVEPOINT my_savepoint;\n",
        "\n",
        "-- Attempt the transaction\n",
        "UPDATE BatcaveInventory SET Quantity = Quantity - 1 WHERE Item = 'Batarang';\n",
        "\n",
        "-- Check if the update was successful\n",
        "IF (SELECT Quantity FROM BatcaveInventory WHERE Item = 'Batarang') < 0 THEN\n",
        "    -- Rollback to the savepoint if we've gone into negative inventory\n",
        "    ROLLBACK TO my_savepoint;\n",
        "    RAISE EXCEPTION 'Not enough Batarangs in inventory';\n",
        "ELSE\n",
        "    -- Commit if everything is okay\n",
        "    COMMIT;\n",
        "END IF;\n",
        "```\n",
        "\n",
        "This approach allows you to handle errors gracefully, maintaining data consistency even when unexpected situations arise."
      ],
      "metadata": {
        "id": "a5Wad4qyHiz2"
      }
    },
    {
      "cell_type": "markdown",
      "source": [
        "## NoSQL Case Study: Harley's Havoc\n",
        "\n",
        "After her latest split with the Joker, Harley Quinn decides to launch \"Harley's Havoc\" - a marketplace for circus equipment, practical joke supplies, and questionably-obtained collectibles. Given the chaotic nature of her business and the need to handle thousands of simultaneous users during her infamous flash sales, she needs a database that can scale horizontally and handle rapid writes. She decides to use **MongoDB**, a widely used **NoSQL** database.\n",
        "\n",
        "MongoDB stores data in BSON (Binary JSON) format. Here's how a typical product listing in Harley's store might look:\n",
        "\n",
        "```javascript\n",
        "{\n",
        "  \"_id\": ObjectId(\"5f7d3a2e9d3b2c1234567890\"),\n",
        "  \"name\": \"Authentic Trick Mallet\",\n",
        "  \"description\": \"Guaranteed to make that *BONK* sound!\",\n",
        "  \"price\": 49.99,\n",
        "  \"stock\": 42,\n",
        "  \"categories\": [\"weapons\", \"classics\", \"crowd-favorites\"],\n",
        "  \"reviews\": [\n",
        "    {\n",
        "      \"user\": \"PoisonIvy\",\n",
        "      \"rating\": 5,\n",
        "      \"comment\": \"Perfect for bopping Batman!\"\n",
        "    },\n",
        "    {\n",
        "      \"user\": \"CatWoman\",\n",
        "      \"rating\": 4,\n",
        "      \"comment\": \"Shipping was slow but worth the wait\"\n",
        "    }\n",
        "  ],\n",
        "  \"variants\": {\n",
        "    \"colors\": [\"red\", \"black\", \"purple\"],\n",
        "    \"sizes\": [\"standard\", \"oversized\"]\n",
        "  }\n",
        "}\n",
        "```\n",
        "\n",
        "Notice how flexible this structure is - we can nest arrays and objects, and each product document can have different fields. This flexibility is one of MongoDB's key advantages over rigid SQL schemas.\n",
        "\n",
        "### Scaling Out: Why Harley Chose MongoDB\n",
        "\n",
        "Unlike Gotham City Bank's traditional SQL database, MongoDB can easily distribute data across multiple machines using **sharding**. When Harley's flash sales cause traffic spikes, the system can handle it by:\n",
        "\n",
        "1. Automatically distributing data across multiple shards\n",
        "2. Routing queries to appropriate shards\n",
        "3. Balancing data as new shards are added\n",
        "\n",
        "```javascript\n",
        "// Example of how MongoDB might shard Harley's collection\n",
        "db.createCollection(\"products\")\n",
        "sh.shardCollection(\"harleysHavoc.products\",\n",
        "  { \"categories\": \"hashed\" }) // Shard by category for even distribution\n",
        "```\n",
        "\n",
        "#### The Move from ACID to BASE\n",
        "To achieve this scalability, MongoDB adopts **BASE (Basically Available, Soft state, Eventually consistent)** instead of ACID properties. Here's what this means for Harley's business:\n",
        "\n",
        "**Advantages:**\n",
        "- Can handle thousands of simultaneous writes during flash sales\n",
        "- New product categories can be added without schema changes\n",
        "- Queries can be distributed across multiple servers\n",
        "- Quick recovery if a server goes down (high availability)\n",
        "\n",
        "**Trade-offs:**\n",
        "- No true multi-document transactions (until recent versions, which impose a speed cost)\n",
        "- Eventual consistency means inventory counts might be temporarily incorrect\n",
        "- Complex queries across multiple collections are more challenging\n",
        "- No built-in referential integrity\n",
        "\n",
        "### Why This Would Be Disastrous for Gotham City Bank\n",
        "\n",
        "Let's contrast this with banking requirements:\n",
        "\n",
        "1. **Atomicity**: When the Joker transfers money between accounts, it must either completely succeed or completely fail. There's no room for \"eventual consistency\" when dealing with money.\n",
        "\n",
        "2. **Consistency**: Account balances must be accurate at all times. The bank can't tell Batman his account balance is \\$10,000,000 on one server and \\$9,000,000 on another.\n",
        "\n",
        "3. **Isolation**: If Penguin and Riddler are both trying to withdraw from the same account, their transactions must be properly serialized to prevent double-spending.\n",
        "\n",
        "4. **Durability**: Once a transaction is confirmed, it must survive any system crashes. The bank can't tell Two-Face \"sorry, that deposit might have gotten lost during a server failover.\"\n",
        "\n",
        "### Best of Both Worlds: Hybrid Approaches\n",
        "Modern applications often use both SQL and NoSQL databases. For Harley's business, she could:\n",
        "- Use MongoDB for product catalog and user sessions\n",
        "- Use PostgreSQL for payment processing and critical inventory tracking\n",
        "- Implement application-level consistency checks for critical operations\n",
        "\n",
        "Finally, it is important to note that MongoDB has gotten more \"relational\" over the years (for example, providing better support for transactions) even while popular RDBMSs (Postgres, Oracle, SQL Server) have provided native support for JSON and sharding."
      ],
      "metadata": {
        "id": "bxL8wGa8XW9I"
      }
    },
    {
      "cell_type": "markdown",
      "source": [
        "# A Day in the Life of a Database Administrator\n",
        "\n",
        "Meet **Barbara Gordon**, affectionately known as **\"Oracle\"** by her colleagues. As the chief Database Administrator (DBA) for the Gotham City Police Department (GCPD), Barbara plays a crucial role in managing the vast amounts of data that flow through the department daily. From tracking criminal records to managing real-time incident reports, the GCPD's database systems are the backbone of Gotham's law enforcement operations. This section provides an insight into Barbara's typical day, highlighting key concepts of database monitoring, reporting, and performance metrics as exemplified by our database logs.\n",
        "\n",
        "---\n",
        "\n",
        "## Morning: Proactive Monitoring\n",
        "\n",
        "### 8:00 AM - Starting the Day with System Checks\n",
        "\n",
        "Barbara begins her day by performing **proactive monitoring** of the GCPD's database systems. She logs into the system to review overnight activities and ensure everything is running smoothly.\n",
        "\n",
        "- She checks **system performance metrics** such as **CPU usage**, **memory consumption**, and **disk I/O statistics** to confirm that the servers are operating within optimal parameters.\n",
        "- Scanning the **error logs**, Barbara looks for any critical issues like **unique constraint violations** (`\"ORA-00001\"`) or **connection failures** that might indicate underlying problems.\n",
        "- Verifying that **automated backups** ran successfully, she ensures that data integrity is maintained and that the system is prepared for disaster recovery if necessary.\n",
        "\n",
        "Understanding the importance of **monitoring**, Barbara knows that continuously observing the database helps detect performance issues, errors, and security threats before they escalate.\n",
        "\n",
        "---\n",
        "\n",
        "## Mid-Morning: Analyzing Performance Reports\n",
        "\n",
        "### 10:00 AM - Reviewing Query Performance\n",
        "\n",
        "Barbara receives reports indicating that some detectives are experiencing slow response times when querying the criminal records database. She dives into the **query logs** to identify any **slow-running queries**.\n",
        "\n",
        "By examining queries with high **execution times**, she discovers that certain complex join operations are taking longer than expected. Recognizing an opportunity for **performance optimization**, Barbara plans to:\n",
        "\n",
        "- Add appropriate **indexes** to improve data retrieval speeds.\n",
        "- Rewrite inefficient **SQL statements** to enhance their efficiency.\n",
        "\n",
        "She understands that **reporting** plays a vital role in providing insights into database performance over time. By analyzing these reports, she can identify patterns and make informed decisions to optimize the system.\n",
        "\n",
        "---\n",
        "\n",
        "## Afternoon: Addressing Security Concerns\n",
        "\n",
        "### 1:00 PM - Investigating Unauthorized Access Attempts\n",
        "\n",
        "An alert notifies Barbara of multiple failed login attempts from an unknown IP address. Recognizing the potential security threat, she examines the **connection logs** to investigate.\n",
        "\n",
        "By querying the logs for suspicious activity from the specific IP, she confirms unauthorized access attempts. Barbara promptly informs the security team and takes action to **block the IP address**, preventing any potential breaches.\n",
        "\n",
        "This situation highlights the importance of **security monitoring** in database administration. By keeping track of **access logs** and detecting anomalies, Barbara helps protect the database from threats and ensures compliance with security policies.\n",
        "\n",
        "---\n",
        "\n",
        "## Late Afternoon: Managing Schema Changes\n",
        "\n",
        "### 3:00 PM - Implementing New Features\n",
        "\n",
        "A new feature requires adding a table to store information about emerging threats. Barbara carefully plans the **schema change**, understanding the impact it may have on existing operations.\n",
        "\n",
        "She applies the changes by executing the necessary **Data Definition Language (DDL) statements**, such as:\n",
        "\n",
        "```sql\n",
        "CREATE TABLE emerging_threats (\n",
        "  id INTEGER PRIMARY KEY,\n",
        "  description TEXT,\n",
        "  level INTEGER,\n",
        "  reported_at DATETIME\n",
        ");\n",
        "```\n",
        "\n",
        "After implementing the change, she records the schema modification for future reference and auditing. Managing **schema changes** is a critical aspect of her role, ensuring that the database structure evolves to meet new requirements without disrupting current functionalities.\n",
        "\n",
        "---\n",
        "\n",
        "## Evening: Reflecting and Preparing\n",
        "\n",
        "### 5:00 PM - Reviewing the Day's Activities\n",
        "\n",
        "As the day winds down, Barbara reviews the day's events. She summarizes key activities, including performance optimizations, security incidents, and schema changes.\n",
        "\n",
        "Preparing detailed **reports** for stakeholders, she translates technical metrics into understandable insights. This practice keeps everyone informed and aids in strategic planning.\n",
        "\n",
        "---\n",
        "\n",
        "## Common Database Performance Metrics\n",
        "\n",
        "Understanding database performance requires familiarity with various metrics. Below is a table of common metrics that Barbara monitors regularly:\n",
        "\n",
        "| Metric Name             | Definition                                                                                   |\n",
        "|-------------------------|----------------------------------------------------------------------------------------------|\n",
        "| **CPU Usage (%)**       | The percentage of CPU resources utilized by the database processes.                          |\n",
        "| **Memory Consumption**  | The amount of RAM used by the database system for operations and caching.                    |\n",
        "| **Disk I/O (MB/s)**     | The rate of data read from and written to disk storage per second.                          |\n",
        "| **Query Execution Time (ms)** | The time taken to execute a SQL query from start to finish.                        |\n",
        "| **Transactions Per Second (TPS)** | The number of transactions the database processes each second.                |\n",
        "| **Connections**         | The number of active connections to the database at a given time.                            |\n",
        "| **Cache Hit Ratio (%)** | The percentage of database reads that are served from cache rather than disk.                |\n",
        "| **Lock Wait Time (ms)** | The time processes wait to acquire locks on database resources.                              |\n",
        "| **Deadlocks**           | The number of times processes are stuck in a deadlock situation and need to be resolved.      |\n",
        "| **Network Latency (ms)**| The time it takes for data to travel between the database server and clients over the network.|\n",
        "\n",
        "Monitoring these metrics allows Barbara to ensure that the database operates efficiently and to identify areas where performance can be improved.\n",
        "\n",
        "---\n",
        "\n",
        "Barbara Gordon's day exemplifies the multifaceted role of a Database Administrator. Through diligent monitoring of **performance metrics**, proactive problem-solving, and effective communication, she ensures that the GCPD's databases are secure, efficient, and reliable.\n",
        "\n",
        "By understanding and utilizing key concepts such as **proactive monitoring**, **performance optimization**, **security monitoring**, and **schema change management**, Barbara keeps the database systems running smoothly, supporting the critical work of Gotham's law enforcement.\n",
        "\n",
        "As we delve into the database logs in the following sections, we'll explore these technical aspects in more detail. Barbara's experiences provide context for why these logs are vital and how they contribute to effective database administration."
      ],
      "metadata": {
        "id": "_RdWL4w6p_Aj"
      }
    },
    {
      "cell_type": "markdown",
      "source": [],
      "metadata": {
        "id": "GNqll_5-XVd-"
      }
    },
    {
      "cell_type": "markdown",
      "source": [
        "## Lab: Querying Database Logs\n",
        "\n",
        "The `dbms_logs.db` database is a SQLite database that contains a single table named `Logs`. This table stores various types of database management system (DBMS) log entries in JSON format. Each log entry represents an event such as a query execution, transaction, error, connection, or schema change.\n",
        "\n",
        "### Table Structure: Logs\n",
        "\n",
        "| Column Name | Data Type | Description                                     |\n",
        "|-------------|-----------|-------------------------------------------------|\n",
        "| `id`        | INTEGER   | Unique identifier for each log entry. Auto-incremented primary key. |\n",
        "| `timestamp` | DATETIME  | The date and time when the log entry was created. Defaults to the current timestamp if not provided. |\n",
        "| `data`      | JSON      | A JSON object containing detailed information about the log entry. |\n",
        "\n",
        "### Column Details (for `Logs` table)\n",
        "\n",
        "### 1. `id` (INTEGER)\n",
        "\n",
        "- **Description:** Unique identifier for each log entry.\n",
        "- **Attributes:** Primary Key, Auto-incremented.\n",
        "- **Example Values:** `1`, `2`, `3`, ...\n",
        "\n",
        "### 2. `timestamp` (DATETIME)\n",
        "\n",
        "- **Description:** The date and time when the log entry was created.\n",
        "- **Format:** ISO 8601 format (`YYYY-MM-DD HH:MM:SS`).\n",
        "- **Example Values:** `2023-09-22 15:30:00`, `2023-09-21 10:15:30`.\n",
        "\n",
        "### 3. `data` (JSON)\n",
        "\n",
        "- **Description:** A JSON object containing the details of the log entry.\n",
        "- **Structure:** Varies depending on the `type` of log entry.\n",
        "- **Possible Log Entry Types:** `query_execution`, `transaction`, `error`, `connection`, `schema_change`.\n",
        "\n",
        "### Log Entry Types and Their Fields\n",
        "\n",
        "The `data` column's JSON object includes a `type` field that determines the structure of the rest of the fields. Below are the possible log entry types and their corresponding fields.\n",
        "\n",
        "### 1. **Query Execution Log**\n",
        "\n",
        "**Type:** `\"query_execution\"`\n",
        "\n",
        "**Description:** Records details about SQL query executions.\n",
        "\n",
        "#### Fields\n",
        "\n",
        "| Field Name          | Data Type | Description                                   | Example Values                              |\n",
        "|---------------------|-----------|-----------------------------------------------|---------------------------------------------|\n",
        "| `type`              | STRING    | The type of log entry (`\"query_execution\"`).  | `\"query_execution\"`                         |\n",
        "| `query_id`          | STRING    | Unique identifier for the query.              | `\"Q-1234\"`                                  |\n",
        "| `sql`               | STRING    | The SQL statement executed.                   | `\"SELECT * FROM users WHERE id = 1\"`        |\n",
        "| `execution_time_ms` | FLOAT     | Time taken to execute the query in milliseconds. | `150.25`                                    |\n",
        "| `rows_affected`     | INTEGER   | Number of rows affected by the query.         | `0`, `10`, `100`                            |\n",
        "| `user`              | STRING    | Username of the person who executed the query. | `\"user_42\"`                                 |\n",
        "| `timestamp`         | STRING    | Timestamp when the log entry was created.     | `\"2023-09-22T15:30:00\"`                     |\n",
        "\n",
        "\n",
        "### 2. **Transaction Log**\n",
        "\n",
        "**Type:** `\"transaction\"`\n",
        "\n",
        "**Description:** Logs information about database transactions.\n",
        "\n",
        "#### Fields\n",
        "\n",
        "| Field Name       | Data Type | Description                                      | Example Values          |\n",
        "|------------------|-----------|--------------------------------------------------|-------------------------|\n",
        "| `type`           | STRING    | The type of log entry (`\"transaction\"`).         | `\"transaction\"`         |\n",
        "| `transaction_id` | STRING    | Unique identifier for the transaction.           | `\"T-54321\"`             |\n",
        "| `operation`      | STRING    | Transaction operation (`\"BEGIN\"`, `\"COMMIT\"`, `\"ROLLBACK\"`). | `\"BEGIN\"`              |\n",
        "| `duration_ms`    | FLOAT     | Duration of the transaction in milliseconds.     | `200.5`                 |\n",
        "| `user`           | STRING    | Username involved in the transaction.            | `\"user_17\"`             |\n",
        "| `timestamp`      | STRING    | Timestamp when the log entry was created.        | `\"2023-09-21T10:15:30\"` |\n",
        "\n",
        "\n",
        "### 3. **Error Log**\n",
        "\n",
        "**Type:** `\"error\"`\n",
        "\n",
        "**Description:** Contains details about errors that occurred during database operations.\n",
        "\n",
        "#### Fields\n",
        "\n",
        "| Field Name   | Data Type | Description                                   | Example Values                                  |\n",
        "|--------------|-----------|-----------------------------------------------|-------------------------------------------------|\n",
        "| `type`       | STRING    | The type of log entry (`\"error\"`).            | `\"error\"`                                       |\n",
        "| `error_code` | STRING    | Error code associated with the error.         | `\"ORA-00001\"`, `\"PG-00001\"`, `\"SQLSTATE 23000\"` |\n",
        "| `message`    | STRING    | Descriptive error message.                    | `\"Unique constraint violated\"`                  |\n",
        "| `query_id`   | STRING    | ID of the query that caused the error.        | `\"Q-5678\"`                                      |\n",
        "| `sql`        | STRING    | The SQL statement that caused the error.      | `\"INSERT INTO users (id, name) VALUES (1, 'Alice')\"` |\n",
        "| `stack_trace`| STRING    | Stack trace where the error occurred.         | `\"Error at line 45 in procedure proc_insert...\"` |\n",
        "| `timestamp`  | STRING    | Timestamp when the log entry was created.     | `\"2023-09-20T08:45:00\"`                         |\n",
        "\n",
        "\n",
        "### 4. **Connection Log**\n",
        "\n",
        "**Type:** `\"connection\"`\n",
        "\n",
        "**Description:** Logs connection events to the database.\n",
        "\n",
        "#### Fields\n",
        "\n",
        "| Field Name    | Data Type | Description                                   | Example Values               |\n",
        "|---------------|-----------|-----------------------------------------------|------------------------------|\n",
        "| `type`        | STRING    | The type of log entry (`\"connection\"`).       | `\"connection\"`               |\n",
        "| `action`      | STRING    | Connection action (`\"CONNECT\"` or `\"DISCONNECT\"`). | `\"CONNECT\"`, `\"DISCONNECT\"` |\n",
        "| `user`        | STRING    | Username of the person connecting/disconnecting. | `\"user_25\"`                |\n",
        "| `ip_address`  | STRING    | IP address of the client machine.             | `\"192.168.1.10\"`             |\n",
        "| `duration_ms` | FLOAT     | *(Optional)* Duration of the connection in milliseconds. Present only for `\"DISCONNECT\"` actions. | `5000.75` |\n",
        "| `timestamp`   | STRING    | Timestamp when the log entry was created.     | `\"2023-09-19T14:20:00\"`      |\n",
        "\n",
        "---\n",
        "\n",
        "### 5. **Schema Change Log**\n",
        "\n",
        "**Type:** `\"schema_change\"`\n",
        "\n",
        "**Description:** Records changes made to the database schema.\n",
        "\n",
        "#### Fields\n",
        "\n",
        "| Field Name     | Data Type | Description                                   | Example Values                  |\n",
        "|----------------|-----------|-----------------------------------------------|---------------------------------|\n",
        "| `type`         | STRING    | The type of log entry (`\"schema_change\"`).    | `\"schema_change\"`               |\n",
        "| `object_type`  | STRING    | Type of database object affected.             | `\"TABLE\"`, `\"INDEX\"`, `\"VIEW\"`  |\n",
        "| `object_name`  | STRING    | Name of the database object affected.         | `\"products_42\"`                 |\n",
        "| `action`       | STRING    | Schema action performed (`\"CREATE\"`, `\"ALTER\"`, `\"DROP\"`). | `\"CREATE\"`            |\n",
        "| `ddl_statement`| STRING    | The DDL statement executed.                   | `\"CREATE TABLE products_42 (...)\"` |\n",
        "| `user`         | STRING    | Username of the person who made the change.   | `\"user_33\"`                     |\n",
        "| `timestamp`    | STRING    | Timestamp when the log entry was created.     | `\"2023-09-18T11:00:00\"`         |\n",
        "\n"
      ],
      "metadata": {
        "id": "Mo7W7TPLqykr"
      }
    },
    {
      "cell_type": "markdown",
      "source": [
        "### Querying the Database\n",
        "\n",
        "To extract information from the `Logs` table, you can use SQLite's JSON functions. Below are some sample queries to help you get started.\n",
        "- **`json_extract(json, path)`**: Extracts a value from a JSON string.\n",
        "- **`json_type(json, path)`**: Returns the type of the value at the specified path.\n",
        "\n",
        "Some sample queries:\n"
      ],
      "metadata": {
        "id": "_kxEpBkIrozl"
      }
    },
    {
      "cell_type": "markdown",
      "source": [
        "### Sample Queries"
      ],
      "metadata": {
        "id": "sKnQG1b7gZhc"
      }
    },
    {
      "cell_type": "code",
      "source": [
        "!wget https://github.com/brendanpshea/database_sql/raw/main/data/dbms_logs.db -q -nc\n",
        "%reload_ext sql\n",
        "%sql sqlite:///dbms_logs.db"
      ],
      "metadata": {
        "id": "Lca-F06kggbK"
      },
      "execution_count": 21,
      "outputs": []
    },
    {
      "cell_type": "code",
      "source": [
        "%%sql\n",
        "--Retrieve all query execution logs\n",
        "SELECT\n",
        "  id,\n",
        "  timestamp,\n",
        "  json_extract(data, '$.query_id') AS query_id,\n",
        "  json_extract(data, '$.sql') AS sql_statement,\n",
        "  json_extract(data, '$.execution_time_ms') AS execution_time_ms,\n",
        "  json_extract(data, '$.rows_affected') AS rows_affected,\n",
        "  json_extract(data, '$.user') AS user\n",
        "FROM Logs\n",
        "WHERE json_extract(data, '$.type') = 'query_execution'\n",
        "LIMIT 5"
      ],
      "metadata": {
        "id": "0-y_nZARhIOQ",
        "outputId": "0800b765-dd85-4e69-a8e4-3c3deed447ba",
        "colab": {
          "base_uri": "https://localhost:8080/",
          "height": 196
        }
      },
      "execution_count": 22,
      "outputs": [
        {
          "output_type": "stream",
          "name": "stdout",
          "text": [
            " * sqlite:///dbms_logs.db\n",
            "   sqlite:///gotham.db\n",
            "Done.\n"
          ]
        },
        {
          "output_type": "execute_result",
          "data": {
            "text/plain": [
              "[(5, '2024-09-04T09:17:09.045414', 'Q-8305', \"SELECT * FROM users WHERE last_login > '2023-10-30 19:52:34'\", 199.2, 685, 'user_64'),\n",
              " (13, '2024-09-19T16:28:24.045934', 'Q-8385', \"DELETE FROM expired_sessions WHERE expiry_date < '2023-12-29 21:37:18'\", 466.24, 689, 'user_19'),\n",
              " (16, '2024-08-31T02:47:26.046207', 'Q-6789', \"DELETE FROM expired_sessions WHERE expiry_date < '2024-08-16 16:24:21'\", 32.7, 152, 'user_66'),\n",
              " (37, '2024-09-13T00:39:58.048539', 'Q-4412', \"SELECT product_id, SUM(quantity) FROM sales WHERE sale_date = '2024-03-20 16:45:59' GROUP BY product_id\", 4083.9, 957, 'user_93'),\n",
              " (38, '2024-09-04T06:55:44.048599', 'Q-2576', 'UPDATE accounts SET balance = balance + -10.58 WHERE account_id = 2758', 2556.38, 850, 'user_6')]"
            ],
            "text/html": [
              "<table>\n",
              "    <tr>\n",
              "        <th>id</th>\n",
              "        <th>timestamp</th>\n",
              "        <th>query_id</th>\n",
              "        <th>sql_statement</th>\n",
              "        <th>execution_time_ms</th>\n",
              "        <th>rows_affected</th>\n",
              "        <th>user</th>\n",
              "    </tr>\n",
              "    <tr>\n",
              "        <td>5</td>\n",
              "        <td>2024-09-04T09:17:09.045414</td>\n",
              "        <td>Q-8305</td>\n",
              "        <td>SELECT * FROM users WHERE last_login &gt; &#x27;2023-10-30 19:52:34&#x27;</td>\n",
              "        <td>199.2</td>\n",
              "        <td>685</td>\n",
              "        <td>user_64</td>\n",
              "    </tr>\n",
              "    <tr>\n",
              "        <td>13</td>\n",
              "        <td>2024-09-19T16:28:24.045934</td>\n",
              "        <td>Q-8385</td>\n",
              "        <td>DELETE FROM expired_sessions WHERE expiry_date &lt; &#x27;2023-12-29 21:37:18&#x27;</td>\n",
              "        <td>466.24</td>\n",
              "        <td>689</td>\n",
              "        <td>user_19</td>\n",
              "    </tr>\n",
              "    <tr>\n",
              "        <td>16</td>\n",
              "        <td>2024-08-31T02:47:26.046207</td>\n",
              "        <td>Q-6789</td>\n",
              "        <td>DELETE FROM expired_sessions WHERE expiry_date &lt; &#x27;2024-08-16 16:24:21&#x27;</td>\n",
              "        <td>32.7</td>\n",
              "        <td>152</td>\n",
              "        <td>user_66</td>\n",
              "    </tr>\n",
              "    <tr>\n",
              "        <td>37</td>\n",
              "        <td>2024-09-13T00:39:58.048539</td>\n",
              "        <td>Q-4412</td>\n",
              "        <td>SELECT product_id, SUM(quantity) FROM sales WHERE sale_date = &#x27;2024-03-20 16:45:59&#x27; GROUP BY product_id</td>\n",
              "        <td>4083.9</td>\n",
              "        <td>957</td>\n",
              "        <td>user_93</td>\n",
              "    </tr>\n",
              "    <tr>\n",
              "        <td>38</td>\n",
              "        <td>2024-09-04T06:55:44.048599</td>\n",
              "        <td>Q-2576</td>\n",
              "        <td>UPDATE accounts SET balance = balance + -10.58 WHERE account_id = 2758</td>\n",
              "        <td>2556.38</td>\n",
              "        <td>850</td>\n",
              "        <td>user_6</td>\n",
              "    </tr>\n",
              "</table>"
            ]
          },
          "metadata": {},
          "execution_count": 22
        }
      ]
    },
    {
      "cell_type": "code",
      "source": [
        "%%sql\n",
        "--Find errors witha specific code\n",
        "SELECT\n",
        "  id,\n",
        "  timestamp,\n",
        "  json_extract(data, '$.error_code') AS error_code,\n",
        "  json_extract(data, '$.message') AS message,\n",
        "  json_extract(data, '$.query_id') AS query_id,\n",
        "  json_extract(data, '$.sql') AS sql_statement\n",
        "FROM Logs\n",
        "WHERE json_extract(data, '$.type') = 'error'\n",
        "  AND json_extract(data, '$.error_code') = 'ORA-00001'\n",
        "LIMIT 10"
      ],
      "metadata": {
        "id": "kqeSgfAahYtZ",
        "outputId": "a3afba81-29d1-42d8-b377-230e0c76ac2c",
        "colab": {
          "base_uri": "https://localhost:8080/",
          "height": 301
        }
      },
      "execution_count": 23,
      "outputs": [
        {
          "output_type": "stream",
          "name": "stdout",
          "text": [
            " * sqlite:///dbms_logs.db\n",
            "   sqlite:///gotham.db\n",
            "Done.\n"
          ]
        },
        {
          "output_type": "execute_result",
          "data": {
            "text/plain": [
              "[(61, '2024-09-03T22:28:21.050081', 'ORA-00001', 'Unique constraint violated', 'Q-5291', \"DELETE FROM expired_sessions WHERE expiry_date < '2024-03-11 12:26:58'\"),\n",
              " (351, '2024-08-26T02:53:10.069339', 'ORA-00001', 'Unique constraint violated', 'Q-4517', \"DELETE FROM expired_sessions WHERE expiry_date < '2024-08-01 03:17:31'\"),\n",
              " (439, '2024-08-30T12:53:03.073980', 'ORA-00001', 'Unique constraint violated', 'Q-5594', 'UPDATE products SET stock = stock - 1 WHERE id = 558'),\n",
              " (461, '2024-09-09T19:29:09.074835', 'ORA-00001', 'Unique constraint violated', 'Q-5940', \"DELETE FROM expired_sessions WHERE expiry_date < '2024-04-08 11:24:18'\"),\n",
              " (466, '2024-09-02T13:26:31.075155', 'ORA-00001', 'Unique constraint violated', 'Q-6007', \"SELECT * FROM users WHERE last_login > '2024-01-02 10:50:11'\"),\n",
              " (481, '2024-09-02T23:14:14.075941', 'ORA-00001', 'Unique constraint violated', 'Q-4459', 'UPDATE products SET stock = stock - 1 WHERE id = 480'),\n",
              " (505, '2024-09-12T07:40:03.656038', 'ORA-00001', 'Unique constraint violated', 'Q-8420', 'INSERT INTO orders (user_id, product_id, quantity) VALUES (817, 296, 9)'),\n",
              " (530, '2024-09-05T19:54:18.657065', 'ORA-00001', 'Unique constraint violated', 'Q-8690', \"SELECT * FROM users WHERE last_login > '2023-11-30 05:32:33'\"),\n",
              " (562, '2024-09-20T13:33:16.658097', 'ORA-00001', 'Unique constraint violated', 'Q-1629', \"SELECT COUNT(*) FROM orders WHERE order_date BETWEEN '2023-12-24 12:34:35' AND '2024-07-18 18:15:29'\"),\n",
              " (688, '2024-08-28T01:58:39.662287', 'ORA-00001', 'Unique constraint violated', 'Q-1873', \"SELECT COUNT(*) FROM orders WHERE order_date BETWEEN '2024-06-30 13:23:59' AND '2024-09-20 01:36:19'\")]"
            ],
            "text/html": [
              "<table>\n",
              "    <tr>\n",
              "        <th>id</th>\n",
              "        <th>timestamp</th>\n",
              "        <th>error_code</th>\n",
              "        <th>message</th>\n",
              "        <th>query_id</th>\n",
              "        <th>sql_statement</th>\n",
              "    </tr>\n",
              "    <tr>\n",
              "        <td>61</td>\n",
              "        <td>2024-09-03T22:28:21.050081</td>\n",
              "        <td>ORA-00001</td>\n",
              "        <td>Unique constraint violated</td>\n",
              "        <td>Q-5291</td>\n",
              "        <td>DELETE FROM expired_sessions WHERE expiry_date &lt; &#x27;2024-03-11 12:26:58&#x27;</td>\n",
              "    </tr>\n",
              "    <tr>\n",
              "        <td>351</td>\n",
              "        <td>2024-08-26T02:53:10.069339</td>\n",
              "        <td>ORA-00001</td>\n",
              "        <td>Unique constraint violated</td>\n",
              "        <td>Q-4517</td>\n",
              "        <td>DELETE FROM expired_sessions WHERE expiry_date &lt; &#x27;2024-08-01 03:17:31&#x27;</td>\n",
              "    </tr>\n",
              "    <tr>\n",
              "        <td>439</td>\n",
              "        <td>2024-08-30T12:53:03.073980</td>\n",
              "        <td>ORA-00001</td>\n",
              "        <td>Unique constraint violated</td>\n",
              "        <td>Q-5594</td>\n",
              "        <td>UPDATE products SET stock = stock - 1 WHERE id = 558</td>\n",
              "    </tr>\n",
              "    <tr>\n",
              "        <td>461</td>\n",
              "        <td>2024-09-09T19:29:09.074835</td>\n",
              "        <td>ORA-00001</td>\n",
              "        <td>Unique constraint violated</td>\n",
              "        <td>Q-5940</td>\n",
              "        <td>DELETE FROM expired_sessions WHERE expiry_date &lt; &#x27;2024-04-08 11:24:18&#x27;</td>\n",
              "    </tr>\n",
              "    <tr>\n",
              "        <td>466</td>\n",
              "        <td>2024-09-02T13:26:31.075155</td>\n",
              "        <td>ORA-00001</td>\n",
              "        <td>Unique constraint violated</td>\n",
              "        <td>Q-6007</td>\n",
              "        <td>SELECT * FROM users WHERE last_login &gt; &#x27;2024-01-02 10:50:11&#x27;</td>\n",
              "    </tr>\n",
              "    <tr>\n",
              "        <td>481</td>\n",
              "        <td>2024-09-02T23:14:14.075941</td>\n",
              "        <td>ORA-00001</td>\n",
              "        <td>Unique constraint violated</td>\n",
              "        <td>Q-4459</td>\n",
              "        <td>UPDATE products SET stock = stock - 1 WHERE id = 480</td>\n",
              "    </tr>\n",
              "    <tr>\n",
              "        <td>505</td>\n",
              "        <td>2024-09-12T07:40:03.656038</td>\n",
              "        <td>ORA-00001</td>\n",
              "        <td>Unique constraint violated</td>\n",
              "        <td>Q-8420</td>\n",
              "        <td>INSERT INTO orders (user_id, product_id, quantity) VALUES (817, 296, 9)</td>\n",
              "    </tr>\n",
              "    <tr>\n",
              "        <td>530</td>\n",
              "        <td>2024-09-05T19:54:18.657065</td>\n",
              "        <td>ORA-00001</td>\n",
              "        <td>Unique constraint violated</td>\n",
              "        <td>Q-8690</td>\n",
              "        <td>SELECT * FROM users WHERE last_login &gt; &#x27;2023-11-30 05:32:33&#x27;</td>\n",
              "    </tr>\n",
              "    <tr>\n",
              "        <td>562</td>\n",
              "        <td>2024-09-20T13:33:16.658097</td>\n",
              "        <td>ORA-00001</td>\n",
              "        <td>Unique constraint violated</td>\n",
              "        <td>Q-1629</td>\n",
              "        <td>SELECT COUNT(*) FROM orders WHERE order_date BETWEEN &#x27;2023-12-24 12:34:35&#x27; AND &#x27;2024-07-18 18:15:29&#x27;</td>\n",
              "    </tr>\n",
              "    <tr>\n",
              "        <td>688</td>\n",
              "        <td>2024-08-28T01:58:39.662287</td>\n",
              "        <td>ORA-00001</td>\n",
              "        <td>Unique constraint violated</td>\n",
              "        <td>Q-1873</td>\n",
              "        <td>SELECT COUNT(*) FROM orders WHERE order_date BETWEEN &#x27;2024-06-30 13:23:59&#x27; AND &#x27;2024-09-20 01:36:19&#x27;</td>\n",
              "    </tr>\n",
              "</table>"
            ]
          },
          "metadata": {},
          "execution_count": 23
        }
      ]
    },
    {
      "cell_type": "code",
      "source": [
        "%%sql\n",
        "--Get number of connections per user\n",
        "SELECT\n",
        "  json_extract(data, '$.user') AS user,\n",
        "  COUNT(*) AS connection_count\n",
        "FROM Logs\n",
        "WHERE json_extract(data, '$.type') = 'connection'\n",
        "  AND json_extract(data, '$.action') = 'CONNECT'\n",
        "GROUP BY user\n",
        "ORDER BY connection_count DESC\n",
        "LIMIT 5;"
      ],
      "metadata": {
        "id": "yyxHvw08iLGS",
        "outputId": "bdba57cc-92d4-488a-fc06-6d669c9e962f",
        "colab": {
          "base_uri": "https://localhost:8080/",
          "height": 196
        }
      },
      "execution_count": 24,
      "outputs": [
        {
          "output_type": "stream",
          "name": "stdout",
          "text": [
            " * sqlite:///dbms_logs.db\n",
            "   sqlite:///gotham.db\n",
            "Done.\n"
          ]
        },
        {
          "output_type": "execute_result",
          "data": {
            "text/plain": [
              "[('user_50', 6),\n",
              " ('user_58', 5),\n",
              " ('user_35', 5),\n",
              " ('user_29', 4),\n",
              " ('user_13', 4)]"
            ],
            "text/html": [
              "<table>\n",
              "    <tr>\n",
              "        <th>user</th>\n",
              "        <th>connection_count</th>\n",
              "    </tr>\n",
              "    <tr>\n",
              "        <td>user_50</td>\n",
              "        <td>6</td>\n",
              "    </tr>\n",
              "    <tr>\n",
              "        <td>user_58</td>\n",
              "        <td>5</td>\n",
              "    </tr>\n",
              "    <tr>\n",
              "        <td>user_35</td>\n",
              "        <td>5</td>\n",
              "    </tr>\n",
              "    <tr>\n",
              "        <td>user_29</td>\n",
              "        <td>4</td>\n",
              "    </tr>\n",
              "    <tr>\n",
              "        <td>user_13</td>\n",
              "        <td>4</td>\n",
              "    </tr>\n",
              "</table>"
            ]
          },
          "metadata": {},
          "execution_count": 24
        }
      ]
    },
    {
      "cell_type": "code",
      "source": [
        "%%sql\n",
        "--Get average query execution time\n",
        "SELECT\n",
        "  ROUND(AVG(json_extract(data, '$.execution_time_ms')),2) AS avg_execution_time_ms\n",
        "FROM Logs\n",
        "WHERE json_extract(data, '$.type') = 'query_execution';\n"
      ],
      "metadata": {
        "id": "CyuqKp4ChiV0",
        "outputId": "a70409e5-87b5-44db-c153-35348a17bb11",
        "colab": {
          "base_uri": "https://localhost:8080/",
          "height": 113
        }
      },
      "execution_count": 25,
      "outputs": [
        {
          "output_type": "stream",
          "name": "stdout",
          "text": [
            " * sqlite:///dbms_logs.db\n",
            "   sqlite:///gotham.db\n",
            "Done.\n"
          ]
        },
        {
          "output_type": "execute_result",
          "data": {
            "text/plain": [
              "[(2370.28,)]"
            ],
            "text/html": [
              "<table>\n",
              "    <tr>\n",
              "        <th>avg_execution_time_ms</th>\n",
              "    </tr>\n",
              "    <tr>\n",
              "        <td>2370.28</td>\n",
              "    </tr>\n",
              "</table>"
            ]
          },
          "metadata": {},
          "execution_count": 25
        }
      ]
    },
    {
      "cell_type": "markdown",
      "source": [
        "## Lab: Practice Your SQL"
      ],
      "metadata": {
        "id": "OuJytxO5kmzs"
      }
    },
    {
      "cell_type": "code",
      "source": [
        "!wget https://github.com/brendanpshea/database_sql/raw/main/sql_select_quiz/sql_select_quiz.py -q -nc\n",
        "from sql_select_quiz import *\n",
        "json_url = \"https://github.com/brendanpshea/database_sql/raw/main/quiz/sql_dbms_log_quiz.json\"\n",
        "db_url = \"https://github.com/brendanpshea/database_sql/raw/main/data/dbms_logs.db\"\n",
        "\n",
        "sql_select_quiz_url(db_url, json_url)"
      ],
      "metadata": {
        "id": "vecOL3_HkqWc",
        "outputId": "c09e534a-dbe8-4a20-837b-2066104ec4e5",
        "colab": {
          "base_uri": "https://localhost:8080/",
          "height": 536,
          "referenced_widgets": [
            "5e5058c85ea64fe8a1500354d93a62ec",
            "3401ae4bb95f4319b1e0136e9215d0d2",
            "b94294cdb579449983d2945c23fdc126",
            "db41abed0f564ee78156e5dac5c1ae30",
            "b47556d577bb4fde9594a0e88d903819",
            "6695132194944ce5bac28c68b87ccae6",
            "a19a153012914adea53ececadacd5d5b",
            "2905e8bb788e4c318e0e62615b9907ce",
            "09d6682db90848eab6ef3ae5ed340e9c",
            "6535910968f0488a9cbd314dcc0f573b",
            "a4c4d3dbf2954490a128839f980f8f16",
            "be293faefffa48fe896ba4aff934d8e1",
            "3fc7d2f9b8534288a5db730b68ec20c7",
            "90ec3ee3a663428585f1933dacf4cbdf",
            "2e02ee164a3847b7b80ebf4bad249743",
            "fbf6ef8026724639a10d4fdf03c608c3",
            "27174b6d9de54271af5bfc375de68f83",
            "7dbece6aa677488ebe7c80182b911cef",
            "e5398f8fb97b42e9addcffa7c58aa8d1",
            "12f3caa00686411782ca6ab509f4b2cc",
            "24ecc0faf6bb4f82803c5b9a99d08a69",
            "33c514a6969040ebad467c5cc29ec6a4",
            "f8605e40a3034094a3b97151a0f96796",
            "60e8ddf1f3f5491bb22d174f9837fc53",
            "e26c70ef997a44cbae11a06110303d3b",
            "953d93cea1df4277a19ebeb590fe42ba",
            "3594778ec1b644c180ced8713737e790",
            "3c8e81ae6d584c7e963e1f12c4f457ab",
            "ec869523f12a4fb9bf24eefc4e974947",
            "5d07e9d05f50493eb059d84c7e30384a",
            "cad14171e53240afbc7b4e741b55ed19",
            "46ce9a1524ee43438f91e2c387614dc4",
            "9f4eb33407da44c1ad67cc6b53db3df1",
            "b8892fd2599842949ea21442f7458c38",
            "fd95ffa2cb9648098c6c65006ff2f629",
            "7c9de5a891554c198fc30742b34d7a8c",
            "bd2d90c94def41fb9569a813bcd6fc5c",
            "d92dafbff8fa4cf2baf54e7e8ed0d381",
            "9a4f907bb973493cb7228ac6eaca5f20",
            "34a3af92bb0c418c811f1d0a00a16ca8",
            "eecc6d09fdf64256bea20ec507ec0bb3",
            "aa37a5d7d3604f44afd606bfe02ceb95",
            "2ef81944e24b4dd4bc8dfbdb21c1989b",
            "f3e627344fd140469f367c06683c5ea4",
            "4c45aa133f284443860e0119feb1e3e1",
            "a3b185883e3041e98afba172069ac3e6",
            "af8d6529cc11446e8ffa588c56b30df6",
            "1041c9e9563b46f3a876908ad45539b8",
            "16192dd0370f4dc2b2fb736824c59667",
            "93b3cad01a5a4169b7d58bd63f596c71"
          ]
        }
      },
      "execution_count": 26,
      "outputs": [
        {
          "output_type": "display_data",
          "data": {
            "text/plain": [
              "VBox(children=(IntProgress(value=0, description='Progress:', max=1), HTML(value=\"<h3>Question 1 of 24:</h3><p>…"
            ],
            "application/vnd.jupyter.widget-view+json": {
              "version_major": 2,
              "version_minor": 0,
              "model_id": "5e5058c85ea64fe8a1500354d93a62ec"
            }
          },
          "metadata": {}
        }
      ]
    },
    {
      "cell_type": "markdown",
      "source": [
        "### Loop of the Recursive Dragon: Databse Theory"
      ],
      "metadata": {
        "id": "UvxHkdzZ0IhQ"
      }
    },
    {
      "cell_type": "code",
      "source": [
        "!wget https://github.com/brendanpshea/computing_concepts_python/raw/main/lotr/lotr.py -q -nc\n",
        "from lotr import start_game\n",
        "start_game(\"https://github.com/brendanpshea/computing_concepts_python/raw/main/lotr/lotrd_db_theory.json\")"
      ],
      "metadata": {
        "id": "ee6MOGtb0PWE",
        "outputId": "0a9676d3-586b-4a44-e9d5-cfe8834c5fef",
        "colab": {
          "base_uri": "https://localhost:8080/",
          "height": 264,
          "referenced_widgets": [
            "706ef7fc0c6b4bb7b7ef7a6d7058a0e4",
            "cd543e8831134d2f976c95a4bd4f1b12",
            "d620b4b9548b42ed907db35de7bd3eb2",
            "bb22ee763e51490299da5518dcefea58",
            "23f242474b6e4944b2356e95b459e670",
            "adaf116defb34a94874323b0fabcad50",
            "27ece0dd0319454d8412c08c09d9ae7c",
            "8f9d1e239541485990e470b20f24e0f3"
          ]
        }
      },
      "execution_count": 27,
      "outputs": [
        {
          "output_type": "display_data",
          "data": {
            "text/plain": [
              "<IPython.core.display.HTML object>"
            ],
            "text/html": [
              "\n",
              "<style>\n",
              ".bbs-container {\n",
              "    background-color: #1e1e1e;\n",
              "    border: 2px solid #00ff00;\n",
              "    border-radius: 10px;\n",
              "    padding: 15px;\n",
              "    margin: 10px 0;\n",
              "    color: #00ff00;\n",
              "    font-family: 'Courier New', Courier, monospace;\n",
              "}\n",
              ".title {\n",
              "    font-size: 24px;\n",
              "    font-weight: bold;\n",
              "    text-align: center;\n",
              "    margin-bottom: 10px;\n",
              "}\n",
              ".section {\n",
              "    font-size: 16px;\n",
              "    margin-bottom: 10px;\n",
              "}\n",
              ".bold { font-weight: bold; }\n",
              ".underline { text-decoration: underline; }\n",
              ".yellow { color: #ffff00; }\n",
              ".red { color: #ff0000; }\n",
              ".cyan { color: #00ffff; }\n",
              "</style>\n"
            ]
          },
          "metadata": {}
        },
        {
          "output_type": "display_data",
          "data": {
            "text/plain": [
              "VBox(layout=Layout(border='solid 1px #00ff00', padding='20px', width='800px'))"
            ],
            "application/vnd.jupyter.widget-view+json": {
              "version_major": 2,
              "version_minor": 0,
              "model_id": "706ef7fc0c6b4bb7b7ef7a6d7058a0e4"
            }
          },
          "metadata": {}
        }
      ]
    },
    {
      "cell_type": "markdown",
      "source": [
        "## Key Points Summary\n",
        "\n",
        "-   Indexes are separate data structures that allow the database engine to find and retrieve data more efficiently without scanning the entire table.\n",
        "-   Creating appropriate indexes is crucial for optimizing database performance, but indexes also require additional storage space.\n",
        "-   Transactions ensure data integrity and reliability by treating a sequence of database operations as a single unit of work, adhering to the ACID properties: Atomicity, Consistency, Isolation, and Durability.\n",
        "-   SQLite provides commands like BEGIN, COMMIT, ROLLBACK, and SAVEPOINT to work with transactions and manage changes to the database.\n",
        "-   Concurrent transactions can lead to issues like lost updates and inconsistent data, so databases employ locking mechanisms to control simultaneous access to data.\n",
        "-   Database monitoring involves continuously observing and tracking various aspects of a database system to ensure it's running smoothly and efficiently.\n",
        "-   Reporting generates detailed analyses and summaries based on the data collected through monitoring, helping database administrators make informed decisions.\n",
        "-   Logging systematically records events, activities, and metrics related to the database system, providing valuable information for troubleshooting, performance optimization, and security auditing.\n",
        "-   Database administrators like ORACLE rely on a combination of tools, techniques, and best practices to effectively monitor, manage, and optimize databases, ensuring their reliability, performance, and security."
      ],
      "metadata": {
        "id": "Iyap8X9z5TKN"
      }
    },
    {
      "cell_type": "markdown",
      "source": [
        "## Review With Quizlet"
      ],
      "metadata": {
        "id": "8fPwIv0C12ot"
      }
    },
    {
      "cell_type": "code",
      "source": [
        "%%html\n",
        "<iframe src=\"https://quizlet.com/930417246/learn/embed?i=psvlh&x=1jj1\" height=\"600\" width=\"100%\" style=\"border:0\"></iframe>"
      ],
      "metadata": {
        "colab": {
          "base_uri": "https://localhost:8080/",
          "height": 622
        },
        "id": "NSzunJvO14-l",
        "outputId": "c438b26f-077b-427a-bfe0-fed94dc8602e"
      },
      "execution_count": 28,
      "outputs": [
        {
          "output_type": "display_data",
          "data": {
            "text/plain": [
              "<IPython.core.display.HTML object>"
            ],
            "text/html": [
              "<iframe src=\"https://quizlet.com/930417246/learn/embed?i=psvlh&x=1jj1\" height=\"600\" width=\"100%\" style=\"border:0\"></iframe>\n"
            ]
          },
          "metadata": {}
        }
      ]
    },
    {
      "cell_type": "markdown",
      "source": [
        "## Glossary\n",
        "| Term | Definition |\n",
        "|------|------------|\n",
        "| ACID | An acronym representing the four key properties of database transactions: Atomicity, Consistency, Isolation, and Durability. |\n",
        "| Atomicity | The property ensuring that a transaction is treated as a single, indivisible unit of work, which either completes entirely or fails completely. |\n",
        "| BEGIN | A SQL command used to explicitly start a new transaction in a database management system. |\n",
        "| B-tree | A self-balancing tree data structure commonly used in databases and file systems for efficient data retrieval, insertion, and deletion operations. |\n",
        "| Clustered index | A type of index that determines the physical order of data in a table, allowing for faster data retrieval based on the indexed columns. |\n",
        "| COMMIT | A SQL command used to permanently save the changes made during a transaction to the database. |\n",
        "| Concurrency | The ability of a database management system to handle multiple transactions or operations simultaneously without conflicts. |\n",
        "| connection logs | Records of database connections, including details such as user, time, duration, and connection status. |\n",
        "| Consistency | The property ensuring that a transaction brings the database from one valid state to another, maintaining all predefined rules and constraints. |\n",
        "| Covering index | An index that includes all the columns required to satisfy a query, eliminating the need to access the actual table data. |\n",
        "| CREATE INDEX index_name on tb1 (c1,c2,…) | A SQL command used to create an index on one or more columns of a specified table to improve query performance. |\n",
        "| Database monitoring | The process of continuously tracking and analyzing database performance, resource usage, and potential issues to ensure optimal operation. |\n",
        "| Database reporting | The generation of structured information about database activities, performance metrics, and usage patterns for analysis and decision-making. |\n",
        "| Durability | The property ensuring that once a transaction is committed, its changes are permanent and will survive system failures or crashes. |\n",
        "| Exclusive (Write) Lock | A lock that prevents other transactions from reading or modifying the locked data, typically used for write operations. |\n",
        "| EXPLAIN QUERY PLAN | A SQL command used to display the execution plan of a query, helping developers optimize query performance. |\n",
        "| Full table scan | A database operation that reads every row in a table, typically used when no suitable index is available for a query. |\n",
        "| Index | A data structure that improves the speed of data retrieval operations on a database table by providing quick access to rows. |\n",
        "| Index scan | A database operation that uses an index to locate and retrieve specific rows from a table, generally faster than a full table scan for selective queries. |\n",
        "| Isolation | The property that ensures concurrent transactions do not interfere with each other, maintaining data integrity and consistency. |\n",
        "| Non-clustered index | An index structure separate from the data rows, containing the indexed columns and a pointer to the corresponding table rows. |\n",
        "| ROLLBACK | A SQL command used to undo all changes made in the current transaction and end the transaction. |\n",
        "| SAVEPOINT | A point within a transaction to which you can later roll back, allowing for more granular control over transaction management. |\n",
        "| Scalar subquery | A subquery that returns a single value, which can be used in a main query as part of a condition or expression. |\n",
        "| Shared (Read) Lock | A lock that allows multiple transactions to read the same data simultaneously but prevents any writes to that data. |\n",
        "| system logs | Records of database system events, errors, and activities, crucial for troubleshooting, auditing, and performance analysis. |\n",
        "| Transaction | A sequence of one or more SQL statements that are executed as a single unit of work, maintaining data integrity and consistency. |"
      ],
      "metadata": {
        "id": "JkyBE31X1FnH"
      }
    },
    {
      "cell_type": "code",
      "source": [],
      "metadata": {
        "id": "y3ohQ_74zMfO"
      },
      "execution_count": 28,
      "outputs": []
    }
  ]
}