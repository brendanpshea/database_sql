{
  "nbformat": 4,
  "nbformat_minor": 0,
  "metadata": {
    "colab": {
      "provenance": [],
      "authorship_tag": "ABX9TyNh7FF8mGbf2qPxFABjBZg2",
      "include_colab_link": true
    },
    "kernelspec": {
      "name": "python3",
      "display_name": "Python 3"
    },
    "language_info": {
      "name": "python"
    }
  },
  "cells": [
    {
      "cell_type": "markdown",
      "metadata": {
        "id": "view-in-github",
        "colab_type": "text"
      },
      "source": [
        "<a href=\"https://colab.research.google.com/github/brendanpshea/database_sql/blob/main/Database_08_IndexesTransactions.ipynb\" target=\"_parent\"><img src=\"https://colab.research.google.com/assets/colab-badge.svg\" alt=\"Open In Colab\"/></a>"
      ]
    },
    {
      "cell_type": "markdown",
      "source": [
        "# Database Performance: Index, Query Plans, and Transaction Management\n",
        "In this chapter, we will explore the inner workings of SQLite using a dataset from the fictional Gotham National Bank. Our focus will be on understanding how indexes, transactions, and database monitoring can optimize SQLite database performance and ensure smooth operations. We will cover the fundamentals of indexes, demonstrate their impact on query speed and database size, and discuss best practices for implementing them effectively.\n",
        "\n",
        "Additionally, we will delve into the concept of transactions and the crucial role they play in ensuring data integrity and reliability. We will examine the ACID properties that transactions must adhere to and showcase how to work with transactions in SQLite using commands like BEGIN, COMMIT, and ROLLBACK.\n",
        "\n",
        "Furthermore, we will emphasize the importance of database monitoring, reporting, and logging in maintaining the health and performance of SQLite databases. We will explore various monitoring techniques, discuss the types of logs generated, and highlight the tools and practices used by database administrators like ORACLE to keep databases running optimally.\n",
        "\n",
        "Throughout the chapter, we will use practical examples and step-by-step explanations to illustrate how indexes, transactions, and monitoring can be leveraged to build robust and efficient databases. By the end, you should have a solid foundation in these key concepts and be well-equipped to apply them in your own SQLite projects.\n",
        "\n",
        "Learning Outcomes:\n",
        "\n",
        "1.  Understand the purpose and benefits of indexes in SQLite databases\n",
        "2.  Learn how to create indexes and analyze their impact on query performance and database size\n",
        "3.  Recognize situations where creating an index is advantageous and when it may not be necessary\n",
        "4.  Grasp the concept of transactions and their importance in maintaining data integrity and reliability\n",
        "5.  Become familiar with the ACID properties of transactions and their implications for database consistency\n",
        "6.  Learn how to work with transactions in SQLite using BEGIN, COMMIT, ROLLBACK, and SAVEPOINT commands\n",
        "7.  Understand the challenges of concurrent transactions and the role of locking mechanisms in managing simultaneous access to data\n",
        "8.  Appreciate the significance of database monitoring, reporting, and logging in ensuring optimal performance and health of SQLite databases\n",
        "9.  Gain insights into the tools and techniques used by database administrators to monitor and manage databases effectively\n",
        "\n",
        "Keywords: SQLite, indexes, transactions, database monitoring, reporting, logging, query performance, database size, ACID properties, data integrity, reliability, concurrency, locking\n",
        "\n",
        "\n"
      ],
      "metadata": {
        "id": "P8p0DiGl7a6f"
      }
    },
    {
      "cell_type": "markdown",
      "source": [
        "## Gotham National Bank Database\n",
        "In this chapter, we'll be exploring the inner workings of **SQLite** using a dataset from the fictional **Gotham National Bank**. Our database, *gotham.db*, contains two tables:\n",
        "\n",
        "1.  **Customers**: Stores customer information like name, address, and contact details.\n",
        "2.  **Accounts**: Holds account-related data such as account type, balance, and creation date, with a foreign key linking to the Customers table.\n",
        "\n",
        "Throughout this chapter, we'll use these tables to understand how **indexes** and **transactions** can optimize our SQLite database performance. We'll cover the fundamentals of indexes, demonstrate their impact on query speed and database size, and discuss best practices for implementing them effectively."
      ],
      "metadata": {
        "id": "OlZDsIe35EiY"
      }
    },
    {
      "cell_type": "code",
      "execution_count": null,
      "metadata": {
        "id": "qsF2EjFB6Dyf"
      },
      "outputs": [],
      "source": [
        "!wget https://github.com/brendanpshea/database_sql/raw/main/data/gotham.db -q -nc\n",
        "%load_ext sql\n",
        "%sql sqlite:///gotham.db\n"
      ]
    },
    {
      "cell_type": "markdown",
      "source": [],
      "metadata": {
        "id": "rc5uIXlz5Nnx"
      }
    },
    {
      "cell_type": "markdown",
      "source": [
        "## Database Schema for Gotham City Bank\n",
        "Here is the database schema."
      ],
      "metadata": {
        "id": "Fy6vnP-_8Nub"
      }
    },
    {
      "cell_type": "code",
      "source": [
        "%%sql\n",
        "-- we are going to turn on \"profiling\" this lesson\n",
        "PRAGMA profile = 1;\n",
        "-- get table schema using sqlite master\n",
        "SELECT sql FROM sqlite_master WHERE type='table';"
      ],
      "metadata": {
        "colab": {
          "base_uri": "https://localhost:8080/",
          "height": 467
        },
        "id": "kx50EYAW6ao7",
        "outputId": "7587a883-72bd-4f94-e79e-0c8bd42f399e"
      },
      "execution_count": null,
      "outputs": [
        {
          "output_type": "stream",
          "name": "stdout",
          "text": [
            " * sqlite:///gotham.db\n",
            "Done.\n",
            "Done.\n"
          ]
        },
        {
          "output_type": "execute_result",
          "data": {
            "text/plain": [
              "[('CREATE TABLE Customers (\\n    CustomerID INTEGER PRIMARY KEY AUTOINCREMENT,\\n    FirstName VARCHAR(50) NOT NULL,\\n    LastName VARCHAR(50) NOT NULL,\\ ... (35 characters truncated) ... dress VARCHAR(255),\\n    City VARCHAR(50),\\n    State VARCHAR(50),\\n    ZipCode VARCHAR(10),\\n    PhoneNumber VARCHAR(15),\\n    Email VARCHAR(100)\\n)',),\n",
              " ('CREATE TABLE sqlite_sequence(name,seq)',),\n",
              " ('CREATE TABLE Accounts (\\n    AccountID INTEGER PRIMARY KEY AUTOINCREMENT,\\n    CustomerID INT,\\n    AccountType VARCHAR(20),\\n    Balance DECIMAL(15, 2) DEFAULT 0.00,\\n    CreatedDate DATE,\\n    FOREIGN KEY (CustomerID) REFERENCES Customers(CustomerID)\\n)',)]"
            ],
            "text/html": [
              "<table>\n",
              "    <thead>\n",
              "        <tr>\n",
              "            <th>sql</th>\n",
              "        </tr>\n",
              "    </thead>\n",
              "    <tbody>\n",
              "        <tr>\n",
              "            <td>CREATE TABLE Customers (<br>    CustomerID INTEGER PRIMARY KEY AUTOINCREMENT,<br>    FirstName VARCHAR(50) NOT NULL,<br>    LastName VARCHAR(50) NOT NULL,<br>    MiddleInitial CHAR(1),<br>    Address VARCHAR(255),<br>    City VARCHAR(50),<br>    State VARCHAR(50),<br>    ZipCode VARCHAR(10),<br>    PhoneNumber VARCHAR(15),<br>    Email VARCHAR(100)<br>)</td>\n",
              "        </tr>\n",
              "        <tr>\n",
              "            <td>CREATE TABLE sqlite_sequence(name,seq)</td>\n",
              "        </tr>\n",
              "        <tr>\n",
              "            <td>CREATE TABLE Accounts (<br>    AccountID INTEGER PRIMARY KEY AUTOINCREMENT,<br>    CustomerID INT,<br>    AccountType VARCHAR(20),<br>    Balance DECIMAL(15, 2) DEFAULT 0.00,<br>    CreatedDate DATE,<br>    FOREIGN KEY (CustomerID) REFERENCES Customers(CustomerID)<br>)</td>\n",
              "        </tr>\n",
              "    </tbody>\n",
              "</table>"
            ]
          },
          "metadata": {},
          "execution_count": 2
        }
      ]
    },
    {
      "cell_type": "markdown",
      "source": [
        "## A Closer Look at Customers and Accounts\n",
        "Now, let's take a quick look at the head of our table."
      ],
      "metadata": {
        "id": "ps0Bhu1F7sUE"
      }
    },
    {
      "cell_type": "code",
      "source": [
        "%%sql\n",
        "SELECT * FROM Customers LIMIT 5;"
      ],
      "metadata": {
        "colab": {
          "base_uri": "https://localhost:8080/",
          "height": 179
        },
        "id": "u4_M74pe8dsr",
        "outputId": "14cd571a-d886-4360-aacd-86752dd5c24e"
      },
      "execution_count": null,
      "outputs": [
        {
          "output_type": "stream",
          "name": "stdout",
          "text": [
            " * sqlite:///gotham.db\n",
            "Done.\n"
          ]
        },
        {
          "output_type": "execute_result",
          "data": {
            "text/plain": [
              "[(1, 'Bruce', 'Wayne', None, '1007 Mountain Drive', 'Gotham', 'NY', '10001', '123-456-7890', 'bruce.wayne@gothambank.com'),\n",
              " (2, 'Selina', 'Kyle', None, '123 Cat St', 'Blüdhaven', 'NY', '20002', '234-567-8901', 'selina.kyle@gothambank.com'),\n",
              " (3, 'James', 'Gordon', None, '789 Police Plaza', 'Gotham', 'NY', '10003', '345-678-9012', 'james.gordon@gothambank.com'),\n",
              " (4, 'Harvey', 'Dent', None, '456 Lawyer Ave', 'Metropolis', 'NY', '30004', '456-789-0123', 'harvey.dent@gothambank.com'),\n",
              " (5, 'Pamela', 'Isley', None, '369 Botanic St', 'Gotham', 'NY', '10005', '567-890-1234', 'pamela.isley@gothambank.com')]"
            ],
            "text/html": [
              "<table>\n",
              "    <thead>\n",
              "        <tr>\n",
              "            <th>CustomerID</th>\n",
              "            <th>FirstName</th>\n",
              "            <th>LastName</th>\n",
              "            <th>MiddleInitial</th>\n",
              "            <th>Address</th>\n",
              "            <th>City</th>\n",
              "            <th>State</th>\n",
              "            <th>ZipCode</th>\n",
              "            <th>PhoneNumber</th>\n",
              "            <th>Email</th>\n",
              "        </tr>\n",
              "    </thead>\n",
              "    <tbody>\n",
              "        <tr>\n",
              "            <td>1</td>\n",
              "            <td>Bruce</td>\n",
              "            <td>Wayne</td>\n",
              "            <td>None</td>\n",
              "            <td>1007 Mountain Drive</td>\n",
              "            <td>Gotham</td>\n",
              "            <td>NY</td>\n",
              "            <td>10001</td>\n",
              "            <td>123-456-7890</td>\n",
              "            <td>bruce.wayne@gothambank.com</td>\n",
              "        </tr>\n",
              "        <tr>\n",
              "            <td>2</td>\n",
              "            <td>Selina</td>\n",
              "            <td>Kyle</td>\n",
              "            <td>None</td>\n",
              "            <td>123 Cat St</td>\n",
              "            <td>Blüdhaven</td>\n",
              "            <td>NY</td>\n",
              "            <td>20002</td>\n",
              "            <td>234-567-8901</td>\n",
              "            <td>selina.kyle@gothambank.com</td>\n",
              "        </tr>\n",
              "        <tr>\n",
              "            <td>3</td>\n",
              "            <td>James</td>\n",
              "            <td>Gordon</td>\n",
              "            <td>None</td>\n",
              "            <td>789 Police Plaza</td>\n",
              "            <td>Gotham</td>\n",
              "            <td>NY</td>\n",
              "            <td>10003</td>\n",
              "            <td>345-678-9012</td>\n",
              "            <td>james.gordon@gothambank.com</td>\n",
              "        </tr>\n",
              "        <tr>\n",
              "            <td>4</td>\n",
              "            <td>Harvey</td>\n",
              "            <td>Dent</td>\n",
              "            <td>None</td>\n",
              "            <td>456 Lawyer Ave</td>\n",
              "            <td>Metropolis</td>\n",
              "            <td>NY</td>\n",
              "            <td>30004</td>\n",
              "            <td>456-789-0123</td>\n",
              "            <td>harvey.dent@gothambank.com</td>\n",
              "        </tr>\n",
              "        <tr>\n",
              "            <td>5</td>\n",
              "            <td>Pamela</td>\n",
              "            <td>Isley</td>\n",
              "            <td>None</td>\n",
              "            <td>369 Botanic St</td>\n",
              "            <td>Gotham</td>\n",
              "            <td>NY</td>\n",
              "            <td>10005</td>\n",
              "            <td>567-890-1234</td>\n",
              "            <td>pamela.isley@gothambank.com</td>\n",
              "        </tr>\n",
              "    </tbody>\n",
              "</table>"
            ]
          },
          "metadata": {},
          "execution_count": 3
        }
      ]
    },
    {
      "cell_type": "code",
      "source": [
        "%%sql\n",
        "SELECT * FROM Accounts LIMIT 5;"
      ],
      "metadata": {
        "colab": {
          "base_uri": "https://localhost:8080/",
          "height": 179
        },
        "id": "Ol8O-SD-8fuB",
        "outputId": "2b5ccbf2-0e83-4a0c-8646-e4d4d34b010e"
      },
      "execution_count": null,
      "outputs": [
        {
          "output_type": "stream",
          "name": "stdout",
          "text": [
            " * sqlite:///gotham.db\n",
            "Done.\n"
          ]
        },
        {
          "output_type": "execute_result",
          "data": {
            "text/plain": [
              "[(1, 1, 'Checking', 15000, '2021-01-10'),\n",
              " (2, 1, 'Savings', 75000, '2021-02-11'),\n",
              " (3, 2, 'Checking', 32000, '2022-03-05'),\n",
              " (4, 3, 'Checking', 86000, '2023-04-15'),\n",
              " (5, 4, 'Checking', 22000, '2024-05-20')]"
            ],
            "text/html": [
              "<table>\n",
              "    <thead>\n",
              "        <tr>\n",
              "            <th>AccountID</th>\n",
              "            <th>CustomerID</th>\n",
              "            <th>AccountType</th>\n",
              "            <th>Balance</th>\n",
              "            <th>CreatedDate</th>\n",
              "        </tr>\n",
              "    </thead>\n",
              "    <tbody>\n",
              "        <tr>\n",
              "            <td>1</td>\n",
              "            <td>1</td>\n",
              "            <td>Checking</td>\n",
              "            <td>15000</td>\n",
              "            <td>2021-01-10</td>\n",
              "        </tr>\n",
              "        <tr>\n",
              "            <td>2</td>\n",
              "            <td>1</td>\n",
              "            <td>Savings</td>\n",
              "            <td>75000</td>\n",
              "            <td>2021-02-11</td>\n",
              "        </tr>\n",
              "        <tr>\n",
              "            <td>3</td>\n",
              "            <td>2</td>\n",
              "            <td>Checking</td>\n",
              "            <td>32000</td>\n",
              "            <td>2022-03-05</td>\n",
              "        </tr>\n",
              "        <tr>\n",
              "            <td>4</td>\n",
              "            <td>3</td>\n",
              "            <td>Checking</td>\n",
              "            <td>86000</td>\n",
              "            <td>2023-04-15</td>\n",
              "        </tr>\n",
              "        <tr>\n",
              "            <td>5</td>\n",
              "            <td>4</td>\n",
              "            <td>Checking</td>\n",
              "            <td>22000</td>\n",
              "            <td>2024-05-20</td>\n",
              "        </tr>\n",
              "    </tbody>\n",
              "</table>"
            ]
          },
          "metadata": {},
          "execution_count": 4
        }
      ]
    },
    {
      "cell_type": "markdown",
      "source": [
        "## What are Indexes and How Do I Create Them?\n",
        "\n",
        "If you've ever used a book index to quickly locate a specific topic, you already understand the basic concept of a database **index**. In the context of databases, an index is a separate data structure that allows the database engine to find and retrieve data more efficiently without having to scan the entire table.\n",
        "\n",
        "When you create a table, SQLite (like all versions of SQL) automatically creates a unique index on the **primary key** column(s). However, you can also create additional indexes on other columns to speed up frequently used queries.\n",
        "\n",
        "To create an index in SQL, you use the **CREATE INDEX** statement with the following syntax:\n",
        "\n",
        "```sql\n",
        "CREATE [UNIQUE] INDEX index_name\n",
        "ON table_name (column1 [, column2, ...]);\n",
        "```\n",
        "\n",
        "Here's a breakdown of the components:\n",
        "\n",
        "-   `UNIQUE`: Optional keyword that creates a unique index, ensuring no duplicate values in the indexed column(s).\n",
        "-   `index_name`: The name you want to give your index.\n",
        "-   `table_name`: The name of the table on which you're creating the index.\n",
        "-   `column1, column2, ...`: The column(s) to be indexed. You can index multiple columns by separating them with commas.\n",
        "\n",
        "For example, let's say we want to create an index on the *LastName* column of our *Customers* table:!"
      ],
      "metadata": {
        "id": "cwWgv-hn7Ihb"
      }
    },
    {
      "cell_type": "code",
      "source": [
        "%%sql\n",
        "DROP INDEX IF EXISTS idx_customers_lastname;\n",
        "CREATE INDEX idx_customers_lastname\n",
        "ON Customers (LastName);"
      ],
      "metadata": {
        "colab": {
          "base_uri": "https://localhost:8080/"
        },
        "id": "VWB_i0vg89Vo",
        "outputId": "d08190ed-3adf-4031-c286-af19fe2b692b"
      },
      "execution_count": null,
      "outputs": [
        {
          "output_type": "stream",
          "name": "stdout",
          "text": [
            " * sqlite:///gotham.db\n",
            "Done.\n",
            "Done.\n"
          ]
        },
        {
          "output_type": "execute_result",
          "data": {
            "text/plain": [
              "[]"
            ]
          },
          "metadata": {},
          "execution_count": 5
        }
      ]
    },
    {
      "cell_type": "markdown",
      "source": [
        "This statement creates an index named idx_customer_lastname on the LastName column, allowing for faster searches based on customer last names. This will allow us to search customers by their last name more quickly.\n",
        "\n",
        "SQLite supports several types of indexes, including **unique indexes**, which ensure that the indexed column(s) contain no duplicate values, and partial indexes, which only index a subset of rows based on a specified condition.\n",
        "\n",
        "By default, SQLite (like other RDBMSs) creates a **clustered index** for the primary key of every table, without you needing to do anything. This means that items are physically \"clustered together\" on disk (so, a record with id=1 is next to the record with id=2). THe `CREATE INDEX` command creates what is a called a **non-clustered** index, meaning that the indexes records that are NOT physically next to each other. (We'll see more on how this works later). There can be only one clustered index per table, but any number of non-clustered indexes.\n",
        "\n",
        "Creating appropriate indexes is crucial for optimizing database performance, but how do they actually impact query speed? In the next section, we'll explore the power of indexes in action using the EXPLAIN QUERY PLAN command and some practical examples from our Gotham City dataset."
      ],
      "metadata": {
        "id": "z0rumVik9GtV"
      }
    },
    {
      "cell_type": "markdown",
      "source": [
        "## How Indexes Impact Speed\n",
        "\n",
        "To understand the impact of indexes on query speed, we'll use the **EXPLAIN QUERY PLAN** command. This command provides insight into how SQLite executes a query, including which indexes (if any) are being used.\n",
        "\n",
        "Let's start with an example query on our *Accounts* table that gets customers with higher than average balances"
      ],
      "metadata": {
        "id": "bVpTi1eC9UKh"
      }
    },
    {
      "cell_type": "code",
      "source": [
        "%%sql\n",
        "SELECT * FROM Accounts\n",
        "WHERE Balance > (SELECT AVG(Balance) FROM Accounts)\n",
        "ORDER BY Balance DESC\n",
        "LIMIT 5;"
      ],
      "metadata": {
        "colab": {
          "base_uri": "https://localhost:8080/",
          "height": 179
        },
        "id": "kFFBXZs3C5i5",
        "outputId": "44b8b4c8-6115-4d9d-e786-652716e7e494"
      },
      "execution_count": null,
      "outputs": [
        {
          "output_type": "stream",
          "name": "stdout",
          "text": [
            " * sqlite:///gotham.db\n",
            "Done.\n"
          ]
        },
        {
          "output_type": "execute_result",
          "data": {
            "text/plain": [
              "[(8136, 7952, 'Savings', 92802.15340000001, '2003-01-18'),\n",
              " (3401, 4699, 'Savings', 91534.3495, '2015-03-25'),\n",
              " (304, 277, 'Savings', 91283.00280000002, '2021-05-08'),\n",
              " (10, 8, 'Checking', 91000, '2024-10-10'),\n",
              " (5953, 5751, 'Savings', 90689.35260000001, '2013-12-29')]"
            ],
            "text/html": [
              "<table>\n",
              "    <thead>\n",
              "        <tr>\n",
              "            <th>AccountID</th>\n",
              "            <th>CustomerID</th>\n",
              "            <th>AccountType</th>\n",
              "            <th>Balance</th>\n",
              "            <th>CreatedDate</th>\n",
              "        </tr>\n",
              "    </thead>\n",
              "    <tbody>\n",
              "        <tr>\n",
              "            <td>8136</td>\n",
              "            <td>7952</td>\n",
              "            <td>Savings</td>\n",
              "            <td>92802.15340000001</td>\n",
              "            <td>2003-01-18</td>\n",
              "        </tr>\n",
              "        <tr>\n",
              "            <td>3401</td>\n",
              "            <td>4699</td>\n",
              "            <td>Savings</td>\n",
              "            <td>91534.3495</td>\n",
              "            <td>2015-03-25</td>\n",
              "        </tr>\n",
              "        <tr>\n",
              "            <td>304</td>\n",
              "            <td>277</td>\n",
              "            <td>Savings</td>\n",
              "            <td>91283.00280000002</td>\n",
              "            <td>2021-05-08</td>\n",
              "        </tr>\n",
              "        <tr>\n",
              "            <td>10</td>\n",
              "            <td>8</td>\n",
              "            <td>Checking</td>\n",
              "            <td>91000</td>\n",
              "            <td>2024-10-10</td>\n",
              "        </tr>\n",
              "        <tr>\n",
              "            <td>5953</td>\n",
              "            <td>5751</td>\n",
              "            <td>Savings</td>\n",
              "            <td>90689.35260000001</td>\n",
              "            <td>2013-12-29</td>\n",
              "        </tr>\n",
              "    </tbody>\n",
              "</table>"
            ]
          },
          "metadata": {},
          "execution_count": 6
        }
      ]
    },
    {
      "cell_type": "markdown",
      "source": [
        "Now, let's see what the \"query plan\" is for this:"
      ],
      "metadata": {
        "id": "VdGfHJDTDfCO"
      }
    },
    {
      "cell_type": "code",
      "source": [
        "%%sql\n",
        "DROP INDEX IF EXISTS idx_accounts_balance;\n",
        "\n",
        "EXPLAIN QUERY PLAN\n",
        "SELECT * FROM Accounts\n",
        "WHERE Balance > (SELECT AVG(Balance) FROM Accounts)\n",
        "ORDER BY Balance DESC;"
      ],
      "metadata": {
        "colab": {
          "base_uri": "https://localhost:8080/",
          "height": 175
        },
        "id": "Bdi_nxgZ9lwk",
        "outputId": "9c17c031-789b-4a26-e88f-655deb2df6fa"
      },
      "execution_count": null,
      "outputs": [
        {
          "output_type": "stream",
          "name": "stdout",
          "text": [
            " * sqlite:///gotham.db\n",
            "Done.\n",
            "Done.\n"
          ]
        },
        {
          "output_type": "execute_result",
          "data": {
            "text/plain": [
              "[(3, 0, 0, 'SCAN Accounts'),\n",
              " (8, 0, 0, 'SCALAR SUBQUERY 1'),\n",
              " (13, 8, 0, 'SCAN Accounts'),\n",
              " (31, 0, 0, 'USE TEMP B-TREE FOR ORDER BY')]"
            ],
            "text/html": [
              "<table>\n",
              "    <thead>\n",
              "        <tr>\n",
              "            <th>id</th>\n",
              "            <th>parent</th>\n",
              "            <th>notused</th>\n",
              "            <th>detail</th>\n",
              "        </tr>\n",
              "    </thead>\n",
              "    <tbody>\n",
              "        <tr>\n",
              "            <td>3</td>\n",
              "            <td>0</td>\n",
              "            <td>0</td>\n",
              "            <td>SCAN Accounts</td>\n",
              "        </tr>\n",
              "        <tr>\n",
              "            <td>8</td>\n",
              "            <td>0</td>\n",
              "            <td>0</td>\n",
              "            <td>SCALAR SUBQUERY 1</td>\n",
              "        </tr>\n",
              "        <tr>\n",
              "            <td>13</td>\n",
              "            <td>8</td>\n",
              "            <td>0</td>\n",
              "            <td>SCAN Accounts</td>\n",
              "        </tr>\n",
              "        <tr>\n",
              "            <td>31</td>\n",
              "            <td>0</td>\n",
              "            <td>0</td>\n",
              "            <td>USE TEMP B-TREE FOR ORDER BY</td>\n",
              "        </tr>\n",
              "    </tbody>\n",
              "</table>"
            ]
          },
          "metadata": {},
          "execution_count": 7
        }
      ]
    },
    {
      "cell_type": "markdown",
      "source": [
        "If you look at the query plan here, you'll notice a few key terms that pop out:\n",
        "\n",
        "-   **Full Table Scan**: A full table scan occurs when SQLite reads every row in a table to find the data that matches the query conditions. In this case, `SCAN Accounts` indicates that SQLite is performing a full table scan on the *Accounts* table. Full table scans can be inefficient, especially for large tables, as they require reading and checking every single row. This will change when we create an index.\n",
        "-   **Scalar Subquery**: A scalar subquery is a subquery that returns a single value. In this example, `SCALAR SUBQUERY 1` refers to the subquery `(SELECT AVG(Balance) FROM Accounts)`, which calculates the average balance of all accounts. The result of this subquery is used in the main query's WHERE clause.\n",
        "-   **Temporary B-Tree**: In this case, `USE TEMP B-TREE FOR ORDER BY` indicates that SQLite is using a temporary B-tree data structure to sort the result set in descending order by the *Balance* column. We'll dive deeper into B-trees in a future section."
      ],
      "metadata": {
        "id": "BHy58HwN-TYU"
      }
    },
    {
      "cell_type": "markdown",
      "source": [
        "### Impact of Indexes\n",
        "\n",
        "If an index were created on the `Balance` column, the query execution plan would likely be different. For example, with an index on `Balance`, the execution plan might show an **index search** instead of a full table scan, resulting in faster query execution times.\n",
        "\n",
        "To create an index on the `Balance` column, you could use the following command:"
      ],
      "metadata": {
        "id": "vKvSgWmD-hSI"
      }
    },
    {
      "cell_type": "code",
      "source": [
        "%%sql\n",
        "CREATE INDEX idx_accounts_balance\n",
        "ON Accounts (Balance);"
      ],
      "metadata": {
        "colab": {
          "base_uri": "https://localhost:8080/"
        },
        "id": "c8bqlxQa-gsh",
        "outputId": "57f084ce-49d7-41f6-84d5-44ca2ca610dd"
      },
      "execution_count": null,
      "outputs": [
        {
          "output_type": "stream",
          "name": "stdout",
          "text": [
            " * sqlite:///gotham.db\n",
            "Done.\n"
          ]
        },
        {
          "output_type": "execute_result",
          "data": {
            "text/plain": [
              "[]"
            ]
          },
          "metadata": {},
          "execution_count": 8
        }
      ]
    },
    {
      "cell_type": "markdown",
      "source": [
        "Now, let's see what happens to our query plan:"
      ],
      "metadata": {
        "id": "k1IidaNe-l7g"
      }
    },
    {
      "cell_type": "code",
      "source": [
        "%%sql\n",
        "EXPLAIN QUERY PLAN\n",
        "SELECT * FROM Accounts\n",
        "WHERE Balance > (SELECT AVG(Balance) FROM Accounts)\n",
        "ORDER BY Balance DESC;"
      ],
      "metadata": {
        "colab": {
          "base_uri": "https://localhost:8080/",
          "height": 137
        },
        "id": "dQq1f2P8-lJm",
        "outputId": "47f52419-7455-4b08-9988-d9f9dae7f587"
      },
      "execution_count": null,
      "outputs": [
        {
          "output_type": "stream",
          "name": "stdout",
          "text": [
            " * sqlite:///gotham.db\n",
            "Done.\n"
          ]
        },
        {
          "output_type": "execute_result",
          "data": {
            "text/plain": [
              "[(4, 0, 0, 'SEARCH Accounts USING INDEX idx_accounts_balance (Balance>?)'),\n",
              " (8, 0, 0, 'SCALAR SUBQUERY 1'),\n",
              " (13, 8, 0, 'SCAN Accounts USING COVERING INDEX idx_accounts_balance')]"
            ],
            "text/html": [
              "<table>\n",
              "    <thead>\n",
              "        <tr>\n",
              "            <th>id</th>\n",
              "            <th>parent</th>\n",
              "            <th>notused</th>\n",
              "            <th>detail</th>\n",
              "        </tr>\n",
              "    </thead>\n",
              "    <tbody>\n",
              "        <tr>\n",
              "            <td>4</td>\n",
              "            <td>0</td>\n",
              "            <td>0</td>\n",
              "            <td>SEARCH Accounts USING INDEX idx_accounts_balance (Balance&gt;?)</td>\n",
              "        </tr>\n",
              "        <tr>\n",
              "            <td>8</td>\n",
              "            <td>0</td>\n",
              "            <td>0</td>\n",
              "            <td>SCALAR SUBQUERY 1</td>\n",
              "        </tr>\n",
              "        <tr>\n",
              "            <td>13</td>\n",
              "            <td>8</td>\n",
              "            <td>0</td>\n",
              "            <td>SCAN Accounts USING COVERING INDEX idx_accounts_balance</td>\n",
              "        </tr>\n",
              "    </tbody>\n",
              "</table>"
            ]
          },
          "metadata": {},
          "execution_count": 9
        }
      ]
    },
    {
      "cell_type": "markdown",
      "source": [
        "SQLite now uses the idx_account_balance index to search for matching rows, resulting in a more efficient query execution. Instead of scanning the entire table, it can quickly locate the relevant rows using the index.\n",
        "\n",
        "Some new terms you'll notice:\n",
        "\n",
        "1.  **Index Scan**: An index scan is a type of table access that uses an index to locate the required data. In this example, `SEARCH Accounts USING INDEX idx_accounts_balance (Balance>?)` means that SQLite is using the *idx_accounts_balance* index to find rows where the *Balance* is greater than the result of the scalar subquery.\n",
        "2.  **Covering Index**: A covering index is an index that contains all the columns required to satisfy a query, eliminating the need for additional table lookups. In the updated plan, `SCAN Accounts USING COVERING INDEX idx_accounts_balance` indicates that the *idx_accounts_balance* index is a covering index for the subquery. This means that all the data needed to calculate the average balance is available within the index itself, making the query more efficient.\n"
      ],
      "metadata": {
        "id": "yZnmhKLV-1Nq"
      }
    },
    {
      "cell_type": "markdown",
      "source": [
        "## Timing Our Queries\n",
        "To further demonstrate the performance impact, let's measure the execution time of our query with and without the index. We'll be using Colab's builtin **timeit** function, which will run this query many times, and give us the average runninng time. This helps miminize the role of chance in evaluating query performance based on a single case."
      ],
      "metadata": {
        "id": "1lHtyz8eIAoa"
      }
    },
    {
      "cell_type": "code",
      "source": [
        "%%sql\n",
        "-- to start, drop the index\n",
        "DROP INDEX idx_accounts_balance;"
      ],
      "metadata": {
        "colab": {
          "base_uri": "https://localhost:8080/"
        },
        "id": "kZu5-Ev0-9i_",
        "outputId": "4158d402-a2ba-42bf-9197-60ea4d90d400"
      },
      "execution_count": null,
      "outputs": [
        {
          "output_type": "stream",
          "name": "stdout",
          "text": [
            " * sqlite:///gotham.db\n",
            "Done.\n"
          ]
        },
        {
          "output_type": "execute_result",
          "data": {
            "text/plain": [
              "[]"
            ]
          },
          "metadata": {},
          "execution_count": 10
        }
      ]
    },
    {
      "cell_type": "code",
      "source": [
        "%%timeit -n 1\n",
        "%%sql\n",
        "-- This will run this query many times\n",
        "SELECT * FROM Accounts\n",
        "WHERE Balance > (SELECT AVG(Balance) FROM Accounts)\n",
        "ORDER BY Balance DESC;"
      ],
      "metadata": {
        "colab": {
          "base_uri": "https://localhost:8080/"
        },
        "id": "_Cj6twxX_Hfb",
        "outputId": "210e4e5d-2adc-4ed0-f53e-37ca5950c2ef"
      },
      "execution_count": null,
      "outputs": [
        {
          "output_type": "stream",
          "name": "stdout",
          "text": [
            " * sqlite:///gotham.db\n",
            "Done.\n",
            " * sqlite:///gotham.db\n",
            "Done.\n",
            " * sqlite:///gotham.db\n",
            "Done.\n",
            " * sqlite:///gotham.db\n",
            "Done.\n",
            " * sqlite:///gotham.db\n",
            "Done.\n",
            " * sqlite:///gotham.db\n",
            "Done.\n",
            " * sqlite:///gotham.db\n",
            "Done.\n",
            "78.7 ms ± 22 ms per loop (mean ± std. dev. of 7 runs, 1 loop each)\n"
          ]
        }
      ]
    },
    {
      "cell_type": "code",
      "source": [
        "%%sql\n",
        "-- Recreate our index\n",
        "CREATE INDEX idx_accounts_balance\n",
        "ON Accounts (Balance);"
      ],
      "metadata": {
        "colab": {
          "base_uri": "https://localhost:8080/"
        },
        "id": "SY7mkE6O_rlc",
        "outputId": "3277bb3f-784c-450c-dbeb-b3d7b6d3e6b8"
      },
      "execution_count": null,
      "outputs": [
        {
          "output_type": "stream",
          "name": "stdout",
          "text": [
            " * sqlite:///gotham.db\n",
            "Done.\n"
          ]
        },
        {
          "output_type": "execute_result",
          "data": {
            "text/plain": [
              "[]"
            ]
          },
          "metadata": {},
          "execution_count": 12
        }
      ]
    },
    {
      "cell_type": "code",
      "source": [
        "%%timeit -n 1\n",
        "%%sql\n",
        "-- Now run the query with the index\n",
        "SELECT * FROM Accounts\n",
        "WHERE Balance > 25000 AND  Balance < 50000;"
      ],
      "metadata": {
        "colab": {
          "base_uri": "https://localhost:8080/"
        },
        "id": "DBa4gnRA_31L",
        "outputId": "22222268-ff2d-4f0d-c0d3-742ce1711155"
      },
      "execution_count": null,
      "outputs": [
        {
          "output_type": "stream",
          "name": "stdout",
          "text": [
            " * sqlite:///gotham.db\n",
            "Done.\n",
            " * sqlite:///gotham.db\n",
            "Done.\n",
            " * sqlite:///gotham.db\n",
            "Done.\n",
            " * sqlite:///gotham.db\n",
            "Done.\n",
            " * sqlite:///gotham.db\n",
            "Done.\n",
            " * sqlite:///gotham.db\n",
            "Done.\n",
            " * sqlite:///gotham.db\n",
            "Done.\n",
            "51.3 ms ± 18 ms per loop (mean ± std. dev. of 7 runs, 1 loop each)\n"
          ]
        }
      ]
    },
    {
      "cell_type": "markdown",
      "source": [
        "While the specific results you get will vary each time you run the test, you should find that (on average) the index scan runs a bit faster than the full table scan."
      ],
      "metadata": {
        "id": "HGWbpHNzIfpA"
      }
    },
    {
      "cell_type": "markdown",
      "source": [
        "## How Indexes Impact Storage\n",
        "Now that we've seen how indexes can significantly improve query performance, let's explore how they impact database storage. To understand this, we first need to discuss how SQLite (and many other databases) store data using a data structure called a B-tree.\n",
        "\n",
        "### B-trees: The Backbone of Database Storage\n",
        "\n",
        "A B-tree is a self-balancing tree data structure that maintains sorted data and allows for efficient insertion, deletion, and search operations. B-trees are particularly well-suited for databases because they optimize disk I/O operations, which is crucial when dealing with large amounts of data that cannot fit entirely in memory.\n",
        "\n",
        "In a B-tree, each node contains multiple keys and pointers to child nodes. The keys within a node are kept in sorted order, and each key is associated with two pointers:\n",
        "\n",
        "1.  A pointer to the child node containing keys less than the current key.\n",
        "2.  A pointer to the child node containing keys greater than or equal to the current key.\n",
        "\n",
        "This structure allows for quick traversal and search operations, as the database can navigate the tree by comparing the desired key with the keys in each node and following the appropriate pointers.\n",
        "\n",
        "### How SQLite Uses B-trees\n",
        "\n",
        "SQLite uses B-trees to store both tables and indexes. When you create a table, SQLite creates a B-tree where each node contains one or more rows of data. The rows within a node are sorted by the primary key, enabling efficient lookups and range queries.\n",
        "\n",
        "For example, let's consider a simplified representation of the *Accounts* table:\n",
        "\n",
        "```\n",
        "AccountID | CustomerID | Balance\n",
        "1         | 1          | 10000\n",
        "2         | 1          | 5000\n",
        "3         | 2          | 7500\n",
        "4         | 3          | 12000`\n",
        "```\n",
        "\n",
        "In the table's B-tree, the rows would be stored in nodes, sorted by the primary key (AccountID):\n",
        "\n",
        "```\n",
        "Node 1: (1, 1, 10000) | (2, 1, 5000)\n",
        "Node 2: (3, 2, 7500)  | (4, 3, 12000)\n",
        "```\n",
        "\n",
        "When you create an index on a column, SQLite generates a separate B-tree specifically for that index. The index B-tree stores the indexed column's values along with pointers to the corresponding rows in the table's B-tree.\n",
        "\n",
        "Let's say we create an index on the *Balance* column. Then the *idx_accounts_balance* index B-tree would store the *Balance* values in sorted order, along with pointers to the corresponding rows in the *Accounts* table's B-tree:\n",
        "\n",
        "```sql\n",
        "Node 1: (5000, pointer to row 2) | (7500, pointer to row 3)\n",
        "Node 2: (10000, pointer to row 1) | (12000, pointer to row 4)\n",
        "```\n",
        "\n",
        "When you query the table using the indexed column, SQLite can quickly traverse the index B-tree to find the matching values and then follow the pointers to retrieve the full row data from the table's B-tree.\n",
        "\n",
        "By using B-trees for both tables and indexes, SQLite ensures efficient data storage and retrieval, even for large datasets. However, it's important to keep in mind that creating indexes also requires additional storage space, as each index maintains its own B-tree structure.\n"
      ],
      "metadata": {
        "id": "2x6r4wNZJ2Hz"
      }
    },
    {
      "cell_type": "markdown",
      "source": [
        "### Graphic: B-Trees\n",
        "Here's what our B-tree for our original table might look like:\n"
      ],
      "metadata": {
        "id": "xEt2fbfSLkvV"
      }
    },
    {
      "cell_type": "code",
      "source": [
        "import base64\n",
        "from IPython.display import Image, display, HTML\n",
        "\n",
        "def mm(graph):\n",
        "    graphbytes = graph.encode(\"utf8\")\n",
        "    base64_bytes = base64.b64encode(graphbytes)\n",
        "    base64_string = base64_bytes.decode(\"ascii\")\n",
        "    display(Image(url=\"https://mermaid.ink/img/\" + base64_string))\n",
        "\n",
        "\n",
        "mm(\"\"\"\n",
        "graph TB\n",
        "  subgraph Accounts Table B-tree - sorting by id\n",
        "    N1((Node 1)) <--> |pointer to next/previous node| N2((Node 2))\n",
        "    N1 --- |contains| A1[AccountID - key: 1<br>CustomerID: 1<br>Balance: 10000]\n",
        "    N1 --- |contains| A2[AccountID - key: 2<br>CustomerID: 1<br>Balance: 5000]\n",
        "    N2 --- |contains| A3[AccountID - key: 3<br>CustomerID: 2<br>Balance: 7500]\n",
        "    N2 --- |contains| A4[AccountID - key: 4<br>CustomerID: 3<br>Balance: 12000]\n",
        "  end\n",
        "\"\"\")"
      ],
      "metadata": {
        "colab": {
          "base_uri": "https://localhost:8080/",
          "height": 481
        },
        "id": "2qECvrr-IpTc",
        "outputId": "1a6dde12-f066-4908-be34-afda57d3bf3e"
      },
      "execution_count": null,
      "outputs": [
        {
          "output_type": "display_data",
          "data": {
            "text/html": [
              "<img src=\"https://mermaid.ink/img/CmdyYXBoIFRCCiAgc3ViZ3JhcGggQWNjb3VudHMgVGFibGUgQi10cmVlIC0gc29ydGluZyBieSBpZAogICAgTjEoKE5vZGUgMSkpIDwtLT4gfHBvaW50ZXIgdG8gbmV4dC9wcmV2aW91cyBub2RlfCBOMigoTm9kZSAyKSkKICAgIE4xIC0tLSB8Y29udGFpbnN8IEExW0FjY291bnRJRCAtIGtleTogMTxicj5DdXN0b21lcklEOiAxPGJyPkJhbGFuY2U6IDEwMDAwXQogICAgTjEgLS0tIHxjb250YWluc3wgQTJbQWNjb3VudElEIC0ga2V5OiAyPGJyPkN1c3RvbWVySUQ6IDE8YnI+QmFsYW5jZTogNTAwMF0KICAgIE4yIC0tLSB8Y29udGFpbnN8IEEzW0FjY291bnRJRCAtIGtleTogMzxicj5DdXN0b21lcklEOiAyPGJyPkJhbGFuY2U6IDc1MDBdCiAgICBOMiAtLS0gfGNvbnRhaW5zfCBBNFtBY2NvdW50SUQgLSBrZXk6IDQ8YnI+Q3VzdG9tZXJJRDogMzxicj5CYWxhbmNlOiAxMjAwMF0KICBlbmQK\"/>"
            ],
            "text/plain": [
              "<IPython.core.display.Image object>"
            ]
          },
          "metadata": {}
        }
      ]
    },
    {
      "cell_type": "markdown",
      "source": [
        "And here's what the B-tree for the index might look like:"
      ],
      "metadata": {
        "id": "mCnKWYRjPhM9"
      }
    },
    {
      "cell_type": "code",
      "source": [
        "mm(\"\"\"\n",
        "graph TB\n",
        "  subgraph Balance Index B-tree - sorting by balance\n",
        "    IN1((Node 1)) <--> | points to next/previous node | IN2((Node 2))\n",
        "    IN1 --- |contains| IA2[Balance - key: 5000<br>Pointer to Account 2]\n",
        "    IN1 --- |contains| IA3[Balance - key: 7500<br>Pointer to Account 3]\n",
        "    IN2 --- |contains| IA1[Balance - key: 10000<br>Pointer to Account 1]\n",
        "    IN2 --- |contains| IA4[Balance - key: 12000<br>Pointer to Account 4]\n",
        "  end\n",
        "\"\"\"\n",
        ")"
      ],
      "metadata": {
        "colab": {
          "base_uri": "https://localhost:8080/",
          "height": 427
        },
        "id": "djEJaH77NyuS",
        "outputId": "3843c1d7-a8ca-48e1-f282-c3da81ae59be"
      },
      "execution_count": null,
      "outputs": [
        {
          "output_type": "display_data",
          "data": {
            "text/html": [
              "<img src=\"https://mermaid.ink/img/CmdyYXBoIFRCCiAgc3ViZ3JhcGggQmFsYW5jZSBJbmRleCBCLXRyZWUgLSBzb3J0aW5nIGJ5IGJhbGFuY2UKICAgIElOMSgoTm9kZSAxKSkgPC0tPiB8IHBvaW50cyB0byBuZXh0L3ByZXZpb3VzIG5vZGUgfCBJTjIoKE5vZGUgMikpCiAgICBJTjEgLS0tIHxjb250YWluc3wgSUEyW0JhbGFuY2UgLSBrZXk6IDUwMDA8YnI+UG9pbnRlciB0byBBY2NvdW50IDJdCiAgICBJTjEgLS0tIHxjb250YWluc3wgSUEzW0JhbGFuY2UgLSBrZXk6IDc1MDA8YnI+UG9pbnRlciB0byBBY2NvdW50IDNdCiAgICBJTjIgLS0tIHxjb250YWluc3wgSUExW0JhbGFuY2UgLSBrZXk6IDEwMDAwPGJyPlBvaW50ZXIgdG8gQWNjb3VudCAxXQogICAgSU4yIC0tLSB8Y29udGFpbnN8IElBNFtCYWxhbmNlIC0ga2V5OiAxMjAwMDxicj5Qb2ludGVyIHRvIEFjY291bnQgNF0KICBlbmQK\"/>"
            ],
            "text/plain": [
              "<IPython.core.display.Image object>"
            ]
          },
          "metadata": {}
        }
      ]
    },
    {
      "cell_type": "markdown",
      "source": [
        "### Checking File Size\n",
        "Because indexes require the construction of new B-trees, they require additional disk space. We can  check the file size (using Windows, Linux, etc.). Let's first first check the size our database:"
      ],
      "metadata": {
        "id": "Yu3uUArmpe4b"
      }
    },
    {
      "cell_type": "code",
      "source": [
        "# In ubuntu du gives file size\n",
        "!du -h gotham.db"
      ],
      "metadata": {
        "colab": {
          "base_uri": "https://localhost:8080/"
        },
        "id": "UoqlNmixNzqX",
        "outputId": "185c5add-305d-43da-f1e1-b164313fbfd1"
      },
      "execution_count": null,
      "outputs": [
        {
          "output_type": "stream",
          "name": "stdout",
          "text": [
            "1.9M\tgotham.db\n"
          ]
        }
      ]
    },
    {
      "cell_type": "markdown",
      "source": [
        "Now, let's see what happens when we an index."
      ],
      "metadata": {
        "id": "a0PTDDWiqHLw"
      }
    },
    {
      "cell_type": "code",
      "source": [
        "%%sql\n",
        "DROP INDEX IF EXISTS idx_accounts_balance;\n",
        "-- create an index based on first name, last name, phone\n",
        "CREATE INDEX idx_customers_first_last_phone\n",
        "ON Customers (FirstName, LastName, PhoneNumber);"
      ],
      "metadata": {
        "colab": {
          "base_uri": "https://localhost:8080/"
        },
        "id": "D0v_6dzrqLus",
        "outputId": "a3102723-0a60-4f0e-f0f3-78c6d804bde6"
      },
      "execution_count": null,
      "outputs": [
        {
          "output_type": "stream",
          "name": "stdout",
          "text": [
            " * sqlite:///gotham.db\n",
            "Done.\n",
            "Done.\n"
          ]
        },
        {
          "output_type": "execute_result",
          "data": {
            "text/plain": [
              "[]"
            ]
          },
          "metadata": {},
          "execution_count": 17
        }
      ]
    },
    {
      "cell_type": "code",
      "source": [
        "# Now, we can check the size again\n",
        "!du -h gotham.db"
      ],
      "metadata": {
        "colab": {
          "base_uri": "https://localhost:8080/"
        },
        "id": "BADn2cB2rQdH",
        "outputId": "cedede5a-7fc9-4204-9a5e-c16858cb2d68"
      },
      "execution_count": null,
      "outputs": [
        {
          "output_type": "stream",
          "name": "stdout",
          "text": [
            "2.0M\tgotham.db\n"
          ]
        }
      ]
    },
    {
      "cell_type": "markdown",
      "source": [
        "While your results migth vary somewhat, here's what I got from running these commands:\n",
        "\n",
        "- The database size before building the index was 1.9 mb\n",
        "- The database size after building the index was 2.2 mb.\n",
        "\n",
        "This is a large difference--over 10%--and reinforces the principle that indexes (especially ones that combine multiple columns) need to be used with care."
      ],
      "metadata": {
        "id": "FAeu39hJre4p"
      }
    },
    {
      "cell_type": "markdown",
      "source": [
        "## ORACLE's Guide to Creating Indexes\n",
        "\n",
        "Hello, aspiring database heroes! I'm ORACLE (formerly \"Batgirl\"), your trusty guide through the complex world of SQLite indexing. As the all-seeing database sage of Gotham City, I'm here to share some wisdom on when and how to create indexes for your tables.\n",
        "\n",
        "First, let's set the scene. Imagine you're working for the Gotham City Police Department (GCPD), and you've been tasked with optimizing their criminal database. The database contains tables like *Suspects*, *Crimes*, and *Investigations*, each with thousands of rows. Your job is to ensure that queries run faster than the Batmobile on a pursuit.\n",
        "\n",
        "### When to Create an Index\n",
        "\n",
        "1.  *Frequently Used Columns*. If you find yourself constantly querying the database to find suspects by their last name, it's a good idea to create an index on the *LastName* column of the *Suspects* table. This way, when Commissioner Gordon asks for information on \"Napier,\" the database can quickly locate the relevant records without having to scan the entire table.\n",
        "2.  *JOIN Columns*. When you're joining tables based on a foreign key, such as joining the *Crimes* and *Investigations* tables on the *CrimeID* column, creating an index on the foreign key column can significantly speed up the JOIN operation. This is particularly important when dealing with large tables, as it helps avoid full table scans.\n",
        "3.  *Columns Used in ORDER BY or GROUP BY*. If you frequently sort the results of your queries, like displaying the list of crimes ordered by the date they occurred, consider creating an index on the column used in the ORDER BY clause. The same goes for columns used in GROUP BY clauses. Indexes help optimize these operations by allowing SQLite to quickly sort or group the data without having to perform a full table scan.\n",
        "\n",
        "### When Not to Create an Index\n",
        "\n",
        "1.  *Small Tables*. If your table is small, like a list of Gotham's most notorious villains (which hopefully doesn't grow too large), creating an index might not provide significant performance benefits. The overhead of maintaining the index could outweigh the time saved during queries.\n",
        "2.  *Columns with Low Cardinality*. Cardinality refers to the number of unique values in a column. If a column has low cardinality, such as a *VillainStatus* column with only a few possible values (\"At Large,\" \"In Custody,\" \"Reformed\"), creating an index on that column might not be effective. SQLite would still need to scan a large portion of the index to find the desired values.\n",
        "3.  *Frequently Updated Columns*. If a column is frequently updated, like the *CurrentLocation* of a suspect, creating an index on that column could slow down the update operations. Each time the column is updated, SQLite needs to update both the table and the index B-tree, causing additional overhead.\n",
        "\n",
        "### Analyzing Query Plans and Execution Speed\n",
        "\n",
        "Before creating an index, it's essential to analyze the current query plans and execution speeds. Use the `EXPLAIN QUERY PLAN` command to see how SQLite is executing your queries. If you notice full table scans or suboptimal execution plans, consider creating an index on the columns involved.\n",
        "\n",
        "For example, let's say you have a query that searches for crimes committed by a specific suspect:\n",
        "\n",
        "```sql\n",
        "EXPLAIN QUERY PLAN\n",
        "SELECT * FROM Crimes\n",
        "WHERE SuspectID = (SELECT SuspectID FROM Suspects WHERE LastName = 'Joker');\n",
        "```\n",
        "\n",
        "If the query plan shows a full table scan on the *Suspects* table, creating an index on the *LastName* column could improve the query's performance.\n",
        "\n",
        "Remember, indexes are like Robin to your Batman - they're there to help you fight crime (or in this case, slow queries). But just like how Batman doesn't bring Robin to every mission, you don't need an index on every column. Use them wisely, and your database will be the hero Gotham deserves!"
      ],
      "metadata": {
        "id": "wuioIVmztSae"
      }
    },
    {
      "cell_type": "markdown",
      "source": [
        "## Introduction to Transactions\n",
        "\n",
        "In the world of databases, much like in the bustling financial district of Gotham City, many operations happen simultaneously. Imagine the chaos if every bank transaction in Gotham wasn't carefully managed - it would be a playground for villains! This is where database transactions come into play. A **transaction** is a sequence of one or more database operations that are treated as a single unit of work. These operations could be inserting, updating, or deleting data. The key characteristic of a transaction is that it's all-or-nothing: either all the operations within the transaction are completed successfully, or none of them are.\n",
        "\n",
        "Let's consider a scenario at Gotham City Bank. Bruce Wayne wants to transfer money from his personal account to Wayne Enterprises' account. This seemingly simple transfer actually involves multiple steps: first, the money is deducted from Bruce's account, and then it's added to the company's account. If something goes wrong halfway through - perhaps due to a system crash or The Riddler's latest cyber attack - we wouldn't want Bruce's money to vanish into thin air. This is why we use transactions.\n",
        "\n",
        "Transactions are crucial in maintaining the integrity and consistency of our database. They ensure that our data remains accurate even when multiple operations are happening concurrently or when unexpected errors occur. In our Gotham City Bank example, a transaction would guarantee that either both steps of the money transfer are completed, or neither is - the money can't be deducted from Bruce's account without being added to Wayne Enterprises', or vice versa.\n",
        "\n",
        "### ACID Properties Overview\n",
        "\n",
        "When discussing database transactions, you'll often hear the term **ACID**. This isn't a reference to Joker's favorite chemical weapons, but rather an acronym that stands for four critical properties of transactions: **Atomicity**, **Consistency**, **Isolation**, and **Durability**. These properties ensure that database transactions are processed reliably and maintain data integrity, even in the face of errors, system failures, or concurrent access.\n",
        "\n",
        "Let's break down what each of these properties means:\n",
        "\n",
        "1. **Atomicity**property ensures that a transaction is treated as a single, indivisible unit. Either all operations in the transaction are completed successfully, or none are.\n",
        "2. **Consistency** guarantees that a transaction brings the database from one valid state to another, maintaining all predefined rules and constraints.\n",
        "3. **Isolation** ensures that concurrent execution of transactions leaves the database in the same state as if the transactions were executed sequentially.\n",
        "4. **Durability**  means that once a transaction is committed, it remains so, even in the event of power loss, crashes, or errors.\n",
        "\n",
        "Understanding ACID properties is crucial for anyone working with databases, as they form the foundation of reliable data management. They're like the principles Batman follows to keep Gotham safe - non-negotiable rules that maintain order in the face of chaos.\n",
        "\n",
        "In the following sections, we'll dive deeper into each of these properties, exploring how they work and why they're important. We'll see how they apply in various scenarios in Gotham City, from managing the Batcave's high-tech systems to keeping track of Arkham Asylum's ever-rotating cast of inmates. By the end, you'll have a solid grasp of how transactions and ACID properties help maintain order in the complex world of databases."
      ],
      "metadata": {
        "id": "_ldAGYB1G8lp"
      }
    },
    {
      "cell_type": "markdown",
      "source": [
        "### Atomicity\n",
        "\n",
        "**Atomicity** is the first pillar of ACID properties, and it's a concept as uncompromising as Batman's commitment to justice. In database terms, atomicity guarantees that a transaction is treated as a single, indivisible unit of work. This means that all operations within a transaction must be completed successfully, or none of them will be. There's no middle ground - it's all or nothing.\n",
        "\n",
        "Let's illustrate this with a scenario from Gotham City. Imagine Bruce Wayne is updating the Batcave's inventory system. He's adding a new Batmobile while simultaneously removing an older model. This process involves two operations:\n",
        "\n",
        "1. Insert a record for the new Batmobile\n",
        "2. Delete the record of the old Batmobile\n",
        "\n",
        "Atomicity ensures that either both of these operations succeed, or neither does. If something goes wrong halfway through - perhaps a power outage caused by one of Mr. Freeze's attacks - the database will revert to its original state. We won't end up in a situation where we've added the new Batmobile but failed to remove the old one, or vice versa.\n",
        "\n",
        "This \"all-or-nothing\" approach is crucial for maintaining data integrity. Without atomicity, we could end up with inconsistent data that doesn't reflect reality. In our Batcave example, an inventory that shows two Batmobiles when there's really only one could lead to confusion and inefficiency in Batman's operations.\n",
        "\n",
        "Implementing atomicity involves using **commits** and **rollbacks**. When a transaction completes successfully, we **commit** it, making all of its changes permanent. If any part of the transaction fails, we perform a **rollback**, undoing any changes made by the transaction and returning the database to its previous consistent state.\n",
        "\n",
        "In standard SQL, you can implement atomic transactions using the following basic syntax:\n",
        "\n",
        "```sql\n",
        "BEGIN TRANSACTION;\n",
        "-- Your SQL operations here\n",
        "COMMIT;\n",
        "```\n",
        "\n",
        "If an error occurs, you can use `ROLLBACK` instead of `COMMIT` to undo the changes:\n",
        "\n",
        "```sql\n",
        "BEGIN TRANSACTION;\n",
        "-- Your SQL operations here\n",
        "-- If an error occurs:\n",
        "ROLLBACK;\n",
        "```\n",
        "\n",
        "Understanding and properly implementing atomicity is crucial for maintaining the integrity of your database, ensuring that complex operations either complete fully or don't happen at all."
      ],
      "metadata": {
        "id": "8cHiemHlG_7d"
      }
    },
    {
      "cell_type": "code",
      "source": [
        "mm(\"\"\"\n",
        "flowchart TD\n",
        "    subgraph Transaction_Process\n",
        "        A[Starting State A<br>Consistent State of Database] --> B[BEGIN TRANSACTION]\n",
        "        B --> C[Perform Operations]\n",
        "        C --> D{Error Occurred?}\n",
        "        D -- No --> E[COMMIT TRANSACTION<br>Write operations to disk]\n",
        "        D -- Yes --> F[ROLLBACK<br>Undo all operations]\n",
        "        F --> A\n",
        "        E -->G[Ending State B<br>Consistent State of Database]\n",
        "    end\n",
        "\"\"\")"
      ],
      "metadata": {
        "colab": {
          "base_uri": "https://localhost:8080/",
          "height": 642
        },
        "id": "-L1NijYTbzRW",
        "outputId": "b232ceff-28a8-45e8-f4a1-859fb2e334bb"
      },
      "execution_count": null,
      "outputs": [
        {
          "output_type": "display_data",
          "data": {
            "text/html": [
              "<img src=\"https://mermaid.ink/img/CmZsb3djaGFydCBURAogICAgc3ViZ3JhcGggVHJhbnNhY3Rpb25fUHJvY2VzcwogICAgICAgIEFbU3RhcnRpbmcgU3RhdGUgQTxicj5Db25zaXN0ZW50IFN0YXRlIG9mIERhdGFiYXNlXSAtLT4gQltCRUdJTiBUUkFOU0FDVElPTl0KICAgICAgICBCIC0tPiBDW1BlcmZvcm0gT3BlcmF0aW9uc10KICAgICAgICBDIC0tPiBEe0Vycm9yIE9jY3VycmVkP30KICAgICAgICBEIC0tIE5vIC0tPiBFW0NPTU1JVCBUUkFOU0FDVElPTjxicj5Xcml0ZSBvcGVyYXRpb25zIHRvIGRpc2tdCiAgICAgICAgRCAtLSBZZXMgLS0+IEZbUk9MTEJBQ0s8YnI+VW5kbyBhbGwgb3BlcmF0aW9uc10KICAgICAgICBGIC0tPiBBCiAgICAgICAgRSAtLT5HW0VuZGluZyBTdGF0ZSBCPGJyPkNvbnNpc3RlbnQgU3RhdGUgb2YgRGF0YWJhc2VdCiAgICBlbmQK\"/>"
            ],
            "text/plain": [
              "<IPython.core.display.Image object>"
            ]
          },
          "metadata": {}
        }
      ]
    },
    {
      "cell_type": "markdown",
      "source": [
        "### Consistency\n",
        "\n",
        "**Consistency**, the second ACID property, is all about maintaining the database in a valid state. It ensures that a transaction can only bring the database from one valid state to another, adhering to all predefined rules and constraints. This property is like the laws and regulations that keep Gotham City functioning - they ensure that no matter what changes occur, the city (or in our case, the database) remains in a valid, predictable state.\n",
        "\n",
        "In database terms, consistency means that all data written to the database must adhere to all defined rules, including constraints, cascades, and triggers. These rules might include:\n",
        "\n",
        "- Data types (e.g., you can't store text in a numeric field)\n",
        "- Unique constraints\n",
        "- Foreign key constraints\n",
        "- Check constraints that enforce specific business rules\n",
        "\n",
        "Let's consider an example from the Gotham City Police Department (GCPD). They maintain a database of known super-villains, including which cell they're assigned to in Arkham Asylum. The database has a rule that each cell can only hold one villain at a time. Consistency ensures that no transaction can violate this rule.\n",
        "\n",
        "Imagine Commissioner Gordon is updating the database after capturing both The Joker and The Penguin in a single night. Here's what the transaction might look like:\n",
        "\n",
        "1. Assign The Joker to Cell A1\n",
        "2. Assign The Penguin to Cell B2\n",
        "3. Update the status of both villains to \"Incarcerated\"\n",
        "\n",
        "Consistency guarantees that if any part of this transaction would violate the \"one villain per cell\" rule (for example, if Cell A1 was already occupied), the entire transaction would fail. The database would remain in its previous consistent state, rather than ending up in an invalid state with two villains assigned to the same cell.\n",
        "\n",
        "SQL provides various mechanisms to enforce consistency, some of which we have discussed earlier:\n",
        "\n",
        "1. **Constraints**: These are rules defined on columns or tables. For example:\n",
        "\n",
        "```sql\n",
        "CREATE TABLE Villains (\n",
        "    ID INTEGER PRIMARY KEY,\n",
        "    Name TEXT NOT NULL,\n",
        "    Cell TEXT UNIQUE,\n",
        "    Status TEXT CHECK (Status IN ('At Large', 'Incarcerated'))\n",
        ");\n",
        "```\n",
        "\n",
        "2. **Triggers**: These are automated actions that occur in response to certain database events. For example:\n",
        "\n",
        "```sql\n",
        "CREATE TRIGGER check_cell_occupancy\n",
        "BEFORE INSERT ON Villains\n",
        "FOR EACH ROW\n",
        "BEGIN\n",
        "    SELECT CASE\n",
        "        WHEN (SELECT COUNT(*) FROM Villains WHERE Cell = NEW.Cell) > 0\n",
        "        THEN RAISE(ABORT, 'Cell already occupied')\n",
        "    END;\n",
        "END;\n",
        "```\n",
        "\n",
        "3. **Transactions**: By grouping operations together in a transaction, you ensure that either all consistency rules are met, or none of the operations are performed.\n",
        "\n",
        "Maintaining consistency is crucial for ensuring that your database always reflects a valid real-world scenario. It prevents contradictions and impossibilities in your data, much like how the laws of Gotham prevent (or at least try to prevent) chaos from taking over the city."
      ],
      "metadata": {
        "id": "rdjUinTYHIu1"
      }
    },
    {
      "cell_type": "markdown",
      "source": [
        "### Isolation\n",
        "\n",
        "**Isolation**, the third ACID property, ensures that concurrent execution of transactions leaves the database in the same state as if the transactions were executed sequentially. In other words, each transaction should feel like it's the only one interacting with the database, even when multiple transactions are running simultaneously. This property is crucial in multi-user database systems, much like how Batman needs to isolate and handle multiple crimes occurring simultaneously in Gotham without letting them interfere with each other.\n",
        "\n",
        "Imagine a scenario where both Bruce Wayne and Alfred are accessing the Batcomputer's database at the same time. Bruce is updating the Batmobile's fuel levels after a night of patrol, while Alfred is logging new equipment arrivals. Isolation ensures that these two operations don't interfere with each other, preventing scenarios like lost updates or dirty reads.\n",
        "\n",
        "**Concurrency** in databases refers to the ability of the database management system (DBMS) to handle multiple transactions simultaneously. While concurrency can greatly improve performance and responsiveness, it also introduces challenges. For instance, if two villains, let's say The Riddler and The Penguin, try to access Wayne Enterprises' financial records simultaneously, we need to ensure they don't interfere with each other's operations or see partially updated data.\n",
        "\n",
        "To manage concurrency and maintain isolation, databases use **locks**. A **lock** is a mechanism that restricts access to a piece of data. There are typically two types of locks:\n",
        "\n",
        "1. **Shared locks**: Allow multiple transactions to read data simultaneously.\n",
        "2. **Exclusive locks**: Restrict access to a single transaction for write operations.\n",
        "\n",
        "For example, when Bruce is updating the Batmobile's fuel levels, the database might place an exclusive lock on that record, preventing Alfred from making changes to the same data until Bruce's transaction is complete.\n",
        "\n",
        "However, excessive locking can lead to performance issues and, in some cases, **deadlocks**. A **deadlock** occurs when two or more transactions are waiting for each other to release locks, resulting in a standoff. Imagine Batman and Catwoman each holding a piece of evidence the other needs - neither can proceed without the other's item, but neither is willing to give up their own first. Databases have mechanisms to detect and resolve deadlocks, often by choosing one transaction to roll back.\n",
        "\n",
        "Full-featured client-server databases (such as PostgreSQL, MySQL, ORacle, etc.) offer various **isolation levels** that provide different trade-offs between consistency and performance:\n",
        "\n",
        "* **Read Uncommitted.** Transactions can see changes made by other transactions before they are finalized, which can lead to inconsistent data.\n",
        "* **Read Committed.**  Transactions can only see changes made by other transactions after they are finalized, reducing the risk of inconsistent data.\n",
        "* **Repeatable Read.**  Once a transaction reads data, it will see the same data if it reads it again, even if other transactions make changes in the meantime.\n",
        "* **Serializable.** Transactions are completely isolated from each other, as if they are happening one after the other, ensuring the highest level of data consistency.\n",
        "\n",
        "Each level provides stronger guarantees but potentially at the cost of reduced concurrency. SQLite, by default, operates at the Serializable isolation level.\n",
        "\n",
        "Understanding and properly implementing isolation is crucial for maintaining data integrity in multi-user environments, ensuring that concurrent operations don't lead to data inconsistencies or conflicts."
      ],
      "metadata": {
        "id": "Jp-pbPlrHV01"
      }
    },
    {
      "cell_type": "markdown",
      "source": [
        "### Durability\n",
        "\n",
        "**Durability**, the final ACID property, guarantees that once a transaction has been committed, it will remain so, even in the event of a system failure, power outage, or crash. This property ensures that your data persists, much like how the legacy of Batman endures through all of Gotham's trials and tribulations.\n",
        "\n",
        "In database terms, durability means that all completed transactions are recorded in non-volatile memory. Once the database confirms that a transaction has been committed, that data should be safe, even if the server crashes immediately afterward.\n",
        "\n",
        "Let's consider a scenario at Arkham Asylum. Dr. Harleen Quinzel (before her transformation into Harley Quinn) is updating patient records. She's just finished noting that The Joker has been administered his daily medication - a crucial piece of information for maintaining order in the asylum. Durability ensures that even if there's a sudden power outage (perhaps caused by Electrocutioner), this update will not be lost.\n",
        "\n",
        "Both SQLite and PostgreSQL implement durability, but they do so in slightly different ways:\n",
        "\n",
        "1. **SQLite** uses a write-ahead log (WAL) by default. Before changes are made to the main database file, they are written to this log. If a crash occurs during a transaction, SQLite can recover the changes from the WAL.\n",
        "\n",
        "2. **PostgreSQL** uses a write-ahead log as well, but it also provides more advanced features for ensuring durability, such as:\n",
        "   - Asynchronous Commit: Allows for faster performance at the risk of losing the latest transactions in case of a crash.\n",
        "   - Synchronous Replication: Ensures that data is written to multiple servers before considering a transaction complete.\n",
        "\n",
        "To ensure durability, databases use **transaction logs**. These logs record all database modifications. In the event of a system failure, the database can use these logs to recover to a consistent state. It's like Batman's case files - even if the Batcave is compromised, he can reconstruct his investigations from these detailed records.\n",
        "\n",
        "Here's a simple example of a durable transaction in SQL:\n",
        "\n",
        "```sql\n",
        "BEGIN;\n",
        "UPDATE Inmates\n",
        "SET MedicationAdministered = TRUE\n",
        "WHERE Name = 'Joker' AND Date = CURRENT_DATE;\n",
        "COMMIT;\n",
        "```\n",
        "\n",
        "Once this COMMIT statement successfully completes, the database guarantees that this update will persist, even in the face of subsequent system failures.\n",
        "\n",
        "While durability provides strong guarantees, it's important to note that it can impact performance. Writing every change to disk immediately can slow down transaction processing. Database administrators often need to balance durability requirements with performance needs, much like how Batman must balance his desire for justice with the practical limitations of his resources.\n",
        "\n",
        "Proper backup strategies are also crucial for maintaining durability over the long term. Regular backups ensure that even in catastrophic scenarios, your data can be recovered. It's the database equivalent of Batman's contingency plans - always prepared for the worst-case scenario.\n",
        "\n",
        "Understanding durability helps ensure that critical data is never lost, maintaining the integrity and reliability of your database system even in the face of unexpected events or system failures."
      ],
      "metadata": {
        "id": "c8AsZ26lHcfp"
      }
    },
    {
      "cell_type": "markdown",
      "source": [
        "### Deadlocks\n",
        "\n",
        "A **deadlock** occurs when two or more transactions are waiting for each other to release resources, resulting in a standoff where none can proceed. It's like a situation where Batman and Catwoman are each holding a piece of evidence that the other needs, and neither is willing to give up their item first.\n",
        "\n",
        "Deadlocks typically involve at least two transactions and two resources. For example:\n",
        "1. Transaction A holds a lock on Resource X and requests a lock on Resource Y.\n",
        "2. Simultaneously, Transaction B holds a lock on Resource Y and requests a lock on Resource X.\n",
        "\n",
        "Both transactions are now stuck, waiting for a resource that the other holds.\n",
        "\n",
        "To prevent deadlocks, database systems use various strategies:\n",
        "- **Timeout mechanisms**: Transactions are automatically rolled back if they wait too long for a resource.\n",
        "- **Deadlock detection**: The system actively looks for deadlock cycles and resolves them by choosing a \"victim\" transaction to roll back.\n",
        "- **Deadlock prevention**: This involves techniques like always acquiring resources in a specific order.\n",
        "\n",
        "Here's an example of how you might handle a deadlock situation in your code:\n",
        "\n",
        "```sql\n",
        "BEGIN;\n",
        "-- Attempt to acquire locks with a timeout\n",
        "SET LOCAL lock_timeout = '5s';\n",
        "-- Your transaction operations here\n",
        "COMMIT;\n",
        "```\n",
        "\n",
        "If a deadlock occurs, this transaction will be automatically rolled back after 5 seconds, allowing other transactions to proceed.\n",
        "\n",
        "### Performance Considerations\n",
        "\n",
        "While transactions are crucial for data integrity, they can impact database performance if not used judiciously. Each transaction requires overhead for managing locks, logging changes, and ensuring ACID properties.\n",
        "\n",
        "Some key performance considerations include:\n",
        "- **Transaction size**: Smaller, focused transactions generally perform better than large, complex ones.\n",
        "- **Indexing**: Proper indexing can significantly speed up the operations within a transaction.\n",
        "- **Isolation level**: Higher isolation levels provide stronger guarantees but may reduce concurrency.\n",
        "\n",
        "For instance, in managing Gotham City's traffic system, you might use different transaction strategies for routine updates versus emergency situations:\n",
        "\n",
        "```sql\n",
        "-- Routine update: lower isolation, shorter duration\n",
        "BEGIN;\n",
        "SET TRANSACTION ISOLATION LEVEL READ COMMITTED;\n",
        "UPDATE TrafficLights SET State = 'Green' WHERE Intersection = 'Park Row';\n",
        "COMMIT;\n",
        "\n",
        "-- Emergency situation: highest isolation, possibly longer duration\n",
        "BEGIN;\n",
        "SET TRANSACTION ISOLATION LEVEL SERIALIZABLE;\n",
        "UPDATE TrafficLights SET State = 'Red' WHERE District = 'Downtown';\n",
        "UPDATE EmergencyRoutes SET Status = 'Active' WHERE Type = 'Fire';\n",
        "COMMIT;\n",
        "```\n",
        "\n",
        "### Error Handling in Transactions\n",
        "\n",
        "Proper error handling is crucial in transactional systems. It's like Batman's contingency plans - you hope you won't need them, but they're essential when things go wrong.\n",
        "\n",
        "In SQL, you can use TRY-CATCH blocks (in systems that support them) or check for error conditions and roll back manually:\n",
        "\n",
        "```sql\n",
        "BEGIN;\n",
        "SAVEPOINT my_savepoint;\n",
        "\n",
        "-- Attempt the transaction\n",
        "UPDATE BatcaveInventory SET Quantity = Quantity - 1 WHERE Item = 'Batarang';\n",
        "\n",
        "-- Check if the update was successful\n",
        "IF (SELECT Quantity FROM BatcaveInventory WHERE Item = 'Batarang') < 0 THEN\n",
        "    -- Rollback to the savepoint if we've gone into negative inventory\n",
        "    ROLLBACK TO my_savepoint;\n",
        "    RAISE EXCEPTION 'Not enough Batarangs in inventory';\n",
        "ELSE\n",
        "    -- Commit if everything is okay\n",
        "    COMMIT;\n",
        "END IF;\n",
        "```\n",
        "\n",
        "This approach allows you to handle errors gracefully, maintaining data consistency even when unexpected situations arise."
      ],
      "metadata": {
        "id": "a5Wad4qyHiz2"
      }
    },
    {
      "cell_type": "markdown",
      "source": [
        "## Case Study: Oracle and Cyborg on Database Monitoring\n",
        "ORACLE: Hey there, Cyborg! I heard you're diving into the world of database management. It's a fascinating field, and **monitoring** and **reporting** are key to keeping your databases running smoothly. As someone who's been managing Gotham City's crime database for years, I can tell you firsthand how important it is to stay on top of these things.\n",
        "\n",
        "CYBORG: Hi Oralce! Yeah, I'm trying to wrap my head around all these concepts. Can you break it down for me in a way that makes sense?\n",
        "\n",
        "ORACLE: Absolutely! When I first started managing Gotham's database, I quickly realized that monitoring is essential. **Monitoring** involves continually observing and tracking various aspects of a database system to ensure it's running smoothly and efficiently. It's like having an early warning system that alerts you whenever there's trouble brewing in your database.\n",
        "\n",
        "CYBORG: That makes sense. So, what kind of things do you monitor in Gotham's database?\n",
        "\n",
        "ORACLE: There are several critical areas I keep an eye on. First, I monitor the database's **storage space** and **growth rate**. If the database grows too quickly and consumes too much storage, it can lead to performance issues and even data loss. I set up alerts to notify me when the database size reaches certain thresholds.\n",
        "\n",
        "I also closely monitor the **daily usage patterns** and **throughput** of the database. This helps me understand how the database is being utilized and identify any unusual spikes in activity that could indicate potential issues.\n",
        "\n",
        "Another crucial aspect is monitoring the **system resources**, such as **CPU usage**, **memory consumption**, and **disk I/O**. If any of these resources become overburdened, it can significantly impact the database's performance.\n",
        "\n",
        "CYBORG: Wow, that's a lot to keep track of! How do you stay on top of all this information?\n",
        "\n",
        "ORACLE: That's where **reporting** comes into play. **Reporting** involves generating detailed analyses and summaries based on the data collected through monitoring. I've set up automated reports that provide me with daily, weekly, and monthly overviews of the database's performance and health.\n",
        "\n",
        "For example, I receive daily reports on **job completion** and **failure rates**. This helps me ensure that our regular database maintenance tasks, such as backups and data imports, are running smoothly. If a job fails, I'm notified immediately so I can investigate and resolve the issue.\n",
        "\n",
        "I also generate reports on **database connections** and **sessions**, including metrics like **concurrent connections** and **failed connection attempts**. This information helps me optimize the database configuration and ensure that it can handle the expected workload.\n",
        "\n",
        "CYBORG: That's really impressive! Can you give me an example of how monitoring and reporting have helped you prevent or resolve issues in Gotham's database?\n",
        "\n",
        "ORACLE: Absolutely! A few months ago, I noticed a sudden spike in **CPU usage** and a slowdown in **query response times**. Through my monitoring and reporting setup, I was able to quickly identify the root cause: a poorly optimized query that was being executed frequently. By working with the development team to refactor the query and add appropriate **indexes**, we were able to significantly improve the database's performance and and reduce the CPU load. It was a great example of how proactive monitoring and reporting can help identify and resolve performance bottlenecks before they cause major issues.\n",
        "\n",
        "CYBORG: That's fantastic! It seems like there's a lot of data being generated through monitoring and reporting. How do you manage and analyze all of this information?\n",
        "\n",
        "ORACLE: Great question, CYBORG! This is where **logging** comes into play. Logging involves systematically recording various events, activities, and metrics related to the database system. There are several types of logs that I rely on to keep Gotham's crime database running smoothly.\n",
        "\n",
        "First, there are **system logs**, which capture information about the operating system and hardware on which the database is running. These logs can help identify issues related to system resources, such as CPU, memory, and disk usage.\n",
        "\n",
        "Next, we have **transaction logs**, which record all the changes made to the database as part of each transaction. These logs are crucial for ensuring data integrity and enabling point-in-time recovery in case of a failure. By analyzing transaction logs, I can also identify long-running or resource-intensive transactions that may need optimization.\n",
        "\n",
        "Another important type of log is the **connection log**, which tracks all the incoming connections to the database, including details like client IP addresses, connection times, and disconnections. Connection logs can help me monitor database usage patterns, identify potential security issues, and troubleshoot connectivity problems.\n",
        "\n",
        "CYBORG: Wow, that's a lot of different logs to keep track of! How do you manage and analyze all this log data?\n",
        "\n",
        "ORACLE: To manage and analyze log data effectively, I use a combination of tools and techniques. Since Gotham's crime database runs on Ubuntu, I leverage several built-in Linux utilities and open-source tools.\n",
        "\n",
        "For example, I use the `tail` and `grep` commands to monitor log files in real-time and filter out relevant entries based on specific keywords or patterns. This allows me to quickly spot potential issues or anomalies as they occur.\n",
        "\n",
        "I also use tools like `logrotate` to automatically rotate and compress log files on a regular basis, preventing them from consuming too much disk space and making it easier to archive and analyze historical log data.\n",
        "\n",
        "For more advanced log analysis and visualization, I rely on tools like ELK stack (Elasticsearch, Logstash, and Kibana) or Graylog. These tools allow me to centralize log data from multiple sources, perform complex queries and aggregations, and create interactive dashboards and reports.\n",
        "\n",
        "CYBORG: This is incredibly helpful, Oracle! It's clear that monitoring, reporting, and logging are all essential components of effective database management. Thanks for sharing your knowledge and experience with me.\n",
        "\n",
        "ORACLE: It's my pleasure, CYBORG! Remember, the key to successful database management is being proactive and data-driven. By leveraging monitoring, reporting, and logging, you can gain deep insights into your database's performance, health, and security, and take timely actions to prevent or resolve issues."
      ],
      "metadata": {
        "id": "W-0HuEqS2dxF"
      }
    },
    {
      "cell_type": "markdown",
      "source": [
        "### Oracle's Daily Report\n",
        "\n",
        "Datbase administrators (DBAs) need to generate and interpret \"reports\" on the state of the database. Here is an example report.\n",
        "\n",
        "```\n",
        "# Gotham City Police Department - Daily Database Report\n",
        "\n",
        "Date: 2023-06-12\n",
        "Prepared By: ORACLE\n",
        "Database: PostgreSQL 12.8\n",
        "OS: Ubuntu 20.04 LTS\n",
        "\n",
        "## Database Size and Growth\n",
        "- Current database size: 850 GB\n",
        "- Growth in the last 24 hours: 2.5 GB\n",
        "- Estimated time to reach 90% capacity: 45 days\n",
        "\n",
        "## Performance Metrics\n",
        "### CPU Usage\n",
        "- Average CPU usage: 45%\n",
        "- Peak CPU usage: 78% (occurred at 2023-06-11 14:30:00 during the daily crime report generation)\n",
        "\n",
        "### Memory Usage\n",
        "- Average memory usage: 60%\n",
        "- Peak memory usage: 85% (occurred at 2023-06-11 02:00:00 during the nightly batch processing)\n",
        "\n",
        "### Disk I/O\n",
        "- Average read IOPS: 1200\n",
        "- Average write IOPS: 800\n",
        "- Peak read IOPS: 2500 (occurred at 2023-06-11 08:30:00 during the morning data import)\n",
        "- Peak write IOPS: 1800 (occurred at 2023-06-11 23:30:00 during the nightly backup)\n",
        "\n",
        "## Database Connections\n",
        "- Total connections: 8500\n",
        "- Peak concurrent connections: 250\n",
        "- Failed connection attempts: 3 (investigation reveals misconfigured client application)\n",
        "\n",
        "## Job Status\n",
        "- Nightly backup: Completed successfully\n",
        "- Daily crime report generation: Completed successfully\n",
        "- Weekly data archival: Scheduled for 2023-06-13 02:00:00\n",
        "\n",
        "## Query Performance\n",
        "- Slowest query: `SELECT * FROM crime_records WHERE date_reported BETWEEN '2023-01-01' AND '2023-12-31'`\n",
        " - Execution time: 18.5 seconds\n",
        " - Recommendation: Add an index on the `date_reported` column\n",
        "- Most frequently executed query: `SELECT * FROM criminal_records WHERE criminal_id = $1`\n",
        " - Execution count: 12,500\n",
        " - Average execution time: 50 ms\n",
        "\n",
        "## Security and Access Control\n",
        "- Failed login attempts: 2 (from IP address 203.0.113.42, flagged for investigation)\n",
        "- Privilege escalation attempts: 0\n",
        "- User accounts created: 1 (John_Doe, limited access granted)\n",
        "- User accounts deactivated: 0\n",
        "\n",
        "## Replication and Disaster Recovery\n",
        "- Replication lag: 1.2 seconds (within acceptable range)\n",
        "- Last successful failover test: 2023-06-07 03:00:00\n",
        "- Last successful backup restore test: 2023-06-10 04:30:00\n",
        "\n",
        "## Action Items\n",
        "1. Investigate failed connection attempts and take necessary actions\n",
        "2. Implement recommended index on `crime_records.date_reported` column\n",
        "3. Review and optimize most frequently executed query\n",
        "4. Monitor replication lag and take corrective actions if it exceeds 5 seconds\n",
        "5. Schedule next failover and backup restore test for 2023-06-21\n",
        "\n",
        "Note: This report is generated based on data from the last 24 hours and is intended for internal use only.\n",
        "For any questions or concerns, please contact ORACLE at ORACLE@gcpd.gov.\n",
        "```"
      ],
      "metadata": {
        "id": "S2ccseTV3UT4"
      }
    },
    {
      "cell_type": "markdown",
      "source": [
        "## Key Points Summary\n",
        "\n",
        "-   Indexes are separate data structures that allow the database engine to find and retrieve data more efficiently without scanning the entire table.\n",
        "-   Creating appropriate indexes is crucial for optimizing database performance, but indexes also require additional storage space.\n",
        "-   Transactions ensure data integrity and reliability by treating a sequence of database operations as a single unit of work, adhering to the ACID properties: Atomicity, Consistency, Isolation, and Durability.\n",
        "-   SQLite provides commands like BEGIN, COMMIT, ROLLBACK, and SAVEPOINT to work with transactions and manage changes to the database.\n",
        "-   Concurrent transactions can lead to issues like lost updates and inconsistent data, so databases employ locking mechanisms to control simultaneous access to data.\n",
        "-   Database monitoring involves continuously observing and tracking various aspects of a database system to ensure it's running smoothly and efficiently.\n",
        "-   Reporting generates detailed analyses and summaries based on the data collected through monitoring, helping database administrators make informed decisions.\n",
        "-   Logging systematically records events, activities, and metrics related to the database system, providing valuable information for troubleshooting, performance optimization, and security auditing.\n",
        "-   Database administrators like ORACLE rely on a combination of tools, techniques, and best practices to effectively monitor, manage, and optimize databases, ensuring their reliability, performance, and security."
      ],
      "metadata": {
        "id": "Iyap8X9z5TKN"
      }
    },
    {
      "cell_type": "markdown",
      "source": [
        "## Review With Quizlet"
      ],
      "metadata": {
        "id": "8fPwIv0C12ot"
      }
    },
    {
      "cell_type": "code",
      "source": [
        "%%html\n",
        "<iframe src=\"https://quizlet.com/930417246/learn/embed?i=psvlh&x=1jj1\" height=\"600\" width=\"100%\" style=\"border:0\"></iframe>"
      ],
      "metadata": {
        "colab": {
          "base_uri": "https://localhost:8080/",
          "height": 621
        },
        "id": "NSzunJvO14-l",
        "outputId": "5d77725d-d7f5-4641-f4c4-b16b2959a0c7"
      },
      "execution_count": null,
      "outputs": [
        {
          "output_type": "display_data",
          "data": {
            "text/plain": [
              "<IPython.core.display.HTML object>"
            ],
            "text/html": [
              "<iframe src=\"https://quizlet.com/930417246/learn/embed?i=psvlh&x=1jj1\" height=\"600\" width=\"100%\" style=\"border:0\"></iframe>\n"
            ]
          },
          "metadata": {}
        }
      ]
    },
    {
      "cell_type": "markdown",
      "source": [
        "## Glossary\n",
        "| Term | Definition |\n",
        "|------|------------|\n",
        "| ACID | An acronym representing the four key properties of database transactions: Atomicity, Consistency, Isolation, and Durability. |\n",
        "| Atomicity | The property ensuring that a transaction is treated as a single, indivisible unit of work, which either completes entirely or fails completely. |\n",
        "| BEGIN | A SQL command used to explicitly start a new transaction in a database management system. |\n",
        "| B-tree | A self-balancing tree data structure commonly used in databases and file systems for efficient data retrieval, insertion, and deletion operations. |\n",
        "| Clustered index | A type of index that determines the physical order of data in a table, allowing for faster data retrieval based on the indexed columns. |\n",
        "| COMMIT | A SQL command used to permanently save the changes made during a transaction to the database. |\n",
        "| Concurrency | The ability of a database management system to handle multiple transactions or operations simultaneously without conflicts. |\n",
        "| connection logs | Records of database connections, including details such as user, time, duration, and connection status. |\n",
        "| Consistency | The property ensuring that a transaction brings the database from one valid state to another, maintaining all predefined rules and constraints. |\n",
        "| Covering index | An index that includes all the columns required to satisfy a query, eliminating the need to access the actual table data. |\n",
        "| CREATE INDEX index_name on tb1 (c1,c2,…) | A SQL command used to create an index on one or more columns of a specified table to improve query performance. |\n",
        "| Database monitoring | The process of continuously tracking and analyzing database performance, resource usage, and potential issues to ensure optimal operation. |\n",
        "| Database reporting | The generation of structured information about database activities, performance metrics, and usage patterns for analysis and decision-making. |\n",
        "| Durability | The property ensuring that once a transaction is committed, its changes are permanent and will survive system failures or crashes. |\n",
        "| Exclusive (Write) Lock | A lock that prevents other transactions from reading or modifying the locked data, typically used for write operations. |\n",
        "| EXPLAIN QUERY PLAN | A SQL command used to display the execution plan of a query, helping developers optimize query performance. |\n",
        "| Full table scan | A database operation that reads every row in a table, typically used when no suitable index is available for a query. |\n",
        "| Index | A data structure that improves the speed of data retrieval operations on a database table by providing quick access to rows. |\n",
        "| Index scan | A database operation that uses an index to locate and retrieve specific rows from a table, generally faster than a full table scan for selective queries. |\n",
        "| Isolation | The property that ensures concurrent transactions do not interfere with each other, maintaining data integrity and consistency. |\n",
        "| Non-clustered index | An index structure separate from the data rows, containing the indexed columns and a pointer to the corresponding table rows. |\n",
        "| ROLLBACK | A SQL command used to undo all changes made in the current transaction and end the transaction. |\n",
        "| SAVEPOINT | A point within a transaction to which you can later roll back, allowing for more granular control over transaction management. |\n",
        "| Scalar subquery | A subquery that returns a single value, which can be used in a main query as part of a condition or expression. |\n",
        "| Shared (Read) Lock | A lock that allows multiple transactions to read the same data simultaneously but prevents any writes to that data. |\n",
        "| system logs | Records of database system events, errors, and activities, crucial for troubleshooting, auditing, and performance analysis. |\n",
        "| Transaction | A sequence of one or more SQL statements that are executed as a single unit of work, maintaining data integrity and consistency. |"
      ],
      "metadata": {
        "id": "JkyBE31X1FnH"
      }
    },
    {
      "cell_type": "code",
      "source": [],
      "metadata": {
        "id": "y3ohQ_74zMfO"
      },
      "execution_count": null,
      "outputs": []
    }
  ]
}