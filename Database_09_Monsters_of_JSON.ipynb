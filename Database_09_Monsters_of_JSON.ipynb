{
  "nbformat": 4,
  "nbformat_minor": 0,
  "metadata": {
    "colab": {
      "provenance": [],
      "authorship_tag": "ABX9TyPY7K1F46opaDmfnCeXXLYE",
      "include_colab_link": true
    },
    "kernelspec": {
      "name": "python3",
      "display_name": "Python 3"
    },
    "language_info": {
      "name": "python"
    }
  },
  "cells": [
    {
      "cell_type": "markdown",
      "metadata": {
        "id": "view-in-github",
        "colab_type": "text"
      },
      "source": [
        "<a href=\"https://colab.research.google.com/github/brendanpshea/database_sql/blob/main/Database_09_Monsters_of_JSON.ipynb\" target=\"_parent\"><img src=\"https://colab.research.google.com/assets/colab-badge.svg\" alt=\"Open In Colab\"/></a>"
      ]
    },
    {
      "cell_type": "markdown",
      "source": [
        "# Monsters of JSON and XML\n",
        "### Brendan Shea, PhD\n",
        "In the ever-evolving digital world, data has become the lifeblood of modern technology. Every day, countless amounts of data are generated, processed, and exchanged across various systems and platforms. This data can come in a multitude of formats, and one of the most prevalent is JSON, short for JavaScript Object Notation.\n",
        "\n",
        "**JSON** is a lightweight data-interchange format that is easy for humans to read and write and easy for machines to parse and generate. It is based on a subset of the JavaScript Programming Language, Standard ECMA-262 3rd Edition - December 1999. JSON is a text format that is completely language independent but uses conventions that are familiar to programmers of the C-family of languages, including C, C++, C#, Java, JavaScript, Perl, Python, and many others.\n",
        "\n",
        "This chapter aims to provide a comprehensive introduction to JSON, its structure, and its practical uses. We will delve into the essential details of JSON and how it fits into the broader landscape of data formats. We will also explore why JSON has gained such popularity in the realm of databases and data exchange.\n",
        "\n",
        "One such database that has embraced JSON is PostgreSQL. Known for its robustness and advanced capabilities, PostgreSQL offers substantial support for JSON, allowing developers to store, query, and manipulate JSON data efficiently. We will explore these features and provide a hands-on guide to interacting with JSON within the PostgreSQL environment.\n",
        "\n",
        "To bring these concepts to life, we will be using a fascinating case study throughout this chapter. We will work with a JSON dataset related to the world of Dungeons and Dragons (D&D), a popular fantasy role-playing game. This dataset contains detailed information about various monsters in the game, encoded in JSON format. This dataset not only serves as a practical example of real-world JSON data but also adds an element of fun and intrigue to our exploration of JSON.\n",
        "\n",
        "By the end of this chapter, you should have a solid understanding of JSON, its importance, and how to work with it in PostgreSQL. So, prepare yourself for a journey into the realm of data, where monsters lurk in JSON format, and PostgreSQL is our tool of choice for taming them."
      ],
      "metadata": {
        "id": "llXJIM2ytJbS"
      }
    },
    {
      "cell_type": "markdown",
      "source": [
        "## What is JSON?\n",
        "\n",
        "JSON, or JavaScript Object Notation, is a text-based data format that is designed to be human-readable and easy for computers to parse and generate. JSON originated from the JavaScript language, but it is a language-independent data format. It is often used for transmitting data in web applications, serving as an alternative to XML.\n",
        "\n",
        "JSON is built on two simple structures: objects and arrays/\n",
        "\n",
        "### Objects\n",
        "An **object** in JSON is an unordered set of **key-value pairs**, similar to a dictionary, a hash, or a record in other languages. Objects are enclosed in curly braces {}. A colon : separates the **keys** and the **values**, and a comma `,` separates the pairs. For example:\n",
        "\n",
        "```javascript\n",
        "{\n",
        "  \"monsterName\": \"Fluffy Bunny\",\n",
        "  \"monsterType\": \"Beast\",\n",
        "  \"hitPoints\": 3,\n",
        "  \"abilities\": [\"Hop\", \"Nibble\", \"Cuteness Overload\"]\n",
        "}\n",
        "```\n",
        "In this example, the object describes a somewhat unusual D&D monster, a \"Fluffy Bunny\" with abilities including \"Hop\", \"Nibble\", and \"Cuteness Overload\".\n",
        "\n",
        "### Arrays\n",
        "An **array** in JSON is an ordered list of values, similar to a list, a vector, or an array in other languages. Arrays are enclosed in square brackets [], and the values are separated by commas. For example:\n",
        "\n",
        "```javascript\n",
        "[\n",
        "  \"Bumbling Beholder\",\n",
        "  \"Kind Kobold\",\n",
        "  \"Dancing Doppelganger\",\n",
        "  \"Jolly Jelly Cube\"\n",
        "]\n",
        "```\n",
        "In this example, the array includes a list of whimsical D&D monster names. The order of these monster names in the array can be important, depending on how the data is to be used."
      ],
      "metadata": {
        "id": "4czd6zKft_Hv"
      }
    },
    {
      "cell_type": "markdown",
      "source": [
        "## Why JSON is not Relational\n",
        "Relational databases and JSON structures have fundamentally different ways of representing and organizing data.\n",
        "\n",
        "In a relational database, data is structured into tables, similar to a spreadsheet. Each table has a defined schema, which is a set of attributes (or columns), and each attribute has a specific data type. Each row in the table represents a single record, and each cell in the row represents a value for the corresponding attribute. Relationships can be defined between tables using primary and foreign keys, allowing for complex data models to be represented.\n",
        "\n",
        "In contrast, JSON data is represented as a collection of key-value pairs (objects) or ordered lists of values (arrays). JSON objects do not have a predefined schema, meaning each object can have a different set of keys. Arrays and objects can be nested within each other, allowing for complex, hierarchical data structures.\n",
        "\n",
        "The differences between these two data structures have several implications:\n",
        "\n",
        "1.  *Flexibility:* JSON is schema-less, meaning it can represent a wider variety of data structures compared to relational databases. It's easy to add new fields or nest data structures. However, this flexibility can lead to inconsistencies in data if not managed carefully.\n",
        "\n",
        "2.  *Complexity of Relationships:* Relational databases excel at representing complex relationships between different entities (tables). In JSON, while it's possible to nest objects within each other to represent relationships, it's less straightforward to manage many-to-many or complex relationships.\n",
        "\n",
        "3.  *Data Integrity:* Relational databases provide strong data integrity through constraints, such as unique, primary key, and foreign key constraints. JSON does not inherently support these constraints, so data integrity must be managed at the application level.\n",
        "\n",
        "4.  *Querying:* Relational databases have a powerful querying language (SQL) that supports complex queries, aggregations, and joins. Querying JSON data can be less straightforward and often requires parsing the JSON structure at the application level. However, some databases like PostgreSQL offer JSON functions and operators that make querying JSON data easier.\n",
        "\n",
        "5.  *Storage and Performance:* Generally, relational databases are optimized for performance and can handle large volumes of data efficiently. JSON can be less efficient for large data volumes, especially when the JSON structures are complex and deeply nested. However, some modern databases have improved JSON storage and query performance.\n",
        "\n",
        "In the context of our D&D example, if we were to use a relational database, we might have separate tables for \"Monsters\", \"Abilities\", and \"Types\", and we would define relationships between these tables. With JSON, we could potentially store all this data in a single JSON object, with abilities and types nested within each monster. The best approach would depend on the specific requirements and complexity of our application."
      ],
      "metadata": {
        "id": "ubDRmxJ9vdU1"
      }
    },
    {
      "cell_type": "markdown",
      "source": [
        "## Why is JSON Used?\n",
        "JSON, or JavaScript Object Notation, has found extensive usage in modern software development due to its lightweight nature and easy readability. Here are some of the practical uses of JSON:\n",
        "\n",
        "1.  *Data Storage:* JSON is often used for storing data locally or remotely in a structured, human-readable format. For example, a web application might store user settings in JSON format for easy retrieval and update.\n",
        "\n",
        "2.  *Data Exchange:* JSON is commonly used as the data format for sending data between a server and a web application, or between different parts of a web application. Its human-readable nature and wide support across different programming languages make it ideal for this purpose.\n",
        "\n",
        "3.  *Configuration Files:* JSON is often used to store configuration settings for web applications, desktop applications, servers, and more. These configuration files can be easily read and written by the application, and also easily understood and modified by humans.\n",
        "\n",
        "4.  *Web APIs:* Most modern web APIs (Application Programming Interfaces) use JSON as their communication format. When a web application makes a request to an API (for example, to fetch data), the API often sends back the response in JSON format, which the web application can then easily parse and use.\n",
        "\n",
        "5.  *Database Operations:* Many NoSQL databases, like MongoDB, use JSON for storing and manipulating data. Even SQL databases, like PostgreSQL, now often include support for JSON data types, allowing for more flexible data models.\n",
        "\n",
        "6.  *Frontend Frameworks:* Many modern frontend frameworks (like React and Vue.js) use JSON for handling data within the application.\n",
        "\n",
        "In the context of our Dungeons & Dragons example, a D&D game application might use JSON to store data about different monsters, characters, and game settings. The game might also fetch additional data from a D&D API, which sends back responses in JSON format. This JSON data can then be parsed and used by the application to enhance the gameplay experience."
      ],
      "metadata": {
        "id": "lvPDE5-Au2RL"
      }
    },
    {
      "cell_type": "markdown",
      "source": [
        "## Example: Working With DnD Monsters\n",
        "For the remainder of this chapter, we'll be working with the JSON file `srd_5e_monsters.json` contains data about 327 different monsters from the Dungeons and Dragons universe. Each monster is represented as a JSON object with several attributes. (https://github.com/brendanpshea/database_sql/blob/main/data/srd_5e_monsters.json)\n",
        "\n",
        "Here are the keys (attributes) for the first monster in the data:\n",
        "\n",
        "-   `name`: The name of the monster.\n",
        "-   `meta`: Metadata about the monster, such as its size and alignment.\n",
        "-   `Armor Class`: The monster's armor class.\n",
        "-   `Hit Points`: The monster's hit points.\n",
        "-   `Speed`: The monster's speed.\n",
        "-   `STR`, `STR_mod`, `DEX`, `DEX_mod`, `CON`, `CON_mod`, `INT`, `INT_mod`, `WIS`, `WIS_mod`, `CHA`, `CHA_mod`: These are the monster's ability scores and their modifiers.\n",
        "-   `Saving Throws`: The monster's saving throws.\n",
        "-   `Skills`: An array (list) of the monster's skills.\n",
        "-   `Senses`: An array (list) of the monster's senses.\n",
        "-   `Languages`: An array (list) of the languages the monster can speak.\n",
        "-   `Challenge`: The challenge rating of the monster.\n",
        "-   `XP`: The amount of experience points  the monster is worth.\n",
        "-   `Traits`: Traits that the monster possesses.\n",
        "-   `Actions`: Actions that the monster can take.\n",
        "-   `Legendary Actions`: Legendary actions that the monster can take.\n",
        "-   `img_url`: A URL to an image of the monster.\n",
        "\n",
        "The JSON data is structured as an array of such objects. Each object represents a unique monster, and the keys within each object provide detailed information about that particular monster.\n",
        "\n",
        "The next step, having understood the structure, would be to import this JSON data into a PostgreSQL database."
      ],
      "metadata": {
        "id": "PIpSiiYlyP8m"
      }
    },
    {
      "cell_type": "markdown",
      "source": [
        "## Importing JSON data into SQL\n",
        "Here's a script for importing JSON data into a PostgreSQL database."
      ],
      "metadata": {
        "id": "i9wuIyn10Gi7"
      }
    },
    {
      "cell_type": "code",
      "source": [
        "!apt install postgresql postgresql-contrib &>log\n",
        "!service postgresql start\n",
        "!sudo -u postgres psql -c \"CREATE USER root WITH SUPERUSER\"\n",
        "# set connection\n",
        "%load_ext sql\n",
        "%sql postgresql+psycopg2://@/postgres"
      ],
      "metadata": {
        "colab": {
          "base_uri": "https://localhost:8080/"
        },
        "id": "P6yAti0Xy6X2",
        "outputId": "c3f7efe6-a497-43e4-8e92-540ccf890671"
      },
      "execution_count": 1,
      "outputs": [
        {
          "output_type": "stream",
          "name": "stdout",
          "text": [
            " * Starting PostgreSQL 14 database server\n",
            "   ...done.\n",
            "CREATE ROLE\n"
          ]
        }
      ]
    },
    {
      "cell_type": "code",
      "source": [
        "# download the file\n",
        "!wget https://github.com/brendanpshea/database_sql/raw/main/data/processed_srd_5e_monsters.json -q"
      ],
      "metadata": {
        "id": "piH9e31p3ZI8"
      },
      "execution_count": 2,
      "outputs": []
    },
    {
      "cell_type": "code",
      "source": [
        "%%capture\n",
        "import json\n",
        "\n",
        "# Load JSON file\n",
        "with open('processed_srd_5e_monsters.json', 'r') as f:\n",
        "    data = json.load(f)\n",
        "\n",
        "# Use SQL magic to connect to PostgreSQL\n",
        "%sql postgresql+psycopg2://@/postgres\n",
        "\n",
        "# Create table\n",
        "%sql DROP TABLE IF EXISTS monsters;\n",
        "%sql CREATE TABLE monsters (data JSONB);\n",
        "\n",
        "# Insert JSON data into the table\n",
        "for monster in data:\n",
        "    monster_json = json.dumps(monster)\n",
        "    %sql INSERT INTO monsters (data) VALUES (:monster_json)\n"
      ],
      "metadata": {
        "id": "ibu-AhRmtRV8"
      },
      "execution_count": 3,
      "outputs": []
    },
    {
      "cell_type": "code",
      "source": [
        "## Make sure we have got all the monsters!\n",
        "%sql SELECT COUNT(*) FROM monsters;"
      ],
      "metadata": {
        "colab": {
          "base_uri": "https://localhost:8080/",
          "height": 95
        },
        "id": "6S8Ww5Oi13pJ",
        "outputId": "c0b1e83d-08be-430b-fcb0-4ea4e5a444f5"
      },
      "execution_count": 4,
      "outputs": [
        {
          "output_type": "stream",
          "name": "stdout",
          "text": [
            " * postgresql+psycopg2://@/postgres\n",
            "1 rows affected.\n"
          ]
        },
        {
          "output_type": "execute_result",
          "data": {
            "text/plain": [
              "[(327,)]"
            ],
            "text/html": [
              "<table>\n",
              "    <thead>\n",
              "        <tr>\n",
              "            <th>count</th>\n",
              "        </tr>\n",
              "    </thead>\n",
              "    <tbody>\n",
              "        <tr>\n",
              "            <td>327</td>\n",
              "        </tr>\n",
              "    </tbody>\n",
              "</table>"
            ]
          },
          "metadata": {},
          "execution_count": 4
        }
      ]
    },
    {
      "cell_type": "code",
      "source": [
        "## Let's print the first monster\n",
        "\n",
        "# First, the actual query\n",
        "result_set = %sql SELECT * FROM monsters LIMIT 1;\n",
        "\n",
        "# Now, we're going to \"pretty print\" it\n",
        "result_dict = result_set[0][0]\n",
        "pretty_json = json.dumps(result_dict, indent=4)\n",
        "print(pretty_json)\n"
      ],
      "metadata": {
        "colab": {
          "base_uri": "https://localhost:8080/"
        },
        "id": "NGGCLFCL4XzL",
        "outputId": "db29c8b4-f0dc-4112-9159-003fa4ccb1f2"
      },
      "execution_count": 9,
      "outputs": [
        {
          "output_type": "stream",
          "name": "stdout",
          "text": [
            " * postgresql+psycopg2://@/postgres\n",
            "1 rows affected.\n",
            "{\n",
            "    \"XP\": 5,\n",
            "    \"CHA\": \"18\",\n",
            "    \"CON\": \"15\",\n",
            "    \"DEX\": \"9\",\n",
            "    \"INT\": \"18\",\n",
            "    \"STR\": \"21\",\n",
            "    \"WIS\": \"15\",\n",
            "    \"meta\": \"Large aberration, lawful evil\",\n",
            "    \"name\": \"Aboleth\",\n",
            "    \"Speed\": [\n",
            "        \"10 ft.\",\n",
            "        \"swim 40 ft.\"\n",
            "    ],\n",
            "    \"Senses\": [\n",
            "        \"Darkvision 120 ft.\",\n",
            "        \"Passive Perception 20\"\n",
            "    ],\n",
            "    \"Skills\": [\n",
            "        \"History +12\",\n",
            "        \"Perception +10\"\n",
            "    ],\n",
            "    \"Traits\": \"<p><em><strong>Amphibious.</strong></em> The aboleth can breathe air and water. </p><p><em><strong>Mucous Cloud.</strong></em> While underwater, the aboleth is surrounded by transformative mucus. A creature that touches the aboleth or that hits it with a melee attack while within 5 feet of it must make a DC 14 Constitution saving throw. On a failure, the creature is diseased for 1d4 hours. The diseased creature can breathe only underwater. </p><p><em><strong>Probing Telepathy.</strong></em> If a creature communicates telepathically with the aboleth, the aboleth learns the creature's greatest desires if the aboleth can see the creature.</p>\",\n",
            "    \"Actions\": \"<p><em><strong>Multiattack.</strong></em> The aboleth makes three tentacle attacks. </p><p><em><strong>Tentacle.</strong></em> <em>Melee Weapon Attack:</em> +9 to hit, reach 10 ft., one target. <em>Hit:</em> 12 (2d6 + 5) bludgeoning damage. If the target is a creature, it must succeed on a DC 14 Constitution saving throw or become diseased. The disease has no effect for 1 minute and can be removed by any magic that cures disease. After 1 minute, the diseased creature's skin becomes translucent and slimy, the creature can't regain hit points unless it is underwater, and the disease can be removed only by heal or another disease-curing spell of 6th level or higher. When the creature is outside a body of water, it takes 6 (1d12) acid damage every 10 minutes unless moisture is applied to the skin before 10 minutes have passed. </p><p><em><strong>Tail.</strong></em> <em>Melee Weapon Attack:</em> +9 to hit, reach 10 ft. one target. <em>Hit:</em> 15 (3d6 + 5) bludgeoning damage. </p><p><em><strong>Enslave (3/Day).</strong></em> The aboleth targets one creature it can see within 30 feet of it. The target must succeed on a DC 14 Wisdom saving throw or be magically charmed by the aboleth until the aboleth dies or until it is on a different plane of existence from the target. The charmed target is under the aboleth's control and can't take reactions, and the aboleth and the target can communicate telepathically with each other over any distance. </p><p>Whenever the charmed target takes damage, the target can repeat the saving throw. On a success, the effect ends. No more than once every 24 hours, the target can also repeat the saving throw when it is at least 1 mile away from the aboleth.</p>\",\n",
            "    \"CHA_mod\": \"(+4)\",\n",
            "    \"CON_mod\": \"(+2)\",\n",
            "    \"DEX_mod\": \"(-1)\",\n",
            "    \"INT_mod\": \"(+4)\",\n",
            "    \"STR_mod\": \"(+5)\",\n",
            "    \"WIS_mod\": \"(+2)\",\n",
            "    \"img_url\": \"https://media-waterdeep.cursecdn.com/avatars/thumbnails/0/11/1000/1000/636238825975375671.jpeg\",\n",
            "    \"Challenge\": 10,\n",
            "    \"Languages\": [\n",
            "        \"Deep Speech\",\n",
            "        \"Telepathy 120 ft.\"\n",
            "    ],\n",
            "    \"Hit Points\": 135,\n",
            "    \"Armor Class\": 17,\n",
            "    \"Saving Throws\": [\n",
            "        \"CON +6\",\n",
            "        \"INT +8\",\n",
            "        \"WIS +6\"\n",
            "    ],\n",
            "    \"Legendary Actions\": \"<p>The aboleth can take 3 legendary actions, choosing from the options below. Only one legendary action option can be used at a time and only at the end of another creature's turn. The aboleth regains spent legendary actions at the start of its turn. </p><p><em><strong>Detect.</strong></em> The aboleth makes a Wisdom (Perception) check. </p><p><em><strong>Tail Swipe.</strong></em> The aboleth makes one tail attack. </p><p><em><strong>Psychic Drain</strong></em> (Costs 2 Actions). One creature charmed by the aboleth takes 10 (3d6) psychic damage, and the aboleth regains hit points equal to the damage the creature takes.</p>\"\n",
            "}\n"
          ]
        }
      ]
    },
    {
      "cell_type": "markdown",
      "source": [
        "## How to Query JSON Data Using Postgres\n",
        "First, it's important to understand how we've stored our JSON data in PostgreSQL. We've created a table named `monsters`, which has a single column named `data` of type `JSONB`. Each row in this table contains a JSON object, which represents a single monster.\n",
        "\n",
        "Now, when it comes to querying JSON data in PostgreSQL, we can use the `->`, `->>`, and `#>` operators.\n",
        "\n",
        "\n",
        "-   `->`: This operator is used to get a JSON object field by key. The result is a JSON object or array. For example, `data->'name'` would give us the name of the monster as a JSON object (as an \"element of a JSON array\" or \"value of the name field).\n",
        "\n",
        "So, for example, let's suppose I have the JSON document\n",
        "\n",
        "```javascript\n",
        "{ \"name\": \"Groot\",\n",
        "\"Skills\": [\"Hulk Smash\", \"I am Groot\"] }\n",
        "```\n",
        "\n",
        "```\n",
        "JSON path expression: `data->'name'`\n",
        "Result: \"Groot\"\n",
        "```\n",
        "I can also use this `->` operator to access array items by number (starting at 0). For example\n",
        "\n",
        "```\n",
        "JSON path expression: `data->'Skills'->0`\n",
        "Result: \"Hulk Smash\"\n",
        "```\n",
        "\n",
        "-   `->>`: This operator is also used to get a JSON object field by key, but the result is text. For example, `data->>'name'` would give us the name of the monster as text.\n",
        "\n",
        "-   `#>`: This operator is used to get a JSON object field by a path. A path is an array of key strings. This is useful when our JSON objects have nested objects or arrays.\n",
        "\n",
        "\n",
        "Let's go through a few simple examples:"
      ],
      "metadata": {
        "id": "6XA7E_yq1xPq"
      }
    },
    {
      "cell_type": "code",
      "source": [
        "%%sql\n",
        "--Get the names of the first five monsters\n",
        "SELECT data->>'name' AS Monster_Name\n",
        "FROM monsters\n",
        "LIMIT 5;"
      ],
      "metadata": {
        "colab": {
          "base_uri": "https://localhost:8080/",
          "height": 179
        },
        "id": "CsBVRADv5Ktv",
        "outputId": "2fc947d4-2ad6-457b-b09d-f442ac57499a"
      },
      "execution_count": null,
      "outputs": [
        {
          "output_type": "stream",
          "name": "stdout",
          "text": [
            " * postgresql+psycopg2://@/postgres\n",
            "5 rows affected.\n"
          ]
        },
        {
          "output_type": "execute_result",
          "data": {
            "text/plain": [
              "[('Aboleth',),\n",
              " ('Acolyte',),\n",
              " ('Adult Black Dragon',),\n",
              " ('Adult Blue Dragon',),\n",
              " ('Adult Brass Dragon',)]"
            ],
            "text/html": [
              "<table>\n",
              "    <thead>\n",
              "        <tr>\n",
              "            <th>monster_name</th>\n",
              "        </tr>\n",
              "    </thead>\n",
              "    <tbody>\n",
              "        <tr>\n",
              "            <td>Aboleth</td>\n",
              "        </tr>\n",
              "        <tr>\n",
              "            <td>Acolyte</td>\n",
              "        </tr>\n",
              "        <tr>\n",
              "            <td>Adult Black Dragon</td>\n",
              "        </tr>\n",
              "        <tr>\n",
              "            <td>Adult Blue Dragon</td>\n",
              "        </tr>\n",
              "        <tr>\n",
              "            <td>Adult Brass Dragon</td>\n",
              "        </tr>\n",
              "    </tbody>\n",
              "</table>"
            ]
          },
          "metadata": {},
          "execution_count": 6
        }
      ]
    },
    {
      "cell_type": "markdown",
      "source": [
        "Here's what this query does:\n",
        "\n",
        "-   `SELECT`: This keyword is used to select data from a database. The data returned is stored in a result table, called the result-set.\n",
        "\n",
        "-   `data->>'name'`: Here, we're using the `->>` operator to get the `name` field from our `data` JSON objects. The result will be the name of the monster, as text.\n",
        "\n",
        "-   `AS Monster_Name`: The `AS` keyword is used to rename a column or table with an alias. Here, we're renaming our `data->>'name'` column to `Monster_Name`.\n",
        "\n",
        "-   `FROM monsters`: This specifies the name of the table that we're selecting data from. In this case, it's our `monsters` table.\n",
        "\n",
        "-   `LIMIT 5`: This is used to limit the number of rows returned in a result set. Here, we're limiting our result set to the first 5 rows.\n",
        "\n",
        "The result of this query should be the names of the first 5 monsters in our table."
      ],
      "metadata": {
        "id": "APSy_C2f5mJ1"
      }
    },
    {
      "cell_type": "markdown",
      "source": [
        "## Retrieving Nested Data\n",
        "Now that we've learned how to retrieve a specific attribute from our JSON data (in this case, the monster's name), let's explore more ways to interact with our JSONB column in PostgreSQL.\n",
        "\n",
        "In our `monsters` table, each monster object has several skills. Some of these attributes could be objects or arrays themselves. For instance, if a monster has an attribute `Skills` that is an array of abilities, we can use the `->` operator to access this array. Let's consider an example where we want to access the first ability of each monster:"
      ],
      "metadata": {
        "id": "oJj0pS-O6bzD"
      }
    },
    {
      "cell_type": "code",
      "source": [
        "%%sql\n",
        "SELECT data->'name' AS Name,\n",
        "  data->'Skills'->0  AS First_Ability\n",
        "FROM monsters\n",
        "LIMIT 5;"
      ],
      "metadata": {
        "colab": {
          "base_uri": "https://localhost:8080/",
          "height": 179
        },
        "id": "nOWvlHOC6faR",
        "outputId": "836c9158-484b-45fd-a0b2-57b5a23aafa5"
      },
      "execution_count": null,
      "outputs": [
        {
          "output_type": "stream",
          "name": "stdout",
          "text": [
            " * postgresql+psycopg2://@/postgres\n",
            "5 rows affected.\n"
          ]
        },
        {
          "output_type": "execute_result",
          "data": {
            "text/plain": [
              "[('Aboleth', 'History +12'),\n",
              " ('Acolyte', 'Medicine +4'),\n",
              " ('Adult Black Dragon', 'Perception +11'),\n",
              " ('Adult Blue Dragon', 'Perception +12'),\n",
              " ('Adult Brass Dragon', 'History +7')]"
            ],
            "text/html": [
              "<table>\n",
              "    <thead>\n",
              "        <tr>\n",
              "            <th>name</th>\n",
              "            <th>first_ability</th>\n",
              "        </tr>\n",
              "    </thead>\n",
              "    <tbody>\n",
              "        <tr>\n",
              "            <td>Aboleth</td>\n",
              "            <td>History +12</td>\n",
              "        </tr>\n",
              "        <tr>\n",
              "            <td>Acolyte</td>\n",
              "            <td>Medicine +4</td>\n",
              "        </tr>\n",
              "        <tr>\n",
              "            <td>Adult Black Dragon</td>\n",
              "            <td>Perception +11</td>\n",
              "        </tr>\n",
              "        <tr>\n",
              "            <td>Adult Blue Dragon</td>\n",
              "            <td>Perception +12</td>\n",
              "        </tr>\n",
              "        <tr>\n",
              "            <td>Adult Brass Dragon</td>\n",
              "            <td>History +7</td>\n",
              "        </tr>\n",
              "    </tbody>\n",
              "</table>"
            ]
          },
          "metadata": {},
          "execution_count": 7
        }
      ]
    },
    {
      "cell_type": "markdown",
      "source": [
        "As you can see, The `SELECT` statement in this query is selecting two columns from the monsters table:\n",
        "\n",
        "- `Name:` The name of the monster.\n",
        "- `First_Ability:` The first ability of the monster.\n",
        "The `data->'name'` part of the SELECT statement is a JSON path expression. JSON path expressions are used to select data from JSON documents. In this case, the JSON path expression is selecting the name property from the data object.\n",
        "\n",
        "The `data->'Skills'->0` part of the SELECT statement is another JSON path expression. This JSON path expression is selecting the first element of the Skills array."
      ],
      "metadata": {
        "id": "cOtogl6HMdaO"
      }
    },
    {
      "cell_type": "markdown",
      "source": [
        "## Filtering Data\n",
        "\n",
        "We can also use these operators in the `WHERE` clause to filter our data. For example, if we want to get all monsters with a hit points greater than 300:\n",
        "\n",
        "Here, `(data->>'Hit Points')::int > 300` is used in the `WHERE` clause to filter our data. We're casting the hit points to an integer using `::int` because the `->>` operator returns text, but we need to perform a numerical comparison."
      ],
      "metadata": {
        "id": "UCDhkCN8C2HR"
      }
    },
    {
      "cell_type": "code",
      "source": [
        "%%sql\n",
        "SELECT data->>'name' AS Monster_Name\n",
        "FROM monsters\n",
        "WHERE (data->>'Hit Points')::int > 300;\n"
      ],
      "metadata": {
        "colab": {
          "base_uri": "https://localhost:8080/",
          "height": 326
        },
        "id": "2deEZYOHC6cO",
        "outputId": "b29ab5c7-1487-4040-f092-b5072dbaad1b"
      },
      "execution_count": null,
      "outputs": [
        {
          "output_type": "stream",
          "name": "stdout",
          "text": [
            " * postgresql+psycopg2://@/postgres\n",
            "12 rows affected.\n"
          ]
        },
        {
          "output_type": "execute_result",
          "data": {
            "text/plain": [
              "[('Ancient Black Dragon',),\n",
              " ('Ancient Blue Dragon',),\n",
              " ('Ancient Bronze Dragon',),\n",
              " ('Ancient Copper Dragon',),\n",
              " ('Ancient Gold Dragon',),\n",
              " ('Ancient Green Dragon',),\n",
              " ('Ancient Red Dragon',),\n",
              " ('Ancient Silver Dragon',),\n",
              " ('Ancient White Dragon',),\n",
              " ('Dragon Turtle',),\n",
              " ('Kraken',),\n",
              " ('Tarrasque',)]"
            ],
            "text/html": [
              "<table>\n",
              "    <thead>\n",
              "        <tr>\n",
              "            <th>monster_name</th>\n",
              "        </tr>\n",
              "    </thead>\n",
              "    <tbody>\n",
              "        <tr>\n",
              "            <td>Ancient Black Dragon</td>\n",
              "        </tr>\n",
              "        <tr>\n",
              "            <td>Ancient Blue Dragon</td>\n",
              "        </tr>\n",
              "        <tr>\n",
              "            <td>Ancient Bronze Dragon</td>\n",
              "        </tr>\n",
              "        <tr>\n",
              "            <td>Ancient Copper Dragon</td>\n",
              "        </tr>\n",
              "        <tr>\n",
              "            <td>Ancient Gold Dragon</td>\n",
              "        </tr>\n",
              "        <tr>\n",
              "            <td>Ancient Green Dragon</td>\n",
              "        </tr>\n",
              "        <tr>\n",
              "            <td>Ancient Red Dragon</td>\n",
              "        </tr>\n",
              "        <tr>\n",
              "            <td>Ancient Silver Dragon</td>\n",
              "        </tr>\n",
              "        <tr>\n",
              "            <td>Ancient White Dragon</td>\n",
              "        </tr>\n",
              "        <tr>\n",
              "            <td>Dragon Turtle</td>\n",
              "        </tr>\n",
              "        <tr>\n",
              "            <td>Kraken</td>\n",
              "        </tr>\n",
              "        <tr>\n",
              "            <td>Tarrasque</td>\n",
              "        </tr>\n",
              "    </tbody>\n",
              "</table>"
            ]
          },
          "metadata": {},
          "execution_count": 8
        }
      ]
    },
    {
      "cell_type": "markdown",
      "source": [
        "## Aggregating Data\n",
        "\n",
        "We can perform aggregation operations like COUNT, MAX, MIN, AVG, etc., on the data. For instance, if we want to find the average hit points of all monsters:"
      ],
      "metadata": {
        "id": "Z5J6520DDa4u"
      }
    },
    {
      "cell_type": "code",
      "source": [
        "%%sql\n",
        "SELECT AVG((data->>'Hit Points')::int) AS AVG_HP,\n",
        "  MAX((data->>'Hit Points')::int) AS Max_HP,\n",
        "  MIN((data->>'Hit Points')::int) AS Min_HP\n",
        "FROM monsters;"
      ],
      "metadata": {
        "colab": {
          "base_uri": "https://localhost:8080/",
          "height": 95
        },
        "id": "_HLS_MXVDdMf",
        "outputId": "951b4636-a214-4769-f9e1-0f4ccd6ba274"
      },
      "execution_count": null,
      "outputs": [
        {
          "output_type": "stream",
          "name": "stdout",
          "text": [
            " * postgresql+psycopg2://@/postgres\n",
            "1 rows affected.\n"
          ]
        },
        {
          "output_type": "execute_result",
          "data": {
            "text/plain": [
              "[(Decimal('81.3425076452599388'), 676, 1)]"
            ],
            "text/html": [
              "<table>\n",
              "    <thead>\n",
              "        <tr>\n",
              "            <th>avg_hp</th>\n",
              "            <th>max_hp</th>\n",
              "            <th>min_hp</th>\n",
              "        </tr>\n",
              "    </thead>\n",
              "    <tbody>\n",
              "        <tr>\n",
              "            <td>81.3425076452599388</td>\n",
              "            <td>676</td>\n",
              "            <td>1</td>\n",
              "        </tr>\n",
              "    </tbody>\n",
              "</table>"
            ]
          },
          "metadata": {},
          "execution_count": 9
        }
      ]
    },
    {
      "cell_type": "markdown",
      "source": [
        "In this query, we're using the AVG function to find the average of the hit points.\n",
        "\n",
        "Remember, the keys we use to access the data (`name`, `Skills`, `Hit Points`, etc.) are dependent on the structure of the JSON objects in your monsters table. Always make sure to understand the structure of your JSON data before attempting to query it.\n",
        "\n",
        "Take some time to try out these queries, and see what kind of data you can extract from the monsters table. As you get more comfortable with these operators and JSON data in general, you'll find that you can perform very powerful and flexible queries with PostgreSQL and JSONB."
      ],
      "metadata": {
        "id": "pus1Q1PiEW71"
      }
    },
    {
      "cell_type": "markdown",
      "source": [
        "### The `@>` Operator\n",
        "\n",
        "The `@>` operator is known as the \"contains\" operator in PostgreSQL. It checks if the left-hand JSON value contains the right-hand JSON value. This operator is particularly useful when dealing with JSON arrays.\n",
        "\n",
        "For example, suppose we have a JSON object representing a monster and we want to check if \"Draconic\" is in the monster's list of languages. We could do so with the following query:"
      ],
      "metadata": {
        "id": "52LlFE6UnDNj"
      }
    },
    {
      "cell_type": "code",
      "source": [
        "%%sql\n",
        "SELECT data->'name' AS monster_name\n",
        "FROM monsters\n",
        "WHERE data->'Languages' @> '[\"Draconic\"]'\n",
        "LIMIT 5;\n"
      ],
      "metadata": {
        "colab": {
          "base_uri": "https://localhost:8080/",
          "height": 179
        },
        "id": "cXqA5h-9nEma",
        "outputId": "20b04a34-4549-4425-bd82-636f4154aa04"
      },
      "execution_count": null,
      "outputs": [
        {
          "output_type": "stream",
          "name": "stdout",
          "text": [
            " * postgresql+psycopg2://@/postgres\n",
            "5 rows affected.\n"
          ]
        },
        {
          "output_type": "execute_result",
          "data": {
            "text/plain": [
              "[('Adult Black Dragon',),\n",
              " ('Adult Blue Dragon',),\n",
              " ('Adult Brass Dragon',),\n",
              " ('Adult Bronze Dragon',),\n",
              " ('Adult Copper Dragon',)]"
            ],
            "text/html": [
              "<table>\n",
              "    <thead>\n",
              "        <tr>\n",
              "            <th>monster_name</th>\n",
              "        </tr>\n",
              "    </thead>\n",
              "    <tbody>\n",
              "        <tr>\n",
              "            <td>Adult Black Dragon</td>\n",
              "        </tr>\n",
              "        <tr>\n",
              "            <td>Adult Blue Dragon</td>\n",
              "        </tr>\n",
              "        <tr>\n",
              "            <td>Adult Brass Dragon</td>\n",
              "        </tr>\n",
              "        <tr>\n",
              "            <td>Adult Bronze Dragon</td>\n",
              "        </tr>\n",
              "        <tr>\n",
              "            <td>Adult Copper Dragon</td>\n",
              "        </tr>\n",
              "    </tbody>\n",
              "</table>"
            ]
          },
          "metadata": {},
          "execution_count": 10
        }
      ]
    },
    {
      "cell_type": "markdown",
      "source": [
        "## Updating JSON Data\n",
        "Just as with ordinary SQL, we can update values in a JSON data table. However, it requires a bit of nuance, since we need to make sure our update is in JSON form. For example, let's update the hit points of a Goblin."
      ],
      "metadata": {
        "id": "_7eaVBF4KNbk"
      }
    },
    {
      "cell_type": "code",
      "source": [
        "%%sql\n",
        "UPDATE monsters\n",
        "  SET data = jsonb_set(data, '{Hit Points}', '\"50\"')\n",
        "WHERE data->>'name' = 'Goblin';"
      ],
      "metadata": {
        "colab": {
          "base_uri": "https://localhost:8080/"
        },
        "id": "ZrAmGoQdKdmr",
        "outputId": "201620f8-dea4-4695-af0d-f73484f9f1bc"
      },
      "execution_count": null,
      "outputs": [
        {
          "output_type": "stream",
          "name": "stdout",
          "text": [
            " * postgresql+psycopg2://@/postgres\n",
            "1 rows affected.\n"
          ]
        },
        {
          "output_type": "execute_result",
          "data": {
            "text/plain": [
              "[]"
            ]
          },
          "metadata": {},
          "execution_count": 11
        }
      ]
    },
    {
      "cell_type": "markdown",
      "source": [
        "Here's what this query does:\n",
        "\n",
        "1.  `UPDATE monsters:` This starts the process of updating rows in the `monsters` table.\n",
        "2.  `SET data = jsonb_set(data, '{Hit Points}', '\"50\"'):` This is the core part of the query. `jsonb_set` is a function that takes three arguments:\n",
        "    -   The original JSONB data (`data` in this case).\n",
        "    -   The path of the key you want to update, specified as an array (`{Hit Points}` means we're targeting the `Hit Points` key).\n",
        "    -   The new value you want to set (here, `\"50\"` as a string because JSONB expects string-type for textual data).\n",
        "3.  `WHERE data->>'name' = 'Goblin'`: This condition ensures the update only affects rows where the `name` key in the `data` column has a value of `'Goblin'`.\n",
        "\n",
        "In simpler terms, this query says, \"In the `monsters` table, find all rows where the `name` key in the `data` JSON column is 'Goblin'. Then, update the `Hit Points` value in the same JSON column to 50.\""
      ],
      "metadata": {
        "id": "_-nddYGxKxiB"
      }
    },
    {
      "cell_type": "markdown",
      "source": [],
      "metadata": {
        "id": "WNebZuIxKsL6"
      }
    },
    {
      "cell_type": "markdown",
      "source": [
        "## More Sample JSON Queries\n",
        "| PostgreSQL Code | English Explanation |\n",
        "| --- | --- |\n",
        "| `SELECT * FROM monsters WHERE data->>'name' LIKE '%Dragon%';` | Postgres SQL/JSON query retrieves all rows from the `monsters` table where the `name` key in the `data` column has 'Dragon' anywhere. |\n",
        "| `SELECT data->'Armor Class' AS armor_class FROM monsters WHERE data->>'name' = 'Ogre';` | Postgres SQL/JSON query selects the `Armor Class` key from the `data` column in the `monsters` table for records where the `name` is 'Ogre'. |\n",
        "| `SELECT COUNT(*) FROM monsters WHERE data->>'Challenge' = '5';` | Postgres SQL/JSON query counts the number of rows in the `monsters` table where the `Challenge` key in the `data` column is equal to '5'. |\n",
        "| `SELECT AVG((data->>'XP')::numeric) FROM monsters;` | Postgres SQL/JSON query calculates the average value of the `XP` key in the `data` column for all rows in the `monsters` table. |\n",
        "| `SELECT data->>'Speed' FROM monsters ORDER BY data->>'Speed' DESC LIMIT 5;` | Postgres SQL/JSON query gets the top 5 monster speeds (`Speed` key) from the `data` column in the `monsters` table, ordered in descending order. |\n",
        "| `SELECT DISTINCT data->'Languages' FROM monsters;` | Postgres SQL/JSON query retrieves distinct `Languages` arrays from the `data` column in the `monsters` table. |\n",
        "| `UPDATE monsters SET data = jsonb_set(data, '{Hit Points}', '\"33\"') WHERE data->>'name' = 'Kobold';` | Postgres SQL/JSON query updates the `Hit Points` key in the `data` column to '33' for all rows in the `monsters` table where the `name` is 'Kobold'. |\n",
        "| `DELETE FROM monsters WHERE (data->>'Armor Class')::numeric < 10;` | Postgres SQL/JSON query deletes all rows from the `monsters` table where the `Armor Class` key in the `data` column is less than 10. |\n",
        "| `SELECT data->>'name' FROM monsters WHERE (data->>'XP')::numeric BETWEEN 100 AND 500;` | Postgres SQL/JSON query retrieves the names (`name` key) of monsters from the `data` column in the `monsters` table that have an `XP` value between 100 and 500. |\n",
        "| `SELECT data->>'name' AS Monster_Name FROM monsters;` | Postgres SQL/JSON query retrieves the `name` key from the `data` column in the `monsters` table and labels it as `Monster_Name`. It returns the names of all monsters. |\n",
        "| `SELECT data->'name' AS Name, data->'Skills'->0 AS First_Ability FROM monsters;` | Postgres SQL/JSON query fetches the `name` and the first element (index 0) from the `Skills` list in the `data` column from the `monsters` table. It labels them as `Name` and `First_Ability`, respectively. |\n",
        "| `SELECT data->>'name' AS Monster_Name FROM monsters WHERE (data->>'Hit Points')::int > 300;` | Postgres SQL/JSON query retrieves the names (`name` key) of monsters from the `data` column in the `monsters` table where the `Hit Points` value is greater than 300. It labels this column as `Monster_Name`. |\n",
        "| `SELECT AVG((data->>'Hit Points')::int) AS AVG_HP FROM monsters;` | Postgres SQL/JSON query calculates the average value of the `Hit Points` key in the `data` column for all rows in the `monsters` table. It casts the extracted `Hit Points` to integer and labels the output as `AVG_HP`. |\n",
        "| `SELECT data->'name' AS monster_name FROM monsters WHERE data->'Languages' @> '[\"Draconic\"]'` | Postgres SQL/JSON query retrieves the names (`name` key) of monsters from the `data` column in the `monsters` table that have 'Draconic' in their `Languages` list. It labels this column as `monster_name`. |"
      ],
      "metadata": {
        "id": "_dnXkr6oGkUF"
      }
    },
    {
      "cell_type": "markdown",
      "source": [
        "### Table: Support for JSON in Modern Relational Databases\n",
        "While we've been working with Postgres in this chapter, all major modern relational databases offer some level of JSON support.\n",
        "\n",
        "| Database | JSON Support | Functions & Capabilities | Remarks |\n",
        "| --- | --- | --- | --- |\n",
        "| SQLite | Partial | `json()`, `json_insert()`, `json_replace()`, `json_remove()` | Limited JSON support; often requires string manipulation for complex operations. |\n",
        "| Oracle | Extensive | `JSON_VALUE`, `JSON_QUERY`, `JSON_TABLE`, `JSON_MERGEPATCH`, `IS JSON` | Rich set of JSON functions; allows indexing on JSON data. |\n",
        "| MySQL | Moderate | `JSON_EXTRACT()`, `JSON_REPLACE()`, `JSON_REMOVE()`, `JSON_ARRAY()`, `JSON_OBJECT()`, `->` operator | Good JSON support but lacks some advanced querying capabilities. |\n",
        "| SQL Server | Extensive | `JSON_VALUE`, `JSON_QUERY`, `JSON_MODIFY`, `FOR JSON` | Allows for indexing JSON data; functions for transforming relational data to JSON. |\n",
        "| PostgreSQL | Extensive | `jsonb_set`, `jsonb_insert`, `jsonb_array_length`, `->`, `->>`, `@>`, `jsonb_agg`, `jsonb_object_agg`, `jsonb_build_object`, | Extensive JSON and JSONB support; allows GIN indexing for efficient querying; supports complex queries and aggregations. |"
      ],
      "metadata": {
        "id": "BqvY5vHIOzK1"
      }
    },
    {
      "cell_type": "markdown",
      "source": [
        "## Exercises\n",
        "1.  Find the names of all monsters that have a challenge rating of 10.\n",
        "\n",
        "    -   Hint: Use the `->>` operator to access the \"Challenge\" attribute of the `data` column.\n",
        "2.  Find the top 10 monsters with the highest armor class.\n",
        "\n",
        "    -   Hint: Use the `->>` operator to access the \"Armor Class\" attribute, cast it to an integer, and then use the `ORDER BY` and `LIMIT` clauses.\n",
        "3.  Count how many monsters have \"Legendary Actions\".\n",
        "\n",
        "    -   Hint: Use the `->` operator to check if the \"Legendary Actions\" attribute exists.\n",
        "4.  Find the names of all monsters that can speak the \"Common\" language.\n",
        "\n",
        "    -   Hint: Use the `@>` operator to check if the \"Languages\" array contains the \"Common\" language.\n",
        "5.  Find the average hit points of all monsters.\n",
        "\n",
        "    -   Hint: Use the `->>` operator to access the \"Hit Points\" attribute, cast it to an integer, and then use the `AVG` function."
      ],
      "metadata": {
        "id": "Tg7wjlh0pQLM"
      }
    },
    {
      "cell_type": "code",
      "source": [
        "%%sql\n",
        "--Exefcise 1"
      ],
      "metadata": {
        "id": "Y1kixlUopZRX"
      },
      "execution_count": null,
      "outputs": []
    },
    {
      "cell_type": "code",
      "source": [
        "%%sql\n",
        "--Exercise 2"
      ],
      "metadata": {
        "id": "3UfFztuQpdc2"
      },
      "execution_count": null,
      "outputs": []
    },
    {
      "cell_type": "code",
      "source": [
        "%%sql\n",
        "--Exercise 3"
      ],
      "metadata": {
        "id": "bu6luhDOpdqi"
      },
      "execution_count": null,
      "outputs": []
    },
    {
      "cell_type": "code",
      "source": [
        "%%sql\n",
        "--Exercise 4"
      ],
      "metadata": {
        "id": "LXsWSc-QpgrT"
      },
      "execution_count": null,
      "outputs": []
    },
    {
      "cell_type": "code",
      "source": [
        "%%sql\n",
        "--Exercise 5"
      ],
      "metadata": {
        "id": "01pA8as1ph97"
      },
      "execution_count": null,
      "outputs": []
    },
    {
      "cell_type": "markdown",
      "source": [
        "## From JSON to XML\n",
        "\n",
        "**eXtensible Markup Language (XML)**, is a markup language designed for encoding documents in a way that is both readable by humans and machines. Unlike HTML, which is focused on how data should be displayed, XML is all about defining what the data actually is. The basic building blocks of an XML document are elements, which are defined by start and end tags. For instance, you might have a `<Monster>...</Monster>` element to represent a D&D monster. Inside this element, you can nest other elements like `<Name>` or `<HitPoints>` to further describe the monster. Attributes can also be added directly to the element tags to provide additional context. For example, you can have a `type` attribute in a `<Monster>` tag like this: `<Monster type=\"Humanoid\">`.\n",
        "\n",
        "### XML: Basic Structure\n",
        "\n",
        "**Elements** are the basic building blocks of an XML document. Elements are defined by start and end tags. For example, `<Monster>...</Monster>` could represent a D&D monster.\n",
        "\n",
        "```xml\n",
        "    <Monster>\n",
        "      <Name>Goblin</Name>\n",
        "      <HitPoints>7</HitPoints>\n",
        "    </Monster>\n",
        "```\n",
        "\n",
        "**Attributes** provide additional information about elements. Attributes are contained within the start tag of an element. For example, `<Monster type=\"Humanoid\">` adds the attribute `type` to the `Monster` element.\n",
        "\n",
        "```xml\n",
        "    <Monster type=\"Humanoid\">\n",
        "      <Name>Goblin</Name>\n",
        "      <HitPoints>7</HitPoints>\n",
        "    </Monster>\n",
        "```\n",
        "\n",
        "Elements can be **nested** within other elements to create complex structures. This is how XML represents hierarchical data.\n",
        "\n",
        "```xml\n",
        "    <Monster type=\"Humanoid\">\n",
        "        <Name>Goblin</Name>\n",
        "        <Stats>\n",
        "            <HitPoints>7</HitPoints>\n",
        "            <ArmorClass>15</ArmorClass>\n",
        "        </Stats>\n",
        "        <Abilities>\n",
        "            <Ability>Stealth</Ability>\n",
        "            <Ability>Ambush</Ability>\n",
        "        </Abilities>\n",
        "    </Monster>\n",
        "    <Monster type=\"Dragon\">\n",
        "        <Name>Red Dragon</Name>\n",
        "        <Stats>\n",
        "            <HitPoints>253</HitPoints>\n",
        "            <ArmorClass>19</ArmorClass>\n",
        "        </Stats>\n",
        "        <Abilities>\n",
        "            <Ability>Fire Breath</Ability>\n",
        "            <Ability>Frightful Presence</Ability>\n",
        "        </Abilities>\n",
        "    </Monster>\n",
        "</Monsters>\n",
        "```\n",
        "\n",
        "\n",
        "### How Does XML Differ from JSON and Relational Databases?\n",
        "\n",
        "When it comes to syntax, XML uses angle-bracket notation and relies on opening and closing tags for its elements. It can also include attributes within these opening tags to add more context or metadata. On the other hand, JSON employs curly braces to define objects and square brackets for arrays, with all data stored as key-value pairs. Relational databases represent data in tables, rows, and columns and utilize SQL for data querying. So while XML might define a D&D monster with a series of nested elements and attributes, JSON would represent the same information using nested objects and arrays, and a relational database would store it in a table with appropriate columns.\n",
        "\n",
        "In terms of ease of use, XML is often seen as more verbose and harder to read than JSON, but it offers robust support through various parsers and libraries across multiple programming languages. JSON is generally easier to read and write, and it's natively supported by JavaScript, making it a popular choice for web development tasks. Relational databases, although requiring a good grasp of SQL for effective utilization, are highly optimized for complex queries and transactions, offering features like ACID compliance that are crucial for many enterprise applications."
      ],
      "metadata": {
        "id": "ubPZU4SdaKTm"
      }
    },
    {
      "cell_type": "markdown",
      "source": [
        "### Querying XML in PostreSQL\n",
        "Just as with JSON, most modern relational databases have the ability to query XML data. In order to show how this works, let's begin by creating a single-row table with some XML data."
      ],
      "metadata": {
        "id": "soPJNWBbalwC"
      }
    },
    {
      "cell_type": "code",
      "source": [
        "%%sql\n",
        "-- Drop the table if it already exists\n",
        "DROP TABLE IF EXISTS MonsterX;\n",
        "\n",
        "-- Create the table with an XML column\n",
        "CREATE TABLE MonsterX (\n",
        "    id SERIAL PRIMARY KEY,\n",
        "    data XML\n",
        ");\n",
        "\n",
        "-- Insert a single row with nested XML data\n",
        "INSERT INTO MonsterX (data)\n",
        "VALUES ($$<Monsters>\n",
        "    <Monster type=\"Humanoid\">\n",
        "        <Name>Goblin</Name>\n",
        "        <Stats>\n",
        "            <HitPoints>7</HitPoints>\n",
        "            <ArmorClass>15</ArmorClass>\n",
        "        </Stats>\n",
        "        <Abilities>\n",
        "            <Ability>Stealth</Ability>\n",
        "            <Ability>Ambush</Ability>\n",
        "        </Abilities>\n",
        "    </Monster>\n",
        "    <Monster type=\"Dragon\">\n",
        "        <Name>Red Dragon</Name>\n",
        "        <Stats>\n",
        "            <HitPoints>253</HitPoints>\n",
        "            <ArmorClass>19</ArmorClass>\n",
        "        </Stats>\n",
        "        <Abilities>\n",
        "            <Ability>Fire Breath</Ability>\n",
        "            <Ability>Frightful Presence</Ability>\n",
        "        </Abilities>\n",
        "    </Monster>\n",
        "</Monsters>$$);\n"
      ],
      "metadata": {
        "id": "keLjei0ca4Mo",
        "outputId": "663a5161-a883-4fd0-a33c-5347d0c718bf",
        "colab": {
          "base_uri": "https://localhost:8080/"
        }
      },
      "execution_count": null,
      "outputs": [
        {
          "output_type": "stream",
          "name": "stdout",
          "text": [
            " * postgresql+psycopg2://@/postgres\n",
            "Done.\n",
            "Done.\n",
            "1 rows affected.\n"
          ]
        },
        {
          "output_type": "execute_result",
          "data": {
            "text/plain": [
              "[]"
            ]
          },
          "metadata": {},
          "execution_count": 3
        }
      ]
    },
    {
      "cell_type": "markdown",
      "source": [
        "### Introduction to XPath\n",
        "\n",
        "**XPath**, or XML Path Language, is a query language that allows you to navigate through elements and attributes in an XML document. It provides a way to locate data within XML documents, similar to how SQL is used to query relational databases. Given that you're using PostgreSQL, you'll find that XPath functionalities are nicely integrated into the database engine. You can use XPath to query the XML data stored in tables, like our `MonsterX` table filled with details of mythical creatures from Dungeons & Dragons (D&D).\n",
        "\n",
        "#### Basic Syntax\n",
        "\n",
        "XPath expressions describe how to navigate through elements in an XML document. For instance, you can use slashes `/` to move through nested elements. Here are some basic XPath expressions that relate to our D&D monsters example:\n",
        "\n",
        "-   `/Monsters`: Selects the root `<Monsters>` element.\n",
        "-   `/Monsters/Monster`: Selects all `<Monster>` elements that are children of `<Monsters>`.\n",
        "-   `/Monsters/Monster/Name`: Selects the `<Name>` elements that are nested within `<Monster>` elements.\n",
        "\n",
        "#### Example Queries\n",
        "\n",
        "Let's consider a couple of XPath queries using the data in the `MonsterX` table. First, let's retrieve the names of all the monsters:"
      ],
      "metadata": {
        "id": "lGKcHPrtbpLe"
      }
    },
    {
      "cell_type": "code",
      "source": [
        "%%sql\n",
        "--Get all monster names\n",
        "SELECT xpath('/Monsters/Monster/Name/text()', data)\n",
        "FROM MonsterX;"
      ],
      "metadata": {
        "colab": {
          "base_uri": "https://localhost:8080/",
          "height": 95
        },
        "id": "RhfZQMfTdl6N",
        "outputId": "99cc1ea8-5fc8-44d4-efa7-5bb09bf6e0e5"
      },
      "execution_count": null,
      "outputs": [
        {
          "output_type": "stream",
          "name": "stdout",
          "text": [
            " * postgresql+psycopg2://@/postgres\n",
            "1 rows affected.\n"
          ]
        },
        {
          "output_type": "execute_result",
          "data": {
            "text/plain": [
              "[('{Goblin,\"Red Dragon\"}',)]"
            ],
            "text/html": [
              "<table>\n",
              "    <thead>\n",
              "        <tr>\n",
              "            <th>xpath</th>\n",
              "        </tr>\n",
              "    </thead>\n",
              "    <tbody>\n",
              "        <tr>\n",
              "            <td>{Goblin,&quot;Red Dragon&quot;}</td>\n",
              "        </tr>\n",
              "    </tbody>\n",
              "</table>"
            ]
          },
          "metadata": {},
          "execution_count": 4
        }
      ]
    },
    {
      "cell_type": "markdown",
      "source": [
        "Here, we use the XPath expression `xpath('/Monsters/Monster/Name/text()', data)` ti retrieve our data. Here's the idea:\n",
        "\n",
        "1.  The `/Monsters/Monster/Name` part of the expression specifies the path to the `Name` element of each `Monster` element. The `/` character is used to represent the root element of the XML document. The `Monsters` element is the parent element of the `Monster` element. The `Monster` element is the direct parent of the `Name` element.\n",
        "2.  The `text()` part of the expression specifies that we only want the text content of the `Name` element.\n",
        "3.  The `data` argument is the XML data that we are querying.\n",
        "\n",
        "The XPath expression is evaluated by starting at the root element of the XML document and following the path specified by the expression. In this case, the expression starts at the `Monsters` element and then goes to the `Monster` element and then to the `Name` element. The text content of the `Name` element is then returned as the result of the expression."
      ],
      "metadata": {
        "id": "FalexfSdehRZ"
      }
    },
    {
      "cell_type": "code",
      "source": [
        "%%sql\n",
        "--Find monsters with hp more than 10\n",
        "SELECT xpath('/Monsters/Monster[Stats/HitPoints > 10]/Name/text()', data)\n",
        "FROM MonsterX;"
      ],
      "metadata": {
        "colab": {
          "base_uri": "https://localhost:8080/",
          "height": 95
        },
        "id": "x8--VFGBe-pR",
        "outputId": "65df5965-cffa-4c83-eada-77fa794f53a8"
      },
      "execution_count": null,
      "outputs": [
        {
          "output_type": "stream",
          "name": "stdout",
          "text": [
            " * postgresql+psycopg2://@/postgres\n",
            "1 rows affected.\n"
          ]
        },
        {
          "output_type": "execute_result",
          "data": {
            "text/plain": [
              "[('{\"Red Dragon\"}',)]"
            ],
            "text/html": [
              "<table>\n",
              "    <thead>\n",
              "        <tr>\n",
              "            <th>xpath</th>\n",
              "        </tr>\n",
              "    </thead>\n",
              "    <tbody>\n",
              "        <tr>\n",
              "            <td>{&quot;Red Dragon&quot;}</td>\n",
              "        </tr>\n",
              "    </tbody>\n",
              "</table>"
            ]
          },
          "metadata": {},
          "execution_count": 6
        }
      ]
    },
    {
      "cell_type": "markdown",
      "source": [
        "This XPath query selects the `Name` element of all `Monster` elements where the `HitPoints` element is greater than 10. The basic ideas:\n",
        "\n",
        "1. The `/Monsters` part of the XPath query specifies the root element of the XML document.\n",
        "\n",
        "2. The `/Monster` part of the XPath query selects all `Monster` elements.\n",
        "\n",
        "3. The `[Stats/HitPoints > 10]` part of the XPath query selects all `Monster` elements where the `HitPoints` element is greater than 10.\n",
        "\n",
        "4. The `/Name/text()` part of the XPath query selects the text content of the `Name` element.\n",
        "\n",
        "Again, this XPath query is evaluated by starting at the root element of the XML document and following the path \"down\" the heirarchy as specified by the expression. In this case, the expression starts at the `Monsters` element and then goes to all `Monster` elements where the `HitPoints` element is greater than 10.\n",
        "\n",
        "Finally, let's retrieve the value of an *attribute* (as opposed to an *element*). We do this using the `@` operator."
      ],
      "metadata": {
        "id": "NONjVrJ5fi0A"
      }
    },
    {
      "cell_type": "code",
      "source": [
        "%%sql\n",
        "SELECT xpath('/Monsters/Monster/@type', data)\n",
        "FROM MonsterX;"
      ],
      "metadata": {
        "colab": {
          "base_uri": "https://localhost:8080/",
          "height": 95
        },
        "id": "sAZSeXBro5P0",
        "outputId": "efd17f7b-7a97-4375-e1b5-586b6e618d3a"
      },
      "execution_count": null,
      "outputs": [
        {
          "output_type": "stream",
          "name": "stdout",
          "text": [
            " * postgresql+psycopg2://@/postgres\n",
            "1 rows affected.\n"
          ]
        },
        {
          "output_type": "execute_result",
          "data": {
            "text/plain": [
              "[('{Humanoid,Dragon}',)]"
            ],
            "text/html": [
              "<table>\n",
              "    <thead>\n",
              "        <tr>\n",
              "            <th>xpath</th>\n",
              "        </tr>\n",
              "    </thead>\n",
              "    <tbody>\n",
              "        <tr>\n",
              "            <td>{Humanoid,Dragon}</td>\n",
              "        </tr>\n",
              "    </tbody>\n",
              "</table>"
            ]
          },
          "metadata": {},
          "execution_count": 7
        }
      ]
    },
    {
      "cell_type": "markdown",
      "source": [
        "Again, this starts at the top of the tree (at `Monsters`) and then moves down to `Monster`. Finally, we retreive the value of the `type` attribute for ALL monsters."
      ],
      "metadata": {
        "id": "TC7PIGCCpOK7"
      }
    },
    {
      "cell_type": "markdown",
      "source": [
        "### Table: Sample XPATH Queries\n",
        "\n",
        "| XPath Query Code | Explanation |\n",
        "| --- | --- |\n",
        "| `/Monsters` | XPATH: Selects the root `<Monsters>` element, effectively selecting all the XML data. |\n",
        "| `/Monsters/Monster` | XPATH: Selects all `<Monster>` elements that are direct children of the root `<Monsters>` element. |\n",
        "| `/Monsters/Monster/Name` | XPATH:  Navigates to all `<Name>` elements that are direct children of `<Monster>` elements, to get the names of all monsters. |\n",
        "| `/Monsters/Monster[@type=\"Humanoid\"]` | XPATH: Selects `<Monster>` elements that have an attribute `type` set to \"Humanoid\". |\n",
        "| `/Monsters/Monster/Stats/HitPoints` | XPATH: Navigates to all `<HitPoints>` elements inside each `<Stats>` element to get the hit points of all monsters. |\n",
        "| `/Monsters/Monster[Stats/ArmorClass > 15]` | XPATH: Selects `<Monster>` elements whose `<ArmorClass>` inside `<Stats>` is greater than 15. |\n",
        "| `/Monsters/Monster/Abilities/Ability` | XPATH: Selects all `<Ability>` elements to list out abilities of all monsters. |\n",
        "| `/Monsters/Monster/Stats/ArmorClass/text()` | XPATH: Extracts the text content of the `<ArmorClass>` elements, giving you the numerical armor class values. |\n",
        "| `/Monsters/Monster[last()]` |XPATH:  Selects the last `<Monster>` element in the list of monsters. |\n",
        "| `/Monsters/Monster[position()=1]` | XPATH: Selects the first `<Monster>` element in the list of monsters. |"
      ],
      "metadata": {
        "id": "-yjJ_vJrpyl4"
      }
    },
    {
      "cell_type": "markdown",
      "source": [
        "## Case Study: How to Store Data?\n",
        "In this class, we've covered relationaal databases (pretty extensively) and have now introduced to other formats for data--JSON and XML. All of these are crucially important to modern datbases. It's worth taking some time to think about why and how this different data formats are used.\n",
        "\n",
        "#### Relational Databases\n",
        "\n",
        "The concept of relational databases was introduced by Edgar F. Codd in 1970 through his groundbreaking paper \"A Relational Model of Data for Large Shared Data Banks.\" Codd's model was revolutionary because it abstracted the physical storage details and presented data as tables, rows, and columns, allowing for more complex and flexible queries. Relational databases were designed to maintain data integrity and facilitate complex queries, sorting, and transactions. They have since evolved to include features like stored procedures, triggers, and more, adapting to the changing needs of enterprise applications. Systems like Oracle, MySQL, and PostgreSQL have become industry standards.\n",
        "\n",
        "Strengths of relational databases include:\n",
        "\n",
        "1.  Relational databases excel in maintaining data integrity through ACID (Atomicity, Consistency, Isolation, Durability) compliance, making them reliable for transactional operations.\n",
        "2. SQL allows for complex queries, joins, and aggregations, enabling sophisticated data manipulation and reporting.\n",
        "3. Strong typing and schema constraints ensure \"data integrity,\" and that the data conforms to expected formats and relationships.\n",
        "3. These systems have been around for decades, benefitting from robust optimization, security features, and a large talent pool.\n",
        "\n",
        "Some weakneseses of relational databases:\n",
        "1. Traditional relational databases can face challenges in horizontal **scalability**, often requiring significant hardware investment for large-scale applications.\n",
        "2. They have a **rigid schema** and changes can be difficult to implement, making these databases less flexible when dealing with unstructured or semi-structured data.\n",
        "\n",
        "#### JSON (JavaScript Object Notation)\n",
        "\n",
        "JSON was introduced by Douglas Crockford in the early 2000s as a lightweight data interchange format. It emerged from a subset of JavaScript but quickly gained popularity due to its simplicity and ease of use, particularly for web-based applications. JSON was designed to solve the problem of making data easily readable and writable for humans while being easy for machines to parse and generate. Its rise to prominence came hand in hand with the growth of **RESTful APIs**, which often use JSON to send and receive data.\n",
        "\n",
        "Strengths include:\n",
        "\n",
        "1. JSON is easy (for humans) to read and write, making it developer-friendly.\n",
        "2. Being a subset of JavaScript, JSON integrates seamlessly with many web technologies.\n",
        "3. JSON files are usually smaller and faster to parse compared to XML, making them ideal for mobile and web applications.\n",
        "\n",
        "Main weaknesses are:\n",
        "\n",
        "1. JSON lacks **semantics** is not suitable for complex documents where the structure and **metadata** carry significant information.\n",
        "2. JSON does not have a native date data type, which can be problematic in certain applications.\n",
        "\n",
        "#### XML (eXtensible Markup Language)\n",
        "\n",
        "XML was developed by the World Wide Web Consortium (W3C) and became a W3C recommendation in 1998. It was designed to be a generic way of structuring data for sharing across different systems, particularly over the internet. XML's origin lies in the limitation of HTML, which focuses on presenting data but not describing its structure. XML was built to be extensible, allowing users to define their own tags, making it a powerful choice for complex documents and hierarchical data structures. Over time, it has become a key technology in web services (**SOAP**), document storage (like DocBook or Office Open XML), and even in GUI configurations.\n",
        "\n",
        "Strengths include the following:\n",
        "\n",
        "1. XML is highly **extensible**, meaning users can define their own tags, making XML incredibly flexible for complex, hierarchical data structures.\n",
        "2. XML allows for the inclusion of **metadata** within the document itself, adding context to the data.\n",
        "3. XML is widely used in various industries like healthcare and finance, often as part of established standards. Commonly used formats like `.docx` (for MS Word) are based on XML.\n",
        "\n",
        "Weaknesses:\n",
        "\n",
        "1. XML documents can be large and require more processing power to parse, which might not be suitable for resource-constrained systems.\n",
        "2. The flexibility of XML comes with a learning curve, especially when namespaces, schemas, and XSLT transformations (that is, transforming on XML data structure into another). are involved.\n",
        "\n",
        "#### NoSQL (and NewSQL) Formats\n",
        "\n",
        "The term **NoSQL** was coined in the late 2000s to describe databases that do not use the SQL language for queries. They often have \"native\" data structures that are similar to JSON or XML. These databases were designed to solve problems that were difficult to address with traditional relational databases, such as scalability and the ability to handle unstructured or semi-structured data. NoSQL databases come in various flavors, including document-oriented (like MongoDB, which is based on JSON), key-value stores (like Redis), and graph databases (like Neo4j). Newer **NewSQL** technologies have combined SQL and NoSQL data structures to offer features like ACID transactions in certain configurations, and they are widely used in applications that require high throughput and flexible schema designs, like social networks or real-time analytics. (And, as we've seen, relational databases like Postgres have evolved to provide more suppport for JSON and XML.)"
      ],
      "metadata": {
        "id": "guMBqkSmqyDc"
      }
    },
    {
      "cell_type": "markdown",
      "source": [
        "### How These Formats Fit Together\n",
        "\n",
        "In the context of modern software development, different data formats often coexist and interact within the same application or ecosystem, each serving a role that plays to its strengths. For instance, a web application might use a relational database like PostgreSQL or SQLite to manage user data, ensuring ACID compliance and the ability to run complex queries. At the same time, this application could leverage JSON for its front-end and API layers, taking advantage of JSON's lightweight nature and ease of use with web technologies. When it comes to configuration files or the exchange of data between disparate systems within the same organization, XML might be the format of choice due to its extensibility and rich metadata capabilities. In some cases, especially for applications that require high throughput and scalability like real-time analytics or social networks, NoSQL databases such as MongoDB or Cassandra might be employed to handle unstructured or semi-structured data efficiently.\n",
        "\n",
        "Moreover, these formats are not mutually exclusive; they often complement each other. For example, many relational databases now support JSON and XML fields, allowing for a hybrid approach that combines structured SQL data with flexible JSON or XML elements. Similarly, it's not uncommon for NewSQL databases to offer some level of ACID compliance for particular use-cases, bridging the gap between the strict integrity of relational databases and the flexibility of NoSQL. In large enterprises, it's also common to see data pipelines that transform and move data between these different formats, such as ETL (\"Extract, Transform, and Load\") processes that pull data from various sources, including NoSQL databases, and then clean and load this data into a relational database for analytics.\n",
        "\n",
        "\n",
        "\n",
        "\n"
      ],
      "metadata": {
        "id": "YzNimtH58fQg"
      }
    },
    {
      "cell_type": "markdown",
      "source": [
        "### Questions: Data Formats\n",
        "1. If you were building a website where people could buy and sell items, what would be important to you in choosing how to store data? Would you prioritize speed, the ability to handle lots of details, or making sure no data gets lost?\n",
        "\n",
        "2. JSON is often used in websites and mobile apps. Why do you think it's popular for these uses? Think about what makes websites and mobile apps different from other types of software.\n",
        "\n",
        "3.  Some databases are better at handling really big amounts of data than others. Can you think of any apps or websites that would need to handle lots of data quickly? What kinds of features might these apps have?\n",
        "\n",
        "4.  The case study talks about using more than one type of data storage in the same app. Can you think of any reasons why an app might want to use different types of databases?\n",
        "\n",
        "5.  Sometimes data needs to be moved from one place to another (like when you transfer contacts from an old phone to a new one). What might be some challenges in moving data like this?"
      ],
      "metadata": {
        "id": "5zD51_2C9sFV"
      }
    },
    {
      "cell_type": "markdown",
      "source": [
        "### Answers: Data Formats\n",
        "1.\n",
        "\n",
        "2.\n",
        "\n",
        "3.\n",
        "\n",
        "4.\n",
        "\n",
        "5."
      ],
      "metadata": {
        "id": "lnWFNdhH91R6"
      }
    },
    {
      "cell_type": "markdown",
      "source": [
        "## Review With Quizlet\n",
        "Run the following cell to launch the quizlet review."
      ],
      "metadata": {
        "id": "tCDKRoqRnKav"
      }
    },
    {
      "cell_type": "code",
      "source": [
        "%%html\n",
        "<iframe src=\"https://quizlet.com/821776603/learn/embed?i=psvlh&x=1jj1\" height=\"600\" width=\"100%\" style=\"border:0\"></iframe>"
      ],
      "metadata": {
        "id": "9auBuFC8nToV",
        "outputId": "3008989b-1cbb-4328-d7a6-12a4a16705c6",
        "colab": {
          "base_uri": "https://localhost:8080/",
          "height": 622
        }
      },
      "execution_count": null,
      "outputs": [
        {
          "output_type": "display_data",
          "data": {
            "text/plain": [
              "<IPython.core.display.HTML object>"
            ],
            "text/html": [
              "<iframe src=\"https://quizlet.com/821776603/learn/embed?i=psvlh&x=1jj1\" height=\"600\" width=\"100%\" style=\"border:0\"></iframe>\n"
            ]
          },
          "metadata": {}
        }
      ]
    },
    {
      "cell_type": "markdown",
      "source": [
        "## Glossary\n",
        "\n",
        "| Term | Definition |\n",
        "| --- | --- |\n",
        "| Semi-Structured Data | Data that does not conform to the strict structure of data models like in relational databases, but still has some level of organization which could include tags, hierarchies, or other markers. |\n",
        "| Extensibility | How easily a system can grow or change. XML fits this, since we can easily add new elements and attributes. |\n",
        "| Markup Language | A way to add extra information to text so that computers know how to display it. For example, HTML is used to tell a web browser how to show a webpage. |\n",
        "| Metadata | Information that describes other data.|\n",
        "| XML: Element | A piece of an XML document, surrounded by tags that tell you what the data inside is about. |\n",
        "| XML: Attribute | Extra information about an XML element. Think of it like an adjective that describes a noun. |\n",
        "| XPATH | A tool (something like SQL for XML) that helps you find specific pieces of information in an XML document. |\n",
        "| SOAP | A set of rules for how computers can talk to each other over the web, often used in business settings. |\n",
        "| NoSQL | A type of database that's good for storing \"semi-structured\" data that doesn't fit neatly into tables, like tweets or product reviews. |\n",
        "| Rigid Schema | A strict set of rules about how data must be organized. Changing the rules can be hard and time-consuming. Typical of relational databases. |\n",
        "| Scalability | How well a system can handle more work or more users. Like a road that can add more lanes when traffic increases. |\n",
        "| RESTFUL API | A way for different computer programs to talk to each other using the same methods you see in your web browser, like GET and POST. |\n",
        "| JSON | JavaScript Object Notation, a lightweight data interchange format that is easy for humans to read and write and easy for machines to parse and generate. |\n",
        "| JSON: Object | A collection of key-value pairs enclosed in curly braces, serving as a data structure in JSON. |\n",
        "| JSON: Array | An ordered list of zero or more values, enclosed in square brackets, within a JSON document. |\n",
        "| JSON: Key | A string that identifies a corresponding value in a JSON object. |\n",
        "| JSON: Value | The actual data assigned to a key in a JSON object. This could be a number, string, boolean, array, or another object. |\n",
        "| Postgres: JSONB | A binary JSON data type in PostgreSQL, offering indexing capabilities. Unlike regular JSON, it is not stored as a simple text string and allows for more efficient querying. |\n",
        "| Postgres: -> | An operator in PostgreSQL used to get a JSON object field by key, returning it as a JSON object. |\n",
        "| Postgres: ->> | An operator in PostgreSQL used to get a JSON object field by key and return it as text. |\n",
        "| Postgres: @> | An operator in PostgreSQL used for containment tests within JSONB columns, checking whether the left JSONB object contains the right JSONB or JSON value. |\n",
        "| NoSQL Database | A database that provides storage and retrieval operations not based on tabular structures typical of relational databases. Often used for unstructured or semi-structured data. |"
      ],
      "metadata": {
        "id": "CH2wAjjEwfKt"
      }
    },
    {
      "cell_type": "code",
      "source": [],
      "metadata": {
        "id": "p81BoENhouMC"
      },
      "execution_count": null,
      "outputs": []
    }
  ]
}