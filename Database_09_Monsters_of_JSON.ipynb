{
  "nbformat": 4,
  "nbformat_minor": 0,
  "metadata": {
    "colab": {
      "provenance": [],
      "authorship_tag": "ABX9TyMf7qehkTU6tuinlDB2AcaF",
      "include_colab_link": true
    },
    "kernelspec": {
      "name": "python3",
      "display_name": "Python 3"
    },
    "language_info": {
      "name": "python"
    }
  },
  "cells": [
    {
      "cell_type": "markdown",
      "metadata": {
        "id": "view-in-github",
        "colab_type": "text"
      },
      "source": [
        "<a href=\"https://colab.research.google.com/github/brendanpshea/database_sql/blob/main/Database_09_Monsters_of_JSON.ipynb\" target=\"_parent\"><img src=\"https://colab.research.google.com/assets/colab-badge.svg\" alt=\"Open In Colab\"/></a>"
      ]
    },
    {
      "cell_type": "markdown",
      "source": [
        "# Monsters of JSON\n",
        "### Brendan Shea, PhD\n",
        "In the ever-evolving digital world, data has become the lifeblood of modern technology. Every day, countless amounts of data are generated, processed, and exchanged across various systems and platforms. This data can come in a multitude of formats, and one of the most prevalent is JSON, short for JavaScript Object Notation.\n",
        "\n",
        "**JSON** is a lightweight data-interchange format that is easy for humans to read and write and easy for machines to parse and generate. It is based on a subset of the JavaScript Programming Language, Standard ECMA-262 3rd Edition - December 1999. JSON is a text format that is completely language independent but uses conventions that are familiar to programmers of the C-family of languages, including C, C++, C#, Java, JavaScript, Perl, Python, and many others.\n",
        "\n",
        "This chapter aims to provide a comprehensive introduction to JSON, its structure, and its practical uses. We will delve into the essential details of JSON and how it fits into the broader landscape of data formats. We will also explore why JSON has gained such popularity in the realm of databases and data exchange.\n",
        "\n",
        "One such database that has embraced JSON is PostgreSQL. Known for its robustness and advanced capabilities, PostgreSQL offers substantial support for JSON, allowing developers to store, query, and manipulate JSON data efficiently. We will explore these features and provide a hands-on guide to interacting with JSON within the PostgreSQL environment.\n",
        "\n",
        "To bring these concepts to life, we will be using a fascinating case study throughout this chapter. We will work with a JSON dataset related to the world of Dungeons and Dragons (D&D), a popular fantasy role-playing game. This dataset contains detailed information about various monsters in the game, encoded in JSON format. This dataset not only serves as a practical example of real-world JSON data but also adds an element of fun and intrigue to our exploration of JSON.\n",
        "\n",
        "By the end of this chapter, you should have a solid understanding of JSON, its importance, and how to work with it in PostgreSQL. So, prepare yourself for a journey into the realm of data, where monsters lurk in JSON format, and PostgreSQL is our tool of choice for taming them."
      ],
      "metadata": {
        "id": "llXJIM2ytJbS"
      }
    },
    {
      "cell_type": "markdown",
      "source": [
        "## What is JSON?\n",
        "\n",
        "JSON, or JavaScript Object Notation, is a text-based data format that is designed to be human-readable and easy for computers to parse and generate. JSON originated from the JavaScript language, but it is a language-independent data format. It is often used for transmitting data in web applications, serving as an alternative to XML.\n",
        "\n",
        "JSON is built on two simple structures: objects and arrays/\n",
        "\n",
        "### Objects\n",
        "An **object** in JSON is an unordered set of **key-value pairs**, similar to a dictionary, a hash, or a record in other languages. Objects are enclosed in curly braces {}. A colon : separates the **keys** and the **values**, and a comma `,` separates the pairs. For example:\n",
        "\n",
        "```\n",
        "{\n",
        "  \"monsterName\": \"Fluffy Bunny\",\n",
        "  \"monsterType\": \"Beast\",\n",
        "  \"hitPoints\": 3,\n",
        "  \"abilities\": [\"Hop\", \"Nibble\", \"Cuteness Overload\"]\n",
        "}\n",
        "```\n",
        "In this example, the object describes a somewhat unusual D&D monster, a \"Fluffy Bunny\" with abilities including \"Hop\", \"Nibble\", and \"Cuteness Overload\".\n",
        "\n",
        "### Arrays\n",
        "An **array** in JSON is an ordered list of values, similar to a list, a vector, or an array in other languages. Arrays are enclosed in square brackets [], and the values are separated by commas. For example:\n",
        "\n",
        "```\n",
        "[\n",
        "  \"Bumbling Beholder\",\n",
        "  \"Kind Kobold\",\n",
        "  \"Dancing Doppelganger\",\n",
        "  \"Jolly Jelly Cube\"\n",
        "]\n",
        "```\n",
        "In this example, the array includes a list of whimsical D&D monster names. The order of these monster names in the array can be important, depending on how the data is to be used."
      ],
      "metadata": {
        "id": "4czd6zKft_Hv"
      }
    },
    {
      "cell_type": "markdown",
      "source": [
        "## Why JSON is not Relational\n",
        "Relational databases and JSON structures have fundamentally different ways of representing and organizing data.\n",
        "\n",
        "In a relational database, data is structured into tables, similar to a spreadsheet. Each table has a defined schema, which is a set of attributes (or columns), and each attribute has a specific data type. Each row in the table represents a single record, and each cell in the row represents a value for the corresponding attribute. Relationships can be defined between tables using primary and foreign keys, allowing for complex data models to be represented.\n",
        "\n",
        "In contrast, JSON data is represented as a collection of key-value pairs (objects) or ordered lists of values (arrays). JSON objects do not have a predefined schema, meaning each object can have a different set of keys. Arrays and objects can be nested within each other, allowing for complex, hierarchical data structures.\n",
        "\n",
        "The differences between these two data structures have several implications:\n",
        "\n",
        "1.  *Flexibility:* JSON is schema-less, meaning it can represent a wider variety of data structures compared to relational databases. It's easy to add new fields or nest data structures. However, this flexibility can lead to inconsistencies in data if not managed carefully.\n",
        "\n",
        "2.  *Complexity of Relationships:* Relational databases excel at representing complex relationships between different entities (tables). In JSON, while it's possible to nest objects within each other to represent relationships, it's less straightforward to manage many-to-many or complex relationships.\n",
        "\n",
        "3.  *Data Integrity:* Relational databases provide strong data integrity through constraints, such as unique, primary key, and foreign key constraints. JSON does not inherently support these constraints, so data integrity must be managed at the application level.\n",
        "\n",
        "4.  *Querying:* Relational databases have a powerful querying language (SQL) that supports complex queries, aggregations, and joins. Querying JSON data can be less straightforward and often requires parsing the JSON structure at the application level. However, some databases like PostgreSQL offer JSON functions and operators that make querying JSON data easier.\n",
        "\n",
        "5.  *Storage and Performance:* Generally, relational databases are optimized for performance and can handle large volumes of data efficiently. JSON can be less efficient for large data volumes, especially when the JSON structures are complex and deeply nested. However, some modern databases have improved JSON storage and query performance.\n",
        "\n",
        "In the context of our D&D example, if we were to use a relational database, we might have separate tables for \"Monsters\", \"Abilities\", and \"Types\", and we would define relationships between these tables. With JSON, we could potentially store all this data in a single JSON object, with abilities and types nested within each monster. The best approach would depend on the specific requirements and complexity of our application."
      ],
      "metadata": {
        "id": "ubDRmxJ9vdU1"
      }
    },
    {
      "cell_type": "markdown",
      "source": [
        "## Why is JSON Used?\n",
        "JSON, or JavaScript Object Notation, has found extensive usage in modern software development due to its lightweight nature and easy readability. Here are some of the practical uses of JSON:\n",
        "\n",
        "1.  *Data Storage:* JSON is often used for storing data locally or remotely in a structured, human-readable format. For example, a web application might store user settings in JSON format for easy retrieval and update.\n",
        "\n",
        "2.  *Data Exchange:* JSON is commonly used as the data format for sending data between a server and a web application, or between different parts of a web application. Its human-readable nature and wide support across different programming languages make it ideal for this purpose.\n",
        "\n",
        "3.  *Configuration Files:* JSON is often used to store configuration settings for web applications, desktop applications, servers, and more. These configuration files can be easily read and written by the application, and also easily understood and modified by humans.\n",
        "\n",
        "4.  *Web APIs:* Most modern web APIs (Application Programming Interfaces) use JSON as their communication format. When a web application makes a request to an API (for example, to fetch data), the API often sends back the response in JSON format, which the web application can then easily parse and use.\n",
        "\n",
        "5.  *Database Operations:* Many NoSQL databases, like MongoDB, use JSON for storing and manipulating data. Even SQL databases, like PostgreSQL, now often include support for JSON data types, allowing for more flexible data models.\n",
        "\n",
        "6.  *Frontend Frameworks:* Many modern frontend frameworks (like React and Vue.js) use JSON for handling data within the application.\n",
        "\n",
        "In the context of our Dungeons & Dragons example, a D&D game application might use JSON to store data about different monsters, characters, and game settings. The game might also fetch additional data from a D&D API, which sends back responses in JSON format. This JSON data can then be parsed and used by the application to enhance the gameplay experience."
      ],
      "metadata": {
        "id": "lvPDE5-Au2RL"
      }
    },
    {
      "cell_type": "markdown",
      "source": [
        "## Example: Working With DnD Monsters\n",
        "For the remainder of this chapter, we'll be working with the JSON file `srd_5e_monsters.json` contains data about 327 different monsters from the Dungeons and Dragons universe. Each monster is represented as a JSON object with several attributes. (https://github.com/brendanpshea/database_sql/blob/main/data/srd_5e_monsters.json)\n",
        "\n",
        "Here are the keys (attributes) for the first monster in the data:\n",
        "\n",
        "-   `name`: The name of the monster.\n",
        "-   `meta`: Metadata about the monster, such as its size and alignment.\n",
        "-   `Armor Class`: The monster's armor class.\n",
        "-   `Hit Points`: The monster's hit points.\n",
        "-   `Speed`: The monster's speed.\n",
        "-   `STR`, `STR_mod`, `DEX`, `DEX_mod`, `CON`, `CON_mod`, `INT`, `INT_mod`, `WIS`, `WIS_mod`, `CHA`, `CHA_mod`: These are the monster's ability scores and their modifiers.\n",
        "-   `Saving Throws`: The monster's saving throws.\n",
        "-   `Skills`: An array (list) of the monster's skills.\n",
        "-   `Senses`: An array (list) of the monster's senses.\n",
        "-   `Languages`: The languages the monster can speak.\n",
        "-   `Challenge`: The challenge rating of the monster.\n",
        "-   `XP`: The amount of experience points  the monster is worth.\n",
        "-   `Traits`: Traits that the monster possesses.\n",
        "-   `Actions`: Actions that the monster can take.\n",
        "-   `Legendary Actions`: Legendary actions that the monster can take.\n",
        "-   `img_url`: A URL to an image of the monster.\n",
        "\n",
        "The JSON data is structured as an array of such objects. Each object represents a unique monster, and the keys within each object provide detailed information about that particular monster.\n",
        "\n",
        "The next step, having understood the structure, would be to import this JSON data into a PostgreSQL database."
      ],
      "metadata": {
        "id": "PIpSiiYlyP8m"
      }
    },
    {
      "cell_type": "markdown",
      "source": [
        "## Importing JSON data into SQL\n",
        "Here's a script for importing JSON data into a PostgreSQL database."
      ],
      "metadata": {
        "id": "i9wuIyn10Gi7"
      }
    },
    {
      "cell_type": "code",
      "source": [
        "!apt install postgresql postgresql-contrib &>log\n",
        "!service postgresql start\n",
        "!sudo -u postgres psql -c \"CREATE USER root WITH SUPERUSER\"\n",
        "# set connection\n",
        "%load_ext sql\n",
        "%sql postgresql+psycopg2://@/postgres"
      ],
      "metadata": {
        "colab": {
          "base_uri": "https://localhost:8080/"
        },
        "id": "P6yAti0Xy6X2",
        "outputId": "bf7ede9e-d0fb-4465-c418-c01a7cb8226b"
      },
      "execution_count": 1,
      "outputs": [
        {
          "output_type": "stream",
          "name": "stdout",
          "text": [
            " * Starting PostgreSQL 14 database server\n",
            "   ...done.\n",
            "CREATE ROLE\n"
          ]
        }
      ]
    },
    {
      "cell_type": "code",
      "source": [
        "# download the file\n",
        "!wget https://github.com/brendanpshea/database_sql/raw/main/data/processed_srd_5e_monsters.json -q"
      ],
      "metadata": {
        "id": "piH9e31p3ZI8"
      },
      "execution_count": null,
      "outputs": []
    },
    {
      "cell_type": "code",
      "source": [
        "%%capture\n",
        "import json\n",
        "\n",
        "# Load JSON file\n",
        "with open('processed_srd_5e_monsters.json', 'r') as f:\n",
        "    data = json.load(f)\n",
        "\n",
        "# Use SQL magic to connect to PostgreSQL\n",
        "%sql postgresql+psycopg2://@/postgres\n",
        "\n",
        "# Create table\n",
        "%sql DROP TABLE IF EXISTS monsters;\n",
        "%sql CREATE TABLE monsters (data JSONB);\n",
        "\n",
        "# Insert JSON data into the table\n",
        "for monster in data:\n",
        "    monster_json = json.dumps(monster)\n",
        "    %sql INSERT INTO monsters (data) VALUES (:monster_json)\n"
      ],
      "metadata": {
        "id": "ibu-AhRmtRV8"
      },
      "execution_count": null,
      "outputs": []
    },
    {
      "cell_type": "code",
      "source": [
        "## Make sure we have got all the monsters!\n",
        "%sql SELECT COUNT(*) FROM monsters;"
      ],
      "metadata": {
        "colab": {
          "base_uri": "https://localhost:8080/",
          "height": 95
        },
        "id": "6S8Ww5Oi13pJ",
        "outputId": "04289695-5710-42f1-a445-8c79e2af6257"
      },
      "execution_count": null,
      "outputs": [
        {
          "output_type": "stream",
          "name": "stdout",
          "text": [
            " * postgresql+psycopg2://@/postgres\n",
            "1 rows affected.\n"
          ]
        },
        {
          "output_type": "execute_result",
          "data": {
            "text/plain": [
              "[(327,)]"
            ],
            "text/html": [
              "<table>\n",
              "    <tr>\n",
              "        <th>count</th>\n",
              "    </tr>\n",
              "    <tr>\n",
              "        <td>327</td>\n",
              "    </tr>\n",
              "</table>"
            ]
          },
          "metadata": {},
          "execution_count": 4
        }
      ]
    },
    {
      "cell_type": "code",
      "source": [
        "## Display the first monster\n",
        "%sql SELECT * FROM monsters LIMIT 1;"
      ],
      "metadata": {
        "colab": {
          "base_uri": "https://localhost:8080/",
          "height": 373
        },
        "id": "NGGCLFCL4XzL",
        "outputId": "0dab7c37-e6bd-4a54-d3a4-23daa58fc537"
      },
      "execution_count": null,
      "outputs": [
        {
          "output_type": "stream",
          "name": "stdout",
          "text": [
            " * postgresql+psycopg2://@/postgres\n",
            "1 rows affected.\n"
          ]
        },
        {
          "output_type": "execute_result",
          "data": {
            "text/plain": [
              "[({'XP': 5, 'CHA': '18', 'CON': '15', 'DEX': '9', 'INT': '18', 'STR': '21', 'WIS': '15', 'meta': 'Large aberration, lawful evil', 'name': 'Aboleth', 'Sp ... (3405 characters truncated) ... ). One creature charmed by the aboleth takes 10 (3d6) psychic damage, and the aboleth regains hit points equal to the damage the creature takes.</p>\"},)]"
            ],
            "text/html": [
              "<table>\n",
              "    <tr>\n",
              "        <th>data</th>\n",
              "    </tr>\n",
              "    <tr>\n",
              "        <td>{&#x27;XP&#x27;: 5, &#x27;CHA&#x27;: &#x27;18&#x27;, &#x27;CON&#x27;: &#x27;15&#x27;, &#x27;DEX&#x27;: &#x27;9&#x27;, &#x27;INT&#x27;: &#x27;18&#x27;, &#x27;STR&#x27;: &#x27;21&#x27;, &#x27;WIS&#x27;: &#x27;15&#x27;, &#x27;meta&#x27;: &#x27;Large aberration, lawful evil&#x27;, &#x27;name&#x27;: &#x27;Aboleth&#x27;, &#x27;Speed&#x27;: [&#x27;10 ft.&#x27;, &#x27;swim 40 ft.&#x27;], &#x27;Senses&#x27;: [&#x27;Darkvision 120 ft.&#x27;, &#x27;Passive Perception 20&#x27;], &#x27;Skills&#x27;: [&#x27;History +12&#x27;, &#x27;Perception +10&#x27;], &#x27;Traits&#x27;: &quot;&lt;p&gt;&lt;em&gt;&lt;strong&gt;Amphibious.&lt;/strong&gt;&lt;/em&gt; The aboleth can breathe air and water. &lt;/p&gt;&lt;p&gt;&lt;em&gt;&lt;strong&gt;Mucous Cloud.&lt;/strong&gt;&lt;/em&gt; While underwater, the aboleth is surrounded by transformative mucus. A creature that touches the aboleth or that hits it with a melee attack while within 5 feet of it must make a DC 14 Constitution saving throw. On a failure, the creature is diseased for 1d4 hours. The diseased creature can breathe only underwater. &lt;/p&gt;&lt;p&gt;&lt;em&gt;&lt;strong&gt;Probing Telepathy.&lt;/strong&gt;&lt;/em&gt; If a creature communicates telepathically with the aboleth, the aboleth learns the creature&#x27;s greatest desires if the aboleth can see the creature.&lt;/p&gt;&quot;, &#x27;Actions&#x27;: &quot;&lt;p&gt;&lt;em&gt;&lt;strong&gt;Multiattack.&lt;/strong&gt;&lt;/em&gt; The aboleth makes three tentacle attacks. &lt;/p&gt;&lt;p&gt;&lt;em&gt;&lt;strong&gt;Tentacle.&lt;/strong&gt;&lt;/em&gt; &lt;em&gt;Melee Weapon Attack:&lt;/em&gt; +9 to hit, reach 10 ft., one target. &lt;em&gt;Hit:&lt;/em&gt; 12 (2d6 + 5) bludgeoning damage. If the target is a creature, it must succeed on a DC 14 Constitution saving throw or become diseased. The disease has no effect for 1 minute and can be removed by any magic that cures disease. After 1 minute, the diseased creature&#x27;s skin becomes translucent and slimy, the creature can&#x27;t regain hit points unless it is underwater, and the disease can be removed only by heal or another disease-curing spell of 6th level or higher. When the creature is outside a body of water, it takes 6 (1d12) acid damage every 10 minutes unless moisture is applied to the skin before 10 minutes have passed. &lt;/p&gt;&lt;p&gt;&lt;em&gt;&lt;strong&gt;Tail.&lt;/strong&gt;&lt;/em&gt; &lt;em&gt;Melee Weapon Attack:&lt;/em&gt; +9 to hit, reach 10 ft. one target. &lt;em&gt;Hit:&lt;/em&gt; 15 (3d6 + 5) bludgeoning damage. &lt;/p&gt;&lt;p&gt;&lt;em&gt;&lt;strong&gt;Enslave (3/Day).&lt;/strong&gt;&lt;/em&gt; The aboleth targets one creature it can see within 30 feet of it. The target must succeed on a DC 14 Wisdom saving throw or be magically charmed by the aboleth until the aboleth dies or until it is on a different plane of existence from the target. The charmed target is under the aboleth&#x27;s control and can&#x27;t take reactions, and the aboleth and the target can communicate telepathically with each other over any distance. &lt;/p&gt;&lt;p&gt;Whenever the charmed target takes damage, the target can repeat the saving throw. On a success, the effect ends. No more than once every 24 hours, the target can also repeat the saving throw when it is at least 1 mile away from the aboleth.&lt;/p&gt;&quot;, &#x27;CHA_mod&#x27;: &#x27;(+4)&#x27;, &#x27;CON_mod&#x27;: &#x27;(+2)&#x27;, &#x27;DEX_mod&#x27;: &#x27;(-1)&#x27;, &#x27;INT_mod&#x27;: &#x27;(+4)&#x27;, &#x27;STR_mod&#x27;: &#x27;(+5)&#x27;, &#x27;WIS_mod&#x27;: &#x27;(+2)&#x27;, &#x27;img_url&#x27;: &#x27;https://media-waterdeep.cursecdn.com/avatars/thumbnails/0/11/1000/1000/636238825975375671.jpeg&#x27;, &#x27;Challenge&#x27;: 10, &#x27;Languages&#x27;: [&#x27;Deep Speech&#x27;, &#x27;Telepathy 120 ft.&#x27;], &#x27;Hit Points&#x27;: 135, &#x27;Armor Class&#x27;: 17, &#x27;Saving Throws&#x27;: [&#x27;CON +6&#x27;, &#x27;INT +8&#x27;, &#x27;WIS +6&#x27;], &#x27;Legendary Actions&#x27;: &quot;&lt;p&gt;The aboleth can take 3 legendary actions, choosing from the options below. Only one legendary action option can be used at a time and only at the end of another creature&#x27;s turn. The aboleth regains spent legendary actions at the start of its turn. &lt;/p&gt;&lt;p&gt;&lt;em&gt;&lt;strong&gt;Detect.&lt;/strong&gt;&lt;/em&gt; The aboleth makes a Wisdom (Perception) check. &lt;/p&gt;&lt;p&gt;&lt;em&gt;&lt;strong&gt;Tail Swipe.&lt;/strong&gt;&lt;/em&gt; The aboleth makes one tail attack. &lt;/p&gt;&lt;p&gt;&lt;em&gt;&lt;strong&gt;Psychic Drain&lt;/strong&gt;&lt;/em&gt; (Costs 2 Actions). One creature charmed by the aboleth takes 10 (3d6) psychic damage, and the aboleth regains hit points equal to the damage the creature takes.&lt;/p&gt;&quot;}</td>\n",
              "    </tr>\n",
              "</table>"
            ]
          },
          "metadata": {},
          "execution_count": 5
        }
      ]
    },
    {
      "cell_type": "markdown",
      "source": [
        "## How to Query JSON Data Using Postgres\n",
        "First, it's important to understand how we've stored our JSON data in PostgreSQL. We've created a table named `monsters`, which has a single column named `data` of type `JSONB`. Each row in this table contains a JSON object, which represents a single monster.\n",
        "\n",
        "Now, when it comes to querying JSON data in PostgreSQL, we can use the `->`, `->>`, and `#>` operators.\n",
        "\n",
        "\n",
        "-   `->`: This operator is used to get a JSON object field by key. The result is a JSON object or array. For example, `data->'name'` would give us the name of the monster as a JSON object (as an \"element of a JSON array\" or \"value of the name field).\n",
        "\n",
        "-   `->>`: This operator is also used to get a JSON object field by key, but the result is text. For example, `data->>'name'` would give us the name of the monster as text.\n",
        "\n",
        "-   `#>`: This operator is used to get a JSON object field by a path. A path is an array of key strings. This is useful when our JSON objects have nested objects or arrays.\n",
        "\n",
        "Let's start with a simple example:"
      ],
      "metadata": {
        "id": "6XA7E_yq1xPq"
      }
    },
    {
      "cell_type": "code",
      "source": [
        "%%sql\n",
        "--Get the names of the first five monsters\n",
        "SELECT data->>'name' AS Monster_Name\n",
        "FROM monsters\n",
        "LIMIT 5;"
      ],
      "metadata": {
        "colab": {
          "base_uri": "https://localhost:8080/",
          "height": 179
        },
        "id": "CsBVRADv5Ktv",
        "outputId": "b7be373e-3b95-4773-8282-ca03a1833c92"
      },
      "execution_count": null,
      "outputs": [
        {
          "output_type": "stream",
          "name": "stdout",
          "text": [
            " * postgresql+psycopg2://@/postgres\n",
            "5 rows affected.\n"
          ]
        },
        {
          "output_type": "execute_result",
          "data": {
            "text/plain": [
              "[('Aboleth',),\n",
              " ('Acolyte',),\n",
              " ('Adult Black Dragon',),\n",
              " ('Adult Blue Dragon',),\n",
              " ('Adult Brass Dragon',)]"
            ],
            "text/html": [
              "<table>\n",
              "    <tr>\n",
              "        <th>monster_name</th>\n",
              "    </tr>\n",
              "    <tr>\n",
              "        <td>Aboleth</td>\n",
              "    </tr>\n",
              "    <tr>\n",
              "        <td>Acolyte</td>\n",
              "    </tr>\n",
              "    <tr>\n",
              "        <td>Adult Black Dragon</td>\n",
              "    </tr>\n",
              "    <tr>\n",
              "        <td>Adult Blue Dragon</td>\n",
              "    </tr>\n",
              "    <tr>\n",
              "        <td>Adult Brass Dragon</td>\n",
              "    </tr>\n",
              "</table>"
            ]
          },
          "metadata": {},
          "execution_count": 6
        }
      ]
    },
    {
      "cell_type": "markdown",
      "source": [
        "Here's what this query does:\n",
        "\n",
        "-   `SELECT`: This keyword is used to select data from a database. The data returned is stored in a result table, called the result-set.\n",
        "\n",
        "-   `data->>'name'`: Here, we're using the `->>` operator to get the `name` field from our `data` JSON objects. The result will be the name of the monster, as text.\n",
        "\n",
        "-   `AS Monster_Name`: The `AS` keyword is used to rename a column or table with an alias. Here, we're renaming our `data->>'name'` column to `Monster_Name`.\n",
        "\n",
        "-   `FROM monsters`: This specifies the name of the table that we're selecting data from. In this case, it's our `monsters` table.\n",
        "\n",
        "-   `LIMIT 5`: This is used to limit the number of rows returned in a result set. Here, we're limiting our result set to the first 5 rows.\n",
        "\n",
        "The result of this query should be the names of the first 5 monsters in our table."
      ],
      "metadata": {
        "id": "APSy_C2f5mJ1"
      }
    },
    {
      "cell_type": "markdown",
      "source": [
        "## Retrieving Nested Data\n",
        "Now that we've learned how to retrieve a specific attribute from our JSON data (in this case, the monster's name), let's explore more ways to interact with our JSONB column in PostgreSQL.\n",
        "\n",
        "In our `monsters` table, each monster object has several skills. Some of these attributes could be objects or arrays themselves. For instance, if a monster has an attribute `Skills` that is an array of abilities, we can use the `->` operator to access this array. Let's consider an example where we want to access the first ability of each monster:"
      ],
      "metadata": {
        "id": "oJj0pS-O6bzD"
      }
    },
    {
      "cell_type": "code",
      "source": [
        "%%sql\n",
        "SELECT data->'name' AS Name,\n",
        "  data->'Skills'->0  AS First_Ability\n",
        "FROM monsters\n",
        "LIMIT 5;\n"
      ],
      "metadata": {
        "colab": {
          "base_uri": "https://localhost:8080/",
          "height": 179
        },
        "id": "nOWvlHOC6faR",
        "outputId": "d69cb015-791d-4609-e855-5d58d3f58a3f"
      },
      "execution_count": null,
      "outputs": [
        {
          "output_type": "stream",
          "name": "stdout",
          "text": [
            " * postgresql+psycopg2://@/postgres\n",
            "5 rows affected.\n"
          ]
        },
        {
          "output_type": "execute_result",
          "data": {
            "text/plain": [
              "[('Aboleth', 'History +12'),\n",
              " ('Acolyte', 'Medicine +4'),\n",
              " ('Adult Black Dragon', 'Perception +11'),\n",
              " ('Adult Blue Dragon', 'Perception +12'),\n",
              " ('Adult Brass Dragon', 'History +7')]"
            ],
            "text/html": [
              "<table>\n",
              "    <tr>\n",
              "        <th>name</th>\n",
              "        <th>first_ability</th>\n",
              "    </tr>\n",
              "    <tr>\n",
              "        <td>Aboleth</td>\n",
              "        <td>History +12</td>\n",
              "    </tr>\n",
              "    <tr>\n",
              "        <td>Acolyte</td>\n",
              "        <td>Medicine +4</td>\n",
              "    </tr>\n",
              "    <tr>\n",
              "        <td>Adult Black Dragon</td>\n",
              "        <td>Perception +11</td>\n",
              "    </tr>\n",
              "    <tr>\n",
              "        <td>Adult Blue Dragon</td>\n",
              "        <td>Perception +12</td>\n",
              "    </tr>\n",
              "    <tr>\n",
              "        <td>Adult Brass Dragon</td>\n",
              "        <td>History +7</td>\n",
              "    </tr>\n",
              "</table>"
            ]
          },
          "metadata": {},
          "execution_count": 7
        }
      ]
    },
    {
      "cell_type": "markdown",
      "source": [
        "## Filtering Data\n",
        "\n",
        "We can also use these operators in the `WHERE` clause to filter our data. For example, if we want to get all monsters with a hit points greater than 300:\n",
        "\n",
        "Here, `(data->>'Hit Points')::int > 300` is used in the `WHERE` clause to filter our data. We're casting the hit points to an integer using `::int` because the `->>` operator returns text, but we need to perform a numerical comparison."
      ],
      "metadata": {
        "id": "UCDhkCN8C2HR"
      }
    },
    {
      "cell_type": "code",
      "source": [
        "%%sql\n",
        "SELECT data->>'name' AS Monster_Name\n",
        "FROM monsters\n",
        "WHERE (data->>'Hit Points')::int > 300;\n"
      ],
      "metadata": {
        "colab": {
          "base_uri": "https://localhost:8080/",
          "height": 326
        },
        "id": "2deEZYOHC6cO",
        "outputId": "efef048b-6161-4955-9292-f920fcf25dd6"
      },
      "execution_count": null,
      "outputs": [
        {
          "output_type": "stream",
          "name": "stdout",
          "text": [
            " * postgresql+psycopg2://@/postgres\n",
            "12 rows affected.\n"
          ]
        },
        {
          "output_type": "execute_result",
          "data": {
            "text/plain": [
              "[('Ancient Black Dragon',),\n",
              " ('Ancient Blue Dragon',),\n",
              " ('Ancient Bronze Dragon',),\n",
              " ('Ancient Copper Dragon',),\n",
              " ('Ancient Gold Dragon',),\n",
              " ('Ancient Green Dragon',),\n",
              " ('Ancient Red Dragon',),\n",
              " ('Ancient Silver Dragon',),\n",
              " ('Ancient White Dragon',),\n",
              " ('Dragon Turtle',),\n",
              " ('Kraken',),\n",
              " ('Tarrasque',)]"
            ],
            "text/html": [
              "<table>\n",
              "    <tr>\n",
              "        <th>monster_name</th>\n",
              "    </tr>\n",
              "    <tr>\n",
              "        <td>Ancient Black Dragon</td>\n",
              "    </tr>\n",
              "    <tr>\n",
              "        <td>Ancient Blue Dragon</td>\n",
              "    </tr>\n",
              "    <tr>\n",
              "        <td>Ancient Bronze Dragon</td>\n",
              "    </tr>\n",
              "    <tr>\n",
              "        <td>Ancient Copper Dragon</td>\n",
              "    </tr>\n",
              "    <tr>\n",
              "        <td>Ancient Gold Dragon</td>\n",
              "    </tr>\n",
              "    <tr>\n",
              "        <td>Ancient Green Dragon</td>\n",
              "    </tr>\n",
              "    <tr>\n",
              "        <td>Ancient Red Dragon</td>\n",
              "    </tr>\n",
              "    <tr>\n",
              "        <td>Ancient Silver Dragon</td>\n",
              "    </tr>\n",
              "    <tr>\n",
              "        <td>Ancient White Dragon</td>\n",
              "    </tr>\n",
              "    <tr>\n",
              "        <td>Dragon Turtle</td>\n",
              "    </tr>\n",
              "    <tr>\n",
              "        <td>Kraken</td>\n",
              "    </tr>\n",
              "    <tr>\n",
              "        <td>Tarrasque</td>\n",
              "    </tr>\n",
              "</table>"
            ]
          },
          "metadata": {},
          "execution_count": 8
        }
      ]
    },
    {
      "cell_type": "markdown",
      "source": [
        "## Aggregating Data\n",
        "\n",
        "We can perform aggregation operations like COUNT, MAX, MIN, AVG, etc., on the data. For instance, if we want to find the average hit points of all monsters:"
      ],
      "metadata": {
        "id": "Z5J6520DDa4u"
      }
    },
    {
      "cell_type": "code",
      "source": [
        "%%sql\n",
        "SELECT AVG((data->>'Hit Points')::int) AS AVG_HP,\n",
        "  MAX((data->>'Hit Points')::int) AS Max_HP,\n",
        "  MIN((data->>'Hit Points')::int) AS Min_HP\n",
        "FROM monsters;"
      ],
      "metadata": {
        "colab": {
          "base_uri": "https://localhost:8080/",
          "height": 95
        },
        "id": "_HLS_MXVDdMf",
        "outputId": "5a01bdfa-67be-4a69-cf56-d5b5a22b1d32"
      },
      "execution_count": null,
      "outputs": [
        {
          "output_type": "stream",
          "name": "stdout",
          "text": [
            " * postgresql+psycopg2://@/postgres\n",
            "1 rows affected.\n"
          ]
        },
        {
          "output_type": "execute_result",
          "data": {
            "text/plain": [
              "[(Decimal('81.3425076452599388'), 676, 1)]"
            ],
            "text/html": [
              "<table>\n",
              "    <tr>\n",
              "        <th>avg_hp</th>\n",
              "        <th>max_hp</th>\n",
              "        <th>min_hp</th>\n",
              "    </tr>\n",
              "    <tr>\n",
              "        <td>81.3425076452599388</td>\n",
              "        <td>676</td>\n",
              "        <td>1</td>\n",
              "    </tr>\n",
              "</table>"
            ]
          },
          "metadata": {},
          "execution_count": 9
        }
      ]
    },
    {
      "cell_type": "markdown",
      "source": [
        "In this query, we're using the AVG function to find the average of the hit points.\n",
        "\n",
        "Remember, the keys we use to access the data (`name`, `Skills`, `Hit Points`, etc.) are dependent on the structure of the JSON objects in your monsters table. Always make sure to understand the structure of your JSON data before attempting to query it.\n",
        "\n",
        "Take some time to try out these queries, and see what kind of data you can extract from the monsters table. As you get more comfortable with these operators and JSON data in general, you'll find that you can perform very powerful and flexible queries with PostgreSQL and JSONB."
      ],
      "metadata": {
        "id": "pus1Q1PiEW71"
      }
    },
    {
      "cell_type": "markdown",
      "source": [
        "### The `@>` Operator\n",
        "\n",
        "The `@>` operator is known as the \"contains\" operator in PostgreSQL. It checks if the left-hand JSON value contains the right-hand JSON value. This operator is particularly useful when dealing with JSON arrays.\n",
        "\n",
        "For example, suppose we have a JSON object representing a monster and we want to check if \"Draconic\" is in the monster's list of languages. We could do so with the following query:"
      ],
      "metadata": {
        "id": "52LlFE6UnDNj"
      }
    },
    {
      "cell_type": "code",
      "source": [
        "%%sql\n",
        "SELECT data->'name' AS monster_name\n",
        "FROM monsters\n",
        "WHERE data->'Languages' @> '[\"Draconic\"]'\n",
        "LIMIT 5;\n"
      ],
      "metadata": {
        "colab": {
          "base_uri": "https://localhost:8080/",
          "height": 179
        },
        "id": "cXqA5h-9nEma",
        "outputId": "0e06e9b8-707a-4326-eac8-c4a7805090a4"
      },
      "execution_count": null,
      "outputs": [
        {
          "output_type": "stream",
          "name": "stdout",
          "text": [
            " * postgresql+psycopg2://@/postgres\n",
            "5 rows affected.\n"
          ]
        },
        {
          "output_type": "execute_result",
          "data": {
            "text/plain": [
              "[('Adult Black Dragon',),\n",
              " ('Adult Blue Dragon',),\n",
              " ('Adult Brass Dragon',),\n",
              " ('Adult Bronze Dragon',),\n",
              " ('Adult Copper Dragon',)]"
            ],
            "text/html": [
              "<table>\n",
              "    <tr>\n",
              "        <th>monster_name</th>\n",
              "    </tr>\n",
              "    <tr>\n",
              "        <td>Adult Black Dragon</td>\n",
              "    </tr>\n",
              "    <tr>\n",
              "        <td>Adult Blue Dragon</td>\n",
              "    </tr>\n",
              "    <tr>\n",
              "        <td>Adult Brass Dragon</td>\n",
              "    </tr>\n",
              "    <tr>\n",
              "        <td>Adult Bronze Dragon</td>\n",
              "    </tr>\n",
              "    <tr>\n",
              "        <td>Adult Copper Dragon</td>\n",
              "    </tr>\n",
              "</table>"
            ]
          },
          "metadata": {},
          "execution_count": 13
        }
      ]
    },
    {
      "cell_type": "markdown",
      "source": [
        "## Review: Basic JSON Operations\n",
        "\n",
        "Let' consider  a mock JSON object for the Killer Rabbit of Caerbannog:\n",
        "\n",
        "```\n",
        "\n",
        "{\n",
        "  \"name\": \"Killer Rabbit of Caerbannog\",\n",
        "  \"meta\": \"Tiny beast, unaligned\",\n",
        "  \"Armor Class\": \"20\",\n",
        "  \"Hit Points\": \"30\",\n",
        "  \"Speed\": [\"100 ft.\"],\n",
        "  \"STR\": \"2\",\n",
        "  \"STR_mod\": \"(-4)\",\n",
        "  \"DEX\": \"15\",\n",
        "  \"DEX_mod\": \"(+2)\",\n",
        "  \"CON\": \"11\",\n",
        "  \"CON_mod\": \"(+0)\",\n",
        "  \"INT\": \"2\",\n",
        "  \"INT_mod\": \"(-4)\",\n",
        "  \"WIS\": \"12\",\n",
        "  \"WIS_mod\": \"(+1)\",\n",
        "  \"CHA\": \"3\",\n",
        "  \"CHA_mod\": \"(-4)\",\n",
        "  \"Skills\": [\"Perception +3\", \"Stealth +10\"],\n",
        "  \"Senses\": [\"Darkvision 30 ft.\", \"Passive Perception 13\"],\n",
        "  \"Languages\": [],\n",
        "  \"Challenge\": \"5 (1000 XP)\",\n",
        "  \"Traits\": [\"<p>The rabbit can hide as a Bonus Action, and it has advantage on attack rolls against a creature if at least one of the rabbit's allies is within 5 feet of the creature and the ally isn't incapacitated.</p>\"],\n",
        "  \"Actions\": [\"<p><strong>Bite.</strong> Melee Weapon Attack: +10 to hit, reach 5 ft., one target. Hit: 1d100 piercing damage.</p>\"],\n",
        "  \"img_url\": \"https://example.com/killer_rabbit.jpg\"\n",
        "}\n",
        "\n",
        "```\n",
        "Here are the queries related to this entry:\n",
        "\n",
        "| English Description | PostgreSQL Code |\n",
        "| --- | --- |\n",
        "| Get the speed of the Killer Rabbit (stored in JSON column data)| `SELECT data->'Speed' FROM monsters WHERE data->>'name' = 'Killer Rabbit of Caerbannog';` |\n",
        "| Get the Strength score and modifier of the monster Killer Rabbit (stored in JSON column data) | `SELECT data->>'STR', data->>'STR_mod' FROM monsters WHERE data->>'name' = 'Killer Rabbit of Caerbannog';` |\n",
        "| Get all the skills of the Killer Rabbit (stored in JSON column data) | `SELECT data->'Skills' FROM monsters WHERE data->>'name' = 'Killer Rabbit of Caerbannog';` |\n",
        "| Get the first skill of the Killer Rabbit (stored in JSON column data) | `SELECT data->'Skills'->0 FROM monsters WHERE data->>'name' = 'Killer Rabbit of Caerbannog';` |\n",
        "| Check if the Killer Rabbit can speak any languge  (stored in JSON column data) | `SELECT data->'Languages' IS NOT NULL FROM monsters WHERE data->>'name' = 'Killer Rabbit of Caerbannog';` |\n",
        "| Get the XP of the Killer Rabbit | `SELECT data->>'Challenge' FROM monsters WHERE data->>'name' = 'Killer Rabbit of Caerbannog';` |\n",
        "| Get the URL of the monster's image | `SELECT data->>'img_url' FROM monsters WHERE data->>'name' = 'Killer Rabbit of Caerbannog';` |\n",
        "| Get all the actions of the Killer Rabbit (stored in JSON column data)| `SELECT data->'Actions' FROM monsters WHERE data->>'name' = 'Killer Rabbit of Caerbannog';` |"
      ],
      "metadata": {
        "id": "7_VEYQyjqFMH"
      }
    },
    {
      "cell_type": "markdown",
      "source": [
        "## Exercises\n",
        "1.  Find the names of all monsters that have a challenge rating of 10.\n",
        "\n",
        "    -   Hint: Use the `->>` operator to access the \"Challenge\" attribute of the `data` column.\n",
        "2.  Find the top 10 monsters with the highest armor class.\n",
        "\n",
        "    -   Hint: Use the `->>` operator to access the \"Armor Class\" attribute, cast it to an integer, and then use the `ORDER BY` and `LIMIT` clauses.\n",
        "3.  Count how many monsters have \"Legendary Actions\".\n",
        "\n",
        "    -   Hint: Use the `->` operator to check if the \"Legendary Actions\" attribute exists.\n",
        "4.  Find the names of all monsters that can speak the \"Common\" language.\n",
        "\n",
        "    -   Hint: Use the `@>` operator to check if the \"Languages\" array contains the \"Common\" language.\n",
        "5.  Find the average hit points of all monsters.\n",
        "\n",
        "    -   Hint: Use the `->>` operator to access the \"Hit Points\" attribute, cast it to an integer, and then use the `AVG` function.\n",
        "6.  Find all monsters that have a \"Passive Perception\" sense.\n",
        "\n",
        "    -   Hint: Use the `@>` operator to check if the \"Senses\" array contains the \"Passive Perception\" sense.\n",
        "7.  Find all monsters that have a strength score (STR) of 20 or higher.\n",
        "\n",
        "    -   Hint: Use the `->>` operator to access the \"STR\" attribute, cast it to an integer, and then use the `WHERE` clause to filter the results.\n",
        "8.  Find the name and speed of the monster with the highest speed.\n",
        "\n",
        "    -   Hint: Use the `->>` operator to access the \"Speed\" attribute, cast it to an integer, and then use the `ORDER BY` and `LIMIT` clauses.\n",
        "9.  Find all monsters that have \"Stealth\" in their list of skills.\n",
        "\n",
        "    -   Hint: Use the `@>` operator to check if the \"Skills\" array contains the \"Stealth\" skill."
      ],
      "metadata": {
        "id": "Tg7wjlh0pQLM"
      }
    },
    {
      "cell_type": "code",
      "source": [
        "%%sql\n",
        "--Exefcise 1"
      ],
      "metadata": {
        "id": "Y1kixlUopZRX"
      },
      "execution_count": null,
      "outputs": []
    },
    {
      "cell_type": "code",
      "source": [
        "%%sql\n",
        "--Exefcise 2"
      ],
      "metadata": {
        "id": "3UfFztuQpdc2"
      },
      "execution_count": null,
      "outputs": []
    },
    {
      "cell_type": "code",
      "source": [
        "%%sql\n",
        "--Exefcise 3"
      ],
      "metadata": {
        "id": "bu6luhDOpdqi"
      },
      "execution_count": null,
      "outputs": []
    },
    {
      "cell_type": "code",
      "source": [
        "%%sql\n",
        "--Exefcise 4"
      ],
      "metadata": {
        "id": "LXsWSc-QpgrT"
      },
      "execution_count": null,
      "outputs": []
    },
    {
      "cell_type": "code",
      "source": [
        "%%sql\n",
        "--Exefcise 5"
      ],
      "metadata": {
        "id": "01pA8as1ph97"
      },
      "execution_count": null,
      "outputs": []
    },
    {
      "cell_type": "code",
      "source": [
        "%%sql\n",
        "--Exefcise 6"
      ],
      "metadata": {
        "id": "DBTpmHfcpjM4"
      },
      "execution_count": null,
      "outputs": []
    },
    {
      "cell_type": "code",
      "source": [
        "%%sql\n",
        "--Exefcise 7"
      ],
      "metadata": {
        "id": "YBeQ-pz5plMe"
      },
      "execution_count": null,
      "outputs": []
    },
    {
      "cell_type": "code",
      "source": [
        "%%sql\n",
        "--Exefcise 8"
      ],
      "metadata": {
        "id": "y0SIHsrTpl_S"
      },
      "execution_count": null,
      "outputs": []
    },
    {
      "cell_type": "code",
      "source": [
        "%%sql\n",
        "--Exefcise 9"
      ],
      "metadata": {
        "id": "aEum-VcJpnUd"
      },
      "execution_count": null,
      "outputs": []
    },
    {
      "cell_type": "markdown",
      "source": [
        "## Case Study: The Emergence of NoSQL and NewSQL Databases\n",
        "\n",
        "In our previous sections, we delved into the world of JSON and how it handles semi-structured data. This journey through JSON is, in fact, the beginning of a larger exploration into the landscape of modern databases. The way JSON deals with data - its flexibility and simplicity - has deeply influenced the development of NoSQL and NewSQL databases. Let's take a closer look at this progression."
      ],
      "metadata": {
        "id": "7JIVFeXErB1n"
      }
    },
    {
      "cell_type": "markdown",
      "source": [
        "### The Advent of Semi-Structured Data\n",
        "\n",
        "In the early days of computer science, most data was structured. That is, it conformed to a pre-defined model or schema, much like how data in a relational database fits neatly into rows and columns within a table. However, with the advent of the web and later, the rise of social media, mobile applications, and IoT devices, the nature of data began to change dramatically.\n",
        "\n",
        "### XML: A Precursor to JSON\n",
        "\n",
        "The web brought with it an explosion of data that was diverse, complex, and did not neatly fit into the tabular structure of traditional databases. In response to this challenge, **XML (eXtensible Markup Language)** emerged as a popular format for representing this semi-structured data.\n",
        "\n",
        "XML is a markup language that encodes documents in a human-readable and machine-readable format. It uses a tag-based structure, which allows for hierarchical data representation. Here's an example of what a DnD monster might look like in XML:\n",
        "\n",
        "```\n",
        "<monster>\n",
        "    <name>Aboleth</name>\n",
        "    <meta>Large aberration, lawful evil</meta>\n",
        "    <armorClass>17 (Natural Armor)</armorClass>\n",
        "    <hitPoints>135 (18d10 + 36)</hitPoints>\n",
        "    <speed>\n",
        "        <walk>10 ft.</walk>\n",
        "        <swim>40 ft.</swim>\n",
        "    </speed>\n",
        "    <!-- ...and so on... -->\n",
        "</monster>\n",
        "```\n",
        "\n",
        "XML was widely adopted due to its flexibility and universal standards. However, it is also verbose and can be complex to parse, especially for web applications.\n",
        "\n",
        "### The Rise of JSON\n",
        "\n",
        "In response to the complexity of XML, JSON (JavaScript Object Notation) emerged as a simpler, more lightweight alternative. JSON is a text-based data interchange format derived from JavaScript, but it is language-independent. As we've seen above, JSON structures data as collections of key-value pairs and arrays, allowing it to represent complex data structures in a straightforward way. It is also less verbose than XML and easier to work with in web applications, which often use JavaScript.\n",
        "\n",
        "This shift from XML to JSON reflected the broader trend towards increasingly semi-structured data - neither fully structured like in a relational database, nor completely unstructured like free-form text. JSON, with its balance of simplicity and flexibility, was well-suited to this new landscape of data."
      ],
      "metadata": {
        "id": "5pYO1LHkrDOt"
      }
    },
    {
      "cell_type": "markdown",
      "source": [
        "## The NoSQL Movement\n",
        "\n",
        "The NoSQL movement began as an answer to the limitations of traditional relational databases. As we moved from structured to semi-structured data, the need for more flexible data models became apparent. Inspired by the versatility and ease-of-use of JSON, NoSQL databases emerged to fill this gap.\n",
        "\n",
        "NoSQL databases, which stands for \"Not Only SQL\", were designed to handle diverse types of data that didn't conform to the rigid, tabular structure of traditional relational databases. They introduced new types of data models, including document, key-value, columnar, and graph formats.\n",
        "\n",
        "### MongoDB: JSON's Influence on NoSQL Databases\n",
        "\n",
        "One of the most well-known NoSQL databases, MongoDB, directly draws from JSON's structure for its data model. MongoDB uses a format called BSON (Binary JSON), which extends the JSON model to provide additional data types, ordered fields, and other functionality. In MongoDB, data is stored in flexible, JSON-like documents, meaning that fields can vary from document to document and the data structure can be altered over time.\n",
        "\n",
        "This flexible model aligns well with how developers in object-oriented languages write their code, making MongoDB a natural fit for modern development practices. For instance, our DnD monster data could be stored in MongoDB as individual documents for each monster, with each document being a JSON-like structure containing all of the monster's data.\n",
        "\n",
        "Here are some examples of queries in MongoDB with their English descriptions. Please note that these examples assume we have a MongoDB collection named `monsters` filled with our DnD monster data:\n",
        "\n",
        "| MongoDB Query | English Description |\n",
        "| --- | --- |\n",
        "| `db.monsters.find({ \"name\": \"Aboleth\" })` | Find the monster with the name \"Aboleth\". |\n",
        "| `db.monsters.find({ \"Armor Class\": { $gt: 15 } })` | Find all monsters with an Armor Class greater than 15. |\n",
        "| `db.monsters.find({ \"Speed.walk\": { $exists: true } })` | Find all monsters that have a walking speed. |\n",
        "| `db.monsters.find({ \"Languages\": \"Common\" })` | Find all monsters that can speak the \"Common\" language. |\n",
        "| `db.monsters.find({ \"Hit Points\": { $lt: 100 } })` | Find all monsters with less than 100 hit points. |\n",
        "| `db.monsters.count({ \"Legendary Actions\": { $exists: true } })` | Count all monsters that have legendary actions. |\n",
        "| `db.monsters.find().sort({ \"name\": 1 }).limit(5)` | Find the names of the first 5 monsters, sorted alphabetically. |\n",
        "\n",
        "These queries illustrate how MongoDB's flexible, JSON-like data model can be used to interact with semi-structured data in powerful ways. It's a key example of how the flexibility and simplicity of JSON has influenced the landscape of modern databases."
      ],
      "metadata": {
        "id": "PjV60qWhsUiH"
      }
    },
    {
      "cell_type": "markdown",
      "source": [
        "### The Emergence of NewSQL\n",
        "\n",
        "While NoSQL databases brought flexibility and scalability, they often compromised on some features that were strengths of relational databases, particularly ACID (Atomicity, Consistency, Isolation, Durability) guarantees and the ability to perform complex queries.\n",
        "\n",
        "This led to the emergence of NewSQL databases. NewSQL databases sought to bring the best of both worlds: the scalability and flexibility of NoSQL databases and the ACID guarantees and SQL interface of traditional relational databases.\n",
        "\n",
        "For instance, Google Spanner and CockroachDB, popular NewSQL databases, leverage distributed architectures and advanced consensus algorithms to provide strong consistency at global scale, while also offering a familiar SQL interface for interacting with data.\n",
        "\n",
        "In summary, the journey from JSON to NoSQL and NewSQL reflects the evolving landscape of data storage and management. As we move from structured to semi-structured data, from single servers to distributed systems, and from rigid schemas to flexible data models, our tools adapt and evolve. Understanding this progression helps us appreciate why different databases exist and how to choose the right one based on our specific needs."
      ],
      "metadata": {
        "id": "slR3OKETut3M"
      }
    },
    {
      "cell_type": "markdown",
      "source": [
        "## Traditional RDBMSs Respond to the NoSQL and NewSQL Movement\n",
        "\n",
        "The rise of NoSQL and NewSQL databases, while significant, did not spell the end for traditional relational database management systems (RDBMSs). In fact, it spurred them to evolve and adapt to the changing landscape of data storage and management. Let's explore how prominent RDBMSs like Oracle, MySQL, SQL Server, and PostgreSQL have responded to these shifts.\n",
        "\n",
        "### Embracing Semi-Structured Data\n",
        "\n",
        "One of the major ways that RDBMSs have adapted is by incorporating support for semi-structured data. Recognizing the growing importance of JSON, XML, and other semi-structured formats, these systems have introduced new features and data types to handle them.\n",
        "\n",
        "For instance, PostgreSQL introduced a JSON data type in version 9.2, and enhanced it with the JSONB type in version 9.4, which allows for binary storage of JSON documents. MySQL, Oracle, and SQL Server have also introduced similar functionality. These features allow developers to store and query JSON data in a manner similar to NoSQL databases like MongoDB, while still retaining the benefits of a relational model where it is appropriate.\n",
        "\n",
        "### Scaling with the Cloud\n",
        "\n",
        "The advent of cloud computing has also had a profound impact on RDBMSs. As data volume grew and scalability became increasingly important, these systems needed to find ways to distribute data across multiple servers and even multiple data centers.\n",
        "\n",
        "Most major RDBMS vendors now offer cloud-based versions of their systems, such as Amazon RDS for MySQL and PostgreSQL, Microsoft Azure SQL Database, and Oracle Cloud Infrastructure Database Service. These cloud-based systems provide a range of benefits, including easy scalability, automated backups, and high availability.\n",
        "\n",
        "### NewSQL Features\n",
        "\n",
        "Even the NewSQL movement, with its emphasis on combining the best of the SQL and NoSQL worlds, has found echoes within traditional RDBMSs. For example, MySQL introduced the InnoDB Cluster feature, which provides high-availability and scalability features akin to those found in NewSQL databases.\n",
        "\n",
        "### Why RDBMSs Remain Dominant\n",
        "\n",
        "Despite the growing popularity of NoSQL and NewSQL databases, RDBMSs continue to hold a dominant position in the industry. There are several reasons for this:\n",
        "\n",
        "1.  *Maturity:* RDBMSs have been around for decades, and they are mature, stable, and reliable. They have been tested by time and have proven their worth in a wide range of applications.\n",
        "\n",
        "2.  *ACID Guarantees:* RDBMSs provide strong ACID guarantees, which are crucial for many business applications. While some NoSQL databases offer tunable consistency models, the strict consistency provided by RDBMSs is often necessary to ensure data integrity.\n",
        "\n",
        "3.  *SQL:* SQL is a powerful and expressive language for querying and manipulating data. Despite the rise of NoSQL, the SQL language remains a de facto standard for interacting with data.\n",
        "\n",
        "4.  *Ecosystem and Skills:* There is a vast ecosystem of tools and resources built around RDBMSs, and a large pool of developers and administrators skilled in their use.\n",
        "\n",
        "In conclusion, while NoSQL and NewSQL databases have brought important innovations to the field of data management, traditional RDBMSs have also evolved to meet the same challenges. The choice between these systems often depends on the specific needs of the application and the skills of the development team. The key is understanding the strengths and weaknesses of each, and knowing when to use which."
      ],
      "metadata": {
        "id": "Eey9UbSbvJxJ"
      }
    },
    {
      "cell_type": "markdown",
      "source": [
        "## Questions: NoSQL, NewSQL, and SQL\n",
        "1. Can you explain in your own words what JSON is and why it's important? What are some real-world examples of where you might encounter JSON?\n",
        "\n",
        "2. Why might we want to store JSON data in a database? What are some advantages and disadvantages of doing this?\n",
        "\n",
        "3. What does NoSQL mean? How are NoSQL databases different from traditional relational databases? Can you think of an example where a NoSQL database might be useful?\n",
        "\n",
        "4. What is a cloud database? How might using a cloud database be different from using a database on your own computer?\n",
        "\n",
        "5. We've talked about SQL and NoSQL. Can you think of a situation where you might want to use SQL, and a different situation where you might want to use NoSQL?"
      ],
      "metadata": {
        "id": "klNXD-7KwfGC"
      }
    },
    {
      "cell_type": "markdown",
      "source": [
        "## My Answers: NoSQL, NewSQL, and SQL\n",
        "1.\n",
        "\n",
        "2.\n",
        "\n",
        "3.\n",
        "\n",
        "4.\n",
        "\n",
        "5."
      ],
      "metadata": {
        "id": "4RsCmeKjwqku"
      }
    },
    {
      "cell_type": "markdown",
      "source": [
        "## Glossary\n",
        "\n",
        "| Term | Definition |\n",
        "| --- | --- |\n",
        "| JSON | Short for \"Javascript Object Notation.\" A lightweight data-interchange format that is easy for humans to read and write and easy for machines to parse and generate. For instance, `{ \"name\":\"Charles\", \"age\":30, \"city\":\"Rochester\" }` is a simple JSON document. |\n",
        "| JSON: Objects | Structures in JSON that are an unordered collection of key-value pairs, enclosed by curly brackets `{}`. In the JSON document `{ \"name\":\"Charlette\", \"age\":30, \"city\":\"Rochester\" }`, the entire document is a JSON object. |\n",
        "| Key | A string in JSON that identifies a certain value. Keys are always strings and are the first component of a key-value pair. For instance, in the pair `\"name\":\"Christie\"`, `\"name\"` is the key. |\n",
        "| Value | In JSON, a piece of data that can be a string, number, boolean, null, object, or array. It is the second component of a key-value pair. In the pair `\"name\":\"Christie\"`, `\"Christe\"` is the value. |\n",
        "| JSON: Arrays | Ordered collections of values in JSON, enclosed by square brackets `[]`. For instance, in the JSON document `{\"numbers\": [7, 2, -3, 4, 5]}`, the list `[7, 2, -3, 4, 5]` is a JSON array. |\n",
        "| API | Stands for Application Programming Interface. It is a set of rules and protocols for building and interacting with software applications. APIs often output data in JSON format. For example, a weather API might return data about the current weather in a JSON format. |\n",
        "| Semi-structured data | A form of data that does not conform to the tabular structure of data models associated with relational databases or other forms of data tables, but nonetheless contains tags or other markers to separate semantic elements. JSON and XML are examples of semi-structured data. |\n",
        "| JSONB (Postgres) | A binary format in PostgreSQL for storing JSON data, which allows for indexing and advanced querying. For instance, a PostgreSQL table might have a column of type JSONB to store JSON documents. |\n",
        "| ->> (Postgres Operator) | An operator in PostgreSQL that is used to get a JSON object field by key. The result is text. For example, in a query `SELECT data->>'name' FROM monsters;`, `->>` is used to get the `\"name\"` field as text. |\n",
        "| NoSQL | A type of database that provides a mechanism for storage and retrieval of data which is modeled in means other than the tabular relations used in relational databases. For example, MongoDB is a NoSQL database that stores data in flexible, JSON-like documents. |\n",
        "| MongoDB | A NoSQL database program that uses JSON-like documents with optional schemas. For instance, in MongoDB, a collection of users might be stored as JSON-like documents, each representing a user with fields like `name`, `email`, `password`, etc. |\n",
        "| NewSQL | A class of relational database management systems that seek to provide the scalability of NoSQL systems for online transaction processing (OLTP) workloads while maintaining the ACID guarantees of a traditional database system. For example, Google's Spanner database is a NewSQL database. |"
      ],
      "metadata": {
        "id": "CH2wAjjEwfKt"
      }
    },
    {
      "cell_type": "code",
      "source": [],
      "metadata": {
        "id": "p81BoENhouMC"
      },
      "execution_count": null,
      "outputs": []
    }
  ]
}