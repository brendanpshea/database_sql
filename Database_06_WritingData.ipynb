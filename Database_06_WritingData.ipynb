{
  "nbformat": 4,
  "nbformat_minor": 0,
  "metadata": {
    "colab": {
      "provenance": [],
      "authorship_tag": "ABX9TyPU+Ew8pbZVtW46SQGBomuj",
      "include_colab_link": true
    },
    "kernelspec": {
      "name": "python3",
      "display_name": "Python 3"
    },
    "language_info": {
      "name": "python"
    }
  },
  "cells": [
    {
      "cell_type": "markdown",
      "metadata": {
        "id": "view-in-github",
        "colab_type": "text"
      },
      "source": [
        "<a href=\"https://colab.research.google.com/github/brendanpshea/database_sql/blob/main/Database_06_WritingData.ipynb\" target=\"_parent\"><img src=\"https://colab.research.google.com/assets/colab-badge.svg\" alt=\"Open In Colab\"/></a>"
      ]
    },
    {
      "cell_type": "markdown",
      "source": [
        "# Writing Data With Rollingstone's Greatest Albums\n",
        "### Databases Through Pop Culture | Brendan Shea, PhD\n",
        "\n",
        "In this chapter, we dive into the task of writing data to SQL tables, a fundamental operation in database management. We explore the use of the INSERT INTO statement to add new rows of data to tables, both for single-row and multiple-row insertions. By working with a sample database based on Rolling Stone's Greatest Albums of All Time, we illustrate the process of creating tables, defining constraints, and populating them with data.\n",
        "\n",
        "The chapter also covers important topics related to data manipulation, such as handling constraint violations, auto-incrementing primary keys, and using subqueries in INSERT statements. We discuss the differences between deleting data using the DELETE statement and dropping entire tables with DROP TABLE.\n",
        "\n",
        "Moreover, we introduce the concepts of \"soft delete\" and the UPDATE statement for modifying existing data. We explore the use of triggers to automatically execute specific actions in response to database events and demonstrate how to implement logging mechanisms using triggers.\n",
        "\n",
        "Finally, we go beyond SQL and explore database scripting using Linux scripts and various programming languages. We discuss the benefits of automating database tasks and leveraging the power of scripting for data insertion, manipulation, and maintenance.\n",
        "\n",
        "By the end of this chapter, readers will have a solid understanding of writing data to SQL tables, handling constraints, and utilizing advanced techniques for data manipulation and automation.\n",
        "\n",
        "Learning Outcomes:\n",
        "\n",
        "1.  Understand the process of creating tables and defining constraints in SQL.\n",
        "2.  Learn how to insert single and multiple rows of data into tables using the INSERT INTO statement.\n",
        "3.  Recognize and handle constraint violations during data insertion.\n",
        "4.  Utilize auto-incrementing primary keys for efficient data insertion.\n",
        "5.  Employ subqueries in INSERT statements for dynamic data insertion.\n",
        "6.  Differentiate between deleting data with DELETE and dropping tables with DROP TABLE.\n",
        "7.  Implement \"soft delete\" functionality to retain historical data.\n",
        "8.  Modify existing data using the UPDATE statement.\n",
        "9.  Create triggers to automate actions based on database events.\n",
        "10. Implement logging mechanisms using triggers for auditing and monitoring purposes.\n",
        "11. Explore database scripting using Linux scripts and various programming languages.\n",
        "12. Understand the use of Object-Relational Modeling (ORM) tools to interact with databases.\n",
        "\n",
        "Keywords: SQL, INSERT INTO, constraints, DELETE, DROP TABLE, soft delete, UPDATE, triggers, logging, database scripting"
      ],
      "metadata": {
        "id": "xXEKyIB9Gr0I"
      }
    },
    {
      "cell_type": "markdown",
      "source": [
        "## Creating Tables for Rolling Stone's Greatest Albums of All Time\n",
        "For this chapter, we'll be creating and populating a database based on a small subset of the 2023 version of Rollingstone Magazine's \"500 greatest albums of all time\".\n",
        "\n",
        "Before we can start inserting data into our database, we need to create the necessary tables. In this case, we'll create two tables: Artist and Album. Let's define the structure of these tables and include some constraints to ensure data integrity."
      ],
      "metadata": {
        "id": "LR5P5_rtGuBH"
      }
    },
    {
      "cell_type": "code",
      "source": [
        "%load_ext sql\n",
        "%sql sqlite:///greatest.db"
      ],
      "metadata": {
        "id": "M7SnjbRdGxln"
      },
      "execution_count": null,
      "outputs": []
    },
    {
      "cell_type": "code",
      "source": [
        "%%sql\n",
        "DROP TABLE IF EXISTS Artist;\n",
        "DROP TABLE IF EXISTS Album;\n",
        "CREATE TABLE Artist (\n",
        "    ArtistID INTEGER PRIMARY KEY AUTOINCREMENT,\n",
        "    Name VARCHAR(100) NOT NULL,\n",
        "    Country VARCHAR(50),\n",
        "    Founded INT\n",
        "    CHECK (Founded >= 1900 AND Founded <= 2023)\n",
        ");\n",
        "\n",
        "CREATE TABLE Album (\n",
        "    AlbumID INTEGER PRIMARY KEY AUTOINCREMENT,\n",
        "    Title VARCHAR(100) NOT NULL,\n",
        "    ArtistID INT,\n",
        "    ReleaseYear INT,\n",
        "    Genre VARCHAR(50),\n",
        "    Ranking,\n",
        "    FOREIGN KEY (ArtistID) REFERENCES Artist(ArtistID),\n",
        "    CHECK (ReleaseYear >= 1900 AND ReleaseYear <= 2023),\n",
        "    CHECK (Ranking >= 1 AND Ranking <= 500)\n",
        ");\n",
        "\n",
        "--enable foreign key contraints\n",
        "PRAGMA foreign_keys = ON;"
      ],
      "metadata": {
        "colab": {
          "base_uri": "https://localhost:8080/"
        },
        "id": "syndhaJIGv8_",
        "outputId": "e8268d1c-172b-401b-8449-e1f2a37afd74"
      },
      "execution_count": null,
      "outputs": [
        {
          "output_type": "stream",
          "name": "stdout",
          "text": [
            " * sqlite:///greatest.db\n",
            "Done.\n",
            "Done.\n",
            "Done.\n",
            "Done.\n",
            "Done.\n"
          ]
        },
        {
          "output_type": "execute_result",
          "data": {
            "text/plain": [
              "[]"
            ]
          },
          "metadata": {},
          "execution_count": 2
        }
      ]
    },
    {
      "cell_type": "markdown",
      "source": [
        "Let's break down the key aspects of these table definitions:\n",
        "\n",
        "-   The `Artist` table has an `ArtistID` column as the **primary key**, which uniquely identifies each artist. The `Name` column is marked as `NOT NULL`, ensuring that every artist has a name. We also have `Country` and `Founded` columns to store additional information about the artists.\n",
        "-   The `Album` table has an `AlbumID` column as the primary key. The `Title` column is marked as `NOT NULL` to ensure that every album has a title. We have a foreign key `ArtistID` that references the `ArtistID` column in the `Artist` table, establishing a relationship between albums and artists. The `ReleaseYear` and `Genre` columns provide additional details about each album.\n",
        "-  We have specified that the primary keys (`ArtistID` and `AlbumID`) are both `NOT NULL` and `AUTOINCREMENT`. This means they cannot be left blank and that, if they are left blank, SQL will assign the next available integer to them.\n",
        "-   We include **check constraints** in both tables to enforce certain conditions. In the `Artist` table, we ensure that the `Founded` year is between 1900 and 2023. Similarly, in the `Album` table, we check that the `ReleaseYear` is within the same range.\n",
        "- Finally, we enable **foreign key constraints**, which means that SQLite will ensure that attempts to update, delete, or insert data that causes problems for this will fail.\n",
        "\n",
        "By creating these tables with appropriate constraints, we set up a solid foundation for our database. The constraints help maintain data integrity by preventing invalid or inconsistent data from being inserted into the tables.\n",
        "\n",
        "Now that we have our tables ready, we can start inserting data into them using the `INSERT INTO` statement, which we'll explore in the next section."
      ],
      "metadata": {
        "id": "6Lkm3s-0G5lf"
      }
    },
    {
      "cell_type": "markdown",
      "source": [
        "## Using INSERT INTO (Single Row)\n",
        "\n",
        "\n",
        "Now that we have our `Artist` and `Album` tables created, let's explore how to insert a single row of data into each table using the `INSERT INTO` statement.\n",
        "\n",
        "The basic syntax for inserting a single row is as follows:\n",
        "\n",
        "```sql\n",
        "INSERT INTO table_name (column1, column2, ...)\n",
        "VALUES (value1, value2, ...);\n",
        "```\n",
        "\n",
        "Let's insert a single artist into the `Artist` table:"
      ],
      "metadata": {
        "id": "5LobT9FQG-in"
      }
    },
    {
      "cell_type": "code",
      "source": [
        "%%sql\n",
        "--Insert Marvin Gaye\n",
        "INSERT INTO Artist (ArtistID, Name, Country, Founded)\n",
        "VALUES (1, 'Marvin Gaye', 'United States', 1939);"
      ],
      "metadata": {
        "colab": {
          "base_uri": "https://localhost:8080/"
        },
        "id": "UhJnB4bnHIZ_",
        "outputId": "ceb8d9ba-1510-4787-d8e0-9dbb7f07f535"
      },
      "execution_count": null,
      "outputs": [
        {
          "output_type": "stream",
          "name": "stdout",
          "text": [
            " * sqlite:///greatest.db\n",
            "1 rows affected.\n"
          ]
        },
        {
          "output_type": "execute_result",
          "data": {
            "text/plain": [
              "[]"
            ]
          },
          "metadata": {},
          "execution_count": 3
        }
      ]
    },
    {
      "cell_type": "markdown",
      "source": [
        "In this example, we specify the table name `Artist` and list the columns we want to insert data into (`ArtistID`, `Name`, `Country`, `Founded`). We then provide the corresponding values for each column using the `VALUES` clause. The values are listed in the same order as the columns specified.\n",
        "\n",
        "Now, let's insert a single album into the `Album` table:"
      ],
      "metadata": {
        "id": "xFudKmc0HK8A"
      }
    },
    {
      "cell_type": "code",
      "source": [
        "%%sql\n",
        "-- Insert What's Going On\n",
        "INSERT INTO Album (AlbumID, Title, ArtistID, ReleaseYear,Genre, Ranking)\n",
        "VALUES (1, 'What''s Going On', 1, 1971, 'Soul', 1);"
      ],
      "metadata": {
        "colab": {
          "base_uri": "https://localhost:8080/"
        },
        "id": "HkPiZmSqHN2X",
        "outputId": "2adb1467-970d-42d8-f246-31c6db6966dc"
      },
      "execution_count": null,
      "outputs": [
        {
          "output_type": "stream",
          "name": "stdout",
          "text": [
            " * sqlite:///greatest.db\n",
            "1 rows affected.\n"
          ]
        },
        {
          "output_type": "execute_result",
          "data": {
            "text/plain": [
              "[]"
            ]
          },
          "metadata": {},
          "execution_count": 4
        }
      ]
    },
    {
      "cell_type": "code",
      "source": [
        "%sql SELECT * FROM Album;"
      ],
      "metadata": {
        "colab": {
          "base_uri": "https://localhost:8080/",
          "height": 95
        },
        "id": "mrlM8pH2IRgX",
        "outputId": "d5b7a2c0-002c-46f4-c89a-67302ddd9a75"
      },
      "execution_count": null,
      "outputs": [
        {
          "output_type": "stream",
          "name": "stdout",
          "text": [
            " * sqlite:///greatest.db\n",
            "Done.\n"
          ]
        },
        {
          "output_type": "execute_result",
          "data": {
            "text/plain": [
              "[(1, \"What's Going On\", 1, 1971, 'Soul', 1)]"
            ],
            "text/html": [
              "<table>\n",
              "    <thead>\n",
              "        <tr>\n",
              "            <th>AlbumID</th>\n",
              "            <th>Title</th>\n",
              "            <th>ArtistID</th>\n",
              "            <th>ReleaseYear</th>\n",
              "            <th>Genre</th>\n",
              "            <th>Ranking</th>\n",
              "        </tr>\n",
              "    </thead>\n",
              "    <tbody>\n",
              "        <tr>\n",
              "            <td>1</td>\n",
              "            <td>What&#x27;s Going On</td>\n",
              "            <td>1</td>\n",
              "            <td>1971</td>\n",
              "            <td>Soul</td>\n",
              "            <td>1</td>\n",
              "        </tr>\n",
              "    </tbody>\n",
              "</table>"
            ]
          },
          "metadata": {},
          "execution_count": 5
        }
      ]
    },
    {
      "cell_type": "markdown",
      "source": [
        "Similarly, we specify the `Album` table and list the columns we want to insert data into. We provide the corresponding values in the `VALUES` clause, ensuring that the `ArtistID` matches the `ArtistID` of the artist we inserted earlier.\n",
        "\n",
        "It's important to note that when inserting data, we need to provide values for all columns that are marked as `NOT NULL` or do not have a default value defined. If we omit a column that allows `NULL` values or has a default value, the database will automatically assign the appropriate value.\n",
        "\n",
        "By using the `INSERT INTO` statement, we can easily add single rows of data to our tables. This is particularly useful when we have specific values for each column and want to insert them one at a time.\n",
        "\n",
        "In the next section, we'll explore how to insert multiple rows of data in a single statement, which is more efficient when dealing with larger datasets."
      ],
      "metadata": {
        "id": "QGxNtd8vHYHX"
      }
    },
    {
      "cell_type": "markdown",
      "source": [
        "## Using INSERT INTO (Multiple Rows)\n",
        "\n",
        "Inserting data one row at a time can be inefficient when you have a large number of records to insert. Fortunately, SQL allows you to insert multiple rows of data in a single `INSERT INTO` statement. This is achieved by specifying multiple sets of values in the `VALUES` clause.\n",
        "\n",
        "Let's insert the top 10 albums from Rolling Stone's Greatest Albums of All Time list into our database. First, we'll insert the artists:"
      ],
      "metadata": {
        "id": "_N1wFsOKHfvm"
      }
    },
    {
      "cell_type": "code",
      "source": [
        "%%sql\n",
        "INSERT INTO Artist (ArtistID, Name, Country, Founded)\n",
        "VALUES\n",
        "(2, 'The Beach Boys', 'United States', 1961),\n",
        "(3, 'Joni Mitchell', 'Canada', 1964),\n",
        "(4, 'Stevie Wonder', 'United States', 1961),\n",
        "(5, 'Nirvana', 'United States', 1987),\n",
        "(6, 'Fleetwood Mac', 'United Kingdom', 1967),\n",
        "(7, 'Prince', 'United States', 1975),\n",
        "(8, 'Bob Dylan', 'United States', 1961),\n",
        "(9, 'Lauryn Hill', 'United States', 1988),\n",
        "(10, 'The Beatles', 'United Kingdom', 1960),\n",
        "(11, 'Radiohead', 'United Kingdom', 1985),\n",
        "(12, 'Kendrick Lamar', 'United States', 2003),\n",
        "(13, 'Public Enemy', 'United States', 1985),\n",
        "(14, 'The Rolling Stones', 'United Kingdom', 1962),\n",
        "(15, 'Aretha Franklin', 'United States', 1956),\n",
        "(16, 'Michael Jackson', 'United States', 1964),\n",
        "(17, 'Kanye West', 'United States', 1996),\n",
        "(19, 'The Clash', 'United Kingdom', 1976);"
      ],
      "metadata": {
        "colab": {
          "base_uri": "https://localhost:8080/"
        },
        "id": "EaTiP8VVHXFe",
        "outputId": "4017e7b4-ae6d-458f-c100-1f802ef21f50"
      },
      "execution_count": null,
      "outputs": [
        {
          "output_type": "stream",
          "name": "stdout",
          "text": [
            " * sqlite:///greatest.db\n",
            "17 rows affected.\n"
          ]
        },
        {
          "output_type": "execute_result",
          "data": {
            "text/plain": [
              "[]"
            ]
          },
          "metadata": {},
          "execution_count": 6
        }
      ]
    },
    {
      "cell_type": "markdown",
      "source": [
        "Now, let's insert the corresponding albums:"
      ],
      "metadata": {
        "id": "p3H5sHL5Hnmm"
      }
    },
    {
      "cell_type": "code",
      "source": [
        "%%sql\n",
        "INSERT INTO Album (AlbumID, Title, ArtistID, ReleaseYear, Genre, Ranking)\n",
        "VALUES\n",
        "(2, 'Pet Sounds', 2, 1966, 'Rock',2),\n",
        "(3, 'Blue', 3, 1971, 'Folk',3),\n",
        "(4, 'Songs in the Key of Life', 4, 1976, 'Soul',4),\n",
        "(5, 'Nevermind', 5, 1991, 'Grunge',5),\n",
        "(6, 'Rumours', 6, 1977, 'Soft Rock',6),\n",
        "(7, 'Purple Rain', 7, 1984, 'Pop',7),\n",
        "(8, 'Blood on the Tracks', 8, 1975, 'Folk Rock',8),\n",
        "(9, 'The Miseducation of Lauryn Hill', 9, 1998, 'Hip Hop',9),\n",
        "(10, 'Abbey Road', 10, 1969, 'Rock',10),\n",
        "(11, 'Revolver', 10, 1966, 'Rock',11),\n",
        "(12, 'Thriller', 16, 1982, 'Pop',12),\n",
        "(13, 'I Never Loved a Man the Way I Love You', 15, 1967, 'Soul',13),\n",
        "(14, 'Exile on Main Street', 14, 1972, 'Rock',14),\n",
        "(15, 'It Takes a Nation of Millions to Hold Us Back', 13, 1988, 'Hip Hop',15),\n",
        "(16, 'London Calling', 19, 1979, 'Punk',16),\n",
        "(17, 'My Beautiful Dark Twisted Fantasy', 17, 2010, 'Hip Hop',17),\n",
        "(18, 'Highway 61 Revisited', 8, 1965, 'Folk Rock',18),\n",
        "(19, 'To Pimp a Butterfly', 12, 2015, 'Hip Hop',19),\n",
        "(20, 'Kid A', 11, 2000, 'Electronic',20);"
      ],
      "metadata": {
        "colab": {
          "base_uri": "https://localhost:8080/"
        },
        "id": "dUYpMoLiHqgW",
        "outputId": "6aedec37-6d35-4d6e-d856-45b6743e9062"
      },
      "execution_count": null,
      "outputs": [
        {
          "output_type": "stream",
          "name": "stdout",
          "text": [
            " * sqlite:///greatest.db\n",
            "19 rows affected.\n"
          ]
        },
        {
          "output_type": "execute_result",
          "data": {
            "text/plain": [
              "[]"
            ]
          },
          "metadata": {},
          "execution_count": 7
        }
      ]
    },
    {
      "cell_type": "markdown",
      "source": [
        "In these examples, we use a single `INSERT INTO` statement for each table, but we provide multiple sets of values separated by commas. Each set of values represents a new row to be inserted into the table.\n",
        "\n",
        "By inserting multiple rows at once, we can significantly reduce the number of statements required and improve the efficiency of our data insertion process.\n",
        "\n",
        "It's important to ensure that the number of values matches the number of columns specified and that the values adhere to any constraints defined on the table. If there are any violations, such as trying to insert a duplicate primary key value or violating a check constraint, the entire `INSERT INTO` statement will fail, and no rows will be inserted.\n",
        "\n",
        "In the next section, we'll explore what happens when constraints are violated and how to handle such situations."
      ],
      "metadata": {
        "id": "wgvVNp3THp6P"
      }
    },
    {
      "cell_type": "markdown",
      "source": [
        "## What Happens When Constraints Are Violated?\n",
        "\n",
        "Constraints are essential for maintaining data integrity in a database. They enforce rules and restrictions on the data that can be inserted into tables. When attempting to insert data that violates these constraints, SQL will raise an error and prevent the insertion from occurring. Let's explore some common constraint violations and their consequences.\n",
        "\n",
        "### Problems with Primary Keys\n",
        "\n",
        "A primary key uniquely identifies each row in a table. It ensures that no two rows have the same primary key value. If we attempt to insert a row with a primary key value that already exists in the table, SQL will raise a primary key constraint violation error.\n",
        "\n",
        "For example, let's try to insert an artist with an existing `ArtistID`:"
      ],
      "metadata": {
        "id": "uX9PiD8BHRJG"
      }
    },
    {
      "cell_type": "code",
      "source": [
        "%%sql\n",
        "INSERT INTO Artist (ArtistID, Name, Country, Founded)\n",
        "VALUES (1, 'Pink Floyd', 'United Kingdom', 1962);"
      ],
      "metadata": {
        "colab": {
          "base_uri": "https://localhost:8080/"
        },
        "id": "S6u9Ja_LayMu",
        "outputId": "d4d1d6cd-5534-4daf-b94e-281fc6594776"
      },
      "execution_count": null,
      "outputs": [
        {
          "output_type": "stream",
          "name": "stdout",
          "text": [
            " * sqlite:///greatest.db\n",
            "(sqlite3.IntegrityError) UNIQUE constraint failed: Artist.ArtistID\n",
            "[SQL: INSERT INTO Artist (ArtistID, Name, Country, Founded)\n",
            "VALUES (1, 'Pink Floyd', 'United Kingdom', 1962);]\n",
            "(Background on this error at: https://sqlalche.me/e/20/gkpj)\n"
          ]
        }
      ]
    },
    {
      "cell_type": "markdown",
      "source": [
        "Since we already have an artist with an `artist_id` of 1 this fails with an error message. This is because primary keys must be UNIQUE."
      ],
      "metadata": {
        "id": "qFDywMJQa-A9"
      }
    },
    {
      "cell_type": "markdown",
      "source": [
        "### Violating CHECK Constraints\n",
        "\n",
        "CHECK constraints allow us to specify conditions that the data must satisfy before it can be inserted into a table. If we attempt to insert data that violates a CHECK constraint, SQL will raise a constraint violation error.\n",
        "\n",
        "For example, let's try to insert an album with an invalid `ReleaseYear`:"
      ],
      "metadata": {
        "id": "Fi8TAOpWbRnZ"
      }
    },
    {
      "cell_type": "code",
      "source": [
        "%%sql\n",
        "INSERT INTO Album (AlbumID, Title, ArtistID, ReleaseYear, Genre)\n",
        "VALUES (11, 'Future Album', 1, 2028, 'Rock');"
      ],
      "metadata": {
        "colab": {
          "base_uri": "https://localhost:8080/"
        },
        "id": "JcIo6t3vbSZs",
        "outputId": "eacc0f21-0dc5-4d4c-97bc-0bded64ecb26"
      },
      "execution_count": null,
      "outputs": [
        {
          "output_type": "stream",
          "name": "stdout",
          "text": [
            " * sqlite:///greatest.db\n",
            "(sqlite3.IntegrityError) CHECK constraint failed: ReleaseYear >= 1900 AND ReleaseYear <= 2023\n",
            "[SQL: INSERT INTO Album (AlbumID, Title, ArtistID, ReleaseYear, Genre)\n",
            "VALUES (11, 'Future Album', 1, 2028, 'Rock');]\n",
            "(Background on this error at: https://sqlalche.me/e/20/gkpj)\n"
          ]
        }
      ]
    },
    {
      "cell_type": "markdown",
      "source": [
        "In our Album table, we have a CHECK constraint that ensures the ReleaseYear is between 1900 and 2023. Since 2028 violates this constraint, the insertion will fail with an error message indicating a CHECK constraint violation."
      ],
      "metadata": {
        "id": "u_8rs2XWbej0"
      }
    },
    {
      "cell_type": "markdown",
      "source": [
        "### Violating NOT NULL Constraints\n",
        "\n",
        "NOT NULL constraints ensure that a column cannot contain a NULL value. If we attempt to insert a row with a NULL value for a column that has a NOT NULL constraint, SQL will raise a constraint violation error.\n",
        "\n",
        "For example, let's try to insert an artist without specifying a `Name`:"
      ],
      "metadata": {
        "id": "SnDlLNZQbk8E"
      }
    },
    {
      "cell_type": "code",
      "source": [
        "%%sql\n",
        "INSERT INTO Artist (ArtistID, Country, Founded)\n",
        "VALUES (21, 'United States', 1980);"
      ],
      "metadata": {
        "colab": {
          "base_uri": "https://localhost:8080/"
        },
        "id": "Rx70dHsXblo9",
        "outputId": "deafc14d-9541-45d1-d0d6-a079b53d349a"
      },
      "execution_count": null,
      "outputs": [
        {
          "output_type": "stream",
          "name": "stdout",
          "text": [
            " * sqlite:///greatest.db\n",
            "(sqlite3.IntegrityError) NOT NULL constraint failed: Artist.Name\n",
            "[SQL: INSERT INTO Artist (ArtistID, Country, Founded)\n",
            "VALUES (21, 'United States', 1980);]\n",
            "(Background on this error at: https://sqlalche.me/e/20/gkpj)\n"
          ]
        }
      ]
    },
    {
      "cell_type": "markdown",
      "source": [
        "Since the `Name` column in the `Artist` table has a NOT NULL constraint, this insertion will fail with an error message indicating a NOT NULL constraint violation.\n",
        "\n",
        "When constraint violations occur, the entire `INSERT INTO` statement is rolled back, and no data is inserted into the table. This ensures that the database remains in a consistent state and maintains data integrity.\n",
        "\n",
        "To handle constraint violations, you can:\n",
        "\n",
        "-   Modify the data being inserted to satisfy the constraints.\n",
        "-   Update the table structure or constraints to accommodate the data.\n",
        "-   Catch and handle the specific error messages in your application code.\n",
        "\n",
        "By understanding and properly handling constraint violations, you can ensure that only valid and consistent data is inserted into your database tables."
      ],
      "metadata": {
        "id": "cApd9i-hbeyN"
      }
    },
    {
      "cell_type": "markdown",
      "source": [
        "### Auto-incrementing Primary Keys\n",
        "As we just saw, SQL will generally produce an error if you fail to provide values for a `NOT NULL` column. One exception to this is for integer primary keys with an `AUTOINCREMENT` option (such as `ArtistId` and `AlbumId`). If you leave this out of an insert statement, SQL will assign the *next available integer as a primary key.\n",
        "\n",
        "Here's an example:\n"
      ],
      "metadata": {
        "id": "_FYoAUhbb6ig"
      }
    },
    {
      "cell_type": "code",
      "source": [
        "%%sql\n",
        "--Inserting without specifying primary key\n",
        "INSERT INTO Artist (Name, Country, Founded)\n",
        "VALUES ('Pink Floyd', 'United Kingdom', 1962);"
      ],
      "metadata": {
        "colab": {
          "base_uri": "https://localhost:8080/"
        },
        "id": "NB2H05ctctdq",
        "outputId": "898d814a-f2f9-4168-c670-8d0617b5812f"
      },
      "execution_count": null,
      "outputs": [
        {
          "output_type": "stream",
          "name": "stdout",
          "text": [
            " * sqlite:///greatest.db\n",
            "1 rows affected.\n"
          ]
        },
        {
          "output_type": "execute_result",
          "data": {
            "text/plain": [
              "[]"
            ]
          },
          "metadata": {},
          "execution_count": 11
        }
      ]
    },
    {
      "cell_type": "code",
      "source": [
        "%%sql\n",
        "SELECT *\n",
        "FROM Artist\n",
        "WHERE Name = \"Pink Floyd\";"
      ],
      "metadata": {
        "colab": {
          "base_uri": "https://localhost:8080/",
          "height": 95
        },
        "id": "cl7gO-racyEe",
        "outputId": "f3c6fab1-0b96-4bc8-889c-e8174c7a7dab"
      },
      "execution_count": null,
      "outputs": [
        {
          "output_type": "stream",
          "name": "stdout",
          "text": [
            " * sqlite:///greatest.db\n",
            "Done.\n"
          ]
        },
        {
          "output_type": "execute_result",
          "data": {
            "text/plain": [
              "[(20, 'Pink Floyd', 'United Kingdom', 1962)]"
            ],
            "text/html": [
              "<table>\n",
              "    <thead>\n",
              "        <tr>\n",
              "            <th>ArtistID</th>\n",
              "            <th>Name</th>\n",
              "            <th>Country</th>\n",
              "            <th>Founded</th>\n",
              "        </tr>\n",
              "    </thead>\n",
              "    <tbody>\n",
              "        <tr>\n",
              "            <td>20</td>\n",
              "            <td>Pink Floyd</td>\n",
              "            <td>United Kingdom</td>\n",
              "            <td>1962</td>\n",
              "        </tr>\n",
              "    </tbody>\n",
              "</table>"
            ]
          },
          "metadata": {},
          "execution_count": 12
        }
      ]
    },
    {
      "cell_type": "markdown",
      "source": [
        "## Deleting Data\n",
        "\n",
        "When working with databases, there may be situations where you need to remove data from tables. In SQL, the `DELETE` statement is used to delete rows from a table based on specified conditions. It's important to understand how to use the `DELETE` statement effectively and handle the deletion of related data to maintain data integrity.\n",
        "\n",
        "Let's start by inserting some sample data into our `Artist` and `Album` tables. We'll insert a fake artist named \"The Terrible Trio\" and a few terrible albums associated with this artist.\n",
        "\n",
        "First, let's insert the fake artist into the `Artist` table:"
      ],
      "metadata": {
        "id": "8E9Ip94fbDRo"
      }
    },
    {
      "cell_type": "code",
      "source": [
        "%%sql\n",
        "INSERT INTO Artist (Name, Country, Founded)\n",
        "VALUES ('The Terrible Trio', 'Nowhere', 2020);"
      ],
      "metadata": {
        "colab": {
          "base_uri": "https://localhost:8080/"
        },
        "id": "bioevH3yhuFI",
        "outputId": "4880b287-7852-4220-df8d-f6e92c10862f"
      },
      "execution_count": null,
      "outputs": [
        {
          "output_type": "stream",
          "name": "stdout",
          "text": [
            " * sqlite:///greatest.db\n",
            "1 rows affected.\n"
          ]
        },
        {
          "output_type": "execute_result",
          "data": {
            "text/plain": [
              "[]"
            ]
          },
          "metadata": {},
          "execution_count": 13
        }
      ]
    },
    {
      "cell_type": "markdown",
      "source": [
        "Now, let's insert some terrible albums. We'll use a subquery to find the ArtistID for the \"Terrible Trio.\""
      ],
      "metadata": {
        "id": "JLGAvYRahySI"
      }
    },
    {
      "cell_type": "code",
      "source": [
        "%%sql\n",
        "-- Inserting albums\n",
        "INSERT INTO Album (Title, ArtistID, ReleaseYear, Genre)\n",
        "VALUES\n",
        "    ('Awful Anthems', (SELECT ArtistID FROM Artist WHERE Name = 'The Terrible Trio'), 2005, 'Noise'),\n",
        "    ('Cringeworthy Chronicles', (SELECT ArtistID FROM Artist WHERE Name = 'The Terrible Trio'), 2010, 'Cacophony'),\n",
        "    ('Disastrous Ditties', (SELECT ArtistID FROM Artist WHERE Name = 'The Terrible Trio'), 2015, 'Racket');"
      ],
      "metadata": {
        "colab": {
          "base_uri": "https://localhost:8080/"
        },
        "id": "rTQQiJ9Ph1S1",
        "outputId": "71545bd3-9355-45b7-978e-442c9b49f0fe"
      },
      "execution_count": null,
      "outputs": [
        {
          "output_type": "stream",
          "name": "stdout",
          "text": [
            " * sqlite:///greatest.db\n",
            "3 rows affected.\n"
          ]
        },
        {
          "output_type": "execute_result",
          "data": {
            "text/plain": [
              "[]"
            ]
          },
          "metadata": {},
          "execution_count": 14
        }
      ]
    },
    {
      "cell_type": "markdown",
      "source": [
        "Let's assure ourselves that these albums have been added."
      ],
      "metadata": {
        "id": "L65hMNJ9h67t"
      }
    },
    {
      "cell_type": "code",
      "source": [
        "%%sql\n",
        "SELECT\n",
        "  al.Title,\n",
        "  al.AlbumID,\n",
        "  ar.Name AS Artist,\n",
        "  ar.ArtistID\n",
        "FROM\n",
        "  Album al\n",
        "  JOIN Artist ar ON al.ArtistID = ar.ArtistID\n",
        "WHERE ar.Name = 'The Terrible Trio';"
      ],
      "metadata": {
        "colab": {
          "base_uri": "https://localhost:8080/",
          "height": 137
        },
        "id": "0ZGVkt1jh_TA",
        "outputId": "45088c4c-819e-499a-a4ca-8b249796f733"
      },
      "execution_count": null,
      "outputs": [
        {
          "output_type": "stream",
          "name": "stdout",
          "text": [
            " * sqlite:///greatest.db\n",
            "Done.\n"
          ]
        },
        {
          "output_type": "execute_result",
          "data": {
            "text/plain": [
              "[('Awful Anthems', 21, 'The Terrible Trio', 21),\n",
              " ('Cringeworthy Chronicles', 22, 'The Terrible Trio', 21),\n",
              " ('Disastrous Ditties', 23, 'The Terrible Trio', 21)]"
            ],
            "text/html": [
              "<table>\n",
              "    <thead>\n",
              "        <tr>\n",
              "            <th>Title</th>\n",
              "            <th>AlbumID</th>\n",
              "            <th>Artist</th>\n",
              "            <th>ArtistID</th>\n",
              "        </tr>\n",
              "    </thead>\n",
              "    <tbody>\n",
              "        <tr>\n",
              "            <td>Awful Anthems</td>\n",
              "            <td>21</td>\n",
              "            <td>The Terrible Trio</td>\n",
              "            <td>21</td>\n",
              "        </tr>\n",
              "        <tr>\n",
              "            <td>Cringeworthy Chronicles</td>\n",
              "            <td>22</td>\n",
              "            <td>The Terrible Trio</td>\n",
              "            <td>21</td>\n",
              "        </tr>\n",
              "        <tr>\n",
              "            <td>Disastrous Ditties</td>\n",
              "            <td>23</td>\n",
              "            <td>The Terrible Trio</td>\n",
              "            <td>21</td>\n",
              "        </tr>\n",
              "    </tbody>\n",
              "</table>"
            ]
          },
          "metadata": {},
          "execution_count": 15
        }
      ]
    },
    {
      "cell_type": "markdown",
      "source": [
        "### Basic DELETE Statement\n",
        "\n",
        "The basic syntax of the `DELETE` statement is as follows:\n",
        "\n",
        "```sql\n",
        "DELETE FROM table_name\n",
        "WHERE condition;\n",
        "```\n",
        "\n",
        "-   `table_name`: The name of the table from which you want to delete rows.\n",
        "-   `condition`: Specifies the condition that determines which rows will be deleted. If omitted, all rows in the table will be deleted.\n",
        "\n",
        "For example, to delete the album \"Awful Anthems\" from the `Album` table, you can use the following statement:"
      ],
      "metadata": {
        "id": "fAOoS0GEiuGf"
      }
    },
    {
      "cell_type": "code",
      "source": [
        "%%sql\n",
        "DELETE FROM Album\n",
        "WHERE Title = 'Awful Anthems';"
      ],
      "metadata": {
        "colab": {
          "base_uri": "https://localhost:8080/"
        },
        "id": "XjK7Plgyi9s0",
        "outputId": "9aa29f50-5062-4816-a436-ee2cd46b8c70"
      },
      "execution_count": null,
      "outputs": [
        {
          "output_type": "stream",
          "name": "stdout",
          "text": [
            " * sqlite:///greatest.db\n",
            "1 rows affected.\n"
          ]
        },
        {
          "output_type": "execute_result",
          "data": {
            "text/plain": [
              "[]"
            ]
          },
          "metadata": {},
          "execution_count": 16
        }
      ]
    },
    {
      "cell_type": "code",
      "source": [
        "%%sql\n",
        "--Check that album is deleted\n",
        "SELECT * FROM Album WHERE Title = 'Awful Anthems';"
      ],
      "metadata": {
        "colab": {
          "base_uri": "https://localhost:8080/",
          "height": 74
        },
        "id": "vgfV8GgwjC-5",
        "outputId": "af422d34-82c5-416a-dfe5-94318aa52dea"
      },
      "execution_count": null,
      "outputs": [
        {
          "output_type": "stream",
          "name": "stdout",
          "text": [
            " * sqlite:///greatest.db\n",
            "Done.\n"
          ]
        },
        {
          "output_type": "execute_result",
          "data": {
            "text/plain": [
              "[]"
            ],
            "text/html": [
              "<table>\n",
              "    <thead>\n",
              "        <tr>\n",
              "            <th>AlbumID</th>\n",
              "            <th>Title</th>\n",
              "            <th>ArtistID</th>\n",
              "            <th>ReleaseYear</th>\n",
              "            <th>Genre</th>\n",
              "            <th>Ranking</th>\n",
              "        </tr>\n",
              "    </thead>\n",
              "    <tbody>\n",
              "    </tbody>\n",
              "</table>"
            ]
          },
          "metadata": {},
          "execution_count": 17
        }
      ]
    },
    {
      "cell_type": "markdown",
      "source": [
        "### Deleting Related Data\n",
        "\n",
        "When deleting data from a table that has related data in other tables, you need to consider the foreign key constraints and how to handle the deletion of related records.\n",
        "\n",
        "In our example, the `Album` table has a foreign key constraint on the `ArtistID` column that references the `ArtistID` column in the `Artist` table. This means that each album is associated with an artist."
      ],
      "metadata": {
        "id": "2x8npKrkjTJC"
      }
    },
    {
      "cell_type": "code",
      "source": [
        "%%sql\n",
        "-- This will fail\n",
        "DELETE FROM Artist\n",
        "WHERE Name = \"The Terrible Trio\";"
      ],
      "metadata": {
        "colab": {
          "base_uri": "https://localhost:8080/"
        },
        "id": "rtIJ45ZpjUHx",
        "outputId": "d4a2aaee-5e93-482b-efc5-c51119dbe611"
      },
      "execution_count": null,
      "outputs": [
        {
          "output_type": "stream",
          "name": "stdout",
          "text": [
            " * sqlite:///greatest.db\n",
            "(sqlite3.IntegrityError) FOREIGN KEY constraint failed\n",
            "[SQL: -- This will fail\n",
            "DELETE FROM Artist\n",
            "WHERE Name = \"The Terrible Trio\";]\n",
            "(Background on this error at: https://sqlalche.me/e/20/gkpj)\n"
          ]
        }
      ]
    },
    {
      "cell_type": "markdown",
      "source": [
        "In order to deal with with this problem, you have a few different options.\n",
        "\n"
      ],
      "metadata": {
        "id": "7sl-__RWmCMZ"
      }
    },
    {
      "cell_type": "markdown",
      "source": [
        "### Manual Deletion\n",
        "The most straightforward to way to do this deletion is to:\n",
        "1. Delete the related albums from the Album table first.\n",
        "2. Second, delete the artist from the Artist table.\n",
        "\n",
        "```sql\n",
        "--Delete albums\n",
        "DELETE FROM Album WHERE ArtistID = (SELECT ArtistID FROM Artist WHERE Name = 'The Terrible Trio');\n",
        "\n",
        "--Delete artist\n",
        "DELETE FROM Artist WHERE Name = 'The Terrible Trio';\n",
        "```\n",
        "\n",
        "### ON DELETE CASCADE\n",
        "\n",
        "The `ON DELETE CASCADE` option is used to automatically delete related records from a child table when a record in the parent table is deleted. It ensures data consistency and maintains referential integrity by cascading the delete operation to the associated records.\n",
        "\n",
        "When you define a foreign key constraint with `ON DELETE CASCADE`, deleting a record from the parent table will automatically delete all the related records in the child table that reference the deleted parent record.\n",
        "\n",
        "To set up `ON DELETE CASCADE`, you include it in the foreign key constraint definition when creating the child table:\n",
        "\n",
        "```sql\n",
        "CREATE TABLE Artist(\n",
        "  -- define all your columms\n",
        "  ...\n",
        "  FOREIGN KEY (ArtistID) REFERENCES Artist(ArtistID) ON DELETE CASCADE\n",
        ")\n",
        "```\n",
        "\n",
        "By adding this line to the foreign key constraint, you instruct the database to cascade the delete operation from the parent table (`Artist`) to the child table (`Album`) when an artist is deleted.\n",
        "\n",
        "With this option set, you can delete an artist and its related albums using a single DELETE statement:\n",
        "\n",
        "```sql\n",
        "DELETE FROM Artist WHERE Name = 'The Terrible Trio';\n",
        "```\n",
        "\n",
        "### ON DELETE SET NULL\n",
        "\n",
        "The `ON DELETE SET NULL` option is used to automatically set the foreign key values in the child table to `NULL` when a record in the parent table is deleted. It allows you to maintain the child records even if the associated parent record is removed.\n",
        "\n",
        "When you define a foreign key constraint with `ON DELETE SET NULL`, deleting a record from the parent table will set the foreign key values in the child table to `NULL` for the related records.\n",
        "\n",
        "To set up `ON DELETE SET NULL`, you include it in the foreign key constraint definition when creating the child table:\n",
        "\n",
        "```sql\n",
        "CREATE TABLE Artist(\n",
        "  -- define all your columms\n",
        "  ...\n",
        "  FOREIGN KEY (ArtistID) REFERENCES Artist(ArtistID) ON DELETE SET NULL\n",
        ")\n",
        "\n",
        "```\n",
        "By adding this line to the foreign key constraint, you instruct the database to set the `ArtistID` values in the `Album` table to `NULL` when an artist is deleted from the `Artist` table.\n",
        "\n",
        "### Choosing Between ON DELETE CASCADE, ON DELETE SET NULL, and no action\n",
        "\n",
        "The choice between `ON DELETE CASCADE` and `ON DELETE SET NULL` depends on your application's requirements and data integrity rules.\n",
        "\n",
        "-   Use `ON DELETE CASCADE` when you want to ensure that related records in the child table are automatically deleted when a parent record is deleted. This option maintains strict referential integrity and removes all associated data.\n",
        "-   Use `ON DELETE SET NULL` when you want to keep the related records in the child table even if the parent record is deleted. This option allows you to maintain the child records but sets the foreign key values to `NULL`, indicating that they are no longer associated with a valid parent record.\n",
        "\n",
        "It's important to consider the implications of each option. `ON DELETE CASCADE` permanently deletes related data, which may not be desirable in all scenarios. `ON DELETE SET NULL` keeps the related records but with a `NULL` foreign key value, which may require additional handling in your application.\n",
        "\n",
        "If you don't specify either `ON DELETE CASCADE` or `ON DELETE SET NULL`, the default behavior is to restrict the deletion of a parent record if there are related records in the child table. In this case, you would need to manually delete the related records from the child table before deleting the parent record."
      ],
      "metadata": {
        "id": "oP6POS5jmz8b"
      }
    },
    {
      "cell_type": "markdown",
      "source": [
        "### Deleting All Data versus Dropping a Table\n",
        "\n",
        "As we've seen, the **`DELETE FROM`** command is used to remove rows from a table. This operation can be selective or comprehensive. For example, if you only want to delete rows that meet certain criteria, you use a **`WHERE`** clause with your **`DELETE`** statement. Without a **`WHERE`** clause, **`DELETE`** will remove all rows in the table, but importantly, the table's structure remains untouched.  So, If you decide to remove all albums from the **`albums`** table, you simply omit the **`WHERE`** clause:\n",
        "\n",
        "```sql\n",
        "DELETE FROM Albums;\n",
        "```\n",
        "\n",
        "This action clears all data from the **`albums`** table but keeps its structure intact for future use. You can still add new albums to it or modify its structure later.\n",
        "\n",
        "One significant aspect of **`DELETE`** operations is that they are logged row by row in the database's transaction log. This means each row deletion is recorded, allowing for the possibility to undo the deletions if the operation is part of a transaction. However, this logging can make **`DELETE`** operations slower when dealing with a large number of rows.\n",
        "\n",
        "The **`DROP TABLE`** command, in contrast, is much more drastic. When you execute a **`DROP TABLE`** statement, you remove the entire table from the database. This includes not just the data but the table's structure, its columns, indexes, and any constraints defined on it.\n",
        "\n",
        "For instance, if you decide that the **`artists`** table is no longer needed and you want to erase it entirely from the database, you would use:\n",
        "\n",
        "```sql\n",
        "DROP TABLE Artists;\n",
        "```\n",
        "\n",
        "Executing this command means the **`artists`** table is deleted. The table, along with all its data and structure, is permanently removed from the database. Unlike **`DELETE`**, **`DROP TABLE`** does not log individual row deletions because it doesn't process each row; it removes the table as a whole. This makes **`DROP TABLE`** a fast operation but with the significant caveat that it is typically irreversible through standard SQL commands. Once a table is dropped, you cannot simply undo the action unless you have backups or specific database recovery tools in place."
      ],
      "metadata": {
        "id": "fRfYvstVqJb3"
      }
    },
    {
      "cell_type": "markdown",
      "source": [
        "## UPDATE\n",
        "\n",
        "The `UPDATE` statement in SQL is used to modify existing data in a table. It allows you to change the values of one or more columns in one or more rows based on specified conditions. The basic syntax of the `UPDATE` statement is as follows:\n",
        "\n",
        "```sql\n",
        "UPDATE table_name\n",
        "SET column1 = value1, column2 = value2, ...\n",
        "WHERE condition;\n",
        "```\n",
        "\n",
        "-   `table_name`: The name of the table you want to update.\n",
        "-   `column1, column2, ...`: The columns you want to modify and their new values.\n",
        "-   `condition`: Optional. Specifies the condition that determines which rows will be updated. If omitted, all rows in the table will be updated.\n",
        "\n",
        "Let's look at a concrete example using our `Artist` and `Album` tables.\n",
        "\n",
        "Suppose we want to update the name of the artist \"Bob Dylan\" to \"Robert Zimmerman\"."
      ],
      "metadata": {
        "id": "i58RJSZH9ved"
      }
    },
    {
      "cell_type": "code",
      "source": [
        "%%sql\n",
        "UPDATE Artist\n",
        "SET Name = 'Robert Zimmerman'\n",
        "WHERE Name = 'Bob Dylan';"
      ],
      "metadata": {
        "id": "Td3deAk19aTn",
        "outputId": "9f66ea12-e894-433b-bd13-fea5caeba9c8",
        "colab": {
          "base_uri": "https://localhost:8080/"
        }
      },
      "execution_count": null,
      "outputs": [
        {
          "output_type": "stream",
          "name": "stdout",
          "text": [
            " * sqlite:///greatest.db\n",
            "1 rows affected.\n"
          ]
        },
        {
          "output_type": "execute_result",
          "data": {
            "text/plain": [
              "[]"
            ]
          },
          "metadata": {},
          "execution_count": 19
        }
      ]
    },
    {
      "cell_type": "code",
      "source": [
        "%%sql\n",
        "-- Confirm our change\n",
        "SELECT * FROM Artist WHERE Name = 'Robert Zimmerman'"
      ],
      "metadata": {
        "colab": {
          "base_uri": "https://localhost:8080/",
          "height": 95
        },
        "id": "tBNTReRcqE_m",
        "outputId": "7044edf9-c882-4713-b231-6b03deed8b07"
      },
      "execution_count": null,
      "outputs": [
        {
          "output_type": "stream",
          "name": "stdout",
          "text": [
            " * sqlite:///greatest.db\n",
            "Done.\n"
          ]
        },
        {
          "output_type": "execute_result",
          "data": {
            "text/plain": [
              "[(8, 'Robert Zimmerman', 'United States', 1961)]"
            ],
            "text/html": [
              "<table>\n",
              "    <thead>\n",
              "        <tr>\n",
              "            <th>ArtistID</th>\n",
              "            <th>Name</th>\n",
              "            <th>Country</th>\n",
              "            <th>Founded</th>\n",
              "        </tr>\n",
              "    </thead>\n",
              "    <tbody>\n",
              "        <tr>\n",
              "            <td>8</td>\n",
              "            <td>Robert Zimmerman</td>\n",
              "            <td>United States</td>\n",
              "            <td>1961</td>\n",
              "        </tr>\n",
              "    </tbody>\n",
              "</table>"
            ]
          },
          "metadata": {},
          "execution_count": 20
        }
      ]
    },
    {
      "cell_type": "markdown",
      "source": [
        "You can also update multiple columns in a single UPDATE statement by separating the column-value pairs with commas. For example, let's update the Prince's name to \"?\" and his County to \"Minnesota, United States.\""
      ],
      "metadata": {
        "id": "JD2teyYa-Alu"
      }
    },
    {
      "cell_type": "code",
      "source": [
        "%%sql\n",
        "UPDATE Artist\n",
        "SET Name = '?', Country = 'Minnesota, United States'\n",
        "WHERE Name = 'Prince';"
      ],
      "metadata": {
        "id": "FjhYCXLq-sSE",
        "outputId": "c5cb3e1f-cb9c-4c0d-c422-508dced1c4c7",
        "colab": {
          "base_uri": "https://localhost:8080/"
        }
      },
      "execution_count": null,
      "outputs": [
        {
          "output_type": "stream",
          "name": "stdout",
          "text": [
            " * sqlite:///greatest.db\n",
            "1 rows affected.\n"
          ]
        },
        {
          "output_type": "execute_result",
          "data": {
            "text/plain": [
              "[]"
            ]
          },
          "metadata": {},
          "execution_count": 21
        }
      ]
    },
    {
      "cell_type": "code",
      "source": [
        "%%sql\n",
        "-- Confirm our change\n",
        "SELECT * FROM Artist WHERE Name = '?'"
      ],
      "metadata": {
        "id": "fgLD2jQ4-vke",
        "outputId": "947aa358-9d9e-461d-ca90-3552585bb976",
        "colab": {
          "base_uri": "https://localhost:8080/",
          "height": 95
        }
      },
      "execution_count": null,
      "outputs": [
        {
          "output_type": "stream",
          "name": "stdout",
          "text": [
            " * sqlite:///greatest.db\n",
            "Done.\n"
          ]
        },
        {
          "output_type": "execute_result",
          "data": {
            "text/plain": [
              "[(7, '?', 'Minnesota, United States', 1975)]"
            ],
            "text/html": [
              "<table>\n",
              "    <thead>\n",
              "        <tr>\n",
              "            <th>ArtistID</th>\n",
              "            <th>Name</th>\n",
              "            <th>Country</th>\n",
              "            <th>Founded</th>\n",
              "        </tr>\n",
              "    </thead>\n",
              "    <tbody>\n",
              "        <tr>\n",
              "            <td>7</td>\n",
              "            <td>?</td>\n",
              "            <td>Minnesota, United States</td>\n",
              "            <td>1975</td>\n",
              "        </tr>\n",
              "    </tbody>\n",
              "</table>"
            ]
          },
          "metadata": {},
          "execution_count": 22
        }
      ]
    },
    {
      "cell_type": "markdown",
      "source": [
        "It's important to be cautious when using the `UPDATE` statement, especially if you omit the `WHERE` clause. Without a `WHERE` clause, the update will be applied to all rows in the table, which may lead to unintended changes.\n",
        "\n",
        "To update multiple rows based on a condition, you can use a more complex `WHERE` clause:"
      ],
      "metadata": {
        "id": "_SgyleYP-0xZ"
      }
    },
    {
      "cell_type": "code",
      "source": [
        "%%sql\n",
        "UPDATE Album\n",
        "SET ReleaseYear = ReleaseYear + 1\n",
        "WHERE ArtistID = 21;"
      ],
      "metadata": {
        "id": "v5CJFAjg-6wM",
        "outputId": "3ba4fa1a-e314-484d-d6aa-025f076be778",
        "colab": {
          "base_uri": "https://localhost:8080/"
        }
      },
      "execution_count": null,
      "outputs": [
        {
          "output_type": "stream",
          "name": "stdout",
          "text": [
            " * sqlite:///greatest.db\n",
            "2 rows affected.\n"
          ]
        },
        {
          "output_type": "execute_result",
          "data": {
            "text/plain": [
              "[]"
            ]
          },
          "metadata": {},
          "execution_count": 23
        }
      ]
    },
    {
      "cell_type": "code",
      "source": [
        "%%sql\n",
        "-- Confirm our change\n",
        "SELECT * FROM Album WHERE ArtistID = 21;"
      ],
      "metadata": {
        "id": "vjzJQjXY_-nP",
        "outputId": "affba033-f457-4639-91bf-084c4167bcb8",
        "colab": {
          "base_uri": "https://localhost:8080/",
          "height": 116
        }
      },
      "execution_count": null,
      "outputs": [
        {
          "output_type": "stream",
          "name": "stdout",
          "text": [
            " * sqlite:///greatest.db\n",
            "Done.\n"
          ]
        },
        {
          "output_type": "execute_result",
          "data": {
            "text/plain": [
              "[(22, 'Cringeworthy Chronicles', 21, 2011, 'Cacophony', None),\n",
              " (23, 'Disastrous Ditties', 21, 2016, 'Racket', None)]"
            ],
            "text/html": [
              "<table>\n",
              "    <thead>\n",
              "        <tr>\n",
              "            <th>AlbumID</th>\n",
              "            <th>Title</th>\n",
              "            <th>ArtistID</th>\n",
              "            <th>ReleaseYear</th>\n",
              "            <th>Genre</th>\n",
              "            <th>Ranking</th>\n",
              "        </tr>\n",
              "    </thead>\n",
              "    <tbody>\n",
              "        <tr>\n",
              "            <td>22</td>\n",
              "            <td>Cringeworthy Chronicles</td>\n",
              "            <td>21</td>\n",
              "            <td>2011</td>\n",
              "            <td>Cacophony</td>\n",
              "            <td>None</td>\n",
              "        </tr>\n",
              "        <tr>\n",
              "            <td>23</td>\n",
              "            <td>Disastrous Ditties</td>\n",
              "            <td>21</td>\n",
              "            <td>2016</td>\n",
              "            <td>Racket</td>\n",
              "            <td>None</td>\n",
              "        </tr>\n",
              "    </tbody>\n",
              "</table>"
            ]
          },
          "metadata": {},
          "execution_count": 24
        }
      ]
    },
    {
      "cell_type": "markdown",
      "source": [
        "This statement increments the `ReleaseYear` by 1 for all albums associated with the artist having `ArtistID` 21.\n",
        "\n",
        "Remember to always double-check your `UPDATE` statements and include appropriate `WHERE` conditions to ensure that you are modifying only the intended rows.\n",
        "\n",
        "The `UPDATE` statement is a powerful tool for modifying existing data in your database tables. It allows you to keep your data up to date and make necessary changes based on specific conditions."
      ],
      "metadata": {
        "id": "ZpAayc6X_YS0"
      }
    },
    {
      "cell_type": "markdown",
      "source": [
        "## Introduction to Soft Delete\n",
        "\n",
        "In database management, there are situations where you may want to keep records even after they are marked as deleted. Instead of permanently removing data from the database, you can implement a \"soft delete\" approach. Soft delete involves adding a column to the table that indicates whether a record is active or deleted, allowing you to retain historical data while still being able to filter out deleted records when querying the table.\n",
        "\n",
        "Let's explore the concept of soft delete using our example of the terrible trio artist and their albums.\n",
        "\n",
        "### Adding a Soft Delete Column\n",
        "\n",
        "To implement soft delete, we need to add a column to the `Artist` and `Album` tables that represents the deleted status of each record. We'll call this column `IsDeleted` and set its default value to `0` (indicating an active record)"
      ],
      "metadata": {
        "id": "lqoBoqYeobHU"
      }
    },
    {
      "cell_type": "code",
      "source": [
        "%%sql\n",
        "ALTER TABLE Artist ADD COLUMN IsDeleted INTEGER DEFAULT 0;\n",
        "ALTER TABLE Album ADD COLUMN IsDeleted INTEGER DEFAULT 0;"
      ],
      "metadata": {
        "colab": {
          "base_uri": "https://localhost:8080/"
        },
        "id": "9dWIa2MMob-B",
        "outputId": "34a9f70b-d3a9-4213-cd6d-1019775923c1"
      },
      "execution_count": null,
      "outputs": [
        {
          "output_type": "stream",
          "name": "stdout",
          "text": [
            " * sqlite:///greatest.db\n",
            "Done.\n",
            "Done.\n"
          ]
        },
        {
          "output_type": "execute_result",
          "data": {
            "text/plain": [
              "[]"
            ]
          },
          "metadata": {},
          "execution_count": 25
        }
      ]
    },
    {
      "cell_type": "markdown",
      "source": [
        "These statements add the `IsDeleted` column to the `Artist` and `Album` tables, respectively.\n",
        "\n",
        "### Soft Deleting Records\n",
        "\n",
        "Now, let's say we want to soft delete the artist \"The Terrible Trio\" and their albums. Instead of using the `DELETE` statement, we'll update the `IsDeleted` column to mark the records as deleted."
      ],
      "metadata": {
        "id": "39laxDnDoj7A"
      }
    },
    {
      "cell_type": "code",
      "source": [
        "%%sql\n",
        "UPDATE Artist SET IsDeleted = 1 WHERE Name = 'The Terrible Trio';\n",
        "UPDATE Album SET IsDeleted = 1 WHERE ArtistID = (SELECT ArtistID FROM Artist WHERE Name = 'The Terrible Trio');"
      ],
      "metadata": {
        "colab": {
          "base_uri": "https://localhost:8080/"
        },
        "id": "yudTI_vzjBFD",
        "outputId": "2c2a6fbf-a0ff-45bb-dac1-079052abf8ff"
      },
      "execution_count": null,
      "outputs": [
        {
          "output_type": "stream",
          "name": "stdout",
          "text": [
            " * sqlite:///greatest.db\n",
            "1 rows affected.\n",
            "2 rows affected.\n"
          ]
        },
        {
          "output_type": "execute_result",
          "data": {
            "text/plain": [
              "[]"
            ]
          },
          "metadata": {},
          "execution_count": 26
        }
      ]
    },
    {
      "cell_type": "markdown",
      "source": [
        "The first statement marks the artist \"The Terrible Trio\" as deleted by setting the `IsDeleted` column to `1`. The second statement marks all the albums associated with \"The Terrible Trio\" as deleted by setting their `IsDeleted` column to `1`.\n",
        "\n",
        "### Querying Soft Deleted Records\n",
        "\n",
        "When querying the `Artist` and `Album` tables, you can filter out the soft deleted records by adding a condition to check the `IsDeleted` column."
      ],
      "metadata": {
        "id": "tlLS-E8ioykW"
      }
    },
    {
      "cell_type": "code",
      "source": [
        "%%sql\n",
        "SELECT * FROM Artist WHERE IsDeleted = 0;"
      ],
      "metadata": {
        "colab": {
          "base_uri": "https://localhost:8080/",
          "height": 472
        },
        "id": "8eA4IVl-o57D",
        "outputId": "e1df9a68-93cf-4c8b-ca21-92660f8e6f16"
      },
      "execution_count": null,
      "outputs": [
        {
          "output_type": "stream",
          "name": "stdout",
          "text": [
            " * sqlite:///greatest.db\n",
            "Done.\n"
          ]
        },
        {
          "output_type": "execute_result",
          "data": {
            "text/plain": [
              "[(1, 'Marvin Gaye', 'United States', 1939, 0),\n",
              " (2, 'The Beach Boys', 'United States', 1961, 0),\n",
              " (3, 'Joni Mitchell', 'Canada', 1964, 0),\n",
              " (4, 'Stevie Wonder', 'United States', 1961, 0),\n",
              " (5, 'Nirvana', 'United States', 1987, 0),\n",
              " (6, 'Fleetwood Mac', 'United Kingdom', 1967, 0),\n",
              " (7, '?', 'Minnesota, United States', 1975, 0),\n",
              " (8, 'Robert Zimmerman', 'United States', 1961, 0),\n",
              " (9, 'Lauryn Hill', 'United States', 1988, 0),\n",
              " (10, 'The Beatles', 'United Kingdom', 1960, 0),\n",
              " (11, 'Radiohead', 'United Kingdom', 1985, 0),\n",
              " (12, 'Kendrick Lamar', 'United States', 2003, 0),\n",
              " (13, 'Public Enemy', 'United States', 1985, 0),\n",
              " (14, 'The Rolling Stones', 'United Kingdom', 1962, 0),\n",
              " (15, 'Aretha Franklin', 'United States', 1956, 0),\n",
              " (16, 'Michael Jackson', 'United States', 1964, 0),\n",
              " (17, 'Kanye West', 'United States', 1996, 0),\n",
              " (19, 'The Clash', 'United Kingdom', 1976, 0),\n",
              " (20, 'Pink Floyd', 'United Kingdom', 1962, 0)]"
            ],
            "text/html": [
              "<table>\n",
              "    <thead>\n",
              "        <tr>\n",
              "            <th>ArtistID</th>\n",
              "            <th>Name</th>\n",
              "            <th>Country</th>\n",
              "            <th>Founded</th>\n",
              "            <th>IsDeleted</th>\n",
              "        </tr>\n",
              "    </thead>\n",
              "    <tbody>\n",
              "        <tr>\n",
              "            <td>1</td>\n",
              "            <td>Marvin Gaye</td>\n",
              "            <td>United States</td>\n",
              "            <td>1939</td>\n",
              "            <td>0</td>\n",
              "        </tr>\n",
              "        <tr>\n",
              "            <td>2</td>\n",
              "            <td>The Beach Boys</td>\n",
              "            <td>United States</td>\n",
              "            <td>1961</td>\n",
              "            <td>0</td>\n",
              "        </tr>\n",
              "        <tr>\n",
              "            <td>3</td>\n",
              "            <td>Joni Mitchell</td>\n",
              "            <td>Canada</td>\n",
              "            <td>1964</td>\n",
              "            <td>0</td>\n",
              "        </tr>\n",
              "        <tr>\n",
              "            <td>4</td>\n",
              "            <td>Stevie Wonder</td>\n",
              "            <td>United States</td>\n",
              "            <td>1961</td>\n",
              "            <td>0</td>\n",
              "        </tr>\n",
              "        <tr>\n",
              "            <td>5</td>\n",
              "            <td>Nirvana</td>\n",
              "            <td>United States</td>\n",
              "            <td>1987</td>\n",
              "            <td>0</td>\n",
              "        </tr>\n",
              "        <tr>\n",
              "            <td>6</td>\n",
              "            <td>Fleetwood Mac</td>\n",
              "            <td>United Kingdom</td>\n",
              "            <td>1967</td>\n",
              "            <td>0</td>\n",
              "        </tr>\n",
              "        <tr>\n",
              "            <td>7</td>\n",
              "            <td>?</td>\n",
              "            <td>Minnesota, United States</td>\n",
              "            <td>1975</td>\n",
              "            <td>0</td>\n",
              "        </tr>\n",
              "        <tr>\n",
              "            <td>8</td>\n",
              "            <td>Robert Zimmerman</td>\n",
              "            <td>United States</td>\n",
              "            <td>1961</td>\n",
              "            <td>0</td>\n",
              "        </tr>\n",
              "        <tr>\n",
              "            <td>9</td>\n",
              "            <td>Lauryn Hill</td>\n",
              "            <td>United States</td>\n",
              "            <td>1988</td>\n",
              "            <td>0</td>\n",
              "        </tr>\n",
              "        <tr>\n",
              "            <td>10</td>\n",
              "            <td>The Beatles</td>\n",
              "            <td>United Kingdom</td>\n",
              "            <td>1960</td>\n",
              "            <td>0</td>\n",
              "        </tr>\n",
              "        <tr>\n",
              "            <td>11</td>\n",
              "            <td>Radiohead</td>\n",
              "            <td>United Kingdom</td>\n",
              "            <td>1985</td>\n",
              "            <td>0</td>\n",
              "        </tr>\n",
              "        <tr>\n",
              "            <td>12</td>\n",
              "            <td>Kendrick Lamar</td>\n",
              "            <td>United States</td>\n",
              "            <td>2003</td>\n",
              "            <td>0</td>\n",
              "        </tr>\n",
              "        <tr>\n",
              "            <td>13</td>\n",
              "            <td>Public Enemy</td>\n",
              "            <td>United States</td>\n",
              "            <td>1985</td>\n",
              "            <td>0</td>\n",
              "        </tr>\n",
              "        <tr>\n",
              "            <td>14</td>\n",
              "            <td>The Rolling Stones</td>\n",
              "            <td>United Kingdom</td>\n",
              "            <td>1962</td>\n",
              "            <td>0</td>\n",
              "        </tr>\n",
              "        <tr>\n",
              "            <td>15</td>\n",
              "            <td>Aretha Franklin</td>\n",
              "            <td>United States</td>\n",
              "            <td>1956</td>\n",
              "            <td>0</td>\n",
              "        </tr>\n",
              "        <tr>\n",
              "            <td>16</td>\n",
              "            <td>Michael Jackson</td>\n",
              "            <td>United States</td>\n",
              "            <td>1964</td>\n",
              "            <td>0</td>\n",
              "        </tr>\n",
              "        <tr>\n",
              "            <td>17</td>\n",
              "            <td>Kanye West</td>\n",
              "            <td>United States</td>\n",
              "            <td>1996</td>\n",
              "            <td>0</td>\n",
              "        </tr>\n",
              "        <tr>\n",
              "            <td>19</td>\n",
              "            <td>The Clash</td>\n",
              "            <td>United Kingdom</td>\n",
              "            <td>1976</td>\n",
              "            <td>0</td>\n",
              "        </tr>\n",
              "        <tr>\n",
              "            <td>20</td>\n",
              "            <td>Pink Floyd</td>\n",
              "            <td>United Kingdom</td>\n",
              "            <td>1962</td>\n",
              "            <td>0</td>\n",
              "        </tr>\n",
              "    </tbody>\n",
              "</table>"
            ]
          },
          "metadata": {},
          "execution_count": 27
        }
      ]
    },
    {
      "cell_type": "markdown",
      "source": [
        "### Restoring Soft Deleted Records\n",
        "One of the advantages of soft delete is the ability to restore deleted records if needed. To restore a soft deleted record, you can update the IsDeleted column back to 0."
      ],
      "metadata": {
        "id": "CPsry-7ioytG"
      }
    },
    {
      "cell_type": "code",
      "source": [
        "%%sql\n",
        "UPDATE Artist SET IsDeleted = 0 WHERE Name = 'The Terrible Trio';\n",
        "UPDATE Album SET IsDeleted = 0 WHERE ArtistID = (SELECT ArtistID FROM Artist WHERE Name = 'The Terrible Trio');"
      ],
      "metadata": {
        "colab": {
          "base_uri": "https://localhost:8080/"
        },
        "id": "AHJpdxIFp8R1",
        "outputId": "2bb410ab-0d76-49d6-8b35-ab7b5c121360"
      },
      "execution_count": null,
      "outputs": [
        {
          "output_type": "stream",
          "name": "stdout",
          "text": [
            " * sqlite:///greatest.db\n",
            "1 rows affected.\n",
            "2 rows affected.\n"
          ]
        },
        {
          "output_type": "execute_result",
          "data": {
            "text/plain": [
              "[]"
            ]
          },
          "metadata": {},
          "execution_count": 28
        }
      ]
    },
    {
      "cell_type": "markdown",
      "source": [
        "These statements restore the artist \"The Terrible Trio\" and their associated albums by setting the `IsDeleted` column back to `0`.\n",
        "\n",
        "### Considerations\n",
        "\n",
        "When implementing soft delete, keep in mind the following considerations:\n",
        "\n",
        "-   Soft delete adds an overhead to your queries, as you need to include the `IsDeleted` condition in your `WHERE` clauses to filter out deleted records.\n",
        "-   Soft deleted records still occupy space in the database, so you need to have a strategy for eventually purging them if necessary.\n",
        "-   If you have foreign key constraints, you may need to handle soft deletion carefully to maintain data integrity. You can consider using `ON DELETE SET NULL` or `ON UPDATE CASCADE` to manage the relationships between soft deleted records.\n",
        "\n",
        "Soft delete provides a flexible approach to data deletion, allowing you to retain historical data while still being able to manage deleted records effectivel"
      ],
      "metadata": {
        "id": "Y1TV3KWkqENe"
      }
    },
    {
      "cell_type": "code",
      "source": [
        "%%sql\n",
        "-- Let's get rid of our soft delete column\n",
        "ALTER TABLE Artist DROP COLUMN IsDeleted;\n",
        "ALTER TABLE Album DROP COLUMN IsDeleted;"
      ],
      "metadata": {
        "id": "rpBcHuGvK9nZ",
        "outputId": "4ac16c12-501b-49f0-d773-9d5bc8c1a76a",
        "colab": {
          "base_uri": "https://localhost:8080/"
        }
      },
      "execution_count": null,
      "outputs": [
        {
          "output_type": "stream",
          "name": "stdout",
          "text": [
            " * sqlite:///greatest.db\n",
            "Done.\n",
            "Done.\n"
          ]
        },
        {
          "output_type": "execute_result",
          "data": {
            "text/plain": [
              "[]"
            ]
          },
          "metadata": {},
          "execution_count": 29
        }
      ]
    },
    {
      "cell_type": "markdown",
      "source": [
        "## Triggers\n",
        "\n",
        "Triggers are special types of stored procedures in SQL that are automatically executed in response to specific events or actions on a table, such as `INSERT`, `UPDATE`, or `DELETE` operations. Triggers allow you to enforce business rules, maintain data integrity, and perform additional actions before or after the triggering event occurs.\n",
        "\n",
        "In SQLite, you can create triggers using the `CREATE TRIGGER` statement. The basic syntax for creating a trigger is as follows:\n",
        "\n",
        "```sql\n",
        "CREATE TRIGGER (IF NOT EXISTS) trigger_name\n",
        "BEFORE|AFTER INSERT|UPDATE|DELETE ON table_name\n",
        "BEGIN\n",
        "  -- Trigger actions\n",
        "END;\n",
        "```\n",
        "\n",
        "-   `trigger_name`: The name you assign to the trigger.\n",
        "-   `BEFORE|AFTER`: Specifies whether the trigger should be executed before or after the triggering event.\n",
        "-   `INSERT|UPDATE|DELETE`: Specifies the event that activates the trigger.\n",
        "-   `table_name`: The name of the table on which the trigger is defined.\n",
        "-   `BEGIN ... END`: The block of SQL statements that define the trigger actions.\n",
        "\n",
        "Let's create a concrete example using our `Artist` and `Album` tables.\n",
        "\n",
        "Suppose, for example, we'd like to keep track of the date each albums was updated to our database.\n",
        "\n",
        "First, let's add a column to accomodate this:"
      ],
      "metadata": {
        "id": "OEeZcenKAKRm"
      }
    },
    {
      "cell_type": "code",
      "source": [
        "%%sql\n",
        "ALTER TABLE Album ADD COLUMN LastUpdated DATETIME;"
      ],
      "metadata": {
        "id": "TbrYp_LPCTV3",
        "outputId": "01e49ae9-4f39-4d2e-815e-c1192b6b6e32",
        "colab": {
          "base_uri": "https://localhost:8080/"
        }
      },
      "execution_count": null,
      "outputs": [
        {
          "output_type": "stream",
          "name": "stdout",
          "text": [
            " * sqlite:///greatest.db\n",
            "Done.\n"
          ]
        },
        {
          "output_type": "execute_result",
          "data": {
            "text/plain": [
              "[]"
            ]
          },
          "metadata": {},
          "execution_count": 30
        }
      ]
    },
    {
      "cell_type": "markdown",
      "source": [
        "Now, let's create trigger."
      ],
      "metadata": {
        "id": "kCUA8Y9WCXah"
      }
    },
    {
      "cell_type": "code",
      "source": [
        "%%sql\n",
        "CREATE TRIGGER IF NOT EXISTS update_album_date\n",
        "AFTER UPDATE ON Album\n",
        "BEGIN\n",
        "  UPDATE Album\n",
        "  SET LastUpdated = DATETIME('now')\n",
        "  WHERE AlbumID = NEW.AlbumID;\n",
        "END;"
      ],
      "metadata": {
        "id": "vfR9TnHYByLX",
        "outputId": "3c856f94-e9f7-4b7d-d1a1-798e216cb66a",
        "colab": {
          "base_uri": "https://localhost:8080/"
        }
      },
      "execution_count": null,
      "outputs": [
        {
          "output_type": "stream",
          "name": "stdout",
          "text": [
            " * sqlite:///greatest.db\n",
            "Done.\n"
          ]
        },
        {
          "output_type": "execute_result",
          "data": {
            "text/plain": [
              "[]"
            ]
          },
          "metadata": {},
          "execution_count": 31
        }
      ]
    },
    {
      "cell_type": "markdown",
      "source": [
        "Finally, let's try it out:"
      ],
      "metadata": {
        "id": "ULzzA97MAR67"
      }
    },
    {
      "cell_type": "code",
      "source": [
        "%%sql\n",
        "UPDATE Album\n",
        "SET ReleaseYear = ReleaseYear - 1\n",
        "WHERE AlbumID > 20;"
      ],
      "metadata": {
        "id": "P66wn31iCfJ1",
        "outputId": "9ca13ff7-61e2-4fb8-c00f-07d26ccad4ac",
        "colab": {
          "base_uri": "https://localhost:8080/"
        }
      },
      "execution_count": null,
      "outputs": [
        {
          "output_type": "stream",
          "name": "stdout",
          "text": [
            " * sqlite:///greatest.db\n",
            "2 rows affected.\n"
          ]
        },
        {
          "output_type": "execute_result",
          "data": {
            "text/plain": [
              "[]"
            ]
          },
          "metadata": {},
          "execution_count": 32
        }
      ]
    },
    {
      "cell_type": "markdown",
      "source": [
        "And finally, we can see the results."
      ],
      "metadata": {
        "id": "BvcxVesJCqCd"
      }
    },
    {
      "cell_type": "code",
      "source": [
        "%%sql\n",
        "SELECT * FROM Album WHERE AlbumID > 20;"
      ],
      "metadata": {
        "id": "E0LT6fDlCsVG",
        "outputId": "7d2e6bff-9be1-411c-e433-2f3a26bef7fa",
        "colab": {
          "base_uri": "https://localhost:8080/",
          "height": 116
        }
      },
      "execution_count": null,
      "outputs": [
        {
          "output_type": "stream",
          "name": "stdout",
          "text": [
            " * sqlite:///greatest.db\n",
            "Done.\n"
          ]
        },
        {
          "output_type": "execute_result",
          "data": {
            "text/plain": [
              "[(22, 'Cringeworthy Chronicles', 21, 2010, 'Cacophony', None, '2024-06-06 15:30:36'),\n",
              " (23, 'Disastrous Ditties', 21, 2015, 'Racket', None, '2024-06-06 15:30:36')]"
            ],
            "text/html": [
              "<table>\n",
              "    <thead>\n",
              "        <tr>\n",
              "            <th>AlbumID</th>\n",
              "            <th>Title</th>\n",
              "            <th>ArtistID</th>\n",
              "            <th>ReleaseYear</th>\n",
              "            <th>Genre</th>\n",
              "            <th>Ranking</th>\n",
              "            <th>LastUpdated</th>\n",
              "        </tr>\n",
              "    </thead>\n",
              "    <tbody>\n",
              "        <tr>\n",
              "            <td>22</td>\n",
              "            <td>Cringeworthy Chronicles</td>\n",
              "            <td>21</td>\n",
              "            <td>2010</td>\n",
              "            <td>Cacophony</td>\n",
              "            <td>None</td>\n",
              "            <td>2024-06-06 15:30:36</td>\n",
              "        </tr>\n",
              "        <tr>\n",
              "            <td>23</td>\n",
              "            <td>Disastrous Ditties</td>\n",
              "            <td>21</td>\n",
              "            <td>2015</td>\n",
              "            <td>Racket</td>\n",
              "            <td>None</td>\n",
              "            <td>2024-06-06 15:30:36</td>\n",
              "        </tr>\n",
              "    </tbody>\n",
              "</table>"
            ]
          },
          "metadata": {},
          "execution_count": 33
        }
      ]
    },
    {
      "cell_type": "markdown",
      "source": [
        "## Logging in Databases\n",
        "\n",
        "Logging is the process of recording specific events, changes, or actions that occur within a database. Logs serve as an audit trail, allowing database administrators and developers to track and monitor the activities happening in the database. They provide valuable information for debugging, troubleshooting, performance analysis, and security auditing.\n",
        "\n",
        "Logs can capture various types of information, such as:\n",
        "\n",
        "-   Data modifications (inserts, updates, deletes)\n",
        "-   User authentication and access attempts\n",
        "-   System errors and exceptions\n",
        "-   Timestamps of when events occurred\n",
        "-   User or application responsible for the actions\n",
        "\n",
        "By maintaining logs, you can gain insights into the historical changes in your database, detect suspicious activities, and facilitate data recovery in case of failures or accidental modifications.\n",
        "\n",
        "Now, let's see how we can use a trigger to implement logging in our database.\n",
        "\n",
        "### Logging Trigger Example\n",
        "\n",
        "Suppose we want to create a log table that captures the changes made to the `Artist` table. Whenever an artist's information is updated, we want to record the old and new values, along with the timestamp and the user who made the change.\n",
        "\n",
        "First, let's create the log table:"
      ],
      "metadata": {
        "id": "CaA6XGZhDOX6"
      }
    },
    {
      "cell_type": "code",
      "source": [
        "%%sql\n",
        "DROP TABLE IF EXISTS ArtistLog;\n",
        "CREATE TABLE ArtistLog (\n",
        "  LogID INTEGER PRIMARY KEY AUTOINCREMENT,\n",
        "  ArtistID INTEGER,\n",
        "  OldName VARCHAR(100),\n",
        "  NewName VARCHAR(100),\n",
        "  UpdatedAt TIMESTAMP DEFAULT CURRENT_TIMESTAMP,\n",
        "  UpdatedBy VARCHAR(100)\n",
        ");"
      ],
      "metadata": {
        "id": "Pec0KOAzDZcz",
        "outputId": "85c0a60d-3a88-40be-8cdb-4fa02fd50007",
        "colab": {
          "base_uri": "https://localhost:8080/"
        }
      },
      "execution_count": null,
      "outputs": [
        {
          "output_type": "stream",
          "name": "stdout",
          "text": [
            " * sqlite:///greatest.db\n",
            "Done.\n",
            "Done.\n"
          ]
        },
        {
          "output_type": "execute_result",
          "data": {
            "text/plain": [
              "[]"
            ]
          },
          "metadata": {},
          "execution_count": 34
        }
      ]
    },
    {
      "cell_type": "markdown",
      "source": [
        "The `ArtistLog` table has columns to store the `ArtistID`, the old and new values of the `Name` column, the timestamp of the update, and the user who made the change.\n",
        "\n",
        "Next, let's create the trigger that will populate the log table whenever an update occurs on the `Artist` table:"
      ],
      "metadata": {
        "id": "-HQ438aiDjMM"
      }
    },
    {
      "cell_type": "code",
      "source": [
        "%%sql\n",
        "CREATE TRIGGER IF NOT EXISTS ArtistUpdateTrigger\n",
        "AFTER UPDATE ON Artist\n",
        "FOR EACH ROW\n",
        "BEGIN\n",
        "  INSERT INTO ArtistLog (ArtistID, OldName, NewName, UpdatedBy)\n",
        "  VALUES (OLD.ArtistID, OLD.Name, NEW.Name, 'Brendan Shea');\n",
        "END;"
      ],
      "metadata": {
        "id": "NPbo7bcrDlS5",
        "outputId": "0c348846-f164-4b06-9123-f54ed105a8fe",
        "colab": {
          "base_uri": "https://localhost:8080/"
        }
      },
      "execution_count": null,
      "outputs": [
        {
          "output_type": "stream",
          "name": "stdout",
          "text": [
            " * sqlite:///greatest.db\n",
            "Done.\n"
          ]
        },
        {
          "output_type": "execute_result",
          "data": {
            "text/plain": [
              "[]"
            ]
          },
          "metadata": {},
          "execution_count": 35
        }
      ]
    },
    {
      "cell_type": "markdown",
      "source": [
        "Let's break down the trigger:\n",
        "\n",
        "-   The trigger is named `ArtistUpdateTrigger`.\n",
        "-   It is defined as an `AFTER UPDATE` trigger on the `Artist` table, meaning it will be executed after an update operation on the `Artist` table.\n",
        "-   The `FOR EACH ROW` clause specifies that the trigger will be executed for each row affected by the update.\n",
        "-   Inside the trigger, we have an `INSERT` statement that inserts a new row into the `ArtistLog` table.\n",
        "-   The `VALUES` clause captures the `ArtistID`, the old and new values of the `Name` column using the special `OLD` and `NEW` keywords, and the user who made the changes. Here, I've hardcoded this as 'Brendan Shea', but in more complext applications, we could capture the details for each user.\n",
        "\n",
        "Now, let's test the trigger by updating some artists' names (undoing our previous updates):"
      ],
      "metadata": {
        "id": "7rlz4UCBDuat"
      }
    },
    {
      "cell_type": "code",
      "source": [
        "%%sql\n",
        "UPDATE Artist\n",
        "SET Name = 'Bob Dylan'\n",
        "WHERE Name = 'Robert Zimmerman';\n",
        "\n",
        "UPDATE Artist\n",
        "SET Name = 'Prince'\n",
        "WHERE Name = '?';"
      ],
      "metadata": {
        "id": "PE0ivvFbDyjK",
        "outputId": "d50f9de4-47dd-4303-e898-075b82cc9ce3",
        "colab": {
          "base_uri": "https://localhost:8080/"
        }
      },
      "execution_count": null,
      "outputs": [
        {
          "output_type": "stream",
          "name": "stdout",
          "text": [
            " * sqlite:///greatest.db\n",
            "1 rows affected.\n",
            "1 rows affected.\n"
          ]
        },
        {
          "output_type": "execute_result",
          "data": {
            "text/plain": [
              "[]"
            ]
          },
          "metadata": {},
          "execution_count": 36
        }
      ]
    },
    {
      "cell_type": "markdown",
      "source": [
        "Now, let's see what our log table looks like:"
      ],
      "metadata": {
        "id": "e3bWo3eiFJNz"
      }
    },
    {
      "cell_type": "code",
      "source": [
        "%%sql\n",
        "SELECT * FROM ArtistLog;"
      ],
      "metadata": {
        "id": "7T9P3EwKFNe_",
        "outputId": "ab2fb1dd-73d4-4194-cc0c-7b6cb54f0772",
        "colab": {
          "base_uri": "https://localhost:8080/",
          "height": 116
        }
      },
      "execution_count": null,
      "outputs": [
        {
          "output_type": "stream",
          "name": "stdout",
          "text": [
            " * sqlite:///greatest.db\n",
            "Done.\n"
          ]
        },
        {
          "output_type": "execute_result",
          "data": {
            "text/plain": [
              "[(1, 8, 'Robert Zimmerman', 'Bob Dylan', '2024-06-06 15:30:36', 'Brendan Shea'),\n",
              " (2, 7, '?', 'Prince', '2024-06-06 15:30:36', 'Brendan Shea')]"
            ],
            "text/html": [
              "<table>\n",
              "    <thead>\n",
              "        <tr>\n",
              "            <th>LogID</th>\n",
              "            <th>ArtistID</th>\n",
              "            <th>OldName</th>\n",
              "            <th>NewName</th>\n",
              "            <th>UpdatedAt</th>\n",
              "            <th>UpdatedBy</th>\n",
              "        </tr>\n",
              "    </thead>\n",
              "    <tbody>\n",
              "        <tr>\n",
              "            <td>1</td>\n",
              "            <td>8</td>\n",
              "            <td>Robert Zimmerman</td>\n",
              "            <td>Bob Dylan</td>\n",
              "            <td>2024-06-06 15:30:36</td>\n",
              "            <td>Brendan Shea</td>\n",
              "        </tr>\n",
              "        <tr>\n",
              "            <td>2</td>\n",
              "            <td>7</td>\n",
              "            <td>?</td>\n",
              "            <td>Prince</td>\n",
              "            <td>2024-06-06 15:30:36</td>\n",
              "            <td>Brendan Shea</td>\n",
              "        </tr>\n",
              "    </tbody>\n",
              "</table>"
            ]
          },
          "metadata": {},
          "execution_count": 37
        }
      ]
    },
    {
      "cell_type": "markdown",
      "source": [
        "The result will show the logged entry with the `ArtistID`, the old and new values of the `Name` column, the timestamp of the update, and the user who made the change.\n",
        "\n",
        "By using triggers for logging, you can automatically capture and store the changes made to your database tables, providing a valuable audit trail for monitoring, debugging, and historical analysis."
      ],
      "metadata": {
        "id": "ADZKMuTkGK4U"
      }
    },
    {
      "cell_type": "markdown",
      "source": [
        "## Inserting Data From CSV Files (Linux/Bash)\n",
        "\n",
        "In this section, we will explore how to insert data into our database using CSV files and Linux scripts. We will cover the concept of CSV files, introduce Linux scripts, and discuss the benefits of using this approach compared to SQL INSERT statements.\n",
        "\n",
        "**CSV (Comma-Separated Values)** is a popular file format used for storing and exchanging tabular data. In a CSV file, each line represents a row of data, and the values within each row are separated by commas. CSV files are widely supported by various applications and can be easily created, edited, and processed using spreadsheet software or text editors.\n",
        "\n",
        "Here's an example of a CSV file named `current_artists.csv` containing information about artists:"
      ],
      "metadata": {
        "id": "k7XeXG7_LLaX"
      }
    },
    {
      "cell_type": "code",
      "source": [
        "%%writefile current_artists.csv\n",
        "101,Taylor Swift,United States,2006\n",
        "102,Ed Sheeran,United Kingdom,2005\n",
        "103,Billie Eilish,United States,2016\n",
        "104,BTS,South Korea,2013\n",
        "105,Ariana Grande,United States,2008\n",
        "106,Shawn Mendes,Canada,2013\n",
        "107,Dua Lipa,United Kingdom,2015\n",
        "108,Post Malone,United States,2013\n",
        "109,Khalid,United States,2016\n",
        "110,Camila Cabello,Cuba,2012"
      ],
      "metadata": {
        "id": "h3AQZJcqIKgD",
        "outputId": "9e8292ef-ef30-4c7c-8e59-74049487487e",
        "colab": {
          "base_uri": "https://localhost:8080/"
        }
      },
      "execution_count": null,
      "outputs": [
        {
          "output_type": "stream",
          "name": "stdout",
          "text": [
            "Overwriting current_artists.csv\n"
          ]
        }
      ]
    },
    {
      "cell_type": "markdown",
      "source": [
        "Each line in the CSV file represents an artist, with fields such as the artist ID, name, country, and year they started their career."
      ],
      "metadata": {
        "id": "V8ZOCBbFMU9Q"
      }
    },
    {
      "cell_type": "markdown",
      "source": [
        "### Linux Scripts for Data Insertion\n",
        "\n",
        "Linux provides a powerful command-line interface and scripting capabilities that allow us to automate tasks and perform operations on files and databases. In this context, we can use Linux scripts to insert data from CSV files into our database.\n",
        "\n",
        "Here's an example of a Linux script that imports data from a CSV file into an SQLite database:"
      ],
      "metadata": {
        "id": "ShxQveKCMdbM"
      }
    },
    {
      "cell_type": "code",
      "source": [
        "%%capture\n",
        "# first, install sqlite 3 for ubuntu\n",
        "!sudo apt-get install sqlite3 -q"
      ],
      "metadata": {
        "id": "rTEihBEvIixB"
      },
      "execution_count": null,
      "outputs": []
    },
    {
      "cell_type": "code",
      "source": [
        "# Here is the actual script\n",
        "!sqlite3 greatest.db \".mode csv\" \".import current_artists.csv Artist\""
      ],
      "metadata": {
        "id": "pJjTgEz4I9i0"
      },
      "execution_count": null,
      "outputs": []
    },
    {
      "cell_type": "markdown",
      "source": [
        "Let's break down the script:\n",
        "\n",
        "-   `sqlite3` is the command to open the SQLite database.\n",
        "-   `greatest.db` is the name of the database file.\n",
        "-   `.mode csv` sets the import mode to CSV.\n",
        "-   `.import current_artists.csv Artist` imports the data from the `current_artists.csv` file into the `Artist` table of the database.\n",
        "\n",
        "By executing this script in the Linux terminal, the data from the CSV file will be inserted into the specified table of the database.\n",
        "\n",
        "Let's now confirm that our data has been inserted sucessfully:"
      ],
      "metadata": {
        "id": "v1fHTcmGMkBn"
      }
    },
    {
      "cell_type": "code",
      "source": [
        "%%sql\n",
        "SELECT * FROM Artist WHERE ArtistID > 100;"
      ],
      "metadata": {
        "id": "hMkY4ZJnKr7Q",
        "outputId": "67af6e93-cf13-48c5-acb5-d6628d75dbe9",
        "colab": {
          "base_uri": "https://localhost:8080/",
          "height": 284
        }
      },
      "execution_count": null,
      "outputs": [
        {
          "output_type": "stream",
          "name": "stdout",
          "text": [
            " * sqlite:///greatest.db\n",
            "Done.\n"
          ]
        },
        {
          "output_type": "execute_result",
          "data": {
            "text/plain": [
              "[(101, 'Taylor Swift', 'United States', 2006),\n",
              " (102, 'Ed Sheeran', 'United Kingdom', 2005),\n",
              " (103, 'Billie Eilish', 'United States', 2016),\n",
              " (104, 'BTS', 'South Korea', 2013),\n",
              " (105, 'Ariana Grande', 'United States', 2008),\n",
              " (106, 'Shawn Mendes', 'Canada', 2013),\n",
              " (107, 'Dua Lipa', 'United Kingdom', 2015),\n",
              " (108, 'Post Malone', 'United States', 2013),\n",
              " (109, 'Khalid', 'United States', 2016),\n",
              " (110, 'Camila Cabello', 'Cuba', 2012)]"
            ],
            "text/html": [
              "<table>\n",
              "    <thead>\n",
              "        <tr>\n",
              "            <th>ArtistID</th>\n",
              "            <th>Name</th>\n",
              "            <th>Country</th>\n",
              "            <th>Founded</th>\n",
              "        </tr>\n",
              "    </thead>\n",
              "    <tbody>\n",
              "        <tr>\n",
              "            <td>101</td>\n",
              "            <td>Taylor Swift</td>\n",
              "            <td>United States</td>\n",
              "            <td>2006</td>\n",
              "        </tr>\n",
              "        <tr>\n",
              "            <td>102</td>\n",
              "            <td>Ed Sheeran</td>\n",
              "            <td>United Kingdom</td>\n",
              "            <td>2005</td>\n",
              "        </tr>\n",
              "        <tr>\n",
              "            <td>103</td>\n",
              "            <td>Billie Eilish</td>\n",
              "            <td>United States</td>\n",
              "            <td>2016</td>\n",
              "        </tr>\n",
              "        <tr>\n",
              "            <td>104</td>\n",
              "            <td>BTS</td>\n",
              "            <td>South Korea</td>\n",
              "            <td>2013</td>\n",
              "        </tr>\n",
              "        <tr>\n",
              "            <td>105</td>\n",
              "            <td>Ariana Grande</td>\n",
              "            <td>United States</td>\n",
              "            <td>2008</td>\n",
              "        </tr>\n",
              "        <tr>\n",
              "            <td>106</td>\n",
              "            <td>Shawn Mendes</td>\n",
              "            <td>Canada</td>\n",
              "            <td>2013</td>\n",
              "        </tr>\n",
              "        <tr>\n",
              "            <td>107</td>\n",
              "            <td>Dua Lipa</td>\n",
              "            <td>United Kingdom</td>\n",
              "            <td>2015</td>\n",
              "        </tr>\n",
              "        <tr>\n",
              "            <td>108</td>\n",
              "            <td>Post Malone</td>\n",
              "            <td>United States</td>\n",
              "            <td>2013</td>\n",
              "        </tr>\n",
              "        <tr>\n",
              "            <td>109</td>\n",
              "            <td>Khalid</td>\n",
              "            <td>United States</td>\n",
              "            <td>2016</td>\n",
              "        </tr>\n",
              "        <tr>\n",
              "            <td>110</td>\n",
              "            <td>Camila Cabello</td>\n",
              "            <td>Cuba</td>\n",
              "            <td>2012</td>\n",
              "        </tr>\n",
              "    </tbody>\n",
              "</table>"
            ]
          },
          "metadata": {},
          "execution_count": 41
        }
      ]
    },
    {
      "cell_type": "markdown",
      "source": [
        "## Database Scripting: Beyond SQL\n",
        "\n",
        "In the previous section, we explored how to insert data from CSV files into a database using Linux scripts, specifically Bash. This is just one example of database scripting. In this section, we will expand our understanding of database scripting and explore different languages that are commonly used for this purpose.\n",
        "\n",
        "### Client-Side vs. Server-Side Scripting\n",
        "\n",
        "When it comes to database scripting, there are two main approaches: client-side scripting and server-side scripting.\n",
        "\n",
        "1.  **Client-Side Scripting**: Client-side scripting refers to scripts that run on the client machine, such as a user's computer. These scripts interact with the database by sending requests to the database server and processing the responses. Client-side scripting is commonly used for tasks like data analysis, reporting, and automated data entry.\n",
        "2.  **Server-Side Scripting**: Server-side scripting, on the other hand, involves scripts that run directly on the database server. These scripts have direct access to the database and can perform tasks like data manipulation, database maintenance, and automated backups. Server-side scripting is often used for tasks that require high performance or need to be scheduled and executed on the server.\n",
        "\n",
        "### Popular Languages for Database Scripting\n",
        "\n",
        "While SQL is the standard language for interacting with databases, there are several other languages that are commonly used for database scripting. Let's take a look at a few of them:\n",
        "\n",
        "1.  **Bash**: Bash (Bourne Again Shell) is a Unix shell and command language. It is the default shell on many Linux distributions and is widely used for scripting and automation. Bash scripts can be used to interact with databases, execute SQL commands, and perform file operations, as we saw in the previous section.\n",
        "2.  **Python**: Python is a versatile and beginner-friendly programming language that has extensive support for database operations. With libraries like SQLite3, MySQL Connector, and psycopg2 (for PostgreSQL), Python scripts can connect to databases, execute SQL queries, and manipulate data. Python's readability and simplicity make it a popular choice for database scripting.\n",
        "3.  **PowerShell**: PowerShell is a task automation and configuration management framework developed by Microsoft. It is commonly used in Windows environments for scripting and administration tasks. PowerShell provides cmdlets (pronounced \"command-lets\") for interacting with databases, such as `Invoke-Sqlcmd` for executing SQL queries and `Import-Csv` for importing data from CSV files.\n",
        "\n",
        "These are just a few examples of the languages used for database scripting. Other languages like Perl, Ruby, and JavaScript (with Node.js) can also be used depending on the specific requirements and environment. In the next section, we'll take a short look at one application involving Python."
      ],
      "metadata": {
        "id": "JLgk5KB6O7rM"
      }
    },
    {
      "cell_type": "markdown",
      "source": [
        "## Object-Relational Modeling in Python using SQLAlchemy\n",
        "\n",
        "In **Object-Oriented Programming (OOP)**, an **object** is a fundamental concept that represents a distinct entity with its own set of attributes and behaviors. Objects are used to model real-world entities or abstract concepts in a software system, providing a way to organize and structure code by grouping related data and behavior into a single unit. This \"Object model of data\" (very) common way of organizing data in many modern programming languages, including Java, Javascript, C++, and Python.\n",
        "\n",
        "In the context of a music database, an object could represent a song, encapsulating attributes such as title, artist, album, and duration. These **attributes** define the state of the song object, while **methods** can be added to perform specific operations related to the song, such as playing or displaying its information. This is contrast to a table `song' in a relational database, which could store data, but which would not have any \"methods\" (instead, we interact with the data using SQL).\n",
        "\n",
        "**Object-Relational Mapping (ORM)** is a technique that bridges the gap between the object-oriented paradigm (great for programming!) and the relational database model (great for storing data!). It allows developers to interact with databases using objects and object-oriented principles, rather than writing raw SQL queries.  Common tools for ORM include **Hibernate** and **Ebean** (both for the Java programming language), the **Entity Framework** (for C#), and SQLAlchemy (for Python--see below).\n",
        "\n",
        "**SQLAlchemy** is a popular and feature-rich ORM library for Python. It provides a set of tools and abstractions for working with databases in an object-oriented manner, supporting various database backends such as SQLite, MySQL, PostgreSQL, and more.  With SQLAlchemy, you define Python classes that represent database tables, and the ORM takes care of mapping those classes to the corresponding tables in the database. Each class becomes a mapped entity, and instances of those classes represent individual rows in the table.\n",
        "\n",
        "Let's dive into an example that demonstrates object-relational modeling using SQLAlchemy in the context of a music database, this time focusing on a songs table.\n",
        "\n",
        "### Example: Modeling the Songs Table using SQLAlchemy"
      ],
      "metadata": {
        "id": "QfnVywgxKqWR"
      }
    },
    {
      "cell_type": "code",
      "source": [
        "from sqlalchemy import create_engine, Column, Integer, String, Float\n",
        "from sqlalchemy.orm import sessionmaker, declarative_base\n",
        "import logging\n",
        "\n",
        "# Configure logging\n",
        "logging.basicConfig(level=logging.INFO)\n",
        "logging.getLogger(\"sqlalchemy.engine.Engine.myengine\").setLevel(logging.INFO)\n",
        "\n",
        "# Create a connection to the database\n",
        "engine = create_engine('sqlite:///songs.db',  logging_name = \"myengine\")\n",
        "\n",
        "# Create a session factory\n",
        "Session = sessionmaker(bind=engine)\n",
        "\n",
        "# Create a base class for declarative models\n",
        "Base = declarative_base()\n",
        "\n",
        "# Define the Song class\n",
        "class Song(Base):\n",
        "    __tablename__ = 'songs'\n",
        "    id = Column(Integer, primary_key=True)\n",
        "    title = Column(String)\n",
        "    artist = Column(String)\n",
        "    album = Column(String)\n",
        "    duration = Column(Float)\n",
        "\n",
        "    def __repr__(self):\n",
        "        return f\"<Song(id={self.id}, title='{self.title}', artist='{self.artist}', album='{self.album}', duration={self.duration})>\"\n",
        "\n",
        "# Create the tables in the database\n",
        "Base.metadata.create_all(engine)"
      ],
      "metadata": {
        "colab": {
          "base_uri": "https://localhost:8080/"
        },
        "id": "teRGwON9L-ua",
        "outputId": "28eb0742-6419-4769-ffe3-6106b08d415a"
      },
      "execution_count": 1,
      "outputs": [
        {
          "output_type": "stream",
          "name": "stderr",
          "text": [
            "INFO:sqlalchemy.engine.Engine.myengine:BEGIN (implicit)\n",
            "INFO:sqlalchemy.engine.Engine.myengine:PRAGMA main.table_info(\"songs\")\n",
            "INFO:sqlalchemy.engine.Engine.myengine:[raw sql] ()\n",
            "INFO:sqlalchemy.engine.Engine.myengine:PRAGMA temp.table_info(\"songs\")\n",
            "INFO:sqlalchemy.engine.Engine.myengine:[raw sql] ()\n",
            "INFO:sqlalchemy.engine.Engine.myengine:\n",
            "CREATE TABLE songs (\n",
            "\tid INTEGER NOT NULL, \n",
            "\ttitle VARCHAR, \n",
            "\tartist VARCHAR, \n",
            "\talbum VARCHAR, \n",
            "\tduration FLOAT, \n",
            "\tPRIMARY KEY (id)\n",
            ")\n",
            "\n",
            "\n",
            "INFO:sqlalchemy.engine.Engine.myengine:[no key 0.00142s] ()\n",
            "INFO:sqlalchemy.engine.Engine.myengine:COMMIT\n"
          ]
        }
      ]
    },
    {
      "cell_type": "markdown",
      "source": [
        "This code demonstrates a basic usage of SQLAlchemy, which is an Object-Relational Mapping (ORM) library for Python. Here's a high-level overview of what the code does:\n",
        "\n",
        "1.  It starts by importing the necessary modules from SQLAlchemy: `create_engine`, `Column`, `Integer`, `String`, `Float`, `sessionmaker`, and `declarative_base`.\n",
        "2.  It configures logging to display information about the database operations.\n",
        "3.  It creates a connection to an SQLite database named \"songs.db\" using `create_engine()`. The `logging_name` parameter is set to \"myengine\" to identify the specific engine instance in the logs.\n",
        "4.  It creates a session factory using `sessionmaker()`, which is bound to the database engine. This factory will be used to create sessions for interacting with the database.\n",
        "5.  It creates a base class for declarative models using `declarative_base()`. This base class will be used to define the database models.\n",
        "6.  It defines a `Song` class that inherits from the base class. The `Song` class represents a table named \"songs\" in the database and has the following columns:\n",
        "    -   `id`: An integer column serving as the primary key.\n",
        "    -   `title`: A string column for the song title.\n",
        "    -   `artist`: A string column for the artist name.\n",
        "    -   `album`: A string column for the album name.\n",
        "    -   `duration`: A float column for the song duration.The `__repr__()` method is defined to provide a string representation of the `Song` object.\n",
        "7.  Finally, it creates the tables in the database using `Base.metadata.create_all(engine)`. This statement generates the necessary SQL statements to create the \"songs\" table based on the defined `Song` class.\n",
        "\n",
        "The output you see is the logging information generated by SQLAlchemy. It shows the SQL statements being executed to check the existence of the \"songs\" table and create it if it doesn't exist. The output indicates that the table was successfully created with the specified columns.\n",
        "\n",
        "Next, let's create some Song objects and perform database operations:"
      ],
      "metadata": {
        "id": "Hxw0z90tNIkL"
      }
    },
    {
      "cell_type": "code",
      "source": [
        "# Create a new session\n",
        "session = Session()\n",
        "\n",
        "# Create song objects\n",
        "song1 = Song(title='Misery Business', artist='Paramore', album='Riot!', duration=3.31)\n",
        "song2 = Song(title='Kyoto', artist='Phoebe Bridgers', album='Punisher', duration=3.04)\n",
        "song3 = Song(title='Wish You Were Here', artist='Pink Floyd', album='Wish You Were Here', duration=5.40)\n",
        "\n",
        "# Add the songs to the session\n",
        "session.add_all([song1, song2, song3])\n",
        "session.commit()"
      ],
      "metadata": {
        "colab": {
          "base_uri": "https://localhost:8080/"
        },
        "id": "-C-9RsRWNVkm",
        "outputId": "517adc20-7017-43c1-dc53-8a77c0acdf7e"
      },
      "execution_count": 2,
      "outputs": [
        {
          "output_type": "stream",
          "name": "stderr",
          "text": [
            "INFO:sqlalchemy.engine.Engine.myengine:BEGIN (implicit)\n",
            "INFO:sqlalchemy.engine.Engine.myengine:INSERT INTO songs (title, artist, album, duration) VALUES (?, ?, ?, ?) RETURNING id\n",
            "INFO:sqlalchemy.engine.Engine.myengine:[generated in 0.00033s (insertmanyvalues) 1/3 (ordered; batch not supported)] ('Misery Business', 'Paramore', 'Riot!', 3.31)\n",
            "INFO:sqlalchemy.engine.Engine.myengine:INSERT INTO songs (title, artist, album, duration) VALUES (?, ?, ?, ?) RETURNING id\n",
            "INFO:sqlalchemy.engine.Engine.myengine:[insertmanyvalues 2/3 (ordered; batch not supported)] ('Kyoto', 'Phoebe Bridgers', 'Punisher', 3.04)\n",
            "INFO:sqlalchemy.engine.Engine.myengine:INSERT INTO songs (title, artist, album, duration) VALUES (?, ?, ?, ?) RETURNING id\n",
            "INFO:sqlalchemy.engine.Engine.myengine:[insertmanyvalues 3/3 (ordered; batch not supported)] ('Wish You Were Here', 'Pink Floyd', 'Wish You Were Here', 5.4)\n",
            "INFO:sqlalchemy.engine.Engine.myengine:COMMIT\n"
          ]
        }
      ]
    },
    {
      "cell_type": "markdown",
      "source": [
        "In this code chunk, we create instances of the `Song` class, representing individual songs. We set the attributes (`title`, `artist`, `album`, `duration`) for each song object.\n",
        "\n",
        "We then add the song objects to the session using `session.add_all()` and commit the changes to the database using `session.commit()`. This operation inserts the song records into the `songs` table.\n",
        "\n",
        "Again, you can see the underlying SQL code, which consists of some INSERT statements. (Later, we'll learn more about why we need to question marks --`?`--when interacting with databases in this way for security reasons).\n",
        "\n",
        "Finally, let's query the database to retrieve the songs."
      ],
      "metadata": {
        "id": "04BWy7AtNfpL"
      }
    },
    {
      "cell_type": "code",
      "source": [
        "# query the songs table\n",
        "songs = session.query(Song).all()\n",
        "for song in songs:\n",
        "    print(song)"
      ],
      "metadata": {
        "colab": {
          "base_uri": "https://localhost:8080/"
        },
        "id": "9OiQVLi2Ne7l",
        "outputId": "5c906d1f-9844-4b0e-9e09-a172a138d5c0"
      },
      "execution_count": 3,
      "outputs": [
        {
          "output_type": "stream",
          "name": "stderr",
          "text": [
            "INFO:sqlalchemy.engine.Engine.myengine:BEGIN (implicit)\n",
            "INFO:sqlalchemy.engine.Engine.myengine:SELECT songs.id AS songs_id, songs.title AS songs_title, songs.artist AS songs_artist, songs.album AS songs_album, songs.duration AS songs_duration \n",
            "FROM songs\n",
            "INFO:sqlalchemy.engine.Engine.myengine:[generated in 0.00282s] ()\n"
          ]
        },
        {
          "output_type": "stream",
          "name": "stdout",
          "text": [
            "<Song(id=1, title='Misery Business', artist='Paramore', album='Riot!', duration=3.31)>\n",
            "<Song(id=2, title='Kyoto', artist='Phoebe Bridgers', album='Punisher', duration=3.04)>\n",
            "<Song(id=3, title='Wish You Were Here', artist='Pink Floyd', album='Wish You Were Here', duration=5.4)>\n"
          ]
        }
      ]
    },
    {
      "cell_type": "markdown",
      "source": [
        "Object-relational modeling with SQLAlchemy (and similar tools) provides a powerful and intuitive way to interact with databases in Python. By defining classes that represent database tables and leveraging SQLAlchemy's ORM capabilities, we can work with data in an object-oriented manner, abstracting away the complexities of database queries.\n",
        "\n",
        "SQLAlchemy's declarative syntax allows us to define the structure of our database tables using Python classes, making the code more readable and maintainable. The ORM takes care of generating the appropriate SQL statements behind the scenes, enabling developers to focus on the application logic and business requirements.\n",
        "\n",
        "However, it's important to keep in mind that while ORMs like SQLAlchemy simplify database interactions, it's still crucial to have a good understanding of SQL and database concepts. Reviewing the generated SQL queries and optimizing performance when necessary is essential for building efficient and scalable applications. Importantly, there is no guarantee the ORMs will generate the best-performing query, or that they can handle the logic of especially complex or detailed queries."
      ],
      "metadata": {
        "id": "YUV6EgwkOcik"
      }
    },
    {
      "cell_type": "markdown",
      "source": [
        "## Key Points\n",
        "-   The INSERT INTO statement is used to add new rows of data to SQL tables, supporting both single-row and multiple-row insertions.\n",
        "-   Constraints, such as primary keys, foreign keys, and CHECK constraints, ensure data integrity and consistency.\n",
        "-   Constraint violations during data insertion can be handled by modifying the data or updating the table structure.\n",
        "-   Auto-incrementing primary keys simplify data insertion by automatically assigning unique identifiers to new rows.\n",
        "-   Subqueries can be used in INSERT statements to dynamically insert data based on existing records.-   The DELETE statement removes rows from a table based on specified conditions, while DROP TABLE removes the entire table structure.\n",
        "-   \"Soft delete\" involves marking records as deleted instead of permanently removing them, allowing for data retention and historical tracking.\n",
        "-   The UPDATE statement modifies existing data in a table based on specified conditions.\n",
        "-   Triggers automatically execute specific actions before or after database events, such as INSERT, UPDATE, or DELETE operations.\n",
        "-   Logging mechanisms can be implemented using triggers to capture and store changes made to database tables for auditing and monitoring purposes.\n",
        "-   Database scripting using Linux scripts and programming languages like Bash, Python, and PowerShell enables automation and flexibility in database tasks.\n",
        "-   Automating database tasks through scripting improves efficiency, reduces manual errors, and enhances productivity in database management."
      ],
      "metadata": {
        "id": "hlzBf7jAP2-a"
      }
    }
  ]
}