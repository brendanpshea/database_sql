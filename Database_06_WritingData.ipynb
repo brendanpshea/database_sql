{
  "nbformat": 4,
  "nbformat_minor": 0,
  "metadata": {
    "colab": {
      "provenance": [],
      "authorship_tag": "ABX9TyP/xAPoc4O+4lxKzUztXVnI",
      "include_colab_link": true
    },
    "kernelspec": {
      "name": "python3",
      "display_name": "Python 3"
    },
    "language_info": {
      "name": "python"
    }
  },
  "cells": [
    {
      "cell_type": "markdown",
      "metadata": {
        "id": "view-in-github",
        "colab_type": "text"
      },
      "source": [
        "<a href=\"https://colab.research.google.com/github/brendanpshea/database_sql/blob/main/Database_06_WritingData.ipynb\" target=\"_parent\"><img src=\"https://colab.research.google.com/assets/colab-badge.svg\" alt=\"Open In Colab\"/></a>"
      ]
    },
    {
      "cell_type": "code",
      "execution_count": null,
      "metadata": {
        "id": "f-NIjY9nGjHd"
      },
      "outputs": [],
      "source": []
    },
    {
      "cell_type": "markdown",
      "source": [
        "## Introduction\n",
        "When working with databases, one of the most fundamental tasks is **writing data to tables**. In SQL, this is accomplished using the `INSERT INTO` statement. This statement allows you to add new rows of data to a table, specifying the values for each column. Additionally, you can use **constraints** to enforce rules and maintain data integrity within your tables.\n",
        "\n",
        "In this chapter, we will explore the process of writing data to SQL tables using the `INSERT INTO` statement. We will cover both single-row and multiple-row insertions, and discuss what happens when constraints are violated. We will also touch on related topics such as `DELETE FROM`, \"soft delete,\" `UPDATE`, and **triggers**.\n",
        "\n",
        "To make our examples more concrete, we will be working with a sample database based on Rolling Stone's Greatest Albums of All Time. We will create tables for artists and albums, populate them with data, and demonstrate various scenarios related to writing data to SQL tables.\n",
        "\n",
        "By the end of this chapter, you will have a solid understanding of how to insert data into SQL tables, handle constraints, and perform common data manipulation operations. Let's dive in and start exploring the world of writing data to SQL tables!"
      ],
      "metadata": {
        "id": "xXEKyIB9Gr0I"
      }
    },
    {
      "cell_type": "markdown",
      "source": [
        "## Creating Tables for Rolling Stone's Greatest Albums of All Time\n",
        "\n",
        "Before we can start inserting data into our database, we need to create the necessary tables. In this case, we'll create two tables: Artist and Album. Let's define the structure of these tables and include some constraints to ensure data integrity."
      ],
      "metadata": {
        "id": "LR5P5_rtGuBH"
      }
    },
    {
      "cell_type": "code",
      "source": [
        "%load_ext sql\n",
        "%sql sqlite:///greatest.db"
      ],
      "metadata": {
        "id": "M7SnjbRdGxln"
      },
      "execution_count": 1,
      "outputs": []
    },
    {
      "cell_type": "code",
      "source": [
        "%%sql\n",
        "DROP TABLE IF EXISTS Artist;\n",
        "DROP TABLE IF EXISTS Album;\n",
        "CREATE TABLE Artist (\n",
        "    ArtistID INT PRIMARY KEY,\n",
        "    Name VARCHAR(100) NOT NULL,\n",
        "    Country VARCHAR(50),\n",
        "    Founded INT\n",
        "    CHECK (Founded >= 1900 AND Founded <= 2023)\n",
        ");\n",
        "\n",
        "CREATE TABLE Album (\n",
        "    AlbumID INT PRIMARY KEY,\n",
        "    Title VARCHAR(100) NOT NULL,\n",
        "    ArtistID INT,\n",
        "    ReleaseYear INT,\n",
        "    Genre VARCHAR(50),\n",
        "    Ranking_2023 INT CHECK (Ranking_2023 >= 1 AND Ranking_2023 <= 500),\n",
        "    FOREIGN KEY (ArtistID) REFERENCES Artist(ArtistID),\n",
        "    CHECK (ReleaseYear >= 1900 AND ReleaseYear <= 2023)\n",
        ");"
      ],
      "metadata": {
        "colab": {
          "base_uri": "https://localhost:8080/"
        },
        "id": "syndhaJIGv8_",
        "outputId": "cf2c7b97-d498-4e23-8a88-5075830d87f1"
      },
      "execution_count": 2,
      "outputs": [
        {
          "output_type": "stream",
          "name": "stdout",
          "text": [
            " * sqlite:///greatest.db\n",
            "Done.\n",
            "Done.\n",
            "Done.\n",
            "Done.\n"
          ]
        },
        {
          "output_type": "execute_result",
          "data": {
            "text/plain": [
              "[]"
            ]
          },
          "metadata": {},
          "execution_count": 2
        }
      ]
    },
    {
      "cell_type": "markdown",
      "source": [
        "Let's break down the key aspects of these table definitions:\n",
        "\n",
        "-   The `Artist` table has an `ArtistID` column as the **primary key**, which uniquely identifies each artist. The `Name` column is marked as `NOT NULL`, ensuring that every artist has a name. We also have `Country` and `Founded` columns to store additional information about the artists.\n",
        "-   The `Album` table has an `AlbumID` column as the primary key. The `Title` column is marked as `NOT NULL` to ensure that every album has a title. We have a foreign key `ArtistID` that references the `ArtistID` column in the `Artist` table, establishing a relationship between albums and artists. The `ReleaseYear` and `Genre` columns provide additional details about each album.\n",
        "-   We include **check constraints** in both tables to enforce certain conditions. In the `Artist` table, we ensure that the `Founded` year is between 1900 and 2023. Similarly, in the `Album` table, we check that the `ReleaseYear` is within the same range.\n",
        "\n",
        "By creating these tables with appropriate constraints, we set up a solid foundation for our database. The constraints help maintain data integrity by preventing invalid or inconsistent data from being inserted into the tables.\n",
        "\n",
        "Now that we have our tables ready, we can start inserting data into them using the `INSERT INTO` statement, which we'll explore in the next section."
      ],
      "metadata": {
        "id": "6Lkm3s-0G5lf"
      }
    },
    {
      "cell_type": "markdown",
      "source": [
        "## Using INSERT INTO (Single Row)\n",
        "\n",
        "\n",
        "Now that we have our `Artist` and `Album` tables created, let's explore how to insert a single row of data into each table using the `INSERT INTO` statement.\n",
        "\n",
        "The basic syntax for inserting a single row is as follows:\n",
        "\n",
        "```sql\n",
        "INSERT INTO table_name (column1, column2, ...)\n",
        "VALUES (value1, value2, ...);\n",
        "```\n",
        "\n",
        "Let's insert a single artist into the `Artist` table:"
      ],
      "metadata": {
        "id": "5LobT9FQG-in"
      }
    },
    {
      "cell_type": "code",
      "source": [
        "%%sql\n",
        "--Insert Marvin Gaye\n",
        "INSERT INTO Artist (ArtistID, Name, Country, Founded)\n",
        "VALUES (1, 'Marvin Gaye', 'United States', 1939);"
      ],
      "metadata": {
        "colab": {
          "base_uri": "https://localhost:8080/"
        },
        "id": "UhJnB4bnHIZ_",
        "outputId": "bd18368e-e970-4706-ba23-a922ff5bd323"
      },
      "execution_count": 3,
      "outputs": [
        {
          "output_type": "stream",
          "name": "stdout",
          "text": [
            " * sqlite:///greatest.db\n",
            "1 rows affected.\n"
          ]
        },
        {
          "output_type": "execute_result",
          "data": {
            "text/plain": [
              "[]"
            ]
          },
          "metadata": {},
          "execution_count": 3
        }
      ]
    },
    {
      "cell_type": "markdown",
      "source": [
        "In this example, we specify the table name `Artist` and list the columns we want to insert data into (`ArtistID`, `Name`, `Country`, `Founded`). We then provide the corresponding values for each column using the `VALUES` clause. The values are listed in the same order as the columns specified.\n",
        "\n",
        "Now, let's insert a single album into the `Album` table:"
      ],
      "metadata": {
        "id": "xFudKmc0HK8A"
      }
    },
    {
      "cell_type": "code",
      "source": [
        "%%sql\n",
        "-- Insert What's Going On\n",
        "INSERT INTO Album (AlbumID, Title, ArtistID, ReleaseYear,Genre, Ranking_2023)\n",
        "VALUES (1, 'What''s Going On', 1, 1971, 'Soul', 1);"
      ],
      "metadata": {
        "colab": {
          "base_uri": "https://localhost:8080/"
        },
        "id": "HkPiZmSqHN2X",
        "outputId": "13377383-e046-4ce7-aa9e-f99c6a2df902"
      },
      "execution_count": 4,
      "outputs": [
        {
          "output_type": "stream",
          "name": "stdout",
          "text": [
            " * sqlite:///greatest.db\n",
            "1 rows affected.\n"
          ]
        },
        {
          "output_type": "execute_result",
          "data": {
            "text/plain": [
              "[]"
            ]
          },
          "metadata": {},
          "execution_count": 4
        }
      ]
    },
    {
      "cell_type": "code",
      "source": [
        "%sql SELECT * FROM Album;"
      ],
      "metadata": {
        "colab": {
          "base_uri": "https://localhost:8080/",
          "height": 98
        },
        "id": "mrlM8pH2IRgX",
        "outputId": "307b4b27-5657-4ac4-9c41-c361d1d99713"
      },
      "execution_count": 5,
      "outputs": [
        {
          "output_type": "stream",
          "name": "stdout",
          "text": [
            " * sqlite:///greatest.db\n",
            "Done.\n"
          ]
        },
        {
          "output_type": "execute_result",
          "data": {
            "text/plain": [
              "[(1, \"What's Going On\", 1, 1971, 'Soul', 1)]"
            ],
            "text/html": [
              "<table>\n",
              "    <thead>\n",
              "        <tr>\n",
              "            <th>AlbumID</th>\n",
              "            <th>Title</th>\n",
              "            <th>ArtistID</th>\n",
              "            <th>ReleaseYear</th>\n",
              "            <th>Genre</th>\n",
              "            <th>Ranking_2023</th>\n",
              "        </tr>\n",
              "    </thead>\n",
              "    <tbody>\n",
              "        <tr>\n",
              "            <td>1</td>\n",
              "            <td>What&#x27;s Going On</td>\n",
              "            <td>1</td>\n",
              "            <td>1971</td>\n",
              "            <td>Soul</td>\n",
              "            <td>1</td>\n",
              "        </tr>\n",
              "    </tbody>\n",
              "</table>"
            ]
          },
          "metadata": {},
          "execution_count": 5
        }
      ]
    },
    {
      "cell_type": "markdown",
      "source": [
        "Similarly, we specify the `Album` table and list the columns we want to insert data into. We provide the corresponding values in the `VALUES` clause, ensuring that the `ArtistID` matches the `ArtistID` of the artist we inserted earlier.\n",
        "\n",
        "It's important to note that when inserting data, we need to provide values for all columns that are marked as `NOT NULL` or do not have a default value defined. If we omit a column that allows `NULL` values or has a default value, the database will automatically assign the appropriate value.\n",
        "\n",
        "By using the `INSERT INTO` statement, we can easily add single rows of data to our tables. This is particularly useful when we have specific values for each column and want to insert them one at a time.\n",
        "\n",
        "In the next section, we'll explore how to insert multiple rows of data in a single statement, which is more efficient when dealing with larger datasets."
      ],
      "metadata": {
        "id": "QGxNtd8vHYHX"
      }
    },
    {
      "cell_type": "markdown",
      "source": [
        "## Using INSERT INTO (Multiple Rows)\n",
        "\n",
        "Inserting data one row at a time can be inefficient when you have a large number of records to insert. Fortunately, SQL allows you to insert multiple rows of data in a single `INSERT INTO` statement. This is achieved by specifying multiple sets of values in the `VALUES` clause.\n",
        "\n",
        "Let's insert the top 10 albums from Rolling Stone's Greatest Albums of All Time list into our database. First, we'll insert the artists:"
      ],
      "metadata": {
        "id": "_N1wFsOKHfvm"
      }
    },
    {
      "cell_type": "code",
      "source": [
        "%%sql\n",
        "INSERT INTO Artist (ArtistID, Name, Country, Founded)\n",
        "VALUES\n",
        "(2, 'The Beach Boys', 'United States', 1961),\n",
        "(3, 'Joni Mitchell', 'Canada', 1964),\n",
        "(4, 'Stevie Wonder', 'United States', 1961),\n",
        "(5, 'Nirvana', 'United States', 1987),\n",
        "(6, 'Fleetwood Mac', 'United Kingdom', 1967),\n",
        "(7, 'Prince', 'United States', 1975),\n",
        "(8, 'Bob Dylan', 'United States', 1961),\n",
        "(9, 'Lauryn Hill', 'United States', 1988),\n",
        "(10, 'The Beatles', 'United Kingdom', 1960),\n",
        "(11, 'Radiohead', 'United Kingdom', 1985),\n",
        "(12, 'Kendrick Lamar', 'United States', 2003),\n",
        "(13, 'Public Enemy', 'United States', 1985),\n",
        "(14, 'The Rolling Stones', 'United Kingdom', 1962),\n",
        "(15, 'Aretha Franklin', 'United States', 1956),\n",
        "(16, 'Michael Jackson', 'United States', 1964),\n",
        "(17, 'Kanye West', 'United States', 1996),\n",
        "(19, 'The Clash', 'United Kingdom', 1976);"
      ],
      "metadata": {
        "colab": {
          "base_uri": "https://localhost:8080/"
        },
        "id": "EaTiP8VVHXFe",
        "outputId": "d39dea98-80d2-41dd-f2ec-123313ac986c"
      },
      "execution_count": 6,
      "outputs": [
        {
          "output_type": "stream",
          "name": "stdout",
          "text": [
            " * sqlite:///greatest.db\n",
            "17 rows affected.\n"
          ]
        },
        {
          "output_type": "execute_result",
          "data": {
            "text/plain": [
              "[]"
            ]
          },
          "metadata": {},
          "execution_count": 6
        }
      ]
    },
    {
      "cell_type": "markdown",
      "source": [
        "Now, let's insert the corresponding albums:"
      ],
      "metadata": {
        "id": "p3H5sHL5Hnmm"
      }
    },
    {
      "cell_type": "code",
      "source": [
        "%%sql\n",
        "INSERT INTO Album (AlbumID, Title, ArtistID, ReleaseYear, Genre, Ranking_2023)\n",
        "VALUES\n",
        "(2, 'Pet Sounds', 2, 1966, 'Rock',2),\n",
        "(3, 'Blue', 3, 1971, 'Folk',3),\n",
        "(4, 'Songs in the Key of Life', 4, 1976, 'Soul',4),\n",
        "(5, 'Nevermind', 5, 1991, 'Grunge',5),\n",
        "(6, 'Rumours', 6, 1977, 'Soft Rock',6),\n",
        "(7, 'Purple Rain', 7, 1984, 'Pop',7),\n",
        "(8, 'Blood on the Tracks', 8, 1975, 'Folk Rock',8),\n",
        "(9, 'The Miseducation of Lauryn Hill', 9, 1998, 'Hip Hop',9),\n",
        "(10, 'Abbey Road', 10, 1969, 'Rock',10),\n",
        "(11, 'Revolver', 10, 1966, 'Rock',11),\n",
        "(12, 'Thriller', 16, 1982, 'Pop',12),\n",
        "(13, 'I Never Loved a Man the Way I Love You', 15, 1967, 'Soul',13),\n",
        "(14, 'Exile on Main Street', 14, 1972, 'Rock',14),\n",
        "(15, 'It Takes a Nation of Millions to Hold Us Back', 13, 1988, 'Hip Hop',15),\n",
        "(16, 'London Calling', 19, 1979, 'Punk',16),\n",
        "(17, 'My Beautiful Dark Twisted Fantasy', 17, 2010, 'Hip Hop',17),\n",
        "(18, 'Highway 61 Revisited', 8, 1965, 'Folk Rock',18),\n",
        "(19, 'To Pimp a Butterfly', 12, 2015, 'Hip Hop',19),\n",
        "(20, 'Kid A', 11, 2000, 'Electronic',20);"
      ],
      "metadata": {
        "colab": {
          "base_uri": "https://localhost:8080/"
        },
        "id": "dUYpMoLiHqgW",
        "outputId": "00f0938d-9d4a-43d1-c8c1-c737992c4730"
      },
      "execution_count": 7,
      "outputs": [
        {
          "output_type": "stream",
          "name": "stdout",
          "text": [
            " * sqlite:///greatest.db\n",
            "19 rows affected.\n"
          ]
        },
        {
          "output_type": "execute_result",
          "data": {
            "text/plain": [
              "[]"
            ]
          },
          "metadata": {},
          "execution_count": 7
        }
      ]
    },
    {
      "cell_type": "markdown",
      "source": [],
      "metadata": {
        "id": "wgvVNp3THp6P"
      }
    },
    {
      "cell_type": "markdown",
      "source": [],
      "metadata": {
        "id": "uX9PiD8BHRJG"
      }
    }
  ]
}