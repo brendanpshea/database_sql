{
  "nbformat": 4,
  "nbformat_minor": 0,
  "metadata": {
    "colab": {
      "provenance": [],
      "authorship_tag": "ABX9TyMM7yVtlrysyDjG3t6KMe5a",
      "include_colab_link": true
    },
    "kernelspec": {
      "name": "python3",
      "display_name": "Python 3"
    },
    "language_info": {
      "name": "python"
    }
  },
  "cells": [
    {
      "cell_type": "markdown",
      "metadata": {
        "id": "view-in-github",
        "colab_type": "text"
      },
      "source": [
        "<a href=\"https://colab.research.google.com/github/brendanpshea/database_sql/blob/main/Database_06_WritingData.ipynb\" target=\"_parent\"><img src=\"https://colab.research.google.com/assets/colab-badge.svg\" alt=\"Open In Colab\"/></a>"
      ]
    },
    {
      "cell_type": "markdown",
      "source": [
        "## Introduction\n",
        "When working with databases, one of the most fundamental tasks is **writing data to tables**. In SQL, this is accomplished using the `INSERT INTO` statement. This statement allows you to add new rows of data to a table, specifying the values for each column. Additionally, you can use **constraints** to enforce rules and maintain data integrity within your tables.\n",
        "\n",
        "In this chapter, we will explore the process of writing data to SQL tables using the `INSERT INTO` statement. We will cover both single-row and multiple-row insertions, and discuss what happens when constraints are violated. We will also touch on related topics such as `DELETE FROM`, \"soft delete,\" `UPDATE`, and **triggers**.\n",
        "\n",
        "To make our examples more concrete, we will be working with a sample database based on Rolling Stone's Greatest Albums of All Time. We will create tables for artists and albums, populate them with data, and demonstrate various scenarios related to writing data to SQL tables.\n",
        "\n",
        "By the end of this chapter, you will have a solid understanding of how to insert data into SQL tables, handle constraints, and perform common data manipulation operations. Let's dive in and start exploring the world of writing data to SQL tables!"
      ],
      "metadata": {
        "id": "xXEKyIB9Gr0I"
      }
    },
    {
      "cell_type": "markdown",
      "source": [
        "## Creating Tables for Rolling Stone's Greatest Albums of All Time\n",
        "For this chapter, we'll be creating and populating a database based on the 2023 version of Rollingstone Magazine's \"500 greatest albums of all time\".\n",
        "\n",
        "Before we can start inserting data into our database, we need to create the necessary tables. In this case, we'll create two tables: Artist and Album. Let's define the structure of these tables and include some constraints to ensure data integrity."
      ],
      "metadata": {
        "id": "LR5P5_rtGuBH"
      }
    },
    {
      "cell_type": "code",
      "source": [
        "%load_ext sql\n",
        "%sql sqlite:///greatest.db"
      ],
      "metadata": {
        "id": "M7SnjbRdGxln",
        "colab": {
          "base_uri": "https://localhost:8080/"
        },
        "outputId": "f4aa9fe2-78d8-4d3e-8b6f-39cb104cffe6"
      },
      "execution_count": 60,
      "outputs": [
        {
          "output_type": "stream",
          "name": "stdout",
          "text": [
            "The sql extension is already loaded. To reload it, use:\n",
            "  %reload_ext sql\n"
          ]
        }
      ]
    },
    {
      "cell_type": "code",
      "source": [
        "%%sql\n",
        "DROP TABLE IF EXISTS Artist;\n",
        "DROP TABLE IF EXISTS Album;\n",
        "CREATE TABLE Artist (\n",
        "    ArtistID INTEGER PRIMARY KEY AUTOINCREMENT,\n",
        "    Name VARCHAR(100) NOT NULL,\n",
        "    Country VARCHAR(50),\n",
        "    Founded INT\n",
        "    CHECK (Founded >= 1900 AND Founded <= 2023)\n",
        ");\n",
        "\n",
        "CREATE TABLE Album (\n",
        "    AlbumID INTEGER PRIMARY KEY AUTOINCREMENT,\n",
        "    Title VARCHAR(100) NOT NULL,\n",
        "    ArtistID INT,\n",
        "    ReleaseYear INT,\n",
        "    Genre VARCHAR(50),\n",
        "    Ranking,\n",
        "    FOREIGN KEY (ArtistID) REFERENCES Artist(ArtistID),\n",
        "    CHECK (ReleaseYear >= 1900 AND ReleaseYear <= 2023),\n",
        "    CHECK (Ranking >= 1 AND Ranking <= 500)\n",
        ");\n",
        "\n",
        "--enable foreign key contraints\n",
        "PRAGMA foreign_keys = ON;"
      ],
      "metadata": {
        "colab": {
          "base_uri": "https://localhost:8080/"
        },
        "id": "syndhaJIGv8_",
        "outputId": "8a54f885-d829-4f40-d623-53add89984df"
      },
      "execution_count": 61,
      "outputs": [
        {
          "output_type": "stream",
          "name": "stdout",
          "text": [
            " * sqlite:///greatest.db\n",
            "Done.\n",
            "Done.\n",
            "Done.\n",
            "Done.\n",
            "Done.\n"
          ]
        },
        {
          "output_type": "execute_result",
          "data": {
            "text/plain": [
              "[]"
            ]
          },
          "metadata": {},
          "execution_count": 61
        }
      ]
    },
    {
      "cell_type": "markdown",
      "source": [
        "Let's break down the key aspects of these table definitions:\n",
        "\n",
        "-   The `Artist` table has an `ArtistID` column as the **primary key**, which uniquely identifies each artist. The `Name` column is marked as `NOT NULL`, ensuring that every artist has a name. We also have `Country` and `Founded` columns to store additional information about the artists.\n",
        "-   The `Album` table has an `AlbumID` column as the primary key. The `Title` column is marked as `NOT NULL` to ensure that every album has a title. We have a foreign key `ArtistID` that references the `ArtistID` column in the `Artist` table, establishing a relationship between albums and artists. The `ReleaseYear` and `Genre` columns provide additional details about each album.\n",
        "-  We have specified that the primary keys (`ArtistID` and `AlbumID`) are both `NOT NULL` and `AUTOINCREMENT`. This means they cannot be left blank and that, if they are left blank, SQL will assign the next available integer to them.\n",
        "-   We include **check constraints** in both tables to enforce certain conditions. In the `Artist` table, we ensure that the `Founded` year is between 1900 and 2023. Similarly, in the `Album` table, we check that the `ReleaseYear` is within the same range.\n",
        "- Finally, we enable **foreign key constraints**, which means that SQLite will ensure that attempts to update, delete, or insert data that causes problems for this will fail.\n",
        "\n",
        "By creating these tables with appropriate constraints, we set up a solid foundation for our database. The constraints help maintain data integrity by preventing invalid or inconsistent data from being inserted into the tables.\n",
        "\n",
        "Now that we have our tables ready, we can start inserting data into them using the `INSERT INTO` statement, which we'll explore in the next section."
      ],
      "metadata": {
        "id": "6Lkm3s-0G5lf"
      }
    },
    {
      "cell_type": "markdown",
      "source": [
        "## Using INSERT INTO (Single Row)\n",
        "\n",
        "\n",
        "Now that we have our `Artist` and `Album` tables created, let's explore how to insert a single row of data into each table using the `INSERT INTO` statement.\n",
        "\n",
        "The basic syntax for inserting a single row is as follows:\n",
        "\n",
        "```sql\n",
        "INSERT INTO table_name (column1, column2, ...)\n",
        "VALUES (value1, value2, ...);\n",
        "```\n",
        "\n",
        "Let's insert a single artist into the `Artist` table:"
      ],
      "metadata": {
        "id": "5LobT9FQG-in"
      }
    },
    {
      "cell_type": "code",
      "source": [
        "%%sql\n",
        "--Insert Marvin Gaye\n",
        "INSERT INTO Artist (ArtistID, Name, Country, Founded)\n",
        "VALUES (1, 'Marvin Gaye', 'United States', 1939);"
      ],
      "metadata": {
        "colab": {
          "base_uri": "https://localhost:8080/"
        },
        "id": "UhJnB4bnHIZ_",
        "outputId": "2314eeba-c864-409f-a2d2-a0d59b8005fe"
      },
      "execution_count": 62,
      "outputs": [
        {
          "output_type": "stream",
          "name": "stdout",
          "text": [
            " * sqlite:///greatest.db\n",
            "1 rows affected.\n"
          ]
        },
        {
          "output_type": "execute_result",
          "data": {
            "text/plain": [
              "[]"
            ]
          },
          "metadata": {},
          "execution_count": 62
        }
      ]
    },
    {
      "cell_type": "markdown",
      "source": [
        "In this example, we specify the table name `Artist` and list the columns we want to insert data into (`ArtistID`, `Name`, `Country`, `Founded`). We then provide the corresponding values for each column using the `VALUES` clause. The values are listed in the same order as the columns specified.\n",
        "\n",
        "Now, let's insert a single album into the `Album` table:"
      ],
      "metadata": {
        "id": "xFudKmc0HK8A"
      }
    },
    {
      "cell_type": "code",
      "source": [
        "%%sql\n",
        "-- Insert What's Going On\n",
        "INSERT INTO Album (AlbumID, Title, ArtistID, ReleaseYear,Genre, Ranking)\n",
        "VALUES (1, 'What''s Going On', 1, 1971, 'Soul', 1);"
      ],
      "metadata": {
        "colab": {
          "base_uri": "https://localhost:8080/"
        },
        "id": "HkPiZmSqHN2X",
        "outputId": "a714aca1-2e4d-4913-ff04-f44751a37cb1"
      },
      "execution_count": 63,
      "outputs": [
        {
          "output_type": "stream",
          "name": "stdout",
          "text": [
            " * sqlite:///greatest.db\n",
            "1 rows affected.\n"
          ]
        },
        {
          "output_type": "execute_result",
          "data": {
            "text/plain": [
              "[]"
            ]
          },
          "metadata": {},
          "execution_count": 63
        }
      ]
    },
    {
      "cell_type": "code",
      "source": [
        "%sql SELECT * FROM Album;"
      ],
      "metadata": {
        "colab": {
          "base_uri": "https://localhost:8080/",
          "height": 95
        },
        "id": "mrlM8pH2IRgX",
        "outputId": "d4734494-3f2e-4649-98c6-eaf9c4b047d7"
      },
      "execution_count": 64,
      "outputs": [
        {
          "output_type": "stream",
          "name": "stdout",
          "text": [
            " * sqlite:///greatest.db\n",
            "Done.\n"
          ]
        },
        {
          "output_type": "execute_result",
          "data": {
            "text/plain": [
              "[(1, \"What's Going On\", 1, 1971, 'Soul', 1)]"
            ],
            "text/html": [
              "<table>\n",
              "    <thead>\n",
              "        <tr>\n",
              "            <th>AlbumID</th>\n",
              "            <th>Title</th>\n",
              "            <th>ArtistID</th>\n",
              "            <th>ReleaseYear</th>\n",
              "            <th>Genre</th>\n",
              "            <th>Ranking</th>\n",
              "        </tr>\n",
              "    </thead>\n",
              "    <tbody>\n",
              "        <tr>\n",
              "            <td>1</td>\n",
              "            <td>What&#x27;s Going On</td>\n",
              "            <td>1</td>\n",
              "            <td>1971</td>\n",
              "            <td>Soul</td>\n",
              "            <td>1</td>\n",
              "        </tr>\n",
              "    </tbody>\n",
              "</table>"
            ]
          },
          "metadata": {},
          "execution_count": 64
        }
      ]
    },
    {
      "cell_type": "markdown",
      "source": [
        "Similarly, we specify the `Album` table and list the columns we want to insert data into. We provide the corresponding values in the `VALUES` clause, ensuring that the `ArtistID` matches the `ArtistID` of the artist we inserted earlier.\n",
        "\n",
        "It's important to note that when inserting data, we need to provide values for all columns that are marked as `NOT NULL` or do not have a default value defined. If we omit a column that allows `NULL` values or has a default value, the database will automatically assign the appropriate value.\n",
        "\n",
        "By using the `INSERT INTO` statement, we can easily add single rows of data to our tables. This is particularly useful when we have specific values for each column and want to insert them one at a time.\n",
        "\n",
        "In the next section, we'll explore how to insert multiple rows of data in a single statement, which is more efficient when dealing with larger datasets."
      ],
      "metadata": {
        "id": "QGxNtd8vHYHX"
      }
    },
    {
      "cell_type": "markdown",
      "source": [
        "## Using INSERT INTO (Multiple Rows)\n",
        "\n",
        "Inserting data one row at a time can be inefficient when you have a large number of records to insert. Fortunately, SQL allows you to insert multiple rows of data in a single `INSERT INTO` statement. This is achieved by specifying multiple sets of values in the `VALUES` clause.\n",
        "\n",
        "Let's insert the top 10 albums from Rolling Stone's Greatest Albums of All Time list into our database. First, we'll insert the artists:"
      ],
      "metadata": {
        "id": "_N1wFsOKHfvm"
      }
    },
    {
      "cell_type": "code",
      "source": [
        "%%sql\n",
        "INSERT INTO Artist (ArtistID, Name, Country, Founded)\n",
        "VALUES\n",
        "(2, 'The Beach Boys', 'United States', 1961),\n",
        "(3, 'Joni Mitchell', 'Canada', 1964),\n",
        "(4, 'Stevie Wonder', 'United States', 1961),\n",
        "(5, 'Nirvana', 'United States', 1987),\n",
        "(6, 'Fleetwood Mac', 'United Kingdom', 1967),\n",
        "(7, 'Prince', 'United States', 1975),\n",
        "(8, 'Bob Dylan', 'United States', 1961),\n",
        "(9, 'Lauryn Hill', 'United States', 1988),\n",
        "(10, 'The Beatles', 'United Kingdom', 1960),\n",
        "(11, 'Radiohead', 'United Kingdom', 1985),\n",
        "(12, 'Kendrick Lamar', 'United States', 2003),\n",
        "(13, 'Public Enemy', 'United States', 1985),\n",
        "(14, 'The Rolling Stones', 'United Kingdom', 1962),\n",
        "(15, 'Aretha Franklin', 'United States', 1956),\n",
        "(16, 'Michael Jackson', 'United States', 1964),\n",
        "(17, 'Kanye West', 'United States', 1996),\n",
        "(19, 'The Clash', 'United Kingdom', 1976);"
      ],
      "metadata": {
        "colab": {
          "base_uri": "https://localhost:8080/"
        },
        "id": "EaTiP8VVHXFe",
        "outputId": "3960dc29-2e56-4f4c-fe3f-07d6a39dd881"
      },
      "execution_count": 65,
      "outputs": [
        {
          "output_type": "stream",
          "name": "stdout",
          "text": [
            " * sqlite:///greatest.db\n",
            "17 rows affected.\n"
          ]
        },
        {
          "output_type": "execute_result",
          "data": {
            "text/plain": [
              "[]"
            ]
          },
          "metadata": {},
          "execution_count": 65
        }
      ]
    },
    {
      "cell_type": "markdown",
      "source": [
        "Now, let's insert the corresponding albums:"
      ],
      "metadata": {
        "id": "p3H5sHL5Hnmm"
      }
    },
    {
      "cell_type": "code",
      "source": [
        "%%sql\n",
        "INSERT INTO Album (AlbumID, Title, ArtistID, ReleaseYear, Genre, Ranking)\n",
        "VALUES\n",
        "(2, 'Pet Sounds', 2, 1966, 'Rock',2),\n",
        "(3, 'Blue', 3, 1971, 'Folk',3),\n",
        "(4, 'Songs in the Key of Life', 4, 1976, 'Soul',4),\n",
        "(5, 'Nevermind', 5, 1991, 'Grunge',5),\n",
        "(6, 'Rumours', 6, 1977, 'Soft Rock',6),\n",
        "(7, 'Purple Rain', 7, 1984, 'Pop',7),\n",
        "(8, 'Blood on the Tracks', 8, 1975, 'Folk Rock',8),\n",
        "(9, 'The Miseducation of Lauryn Hill', 9, 1998, 'Hip Hop',9),\n",
        "(10, 'Abbey Road', 10, 1969, 'Rock',10),\n",
        "(11, 'Revolver', 10, 1966, 'Rock',11),\n",
        "(12, 'Thriller', 16, 1982, 'Pop',12),\n",
        "(13, 'I Never Loved a Man the Way I Love You', 15, 1967, 'Soul',13),\n",
        "(14, 'Exile on Main Street', 14, 1972, 'Rock',14),\n",
        "(15, 'It Takes a Nation of Millions to Hold Us Back', 13, 1988, 'Hip Hop',15),\n",
        "(16, 'London Calling', 19, 1979, 'Punk',16),\n",
        "(17, 'My Beautiful Dark Twisted Fantasy', 17, 2010, 'Hip Hop',17),\n",
        "(18, 'Highway 61 Revisited', 8, 1965, 'Folk Rock',18),\n",
        "(19, 'To Pimp a Butterfly', 12, 2015, 'Hip Hop',19),\n",
        "(20, 'Kid A', 11, 2000, 'Electronic',20);"
      ],
      "metadata": {
        "colab": {
          "base_uri": "https://localhost:8080/"
        },
        "id": "dUYpMoLiHqgW",
        "outputId": "e18b2f77-9901-4481-bca9-179a0cc274ff"
      },
      "execution_count": 66,
      "outputs": [
        {
          "output_type": "stream",
          "name": "stdout",
          "text": [
            " * sqlite:///greatest.db\n",
            "19 rows affected.\n"
          ]
        },
        {
          "output_type": "execute_result",
          "data": {
            "text/plain": [
              "[]"
            ]
          },
          "metadata": {},
          "execution_count": 66
        }
      ]
    },
    {
      "cell_type": "markdown",
      "source": [
        "In these examples, we use a single `INSERT INTO` statement for each table, but we provide multiple sets of values separated by commas. Each set of values represents a new row to be inserted into the table.\n",
        "\n",
        "By inserting multiple rows at once, we can significantly reduce the number of statements required and improve the efficiency of our data insertion process.\n",
        "\n",
        "It's important to ensure that the number of values matches the number of columns specified and that the values adhere to any constraints defined on the table. If there are any violations, such as trying to insert a duplicate primary key value or violating a check constraint, the entire `INSERT INTO` statement will fail, and no rows will be inserted.\n",
        "\n",
        "In the next section, we'll explore what happens when constraints are violated and how to handle such situations."
      ],
      "metadata": {
        "id": "wgvVNp3THp6P"
      }
    },
    {
      "cell_type": "markdown",
      "source": [
        "## What Happens When Constraints Are Violated?\n",
        "\n",
        "Constraints are essential for maintaining data integrity in a database. They enforce rules and restrictions on the data that can be inserted into tables. When attempting to insert data that violates these constraints, SQL will raise an error and prevent the insertion from occurring. Let's explore some common constraint violations and their consequences.\n",
        "\n",
        "### Problems with Primary Keys\n",
        "\n",
        "A primary key uniquely identifies each row in a table. It ensures that no two rows have the same primary key value. If we attempt to insert a row with a primary key value that already exists in the table, SQL will raise a primary key constraint violation error.\n",
        "\n",
        "For example, let's try to insert an artist with an existing `ArtistID`:"
      ],
      "metadata": {
        "id": "uX9PiD8BHRJG"
      }
    },
    {
      "cell_type": "code",
      "source": [
        "%%sql\n",
        "INSERT INTO Artist (ArtistID, Name, Country, Founded)\n",
        "VALUES (1, 'Pink Floyd', 'United Kingdom', 1962);"
      ],
      "metadata": {
        "colab": {
          "base_uri": "https://localhost:8080/"
        },
        "id": "S6u9Ja_LayMu",
        "outputId": "dfb7558e-0f17-4d31-9c56-429bbf5c7860"
      },
      "execution_count": 67,
      "outputs": [
        {
          "output_type": "stream",
          "name": "stdout",
          "text": [
            " * sqlite:///greatest.db\n",
            "(sqlite3.IntegrityError) UNIQUE constraint failed: Artist.ArtistID\n",
            "[SQL: INSERT INTO Artist (ArtistID, Name, Country, Founded)\n",
            "VALUES (1, 'Pink Floyd', 'United Kingdom', 1962);]\n",
            "(Background on this error at: https://sqlalche.me/e/20/gkpj)\n"
          ]
        }
      ]
    },
    {
      "cell_type": "markdown",
      "source": [
        "Since we already have an artist with an `artist_id` of 1 this fails with an error message. This is because primary keys must be UNIQUE."
      ],
      "metadata": {
        "id": "qFDywMJQa-A9"
      }
    },
    {
      "cell_type": "markdown",
      "source": [
        "### Violating CHECK Constraints\n",
        "\n",
        "CHECK constraints allow us to specify conditions that the data must satisfy before it can be inserted into a table. If we attempt to insert data that violates a CHECK constraint, SQL will raise a constraint violation error.\n",
        "\n",
        "For example, let's try to insert an album with an invalid `ReleaseYear`:"
      ],
      "metadata": {
        "id": "Fi8TAOpWbRnZ"
      }
    },
    {
      "cell_type": "code",
      "source": [
        "%%sql\n",
        "INSERT INTO Album (AlbumID, Title, ArtistID, ReleaseYear, Genre)\n",
        "VALUES (11, 'Future Album', 1, 2028, 'Rock');"
      ],
      "metadata": {
        "colab": {
          "base_uri": "https://localhost:8080/"
        },
        "id": "JcIo6t3vbSZs",
        "outputId": "3919cf37-13db-497c-fb8d-4c1ff6312e83"
      },
      "execution_count": 68,
      "outputs": [
        {
          "output_type": "stream",
          "name": "stdout",
          "text": [
            " * sqlite:///greatest.db\n",
            "(sqlite3.IntegrityError) CHECK constraint failed: ReleaseYear >= 1900 AND ReleaseYear <= 2023\n",
            "[SQL: INSERT INTO Album (AlbumID, Title, ArtistID, ReleaseYear, Genre)\n",
            "VALUES (11, 'Future Album', 1, 2028, 'Rock');]\n",
            "(Background on this error at: https://sqlalche.me/e/20/gkpj)\n"
          ]
        }
      ]
    },
    {
      "cell_type": "markdown",
      "source": [
        "In our Album table, we have a CHECK constraint that ensures the ReleaseYear is between 1900 and 2023. Since 2028 violates this constraint, the insertion will fail with an error message indicating a CHECK constraint violation."
      ],
      "metadata": {
        "id": "u_8rs2XWbej0"
      }
    },
    {
      "cell_type": "markdown",
      "source": [
        "### Violating NOT NULL Constraints\n",
        "\n",
        "NOT NULL constraints ensure that a column cannot contain a NULL value. If we attempt to insert a row with a NULL value for a column that has a NOT NULL constraint, SQL will raise a constraint violation error.\n",
        "\n",
        "For example, let's try to insert an artist without specifying a `Name`:"
      ],
      "metadata": {
        "id": "SnDlLNZQbk8E"
      }
    },
    {
      "cell_type": "code",
      "source": [
        "%%sql\n",
        "INSERT INTO Artist (ArtistID, Country, Founded)\n",
        "VALUES (21, 'United States', 1980);"
      ],
      "metadata": {
        "colab": {
          "base_uri": "https://localhost:8080/"
        },
        "id": "Rx70dHsXblo9",
        "outputId": "b0855d49-8c89-4042-edef-e389493f2268"
      },
      "execution_count": 69,
      "outputs": [
        {
          "output_type": "stream",
          "name": "stdout",
          "text": [
            " * sqlite:///greatest.db\n",
            "(sqlite3.IntegrityError) NOT NULL constraint failed: Artist.Name\n",
            "[SQL: INSERT INTO Artist (ArtistID, Country, Founded)\n",
            "VALUES (21, 'United States', 1980);]\n",
            "(Background on this error at: https://sqlalche.me/e/20/gkpj)\n"
          ]
        }
      ]
    },
    {
      "cell_type": "markdown",
      "source": [
        "Since the `Name` column in the `Artist` table has a NOT NULL constraint, this insertion will fail with an error message indicating a NOT NULL constraint violation.\n",
        "\n",
        "When constraint violations occur, the entire `INSERT INTO` statement is rolled back, and no data is inserted into the table. This ensures that the database remains in a consistent state and maintains data integrity.\n",
        "\n",
        "To handle constraint violations, you can:\n",
        "\n",
        "-   Modify the data being inserted to satisfy the constraints.\n",
        "-   Update the table structure or constraints to accommodate the data.\n",
        "-   Catch and handle the specific error messages in your application code.\n",
        "\n",
        "By understanding and properly handling constraint violations, you can ensure that only valid and consistent data is inserted into your database tables."
      ],
      "metadata": {
        "id": "cApd9i-hbeyN"
      }
    },
    {
      "cell_type": "markdown",
      "source": [
        "### Auto-incrementing Primary Keys\n",
        "As we just saw, SQL will generally produce an error if you fail to provide values for a `NOT NULL` column. One exception to this is for integer primary keys with an `AUTOINCREMENT` option (such as `ArtistId` and `AlbumId`). If you leave this out of an insert statement, SQL will assign the *next available integer as a primary key.\n",
        "\n",
        "Here's an example:\n"
      ],
      "metadata": {
        "id": "_FYoAUhbb6ig"
      }
    },
    {
      "cell_type": "code",
      "source": [
        "%%sql\n",
        "--Inserting without specifying primary key\n",
        "INSERT INTO Artist (Name, Country, Founded)\n",
        "VALUES ('Pink Floyd', 'United Kingdom', 1962);"
      ],
      "metadata": {
        "colab": {
          "base_uri": "https://localhost:8080/"
        },
        "id": "NB2H05ctctdq",
        "outputId": "1e2fabe6-e2d0-4c27-e2b1-9b772c1d4bd4"
      },
      "execution_count": 70,
      "outputs": [
        {
          "output_type": "stream",
          "name": "stdout",
          "text": [
            " * sqlite:///greatest.db\n",
            "1 rows affected.\n"
          ]
        },
        {
          "output_type": "execute_result",
          "data": {
            "text/plain": [
              "[]"
            ]
          },
          "metadata": {},
          "execution_count": 70
        }
      ]
    },
    {
      "cell_type": "code",
      "source": [
        "%%sql\n",
        "SELECT *\n",
        "FROM Artist\n",
        "WHERE Name = \"Pink Floyd\";"
      ],
      "metadata": {
        "colab": {
          "base_uri": "https://localhost:8080/",
          "height": 95
        },
        "id": "cl7gO-racyEe",
        "outputId": "64518872-56bf-4ecd-a2be-e2299c4eafd6"
      },
      "execution_count": 71,
      "outputs": [
        {
          "output_type": "stream",
          "name": "stdout",
          "text": [
            " * sqlite:///greatest.db\n",
            "Done.\n"
          ]
        },
        {
          "output_type": "execute_result",
          "data": {
            "text/plain": [
              "[(20, 'Pink Floyd', 'United Kingdom', 1962)]"
            ],
            "text/html": [
              "<table>\n",
              "    <thead>\n",
              "        <tr>\n",
              "            <th>ArtistID</th>\n",
              "            <th>Name</th>\n",
              "            <th>Country</th>\n",
              "            <th>Founded</th>\n",
              "        </tr>\n",
              "    </thead>\n",
              "    <tbody>\n",
              "        <tr>\n",
              "            <td>20</td>\n",
              "            <td>Pink Floyd</td>\n",
              "            <td>United Kingdom</td>\n",
              "            <td>1962</td>\n",
              "        </tr>\n",
              "    </tbody>\n",
              "</table>"
            ]
          },
          "metadata": {},
          "execution_count": 71
        }
      ]
    },
    {
      "cell_type": "markdown",
      "source": [
        "## Deleting Data\n",
        "\n",
        "When working with databases, there may be situations where you need to remove data from tables. In SQL, the `DELETE` statement is used to delete rows from a table based on specified conditions. It's important to understand how to use the `DELETE` statement effectively and handle the deletion of related data to maintain data integrity.\n",
        "\n",
        "Let's start by inserting some sample data into our `Artist` and `Album` tables. We'll insert a fake artist named \"The Terrible Trio\" and a few terrible albums associated with this artist.\n",
        "\n",
        "First, let's insert the fake artist into the `Artist` table:"
      ],
      "metadata": {
        "id": "8E9Ip94fbDRo"
      }
    },
    {
      "cell_type": "code",
      "source": [
        "%%sql\n",
        "INSERT INTO Artist (Name, Country, Founded)\n",
        "VALUES ('The Terrible Trio', 'Nowhere', 2020);"
      ],
      "metadata": {
        "colab": {
          "base_uri": "https://localhost:8080/"
        },
        "id": "bioevH3yhuFI",
        "outputId": "dc123db7-65c8-4e62-da80-575f2cf1b3da"
      },
      "execution_count": 72,
      "outputs": [
        {
          "output_type": "stream",
          "name": "stdout",
          "text": [
            " * sqlite:///greatest.db\n",
            "1 rows affected.\n"
          ]
        },
        {
          "output_type": "execute_result",
          "data": {
            "text/plain": [
              "[]"
            ]
          },
          "metadata": {},
          "execution_count": 72
        }
      ]
    },
    {
      "cell_type": "markdown",
      "source": [
        "Now, let's insert some terrible albums. We'll use a subquery to find the ArtistID for the \"Terrible Trio.\""
      ],
      "metadata": {
        "id": "JLGAvYRahySI"
      }
    },
    {
      "cell_type": "code",
      "source": [
        "%%sql\n",
        "-- Inserting albums\n",
        "INSERT INTO Album (Title, ArtistID, ReleaseYear, Genre)\n",
        "VALUES\n",
        "    ('Awful Anthems', (SELECT ArtistID FROM Artist WHERE Name = 'The Terrible Trio'), 2021, 'Noise'),\n",
        "    ('Cringeworthy Chronicles', (SELECT ArtistID FROM Artist WHERE Name = 'The Terrible Trio'), 2022, 'Cacophony'),\n",
        "    ('Disastrous Ditties', (SELECT ArtistID FROM Artist WHERE Name = 'The Terrible Trio'), 2023, 'Racket');"
      ],
      "metadata": {
        "colab": {
          "base_uri": "https://localhost:8080/"
        },
        "id": "rTQQiJ9Ph1S1",
        "outputId": "c2734b24-5f2d-416c-8890-108ffa11eeee"
      },
      "execution_count": 73,
      "outputs": [
        {
          "output_type": "stream",
          "name": "stdout",
          "text": [
            " * sqlite:///greatest.db\n",
            "3 rows affected.\n"
          ]
        },
        {
          "output_type": "execute_result",
          "data": {
            "text/plain": [
              "[]"
            ]
          },
          "metadata": {},
          "execution_count": 73
        }
      ]
    },
    {
      "cell_type": "markdown",
      "source": [
        "Let's assure ourselves that these albums have been added."
      ],
      "metadata": {
        "id": "L65hMNJ9h67t"
      }
    },
    {
      "cell_type": "code",
      "source": [
        "%%sql\n",
        "SELECT\n",
        "  al.Title,\n",
        "  al.AlbumID,\n",
        "  ar.Name AS Artist,\n",
        "  ar.ArtistID\n",
        "FROM\n",
        "  Album al\n",
        "  JOIN Artist ar ON al.ArtistID = ar.ArtistID\n",
        "WHERE ar.Name = 'The Terrible Trio';"
      ],
      "metadata": {
        "colab": {
          "base_uri": "https://localhost:8080/",
          "height": 137
        },
        "id": "0ZGVkt1jh_TA",
        "outputId": "0e1b82fa-f7ca-47a5-f178-3c325843ca0f"
      },
      "execution_count": 74,
      "outputs": [
        {
          "output_type": "stream",
          "name": "stdout",
          "text": [
            " * sqlite:///greatest.db\n",
            "Done.\n"
          ]
        },
        {
          "output_type": "execute_result",
          "data": {
            "text/plain": [
              "[('Awful Anthems', 21, 'The Terrible Trio', 21),\n",
              " ('Cringeworthy Chronicles', 22, 'The Terrible Trio', 21),\n",
              " ('Disastrous Ditties', 23, 'The Terrible Trio', 21)]"
            ],
            "text/html": [
              "<table>\n",
              "    <thead>\n",
              "        <tr>\n",
              "            <th>Title</th>\n",
              "            <th>AlbumID</th>\n",
              "            <th>Artist</th>\n",
              "            <th>ArtistID</th>\n",
              "        </tr>\n",
              "    </thead>\n",
              "    <tbody>\n",
              "        <tr>\n",
              "            <td>Awful Anthems</td>\n",
              "            <td>21</td>\n",
              "            <td>The Terrible Trio</td>\n",
              "            <td>21</td>\n",
              "        </tr>\n",
              "        <tr>\n",
              "            <td>Cringeworthy Chronicles</td>\n",
              "            <td>22</td>\n",
              "            <td>The Terrible Trio</td>\n",
              "            <td>21</td>\n",
              "        </tr>\n",
              "        <tr>\n",
              "            <td>Disastrous Ditties</td>\n",
              "            <td>23</td>\n",
              "            <td>The Terrible Trio</td>\n",
              "            <td>21</td>\n",
              "        </tr>\n",
              "    </tbody>\n",
              "</table>"
            ]
          },
          "metadata": {},
          "execution_count": 74
        }
      ]
    },
    {
      "cell_type": "markdown",
      "source": [
        "### Basic DELETE Statement\n",
        "\n",
        "The basic syntax of the `DELETE` statement is as follows:\n",
        "\n",
        "```sql\n",
        "DELETE FROM table_name\n",
        "WHERE condition;\n",
        "```\n",
        "\n",
        "-   `table_name`: The name of the table from which you want to delete rows.\n",
        "-   `condition`: Specifies the condition that determines which rows will be deleted. If omitted, all rows in the table will be deleted.\n",
        "\n",
        "For example, to delete the album \"Awful Anthems\" from the `Album` table, you can use the following statement:"
      ],
      "metadata": {
        "id": "fAOoS0GEiuGf"
      }
    },
    {
      "cell_type": "code",
      "source": [
        "%%sql\n",
        "DELETE FROM Album\n",
        "WHERE Title = 'Awful Anthems';"
      ],
      "metadata": {
        "colab": {
          "base_uri": "https://localhost:8080/"
        },
        "id": "XjK7Plgyi9s0",
        "outputId": "10954fbc-db80-4edf-d2f0-be41b9d175d1"
      },
      "execution_count": 75,
      "outputs": [
        {
          "output_type": "stream",
          "name": "stdout",
          "text": [
            " * sqlite:///greatest.db\n",
            "1 rows affected.\n"
          ]
        },
        {
          "output_type": "execute_result",
          "data": {
            "text/plain": [
              "[]"
            ]
          },
          "metadata": {},
          "execution_count": 75
        }
      ]
    },
    {
      "cell_type": "code",
      "source": [
        "%%sql\n",
        "--Check that album is deleted\n",
        "SELECT * FROM Album WHERE Title = 'Awful Anthems';"
      ],
      "metadata": {
        "colab": {
          "base_uri": "https://localhost:8080/",
          "height": 74
        },
        "id": "vgfV8GgwjC-5",
        "outputId": "1b033d49-6e78-43e9-9325-b2978967715f"
      },
      "execution_count": 76,
      "outputs": [
        {
          "output_type": "stream",
          "name": "stdout",
          "text": [
            " * sqlite:///greatest.db\n",
            "Done.\n"
          ]
        },
        {
          "output_type": "execute_result",
          "data": {
            "text/plain": [
              "[]"
            ],
            "text/html": [
              "<table>\n",
              "    <thead>\n",
              "        <tr>\n",
              "            <th>AlbumID</th>\n",
              "            <th>Title</th>\n",
              "            <th>ArtistID</th>\n",
              "            <th>ReleaseYear</th>\n",
              "            <th>Genre</th>\n",
              "            <th>Ranking</th>\n",
              "        </tr>\n",
              "    </thead>\n",
              "    <tbody>\n",
              "    </tbody>\n",
              "</table>"
            ]
          },
          "metadata": {},
          "execution_count": 76
        }
      ]
    },
    {
      "cell_type": "markdown",
      "source": [
        "### Deleting Related Data\n",
        "\n",
        "When deleting data from a table that has related data in other tables, you need to consider the foreign key constraints and how to handle the deletion of related records.\n",
        "\n",
        "In our example, the `Album` table has a foreign key constraint on the `ArtistID` column that references the `ArtistID` column in the `Artist` table. This means that each album is associated with an artist."
      ],
      "metadata": {
        "id": "2x8npKrkjTJC"
      }
    },
    {
      "cell_type": "code",
      "source": [
        "%%sql\n",
        "-- This will fail\n",
        "DELETE FROM Artist\n",
        "WHERE Name = \"The Terrible Trio\";"
      ],
      "metadata": {
        "colab": {
          "base_uri": "https://localhost:8080/"
        },
        "id": "rtIJ45ZpjUHx",
        "outputId": "d86dd87a-f8a5-43f4-f493-dfbb19acb213"
      },
      "execution_count": 77,
      "outputs": [
        {
          "output_type": "stream",
          "name": "stdout",
          "text": [
            " * sqlite:///greatest.db\n",
            "(sqlite3.IntegrityError) FOREIGN KEY constraint failed\n",
            "[SQL: -- This will fail\n",
            "DELETE FROM Artist\n",
            "WHERE Name = \"The Terrible Trio\";]\n",
            "(Background on this error at: https://sqlalche.me/e/20/gkpj)\n"
          ]
        }
      ]
    },
    {
      "cell_type": "markdown",
      "source": [
        "In order to deal with with this problem, you have a few different options.\n",
        "\n"
      ],
      "metadata": {
        "id": "7sl-__RWmCMZ"
      }
    },
    {
      "cell_type": "markdown",
      "source": [
        "### Manual Deletion\n",
        "The most straightforward to way to do this deletion is to:\n",
        "1. Delete the related albums from the Album table first.\n",
        "2. Second, delete the artist from the Artist table.\n",
        "\n",
        "```sql\n",
        "--Delete albums\n",
        "DELETE FROM Album WHERE ArtistID = (SELECT ArtistID FROM Artist WHERE Name = 'The Terrible Trio');\n",
        "\n",
        "--Delete artist\n",
        "DELETE FROM Artist WHERE Name = 'The Terrible Trio';\n",
        "```\n",
        "\n",
        "### ON DELETE CASCADE\n",
        "\n",
        "The `ON DELETE CASCADE` option is used to automatically delete related records from a child table when a record in the parent table is deleted. It ensures data consistency and maintains referential integrity by cascading the delete operation to the associated records.\n",
        "\n",
        "When you define a foreign key constraint with `ON DELETE CASCADE`, deleting a record from the parent table will automatically delete all the related records in the child table that reference the deleted parent record.\n",
        "\n",
        "To set up `ON DELETE CASCADE`, you include it in the foreign key constraint definition when creating the child table:\n",
        "\n",
        "```sql\n",
        "CREATE TABLE Artist(\n",
        "  -- define all your columms\n",
        "  ...\n",
        "  FOREIGN KEY (ArtistID) REFERENCES Artist(ArtistID) ON DELETE CASCADE\n",
        ")\n",
        "```\n",
        "\n",
        "By adding this line to the foreign key constraint, you instruct the database to cascade the delete operation from the parent table (`Artist`) to the child table (`Album`) when an artist is deleted.\n",
        "\n",
        "With this option set, you can delete an artist and its related albums using a single DELETE statement:\n",
        "\n",
        "```sql\n",
        "DELETE FROM Artist WHERE Name = 'The Terrible Trio';\n",
        "```\n",
        "\n",
        "### ON DELETE SET NULL\n",
        "\n",
        "The `ON DELETE SET NULL` option is used to automatically set the foreign key values in the child table to `NULL` when a record in the parent table is deleted. It allows you to maintain the child records even if the associated parent record is removed.\n",
        "\n",
        "When you define a foreign key constraint with `ON DELETE SET NULL`, deleting a record from the parent table will set the foreign key values in the child table to `NULL` for the related records.\n",
        "\n",
        "To set up `ON DELETE SET NULL`, you include it in the foreign key constraint definition when creating the child table:\n",
        "\n",
        "```sql\n",
        "CREATE TABLE Artist(\n",
        "  -- define all your columms\n",
        "  ...\n",
        "  FOREIGN KEY (ArtistID) REFERENCES Artist(ArtistID) ON DELETE SET NULL\n",
        ")\n",
        "\n",
        "```\n",
        "By adding this line to the foreign key constraint, you instruct the database to set the `ArtistID` values in the `Album` table to `NULL` when an artist is deleted from the `Artist` table.\n",
        "\n",
        "### Choosing Between ON DELETE CASCADE, ON DELETE SET NULL, and no action\n",
        "\n",
        "The choice between `ON DELETE CASCADE` and `ON DELETE SET NULL` depends on your application's requirements and data integrity rules.\n",
        "\n",
        "-   Use `ON DELETE CASCADE` when you want to ensure that related records in the child table are automatically deleted when a parent record is deleted. This option maintains strict referential integrity and removes all associated data.\n",
        "-   Use `ON DELETE SET NULL` when you want to keep the related records in the child table even if the parent record is deleted. This option allows you to maintain the child records but sets the foreign key values to `NULL`, indicating that they are no longer associated with a valid parent record.\n",
        "\n",
        "It's important to consider the implications of each option. `ON DELETE CASCADE` permanently deletes related data, which may not be desirable in all scenarios. `ON DELETE SET NULL` keeps the related records but with a `NULL` foreign key value, which may require additional handling in your application.\n",
        "\n",
        "If you don't specify either `ON DELETE CASCADE` or `ON DELETE SET NULL`, the default behavior is to restrict the deletion of a parent record if there are related records in the child table. In this case, you would need to manually delete the related records from the child table before deleting the parent record."
      ],
      "metadata": {
        "id": "oP6POS5jmz8b"
      }
    },
    {
      "cell_type": "markdown",
      "source": [
        "### Deleting All Data versus Dropping a Table\n",
        "\n",
        "As we've seen, the **`DELETE FROM`** command is used to remove rows from a table. This operation can be selective or comprehensive. For example, if you only want to delete rows that meet certain criteria, you use a **`WHERE`** clause with your **`DELETE`** statement. Without a **`WHERE`** clause, **`DELETE`** will remove all rows in the table, but importantly, the table's structure remains untouched.  So, If you decide to remove all albums from the **`albums`** table, you simply omit the **`WHERE`** clause:\n",
        "\n",
        "```sql\n",
        "DELETE FROM Albums;\n",
        "```\n",
        "\n",
        "This action clears all data from the **`albums`** table but keeps its structure intact for future use. You can still add new albums to it or modify its structure later.\n",
        "\n",
        "One significant aspect of **`DELETE`** operations is that they are logged row by row in the database's transaction log. This means each row deletion is recorded, allowing for the possibility to undo the deletions if the operation is part of a transaction. However, this logging can make **`DELETE`** operations slower when dealing with a large number of rows.\n",
        "\n",
        "The **`DROP TABLE`** command, in contrast, is much more drastic. When you execute a **`DROP TABLE`** statement, you remove the entire table from the database. This includes not just the data but the table's structure, its columns, indexes, and any constraints defined on it.\n",
        "\n",
        "For instance, if you decide that the **`artists`** table is no longer needed and you want to erase it entirely from the database, you would use:\n",
        "\n",
        "```sql\n",
        "DROP TABLE Artists;\n",
        "```\n",
        "\n",
        "Executing this command means the **`artists`** table is deleted. The table, along with all its data and structure, is permanently removed from the database. Unlike **`DELETE`**, **`DROP TABLE`** does not log individual row deletions because it doesn't process each row; it removes the table as a whole. This makes **`DROP TABLE`** a fast operation but with the significant caveat that it is typically irreversible through standard SQL commands. Once a table is dropped, you cannot simply undo the action unless you have backups or specific database recovery tools in place."
      ],
      "metadata": {
        "id": "fRfYvstVqJb3"
      }
    },
    {
      "cell_type": "markdown",
      "source": [
        "## Introduction to Soft Delete\n",
        "\n",
        "In database management, there are situations where you may want to keep records even after they are marked as deleted. Instead of permanently removing data from the database, you can implement a \"soft delete\" approach. Soft delete involves adding a column to the table that indicates whether a record is active or deleted, allowing you to retain historical data while still being able to filter out deleted records when querying the table.\n",
        "\n",
        "Let's explore the concept of soft delete using our example of the terrible trio artist and their albums.\n",
        "\n",
        "### Adding a Soft Delete Column\n",
        "\n",
        "To implement soft delete, we need to add a column to the `Artist` and `Album` tables that represents the deleted status of each record. We'll call this column `IsDeleted` and set its default value to `0` (indicating an active record)"
      ],
      "metadata": {
        "id": "lqoBoqYeobHU"
      }
    },
    {
      "cell_type": "code",
      "source": [
        "%%sql\n",
        "ALTER TABLE Artist ADD COLUMN IsDeleted INTEGER DEFAULT 0;\n",
        "ALTER TABLE Album ADD COLUMN IsDeleted INTEGER DEFAULT 0;"
      ],
      "metadata": {
        "colab": {
          "base_uri": "https://localhost:8080/"
        },
        "id": "9dWIa2MMob-B",
        "outputId": "f631325e-656b-47b9-8620-9835aa774ad4"
      },
      "execution_count": 78,
      "outputs": [
        {
          "output_type": "stream",
          "name": "stdout",
          "text": [
            " * sqlite:///greatest.db\n",
            "Done.\n",
            "Done.\n"
          ]
        },
        {
          "output_type": "execute_result",
          "data": {
            "text/plain": [
              "[]"
            ]
          },
          "metadata": {},
          "execution_count": 78
        }
      ]
    },
    {
      "cell_type": "markdown",
      "source": [
        "These statements add the `IsDeleted` column to the `Artist` and `Album` tables, respectively.\n",
        "\n",
        "### Soft Deleting Records\n",
        "\n",
        "Now, let's say we want to soft delete the artist \"The Terrible Trio\" and their albums. Instead of using the `DELETE` statement, we'll update the `IsDeleted` column to mark the records as deleted."
      ],
      "metadata": {
        "id": "39laxDnDoj7A"
      }
    },
    {
      "cell_type": "code",
      "source": [
        "%%sql\n",
        "UPDATE Artist SET IsDeleted = 1 WHERE Name = 'The Terrible Trio';\n",
        "UPDATE Album SET IsDeleted = 1 WHERE ArtistID = (SELECT ArtistID FROM Artist WHERE Name = 'The Terrible Trio');"
      ],
      "metadata": {
        "colab": {
          "base_uri": "https://localhost:8080/"
        },
        "id": "yudTI_vzjBFD",
        "outputId": "2f2a68f2-6766-4437-e9bb-7b16b2b71ff2"
      },
      "execution_count": 79,
      "outputs": [
        {
          "output_type": "stream",
          "name": "stdout",
          "text": [
            " * sqlite:///greatest.db\n",
            "1 rows affected.\n",
            "2 rows affected.\n"
          ]
        },
        {
          "output_type": "execute_result",
          "data": {
            "text/plain": [
              "[]"
            ]
          },
          "metadata": {},
          "execution_count": 79
        }
      ]
    },
    {
      "cell_type": "markdown",
      "source": [
        "The first statement marks the artist \"The Terrible Trio\" as deleted by setting the `IsDeleted` column to `1`. The second statement marks all the albums associated with \"The Terrible Trio\" as deleted by setting their `IsDeleted` column to `1`.\n",
        "\n",
        "### Querying Soft Deleted Records\n",
        "\n",
        "When querying the `Artist` and `Album` tables, you can filter out the soft deleted records by adding a condition to check the `IsDeleted` column."
      ],
      "metadata": {
        "id": "tlLS-E8ioykW"
      }
    },
    {
      "cell_type": "code",
      "source": [
        "%%sql\n",
        "SELECT * FROM Artist WHERE IsDeleted = 0;"
      ],
      "metadata": {
        "colab": {
          "base_uri": "https://localhost:8080/",
          "height": 472
        },
        "id": "8eA4IVl-o57D",
        "outputId": "95fd2a95-0184-4a16-e4aa-d9120155baa5"
      },
      "execution_count": 80,
      "outputs": [
        {
          "output_type": "stream",
          "name": "stdout",
          "text": [
            " * sqlite:///greatest.db\n",
            "Done.\n"
          ]
        },
        {
          "output_type": "execute_result",
          "data": {
            "text/plain": [
              "[(1, 'Marvin Gaye', 'United States', 1939, 0),\n",
              " (2, 'The Beach Boys', 'United States', 1961, 0),\n",
              " (3, 'Joni Mitchell', 'Canada', 1964, 0),\n",
              " (4, 'Stevie Wonder', 'United States', 1961, 0),\n",
              " (5, 'Nirvana', 'United States', 1987, 0),\n",
              " (6, 'Fleetwood Mac', 'United Kingdom', 1967, 0),\n",
              " (7, 'Prince', 'United States', 1975, 0),\n",
              " (8, 'Bob Dylan', 'United States', 1961, 0),\n",
              " (9, 'Lauryn Hill', 'United States', 1988, 0),\n",
              " (10, 'The Beatles', 'United Kingdom', 1960, 0),\n",
              " (11, 'Radiohead', 'United Kingdom', 1985, 0),\n",
              " (12, 'Kendrick Lamar', 'United States', 2003, 0),\n",
              " (13, 'Public Enemy', 'United States', 1985, 0),\n",
              " (14, 'The Rolling Stones', 'United Kingdom', 1962, 0),\n",
              " (15, 'Aretha Franklin', 'United States', 1956, 0),\n",
              " (16, 'Michael Jackson', 'United States', 1964, 0),\n",
              " (17, 'Kanye West', 'United States', 1996, 0),\n",
              " (19, 'The Clash', 'United Kingdom', 1976, 0),\n",
              " (20, 'Pink Floyd', 'United Kingdom', 1962, 0)]"
            ],
            "text/html": [
              "<table>\n",
              "    <thead>\n",
              "        <tr>\n",
              "            <th>ArtistID</th>\n",
              "            <th>Name</th>\n",
              "            <th>Country</th>\n",
              "            <th>Founded</th>\n",
              "            <th>IsDeleted</th>\n",
              "        </tr>\n",
              "    </thead>\n",
              "    <tbody>\n",
              "        <tr>\n",
              "            <td>1</td>\n",
              "            <td>Marvin Gaye</td>\n",
              "            <td>United States</td>\n",
              "            <td>1939</td>\n",
              "            <td>0</td>\n",
              "        </tr>\n",
              "        <tr>\n",
              "            <td>2</td>\n",
              "            <td>The Beach Boys</td>\n",
              "            <td>United States</td>\n",
              "            <td>1961</td>\n",
              "            <td>0</td>\n",
              "        </tr>\n",
              "        <tr>\n",
              "            <td>3</td>\n",
              "            <td>Joni Mitchell</td>\n",
              "            <td>Canada</td>\n",
              "            <td>1964</td>\n",
              "            <td>0</td>\n",
              "        </tr>\n",
              "        <tr>\n",
              "            <td>4</td>\n",
              "            <td>Stevie Wonder</td>\n",
              "            <td>United States</td>\n",
              "            <td>1961</td>\n",
              "            <td>0</td>\n",
              "        </tr>\n",
              "        <tr>\n",
              "            <td>5</td>\n",
              "            <td>Nirvana</td>\n",
              "            <td>United States</td>\n",
              "            <td>1987</td>\n",
              "            <td>0</td>\n",
              "        </tr>\n",
              "        <tr>\n",
              "            <td>6</td>\n",
              "            <td>Fleetwood Mac</td>\n",
              "            <td>United Kingdom</td>\n",
              "            <td>1967</td>\n",
              "            <td>0</td>\n",
              "        </tr>\n",
              "        <tr>\n",
              "            <td>7</td>\n",
              "            <td>Prince</td>\n",
              "            <td>United States</td>\n",
              "            <td>1975</td>\n",
              "            <td>0</td>\n",
              "        </tr>\n",
              "        <tr>\n",
              "            <td>8</td>\n",
              "            <td>Bob Dylan</td>\n",
              "            <td>United States</td>\n",
              "            <td>1961</td>\n",
              "            <td>0</td>\n",
              "        </tr>\n",
              "        <tr>\n",
              "            <td>9</td>\n",
              "            <td>Lauryn Hill</td>\n",
              "            <td>United States</td>\n",
              "            <td>1988</td>\n",
              "            <td>0</td>\n",
              "        </tr>\n",
              "        <tr>\n",
              "            <td>10</td>\n",
              "            <td>The Beatles</td>\n",
              "            <td>United Kingdom</td>\n",
              "            <td>1960</td>\n",
              "            <td>0</td>\n",
              "        </tr>\n",
              "        <tr>\n",
              "            <td>11</td>\n",
              "            <td>Radiohead</td>\n",
              "            <td>United Kingdom</td>\n",
              "            <td>1985</td>\n",
              "            <td>0</td>\n",
              "        </tr>\n",
              "        <tr>\n",
              "            <td>12</td>\n",
              "            <td>Kendrick Lamar</td>\n",
              "            <td>United States</td>\n",
              "            <td>2003</td>\n",
              "            <td>0</td>\n",
              "        </tr>\n",
              "        <tr>\n",
              "            <td>13</td>\n",
              "            <td>Public Enemy</td>\n",
              "            <td>United States</td>\n",
              "            <td>1985</td>\n",
              "            <td>0</td>\n",
              "        </tr>\n",
              "        <tr>\n",
              "            <td>14</td>\n",
              "            <td>The Rolling Stones</td>\n",
              "            <td>United Kingdom</td>\n",
              "            <td>1962</td>\n",
              "            <td>0</td>\n",
              "        </tr>\n",
              "        <tr>\n",
              "            <td>15</td>\n",
              "            <td>Aretha Franklin</td>\n",
              "            <td>United States</td>\n",
              "            <td>1956</td>\n",
              "            <td>0</td>\n",
              "        </tr>\n",
              "        <tr>\n",
              "            <td>16</td>\n",
              "            <td>Michael Jackson</td>\n",
              "            <td>United States</td>\n",
              "            <td>1964</td>\n",
              "            <td>0</td>\n",
              "        </tr>\n",
              "        <tr>\n",
              "            <td>17</td>\n",
              "            <td>Kanye West</td>\n",
              "            <td>United States</td>\n",
              "            <td>1996</td>\n",
              "            <td>0</td>\n",
              "        </tr>\n",
              "        <tr>\n",
              "            <td>19</td>\n",
              "            <td>The Clash</td>\n",
              "            <td>United Kingdom</td>\n",
              "            <td>1976</td>\n",
              "            <td>0</td>\n",
              "        </tr>\n",
              "        <tr>\n",
              "            <td>20</td>\n",
              "            <td>Pink Floyd</td>\n",
              "            <td>United Kingdom</td>\n",
              "            <td>1962</td>\n",
              "            <td>0</td>\n",
              "        </tr>\n",
              "    </tbody>\n",
              "</table>"
            ]
          },
          "metadata": {},
          "execution_count": 80
        }
      ]
    },
    {
      "cell_type": "markdown",
      "source": [
        "### Restoring Soft Deleted Records\n",
        "One of the advantages of soft delete is the ability to restore deleted records if needed. To restore a soft deleted record, you can update the IsDeleted column back to 0."
      ],
      "metadata": {
        "id": "CPsry-7ioytG"
      }
    },
    {
      "cell_type": "code",
      "source": [
        "%%sql\n",
        "UPDATE Artist SET IsDeleted = 0 WHERE Name = 'The Terrible Trio';\n",
        "UPDATE Album SET IsDeleted = 0 WHERE ArtistID = (SELECT ArtistID FROM Artist WHERE Name = 'The Terrible Trio');"
      ],
      "metadata": {
        "id": "AHJpdxIFp8R1"
      },
      "execution_count": null,
      "outputs": []
    },
    {
      "cell_type": "markdown",
      "source": [
        "These statements restore the artist \"The Terrible Trio\" and their associated albums by setting the `IsDeleted` column back to `0`.\n",
        "\n",
        "### Considerations\n",
        "\n",
        "When implementing soft delete, keep in mind the following considerations:\n",
        "\n",
        "-   Soft delete adds an overhead to your queries, as you need to include the `IsDeleted` condition in your `WHERE` clauses to filter out deleted records.\n",
        "-   Soft deleted records still occupy space in the database, so you need to have a strategy for eventually purging them if necessary.\n",
        "-   If you have foreign key constraints, you may need to handle soft deletion carefully to maintain data integrity. You can consider using `ON DELETE SET NULL` or `ON UPDATE CASCADE` to manage the relationships between soft deleted records.\n",
        "\n",
        "Soft delete provides a flexible approach to data deletion, allowing you to retain historical data while still being able to manage deleted records effectivel"
      ],
      "metadata": {
        "id": "Y1TV3KWkqENe"
      }
    },
    {
      "cell_type": "code",
      "source": [],
      "metadata": {
        "id": "tBNTReRcqE_m"
      },
      "execution_count": null,
      "outputs": []
    }
  ]
}