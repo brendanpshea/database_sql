{
  "nbformat": 4,
  "nbformat_minor": 0,
  "metadata": {
    "colab": {
      "provenance": [],
      "authorship_tag": "ABX9TyNShPeUnPuI/dhMIe0wZqeC",
      "include_colab_link": true
    },
    "kernelspec": {
      "name": "python3",
      "display_name": "Python 3"
    },
    "language_info": {
      "name": "python"
    }
  },
  "cells": [
    {
      "cell_type": "markdown",
      "metadata": {
        "id": "view-in-github",
        "colab_type": "text"
      },
      "source": [
        "<a href=\"https://colab.research.google.com/github/brendanpshea/database_sql/blob/main/data/MarioBrosPlumbing.ipynb\" target=\"_parent\"><img src=\"https://colab.research.google.com/assets/colab-badge.svg\" alt=\"Open In Colab\"/></a>"
      ]
    },
    {
      "cell_type": "code",
      "execution_count": 1,
      "metadata": {
        "id": "xK9HukE4T1CO"
      },
      "outputs": [],
      "source": [
        "# Connect sql magic\n",
        "%load_ext sql\n",
        "%sql sqlite:///mario_bros_plumbing.db"
      ]
    },
    {
      "cell_type": "code",
      "source": [
        "%%sql\n",
        "CREATE TABLE Customers (\n",
        "  customer_id INTEGER PRIMARY KEY,\n",
        "  first_name TEXT,\n",
        "  last_name TEXT,\n",
        "  address TEXT,\n",
        "  phone_number TEXT\n",
        ");\n",
        "\n",
        "CREATE TABLE Employees (\n",
        "  employee_id INTEGER PRIMARY KEY,\n",
        "  first_name TEXT,\n",
        "  last_name TEXT,\n",
        "  job_title TEXT,\n",
        "  hire_date TEXT\n",
        ");\n",
        "\n",
        "CREATE TABLE ServiceTypes (\n",
        "  service_type_id INTEGER PRIMARY KEY,\n",
        "  service_type_name TEXT,\n",
        "  description TEXT\n",
        ");\n",
        "\n",
        "CREATE TABLE Services (\n",
        "  service_id INTEGER PRIMARY KEY,\n",
        "  service_type_id INTEGER,\n",
        "  service_name TEXT,\n",
        "  description TEXT,\n",
        "  price REAL,\n",
        "  FOREIGN KEY (service_type_id) REFERENCES ServiceTypes (service_type_id)\n",
        ");\n",
        "\n",
        "CREATE TABLE Orders (\n",
        "  -- Keeps track of a customer's orders\n",
        "  order_id INTEGER PRIMARY KEY,\n",
        "  customer_id INTEGER,\n",
        "  employee_id INTEGER,\n",
        "  order_date TEXT,\n",
        "  total_amount REAL,\n",
        "  FOREIGN KEY (customer_id) REFERENCES Customers (customer_id),\n",
        "  FOREIGN KEY (employee_id) REFERENCES Employees (employee_id)\n",
        ");\n",
        "\n",
        "CREATE TABLE Order_Items (\n",
        "  -- Keeps track of a customer's order items\n",
        "  -- This is one line on an invoice\n",
        "  order_item_id INTEGER PRIMARY KEY,\n",
        "  order_id INTEGER,\n",
        "  service_id INTEGER,\n",
        "  quantity INTEGER,\n",
        "  FOREIGN KEY (order_id) REFERENCES Orders (order_id),\n",
        "  FOREIGN KEY (service_id) REFERENCES Services (service_id)\n",
        ");"
      ],
      "metadata": {
        "colab": {
          "base_uri": "https://localhost:8080/"
        },
        "id": "dxSwx1KPT6MV",
        "outputId": "14b2cb0a-0a2d-407e-a7ff-035acfe5bde7"
      },
      "execution_count": 2,
      "outputs": [
        {
          "output_type": "stream",
          "name": "stdout",
          "text": [
            " * sqlite:///mario_bros_plumbing.db\n",
            "Done.\n",
            "Done.\n",
            "Done.\n",
            "Done.\n",
            "Done.\n",
            "Done.\n"
          ]
        },
        {
          "output_type": "execute_result",
          "data": {
            "text/plain": [
              "[]"
            ]
          },
          "metadata": {},
          "execution_count": 2
        }
      ]
    },
    {
      "cell_type": "code",
      "source": [
        "import base64\n",
        "from IPython.display import Image, display, HTML\n",
        "\n",
        "def mm(graph):\n",
        "    graphbytes = graph.encode(\"utf8\")\n",
        "    base64_bytes = base64.b64encode(graphbytes)\n",
        "    base64_string = base64_bytes.decode(\"ascii\")\n",
        "    display(Image(url=\"https://mermaid.ink/img/\" + base64_string))\n",
        "\n",
        "\n",
        "mm(\"\"\"\n",
        "classDiagram\n",
        "    Customers \"1\" -- \"*\" Orders\n",
        "    Employees \"1\" -- \"*\" Orders\n",
        "    Orders \"1\" -- \"*\" Order_Items\n",
        "    Services \"1\" -- \"*\" Order_Items\n",
        "    ServiceTypes <|-- Services\n",
        "\n",
        "    class Customers {\n",
        "        +customer_id: INTEGER PK\n",
        "        +first_name: TEXT\n",
        "        +last_name: TEXT\n",
        "        +address: TEXT\n",
        "        +phone_number: TEXT\n",
        "    }\n",
        "\n",
        "    class Employees {\n",
        "        +employee_id: INTEGER PK\n",
        "        +first_name: TEXT\n",
        "        +last_name: TEXT\n",
        "        +job_title: TEXT\n",
        "        +hire_date: TEXT\n",
        "    }\n",
        "\n",
        "    class ServiceTypes {\n",
        "        +service_type_id: INTEGER PK\n",
        "        +service_type_name: TEXT\n",
        "        +description: TEXT\n",
        "    }\n",
        "\n",
        "    class Services {\n",
        "        +service_id: INTEGER PK\n",
        "        +service_type_id: INTEGER FK\n",
        "        +service_name: TEXT\n",
        "        +description: TEXT\n",
        "        +price: REAL\n",
        "    }\n",
        "\n",
        "    class Orders {\n",
        "        +order_id: INTEGER PK\n",
        "        +customer_id: INTEGER FK\n",
        "        +employee_id: INTEGER FK\n",
        "        +order_date: TEXT\n",
        "        +total_amount: REAL\n",
        "    }\n",
        "\n",
        "    class Order_Items {\n",
        "        +order_item_id: INTEGER PK\n",
        "        +order_id: INTEGER FK\n",
        "        +service_id: INTEGER FK\n",
        "        +quantity: INTEGER\n",
        "    }\n",
        "    \"\"\"\n",
        "  )"
      ],
      "metadata": {
        "colab": {
          "base_uri": "https://localhost:8080/",
          "height": 634
        },
        "id": "EvODB8yThHcX",
        "outputId": "24e6dc09-930d-4962-a9e5-5ca328ec0ea4"
      },
      "execution_count": 13,
      "outputs": [
        {
          "output_type": "display_data",
          "data": {
            "text/html": [
              "<img src=\"https://mermaid.ink/img/CmNsYXNzRGlhZ3JhbQogICAgQ3VzdG9tZXJzICIxIiAtLSAiKiIgT3JkZXJzCiAgICBFbXBsb3llZXMgIjEiIC0tICIqIiBPcmRlcnMKICAgIE9yZGVycyAiMSIgLS0gIioiIE9yZGVyX0l0ZW1zCiAgICBTZXJ2aWNlcyAiMSIgLS0gIioiIE9yZGVyX0l0ZW1zCiAgICBTZXJ2aWNlVHlwZXMgPHwtLSBTZXJ2aWNlcwoKICAgIGNsYXNzIEN1c3RvbWVycyB7CiAgICAgICAgK2N1c3RvbWVyX2lkOiBJTlRFR0VSIFBLCiAgICAgICAgK2ZpcnN0X25hbWU6IFRFWFQKICAgICAgICArbGFzdF9uYW1lOiBURVhUCiAgICAgICAgK2FkZHJlc3M6IFRFWFQKICAgICAgICArcGhvbmVfbnVtYmVyOiBURVhUCiAgICB9CgogICAgY2xhc3MgRW1wbG95ZWVzIHsKICAgICAgICArZW1wbG95ZWVfaWQ6IElOVEVHRVIgUEsKICAgICAgICArZmlyc3RfbmFtZTogVEVYVAogICAgICAgICtsYXN0X25hbWU6IFRFWFQKICAgICAgICAram9iX3RpdGxlOiBURVhUCiAgICAgICAgK2hpcmVfZGF0ZTogVEVYVAogICAgfQoKICAgIGNsYXNzIFNlcnZpY2VUeXBlcyB7CiAgICAgICAgK3NlcnZpY2VfdHlwZV9pZDogSU5URUdFUiBQSwogICAgICAgICtzZXJ2aWNlX3R5cGVfbmFtZTogVEVYVAogICAgICAgICtkZXNjcmlwdGlvbjogVEVYVAogICAgfQoKICAgIGNsYXNzIFNlcnZpY2VzIHsKICAgICAgICArc2VydmljZV9pZDogSU5URUdFUiBQSwogICAgICAgICtzZXJ2aWNlX3R5cGVfaWQ6IElOVEVHRVIgRksKICAgICAgICArc2VydmljZV9uYW1lOiBURVhUCiAgICAgICAgK2Rlc2NyaXB0aW9uOiBURVhUCiAgICAgICAgK3ByaWNlOiBSRUFMCiAgICB9CgogICAgY2xhc3MgT3JkZXJzIHsKICAgICAgICArb3JkZXJfaWQ6IElOVEVHRVIgUEsKICAgICAgICArY3VzdG9tZXJfaWQ6IElOVEVHRVIgRksKICAgICAgICArZW1wbG95ZWVfaWQ6IElOVEVHRVIgRksKICAgICAgICArb3JkZXJfZGF0ZTogVEVYVAogICAgICAgICt0b3RhbF9hbW91bnQ6IFJFQUwKICAgIH0KCiAgICBjbGFzcyBPcmRlcl9JdGVtcyB7CiAgICAgICAgK29yZGVyX2l0ZW1faWQ6IElOVEVHRVIgUEsKICAgICAgICArb3JkZXJfaWQ6IElOVEVHRVIgRksKICAgICAgICArc2VydmljZV9pZDogSU5URUdFUiBGSwogICAgICAgICtxdWFudGl0eTogSU5URUdFUgogICAgfQogICAg\"/>"
            ],
            "text/plain": [
              "<IPython.core.display.Image object>"
            ]
          },
          "metadata": {}
        }
      ]
    },
    {
      "cell_type": "markdown",
      "source": [
        "## Guide to Interpreting a UML Entity-Relationship Diagram\n",
        "THe above diagram is in **Unified Modeling Language.** This is similar to the Crow's foot style we saw before, but with a few key differences.\n",
        "\n",
        "### Entities:\n",
        "  -   In UML, entities are represented as classes, which are depicted as rectangles.\n",
        "  -   Each entity (class) is labeled with its name at the top of the rectangle.\n",
        "  -   The attributes of an entity are listed inside the rectangle, below the entity name.\n",
        "  -   In this diagram, the entities are Customers, Employees, ServiceTypes, Services, Orders, and Order_Items.-   Attributes:\n",
        "  -   Attributes represent the properties or characteristics of an entity.\n",
        "  -   Each attribute is listed on a separate line within the entity's rectangle.\n",
        "  -   The attribute name is followed by a colon (`:`) and its data type.\n",
        "  -   Primary key attributes are marked with `<<PK>>`, indicating that they uniquely identify each record in the entity.\n",
        "  -   Foreign key attributes are marked with `<<FK>>`, indicating that they establish relationships with other entities.\n",
        "  \n",
        "### Relationships:\n",
        "  -   Relationships between entities are represented by lines connecting the rectangles.\n",
        "  -   The cardinality of a relationship is indicated at each end of the line.\n",
        "  -   In this diagram, a single number (`1`) represents a one-to-one or one-to-many relationship, while an asterisk (`*`) represents a many-to-one or many-to-many relationship.\n",
        "  -   For example, the line between Customers and Orders with `1` on the Customers end and `*` on the Orders end indicates that one customer can have multiple orders (a one-to-many relationship).\n",
        "\n",
        "### Inheritance:\n",
        "  -   Inheritance is a concept in object-oriented modeling where one entity (subclass) inherits the attributes and behaviors of another entity (superclass).\n",
        "  -   In UML, inheritance is represented by a line with a hollow arrowhead pointing from the subclass to the superclass.\n",
        "  -   In this diagram, the inheritance relationship is shown between Services and ServiceTypes, with Services inheriting from ServiceTypes.\n",
        "    \n",
        "### Reading the Diagram:\n",
        "  -   Start by identifying the entities (classes) in the diagram, which are represented by rectangles.\n",
        "  -   Look at the attributes within each entity to understand the properties and characteristics of each entity.\n",
        "  -   Identify the primary key attributes marked with `<<PK>>` and foreign key attributes marked with `<<FK>>`.\n",
        "  -   Follow the lines connecting the entities to understand the relationships between them.\n",
        "  -   Look at the cardinality indicators (`1` or `*`) to determine the nature of the relationships (one-to-one, one-to-many, many-to-one, or many-to-many).\n",
        "  -   Observe any inheritance relationships, where one entity inherits from another, indicated by a line with a hollow arrowhead."
      ],
      "metadata": {
        "id": "-EMR-pxEi9Fq"
      }
    },
    {
      "cell_type": "code",
      "source": [
        "%%sql\n",
        "INSERT INTO Employees (employee_id, first_name, last_name, job_title, hire_date)\n",
        "VALUES\n",
        "  (1, 'Mario', 'Bro', 'Master Plumber', '1981-09-13'),\n",
        "  (2, 'Luigi', 'Bro', 'Plumber', '1990-02-20'),\n",
        "  (3, 'Peach', 'Toadstool', 'Manager', '2000-11-05'),\n",
        "  (4, 'Birdo', 'Bird', 'Apprentice Plumber', '2015-03-10');"
      ],
      "metadata": {
        "colab": {
          "base_uri": "https://localhost:8080/"
        },
        "id": "B0WT2X7FUbOq",
        "outputId": "fa3602aa-60bd-4a85-e3b6-dcfb0d0d0e02"
      },
      "execution_count": 3,
      "outputs": [
        {
          "output_type": "stream",
          "name": "stdout",
          "text": [
            " * sqlite:///mario_bros_plumbing.db\n",
            "4 rows affected.\n"
          ]
        },
        {
          "output_type": "execute_result",
          "data": {
            "text/plain": [
              "[]"
            ]
          },
          "metadata": {},
          "execution_count": 3
        }
      ]
    },
    {
      "cell_type": "code",
      "source": [
        "%%sql\n",
        "INSERT INTO Customers (customer_id, first_name, last_name, address, phone_number)\n",
        "VALUES\n",
        "  (1, 'Peach', 'Toadstool', 'Mushroom Castle, Toad Town', '(555) 123-4567'),\n",
        "  (2, 'Yoshi', 'Dino', '24 Egg Island, Dinosaur Land', '(555) 987-6543'),\n",
        "  (3, 'Daisy', 'Sarasa', '10 Sarasaland Way, Chai Kingdom', '(555) 456-7890'),\n",
        "  (4, 'Toadette', 'Toadstool', '15 Mushroom St, Toad Town', '(555) 789-0123'),\n",
        "  (5, 'Bowser', 'Koopa', '1 Bowser Castle, Dark Land', '(555) 654-3210'),\n",
        "  (6, 'Wario', 'Wario', '100 Gold Coin Blvd, Diamond City', '(555) 321-0987'),\n",
        "  (7, 'Waluigi', 'Wario', '101 Silver Coin Ave, Diamond City', '(555) 098-7654'),\n",
        "  (8, 'Donkey', 'Kong', '50 Banana Jungle, DK Island', '(555) 111-2222'),\n",
        "  (9, 'Diddy', 'Kong', '51 Banana Jungle, DK Island', '(555) 333-4444'),\n",
        "  (10, 'Rosalina', 'Cosmic', 'Comet Observatory, Space', '(555) 555-6666'),\n",
        "  (11, 'Cappy', 'Bonneter', '1 Hat Kingdom Way, Cap Kingdom', '(555) 777-8888'),\n",
        "  (12, 'Pauline', 'Toyopolis', '1 New Donk City Plaza, Metro Kingdom', '(555) 999-0000'),\n",
        "   (13, 'Link', 'Hyrule', '1 Hyrule Castle, Hyrule Kingdom', '(555) 234-5678'),\n",
        "  (14, 'Zelda', 'Hyrule', '2 Hyrule Castle, Hyrule Kingdom', '(555) 345-6789'),\n",
        "  (15, 'Samus', 'Aran', '10 Bounty Hunter Ave, Space Colony K-2L', '(555) 456-7890'),\n",
        "  (16, 'Fox', 'McCloud', '20 Corneria St, Lylat System', '(555) 567-8901'),\n",
        "  (17, 'Pikachu', 'Pokemon', '30 Electric Rodent Rd, Kanto Region', '(555) 678-9012'),\n",
        "  (18, 'Kirby', 'Puffball', '40 Dream Land Ln, Planet Popstar', '(555) 789-0123'),\n",
        "  (19, 'Captain', 'Falcon', '50 Mute City Blvd, Port Town', '(555) 890-1234'),\n",
        "  (20, 'Ness', 'Earthbound', '60 Onett Ave, Eagleland', '(555) 901-2345'),\n",
        "  (21, 'Marth', 'Altea', '70 Fire Emblem St, Kingdom of Altea', '(555) 012-3456'),\n",
        "  (22, 'Roy', 'Pherae', '71 Fire Emblem St, Lycia', '(555) 123-4567'),\n",
        "  (23, 'Toad', 'Toadstool', '80 Mushroom Way, Toad Town', '(555) 234-5678'),\n",
        "  (24, 'Koopa', 'Troopa', '90 Shell Blvd, Dark Land', '(555) 345-6789'),\n",
        "  (25, 'Dry', 'Bones', '91 Bone Yard Rd, Dark Land', '(555) 456-7890'),\n",
        "  (26, 'Shy', 'Guy', '100 Mask St, Dark Land', '(555) 567-8901'),\n",
        "  (27, 'Lakitu', 'Cloud', '110 Cloud Way, Skyworld', '(555) 678-9012'),\n",
        "  (28, 'Toadsworth', 'Toadstool', '120 Cane Ln, Toad Town', '(555) 789-0123'),\n",
        "  (29, 'Birdo', 'Egg', '130 Egg Shooter Ave, Subcon', '(555) 890-1234'),\n",
        "  (30, 'Nabbit', 'Thief', '140 Burglar Blvd, Acorn Plains', '(555) 901-2345'),\n",
        "  (31, 'Funky', 'Kong', '150 Surf Shop St, DK Island', '(555) 012-3456'),\n",
        "  (32, 'Cranky', 'Kong', '160 Rocking Chair Rd, DK Island', '(555) 123-4567');"
      ],
      "metadata": {
        "colab": {
          "base_uri": "https://localhost:8080/"
        },
        "id": "WlawbjDiUc--",
        "outputId": "9972db52-5104-4b75-87bf-1540b9a10c3c"
      },
      "execution_count": 4,
      "outputs": [
        {
          "output_type": "stream",
          "name": "stdout",
          "text": [
            " * sqlite:///mario_bros_plumbing.db\n",
            "32 rows affected.\n"
          ]
        },
        {
          "output_type": "execute_result",
          "data": {
            "text/plain": [
              "[]"
            ]
          },
          "metadata": {},
          "execution_count": 4
        }
      ]
    },
    {
      "cell_type": "code",
      "source": [
        "%%sql\n",
        "INSERT INTO ServiceTypes (service_type_id, service_type_name, description)\n",
        "VALUES\n",
        "  (1, 'Repair', 'Services related to fixing and repairing plumbing issues'),\n",
        "  (2, 'Installation', 'Services related to installing new plumbing fixtures and systems'),\n",
        "  (3, 'Inspection', 'Services related to inspecting and assessing plumbing systems');\n",
        "\n",
        "INSERT INTO Services (service_id, service_type_id, service_name, description, price)\n",
        "VALUES\n",
        "  (1, 1, 'Pipe Repair', 'Fix leaky or broken pipes', 50.00),\n",
        "  (2, 1, 'Drain Cleaning', 'Clear clogged drains and pipes', 75.00),\n",
        "  (3, 2, 'Toilet Installation', 'Install a new toilet', 150.00),\n",
        "  (4, 2, 'Sink Replacement', 'Replace an old or damaged sink', 200.00),\n",
        "  (5, 1, 'Water Heater Repair', 'Fix issues with water heaters', 120.00),\n",
        "  (6, 3, 'Plumbing Inspection', 'Inspect plumbing systems for potential issues', 100.00),\n",
        "  (7, 1, 'Emergency Service', '24/7 emergency plumbing service', 250.00);"
      ],
      "metadata": {
        "colab": {
          "base_uri": "https://localhost:8080/"
        },
        "id": "kw1wCC_EUgVF",
        "outputId": "327135e0-92af-4cf6-bcd8-639785cb281e"
      },
      "execution_count": 5,
      "outputs": [
        {
          "output_type": "stream",
          "name": "stdout",
          "text": [
            " * sqlite:///mario_bros_plumbing.db\n",
            "3 rows affected.\n",
            "7 rows affected.\n"
          ]
        },
        {
          "output_type": "execute_result",
          "data": {
            "text/plain": [
              "[]"
            ]
          },
          "metadata": {},
          "execution_count": 5
        }
      ]
    },
    {
      "cell_type": "code",
      "source": [
        "import sqlite3\n",
        "import random\n",
        "from datetime import datetime, timedelta\n",
        "\n",
        "# Connect to the SQLite database\n",
        "conn = sqlite3.connect('mario_bros_plumbing.db')\n",
        "cursor = conn.cursor()\n",
        "\n",
        "# Generate 500 random orders\n",
        "for _ in range(500):\n",
        "    # Select a random customer with weighted probabilities\n",
        "    cursor.execute(\"SELECT customer_id FROM Customers ORDER BY RANDOM() * CASE \"\n",
        "                   \"WHEN customer_id IN (1, 2, 3) THEN 3 \"  # Customers 1, 2, and 3 are 3 times more likely\n",
        "                   \"WHEN customer_id IN (4, 5, 6) THEN 2 \"  # Customers 4, 5, and 6 are 2 times more likely\n",
        "                   \"ELSE 1 END LIMIT 1\")\n",
        "    result = cursor.fetchone()\n",
        "    if result is None:\n",
        "        continue  # Skip this iteration if no customer is found\n",
        "    customer_id = result[0]\n",
        "\n",
        "    # Generate a random order date between 1985 and 2024\n",
        "    start_date = datetime(1985, 1, 1)\n",
        "    end_date = datetime(2024, 12, 31)\n",
        "    time_between_dates = end_date - start_date\n",
        "    days_between_dates = time_between_dates.days\n",
        "    random_number_of_days = random.randrange(days_between_dates)\n",
        "    order_date = start_date + timedelta(days=random_number_of_days)\n",
        "\n",
        "    # Select a random employee hired before the order date\n",
        "    employee_id = None  # Initialize employee_id with a default value\n",
        "    cursor.execute(\"SELECT employee_id FROM Employees WHERE hire_date <= ? ORDER BY RANDOM() LIMIT 1\",\n",
        "                   (order_date.strftime('%Y-%m-%d'),))\n",
        "    result = cursor.fetchone()\n",
        "    if result is not None:\n",
        "        employee_id = result[0]\n",
        "\n",
        "    if employee_id is None:\n",
        "        continue  # Skip this iteration if no suitable employee is found\n",
        "\n",
        "    # Insert the order into the Orders table\n",
        "    cursor.execute(\"INSERT INTO Orders (customer_id, employee_id, order_date) VALUES (?, ?, ?)\",\n",
        "                   (customer_id, employee_id, order_date.strftime('%Y-%m-%d')))\n",
        "    order_id = cursor.lastrowid\n",
        "\n",
        "    # Generate random order items for the order\n",
        "    num_items = random.randint(1, 5)\n",
        "    for _ in range(num_items):\n",
        "        # Select a random service with weighted probabilities\n",
        "        cursor.execute(\"SELECT service_id, price FROM Services ORDER BY RANDOM() * CASE \"\n",
        "                       \"WHEN service_id IN (1, 2) THEN 3 \"  # Services 1 and 2 are 3 times more likely\n",
        "                       \"WHEN service_id IN (3, 4) THEN 2 \"  # Services 3 and 4 are 2 times more likely\n",
        "                       \"ELSE 1 END LIMIT 1\")\n",
        "        result = cursor.fetchone()\n",
        "        if result is None:\n",
        "            print(\"No service found for order\", order_id)\n",
        "            continue  # Skip this iteration if no service is found\n",
        "        service_id, price = result\n",
        "\n",
        "        # Generate a random quantity\n",
        "        quantity = random.randint(1, 3)\n",
        "\n",
        "        # Insert the order item into the Order_Items table\n",
        "        cursor.execute(\"INSERT INTO Order_Items (order_id, service_id, quantity) VALUES (?, ?, ?)\",\n",
        "                       (order_id, service_id, quantity))\n",
        "\n",
        "    # Update the total amount for the order\n",
        "    cursor.execute(\"UPDATE Orders SET total_amount = (SELECT SUM(Services.price * Order_Items.quantity) \"\n",
        "                   \"FROM Order_Items JOIN Services ON Order_Items.service_id = Services.service_id \"\n",
        "                   \"WHERE Order_Items.order_id = ?) WHERE order_id = ?\", (order_id, order_id))\n",
        "\n",
        "# Commit the changes and close the connection\n",
        "conn.commit()\n",
        "conn.close()"
      ],
      "metadata": {
        "id": "G8QM79QuT-au"
      },
      "execution_count": 6,
      "outputs": []
    },
    {
      "cell_type": "markdown",
      "source": [],
      "metadata": {
        "id": "Jw25S2sUVJMV"
      }
    },
    {
      "cell_type": "code",
      "source": [
        "%%sql\n",
        "-- determine number of order per employee\n",
        "SELECT employee_id, COUNT(*) AS num_orders\n",
        "FROM Orders\n",
        "GROUP BY employee_id\n",
        "ORDER BY num_orders DESC;"
      ],
      "metadata": {
        "colab": {
          "base_uri": "https://localhost:8080/",
          "height": 158
        },
        "id": "KfH866eWVJjs",
        "outputId": "b2b2a292-3621-4fa4-b2a8-7a2c9f6fd594"
      },
      "execution_count": 7,
      "outputs": [
        {
          "output_type": "stream",
          "name": "stdout",
          "text": [
            " * sqlite:///mario_bros_plumbing.db\n",
            "Done.\n"
          ]
        },
        {
          "output_type": "execute_result",
          "data": {
            "text/plain": [
              "[(1, 199), (2, 171), (3, 106), (4, 24)]"
            ],
            "text/html": [
              "<table>\n",
              "    <thead>\n",
              "        <tr>\n",
              "            <th>employee_id</th>\n",
              "            <th>num_orders</th>\n",
              "        </tr>\n",
              "    </thead>\n",
              "    <tbody>\n",
              "        <tr>\n",
              "            <td>1</td>\n",
              "            <td>199</td>\n",
              "        </tr>\n",
              "        <tr>\n",
              "            <td>2</td>\n",
              "            <td>171</td>\n",
              "        </tr>\n",
              "        <tr>\n",
              "            <td>3</td>\n",
              "            <td>106</td>\n",
              "        </tr>\n",
              "        <tr>\n",
              "            <td>4</td>\n",
              "            <td>24</td>\n",
              "        </tr>\n",
              "    </tbody>\n",
              "</table>"
            ]
          },
          "metadata": {},
          "execution_count": 7
        }
      ]
    },
    {
      "cell_type": "code",
      "source": [
        "%%sql\n",
        "SELECT * FROM Order_Items LIMIT 10;"
      ],
      "metadata": {
        "colab": {
          "base_uri": "https://localhost:8080/",
          "height": 284
        },
        "id": "KbLWhICOdPpf",
        "outputId": "c3a7709e-a9d0-4e73-d149-7d4a88592e37"
      },
      "execution_count": 8,
      "outputs": [
        {
          "output_type": "stream",
          "name": "stdout",
          "text": [
            " * sqlite:///mario_bros_plumbing.db\n",
            "Done.\n"
          ]
        },
        {
          "output_type": "execute_result",
          "data": {
            "text/plain": [
              "[(1, 1, 4, 1),\n",
              " (2, 1, 1, 3),\n",
              " (3, 2, 4, 2),\n",
              " (4, 3, 4, 1),\n",
              " (5, 3, 4, 2),\n",
              " (6, 3, 3, 1),\n",
              " (7, 3, 1, 3),\n",
              " (8, 4, 5, 1),\n",
              " (9, 4, 2, 2),\n",
              " (10, 4, 3, 1)]"
            ],
            "text/html": [
              "<table>\n",
              "    <thead>\n",
              "        <tr>\n",
              "            <th>order_item_id</th>\n",
              "            <th>order_id</th>\n",
              "            <th>service_id</th>\n",
              "            <th>quantity</th>\n",
              "        </tr>\n",
              "    </thead>\n",
              "    <tbody>\n",
              "        <tr>\n",
              "            <td>1</td>\n",
              "            <td>1</td>\n",
              "            <td>4</td>\n",
              "            <td>1</td>\n",
              "        </tr>\n",
              "        <tr>\n",
              "            <td>2</td>\n",
              "            <td>1</td>\n",
              "            <td>1</td>\n",
              "            <td>3</td>\n",
              "        </tr>\n",
              "        <tr>\n",
              "            <td>3</td>\n",
              "            <td>2</td>\n",
              "            <td>4</td>\n",
              "            <td>2</td>\n",
              "        </tr>\n",
              "        <tr>\n",
              "            <td>4</td>\n",
              "            <td>3</td>\n",
              "            <td>4</td>\n",
              "            <td>1</td>\n",
              "        </tr>\n",
              "        <tr>\n",
              "            <td>5</td>\n",
              "            <td>3</td>\n",
              "            <td>4</td>\n",
              "            <td>2</td>\n",
              "        </tr>\n",
              "        <tr>\n",
              "            <td>6</td>\n",
              "            <td>3</td>\n",
              "            <td>3</td>\n",
              "            <td>1</td>\n",
              "        </tr>\n",
              "        <tr>\n",
              "            <td>7</td>\n",
              "            <td>3</td>\n",
              "            <td>1</td>\n",
              "            <td>3</td>\n",
              "        </tr>\n",
              "        <tr>\n",
              "            <td>8</td>\n",
              "            <td>4</td>\n",
              "            <td>5</td>\n",
              "            <td>1</td>\n",
              "        </tr>\n",
              "        <tr>\n",
              "            <td>9</td>\n",
              "            <td>4</td>\n",
              "            <td>2</td>\n",
              "            <td>2</td>\n",
              "        </tr>\n",
              "        <tr>\n",
              "            <td>10</td>\n",
              "            <td>4</td>\n",
              "            <td>3</td>\n",
              "            <td>1</td>\n",
              "        </tr>\n",
              "    </tbody>\n",
              "</table>"
            ]
          },
          "metadata": {},
          "execution_count": 8
        }
      ]
    },
    {
      "cell_type": "code",
      "source": [
        "%%sql\n",
        "-- Determine total amount spent by customer\n",
        "SELECT Customers.first_name, Customers.last_name, SUM(total_amount) AS total_spent\n",
        "FROM Orders\n",
        "JOIN Customers ON Orders.customer_id = Customers.customer_id\n",
        "GROUP BY Customers.customer_id\n",
        "ORDER BY total_spent DESC;"
      ],
      "metadata": {
        "colab": {
          "base_uri": "https://localhost:8080/",
          "height": 640
        },
        "id": "NC4-DzpXbOev",
        "outputId": "890c886e-6f1d-47ba-c1c5-3abeeba2b820"
      },
      "execution_count": 9,
      "outputs": [
        {
          "output_type": "stream",
          "name": "stdout",
          "text": [
            " * sqlite:///mario_bros_plumbing.db\n",
            "Done.\n"
          ]
        },
        {
          "output_type": "execute_result",
          "data": {
            "text/plain": [
              "[('Daisy', 'Sarasa', 80295.0),\n",
              " ('Peach', 'Toadstool', 67125.0),\n",
              " ('Yoshi', 'Dino', 64920.0),\n",
              " ('Wario', 'Wario', 37245.0),\n",
              " ('Toadette', 'Toadstool', 32725.0),\n",
              " ('Bowser', 'Koopa', 29220.0),\n",
              " ('Diddy', 'Kong', 4600.0),\n",
              " ('Birdo', 'Egg', 3100.0),\n",
              " ('Samus', 'Aran', 2600.0),\n",
              " ('Lakitu', 'Cloud', 1810.0),\n",
              " ('Ness', 'Earthbound', 1750.0),\n",
              " ('Toad', 'Toadstool', 1675.0),\n",
              " ('Toadsworth', 'Toadstool', 1650.0),\n",
              " ('Pauline', 'Toyopolis', 1650.0),\n",
              " ('Kirby', 'Puffball', 1500.0),\n",
              " ('Cappy', 'Bonneter', 1500.0),\n",
              " ('Pikachu', 'Pokemon', 1300.0),\n",
              " ('Fox', 'McCloud', 1145.0),\n",
              " ('Nabbit', 'Thief', 1100.0),\n",
              " ('Link', 'Hyrule', 800.0),\n",
              " ('Marth', 'Altea', 750.0),\n",
              " ('Waluigi', 'Wario', 700.0),\n",
              " ('Funky', 'Kong', 675.0),\n",
              " ('Dry', 'Bones', 675.0),\n",
              " ('Rosalina', 'Cosmic', 615.0),\n",
              " ('Donkey', 'Kong', 575.0),\n",
              " ('Roy', 'Pherae', 400.0)]"
            ],
            "text/html": [
              "<table>\n",
              "    <thead>\n",
              "        <tr>\n",
              "            <th>first_name</th>\n",
              "            <th>last_name</th>\n",
              "            <th>total_spent</th>\n",
              "        </tr>\n",
              "    </thead>\n",
              "    <tbody>\n",
              "        <tr>\n",
              "            <td>Daisy</td>\n",
              "            <td>Sarasa</td>\n",
              "            <td>80295.0</td>\n",
              "        </tr>\n",
              "        <tr>\n",
              "            <td>Peach</td>\n",
              "            <td>Toadstool</td>\n",
              "            <td>67125.0</td>\n",
              "        </tr>\n",
              "        <tr>\n",
              "            <td>Yoshi</td>\n",
              "            <td>Dino</td>\n",
              "            <td>64920.0</td>\n",
              "        </tr>\n",
              "        <tr>\n",
              "            <td>Wario</td>\n",
              "            <td>Wario</td>\n",
              "            <td>37245.0</td>\n",
              "        </tr>\n",
              "        <tr>\n",
              "            <td>Toadette</td>\n",
              "            <td>Toadstool</td>\n",
              "            <td>32725.0</td>\n",
              "        </tr>\n",
              "        <tr>\n",
              "            <td>Bowser</td>\n",
              "            <td>Koopa</td>\n",
              "            <td>29220.0</td>\n",
              "        </tr>\n",
              "        <tr>\n",
              "            <td>Diddy</td>\n",
              "            <td>Kong</td>\n",
              "            <td>4600.0</td>\n",
              "        </tr>\n",
              "        <tr>\n",
              "            <td>Birdo</td>\n",
              "            <td>Egg</td>\n",
              "            <td>3100.0</td>\n",
              "        </tr>\n",
              "        <tr>\n",
              "            <td>Samus</td>\n",
              "            <td>Aran</td>\n",
              "            <td>2600.0</td>\n",
              "        </tr>\n",
              "        <tr>\n",
              "            <td>Lakitu</td>\n",
              "            <td>Cloud</td>\n",
              "            <td>1810.0</td>\n",
              "        </tr>\n",
              "        <tr>\n",
              "            <td>Ness</td>\n",
              "            <td>Earthbound</td>\n",
              "            <td>1750.0</td>\n",
              "        </tr>\n",
              "        <tr>\n",
              "            <td>Toad</td>\n",
              "            <td>Toadstool</td>\n",
              "            <td>1675.0</td>\n",
              "        </tr>\n",
              "        <tr>\n",
              "            <td>Toadsworth</td>\n",
              "            <td>Toadstool</td>\n",
              "            <td>1650.0</td>\n",
              "        </tr>\n",
              "        <tr>\n",
              "            <td>Pauline</td>\n",
              "            <td>Toyopolis</td>\n",
              "            <td>1650.0</td>\n",
              "        </tr>\n",
              "        <tr>\n",
              "            <td>Kirby</td>\n",
              "            <td>Puffball</td>\n",
              "            <td>1500.0</td>\n",
              "        </tr>\n",
              "        <tr>\n",
              "            <td>Cappy</td>\n",
              "            <td>Bonneter</td>\n",
              "            <td>1500.0</td>\n",
              "        </tr>\n",
              "        <tr>\n",
              "            <td>Pikachu</td>\n",
              "            <td>Pokemon</td>\n",
              "            <td>1300.0</td>\n",
              "        </tr>\n",
              "        <tr>\n",
              "            <td>Fox</td>\n",
              "            <td>McCloud</td>\n",
              "            <td>1145.0</td>\n",
              "        </tr>\n",
              "        <tr>\n",
              "            <td>Nabbit</td>\n",
              "            <td>Thief</td>\n",
              "            <td>1100.0</td>\n",
              "        </tr>\n",
              "        <tr>\n",
              "            <td>Link</td>\n",
              "            <td>Hyrule</td>\n",
              "            <td>800.0</td>\n",
              "        </tr>\n",
              "        <tr>\n",
              "            <td>Marth</td>\n",
              "            <td>Altea</td>\n",
              "            <td>750.0</td>\n",
              "        </tr>\n",
              "        <tr>\n",
              "            <td>Waluigi</td>\n",
              "            <td>Wario</td>\n",
              "            <td>700.0</td>\n",
              "        </tr>\n",
              "        <tr>\n",
              "            <td>Funky</td>\n",
              "            <td>Kong</td>\n",
              "            <td>675.0</td>\n",
              "        </tr>\n",
              "        <tr>\n",
              "            <td>Dry</td>\n",
              "            <td>Bones</td>\n",
              "            <td>675.0</td>\n",
              "        </tr>\n",
              "        <tr>\n",
              "            <td>Rosalina</td>\n",
              "            <td>Cosmic</td>\n",
              "            <td>615.0</td>\n",
              "        </tr>\n",
              "        <tr>\n",
              "            <td>Donkey</td>\n",
              "            <td>Kong</td>\n",
              "            <td>575.0</td>\n",
              "        </tr>\n",
              "        <tr>\n",
              "            <td>Roy</td>\n",
              "            <td>Pherae</td>\n",
              "            <td>400.0</td>\n",
              "        </tr>\n",
              "    </tbody>\n",
              "</table>"
            ]
          },
          "metadata": {},
          "execution_count": 9
        }
      ]
    }
  ]
}