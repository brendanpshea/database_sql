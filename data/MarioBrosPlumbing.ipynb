{
  "nbformat": 4,
  "nbformat_minor": 0,
  "metadata": {
    "colab": {
      "provenance": [],
      "authorship_tag": "ABX9TyOaCEN9nesYrWKfiZ4lW2K9",
      "include_colab_link": true
    },
    "kernelspec": {
      "name": "python3",
      "display_name": "Python 3"
    },
    "language_info": {
      "name": "python"
    }
  },
  "cells": [
    {
      "cell_type": "markdown",
      "metadata": {
        "id": "view-in-github",
        "colab_type": "text"
      },
      "source": [
        "<a href=\"https://colab.research.google.com/github/brendanpshea/database_sql/blob/main/data/MarioBrosPlumbing.ipynb\" target=\"_parent\"><img src=\"https://colab.research.google.com/assets/colab-badge.svg\" alt=\"Open In Colab\"/></a>"
      ]
    },
    {
      "cell_type": "code",
      "execution_count": 2,
      "metadata": {
        "id": "xK9HukE4T1CO"
      },
      "outputs": [],
      "source": [
        "# Connect sql magic\n",
        "%load_ext sql\n",
        "%sql sqlite:///mario_bros_plumbing.db"
      ]
    },
    {
      "cell_type": "code",
      "source": [
        "%%sql\n",
        "CREATE TABLE Customers (\n",
        "  customer_id INTEGER PRIMARY KEY,\n",
        "  first_name TEXT,\n",
        "  last_name TEXT,\n",
        "  address TEXT,\n",
        "  phone_number TEXT\n",
        ");\n",
        "\n",
        "CREATE TABLE Employees (\n",
        "  employee_id INTEGER PRIMARY KEY,\n",
        "  first_name TEXT,\n",
        "  last_name TEXT,\n",
        "  job_title TEXT,\n",
        "  hire_date TEXT\n",
        ");\n",
        "\n",
        "CREATE TABLE Services (\n",
        "  service_id INTEGER PRIMARY KEY,\n",
        "  service_name TEXT,\n",
        "  description TEXT,\n",
        "  price REAL\n",
        ");\n",
        "\n",
        "CREATE TABLE Orders (\n",
        "  -- Keeps track of a customer's orders\n",
        "  order_id INTEGER PRIMARY KEY,\n",
        "  customer_id INTEGER,\n",
        "  employee_id INTEGER,\n",
        "  order_date TEXT,\n",
        "  total_amount REAL,\n",
        "  FOREIGN KEY (customer_id) REFERENCES Customers (customer_id),\n",
        "  FOREIGN KEY (employee_id) REFERENCES Employees (employee_id)\n",
        ");\n",
        "\n",
        "CREATE TABLE Order_Items (\n",
        "  -- Keeps track of a customer's order items\n",
        "  -- This is one line on an invoice\n",
        "  order_item_id INTEGER PRIMARY KEY,\n",
        "  order_id INTEGER,\n",
        "  service_id INTEGER,\n",
        "  quantity INTEGER,\n",
        "  FOREIGN KEY (order_id) REFERENCES Orders (order_id),\n",
        "  FOREIGN KEY (service_id) REFERENCES Services (service_id)\n",
        ");"
      ],
      "metadata": {
        "colab": {
          "base_uri": "https://localhost:8080/"
        },
        "id": "dxSwx1KPT6MV",
        "outputId": "b35953fb-8ec4-4ea5-ff06-ef0236ad12e7"
      },
      "execution_count": 3,
      "outputs": [
        {
          "output_type": "stream",
          "name": "stdout",
          "text": [
            " * sqlite:///mario_bros_plumbing.db\n",
            "Done.\n",
            "Done.\n",
            "Done.\n",
            "Done.\n",
            "Done.\n"
          ]
        },
        {
          "output_type": "execute_result",
          "data": {
            "text/plain": [
              "[]"
            ]
          },
          "metadata": {},
          "execution_count": 3
        }
      ]
    },
    {
      "cell_type": "code",
      "source": [
        "%%sql\n",
        "INSERT INTO Employees (employee_id, first_name, last_name, job_title, hire_date)\n",
        "VALUES\n",
        "  (1, 'Mario', 'Bro', 'Master Plumber', '1981-09-13'),\n",
        "  (2, 'Luigi', 'Bro', 'Plumber', '1990-02-20'),\n",
        "  (3, 'Peach', 'Toadstool', 'Manager', '2000-11-05'),\n",
        "  (4, 'Birdo', 'Bird', 'Apprentice Plumber', '2015-03-10');"
      ],
      "metadata": {
        "colab": {
          "base_uri": "https://localhost:8080/"
        },
        "id": "B0WT2X7FUbOq",
        "outputId": "12bd4918-1354-4252-d0f0-c2ab6295371f"
      },
      "execution_count": 4,
      "outputs": [
        {
          "output_type": "stream",
          "name": "stdout",
          "text": [
            " * sqlite:///mario_bros_plumbing.db\n",
            "4 rows affected.\n"
          ]
        },
        {
          "output_type": "execute_result",
          "data": {
            "text/plain": [
              "[]"
            ]
          },
          "metadata": {},
          "execution_count": 4
        }
      ]
    },
    {
      "cell_type": "code",
      "source": [
        "%%sql\n",
        "INSERT INTO Customers (customer_id, first_name, last_name, address, phone_number)\n",
        "VALUES\n",
        "  (1, 'Peach', 'Toadstool', 'Mushroom Castle, Toad Town', '(555) 123-4567'),\n",
        "  (2, 'Yoshi', 'Dino', '24 Egg Island, Dinosaur Land', '(555) 987-6543'),\n",
        "  (3, 'Daisy', 'Sarasa', '10 Sarasaland Way, Chai Kingdom', '(555) 456-7890'),\n",
        "  (4, 'Toadette', 'Toadstool', '15 Mushroom St, Toad Town', '(555) 789-0123'),\n",
        "  (5, 'Bowser', 'Koopa', '1 Bowser Castle, Dark Land', '(555) 654-3210'),\n",
        "  (6, 'Wario', 'Wario', '100 Gold Coin Blvd, Diamond City', '(555) 321-0987'),\n",
        "  (7, 'Waluigi', 'Wario', '101 Silver Coin Ave, Diamond City', '(555) 098-7654'),\n",
        "  (8, 'Donkey', 'Kong', '50 Banana Jungle, DK Island', '(555) 111-2222'),\n",
        "  (9, 'Diddy', 'Kong', '51 Banana Jungle, DK Island', '(555) 333-4444'),\n",
        "  (10, 'Rosalina', 'Cosmic', 'Comet Observatory, Space', '(555) 555-6666'),\n",
        "  (11, 'Cappy', 'Bonneter', '1 Hat Kingdom Way, Cap Kingdom', '(555) 777-8888'),\n",
        "  (12, 'Pauline', 'Toyopolis', '1 New Donk City Plaza, Metro Kingdom', '(555) 999-0000');"
      ],
      "metadata": {
        "colab": {
          "base_uri": "https://localhost:8080/"
        },
        "id": "WlawbjDiUc--",
        "outputId": "7d0cbdc4-f25d-4edc-ed01-45a6ff5116dc"
      },
      "execution_count": 5,
      "outputs": [
        {
          "output_type": "stream",
          "name": "stdout",
          "text": [
            " * sqlite:///mario_bros_plumbing.db\n",
            "12 rows affected.\n"
          ]
        },
        {
          "output_type": "execute_result",
          "data": {
            "text/plain": [
              "[]"
            ]
          },
          "metadata": {},
          "execution_count": 5
        }
      ]
    },
    {
      "cell_type": "code",
      "source": [
        "%%sql\n",
        "INSERT INTO Services (service_id, service_name, description, price)\n",
        "VALUES\n",
        "  (1, 'Pipe Repair', 'Fix leaky or broken pipes', 50.00),\n",
        "  (2, 'Drain Cleaning', 'Clear clogged drains and pipes', 75.00),\n",
        "  (3, 'Toilet Installation', 'Install a new toilet', 150.00),\n",
        "  (4, 'Sink Replacement', 'Replace an old or damaged sink', 200.00),\n",
        "  (5, 'Water Heater Repair', 'Fix issues with water heaters', 120.00),\n",
        "  (6, 'Plumbing Inspection', 'Inspect plumbing systems for potential issues', 100.00),\n",
        "  (7, 'Emergency Service', '24/7 emergency plumbing service', 250.00);"
      ],
      "metadata": {
        "colab": {
          "base_uri": "https://localhost:8080/"
        },
        "id": "kw1wCC_EUgVF",
        "outputId": "b3b91800-4aac-4461-a71a-67e1653216e2"
      },
      "execution_count": 6,
      "outputs": [
        {
          "output_type": "stream",
          "name": "stdout",
          "text": [
            " * sqlite:///mario_bros_plumbing.db\n",
            "7 rows affected.\n"
          ]
        },
        {
          "output_type": "execute_result",
          "data": {
            "text/plain": [
              "[]"
            ]
          },
          "metadata": {},
          "execution_count": 6
        }
      ]
    },
    {
      "cell_type": "code",
      "source": [
        "import sqlite3\n",
        "import random\n",
        "from datetime import datetime, timedelta\n",
        "\n",
        "# Connect to the SQLite database\n",
        "conn = sqlite3.connect('mario_bros_plumbing.db')\n",
        "cursor = conn.cursor()\n",
        "\n",
        "# Generate 500 random orders\n",
        "for _ in range(500):\n",
        "    # Select a random customer with weighted probabilities\n",
        "    cursor.execute(\"SELECT customer_id FROM Customers ORDER BY RANDOM() * CASE \"\n",
        "                   \"WHEN customer_id IN (1, 2, 3) THEN 3 \"  # Customers 1, 2, and 3 are 3 times more likely\n",
        "                   \"WHEN customer_id IN (4, 5, 6) THEN 2 \"  # Customers 4, 5, and 6 are 2 times more likely\n",
        "                   \"ELSE 1 END LIMIT 1\")\n",
        "    result = cursor.fetchone()\n",
        "    if result is None:\n",
        "        continue  # Skip this iteration if no customer is found\n",
        "    customer_id = result[0]\n",
        "\n",
        "    # Generate a random order date between 1985 and 2024\n",
        "    start_date = datetime(1985, 1, 1)\n",
        "    end_date = datetime(2024, 12, 31)\n",
        "    time_between_dates = end_date - start_date\n",
        "    days_between_dates = time_between_dates.days\n",
        "    random_number_of_days = random.randrange(days_between_dates)\n",
        "    order_date = start_date + timedelta(days=random_number_of_days)\n",
        "\n",
        "    # Select a random employee hired before the order date\n",
        "    employee_id = None  # Initialize employee_id with a default value\n",
        "    cursor.execute(\"SELECT employee_id FROM Employees WHERE hire_date <= ? ORDER BY RANDOM() LIMIT 1\",\n",
        "                   (order_date.strftime('%Y-%m-%d'),))\n",
        "    result = cursor.fetchone()\n",
        "    if result is not None:\n",
        "        employee_id = result[0]\n",
        "\n",
        "    if employee_id is None:\n",
        "        continue  # Skip this iteration if no suitable employee is found\n",
        "\n",
        "    # Insert the order into the Orders table\n",
        "    cursor.execute(\"INSERT INTO Orders (customer_id, employee_id, order_date) VALUES (?, ?, ?)\",\n",
        "                   (customer_id, employee_id, order_date.strftime('%Y-%m-%d')))\n",
        "    order_id = cursor.lastrowid\n",
        "\n",
        "    # Generate random order items for the order\n",
        "    num_items = random.randint(1, 5)\n",
        "    for _ in range(num_items):\n",
        "        # Select a random service with weighted probabilities\n",
        "        cursor.execute(\"SELECT service_id, price FROM Services ORDER BY RANDOM() * CASE \"\n",
        "                       \"WHEN service_id IN (1, 2) THEN 3 \"  # Services 1 and 2 are 3 times more likely\n",
        "                       \"WHEN service_id IN (3, 4) THEN 2 \"  # Services 3 and 4 are 2 times more likely\n",
        "                       \"ELSE 1 END LIMIT 1\")\n",
        "        result = cursor.fetchone()\n",
        "        if result is None:\n",
        "            continue  # Skip this iteration if no service is found\n",
        "        service_id, price = result\n",
        "\n",
        "        # Generate a random quantity\n",
        "        quantity = random.randint(1, 3)\n",
        "\n",
        "        # Insert the order item into the Order_Items table\n",
        "        cursor.execute(\"INSERT INTO Order_Items (order_id, service_id, quantity) VALUES (?, ?, ?)\",\n",
        "                       (order_id, service_id, quantity))\n",
        "\n",
        "    # Update the total amount for the order\n",
        "    cursor.execute(\"UPDATE Orders SET total_amount = (SELECT SUM(Services.price * Order_Items.quantity) \"\n",
        "                   \"FROM Order_Items JOIN Services ON Order_Items.service_id = Services.service_id \"\n",
        "                   \"WHERE Order_Items.order_id = ?) WHERE order_id = ?\", (order_id, order_id))\n",
        "\n",
        "# Commit the changes and close the connection\n",
        "conn.commit()\n",
        "conn.close()"
      ],
      "metadata": {
        "id": "G8QM79QuT-au"
      },
      "execution_count": 7,
      "outputs": []
    },
    {
      "cell_type": "markdown",
      "source": [],
      "metadata": {
        "id": "Jw25S2sUVJMV"
      }
    },
    {
      "cell_type": "code",
      "source": [
        "%%sql\n",
        "-- determine number of order per employee\n",
        "SELECT employee_id, COUNT(*) AS num_orders\n",
        "FROM Orders\n",
        "GROUP BY employee_id\n",
        "ORDER BY num_orders DESC;"
      ],
      "metadata": {
        "colab": {
          "base_uri": "https://localhost:8080/",
          "height": 158
        },
        "id": "KfH866eWVJjs",
        "outputId": "f99e6533-f40c-48f1-a911-7ea2f4d8314f"
      },
      "execution_count": 8,
      "outputs": [
        {
          "output_type": "stream",
          "name": "stdout",
          "text": [
            " * sqlite:///mario_bros_plumbing.db\n",
            "Done.\n"
          ]
        },
        {
          "output_type": "execute_result",
          "data": {
            "text/plain": [
              "[(1, 214), (2, 147), (3, 102), (4, 37)]"
            ],
            "text/html": [
              "<table>\n",
              "    <thead>\n",
              "        <tr>\n",
              "            <th>employee_id</th>\n",
              "            <th>num_orders</th>\n",
              "        </tr>\n",
              "    </thead>\n",
              "    <tbody>\n",
              "        <tr>\n",
              "            <td>1</td>\n",
              "            <td>214</td>\n",
              "        </tr>\n",
              "        <tr>\n",
              "            <td>2</td>\n",
              "            <td>147</td>\n",
              "        </tr>\n",
              "        <tr>\n",
              "            <td>3</td>\n",
              "            <td>102</td>\n",
              "        </tr>\n",
              "        <tr>\n",
              "            <td>4</td>\n",
              "            <td>37</td>\n",
              "        </tr>\n",
              "    </tbody>\n",
              "</table>"
            ]
          },
          "metadata": {},
          "execution_count": 8
        }
      ]
    }
  ]
}