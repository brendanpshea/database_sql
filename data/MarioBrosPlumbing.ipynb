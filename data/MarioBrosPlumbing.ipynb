{
  "nbformat": 4,
  "nbformat_minor": 0,
  "metadata": {
    "colab": {
      "provenance": [],
      "authorship_tag": "ABX9TyPpdCJArVIWnYUvIueh92U8",
      "include_colab_link": true
    },
    "kernelspec": {
      "name": "python3",
      "display_name": "Python 3"
    },
    "language_info": {
      "name": "python"
    }
  },
  "cells": [
    {
      "cell_type": "markdown",
      "metadata": {
        "id": "view-in-github",
        "colab_type": "text"
      },
      "source": [
        "<a href=\"https://colab.research.google.com/github/brendanpshea/database_sql/blob/main/data/MarioBrosPlumbing.ipynb\" target=\"_parent\"><img src=\"https://colab.research.google.com/assets/colab-badge.svg\" alt=\"Open In Colab\"/></a>"
      ]
    },
    {
      "cell_type": "code",
      "execution_count": 1,
      "metadata": {
        "id": "xK9HukE4T1CO"
      },
      "outputs": [],
      "source": [
        "# Connect sql magic\n",
        "%load_ext sql\n",
        "%sql sqlite:///mario_bros_plumbing.db"
      ]
    },
    {
      "cell_type": "code",
      "source": [
        "%%sql\n",
        "CREATE TABLE Customers (\n",
        "  customer_id INTEGER PRIMARY KEY,\n",
        "  first_name VARCHAR(255),\n",
        "  last_name VARCHAR(255),\n",
        "  address JSON,\n",
        "  phone_number VARCHAR(20)\n",
        ");\n",
        "\n",
        "CREATE TABLE Employees (\n",
        "  employee_id INTEGER PRIMARY KEY,\n",
        "  first_name VARCHAR(255),\n",
        "  last_name VARCHAR(255),\n",
        "  job_title VARCHAR(255),\n",
        "  hire_date DATE\n",
        ");\n",
        "\n",
        "CREATE TABLE ServiceTypes (\n",
        "  service_type_id INTEGER PRIMARY KEY,\n",
        "  service_type_name VARCHAR(255),\n",
        "  description VARCHAR(255)\n",
        ");\n",
        "\n",
        "  CREATE TABLE Services (\n",
        "  service_id INTEGER PRIMARY KEY,\n",
        "  service_type_id INTEGER,\n",
        "  service_name VARCHAR(255),\n",
        "  description VARCHAR(255),\n",
        "  price DECIMAL(10,2),\n",
        "  FOREIGN KEY (service_type_id) REFERENCES ServiceTypes (service_type_id)\n",
        ");\n",
        "\n",
        "CREATE TABLE Orders (\n",
        "  -- Keeps track of a customer's orders\n",
        "  order_id INTEGER PRIMARY KEY,\n",
        "  customer_id INTEGER,\n",
        "  employee_id INTEGER,\n",
        "  order_date DATE,\n",
        "  total_amount DECIMAL(10,2),\n",
        "  FOREIGN KEY (customer_id) REFERENCES Customers (customer_id),\n",
        "  FOREIGN KEY (employee_id) REFERENCES Employees (employee_id)\n",
        ");\n",
        "\n",
        "\n",
        "CREATE TABLE Order_Items (\n",
        "  -- Keeps track of a customer's order items\n",
        "  -- This is one line on an invoice\n",
        "  order_item_id INTEGER PRIMARY KEY,\n",
        "  order_id INTEGER,\n",
        "  service_id INTEGER,\n",
        "  quantity INTEGER,\n",
        "  FOREIGN KEY (order_id) REFERENCES Orders (order_id),\n",
        "  FOREIGN KEY (service_id) REFERENCES Services (service_id)\n",
        ");"
      ],
      "metadata": {
        "colab": {
          "base_uri": "https://localhost:8080/"
        },
        "id": "dxSwx1KPT6MV",
        "outputId": "2a77b97a-0553-48f9-9c0f-5c8a4fa158ec"
      },
      "execution_count": 2,
      "outputs": [
        {
          "output_type": "stream",
          "name": "stdout",
          "text": [
            " * sqlite:///mario_bros_plumbing.db\n",
            "Done.\n",
            "Done.\n",
            "Done.\n",
            "Done.\n",
            "Done.\n",
            "Done.\n"
          ]
        },
        {
          "output_type": "execute_result",
          "data": {
            "text/plain": [
              "[]"
            ]
          },
          "metadata": {},
          "execution_count": 2
        }
      ]
    },
    {
      "cell_type": "code",
      "source": [
        "import base64\n",
        "from IPython.display import Image, display, HTML\n",
        "\n",
        "def mm(graph):\n",
        "    graphbytes = graph.encode(\"utf8\")\n",
        "    base64_bytes = base64.b64encode(graphbytes)\n",
        "    base64_string = base64_bytes.decode(\"ascii\")\n",
        "    display(Image(url=\"https://mermaid.ink/img/\" + base64_string))\n",
        "\n",
        "mm(\"\"\"\n",
        "classDiagram\n",
        "    Customers \"1\" -- \"*\" Orders\n",
        "    Employees \"1\" -- \"*\" Orders\n",
        "    Orders \"1\" -- \"*\" Order_Items\n",
        "    Services \"1\" -- \"*\" Order_Items\n",
        "    ServiceTypes <|-- Services\n",
        "\n",
        "    class Customers {\n",
        "        +customer_id: INTEGER PK\n",
        "        +first_name: VARCHAR\n",
        "        +last_name: VARCHAR\n",
        "        +address: JSON\n",
        "        +phone_number: VARCHAR\n",
        "    }\n",
        "\n",
        "    class Employees {\n",
        "        +employee_id: INTEGER PK\n",
        "        +first_name: VARCHAR\n",
        "        +last_name: VARCHAR\n",
        "        +job_title: VARCHAR\n",
        "        +hire_date: DATE\n",
        "    }\n",
        "\n",
        "    class ServiceTypes {\n",
        "        +service_type_id: INTEGER PK\n",
        "        +service_type_name: VARCHAR\n",
        "        +description: VARCHAR\n",
        "    }\n",
        "\n",
        "    class Services {\n",
        "        +service_id: INTEGER PK\n",
        "        +service_type_id: INTEGER FK\n",
        "        +service_name: VARCHAR\n",
        "        +description: VARCHAR\n",
        "        +price: DECIMAL\n",
        "    }\n",
        "\n",
        "    class Orders {\n",
        "        +order_id: INTEGER PK\n",
        "        +customer_id: INTEGER FK\n",
        "        +employee_id: INTEGER FK\n",
        "        +order_date: DATE\n",
        "        +total_amount: DECIMAL\n",
        "    }\n",
        "\n",
        "    class Order_Items {\n",
        "        +order_item_id: INTEGER PK\n",
        "        +order_id: INTEGER FK\n",
        "        +service_id: INTEGER FK\n",
        "        +quantity: INTEGER\n",
        "    }\n",
        "\"\"\")"
      ],
      "metadata": {
        "colab": {
          "base_uri": "https://localhost:8080/",
          "height": 634
        },
        "id": "EvODB8yThHcX",
        "outputId": "f6b12f7d-aa68-40dd-8001-86e1cf10b8ad"
      },
      "execution_count": 3,
      "outputs": [
        {
          "output_type": "display_data",
          "data": {
            "text/html": [
              "<img src=\"https://mermaid.ink/img/CmNsYXNzRGlhZ3JhbQogICAgQ3VzdG9tZXJzICIxIiAtLSAiKiIgT3JkZXJzCiAgICBFbXBsb3llZXMgIjEiIC0tICIqIiBPcmRlcnMKICAgIE9yZGVycyAiMSIgLS0gIioiIE9yZGVyX0l0ZW1zCiAgICBTZXJ2aWNlcyAiMSIgLS0gIioiIE9yZGVyX0l0ZW1zCiAgICBTZXJ2aWNlVHlwZXMgPHwtLSBTZXJ2aWNlcwogICAgCiAgICBjbGFzcyBDdXN0b21lcnMgewogICAgICAgICtjdXN0b21lcl9pZDogSU5URUdFUiBQSwogICAgICAgICtmaXJzdF9uYW1lOiBWQVJDSEFSCiAgICAgICAgK2xhc3RfbmFtZTogVkFSQ0hBUgogICAgICAgICthZGRyZXNzOiBKU09OCiAgICAgICAgK3Bob25lX251bWJlcjogVkFSQ0hBUgogICAgfQogICAgCiAgICBjbGFzcyBFbXBsb3llZXMgewogICAgICAgICtlbXBsb3llZV9pZDogSU5URUdFUiBQSwogICAgICAgICtmaXJzdF9uYW1lOiBWQVJDSEFSCiAgICAgICAgK2xhc3RfbmFtZTogVkFSQ0hBUgogICAgICAgICtqb2JfdGl0bGU6IFZBUkNIQVIKICAgICAgICAraGlyZV9kYXRlOiBEQVRFCiAgICB9CiAgICAKICAgIGNsYXNzIFNlcnZpY2VUeXBlcyB7CiAgICAgICAgK3NlcnZpY2VfdHlwZV9pZDogSU5URUdFUiBQSwogICAgICAgICtzZXJ2aWNlX3R5cGVfbmFtZTogVkFSQ0hBUgogICAgICAgICtkZXNjcmlwdGlvbjogVkFSQ0hBUgogICAgfQogICAgCiAgICBjbGFzcyBTZXJ2aWNlcyB7CiAgICAgICAgK3NlcnZpY2VfaWQ6IElOVEVHRVIgUEsKICAgICAgICArc2VydmljZV90eXBlX2lkOiBJTlRFR0VSIEZLCiAgICAgICAgK3NlcnZpY2VfbmFtZTogVkFSQ0hBUgogICAgICAgICtkZXNjcmlwdGlvbjogVkFSQ0hBUgogICAgICAgICtwcmljZTogREVDSU1BTAogICAgfQogICAgCiAgICBjbGFzcyBPcmRlcnMgewogICAgICAgICtvcmRlcl9pZDogSU5URUdFUiBQSwogICAgICAgICtjdXN0b21lcl9pZDogSU5URUdFUiBGSwogICAgICAgICtlbXBsb3llZV9pZDogSU5URUdFUiBGSwogICAgICAgICtvcmRlcl9kYXRlOiBEQVRFCiAgICAgICAgK3RvdGFsX2Ftb3VudDogREVDSU1BTAogICAgfQogICAgCiAgICBjbGFzcyBPcmRlcl9JdGVtcyB7CiAgICAgICAgK29yZGVyX2l0ZW1faWQ6IElOVEVHRVIgUEsKICAgICAgICArb3JkZXJfaWQ6IElOVEVHRVIgRksKICAgICAgICArc2VydmljZV9pZDogSU5URUdFUiBGSwogICAgICAgICtxdWFudGl0eTogSU5URUdFUgogICAgfQo=\"/>"
            ],
            "text/plain": [
              "<IPython.core.display.Image object>"
            ]
          },
          "metadata": {}
        }
      ]
    },
    {
      "cell_type": "code",
      "source": [],
      "metadata": {
        "id": "uRhbkA3z0NYj"
      },
      "execution_count": null,
      "outputs": []
    },
    {
      "cell_type": "markdown",
      "source": [
        "## Guide to Interpreting a UML Entity-Relationship Diagram\n",
        "THe above diagram is in **Unified Modeling Language.** This is similar to the Crow's foot style we saw before, but with a few key differences.\n",
        "\n",
        "### Entities:\n",
        "  -   In UML, entities are represented as classes, which are depicted as rectangles.\n",
        "  -   Each entity (class) is labeled with its name at the top of the rectangle.\n",
        "  -   The attributes of an entity are listed inside the rectangle, below the entity name.\n",
        "  -   In this diagram, the entities are Customers, Employees, ServiceTypes, Services, Orders, and Order_Items.-   Attributes:\n",
        "  -   Attributes represent the properties or characteristics of an entity.\n",
        "  -   Each attribute is listed on a separate line within the entity's rectangle.\n",
        "  -   The attribute name is followed by a colon (`:`) and its data type.\n",
        "  -   Primary key attributes are marked with `<<PK>>`, indicating that they uniquely identify each record in the entity.\n",
        "  -   Foreign key attributes are marked with `<<FK>>`, indicating that they establish relationships with other entities.\n",
        "\n",
        "### Relationships:\n",
        "  -   Relationships between entities are represented by lines connecting the rectangles.\n",
        "  -   The cardinality of a relationship is indicated at each end of the line.\n",
        "  -   In this diagram, a single number (`1`) represents a one-to-one or one-to-many relationship, while an asterisk (`*`) represents a many-to-one or many-to-many relationship.\n",
        "  -   For example, the line between Customers and Orders with `1` on the Customers end and `*` on the Orders end indicates that one customer can have multiple orders (a one-to-many relationship).\n",
        "\n",
        "### Inheritance (Sub-Type / Super-Type)\n",
        "  -   Inheritance is a concept in object-oriented modeling where one entity (**subclass**) inherits the attributes and behaviors of another entity (**superclass**).\n",
        "  -   In UML, inheritance is represented by a line with a hollow arrowhead pointing from the subclass to the superclass.\n",
        "  -   In this diagram, the inheritance relationship is shown between Services and ServiceTypes, with Services inheriting from ServiceTypes.\n",
        "    \n",
        "### Reading the Diagram:\n",
        "  -   Start by identifying the entities (classes) in the diagram, which are represented by rectangles.\n",
        "  -   Look at the attributes within each entity to understand the properties and characteristics of each entity.\n",
        "  -   Identify the primary key attributes marked with `<<PK>>` and foreign key attributes marked with `<<FK>>`.\n",
        "  -   Follow the lines connecting the entities to understand the relationships between them.\n",
        "  -   Look at the cardinality indicators (`1` or `*`) to determine the nature of the relationships (one-to-one, one-to-many, many-to-one, or many-to-many).\n",
        "  -   Observe any inheritance relationships, where one entity inherits from another, indicated by a line with a hollow arrowhead."
      ],
      "metadata": {
        "id": "-EMR-pxEi9Fq"
      }
    },
    {
      "cell_type": "code",
      "source": [
        "%%sql\n",
        "INSERT INTO Employees (employee_id, first_name, last_name, job_title, hire_date)\n",
        "VALUES\n",
        "  (1, 'Super', 'Mario', 'Master Plumber', '2000-09-13'),\n",
        "  (2, 'Super', 'Luigi', 'Journeyman Plumber', '2003-02-20'),\n",
        "  (3, 'Princess', 'Peach', 'Project Manager', '2005-06-10'),\n",
        "  (4, 'Cat', 'Peach', 'Apprentice Plumber', '2014-11-05'),\n",
        "  (5, 'Tanuki', 'Mario', 'Plumbing Technician', '2011-04-28'),\n",
        "  (6, 'Fire', 'Luigi', 'HVAC Specialist', '2008-12-03'),\n",
        "  (7, 'Toad', 'Toadstool', 'Dispatch Coordinator', '2018-07-15');"
      ],
      "metadata": {
        "colab": {
          "base_uri": "https://localhost:8080/"
        },
        "id": "B0WT2X7FUbOq",
        "outputId": "20febb54-1dc4-48d1-91e6-346c6c64f3ad"
      },
      "execution_count": 4,
      "outputs": [
        {
          "output_type": "stream",
          "name": "stdout",
          "text": [
            " * sqlite:///mario_bros_plumbing.db\n",
            "7 rows affected.\n"
          ]
        },
        {
          "output_type": "execute_result",
          "data": {
            "text/plain": [
              "[]"
            ]
          },
          "metadata": {},
          "execution_count": 4
        }
      ]
    },
    {
      "cell_type": "code",
      "source": [
        "%%sql\n",
        "INSERT INTO Customers (customer_id, first_name, last_name, address, phone_number)\n",
        "VALUES\n",
        "  (1, 'Peach', 'Toadstool', '{\"street\": \"Mushroom Castle\", \"city\": \"Toad Town\"}', '(555) 123-4567'),\n",
        "  (2, 'Yoshi', 'Dino', '{\"street\": \"24 Egg Island\", \"city\": \"Dinosaur Land\", \"apartment\": \"A\"}', '(555) 987-6543'),\n",
        "  (3, 'Daisy', 'Sarasa', '{\"street\": \"10 Sarasaland Way\", \"city\": \"Chai Kingdom\"}', '(555) 456-7890'),\n",
        "  (4, 'Toadette', 'Toadstool', '{\"street\": \"15 Mushroom St\", \"city\": \"Toad Town\", \"apartment\": \"2B\"}', '(555) 789-0123'),\n",
        "  (5, 'Bowser', 'Koopa', '{\"street\": \"1 Bowser Castle\", \"city\": \"Dark Land\"}', '(555) 654-3210'),\n",
        "  (6, 'Wario', 'Wario', '{\"street\": \"100 Gold Coin Blvd\", \"city\": \"Diamond City\"}', '(555) 321-0987'),\n",
        "  (7, 'Waluigi', 'Wario', '{\"street\": \"101 Silver Coin Ave\", \"city\": \"Diamond City\", \"unit\": \"5C\"}', '(555) 098-7654'),\n",
        "  (8, 'Donkey', 'Kong', '{\"street\": \"50 Banana Jungle\", \"city\": \"DK Island\", \"house\": \"Treehouse\"}', '(555) 111-2222'),\n",
        "  (9, 'Diddy', 'Kong', '{\"street\": \"51 Banana Jungle\", \"city\": \"DK Island\", \"floor\": \"Ground\"}', '(555) 333-4444'),\n",
        "  (10, 'Rosalina', 'Cosmic', '{\"street\": \"Comet Observatory\", \"city\": \"Space\"}', '(555) 555-6666'),\n",
        "  (11, 'Cappy', 'Bonneter', '{\"street\": \"1 Hat Kingdom Way\", \"city\": \"Cap Kingdom\"}', '(555) 777-8888'),\n",
        "  (12, 'Pauline', 'Toyopolis', '{\"street\": \"1 New Donk City Plaza\", \"city\": \"Metro Kingdom\"}', '(555) 999-0000'),\n",
        "  (13, 'Link', 'Hyrule', '{\"street\": \"1 Hyrule Castle\", \"city\": \"Hyrule Kingdom\"}', '(555) 234-5678'),\n",
        "  (14, 'Zelda', 'Hyrule', '{\"street\": \"2 Hyrule Castle\", \"city\": \"Hyrule Kingdom\"}', '(555) 345-6789'),\n",
        "  (15, 'Samus', 'Aran', '{\"street\": \"10 Bounty Hunter Ave\", \"city\": \"Space Colony K-2L\"}', '(555) 456-7890'),\n",
        "  (16, 'Fox', 'McCloud', '{\"street\": \"20 Corneria St\", \"city\": \"Lylat System\"}', '(555) 567-8901'),\n",
        "  (17, 'Pikachu', 'Pokemon', '{\"street\": \"30 Electric Rodent Rd\", \"city\": \"Kanto Region\", \"box\": \"P.O. Box 101\"}', '(555) 678-9012'),\n",
        "  (18, 'Kirby', 'Puffball', '{\"street\": \"40 Dream Land Ln\", \"city\": \"Planet Popstar\", \"unit\": \"Suite 3\"}', '(555) 789-0123'),\n",
        "  (19, 'Captain', 'Falcon', '{\"street\": \"50 Mute City Blvd\", \"city\": \"Port Town\"}', '(555) 890-1234'),\n",
        "  (20, 'Ness', 'Earthbound', '{\"street\": \"60 Onett Ave\", \"city\": \"Eagleland\"}', '(555) 901-2345'),\n",
        "  (21, 'Marth', 'Altea', '{\"street\": \"70 Fire Emblem St\", \"city\": \"Kingdom of Altea\"}', '(555) 012-3456'),\n",
        "  (22, 'Roy', 'Pherae', '{\"street\": \"71 Fire Emblem St\", \"city\": \"Lycia\"}', '(555) 123-4567'),\n",
        "  (23, 'Toad', 'Toadstool', '{\"street\": \"80 Mushroom Way\", \"city\": \"Toad Town\", \"building\": \"Toad Hall\"}', '(555) 234-5678'),\n",
        "  (24, 'Koopa', 'Troopa', '{\"street\": \"90 Shell Blvd\", \"city\": \"Dark Land\"}', '(555) 345-6789'),\n",
        "  (25, 'Dry', 'Bones', '{\"street\": \"91 Bone Yard Rd\", \"city\": \"Dark Land\", \"crypt\": \"Lower\"}', '(555) 456-7890'),\n",
        "  (26, 'Shy', 'Guy', '{\"street\": \"100 Mask St\", \"city\": \"Dark Land\"}', '(555) 567-8901'),\n",
        "  (27, 'Lakitu', 'Cloud', '{\"street\": \"110 Cloud Way\", \"city\": \"Skyworld\", \"apartment\": \"Skyview\"}', '(555) 678-9012'),\n",
        "  (28, 'Toadsworth', 'Toadstool', '{\"street\": \"120 Cane Ln\", \"city\": \"Toad Town\"}', '(555) 789-0123'),\n",
        "  (29, 'Birdo', 'Egg', '{\"street\": \"130 Egg Shooter Ave\", \"city\": \"Subcon\"}', '(555) 890-1234'),\n",
        "  (30, 'Nabbit', 'Thief', '{\"street\": \"140 Burglar Blvd\", \"city\": \"Acorn Plains\"}', '(555) 901-2345'),\n",
        "  (31, 'Funky', 'Kong', '{\"street\": \"150 Surf Shop St\", \"city\": \"DK Island\", \"shack\": \"Beachside\"}', '(555) 012-3456'),\n",
        "  (32, 'Cranky', 'Kong', '{\"street\": \"160 Rocking Chair Rd\", \"city\": \"DK Island\"}', '(555) 123-4567');\n"
      ],
      "metadata": {
        "colab": {
          "base_uri": "https://localhost:8080/"
        },
        "id": "WlawbjDiUc--",
        "outputId": "32ce1303-7bb4-42c2-cdf3-3b877067fba8"
      },
      "execution_count": 6,
      "outputs": [
        {
          "output_type": "stream",
          "name": "stdout",
          "text": [
            " * sqlite:///mario_bros_plumbing.db\n",
            "32 rows affected.\n"
          ]
        },
        {
          "output_type": "execute_result",
          "data": {
            "text/plain": [
              "[]"
            ]
          },
          "metadata": {},
          "execution_count": 6
        }
      ]
    },
    {
      "cell_type": "code",
      "source": [
        "%%sql\n",
        "INSERT INTO ServiceTypes (service_type_id, service_type_name, description)\n",
        "VALUES\n",
        "  (1, 'Repair', 'Services related to fixing and repairing plumbing issues'),\n",
        "  (2, 'Installation', 'Services related to installing new plumbing fixtures and systems'),\n",
        "  (3, 'Inspection', 'Services related to inspecting and assessing plumbing systems');\n",
        "\n",
        "INSERT INTO Services (service_id, service_type_id, service_name, description, price)\n",
        "VALUES\n",
        "  (1, 1, 'Pipe Repair', 'Fix leaky or broken pipes', 50.00),\n",
        "  (2, 1, 'Drain Cleaning', 'Clear clogged drains and pipes', 75.00),\n",
        "  (3, 2, 'Toilet Installation', 'Install a new toilet', 150.00),\n",
        "  (4, 2, 'Sink Replacement', 'Replace an old or damaged sink', 200.00),\n",
        "  (5, 1, 'Water Heater Repair', 'Fix issues with water heaters', 120.00),\n",
        "  (6, 3, 'Plumbing Inspection', 'Inspect plumbing systems for potential issues', 100.00),\n",
        "  (7, 1, 'Emergency Service', '24/7 emergency plumbing service', 250.00);"
      ],
      "metadata": {
        "colab": {
          "base_uri": "https://localhost:8080/"
        },
        "id": "kw1wCC_EUgVF",
        "outputId": "f60a8a0a-d8fe-49e7-f2b8-6bc94ac03f48"
      },
      "execution_count": 7,
      "outputs": [
        {
          "output_type": "stream",
          "name": "stdout",
          "text": [
            " * sqlite:///mario_bros_plumbing.db\n",
            "3 rows affected.\n",
            "7 rows affected.\n"
          ]
        },
        {
          "output_type": "execute_result",
          "data": {
            "text/plain": [
              "[]"
            ]
          },
          "metadata": {},
          "execution_count": 7
        }
      ]
    },
    {
      "cell_type": "code",
      "source": [
        "import sqlite3\n",
        "import random\n",
        "from datetime import datetime, timedelta\n",
        "\n",
        "# Connect to the SQLite database\n",
        "conn = sqlite3.connect('mario_bros_plumbing.db')\n",
        "cursor = conn.cursor()\n",
        "\n",
        "# Generate 500 random orders\n",
        "for _ in range(500):\n",
        "    # Select a random customer with weighted probabilities\n",
        "    cursor.execute(\"SELECT customer_id FROM Customers ORDER BY RANDOM() * CASE \"\n",
        "                   \"WHEN customer_id IN (1, 2, 3) THEN 3 \"  # Customers 1, 2, and 3 are 3 times more likely\n",
        "                   \"WHEN customer_id IN (4, 5, 6) THEN 2 \"  # Customers 4, 5, and 6 are 2 times more likely\n",
        "                   \"ELSE 1 END LIMIT 1\")\n",
        "    result = cursor.fetchone()\n",
        "    if result is None:\n",
        "        continue  # Skip this iteration if no customer is found\n",
        "    customer_id = result[0]\n",
        "\n",
        "    # Generate a random order date between 1985 and 2024\n",
        "    start_date = datetime(1985, 1, 1)\n",
        "    end_date = datetime(2024, 12, 31)\n",
        "    time_between_dates = end_date - start_date\n",
        "    days_between_dates = time_between_dates.days\n",
        "    random_number_of_days = random.randrange(days_between_dates)\n",
        "    order_date = start_date + timedelta(days=random_number_of_days)\n",
        "\n",
        "    # Select a random employee hired before the order date\n",
        "    employee_id = None  # Initialize employee_id with a default value\n",
        "    cursor.execute(\"SELECT employee_id FROM Employees WHERE hire_date <= ? ORDER BY RANDOM() LIMIT 1\",\n",
        "                   (order_date.strftime('%Y-%m-%d'),))\n",
        "    result = cursor.fetchone()\n",
        "    if result is not None:\n",
        "        employee_id = result[0]\n",
        "\n",
        "    if employee_id is None:\n",
        "        continue  # Skip this iteration if no suitable employee is found\n",
        "\n",
        "    # Insert the order into the Orders table\n",
        "    cursor.execute(\"INSERT INTO Orders (customer_id, employee_id, order_date) VALUES (?, ?, ?)\",\n",
        "                   (customer_id, employee_id, order_date.strftime('%Y-%m-%d')))\n",
        "    order_id = cursor.lastrowid\n",
        "\n",
        "    # Generate random order items for the order\n",
        "    num_items = random.randint(1, 5)\n",
        "    for _ in range(num_items):\n",
        "        # Select a random service with weighted probabilities\n",
        "        cursor.execute(\"SELECT service_id, price FROM Services ORDER BY RANDOM() * CASE \"\n",
        "                       \"WHEN service_id IN (1, 2) THEN 3 \"  # Services 1 and 2 are 3 times more likely\n",
        "                       \"WHEN service_id IN (3, 4) THEN 2 \"  # Services 3 and 4 are 2 times more likely\n",
        "                       \"ELSE 1 END LIMIT 1\")\n",
        "        result = cursor.fetchone()\n",
        "        if result is None:\n",
        "            print(\"No service found for order\", order_id)\n",
        "            continue  # Skip this iteration if no service is found\n",
        "        service_id, price = result\n",
        "\n",
        "        # Generate a random quantity\n",
        "        quantity = random.randint(1, 3)\n",
        "\n",
        "        # Insert the order item into the Order_Items table\n",
        "        cursor.execute(\"INSERT INTO Order_Items (order_id, service_id, quantity) VALUES (?, ?, ?)\",\n",
        "                       (order_id, service_id, quantity))\n",
        "\n",
        "    # Update the total amount for the order\n",
        "    cursor.execute(\"UPDATE Orders SET total_amount = (SELECT SUM(Services.price * Order_Items.quantity) \"\n",
        "                   \"FROM Order_Items JOIN Services ON Order_Items.service_id = Services.service_id \"\n",
        "                   \"WHERE Order_Items.order_id = ?) WHERE order_id = ?\", (order_id, order_id))\n",
        "\n",
        "# Commit the changes and close the connection\n",
        "conn.commit()\n",
        "conn.close()"
      ],
      "metadata": {
        "id": "G8QM79QuT-au"
      },
      "execution_count": 8,
      "outputs": []
    },
    {
      "cell_type": "markdown",
      "source": [],
      "metadata": {
        "id": "Jw25S2sUVJMV"
      }
    },
    {
      "cell_type": "code",
      "source": [
        "%%sql\n",
        "-- determine number of order per employee\n",
        "SELECT employee_id, COUNT(*) AS num_orders\n",
        "FROM Orders\n",
        "GROUP BY employee_id\n",
        "ORDER BY num_orders DESC;"
      ],
      "metadata": {
        "colab": {
          "base_uri": "https://localhost:8080/",
          "height": 221
        },
        "id": "KfH866eWVJjs",
        "outputId": "84cd9afe-421f-436a-cf9e-f5417edfeacc"
      },
      "execution_count": 9,
      "outputs": [
        {
          "output_type": "stream",
          "name": "stdout",
          "text": [
            " * sqlite:///mario_bros_plumbing.db\n",
            "Done.\n"
          ]
        },
        {
          "output_type": "execute_result",
          "data": {
            "text/plain": [
              "[(1, 94), (2, 57), (3, 53), (6, 38), (4, 29), (5, 26), (7, 8)]"
            ],
            "text/html": [
              "<table>\n",
              "    <thead>\n",
              "        <tr>\n",
              "            <th>employee_id</th>\n",
              "            <th>num_orders</th>\n",
              "        </tr>\n",
              "    </thead>\n",
              "    <tbody>\n",
              "        <tr>\n",
              "            <td>1</td>\n",
              "            <td>94</td>\n",
              "        </tr>\n",
              "        <tr>\n",
              "            <td>2</td>\n",
              "            <td>57</td>\n",
              "        </tr>\n",
              "        <tr>\n",
              "            <td>3</td>\n",
              "            <td>53</td>\n",
              "        </tr>\n",
              "        <tr>\n",
              "            <td>6</td>\n",
              "            <td>38</td>\n",
              "        </tr>\n",
              "        <tr>\n",
              "            <td>4</td>\n",
              "            <td>29</td>\n",
              "        </tr>\n",
              "        <tr>\n",
              "            <td>5</td>\n",
              "            <td>26</td>\n",
              "        </tr>\n",
              "        <tr>\n",
              "            <td>7</td>\n",
              "            <td>8</td>\n",
              "        </tr>\n",
              "    </tbody>\n",
              "</table>"
            ]
          },
          "metadata": {},
          "execution_count": 9
        }
      ]
    },
    {
      "cell_type": "code",
      "source": [
        "%%sql\n",
        "SELECT * FROM Order_Items LIMIT 10;"
      ],
      "metadata": {
        "colab": {
          "base_uri": "https://localhost:8080/",
          "height": 284
        },
        "id": "KbLWhICOdPpf",
        "outputId": "c3a7709e-a9d0-4e73-d149-7d4a88592e37"
      },
      "execution_count": 8,
      "outputs": [
        {
          "output_type": "stream",
          "name": "stdout",
          "text": [
            " * sqlite:///mario_bros_plumbing.db\n",
            "Done.\n"
          ]
        },
        {
          "output_type": "execute_result",
          "data": {
            "text/plain": [
              "[(1, 1, 4, 1),\n",
              " (2, 1, 1, 3),\n",
              " (3, 2, 4, 2),\n",
              " (4, 3, 4, 1),\n",
              " (5, 3, 4, 2),\n",
              " (6, 3, 3, 1),\n",
              " (7, 3, 1, 3),\n",
              " (8, 4, 5, 1),\n",
              " (9, 4, 2, 2),\n",
              " (10, 4, 3, 1)]"
            ],
            "text/html": [
              "<table>\n",
              "    <thead>\n",
              "        <tr>\n",
              "            <th>order_item_id</th>\n",
              "            <th>order_id</th>\n",
              "            <th>service_id</th>\n",
              "            <th>quantity</th>\n",
              "        </tr>\n",
              "    </thead>\n",
              "    <tbody>\n",
              "        <tr>\n",
              "            <td>1</td>\n",
              "            <td>1</td>\n",
              "            <td>4</td>\n",
              "            <td>1</td>\n",
              "        </tr>\n",
              "        <tr>\n",
              "            <td>2</td>\n",
              "            <td>1</td>\n",
              "            <td>1</td>\n",
              "            <td>3</td>\n",
              "        </tr>\n",
              "        <tr>\n",
              "            <td>3</td>\n",
              "            <td>2</td>\n",
              "            <td>4</td>\n",
              "            <td>2</td>\n",
              "        </tr>\n",
              "        <tr>\n",
              "            <td>4</td>\n",
              "            <td>3</td>\n",
              "            <td>4</td>\n",
              "            <td>1</td>\n",
              "        </tr>\n",
              "        <tr>\n",
              "            <td>5</td>\n",
              "            <td>3</td>\n",
              "            <td>4</td>\n",
              "            <td>2</td>\n",
              "        </tr>\n",
              "        <tr>\n",
              "            <td>6</td>\n",
              "            <td>3</td>\n",
              "            <td>3</td>\n",
              "            <td>1</td>\n",
              "        </tr>\n",
              "        <tr>\n",
              "            <td>7</td>\n",
              "            <td>3</td>\n",
              "            <td>1</td>\n",
              "            <td>3</td>\n",
              "        </tr>\n",
              "        <tr>\n",
              "            <td>8</td>\n",
              "            <td>4</td>\n",
              "            <td>5</td>\n",
              "            <td>1</td>\n",
              "        </tr>\n",
              "        <tr>\n",
              "            <td>9</td>\n",
              "            <td>4</td>\n",
              "            <td>2</td>\n",
              "            <td>2</td>\n",
              "        </tr>\n",
              "        <tr>\n",
              "            <td>10</td>\n",
              "            <td>4</td>\n",
              "            <td>3</td>\n",
              "            <td>1</td>\n",
              "        </tr>\n",
              "    </tbody>\n",
              "</table>"
            ]
          },
          "metadata": {},
          "execution_count": 8
        }
      ]
    },
    {
      "cell_type": "code",
      "source": [
        "%%sql\n",
        "-- Determine total amount spent by customer\n",
        "SELECT Customers.first_name, Customers.last_name, SUM(total_amount) AS total_spent\n",
        "FROM Orders\n",
        "JOIN Customers ON Orders.customer_id = Customers.customer_id\n",
        "GROUP BY Customers.customer_id\n",
        "ORDER BY total_spent DESC;"
      ],
      "metadata": {
        "colab": {
          "base_uri": "https://localhost:8080/",
          "height": 577
        },
        "id": "NC4-DzpXbOev",
        "outputId": "ad7e0db4-3b68-4b6b-d8ae-d66f79a2da94"
      },
      "execution_count": 10,
      "outputs": [
        {
          "output_type": "stream",
          "name": "stdout",
          "text": [
            " * sqlite:///mario_bros_plumbing.db\n",
            "Done.\n"
          ]
        },
        {
          "output_type": "execute_result",
          "data": {
            "text/plain": [
              "[('Daisy', 'Sarasa', 47100),\n",
              " ('Yoshi', 'Dino', 41690),\n",
              " ('Peach', 'Toadstool', 36240),\n",
              " ('Bowser', 'Koopa', 24440),\n",
              " ('Toadette', 'Toadstool', 19880),\n",
              " ('Wario', 'Wario', 16720),\n",
              " ('Funky', 'Kong', 2275),\n",
              " ('Marth', 'Altea', 1900),\n",
              " ('Pikachu', 'Pokemon', 1575),\n",
              " ('Toadsworth', 'Toadstool', 1525),\n",
              " ('Pauline', 'Toyopolis', 1500),\n",
              " ('Waluigi', 'Wario', 1460),\n",
              " ('Cappy', 'Bonneter', 1275),\n",
              " ('Roy', 'Pherae', 1200),\n",
              " ('Link', 'Hyrule', 1150),\n",
              " ('Diddy', 'Kong', 985),\n",
              " ('Samus', 'Aran', 950),\n",
              " ('Toad', 'Toadstool', 800),\n",
              " ('Captain', 'Falcon', 750),\n",
              " ('Birdo', 'Egg', 700),\n",
              " ('Koopa', 'Troopa', 450),\n",
              " ('Cranky', 'Kong', 400),\n",
              " ('Lakitu', 'Cloud', 225),\n",
              " ('Zelda', 'Hyrule', 150)]"
            ],
            "text/html": [
              "<table>\n",
              "    <thead>\n",
              "        <tr>\n",
              "            <th>first_name</th>\n",
              "            <th>last_name</th>\n",
              "            <th>total_spent</th>\n",
              "        </tr>\n",
              "    </thead>\n",
              "    <tbody>\n",
              "        <tr>\n",
              "            <td>Daisy</td>\n",
              "            <td>Sarasa</td>\n",
              "            <td>47100</td>\n",
              "        </tr>\n",
              "        <tr>\n",
              "            <td>Yoshi</td>\n",
              "            <td>Dino</td>\n",
              "            <td>41690</td>\n",
              "        </tr>\n",
              "        <tr>\n",
              "            <td>Peach</td>\n",
              "            <td>Toadstool</td>\n",
              "            <td>36240</td>\n",
              "        </tr>\n",
              "        <tr>\n",
              "            <td>Bowser</td>\n",
              "            <td>Koopa</td>\n",
              "            <td>24440</td>\n",
              "        </tr>\n",
              "        <tr>\n",
              "            <td>Toadette</td>\n",
              "            <td>Toadstool</td>\n",
              "            <td>19880</td>\n",
              "        </tr>\n",
              "        <tr>\n",
              "            <td>Wario</td>\n",
              "            <td>Wario</td>\n",
              "            <td>16720</td>\n",
              "        </tr>\n",
              "        <tr>\n",
              "            <td>Funky</td>\n",
              "            <td>Kong</td>\n",
              "            <td>2275</td>\n",
              "        </tr>\n",
              "        <tr>\n",
              "            <td>Marth</td>\n",
              "            <td>Altea</td>\n",
              "            <td>1900</td>\n",
              "        </tr>\n",
              "        <tr>\n",
              "            <td>Pikachu</td>\n",
              "            <td>Pokemon</td>\n",
              "            <td>1575</td>\n",
              "        </tr>\n",
              "        <tr>\n",
              "            <td>Toadsworth</td>\n",
              "            <td>Toadstool</td>\n",
              "            <td>1525</td>\n",
              "        </tr>\n",
              "        <tr>\n",
              "            <td>Pauline</td>\n",
              "            <td>Toyopolis</td>\n",
              "            <td>1500</td>\n",
              "        </tr>\n",
              "        <tr>\n",
              "            <td>Waluigi</td>\n",
              "            <td>Wario</td>\n",
              "            <td>1460</td>\n",
              "        </tr>\n",
              "        <tr>\n",
              "            <td>Cappy</td>\n",
              "            <td>Bonneter</td>\n",
              "            <td>1275</td>\n",
              "        </tr>\n",
              "        <tr>\n",
              "            <td>Roy</td>\n",
              "            <td>Pherae</td>\n",
              "            <td>1200</td>\n",
              "        </tr>\n",
              "        <tr>\n",
              "            <td>Link</td>\n",
              "            <td>Hyrule</td>\n",
              "            <td>1150</td>\n",
              "        </tr>\n",
              "        <tr>\n",
              "            <td>Diddy</td>\n",
              "            <td>Kong</td>\n",
              "            <td>985</td>\n",
              "        </tr>\n",
              "        <tr>\n",
              "            <td>Samus</td>\n",
              "            <td>Aran</td>\n",
              "            <td>950</td>\n",
              "        </tr>\n",
              "        <tr>\n",
              "            <td>Toad</td>\n",
              "            <td>Toadstool</td>\n",
              "            <td>800</td>\n",
              "        </tr>\n",
              "        <tr>\n",
              "            <td>Captain</td>\n",
              "            <td>Falcon</td>\n",
              "            <td>750</td>\n",
              "        </tr>\n",
              "        <tr>\n",
              "            <td>Birdo</td>\n",
              "            <td>Egg</td>\n",
              "            <td>700</td>\n",
              "        </tr>\n",
              "        <tr>\n",
              "            <td>Koopa</td>\n",
              "            <td>Troopa</td>\n",
              "            <td>450</td>\n",
              "        </tr>\n",
              "        <tr>\n",
              "            <td>Cranky</td>\n",
              "            <td>Kong</td>\n",
              "            <td>400</td>\n",
              "        </tr>\n",
              "        <tr>\n",
              "            <td>Lakitu</td>\n",
              "            <td>Cloud</td>\n",
              "            <td>225</td>\n",
              "        </tr>\n",
              "        <tr>\n",
              "            <td>Zelda</td>\n",
              "            <td>Hyrule</td>\n",
              "            <td>150</td>\n",
              "        </tr>\n",
              "    </tbody>\n",
              "</table>"
            ]
          },
          "metadata": {},
          "execution_count": 10
        }
      ]
    }
  ]
}