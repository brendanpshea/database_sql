{
  "nbformat": 4,
  "nbformat_minor": 0,
  "metadata": {
    "colab": {
      "provenance": [],
      "authorship_tag": "ABX9TyNEV6K00H2vVlN/2B2igl/t",
      "include_colab_link": true
    },
    "kernelspec": {
      "name": "python3",
      "display_name": "Python 3"
    },
    "language_info": {
      "name": "python"
    }
  },
  "cells": [
    {
      "cell_type": "markdown",
      "metadata": {
        "id": "view-in-github",
        "colab_type": "text"
      },
      "source": [
        "<a href=\"https://colab.research.google.com/github/brendanpshea/database_sql/blob/main/Database_04_Joins_Sets_SQL.ipynb\" target=\"_parent\"><img src=\"https://colab.research.google.com/assets/colab-badge.svg\" alt=\"Open In Colab\"/></a>"
      ]
    },
    {
      "cell_type": "markdown",
      "source": [
        "## Introduction to the Movie Database\n",
        "For this chapter, we'll be using a database based on data from the Internet Movie Database (IMDB). The full dataset is available here: https://developer.imdb.com/non-commercial-datasets/. We'll just be using a small part of this data, based on movies that have (at one point or another) been in the \"top 100\" in terms of box office returns.\n",
        "\n",
        "To start off with, we need to download a copy of the database and connect to it:"
      ],
      "metadata": {
        "id": "VmzzvHO5L5TC"
      }
    },
    {
      "cell_type": "code",
      "source": [
        "!pip install sqlalchemy_schemadisplay # necessary for graphs\n",
        "!pip install SQLAlchemy==1.3.24 # Downgrade to avoid problems with more recent version\n",
        "\n",
        "# Now let's download the file we'll be using for this lab\n",
        "!wget -N 'https://github.com/brendanpshea/database_sql/raw/main/data/movie.sqlite' -q\n",
        "\n",
        "%load_ext sql\n",
        "%sql sqlite:///movie.sqlite"
      ],
      "metadata": {
        "id": "79caNEcYAVwG",
        "colab": {
          "base_uri": "https://localhost:8080/"
        },
        "outputId": "d42404b2-eb3b-48d8-f58e-c3990aeae3a5"
      },
      "execution_count": 1,
      "outputs": [
        {
          "output_type": "stream",
          "name": "stdout",
          "text": [
            "Looking in indexes: https://pypi.org/simple, https://us-python.pkg.dev/colab-wheels/public/simple/\n",
            "Collecting sqlalchemy_schemadisplay\n",
            "  Downloading sqlalchemy_schemadisplay-1.3.zip (11 kB)\n",
            "  Preparing metadata (setup.py) ... \u001b[?25l\u001b[?25hdone\n",
            "Requirement already satisfied: setuptools in /usr/local/lib/python3.10/dist-packages (from sqlalchemy_schemadisplay) (67.7.2)\n",
            "Requirement already satisfied: pydot in /usr/local/lib/python3.10/dist-packages (from sqlalchemy_schemadisplay) (1.4.2)\n",
            "Requirement already satisfied: pyparsing>=2.1.4 in /usr/local/lib/python3.10/dist-packages (from pydot->sqlalchemy_schemadisplay) (3.0.9)\n",
            "Building wheels for collected packages: sqlalchemy_schemadisplay\n",
            "  Building wheel for sqlalchemy_schemadisplay (setup.py) ... \u001b[?25l\u001b[?25hdone\n",
            "  Created wheel for sqlalchemy_schemadisplay: filename=sqlalchemy_schemadisplay-1.3-py3-none-any.whl size=5909 sha256=c81f496f31b9e42d9292fbdb140ab62cce62dbb9f502c2f1a5ceff15c4889863\n",
            "  Stored in directory: /root/.cache/pip/wheels/0c/f7/e8/6f10d97bf57730bac61edef2341bb4ed47456c9b81f47f8c8c\n",
            "Successfully built sqlalchemy_schemadisplay\n",
            "Installing collected packages: sqlalchemy_schemadisplay\n",
            "Successfully installed sqlalchemy_schemadisplay-1.3\n",
            "Looking in indexes: https://pypi.org/simple, https://us-python.pkg.dev/colab-wheels/public/simple/\n",
            "Collecting SQLAlchemy==1.3.24\n",
            "  Downloading SQLAlchemy-1.3.24.tar.gz (6.4 MB)\n",
            "\u001b[2K     \u001b[90m━━━━━━━━━━━━━━━━━━━━━━━━━━━━━━━━━━━━━━━━\u001b[0m \u001b[32m6.4/6.4 MB\u001b[0m \u001b[31m69.7 MB/s\u001b[0m eta \u001b[36m0:00:00\u001b[0m\n",
            "\u001b[?25h  Preparing metadata (setup.py) ... \u001b[?25l\u001b[?25hdone\n",
            "Building wheels for collected packages: SQLAlchemy\n",
            "  Building wheel for SQLAlchemy (setup.py) ... \u001b[?25l\u001b[?25hdone\n",
            "  Created wheel for SQLAlchemy: filename=SQLAlchemy-1.3.24-cp310-cp310-linux_x86_64.whl size=1268260 sha256=9d11e359ea74c47ec3a62a07b06075b1f780d482d4a0e3b0deec44d31b952ebf\n",
            "  Stored in directory: /root/.cache/pip/wheels/27/51/b3/3481e88d5a5ba95dd4aafedc9316774d941c4ba61cfb93add8\n",
            "Successfully built SQLAlchemy\n",
            "Installing collected packages: SQLAlchemy\n",
            "  Attempting uninstall: SQLAlchemy\n",
            "    Found existing installation: SQLAlchemy 2.0.10\n",
            "    Uninstalling SQLAlchemy-2.0.10:\n",
            "      Successfully uninstalled SQLAlchemy-2.0.10\n",
            "Successfully installed SQLAlchemy-1.3.24\n"
          ]
        }
      ]
    },
    {
      "cell_type": "markdown",
      "source": [
        "### Exploring the Data\n",
        "Now, we can take a look at the data to see what tables, attributes, and relationships are present. First, we'll display the table \"schema\" (the list of tables:"
      ],
      "metadata": {
        "id": "Dhr1iq-MM3aR"
      }
    },
    {
      "cell_type": "code",
      "source": [
        "# Now let's diplay the table schema\n",
        "%sql SELECT name FROM sqlite_master WHERE type='table';"
      ],
      "metadata": {
        "colab": {
          "base_uri": "https://localhost:8080/",
          "height": 179
        },
        "id": "qmTKBYIakMak",
        "outputId": "cde4ce76-852a-4a7f-a209-7bb22c400a99"
      },
      "execution_count": 3,
      "outputs": [
        {
          "output_type": "stream",
          "name": "stdout",
          "text": [
            " * sqlite:///movie.sqlite\n",
            "Done.\n"
          ]
        },
        {
          "output_type": "execute_result",
          "data": {
            "text/plain": [
              "[('Movie',), ('Person',), ('Actor',), ('Director',), ('Oscar',)]"
            ],
            "text/html": [
              "<table>\n",
              "    <tr>\n",
              "        <th>name</th>\n",
              "    </tr>\n",
              "    <tr>\n",
              "        <td>Movie</td>\n",
              "    </tr>\n",
              "    <tr>\n",
              "        <td>Person</td>\n",
              "    </tr>\n",
              "    <tr>\n",
              "        <td>Actor</td>\n",
              "    </tr>\n",
              "    <tr>\n",
              "        <td>Director</td>\n",
              "    </tr>\n",
              "    <tr>\n",
              "        <td>Oscar</td>\n",
              "    </tr>\n",
              "</table>"
            ]
          },
          "metadata": {},
          "execution_count": 3
        }
      ]
    },
    {
      "cell_type": "markdown",
      "source": [
        "Now, using our knowledge of the table names, we can display the first few rows of each table. (Note: I've used a bit of \"Python\" here to format things a bit more nicely):"
      ],
      "metadata": {
        "id": "hI11QgPyNMOp"
      }
    },
    {
      "cell_type": "code",
      "source": [
        "# Show the first 5 rows of each table\n",
        "movie_df = %sql SELECT * FROM Movie LIMIT 5;\n",
        "person_df = %sql SELECT * FROM Person LIMIT 5;\n",
        "actor_df = %sql SELECT * FROM Actor LIMIT 5;\n",
        "director_df = %sql SELECT * FROM Director LIMIT 5;\n",
        "oscar_df = %sql SELECT * FROM Oscar LIMIT 5;\n",
        "print('\\nMovie\\n', movie_df,'\\nPerson\\n',person_df, '\\nActor\\n', actor_df,\n",
        "      '\\nDirector\\n', director_df, '\\nOscar\\n', oscar_df)"
      ],
      "metadata": {
        "colab": {
          "base_uri": "https://localhost:8080/"
        },
        "id": "Q_BXdfHM8eOg",
        "outputId": "849629f6-0306-408d-d844-afe96b109cf0"
      },
      "execution_count": 4,
      "outputs": [
        {
          "output_type": "stream",
          "name": "stdout",
          "text": [
            " * sqlite:///movie.sqlite\n",
            "Done.\n",
            " * sqlite:///movie.sqlite\n",
            "Done.\n",
            " * sqlite:///movie.sqlite\n",
            "Done.\n",
            " * sqlite:///movie.sqlite\n",
            "Done.\n",
            " * sqlite:///movie.sqlite\n",
            "Done.\n",
            "\n",
            "Movie\n",
            " +---------+------------------------------+------+--------+---------+-------+---------------+\n",
            "|    id   |             name             | year | rating | runtime | genre | earnings_rank |\n",
            "+---------+------------------------------+------+--------+---------+-------+---------------+\n",
            "| 2488496 | Star Wars: The Force Awakens | 2015 | PG-13  |   138   |   A   |       1       |\n",
            "| 4154796 |      Avengers: Endgame       | 2019 | PG-13  |   181   |  AVS  |       2       |\n",
            "| 1087260 |   Spider-Man: No Way Home    | 2021 | PG-13  |   148   |  AVFS |       3       |\n",
            "| 0499549 |            Avatar            | 2009 | PG-13  |   162   |  AVYS |       4       |\n",
            "| 1745960 |      Top Gun: Maverick       | 2022 | PG-13  |   130   |   AD  |       5       |\n",
            "+---------+------------------------------+------+--------+---------+-------+---------------+ \n",
            "Person\n",
            " +---------+-----------------+------------+-------------------------+\n",
            "|    id   |       name      |    dob     |           pob           |\n",
            "+---------+-----------------+------------+-------------------------+\n",
            "| 0000002 |  Lauren Bacall  | 1924-09-16 | New York, New York, USA |\n",
            "| 0000004 |   John Belushi  | 1949-01-24 |  Chicago, Illinois, USA |\n",
            "| 0000006 |  Ingrid Bergman | 1915-08-29 |    Stockholm, Sweden    |\n",
            "| 0000007 | Humphrey Bogart | 1899-12-25 | New York, New York, USA |\n",
            "| 0000008 |  Marlon Brando  | 1924-04-03 |   Omaha, Nebraska, USA  |\n",
            "+---------+-----------------+------------+-------------------------+ \n",
            "Actor\n",
            " +----------+----------+\n",
            "| actor_id | movie_id |\n",
            "+----------+----------+\n",
            "| 0000138  | 0120338  |\n",
            "| 0000701  | 0120338  |\n",
            "| 0000708  | 0120338  |\n",
            "| 0000870  | 0120338  |\n",
            "| 0000200  | 0120338  |\n",
            "+----------+----------+ \n",
            "Director\n",
            " +-------------+----------+\n",
            "| director_id | movie_id |\n",
            "+-------------+----------+\n",
            "|   0000116   | 0120338  |\n",
            "|   0000184   | 0076759  |\n",
            "|   0011470   | 0298148  |\n",
            "|   0000229   | 0083866  |\n",
            "|   0000184   | 0120915  |\n",
            "+-------------+----------+ \n",
            "Oscar\n",
            " +----------+-----------+-------------------------+------+\n",
            "| movie_id | person_id |           type          | year |\n",
            "+----------+-----------+-------------------------+------+\n",
            "| 1036646  |    None   |       BEST-PICTURE      | 2022 |\n",
            "| 9620288  |  0000226  |        BEST-ACTOR       | 2022 |\n",
            "| 9115530  |  1567113  |       BEST-ACTRESS      | 2022 |\n",
            "| 3581652  |  3663196  | BEST-SUPPORTING-ACTRESS | 2022 |\n",
            "| 1036646  |  1319274  |  BEST-SUPPORTING-ACTOR  | 2022 |\n",
            "+----------+-----------+-------------------------+------+\n"
          ]
        }
      ]
    },
    {
      "cell_type": "markdown",
      "source": [
        "### Summary: Movie data\n",
        "The Movie Database consists of five tables that store information about movies the people (actors and directors) involved in the movies, as well as Oscar awards. Let's dive into the details of each table and their relationships.\n",
        "\n",
        "1.  Movie: This table contains information about movies, including their ID, name, release year, rating, runtime, genre, and earnings rank. The `id` column serves as the primary key, which uniquely identifies each movie. The `year`, `runtime`, and `earnings_rank` columns are stored as integers, while `name`, `rating`, and `genre` are stored as text.\n",
        "\n",
        "2.  Person: The Person table holds information about people involved in the movie industry, such as actors and directors. Each person has a unique ID, name, date of birth (dob), and place of birth (pob). The `id` column is the primary key, and the `name`, `dob`, and `pob` columns are stored as text. The date of birth is formatted as 'YYYY-MM-DD'.\n",
        "\n",
        "3.  Actor: The Actor table serves as a relationship table between movies and actors. It contains two columns: `actor_id` and `movie_id`. The `actor_id` corresponds to the `id` in the Person table, and the `movie_id` corresponds to the `id` in the Movie table. This table allows us to identify which actors appeared in which movies.\n",
        "\n",
        "4.  Director: Similar to the Actor table, the Director table represents the relationship between movies and directors. It has two columns: `director_id` and `movie_id`. The `director_id` corresponds to the `id` in the Person table, and the `movie_id` corresponds to the `id` in the Movie table. This table helps us determine who directed which movies.\n",
        "\n",
        "5.  Oscar: The Oscar table contains information about the Oscar awards, including the `movie_id`, `person_id`, award `type`, and the award `year`. The `movie_id` corresponds to the `id` in the Movie table, and the `person_id` corresponds to the `id` in the Person table. The `type` column is stored as text and represents the category of the award, such as 'BEST-ACTOR' or 'BEST-PICTURE'. The `year` column is an integer that represents the year the award was given.\n",
        "\n",
        "The relationships among these tables are established through foreign keys. In the Actor and Director tables, `actor_id` and `director_id` reference the `id` in the Person table, while `movie_id` in the Actor, Director, and Oscar tables reference the `id` in the Movie table. These relationships enable us to query and analyze the data in various ways, such as finding all movies a specific actor has appeared in or all movies directed by a particular director."
      ],
      "metadata": {
        "id": "AnjgYL7dH6OO"
      }
    },
    {
      "cell_type": "markdown",
      "source": [
        "### An Entity-Relationship Diagram of the Movie Data\n",
        "To help us better understand the stucture of the movie data, let's create an **entity-relationship** diagram."
      ],
      "metadata": {
        "id": "1vY0SE1_Nzy3"
      }
    },
    {
      "cell_type": "code",
      "source": [
        "\n",
        "from sqlalchemy import create_engine, MetaData\n",
        "from sqlalchemy_schemadisplay import create_schema_graph\n",
        "from IPython.display import Image\n",
        "\n",
        "# Replace this line with your SQLite database file path\n",
        "database_url = 'sqlite:///movie.sqlite'\n",
        "\n",
        "# Connect to the database\n",
        "engine = create_engine(database_url)\n",
        "metadata = MetaData(engine)\n",
        "\n",
        "# Generate the ERD diagram\n",
        "graph = create_schema_graph(metadata=metadata, show_datatypes=True, show_indexes=True)\n",
        "\n",
        "# Save the ERD diagram as a PNG image\n",
        "graph.write_png('erd_diagram.png')\n",
        "\n",
        "Image(filename='erd_diagram.png')"
      ],
      "metadata": {
        "colab": {
          "base_uri": "https://localhost:8080/",
          "height": 572
        },
        "id": "10D5BDpGIaTV",
        "outputId": "d861a450-7ccc-49d5-fdfd-c255cb764992"
      },
      "execution_count": 5,
      "outputs": [
        {
          "output_type": "execute_result",
          "data": {
            "image/png": "[encoded data removed]",
            "text/plain": [
              "<IPython.core.display.Image object>"
            ]
          },
          "metadata": {},
          "execution_count": 5
        }
      ]
    }
  ]
}