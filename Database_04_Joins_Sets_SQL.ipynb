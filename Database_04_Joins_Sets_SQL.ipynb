{
  "nbformat": 4,
  "nbformat_minor": 0,
  "metadata": {
    "colab": {
      "provenance": [],
      "authorship_tag": "ABX9TyP/aUaitA5YBMJRTVw31hD+",
      "include_colab_link": true
    },
    "kernelspec": {
      "name": "python3",
      "display_name": "Python 3"
    },
    "language_info": {
      "name": "python"
    }
  },
  "cells": [
    {
      "cell_type": "markdown",
      "metadata": {
        "id": "view-in-github",
        "colab_type": "text"
      },
      "source": [
        "<a href=\"https://colab.research.google.com/github/brendanpshea/database_sql/blob/main/Database_04_Joins_Sets_SQL.ipynb\" target=\"_parent\"><img src=\"https://colab.research.google.com/assets/colab-badge.svg\" alt=\"Open In Colab\"/></a>"
      ]
    },
    {
      "cell_type": "markdown",
      "source": [
        "# Getting Tables Together With Joins and Sets\n",
        "### Brendan Shea, PhD\n",
        "\n",
        "Welcome to Chapter 4. In this part of the book, we'll learn about joins and set operations using SQLite. We'll use a database called movies.sqlite, which is based on data from IMDB and includes movie, actor, director, person, and Oscar data.\n",
        "\n",
        "- First, we'll show you the database schema for movies.sqlite. This is a guide to how the data is organized. We'll also display the first five rows of each table, so you can see what the data looks like.\n",
        "\n",
        "- Next, we'll explain what an entity-relationship diagram is. It's a way of showing how different tables in a database are connected. It helps you understand the database's structure. We'll also discuss VARCHAR and CHAR, which are different kinds of data types, and explain how they compare to TEXT.\n",
        "\n",
        "- Then, we'll talk about how tables relate to each other, using something called cardinalities. We'll go over \"join\" tables, like the Actor and Director ones, and explain their importance in connecting data. We'll also explain what primary keys are and why they're necessary in each table.\n",
        "\n",
        "\n",
        "- The main part of this chapter is about joins: INNER JOIN, LEFT (OUTER) JOIN, and CROSS JOIN. We'll show you how each one works, give examples, and explain when you might want to use them.\n",
        "\n",
        "- Finally, we'll go over set operations: UNION, DIFFERENCE, EXCEPT, and INTERSECT. These are methods you can use to combine or compare results from different SQL queries.\n",
        "\n",
        "Remember, the key to understanding databases is practice. Don't be afraid to experiment and make mistakes. That's how you'll learn. Now, let's get started on joins and set operations!\n"
      ],
      "metadata": {
        "id": "reGSBJG17aJT"
      }
    },
    {
      "cell_type": "markdown",
      "source": [
        "## Introduction to the Movie Database\n",
        "For this chapter, we'll be using a database based on data from the Internet Movie Database (IMDB). The full dataset is available here: https://developer.imdb.com/non-commercial-datasets/. The formatting of this datbase is adapted from that of David Sullivan (a computer science professor at Harvard/Boston U). We'll just be using a small part of this data, based on movies that have (at one point or another) been in the \"top 100\" in terms of box office returns.\n",
        "\n",
        "To start off with, we need to download a copy of the database and connect to it:"
      ],
      "metadata": {
        "id": "VmzzvHO5L5TC"
      }
    },
    {
      "cell_type": "code",
      "source": [
        "!pip install SQLAlchemy==1.3.24 -q # Downgrade to avoid problems with more recent version\n",
        "\n",
        "# Now let's download the file we'll be using for this lab\n",
        "!wget -N 'https://github.com/brendanpshea/database_sql/raw/main/data/movie.sqlite' -q\n",
        "\n",
        "%load_ext sql\n",
        "%sql sqlite:///movie.sqlite"
      ],
      "metadata": {
        "id": "79caNEcYAVwG",
        "colab": {
          "base_uri": "https://localhost:8080/"
        },
        "outputId": "5de7a7b8-bd5d-4af8-f5f5-3388e79d4aed"
      },
      "execution_count": 1,
      "outputs": [
        {
          "output_type": "stream",
          "name": "stdout",
          "text": [
            "\u001b[?25l     \u001b[90m━━━━━━━━━━━━━━━━━━━━━━━━━━━━━━━━━━━━━━━━\u001b[0m \u001b[32m0.0/6.4 MB\u001b[0m \u001b[31m?\u001b[0m eta \u001b[36m-:--:--\u001b[0m\r\u001b[2K     \u001b[91m━━━━━━━━━━━━━━\u001b[0m\u001b[91m╸\u001b[0m\u001b[90m━━━━━━━━━━━━━━━━━━━━━━━━━\u001b[0m \u001b[32m2.3/6.4 MB\u001b[0m \u001b[31m68.4 MB/s\u001b[0m eta \u001b[36m0:00:01\u001b[0m\r\u001b[2K     \u001b[91m━━━━━━━━━━━━━━━━━━━━━━━━━━━━━━━━━━━━━━━\u001b[0m\u001b[91m╸\u001b[0m \u001b[32m6.3/6.4 MB\u001b[0m \u001b[31m90.6 MB/s\u001b[0m eta \u001b[36m0:00:01\u001b[0m\r\u001b[2K     \u001b[91m━━━━━━━━━━━━━━━━━━━━━━━━━━━━━━━━━━━━━━━\u001b[0m\u001b[91m╸\u001b[0m \u001b[32m6.3/6.4 MB\u001b[0m \u001b[31m90.6 MB/s\u001b[0m eta \u001b[36m0:00:01\u001b[0m\r\u001b[2K     \u001b[90m━━━━━━━━━━━━━━━━━━━━━━━━━━━━━━━━━━━━━━━━\u001b[0m \u001b[32m6.4/6.4 MB\u001b[0m \u001b[31m56.7 MB/s\u001b[0m eta \u001b[36m0:00:00\u001b[0m\n",
            "\u001b[?25h  Preparing metadata (setup.py) ... \u001b[?25l\u001b[?25hdone\n",
            "  Building wheel for SQLAlchemy (setup.py) ... \u001b[?25l\u001b[?25hdone\n"
          ]
        }
      ]
    },
    {
      "cell_type": "markdown",
      "source": [
        "### Exploring the Data\n",
        "Now, we can take a look at the data to see what tables, attributes, and relationships are present. First, we'll display the table \"schema\" (the list of tables:"
      ],
      "metadata": {
        "id": "Dhr1iq-MM3aR"
      }
    },
    {
      "cell_type": "code",
      "source": [
        "# Now let's diplay the table schema\n",
        "%sql SELECT name FROM sqlite_master WHERE type='table';"
      ],
      "metadata": {
        "colab": {
          "base_uri": "https://localhost:8080/",
          "height": 179
        },
        "id": "qmTKBYIakMak",
        "outputId": "8c203b86-fb0a-440d-9ac3-6c278bd48402"
      },
      "execution_count": null,
      "outputs": [
        {
          "output_type": "stream",
          "name": "stdout",
          "text": [
            " * sqlite:///movie.sqlite\n",
            "Done.\n"
          ]
        },
        {
          "output_type": "execute_result",
          "data": {
            "text/plain": [
              "[('Movie',), ('Person',), ('Actor',), ('Director',), ('Oscar',)]"
            ],
            "text/html": [
              "<table>\n",
              "    <tr>\n",
              "        <th>name</th>\n",
              "    </tr>\n",
              "    <tr>\n",
              "        <td>Movie</td>\n",
              "    </tr>\n",
              "    <tr>\n",
              "        <td>Person</td>\n",
              "    </tr>\n",
              "    <tr>\n",
              "        <td>Actor</td>\n",
              "    </tr>\n",
              "    <tr>\n",
              "        <td>Director</td>\n",
              "    </tr>\n",
              "    <tr>\n",
              "        <td>Oscar</td>\n",
              "    </tr>\n",
              "</table>"
            ]
          },
          "metadata": {},
          "execution_count": 2
        }
      ]
    },
    {
      "cell_type": "code",
      "source": [
        "# Show the data types for each table\n",
        "movie_df = %sql PRAGMA table_info(Movie);\n",
        "person_df = %sql PRAGMA table_info(Person);\n",
        "actor_df = %sql PRAGMA table_info(Actor);\n",
        "director_df = %sql PRAGMA table_info(Director);\n",
        "oscar_df = %sql PRAGMA table_info(Oscar);\n",
        "\n",
        "print('\\nMovie\\n', movie_df,'\\nPerson\\n',person_df, '\\nActor\\n', actor_df,\n",
        "      '\\nDirector\\n', director_df, '\\nOscar\\n', oscar_df)"
      ],
      "metadata": {
        "id": "CF7O3EyhwcfA",
        "outputId": "43a7406d-a3ad-4cda-e9a8-f1032cf11018",
        "colab": {
          "base_uri": "https://localhost:8080/"
        }
      },
      "execution_count": 2,
      "outputs": [
        {
          "output_type": "stream",
          "name": "stdout",
          "text": [
            " * sqlite:///movie.sqlite\n",
            "Done.\n",
            " * sqlite:///movie.sqlite\n",
            "Done.\n",
            " * sqlite:///movie.sqlite\n",
            "Done.\n",
            " * sqlite:///movie.sqlite\n",
            "Done.\n",
            " * sqlite:///movie.sqlite\n",
            "Done.\n",
            "\n",
            "Movie\n",
            " +-----+---------------+-------------+---------+------------+----+\n",
            "| cid |      name     |     type    | notnull | dflt_value | pk |\n",
            "+-----+---------------+-------------+---------+------------+----+\n",
            "|  0  |       id      |   CHAR(7)   |    0    |    None    | 1  |\n",
            "|  1  |      name     | VARCHAR(64) |    0    |    None    | 0  |\n",
            "|  2  |      year     |   INTEGER   |    0    |    None    | 0  |\n",
            "|  3  |     rating    |  VARCHAR(5) |    0    |    None    | 0  |\n",
            "|  4  |    runtime    |   INTEGER   |    0    |    None    | 0  |\n",
            "|  5  |     genre     | VARCHAR(16) |    0    |    None    | 0  |\n",
            "|  6  | earnings_rank |   INTEGER   |    0    |    None    | 0  |\n",
            "+-----+---------------+-------------+---------+------------+----+ \n",
            "Person\n",
            " +-----+------+--------------+---------+------------+----+\n",
            "| cid | name |     type     | notnull | dflt_value | pk |\n",
            "+-----+------+--------------+---------+------------+----+\n",
            "|  0  |  id  |   CHAR(7)    |    0    |    None    | 1  |\n",
            "|  1  | name | VARCHAR(64)  |    0    |    None    | 0  |\n",
            "|  2  | dob  |     DATE     |    0    |    None    | 0  |\n",
            "|  3  | pob  | VARCHAR(128) |    0    |    None    | 0  |\n",
            "+-----+------+--------------+---------+------------+----+ \n",
            "Actor\n",
            " +-----+----------+---------+---------+------------+----+\n",
            "| cid |   name   |   type  | notnull | dflt_value | pk |\n",
            "+-----+----------+---------+---------+------------+----+\n",
            "|  0  | actor_id | CHAR(7) |    0    |    None    | 1  |\n",
            "|  1  | movie_id | CHAR(7) |    0    |    None    | 2  |\n",
            "+-----+----------+---------+---------+------------+----+ \n",
            "Director\n",
            " +-----+-------------+---------+---------+------------+----+\n",
            "| cid |     name    |   type  | notnull | dflt_value | pk |\n",
            "+-----+-------------+---------+---------+------------+----+\n",
            "|  0  | director_id | CHAR(7) |    0    |    None    | 1  |\n",
            "|  1  |   movie_id  | CHAR(7) |    0    |    None    | 2  |\n",
            "+-----+-------------+---------+---------+------------+----+ \n",
            "Oscar\n",
            " +-----+-----------+-------------+---------+------------+----+\n",
            "| cid |    name   |     type    | notnull | dflt_value | pk |\n",
            "+-----+-----------+-------------+---------+------------+----+\n",
            "|  0  |  movie_id |   CHAR(7)   |    0    |    None    | 0  |\n",
            "|  1  | person_id |   CHAR(7)   |    0    |    None    | 1  |\n",
            "|  2  |    type   | VARCHAR(23) |    0    |    None    | 2  |\n",
            "|  3  |    year   |   INTEGER   |    0    |    None    | 3  |\n",
            "+-----+-----------+-------------+---------+------------+----+\n"
          ]
        }
      ]
    },
    {
      "cell_type": "markdown",
      "source": [
        "Now, using our knowledge of the table names, we can display the first few rows of each table. (Note: I've used a bit of \"Python\" here to format things a bit more nicely):"
      ],
      "metadata": {
        "id": "hI11QgPyNMOp"
      }
    },
    {
      "cell_type": "code",
      "source": [
        "# Show the first 5 rows of each table\n",
        "movie_df = %sql SELECT * FROM Movie LIMIT 5;\n",
        "person_df = %sql SELECT * FROM Person LIMIT 5;\n",
        "actor_df = %sql SELECT * FROM Actor LIMIT 5;\n",
        "director_df = %sql SELECT * FROM Director LIMIT 5;\n",
        "oscar_df = %sql SELECT * FROM Oscar LIMIT 5;\n",
        "print('\\nMovie\\n', movie_df,'\\nPerson\\n',person_df, '\\nActor\\n', actor_df,\n",
        "      '\\nDirector\\n', director_df, '\\nOscar\\n', oscar_df)"
      ],
      "metadata": {
        "colab": {
          "base_uri": "https://localhost:8080/"
        },
        "id": "Q_BXdfHM8eOg",
        "outputId": "687ef55a-d60f-4a83-9df9-bf8d5f4987ab"
      },
      "execution_count": null,
      "outputs": [
        {
          "output_type": "stream",
          "name": "stdout",
          "text": [
            " * sqlite:///movie.sqlite\n",
            "Done.\n",
            " * sqlite:///movie.sqlite\n",
            "Done.\n",
            " * sqlite:///movie.sqlite\n",
            "Done.\n",
            " * sqlite:///movie.sqlite\n",
            "Done.\n",
            " * sqlite:///movie.sqlite\n",
            "Done.\n",
            "\n",
            "Movie\n",
            " +---------+------------------------------+------+--------+---------+-------+---------------+\n",
            "|    id   |             name             | year | rating | runtime | genre | earnings_rank |\n",
            "+---------+------------------------------+------+--------+---------+-------+---------------+\n",
            "| 2488496 | Star Wars: The Force Awakens | 2015 | PG-13  |   138   |   A   |       1       |\n",
            "| 4154796 |      Avengers: Endgame       | 2019 | PG-13  |   181   |  AVS  |       2       |\n",
            "| 1087260 |   Spider-Man: No Way Home    | 2021 | PG-13  |   148   |  AVFS |       3       |\n",
            "| 0499549 |            Avatar            | 2009 | PG-13  |   162   |  AVYS |       4       |\n",
            "| 1745960 |      Top Gun: Maverick       | 2022 | PG-13  |   130   |   AD  |       5       |\n",
            "+---------+------------------------------+------+--------+---------+-------+---------------+ \n",
            "Person\n",
            " +---------+-----------------+------------+-------------------------+\n",
            "|    id   |       name      |    dob     |           pob           |\n",
            "+---------+-----------------+------------+-------------------------+\n",
            "| 0000002 |  Lauren Bacall  | 1924-09-16 | New York, New York, USA |\n",
            "| 0000004 |   John Belushi  | 1949-01-24 |  Chicago, Illinois, USA |\n",
            "| 0000006 |  Ingrid Bergman | 1915-08-29 |    Stockholm, Sweden    |\n",
            "| 0000007 | Humphrey Bogart | 1899-12-25 | New York, New York, USA |\n",
            "| 0000008 |  Marlon Brando  | 1924-04-03 |   Omaha, Nebraska, USA  |\n",
            "+---------+-----------------+------------+-------------------------+ \n",
            "Actor\n",
            " +----------+----------+\n",
            "| actor_id | movie_id |\n",
            "+----------+----------+\n",
            "| 0000138  | 0120338  |\n",
            "| 0000701  | 0120338  |\n",
            "| 0000708  | 0120338  |\n",
            "| 0000870  | 0120338  |\n",
            "| 0000200  | 0120338  |\n",
            "+----------+----------+ \n",
            "Director\n",
            " +-------------+----------+\n",
            "| director_id | movie_id |\n",
            "+-------------+----------+\n",
            "|   0000116   | 0120338  |\n",
            "|   0000184   | 0076759  |\n",
            "|   0011470   | 0298148  |\n",
            "|   0000229   | 0083866  |\n",
            "|   0000184   | 0120915  |\n",
            "+-------------+----------+ \n",
            "Oscar\n",
            " +----------+-----------+-------------------------+------+\n",
            "| movie_id | person_id |           type          | year |\n",
            "+----------+-----------+-------------------------+------+\n",
            "| 1036646  |    None   |       BEST-PICTURE      | 2022 |\n",
            "| 9620288  |  0000226  |        BEST-ACTOR       | 2022 |\n",
            "| 9115530  |  1567113  |       BEST-ACTRESS      | 2022 |\n",
            "| 3581652  |  3663196  | BEST-SUPPORTING-ACTRESS | 2022 |\n",
            "| 1036646  |  1319274  |  BEST-SUPPORTING-ACTOR  | 2022 |\n",
            "+----------+-----------+-------------------------+------+\n"
          ]
        }
      ]
    },
    {
      "cell_type": "markdown",
      "source": [
        "### Movies: Basic Structure\n",
        "\n",
        "Our database consists of five tables: Movie, Person, Actor, Director, and Oscar. These tables store data related to movies, persons (actors and directors), and Oscar awards. Now, let's explore each of these tables, their attributes, data types, and primary keys.\n",
        "\n",
        "### Data Types\n",
        "\n",
        "As we've discussed previously, every column in a SQL table has a related \"data type\". The data type defines what kind of data a column can store. Here are some of the data types found in our tables:\n",
        "\n",
        "1.  **CHAR:** This type is used to store character strings of a fixed length. The number within the parentheses (like CHAR(7)) represents the fixed length of characters the field can hold. (This is a more specific version of SQLite's `TEXT` type).\n",
        "\n",
        "2.  **VARCHAR:** Unlike CHAR, VARCHAR is used for variable-length strings. The number within the parentheses represents the maximum number of characters the field can hold. (This is a more specific version of SQLite's `TEXT` type).\n",
        "\n",
        "3.  **INTEGER:** This type is used for integer values.\n",
        "\n",
        "4.  **DATE:** This type is used to store date values. In SQLite, these are stored as a type of TEXT.\n",
        "\n",
        "### Tables\n",
        "\n",
        "\n",
        "1\\. Movie: This table contains information about different movies. It has 7 attributes:\n",
        "\n",
        "-   `id` (CHAR(7)): This is a unique identifier for each movie. This serves as the primary key for this table.\n",
        "-   `name` (VARCHAR(64)): The name of the movie.\n",
        "-   `year` (INTEGER): The year when the movie was released.\n",
        "-   `rating` (VARCHAR(5)): The MPAA rating of the movie.\n",
        "-   `runtime` (INTEGER): The duration of the movie in minutes.\n",
        "-   `genre` (VARCHAR(16)): The genre of the movie.\n",
        "-   `earnings_rank` (INTEGER): The earnings rank of the movie.\n",
        "\n",
        "2\\. Person: This table stores data related to persons (actors and directors). It consists of 4 attributes:\n",
        "\n",
        "-  `id` (CHAR(7)): This is a unique identifier for each person. This is the primary key for this table.\n",
        "-   `name` (VARCHAR(64)): The name of the person.\n",
        "-   `dob` (DATE): The date of birth of the person.\n",
        "-   `pob` (VARCHAR(128)): The place of birth of the person.\n",
        "\n",
        "3\\. Actor and Director: These are \"join tables\" which store the relationship between movies and persons (actors or directors). A join table is used to resolve many-to-many relationships by breaking it down into two one-to-many relationships. In this case, a movie can have multiple actors and a person can act in multiple movies. Same applies for directors. Each of these tables has two attributes:\n",
        "\n",
        "-   `actor_id/director_id` (CHAR(7)): This refers to the id of the person who is an actor/director. This forms part of the composite primary key.\n",
        "-   `movie_id` (CHAR(7)): This refers to the id of the movie. This also forms part of the composite primary key.\n",
        "\n",
        "4\\. Oscar: This table stores information about Oscar awards. It contains 4 attributes:\n",
        "\n",
        "-   `movie_id` (CHAR(7)): This refers to the id of the movie that won an Oscar.\n",
        "-   `person_id` (CHAR(7)): This refers to the id of the person who won an Oscar.\n",
        "-   `type` (VARCHAR(23)): This represents the type of Oscar award.\n",
        "-   `year` (INTEGER): The year when the Oscar was awarded.\n",
        "\n",
        "The key for this table is a combination of ALL FOUR columns."
      ],
      "metadata": {
        "id": "_ThPMpYp96e6"
      }
    },
    {
      "cell_type": "markdown",
      "source": [
        "### Movies: Some Design Principles\n",
        "Let's conclude with some key takeaways:\n",
        "\n",
        "-   Use of Primary Keys: Unique identifiers (primary keys) ensure that each record in a table is unique. They also allow us to link tables together efficiently. The Movie and Person tables demonstrate this.\n",
        "\n",
        "-   Importance of Join Tables: The Actor and Director tables illustrate how join tables enable many-to-many relationships between entities. Many actors can star in many movies, and a movie can have multiple directors.\n",
        "\n",
        "-   Composite Primary Keys: The Actor, Director, and Oscar tables show how composite primary keys (where more than one column is used to identify a record uniquely) can handle complex relationships.\n",
        "\n",
        "-   Real-world Entity Representation: The design of the Oscar table emphasizes that database design should closely reflect the realities of the data you're working with. It demonstrates how to incorporate multiple, overlapping relationships in a single table.\n",
        "\n",
        "This dataset is an example of a relational database, where tables connect via relationships, allowing us to organize complex, real-world data in a structured way. In the next sections, we'll explore how to leverage these relationships to query and manipulate our data efficiently. Remember, practice is the key to mastering database design, so don't be afraid to experiment and learn from your mistakes!"
      ],
      "metadata": {
        "id": "JoMfbuhA_bRe"
      }
    },
    {
      "cell_type": "markdown",
      "source": [
        "## An Entity-Relationship Diagram of the Movie Data\n",
        "To help us better understand the stucture of the movie data, let's create an **entity-relationship** diagram."
      ],
      "metadata": {
        "id": "1vY0SE1_Nzy3"
      }
    },
    {
      "cell_type": "code",
      "source": [
        "import requests\n",
        "from IPython.display import Image\n",
        "\n",
        "url = \"https://github.com/brendanpshea/database_sql/raw/main/images/movies_crows_foot.png\"\n",
        "\n",
        "response = requests.get(url)\n",
        "\n",
        "if response.status_code == 200:\n",
        "  image = Image(response.content)\n",
        "  display(image)"
      ],
      "metadata": {
        "colab": {
          "base_uri": "https://localhost:8080/",
          "height": 673
        },
        "id": "KKDjREWdBM5t",
        "outputId": "40454b7e-63a6-428f-a837-f7cade4a2d65"
      },
      "execution_count": null,
      "outputs": [
        {
          "output_type": "display_data",
          "data": {
            "image/png": "[encoded data removed]",
            "text/plain": [
              "<IPython.core.display.Image object>"
            ]
          },
          "metadata": {}
        }
      ]
    },
    {
      "cell_type": "markdown",
      "source": [
        "### Why ER Diagrams?\n",
        "An **Entity-Relationship (ER) diagram** (like the one you see here) is a visual tool that allows us to model and represent the relationships between different entities in a database. An 'entity' could be anything we want to store information about, such as movies, people, or awards in our movies.sqlite database.\n",
        "\n",
        "In an ER diagram, **entities** (roughly, classes of things corresponding to tables) are usually represented as rectangles, while **relationships** are shown as lines or arrows connecting these rectangles. These relationships illustrate how data in one entity relates to data in another. For example, in our movies.sqlite database, a relationship exists between the 'Movie' and 'Person' entities through the 'Actor' and 'Director' entities.\n",
        "\n",
        "This diagram used a simplified version of **Crow's foot notation**, which is a type of ER diagram where relationships are displayed with symbols that somewhat resemble a bird's footprints (hence the name). This notation is particularly helpful in showing the cardinality of relationships, or in other words, how many instances of one entity relate to instances of another entity.\n",
        "\n",
        "In crow's foot notation, we look at the **connectors** at the end of lines to determine the relationships between entities.\n",
        "\n",
        "-   A `1` (also indicated with `|`) stands for 'exactly 1'.\n",
        "-   A crow's foot (`<` or `>`) symbol stands for 'many'.\n",
        "-  A circle (`O`) on a line represents \"optional\" (we don't have any of these in this diagram).\n",
        "\n",
        "So, for example, consider the line between 'Movie' and 'Director'. Since there is a crow's foot (\"many\") next to the Director box and a 1 next to the Movie box, this means there is a **many-to-one** relationship between directors and movies: Every director can direct many movies, but each movie (at least for the purposes of this database can have only one director). Many-to-one relationships form the \"heart\" of relational databases, since **one-to-one relationships** are often encoded as \"attributes\" of tables (for example, a Person's relationships with their own name) while **many-to-many** relationships (for example, the relationship between Persons and Movies--a person can be in many movies and a movie can have many persons) can't be represented without breaking them down into multiple many-to-one (or one-to-many) tables (as we've done here with Director and Actor).\n",
        "\n",
        "### The Role of ER Diagrams in Database Design and Interpretation\n",
        "\n",
        "ER diagrams play a crucial role in both the design and interpretation of databases:\n",
        "\n",
        "-   Design: When designing a database, ER diagrams help us to visualize the structure and relationships in our database before we start creating it. By mapping out entities and their relationships, we can see and adjust our database's design more easily. It helps ensure we accurately represent the data and relationships we want to capture.\n",
        "\n",
        "-   Interpretation: ER diagrams can also be handy tools for understanding existing databases. They provide a clear, visual representation of the structure of a database, making it easier to understand the relationships between different entities. This understanding is key when it comes to effectively querying a database.\n",
        "\n",
        "Remember, a well-designed ER diagram can save you time and trouble. It gives you a clear roadmap of your database, helps prevent errors, and makes the database easier to work with, whether you're the one who created it or not."
      ],
      "metadata": {
        "id": "W5GiwP65FdmU"
      }
    },
    {
      "cell_type": "markdown",
      "source": [
        "## SQL JOINS\n",
        "\n",
        "SQL Joins allow us to combine rows from two or more tables based on a related column between them. This is where the relationships we've been talking about really come into play. The first type of join we'll discuss is the INNER JOIN.\n",
        "\n",
        "### INNER JOIN\n",
        "\n",
        "An INNER JOIN returns records that have matching values in both tables being joined. This is the most common form of join in SQL, and is sometimes called a **natural join** (or just a JOIN -- you don't need to include INNER).\n",
        "\n",
        "The general form of an SQL JOIN statement looks like this:\n",
        "\n",
        "```\n",
        "SELECT column1, column2, ...\n",
        "FROM table1\n",
        "[INNER] JOIN table2 ON condition;\n",
        "```\n",
        "\n",
        "The INNER JOIN keyword selects records that have matching values in both tables. This means you only get rows back when there's something to match in both tables.\n",
        "\n",
        "To illustrate, consider two simplified tables in our database, 'Actor' and 'Person'. The 'Actor' table contains two columns: 'actor_id' and 'movie_id'. The 'Person' table includes 'id' and 'name'. Here are the tables with a few rows of data:\n",
        "\n",
        "'Actor' Table:\n",
        "\n",
        "| actor_id | movie_id |\n",
        "| --- | --- |\n",
        "| 1 | 100 |\n",
        "| 2 | 100 |\n",
        "| 3 | 101 |\n",
        "| 4 | 102 |\n",
        "\n",
        "'Person' Table:\n",
        "\n",
        "| id | name |\n",
        "| --- | --- |\n",
        "| 1 | Tom Hanks |\n",
        "| 2 | Morgan Freeman |\n",
        "| 3 | Meryl Streep |\n",
        "| 5 | Robert De Niro |\n",
        "\n",
        "Now, suppose we want to find out which actors played in the movie with the ID '100'. To do that, we can use an INNER JOIN to combine the 'Actor' and 'Person' tables:\n",
        "\n",
        "```\n",
        "SELECT Person.name\n",
        "FROM Actor\n",
        "JOIN Person ON Actor.actor_id = Person.id\n",
        "WHERE Actor.movie_id = 100;`\n",
        "```\n",
        "\n",
        "This statement takes the 'Actor' table and joins it with the 'Person' table where the 'actor_id' in 'Actor' matches the 'id' in 'Person'. We're only interested in the movie with ID '100', so we specify that with `WHERE Actor.movie_id = 100`.\n",
        "\n",
        "The result of this query would look like this:\n",
        "\n",
        "| name |\n",
        "| --- |\n",
        "| Tom Hanks |\n",
        "| Morgan Freeman |\n",
        "\n",
        "This result shows us that Tom Hanks and Morgan Freeman were both actors in the movie with the ID '100'.\n",
        "\n",
        "Now, let's move onto multiple-table joins. Suppose we want to get a list of movie names along with the actors. To do this, we would join three tables: 'Movie', 'Actor', and 'Person'. Let's start by adding a 'Movie' table into our example:\n",
        "\n",
        "'Movie' Table:\n",
        "\n",
        "| id | name |\n",
        "| --- | --- |\n",
        "| 100 | Forrest Gump |\n",
        "| 101 | The Godfather |\n",
        "| 102 | Casablanca |\n",
        "\n",
        "We could adjust our previous SQL query to include the 'Movie' table like this:\n",
        "\n",
        "```\n",
        "SELECT Movie.name, Person.name\n",
        "FROM Movie\n",
        "JOIN Actor ON Movie.id = Actor.movie_id\n",
        "JOIN Person ON Actor.actor_id = Person.id;\n",
        "```\n",
        "\n",
        "Now we are joining 'Movie' to 'Actor', and then that result to 'Person'. This would give us a list of movie names along with the corresponding actor names, something like this:\n",
        "\n",
        "| Movie Name | Actor Name |\n",
        "| --- | --- |\n",
        "| Forrest Gump | Tom Hanks |\n",
        "| Forrest Gump | Morgan Freeman |\n",
        "| The Godfather | Meryl Streep |"
      ],
      "metadata": {
        "id": "ba28Ev9uIahV"
      }
    },
    {
      "cell_type": "markdown",
      "source": [
        "### LEFT JOIN (LEFT OUTER JOIN)\n",
        "\n",
        "The general form of a LEFT [OUTER] JOIN SQL statement looks like this:\n",
        "\n",
        "```\n",
        "SELECT column1, column2, ...\n",
        "FROM table1\n",
        "LEFT JOIN table2 ON condition;\n",
        "```\n",
        "\n",
        "A LEFT JOIN returns all records from the left table (table1), and the matched records from the right table (table2). If there is no match, the result is NULL on the right side. This is quite different from an INNER JOIN, which only returns records where there is a match in both tables.\n",
        "\n",
        "Let's go back to our example with the 'Actor' and 'Person' tables. If we wanted a list of all actors, whether or not they were in a movie, we could use a LEFT JOIN.\n",
        "\n",
        "```\n",
        "SELECT Person.name\n",
        "FROM Person\n",
        "LEFT JOIN Actor ON Person.id = Actor.actor_id;\n",
        "```\n",
        "\n",
        "In this case, the result would include all persons, regardless of whether they are associated with a movie in the 'Actor' table. If a person isn't an actor in any movie (i.e., there's no matching actor_id in the 'Actor' table), we'd see NULL for that person's movie.\n",
        "\n",
        "Consider our previous 'Person' table and assume that these are all the people in our database, but only some of them are actors:\n",
        "\n",
        "'Person' Table:\n",
        "\n",
        "| id | name |\n",
        "| --- | --- |\n",
        "| 1 | Tom Hanks |\n",
        "| 2 | Morgan Freeman |\n",
        "| 3 | Meryl Streep |\n",
        "| 5 | Robert De Niro |\n",
        "\n",
        "The result of our LEFT JOIN query would look like this:\n",
        "\n",
        "| name | movie_id |\n",
        "| --- | --- |\n",
        "| Tom Hanks | 100 |\n",
        "| Morgan Freeman | 100 |\n",
        "| Meryl Streep | 101 |\n",
        "| Robert De Niro | NULL |\n",
        "\n",
        "As you can see, we have every person in our result, but Robert De Niro's movie_id is NULL because he does not appear in the 'Actor' table.\n",
        "\n",
        "In contrast, if we had used an INNER JOIN instead, Robert De Niro wouldn't appear in our result at all, because INNER JOIN only includes records where there's a match in both tables. The choice between INNER JOIN and LEFT JOIN depends on whether you want to include all records from one table (LEFT JOIN), or only records where there's a match in both tables (INNER JOIN).\n",
        "\n",
        "Some versions of SQL also ofter commands for RIGHT (OUTER) JOIN (which just reverses the order of the two tables in LEFT JOIN) and FULL OUTER JOIN (which combines the results of LEFT and RIGHT joins). However, you can replicate these by smartly using LEFT JOIN."
      ],
      "metadata": {
        "id": "ro9ec2bOL58W"
      }
    },
    {
      "cell_type": "markdown",
      "source": [
        "### CROSS JOIN\n",
        "\n",
        "The general form of a CROSS JOIN SQL statement looks like this:\n",
        "\n",
        "```\n",
        "SELECT column1, column2, ...\n",
        "FROM table1\n",
        "CROSS JOIN table2;\n",
        "```\n",
        "\n",
        "A CROSS JOIN returns the Cartesian product of rows from both tables. Essentially, it combines every row of the first table with every row of the second table. If the first table has 'n' rows and the second table has 'm' rows, the result will be a table with n*m rows.\n",
        "\n",
        "The CROSS JOIN is a key theoretical concept, as it represents the maximum possible combination of rows between two tables. Other types of joins can be viewed as a filtered version of the CROSS JOIN where only the relevant rows are returned based on the specified condition.\n",
        "\n",
        "Let's illustrate this with a small example. Suppose we have the following 'Actor' and 'Movie' tables:\n",
        "\n",
        "'Actor' Table:\n",
        "\n",
        "| actor_id | name |\n",
        "| --- | --- |\n",
        "| 1 | Tom Hanks |\n",
        "| 2 | Morgan Freeman |\n",
        "\n",
        "'Movie' Table:\n",
        "\n",
        "| id | name |\n",
        "| --- | --- |\n",
        "| 100 | Forrest Gump |\n",
        "| 101 | The Godfather |\n",
        "\n",
        "If we were to apply a CROSS JOIN to these two tables:\n",
        "\n",
        "```\n",
        "SELECT Actor.name, Movie.name\n",
        "FROM Actor\n",
        "CROSS JOIN Movie;\n",
        "```\n",
        "\n",
        "The result would be:\n",
        "\n",
        "| Actor Name | Movie Name |\n",
        "| --- | --- |\n",
        "| Tom Hanks | Forrest Gump |\n",
        "| Tom Hanks | The Godfather |\n",
        "| Morgan Freeman | Forrest Gump |\n",
        "| Morgan Freeman | The Godfather |\n",
        "\n",
        "As you can see, every actor is paired with every movie, regardless of whether they actually have any connection. This result might seem nonsensical in real-world applications, and that's why the CROSS JOIN is not used as often as the other types of joins in practical data analysis tasks.\n",
        "\n",
        "However, understanding the CROSS JOIN is valuable, because it serves as a baseline for understanding the more commonly used types of joins. For INNER JOIN, LEFT JOIN, and others, you can think of starting with the CROSS JOIN's complete set of combinations and then eliminating the rows that don't meet the specific conditions of the join. The CROSS JOIN provides the complete 'universe' of potential combinations from which these other, more selective joins draw their results."
      ],
      "metadata": {
        "id": "xj6JHAP-bfet"
      }
    },
    {
      "cell_type": "markdown",
      "source": [
        "## Set Opeations in SQL\n",
        "SQL also allows us to do basic **set** operations, of the sort you might have learned about in high-school or college math classes. In SQL, the main set operations we talk about are UNION, INTERSECT, and EXCEPT. All these operations can be applied to the result sets returned by SELECT statements.\n",
        "\n",
        "To help see how these work, let's suppose we have the following tables:\n",
        "\n",
        "#### Old_Movies:\n",
        "\n",
        "| id | title |\n",
        "| --- | --- |\n",
        "| 1 | Avatar |\n",
        "| 2 | Titanic |\n",
        "| 3 | The Godfather |\n",
        "| 4 | Star Wars |\n",
        "| 5 | Jaws |\n",
        "\n",
        "#### New_Movies:\n",
        "\n",
        "| id | title |\n",
        "| --- | --- |\n",
        "| 1 | Avatar |\n",
        "| 2 | Endgame |\n",
        "| 3 | Inception |\n",
        "| 4 | Interstellar |\n",
        "| 5 | Titanic |\n",
        "\n",
        "### UNION\n",
        "\n",
        "The `UNION` operator is used to combine the result sets of 2 or more SELECT statements. However, it removes duplicate rows from the result set. Also, the SELECT statements within the UNION must have the same number of columns and the corresponding columns must have compatible data types. For example:\n",
        "\n",
        "\n",
        "```\n",
        "SELECT title FROM Old_Movies\n",
        "UNION\n",
        "SELECT title FROM New_Movies;\n",
        "```\n",
        "\n",
        "This gives us:\n",
        "\n",
        "| title |\n",
        "| --- |\n",
        "| Avatar |\n",
        "| Titanic |\n",
        "| The Godfather |\n",
        "| Star Wars |\n",
        "| Jaws |\n",
        "| Endgame |\n",
        "| Inception |\n",
        "| Interstellar |\n",
        "\n",
        "\n",
        "### INTERSECT\n",
        "\n",
        "The INTERSECT operator returns the intersection of 2 or more SELECT statements, i.e., it returns only the rows that are common to all the SELECT statements. For example:\n",
        "\n",
        "```\n",
        "SELECT title FROM Old_Movies\n",
        "INTERSECT\n",
        "SELECT title FROM New_Movies;\n",
        "```\n",
        "\n",
        "This gives us:\n",
        "\n",
        "| title |\n",
        "| --- |\n",
        "| Avatar |\n",
        "| Titanic |\n",
        "\n",
        "### EXCEPT\n",
        "\n",
        "The EXCEPT operator returns the difference between the first SELECT statement and the second SELECT statement. It returns rows from the first SELECT statement that are not returned by the second SELECT statement. For example:\n",
        "\n",
        "\n",
        "```\n",
        "SELECT title FROM Old_Movies\n",
        "EXCEPT\n",
        "SELECT title FROM New_Movies;\n",
        "```\n",
        "\n",
        "This gives us:\n",
        "\n",
        "| title |\n",
        "| --- |\n",
        "| The Godfather |\n",
        "| Star Wars |\n",
        "| Jaws |\n",
        "\n",
        "These set operations help you manipulate and analyze your data in a variety of ways, providing you with the flexibility to obtain the insights you need. Just like SQL join operations, they're another powerful tool in your SQL toolkit for data analysis and manipulation."
      ],
      "metadata": {
        "id": "MCVPjMdFwhWp"
      }
    },
    {
      "cell_type": "markdown",
      "source": [
        "## Sample Queries\n",
        "Let's try out what we've learned using joins to explore our movies database. Along the way, we'll also learn a few new tricks and techniques in SQL\n",
        "\n",
        "\n",
        "### Example 1: Actors from Batman Begins"
      ],
      "metadata": {
        "id": "0UT_HJHea46l"
      }
    },
    {
      "cell_type": "code",
      "source": [
        "%%sql\n",
        "-- Get a list of actors in \"Batman Returns\"\n",
        "SELECT * FROM Person\n",
        "JOIN Actor ON Person.id = Actor.actor_id\n",
        "JOIN Movie on Movie.id = Actor.movie_id\n",
        "WHERE Movie.name = \"Batman Returns\";"
      ],
      "metadata": {
        "colab": {
          "base_uri": "https://localhost:8080/",
          "height": 179
        },
        "id": "KKBnEW3OFnj_",
        "outputId": "0021c7e7-9db0-4968-abdd-8135347e205c"
      },
      "execution_count": null,
      "outputs": [
        {
          "output_type": "stream",
          "name": "stdout",
          "text": [
            " * sqlite:///movie.sqlite\n",
            "Done.\n"
          ]
        },
        {
          "output_type": "execute_result",
          "data": {
            "text/plain": [
              "[('0000474', 'Michael Keaton', '1951-09-05', 'Coraopolis, Pennsylvania, USA', '0000474', '0103776', '0103776', 'Batman Returns', 1992, 'PG-13', 126, 'AYRT', None),\n",
              " ('0000362', 'Danny DeVito', '1944-11-17', 'Neptune, New Jersey, USA', '0000362', '0103776', '0103776', 'Batman Returns', 1992, 'PG-13', 126, 'AYRT', None),\n",
              " ('0000201', 'Michelle Pfeiffer', '1958-04-29', 'Santa Ana, California, USA', '0000201', '0103776', '0103776', 'Batman Returns', 1992, 'PG-13', 126, 'AYRT', None),\n",
              " ('0000686', 'Christopher Walken', '1943-03-31', 'Queens, New York, USA', '0000686', '0103776', '0103776', 'Batman Returns', 1992, 'PG-13', 126, 'AYRT', None),\n",
              " ('0001284', 'Michael Gough', '1917-11-23', 'Malaya. [now Malaysia]', '0001284', '0103776', '0103776', 'Batman Returns', 1992, 'PG-13', 126, 'AYRT', None)]"
            ],
            "text/html": [
              "<table>\n",
              "    <tr>\n",
              "        <th>id</th>\n",
              "        <th>name</th>\n",
              "        <th>dob</th>\n",
              "        <th>pob</th>\n",
              "        <th>actor_id</th>\n",
              "        <th>movie_id</th>\n",
              "        <th>id_1</th>\n",
              "        <th>name_1</th>\n",
              "        <th>year</th>\n",
              "        <th>rating</th>\n",
              "        <th>runtime</th>\n",
              "        <th>genre</th>\n",
              "        <th>earnings_rank</th>\n",
              "    </tr>\n",
              "    <tr>\n",
              "        <td>0000474</td>\n",
              "        <td>Michael Keaton</td>\n",
              "        <td>1951-09-05</td>\n",
              "        <td>Coraopolis, Pennsylvania, USA</td>\n",
              "        <td>0000474</td>\n",
              "        <td>0103776</td>\n",
              "        <td>0103776</td>\n",
              "        <td>Batman Returns</td>\n",
              "        <td>1992</td>\n",
              "        <td>PG-13</td>\n",
              "        <td>126</td>\n",
              "        <td>AYRT</td>\n",
              "        <td>None</td>\n",
              "    </tr>\n",
              "    <tr>\n",
              "        <td>0000362</td>\n",
              "        <td>Danny DeVito</td>\n",
              "        <td>1944-11-17</td>\n",
              "        <td>Neptune, New Jersey, USA</td>\n",
              "        <td>0000362</td>\n",
              "        <td>0103776</td>\n",
              "        <td>0103776</td>\n",
              "        <td>Batman Returns</td>\n",
              "        <td>1992</td>\n",
              "        <td>PG-13</td>\n",
              "        <td>126</td>\n",
              "        <td>AYRT</td>\n",
              "        <td>None</td>\n",
              "    </tr>\n",
              "    <tr>\n",
              "        <td>0000201</td>\n",
              "        <td>Michelle Pfeiffer</td>\n",
              "        <td>1958-04-29</td>\n",
              "        <td>Santa Ana, California, USA</td>\n",
              "        <td>0000201</td>\n",
              "        <td>0103776</td>\n",
              "        <td>0103776</td>\n",
              "        <td>Batman Returns</td>\n",
              "        <td>1992</td>\n",
              "        <td>PG-13</td>\n",
              "        <td>126</td>\n",
              "        <td>AYRT</td>\n",
              "        <td>None</td>\n",
              "    </tr>\n",
              "    <tr>\n",
              "        <td>0000686</td>\n",
              "        <td>Christopher Walken</td>\n",
              "        <td>1943-03-31</td>\n",
              "        <td>Queens, New York, USA</td>\n",
              "        <td>0000686</td>\n",
              "        <td>0103776</td>\n",
              "        <td>0103776</td>\n",
              "        <td>Batman Returns</td>\n",
              "        <td>1992</td>\n",
              "        <td>PG-13</td>\n",
              "        <td>126</td>\n",
              "        <td>AYRT</td>\n",
              "        <td>None</td>\n",
              "    </tr>\n",
              "    <tr>\n",
              "        <td>0001284</td>\n",
              "        <td>Michael Gough</td>\n",
              "        <td>1917-11-23</td>\n",
              "        <td>Malaya. [now Malaysia]</td>\n",
              "        <td>0001284</td>\n",
              "        <td>0103776</td>\n",
              "        <td>0103776</td>\n",
              "        <td>Batman Returns</td>\n",
              "        <td>1992</td>\n",
              "        <td>PG-13</td>\n",
              "        <td>126</td>\n",
              "        <td>AYRT</td>\n",
              "        <td>None</td>\n",
              "    </tr>\n",
              "</table>"
            ]
          },
          "metadata": {},
          "execution_count": 10
        }
      ]
    },
    {
      "cell_type": "markdown",
      "source": [
        "Here, we \"join\" Actor, Person, and Movie to get a list of actors in \"Batman Returns\" by doing the following:\n",
        "\n",
        "-   `SELECT *` - Select all columns from the `Person` table.\n",
        "-   `FROM Person` - Specify that the data should be retrieved from the `Person` table.\n",
        "-   `JOIN Actor ON Person.id = Actor.actor_id` - Join the `Person` table to the `Actor` table on the `Person.id` and `Actor.actor_id` columns.\n",
        "-   `JOIN Movie on Movie.id = Actor.movie_id` - Join the `Actor` table to the `Movie` table on the `Actor.movie_id` column.\n",
        "-   `WHERE Movie.name = \"Batman Returns\"` - Filter the results to only include records where the `Movie.name` column is equal to \"Batman Returns\".\n",
        "\n",
        "This shows everything (all columns) returned by the join. We could also make the query a bit nicer looking by something like:"
      ],
      "metadata": {
        "id": "mrRF5p9-ebv3"
      }
    },
    {
      "cell_type": "code",
      "source": [
        "%%sql\n",
        "SELECT Person.name AS \"Batman Returns Actor\",\n",
        "  dob AS \"Date of birth\"\n",
        "FROM Person\n",
        "  JOIN Actor ON Person.id = Actor.actor_id\n",
        "  JOIN Movie on Movie.id = Actor.movie_id\n",
        "WHERE Movie.name = \"Batman Returns\"\n",
        "ORDER BY dob;"
      ],
      "metadata": {
        "colab": {
          "base_uri": "https://localhost:8080/",
          "height": 179
        },
        "id": "GrfcnWJZdnRt",
        "outputId": "032d423e-b407-4dea-b5a8-f3a28e8baf55"
      },
      "execution_count": null,
      "outputs": [
        {
          "output_type": "stream",
          "name": "stdout",
          "text": [
            " * sqlite:///movie.sqlite\n",
            "Done.\n"
          ]
        },
        {
          "output_type": "execute_result",
          "data": {
            "text/plain": [
              "[('Michael Gough', '1917-11-23'),\n",
              " ('Christopher Walken', '1943-03-31'),\n",
              " ('Danny DeVito', '1944-11-17'),\n",
              " ('Michael Keaton', '1951-09-05'),\n",
              " ('Michelle Pfeiffer', '1958-04-29')]"
            ],
            "text/html": [
              "<table>\n",
              "    <tr>\n",
              "        <th>Batman Returns Actor</th>\n",
              "        <th>Date of birth</th>\n",
              "    </tr>\n",
              "    <tr>\n",
              "        <td>Michael Gough</td>\n",
              "        <td>1917-11-23</td>\n",
              "    </tr>\n",
              "    <tr>\n",
              "        <td>Christopher Walken</td>\n",
              "        <td>1943-03-31</td>\n",
              "    </tr>\n",
              "    <tr>\n",
              "        <td>Danny DeVito</td>\n",
              "        <td>1944-11-17</td>\n",
              "    </tr>\n",
              "    <tr>\n",
              "        <td>Michael Keaton</td>\n",
              "        <td>1951-09-05</td>\n",
              "    </tr>\n",
              "    <tr>\n",
              "        <td>Michelle Pfeiffer</td>\n",
              "        <td>1958-04-29</td>\n",
              "    </tr>\n",
              "</table>"
            ]
          },
          "metadata": {},
          "execution_count": 12
        }
      ]
    },
    {
      "cell_type": "markdown",
      "source": [
        "### Example 2: Recent Star Wars and Star Trek Films"
      ],
      "metadata": {
        "id": "mMNcRFWKfrwn"
      }
    },
    {
      "cell_type": "code",
      "source": [
        "%%sql\n",
        "SELECT *\n",
        "FROM Movie\n",
        "WHERE (name LIKE \"Star Wars%\"\n",
        "  OR name LIKE \"Star Trek%\")\n",
        "AND year > 2010\n",
        "ORDER BY year"
      ],
      "metadata": {
        "colab": {
          "base_uri": "https://localhost:8080/",
          "height": 158
        },
        "id": "VSq2Om46b0zh",
        "outputId": "1dc5ebf4-e4c2-490a-81a1-89b707da9b1a"
      },
      "execution_count": null,
      "outputs": [
        {
          "output_type": "stream",
          "name": "stdout",
          "text": [
            " * sqlite:///movie.sqlite\n",
            "Done.\n"
          ]
        },
        {
          "output_type": "execute_result",
          "data": {
            "text/plain": [
              "[('1408101', 'Star Trek Into Darkness', 2013, 'PG-13', 132, 'A', 164),\n",
              " ('2488496', 'Star Wars: The Force Awakens', 2015, 'PG-13', 138, 'A', 1),\n",
              " ('2527336', 'Star Wars: Episode VIII - The Last Jedi', 2017, 'PG-13', 152, 'AVYS', 11),\n",
              " ('2527338', 'Star Wars: The Rise Of Skywalker', 2019, 'PG-13', 141, 'AVYS', 16)]"
            ],
            "text/html": [
              "<table>\n",
              "    <tr>\n",
              "        <th>id</th>\n",
              "        <th>name</th>\n",
              "        <th>year</th>\n",
              "        <th>rating</th>\n",
              "        <th>runtime</th>\n",
              "        <th>genre</th>\n",
              "        <th>earnings_rank</th>\n",
              "    </tr>\n",
              "    <tr>\n",
              "        <td>1408101</td>\n",
              "        <td>Star Trek Into Darkness</td>\n",
              "        <td>2013</td>\n",
              "        <td>PG-13</td>\n",
              "        <td>132</td>\n",
              "        <td>A</td>\n",
              "        <td>164</td>\n",
              "    </tr>\n",
              "    <tr>\n",
              "        <td>2488496</td>\n",
              "        <td>Star Wars: The Force Awakens</td>\n",
              "        <td>2015</td>\n",
              "        <td>PG-13</td>\n",
              "        <td>138</td>\n",
              "        <td>A</td>\n",
              "        <td>1</td>\n",
              "    </tr>\n",
              "    <tr>\n",
              "        <td>2527336</td>\n",
              "        <td>Star Wars: Episode VIII - The Last Jedi</td>\n",
              "        <td>2017</td>\n",
              "        <td>PG-13</td>\n",
              "        <td>152</td>\n",
              "        <td>AVYS</td>\n",
              "        <td>11</td>\n",
              "    </tr>\n",
              "    <tr>\n",
              "        <td>2527338</td>\n",
              "        <td>Star Wars: The Rise Of Skywalker</td>\n",
              "        <td>2019</td>\n",
              "        <td>PG-13</td>\n",
              "        <td>141</td>\n",
              "        <td>AVYS</td>\n",
              "        <td>16</td>\n",
              "    </tr>\n",
              "</table>"
            ]
          },
          "metadata": {},
          "execution_count": 21
        }
      ]
    },
    {
      "cell_type": "markdown",
      "source": [
        "Here, get a list of recent Star Wars and Star Trek films by doing the following:\n",
        "-   `SELECT *` - Select all columns from the `Movie` table.\n",
        "-   `FROM Movie` - Specify that the data should be retrieved from the `Movie` table.\n",
        "-   `WHERE (name LIKE \"Star Wars%\" OR name LIKE \"Star Trek%\")` - Filter the results to only include records where the `name` column contains the string \"Star Wars\" or \"Star Trek\".\n",
        "-   `AND year > 2010` - Filter the results to only include records where the `year` column is greater than 2010.\n",
        "-   `ORDER BY year` - Sort the results by the `year` column in ascending order.\n",
        "\n",
        "Note the the parentheses here matter! Here's what happen if I remove them:"
      ],
      "metadata": {
        "id": "KodEWqT4hmf3"
      }
    },
    {
      "cell_type": "code",
      "source": [
        "%%sql\n",
        "SELECT *\n",
        "FROM Movie\n",
        "WHERE name LIKE \"Star Wars%\"\n",
        "  OR name LIKE \"Star Trek%\"\n",
        "AND year > 2010\n",
        "ORDER BY year"
      ],
      "metadata": {
        "colab": {
          "base_uri": "https://localhost:8080/",
          "height": 284
        },
        "id": "Q7dnHS7hhOYp",
        "outputId": "4fe479cc-9095-4897-d65a-5bbc7c0fcb3f"
      },
      "execution_count": null,
      "outputs": [
        {
          "output_type": "stream",
          "name": "stdout",
          "text": [
            " * sqlite:///movie.sqlite\n",
            "Done.\n"
          ]
        },
        {
          "output_type": "execute_result",
          "data": {
            "text/plain": [
              "[('0076759', 'Star Wars: Episode IV - A New Hope', 1977, 'PG', 121, 'AVYS', 21),\n",
              " ('0080684', 'Star Wars: Episode V - The Empire Strikes Back', 1980, 'PG', 124, 'AVYS', 101),\n",
              " ('0086190', 'Star Wars: Episode VI - Return of the Jedi', 1983, 'PG', 134, 'AVYS', 90),\n",
              " ('0120915', 'Star Wars: Episode I - The Phantom Menace', 1999, 'PG', 133, 'AVS', 20),\n",
              " ('0121765', 'Star Wars: Episode II - Attack of the Clones', 2002, 'PG', 143, 'AVS', 88),\n",
              " ('0121766', 'Star Wars: Episode III - Revenge of the Sith', 2005, 'PG-13', 140, 'AVYS', 47),\n",
              " ('1408101', 'Star Trek Into Darkness', 2013, 'PG-13', 132, 'A', 164),\n",
              " ('2488496', 'Star Wars: The Force Awakens', 2015, 'PG-13', 138, 'A', 1),\n",
              " ('2527336', 'Star Wars: Episode VIII - The Last Jedi', 2017, 'PG-13', 152, 'AVYS', 11),\n",
              " ('2527338', 'Star Wars: The Rise Of Skywalker', 2019, 'PG-13', 141, 'AVYS', 16)]"
            ],
            "text/html": [
              "<table>\n",
              "    <tr>\n",
              "        <th>id</th>\n",
              "        <th>name</th>\n",
              "        <th>year</th>\n",
              "        <th>rating</th>\n",
              "        <th>runtime</th>\n",
              "        <th>genre</th>\n",
              "        <th>earnings_rank</th>\n",
              "    </tr>\n",
              "    <tr>\n",
              "        <td>0076759</td>\n",
              "        <td>Star Wars: Episode IV - A New Hope</td>\n",
              "        <td>1977</td>\n",
              "        <td>PG</td>\n",
              "        <td>121</td>\n",
              "        <td>AVYS</td>\n",
              "        <td>21</td>\n",
              "    </tr>\n",
              "    <tr>\n",
              "        <td>0080684</td>\n",
              "        <td>Star Wars: Episode V - The Empire Strikes Back</td>\n",
              "        <td>1980</td>\n",
              "        <td>PG</td>\n",
              "        <td>124</td>\n",
              "        <td>AVYS</td>\n",
              "        <td>101</td>\n",
              "    </tr>\n",
              "    <tr>\n",
              "        <td>0086190</td>\n",
              "        <td>Star Wars: Episode VI - Return of the Jedi</td>\n",
              "        <td>1983</td>\n",
              "        <td>PG</td>\n",
              "        <td>134</td>\n",
              "        <td>AVYS</td>\n",
              "        <td>90</td>\n",
              "    </tr>\n",
              "    <tr>\n",
              "        <td>0120915</td>\n",
              "        <td>Star Wars: Episode I - The Phantom Menace</td>\n",
              "        <td>1999</td>\n",
              "        <td>PG</td>\n",
              "        <td>133</td>\n",
              "        <td>AVS</td>\n",
              "        <td>20</td>\n",
              "    </tr>\n",
              "    <tr>\n",
              "        <td>0121765</td>\n",
              "        <td>Star Wars: Episode II - Attack of the Clones</td>\n",
              "        <td>2002</td>\n",
              "        <td>PG</td>\n",
              "        <td>143</td>\n",
              "        <td>AVS</td>\n",
              "        <td>88</td>\n",
              "    </tr>\n",
              "    <tr>\n",
              "        <td>0121766</td>\n",
              "        <td>Star Wars: Episode III - Revenge of the Sith</td>\n",
              "        <td>2005</td>\n",
              "        <td>PG-13</td>\n",
              "        <td>140</td>\n",
              "        <td>AVYS</td>\n",
              "        <td>47</td>\n",
              "    </tr>\n",
              "    <tr>\n",
              "        <td>1408101</td>\n",
              "        <td>Star Trek Into Darkness</td>\n",
              "        <td>2013</td>\n",
              "        <td>PG-13</td>\n",
              "        <td>132</td>\n",
              "        <td>A</td>\n",
              "        <td>164</td>\n",
              "    </tr>\n",
              "    <tr>\n",
              "        <td>2488496</td>\n",
              "        <td>Star Wars: The Force Awakens</td>\n",
              "        <td>2015</td>\n",
              "        <td>PG-13</td>\n",
              "        <td>138</td>\n",
              "        <td>A</td>\n",
              "        <td>1</td>\n",
              "    </tr>\n",
              "    <tr>\n",
              "        <td>2527336</td>\n",
              "        <td>Star Wars: Episode VIII - The Last Jedi</td>\n",
              "        <td>2017</td>\n",
              "        <td>PG-13</td>\n",
              "        <td>152</td>\n",
              "        <td>AVYS</td>\n",
              "        <td>11</td>\n",
              "    </tr>\n",
              "    <tr>\n",
              "        <td>2527338</td>\n",
              "        <td>Star Wars: The Rise Of Skywalker</td>\n",
              "        <td>2019</td>\n",
              "        <td>PG-13</td>\n",
              "        <td>141</td>\n",
              "        <td>AVYS</td>\n",
              "        <td>16</td>\n",
              "    </tr>\n",
              "</table>"
            ]
          },
          "metadata": {},
          "execution_count": 22
        }
      ]
    },
    {
      "cell_type": "markdown",
      "source": [
        "Here, the \"order of operations\" is different, so I end up with different results.  (Basically, I get a list of movies that are either Star Wars films from *any* year, plus Star Trek films after 2010)."
      ],
      "metadata": {
        "id": "JIxZA4EQh8Rr"
      }
    },
    {
      "cell_type": "markdown",
      "source": [
        "## Example 3: Actors Who Have Appeared in More than 10 Movies\n",
        "Now, let's get a list of actors who have appeared in more than 10 movies, along with count of these movies:"
      ],
      "metadata": {
        "id": "l7HvliFjkgh5"
      }
    },
    {
      "cell_type": "code",
      "source": [
        "%%sql\n",
        "SELECT P.name, COUNT(*) AS \"Num_Movies\"\n",
        "FROM Person P JOIN\n",
        "Actor A ON A.actor_id = P.id\n",
        "JOIN Movie M on M.id = A.movie_id\n",
        "GROUP BY P.name\n",
        "HAVING COUNT(*) > 10"
      ],
      "metadata": {
        "id": "XLw1o_7ciS2y",
        "colab": {
          "base_uri": "https://localhost:8080/",
          "height": 179
        },
        "outputId": "a7e33167-c304-4ce4-f33d-32b5bc8426f3"
      },
      "execution_count": null,
      "outputs": [
        {
          "output_type": "stream",
          "name": "stdout",
          "text": [
            " * sqlite:///movie.sqlite\n",
            "Done.\n"
          ]
        },
        {
          "output_type": "execute_result",
          "data": {
            "text/plain": [
              "[('Harrison Ford', 11),\n",
              " ('Robert Downey Jr.', 11),\n",
              " ('Tom Cruise', 16),\n",
              " ('Tom Hanks', 12),\n",
              " ('Will Smith', 13)]"
            ],
            "text/html": [
              "<table>\n",
              "    <tr>\n",
              "        <th>name</th>\n",
              "        <th>Num_Movies</th>\n",
              "    </tr>\n",
              "    <tr>\n",
              "        <td>Harrison Ford</td>\n",
              "        <td>11</td>\n",
              "    </tr>\n",
              "    <tr>\n",
              "        <td>Robert Downey Jr.</td>\n",
              "        <td>11</td>\n",
              "    </tr>\n",
              "    <tr>\n",
              "        <td>Tom Cruise</td>\n",
              "        <td>16</td>\n",
              "    </tr>\n",
              "    <tr>\n",
              "        <td>Tom Hanks</td>\n",
              "        <td>12</td>\n",
              "    </tr>\n",
              "    <tr>\n",
              "        <td>Will Smith</td>\n",
              "        <td>13</td>\n",
              "    </tr>\n",
              "</table>"
            ]
          },
          "metadata": {},
          "execution_count": 4
        }
      ]
    },
    {
      "cell_type": "markdown",
      "source": [
        "The above query uses several important SQL techniques, including:\n",
        "\n",
        "-   JOINs to combine data from multiple tables. In this case, the query uses two JOINs to connect the `Person`, `Actor`, and `Movie` tables.\n",
        "-   GROUP BY to group the results by a particular column. In this case, the query groups the results by the `Person` name.\n",
        "-   HAVING to filter the results based on a condition. In this case, the query filters the results toinclude ONLY people who have appeared in more than 10 movies."
      ],
      "metadata": {
        "id": "mG9O4Z3BmiBN"
      }
    },
    {
      "cell_type": "markdown",
      "source": [
        "## Example 4: Information About Movies that Have Won 4 or more Oscars\n",
        "Now, let's get information about movies that have won four or more Oscars (Note: Our database only tracks a limited number of Oscars, such as BEST-PICTURE, BEST-ACTOR, BEST-ACTRESS, BEST-SUPPORTING-ACTRESS, and BEST-SUPPORTING-ACTOR:"
      ],
      "metadata": {
        "id": "y17rPAaOnMh7"
      }
    },
    {
      "cell_type": "code",
      "source": [
        "%%sql\n",
        "SELECT M.name, M.year, M.rating, COUNT(M.id)\n",
        "FROM Movie M JOIN\n",
        "Oscar O ON O.movie_id = M.id\n",
        "GROUP BY M.id\n",
        "HAVING COUNT(M.id) > 3\n",
        "ORDER BY M.year"
      ],
      "metadata": {
        "colab": {
          "base_uri": "https://localhost:8080/",
          "height": 389
        },
        "id": "qQom4BtimkBF",
        "outputId": "e6e2f94b-cd39-46dc-dd71-2f025281478f"
      },
      "execution_count": null,
      "outputs": [
        {
          "output_type": "stream",
          "name": "stdout",
          "text": [
            " * sqlite:///movie.sqlite\n",
            "Done.\n"
          ]
        },
        {
          "output_type": "execute_result",
          "data": {
            "text/plain": [
              "[('It Happened One Night', 1934, None, 4),\n",
              " ('Gone with the Wind', 1939, 'G', 4),\n",
              " ('Mrs. Miniver', 1942, None, 4),\n",
              " ('Going My Way', 1944, None, 4),\n",
              " ('Best Years of Our Lives, The', 1946, None, 4),\n",
              " ('From Here to Eternity', 1953, None, 4),\n",
              " ('On the Waterfront', 1954, None, 4),\n",
              " ('Ben-Hur', 1959, 'G', 4),\n",
              " ('West Side Story', 1961, None, 5),\n",
              " (\"One Flew Over the Cuckoo's Nest\", 1975, 'R', 4),\n",
              " ('Kramer vs. Kramer', 1979, 'PG', 4),\n",
              " ('Terms of Endearment', 1983, 'PG', 4),\n",
              " ('Silence of the Lambs, The', 1991, 'R', 4),\n",
              " ('Million Dollar Baby', 2004, 'PG-13', 4),\n",
              " ('No Country for Old Men', 2007, 'R', 4)]"
            ],
            "text/html": [
              "<table>\n",
              "    <tr>\n",
              "        <th>name</th>\n",
              "        <th>year</th>\n",
              "        <th>rating</th>\n",
              "        <th>COUNT(M.id)</th>\n",
              "    </tr>\n",
              "    <tr>\n",
              "        <td>It Happened One Night</td>\n",
              "        <td>1934</td>\n",
              "        <td>None</td>\n",
              "        <td>4</td>\n",
              "    </tr>\n",
              "    <tr>\n",
              "        <td>Gone with the Wind</td>\n",
              "        <td>1939</td>\n",
              "        <td>G</td>\n",
              "        <td>4</td>\n",
              "    </tr>\n",
              "    <tr>\n",
              "        <td>Mrs. Miniver</td>\n",
              "        <td>1942</td>\n",
              "        <td>None</td>\n",
              "        <td>4</td>\n",
              "    </tr>\n",
              "    <tr>\n",
              "        <td>Going My Way</td>\n",
              "        <td>1944</td>\n",
              "        <td>None</td>\n",
              "        <td>4</td>\n",
              "    </tr>\n",
              "    <tr>\n",
              "        <td>Best Years of Our Lives, The</td>\n",
              "        <td>1946</td>\n",
              "        <td>None</td>\n",
              "        <td>4</td>\n",
              "    </tr>\n",
              "    <tr>\n",
              "        <td>From Here to Eternity</td>\n",
              "        <td>1953</td>\n",
              "        <td>None</td>\n",
              "        <td>4</td>\n",
              "    </tr>\n",
              "    <tr>\n",
              "        <td>On the Waterfront</td>\n",
              "        <td>1954</td>\n",
              "        <td>None</td>\n",
              "        <td>4</td>\n",
              "    </tr>\n",
              "    <tr>\n",
              "        <td>Ben-Hur</td>\n",
              "        <td>1959</td>\n",
              "        <td>G</td>\n",
              "        <td>4</td>\n",
              "    </tr>\n",
              "    <tr>\n",
              "        <td>West Side Story</td>\n",
              "        <td>1961</td>\n",
              "        <td>None</td>\n",
              "        <td>5</td>\n",
              "    </tr>\n",
              "    <tr>\n",
              "        <td>One Flew Over the Cuckoo&#x27;s Nest</td>\n",
              "        <td>1975</td>\n",
              "        <td>R</td>\n",
              "        <td>4</td>\n",
              "    </tr>\n",
              "    <tr>\n",
              "        <td>Kramer vs. Kramer</td>\n",
              "        <td>1979</td>\n",
              "        <td>PG</td>\n",
              "        <td>4</td>\n",
              "    </tr>\n",
              "    <tr>\n",
              "        <td>Terms of Endearment</td>\n",
              "        <td>1983</td>\n",
              "        <td>PG</td>\n",
              "        <td>4</td>\n",
              "    </tr>\n",
              "    <tr>\n",
              "        <td>Silence of the Lambs, The</td>\n",
              "        <td>1991</td>\n",
              "        <td>R</td>\n",
              "        <td>4</td>\n",
              "    </tr>\n",
              "    <tr>\n",
              "        <td>Million Dollar Baby</td>\n",
              "        <td>2004</td>\n",
              "        <td>PG-13</td>\n",
              "        <td>4</td>\n",
              "    </tr>\n",
              "    <tr>\n",
              "        <td>No Country for Old Men</td>\n",
              "        <td>2007</td>\n",
              "        <td>R</td>\n",
              "        <td>4</td>\n",
              "    </tr>\n",
              "</table>"
            ]
          },
          "metadata": {},
          "execution_count": 12
        }
      ]
    },
    {
      "cell_type": "markdown",
      "source": [
        "Important ideas:\n",
        "-   The query uses a `JOIN` to combine the `Movie` and `Oscar` tables.\n",
        "-   It then GROUPS the results by the `Movie` id.\n",
        "-   The query filters the results using `HAVING` to only include movies that have been nominated for more than 3 Oscars.\n",
        "- Finally, it sorts the results by the `Movie` year."
      ],
      "metadata": {
        "id": "Cc14GKzaqQlK"
      }
    },
    {
      "cell_type": "markdown",
      "source": [
        "## Example 5: Simple Subqueries\n",
        "Now, let's review what we learned earlier about subqueries with a few different examples:"
      ],
      "metadata": {
        "id": "vfegOZfDq9ha"
      }
    },
    {
      "cell_type": "code",
      "source": [
        "# Let's find the movie (or movies) with the longest run time\n",
        "%%sql\n",
        "SELECT name, runtime FROM Movie\n",
        "  WHERE runtime IN\n",
        "    (SELECT MAX(runtime) FROM Movie)"
      ],
      "metadata": {
        "colab": {
          "base_uri": "https://localhost:8080/",
          "height": 95
        },
        "id": "bkkASbi-qqJs",
        "outputId": "504bf39f-acb4-4f3f-ed02-d5d6938fb072"
      },
      "execution_count": null,
      "outputs": [
        {
          "output_type": "stream",
          "name": "stdout",
          "text": [
            " * sqlite:///movie.sqlite\n",
            "Done.\n"
          ]
        },
        {
          "output_type": "execute_result",
          "data": {
            "text/plain": [
              "[('Justice League', 242)]"
            ],
            "text/html": [
              "<table>\n",
              "    <tr>\n",
              "        <th>name</th>\n",
              "        <th>runtime</th>\n",
              "    </tr>\n",
              "    <tr>\n",
              "        <td>Justice League</td>\n",
              "        <td>242</td>\n",
              "    </tr>\n",
              "</table>"
            ]
          },
          "metadata": {},
          "execution_count": 13
        }
      ]
    },
    {
      "cell_type": "code",
      "source": [
        "# Or, we could just find the list of movies\n",
        "# that have a run time of 150% or more of the average\n",
        "%%sql\n",
        "SELECT name, runtime FROM Movie\n",
        "  WHERE runtime > 1.5 *\n",
        "    (SELECT AVG(runtime) FROM Movie)"
      ],
      "metadata": {
        "colab": {
          "base_uri": "https://localhost:8080/",
          "height": 493
        },
        "id": "KK4GJ8MQrNBG",
        "outputId": "746464e9-694d-4c7f-9ecd-ab9efd8799a0"
      },
      "execution_count": null,
      "outputs": [
        {
          "output_type": "stream",
          "name": "stdout",
          "text": [
            " * sqlite:///movie.sqlite\n",
            "Done.\n"
          ]
        },
        {
          "output_type": "execute_result",
          "data": {
            "text/plain": [
              "[('Titanic', 194),\n",
              " ('Avengers: Age of Ultron', 195),\n",
              " ('Lord of the Rings: The Return of the King, The', 201),\n",
              " ('Batman v Superman: Dawn of Justice', 183),\n",
              " ('Justice League', 242),\n",
              " ('King Kong', 187),\n",
              " ('Gone with the Wind', 238),\n",
              " ('Pearl Harbor', 183),\n",
              " ('Green Mile, The', 188),\n",
              " (\"Schindler's List\", 197),\n",
              " ('Gandhi', 188),\n",
              " ('Reds', 194),\n",
              " ('Deer Hunter, The', 183),\n",
              " ('Godfather: Part II, The', 200),\n",
              " (\"Ryan's Daughter\", 187),\n",
              " ('Lawrence of Arabia', 216),\n",
              " ('Spartacus', 184),\n",
              " ('Ben-Hur', 212),\n",
              " ('Around the World in Eighty Days', 188),\n",
              " ('Giant', 201)]"
            ],
            "text/html": [
              "<table>\n",
              "    <tr>\n",
              "        <th>name</th>\n",
              "        <th>runtime</th>\n",
              "    </tr>\n",
              "    <tr>\n",
              "        <td>Titanic</td>\n",
              "        <td>194</td>\n",
              "    </tr>\n",
              "    <tr>\n",
              "        <td>Avengers: Age of Ultron</td>\n",
              "        <td>195</td>\n",
              "    </tr>\n",
              "    <tr>\n",
              "        <td>Lord of the Rings: The Return of the King, The</td>\n",
              "        <td>201</td>\n",
              "    </tr>\n",
              "    <tr>\n",
              "        <td>Batman v Superman: Dawn of Justice</td>\n",
              "        <td>183</td>\n",
              "    </tr>\n",
              "    <tr>\n",
              "        <td>Justice League</td>\n",
              "        <td>242</td>\n",
              "    </tr>\n",
              "    <tr>\n",
              "        <td>King Kong</td>\n",
              "        <td>187</td>\n",
              "    </tr>\n",
              "    <tr>\n",
              "        <td>Gone with the Wind</td>\n",
              "        <td>238</td>\n",
              "    </tr>\n",
              "    <tr>\n",
              "        <td>Pearl Harbor</td>\n",
              "        <td>183</td>\n",
              "    </tr>\n",
              "    <tr>\n",
              "        <td>Green Mile, The</td>\n",
              "        <td>188</td>\n",
              "    </tr>\n",
              "    <tr>\n",
              "        <td>Schindler&#x27;s List</td>\n",
              "        <td>197</td>\n",
              "    </tr>\n",
              "    <tr>\n",
              "        <td>Gandhi</td>\n",
              "        <td>188</td>\n",
              "    </tr>\n",
              "    <tr>\n",
              "        <td>Reds</td>\n",
              "        <td>194</td>\n",
              "    </tr>\n",
              "    <tr>\n",
              "        <td>Deer Hunter, The</td>\n",
              "        <td>183</td>\n",
              "    </tr>\n",
              "    <tr>\n",
              "        <td>Godfather: Part II, The</td>\n",
              "        <td>200</td>\n",
              "    </tr>\n",
              "    <tr>\n",
              "        <td>Ryan&#x27;s Daughter</td>\n",
              "        <td>187</td>\n",
              "    </tr>\n",
              "    <tr>\n",
              "        <td>Lawrence of Arabia</td>\n",
              "        <td>216</td>\n",
              "    </tr>\n",
              "    <tr>\n",
              "        <td>Spartacus</td>\n",
              "        <td>184</td>\n",
              "    </tr>\n",
              "    <tr>\n",
              "        <td>Ben-Hur</td>\n",
              "        <td>212</td>\n",
              "    </tr>\n",
              "    <tr>\n",
              "        <td>Around the World in Eighty Days</td>\n",
              "        <td>188</td>\n",
              "    </tr>\n",
              "    <tr>\n",
              "        <td>Giant</td>\n",
              "        <td>201</td>\n",
              "    </tr>\n",
              "</table>"
            ]
          },
          "metadata": {},
          "execution_count": 14
        }
      ]
    },
    {
      "cell_type": "markdown",
      "source": [
        "## Example 6: Tricky Subqueries.\n",
        "Now, let's consider a tricky subquery -- determining the numbers of movies that appeared in by actors who have appeared in any Stars Film.\n"
      ],
      "metadata": {
        "id": "MlJBSmLCsLef"
      }
    },
    {
      "cell_type": "code",
      "source": [
        "# A tricky one -- The number of movies appeared in\n",
        "# by actors who have been in any Star Wars Film\n",
        "%%sql\n",
        "SELECT P.name, COUNT(A.actor_id) as \"# of Movies\" FROM Actor A\n",
        "  JOIN Person P ON P.id = A.actor_id\n",
        "  GROUP BY A.actor_id, P.name\n",
        "  HAVING A.actor_id IN\n",
        "    (SELECT A1.actor_id FROM Movie M1\n",
        "      JOIN Actor A1 ON A1.movie_id=M1.id\n",
        "      WHERE M1.name LIKE '%Star Wars%')\n",
        "    AND COUNT(A.actor_id) > 5;"
      ],
      "metadata": {
        "colab": {
          "base_uri": "https://localhost:8080/",
          "height": 179
        },
        "id": "6rRyRdZUrg60",
        "outputId": "9f5c0d67-2e9f-41ab-e174-4f718ddf0da5"
      },
      "execution_count": null,
      "outputs": [
        {
          "output_type": "stream",
          "name": "stdout",
          "text": [
            " * sqlite:///movie.sqlite\n",
            "Done.\n"
          ]
        },
        {
          "output_type": "execute_result",
          "data": {
            "text/plain": [
              "[('Harrison Ford', 11),\n",
              " ('Samuel L. Jackson', 7),\n",
              " ('Natalie Portman', 7),\n",
              " ('Carrie Fisher', 7),\n",
              " ('Mark Hamill', 6)]"
            ],
            "text/html": [
              "<table>\n",
              "    <tr>\n",
              "        <th>name</th>\n",
              "        <th># of Movies</th>\n",
              "    </tr>\n",
              "    <tr>\n",
              "        <td>Harrison Ford</td>\n",
              "        <td>11</td>\n",
              "    </tr>\n",
              "    <tr>\n",
              "        <td>Samuel L. Jackson</td>\n",
              "        <td>7</td>\n",
              "    </tr>\n",
              "    <tr>\n",
              "        <td>Natalie Portman</td>\n",
              "        <td>7</td>\n",
              "    </tr>\n",
              "    <tr>\n",
              "        <td>Carrie Fisher</td>\n",
              "        <td>7</td>\n",
              "    </tr>\n",
              "    <tr>\n",
              "        <td>Mark Hamill</td>\n",
              "        <td>6</td>\n",
              "    </tr>\n",
              "</table>"
            ]
          },
          "metadata": {},
          "execution_count": 19
        }
      ]
    },
    {
      "cell_type": "markdown",
      "source": [
        "Let's break this down piece by piece:\n",
        "\n",
        "1.  `SELECT P.name, COUNT(A.actor_id) as \"# of Movies\" FROM Actor A JOIN Person P ON P.id = A.actor_id`: This section of the query is the main part, it is retrieving the name of the actor from the `Person` table and the number of movies each actor has participated in from the `Actor` table. The `COUNT(A.actor_id)` command is used to count the number of movies each actor has participated in.\n",
        "\n",
        "2.  `JOIN`: The `JOIN` statement is used to combine rows from two or more tables, based on a related column between them. In this case, the related column is the `id` field in the `Person` table and `actor_id` field in the `Actor` table. Essentially, this is how we link an actor's name with their roles.\n",
        "\n",
        "3.  `GROUP BY A.actor_id, P.name`: This clause is used to group the result-set by one or more columns. It's used in collaboration with aggregate functions like `COUNT`, `SUM`, `AVG`, etc., to group the result set by one or more columns. Here it groups the result by `actor_id` and `name`, meaning it will aggregate the count of movies for each unique actor and their corresponding name.\n",
        "\n",
        "4.  `HAVING A.actor_id IN (SELECT A1.actor_id FROM Movie M1 JOIN Actor A1 ON A1.movie_id=M1.id WHERE M1.name LIKE '%Star Wars%') AND COUNT(A.actor_id) > 5;`: This part of the query is a filter that applies to the grouped data. The `HAVING` clause works like a WHERE clause, but for aggregated data. The subquery `(SELECT A1.actor_id FROM Movie M1 JOIN Actor A1 ON A1.movie_id=M1.id WHERE M1.name LIKE '%Star Wars%')` returns a list of actor IDs who have played in a movie with 'Star Wars' in its title. The `IN` operator checks whether a value is within a set of values returned by a subquery. So, `HAVING A.actor_id IN ...` is used to include only the actors who were in a 'Star Wars' movie. The other part of the `HAVING` clause `AND COUNT(A.actor_id) > 5` is used to filter the actors who have played in more than 5 movies."
      ],
      "metadata": {
        "id": "cSObs7aVtGha"
      }
    },
    {
      "cell_type": "markdown",
      "source": [
        "## Example 7: A Subquery in the SELECT Clause\n",
        "Sometimes (rarely!), you'll want to include a subquery in the SELECT clause. This query will need toi re-run FOR EACH AND EVERY row of your results (which means this is $O(n^2) at worst--really slow for those of you haven't taken algorithms). These are the kinds of queries that can be fun to write (and for CS professors to assign on homeowork), but that can give DBMS administrators nightmares.\n",
        "\n",
        "However, to give you an example, we're going to run a query that answers the question\n",
        "\n",
        "*\"Can you give me a list of movies, the year they were released, their earnings rank, and the average earnings rank for all movies released in the same year?\"*\n",
        "\n",
        "You'll notice a few things about this query:\n",
        "\n",
        "1.  We're going to need to (in effect) JOIN the Movie table with itself, since we want to repeatedy do searches for \"Movies that came out in the same year as some other movie.\"\n",
        "2.  We're going to use a subquery to calculate a new average for every row (that is, every movie) in our database.\n",
        "3.  We're going to ROUND our result to 2 decimals.\n",
        "\n",
        "Again, this is (in general) a bad way to write queries, since we are repeatedly calculating values (the average earnings rank of a movie released in a certain year) that ideally should only be calculated once. This isn't a big deal for 1,000 rows, given the speed of modern computers. It could be a HUGE deal for 1,000,000 rows, though, no matter how fast your computer is.\n",
        "\n"
      ],
      "metadata": {
        "id": "ps39Z8t4t6CO"
      }
    },
    {
      "cell_type": "code",
      "source": [
        "%%sql\n",
        "SELECT name, earnings_rank, year,\n",
        "  (SELECT ROUND(AVG(earnings_rank), 2)\n",
        "    FROM Movie M2 WHERE M2.year = M.year)\n",
        "    AS \"Earning Rank Avg for Year\"\n",
        "  FROM Movie M\n",
        "  LIMIT 10;"
      ],
      "metadata": {
        "colab": {
          "base_uri": "https://localhost:8080/",
          "height": 284
        },
        "id": "ehJ9lVQiuGeT",
        "outputId": "38d47fd0-1599-4312-ffe0-cf6a8255677b"
      },
      "execution_count": null,
      "outputs": [
        {
          "output_type": "stream",
          "name": "stdout",
          "text": [
            " * sqlite:///movie.sqlite\n",
            "Done.\n"
          ]
        },
        {
          "output_type": "execute_result",
          "data": {
            "text/plain": [
              "[('Star Wars: The Force Awakens', 1, 2015, 61.67),\n",
              " ('Avengers: Endgame', 2, 2019, 35.4),\n",
              " ('Spider-Man: No Way Home', 3, 2021, 124.33),\n",
              " ('Avatar', 4, 2009, 98.78),\n",
              " ('Top Gun: Maverick', 5, 2022, 44.0),\n",
              " ('Black Panther', 6, 2018, 112.69),\n",
              " ('Avengers: Infinity War', 7, 2018, 112.69),\n",
              " ('Titanic', 8, 1997, 102.33),\n",
              " ('Jurassic World', 9, 2015, 61.67),\n",
              " ('The Avengers', 10, 2012, 109.45)]"
            ],
            "text/html": [
              "<table>\n",
              "    <tr>\n",
              "        <th>name</th>\n",
              "        <th>earnings_rank</th>\n",
              "        <th>year</th>\n",
              "        <th>Earning Rank Avg for Year</th>\n",
              "    </tr>\n",
              "    <tr>\n",
              "        <td>Star Wars: The Force Awakens</td>\n",
              "        <td>1</td>\n",
              "        <td>2015</td>\n",
              "        <td>61.67</td>\n",
              "    </tr>\n",
              "    <tr>\n",
              "        <td>Avengers: Endgame</td>\n",
              "        <td>2</td>\n",
              "        <td>2019</td>\n",
              "        <td>35.4</td>\n",
              "    </tr>\n",
              "    <tr>\n",
              "        <td>Spider-Man: No Way Home</td>\n",
              "        <td>3</td>\n",
              "        <td>2021</td>\n",
              "        <td>124.33</td>\n",
              "    </tr>\n",
              "    <tr>\n",
              "        <td>Avatar</td>\n",
              "        <td>4</td>\n",
              "        <td>2009</td>\n",
              "        <td>98.78</td>\n",
              "    </tr>\n",
              "    <tr>\n",
              "        <td>Top Gun: Maverick</td>\n",
              "        <td>5</td>\n",
              "        <td>2022</td>\n",
              "        <td>44.0</td>\n",
              "    </tr>\n",
              "    <tr>\n",
              "        <td>Black Panther</td>\n",
              "        <td>6</td>\n",
              "        <td>2018</td>\n",
              "        <td>112.69</td>\n",
              "    </tr>\n",
              "    <tr>\n",
              "        <td>Avengers: Infinity War</td>\n",
              "        <td>7</td>\n",
              "        <td>2018</td>\n",
              "        <td>112.69</td>\n",
              "    </tr>\n",
              "    <tr>\n",
              "        <td>Titanic</td>\n",
              "        <td>8</td>\n",
              "        <td>1997</td>\n",
              "        <td>102.33</td>\n",
              "    </tr>\n",
              "    <tr>\n",
              "        <td>Jurassic World</td>\n",
              "        <td>9</td>\n",
              "        <td>2015</td>\n",
              "        <td>61.67</td>\n",
              "    </tr>\n",
              "    <tr>\n",
              "        <td>The Avengers</td>\n",
              "        <td>10</td>\n",
              "        <td>2012</td>\n",
              "        <td>109.45</td>\n",
              "    </tr>\n",
              "</table>"
            ]
          },
          "metadata": {},
          "execution_count": 20
        }
      ]
    },
    {
      "cell_type": "markdown",
      "source": [
        "## Table: SQL Queries With Joins and Sets\n",
        "Here's a table illustrating some of the main concepts we've been coverining in this section:\n",
        "\n",
        "| Description in English | SQL Query |\n",
        "| --- | --- |\n",
        "| Retrieve all records from the 'Movie' table | `SELECT * FROM Movie;` |\n",
        "| Retrieve the names of all persons | `SELECT name FROM Person;` |\n",
        "| Find all actors' ids | `SELECT actor_id FROM Actor;` |\n",
        "| List all unique Oscar types | `SELECT DISTINCT type FROM Oscar;` |\n",
        "| Count the number of different movies | `SELECT COUNT(DISTINCT id) FROM Movie;` |\n",
        "| Retrieve all persons who have won an Oscar | `SELECT p.name FROM Person p INNER JOIN Oscar o ON p.id = o.person_id;` |\n",
        "| List movies and corresponding directors using a left join | `SELECT m.name, p.name FROM Movie m LEFT JOIN Director d ON m.id = d.movie_id LEFT JOIN Person p ON d.director_id = p.id;` |\n",
        "| Find persons who are both actors and directors | `SELECT p.name FROM Person p INNER JOIN Actor a ON p.id = a.actor_id INTERSECT SELECT p.name FROM Person p INNER JOIN Director d ON p.id = d.director_id;` |\n",
        "| List persons who are actors but not directors | `SELECT p.name FROM Person p INNER JOIN Actor a ON p.id = a.actor_id EXCEPT SELECT p.name FROM Person p INNER JOIN Director d ON p.id = d.director_id;` |\n",
        "| Retrieve all movies released after 2000 with their earnings ranks | `SELECT name, earnings_rank FROM Movie WHERE year > 2000;` |\n",
        "| Count the number of Oscar winners per movie, and order by the count in descending order | `SELECT m.name, COUNT(o.person_id) as num_oscars FROM Movie m LEFT JOIN Oscar o ON m.id = o.movie_id GROUP BY m.id ORDER BY num_oscars DESC;` |\n",
        "| Count the number of actors for each movie, only including movies with more than 3 actors | `SELECT m.name, COUNT(a.actor_id) as num_actors FROM Movie m INNER JOIN Actor a ON m.id = a.movie_id GROUP BY m.id HAVING num_actors > 3;` |\n",
        "| Find the person who won the most Oscars | `SELECT p.name, COUNT(o.type) as num_oscars FROM Person p INNER JOIN Oscar o ON p.id = o.person_id GROUP BY p.id ORDER BY num_oscars DESC LIMIT 1;` |"
      ],
      "metadata": {
        "id": "vkTrnSEGqaVZ"
      }
    },
    {
      "cell_type": "code",
      "source": [],
      "metadata": {
        "id": "ouTHWPqmt53a"
      },
      "execution_count": 1,
      "outputs": []
    },
    {
      "cell_type": "code",
      "source": [],
      "metadata": {
        "id": "S6W59cB7tLUu"
      },
      "execution_count": null,
      "outputs": []
    }
  ]
}