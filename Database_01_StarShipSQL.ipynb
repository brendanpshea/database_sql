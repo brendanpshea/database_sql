{
  "nbformat": 4,
  "nbformat_minor": 0,
  "metadata": {
    "colab": {
      "provenance": [],
      "authorship_tag": "ABX9TyNJdhE8Zf8FSRM9puCeKBhP",
      "include_colab_link": true
    },
    "kernelspec": {
      "name": "python3",
      "display_name": "Python 3"
    },
    "language_info": {
      "name": "python"
    }
  },
  "cells": [
    {
      "cell_type": "markdown",
      "metadata": {
        "id": "view-in-github",
        "colab_type": "text"
      },
      "source": [
        "<a href=\"https://colab.research.google.com/github/brendanpshea/database_sql/blob/main/Database_01_StarShipSQL.ipynb\" target=\"_parent\"><img src=\"https://colab.research.google.com/assets/colab-badge.svg\" alt=\"Open In Colab\"/></a>"
      ]
    },
    {
      "cell_type": "markdown",
      "source": [
        "# Starship SQL: An Introduction to Databases\n",
        "### Databases Through Pop Culture: Brendan SHea, PhD\n",
        "\n",
        "This chapter provides a comprehensive introduction to the world of databases, highlighting their importance in managing and organizing data effectively. By drawing parallels between database concepts and scenarios from the beloved science fiction franchise, Star Trek, the chapter aims to make these concepts more relatable and easier to grasp. Readers will explore the distinctions between data, information, and knowledge, and learn about various data models, including flat files, relational databases, document databases, and graph databases. The chapter also delves into the process of data modeling, discussing the conceptual, logical, and physical levels of abstraction. Additionally, it covers the selection of appropriate database management systems and the choice between cloud storage and local storage. Finally, the chapter explores different concepts of data storage, including data lakes, data warehouses, and data marts.\n",
        "\n",
        "Learning Outcomes:\n",
        "\n",
        "1.  Understand the differences between data, information, and knowledge and how databases help transform data into knowledge.\n",
        "2.  Recognize the advantages of databases over flat files in terms of data organization, retrieval, and consistency.\n",
        "3.  Comprehend the process of data modeling and its three main levels of abstraction: conceptual, logical, and physical.\n",
        "4.  Identify and compare the key features, advantages, and use cases of different logical data models, including relational, document (JSON), and graph databases.\n",
        "5.  Understand the factors to consider when choosing a database management system (DBMS) and the trade-offs between cloud storage and local storage.\n",
        "6.  Explain the relationship between databases, data lakes, data warehouses, and data marts.\n"
      ],
      "metadata": {
        "id": "IASGwfQhpZ__"
      }
    },
    {
      "cell_type": "markdown",
      "source": [
        "## Video Lecture\n",
        "You can click below to launch my lecture."
      ],
      "metadata": {
        "id": "4IUgUb2P-CEJ"
      }
    },
    {
      "cell_type": "code",
      "source": [
        "from IPython.display import YouTubeVideo\n",
        "YouTubeVideo('fZdaL-TefdM', width=800, height=500)"
      ],
      "metadata": {
        "id": "giD-w5lU-H4r",
        "outputId": "6a7a2bd7-77f5-4e5f-9458-94be0b16df0f",
        "colab": {
          "base_uri": "https://localhost:8080/",
          "height": 521
        }
      },
      "execution_count": null,
      "outputs": [
        {
          "output_type": "execute_result",
          "data": {
            "text/plain": [
              "<IPython.lib.display.YouTubeVideo at 0x79877cd168c0>"
            ],
            "text/html": [
              "\n",
              "        <iframe\n",
              "            width=\"800\"\n",
              "            height=\"500\"\n",
              "            src=\"https://www.youtube.com/embed/fZdaL-TefdM\"\n",
              "            frameborder=\"0\"\n",
              "            allowfullscreen\n",
              "            \n",
              "        ></iframe>\n",
              "        "
            ],
            "image/jpeg": "[encoded data removed]"
          },
          "metadata": {},
          "execution_count": 1
        }
      ]
    },
    {
      "cell_type": "markdown",
      "source": [
        "## Introduction to the Case Study: Starship SQL\n",
        "Welcome aboard the Starship Enterprise, a iconic vessel from the beloved science fiction franchise, Star Trek. In this introductory chapter, we'll be exploring the fascinating world of databases using examples and scenarios inspired by the adventures of the Enterprise and its intrepid crew.\n",
        "\n",
        "But why use a fictional spaceship to learn about databases? The answer lies in the versatility and universal applicability of database concepts. Whether you're managing a starship, a small business, or a global enterprise, the principles of data storage, retrieval, and manipulation remain the same.\n",
        "\n",
        "By setting our learning journey against the backdrop of the Enterprise's missions, we can make the abstract concepts of databases more relatable and easier to grasp. We'll see how databases can help us solve real-world problems, from organizing crew schedules to analyzing sensor data from uncharted planets. As we embark on this journey together, we'll demystify the world of databases and discover how they can help us navigate the complexities of data in the 21st century.\n",
        "\n",
        "Get ready to boldly go where no database learner has gone before!"
      ],
      "metadata": {
        "id": "3256h5Ss2_Sl"
      }
    },
    {
      "cell_type": "markdown",
      "source": [
        "## What's the Difference Between Data, Information, and Knowledge?\n",
        "\n",
        "To understand the role of databases, it's essential to grasp the distinction between data, information, and knowledge. Let's beam down to a planet's surface with the Enterprise's away team and explore these concepts in action.\n",
        "\n",
        "**Data** refers to raw, unorganized facts and figures. Imagine the Enterprise's sensors collecting various readings about the planet's atmosphere, temperature, and geology. These individual measurements, such as \"Nitrogen: 78.1%,\" \"Oxygen: 20.9%,\" and \"Temperature: 25°C,\" are data points. On their own, they don't provide much insight or meaning. Examples of data include:\n",
        "\n",
        "1. \"Temperature: 25°C\"\n",
        "2. \"Gravity: 9.8 m/s²\"\n",
        "3. \"Radiation levels: 0.5 mSv/hr\"\n",
        "4. \"Soil pH: 6.5\"\n",
        "5. \"Atmospheric pressure: 1.01 bar\"\n",
        "\n",
        "**Information** is data that has been processed, structured, and given context. When the Enterprise's computer systems analyze the sensor data and present it in a meaningful way, such as \"The planet's atmosphere is similar to Earth's, with a slightly higher oxygen content,\" it becomes information. This level of organization and interpretation makes the data more useful and accessible. Examples of information include:\n",
        "\n",
        "1. \"The planet's average temperature is similar to Earth's, suitable for human habitation.\"\n",
        "2. \"The gravity on this planet is approximately equal to Earth's, which means the crew can move around easily.\"\n",
        "3. \"Radiation levels are within safe limits for short-term exposure, but prolonged stays may require protective gear.\"\n",
        "4. \"The soil pH indicates that the ground is slightly acidic, which may affect the growth of certain plants.\"\n",
        "5. \"Atmospheric pressure is comparable to Earth's at sea level, allowing for normal breathing.\"\n",
        "\n",
        "**Knowledge** is the understanding and application of information. When the Enterprise's science officer, Mr. Spock, reviews the atmospheric information and concludes, \"Captain, this planet is capable of supporting human life,\" he demonstrates knowledge. By combining the information with his expertise and experience, Spock can make informed decisions and recommendations. Examples of knowledge include:\n",
        "\n",
        "1. \"Based on the temperature and atmospheric data, this planet is classified as habitable for humans, and we can proceed with landing without special equipment.\"\n",
        "2. \"The similar gravity to Earth's means that our standard transportation vehicles and equipment will function normally on this planet.\"\n",
        "3. \"While the radiation levels are safe for now, we should limit our time on the surface and regularly monitor our exposure to prevent long-term health risks.\"\n",
        "4. \"The slightly acidic soil suggests that we may need to adjust our agricultural techniques and select crops that can thrive in this environment.\"\n",
        "5. \"With the atmospheric pressure being similar to Earth's, we can rule out the need for specialized breathing apparatus, making our exploration more efficient.\"\n",
        "\n",
        "In this scenario, a database would serve as the central repository for storing and organizing the raw sensor data. By structuring the data into tables, rows, and columns, the database makes it easier to process and analyze the information. The Enterprise's crew can then query the database to gain insights, identify patterns, and ultimately, generate knowledge to guide their actions.\n",
        "\n",
        "For example, suppose the away team discovers a new plant species. They can collect data on its physical characteristics, chemical composition, and genetic structure, storing it in the database. By comparing this information with records of known plants, the crew can determine whether the species is edible, medicinal, or potentially dangerous. This knowledge can then be used to ensure the safety and well-being of the crew during their mission."
      ],
      "metadata": {
        "id": "5V5Q57cz3SbS"
      }
    },
    {
      "cell_type": "markdown",
      "source": [
        "## What is a Database? How Can They Help Turn Data Into Knowledge?\n",
        "\n",
        "A **database** is a structured collection of data that is organized in a way that allows for efficient storage, retrieval, and manipulation of information. Databases are designed to handle large amounts of data and provide a reliable and secure way to manage and access that data.\n",
        "\n",
        "In contrast, a **flat file** is a simple, **linear** structure that stores data in a single table or spreadsheet. (Linear means the data is arrnaged in a \"line\", where searching for a record requires going through all of the previous records). Flat files are easy to create and understand but have limitations when dealing with complex data relationships and large datasets.\n",
        "\n",
        "Let's consider an example from the Starship Enterprise. Suppose the crew is tasked with cataloging the various alien species they encounter during their missions. Using a flat file, they might create a spreadsheet with columns for species name, planet of origin, physical characteristics, and level of technological advancement.\n",
        "\n",
        "While this approach may work for a small number of entries, it quickly becomes cumbersome as the list grows. Searching for specific information, updating records, and maintaining data consistency becomes increasingly difficult.\n",
        "\n",
        "On the other hand, a database can store this information in a more organized and efficient manner. By breaking the data into separate tables for species, planets, and technological levels, and establishing relationships between these tables, the database can provide a more comprehensive and flexible way to manage the information.\n",
        "\n",
        "For instance, the database can ensure that each species is linked to its correct planet of origin, prevent duplicate entries, and allow for easy updating of information across multiple records. The crew can then use **queries** to search for specific species based on various criteria, such as all species from a particular planet or those with a certain level of technological advancement. In a database, data is stored non-linearly, which means searching for data items does not require going through all \"previous\" entries first.\n",
        "\n",
        "Furthermore, databases can help turn data into knowledge by enabling complex analysis and pattern recognition. By using **data mining** techniques, the Enterprise's science team can uncover hidden relationships and trends within the species data. They might discover that certain physical characteristics are correlated with higher levels of technological advancement, or that species from certain regions of space are more likely to be hostile.\n",
        "\n",
        "This knowledge can then inform the crew's decision-making processes and help them prepare for future encounters. For example, if the database analysis reveals that species with certain features tend to be more aggressive, the Enterprise can adjust its diplomatic approach or defensive strategies accordingly."
      ],
      "metadata": {
        "id": "Vv6Z5rzD4vRS"
      }
    },
    {
      "cell_type": "markdown",
      "source": [
        "### Table: Database vs Flat Files\n",
        "| **Criterion** | **Databases** | **Flat Files** |\n",
        "| --- | --- | --- |\n",
        "| **Data Structure** | Structured with tables, rows, and columns, allowing for complex relationships and queries. | Simple, often plain text or CSV format, with a linear structure and no inherent relationships. |\n",
        "| **Data Integrity** | Enforced through constraints (e.g., primary keys, foreign keys), ensuring consistency and accuracy. | No built-in mechanisms for enforcing data integrity, leading to potential inconsistencies. |\n",
        "| **Performance** | Optimized for large-scale data handling with indexing, caching, and query optimization features. | Limited performance, especially with large datasets, as each read/write requires file access. |\n",
        "| **Concurrency** | Supports multiple concurrent users with transaction management, locking, and isolation levels. | Generally limited to single-user access, or requires complex mechanisms to manage concurrency. |\n",
        "| **Scalability** | Designed to handle vast amounts of data and can scale horizontally (across servers) or vertically. | Limited scalability, as performance degrades significantly with larger datasets. |"
      ],
      "metadata": {
        "id": "SIsjcPsr1QQQ"
      }
    },
    {
      "cell_type": "markdown",
      "source": [
        "## What is \"Data Modeling\"?\n",
        "\n",
        "The first step to the creation of a database is to create a \"data model.\" Here, **data modeling** is the process of analyzing and defining the structure, relationships, and constraints of an organization's data to create a standardized representation of the data that will be stored in a database. This representation serves as a blueprint for the database system, guiding its design, development, and maintenance.\n",
        "\n",
        "Data modeling involves understanding the business requirements, identifying the entities (objects or concepts) that need to be represented, and determining how these entities relate to each other. The goal is to create a model that accurately reflects the organization's data needs, supports its business processes, and enables efficient data management.\n",
        "\n",
        "The data modeling process typically involves three main levels of abstraction:\n",
        "\n",
        "1.  **Conceptual Data Model**: This high-level model focuses on capturing the overall structure of the data and the relationships between different entities, without delving into the specifics of implementation. At this stage, data modelers work closely with stakeholders to understand their requirements, identify the main data entities, and define the business rules that govern the data. The conceptual model is often represented using Entity-Relationship Diagrams (ERDs), which visually depict the entities, their attributes, and the relationships between them.\n",
        "2.  **Logical Data Model**: The logical model takes the conceptual model and refines it to provide a more detailed, technology-independent representation of the data structure. At this level, data modelers decide on the specific data attributes, data types, and the relationships between entities. They also define the primary keys, foreign keys, and any constraints or rules that govern the data. The logical model is still independent of the specific database technology being used, allowing for flexibility in implementation. Depending on the organization's needs, the logical model may be represented using a relational model (for SQL databases), a document model (for NoSQL databases like MongoDB), or other data models.\n",
        "3.  **Physical Data Model**: The physical model is a technology-specific representation of the logical model, taking into account the specific database management system being used and any performance or storage considerations. This model includes details such as table structures, indexes, and data types. For the Enterprise, the physical model would be the actual implementation of the crew management system using a specific database technology, like PostgreSQL or Oracle.\n",
        "\n",
        "To illustrate the data modeling process, let's consider the Starship Enterprise's mission planning system. At the conceptual level, the data modelers would identify entities such as \"Mission,\" \"Starship,\" \"Crew Member,\" and \"Planet,\" and define the relationships between them (e.g., a Mission involves a Starship and a Crew, and may take place on a Planet). They would also define business rules, such as \"each Mission must have at least one Crew Member assigned to it.\"\n",
        "\n",
        "At the logical level, the data modelers would refine the model by adding attributes to each entity (e.g., Mission has a start date, end date, and objective), and determining the cardinality of the relationships (e.g., a Starship can have many Missions, but a Mission is associated with only one Starship). They would also choose the appropriate data model, such as a relational model, based on the organization's requirements.\n",
        "\n",
        "Finally, at the physical level, the data modelers would translate the logical model into a specific database schema, defining tables, columns, data types, and any database-specific optimizations needed to ensure efficient data storage and retrieval.\n",
        "\n",
        "By following this data modeling process, the Starship Enterprise can ensure that its mission planning system is well-structured, efficient, and aligned with the organization's needs, enabling effective data management and decision-making.\n",
        "\n",
        "In the following sections, we'll take a brief look at the most common logical data models. In later chapters, we will consider each type of modeling in much greater detail."
      ],
      "metadata": {
        "id": "8iGu-dsH7NCr"
      }
    },
    {
      "cell_type": "markdown",
      "source": [
        "### The Entity-Relationship Model\n",
        "\n",
        "The Entity-Relationship (ER) Model is a visual representation used primarily in the conceptual and logical stages of data modeling. It provides a way to describe the data requirements of an organization in a graphical format, making it easier for both technical and non-technical stakeholders to understand and validate the data structure.\n",
        "\n",
        "Key components of the ER Model include:\n",
        "\n",
        "1.  **Entities**: These represent distinct objects or concepts in the system (e.g., Mission, Starship, Crew Member).\n",
        "2.  **Attributes**: These are properties or characteristics of entities (e.g., mission start date, starship name, crew member rank).\n",
        "3.  **Relationships**: These show how entities are related to each other (e.g., a Mission is assigned to a Starship).\n",
        "4.  **Cardinality**: This indicates the number of instances of one entity that can be associated with the other entity in a relationship (e.g., one Starship can have many Missions, but each Mission is associated with only one Starship).\n",
        "\n",
        "The ER Model fits into the data modeling process as follows:\n",
        "\n",
        "-   In the **Conceptual Data Model** stage, a high-level ER diagram is created to capture the main entities and their relationships, without including all the detailed attributes. This helps stakeholders understand the overall structure of the data.\n",
        "-   In the **Logical Data Model** stage, the ER diagram is refined to include all attributes, specify data types, and define the cardinality of relationships. This more detailed ER model serves as a bridge between the conceptual understanding and the actual database implementation.\n",
        "-   When moving to the **Physical Data Model**, the ER diagram is translated into the specific schema of the chosen database system. For relational databases, entities typically become tables, attributes become columns, and relationships are implemented through primary and foreign keys.\n",
        "\n",
        "By using the Entity-Relationship Model throughout the data modeling process, organizations like Starfleet can ensure that their data structures are well-defined, easily understood by all stakeholders, and accurately represent the complex relationships in their systems, such as those between missions, starships, crew members, and explored planets."
      ],
      "metadata": {
        "id": "lWKLlbVi3MY0"
      }
    },
    {
      "cell_type": "markdown",
      "source": [
        "### Example: Conceptual ERD"
      ],
      "metadata": {
        "id": "6bnMYDdq49dP"
      }
    },
    {
      "cell_type": "code",
      "source": [
        "# @title\n",
        "import base64\n",
        "from IPython.display import Image, display, HTML\n",
        "\n",
        "def mm(graph):\n",
        "    graphbytes = graph.encode(\"utf8\")\n",
        "    base64_bytes = base64.b64encode(graphbytes)\n",
        "    base64_string = base64_bytes.decode(\"ascii\")\n",
        "    display(Image(url=\"https://mermaid.ink/img/\" + base64_string))\n",
        "\n",
        "mm(\"\"\"\n",
        "  erDiagram\n",
        "        MISSION ||--o{ CREW_MEMBER : \"assigned to\"\n",
        "        MISSION ||--|| STARSHIP : \"uses\"\n",
        "        MISSION }o--|| PLANET : \"explores\"\n",
        "    \"\"\")"
      ],
      "metadata": {
        "colab": {
          "base_uri": "https://localhost:8080/",
          "height": 311
        },
        "id": "yO7U1o-Z4BhJ",
        "outputId": "4e12c5ec-9347-40ab-98ac-c363f4f49570",
        "cellView": "form"
      },
      "execution_count": null,
      "outputs": [
        {
          "output_type": "display_data",
          "data": {
            "text/html": [
              "<img src=\"https://mermaid.ink/img/CiAgZXJEaWFncmFtCiAgICAgICAgTUlTU0lPTiB8fC0tb3sgQ1JFV19NRU1CRVIgOiAiYXNzaWduZWQgdG8iCiAgICAgICAgTUlTU0lPTiB8fC0tfHwgU1RBUlNISVAgOiAidXNlcyIKICAgICAgICBNSVNTSU9OIH1vLS18fCBQTEFORVQgOiAiZXhwbG9yZXMiCiAgICA=\"/>"
            ],
            "text/plain": [
              "<IPython.core.display.Image object>"
            ]
          },
          "metadata": {}
        }
      ]
    },
    {
      "cell_type": "markdown",
      "source": [
        "### Example: Logical ERD"
      ],
      "metadata": {
        "id": "iIQqWZT15BoI"
      }
    },
    {
      "cell_type": "code",
      "source": [
        "# @title\n",
        "mm(\"\"\"\n",
        "erDiagram\n",
        "        MISSION_L {\n",
        "            int mission_id PK\n",
        "            date start_date\n",
        "            date end_date\n",
        "            string objective\n",
        "            int starship_id FK\n",
        "            int planet_id FK\n",
        "        }\n",
        "        STARSHIP_L {\n",
        "            int starship_id PK\n",
        "            string name\n",
        "            string class\n",
        "        }\n",
        "        CREW_MEMBER_L {\n",
        "            int crew_member_id PK\n",
        "            string name\n",
        "            string rank\n",
        "        }\n",
        "        PLANET_L {\n",
        "            int planet_id PK\n",
        "            string name\n",
        "            string classification\n",
        "        }\n",
        "        MISSION_CREW_L {\n",
        "            int mission_id FK\n",
        "            int crew_member_id FK\n",
        "        }\n",
        "        MISSION_L ||--o{ MISSION_CREW_L : has\n",
        "        MISSION_CREW_L }o--|| CREW_MEMBER_L : includes\n",
        "        MISSION_L ||--|| STARSHIP_L : uses\n",
        "        MISSION_L }o--|| PLANET_L : explores\n",
        "\n",
        "\"\"\")"
      ],
      "metadata": {
        "colab": {
          "base_uri": "https://localhost:8080/",
          "height": 597
        },
        "id": "_LDp1vkP5DP3",
        "outputId": "134c4015-8332-4a1d-ebcd-8985bc96a266",
        "cellView": "form"
      },
      "execution_count": null,
      "outputs": [
        {
          "output_type": "display_data",
          "data": {
            "text/html": [
              "<img src=\"https://mermaid.ink/img/CmVyRGlhZ3JhbQogICAgICAgIE1JU1NJT05fTCB7CiAgICAgICAgICAgIGludCBtaXNzaW9uX2lkIFBLCiAgICAgICAgICAgIGRhdGUgc3RhcnRfZGF0ZQogICAgICAgICAgICBkYXRlIGVuZF9kYXRlCiAgICAgICAgICAgIHN0cmluZyBvYmplY3RpdmUKICAgICAgICAgICAgaW50IHN0YXJzaGlwX2lkIEZLCiAgICAgICAgICAgIGludCBwbGFuZXRfaWQgRksKICAgICAgICB9CiAgICAgICAgU1RBUlNISVBfTCB7CiAgICAgICAgICAgIGludCBzdGFyc2hpcF9pZCBQSwogICAgICAgICAgICBzdHJpbmcgbmFtZQogICAgICAgICAgICBzdHJpbmcgY2xhc3MKICAgICAgICB9CiAgICAgICAgQ1JFV19NRU1CRVJfTCB7CiAgICAgICAgICAgIGludCBjcmV3X21lbWJlcl9pZCBQSwogICAgICAgICAgICBzdHJpbmcgbmFtZQogICAgICAgICAgICBzdHJpbmcgcmFuawogICAgICAgIH0KICAgICAgICBQTEFORVRfTCB7CiAgICAgICAgICAgIGludCBwbGFuZXRfaWQgUEsKICAgICAgICAgICAgc3RyaW5nIG5hbWUKICAgICAgICAgICAgc3RyaW5nIGNsYXNzaWZpY2F0aW9uCiAgICAgICAgfQogICAgICAgIE1JU1NJT05fQ1JFV19MIHsKICAgICAgICAgICAgaW50IG1pc3Npb25faWQgRksKICAgICAgICAgICAgaW50IGNyZXdfbWVtYmVyX2lkIEZLCiAgICAgICAgfQogICAgICAgIE1JU1NJT05fTCB8fC0tb3sgTUlTU0lPTl9DUkVXX0wgOiBoYXMKICAgICAgICBNSVNTSU9OX0NSRVdfTCB9by0tfHwgQ1JFV19NRU1CRVJfTCA6IGluY2x1ZGVzCiAgICAgICAgTUlTU0lPTl9MIHx8LS18fCBTVEFSU0hJUF9MIDogdXNlcwogICAgICAgIE1JU1NJT05fTCB9by0tfHwgUExBTkVUX0wgOiBleHBsb3JlcwoK\"/>"
            ],
            "text/plain": [
              "<IPython.core.display.Image object>"
            ]
          },
          "metadata": {}
        }
      ]
    },
    {
      "cell_type": "markdown",
      "source": [
        "### Example: Physical ERD"
      ],
      "metadata": {
        "id": "cjhEaMUF5eSf"
      }
    },
    {
      "cell_type": "code",
      "source": [
        "# @title\n",
        "mm(\"\"\"\n",
        "erDiagram\n",
        "missions {\n",
        "            serial mission_id PK\n",
        "            date start_date\n",
        "            date end_date\n",
        "            varchar objective\n",
        "            int starship_id FK\n",
        "            int planet_id FK\n",
        "        }\n",
        "        starships {\n",
        "            serial starship_id PK\n",
        "            varchar name\n",
        "            varchar class\n",
        "        }\n",
        "        crew_members {\n",
        "            serial crew_member_id PK\n",
        "            varchar name\n",
        "            varchar rank\n",
        "        }\n",
        "        planets {\n",
        "            serial planet_id PK\n",
        "            varchar name\n",
        "            varchar classification\n",
        "        }\n",
        "        mission_crew {\n",
        "            int mission_id FK\n",
        "            int crew_member_id FK\n",
        "        }\n",
        "        missions ||--o{ mission_crew : has\n",
        "        mission_crew }o--|| crew_members : includes\n",
        "        missions ||--|| starships : uses\n",
        "        missions }o--|| planets : explores\n",
        "\"\"\")"
      ],
      "metadata": {
        "colab": {
          "base_uri": "https://localhost:8080/",
          "height": 597
        },
        "id": "DMyHLhT75gqi",
        "outputId": "bea0bab3-0492-4e95-f4a6-7dca22105a5e",
        "cellView": "form"
      },
      "execution_count": null,
      "outputs": [
        {
          "output_type": "display_data",
          "data": {
            "text/html": [
              "<img src=\"https://mermaid.ink/img/CmVyRGlhZ3JhbQptaXNzaW9ucyB7CiAgICAgICAgICAgIHNlcmlhbCBtaXNzaW9uX2lkIFBLCiAgICAgICAgICAgIGRhdGUgc3RhcnRfZGF0ZQogICAgICAgICAgICBkYXRlIGVuZF9kYXRlCiAgICAgICAgICAgIHZhcmNoYXIgb2JqZWN0aXZlCiAgICAgICAgICAgIGludCBzdGFyc2hpcF9pZCBGSwogICAgICAgICAgICBpbnQgcGxhbmV0X2lkIEZLCiAgICAgICAgfQogICAgICAgIHN0YXJzaGlwcyB7CiAgICAgICAgICAgIHNlcmlhbCBzdGFyc2hpcF9pZCBQSwogICAgICAgICAgICB2YXJjaGFyIG5hbWUKICAgICAgICAgICAgdmFyY2hhciBjbGFzcwogICAgICAgIH0KICAgICAgICBjcmV3X21lbWJlcnMgewogICAgICAgICAgICBzZXJpYWwgY3Jld19tZW1iZXJfaWQgUEsKICAgICAgICAgICAgdmFyY2hhciBuYW1lCiAgICAgICAgICAgIHZhcmNoYXIgcmFuawogICAgICAgIH0KICAgICAgICBwbGFuZXRzIHsKICAgICAgICAgICAgc2VyaWFsIHBsYW5ldF9pZCBQSwogICAgICAgICAgICB2YXJjaGFyIG5hbWUKICAgICAgICAgICAgdmFyY2hhciBjbGFzc2lmaWNhdGlvbgogICAgICAgIH0KICAgICAgICBtaXNzaW9uX2NyZXcgewogICAgICAgICAgICBpbnQgbWlzc2lvbl9pZCBGSwogICAgICAgICAgICBpbnQgY3Jld19tZW1iZXJfaWQgRksKICAgICAgICB9CiAgICAgICAgbWlzc2lvbnMgfHwtLW97IG1pc3Npb25fY3JldyA6IGhhcwogICAgICAgIG1pc3Npb25fY3JldyB9by0tfHwgY3Jld19tZW1iZXJzIDogaW5jbHVkZXMKICAgICAgICBtaXNzaW9ucyB8fC0tfHwgc3RhcnNoaXBzIDogdXNlcwogICAgICAgIG1pc3Npb25zIH1vLS18fCBwbGFuZXRzIDogZXhwbG9yZXMK\"/>"
            ],
            "text/plain": [
              "<IPython.core.display.Image object>"
            ]
          },
          "metadata": {}
        }
      ]
    },
    {
      "cell_type": "markdown",
      "source": [
        "## Logical Data Models: The Relational Model\n",
        "\n",
        "The **relational model** is the most widely used logical data models, particularly in SQL (Structured Query Language) databases. In the relational model, data is organized into tables (also known as relations), with each table consisting of rows (tuples) and columns (attributes). The relational model provides a simple, flexible, and powerful way to represent and manipulate data.\n",
        "\n",
        "Key concepts in the relational model include:\n",
        "\n",
        "1.  **Tables**: A table is a collection of related data entries, organized into rows and columns. Each table represents a single entity or concept, such as \"Crew Member\" or \"Mission.\"\n",
        "2.  **Columns**: Each column in a table represents a specific attribute of the entity, such as \"Name,\" \"Rank,\" or \"Employee ID\" for the \"Crew Member\" table.\n",
        "3.  **Rows**: Each row in a table represents a unique instance of the entity, such as a specific crew member or mission.\n",
        "4.  **Primary Key**: A primary key is a column (or set of columns) that uniquely identifies each row in a table. For example, in the \"Crew Member\" table, the \"Employee ID\" could be the primary key.\n",
        "5.  **Foreign Key**: A foreign key is a column (or set of columns) in one table that refers to the primary key of another table, establishing a relationship between the two tables. For example, the \"Mission\" table might have a foreign key \"Crew Member ID\" that refers to the primary key \"Employee ID\" in the \"Crew Member\" table.\n",
        "6.  **Relationships**: Relationships define how tables are connected to each other based on their primary and foreign keys. The three main types of relationships are one-to-one, one-to-many, and many-to-many.\n",
        "\n",
        "To illustrate the relational model, let's consider a simplified example of the Starship Enterprise's crew management system. We'll define two tables: \"Crew Member\" and \"Department.\"\n",
        "\n",
        "**Crew Member Table**\n",
        "\n",
        "| Employee ID (PK) | Name | Rank | Department ID (FK) |\n",
        "| --- | --- | --- | --- |\n",
        "| 1 | James Kirk | Captain | 1 |\n",
        "| 2 | Spock | Commander | 2 |\n",
        "| 3 | Uhura | Lieutenant | 3 |\n",
        "| 4 | Leonard McCoy | Lieutenant | 4 |\n",
        "\n",
        "**Department Table**\n",
        "\n",
        "| Department ID (PK) | Department Name |\n",
        "| --- | --- |\n",
        "| 1 | Command |\n",
        "| 2 | Science |\n",
        "| 3 | Communications |\n",
        "| 4 | Medical |\n",
        "\n",
        "In this example, the \"Crew Member\" table has a primary key \"Employee ID\" and a foreign key \"Department ID,\" which references the primary key \"Department ID\" in the \"Department\" table. This establishes a one-to-many relationship between the two tables, as each crew member belongs to a single department, but a department can have multiple crew members.\n",
        "\n",
        "Using this relational model, the Enterprise can easily store, retrieve, and manipulate data about its crew members and departments. For example, they can query the database to find all crew members belonging to a specific department or join the two tables to retrieve the department name for each crew member. The link between primary and foreign keys allows relational databases to provide strong support for **referential integrity** (basically, that the foreign key points to a \"real\" primary key in another table).\n",
        "\n",
        "The relational model provides a strong foundation for organizing and managing data in a structured and efficient manner, and has been the dominant model since the 1970s. Leading database management software such as Oracle, MySQL, PosgtreSQL, Microsoft Access, Microsoft SQL server, and SQLite are are all based on the relational model. We'll focus much of our attention on this data model."
      ],
      "metadata": {
        "id": "ciGm9cl28TzZ"
      }
    },
    {
      "cell_type": "markdown",
      "source": [
        "## Logical Data Models: JSON and Document Databases\n",
        "\n",
        "**JSON (JavaScript Object Notation)** is a lightweight, text-based data format that has gained popularity as a way to represent and store data in NoSQL databases, particularly in **document databases**. JSON provides a flexible and intuitive structure for organizing data, making it well-suited for handling semi-structured and hierarchical data.\n",
        "\n",
        "In JSON, data is represented as **key-value pairs** and arrays. **Keys** are strings, and **values** can be various data types, such as strings, numbers, booleans, objects, or arrays. JSON supports nested objects and arrays, allowing for the creation of complex, hierarchical data structures within a single document."
      ],
      "metadata": {
        "id": "-1UWuVBc8fMq"
      }
    },
    {
      "cell_type": "markdown",
      "source": [
        "```javascript\n",
        "\n",
        "// Example of a JSON file\n",
        "// Form is key : value\n",
        "{\n",
        "  \"crew_id\": \"001\",\n",
        "  \"name\": \"James Kirk\",\n",
        "  \"rank\": \"Captain\",\n",
        "  \"ship\": \"Enterprise\",\n",
        "  \n",
        "  // Missions is an example of a \"nested\" data structure\n",
        "  \"missions\": [\n",
        "    {\n",
        "      \"mission_id\": \"M001\",\n",
        "      \"planet\": \"Vulcan\",\n",
        "      \"objective\": \"Diplomatic meeting\",\n",
        "      \"start_date\": \"2258-01-15\",\n",
        "      \"end_date\": \"2258-01-18\"\n",
        "    },\n",
        "    {\n",
        "      \"mission_id\": \"M002\",\n",
        "      \"planet\": \"Andoria\",\n",
        "      \"objective\": \"Scientific research\",\n",
        "      \"start_date\": \"2258-02-03\",\n",
        "      \"end_date\": \"2258-02-07\"\n",
        "    }\n",
        "  ],\n",
        "  \"skills\": [\"Leadership\", \"Tactics\", \"Diplomacy\"],\n",
        "  \"performance_reviews\": [\n",
        "    {\n",
        "      \"date\": \"2258-12-31\",\n",
        "      \"reviewer\": \"Admiral Pike\",\n",
        "      \"rating\": 9,\n",
        "      \"comments\": \"Exceptional leadership and decision-making skills.\"\n",
        "    }\n",
        "  ]\n",
        "}\n",
        "\n",
        "```"
      ],
      "metadata": {
        "id": "fH_ePnpC8sma"
      }
    },
    {
      "cell_type": "markdown",
      "source": [
        "Document databases, such as MongoDB and Couchbase, leverage the JSON format (or a binary variant like BSON) to store data as semi-structured documents. Each document can have a different structure, allowing for flexible and schema-less data storage. This flexibility enables developers to easily modify the data structure as application requirements evolve, without the need for costly schema migrations.\n",
        "\n",
        "Most modern \"relational\" database management systems (mentioned above) also have the ability to interact natively with JSON. Later in this book, we'll see how this works.\n",
        "\n",
        "Key features and advantages of JSON and document databases include:\n",
        "\n",
        "1.  **Flexibility**: JSON allows for the storage of semi-structured and unstructured data, accommodating evolving data requirements and enabling rapid application development.\n",
        "2.  **Scalability**: Document databases are designed to scale horizontally, distributing data across multiple servers to handle large volumes of data and high read/write throughput.\n",
        "3.  **Performance**: By storing related data together within a single document, document databases can reduce the need for expensive joins and improve read performance.\n",
        "4.  **Expressive Query Languages**: Document databases often provide expressive query languages that support complex queries, indexing, and aggregation operations on JSON data.\n",
        "\n",
        "Compared to relational databases, JSON and document databases offer a different approach to data modeling and storage. While relational databases enforce a strict, predefined schema and normalize data across multiple tables, JSON and document databases allow for flexible, denormalized data storage within a single document. This approach can simplify data modeling and improve performance for certain use cases, particularly when dealing with rapidly changing or unstructured data.\n",
        "\n",
        "However, it's important to note that relational databases still excel in scenarios that require strong data consistency, complex transactions, and rigorous ACID (Atomicity, Consistency, Isolation, Durability) properties. The choice between JSON/document databases and relational databases depends on the specific requirements of the application, such as data structure, scalability needs, and consistency guarantees.\n",
        "\n",
        "In the context of the Starship Enterprise, a document database using JSON could be used to store and manage various types of data, such as mission reports, crew profiles, and sensor readings, allowing for flexible and easily extensible data representation. The ability to nest objects and arrays within JSON documents enables the creation of rich, hierarchical data structures that can be efficiently queried and updated, supporting the diverse data management needs of the Enterprise.."
      ],
      "metadata": {
        "id": "7QtQdSu29XbM"
      }
    },
    {
      "cell_type": "markdown",
      "source": [
        "## Logical Data Models: Graph Databases\n",
        "\n",
        "Graph databases (such as **neo4j**) are a type of NoSQL database that use a graph structure to represent and store data. They focus on the relationships between data entities, making them well-suited for handling highly connected and complex data. Graph databases excel in scenarios where the relationships between data elements are as important as the data itself.\n",
        "\n",
        "In a graph database, data is represented as **nodes (vertices)** and **edges (relationships)**. Nodes represent entities, such as crew members, planets, or starships, while edges represent the connections or relationships between these entities. Both nodes and edges can have properties (key-value pairs) that store additional information about the entities and relationships.\n",
        "\n",
        "Example:"
      ],
      "metadata": {
        "id": "ZVSqN0exXalz"
      }
    },
    {
      "cell_type": "markdown",
      "source": [
        "```cypher\n",
        "// Create crew member nodes\n",
        "CREATE (kirk:CrewMember {name: \"James Kirk\", rank: \"Captain\"})\n",
        "CREATE (spock:CrewMember {name: \"Spock\", rank: \"Commander\"})\n",
        "\n",
        "// Create starship node\n",
        "CREATE (enterprise:Starship {name: \"Enterprise\", registry: \"NCC-1701\"})\n",
        "\n",
        "// Create planet node\n",
        "CREATE (vulcan:Planet {name: \"Vulcan\", classification: \"M\"})\n",
        "\n",
        "// Create mission node\n",
        "CREATE (mission:Mission {name: \"Diplomatic meeting\", objective: \"Establish relations with Vulcan\"})\n",
        "\n",
        "// Create relationships between nodes\n",
        "CREATE (kirk)-[:COMMANDS]->(enterprise)\n",
        "CREATE (enterprise)-[:VISITED]->(vulcan)\n",
        "CREATE (spock)-[:SERVES_ON]->(enterprise)\n",
        "CREATE (kirk)-[:PARTICIPATES_IN]->(mission)\n",
        "CREATE (mission)-[:TAKES_PLACE_ON]->(vulcan)\n",
        "```\n"
      ],
      "metadata": {
        "id": "a6P8sNXDXbkB"
      }
    },
    {
      "cell_type": "markdown",
      "source": [
        "In this example, we use Cypher to create nodes representing crew members (`kirk` and `spock`), a starship (`enterprise`), a planet (`vulcan`), and a mission (`mission`). We also create relationships between these nodes using the `CREATE` statement and the `[]` syntax to specify the relationship types, such as `COMMANDS`, `VISITED`, `SERVES_ON`, `PARTICIPATES_IN`, and `TAKES_PLACE_ON`.\n",
        "\n",
        "Compared to relational databases, graph databases offer a different perspective on data modeling and querying. While relational databases normalize data and define relationships through foreign keys, graph databases prioritize the relationships between entities and store them as first-class citizens. This approach can lead to more intuitive data modeling and faster querying of highly connected data.\n",
        "\n",
        "However, graph databases may not be the best fit for all use cases. They are particularly well-suited for scenarios where the relationships between data elements are complex, frequently traversed, and subject to change. In contrast, relational databases are better suited for structured data with well-defined schemas and strong consistency requirements.\n",
        "\n",
        "In the context of the Starship Enterprise, a graph database could be used to model and analyze various relationships, such as:\n",
        "\n",
        "-   Social connections between crew members\n",
        "-   Dependency chains between ship systems and components\n",
        "-   Trade routes and diplomatic relationships between planets and civilizations\n",
        "-   Mapping of the explored universe and the connections between star systems\n",
        "\n",
        "By leveraging the power of graph databases, the Enterprise can gain valuable insights into the complex web of relationships that underlie its operations, enabling better decision-making, faster problem-solving, and more efficient exploration of the final frontier."
      ],
      "metadata": {
        "id": "BU_XHc2ZXygN"
      }
    },
    {
      "cell_type": "code",
      "source": [
        "# @title\n",
        "mm(\"\"\"\n",
        "classDiagram\n",
        "    class CrewMember {\n",
        "        +name: string\n",
        "        +rank: string\n",
        "    }\n",
        "    class Starship {\n",
        "        +name: string\n",
        "        +registry: string\n",
        "    }\n",
        "    class Planet {\n",
        "        +name: string\n",
        "        +classification: string\n",
        "    }\n",
        "    class Mission {\n",
        "        +name: string\n",
        "        +objective: string\n",
        "    }\n",
        "\n",
        "    CrewMember \"1\" --> \"1\" Starship : COMMANDS\n",
        "    CrewMember \"1..*\" --> \"1\" Starship : SERVES_ON\n",
        "    Starship \"1\" --> \"1..*\" Planet : VISITED\n",
        "    CrewMember \"1..*\" --> \"1..*\" Mission : PARTICIPATES_IN\n",
        "    Mission \"1..*\" --> \"1\" Planet : TAKES_PLACE_ON\n",
        "\n",
        "    note for CrewMember \"James Kirk\\nSpock\"\n",
        "    note for Starship \"Enterprise\"\n",
        "    note for Planet \"Vulcan\"\n",
        "    note for Mission \"Diplomatic meeting\"\n",
        "\n",
        "\"\"\")"
      ],
      "metadata": {
        "colab": {
          "base_uri": "https://localhost:8080/",
          "height": 727
        },
        "id": "Q28W02kjUGKa",
        "outputId": "0e0cf3f3-bbcd-410a-9255-3d249de34655",
        "cellView": "form"
      },
      "execution_count": null,
      "outputs": [
        {
          "output_type": "display_data",
          "data": {
            "text/html": [
              "<img src=\"https://mermaid.ink/img/CmNsYXNzRGlhZ3JhbQogICAgY2xhc3MgQ3Jld01lbWJlciB7CiAgICAgICAgK25hbWU6IHN0cmluZwogICAgICAgICtyYW5rOiBzdHJpbmcKICAgIH0KICAgIGNsYXNzIFN0YXJzaGlwIHsKICAgICAgICArbmFtZTogc3RyaW5nCiAgICAgICAgK3JlZ2lzdHJ5OiBzdHJpbmcKICAgIH0KICAgIGNsYXNzIFBsYW5ldCB7CiAgICAgICAgK25hbWU6IHN0cmluZwogICAgICAgICtjbGFzc2lmaWNhdGlvbjogc3RyaW5nCiAgICB9CiAgICBjbGFzcyBNaXNzaW9uIHsKICAgICAgICArbmFtZTogc3RyaW5nCiAgICAgICAgK29iamVjdGl2ZTogc3RyaW5nCiAgICB9CgogICAgQ3Jld01lbWJlciAiMSIgLS0+ICIxIiBTdGFyc2hpcCA6IENPTU1BTkRTCiAgICBDcmV3TWVtYmVyICIxLi4qIiAtLT4gIjEiIFN0YXJzaGlwIDogU0VSVkVTX09OCiAgICBTdGFyc2hpcCAiMSIgLS0+ICIxLi4qIiBQbGFuZXQgOiBWSVNJVEVECiAgICBDcmV3TWVtYmVyICIxLi4qIiAtLT4gIjEuLioiIE1pc3Npb24gOiBQQVJUSUNJUEFURVNfSU4KICAgIE1pc3Npb24gIjEuLioiIC0tPiAiMSIgUGxhbmV0IDogVEFLRVNfUExBQ0VfT04KCiAgICBub3RlIGZvciBDcmV3TWVtYmVyICJKYW1lcyBLaXJrClNwb2NrIgogICAgbm90ZSBmb3IgU3RhcnNoaXAgIkVudGVycHJpc2UiCiAgICBub3RlIGZvciBQbGFuZXQgIlZ1bGNhbiIKICAgIG5vdGUgZm9yIE1pc3Npb24gIkRpcGxvbWF0aWMgbWVldGluZyIKCg==\"/>"
            ],
            "text/plain": [
              "<IPython.core.display.Image object>"
            ]
          },
          "metadata": {}
        }
      ]
    },
    {
      "cell_type": "markdown",
      "source": [
        "## Organizing Data by Columns: Tidy Dataframes and Analytical Databases\n",
        "\n",
        "While relational databases excel at managing complex relationships between entities (like connecting ships to their crews and missions) and document/JSON models are great for nested, hierarchical data (like detailed ship specifications), there's another powerful way to organize data that's become central to modern data analytics: the column-oriented approach.\n",
        "\n",
        "#### The Core Idea: Thinking in Columns\n",
        "\n",
        "Let's look at a mission log from the Starship Enterprise, organized as a \"tidy dataframe\":\n",
        "\n",
        "| crew_name | mission_date | planet | mission_type | injuries | new_species |\n",
        "|-----------|--------------|--------|--------------|----------|-------------|\n",
        "| Kirk      | 2265-03-15  | Vulcan | Diplomatic   | 0        | 0           |\n",
        "| Spock     | 2265-03-15  | Vulcan | Diplomatic   | 0        | 0           |\n",
        "| McCoy     | 2265-04-01  | Rigel  | Medical      | 2        | 1           |\n",
        "| Kirk      | 2265-04-01  | Rigel  | Medical      | 0        | 1           |\n",
        "\n",
        "In a column-oriented organization, we think about each column as its own unit of analysis. Instead of storing this as rows (like a relational database would) or as nested JSON documents (like MongoDB would), tools like Pandas, DuckDB, and BigQuery organize the data more like this:\n",
        "\n",
        "```\n",
        "crew_name: [\"Kirk\", \"Spock\", \"McCoy\", \"Kirk\"]\n",
        "mission_date: [\"2265-03-15\", \"2265-03-15\", \"2265-04-01\", \"2265-04-01\"]\n",
        "planet: [\"Vulcan\", \"Vulcan\", \"Rigel\", \"Rigel\"]\n",
        "mission_type: [\"Diplomatic\", \"Diplomatic\", \"Medical\", \"Medical\"]\n",
        "injuries: [0, 0, 2, 0]\n",
        "new_species: [0, 0, 1, 1]\n",
        "```\n",
        "\n",
        "#### Why Organize Data This Way?\n",
        "\n",
        "The column-oriented approach shines when you're doing analysis that focuses on patterns across columns. Common analytical questions become very natural:\n",
        "\n",
        "1. \"What's our average number of injuries per mission?\"\n",
        "   - Just grab the injuries column and calculate its mean\n",
        "   - No need to touch any other columns\n",
        "\n",
        "2. \"How many different types of missions have we done?\"\n",
        "   - Just grab the mission_type column and count unique values\n",
        "   - Other columns stay untouched\n",
        "\n",
        "3. \"What's the distribution of missions across planets?\"\n",
        "   - Focus on the planet column for counting\n",
        "   - Don't need to load crew or date information\n",
        "\n",
        "#### When to Use Column-Oriented Organization\n",
        "\n",
        "Column organization works best when:\n",
        "- You're analyzing patterns across many rows (like mission statistics)\n",
        "- Your data naturally fits in a \"tidy\" format where:\n",
        "  - Each column is a variable (like date, location, outcome)\n",
        "  - Each row is an observation (like a specific mission)\n",
        "  - Each value sits at the intersection of a variable and observation\n",
        "- You're doing lots of aggregations (counts, averages, etc.)\n",
        "- Your analysis focuses on specific columns rather than whole rows\n",
        "\n",
        "#### When Not to Use Column Organization\n",
        "\n",
        "Stick to relational or document models when:\n",
        "- You need to maintain complex relationships between different types of data\n",
        "  - Example: Tracking crew members, their positions, their missions, and mission outcomes might be better in a relational database\n",
        "- Your data is deeply nested\n",
        "  - Example: Detailed ship specifications with subsystems within systems might work better as JSON\n",
        "- You frequently need to access complete records rather than analyze patterns\n",
        "  - Example: Looking up all details about a specific mission might be faster in a traditional database\n",
        "\n",
        "#### Modern Tools for Column-Oriented Data\n",
        "\n",
        "Several modern tools make it easy to work with column-oriented data:\n",
        "\n",
        "1. **Pandas/R Dataframes**: Perfect for data analysis in code\n",
        "   ```python\n",
        "   # Calculating average injuries per mission type\n",
        "   missions.groupby('mission_type')['injuries'].mean()\n",
        "   ```\n",
        "\n",
        "2. **DuckDB**: A super-fast analytical database that thinks in columns\n",
        "   ```sql\n",
        "   -- Same analysis in SQL\n",
        "   SELECT mission_type, AVG(injuries)\n",
        "   FROM missions\n",
        "   GROUP BY mission_type;\n",
        "   ```\n",
        "\n",
        "3. **BigQuery/Redshift**: Cloud databases optimized for column-oriented analytics\n",
        "   - Can analyze massive datasets quickly\n",
        "   - Automatically optimize column storage for performance\n",
        "\n",
        "In the the end, the power of column-oriented data model comes from matching how we organize data to how we analyze it. When your analysis focuses on patterns, trends, and relationships between variables, organizing your data by columns makes these analyses natural and efficient."
      ],
      "metadata": {
        "id": "9JuyNMPWWWyK"
      }
    },
    {
      "cell_type": "code",
      "source": [
        "# @title\n",
        "%%html\n",
        "<!DOCTYPE html>\n",
        "<html>\n",
        "<head>\n",
        "    <style>\n",
        "        .tab-container {\n",
        "            max-width: 800px;\n",
        "            margin: 20px auto;\n",
        "            font-family: Arial, sans-serif;\n",
        "        }\n",
        "        .tabs {\n",
        "            display: flex;\n",
        "            gap: 10px;\n",
        "            margin-bottom: 20px;\n",
        "        }\n",
        "        .tab {\n",
        "            padding: 10px 20px;\n",
        "            background: #f0f0f0;\n",
        "            border: none;\n",
        "            border-radius: 5px;\n",
        "            cursor: pointer;\n",
        "            transition: background 0.3s;\n",
        "        }\n",
        "        .tab:hover {\n",
        "            background: #e0e0e0;\n",
        "        }\n",
        "        .tab.active {\n",
        "            background: #007bff;\n",
        "            color: white;\n",
        "        }\n",
        "        .content {\n",
        "            background: white;\n",
        "            padding: 20px;\n",
        "            border-radius: 5px;\n",
        "            box-shadow: 0 2px 4px rgba(0,0,0,0.1);\n",
        "        }\n",
        "        .model {\n",
        "            display: none;\n",
        "        }\n",
        "        .model.active {\n",
        "            display: block;\n",
        "        }\n",
        "        pre {\n",
        "            background: #f8f9fa;\n",
        "            padding: 15px;\n",
        "            border-radius: 5px;\n",
        "            overflow-x: auto;\n",
        "        }\n",
        "        .model-title {\n",
        "            font-size: 1.5em;\n",
        "            margin-bottom: 15px;\n",
        "            color: #333;\n",
        "        }\n",
        "        .model-description {\n",
        "            margin: 15px 0;\n",
        "            color: #666;\n",
        "        }\n",
        "        .table {\n",
        "            border-collapse: collapse;\n",
        "            width: 100%;\n",
        "            margin: 10px 0;\n",
        "        }\n",
        "        .table th, .table td {\n",
        "            border: 1px solid #ddd;\n",
        "            padding: 8px;\n",
        "            text-align: left;\n",
        "        }\n",
        "        .table th {\n",
        "            background-color: #f8f9fa;\n",
        "        }\n",
        "    </style>\n",
        "</head>\n",
        "<body>\n",
        "    <div class=\"tab-container\">\n",
        "        <h1>Data Models - Starship Enterprise Example</h1>\n",
        "        <div class=\"tabs\">\n",
        "            <button class=\"tab active\" onclick=\"showModel('flat')\">Flat Model</button>\n",
        "            <button class=\"tab\" onclick=\"showModel('relational')\">Relational Model</button>\n",
        "            <button class=\"tab\" onclick=\"showModel('document')\">Document Model</button>\n",
        "        </div>\n",
        "        <div class=\"content\">\n",
        "            <div id=\"flat\" class=\"model active\">\n",
        "                <h2 class=\"model-title\">Flat Model</h2>\n",
        "                <div class=\"model-description\">\n",
        "                    In a flat model, all data is stored in a single table or structure.\n",
        "                    This can lead to data redundancy but provides simple querying.\n",
        "                </div>\n",
        "                <table class=\"table\">\n",
        "                    <tr>\n",
        "                        <th>Ship Name</th>\n",
        "                        <th>Registry</th>\n",
        "                        <th>Class</th>\n",
        "                        <th>Captain Name</th>\n",
        "                        <th>Captain Species</th>\n",
        "                        <th>First Officer Name</th>\n",
        "                        <th>First Officer Species</th>\n",
        "                    </tr>\n",
        "                    <tr>\n",
        "                        <td>USS Enterprise</td>\n",
        "                        <td>NCC-1701</td>\n",
        "                        <td>Constitution</td>\n",
        "                        <td>James T. Kirk</td>\n",
        "                        <td>Human</td>\n",
        "                        <td>Spock</td>\n",
        "                        <td>Vulcan</td>\n",
        "                    </tr>\n",
        "                </table>\n",
        "            </div>\n",
        "\n",
        "            <div id=\"relational\" class=\"model\">\n",
        "                <h2 class=\"model-title\">Relational Model</h2>\n",
        "                <div class=\"model-description\">\n",
        "                    The relational model organizes data in related tables, reducing redundancy\n",
        "                    through normalization and establishing relationships via foreign keys.\n",
        "                </div>\n",
        "                <h3>Ships Table</h3>\n",
        "                <table class=\"table\">\n",
        "                    <tr>\n",
        "                        <th>Ship ID</th>\n",
        "                        <th>Name</th>\n",
        "                        <th>Registry</th>\n",
        "                        <th>Class</th>\n",
        "                    </tr>\n",
        "                    <tr>\n",
        "                        <td>1</td>\n",
        "                        <td>USS Enterprise</td>\n",
        "                        <td>NCC-1701</td>\n",
        "                        <td>Constitution</td>\n",
        "                    </tr>\n",
        "                </table>\n",
        "\n",
        "                <h3>Officers Table</h3>\n",
        "                <table class=\"table\">\n",
        "                    <tr>\n",
        "                        <th>Officer ID</th>\n",
        "                        <th>Ship ID</th>\n",
        "                        <th>Name</th>\n",
        "                        <th>Position</th>\n",
        "                        <th>Species</th>\n",
        "                    </tr>\n",
        "                    <tr>\n",
        "                        <td>1</td>\n",
        "                        <td>1</td>\n",
        "                        <td>James T. Kirk</td>\n",
        "                        <td>Captain</td>\n",
        "                        <td>Human</td>\n",
        "                    </tr>\n",
        "                    <tr>\n",
        "                        <td>2</td>\n",
        "                        <td>1</td>\n",
        "                        <td>Spock</td>\n",
        "                        <td>First Officer</td>\n",
        "                        <td>Vulcan</td>\n",
        "                    </tr>\n",
        "                </table>\n",
        "            </div>\n",
        "\n",
        "            <div id=\"document\" class=\"model\">\n",
        "                <h2 class=\"model-title\">Document Model</h2>\n",
        "                <div class=\"model-description\">\n",
        "                    The document model nests related data in a hierarchical structure,\n",
        "                    making it intuitive to read and efficient for retrieving complete objects.\n",
        "                </div>\n",
        "                <pre>\n",
        "{\n",
        "    \"name\": \"USS Enterprise\",\n",
        "    \"registry\": \"NCC-1701\",\n",
        "    \"class\": \"Constitution\",\n",
        "    \"crew\": {\n",
        "        \"captain\": {\n",
        "            \"name\": \"James T. Kirk\",\n",
        "            \"position\": \"Captain\",\n",
        "            \"species\": \"Human\"\n",
        "        },\n",
        "        \"first_officer\": {\n",
        "            \"name\": \"Spock\",\n",
        "            \"position\": \"First Officer\",\n",
        "            \"species\": \"Vulcan\"\n",
        "        }\n",
        "    }\n",
        "}\n",
        "                </pre>\n",
        "            </div>\n",
        "        </div>\n",
        "    </div>\n",
        "\n",
        "    <script>\n",
        "        function showModel(modelId) {\n",
        "            // Hide all models\n",
        "            document.querySelectorAll('.model').forEach(model => {\n",
        "                model.classList.remove('active');\n",
        "            });\n",
        "\n",
        "            // Show selected model\n",
        "            document.getElementById(modelId).classList.add('active');\n",
        "\n",
        "            // Update tab styling\n",
        "            document.querySelectorAll('.tab').forEach(tab => {\n",
        "                tab.classList.remove('active');\n",
        "            });\n",
        "            event.target.classList.add('active');\n",
        "        }\n",
        "    </script>\n",
        "</body>\n",
        "</html>"
      ],
      "metadata": {
        "cellView": "form",
        "id": "GqAih7pUmFZT",
        "outputId": "9e2ee2ef-e324-40e1-89f3-bef53b41c570",
        "colab": {
          "base_uri": "https://localhost:8080/",
          "height": 413
        }
      },
      "execution_count": 2,
      "outputs": [
        {
          "output_type": "display_data",
          "data": {
            "text/plain": [
              "<IPython.core.display.HTML object>"
            ],
            "text/html": [
              "<!DOCTYPE html>\n",
              "<html>\n",
              "<head>\n",
              "    <style>\n",
              "        .tab-container {\n",
              "            max-width: 800px;\n",
              "            margin: 20px auto;\n",
              "            font-family: Arial, sans-serif;\n",
              "        }\n",
              "        .tabs {\n",
              "            display: flex;\n",
              "            gap: 10px;\n",
              "            margin-bottom: 20px;\n",
              "        }\n",
              "        .tab {\n",
              "            padding: 10px 20px;\n",
              "            background: #f0f0f0;\n",
              "            border: none;\n",
              "            border-radius: 5px;\n",
              "            cursor: pointer;\n",
              "            transition: background 0.3s;\n",
              "        }\n",
              "        .tab:hover {\n",
              "            background: #e0e0e0;\n",
              "        }\n",
              "        .tab.active {\n",
              "            background: #007bff;\n",
              "            color: white;\n",
              "        }\n",
              "        .content {\n",
              "            background: white;\n",
              "            padding: 20px;\n",
              "            border-radius: 5px;\n",
              "            box-shadow: 0 2px 4px rgba(0,0,0,0.1);\n",
              "        }\n",
              "        .model {\n",
              "            display: none;\n",
              "        }\n",
              "        .model.active {\n",
              "            display: block;\n",
              "        }\n",
              "        pre {\n",
              "            background: #f8f9fa;\n",
              "            padding: 15px;\n",
              "            border-radius: 5px;\n",
              "            overflow-x: auto;\n",
              "        }\n",
              "        .model-title {\n",
              "            font-size: 1.5em;\n",
              "            margin-bottom: 15px;\n",
              "            color: #333;\n",
              "        }\n",
              "        .model-description {\n",
              "            margin: 15px 0;\n",
              "            color: #666;\n",
              "        }\n",
              "        .table {\n",
              "            border-collapse: collapse;\n",
              "            width: 100%;\n",
              "            margin: 10px 0;\n",
              "        }\n",
              "        .table th, .table td {\n",
              "            border: 1px solid #ddd;\n",
              "            padding: 8px;\n",
              "            text-align: left;\n",
              "        }\n",
              "        .table th {\n",
              "            background-color: #f8f9fa;\n",
              "        }\n",
              "    </style>\n",
              "</head>\n",
              "<body>\n",
              "    <div class=\"tab-container\">\n",
              "        <h1>Data Models - Starship Enterprise Example</h1>\n",
              "        <div class=\"tabs\">\n",
              "            <button class=\"tab active\" onclick=\"showModel('flat')\">Flat Model</button>\n",
              "            <button class=\"tab\" onclick=\"showModel('relational')\">Relational Model</button>\n",
              "            <button class=\"tab\" onclick=\"showModel('document')\">Document Model</button>\n",
              "        </div>\n",
              "        <div class=\"content\">\n",
              "            <div id=\"flat\" class=\"model active\">\n",
              "                <h2 class=\"model-title\">Flat Model</h2>\n",
              "                <div class=\"model-description\">\n",
              "                    In a flat model, all data is stored in a single table or structure. \n",
              "                    This can lead to data redundancy but provides simple querying.\n",
              "                </div>\n",
              "                <table class=\"table\">\n",
              "                    <tr>\n",
              "                        <th>Ship Name</th>\n",
              "                        <th>Registry</th>\n",
              "                        <th>Class</th>\n",
              "                        <th>Captain Name</th>\n",
              "                        <th>Captain Species</th>\n",
              "                        <th>First Officer Name</th>\n",
              "                        <th>First Officer Species</th>\n",
              "                    </tr>\n",
              "                    <tr>\n",
              "                        <td>USS Enterprise</td>\n",
              "                        <td>NCC-1701</td>\n",
              "                        <td>Constitution</td>\n",
              "                        <td>James T. Kirk</td>\n",
              "                        <td>Human</td>\n",
              "                        <td>Spock</td>\n",
              "                        <td>Vulcan</td>\n",
              "                    </tr>\n",
              "                </table>\n",
              "            </div>\n",
              "\n",
              "            <div id=\"relational\" class=\"model\">\n",
              "                <h2 class=\"model-title\">Relational Model</h2>\n",
              "                <div class=\"model-description\">\n",
              "                    The relational model organizes data in related tables, reducing redundancy \n",
              "                    through normalization and establishing relationships via foreign keys.\n",
              "                </div>\n",
              "                <h3>Ships Table</h3>\n",
              "                <table class=\"table\">\n",
              "                    <tr>\n",
              "                        <th>Ship ID</th>\n",
              "                        <th>Name</th>\n",
              "                        <th>Registry</th>\n",
              "                        <th>Class</th>\n",
              "                    </tr>\n",
              "                    <tr>\n",
              "                        <td>1</td>\n",
              "                        <td>USS Enterprise</td>\n",
              "                        <td>NCC-1701</td>\n",
              "                        <td>Constitution</td>\n",
              "                    </tr>\n",
              "                </table>\n",
              "\n",
              "                <h3>Officers Table</h3>\n",
              "                <table class=\"table\">\n",
              "                    <tr>\n",
              "                        <th>Officer ID</th>\n",
              "                        <th>Ship ID</th>\n",
              "                        <th>Name</th>\n",
              "                        <th>Position</th>\n",
              "                        <th>Species</th>\n",
              "                    </tr>\n",
              "                    <tr>\n",
              "                        <td>1</td>\n",
              "                        <td>1</td>\n",
              "                        <td>James T. Kirk</td>\n",
              "                        <td>Captain</td>\n",
              "                        <td>Human</td>\n",
              "                    </tr>\n",
              "                    <tr>\n",
              "                        <td>2</td>\n",
              "                        <td>1</td>\n",
              "                        <td>Spock</td>\n",
              "                        <td>First Officer</td>\n",
              "                        <td>Vulcan</td>\n",
              "                    </tr>\n",
              "                </table>\n",
              "            </div>\n",
              "\n",
              "            <div id=\"document\" class=\"model\">\n",
              "                <h2 class=\"model-title\">Document Model</h2>\n",
              "                <div class=\"model-description\">\n",
              "                    The document model nests related data in a hierarchical structure, \n",
              "                    making it intuitive to read and efficient for retrieving complete objects.\n",
              "                </div>\n",
              "                <pre>\n",
              "{\n",
              "    \"name\": \"USS Enterprise\",\n",
              "    \"registry\": \"NCC-1701\",\n",
              "    \"class\": \"Constitution\",\n",
              "    \"crew\": {\n",
              "        \"captain\": {\n",
              "            \"name\": \"James T. Kirk\",\n",
              "            \"position\": \"Captain\",\n",
              "            \"species\": \"Human\"\n",
              "        },\n",
              "        \"first_officer\": {\n",
              "            \"name\": \"Spock\",\n",
              "            \"position\": \"First Officer\",\n",
              "            \"species\": \"Vulcan\"\n",
              "        }\n",
              "    }\n",
              "}\n",
              "                </pre>\n",
              "            </div>\n",
              "        </div>\n",
              "    </div>\n",
              "\n",
              "    <script>\n",
              "        function showModel(modelId) {\n",
              "            // Hide all models\n",
              "            document.querySelectorAll('.model').forEach(model => {\n",
              "                model.classList.remove('active');\n",
              "            });\n",
              "            \n",
              "            // Show selected model\n",
              "            document.getElementById(modelId).classList.add('active');\n",
              "            \n",
              "            // Update tab styling\n",
              "            document.querySelectorAll('.tab').forEach(tab => {\n",
              "                tab.classList.remove('active');\n",
              "            });\n",
              "            event.target.classList.add('active');\n",
              "        }\n",
              "    </script>\n",
              "</body>\n",
              "</html>\n"
            ]
          },
          "metadata": {}
        }
      ]
    },
    {
      "cell_type": "markdown",
      "source": [
        "## Commander Spock's Database Lesson: Models and Starfleet Use Cases\n",
        "\n",
        "*Scene: A young Starfleet cadet enters Commander Spock's office aboard the Enterprise for a mentoring session on database systems.*\n",
        "\n",
        "Cadet: Good morning, Commander Spock. I'm here to learn more about database modeling and when to use different types of databases for Starfleet operations.\n",
        "\n",
        "Spock: Greetings, Cadet. Your pursuit of knowledge is logical. Let us begin with the relationship between conceptual, logical, and physical models in database design.\n",
        "\n",
        "Cadet: I've heard these terms, but I'm not entirely clear on how they relate to each other, especially in Starfleet contexts.\n",
        "\n",
        "Spock: Indeed. Consider these models as three levels of abstraction in database design, each serving a specific purpose and audience within Starfleet.\n",
        "\n",
        "1.  The conceptual model is the highest level of abstraction. It represents the overall structure of the data in a business context, independent of any database management system. For Starfleet, this might include entities like 'Starship', 'Crew Member', 'Mission', and 'Alien Species'.\n",
        "2.  The logical model is a more detailed representation that includes all entities, attributes, relationships, and keys. For instance, it would specify that a 'Starship' has attributes like 'Registry Number', 'Class', and 'Current Mission', and that it has a many-to-many relationship with 'Crew Members'.\n",
        "3.  The physical model is the most specific, detailing how the logical model will be implemented in a particular database management system. It includes tables, columns, data types, indexes, and other physical storage details. This is what our database administrators would work with directly.\n",
        "\n",
        "Cadet: I see. So we start with a broad concept of Starfleet operations and gradually refine it into something that can be implemented in our computer systems?\n",
        "\n",
        "Spock: Precisely. The conceptual model might be used in discussions with Starfleet Command, the logical model with our science officers and system designers, and the physical model with our computer systems specialists.\n",
        "\n",
        "Cadet: That's clear. But how do we decide which logical model to use? I've heard about relational and non-relational databases, but I'm not sure when to use each for our various Starfleet systems.\n",
        "\n",
        "Spock: An astute question. The choice between relational and non-relational models depends on the specific requirements of the application. However, it's crucial to note that most modern Relational Database Management Systems (RDBMS) used by Starfleet can support non-relational logical models, such as JSON and key-value structures, within a relational framework. This flexibility allows us to leverage the strengths of both paradigms. Let me elaborate on some Starfleet-specific use cases.\n",
        "\n",
        "Relational models are most appropriate when:\n",
        "\n",
        "1.  We have structured data with clear relationships. For example, our personnel database, which links crew members to their assignments, qualifications, and medical records.\n",
        "2.  We need strong consistency and ACID compliance. This is crucial for our ship's systems, where data integrity can be a matter of life and death.\n",
        "3.  We require complex queries and transactions. For instance, our mission planning system needs to join data from multiple sources like star charts, crew rosters, and equipment inventories.\n",
        "\n",
        "Cadet: Could you give a specific example of when a relational database would be the best choice in Starfleet operations?\n",
        "\n",
        "Spock: Certainly. Consider our ship's life support system. It requires strict data integrity, has clear relationships (e.g., decks have rooms, rooms have environmental controls), and needs complex queries (e.g., calculating oxygen levels, managing power distribution). A relational database would be most suitable here, allowing for accurate and efficient management of these critical systems.\n",
        "\n",
        "Cadet: That's clear. What about non-relational models?\n",
        "\n",
        "Spock: Non-relational or NoSQL models are more appropriate in scenarios such as:\n",
        "\n",
        "1.  Handling large volumes of unstructured or semi-structured data. For example, our long-range sensor arrays collect vast amounts of varied data that don't always fit a predefined structure.\n",
        "2.  When we need high scalability and performance for simple read/write operations. Our ship's computer logs, which record millions of events per second across all systems, benefit from this model.\n",
        "3.  When our data schema is likely to evolve rapidly. As we encounter new phenomena and species, our xenobiology database needs to adapt quickly to store new types of information.\n",
        "\n",
        "However, remember that modern RDBMS can often handle these scenarios as well, using features like JSON data types or key-value storage within a relational framework.\n",
        "\n",
        "Cadet: Could you provide an example of when a non-relational model would be the best choice in Starfleet?\n",
        "\n",
        "Spock: Indeed. Consider our Stellar Cartography system. It needs to handle various types of spatial and temporal data, from basic star positions to complex phenomena like temporal anomalies and subspace rifts. The data structures vary greatly and evolve as we make new discoveries. In this case, a document-based model within our RDBMS, using JSON to store flexible, schema-less data, could be more suitable. It allows for adaptable data storage while still benefiting from the ACID properties and querying capabilities of our relational systems.\n",
        "\n",
        "Cadet: That's fascinating. Are there situations where you might use both relational and non-relational models in the same Starfleet system?\n",
        "\n",
        "Spock: Yes, this is quite common in our advanced systems. For instance, our main computer uses a relational model for core ship functions and crew data, while employing non-relational models for sensor logs and scientific data analysis. Modern RDBMS allow us to do this within a single system, providing the benefits of both paradigms. For example, consider the following table from a relational database, which stores (non-relational) sensor log data:\n",
        "\n",
        "**Sensor_Logs Table:**\n",
        "\n",
        "| LogID | Timestamp | SensorType | LogData |\n",
        "| --- | --- | --- | --- |\n",
        "| 1 | 2023-06-24 14:30:00 | long-range | {\"location\": {\"coordinates\": [123.45, -67.89], \"sector\": \"Alpha Quadrant\"}, \"readings\": {\"radiation\": 0.02, \"subspace_distortions\": 3, \"nearby_vessels\": 1}} |\n",
        "| 2 | 2023-06-24 14:30:05 | internal | {\"deck\": 7, \"section\": \"Engineering\", \"readings\": {\"temperature\": 20.5, \"humidity\": 45, \"antimatter_containment\": \"stable\"}} |\n",
        "\n",
        "This approach allows us to index and query the structured data (LogID, Timestamp, SensorType) efficiently, while still maintaining the flexibility to store varied log data structures.\n",
        "\n",
        "\n",
        "\n",
        "Cadet: Thank you, Commander Spock. This has been incredibly helpful. One last question: How do you recommend I practice applying these concepts?\n",
        "\n",
        "Spock: I suggest you start by designing conceptual, logical, and physical models for a simple system, such as a shuttlecraft maintenance log. Then, try to identify scenarios in various Starfleet operations where different data models would be appropriate. Remember, the key is to match the data model to the specific needs of the application, while also considering the capabilities of our advanced RDBMS to support multiple models.\n",
        "\n",
        "Cadet: I'll definitely do that. Thank you for your time and wisdom, Commander Spock.\n",
        "\n",
        "Spock: You're welcome, Cadet. Live long and prosper in your database endeavors."
      ],
      "metadata": {
        "id": "eRyPR1afRgDK"
      }
    },
    {
      "cell_type": "markdown",
      "source": [
        "## Physical Models: Choosing a DBMS\n",
        "\n",
        "\n",
        "When it comes to storing and managing data for your application, you'll need to choose a suitable database system. But before diving into the different options, let's understand what a **database management system (DBMS)** is.\n",
        "\n",
        "A DBMS is software that allows you to create, organize, and interact with databases. It provides a way to store, retrieve, and manage data efficiently. Think of it as a sophisticated filing cabinet that helps you keep your data organized and easily accessible.\n",
        "\n",
        "Now, let's explore the different types of databases you can choose from:\n",
        "\n",
        "1.  **File Database (e.g., SQLite)**: Imagine you're developing a small application for a personal tricorder device. In such cases, a file database like SQLite could be a great choice. SQLite is lightweight, easy to set up, and stores the entire database as a single file on your device. It's perfect for applications that don't require multi-user access or complex data management, just like a tricorder's simple data storage needs.\n",
        "2.  **Personal Database (e.g., Microsoft Access)**: If you're building a small-scale application for managing crew member records on a single computer, a personal database like Microsoft Access might be suitable. Access provides a user-friendly interface for creating tables, forms, and reports. It's great for managing data that doesn't require extensive scalability or advanced features, similar to maintaining a local database on a starship's computer.\n",
        "3.  **Open-Source Client-Server Database (e.g., MySQL, PostgreSQL)**: When your application needs to handle multiple users and requires more advanced functionality, like managing the Enterprise's crew and mission data, an open-source client-server database like MySQL or PostgreSQL could be the way to go. These databases are powerful, scalable, and offer a wide range of features. They are ideal for web applications, content management systems, and enterprise-level solutions. Just like how the Enterprise relies on robust databases to manage its vast amount of data across multiple systems and users.\n",
        "4.  **Proprietary Client-Server Database (e.g., Oracle, SQL Server)**: For large-scale, mission-critical applications that demand high performance, reliability, and advanced features, such as managing the entire Starfleet's data, proprietary client-server databases like Oracle or SQL Server are often the choice. These databases come with extensive support, comprehensive documentation, and a wide array of tools and utilities. They are trusted by large organizations, similar to how Starfleet would rely on top-notch database systems to handle its critical data.\n",
        "5.  **NoSQL Database (e.g., MongoDB, Cassandra)**: In some cases, your application might deal with unstructured or semi-structured data, such as sensor readings from the Enterprise's scientific instruments or logs from various starship systems. NoSQL databases, like MongoDB or Cassandra, are designed to handle such data efficiently. They provide flexibility, scalability, and high performance for handling large volumes of diverse data types. Just like how the Enterprise would use specialized databases to store and analyze complex data from its missions.\n",
        "\n",
        "Differnt use cases call for different choices of DBMS. For example, for managing simple crew member records on a single computer, a personal database like Microsoft Access would suffice. However, for handling the vast amount of data generated by the Enterprise's sensors, scientific instruments, and logs, a combination of an open-source client-server database like PostgreSQL and a NoSQL database like MongoDB would be more suitable."
      ],
      "metadata": {
        "id": "KhQxGTYlfPqx"
      }
    },
    {
      "cell_type": "markdown",
      "source": [
        "### Table: Leading Database Management Systmes\n",
        "| DBMS | Description | Supported Logical Models |\n",
        "| --- | --- | --- |\n",
        "| Oracle | A powerful, enterprise-level database system known for its scalability and reliability, often used by large organizations. | Relational, JSON, XML, Spatial |\n",
        "| MySQL | A popular, open-source database system widely used for web applications, offering simplicity and good performance. | Relational, JSON (MySQL 5.7+) |\n",
        "| Microsoft SQL Server | A robust database system developed by Microsoft, providing scalability, security, and integration with other Microsoft products. | Relational, JSON (SQL Server 2016+), XML, Spatial |\n",
        "| Microsoft Access | A user-friendly, small-scale database system included in the Microsoft Office suite, suitable for personal projects and small businesses. | Relational |\n",
        "| SQLite | A lightweight, file-based database system commonly used as an embedded database in applications, known for its simplicity and efficiency. | Relational, JSON (partial) |\n",
        "| MongoDB | A flexible, document-oriented NoSQL database that stores data in JSON-like formats, designed for scalability and agile development. | Document (JSON), Geospatial |\n",
        "| Apache Cassandra | A highly scalable, distributed NoSQL database built to handle large amounts of structured data across multiple servers. | Wide Column Store |\n",
        "| Amazon DynamoDB | A fully managed NoSQL database service provided by Amazon Web Services, offering automatic scaling and low latency data access. | Key-value, Document (JSON) |\n",
        "| PostgreSQL | A powerful, open-source database system known for its reliability, robustness, and support for advanced data types. | Relational, JSON, XML, Spatial, Key-value (Hstore) |\n",
        "| IBM Db2 | An enterprise-level database system developed by IBM, offering scalability, reliability, and advanced analytics capabilities. | Relational, JSON, XML, Spatial |"
      ],
      "metadata": {
        "id": "zfbk9RrAJvEW"
      }
    },
    {
      "cell_type": "markdown",
      "source": [
        "## Advanced Data Storage Concepts\n",
        "\n",
        "In this section, we'll explore four fundamental concepts in data management: databases, data lakes, data warehouses, and data marts. We'll build on the basic idea of a relational database and see how these other concepts expand our ability to store and use data effectively.\n",
        "\n",
        "### (Relational) Databases: The Foundation of Data Management\n",
        "\n",
        "As we've learned, database is an organized collection of data stored and accessed electronically. The most common type of database is a relational database, which organizes data into tables with rows and columns. This structure is based on the relational model, proposed by E.F. Codd in 1970.\n",
        "\n",
        "Key features of relational databases include:\n",
        "\n",
        "1.  **Data integrity.** Ensuring data accuracy and consistency\n",
        "2.  **ACID properties.** Guaranteeing reliable transaction processing\n",
        "3.  **Normalization.** Organizing data to reduce redundancy\n",
        "4.  **Indexing.** Improving query performance\n",
        "\n",
        "While relational databases excel at handling structured data with clear relationships, they can be less flexible when dealing with unstructured or semi-structured data. This limitation led to the development of other data storage concepts.\n",
        "\n",
        "### Data Lakes: Storing Raw, Unstructured Data\n",
        "A data lake is a storage repository that holds a vast amount of raw data in its native format until it's needed. Unlike a relational database, a data lake can store structured, semi-structured, and unstructured data.\n",
        "\n",
        "Key characteristics of data lakes include:\n",
        "\n",
        "1.  The structure of the data is not defined until it's retrieved (**Schema-on-read**).\n",
        "2.  Can store any type of data (text files, images, sensor data, etc.)\n",
        "3.  Can easily grow to accommodate large volumes of data (**scalability**).\n",
        "4.  Often uses commodity hardware for cost-effective storage\n",
        "\n",
        "In a Star Trek context, a data lake might store diverse information like sensor logs, crew reports, and alien artifact scans, all in their original formats.\n",
        "\n",
        "Data lakes are particularly useful for big data analytics and machine learning projects, where analysts might want to explore data in various ways not predetermined by a fixed schema.\n",
        "\n",
        "### Data Warehouses: Integrated Data for Analysis\n",
        "\n",
        "A data warehouse is a system used for reporting and data analysis. It's a central repository of integrated data from one or more disparate sources. Data warehouses use a process called ETL (Extract, Transform, Load) to gather data from various sources, clean and standardize it, and load it into the warehouse.\n",
        "\n",
        "Key features of data warehouses include:\n",
        "\n",
        "1.  Organized around major subjects (like customers or products)\n",
        "2.  Data from different sources is merged into a consistent format\n",
        "3.  Maintains historical data for trend analysis\n",
        "4.  Data is stable (**non-voliatile**); updates are made in batches, not in real-time\n",
        "\n",
        "Data warehouses often use a star schema or snowflake schema, which are variations of the relational model optimized for analytical queries. These schemas typically have a central fact table connected to multiple dimension tables.\n",
        "\n",
        "In our Star Trek example, Starfleet might use a data warehouse to analyze trends across all starship missions, integrating data from individual ship logs, personnel records, and scientific findings.\n",
        "\n",
        "### Data Marts: Focused Subsets of Data Warehouses\n",
        "\n",
        "A data mart is a subset of a data warehouse oriented to a specific business line or team. It's essentially a condensed version of a data warehouse focused on a particular subject area.\n",
        "\n",
        "Key aspects of data marts include:\n",
        "\n",
        "1.  Tailored to a particular business function or department\n",
        "2.  Contains less data than a full data warehouse\n",
        "3.  Due to their focused nature, queries often run faster\n",
        "4.  Often managed by specific business units, and are often used to provide **security**, by ensuring that people can't access data they don't \"need to know.\"\n",
        "\n",
        "There are two main approaches to creating data marts:\n",
        "\n",
        "-   Top-down: Created from an existing enterprise-wide data warehouse\n",
        "-   Bottom-up: Created first, potentially integrated into a larger warehouse later\n",
        "\n",
        "In our Star Trek scenario, while Starfleet might have a central data warehouse, individual departments like Security or Engineering might have their own data marts tailored to their specific analytical needs."
      ],
      "metadata": {
        "id": "Fl7XwLhVPZWY"
      }
    },
    {
      "cell_type": "markdown",
      "source": [
        "### Graphic: Storing Data"
      ],
      "metadata": {
        "id": "XTC39mJ0b_fM"
      }
    },
    {
      "cell_type": "code",
      "source": [
        "# @title\n",
        "mm(\"\"\"\n",
        "graph LR\n",
        "    A[Data Lake<br><br>• Unstructured data collection<br>• Raw data in native format<br>• Scalable and flexible<br>• Used for big data and analytics] -->|Ingests raw data into| B[Transactional Database<br><br>• Structured data storage<br>• Optimized for real-time transactions<br>• ACID compliant<br>• Supports day-to-day operations]\n",
        "    A -->|Supplies raw data to| C[Data Warehouse<br><br>• Integrated, consolidated data<br>• Optimized for complex queries<br>• Historical and current data<br>• Used for business intelligence]\n",
        "    B -->|Feeds processed data into| C\n",
        "    C -->|Extracts specific datasets for| D[Data Mart<br><br>• Subset of data warehouse<br>• Department or function-specific<br>• Tailored for end-user needs<br>• Facilitates faster queries]\n",
        "    \"\"\")"
      ],
      "metadata": {
        "colab": {
          "base_uri": "https://localhost:8080/",
          "height": 362
        },
        "id": "_m2yItVlfJ88",
        "outputId": "aaffb449-f37f-4f93-fe73-7ce065347a01",
        "cellView": "form"
      },
      "execution_count": null,
      "outputs": [
        {
          "output_type": "display_data",
          "data": {
            "text/html": [
              "<img src=\"https://mermaid.ink/img/CmdyYXBoIExSCiAgICBBW0RhdGEgTGFrZTxicj48YnI+4oCiIFVuc3RydWN0dXJlZCBkYXRhIGNvbGxlY3Rpb248YnI+4oCiIFJhdyBkYXRhIGluIG5hdGl2ZSBmb3JtYXQ8YnI+4oCiIFNjYWxhYmxlIGFuZCBmbGV4aWJsZTxicj7igKIgVXNlZCBmb3IgYmlnIGRhdGEgYW5kIGFuYWx5dGljc10gLS0+fEluZ2VzdHMgcmF3IGRhdGEgaW50b3wgQltUcmFuc2FjdGlvbmFsIERhdGFiYXNlPGJyPjxicj7igKIgU3RydWN0dXJlZCBkYXRhIHN0b3JhZ2U8YnI+4oCiIE9wdGltaXplZCBmb3IgcmVhbC10aW1lIHRyYW5zYWN0aW9uczxicj7igKIgQUNJRCBjb21wbGlhbnQ8YnI+4oCiIFN1cHBvcnRzIGRheS10by1kYXkgb3BlcmF0aW9uc10KICAgIEEgLS0+fFN1cHBsaWVzIHJhdyBkYXRhIHRvfCBDW0RhdGEgV2FyZWhvdXNlPGJyPjxicj7igKIgSW50ZWdyYXRlZCwgY29uc29saWRhdGVkIGRhdGE8YnI+4oCiIE9wdGltaXplZCBmb3IgY29tcGxleCBxdWVyaWVzPGJyPuKAoiBIaXN0b3JpY2FsIGFuZCBjdXJyZW50IGRhdGE8YnI+4oCiIFVzZWQgZm9yIGJ1c2luZXNzIGludGVsbGlnZW5jZV0KICAgIEIgLS0+fEZlZWRzIHByb2Nlc3NlZCBkYXRhIGludG98IEMKICAgIEMgLS0+fEV4dHJhY3RzIHNwZWNpZmljIGRhdGFzZXRzIGZvcnwgRFtEYXRhIE1hcnQ8YnI+PGJyPuKAoiBTdWJzZXQgb2YgZGF0YSB3YXJlaG91c2U8YnI+4oCiIERlcGFydG1lbnQgb3IgZnVuY3Rpb24tc3BlY2lmaWM8YnI+4oCiIFRhaWxvcmVkIGZvciBlbmQtdXNlciBuZWVkczxicj7igKIgRmFjaWxpdGF0ZXMgZmFzdGVyIHF1ZXJpZXNdCiAgICA=\"/>"
            ],
            "text/plain": [
              "<IPython.core.display.Image object>"
            ]
          },
          "metadata": {}
        }
      ]
    },
    {
      "cell_type": "markdown",
      "source": [
        "## Review Questions\n",
        "\n",
        "Choose 3 (or more) of the following questions to answer in detail. Some of these might require outside research, and you are welcome to use things like StackOVerflow, Wikipedia, various chatBots, etc. However, the goal is that *you* should be able to explain these things (for example, on an exam).\n",
        "\n",
        "1. How can the Starship Enterprise utilize databases to optimize its crew management and mission planning processes?\n",
        "2. Discuss the benefits and drawbacks of using a relational database versus a flat file for storing and managing the Enterprise's inventory data.\n",
        "3. Imagine you are a software engineer tasked with developing a new application for the Enterprise. How would you determine which logical data model (relational, document, or graph) to use?\n",
        "4. As a data analyst aboard the Enterprise, how would you use data mining techniques on a document database to identify patterns and insights from unstructured mission reports?\n",
        "5. Explain how the Enterprise can leverage a graph database to analyze the relationships between planets, species, and diplomatic treaties to inform its decision-making process.\n",
        "6. Discuss the importance of data consistency and integrity in the context of the Enterprise's scientific experiments and research data.\n",
        "7. How can the Enterprise ensure data security and privacy when storing sensitive information, such as personal crew member details or classified mission files, in a database?"
      ],
      "metadata": {
        "id": "8RQadhx2pmz4"
      }
    },
    {
      "cell_type": "markdown",
      "source": [
        "## Review With Quizlet\n",
        "Click the following cell to launch a quizlet review for this chapter."
      ],
      "metadata": {
        "id": "1iGiuClhmBVC"
      }
    },
    {
      "cell_type": "code",
      "source": [
        "%%html\n",
        "<iframe src=\"https://quizlet.com/819297827/learn/embed?i=psvlh&x=1jj1\" height=\"600\" width=\"100%\" style=\"border:0\"></iframe>"
      ],
      "metadata": {
        "id": "aSRQX_AImIb9"
      },
      "execution_count": null,
      "outputs": []
    },
    {
      "cell_type": "markdown",
      "source": [
        "## Glossary\n",
        "\n",
        "| Term | Definition |\n",
        "| --- | --- |\n",
        "| Data | Raw, unorganized facts and figures |\n",
        "| Information | Processed, structured, and contextualized data |\n",
        "| Knowledge | Understanding and application of information |\n",
        "| Database | Structured collection of data organized for efficient storage, retrieval, and manipulation |\n",
        "| Flat (linear) file | Simple data structure that stores data in a single table or spreadsheet |\n",
        "| Data consistency | Ensuring data remains consistent and free of contradictions across all instances |\n",
        "| Data integrity | Maintaining accuracy, reliability, and overall quality of data |\n",
        "| Data model (general) | Standardized representation of data structure, relationships, and constraints |\n",
        "| Conceptual Model | High-level model focusing on overall data structure and relationships, without implementation specifics |\n",
        "| Logical Model | Detailed, technology-independent representation of data structure, refining the conceptual model |\n",
        "| Physical Model | Technology-specific representation of the logical model, considering database management system and performance |\n",
        "| Relational Model | Organizes data into tables (relations) with rows (tuples) and columns (attributes) |\n",
        "| Table (relational model) | Collection of related data entries organized into rows and columns |\n",
        "| Attribute (relational model) | Column in a table representing a specific data characteristic |\n",
        "| Primary Key (relational model) | Column(s) uniquely identifying each row in a table |\n",
        "| Foreign Key (relational model) | Column(s) in one table referring to the primary key of another table |\n",
        "| Document Model | Stores data as semi-structured documents, often using JSON format |\n",
        "| JSON | Lightweight, text-based data format for representing and storing data as key-value pairs and arrays |\n",
        "| Key (document model) | String identifying a value in a key-value pair within a JSON document |\n",
        "| Value (document model) | Data associated with a key in a key-value pair within a JSON document |\n",
        "| Graph Model | Represents data as nodes (vertices) and edges (relationships) |\n",
        "| Node (graph model) | Represents an entity in a graph database |\n",
        "| Edge (graph model) | Represents a connection or relationship between nodes in a graph database |\n",
        "| Database Management System (DBMS) | Software for creating, organizing, and interacting with databases |\n",
        "| **Structured data** | Data that is organized in a predefined manner, typically in tabular format with rows and columns, making it easy to search and analyze. |\n",
        "| Unstructured data | Data that does not have a predefined data model or organization, such as text, images, videos, and social media posts. |\n",
        "| NoSQL database | A non-relational database designed to handle large volumes of unstructured or semi-structured data, offering flexibility and scalability. |\n",
        "| Data Lake | A centralized repository that allows the storage of all data types (structured, semi-structured, and unstructured) at any scale in their raw format. |\n",
        "| Data Warehouse | A centralized repository designed for storing structured data from multiple sources, optimized for querying and analysis. |\n",
        "| Data Mart | A subset of a data warehouse, focused on a specific business line or team, designed to provide specific insights. |\n",
        "| Scalability| The ability of a system to handle an increasing amount of work or its potential to be enlarged to accommodate growth. |\n",
        "| Schema-on-read | An approach where the data schema is applied at the time of reading the data, rather than when the data is written, providing flexibility in data use. Associated with data lakes. |"
      ],
      "metadata": {
        "id": "UE65o83doTfb"
      }
    },
    {
      "cell_type": "code",
      "source": [],
      "metadata": {
        "id": "QsGzEp27f6dl"
      },
      "execution_count": null,
      "outputs": []
    }
  ]
}