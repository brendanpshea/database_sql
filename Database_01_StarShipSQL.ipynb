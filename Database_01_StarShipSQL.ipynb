{
  "nbformat": 4,
  "nbformat_minor": 0,
  "metadata": {
    "colab": {
      "provenance": [],
      "authorship_tag": "ABX9TyMH1t9aq0H4d0q8EaZ8YHnX",
      "include_colab_link": true
    },
    "kernelspec": {
      "name": "python3",
      "display_name": "Python 3"
    },
    "language_info": {
      "name": "python"
    }
  },
  "cells": [
    {
      "cell_type": "markdown",
      "metadata": {
        "id": "view-in-github",
        "colab_type": "text"
      },
      "source": [
        "<a href=\"https://colab.research.google.com/github/brendanpshea/database_sql/blob/main/Database_01_StarShipSQL.ipynb\" target=\"_parent\"><img src=\"https://colab.research.google.com/assets/colab-badge.svg\" alt=\"Open In Colab\"/></a>"
      ]
    },
    {
      "cell_type": "markdown",
      "source": [
        "# Starship SQL: An Introduction to Databases\n",
        "### Databases Through Pop Culture: Brendan SHea, PhD\n",
        "\n",
        "This chapter provides a comprehensive introduction to the world of databases, highlighting their importance in managing and organizing data effectively. By drawing parallels between database concepts and scenarios from the beloved science fiction franchise, Star Trek, the chapter aims to make these concepts more relatable and easier to grasp. Readers will explore the distinctions between data, information, and knowledge, and learn about various data models, including flat files, relational databases, document databases, and graph databases. The chapter also delves into the process of data modeling, discussing the conceptual, logical, and physical levels of abstraction. Additionally, it covers the selection of appropriate database management systems and the choice between cloud storage and local storage. Finally, the chapter explores various career paths in the world of databases, providing insights into the roles and responsibilities of data engineers, data analysts, software engineers, and database administrators.\n",
        "\n",
        "Learning Outcomes:\n",
        "\n",
        "1.  Understand the differences between data, information, and knowledge and how databases help transform data into knowledge.\n",
        "2.  Recognize the advantages of databases over flat files in terms of data organization, retrieval, and consistency.\n",
        "3.  Comprehend the process of data modeling and its three main levels of abstraction: conceptual, logical, and physical.\n",
        "4.  Identify and compare the key features, advantages, and use cases of different logical data models, including relational, document (JSON), and graph databases.\n",
        "5.  Understand the factors to consider when choosing a database management system (DBMS) and the trade-offs between cloud storage and local storage.\n",
        "6.  Explore various career paths in the world of databases, including data engineer, data analyst, software engineer, and database administrator, and understand their roles and responsibilities.\n"
      ],
      "metadata": {
        "id": "IASGwfQhpZ__"
      }
    },
    {
      "cell_type": "markdown",
      "source": [
        "## Introduction to the Case Study: Starship SQL\n",
        "Welcome aboard the Starship Enterprise, a iconic vessel from the beloved science fiction franchise, Star Trek. In this introductory chapter, we'll be exploring the fascinating world of databases using examples and scenarios inspired by the adventures of the Enterprise and its intrepid crew.\n",
        "\n",
        "But why use a fictional spaceship to learn about databases? The answer lies in the versatility and universal applicability of database concepts. Whether you're managing a starship, a small business, or a global enterprise, the principles of data storage, retrieval, and manipulation remain the same.\n",
        "\n",
        "By setting our learning journey against the backdrop of the Enterprise's missions, we can make the abstract concepts of databases more relatable and easier to grasp. We'll see how databases can help us solve real-world problems, from organizing crew schedules to analyzing sensor data from uncharted planets. As we embark on this journey together, we'll demystify the world of databases and discover how they can help us navigate the complexities of data in the 21st century.\n",
        "\n",
        "Get ready to boldly go where no database learner has gone before!"
      ],
      "metadata": {
        "id": "3256h5Ss2_Sl"
      }
    },
    {
      "cell_type": "markdown",
      "source": [
        "## What's the Difference Between Data, Information, and Knowledge?\n",
        "\n",
        "To understand the role of databases, it's essential to grasp the distinction between data, information, and knowledge. Let's beam down to a planet's surface with the Enterprise's away team and explore these concepts in action.\n",
        "\n",
        "**Data** refers to raw, unorganized facts and figures. Imagine the Enterprise's sensors collecting various readings about the planet's atmosphere, temperature, and geology. These individual measurements, such as \"Nitrogen: 78.1%,\" \"Oxygen: 20.9%,\" and \"Temperature: 25°C,\" are data points. On their own, they don't provide much insight or meaning. Examples of data include:\n",
        "\n",
        "1. \"Temperature: 25°C\"\n",
        "2. \"Gravity: 9.8 m/s²\"\n",
        "3. \"Radiation levels: 0.5 mSv/hr\"\n",
        "4. \"Soil pH: 6.5\"\n",
        "5. \"Atmospheric pressure: 1.01 bar\"\n",
        "\n",
        "**Information** is data that has been processed, structured, and given context. When the Enterprise's computer systems analyze the sensor data and present it in a meaningful way, such as \"The planet's atmosphere is similar to Earth's, with a slightly higher oxygen content,\" it becomes information. This level of organization and interpretation makes the data more useful and accessible. Examples of information include:\n",
        "\n",
        "1. \"The planet's average temperature is similar to Earth's, suitable for human habitation.\"\n",
        "2. \"The gravity on this planet is approximately equal to Earth's, which means the crew can move around easily.\"\n",
        "3. \"Radiation levels are within safe limits for short-term exposure, but prolonged stays may require protective gear.\"\n",
        "4. \"The soil pH indicates that the ground is slightly acidic, which may affect the growth of certain plants.\"\n",
        "5. \"Atmospheric pressure is comparable to Earth's at sea level, allowing for normal breathing.\"\n",
        "\n",
        "**Knowledge** is the understanding and application of information. When the Enterprise's science officer, Mr. Spock, reviews the atmospheric information and concludes, \"Captain, this planet is capable of supporting human life,\" he demonstrates knowledge. By combining the information with his expertise and experience, Spock can make informed decisions and recommendations. Examples of knowledge include:\n",
        "\n",
        "1. \"Based on the temperature and atmospheric data, this planet is classified as habitable for humans, and we can proceed with landing without special equipment.\"\n",
        "2. \"The similar gravity to Earth's means that our standard transportation vehicles and equipment will function normally on this planet.\"\n",
        "3. \"While the radiation levels are safe for now, we should limit our time on the surface and regularly monitor our exposure to prevent long-term health risks.\"\n",
        "4. \"The slightly acidic soil suggests that we may need to adjust our agricultural techniques and select crops that can thrive in this environment.\"\n",
        "5. \"With the atmospheric pressure being similar to Earth's, we can rule out the need for specialized breathing apparatus, making our exploration more efficient.\"\n",
        "\n",
        "In this scenario, a database would serve as the central repository for storing and organizing the raw sensor data. By structuring the data into tables, rows, and columns, the database makes it easier to process and analyze the information. The Enterprise's crew can then query the database to gain insights, identify patterns, and ultimately, generate knowledge to guide their actions.\n",
        "\n",
        "For example, suppose the away team discovers a new plant species. They can collect data on its physical characteristics, chemical composition, and genetic structure, storing it in the database. By comparing this information with records of known plants, the crew can determine whether the species is edible, medicinal, or potentially dangerous. This knowledge can then be used to ensure the safety and well-being of the crew during their mission."
      ],
      "metadata": {
        "id": "5V5Q57cz3SbS"
      }
    },
    {
      "cell_type": "markdown",
      "source": [
        "## What is a Database? How Can They Help Turn Data Into Knowledge?\n",
        "\n",
        "A **database** is a structured collection of data that is organized in a way that allows for efficient storage, retrieval, and manipulation of information. Databases are designed to handle large amounts of data and provide a reliable and secure way to manage and access that data.\n",
        "\n",
        "In contrast, a **flat file** is a simple, **linear** structure that stores data in a single table or spreadsheet. (Linear means the data is arrnaged in a \"line\", where searching for a record requires going through all of the previous records). Flat files are easy to create and understand but have limitations when dealing with complex data relationships and large datasets.\n",
        "\n",
        "Let's consider an example from the Starship Enterprise. Suppose the crew is tasked with cataloging the various alien species they encounter during their missions. Using a flat file, they might create a spreadsheet with columns for species name, planet of origin, physical characteristics, and level of technological advancement.\n",
        "\n",
        "While this approach may work for a small number of entries, it quickly becomes cumbersome as the list grows. Searching for specific information, updating records, and maintaining data consistency becomes increasingly difficult.\n",
        "\n",
        "On the other hand, a database can store this information in a more organized and efficient manner. By breaking the data into separate tables for species, planets, and technological levels, and establishing relationships between these tables, the database can provide a more comprehensive and flexible way to manage the information.\n",
        "\n",
        "For instance, the database can ensure that each species is linked to its correct planet of origin, prevent duplicate entries, and allow for easy updating of information across multiple records. The crew can then use **queries** to search for specific species based on various criteria, such as all species from a particular planet or those with a certain level of technological advancement. In a database, data is stored non-linearly, which means searching for data items does not require going through all \"previous\" entries first.\n",
        "\n",
        "Furthermore, databases can help turn data into knowledge by enabling complex analysis and pattern recognition. By using **data mining** techniques, the Enterprise's science team can uncover hidden relationships and trends within the species data. They might discover that certain physical characteristics are correlated with higher levels of technological advancement, or that species from certain regions of space are more likely to be hostile.\n",
        "\n",
        "This knowledge can then inform the crew's decision-making processes and help them prepare for future encounters. For example, if the database analysis reveals that species with certain features tend to be more aggressive, the Enterprise can adjust its diplomatic approach or defensive strategies accordingly."
      ],
      "metadata": {
        "id": "Vv6Z5rzD4vRS"
      }
    },
    {
      "cell_type": "markdown",
      "source": [
        "### Advantages of Databases Over Flat Files\n",
        "Some key advantages of databases over flat files include:\n",
        "\n",
        "-  Databases provide a structured way to organize and store large amounts of data, making it easier to manage and maintain.\n",
        "\n",
        "-  With databases, users can quickly search for and retrieve specific information using queries, saving time and effort compared to manual searching through flat files.\n",
        "\n",
        "-  Databases enforce **data consistency** through the use of constraints, such as unique keys and foreign keys, which help prevent duplicate or inconsistent data entries.\n",
        "\n",
        "-   Databases offer features like transactions and data validation, ensuring that data remains accurate and reliable even in the face of concurrent access and updates. This ensures **data integrity.**\n",
        "\n",
        "-   Databases are designed to handle large amounts of data and can scale to accommodate growing data storage needs, making them suitable for organizations of various sizes.\n",
        "\n",
        "-  Databases provide built-in security features, such as user authentication and access control, which help protect sensitive information from unauthorized access.\n",
        "\n",
        "-   Databases enable complex data analysis and pattern recognition through the use of queries, data mining, and business intelligence tools, helping organizations gain valuable insights and make informed decisions.\n",
        "\n",
        "\n",
        "To illustrate these advantages, let's consider the Starship Enterprise's crew management system. By using a database, the Enterprise can:\n",
        "\n",
        "1. Organize crew member information, such as personal details, job roles, and performance records, in a structured manner.\n",
        "2. Quickly retrieve information about a specific crew member or group of crew members based on various criteria, such as department or rank.\n",
        "3. Ensure that each crew member has a unique identifier and that their information is consistent across different tables and records.\n",
        "4. Maintain the accuracy of crew member data, even when multiple users are accessing and updating the information simultaneously.\n",
        "5. Scale the crew management system to accommodate a growing crew size and evolving data requirements.\n",
        "6. Protect sensitive crew information by implementing user authentication and granting access only to authorized personnel.\n",
        "7. Analyze crew performance data, identify trends, and make data-driven decisions to optimize crew assignments and improve overall efficiency."
      ],
      "metadata": {
        "id": "m_hKaiNg4584"
      }
    },
    {
      "cell_type": "markdown",
      "source": [
        "## What is \"Data Modeling\"?\n",
        "\n",
        "The first step to the creation of a database is to create a \"data model.\" Here, **data modeling** is the process of analyzing and defining the structure, relationships, and constraints of an organization's data to create a standardized representation of the data that will be stored in a database. This representation serves as a blueprint for the database system, guiding its design, development, and maintenance.\n",
        "\n",
        "Data modeling involves understanding the business requirements, identifying the entities (objects or concepts) that need to be represented, and determining how these entities relate to each other. The goal is to create a model that accurately reflects the organization's data needs, supports its business processes, and enables efficient data management.\n",
        "\n",
        "The data modeling process typically involves three main levels of abstraction:\n",
        "\n",
        "1.  **Conceptual Data Model**: This high-level model focuses on capturing the overall structure of the data and the relationships between different entities, without delving into the specifics of implementation. At this stage, data modelers work closely with business stakeholders to understand their requirements, identify the main data entities, and define the business rules that govern the data. The conceptual model is often represented using Entity-Relationship Diagrams (ERDs), which visually depict the entities, their attributes, and the relationships between them.\n",
        "2.  **Logical Data Model**: The logical model takes the conceptual model and refines it to provide a more detailed, technology-independent representation of the data structure. At this level, data modelers decide on the specific data attributes, data types, and the relationships between entities. They also define the primary keys, foreign keys, and any constraints or rules that govern the data. The logical model is still independent of the specific database technology being used, allowing for flexibility in implementation. Depending on the organization's needs, the logical model may be represented using a relational model (for SQL databases), a document model (for NoSQL databases like MongoDB), or other data models.\n",
        "3.  **Physical Data Model**: The physical model is a technology-specific representation of the logical model, taking into account the specific database management system being used and any performance or storage considerations. This model includes details such as table structures, indexes, and data types. For the Enterprise, the physical model would be the actual implementation of the crew management system using a specific database technology, like PostgreSQL or Oracle.\n",
        "\n",
        "To illustrate the data modeling process, let's consider the Starship Enterprise's mission planning system. At the conceptual level, the data modelers would identify entities such as \"Mission,\" \"Starship,\" \"Crew Member,\" and \"Planet,\" and define the relationships between them (e.g., a Mission involves a Starship and a Crew, and may take place on a Planet). They would also define business rules, such as \"each Mission must have at least one Crew Member assigned to it.\"\n",
        "\n",
        "At the logical level, the data modelers would refine the model by adding attributes to each entity (e.g., Mission has a start date, end date, and objective), and determining the cardinality of the relationships (e.g., a Starship can have many Missions, but a Mission is associated with only one Starship). They would also choose the appropriate data model, such as a relational model, based on the organization's requirements.\n",
        "\n",
        "Finally, at the physical level, the data modelers would translate the logical model into a specific database schema, defining tables, columns, data types, and any database-specific optimizations needed to ensure efficient data storage and retrieval.\n",
        "\n",
        "By following this data modeling process, the Starship Enterprise can ensure that its mission planning system is well-structured, efficient, and aligned with the organization's needs, enabling effective data management and decision-making.\n",
        "\n",
        "In the following sections, we'll take a brief look at the most common logical data models. In later chapters, we will consider each type of modeling in much greater detail."
      ],
      "metadata": {
        "id": "8iGu-dsH7NCr"
      }
    },
    {
      "cell_type": "markdown",
      "source": [
        "## Logical Data Models: The Relational Model\n",
        "\n",
        "The **relational model** is the most widely used logical data models, particularly in SQL (Structured Query Language) databases. In the relational model, data is organized into tables (also known as relations), with each table consisting of rows (tuples) and columns (attributes). The relational model provides a simple, flexible, and powerful way to represent and manipulate data.\n",
        "\n",
        "Key concepts in the relational model include:\n",
        "\n",
        "1.  **Tables**: A table is a collection of related data entries, organized into rows and columns. Each table represents a single entity or concept, such as \"Crew Member\" or \"Mission.\"\n",
        "2.  **Columns**: Each column in a table represents a specific attribute of the entity, such as \"Name,\" \"Rank,\" or \"Employee ID\" for the \"Crew Member\" table.\n",
        "3.  **Rows**: Each row in a table represents a unique instance of the entity, such as a specific crew member or mission.\n",
        "4.  **Primary Key**: A primary key is a column (or set of columns) that uniquely identifies each row in a table. For example, in the \"Crew Member\" table, the \"Employee ID\" could be the primary key.\n",
        "5.  **Foreign Key**: A foreign key is a column (or set of columns) in one table that refers to the primary key of another table, establishing a relationship between the two tables. For example, the \"Mission\" table might have a foreign key \"Crew Member ID\" that refers to the primary key \"Employee ID\" in the \"Crew Member\" table.\n",
        "6.  **Relationships**: Relationships define how tables are connected to each other based on their primary and foreign keys. The three main types of relationships are one-to-one, one-to-many, and many-to-many.\n",
        "\n",
        "To illustrate the relational model, let's consider a simplified example of the Starship Enterprise's crew management system. We'll define two tables: \"Crew Member\" and \"Department.\"\n",
        "\n",
        "**Crew Member Table**\n",
        "\n",
        "| Employee ID (PK) | Name | Rank | Department ID (FK) |\n",
        "| --- | --- | --- | --- |\n",
        "| 1 | James Kirk | Captain | 1 |\n",
        "| 2 | Spock | Commander | 2 |\n",
        "| 3 | Uhura | Lieutenant | 3 |\n",
        "| 4 | Leonard McCoy | Lieutenant | 4 |\n",
        "\n",
        "**Department Table**\n",
        "\n",
        "| Department ID (PK) | Department Name |\n",
        "| --- | --- |\n",
        "| 1 | Command |\n",
        "| 2 | Science |\n",
        "| 3 | Communications |\n",
        "| 4 | Medical |\n",
        "\n",
        "In this example, the \"Crew Member\" table has a primary key \"Employee ID\" and a foreign key \"Department ID,\" which references the primary key \"Department ID\" in the \"Department\" table. This establishes a one-to-many relationship between the two tables, as each crew member belongs to a single department, but a department can have multiple crew members.\n",
        "\n",
        "Using this relational model, the Enterprise can easily store, retrieve, and manipulate data about its crew members and departments. For example, they can query the database to find all crew members belonging to a specific department or join the two tables to retrieve the department name for each crew member.\n",
        "\n",
        "The relational model provides a strong foundation for organizing and managing data in a structured and efficient manner, and has been the dominant model since the 1970s. Leading database management software such as Oracle, MySQL, PosgtreSQL, Microsoft Access, Microsoft SQL server, and SQLite are are all based on the relational model. We'll focus much of our attention on this data model."
      ],
      "metadata": {
        "id": "ciGm9cl28TzZ"
      }
    },
    {
      "cell_type": "markdown",
      "source": [
        "## Logical Data Models: JSON and Document Databases\n",
        "\n",
        "**JSON (JavaScript Object Notation)** is a lightweight, text-based data format that has gained popularity as a way to represent and store data in NoSQL databases, particularly in **document databases**. JSON provides a flexible and intuitive structure for organizing data, making it well-suited for handling semi-structured and hierarchical data.\n",
        "\n",
        "In JSON, data is represented as **key-value pairs** and arrays. **Keys** are strings, and **values** can be various data types, such as strings, numbers, booleans, objects, or arrays. JSON supports nested objects and arrays, allowing for the creation of complex, hierarchical data structures within a single document."
      ],
      "metadata": {
        "id": "-1UWuVBc8fMq"
      }
    },
    {
      "cell_type": "markdown",
      "source": [
        "```javascript\n",
        "\n",
        "// Example of a JSON file\n",
        "// Form is key : value\n",
        "{\n",
        "  \"crew_id\": \"001\",\n",
        "  \"name\": \"James Kirk\",\n",
        "  \"rank\": \"Captain\",\n",
        "  \"ship\": \"Enterprise\",\n",
        "  \n",
        "  // Missions is an example of a \"nested\" data structure\n",
        "  \"missions\": [\n",
        "    {\n",
        "      \"mission_id\": \"M001\",\n",
        "      \"planet\": \"Vulcan\",\n",
        "      \"objective\": \"Diplomatic meeting\",\n",
        "      \"start_date\": \"2258-01-15\",\n",
        "      \"end_date\": \"2258-01-18\"\n",
        "    },\n",
        "    {\n",
        "      \"mission_id\": \"M002\",\n",
        "      \"planet\": \"Andoria\",\n",
        "      \"objective\": \"Scientific research\",\n",
        "      \"start_date\": \"2258-02-03\",\n",
        "      \"end_date\": \"2258-02-07\"\n",
        "    }\n",
        "  ],\n",
        "  \"skills\": [\"Leadership\", \"Tactics\", \"Diplomacy\"],\n",
        "  \"performance_reviews\": [\n",
        "    {\n",
        "      \"date\": \"2258-12-31\",\n",
        "      \"reviewer\": \"Admiral Pike\",\n",
        "      \"rating\": 9,\n",
        "      \"comments\": \"Exceptional leadership and decision-making skills.\"\n",
        "    }\n",
        "  ]\n",
        "}\n",
        "\n",
        "```"
      ],
      "metadata": {
        "id": "fH_ePnpC8sma"
      }
    },
    {
      "cell_type": "markdown",
      "source": [
        "Document databases, such as MongoDB and Couchbase, leverage the JSON format (or a binary variant like BSON) to store data as semi-structured documents. Each document can have a different structure, allowing for flexible and schema-less data storage. This flexibility enables developers to easily modify the data structure as application requirements evolve, without the need for costly schema migrations.\n",
        "\n",
        "Most modern \"relational\" database management systems (mentioned above) also have the ability to interact natively with JSON. Later in this book, we'll see how this works.\n",
        "\n",
        "Key features and advantages of JSON and document databases include:\n",
        "\n",
        "1.  **Flexibility**: JSON allows for the storage of semi-structured and unstructured data, accommodating evolving data requirements and enabling rapid application development.\n",
        "2.  **Scalability**: Document databases are designed to scale horizontally, distributing data across multiple servers to handle large volumes of data and high read/write throughput.\n",
        "3.  **Performance**: By storing related data together within a single document, document databases can reduce the need for expensive joins and improve read performance.\n",
        "4.  **Expressive Query Languages**: Document databases often provide expressive query languages that support complex queries, indexing, and aggregation operations on JSON data.\n",
        "\n",
        "Compared to relational databases, JSON and document databases offer a different approach to data modeling and storage. While relational databases enforce a strict, predefined schema and normalize data across multiple tables, JSON and document databases allow for flexible, denormalized data storage within a single document. This approach can simplify data modeling and improve performance for certain use cases, particularly when dealing with rapidly changing or unstructured data.\n",
        "\n",
        "However, it's important to note that relational databases still excel in scenarios that require strong data consistency, complex transactions, and rigorous ACID (Atomicity, Consistency, Isolation, Durability) properties. The choice between JSON/document databases and relational databases depends on the specific requirements of the application, such as data structure, scalability needs, and consistency guarantees.\n",
        "\n",
        "In the context of the Starship Enterprise, a document database using JSON could be used to store and manage various types of data, such as mission reports, crew profiles, and sensor readings, allowing for flexible and easily extensible data representation. The ability to nest objects and arrays within JSON documents enables the creation of rich, hierarchical data structures that can be efficiently queried and updated, supporting the diverse data management needs of the Enterprise.."
      ],
      "metadata": {
        "id": "7QtQdSu29XbM"
      }
    },
    {
      "cell_type": "markdown",
      "source": [
        "## Logical Data Models: Graph Databases\n",
        "\n",
        "Graph databases (such as **neo4j**) are a type of NoSQL database that use a graph structure to represent and store data. They focus on the relationships between data entities, making them well-suited for handling highly connected and complex data. Graph databases excel in scenarios where the relationships between data elements are as important as the data itself.\n",
        "\n",
        "In a graph database, data is represented as **nodes (vertices)** and **edges (relationships)**. Nodes represent entities, such as crew members, planets, or starships, while edges represent the connections or relationships between these entities. Both nodes and edges can have properties (key-value pairs) that store additional information about the entities and relationships.\n",
        "\n",
        "Example:"
      ],
      "metadata": {
        "id": "ZVSqN0exXalz"
      }
    },
    {
      "cell_type": "markdown",
      "source": [
        "```cypher\n",
        "// Create crew member nodes\n",
        "CREATE (kirk:CrewMember {name: \"James Kirk\", rank: \"Captain\"})\n",
        "CREATE (spock:CrewMember {name: \"Spock\", rank: \"Commander\"})\n",
        "\n",
        "// Create starship node\n",
        "CREATE (enterprise:Starship {name: \"Enterprise\", registry: \"NCC-1701\"})\n",
        "\n",
        "// Create planet node\n",
        "CREATE (vulcan:Planet {name: \"Vulcan\", classification: \"M\"})\n",
        "\n",
        "// Create mission node\n",
        "CREATE (mission:Mission {name: \"Diplomatic meeting\", objective: \"Establish relations with Vulcan\"})\n",
        "\n",
        "// Create relationships between nodes\n",
        "CREATE (kirk)-[:COMMANDS]->(enterprise)\n",
        "CREATE (enterprise)-[:VISITED]->(vulcan)\n",
        "CREATE (spock)-[:SERVES_ON]->(enterprise)\n",
        "CREATE (kirk)-[:PARTICIPATES_IN]->(mission)\n",
        "CREATE (mission)-[:TAKES_PLACE_ON]->(vulcan)\n",
        "```\n"
      ],
      "metadata": {
        "id": "a6P8sNXDXbkB"
      }
    },
    {
      "cell_type": "markdown",
      "source": [
        "In this example, we use Cypher to create nodes representing crew members (`kirk` and `spock`), a starship (`enterprise`), a planet (`vulcan`), and a mission (`mission`). We also create relationships between these nodes using the `CREATE` statement and the `[]` syntax to specify the relationship types, such as `COMMANDS`, `VISITED`, `SERVES_ON`, `PARTICIPATES_IN`, and `TAKES_PLACE_ON`.\n",
        "\n",
        "Key features and advantages of graph databases include:\n",
        "\n",
        "1.  **Efficient Traversal**: Graph databases are optimized for traversing relationships between entities, enabling fast and efficient querying of highly connected data. For example, we can easily find all the planets visited by the Enterprise using a Cypher query like:\n",
        "\n",
        "```cypher\n",
        "MATCH (enterprise:Starship)-[:VISITED]->(planet:Planet)\n",
        "RETURN planet\n",
        "```\n",
        "\n",
        "2.  **Flexible Schema**: Graph databases allow for a flexible schema, as each node and relationship can have its own set of properties, accommodating evolving data requirements. This flexibility enables us to add new properties to nodes or relationships as needed without modifying the entire database schema.\n",
        "3.  **Natural Data Representation**: Many real-world scenarios, such as social networks, recommendation systems, and knowledge graphs, can be intuitively represented using a graph structure. In the context of the Enterprise, the graph model allows us to naturally represent the relationships between crew members, starships, planets, and missions.\n",
        "4.  **Powerful Query Languages**: Graph databases often provide expressive query languages, such as Cypher (Neo4j) or Gremlin (Apache TinkerPop), that enable complex pattern matching and traversal operations. For instance, we can find the shortest path between two crew members using a Cypher query like:\n",
        "\n",
        "```cypher\n",
        "MATCH (crewMember1:CrewMember {name: \"James Kirk\"}),\n",
        "          (crewMember2:CrewMember {name: \"Spock\"}),\n",
        "          path = shortestPath((crewMember1)-[*]-(crewMember2))\n",
        "    RETURN path\n",
        "```\n",
        "\n",
        "Compared to relational databases, graph databases offer a different perspective on data modeling and querying. While relational databases normalize data and define relationships through foreign keys, graph databases prioritize the relationships between entities and store them as first-class citizens. This approach can lead to more intuitive data modeling and faster querying of highly connected data.\n",
        "\n",
        "However, graph databases may not be the best fit for all use cases. They are particularly well-suited for scenarios where the relationships between data elements are complex, frequently traversed, and subject to change. In contrast, relational databases are better suited for structured data with well-defined schemas and strong consistency requirements.\n",
        "\n",
        "In the context of the Starship Enterprise, a graph database could be used to model and analyze various relationships, such as:\n",
        "\n",
        "-   Social connections between crew members\n",
        "-   Dependency chains between ship systems and components\n",
        "-   Trade routes and diplomatic relationships between planets and civilizations\n",
        "-   Mapping of the explored universe and the connections between star systems\n",
        "\n",
        "By leveraging the power of graph databases, the Enterprise can gain valuable insights into the complex web of relationships that underlie its operations, enabling better decision-making, faster problem-solving, and more efficient exploration of the final frontier."
      ],
      "metadata": {
        "id": "BU_XHc2ZXygN"
      }
    },
    {
      "cell_type": "markdown",
      "source": [
        "## Table: Logical Models Compared\n",
        "\n",
        "| Aspect | Flat File (Linear) | Relational | Document (JSON) | Graph |\n",
        "| --- | --- | --- | --- | --- |\n",
        "| Structure | Simple, single table or file | Multiple tables with rows and columns | Documents with nested key-value pairs | Nodes and edges |\n",
        "| Schema | Fixed, minimal schema | Fixed, well-defined schema | Flexible, semi-structured schema | Flexible, schema-less or schema-optional |\n",
        "| Data Integrity | Limited, prone to redundancy | High, enforced through constraints and keys | Medium, depends on application logic | Medium to high, depending on the graph database |\n",
        "| Query Language | None or simple file operations | SQL | NoSQL query languages (e.g., MongoDB query syntax) | Graph query languages (e.g., Cypher, Gremlin) |\n",
        "| Relationships | Not explicitly defined | Explicit, using foreign keys | Implicit, through nested documents | Explicit, through edges |\n",
        "| Scalability | Limited, not suitable for large datasets | Good, but can be complex and costly at scale | High, designed for horizontal scaling | High, especially for complex, interconnected data |\n",
        "| Use Cases | Simple data storage and transfer | Traditional business applications, transactional data | Flexible applications, content management systems | Social networks, recommendation systems, IoT |\n",
        "| Performance | Dependent on file size and structure | Generally efficient, but can slow with complex joins | Fast for read-heavy operations | Efficient for traversing relationships |\n",
        "| Example | CSV, text files | MySQL, PostgreSQL | MongoDB, CouchDB | Neo4j, ArangoDB |\n",
        "\n",
        "In this table:\n",
        "\n",
        "- **Data Integrity** is the accuracy, consistency, and reliability of data stored in a database, ensuring that it remains complete, accurate, and valid over its lifecycle.\n",
        "\n",
        "= **Query Language** is the language or syntax used to retrieve, manipulate, and manage data stored in a database.\n",
        "\n",
        "- **Relationships** are the connections or associations between different entities or objects in a database, representing how they are related to each other.\n",
        "\n",
        "- **Scalability** is the ability of a database system to handle increasing amounts of data and accommodate growth in terms of data volume, traffic, and complexity.\n",
        "\n",
        "- **Use Cases** are the specific scenarios, applications, or problems that a particular database system is well-suited to address or solve.\n",
        "\n",
        "- **Performance** is the speed, efficiency, and responsiveness of a database system in executing queries, retrieving data, and performing various operations.\n",
        "\n",
        "Flat File (Linear) models are suited for simple, one-dimensional data storage. Relational models excel in scenarios requiring structured and highly interrelated data with strong consistency. Document (JSON) models offer flexibility and scalability for semi-structured data. Graph models are ideal for handling highly interconnected data with complex relationships."
      ],
      "metadata": {
        "id": "bgkhxGEuYzWi"
      }
    },
    {
      "cell_type": "markdown",
      "source": [
        "## Case Study: An Interview with Dr. Spock\n",
        "Intern: Good morning, Mr. Spock. It's an honor to have the opportunity to discuss data models with you. I've been studying the various models used on the Starship Enterprise, but I'm curious to hear your insights on their basic ideas and use cases.\n",
        "\n",
        "Spock: (raising an eyebrow) Ah, the eager pursuit of knowledge. A commendable trait in a young intern. Very well, let us explore the data models employed on the Enterprise. We shall begin with the flat file, or linear, data model.\n",
        "\n",
        "Intern: Great! So, if I understand correctly, the flat file model is essentially a simple table without any hierarchical structure, right?\n",
        "\n",
        "Spock: Precisely. The flat file model stores data in a single table, with each record following sequentially. It is the simplest form of data storage and is best suited for static, uncomplicated data that does not require complex querying or relationships.\n",
        "\n",
        "Intern: I see. So, on the Enterprise, you might use a flat file to store something like a list of crew members?\n",
        "\n",
        "Spock: Your deduction is correct. Crew member lists, inventory logs, or any data that is straightforward and does not necessitate frequent updates or intricate relationships are ideal candidates for flat file storage.\n",
        "\n",
        "Intern: That makes sense. Now, what about the relational data model? How does that differ from the flat file model?\n",
        "\n",
        "Spock: The relational data model introduces a more structured approach to data storage. It organizes data into tables with predefined relationships between them. Each table consists of rows and columns, with a primary key uniquely identifying each row. The relationships between tables are established through foreign keys.\n",
        "\n",
        "Intern: I think I get it. So, if we wanted to store and analyze mission logs, sensor data, or scientific experiments, the relational model would be more appropriate?\n",
        "\n",
        "Spock: Indeed. The relational model's ability to handle complex relationships and maintain data integrity through ACID properties makes it suitable for such use cases. It allows for efficient querying and data retrieval based on the defined relationships.\n",
        "\n",
        "Intern: Fascinating! Now, I'm curious about the document data model. I've heard it's more flexible than the relational model.\n",
        "\n",
        "Spock: Your assessment is accurate. The document data model, often represented using JSON, stores data in a semi-structured format. Each document is self-contained and can have a varying structure, providing flexibility in data representation.\n",
        "\n",
        "Intern: So, if we encountered rapidly changing data or unstructured information, like alien species details or planetary survey reports, the document model would be a good fit?\n",
        "\n",
        "Spock: Precisely. The document model's ability to store and retrieve data without a predefined schema proves advantageous in scenarios where data structures may evolve or vary significantly.\n",
        "\n",
        "Intern: That's really cool! Lastly, I've been intrigued by the graph data model. How does it differ from the others?\n",
        "\n",
        "Spock: The graph data model focuses on the relationships between entities. It represents data as nodes and edges, where nodes denote entities and edges define the connections between them. This model excels at handling highly interconnected data and complex relationships.\n",
        "\n",
        "Intern: Interesting! So, if we wanted to analyze social networks among crew members or map star systems and their connections, the graph model would be the way to go?\n",
        "\n",
        "Spock: Your analysis is spot-on, intern. Graph databases are indeed well-suited for such use cases. They allow for efficient traversal and querying of complex relationships, enabling us to uncover patterns and insights that might otherwise be difficult to discern.\n",
        "\n",
        "Intern: Thank you, Mr. Spock! Your explanations have been incredibly helpful. I feel like I have a much better understanding of the different data models and their applications on the Enterprise.\n",
        "\n",
        "Spock: (with a slight smile) Your enthusiasm for learning is quite remarkable, intern. It is my pleasure to share knowledge that contributes to the efficient operation of the Enterprise. Remember, the key to successful data modeling lies in understanding the nature of the data and aligning it with the appropriate model. With practice and continuous learning, you will undoubtedly excel in this field.\n",
        "\n",
        "Intern: I appreciate your guidance, Mr. Spock. I look forward to applying these concepts in my work on the Enterprise.\n",
        "\n",
        "Spock: Live long and prosper, intern. May your journey in data modeling be filled with fascinating discoveries and logical solutions."
      ],
      "metadata": {
        "id": "Dv_mgxmtaONN"
      }
    },
    {
      "cell_type": "markdown",
      "source": [
        "## Data Model Quiz\n",
        "Click the following cell to lauch a data model quiz."
      ],
      "metadata": {
        "id": "QIpBqLnScZ11"
      }
    },
    {
      "cell_type": "code",
      "execution_count": null,
      "metadata": {
        "colab": {
          "base_uri": "https://localhost:8080/"
        },
        "id": "qaw_ZvK421RL",
        "outputId": "beac237a-1ae9-4b8e-c920-5f2eceb87b95"
      },
      "outputs": [
        {
          "output_type": "stream",
          "name": "stdout",
          "text": [
            "Welcome to the Star Trek Logical Data Models Quiz!\n",
            "For each description, enter the corresponding data model:\n",
            "1. Flat, 2. Relational, 3. Document, 4. Graph\n",
            "\n",
            "Type 'quit' to exit the game.\n",
            "\n",
            "\n",
            "Statement: Suitable for small datasets.\n",
            "Your answer (1-4): 1\n",
            "Correct! Engage!\n",
            "\n",
            "\n",
            "Statement: Data is represented as nodes and edges.\n",
            "Your answer (1-4): 4\n",
            "Correct! Engage!\n",
            "\n",
            "\n",
            "Statement: Good for storing unstructured data.\n",
            "Your answer (1-4): quit\n",
            "Game exited early. Your final score: 2/10\n"
          ]
        }
      ],
      "source": [
        "!wget https://github.com/brendanpshea/colab-utilities/raw/main/data_model_quiz.py -nc -q\n",
        "from data_model_quiz import logical_data_models_quiz\n",
        "logical_data_models_quiz()"
      ]
    },
    {
      "cell_type": "markdown",
      "source": [
        "## Physical Models: Choosing a DBMS\n",
        "\n",
        "\n",
        "When it comes to storing and managing data for your application, you'll need to choose a suitable database system. But before diving into the different options, let's understand what a **database management system (DBMS)** is.\n",
        "\n",
        "A DBMS is software that allows you to create, organize, and interact with databases. It provides a way to store, retrieve, and manage data efficiently. Think of it as a sophisticated filing cabinet that helps you keep your data organized and easily accessible.\n",
        "\n",
        "Now, let's explore the different types of databases you can choose from:\n",
        "\n",
        "1.  **File Database (e.g., SQLite)**: Imagine you're developing a small application for a personal tricorder device. In such cases, a file database like SQLite could be a great choice. SQLite is lightweight, easy to set up, and stores the entire database as a single file on your device. It's perfect for applications that don't require multi-user access or complex data management, just like a tricorder's simple data storage needs.\n",
        "2.  **Personal Database (e.g., Microsoft Access)**: If you're building a small-scale application for managing crew member records on a single computer, a personal database like Microsoft Access might be suitable. Access provides a user-friendly interface for creating tables, forms, and reports. It's great for managing data that doesn't require extensive scalability or advanced features, similar to maintaining a local database on a starship's computer.\n",
        "3.  **Open-Source Client-Server Database (e.g., MySQL, PostgreSQL)**: When your application needs to handle multiple users and requires more advanced functionality, like managing the Enterprise's crew and mission data, an open-source client-server database like MySQL or PostgreSQL could be the way to go. These databases are powerful, scalable, and offer a wide range of features. They are ideal for web applications, content management systems, and enterprise-level solutions. Just like how the Enterprise relies on robust databases to manage its vast amount of data across multiple systems and users.\n",
        "4.  **Proprietary Client-Server Database (e.g., Oracle, SQL Server)**: For large-scale, mission-critical applications that demand high performance, reliability, and advanced features, such as managing the entire Starfleet's data, proprietary client-server databases like Oracle or SQL Server are often the choice. These databases come with extensive support, comprehensive documentation, and a wide array of tools and utilities. They are trusted by large organizations, similar to how Starfleet would rely on top-notch database systems to handle its critical data.\n",
        "5.  **NoSQL Database (e.g., MongoDB, Cassandra)**: In some cases, your application might deal with unstructured or semi-structured data, such as sensor readings from the Enterprise's scientific instruments or logs from various starship systems. NoSQL databases, like MongoDB or Cassandra, are designed to handle such data efficiently. They provide flexibility, scalability, and high performance for handling large volumes of diverse data types. Just like how the Enterprise would use specialized databases to store and analyze complex data from its missions.\n",
        "\n",
        "Now, let's consider some factors that would influence the Enterprise's choice of database:\n",
        "\n",
        "-   **Scale of the application**: Is it a small, single-user app like a personal tricorder, or a large-scale, multi-user system like the Enterprise's main computer?\n",
        "-   **Data complexity**: How complex is the data structure? Does it need advanced querying and data manipulation capabilities, like analyzing sensor data from a newly discovered planet?\n",
        "-   **Performance requirements**: How fast does the database need to be? Will it handle a high volume of transactions, like managing real-time data during a critical mission?\n",
        "-   **Scalability**: Does the application need to grow over time, like expanding to manage data from multiple starships or starbases?\n",
        "-   **Budget**: What's the budget for the database system? Can the Starfleet afford the licensing and maintenance costs of proprietary solutions, or would open-source alternatives be more cost-effective?\n",
        "\n",
        "By considering these factors and understanding the different types of databases available, the Enterprise can make an informed decision that aligns with its mission requirements.\n",
        "\n",
        "For example, for managing simple crew member records on a single computer, a personal database like Microsoft Access would suffice. However, for handling the vast amount of data generated by the Enterprise's sensors, scientific instruments, and logs, a combination of an open-source client-server database like PostgreSQL and a NoSQL database like MongoDB would be more suitable."
      ],
      "metadata": {
        "id": "KhQxGTYlfPqx"
      }
    },
    {
      "cell_type": "markdown",
      "source": [
        "### Table: Leading Database Management Systmes\n",
        "| DBMS | Description | Supported Logical Models |\n",
        "| --- | --- | --- |\n",
        "| Oracle | A powerful, enterprise-level database system known for its scalability and reliability, often used by large organizations. | Relational, JSON, XML, Spatial |\n",
        "| MySQL | A popular, open-source database system widely used for web applications, offering simplicity and good performance. | Relational, JSON (MySQL 5.7+) |\n",
        "| Microsoft SQL Server | A robust database system developed by Microsoft, providing scalability, security, and integration with other Microsoft products. | Relational, JSON (SQL Server 2016+), XML, Spatial |\n",
        "| Microsoft Access | A user-friendly, small-scale database system included in the Microsoft Office suite, suitable for personal projects and small businesses. | Relational |\n",
        "| SQLite | A lightweight, file-based database system commonly used as an embedded database in applications, known for its simplicity and efficiency. | Relational, JSON (partial) |\n",
        "| MongoDB | A flexible, document-oriented NoSQL database that stores data in JSON-like formats, designed for scalability and agile development. | Document (JSON), Geospatial |\n",
        "| Apache Cassandra | A highly scalable, distributed NoSQL database built to handle large amounts of structured data across multiple servers. | Wide Column Store |\n",
        "| Amazon DynamoDB | A fully managed NoSQL database service provided by Amazon Web Services, offering automatic scaling and low latency data access. | Key-value, Document (JSON) |\n",
        "| PostgreSQL | A powerful, open-source database system known for its reliability, robustness, and support for advanced data types. | Relational, JSON, XML, Spatial, Key-value (Hstore) |\n",
        "| IBM Db2 | An enterprise-level database system developed by IBM, offering scalability, reliability, and advanced analytics capabilities. | Relational, JSON, XML, Spatial |"
      ],
      "metadata": {
        "id": "zfbk9RrAJvEW"
      }
    },
    {
      "cell_type": "markdown",
      "source": [
        "## Physical Modeling: Choosing Between Cloud Storage and Local Storage\n",
        "\n",
        "When it comes to storing the vast amounts of data generated by the Starship Enterprise's systems and missions, the crew faces a crucial decision: whether to use cloud storage or local storage.\n",
        "\n",
        "### Cloud Storage\n",
        "Cloud storage refers to a network of remote servers hosted by a third-party provider, offering storage and computing resources over the internet. This allows organizations to leverage infrastructure and services provided by vendors like Amazon Web Services (AWS), Microsoft Azure, or Google Cloud Platform.  Some main advantages of cloud storage include:\n",
        "\n",
        "1.   Cloud storage provides virtually unlimited **scalability**, allowing the database to grow without physical hardware upgrades.\n",
        "2.  Data is replicated across multiple servers and data centers, ensuring high **availability** and integrity even in the event of a server failure.\n",
        "3.  Authorized crew members can access the database from anywhere with an internet connection, facilitating seamless data sharing and collaboration.\n",
        "\n",
        "Some considerations for cloud storage:\n",
        "\n",
        "1. Ensuring appropriate security measures to protect sensitive information is crucial. This includes strong authentication, encryption, and regular monitoring for potential breaches.\n",
        "2.  A stable and fast internet connection is necessary for accessing and manipulating data. Disruptions or high latency can impact performance and availability.\n",
        "\n",
        "### Local Storage\n",
        "Local storage involves storing data on the Enterprise's own computer systems. This approach offers greater control over the data and eliminates reliance on external providers. Main advantages:\n",
        "\n",
        "1.  Local storage ensures maximum confidentiality and control over sensitive or classified data.\n",
        "2.  Faster access to data, as it eliminates the need for data to travel over the internet, reducing latency.\n",
        "\n",
        "Some things to consider when opting for local storage:\n",
        "1.  Scaling the database may require physical hardware upgrades, which can be costly and time-consuming.\n",
        "2.  Planning for things like backups and disaster recovery becomes the responsibility of the Enterprise's IT team, requiring additional resources and expertise.\n",
        "\n",
        "In the end, the decision between cloud and local storage depends on the Enterprise's specific needs and priorities. Factors like scalability, accessibility, security, and control must be carefully considered. A hybrid approach, combining both cloud and local storage, may offer the best of both worlds by leveraging cloud storage for non-sensitive data and local storage for highly confidential information."
      ],
      "metadata": {
        "id": "lokm58kX3LBg"
      }
    },
    {
      "cell_type": "markdown",
      "source": [
        "## Exploring the World of Database Careers\n",
        "As a student, you might be curious about the various career paths that involve working with databases. Each role plays a crucial part in managing and utilizing an organization's data effectively. Let's dive into these roles and discover what your job duties might entail in each position.\n",
        "\n",
        "### Data Engineer\n",
        "  -   As a data engineer, your primary responsibility would be to design, build, and maintain the infrastructure that supports an organization's databases. You would be the architect of the data pipelines that bring data from various sources into the databases.\n",
        "  -   You would develop efficient processes to extract, transform, and load (ETL) data into databases, ensuring data accuracy, consistency, and readiness for analysis. It's like building a well-organized library where books (data) are cataloged and easily accessible.\n",
        "  -   You would optimize database performance by designing effective data storage schemas and creating indexes that help locate data quickly. It's similar to creating a comprehensive index for a book, making it easier to find specific information.\n",
        "  -   Collaborating with data analysts and software engineers, you would understand their data requirements and provide the necessary infrastructure to support their work. It's like being the foundation that enables others to build upon and utilize the data effectively.\n",
        "\n",
        "### Data Analyst\n",
        "  -   As a data analyst, your role would focus on extracting valuable insights and knowledge from an organization's databases to support decision-making. You would be the detective, uncovering the stories hidden within the data.\n",
        "  -   You would write complex SQL queries to retrieve, manipulate, and analyze data stored in databases. It's like using a magnifying glass to examine the details and uncover patterns and trends.\n",
        "  -   Utilizing statistical analysis and data visualization tools, you would identify patterns, trends, and anomalies in the data. You would create visually appealing and informative charts, graphs, and dashboards that help others understand the insights you've discovered.\n",
        "  -   Collaborating with different departments and stakeholders, you would understand their information needs and provide data-driven recommendations to support their goals. It's like being a consultant, offering expert advice based on the data.\n",
        "\n",
        "### Software Engineer\n",
        "  -   As a software engineer working with databases, your primary focus would be on designing, developing, and maintaining software applications that interact with databases. You would be the creator, building the tools that allow users to access and utilize the data effectively.\n",
        "  -   You would write efficient and secure code using programming languages and database APIs to enable seamless data storage, retrieval, and manipulation. It's like being a translator, enabling communication between the application and the database.\n",
        "  -   You would optimize database queries and implement caching mechanisms to ensure fast and efficient data access. It's like being a traffic controller, directing data flow and minimizing congestion.\n",
        "  -   Collaborating with data engineers, you would ensure smooth integration between the applications and databases, creating a cohesive and efficient system.\n",
        "\n",
        "\n",
        "### Database Administrator (DBA)\n",
        "  -   As a database administrator, your primary responsibility would be to ensure the security, integrity, and availability of an organization's databases. You would be the guardian, protecting the data and keeping the databases running smoothly.\n",
        "  -   You would install, configure, and maintain database management systems (DBMS) such as MySQL, PostgreSQL, or Oracle. It's like being a mechanic, ensuring the database engines are well-oiled and running efficiently.\n",
        "  -   Creating and managing user accounts, granting appropriate access permissions, and implementing security measures would be part of your daily tasks. You would be the gatekeeper, controlling who can access the data and safeguarding it from unauthorized access.\n",
        "  -   You would monitor database performance, tune parameters, and optimize queries to ensure optimal efficiency. It's like being a doctor, diagnosing and treating any issues to keep the databases healthy.\n",
        "  -   Developing and implementing backup and recovery strategies would be crucial to protect against data loss. You would be the safety net, ensuring that data can be restored in case of any emergencies.\n",
        "\n",
        "As you can see, each role in the world of databases is essential and interconnected. Data engineers build the foundation, data analysts uncover insights, software engineers create the tools to interact with data, and database administrators ensure the security and reliability of the databases."
      ],
      "metadata": {
        "id": "k5uhnTdN5q6-"
      }
    },
    {
      "cell_type": "markdown",
      "source": [
        "## Review Questions\n",
        "\n",
        "Choose 3 (or more) of the following questions to answer in detail. Some of these might require outside research, and you are welcome to use things like StackOVerflow, Wikipedia, various chatBots, etc. However, the goal is that *you* should be able to explain these things (for example, on an exam).\n",
        "\n",
        "1. How can the Starship Enterprise utilize databases to optimize its crew management and mission planning processes?\n",
        "2. Discuss the benefits and drawbacks of using a relational database versus a flat file for storing and managing the Enterprise's inventory data.\n",
        "3. Imagine you are a software engineer tasked with developing a new application for the Enterprise. How would you determine which logical data model (relational, document, or graph) to use?\n",
        "4. As a data analyst aboard the Enterprise, how would you use data mining techniques on a document database to identify patterns and insights from unstructured mission reports?\n",
        "5. Explain how the Enterprise can leverage a graph database to analyze the relationships between planets, species, and diplomatic treaties to inform its decision-making process.\n",
        "6. Discuss the importance of data consistency and integrity in the context of the Enterprise's scientific experiments and research data.\n",
        "7. How can the Enterprise ensure data security and privacy when storing sensitive information, such as personal crew member details or classified mission files, in a database?\n",
        "8. Imagine you are a data engineer responsible for designing the data pipeline for the Enterprise's sensor data. How would you approach the process of data extraction, transformation, and loading (ETL)?\n",
        "9. As a database administrator for the Enterprise, what strategies would you implement to ensure high availability and disaster recovery for the ship's critical databases?\n",
        "10. Discuss the potential benefits and challenges of the Enterprise adopting a hybrid approach, combining both cloud storage and local storage for its databases."
      ],
      "metadata": {
        "id": "8RQadhx2pmz4"
      }
    },
    {
      "cell_type": "markdown",
      "source": [
        "## Review With Quizlet\n",
        "Click the following cell to launch a quizlet review for this chapter."
      ],
      "metadata": {
        "id": "1iGiuClhmBVC"
      }
    },
    {
      "cell_type": "code",
      "source": [
        "%%html\n",
        "<iframe src=\"https://quizlet.com/819297827/learn/embed?i=psvlh&x=1jj1\" height=\"600\" width=\"100%\" style=\"border:0\"></iframe>"
      ],
      "metadata": {
        "colab": {
          "base_uri": "https://localhost:8080/",
          "height": 622
        },
        "id": "aSRQX_AImIb9",
        "outputId": "bb4da7c6-382a-491b-86db-c8d79a0e62dc"
      },
      "execution_count": 2,
      "outputs": [
        {
          "output_type": "display_data",
          "data": {
            "text/plain": [
              "<IPython.core.display.HTML object>"
            ],
            "text/html": [
              "<iframe src=\"https://quizlet.com/819297827/learn/embed?i=psvlh&x=1jj1\" height=\"600\" width=\"100%\" style=\"border:0\"></iframe>\n"
            ]
          },
          "metadata": {}
        }
      ]
    },
    {
      "cell_type": "markdown",
      "source": [
        "## Glossary\n",
        "\n",
        "| Term | Definition |\n",
        "| --- | --- |\n",
        "| Data | Raw, unorganized facts and figures |\n",
        "| Information | Processed, structured, and contextualized data |\n",
        "| Knowledge | Understanding and application of information |\n",
        "| Database | Structured collection of data organized for efficient storage, retrieval, and manipulation |\n",
        "| Flat (linear) file | Simple data structure that stores data in a single table or spreadsheet |\n",
        "| Data consistency | Ensuring data remains consistent and free of contradictions across all instances |\n",
        "| Data integrity | Maintaining accuracy, reliability, and overall quality of data |\n",
        "| Data model (general) | Standardized representation of data structure, relationships, and constraints |\n",
        "| Conceptual Model | High-level model focusing on overall data structure and relationships, without implementation specifics |\n",
        "| Logical Model | Detailed, technology-independent representation of data structure, refining the conceptual model |\n",
        "| Physical Model | Technology-specific representation of the logical model, considering database management system and performance |\n",
        "| Relational Model | Organizes data into tables (relations) with rows (tuples) and columns (attributes) |\n",
        "| Table (relational model) | Collection of related data entries organized into rows and columns |\n",
        "| Attribute (relational model) | Column in a table representing a specific data characteristic |\n",
        "| Primary Key (relational model) | Column(s) uniquely identifying each row in a table |\n",
        "| Foreign Key (relational model) | Column(s) in one table referring to the primary key of another table |\n",
        "| Document Model | Stores data as semi-structured documents, often using JSON format |\n",
        "| JSON | Lightweight, text-based data format for representing and storing data as key-value pairs and arrays |\n",
        "| Key (document model) | String identifying a value in a key-value pair within a JSON document |\n",
        "| Value (document model) | Data associated with a key in a key-value pair within a JSON document |\n",
        "| Graph Model | Represents data as nodes (vertices) and edges (relationships) |\n",
        "| Node (graph model) | Represents an entity in a graph database |\n",
        "| Edge (graph model) | Represents a connection or relationship between nodes in a graph database |\n",
        "| Database Management System (DBMS) | Software for creating, organizing, and interacting with databases |\n"
      ],
      "metadata": {
        "id": "UE65o83doTfb"
      }
    },
    {
      "cell_type": "code",
      "source": [],
      "metadata": {
        "id": "QsGzEp27f6dl"
      },
      "execution_count": null,
      "outputs": []
    }
  ]
}