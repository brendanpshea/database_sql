{
  "nbformat": 4,
  "nbformat_minor": 0,
  "metadata": {
    "colab": {
      "provenance": [],
      "authorship_tag": "ABX9TyPDS1iPpE229VpS7SdHsCJn",
      "include_colab_link": true
    },
    "kernelspec": {
      "name": "python3",
      "display_name": "Python 3"
    },
    "language_info": {
      "name": "python"
    }
  },
  "cells": [
    {
      "cell_type": "markdown",
      "metadata": {
        "id": "view-in-github",
        "colab_type": "text"
      },
      "source": [
        "<a href=\"https://colab.research.google.com/github/brendanpshea/database_sql/blob/main/Database_11_Data_Warehouses.ipynb\" target=\"_parent\"><img src=\"https://colab.research.google.com/assets/colab-badge.svg\" alt=\"Open In Colab\"/></a>"
      ]
    },
    {
      "cell_type": "markdown",
      "source": [
        "# Introduction to Data Warehouses (Incomplete)\n",
        "### Brendan Shea, PhD\n",
        "\n",
        "A **Data Warehouse** is a specific kind of database designed to help people like analysts, data scientists, and decision-makers get answers to complex questions. Unlike a traditional \"application\" database, which is geared towards handling daily transactions like adding new customer records or updating product prices, a data warehouse is optimized for digging deep into data to reveal patterns or trends. For instance, a data warehouse could help a business figure out whether sales are better in summer or winter, across multiple years and regions.\n",
        "\n",
        "The key difference between a data warehouse and a traditional application database lies in their primary functions. A traditional database is like the cash register in a store; it's essential for day-to-day operations, keeping track of each transaction as it happens. It's designed to handle lots of quick, simple queries, like checking the price of an item or updating the quantity of a product in stock. Because it's transaction-oriented, it's structured to make these operations as fast and efficient as possible.\n",
        "\n",
        "In contrast, a data warehouse is more like the store's back office, where managers and analysts look over sales data, inventory levels, and customer feedback to make longer-term decisions. It's structured to handle fewer queries, but these queries are much more complex and pull data from multiple sources. This is why data warehouses often use a different kind of data organization, like denormalization and Star Schema, to make these complex queries faster to run."
      ],
      "metadata": {
        "id": "kge4Ujm7l2Bp"
      }
    },
    {
      "cell_type": "markdown",
      "source": [
        "## Introduction to the Zombies! Case Study\n",
        "\n",
        "In this case study, you find yourself in the role of a data scientist at the Center for Disease Control and Prevention (CDC), the national public health agency of the United States. Your mission is urgent and of the highest importance: a Zombie Outbreak has occurred, and it's spreading at an alarming rate. Traditional methods of containment have proven ineffective, and the situation is escalating. The CDC has been tasked with synthesizing data from a myriad of sources to develop a strategy for containment and, ultimately, eradication of this unprecedented threat.\n",
        "\n",
        "The data you'll be working with comes from diverse origins---hospital records, military intelligence, social media feeds, satellite imagery, and more. Each data source provides a piece of the puzzle, and it's your job to assemble these pieces into a coherent and actionable picture. You'll be using Postgres as your data warehousing solution to integrate these disparate data sets.\n",
        "\n",
        "In this context, application databases might help hospitals keep track of current patient records and immediate resource allocation. But a data warehouse would help the CDC analyze trends across *many* communities, like how the outbreak is spreading across regions, the effectiveness of various treatments over time, or how different variables like weather or population density affect the rate of infection\n",
        "\n",
        "The stakes are high. Decisions based on your analyses will directly impact the deployment of resources, from medical supplies to military interventions. Time is of the essence, and the tools at your disposal, including the data warehouse, must be wielded with both speed and precision. This case study will guide you through the key questions and challenges you'll face in this high-pressure scenario, providing you with the technical know-how to navigate the complexities of data warehousing with Postgres in the context of a global emergency."
      ],
      "metadata": {
        "id": "pgtDPm6em_0a"
      }
    },
    {
      "cell_type": "markdown",
      "source": [
        "## Data Sources\n",
        "\n",
        "Data Warehouses are typically constructed by pulling in data from many other sources, including (but not limited to) other databases. During a Zombie Outbreak, the CDC would likely draw from a diverse array of data sources to form a comprehensive understanding of the situation. These sources would include:\n",
        "\n",
        "1.  *Hospital Records*  would provide real-time information on the number of infected individuals, their symptoms, and the effectiveness of treatments. This is analogous to Electronic Health Records (EHR) commonly integrated into healthcare data warehouses.\n",
        "\n",
        "2.  *Military Intelligence* reports from units engaged with zombie containment would offer insights into the effectiveness of various strategies and the spread of the outbreak. In real-world scenarios, defense departments often maintain their own data warehouses for strategic analysis.\n",
        "\n",
        "3.  To track large-scale movements of zombie hordes, *satellite imagery* would be invaluable. Geospatial data is often included in data warehouses for environmental and defense applications.\n",
        "\n",
        "4.  Public sentiment and eyewitness accounts could be scraped from *social media platforms* like Twitter or Facebook. Many businesses use social media data for sentiment analysis and market research.\n",
        "\n",
        "5.  *Traffic Cameras and CCTV* would offer ground-level visual data on zombie movements within cities. In smart cities, traffic and surveillance data are often integrated into a central data warehouse for monitoring and planning.\n",
        "\n",
        "6.  *Weather conditions* could affect the spread of the outbreak and the effectiveness of interventions. Meteorological data is commonly used in various industries like agriculture and retail for predictive analysis.\n",
        "\n",
        "7.  Real-time *news updates* would provide another layer of information, especially from regions where other types of data might be scarce. Media data is often used for trend analysis and is integrated into various types of data warehouses.\n",
        "\n",
        "8.   Data from other *international or governmental organizations* like the WHO could provide a global perspective on the outbreak. In global health research, data from international organizations is often crucial.\n",
        "\n",
        "9.  Information from *utility companies* on power outages or disruptions in water supply could indicate areas with high zombie activity. Utility data is commonly used in municipal planning and emergency response.\n",
        "\n",
        "10. *Air Traffic Control* data about the movement of planes could help in understanding if and how the outbreak is spreading internationally. Transportation data, including air traffic, is often integrated into logistics and planning data warehouses.\n",
        "\n",
        "Each of these data sources would contribute to a multi-dimensional view of the crisis, allowing the CDC to make informed decisions on how best to combat the outbreak."
      ],
      "metadata": {
        "id": "os0olq-Em_9u"
      }
    },
    {
      "cell_type": "markdown",
      "source": [
        "## Extract, Transform, Load (ETL)\n",
        "\n",
        "Imagine you're at the helm of the CDC's data operations during a Zombie Outbreak. You have a plethora of data coming in from hospital records, military intelligence, satellite imagery, and more. Each of these data sources has its own format, structure, and level of granularity. Some data might be in real-time, while others might be batch-updated every 24 hours. The challenge now is to harmonize this cacophony of data into a symphony of insights. This is the essence of the ETL process.\n",
        "\n",
        "**Extract--** The first step is to extract the data from these various sources. Whether it's pulling in a CSV file from a military server, querying a hospital's database, or using an API to get real-time weather conditions, the extraction process is about getting access to the data.\n",
        "\n",
        "**Transform--** Once you have the raw data, it's rarely in the perfect state for analysis. Maybe the hospital records use one format for dates, while the military intelligence uses another. Perhaps the sentiment data from social media needs to be categorized into positive, neutral, or negative. The transform step is where you clean, enrich, and otherwise prepare the data for its final destination.\n",
        "\n",
        "**Load--** The last step is to load this now-transformed data into your data warehouse. This is where it will live, ready for querying and analysis as you make life-and-death decisions in combating the zombie apocalypse.\n",
        "\n",
        "The ETL process is the logistical backbone that enables organizations to draw actionable insights from a sea of disparate data. Without ETL, your data warehouse is like a library without a catalog: full of information, but nearly impossible to use effectively."
      ],
      "metadata": {
        "id": "iksCkM44p2Tk"
      }
    },
    {
      "cell_type": "markdown",
      "source": [
        "To understand how this works, it will be helpful to consider a few examples:\n",
        "\n",
        "### Example 1: Hospital Records\n",
        "\n",
        "*Extract--*The first step would involve pulling in data from various hospitals about the number of infected individuals, their symptoms, and the effectiveness of treatments. This could be done through an API that the hospitals expose or by accessing a shared database.\n",
        "\n",
        "*Transform--*The raw data might have inconsistencies like different units of measurement (e.g., temperature in Fahrenheit or Celsius) or varying formats for patient IDs. The transformation step would standardize these units and formats. It might also categorize symptoms into broader categories like 'mild,' 'moderate,' or 'severe' to make analysis easier.\n",
        "\n",
        "*Load--*Finally, this cleaned and transformed data would be loaded into the CDC's data warehouse into a table specifically designed for medical records, ready for querying and analysis.\n",
        "\n",
        "### Example 2: Military Intelligence\n",
        "\n",
        "*Extract--*Reports from military units engaged with zombie containment would be sent in various formats: text files, PDFs, or even voice recordings. These would first be extracted and converted into a readable format.\n",
        "\n",
        "*Transform--*The transformation step would involve parsing these different formats into structured data. For example, key information like the number of zombies encountered, the number of soldiers involved, and the geographic coordinates of the engagement would be extracted and standardized.\n",
        "\n",
        "*Load--*This structured data would then be loaded into a separate table in the data warehouse, designed to store military intelligence. This table might have foreign key relationships with other tables, like geographic locations or time data.\n",
        "\n",
        "### Example 3: Social Media Sentiment\n",
        "\n",
        "*Extract--*Public sentiment and eyewitness accounts could be scraped from social media platforms like Twitter or Facebook using their respective APIs.\n",
        "\n",
        "*Transform--*The raw social media data would likely be unstructured text. Natural Language Processing (NLP) algorithms could be applied to categorize the sentiment of each post as 'positive,' 'negative,' or 'neutral.' Geolocation data could also be extracted to determine the location of each post.\n",
        "\n",
        "*Load--*This transformed data would be loaded into a table designed to store public sentiment. This could then be joined with other tables in the data warehouse to provide a multi-dimensional view of the public's reaction to the outbreak and the effectiveness of containment measures.\n",
        "\n",
        "Each of these examples demonstrates how the ETL process takes raw, disparate data and turns it into a structured, queryable form that can provide invaluable insights, especially in a crisis situation like a zombie outbreak."
      ],
      "metadata": {
        "id": "xKJ_ok0ZqUhZ"
      }
    },
    {
      "cell_type": "markdown",
      "source": [
        "### Table: Common Issues in ETL\n",
        "| Common Issues  | Standard Solutions |\n",
        "| --- | --- |\n",
        "| **Missing Values-**-For instance, some hospital records might lack temperature readings for patients. | Imputation methods can be used to fill in missing values, such as using the mean, median, or a specific constant. Alternatively, records with missing values can be excluded from certain analyses. |\n",
        "| **nconsistent Formats--**Military reports might use different date formats like MM-DD-YYYY or YYYY-MM-DD. | Standardize the format during the transformation step, converting all dates to a single, consistent format. |\n",
        "| **Duplicate Records--**Multiple social media posts might be scraped that are essentially the same, perhaps due to retweets or reposts. | Deduplication methods can be applied to remove or consolidate duplicate records. |\n",
        "| **Data Type Mismatch--**A column expected to contain integers has some entries stored as text (e.g., 'ten' instead of 10). | Convert all entries to a consistent data type, possibly flagging or removing entries that cannot be converted. |\n",
        "| **Outliers--**In a dataset of zombie sightings, one entry reports an implausibly large number of zombies. | Outliers can be truncated, transformed, or removed based on the specific requirements of the analysis. |\n",
        "| **Unstructured Data--**Raw text from social media or PDF reports from military intelligence. | Text parsing and Natural Language Processing (NLP) can be used to extract structured information from unstructured data. |\n",
        "| **Data Skew--**Most of the data is from one geographic location, making it unrepresentative. | Data balancing techniques can be applied, or the skew can be accounted for in the analysis phase. |\n",
        "| **Temporal Issues--**Data from different time zones, leading to inconsistencies. | Convert all time data to a standard time zone, usually Coordinated Universal Time (UTC). |"
      ],
      "metadata": {
        "id": "jxWt7LaHrRp8"
      }
    },
    {
      "cell_type": "markdown",
      "source": [
        "## How to Structure Data Warehouses\n",
        "As mentioned above, application databases primarily serve to facilitate transactional operations, which are essential for the day-to-day functioning of various applications. For instance, when a user signs up on a website, makes a purchase, or updates their profile, these actions are handled by an application database. The database is optimized for quick, real-time read and write operations. It's structured to efficiently handle a large number of simple queries that insert, update, or delete individual records. The focus is on data integrity and consistency, ensuring that all transactions are processed reliably. Here, **data normalization**  and **transaction (ACID)** support is highly important. In the context of a Zombie outbreak, for example, we might have the following application databases:\n",
        "\n",
        "1. *Emergency Response System Database--*This database would manage real-time information related to emergency responses, such as the dispatch of medical teams, allocation of medical supplies, and tracking of emergency vehicles.\n",
        "    - Normalization would be crucial to avoid redundancy and ensure data integrity. For example, if an emergency vehicle is dispatched to multiple locations, normalization would prevent the need to enter the vehicle's details multiple times, reducing the risk of errors.\n",
        "    - Transactions are vital to ensure that when an emergency team is dispatched, all relevant tables are updated atomically. For instance, if a medical team is sent to a location, the database should simultaneously update the team's status to 'dispatched' and decrement the available medical teams count. Failure in any part of this transaction could lead to incorrect data, such as dispatching the same team twice.\n",
        "\n",
        "2. *Quarantine Facility Management Database--*This database would manage the occupancy, resource allocation, and status of various quarantine facilities.\n",
        "    - Normalization would help in efficiently managing resources like beds, medical supplies, and personnel. By keeping these details in separate but linked tables, the database can ensure that any changes to resource availability are consistently reflected across all relevant records.\n",
        "\n",
        "    - When admitting a new patient to a quarantine facility, multiple tables like 'Available Beds,' 'Patient Records,' and 'Medical Supplies' would need to be updated. Transactions ensure that these updates are atomic, maintaining data consistency. For example, admitting a patient should only be successful if a bed is available and medical supplies are sufficient.\n",
        "\n",
        "In each of these examples, normalization ensures data integrity and minimizes redundancy, while transactions ensure that all database operations are atomic and consistent, which is crucial for the real-time, high-stakes environment of a Zombie Outbreak.\n"
      ],
      "metadata": {
        "id": "9OVVsPkCshAH"
      }
    },
    {
      "cell_type": "markdown",
      "source": [
        "### Why Warehouses are Different\n",
        "\n",
        "Data warehouses, on the other hand, are built for a different purpose: they are optimized for analytical processing. Unlike application databases, which are concerned with individual transactions, data warehouses are designed to handle complex queries that may involve aggregating or comparing large sets of data. These queries are often read-heavy and require scanning multiple tables to generate reports, identify trends, or make forecasts. The primary goal is to enable fast, efficient data retrieval for analysis, often at the expense of quick data modification capabilities.\n",
        "\n",
        "The differing purposes of application databases and data warehouses have significant implications for how they are structured. In an application database, the schema is usually normalized to minimize data redundancy. This makes it easier to maintain data integrity but can make complex queries slower because they may require data to be gathered from multiple tables.\n",
        "\n",
        "In contrast, a data warehouse often employs **denormalized schemas** , like the Star Schema or Snowflake Schema, to speed up query performance. Denormalization involves storing redundant data to reduce the need for complex joins during queries, thereby making data retrieval faster. In our Zombie Outbreak scenario, for example, a denormalized schema might store each patient's full information alongside each medical record, rather than storing it in a separate table. This would make it quicker to generate comprehensive reports on patient statuses.\n",
        "\n",
        "Additionally, data warehouses often use specialized indexing and partitioning strategies to further optimize query performance. Materialized views, which store the results of complex queries for quick retrieval, are another common feature in data warehouses but are rarely used in application databases.\n",
        "\n",
        "In summary, the structure of your data repository---be it an application database or a data warehouse---will be heavily influenced by its primary function. Understanding these functions and their implications is crucial when designing a system, especially one that needs to handle the complexities and urgencies of a situation like a Zombie Outbreak."
      ],
      "metadata": {
        "id": "iqYnoDMNs_B6"
      }
    },
    {
      "cell_type": "markdown",
      "source": [
        "### Structuring the Data Warehouse: The Role of Denormalization\n",
        "\n",
        "In contrast to application databases, where normalization is often a priority, data warehouses commonly employ Denormalization as a strategy to improve query performance. Denormalization involves combining tables in a way that makes data retrieval more straightforward and faster, even if it means introducing some level of data redundancy. For example, we might choose to (intentionally) keep our tables in 1NF, rather than 3NF.\n",
        "\n",
        "#### What is Denormalization?\n",
        "\n",
        "Denormalization is the process of consolidating multiple tables into fewer tables, often by including redundant data. For example, instead of having a separate table for 'Patient Information' and another for 'Medical Records,' a denormalized table might include columns from both original tables. This reduces the need for complex joins when querying, thereby speeding up data retrieval.\n",
        "\n",
        "#### Why Denormalization?\n",
        "\n",
        "1.  By reducing the need for joins, denormalization makes queries run faster. This is crucial in a high-stakes, time-sensitive scenario like a Zombie Outbreak, where quick data analysis can be a matter of life and death.\n",
        "\n",
        "2.  Denormalization often results in tables that are easier to query because all the data needed for a particular analysis is stored together. This is particularly useful for less technical users who may need to query the data but are not familiar with complex SQL joins.\n",
        "\n",
        "3.  Data warehouses are primarily used for read-heavy operations like data analysis and reporting. Denormalization is aligned with this purpose, as it optimizes for fast read operations at the expense of making write operations more complex due to the redundancy.\n",
        "\n",
        "#### Considerations\n",
        "\n",
        "While denormalization has its advantages, it's not without trade-offs:\n",
        "\n",
        "1.  Storing redundant data increases the risk of inconsistencies. For example, if a patient's address is stored in multiple places, an update to one may not automatically reflect in the others.\n",
        "\n",
        "2.  Redundant data means you'll need more storage space, which could increase costs.\n",
        "\n",
        "3.  Because the same piece of data might exist in multiple places, write and update operations can become more complex and time-consuming.\n",
        "\n",
        "In the context of a Zombie Outbreak, the data warehouse might include denormalized tables that combine patient information with medical records, or military unit details with their activity logs. This would enable quicker generation of comprehensive reports, whether it's to analyze the effectiveness of a treatment or to strategize the deployment of military units."
      ],
      "metadata": {
        "id": "N3zznEkJtiaY"
      }
    },
    {
      "cell_type": "markdown",
      "source": [
        "### Using the Star Schema for Data Warehouses\n",
        "\n",
        "After discussing denormalization, which is about keeping related data together to make it easier to manage, we're now going to explore a specific way to organize this data: the Star Schema.\n",
        "\n",
        "#### Why Star Schema?\n",
        "\n",
        "Imagine you're part of a team that's trying to understand a zombie outbreak. You need to know where the zombies are appearing, when they're most active, and how effective your team's response has been. You could keep all this information in one massive table, but that would be overwhelming and inefficient.\n",
        "\n",
        "The Star Schema helps by organizing this data into a central table and several related tables. This makes it easier to find the specific information you need, much like how a well-organized filing cabinet lets you quickly locate important documents.\n",
        "\n",
        "#### How Does It Work?\n",
        "\n",
        "In the Star Schema, the **fact table** is the central table that contains the primary information you're interested in. In our zombie example, this would be the `ZombieEncounters` table. This table holds key metrics like the number of zombies encountered (`NumberOfZombies`) and the number of civilians involved (`CiviliansInvolved`).\n",
        "\n",
        "Then, we have **dimension tables** that provide additional context for each of these encounters. For instance, the `Time` table gives us detailed information about when each encounter occurred, including the date, hour, minute, and second. The `Location` table tells us where the encounter happened, specifying the city, state, and even geographical coordinates like latitude and longitude. The `ResponseTeam` table provides information about the team that responded to the encounter, such as the team's name, size, and any special equipment they used."
      ],
      "metadata": {
        "id": "5guGOkWgvW85"
      }
    },
    {
      "cell_type": "markdown",
      "source": [
        "## A STAR-ry ERD\n",
        "The STAR schema is named because it appears (roughly) as a \"star\" with the center being the \"fact\" table and the points being the \"dimensions\" tables."
      ],
      "metadata": {
        "id": "IcSEyDT7_oH8"
      }
    },
    {
      "cell_type": "markdown",
      "source": [
        "![Untitled.png](data:image/png;base64,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)"
      ],
      "metadata": {
        "id": "0aY5u0jqAMBF"
      }
    },
    {
      "cell_type": "markdown",
      "source": [
        "## Questions: Data Warehousing\n",
        "1. Why do you think organizations use data warehouses instead of just sticking with traditional databases? Discuss the key differences between the two and the advantages of using a data warehouse for analytical tasks.\n",
        "\n",
        "2. Explain the ETL (Extract, Transform, Load) process in your own words. Why is each step important, and what could go wrong if one of these steps is not performed correctly?\n",
        "\n",
        "3. The Star Schema is a popular way to structure a data warehouse. Can you think of a real-world scenario, other than the Zombie Outbreak, where a Star Schema would be useful? What would be the fact table, and what would be the dimension tables?\n",
        "\n",
        "4. Discuss the concept of denormalization in data warehouses. Why might denormalization be beneficial for a data warehouse but not for a transactional database? Can you think of any downsides to denormalization?\n",
        "\n",
        "\n",
        "5. In our Zombie Outbreak example, the Time table is one of the dimensions. Why do you think time is often included as a dimension in data warehouses? Can you think of any analytical questions that could be answered by including time as a dimension?"
      ],
      "metadata": {
        "id": "XQG3raRDHWsI"
      }
    },
    {
      "cell_type": "markdown",
      "source": [
        "## Answers: Data Warehouses\n",
        "1.\n",
        "\n",
        "2.\n",
        "\n",
        "3.\n",
        "\n",
        "4."
      ],
      "metadata": {
        "id": "_3vaLGbvHuxg"
      }
    },
    {
      "cell_type": "code",
      "source": [],
      "metadata": {
        "id": "cvzD18O-HV7d"
      },
      "execution_count": null,
      "outputs": []
    },
    {
      "cell_type": "markdown",
      "source": [
        "#### STAR in SQL\n",
        "In the following SQL code, we're creating these tables using the `CREATE TABLE` command. When we specify `PRIMARY KEY`, we're creating a unique identifier for each record in that table. This is like having a unique code for each document in a filing cabinet, making it easier to find later. The `REFERENCES` keyword establishes a link between the central fact table and the dimension tables. This tells the database how these tables are connected, so we can easily pull information from multiple tables when we need to.\n",
        "\n",
        "By organizing our data this way, the Star Schema makes it easier to perform complex queries and analyses. It allows us to quickly find answers to important questions, like identifying the times and locations with the most zombie activity, or evaluating the effectiveness of different response teams."
      ],
      "metadata": {
        "id": "IiYHwq3svZAf"
      }
    },
    {
      "cell_type": "code",
      "source": [
        "# Load Postgres\n",
        "!apt install postgresql postgresql-contrib &>log\n",
        "!service postgresql start\n",
        "!sudo -u postgres psql -c \"CREATE USER root WITH SUPERUSER\"\n",
        "# set connection\n",
        "%load_ext sql\n",
        "%sql postgresql+psycopg2://@/postgres"
      ],
      "metadata": {
        "colab": {
          "base_uri": "https://localhost:8080/"
        },
        "id": "ve94kMbNw8eO",
        "outputId": "49d59747-276a-451d-e32a-8ae1fa93e43b"
      },
      "execution_count": 1,
      "outputs": [
        {
          "output_type": "stream",
          "name": "stdout",
          "text": [
            " * Starting PostgreSQL 14 database server\n",
            "   ...done.\n",
            "CREATE ROLE\n"
          ]
        }
      ]
    },
    {
      "cell_type": "code",
      "source": [
        "%%sql\n",
        "-- Create the Time dimension table\n",
        "DROP TABLE IF EXISTS Time CASCADE;\n",
        "CREATE TABLE Time (\n",
        "    TimeID SERIAL PRIMARY KEY,\n",
        "    Date DATE,\n",
        "    Hour INT,\n",
        "    Minute INT,\n",
        "    Second INT\n",
        ");"
      ],
      "metadata": {
        "colab": {
          "base_uri": "https://localhost:8080/"
        },
        "id": "gZTKBHtvm0r2",
        "outputId": "150866fa-2802-4b02-a033-db4e9548c01f"
      },
      "execution_count": 2,
      "outputs": [
        {
          "output_type": "stream",
          "name": "stdout",
          "text": [
            " * postgresql+psycopg2://@/postgres\n",
            "Done.\n",
            "Done.\n"
          ]
        },
        {
          "output_type": "execute_result",
          "data": {
            "text/plain": [
              "[]"
            ]
          },
          "metadata": {},
          "execution_count": 2
        }
      ]
    },
    {
      "cell_type": "code",
      "source": [
        "%%sql\n",
        "DROP TABLE IF EXISTS Location CASCADE;\n",
        "-- Create the Location dimension table\n",
        "CREATE TABLE Location (\n",
        "    LocationID SERIAL PRIMARY KEY,\n",
        "    City VARCHAR(50),\n",
        "    State VARCHAR(50),\n",
        "    Country VARCHAR(50),\n",
        "    Latitude FLOAT,\n",
        "    Longitude FLOAT\n",
        ");"
      ],
      "metadata": {
        "colab": {
          "base_uri": "https://localhost:8080/"
        },
        "id": "NqgIy61Ixu2H",
        "outputId": "354d0f64-c38b-4fed-8198-275e1e2d29d7"
      },
      "execution_count": 3,
      "outputs": [
        {
          "output_type": "stream",
          "name": "stdout",
          "text": [
            " * postgresql+psycopg2://@/postgres\n",
            "Done.\n",
            "Done.\n"
          ]
        },
        {
          "output_type": "execute_result",
          "data": {
            "text/plain": [
              "[]"
            ]
          },
          "metadata": {},
          "execution_count": 3
        }
      ]
    },
    {
      "cell_type": "code",
      "source": [
        "%%sql\n",
        "DROP TABLE IF EXISTS ResponseTeam CASCADE;\n",
        "-- Create the ResponseTeam dimension table\n",
        "CREATE TABLE ResponseTeam (\n",
        "    TeamID SERIAL PRIMARY KEY,\n",
        "    TeamName VARCHAR(50),\n",
        "    TeamSize INT,\n",
        "    SpecialEquipment VARCHAR(100)\n",
        ");"
      ],
      "metadata": {
        "colab": {
          "base_uri": "https://localhost:8080/"
        },
        "id": "iy5YzxMCx1gd",
        "outputId": "d4ea05cb-5098-4572-e382-c57282eba186"
      },
      "execution_count": 5,
      "outputs": [
        {
          "output_type": "stream",
          "name": "stdout",
          "text": [
            " * postgresql+psycopg2://@/postgres\n",
            "Done.\n",
            "Done.\n"
          ]
        },
        {
          "output_type": "execute_result",
          "data": {
            "text/plain": [
              "[]"
            ]
          },
          "metadata": {},
          "execution_count": 5
        }
      ]
    },
    {
      "cell_type": "code",
      "source": [
        "%%sql\n",
        "DROP TABLE IF EXISTS ZombieEncounters CASCADE;\n",
        "-- Create the central fact table: ZombieEncounters\n",
        "CREATE TABLE ZombieEncounters (\n",
        "    EncounterID SERIAL PRIMARY KEY,\n",
        "    TimeID INT REFERENCES Time(TimeID),\n",
        "    LocationID INT REFERENCES Location(LocationID),\n",
        "    TeamID INT REFERENCES ResponseTeam(TeamID),\n",
        "    NumberOfZombies INT,\n",
        "    CiviliansInvolved INT,\n",
        "    SuppliesUsed VARCHAR(100)\n",
        ");\n"
      ],
      "metadata": {
        "colab": {
          "base_uri": "https://localhost:8080/"
        },
        "id": "CJRFsF3lx8C0",
        "outputId": "5c9a6000-7137-4f3e-a602-9851bb612ebf"
      },
      "execution_count": 6,
      "outputs": [
        {
          "output_type": "stream",
          "name": "stdout",
          "text": [
            " * postgresql+psycopg2://@/postgres\n",
            "Done.\n",
            "Done.\n"
          ]
        },
        {
          "output_type": "execute_result",
          "data": {
            "text/plain": [
              "[]"
            ]
          },
          "metadata": {},
          "execution_count": 6
        }
      ]
    },
    {
      "cell_type": "markdown",
      "source": [
        "### Inserting Sample Zombie Data\n",
        "Now, let's insert some sample Zombie data, so that we can test out our data warehouse."
      ],
      "metadata": {
        "id": "bRt_4m8xHGSU"
      }
    },
    {
      "cell_type": "code",
      "source": [
        "%%sql\n",
        "--Delete existing data\n",
        "DELETE FROM ZombieEncounters CASCADE;\n",
        "\n",
        "-- Insert representative data into the Time dimension table\n",
        "INSERT INTO Time (Date, Hour, Minute, Second) VALUES\n",
        "('2033-10-31', 14, 30, 0),\n",
        "('2033-10-31', 15, 45, 15),\n",
        "('2033-11-01', 10, 5, 30),\n",
        "('2033-11-01', 12, 15, 0),\n",
        "('2033-11-01', 16, 20, 45),\n",
        "('2033-11-02', 9, 30, 15),\n",
        "('2033-11-02', 11, 45, 0),\n",
        "('2033-11-02', 14, 10, 30),\n",
        "('2033-11-03', 8, 25, 45),\n",
        "('2033-11-03', 19, 50, 0);\n",
        "\n",
        "-- Insert representative data into the Location dimension table\n",
        "INSERT INTO Location (City, State, Country, Latitude, Longitude) VALUES\n",
        "('New York', 'New York', 'USA', 40.7128, -74.0060),\n",
        "('London', 'England', 'UK', 51.5074, -0.1278),\n",
        "('Tokyo', 'Tokyo', 'Japan', 35.6895, 139.6917);\n",
        "\n",
        "-- Insert representative data into the ResponseTeam dimension table\n",
        "INSERT INTO ResponseTeam (TeamName, TeamSize, SpecialEquipment) VALUES\n",
        "('Alpha', 5, 'Night Vision'),\n",
        "('Bravo', 6, 'Flamethrowers'),\n",
        "('Charlie', 4, 'Drones');\n",
        "\n",
        "-- Insert representative data into the ZombieEncounters fact table\n",
        "INSERT INTO ZombieEncounters (TimeID, LocationID, TeamID, NumberOfZombies, CiviliansInvolved, SuppliesUsed) VALUES\n",
        "(1, 1, 1, 25, 5, 'First Aid Kits'),\n",
        "(2, 2, 2, 40, 2, 'Ammunition'),\n",
        "(3, 3, 3, 60, 8, 'Food Supplies'),\n",
        "(4, 1, 2, 30, 4, 'First Aid Kits'),\n",
        "(5, 2, 3, 50, 3, 'Ammunition'),\n",
        "(6, 3, 1, 70, 7, 'Food Supplies'),\n",
        "(7, 1, 3, 20, 2, 'First Aid Kits'),\n",
        "(8, 2, 1, 35, 1, 'Ammunition'),\n",
        "(9, 3, 2, 55, 6, 'Food Supplies'),\n",
        "(10, 1, 2, 25, 3, 'First Aid Kits');"
      ],
      "metadata": {
        "colab": {
          "base_uri": "https://localhost:8080/"
        },
        "id": "_r-OcjW3AAga",
        "outputId": "0ced4054-05a4-48ed-d0fb-cf3778e1911c"
      },
      "execution_count": 8,
      "outputs": [
        {
          "output_type": "stream",
          "name": "stdout",
          "text": [
            " * postgresql+psycopg2://@/postgres\n",
            "0 rows affected.\n",
            "10 rows affected.\n",
            "3 rows affected.\n",
            "3 rows affected.\n",
            "10 rows affected.\n"
          ]
        },
        {
          "output_type": "execute_result",
          "data": {
            "text/plain": [
              "[]"
            ]
          },
          "metadata": {},
          "execution_count": 8
        }
      ]
    },
    {
      "cell_type": "markdown",
      "source": [
        "## Exercises\n",
        "\n",
        "1.  Select All Records from `ZombieEncounters` Table\n",
        "\n",
        "    -   Hint: Use the `SELECT` statement to retrieve all columns.\n",
        "2.  Count the Total Number of Zombie Encounters\n",
        "\n",
        "    -   Hint: Use the `COUNT` function on the `EncounterID` column.\n",
        "3.  Find the Average Number of Zombies Encountered\n",
        "\n",
        "    -   Hint: Use the `AVG` function on the `NumberOfZombies` column.\n",
        "4.  List All Unique Response Teams\n",
        "\n",
        "    -   Hint: Use the `DISTINCT` keyword on the `TeamID` column in the `ZombieEncounters` table.\n",
        "5.  Find the Total Number of Civilians Involved in New York\n",
        "\n",
        "    -   Hint: Use the `SUM` function and a `JOIN` with the `Location` table to filter by city.\n",
        "6.  Retrieve Encounters that Involved More Than 50 Zombies\n",
        "\n",
        "    -   Hint: Use the `WHERE` clause to filter records based on the `NumberOfZombies` column.\n",
        "7.  Find the Earliest and Latest Time of Encounters\n",
        "\n",
        "    -   Hint: Use the `MIN` and `MAX` functions on the `Date` column in the `Time` table.\n",
        "8.  List Encounters Sorted by Number of Zombies in Descending Order\n",
        "\n",
        "    -   Hint: Use the `ORDER BY` clause on the `NumberOfZombies` column.\n",
        "9.  Find the Total Number of Zombies Encountered by Each Team\n",
        "\n",
        "    -   Hint: Use the `GROUP BY` clause on the `TeamID` and the `SUM` function on `NumberOfZombies`.\n",
        "10. Retrieve All Encounters in London on a Specific Date\n",
        "\n",
        "    -   Hint: Use a `JOIN` with the `Location` and `Time` tables and filter using the `WHERE` clause.\n",
        "11. Update the `SuppliesUsed` for a Specific Encounter\n",
        "\n",
        "    -   Hint: Use the `UPDATE` statement and specify the `EncounterID` in the `WHERE` clause.\n",
        "12. Delete All Encounters Where No Civilians Were Involved\n",
        "\n",
        "    -   Hint: Use the `DELETE` statement and the `WHERE` clause to filter records where `CiviliansInvolved` is zero.\n",
        "13. Find the Team that Has Encountered the Most Zombies\n",
        "\n",
        "    -   Hint: Use `GROUP BY` on `TeamID` and `ORDER BY` on the sum of `NumberOfZombies`.\n",
        "14. List the Dates When More Than 100 Zombies Were Encountered\n",
        "\n",
        "    -   Hint: Use `GROUP BY` on the `Date` column in the `Time` table and having a sum of `NumberOfZombies` greater than 100.\n",
        "15. Find the Average Number of Zombies Encountered in Each Country\n",
        "\n",
        "    -   Hint: Use `GROUP BY` on the `Country` column in the `Location` table and the `AVG` function on `NumberOfZombies`."
      ],
      "metadata": {
        "id": "kjbJhXNAJBJf"
      }
    },
    {
      "cell_type": "code",
      "source": [],
      "metadata": {
        "id": "qJoVJonDJGgc"
      },
      "execution_count": null,
      "outputs": []
    }
  ]
}