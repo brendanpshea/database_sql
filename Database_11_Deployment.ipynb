{
  "nbformat": 4,
  "nbformat_minor": 0,
  "metadata": {
    "colab": {
      "provenance": [],
      "authorship_tag": "ABX9TyO793TmwdoGl7PFsgs5X2Pm",
      "include_colab_link": true
    },
    "kernelspec": {
      "name": "python3",
      "display_name": "Python 3"
    },
    "language_info": {
      "name": "python"
    }
  },
  "cells": [
    {
      "cell_type": "markdown",
      "metadata": {
        "id": "view-in-github",
        "colab_type": "text"
      },
      "source": [
        "<a href=\"https://colab.research.google.com/github/brendanpshea/database_sql/blob/main/Database_11_Deployment.ipynb\" target=\"_parent\"><img src=\"https://colab.research.google.com/assets/colab-badge.svg\" alt=\"Open In Colab\"/></a>"
      ]
    },
    {
      "cell_type": "markdown",
      "source": [
        "# Database Deployment\n",
        "### Database and SQL Through Pop Culture | Brendan Shea, PhD\n",
        "\n",
        "Deploying a robust and efficient database system is critical for the success of any organization. This chapter delves into the intricacies of database deployment, providing a comprehensive guide to planning, designing, implementing, and testing a database. Through the lens of an engaging case study--- the pizza restaurant run by the Ninja Turtles---we will explore each aspect of database deployment to equip you with the knowledge and skills required for the CompTIA DataSys exam and real-world applications.\n",
        "\n",
        "Imagine a bustling pizza restaurant in the heart of New York City, operated by none other than the Ninja Turtles. This unique establishment caters to a diverse clientele, ranging from local residents to pizza aficionados from around the world. The restaurant's operations involve managing orders, inventory, customer data, and financial transactions. To ensure smooth and efficient functioning, the restaurant requires a well-structured database that can handle high volumes of data, support multiple users, and provide fast, reliable access to information.\n",
        "\n",
        "In this chapter, we will embark on a journey through the key stages of database deployment. We will start with **database planning and design**, where we gather requirements, assess database objectives, and consider architectural factors such as cloud-based versus on-premises solutions. We will then move on to **implementation**, discussing the acquisition of assets and the various phases of deployment, including installation, configuration, and database connectivity. Finally, we will delve into the **testing and validation** phases, ensuring that the database meets the original requirements and performs optimally under various conditions.\n",
        "\n",
        "By the end of this chapter, you will have a solid understanding of the comprehensive process involved in deploying a database. Whether you are preparing for the CompTIA DataSys exam or looking to enhance your practical skills, this chapter will provide you with valuable insights and practical knowledge, all illustrated through the delightful example of the Ninja Turtles' pizza restaurant. Turtle Power!"
      ],
      "metadata": {
        "id": "_DrB-0lma8Wa"
      }
    },
    {
      "cell_type": "markdown",
      "source": [
        "## Database Planning and Design\n",
        "\n",
        "Effective database deployment begins with a meticulous process of **requirements gathering**. This initial phase involves understanding the specific needs and constraints of the system to ensure the database meets all operational demands. For our case study, the Ninja Turtles' pizza restaurant, several critical factors must be considered.\n",
        "\n",
        "The first step is to estimate the **number of users**. The database must support various user types, including restaurant staff, customers, and suppliers. Estimating the number of simultaneous users is essential for designing a system that can scale appropriately. For instance, during peak hours, multiple staff members will access the database to manage orders and inventory, while customers might be simultaneously placing orders online.\n",
        "\n",
        "Next, we must assess the **storage capacity**. This involves evaluating the expected volume of data the database will handle:\n",
        "\n",
        "-   **Size:** The database needs to store extensive data, including order history, inventory records, customer information, and financial transactions. Anticipating the amount of data generated daily, monthly, and yearly helps in planning for adequate storage.\n",
        "-   **Speed:** Speed is crucial, especially for real-time operations like order processing and inventory updates. The database should facilitate rapid data retrieval to ensure efficient service.\n",
        "-   **Type:** Identifying the types of data storage required is also essential. For structured data, a relational database might be suitable, whereas unstructured data could benefit from a NoSQL database.\n",
        "\n",
        "**Database objectives** must be clearly defined to guide its design and functionality. The primary objectives for the Ninja Turtles' pizza restaurant database include:\n",
        "\n",
        "-   **Order Processing:** Efficiently handling customer orders from multiple sources, such as in-store orders and online orders.\n",
        "-   **Inventory Management:** Real-time tracking of ingredients and supplies to ensure stock levels are maintained and wastage is minimized.\n",
        "-   **Customer Relationship Management (CRM):** Managing customer data to offer personalized service, track preferences, and conduct targeted marketing campaigns.\n",
        "-   **Financial Reporting:** Generating accurate financial statements and performance reports to aid in business decision-making and compliance.\n",
        "\n",
        "### Database Architecture Factors\n",
        "\n",
        "Designing a robust database architecture involves evaluating and planning for various critical factors.\n",
        "\n",
        "One of the first steps is to create an **inventory of needed assets**. This involves conducting a **gap analysis** to identify the current resources available and what additional assets are required. For example, the restaurant may already have some point-of-sale systems in place, but additional servers or software might be necessary to handle the increased data load.\n",
        "\n",
        "A significant decision in database architecture is choosing between a **cloud-based** solution or an **on-premises** setup. Each option has its advantages:\n",
        "\n",
        "-   **Cloud-based** solutions offer flexibility, scalability, and often lower upfront costs. They are categorized into:\n",
        "    -   **Platform as a Service (PaaS):** Provides a platform allowing customers to develop, run, and manage applications without dealing with the infrastructure.\n",
        "    -   **Software as a Service (SaaS):** Delivers fully managed software applications.\n",
        "    -   **Infrastructure as a Service (IaaS):** Offers virtualized computing resources over the internet.\n",
        "-   **On-premises** solutions provide more control over the hardware and software environment, which can be crucial for businesses with specific regulatory or security requirements.\n",
        "\n",
        "Designing the **database schema** is another critical component:\n",
        "\n",
        "-   The **logical schema** represents the abstract design of the database, focusing on how data is logically organized and related. This includes defining tables, fields, relationships, and constraints.\n",
        "-   The **physical schema** details how data is stored on physical storage media. This involves considering factors like file organization, indexing methods, and data distribution.\n",
        "-   **View schemas** provide tailored perspectives of the database to different users, ensuring they see only the relevant data they need to perform their tasks.\n",
        "\n",
        "Identifying **data sources** is also essential. For the Ninja Turtles' pizza restaurant, data might come from point-of-sale systems, online order platforms, supplier databases, and customer feedback forms. Integrating these sources ensures comprehensive data coverage and consistency.\n",
        "\n",
        "Finally, detailed **system specifications** must be defined. This includes hardware requirements, such as servers and storage devices, and software requirements, including database management systems (DBMS), middleware, and security applications. These specifications ensure the system can support the anticipated workload and provide a foundation for reliable performance.\n",
        "\n",
        "### Design Documentation\n",
        "\n",
        "Documenting the design is a critical step to ensure all stakeholders understand the database's structure and functionality.\n",
        "\n",
        "A **data dictionary** provides a comprehensive list of all data elements in the database, including their definitions, formats, and relationships. This serves as a reference for developers and users, ensuring consistency and clarity.\n",
        "\n",
        "**Entity relationship diagrams (ERDs)** visually represent the database's entities and their relationships. For our pizza restaurant, entities might include Customers, Orders, Inventory, and Suppliers, with relationships indicating how these entities interact (e.g., Customers place Orders, Orders contain Inventory items).\n",
        "\n",
        "Understanding **data cardinality**---the nature of relationships between entities (one-to-one, one-to-many, many-to-many)---is vital for accurate database design. For example, a single customer might place multiple orders, indicating a one-to-many relationship between Customers and Orders.\n",
        "\n",
        "Comprehensive **system requirements documentation** details all technical and functional requirements of the database system. This includes performance benchmarks, security protocols, backup and recovery procedures, and any specific regulatory compliance needs. Proper documentation ensures that all aspects of the database deployment are planned and can be executed systematically.\n",
        "\n",
        "By methodically gathering requirements, evaluating architectural factors, and thoroughly documenting the design, we lay a solid foundation for the successful deployment of the Ninja Turtles' pizza restaurant database."
      ],
      "metadata": {
        "id": "jIRL5oObbCue"
      }
    },
    {
      "cell_type": "markdown",
      "source": [
        "### Donatello's Database Planning Report for the Pizza Restaurant\n",
        "\n",
        "**Introduction**\n",
        "\n",
        "Hey team,\n",
        "\n",
        "We're setting up a new database to keep our pizza restaurant running like a well-oiled machine. I've been deep in the details, and here's a breakdown of what we need to do, why it's important, and my final recommendation. I'll keep it simple so Mikey and Raph can follow along, and highlight the business benefits for Leo.\n",
        "\n",
        "**Requirements Gathering**\n",
        "\n",
        "First off, we need to understand what our database needs to handle.\n",
        "\n",
        "-   **Number of Users**: We've got multiple users who'll need access. This includes our staff (around 10 employees per shift) taking orders, customers (potentially hundreds placing orders online simultaneously), and suppliers (a few updating inventory data). We need a system that can handle all this activity without slowing down.\n",
        "\n",
        "-   **Storage Capacity**:\n",
        "\n",
        "    -   We expect to store a lot of data: order history (thousands of orders per month), inventory details (hundreds of items tracked), and customer information (hundreds of profiles).\n",
        "    -   The database has to be quick to respond so we can take orders and manage inventory in real-time. If a customer orders online, we need instant updates to avoid double-booking pizzas.\n",
        "    -   We'll mostly use structured data, so a relational database fits our needs.\n",
        "-   **Database Objectives**:\n",
        "\n",
        "    -   Efficiently handle orders from the restaurant and online, making sure everything is synced so we don't miss any orders.\n",
        "    -   Keep track of our pizza ingredients and supplies in real-time. For example, if we run low on mozzarella, the database will alert us to reorder.\n",
        "    -   Manage customer data for personalized service and marketing. We can send special offers to our most loyal customers based on their order history.\n",
        "    -   Generate reports to help us make business decisions, like understanding which pizzas are most popular and when we have the most sales.\n",
        "\n",
        "**Database Architecture Factors**\n",
        "\n",
        "Next, we need to decide on the best way to set up our database:\n",
        "\n",
        "-   We already have some point-of-sale systems, but we'll need more resources like servers and software. For example, we might need a high-capacity server to handle peak times when many customers order simultaneously.\n",
        "\n",
        "-   **Cloud-based vs. On-premises**:\n",
        "\n",
        "    -   **Cloud-based solutions** are flexible and scalable, meaning we can easily adjust as our business grows. For example, if we open a new branch, we can quickly scale up our database. Cloud solutions also save us from having to manage physical hardware.\n",
        "    -   **On-premises solutions** give us more control but require more upfront investment and maintenance. Given our needs, the flexibility of the cloud seems more advantageous.\n",
        "-   **Types of Cloud-hosted Environments**:\n",
        "\n",
        "    -   **Platform as a Service (PaaS)**: Provides a platform to build and run our applications, simplifying setup and maintenance.\n",
        "    -   **Software as a Service (SaaS)**: Fully managed software applications that offer ready-made solutions.\n",
        "    -   **Infrastructure as a Service (IaaS)**: Offers virtualized computing resources that we can manage more directly.\n",
        "-   **Database Schema**:\n",
        "\n",
        "    -   We'll have tables for Customers, Orders, and Inventory, organizing how data is structured and accessed.\n",
        "    -   Data from various sources like point-of-sale systems, online orders, and supplier databases will be integrated. For example, linking our supplier's inventory system with our own to automatically update stock levels.\n",
        "    -   We need to define the hardware and software requirements to ensure our system can handle the workload. This includes having enough processing power and storage to handle all our data and transactions.\n",
        "\n",
        "**Design Documentation**\n",
        "\n",
        "Finally, we need to document everything clearly:\n",
        "\n",
        "-   We'll create a comprehensive list of all data elements in our database, including definitions, formats, and relationships.\n",
        "-   We'll use diagrams to show how different data entities (like Customers, Orders, and Inventory) relate to each other. For example, a customer can place multiple orders, and each order can contain multiple pizzas.\n",
        "\n",
        "**Recommendation**\n",
        "\n",
        "After considering all these factors, I recommend using a **cloud-based Postgres database**. Postgres is a powerful, open-source relational database that can handle our needs effectively. Specifically, we should use Google Cloud's managed Postgres service. Here's why:\n",
        "\n",
        "-   **Scalability**: As our business grows, we can easily scale our database without significant downtime or manual intervention.\n",
        "-   **Reliability**: Google Cloud provides high availability and reliable backups, ensuring our data is safe and accessible at all times.\n",
        "-   **Cost-effective**: Cloud solutions can be more cost-effective in the long run, reducing the need for heavy upfront investments in hardware and maintenance.\n",
        "-   **Flexibility**: With cloud-based solutions, we can quickly adapt to changes, such as opening new branches or adding new features to our service.\n",
        "\n",
        "In conclusion, using a cloud-based Postgres database on Google Cloud will give us the flexibility, reliability, and scalability we need to support our pizza restaurant's operations now and in the future. Let's go for it and keep those pizzas coming hot and fast!\n",
        "\n",
        "Donnie\n",
        "\n",
        "P.S. A possibe ER diagram is attached below."
      ],
      "metadata": {
        "id": "OZExA4ercgPX"
      }
    },
    {
      "cell_type": "code",
      "source": [
        "# @title\n",
        "import base64\n",
        "from IPython.display import Image, display, HTML\n",
        "\n",
        "def mm(graph):\n",
        "    graphbytes = graph.encode(\"utf8\")\n",
        "    base64_bytes = base64.b64encode(graphbytes)\n",
        "    base64_string = base64_bytes.decode(\"ascii\")\n",
        "    display(Image(url=\"https://mermaid.ink/img/\" + base64_string))\n",
        "\n",
        "mm(\"\"\"\n",
        "erDiagram\n",
        "    CUSTOMER {\n",
        "        int customer_id PK\n",
        "        string name\n",
        "        string address\n",
        "        string phone_number\n",
        "        string email\n",
        "    }\n",
        "\n",
        "    ORDER {\n",
        "        int order_id PK\n",
        "        int customer_id FK\n",
        "        date order_date\n",
        "        float total_amount\n",
        "    }\n",
        "\n",
        "    ORDER_ITEM {\n",
        "        int order_item_id PK\n",
        "        int order_id FK\n",
        "        int pizza_id FK\n",
        "        int quantity\n",
        "        float price\n",
        "    }\n",
        "\n",
        "    PIZZA {\n",
        "        int pizza_id PK\n",
        "        string name\n",
        "        string description\n",
        "        float price\n",
        "    }\n",
        "\n",
        "    INVENTORY {\n",
        "        int inventory_id PK\n",
        "        string item_name\n",
        "        int quantity\n",
        "        string supplier\n",
        "    }\n",
        "\n",
        "    SUPPLIER {\n",
        "        int supplier_id PK\n",
        "        string name\n",
        "        string contact_info\n",
        "    }\n",
        "\n",
        "    CUSTOMER ||--o{ ORDER: places\n",
        "    ORDER ||--|{ ORDER_ITEM: contains\n",
        "    ORDER_ITEM ||--|| PIZZA: references\n",
        "    INVENTORY ||--|| SUPPLIER: provided_by\n",
        "\n",
        "\n",
        "\"\"\")"
      ],
      "metadata": {
        "colab": {
          "base_uri": "https://localhost:8080/",
          "height": 853
        },
        "id": "yAN0CgwSdDLG",
        "outputId": "79ef103f-0c57-4b32-9a9e-60daf91f030d",
        "cellView": "form"
      },
      "execution_count": 1,
      "outputs": [
        {
          "output_type": "display_data",
          "data": {
            "text/html": [
              "<img src=\"https://mermaid.ink/img/CmVyRGlhZ3JhbQogICAgQ1VTVE9NRVIgewogICAgICAgIGludCBjdXN0b21lcl9pZCBQSwogICAgICAgIHN0cmluZyBuYW1lCiAgICAgICAgc3RyaW5nIGFkZHJlc3MKICAgICAgICBzdHJpbmcgcGhvbmVfbnVtYmVyCiAgICAgICAgc3RyaW5nIGVtYWlsCiAgICB9CgogICAgT1JERVIgewogICAgICAgIGludCBvcmRlcl9pZCBQSwogICAgICAgIGludCBjdXN0b21lcl9pZCBGSwogICAgICAgIGRhdGUgb3JkZXJfZGF0ZQogICAgICAgIGZsb2F0IHRvdGFsX2Ftb3VudAogICAgfQoKICAgIE9SREVSX0lURU0gewogICAgICAgIGludCBvcmRlcl9pdGVtX2lkIFBLCiAgICAgICAgaW50IG9yZGVyX2lkIEZLCiAgICAgICAgaW50IHBpenphX2lkIEZLCiAgICAgICAgaW50IHF1YW50aXR5CiAgICAgICAgZmxvYXQgcHJpY2UKICAgIH0KCiAgICBQSVpaQSB7CiAgICAgICAgaW50IHBpenphX2lkIFBLCiAgICAgICAgc3RyaW5nIG5hbWUKICAgICAgICBzdHJpbmcgZGVzY3JpcHRpb24KICAgICAgICBmbG9hdCBwcmljZQogICAgfQoKICAgIElOVkVOVE9SWSB7CiAgICAgICAgaW50IGludmVudG9yeV9pZCBQSwogICAgICAgIHN0cmluZyBpdGVtX25hbWUKICAgICAgICBpbnQgcXVhbnRpdHkKICAgICAgICBzdHJpbmcgc3VwcGxpZXIKICAgIH0KCiAgICBTVVBQTElFUiB7CiAgICAgICAgaW50IHN1cHBsaWVyX2lkIFBLCiAgICAgICAgc3RyaW5nIG5hbWUKICAgICAgICBzdHJpbmcgY29udGFjdF9pbmZvCiAgICB9CgogICAgQ1VTVE9NRVIgfHwtLW97IE9SREVSOiBwbGFjZXMKICAgIE9SREVSIHx8LS18eyBPUkRFUl9JVEVNOiBjb250YWlucwogICAgT1JERVJfSVRFTSB8fC0tfHwgUElaWkE6IHJlZmVyZW5jZXMKICAgIElOVkVOVE9SWSB8fC0tfHwgU1VQUExJRVI6IHByb3ZpZGVkX2J5CgoK\"/>"
            ],
            "text/plain": [
              "<IPython.core.display.Image object>"
            ]
          },
          "metadata": {}
        }
      ]
    },
    {
      "cell_type": "markdown",
      "source": [
        "## Database Implementation, Testing, and Deployment Phases\n",
        "\n",
        "### Acquisition of Asset\n",
        "\n",
        "Before we can deploy our database, we need to acquire the necessary **hardware and software** assets. This step ensures that we have all the tools and resources required to build and maintain a robust database system for our pizza restaurant.\n",
        "\n",
        "**Hardware** involves physical components like servers, storage devices, and networking equipment. For a cloud-based solution, we might not need to purchase physical servers but will rely on virtual servers provided by the cloud service. If we were to use an on-premises solution, we would need to invest in high-performance servers to ensure our database can handle peak loads.\n",
        "\n",
        "**Software** includes the database management system (DBMS), operating system, and any additional tools required for database development and maintenance. For our pizza restaurant, we're using PostgreSQL as our DBMS, which is available as a cloud service through providers like Google Cloud.\n",
        "\n",
        "### Phases of Deployment\n",
        "\n",
        "Deploying a database involves several key phases to ensure everything is set up correctly and ready for use.\n",
        "\n",
        "**Installation and Configuration**\n",
        "\n",
        "-   **Database Prerequisites**: Before installing the database, we need to ensure our system meets all the necessary prerequisites. This includes having the right operating system, sufficient memory, storage space, and any required dependencies. For example, PostgreSQL requires specific versions of software libraries and adequate disk space for data storage.\n",
        "\n",
        "-   **Provisioning**: This step involves allocating the necessary resources for our database. In a cloud environment, this means setting up virtual servers, storage, and network configurations. Provisioning ensures that our database has the necessary computing power and storage capacity.\n",
        "\n",
        "-   **Upgrading**: Over time, we may need to update our database system to newer versions. Upgrading involves carefully planning and executing the update process to avoid downtime or data loss. For example, if a new version of PostgreSQL offers better performance or security features, we will need to upgrade our system.\n",
        "\n",
        "-   **Modifying**: As our business grows, we may need to make changes to the database structure. Modifying the database can include adding new tables, altering existing tables, or updating relationships between data entities. These changes should be planned and tested to ensure they do not disrupt operations.\n",
        "\n",
        "-   **Importing**: If we have data from other sources, we need to import it into our new database. This can include customer lists, historical order data, and inventory records. Proper data import ensures that we start with a complete and accurate dataset.\n",
        "\n",
        "### Database Connectivity\n",
        "\n",
        "Ensuring that our database can be accessed and utilized effectively requires setting up proper **database connectivity**.\n",
        "\n",
        "**Database Server Location**\n",
        "\n",
        "We need to decide whether our database server will be physical (on-premises) or virtual (cloud-based). For our cloud-based Postgres database on Google Cloud, the server will be a virtual machine managed by Google.\n",
        "\n",
        "**Networking Concepts**\n",
        "\n",
        "-   **Domain Name Service (DNS)**: DNS translates human-readable domain names (like [www.ninjapizzadb.com](http://www.ninjapizzadb.com)) into IP addresses that computers use to locate each other on the network. Setting up DNS ensures that our database can be easily accessed by name rather than by numerical IP address.\n",
        "\n",
        "-   **Client/Server Architecture**: Our database operates on a client/server model where the database server handles data storage and processing, while clients (like our point-of-sale systems and online order platforms) interact with the server to retrieve and update data. Understanding this architecture helps us configure the system for optimal performance and security.\n",
        "\n",
        "-   **Firewall and Perimeter Network Considerations**: Firewalls protect our database from unauthorized access by controlling incoming and outgoing network traffic. We need to configure firewall rules to allow legitimate traffic (like our staff and customers) while blocking potential threats. This ensures the security and integrity of our data.\n",
        "\n",
        "-   **Static and Dynamic IP Addressing**: IP addresses identify devices on a network. Static IP addresses remain constant, while dynamic IP addresses can change over time. For critical infrastructure like our database server, using a static IP address ensures consistent and reliable access.\n",
        "\n",
        "-   **Ports/Protocols**: Ports are communication endpoints on a network. Specific ports must be open for our database to communicate with other systems. For example, PostgreSQL typically uses port 5432. We need to configure network settings to open the required ports and use appropriate protocols to facilitate secure and efficient data transmission.\n",
        "\n",
        "By carefully planning and executing these phases, we ensure our database is set up correctly, secure, and ready to handle the demands of our pizza restaurant. This systematic approach helps us avoid common pitfalls and ensures a smooth deployment process."
      ],
      "metadata": {
        "id": "aqkWXRCveGoq"
      }
    },
    {
      "cell_type": "markdown",
      "source": [
        "### Example: Donatello Implements A Few Tables"
      ],
      "metadata": {
        "id": "vbRdqldSeQLy"
      }
    },
    {
      "cell_type": "code",
      "execution_count": 7,
      "metadata": {
        "colab": {
          "base_uri": "https://localhost:8080/",
          "height": 523
        },
        "id": "1E5Z2UTna7xv",
        "outputId": "ad5055c8-6d70-4110-9f78-353eac212bc7"
      },
      "outputs": [
        {
          "output_type": "stream",
          "name": "stdout",
          "text": [
            " * Starting PostgreSQL 14 database server\n",
            "   ...done.\n",
            "CREATE ROLE\n",
            "Requirement already satisfied: jupysql in /usr/local/lib/python3.10/dist-packages (0.10.16)\n",
            "Requirement already satisfied: prettytable>=3.12.0 in /usr/local/lib/python3.10/dist-packages (from jupysql) (3.12.0)\n",
            "Requirement already satisfied: sqlalchemy in /usr/local/lib/python3.10/dist-packages (from jupysql) (2.0.36)\n",
            "Requirement already satisfied: sqlparse in /usr/local/lib/python3.10/dist-packages (from jupysql) (0.5.2)\n",
            "Requirement already satisfied: ipython-genutils>=0.1.0 in /usr/local/lib/python3.10/dist-packages (from jupysql) (0.2.0)\n",
            "Requirement already satisfied: jinja2 in /usr/local/lib/python3.10/dist-packages (from jupysql) (3.1.4)\n",
            "Requirement already satisfied: sqlglot>=11.3.7 in /usr/local/lib/python3.10/dist-packages (from jupysql) (25.1.0)\n",
            "Requirement already satisfied: jupysql-plugin>=0.4.2 in /usr/local/lib/python3.10/dist-packages (from jupysql) (0.4.5)\n",
            "Requirement already satisfied: ploomber-core>=0.2.7 in /usr/local/lib/python3.10/dist-packages (from jupysql) (0.2.25)\n",
            "Requirement already satisfied: pyyaml in /usr/local/lib/python3.10/dist-packages (from ploomber-core>=0.2.7->jupysql) (6.0.2)\n",
            "Requirement already satisfied: posthog in /usr/local/lib/python3.10/dist-packages (from ploomber-core>=0.2.7->jupysql) (3.7.2)\n",
            "Requirement already satisfied: wcwidth in /usr/local/lib/python3.10/dist-packages (from prettytable>=3.12.0->jupysql) (0.2.13)\n",
            "Requirement already satisfied: MarkupSafe>=2.0 in /usr/local/lib/python3.10/dist-packages (from jinja2->jupysql) (3.0.2)\n",
            "Requirement already satisfied: typing-extensions>=4.6.0 in /usr/local/lib/python3.10/dist-packages (from sqlalchemy->jupysql) (4.12.2)\n",
            "Requirement already satisfied: greenlet!=0.4.17 in /usr/local/lib/python3.10/dist-packages (from sqlalchemy->jupysql) (3.1.1)\n",
            "Requirement already satisfied: requests<3.0,>=2.7 in /usr/local/lib/python3.10/dist-packages (from posthog->ploomber-core>=0.2.7->jupysql) (2.32.3)\n",
            "Requirement already satisfied: six>=1.5 in /usr/local/lib/python3.10/dist-packages (from posthog->ploomber-core>=0.2.7->jupysql) (1.16.0)\n",
            "Requirement already satisfied: monotonic>=1.5 in /usr/local/lib/python3.10/dist-packages (from posthog->ploomber-core>=0.2.7->jupysql) (1.6)\n",
            "Requirement already satisfied: backoff>=1.10.0 in /usr/local/lib/python3.10/dist-packages (from posthog->ploomber-core>=0.2.7->jupysql) (2.2.1)\n",
            "Requirement already satisfied: python-dateutil>2.1 in /usr/local/lib/python3.10/dist-packages (from posthog->ploomber-core>=0.2.7->jupysql) (2.8.2)\n",
            "Requirement already satisfied: charset-normalizer<4,>=2 in /usr/local/lib/python3.10/dist-packages (from requests<3.0,>=2.7->posthog->ploomber-core>=0.2.7->jupysql) (3.4.0)\n",
            "Requirement already satisfied: idna<4,>=2.5 in /usr/local/lib/python3.10/dist-packages (from requests<3.0,>=2.7->posthog->ploomber-core>=0.2.7->jupysql) (3.10)\n",
            "Requirement already satisfied: urllib3<3,>=1.21.1 in /usr/local/lib/python3.10/dist-packages (from requests<3.0,>=2.7->posthog->ploomber-core>=0.2.7->jupysql) (2.2.3)\n",
            "Requirement already satisfied: certifi>=2017.4.17 in /usr/local/lib/python3.10/dist-packages (from requests<3.0,>=2.7->posthog->ploomber-core>=0.2.7->jupysql) (2024.8.30)\n"
          ]
        },
        {
          "output_type": "display_data",
          "data": {
            "text/plain": [
              "Connecting and switching to connection 'postgresql+psycopg2://@/postgres'"
            ],
            "text/html": [
              "<span style=\"None\">Connecting and switching to connection &#x27;postgresql+psycopg2://@/postgres&#x27;</span>"
            ]
          },
          "metadata": {}
        }
      ],
      "source": [
        "# Install postgres\n",
        "!apt install postgresql postgresql-contrib &>log\n",
        "!service postgresql start\n",
        "!sudo -u postgres psql -c \"CREATE USER root WITH SUPERUSER\"\n",
        "!pip install jupysql\n",
        "\n",
        "# set connection\n",
        "%reload_ext sql\n",
        "%sql postgresql+psycopg2://@/postgres"
      ]
    },
    {
      "cell_type": "code",
      "source": [
        "%%sql\n",
        "-- DROP tables\n",
        "DROP TABLE IF EXISTS Customer CASCADE;\n",
        "DROP TABLE IF EXISTS Pizza CASCADE;\n",
        "DROP TABLE IF EXISTS \"Order\" CASCADE;\n",
        "DROP TABLE IF EXISTS Order_Item CASCADE;\n",
        "DROP TABLE IF EXISTS Inventory CASCADE;\n",
        "DROP TABLE IF EXISTS Supplier CASCADE;\n",
        "\n",
        "-- Creating tables\n",
        "CREATE TABLE Customer (\n",
        "    customer_id SERIAL PRIMARY KEY,\n",
        "    name VARCHAR(100) NOT NULL,\n",
        "    address VARCHAR(255) NOT NULL,\n",
        "    phone_number VARCHAR(15),\n",
        "    email VARCHAR(100)\n",
        ");\n",
        "\n",
        "CREATE TABLE Pizza (\n",
        "    pizza_id SERIAL PRIMARY KEY,\n",
        "    name VARCHAR(100) NOT NULL,\n",
        "    description TEXT,\n",
        "    price DECIMAL(10, 2) NOT NULL\n",
        ");\n",
        "\n",
        "CREATE TABLE \"Order\" (\n",
        "    order_id SERIAL PRIMARY KEY,\n",
        "    customer_id INT REFERENCES Customer(customer_id),\n",
        "    order_date DATE NOT NULL,\n",
        "    total_amount DECIMAL(10, 2) NOT NULL\n",
        ");\n",
        "\n",
        "CREATE TABLE Order_Item (\n",
        "    order_item_id SERIAL PRIMARY KEY,\n",
        "    order_id INT REFERENCES \"Order\"(order_id),\n",
        "    pizza_id INT REFERENCES Pizza(pizza_id),\n",
        "    quantity INT NOT NULL,\n",
        "    price DECIMAL(10, 2) NOT NULL\n",
        ");\n",
        "\n",
        "CREATE TABLE Inventory (\n",
        "    inventory_id SERIAL PRIMARY KEY,\n",
        "    item_name VARCHAR(100) NOT NULL,\n",
        "    quantity INT NOT NULL,\n",
        "    supplier VARCHAR(100) NOT NULL\n",
        ");\n",
        "\n",
        "CREATE TABLE Supplier (\n",
        "    supplier_id SERIAL PRIMARY KEY,\n",
        "    name VARCHAR(100) NOT NULL,\n",
        "    contact_info VARCHAR(255)\n",
        ");\n",
        "\n",
        "-- Inserting sample data\n",
        "INSERT INTO Customer (name, address, phone_number, email) VALUES\n",
        "('Leonardo', 'Sewer Lair, NYC', '555-0101', 'leo@turtles.com'),\n",
        "('Michelangelo', 'Sewer Lair, NYC', '555-0102', 'mikey@turtles.com'),\n",
        "('Donatello', 'Sewer Lair, NYC', '555-0103', 'donnie@turtles.com'),\n",
        "('Raphael', 'Sewer Lair, NYC', '555-0104', 'raph@turtles.com');\n",
        "\n",
        "INSERT INTO Pizza (name, description, price) VALUES\n",
        "('Margherita', 'Classic pizza with tomatoes, mozzarella, and basil', 8.99),\n",
        "('Pepperoni', 'Pepperoni, mozzarella, and tomato sauce', 9.99),\n",
        "('Veggie', 'Bell peppers, onions, mushrooms, and olives', 10.99);\n",
        "\n",
        "INSERT INTO \"Order\" (customer_id, order_date, total_amount) VALUES\n",
        "(1, '2023-06-15', 19.98),\n",
        "(2, '2023-06-16', 10.99);\n",
        "\n",
        "INSERT INTO Order_Item (order_id, pizza_id, quantity, price) VALUES\n",
        "(1, 1, 1, 8.99),\n",
        "(1, 2, 1, 9.99),\n",
        "(2, 3, 1, 10.99);\n",
        "\n",
        "INSERT INTO Inventory (item_name, quantity, supplier) VALUES\n",
        "('Mozzarella Cheese', 100, 'CheeseCo'),\n",
        "('Tomato Sauce', 50, 'SauceSuppliers'),\n",
        "('Bell Peppers', 30, 'VeggieFarm');\n",
        "\n",
        "INSERT INTO Supplier (name, contact_info) VALUES\n",
        "('CheeseCo', 'cheese@cheeseco.com'),\n",
        "('SauceSuppliers', 'sauce@suppliers.com'),\n",
        "('VeggieFarm', 'farm@veggiefarm.com');\n"
      ],
      "metadata": {
        "colab": {
          "base_uri": "https://localhost:8080/",
          "height": 139
        },
        "id": "KgRKxX8FefD4",
        "outputId": "78fce518-71a1-460c-e056-1b3e08ab721b"
      },
      "execution_count": 8,
      "outputs": [
        {
          "output_type": "display_data",
          "data": {
            "text/plain": [
              "Running query in 'postgresql+psycopg2://@/postgres'"
            ],
            "text/html": [
              "<span style=\"None\">Running query in &#x27;postgresql+psycopg2://@/postgres&#x27;</span>"
            ]
          },
          "metadata": {}
        },
        {
          "output_type": "display_data",
          "data": {
            "text/plain": [
              "4 rows affected."
            ],
            "text/html": [
              "<span style=\"color: green\">4 rows affected.</span>"
            ]
          },
          "metadata": {}
        },
        {
          "output_type": "display_data",
          "data": {
            "text/plain": [
              "3 rows affected."
            ],
            "text/html": [
              "<span style=\"color: green\">3 rows affected.</span>"
            ]
          },
          "metadata": {}
        },
        {
          "output_type": "display_data",
          "data": {
            "text/plain": [
              "2 rows affected."
            ],
            "text/html": [
              "<span style=\"color: green\">2 rows affected.</span>"
            ]
          },
          "metadata": {}
        },
        {
          "output_type": "display_data",
          "data": {
            "text/plain": [
              "3 rows affected."
            ],
            "text/html": [
              "<span style=\"color: green\">3 rows affected.</span>"
            ]
          },
          "metadata": {}
        },
        {
          "output_type": "display_data",
          "data": {
            "text/plain": [
              "3 rows affected."
            ],
            "text/html": [
              "<span style=\"color: green\">3 rows affected.</span>"
            ]
          },
          "metadata": {}
        },
        {
          "output_type": "display_data",
          "data": {
            "text/plain": [
              "3 rows affected."
            ],
            "text/html": [
              "<span style=\"color: green\">3 rows affected.</span>"
            ]
          },
          "metadata": {}
        },
        {
          "output_type": "execute_result",
          "data": {
            "text/plain": [
              "++\n",
              "||\n",
              "++\n",
              "++"
            ],
            "text/html": [
              "<table>\n",
              "    <thead>\n",
              "        <tr>\n",
              "        </tr>\n",
              "    </thead>\n",
              "    <tbody>\n",
              "    </tbody>\n",
              "</table>"
            ]
          },
          "metadata": {},
          "execution_count": 8
        }
      ]
    },
    {
      "cell_type": "markdown",
      "source": [
        "## Testing\n",
        "\n",
        "Testing is a crucial phase in database deployment, ensuring that the system functions correctly and efficiently under various conditions. This section outlines the key components of database testing for our pizza restaurant's database.\n",
        "\n",
        "### Database Quality Check\n",
        "\n",
        "Before putting the database into production, we need to conduct a comprehensive quality check to ensure everything is set up correctly. This involves verifying that all columns, tables, and fields in the database are defined correctly according to our data dictionary. We check that each table contains the correct columns with the appropriate data types and constraints. For instance, if the `Order` table is supposed to have a `customer_id` column linking to the `Customer` table, we ensure this relationship is properly implemented. This step ensures that the foundational structure of our database is solid and meets the initial design specifications.\n",
        "\n",
        "-   Check that the `Customer` table has columns like `customer_id`, `name`, and `email`.\n",
        "-   Ensure the `Order` table includes `order_id`, `customer_id`, and `order_date`.\n",
        "-   Verify that foreign key constraints are correctly set up between tables (e.g., `order_id` in `Order_Item` references `Order`).\n",
        "\n",
        "### Code Execution\n",
        "\n",
        "Running and validating scripts is essential to ensure the database performs the intended operations without errors. This involves executing SQL scripts that create, modify, and populate the database, and closely monitoring the outcomes. For example, if a script inserts a customer record into the `Customer` table, we check that the new record appears as expected. Any errors or unexpected results must be identified and corrected promptly. This step ensures that the database setup and modifications are carried out accurately and effectively.\n",
        "\n",
        "-   Execute scripts to create the `Pizza` table and populate it with sample data.\n",
        "-   Run modification scripts to add new columns or change data types.\n",
        "-   Validate that data insertion scripts correctly populate tables with initial data.\n",
        "\n",
        "#### Schema Meets Original Requirements\n",
        "\n",
        "Ensuring that the database schema complies with the original requirements is vital for maintaining data integrity and functionality. This involves reviewing the database schema to verify it aligns with our design plans. We check entity relationships, ensure the correct cardinality (e.g., one customer can place many orders), and confirm that all required tables and fields are present. We compare the implemented schema with our original ER diagrams to ensure everything matches. This step is crucial for verifying that the database design meets the planned specifications and supports the business processes.\n",
        "\n",
        "-   Compare the `Customer`-`Order` relationship in the database with the ER diagram.\n",
        "-   Verify that the `Inventory` table has the correct fields as per the design.\n",
        "-   Check that all intended tables, such as `Order_Item` and `Supplier`, are created and correctly linked.\n"
      ],
      "metadata": {
        "id": "g5OdKC-CgKp5"
      }
    },
    {
      "cell_type": "code",
      "source": [
        "%%sql\n",
        "-- Verify schema compliance\n",
        "SELECT * FROM information_schema.tables\n",
        "WHERE table_schema = 'public';"
      ],
      "metadata": {
        "colab": {
          "base_uri": "https://localhost:8080/",
          "height": 327
        },
        "id": "mG4YyjV8g9el",
        "outputId": "b870329e-02c2-4ad2-e9b0-537056cdd6e5"
      },
      "execution_count": 9,
      "outputs": [
        {
          "output_type": "display_data",
          "data": {
            "text/plain": [
              "Running query in 'postgresql+psycopg2://@/postgres'"
            ],
            "text/html": [
              "<span style=\"None\">Running query in &#x27;postgresql+psycopg2://@/postgres&#x27;</span>"
            ]
          },
          "metadata": {}
        },
        {
          "output_type": "display_data",
          "data": {
            "text/plain": [
              "6 rows affected."
            ],
            "text/html": [
              "<span style=\"color: green\">6 rows affected.</span>"
            ]
          },
          "metadata": {}
        },
        {
          "output_type": "execute_result",
          "data": {
            "text/plain": [
              "+---------------+--------------+------------+------------+------------------------------+----------------------+---------------------------+--------------------------+------------------------+--------------------+----------+---------------+\n",
              "| table_catalog | table_schema | table_name | table_type | self_referencing_column_name | reference_generation | user_defined_type_catalog | user_defined_type_schema | user_defined_type_name | is_insertable_into | is_typed | commit_action |\n",
              "+---------------+--------------+------------+------------+------------------------------+----------------------+---------------------------+--------------------------+------------------------+--------------------+----------+---------------+\n",
              "|    postgres   |    public    |  customer  | BASE TABLE |             None             |         None         |            None           |           None           |          None          |        YES         |    NO    |      None     |\n",
              "|    postgres   |    public    |   Order    | BASE TABLE |             None             |         None         |            None           |           None           |          None          |        YES         |    NO    |      None     |\n",
              "|    postgres   |    public    | order_item | BASE TABLE |             None             |         None         |            None           |           None           |          None          |        YES         |    NO    |      None     |\n",
              "|    postgres   |    public    |   pizza    | BASE TABLE |             None             |         None         |            None           |           None           |          None          |        YES         |    NO    |      None     |\n",
              "|    postgres   |    public    | inventory  | BASE TABLE |             None             |         None         |            None           |           None           |          None          |        YES         |    NO    |      None     |\n",
              "|    postgres   |    public    |  supplier  | BASE TABLE |             None             |         None         |            None           |           None           |          None          |        YES         |    NO    |      None     |\n",
              "+---------------+--------------+------------+------------+------------------------------+----------------------+---------------------------+--------------------------+------------------------+--------------------+----------+---------------+"
            ],
            "text/html": [
              "<table>\n",
              "    <thead>\n",
              "        <tr>\n",
              "            <th>table_catalog</th>\n",
              "            <th>table_schema</th>\n",
              "            <th>table_name</th>\n",
              "            <th>table_type</th>\n",
              "            <th>self_referencing_column_name</th>\n",
              "            <th>reference_generation</th>\n",
              "            <th>user_defined_type_catalog</th>\n",
              "            <th>user_defined_type_schema</th>\n",
              "            <th>user_defined_type_name</th>\n",
              "            <th>is_insertable_into</th>\n",
              "            <th>is_typed</th>\n",
              "            <th>commit_action</th>\n",
              "        </tr>\n",
              "    </thead>\n",
              "    <tbody>\n",
              "        <tr>\n",
              "            <td>postgres</td>\n",
              "            <td>public</td>\n",
              "            <td>customer</td>\n",
              "            <td>BASE TABLE</td>\n",
              "            <td>None</td>\n",
              "            <td>None</td>\n",
              "            <td>None</td>\n",
              "            <td>None</td>\n",
              "            <td>None</td>\n",
              "            <td>YES</td>\n",
              "            <td>NO</td>\n",
              "            <td>None</td>\n",
              "        </tr>\n",
              "        <tr>\n",
              "            <td>postgres</td>\n",
              "            <td>public</td>\n",
              "            <td>Order</td>\n",
              "            <td>BASE TABLE</td>\n",
              "            <td>None</td>\n",
              "            <td>None</td>\n",
              "            <td>None</td>\n",
              "            <td>None</td>\n",
              "            <td>None</td>\n",
              "            <td>YES</td>\n",
              "            <td>NO</td>\n",
              "            <td>None</td>\n",
              "        </tr>\n",
              "        <tr>\n",
              "            <td>postgres</td>\n",
              "            <td>public</td>\n",
              "            <td>order_item</td>\n",
              "            <td>BASE TABLE</td>\n",
              "            <td>None</td>\n",
              "            <td>None</td>\n",
              "            <td>None</td>\n",
              "            <td>None</td>\n",
              "            <td>None</td>\n",
              "            <td>YES</td>\n",
              "            <td>NO</td>\n",
              "            <td>None</td>\n",
              "        </tr>\n",
              "        <tr>\n",
              "            <td>postgres</td>\n",
              "            <td>public</td>\n",
              "            <td>pizza</td>\n",
              "            <td>BASE TABLE</td>\n",
              "            <td>None</td>\n",
              "            <td>None</td>\n",
              "            <td>None</td>\n",
              "            <td>None</td>\n",
              "            <td>None</td>\n",
              "            <td>YES</td>\n",
              "            <td>NO</td>\n",
              "            <td>None</td>\n",
              "        </tr>\n",
              "        <tr>\n",
              "            <td>postgres</td>\n",
              "            <td>public</td>\n",
              "            <td>inventory</td>\n",
              "            <td>BASE TABLE</td>\n",
              "            <td>None</td>\n",
              "            <td>None</td>\n",
              "            <td>None</td>\n",
              "            <td>None</td>\n",
              "            <td>None</td>\n",
              "            <td>YES</td>\n",
              "            <td>NO</td>\n",
              "            <td>None</td>\n",
              "        </tr>\n",
              "        <tr>\n",
              "            <td>postgres</td>\n",
              "            <td>public</td>\n",
              "            <td>supplier</td>\n",
              "            <td>BASE TABLE</td>\n",
              "            <td>None</td>\n",
              "            <td>None</td>\n",
              "            <td>None</td>\n",
              "            <td>None</td>\n",
              "            <td>None</td>\n",
              "            <td>YES</td>\n",
              "            <td>NO</td>\n",
              "            <td>None</td>\n",
              "        </tr>\n",
              "    </tbody>\n",
              "</table>"
            ]
          },
          "metadata": {},
          "execution_count": 9
        }
      ]
    },
    {
      "cell_type": "markdown",
      "source": [
        "### Syntax Errors\n",
        "\n",
        "Identifying and resolving syntax errors in SQL scripts is a critical step to prevent runtime issues. During script execution, we monitor for any syntax errors that might occur. These errors are flagged by the database system and must be corrected to ensure smooth operation. For instance, if a script fails due to a typo or missing semicolon, we fix the error and rerun the script until it executes correctly. This step is essential for ensuring that all database scripts are free of errors and function as intended.\n",
        "\n",
        "-   Detect and correct syntax errors in table creation scripts.\n",
        "-   Fix issues in data insertion scripts that prevent successful execution.\n",
        "-   Ensure all scripts run without errors before moving to the next phase.\n"
      ],
      "metadata": {
        "id": "47VoHihoh4U0"
      }
    },
    {
      "cell_type": "code",
      "source": [
        "%%sql\n",
        "-- Example of running a script and checking for errors\n",
        "DO $$\n",
        "BEGIN\n",
        "    -- You won't see the \"notice\" in Colab\n",
        "    RAISE NOTICE 'Checking syntax...';\n",
        "    -- intentional error here to demonstrate\n",
        "    SELECT * FROM Customer;\n",
        "END $$;\n"
      ],
      "metadata": {
        "id": "h07dtOSChn5e"
      },
      "execution_count": null,
      "outputs": []
    },
    {
      "cell_type": "markdown",
      "source": [
        "### Stress Testing\n",
        "\n",
        "Stress testing evaluates how the database performs under heavy load conditions. This involves simulating scenarios where the database is subjected to high levels of activity to see how it handles the load. For example, we might test stored procedures by executing them repeatedly under various conditions to ensure they can manage large volumes of data and concurrent users without performance degradation. We also simulate real-world scenarios where multiple users access the database simultaneously, such as during peak hours at the restaurant, to measure response times and identify potential bottlenecks.\n",
        "\n",
        "-   **Stored Procedures Stress Test**:\n",
        "    -   Run a stored procedure to process 1,000 orders in rapid succession.\n",
        "    -   Test the performance of procedures that update inventory levels during peak times.\n",
        "-   **Application Stress Test**:\n",
        "    -   Simulate 100 users placing orders simultaneously to test system response.\n",
        "    -   Measure how quickly the system updates inventory when multiple orders are processed at once.\n",
        "\n",
        "### Notification Triggers and Alerts\n",
        "\n",
        "Setting up and testing alerts ensures that the database can notify administrators of important events or issues. This involves configuring triggers and alerts for critical events, such as low inventory levels or failed transactions. These alerts help us respond quickly to potential problems and maintain smooth operations. For instance, if the inventory level for a crucial ingredient like mozzarella cheese drops below a certain threshold, the database triggers an alert to notify us to reorder.\n",
        "\n",
        "-   Configure triggers to alert when inventory levels fall below 10 units.\n",
        "-   Test alerts for failed transactions to ensure they notify the admin immediately.\n",
        "-   Set up email notifications for critical alerts to ensure timely responses.\n",
        "\n",
        "### Version Control Testing\n",
        "\n",
        "Version control is essential for managing changes to the database over time. This involves using version control systems like Git to track changes to database scripts and configurations. Testing ensures that we can reliably roll back to previous versions if needed and that all team members are working with the latest updates. This step is crucial for maintaining a history of changes, facilitating collaboration, and ensuring consistency across different environments.\n",
        "\n",
        "-   Commit all SQL scripts to a version control system like Git.\n",
        "-   Test rolling back to a previous version after making changes.\n",
        "-   Ensure that changes are properly documented and synchronized across the team.\n",
        "\n",
        "### **Regression Testing**\n",
        "\n",
        "Regression testing ensures that recent changes do not negatively impact existing functionality. This involves running tests on previously identified and resolved issues to confirm that they remain fixed and that no new problems have been introduced. For example, if we fixed a bug related to order processing, we run tests to ensure that the fix holds up and that the order processing functionality continues to work as expected.\n",
        "\n",
        "-   Re-test the order processing system after updates to ensure it still functions correctly.\n",
        "-   Verify that fixes for inventory management issues remain effective.\n",
        "-   Run comprehensive tests on critical features to ensure no new bugs are introduced.\n",
        "\n",
        "#### Negative Testing\n",
        "\n",
        "Negative testing involves intentionally using incorrect inputs to ensure the database can handle unexpected or erroneous data gracefully. This step tests the robustness of the system by inputting invalid data, such as incorrect customer IDs or invalid order quantities, to see how the database handles these cases. The goal is to ensure that the system can manage errors without crashing or producing incorrect results.\n",
        "\n",
        "-   Input invalid customer IDs and check the database response.\n",
        "-   Attempt to insert negative quantities for orders and observe the outcome.\n",
        "-   Ensure that the system provides appropriate error messages and handles invalid data without crashing.\n",
        "\n",
        "By thoroughly testing the database, we can identify and address potential issues before they impact our operations. This systematic approach helps ensure that our database is reliable, efficient, and ready to support the Ninja Turtles' pizza restaurant."
      ],
      "metadata": {
        "id": "-G_8AU05g7CX"
      }
    },
    {
      "cell_type": "markdown",
      "source": [
        "## Review WIth Quizlet"
      ],
      "metadata": {
        "id": "btKurU2DomUE"
      }
    },
    {
      "cell_type": "code",
      "source": [
        "%%html\n",
        "<iframe src=\"https://quizlet.com/931322459/learn/embed?i=psvlh&x=1jj1\" height=\"600\" width=\"100%\" style=\"border:0\"></iframe>"
      ],
      "metadata": {
        "id": "p_1HzdDBopGq"
      },
      "execution_count": null,
      "outputs": []
    },
    {
      "cell_type": "markdown",
      "source": [
        "## Glossary\n",
        "\n",
        "Here's a detailed glossary of the terms you requested, presented as a two-column table:\n",
        "\n",
        "| Term | Definition |\n",
        "|------|------------|\n",
        "| Client-Server Architecture | A computing model where tasks are distributed between providers (servers) and service requesters (clients) over a network. |\n",
        "| Cloud Computing | Delivery of computing services over the internet, including servers, storage, databases, networking, software, and analytics. |\n",
        "| Customer Relationship Management (CRM) | A technology for managing all company's relationships and interactions with customers and potential customers. |\n",
        "| Data cardinality | The uniqueness of data values contained in a column of a database table. |\n",
        "| Database as a Service (DaaS) | A cloud computing service model that provides users with access to a database without requiring setup of physical hardware, installation of software, or configuration. |\n",
        "| Database connectivity | The ability of a database to communicate and interact with other systems or applications. |\n",
        "| Database Deployment | The process of making a database system available for use in a specific environment. |\n",
        "| Database Design | The process of producing a detailed data model of a database, including logical and physical design decisions and considerations. |\n",
        "| Database Implementation | The process of installing, configuring, testing, and maintaining a database system. |\n",
        "| Database Provisioning | The process of setting up, deploying, and configuring a new database instance or environment. |\n",
        "| Database Quality Check | The process of evaluating and verifying the accuracy, consistency, and reliability of data within a database. |\n",
        "| Database Schema | A formal description of the structure, organization, and relationships of data in a database. |\n",
        "| Database Testing | The process of evaluating and verifying the functionality, performance, and reliability of a database system. |\n",
        "| Domain Name Service (DNS) | A hierarchical and decentralized naming system for computers, services, or other resources connected to the Internet or a private network. |\n",
        "| Dynamic IP | An IP address that changes periodically, typically assigned by an Internet Service Provider (ISP) to a device. |\n",
        "| Firewall | A network security system that monitors and controls incoming and outgoing network traffic based on predetermined security rules. |\n",
        "| Gap Analysis | A method of assessing the differences between current performance and desired performance to identify improvement areas. |\n",
        "| Hardware | The physical components of a computer system, including the computer's case, central processing unit (CPU), monitor, mouse, keyboard, and other peripherals. |\n",
        "| Infrastructure as a Service (SaaS) | A cloud computing service model that provides virtualized computing resources over the internet. |\n",
        "| Logical Schema | A conceptual representation of the database structure, including tables, views, and their relationships, independent of any specific database management system. |\n",
        "| Negative Testing | A type of software testing that ensures the system behaves correctly when given invalid or unexpected inputs. |\n",
        "| Notification Trigger | A database object that automatically performs a specified action when a defined event occurs. |\n",
        "| Physical schema | The actual implementation of a database design in a specific database management system, including details such as data types, indexes, and storage structures. |\n",
        "| Platform as a Service (PaaS) | A cloud computing model where a third-party provider delivers hardware and software tools to users over the internet. |\n",
        "| Regression Testing | A type of software testing that verifies that previously developed and tested software still performs correctly after changes. |\n",
        "| Requirements Gathering | The process of collecting and documenting information about the needs and expectations of stakeholders for a new or modified system. |\n",
        "| Software | The programs and other operating information used by a computer, including system software, application software, and middleware. |\n",
        "| Static IP | An IP address that remains constant and does not change over time, typically assigned manually to a device. |\n",
        "| Storage capacity | The amount of data that can be stored in a computer or storage device, usually measured in bytes (GB, TB, etc.). |\n",
        "| Stress Testing | A form of performance testing that evaluates how a system performs under extreme conditions, such as high concurrent user loads or large amounts of data. |\n",
        "| Systems requirement documentation | A comprehensive description of a software system's functionalities, constraints, and objectives, serving as a basis for design and development. |\n",
        "| Version Control Testing | The process of verifying that different versions of software or database schemas are compatible and function correctly. |\n",
        "| View schema | A representation of a virtual table based on the result of a SQL query, allowing users to access a subset of data without modifying the underlying database structure. |"
      ],
      "metadata": {
        "id": "H4alCQIZn4t6"
      }
    },
    {
      "cell_type": "code",
      "source": [],
      "metadata": {
        "id": "nCcdiEcGn6Pu"
      },
      "execution_count": null,
      "outputs": []
    }
  ]
}