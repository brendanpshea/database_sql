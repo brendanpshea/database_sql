{
  "nbformat": 4,
  "nbformat_minor": 0,
  "metadata": {
    "colab": {
      "provenance": [],
      "authorship_tag": "ABX9TyMjDFJWlrMpk5fa4ft5vO50",
      "include_colab_link": true
    },
    "kernelspec": {
      "name": "python3",
      "display_name": "Python 3"
    },
    "language_info": {
      "name": "python"
    }
  },
  "cells": [
    {
      "cell_type": "markdown",
      "metadata": {
        "id": "view-in-github",
        "colab_type": "text"
      },
      "source": [
        "<a href=\"https://colab.research.google.com/github/brendanpshea/database_sql/blob/main/Database_11_Data_Storytelling_with_Zombies.ipynb\" target=\"_parent\"><img src=\"https://colab.research.google.com/assets/colab-badge.svg\" alt=\"Open In Colab\"/></a>"
      ]
    },
    {
      "cell_type": "markdown",
      "source": [
        "# Telling a Story (About Zombies) with Your Data\n",
        "### Brendan Shea, PhD\n",
        "\n",
        "In this chapter, we delve into the heart of data analysis: the art and science of interpreting your data and communicating your findings effectively. Your journey through this course has equipped you with the fundamental skills to gather, organize, and manipulate data. Now, we turn our attention towards the real-world challenge of extracting meaningful insights from our datasets and presenting these insights in a manner that allows others to understand and act upon them.\n",
        "\n",
        "We will begin by exploring how to clean and structure data to facilitate downstream analysis. This often overlooked step is crucial in ensuring the integrity of your analyses and, consequently, the reliability of your findings.\n",
        "\n",
        "Next, we turn to the essential task of visualizing data. We'll delve into various techniques for presenting different types of data, including geographical and temporal data. We will also discuss the development of interactive dashboards, a powerful tool for real-time data monitoring and decision-making.\n",
        "\n",
        "We will then transition into the realm of descriptive and inferential statistics. Descriptive statistics help us summarize and understand the characteristics of our dataset. Inferential statistics, on the other hand, enable us to make predictions and inferences about a population based on a sample.\n",
        "\n",
        "Finally, we will address the all-important task of report writing. Here we will discuss how to structure a report, how to communicate complex information clearly and succinctly, and how to ensure your report is both engaging and informative.\n",
        "\n",
        "Throughout this chapter, we will be mindful of potential biases and confounding factors that could impact our analyses. We will also discuss the importance of data privacy and ethics, particularly when handling sensitive information.\n",
        "\n"
      ],
      "metadata": {
        "id": "vn4WZd9PErO8"
      }
    },
    {
      "cell_type": "markdown",
      "source": [
        "**Brendan's Note:** This chapter will demonstrate some more \"advanced\" topic in data analysis. The goal here is not to memorize each and every function, but rather to get a sense of \"how these things work\" at a high level. (So, don't worry if"
      ],
      "metadata": {
        "id": "s0dS-2dTTNoK"
      }
    },
    {
      "cell_type": "markdown",
      "source": [
        "## Case Study: Zombies!\n",
        "\n",
        "Now, let's bring these concepts to life with a case study. You are a junior analyst at the Centers for Disease Control and Prevention (CDC). Suddenly, an outbreak of a mysterious illness begins to spread rapidly across the country. The symptoms appear zombie-like, and public fear is rising. Your task is to analyze the data coming in from across the nation, make sense of it, and communicate your findings to various stakeholders. This high-stakes scenario will give you a taste of what data analysts face in real-world crises.\n",
        "\n",
        "As we proceed through this chapter, we will apply the concepts we learn to this unfolding crisis, helping the CDC understand and combat the spread of this terrifying outbreak. Let's get started!"
      ],
      "metadata": {
        "id": "Cjv75toYFEvJ"
      }
    },
    {
      "cell_type": "markdown",
      "source": [
        "## Extract, Transform, Load (ETL)\n",
        "\n",
        "Extract, Transform, Load (ETL) is a critical process used in data handling, particularly in data warehousing. It's a three-step procedure:\n",
        "\n",
        "1.  **Extract:** Data is extracted from various sources, which could be databases, Excel files, web pages, or even text files. The nature of these sources often means the data is in different formats and structures.\n",
        "\n",
        "2.  **Transform:** This is the process of converting the extracted data into a form that can be analyzed more effectively. Transformations may include cleaning (removing errors or inconsistencies), filtering, splitting or merging fields, converting data types, or creating new calculated fields.\n",
        "\n",
        "3.  **Load** The final step is to load the transformed data into a final target database or data warehouse, where it can be accessed and analyzed. This data store is often designed differently from operational databases, optimized for analysis rather than transactional processing.\n",
        "\n",
        "As a junior analyst at the CDC tasked with responding to a Zombie outbreak, you'll be dealing with data from many sources. You might have case reports coming in from hospitals in various formats, laboratory test results coming from different lab systems, demographic data from census databases, and even social media posts or news reports. Each of these data sources will have its own structure and quirks.\n",
        "\n",
        "The ETL process allows you to consolidate all this diverse data into a consistent format in a single location. This makes it much easier to analyze the data, spot trends and patterns, and generate reports. For example, you might need to generate a daily report of new Zombie cases, or analyze case data to identify risk factors for severe symptoms. ETL is the process that enables these activities, ensuring that the data you're working with is accurate, consistent, and up-to-date."
      ],
      "metadata": {
        "id": "Ub2QfP02F5Cs"
      }
    },
    {
      "cell_type": "markdown",
      "source": [
        "### Extract\n",
        "\n",
        "The first step in the ETL process is to extract the data from its source. In this case, our data is stored in a CSV file. We'll use the Python library `pandas` to read this CSV file and load the data into a **pandas** DataFrame.\n",
        "\n",
        "Let's start by loading our data."
      ],
      "metadata": {
        "id": "NaEbh1yQGLIh"
      }
    },
    {
      "cell_type": "code",
      "source": [
        "import pandas as pd\n",
        "\n",
        "# download our data\n",
        "!wget https://github.com/brendanpshea/database_sql/raw/main/data/zombie_outbreak.csv -q -N\n",
        "# Load the data from the CSV file\n",
        "df = pd.read_csv('zombie_outbreak.csv')\n",
        "# Display the first few rows of the dataframe\n",
        "df.head(10)"
      ],
      "metadata": {
        "colab": {
          "base_uri": "https://localhost:8080/",
          "height": 363
        },
        "id": "yasx6piwGFFE",
        "outputId": "4e31867e-a6ef-4003-fab8-635b585ba1c2"
      },
      "execution_count": 2,
      "outputs": [
        {
          "output_type": "execute_result",
          "data": {
            "text/plain": [
              "   case_id report_date location symptom_severity case_status  age\n",
              "0        0  2028-02-01       MN             Mild    Deceased   73\n",
              "1        1  2028-02-01       MN             Mild    Infected   29\n",
              "2        2  2028-02-01       MN             Mild   Recovered   74\n",
              "3        3  2028-02-01       MN             Mild    Infected   62\n",
              "4        4  2028-02-01       MN             Mild    Infected   65\n",
              "5        5  2028-02-01       MN         Moderate   Recovered   47\n",
              "6        6  2028-02-01       MN           Severe   Recovered   -1\n",
              "7        7  2028-02-01       MN         Moderate   Recovered   57\n",
              "8        8  2028-02-01       MN             Mild   Recovered   11\n",
              "9        9  2028-02-01       MN           Severe    Infected   -1"
            ],
            "text/html": [
              "\n",
              "\n",
              "  <div id=\"df-74b83a6f-de54-4c8d-9fe3-e8cf204c7d76\">\n",
              "    <div class=\"colab-df-container\">\n",
              "      <div>\n",
              "<style scoped>\n",
              "    .dataframe tbody tr th:only-of-type {\n",
              "        vertical-align: middle;\n",
              "    }\n",
              "\n",
              "    .dataframe tbody tr th {\n",
              "        vertical-align: top;\n",
              "    }\n",
              "\n",
              "    .dataframe thead th {\n",
              "        text-align: right;\n",
              "    }\n",
              "</style>\n",
              "<table border=\"1\" class=\"dataframe\">\n",
              "  <thead>\n",
              "    <tr style=\"text-align: right;\">\n",
              "      <th></th>\n",
              "      <th>case_id</th>\n",
              "      <th>report_date</th>\n",
              "      <th>location</th>\n",
              "      <th>symptom_severity</th>\n",
              "      <th>case_status</th>\n",
              "      <th>age</th>\n",
              "    </tr>\n",
              "  </thead>\n",
              "  <tbody>\n",
              "    <tr>\n",
              "      <th>0</th>\n",
              "      <td>0</td>\n",
              "      <td>2028-02-01</td>\n",
              "      <td>MN</td>\n",
              "      <td>Mild</td>\n",
              "      <td>Deceased</td>\n",
              "      <td>73</td>\n",
              "    </tr>\n",
              "    <tr>\n",
              "      <th>1</th>\n",
              "      <td>1</td>\n",
              "      <td>2028-02-01</td>\n",
              "      <td>MN</td>\n",
              "      <td>Mild</td>\n",
              "      <td>Infected</td>\n",
              "      <td>29</td>\n",
              "    </tr>\n",
              "    <tr>\n",
              "      <th>2</th>\n",
              "      <td>2</td>\n",
              "      <td>2028-02-01</td>\n",
              "      <td>MN</td>\n",
              "      <td>Mild</td>\n",
              "      <td>Recovered</td>\n",
              "      <td>74</td>\n",
              "    </tr>\n",
              "    <tr>\n",
              "      <th>3</th>\n",
              "      <td>3</td>\n",
              "      <td>2028-02-01</td>\n",
              "      <td>MN</td>\n",
              "      <td>Mild</td>\n",
              "      <td>Infected</td>\n",
              "      <td>62</td>\n",
              "    </tr>\n",
              "    <tr>\n",
              "      <th>4</th>\n",
              "      <td>4</td>\n",
              "      <td>2028-02-01</td>\n",
              "      <td>MN</td>\n",
              "      <td>Mild</td>\n",
              "      <td>Infected</td>\n",
              "      <td>65</td>\n",
              "    </tr>\n",
              "    <tr>\n",
              "      <th>5</th>\n",
              "      <td>5</td>\n",
              "      <td>2028-02-01</td>\n",
              "      <td>MN</td>\n",
              "      <td>Moderate</td>\n",
              "      <td>Recovered</td>\n",
              "      <td>47</td>\n",
              "    </tr>\n",
              "    <tr>\n",
              "      <th>6</th>\n",
              "      <td>6</td>\n",
              "      <td>2028-02-01</td>\n",
              "      <td>MN</td>\n",
              "      <td>Severe</td>\n",
              "      <td>Recovered</td>\n",
              "      <td>-1</td>\n",
              "    </tr>\n",
              "    <tr>\n",
              "      <th>7</th>\n",
              "      <td>7</td>\n",
              "      <td>2028-02-01</td>\n",
              "      <td>MN</td>\n",
              "      <td>Moderate</td>\n",
              "      <td>Recovered</td>\n",
              "      <td>57</td>\n",
              "    </tr>\n",
              "    <tr>\n",
              "      <th>8</th>\n",
              "      <td>8</td>\n",
              "      <td>2028-02-01</td>\n",
              "      <td>MN</td>\n",
              "      <td>Mild</td>\n",
              "      <td>Recovered</td>\n",
              "      <td>11</td>\n",
              "    </tr>\n",
              "    <tr>\n",
              "      <th>9</th>\n",
              "      <td>9</td>\n",
              "      <td>2028-02-01</td>\n",
              "      <td>MN</td>\n",
              "      <td>Severe</td>\n",
              "      <td>Infected</td>\n",
              "      <td>-1</td>\n",
              "    </tr>\n",
              "  </tbody>\n",
              "</table>\n",
              "</div>\n",
              "      <button class=\"colab-df-convert\" onclick=\"convertToInteractive('df-74b83a6f-de54-4c8d-9fe3-e8cf204c7d76')\"\n",
              "              title=\"Convert this dataframe to an interactive table.\"\n",
              "              style=\"display:none;\">\n",
              "\n",
              "  <svg xmlns=\"http://www.w3.org/2000/svg\" height=\"24px\"viewBox=\"0 0 24 24\"\n",
              "       width=\"24px\">\n",
              "    <path d=\"M0 0h24v24H0V0z\" fill=\"none\"/>\n",
              "    <path d=\"M18.56 5.44l.94 2.06.94-2.06 2.06-.94-2.06-.94-.94-2.06-.94 2.06-2.06.94zm-11 1L8.5 8.5l.94-2.06 2.06-.94-2.06-.94L8.5 2.5l-.94 2.06-2.06.94zm10 10l.94 2.06.94-2.06 2.06-.94-2.06-.94-.94-2.06-.94 2.06-2.06.94z\"/><path d=\"M17.41 7.96l-1.37-1.37c-.4-.4-.92-.59-1.43-.59-.52 0-1.04.2-1.43.59L10.3 9.45l-7.72 7.72c-.78.78-.78 2.05 0 2.83L4 21.41c.39.39.9.59 1.41.59.51 0 1.02-.2 1.41-.59l7.78-7.78 2.81-2.81c.8-.78.8-2.07 0-2.86zM5.41 20L4 18.59l7.72-7.72 1.47 1.35L5.41 20z\"/>\n",
              "  </svg>\n",
              "      </button>\n",
              "\n",
              "\n",
              "\n",
              "    <div id=\"df-daa3c147-2a72-4e43-9317-d3d7934ad40c\">\n",
              "      <button class=\"colab-df-quickchart\" onclick=\"quickchart('df-daa3c147-2a72-4e43-9317-d3d7934ad40c')\"\n",
              "              title=\"Suggest charts.\"\n",
              "              style=\"display:none;\">\n",
              "\n",
              "<svg xmlns=\"http://www.w3.org/2000/svg\" height=\"24px\"viewBox=\"0 0 24 24\"\n",
              "     width=\"24px\">\n",
              "    <g>\n",
              "        <path d=\"M19 3H5c-1.1 0-2 .9-2 2v14c0 1.1.9 2 2 2h14c1.1 0 2-.9 2-2V5c0-1.1-.9-2-2-2zM9 17H7v-7h2v7zm4 0h-2V7h2v10zm4 0h-2v-4h2v4z\"/>\n",
              "    </g>\n",
              "</svg>\n",
              "      </button>\n",
              "    </div>\n",
              "\n",
              "<style>\n",
              "  .colab-df-quickchart {\n",
              "    background-color: #E8F0FE;\n",
              "    border: none;\n",
              "    border-radius: 50%;\n",
              "    cursor: pointer;\n",
              "    display: none;\n",
              "    fill: #1967D2;\n",
              "    height: 32px;\n",
              "    padding: 0 0 0 0;\n",
              "    width: 32px;\n",
              "  }\n",
              "\n",
              "  .colab-df-quickchart:hover {\n",
              "    background-color: #E2EBFA;\n",
              "    box-shadow: 0px 1px 2px rgba(60, 64, 67, 0.3), 0px 1px 3px 1px rgba(60, 64, 67, 0.15);\n",
              "    fill: #174EA6;\n",
              "  }\n",
              "\n",
              "  [theme=dark] .colab-df-quickchart {\n",
              "    background-color: #3B4455;\n",
              "    fill: #D2E3FC;\n",
              "  }\n",
              "\n",
              "  [theme=dark] .colab-df-quickchart:hover {\n",
              "    background-color: #434B5C;\n",
              "    box-shadow: 0px 1px 3px 1px rgba(0, 0, 0, 0.15);\n",
              "    filter: drop-shadow(0px 1px 2px rgba(0, 0, 0, 0.3));\n",
              "    fill: #FFFFFF;\n",
              "  }\n",
              "</style>\n",
              "\n",
              "    <script>\n",
              "      async function quickchart(key) {\n",
              "        const containerElement = document.querySelector('#' + key);\n",
              "        const charts = await google.colab.kernel.invokeFunction(\n",
              "            'suggestCharts', [key], {});\n",
              "      }\n",
              "    </script>\n",
              "\n",
              "      <script>\n",
              "\n",
              "function displayQuickchartButton(domScope) {\n",
              "  let quickchartButtonEl =\n",
              "    domScope.querySelector('#df-daa3c147-2a72-4e43-9317-d3d7934ad40c button.colab-df-quickchart');\n",
              "  quickchartButtonEl.style.display =\n",
              "    google.colab.kernel.accessAllowed ? 'block' : 'none';\n",
              "}\n",
              "\n",
              "        displayQuickchartButton(document);\n",
              "      </script>\n",
              "      <style>\n",
              "    .colab-df-container {\n",
              "      display:flex;\n",
              "      flex-wrap:wrap;\n",
              "      gap: 12px;\n",
              "    }\n",
              "\n",
              "    .colab-df-convert {\n",
              "      background-color: #E8F0FE;\n",
              "      border: none;\n",
              "      border-radius: 50%;\n",
              "      cursor: pointer;\n",
              "      display: none;\n",
              "      fill: #1967D2;\n",
              "      height: 32px;\n",
              "      padding: 0 0 0 0;\n",
              "      width: 32px;\n",
              "    }\n",
              "\n",
              "    .colab-df-convert:hover {\n",
              "      background-color: #E2EBFA;\n",
              "      box-shadow: 0px 1px 2px rgba(60, 64, 67, 0.3), 0px 1px 3px 1px rgba(60, 64, 67, 0.15);\n",
              "      fill: #174EA6;\n",
              "    }\n",
              "\n",
              "    [theme=dark] .colab-df-convert {\n",
              "      background-color: #3B4455;\n",
              "      fill: #D2E3FC;\n",
              "    }\n",
              "\n",
              "    [theme=dark] .colab-df-convert:hover {\n",
              "      background-color: #434B5C;\n",
              "      box-shadow: 0px 1px 3px 1px rgba(0, 0, 0, 0.15);\n",
              "      filter: drop-shadow(0px 1px 2px rgba(0, 0, 0, 0.3));\n",
              "      fill: #FFFFFF;\n",
              "    }\n",
              "  </style>\n",
              "\n",
              "      <script>\n",
              "        const buttonEl =\n",
              "          document.querySelector('#df-74b83a6f-de54-4c8d-9fe3-e8cf204c7d76 button.colab-df-convert');\n",
              "        buttonEl.style.display =\n",
              "          google.colab.kernel.accessAllowed ? 'block' : 'none';\n",
              "\n",
              "        async function convertToInteractive(key) {\n",
              "          const element = document.querySelector('#df-74b83a6f-de54-4c8d-9fe3-e8cf204c7d76');\n",
              "          const dataTable =\n",
              "            await google.colab.kernel.invokeFunction('convertToInteractive',\n",
              "                                                     [key], {});\n",
              "          if (!dataTable) return;\n",
              "\n",
              "          const docLinkHtml = 'Like what you see? Visit the ' +\n",
              "            '<a target=\"_blank\" href=https://colab.research.google.com/notebooks/data_table.ipynb>data table notebook</a>'\n",
              "            + ' to learn more about interactive tables.';\n",
              "          element.innerHTML = '';\n",
              "          dataTable['output_type'] = 'display_data';\n",
              "          await google.colab.output.renderOutput(dataTable, element);\n",
              "          const docLink = document.createElement('div');\n",
              "          docLink.innerHTML = docLinkHtml;\n",
              "          element.appendChild(docLink);\n",
              "        }\n",
              "      </script>\n",
              "    </div>\n",
              "  </div>\n"
            ]
          },
          "metadata": {},
          "execution_count": 2
        }
      ]
    },
    {
      "cell_type": "markdown",
      "source": [
        "Our data consists of several fields:\n",
        "\n",
        "1.  `case_id`: A unique identifier for each case.\n",
        "2.  `report_date`: The date when the case was reported.\n",
        "3.  `location`: The location where the case was reported.\n",
        "4.  `symptom_severity`: The severity of the symptoms.\n",
        "5.  `case_status`: The status of the case (e.g., Infected, Recovered).\n",
        "6.  `age`: The age of the individual.\n",
        "    - It looks like -1 is used to code \"age not known.\"\n",
        "\n",
        "Now, let's see what sorts of values we have in the (non-numeric) colums:"
      ],
      "metadata": {
        "id": "oX4MyGKbHS5N"
      }
    },
    {
      "cell_type": "code",
      "source": [
        "print(df.location.unique(), \"\\n\",\n",
        "df.symptom_severity.unique(), \"\\n\",\n",
        "df.case_status.unique(), \"\\n\",\n",
        ")"
      ],
      "metadata": {
        "id": "ARyXbnNsPzHi",
        "outputId": "d3c1988c-8987-4b9c-c54e-11930e9c9b08",
        "colab": {
          "base_uri": "https://localhost:8080/"
        }
      },
      "execution_count": 10,
      "outputs": [
        {
          "output_type": "stream",
          "name": "stdout",
          "text": [
            "['MN' 'WI' 'IA' 'SD' 'ND' 'NE' 'IL' 'MI' 'IN' 'OH'] \n",
            " ['Mild' 'Moderate' 'Severe'] \n",
            " ['Deceased' 'Infected' 'Recovered' 'Unknown'] \n",
            "\n"
          ]
        }
      ]
    },
    {
      "cell_type": "markdown",
      "source": [
        "This code block is using the `print` function in Python, which simply displays the output of the code inside its parentheses. It is printing three different outputs here, separated by newline characters (`\"\\n\"`), which create a break or new line in the output.\n",
        "\n",
        "Let's break this down further:\n",
        "\n",
        "1.  `df.location.unique()`: This statement is using the `unique` method of the pandas DataFrame (df). This method is used to find the unique elements of a particular column ('location') in the DataFrame. In other words, it is showing all the distinct values that exist in the 'location' column of the data. This is useful when you want to understand the diversity of your dataset - for instance, to see how many different locations are represented in your data. Here, the data is focused on midwest statees.\n",
        "\n",
        "2.  `df.symptom_severity.unique()`: Similar to the above, this statement is finding all the unique elements in the 'symptom_severity' column of the DataFrame. This could be useful for understanding what different severity levels exist in your dataset.\n",
        "\n",
        "3.  `df.case_status.unique()`: Again, this statement is finding all unique elements in the 'case_status' column of the DataFrame.\n",
        "\n",
        "In the context of data cleaning and ETL (Extract, Transform, Load) process, this kind of code is often used in the exploratory phase. Before you can clean or transform your data, you need to understand what's in it. This code helps by showing what unique values exist in these particular columns, and could assist in identifying any inconsistencies, typos or outliers in the data. For example, we see that some values of `case_status` are \"unknown.\""
      ],
      "metadata": {
        "id": "V4udcodlRQLR"
      }
    },
    {
      "cell_type": "markdown",
      "source": [
        "### Transform\n",
        "\n",
        "Just as an unlucky bite from a Zombie can change a person into a Zombie, transformation involves cleaning and preparing the data for the database. The exact transformations will depend on the specific data and the needs of the database.\n",
        "\n",
        "One of the most common issues when working with data is dealing with missing or unknown values. These can be represented in many ways, including special symbols, placeholder text, or specific numbers. In our Zombie outbreak dataset, \"unknown\" values in the `case_status` column and -1 values in the `age` column represent missing or unknown data.\n",
        "\n",
        "Why might we want to replace these placeholders with NULLs?\n",
        "\n",
        "1.  Accuracy: The placeholder values might be mistaken for actual data. For example, -1 is a valid number, so if someone didn't know it was being used as a placeholder, they might include it in numerical calculations, which would give inaccurate results.\n",
        "\n",
        "2.  Compatibility: Some systems and databases have built-in support for handling NULLs. For example, SQL has several functions that specifically deal with NULL values.\n",
        "\n",
        "3.  Standardization: NULL is a widely recognized representation for missing or unknown data. Using NULL instead of various different placeholders helps make your data more consistent and understandable.\n",
        "\n",
        "Let's replace these placeholder values with NULLs in our data. We'll also convert the `report_date` column to a datetime data type, which is more appropriate for date data."
      ],
      "metadata": {
        "id": "IUSlx4JUHW9M"
      }
    },
    {
      "cell_type": "code",
      "source": [
        "# Replace \"unknown\" and -1 with NULL\n",
        "df['case_status'] = df['case_status'].replace('unknown', None)\n",
        "df['age'] = df['age'].replace(-1, None)\n",
        "\n",
        "# Convert report_date to datetime\n",
        "df['report_date'] = pd.to_datetime(df['report_date'])\n",
        "\n",
        "# Check the data types and the first few rows of the dataframe\n",
        "df.dtypes, df.head(10)\n"
      ],
      "metadata": {
        "id": "8O9h2-0PSxhB",
        "outputId": "9a371ed4-b228-49ca-f317-8f6c9a223e28",
        "colab": {
          "base_uri": "https://localhost:8080/"
        }
      },
      "execution_count": 12,
      "outputs": [
        {
          "output_type": "execute_result",
          "data": {
            "text/plain": [
              "(case_id                      int64\n",
              " report_date         datetime64[ns]\n",
              " location                    object\n",
              " symptom_severity            object\n",
              " case_status                 object\n",
              " age                         object\n",
              " dtype: object,\n",
              "    case_id report_date location symptom_severity case_status   age\n",
              " 0        0  2028-02-01       MN             Mild    Deceased    73\n",
              " 1        1  2028-02-01       MN             Mild    Infected    29\n",
              " 2        2  2028-02-01       MN             Mild   Recovered    74\n",
              " 3        3  2028-02-01       MN             Mild    Infected    62\n",
              " 4        4  2028-02-01       MN             Mild    Infected    65\n",
              " 5        5  2028-02-01       MN         Moderate   Recovered    47\n",
              " 6        6  2028-02-01       MN           Severe   Recovered  None\n",
              " 7        7  2028-02-01       MN         Moderate   Recovered    57\n",
              " 8        8  2028-02-01       MN             Mild   Recovered    11\n",
              " 9        9  2028-02-01       MN           Severe    Infected  None)"
            ]
          },
          "metadata": {},
          "execution_count": 12
        }
      ]
    },
    {
      "cell_type": "markdown",
      "source": [
        "We have successfully replaced the placeholders with NULLs and converted the `report_date` column to datetime format. Our data is now clean and ready to be loaded into a database.\n",
        "\n",
        "It's important to note that the transformations needed will depend on the specific data you're working with. For example, you might need to handle different types of missing value indicators, convert other data types, or perform more complex cleaning tasks."
      ],
      "metadata": {
        "id": "eqW3NronS7yf"
      }
    },
    {
      "cell_type": "markdown",
      "source": [
        "## Load\n",
        "The final step in the ETL process is loading the transformed data into the destination system. In our case, we're loading the data into a SQLite database, which is a lightweight disk-based database that doesn't require a separate server process.\n",
        "\n",
        "We'll use the `sqlite3` library in Python to load our data into a SQLite database. Let's create a new SQLite database and load our data into a table in this database. We'll name the table \"zombie_outbreak\".\n",
        "\n",
        "Note that if the specified database does not exist, `sqlite3` will automatically create it. If the table already exists, it will be replaced with our new data. Let's proceed with loading the data."
      ],
      "metadata": {
        "id": "J4MrKti6UWWf"
      }
    },
    {
      "cell_type": "code",
      "source": [
        "import sqlite3\n",
        "\n",
        "# Create a connection to the SQLite database\n",
        "# If the database does not exist, it will be created\n",
        "conn = sqlite3.connect('zombie_outbreak.db')\n",
        "\n",
        "# Write the data to a SQLite table\n",
        "df.to_sql('zombie_outbreak', conn, if_exists='replace', index=False)\n",
        "\n",
        "# Close the connection to the database\n",
        "conn.close()"
      ],
      "metadata": {
        "id": "_lVYvmbxUbIc"
      },
      "execution_count": 14,
      "outputs": []
    },
    {
      "cell_type": "markdown",
      "source": [
        "The data has now been loaded into a SQLite database in a table named \"zombie_outbreak\".\n",
        "\n",
        "To verify that the data has been loaded correctly, we can fetch and display the first few rows from the \"zombie_outbreak\" table in the SQLite database. Let's do that now."
      ],
      "metadata": {
        "id": "Y8_iNVfZUqT5"
      }
    },
    {
      "cell_type": "code",
      "execution_count": 15,
      "metadata": {
        "id": "Yk8MmCew0IDm",
        "outputId": "15d4ccbe-c32f-42af-fe7d-52575ae82341",
        "colab": {
          "base_uri": "https://localhost:8080/",
          "height": 231
        }
      },
      "outputs": [
        {
          "output_type": "stream",
          "name": "stdout",
          "text": [
            "\u001b[2K     \u001b[90m━━━━━━━━━━━━━━━━━━━━━━━━━━━━━━━━━━━━━━━━\u001b[0m \u001b[32m6.4/6.4 MB\u001b[0m \u001b[31m15.0 MB/s\u001b[0m eta \u001b[36m0:00:00\u001b[0m\n",
            "\u001b[?25h  Preparing metadata (setup.py) ... \u001b[?25l\u001b[?25hdone\n",
            "  Building wheel for SQLAlchemy (setup.py) ... \u001b[?25l\u001b[?25hdone\n",
            " * sqlite:///zombie_outbreak.db\n",
            "Done.\n"
          ]
        },
        {
          "output_type": "execute_result",
          "data": {
            "text/plain": [
              "[(0, '2028-02-01 00:00:00', 'MN', 'Mild', 'Deceased', 73),\n",
              " (1, '2028-02-01 00:00:00', 'MN', 'Mild', 'Infected', 29),\n",
              " (2, '2028-02-01 00:00:00', 'MN', 'Mild', 'Recovered', 74),\n",
              " (3, '2028-02-01 00:00:00', 'MN', 'Mild', 'Infected', 62),\n",
              " (4, '2028-02-01 00:00:00', 'MN', 'Mild', 'Infected', 65)]"
            ],
            "text/html": [
              "<table>\n",
              "    <tr>\n",
              "        <th>case_id</th>\n",
              "        <th>report_date</th>\n",
              "        <th>location</th>\n",
              "        <th>symptom_severity</th>\n",
              "        <th>case_status</th>\n",
              "        <th>age</th>\n",
              "    </tr>\n",
              "    <tr>\n",
              "        <td>0</td>\n",
              "        <td>2028-02-01 00:00:00</td>\n",
              "        <td>MN</td>\n",
              "        <td>Mild</td>\n",
              "        <td>Deceased</td>\n",
              "        <td>73</td>\n",
              "    </tr>\n",
              "    <tr>\n",
              "        <td>1</td>\n",
              "        <td>2028-02-01 00:00:00</td>\n",
              "        <td>MN</td>\n",
              "        <td>Mild</td>\n",
              "        <td>Infected</td>\n",
              "        <td>29</td>\n",
              "    </tr>\n",
              "    <tr>\n",
              "        <td>2</td>\n",
              "        <td>2028-02-01 00:00:00</td>\n",
              "        <td>MN</td>\n",
              "        <td>Mild</td>\n",
              "        <td>Recovered</td>\n",
              "        <td>74</td>\n",
              "    </tr>\n",
              "    <tr>\n",
              "        <td>3</td>\n",
              "        <td>2028-02-01 00:00:00</td>\n",
              "        <td>MN</td>\n",
              "        <td>Mild</td>\n",
              "        <td>Infected</td>\n",
              "        <td>62</td>\n",
              "    </tr>\n",
              "    <tr>\n",
              "        <td>4</td>\n",
              "        <td>2028-02-01 00:00:00</td>\n",
              "        <td>MN</td>\n",
              "        <td>Mild</td>\n",
              "        <td>Infected</td>\n",
              "        <td>65</td>\n",
              "    </tr>\n",
              "</table>"
            ]
          },
          "metadata": {},
          "execution_count": 15
        }
      ],
      "source": [
        "# First, we create a database and connect to it\n",
        "!pip install SQLAlchemy==1.3.24 -q # Needed o avoid problems with more recent version in Colab\n",
        "\n",
        "%load_ext sql\n",
        "%sql sqlite:///zombie_outbreak.db\n",
        "\n",
        "%sql SELECT * FROM zombie_outbreak LIMIT 10;"
      ]
    },
    {
      "cell_type": "markdown",
      "source": [
        "As we can see, the data has been successfully loaded into the SQLite database. The queried rows from the SQLite database match the first few rows of our original data.\n",
        "\n",
        "To summarize, we've successfully conducted an ETL process:\n",
        "\n",
        "1.  Extracted data from a CSV file using `pandas`.\n",
        "2.  Transformed the data by replacing placeholder values with NULLs, converting data types, and checking for any missing values.\n",
        "3.  Loaded the data into a SQLite database using `sqlite3`.\n",
        "\n",
        "This data is now ready for analysis. As a CDC analyst, you can now query this database to find patterns, generate reports, or input this data into a machine learning model to make predictions.\n",
        "\n",
        "Remember, the ETL process is a crucial step in ensuring that your data is accurate, consistent, and ready for analysis. By following this guide, you should be able to apply these ETL concepts to your own data tasks."
      ],
      "metadata": {
        "id": "BLWfkgW-VG7J"
      }
    },
    {
      "cell_type": "markdown",
      "source": [
        "## Introduction to Pandas\n",
        "\n",
        "Pandas is a powerful data manipulation library in Python. It provides flexible and efficient data structures that make data manipulation and analysis easy.\n",
        "\n",
        "Pandas is built on top of two core Python libraries - Matplotlib for data visualization and NumPy for mathematical operations. Pandas allows you to do complex data manipulation with simple, one-line commands.\n",
        "\n",
        "One of the key data structures in Pandas is the DataFrame, which is a two-dimensional labeled data structure with columns that can be of different types (like integers, strings, and datetimes).\n",
        "\n",
        "Let's take a deeper look at some of the Pandas functionalities we've used in our ETL process:\n",
        "\n",
        "### `pd.read_csv()`\n",
        "\n",
        "This is a function in pandas that reads CSV files and converts them into DataFrame. It has various options allowing you to, for example, specify the delimiter, handle missing values, skip rows, etc.\n",
        "\n",
        "In our ETL process, we used this function to load our Zombie outbreak data from a CSV file:\n",
        "\n",
        "\n",
        "```\n",
        "df = pd.read_csv('/mnt/data/zombie_outbreak.csv')\n",
        "```\n",
        "\n",
        "### `df.head()`\n",
        "\n",
        "This is a function that returns the first n rows of the DataFrame. This is useful to get a glimpse of the data after loading it. By default, it returns the first 5 rows.\n",
        "\n",
        "We used this function several times to display the first few rows of our data:\n",
        "\n",
        "```\n",
        "df.head()\n",
        "```\n",
        "\n",
        "### `df.replace()`\n",
        "\n",
        "This function replaces a set of values with another set of values in the DataFrame. We used this function to replace the \"unknown\" values and -1 values with NULLs in our data:\n",
        "\n",
        "```\n",
        "df['case_status'] = df['case_status'].replace('unknown', None)\n",
        "df['age'] = df['age'].replace(-1, None)\n",
        "```\n",
        "\n",
        "### `pd.to_datetime()`\n",
        "\n",
        "This function converts a series of string representations of dates and times to a series of datetime objects. We used this function to convert the `report_date` column to datetime:\n",
        "\n",
        "```\n",
        "df['report_date'] = pd.to_datetime(df['report_date'])\n",
        "```\n",
        "\n",
        "### `df.dtypes`\n",
        "\n",
        "This is an attribute (not a function) that returns the data types of each column in the DataFrame. This is useful to check if the data types are what we expect. For example, we want `report_date` to be a datetime, `location` to be a string, `case_status` to be a categorical variable, and `age` to be an integer.\n",
        "\n",
        "```\n",
        "df.dtypes\n",
        "```\n",
        "\n",
        "### `df.to_sql()`\n",
        "\n",
        "This function writes records stored in a DataFrame to a SQL database. We used this function to load our data into a SQLite database:\n",
        "\n",
        "```\n",
        "df.to_sql('zombie_outbreak', conn, if_exists='replace', index=False)\n",
        "```\n",
        "\n",
        "Here, `conn` is a connection object to our SQLite database, `'zombie_outbreak'` is the name of the table we want to create in the database, `if_exists='replace'` means that if the table already exists, it will be replaced with our new data, and `index=False` means that the index of the DataFrame will not be included as a column in the table."
      ],
      "metadata": {
        "id": "e-CY0mu7VHI4"
      }
    },
    {
      "cell_type": "markdown",
      "source": [
        "## Appendix: A Script to Generate a Random Zombie Outbreak\n",
        "You don't need to run this! I just included it here to show how I generated the data set we're working with. Feel free to play with it to see what happens! (Right now, this is *not* a realistic pandemic data set)."
      ],
      "metadata": {
        "id": "jFmJRoMw0IyO"
      }
    },
    {
      "cell_type": "code",
      "source": [
        "NUM_CASES = 5000\n",
        "\n",
        "import pandas as pd\n",
        "import numpy as np\n",
        "from random import choices, randint\n",
        "from datetime import datetime, timedelta\n",
        "import math\n",
        "\n",
        "# List of states to simulate spreading of the outbreak\n",
        "states = ['MN', 'WI', 'IA', 'SD', 'ND', 'NE', 'IL', 'MI', 'IN', 'OH']\n",
        "\n",
        "# Define the severity levels and case status\n",
        "severity_levels = ['Mild', 'Moderate', 'Severe']\n",
        "case_status = ['Infected', 'Recovered', 'Deceased', 'Unknown']\n",
        "\n",
        "# Function to generate case_status based on age and severity\n",
        "def generate_case_status(age, severity):\n",
        "    if severity == 'Mild':\n",
        "        return choices(case_status, weights=[70, 29, 1, 0])[0] if age != -1 else choices(case_status, weights=[0, 0, 0, 100])[0]\n",
        "    elif severity == 'Moderate':\n",
        "        return choices(case_status, weights=[40, 59, 1, 0])[0] if age != -1 else choices(case_status, weights=[0, 0, 0, 100])[0]\n",
        "    else: # 'Severe'\n",
        "        return choices(case_status, weights=[20, 29, 51, 0])[0] if age > 50 else choices(case_status, weights=[40, 59, 1, 0])[0]\n",
        "\n",
        "# Create dataframe\n",
        "data = {'case_id': [], 'report_date': [], 'location': [], 'symptom_severity': [], 'case_status': [], 'age': []}\n",
        "\n",
        "start_date = datetime(2028, 2, 1)\n",
        "end_date = datetime(2028, 8, 1)\n",
        "num_days = (end_date - start_date).days\n",
        "\n",
        "# Exponential growth parameters\n",
        "a = 1  # initial number of cases\n",
        "r = np.log(2) / 30  # rate, set to double every month\n",
        "\n",
        "# Generate t values (one for each case), evenly spaced between 0 and the total number of days\n",
        "t_values = np.linspace(0, num_days, num=NUM_CASES)\n",
        "\n",
        "# Calculate the number of cases for each day, round to nearest integer\n",
        "case_counts = np.rint(a * np.exp(r * t_values)).astype(int)\n",
        "\n",
        "# Generate dates proportionate to the exponential growth of cases\n",
        "dates = [start_date + timedelta(days=int(t)) for t in t_values]\n",
        "\n",
        "for i in range(NUM_CASES):\n",
        "    # Get the date\n",
        "    date = dates[i]\n",
        "\n",
        "    # generate location based on the date (more recent dates have more states)\n",
        "    location = np.random.choice(states[:max(1, (date-start_date).days//(num_days//len(states)))])\n",
        "\n",
        "    # generate age (more older people as per severity)\n",
        "    age = int(np.random.normal(loc=50, scale=20))\n",
        "    if age < 0: age = 0\n",
        "    if np.random.rand() < 0.1:  # 10% chance of age being unknown\n",
        "        age = -1\n",
        "\n",
        "    # generate symptom severity (more severe for older people)\n",
        "    symptom_severity = choices(severity_levels, weights=[70, 20, 10] if age != -1 else [10, 20, 70])[0]\n",
        "\n",
        "    # generate case_status based on symptom_severity and age\n",
        "    case_status_generated = generate_case_status(age, symptom_severity)\n",
        "\n",
        "    # append generated data to the dictionary\n",
        "    data['case_id'].append(i)\n",
        "    data['report_date'].append(date.strftime(\"%Y-%m-%d\"))\n",
        "    data['location'].append(location)\n",
        "    data['symptom_severity'].append(symptom_severity)\n",
        "    data['case_status'].append(case_status_generated)\n",
        "    data['age'].append(age)\n",
        "\n",
        "# Create DataFrame\n",
        "df = pd.DataFrame(data)\n",
        "\n",
        "# Save DataFrame to CSV\n",
        "df.to_csv('zombie_outbreak.csv', index=False)\n"
      ],
      "metadata": {
        "id": "5MNE7TUB2xRA"
      },
      "execution_count": null,
      "outputs": []
    }
  ]
}