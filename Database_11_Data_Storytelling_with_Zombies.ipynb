{
  "nbformat": 4,
  "nbformat_minor": 0,
  "metadata": {
    "colab": {
      "provenance": [],
      "authorship_tag": "ABX9TyM2IkzyiT7zfUeniZG+hTEC",
      "include_colab_link": true
    },
    "kernelspec": {
      "name": "python3",
      "display_name": "Python 3"
    },
    "language_info": {
      "name": "python"
    }
  },
  "cells": [
    {
      "cell_type": "markdown",
      "metadata": {
        "id": "view-in-github",
        "colab_type": "text"
      },
      "source": [
        "<a href=\"https://colab.research.google.com/github/brendanpshea/database_sql/blob/main/Database_11_Data_Storytelling_with_Zombies.ipynb\" target=\"_parent\"><img src=\"https://colab.research.google.com/assets/colab-badge.svg\" alt=\"Open In Colab\"/></a>"
      ]
    },
    {
      "cell_type": "markdown",
      "source": [
        "# Telling a Story (About Zombies) with Your Data\n",
        "### Brendan Shea, PhD\n",
        "\n",
        "In this chapter, we delve into the heart of data analysis: the art and science of interpreting your data and communicating your findings effectively. Your journey through this course has equipped you with the fundamental skills to gather, organize, and manipulate data. Now, we turn our attention towards the real-world challenge of extracting meaningful insights from our datasets and presenting these insights in a manner that allows others to understand and act upon them.\n",
        "\n",
        "We will begin by exploring how to clean and structure data to facilitate downstream analysis. This often overlooked step is crucial in ensuring the integrity of your analyses and, consequently, the reliability of your findings.\n",
        "\n",
        "Next, we turn to the essential task of visualizing data. We'll delve into various techniques for presenting different types of data, including geographical and temporal data. We will also discuss the development of interactive dashboards, a powerful tool for real-time data monitoring and decision-making.\n",
        "\n",
        "We will then transition into the realm of descriptive and inferential statistics. Descriptive statistics help us summarize and understand the characteristics of our dataset. Inferential statistics, on the other hand, enable us to make predictions and inferences about a population based on a sample.\n",
        "\n",
        "Finally, we will address the all-important task of report writing. Here we will discuss how to structure a report, how to communicate complex information clearly and succinctly, and how to ensure your report is both engaging and informative.\n",
        "\n",
        "Throughout this chapter, we will be mindful of potential biases and confounding factors that could impact our analyses. We will also discuss the importance of data privacy and ethics, particularly when handling sensitive information.\n",
        "\n"
      ],
      "metadata": {
        "id": "vn4WZd9PErO8"
      }
    },
    {
      "cell_type": "markdown",
      "source": [
        "**Brendan's Note:** This chapter will demonstrate some more \"advanced\" topic in data analysis. The goal here is not to memorize each and every function, but rather to get a sense of \"how these things work\" at a high level. (So, don't worry if you don't \"get\" everything right away--no one does!)."
      ],
      "metadata": {
        "id": "s0dS-2dTTNoK"
      }
    },
    {
      "cell_type": "markdown",
      "source": [
        "## Case Study: Zombies!\n",
        "\n",
        "Now, let's bring these concepts to life with a case study. You are a junior analyst at the Centers for Disease Control and Prevention (CDC). Suddenly, an outbreak of a mysterious illness begins to spread rapidly across the country. The symptoms appear zombie-like, and public fear is rising. Your task is to analyze the data coming in from across the nation, make sense of it, and communicate your findings to various stakeholders. This high-stakes scenario will give you a taste of what data analysts face in real-world crises.\n",
        "\n",
        "As we proceed through this chapter, we will apply the concepts we learn to this unfolding crisis, helping the CDC understand and combat the spread of this terrifying outbreak. Let's get started!"
      ],
      "metadata": {
        "id": "Cjv75toYFEvJ"
      }
    },
    {
      "cell_type": "markdown",
      "source": [
        "## Extract, Transform, Load (ETL)\n",
        "\n",
        "Extract, Transform, Load (ETL) is a critical process used in data handling, particularly in data warehousing. It's a three-step procedure:\n",
        "\n",
        "1.  **Extract:** Data is extracted from various sources, which could be databases, Excel files, web pages, or even text files. The nature of these sources often means the data is in different formats and structures.\n",
        "\n",
        "2.  **Transform:** This is the process of converting the extracted data into a form that can be analyzed more effectively. Transformations may include cleaning (removing errors or inconsistencies), filtering, splitting or merging fields, converting data types, or creating new calculated fields.\n",
        "\n",
        "3.  **Load** The final step is to load the transformed data into a final target database or data warehouse, where it can be accessed and analyzed. This data store is often designed differently from operational databases, optimized for analysis rather than transactional processing.\n",
        "\n",
        "As a junior analyst at the CDC tasked with responding to a Zombie outbreak, you'll be dealing with data from many sources. You might have case reports coming in from hospitals in various formats, laboratory test results coming from different lab systems, demographic data from census databases, and even social media posts or news reports. Each of these data sources will have its own structure and quirks.\n",
        "\n",
        "The ETL process allows you to consolidate all this diverse data into a consistent format in a single location. This makes it much easier to analyze the data, spot trends and patterns, and generate reports. For example, you might need to generate a daily report of new Zombie cases, or analyze case data to identify risk factors for severe symptoms. ETL is the process that enables these activities, ensuring that the data you're working with is accurate, consistent, and up-to-date."
      ],
      "metadata": {
        "id": "Ub2QfP02F5Cs"
      }
    },
    {
      "cell_type": "markdown",
      "source": [
        "### Extract\n",
        "\n",
        "Just as Zombies aim to \"extract\" brains from heads, the first step in the ETL process is to **extract** the data from its source. In this case, our data is stored in a CSV file. We'll use the Python library `pandas` to read this CSV file and load the data into a **pandas** DataFrame.\n",
        "\n",
        "Let's start by loading our data."
      ],
      "metadata": {
        "id": "NaEbh1yQGLIh"
      }
    },
    {
      "cell_type": "code",
      "source": [
        "import pandas as pd\n",
        "\n",
        "# download our data\n",
        "!wget https://github.com/brendanpshea/database_sql/raw/main/data/zombie_outbreak.csv -q -N\n",
        "# Load the data from the CSV file\n",
        "df = pd.read_csv('zombie_outbreak.csv')\n",
        "# Display the first few rows of the dataframe\n",
        "df.head(10)"
      ],
      "metadata": {
        "colab": {
          "base_uri": "https://localhost:8080/",
          "height": 363
        },
        "id": "yasx6piwGFFE",
        "outputId": "d8f1d463-93cf-4cd5-ef3c-e11363586546"
      },
      "execution_count": 1,
      "outputs": [
        {
          "output_type": "execute_result",
          "data": {
            "text/plain": [
              "   case_id report_date location symptom_severity        case_status  age\n",
              "0        0  2028-02-01       MN   Just a Scratch          Recovered   80\n",
              "1        1  2028-02-02       MN   Just a Scratch  Lost to the Horde   37\n",
              "2        2  2028-02-03       MN   Just a Scratch             Turned   34\n",
              "3        3  2028-02-04       MN   Just a Scratch            Unknown   48\n",
              "4        4  2028-02-05       MN   Just a Scratch          Recovered   79\n",
              "5        5  2028-02-06       MN           Bitten          Recovered   50\n",
              "6        6  2028-02-07       MN           Mauled            Unknown   -1\n",
              "7        7  2028-02-08       MN   Just a Scratch          Recovered   22\n",
              "8        8  2028-02-09       MN   Just a Scratch             Turned   55\n",
              "9        9  2028-02-10       MN   Just a Scratch          Recovered   46"
            ],
            "text/html": [
              "\n",
              "\n",
              "  <div id=\"df-78d0304c-7062-4c9b-aa8e-84c486be5efa\">\n",
              "    <div class=\"colab-df-container\">\n",
              "      <div>\n",
              "<style scoped>\n",
              "    .dataframe tbody tr th:only-of-type {\n",
              "        vertical-align: middle;\n",
              "    }\n",
              "\n",
              "    .dataframe tbody tr th {\n",
              "        vertical-align: top;\n",
              "    }\n",
              "\n",
              "    .dataframe thead th {\n",
              "        text-align: right;\n",
              "    }\n",
              "</style>\n",
              "<table border=\"1\" class=\"dataframe\">\n",
              "  <thead>\n",
              "    <tr style=\"text-align: right;\">\n",
              "      <th></th>\n",
              "      <th>case_id</th>\n",
              "      <th>report_date</th>\n",
              "      <th>location</th>\n",
              "      <th>symptom_severity</th>\n",
              "      <th>case_status</th>\n",
              "      <th>age</th>\n",
              "    </tr>\n",
              "  </thead>\n",
              "  <tbody>\n",
              "    <tr>\n",
              "      <th>0</th>\n",
              "      <td>0</td>\n",
              "      <td>2028-02-01</td>\n",
              "      <td>MN</td>\n",
              "      <td>Just a Scratch</td>\n",
              "      <td>Recovered</td>\n",
              "      <td>80</td>\n",
              "    </tr>\n",
              "    <tr>\n",
              "      <th>1</th>\n",
              "      <td>1</td>\n",
              "      <td>2028-02-02</td>\n",
              "      <td>MN</td>\n",
              "      <td>Just a Scratch</td>\n",
              "      <td>Lost to the Horde</td>\n",
              "      <td>37</td>\n",
              "    </tr>\n",
              "    <tr>\n",
              "      <th>2</th>\n",
              "      <td>2</td>\n",
              "      <td>2028-02-03</td>\n",
              "      <td>MN</td>\n",
              "      <td>Just a Scratch</td>\n",
              "      <td>Turned</td>\n",
              "      <td>34</td>\n",
              "    </tr>\n",
              "    <tr>\n",
              "      <th>3</th>\n",
              "      <td>3</td>\n",
              "      <td>2028-02-04</td>\n",
              "      <td>MN</td>\n",
              "      <td>Just a Scratch</td>\n",
              "      <td>Unknown</td>\n",
              "      <td>48</td>\n",
              "    </tr>\n",
              "    <tr>\n",
              "      <th>4</th>\n",
              "      <td>4</td>\n",
              "      <td>2028-02-05</td>\n",
              "      <td>MN</td>\n",
              "      <td>Just a Scratch</td>\n",
              "      <td>Recovered</td>\n",
              "      <td>79</td>\n",
              "    </tr>\n",
              "    <tr>\n",
              "      <th>5</th>\n",
              "      <td>5</td>\n",
              "      <td>2028-02-06</td>\n",
              "      <td>MN</td>\n",
              "      <td>Bitten</td>\n",
              "      <td>Recovered</td>\n",
              "      <td>50</td>\n",
              "    </tr>\n",
              "    <tr>\n",
              "      <th>6</th>\n",
              "      <td>6</td>\n",
              "      <td>2028-02-07</td>\n",
              "      <td>MN</td>\n",
              "      <td>Mauled</td>\n",
              "      <td>Unknown</td>\n",
              "      <td>-1</td>\n",
              "    </tr>\n",
              "    <tr>\n",
              "      <th>7</th>\n",
              "      <td>7</td>\n",
              "      <td>2028-02-08</td>\n",
              "      <td>MN</td>\n",
              "      <td>Just a Scratch</td>\n",
              "      <td>Recovered</td>\n",
              "      <td>22</td>\n",
              "    </tr>\n",
              "    <tr>\n",
              "      <th>8</th>\n",
              "      <td>8</td>\n",
              "      <td>2028-02-09</td>\n",
              "      <td>MN</td>\n",
              "      <td>Just a Scratch</td>\n",
              "      <td>Turned</td>\n",
              "      <td>55</td>\n",
              "    </tr>\n",
              "    <tr>\n",
              "      <th>9</th>\n",
              "      <td>9</td>\n",
              "      <td>2028-02-10</td>\n",
              "      <td>MN</td>\n",
              "      <td>Just a Scratch</td>\n",
              "      <td>Recovered</td>\n",
              "      <td>46</td>\n",
              "    </tr>\n",
              "  </tbody>\n",
              "</table>\n",
              "</div>\n",
              "      <button class=\"colab-df-convert\" onclick=\"convertToInteractive('df-78d0304c-7062-4c9b-aa8e-84c486be5efa')\"\n",
              "              title=\"Convert this dataframe to an interactive table.\"\n",
              "              style=\"display:none;\">\n",
              "\n",
              "  <svg xmlns=\"http://www.w3.org/2000/svg\" height=\"24px\"viewBox=\"0 0 24 24\"\n",
              "       width=\"24px\">\n",
              "    <path d=\"M0 0h24v24H0V0z\" fill=\"none\"/>\n",
              "    <path d=\"M18.56 5.44l.94 2.06.94-2.06 2.06-.94-2.06-.94-.94-2.06-.94 2.06-2.06.94zm-11 1L8.5 8.5l.94-2.06 2.06-.94-2.06-.94L8.5 2.5l-.94 2.06-2.06.94zm10 10l.94 2.06.94-2.06 2.06-.94-2.06-.94-.94-2.06-.94 2.06-2.06.94z\"/><path d=\"M17.41 7.96l-1.37-1.37c-.4-.4-.92-.59-1.43-.59-.52 0-1.04.2-1.43.59L10.3 9.45l-7.72 7.72c-.78.78-.78 2.05 0 2.83L4 21.41c.39.39.9.59 1.41.59.51 0 1.02-.2 1.41-.59l7.78-7.78 2.81-2.81c.8-.78.8-2.07 0-2.86zM5.41 20L4 18.59l7.72-7.72 1.47 1.35L5.41 20z\"/>\n",
              "  </svg>\n",
              "      </button>\n",
              "\n",
              "\n",
              "\n",
              "    <div id=\"df-7fa8aaa9-edcf-4e44-984b-2ab22b4c3d5f\">\n",
              "      <button class=\"colab-df-quickchart\" onclick=\"quickchart('df-7fa8aaa9-edcf-4e44-984b-2ab22b4c3d5f')\"\n",
              "              title=\"Suggest charts.\"\n",
              "              style=\"display:none;\">\n",
              "\n",
              "<svg xmlns=\"http://www.w3.org/2000/svg\" height=\"24px\"viewBox=\"0 0 24 24\"\n",
              "     width=\"24px\">\n",
              "    <g>\n",
              "        <path d=\"M19 3H5c-1.1 0-2 .9-2 2v14c0 1.1.9 2 2 2h14c1.1 0 2-.9 2-2V5c0-1.1-.9-2-2-2zM9 17H7v-7h2v7zm4 0h-2V7h2v10zm4 0h-2v-4h2v4z\"/>\n",
              "    </g>\n",
              "</svg>\n",
              "      </button>\n",
              "    </div>\n",
              "\n",
              "<style>\n",
              "  .colab-df-quickchart {\n",
              "    background-color: #E8F0FE;\n",
              "    border: none;\n",
              "    border-radius: 50%;\n",
              "    cursor: pointer;\n",
              "    display: none;\n",
              "    fill: #1967D2;\n",
              "    height: 32px;\n",
              "    padding: 0 0 0 0;\n",
              "    width: 32px;\n",
              "  }\n",
              "\n",
              "  .colab-df-quickchart:hover {\n",
              "    background-color: #E2EBFA;\n",
              "    box-shadow: 0px 1px 2px rgba(60, 64, 67, 0.3), 0px 1px 3px 1px rgba(60, 64, 67, 0.15);\n",
              "    fill: #174EA6;\n",
              "  }\n",
              "\n",
              "  [theme=dark] .colab-df-quickchart {\n",
              "    background-color: #3B4455;\n",
              "    fill: #D2E3FC;\n",
              "  }\n",
              "\n",
              "  [theme=dark] .colab-df-quickchart:hover {\n",
              "    background-color: #434B5C;\n",
              "    box-shadow: 0px 1px 3px 1px rgba(0, 0, 0, 0.15);\n",
              "    filter: drop-shadow(0px 1px 2px rgba(0, 0, 0, 0.3));\n",
              "    fill: #FFFFFF;\n",
              "  }\n",
              "</style>\n",
              "\n",
              "    <script>\n",
              "      async function quickchart(key) {\n",
              "        const containerElement = document.querySelector('#' + key);\n",
              "        const charts = await google.colab.kernel.invokeFunction(\n",
              "            'suggestCharts', [key], {});\n",
              "      }\n",
              "    </script>\n",
              "\n",
              "      <script>\n",
              "\n",
              "function displayQuickchartButton(domScope) {\n",
              "  let quickchartButtonEl =\n",
              "    domScope.querySelector('#df-7fa8aaa9-edcf-4e44-984b-2ab22b4c3d5f button.colab-df-quickchart');\n",
              "  quickchartButtonEl.style.display =\n",
              "    google.colab.kernel.accessAllowed ? 'block' : 'none';\n",
              "}\n",
              "\n",
              "        displayQuickchartButton(document);\n",
              "      </script>\n",
              "      <style>\n",
              "    .colab-df-container {\n",
              "      display:flex;\n",
              "      flex-wrap:wrap;\n",
              "      gap: 12px;\n",
              "    }\n",
              "\n",
              "    .colab-df-convert {\n",
              "      background-color: #E8F0FE;\n",
              "      border: none;\n",
              "      border-radius: 50%;\n",
              "      cursor: pointer;\n",
              "      display: none;\n",
              "      fill: #1967D2;\n",
              "      height: 32px;\n",
              "      padding: 0 0 0 0;\n",
              "      width: 32px;\n",
              "    }\n",
              "\n",
              "    .colab-df-convert:hover {\n",
              "      background-color: #E2EBFA;\n",
              "      box-shadow: 0px 1px 2px rgba(60, 64, 67, 0.3), 0px 1px 3px 1px rgba(60, 64, 67, 0.15);\n",
              "      fill: #174EA6;\n",
              "    }\n",
              "\n",
              "    [theme=dark] .colab-df-convert {\n",
              "      background-color: #3B4455;\n",
              "      fill: #D2E3FC;\n",
              "    }\n",
              "\n",
              "    [theme=dark] .colab-df-convert:hover {\n",
              "      background-color: #434B5C;\n",
              "      box-shadow: 0px 1px 3px 1px rgba(0, 0, 0, 0.15);\n",
              "      filter: drop-shadow(0px 1px 2px rgba(0, 0, 0, 0.3));\n",
              "      fill: #FFFFFF;\n",
              "    }\n",
              "  </style>\n",
              "\n",
              "      <script>\n",
              "        const buttonEl =\n",
              "          document.querySelector('#df-78d0304c-7062-4c9b-aa8e-84c486be5efa button.colab-df-convert');\n",
              "        buttonEl.style.display =\n",
              "          google.colab.kernel.accessAllowed ? 'block' : 'none';\n",
              "\n",
              "        async function convertToInteractive(key) {\n",
              "          const element = document.querySelector('#df-78d0304c-7062-4c9b-aa8e-84c486be5efa');\n",
              "          const dataTable =\n",
              "            await google.colab.kernel.invokeFunction('convertToInteractive',\n",
              "                                                     [key], {});\n",
              "          if (!dataTable) return;\n",
              "\n",
              "          const docLinkHtml = 'Like what you see? Visit the ' +\n",
              "            '<a target=\"_blank\" href=https://colab.research.google.com/notebooks/data_table.ipynb>data table notebook</a>'\n",
              "            + ' to learn more about interactive tables.';\n",
              "          element.innerHTML = '';\n",
              "          dataTable['output_type'] = 'display_data';\n",
              "          await google.colab.output.renderOutput(dataTable, element);\n",
              "          const docLink = document.createElement('div');\n",
              "          docLink.innerHTML = docLinkHtml;\n",
              "          element.appendChild(docLink);\n",
              "        }\n",
              "      </script>\n",
              "    </div>\n",
              "  </div>\n"
            ]
          },
          "metadata": {},
          "execution_count": 1
        }
      ]
    },
    {
      "cell_type": "markdown",
      "source": [
        "Our data consists of several fields:\n",
        "\n",
        "1.  `case_id`: A unique identifier for each case.\n",
        "2.  `report_date`: The date when the case was reported.\n",
        "3.  `location`: The location where the case was reported.\n",
        "4.  `symptom_severity`: The severity of the symptoms.\n",
        "5.  `case_status`: The status of the case (e.g., Infected, Recovered).\n",
        "6.  `age`: The age of the individual.\n",
        "    - It looks like -1 is used to code \"age not known.\"\n",
        "\n",
        "Now, let's see what sorts of values we have in the (non-numeric) colums:"
      ],
      "metadata": {
        "id": "oX4MyGKbHS5N"
      }
    },
    {
      "cell_type": "code",
      "source": [
        "print(df.location.unique(), \"\\n\",\n",
        "df.symptom_severity.unique(), \"\\n\",\n",
        "df.case_status.unique(), \"\\n\",\n",
        ")"
      ],
      "metadata": {
        "colab": {
          "base_uri": "https://localhost:8080/"
        },
        "id": "ARyXbnNsPzHi",
        "outputId": "40516830-fd4d-44ad-8c6f-956268004fc1"
      },
      "execution_count": 2,
      "outputs": [
        {
          "output_type": "stream",
          "name": "stdout",
          "text": [
            "['MN' 'WI' 'IA' 'SD' 'ND' 'NE' 'IL' 'MI' 'IN'] \n",
            " ['Just a Scratch' 'Bitten' 'Mauled'] \n",
            " ['Recovered' 'Lost to the Horde' 'Turned' 'Unknown'] \n",
            "\n"
          ]
        }
      ]
    },
    {
      "cell_type": "markdown",
      "source": [
        "This code block is using the `print` function in Python, which simply displays the output of the code inside its parentheses. It is printing three different outputs here, separated by newline characters (`\"\\n\"`), which create a break or new line in the output.\n",
        "\n",
        "Let's break this down further:\n",
        "\n",
        "1.  `df.location.unique()`: This statement is using the `unique` method of the pandas DataFrame (df). This method is used to find the unique elements of a particular column ('location') in the DataFrame. In other words, it is showing all the distinct values that exist in the 'location' column of the data. This is useful when you want to understand the diversity of your dataset - for instance, to see how many different locations are represented in your data. Here, the data is focused on midwest statees.\n",
        "\n",
        "2.  `df.symptom_severity.unique()`: Similar to the above, this statement is finding all the unique elements in the 'symptom_severity' column of the DataFrame. This could be useful for understanding what different severity levels exist in your dataset.\n",
        "\n",
        "3.  `df.case_status.unique()`: Again, this statement is finding all unique elements in the 'case_status' column of the DataFrame.\n",
        "\n",
        "In the context of data cleaning and ETL (Extract, Transform, Load) process, this kind of code is often used in the exploratory phase. Before you can clean or transform your data, you need to understand what's in it. This code helps by showing what unique values exist in these particular columns, and could assist in identifying any inconsistencies, typos or outliers in the data. For example, we see that some values of `case_status` are \"unknown.\""
      ],
      "metadata": {
        "id": "V4udcodlRQLR"
      }
    },
    {
      "cell_type": "markdown",
      "source": [
        "### Transform\n",
        "\n",
        "Just as an unlucky bite from a Zombie can change a person into a Zombie, transformation involves cleaning and preparing the data for the database. The exact transformations will depend on the specific data and the needs of the database.\n",
        "\n",
        "One of the most common issues when working with data is dealing with missing or unknown values. These can be represented in many ways, including special symbols, placeholder text, or specific numbers. In our Zombie outbreak dataset, \"unknown\" values in the `case_status` column and -1 values in the `age` column represent missing or unknown data.\n",
        "\n",
        "Why might we want to replace these placeholders with NULLs?\n",
        "\n",
        "1.  Accuracy: The placeholder values might be mistaken for actual data. For example, -1 is a valid number, so if someone didn't know it was being used as a placeholder, they might include it in numerical calculations, which would give inaccurate results.\n",
        "\n",
        "2.  Compatibility: Some systems and databases have built-in support for handling NULLs. For example, SQL has several functions that specifically deal with NULL values.\n",
        "\n",
        "3.  Standardization: NULL is a widely recognized representation for missing or unknown data. Using NULL instead of various different placeholders helps make your data more consistent and understandable.\n",
        "\n",
        "Let's replace these placeholder values with NULLs in our data. We'll also convert the `report_date` column to a datetime data type, which is more appropriate for date data."
      ],
      "metadata": {
        "id": "IUSlx4JUHW9M"
      }
    },
    {
      "cell_type": "code",
      "source": [
        "# Replace \"unknown\" and -1 with NULL\n",
        "df['case_status'] = df['case_status'].replace('unknown', None)\n",
        "df['age'] = df['age'].replace(-1, None)\n",
        "\n",
        "# Convert report_date to datetime\n",
        "df['report_date'] = pd.to_datetime(df['report_date'])\n",
        "\n",
        "# Check the data types and the first few rows of the dataframe\n",
        "df.dtypes, df.head(10)\n"
      ],
      "metadata": {
        "colab": {
          "base_uri": "https://localhost:8080/"
        },
        "id": "8O9h2-0PSxhB",
        "outputId": "5540f5f4-0a7a-47f7-a6e6-6769e148b709"
      },
      "execution_count": 3,
      "outputs": [
        {
          "output_type": "execute_result",
          "data": {
            "text/plain": [
              "(case_id                      int64\n",
              " report_date         datetime64[ns]\n",
              " location                    object\n",
              " symptom_severity            object\n",
              " case_status                 object\n",
              " age                         object\n",
              " dtype: object,\n",
              "    case_id report_date location symptom_severity        case_status   age\n",
              " 0        0  2028-02-01       MN   Just a Scratch          Recovered    80\n",
              " 1        1  2028-02-02       MN   Just a Scratch  Lost to the Horde    37\n",
              " 2        2  2028-02-03       MN   Just a Scratch             Turned    34\n",
              " 3        3  2028-02-04       MN   Just a Scratch            Unknown    48\n",
              " 4        4  2028-02-05       MN   Just a Scratch          Recovered    79\n",
              " 5        5  2028-02-06       MN           Bitten          Recovered    50\n",
              " 6        6  2028-02-07       MN           Mauled            Unknown  None\n",
              " 7        7  2028-02-08       MN   Just a Scratch          Recovered    22\n",
              " 8        8  2028-02-09       MN   Just a Scratch             Turned    55\n",
              " 9        9  2028-02-10       MN   Just a Scratch          Recovered    46)"
            ]
          },
          "metadata": {},
          "execution_count": 3
        }
      ]
    },
    {
      "cell_type": "markdown",
      "source": [
        "We have successfully replaced the placeholders with NULLs and converted the `report_date` column to datetime format. Our data is now clean and ready to be loaded into a database.\n",
        "\n",
        "It's important to note that the transformations needed will depend on the specific data you're working with. For example, you might need to handle different types of missing value indicators, convert other data types, or perform more complex cleaning tasks."
      ],
      "metadata": {
        "id": "eqW3NronS7yf"
      }
    },
    {
      "cell_type": "markdown",
      "source": [
        "## Load\n",
        "The final step in the ETL process is loading the transformed data into the destination system. In our case, we're loading the data into a SQLite database, which is a lightweight disk-based database that doesn't require a separate server process. In Zombie terms, we might think of this as an infected person ready to assume their final (Zombie) form, ready to go off and eat some brains.\n",
        "\n",
        "We'll use the `sqlite3` library in Python to load our data into a SQLite database. Let's create a new SQLite database and load our data into a table in this database. We'll name the table \"zombie_outbreak\".\n",
        "\n",
        "Note that if the specified database does not exist, `sqlite3` will automatically create it. If the table already exists, it will be replaced with our new data. Let's proceed with loading the data."
      ],
      "metadata": {
        "id": "J4MrKti6UWWf"
      }
    },
    {
      "cell_type": "code",
      "source": [
        "import sqlite3\n",
        "\n",
        "# Create a connection to the SQLite database\n",
        "# If the database does not exist, it will be created\n",
        "conn = sqlite3.connect('zombie_outbreak.db')\n",
        "\n",
        "# Write the data to a SQLite table\n",
        "df.to_sql('zombie_outbreak', conn, if_exists='replace', index=False)\n",
        "\n",
        "# Close the connection to the database\n",
        "conn.close()"
      ],
      "metadata": {
        "id": "_lVYvmbxUbIc"
      },
      "execution_count": 4,
      "outputs": []
    },
    {
      "cell_type": "markdown",
      "source": [
        "The data has now been loaded into a SQLite database in a table named \"zombie_outbreak\".\n",
        "\n",
        "To verify that the data has been loaded correctly, we can fetch and display the first few rows from the \"zombie_outbreak\" table in the SQLite database. Let's do that now."
      ],
      "metadata": {
        "id": "Y8_iNVfZUqT5"
      }
    },
    {
      "cell_type": "code",
      "execution_count": 5,
      "metadata": {
        "id": "Yk8MmCew0IDm",
        "colab": {
          "base_uri": "https://localhost:8080/",
          "height": 336
        },
        "outputId": "a4c798bd-b0b3-4d5d-b6f4-baa6d39cd1c6"
      },
      "outputs": [
        {
          "output_type": "stream",
          "name": "stdout",
          "text": [
            "\u001b[2K     \u001b[90m━━━━━━━━━━━━━━━━━━━━━━━━━━━━━━━━━━━━━━━━\u001b[0m \u001b[32m6.4/6.4 MB\u001b[0m \u001b[31m12.1 MB/s\u001b[0m eta \u001b[36m0:00:00\u001b[0m\n",
            "\u001b[?25h  Preparing metadata (setup.py) ... \u001b[?25l\u001b[?25hdone\n",
            "  Building wheel for SQLAlchemy (setup.py) ... \u001b[?25l\u001b[?25hdone\n",
            " * sqlite:///zombie_outbreak.db\n",
            "Done.\n"
          ]
        },
        {
          "output_type": "execute_result",
          "data": {
            "text/plain": [
              "[(0, '2028-02-01 00:00:00', 'MN', 'Just a Scratch', 'Recovered', 80),\n",
              " (1, '2028-02-02 00:00:00', 'MN', 'Just a Scratch', 'Lost to the Horde', 37),\n",
              " (2, '2028-02-03 00:00:00', 'MN', 'Just a Scratch', 'Turned', 34),\n",
              " (3, '2028-02-04 00:00:00', 'MN', 'Just a Scratch', 'Unknown', 48),\n",
              " (4, '2028-02-05 00:00:00', 'MN', 'Just a Scratch', 'Recovered', 79),\n",
              " (5, '2028-02-06 00:00:00', 'MN', 'Bitten', 'Recovered', 50),\n",
              " (6, '2028-02-07 00:00:00', 'MN', 'Mauled', 'Unknown', None),\n",
              " (7, '2028-02-08 00:00:00', 'MN', 'Just a Scratch', 'Recovered', 22),\n",
              " (8, '2028-02-09 00:00:00', 'MN', 'Just a Scratch', 'Turned', 55),\n",
              " (9, '2028-02-10 00:00:00', 'MN', 'Just a Scratch', 'Recovered', 46)]"
            ],
            "text/html": [
              "<table>\n",
              "    <tr>\n",
              "        <th>case_id</th>\n",
              "        <th>report_date</th>\n",
              "        <th>location</th>\n",
              "        <th>symptom_severity</th>\n",
              "        <th>case_status</th>\n",
              "        <th>age</th>\n",
              "    </tr>\n",
              "    <tr>\n",
              "        <td>0</td>\n",
              "        <td>2028-02-01 00:00:00</td>\n",
              "        <td>MN</td>\n",
              "        <td>Just a Scratch</td>\n",
              "        <td>Recovered</td>\n",
              "        <td>80</td>\n",
              "    </tr>\n",
              "    <tr>\n",
              "        <td>1</td>\n",
              "        <td>2028-02-02 00:00:00</td>\n",
              "        <td>MN</td>\n",
              "        <td>Just a Scratch</td>\n",
              "        <td>Lost to the Horde</td>\n",
              "        <td>37</td>\n",
              "    </tr>\n",
              "    <tr>\n",
              "        <td>2</td>\n",
              "        <td>2028-02-03 00:00:00</td>\n",
              "        <td>MN</td>\n",
              "        <td>Just a Scratch</td>\n",
              "        <td>Turned</td>\n",
              "        <td>34</td>\n",
              "    </tr>\n",
              "    <tr>\n",
              "        <td>3</td>\n",
              "        <td>2028-02-04 00:00:00</td>\n",
              "        <td>MN</td>\n",
              "        <td>Just a Scratch</td>\n",
              "        <td>Unknown</td>\n",
              "        <td>48</td>\n",
              "    </tr>\n",
              "    <tr>\n",
              "        <td>4</td>\n",
              "        <td>2028-02-05 00:00:00</td>\n",
              "        <td>MN</td>\n",
              "        <td>Just a Scratch</td>\n",
              "        <td>Recovered</td>\n",
              "        <td>79</td>\n",
              "    </tr>\n",
              "    <tr>\n",
              "        <td>5</td>\n",
              "        <td>2028-02-06 00:00:00</td>\n",
              "        <td>MN</td>\n",
              "        <td>Bitten</td>\n",
              "        <td>Recovered</td>\n",
              "        <td>50</td>\n",
              "    </tr>\n",
              "    <tr>\n",
              "        <td>6</td>\n",
              "        <td>2028-02-07 00:00:00</td>\n",
              "        <td>MN</td>\n",
              "        <td>Mauled</td>\n",
              "        <td>Unknown</td>\n",
              "        <td>None</td>\n",
              "    </tr>\n",
              "    <tr>\n",
              "        <td>7</td>\n",
              "        <td>2028-02-08 00:00:00</td>\n",
              "        <td>MN</td>\n",
              "        <td>Just a Scratch</td>\n",
              "        <td>Recovered</td>\n",
              "        <td>22</td>\n",
              "    </tr>\n",
              "    <tr>\n",
              "        <td>8</td>\n",
              "        <td>2028-02-09 00:00:00</td>\n",
              "        <td>MN</td>\n",
              "        <td>Just a Scratch</td>\n",
              "        <td>Turned</td>\n",
              "        <td>55</td>\n",
              "    </tr>\n",
              "    <tr>\n",
              "        <td>9</td>\n",
              "        <td>2028-02-10 00:00:00</td>\n",
              "        <td>MN</td>\n",
              "        <td>Just a Scratch</td>\n",
              "        <td>Recovered</td>\n",
              "        <td>46</td>\n",
              "    </tr>\n",
              "</table>"
            ]
          },
          "metadata": {},
          "execution_count": 5
        }
      ],
      "source": [
        "# First, we create a database and connect to it\n",
        "!pip install SQLAlchemy==1.3.24 -q # Needed o avoid problems with more recent version in Colab\n",
        "\n",
        "%load_ext sql\n",
        "%sql sqlite:///zombie_outbreak.db\n",
        "\n",
        "%sql SELECT * FROM zombie_outbreak LIMIT 10;"
      ]
    },
    {
      "cell_type": "markdown",
      "source": [
        "As we can see, the data has been successfully loaded into the SQLite database. The queried rows from the SQLite database match the first few rows of our original data.\n",
        "\n",
        "To summarize, we've successfully conducted an ETL process:\n",
        "\n",
        "1.  Extracted data from a CSV file using `pandas`.\n",
        "2.  Transformed the data by replacing placeholder values with NULLs, converting data types, and checking for any missing values.\n",
        "3.  Loaded the data into a SQLite database using `sqlite3`.\n",
        "\n",
        "This data is now ready for analysis. As a CDC analyst, you can now query this database to find patterns, generate reports, or input this data into a machine learning model to make predictions.\n",
        "\n",
        "Remember, the ETL process is a crucial step in ensuring that your data is accurate, consistent, and ready for analysis. By following this guide, you should be able to apply these ETL concepts to your own data tasks."
      ],
      "metadata": {
        "id": "BLWfkgW-VG7J"
      }
    },
    {
      "cell_type": "markdown",
      "source": [
        "## A Bit More on Pandas\n",
        "\n",
        "Pandas is a powerful data manipulation library in Python. It provides flexible and efficient data structures that make data manipulation and analysis easy.\n",
        "\n",
        "Pandas is built on top of two core Python libraries - Matplotlib for data visualization and NumPy for mathematical operations. Pandas allows you to do complex data manipulation with simple, one-line commands.\n",
        "\n",
        "One of the key data structures in Pandas is the DataFrame, which is a two-dimensional labeled data structure with columns that can be of different types (like integers, strings, and datetimes).\n",
        "\n",
        "Let's take a deeper look at some of the Pandas functionalities we've used in our ETL process:\n",
        "\n",
        "### `pd.read_csv()`\n",
        "\n",
        "This is a function in pandas that reads CSV files and converts them into DataFrame. It has various options allowing you to, for example, specify the delimiter, handle missing values, skip rows, etc.\n",
        "\n",
        "In our ETL process, we used this function to load our Zombie outbreak data from a CSV file:\n",
        "\n",
        "\n",
        "```\n",
        "df = pd.read_csv('zombie_outbreak.csv')\n",
        "```\n",
        "\n",
        "### `df.head()`\n",
        "\n",
        "This is a function that returns the first n rows of the DataFrame. This is useful to get a glimpse of the data after loading it. By default, it returns the first 5 rows.\n",
        "\n",
        "We used this function several times to display the first 10 rows of our data:\n",
        "\n",
        "```\n",
        "df.head(10)\n",
        "```\n",
        "\n",
        "### `df.replace()`\n",
        "\n",
        "This function replaces a set of values with another set of values in the DataFrame. We used this function to replace the \"unknown\" values and -1 values with NULLs in our data:\n",
        "\n",
        "```\n",
        "df['case_status'] = df['case_status'].replace('unknown', None)\n",
        "df['age'] = df['age'].replace(-1, None)\n",
        "```\n",
        "\n",
        "### `pd.to_datetime()`\n",
        "\n",
        "This function converts a series of string representations of dates and times to a series of datetime objects. We used this function to convert the `report_date` column to datetime:\n",
        "\n",
        "```\n",
        "df['report_date'] = pd.to_datetime(df['report_date'])\n",
        "```\n",
        "\n",
        "### `df.dtypes`\n",
        "\n",
        "This is an attribute (not a function) that returns the data types of each column in the DataFrame. This is useful to check if the data types are what we expect. For example, we want `report_date` to be a datetime, `location` to be a string, `case_status` to be a categorical variable, and `age` to be an integer.\n",
        "\n",
        "```\n",
        "df.dtypes\n",
        "```\n",
        "\n",
        "### `df.to_sql()`\n",
        "\n",
        "This function writes records stored in a DataFrame to a SQL database. We used this function to load our data into a SQLite database:\n",
        "\n",
        "```\n",
        "df.to_sql('zombie_outbreak', conn, if_exists='replace', index=False)\n",
        "```\n",
        "\n",
        "Here, `conn` is a connection object to our SQLite database, `'zombie_outbreak'` is the name of the table we want to create in the database, `if_exists='replace'` means that if the table already exists, it will be replaced with our new data, and `index=False` means that the index of the DataFrame will not be included as a column in the table."
      ],
      "metadata": {
        "id": "e-CY0mu7VHI4"
      }
    },
    {
      "cell_type": "markdown",
      "source": [
        "## Data Reporting\n",
        "Data reporting is the crucial process of collecting and submitting data which gives insightful information on various key performance indicators (KPIs). In the realm of data analysis, reports are the culmination of all the hard work done in cleaning, transforming, and analyzing data. They are the tangible products that help guide decision-making processes in organizations.\n",
        "\n",
        "For you, a junior analyst at the CDC embarking on the thrilling journey of fighting a Zombie outbreak, reporting is the critical task that stands between survival and apocalypse.\n",
        "\n",
        "Imagine the scene. The Zombie outbreak is spreading rapidly. In a CDC command center, rows of analysts, illuminated only by the glow of their monitors, are hunched over keyboards, sifting through countless rows of data. These analysts, the unsung heroes of this epic battle against the undead, are turning raw, chaotic data into coherent narratives that will guide the CDC's response.\n",
        "\n",
        "You're one of these analysts. As a junior data analyst, you may not be out there in the field fighting Zombies, but your role is no less important. Your reports could provide the key insights that guide the development of the anti-Zombie vaccine or inform the strategies to contain the outbreak. Your work could be the difference between a city saved or a city lost to the Zombie hordes.\n",
        "\n",
        "As you sit at your desk, sipping your fifth coffee of the night, you pull up the latest data on your screen. It's messy, disparate, and initially intimidating. But you know that hidden in this data is the information the CDC needs to turn the tide of the battle. With determination in your heart and a steady hand on your mouse, you dive into the data, ready to craft a report that will provide clarity in the midst of chaos.\n",
        "\n",
        "In the war against the Zombie outbreak, data is your weapon, analysis is your strategy, and reporting is your battle cry. It's time to roll up your sleeves, dive into the data, and help save the world!"
      ],
      "metadata": {
        "id": "pjT65MsvVuBs"
      }
    },
    {
      "cell_type": "markdown",
      "source": [
        "## Know Your Audience\n",
        "\n",
        "\"Know your audience\" is a cornerstone principle not just in writing and communication, but especially in data reporting. Different audiences (or **stakeholders**) have different needs, different levels of expertise, and different ways of interpreting information. Knowing who you're reporting to can significantly impact the design, content, and delivery of your report.\n",
        "\n",
        "Let's consider a few different audiences in our Zombie outbreak scenario:\n",
        "\n",
        "1.  **CDC Leadership:** This audience needs high-level summaries and trends. They're interested in strategic insights that help them guide the overall response to the outbreak. They might not have the time (or the interest) to delve into the nitty-gritty details of your data. They want to know: How many new cases are we seeing? Is the outbreak spreading or contained? Are certain treatments more effective than others? Give them charts that clearly show trends over time, maps to illustrate the geographical spread, and summary tables of key data points. And please, keep the technical jargon to a minimum. They might not remember what an \"interquartile range\" is, and you don't want them to have to fight off Zombies with a statistics textbook.\n",
        "\n",
        "2.  **Field Agents:** These are the brave souls out in the field, dealing directly with the Zombie outbreak. They need specific, actionable information. They want to know: Where are the new cases? What symptoms should we be looking out for? How effective are our current containment strategies? This audience will appreciate detailed maps, lists of symptoms to look out for, and clear instructions based on your data analysis. Keep in mind, they're probably reading your reports on a mobile device, in between dodging Zombie hordes. So, make sure your reports are concise, clear, and can be easily read on a small screen.\n",
        "\n",
        "3.  **Lab Scientists:** These are the experts working tirelessly to develop the Zombie vaccine. They need detailed, technical data to guide their research. They're interested in things like: What are the characteristics of the infected cases? Are there any commonalities? Are certain treatments showing promise? This audience will appreciate detailed tables of data, complex charts showing correlations and trends, and technical explanations of your analysis. They're not afraid of jargon or complexity, but make sure your analysis is rigorous and your methods are clearly explained. They're trying to save humanity with science, after all.\n",
        "\n",
        "4.  **General Public:** This is perhaps the most diverse audience. They're scared, they're looking for information, and they're depending on you to provide accurate, understandable updates. They want to know: How many cases are there? Where is it safe? How can we protect ourselves? This audience needs clear, simple visualizations, like maps and bar charts, and non-technical language. Be careful not to cause unnecessary panic - remember, they're already dealing with Zombies, they don't need the added stress of confusing data.\n",
        "\n",
        "Remember, each of these audiences has different needs, different levels of expertise, and different ways of interpreting information. Tailoring your reports to your audience will ensure that your data is not just heard, but understood and acted upon. In the fight against Zombies, clear communication is just as important as a good baseball bat."
      ],
      "metadata": {
        "id": "Gfdyi1LUWd79"
      }
    },
    {
      "cell_type": "markdown",
      "source": [
        "## Fetching Data with SQL\n",
        "To obtain the data needed for our reports, you'll need to perform SQL queries on your SQLite database. Let's start by fetching the total number of cases over time. We'll group by the report date and count the number of cases on each date:"
      ],
      "metadata": {
        "id": "a3so6kjQW_8k"
      }
    },
    {
      "cell_type": "code",
      "source": [
        "%%sql\n",
        "--Get cases by month\n",
        "SELECT strftime('%Y-%m', report_date) as report_month, COUNT(*) as total_cases\n",
        "FROM zombie_outbreak\n",
        "GROUP BY report_month\n",
        "ORDER BY report_month;\n"
      ],
      "metadata": {
        "colab": {
          "base_uri": "https://localhost:8080/",
          "height": 221
        },
        "id": "eQC-adEGXEu8",
        "outputId": "17de73d6-5ba3-4626-d39e-3079d7e08f29"
      },
      "execution_count": 6,
      "outputs": [
        {
          "output_type": "stream",
          "name": "stdout",
          "text": [
            " * sqlite:///zombie_outbreak.db\n",
            "Done.\n"
          ]
        },
        {
          "output_type": "execute_result",
          "data": {
            "text/plain": [
              "[('2028-02', 40),\n",
              " ('2028-03', 87),\n",
              " ('2028-04', 170),\n",
              " ('2028-05', 359),\n",
              " ('2028-06', 702),\n",
              " ('2028-07', 1465),\n",
              " ('2028-08', 2177)]"
            ],
            "text/html": [
              "<table>\n",
              "    <tr>\n",
              "        <th>report_month</th>\n",
              "        <th>total_cases</th>\n",
              "    </tr>\n",
              "    <tr>\n",
              "        <td>2028-02</td>\n",
              "        <td>40</td>\n",
              "    </tr>\n",
              "    <tr>\n",
              "        <td>2028-03</td>\n",
              "        <td>87</td>\n",
              "    </tr>\n",
              "    <tr>\n",
              "        <td>2028-04</td>\n",
              "        <td>170</td>\n",
              "    </tr>\n",
              "    <tr>\n",
              "        <td>2028-05</td>\n",
              "        <td>359</td>\n",
              "    </tr>\n",
              "    <tr>\n",
              "        <td>2028-06</td>\n",
              "        <td>702</td>\n",
              "    </tr>\n",
              "    <tr>\n",
              "        <td>2028-07</td>\n",
              "        <td>1465</td>\n",
              "    </tr>\n",
              "    <tr>\n",
              "        <td>2028-08</td>\n",
              "        <td>2177</td>\n",
              "    </tr>\n",
              "</table>"
            ]
          },
          "metadata": {},
          "execution_count": 6
        }
      ]
    },
    {
      "cell_type": "markdown",
      "source": [
        "In this query, `SELECT strftime('%Y-%m', report_date) as report_month, COUNT(*) as total_cases`,  tells SQLite to return the following columns:\n",
        "\n",
        "- `report_month:` The month of the report date, formatted as YYYY-MM.\n",
        "- `total_cases:` The total number of cases in the month.\n",
        "\n",
        "The `strftime()` function is used to format the report_date column as `YYYY-MM`. The `COUNT(*)` function is used to count the number of rows in the zombie_outbreak table.\n"
      ],
      "metadata": {
        "id": "ibK8is6CYDeu"
      }
    },
    {
      "cell_type": "markdown",
      "source": [
        "### Query: Locations\n",
        "\n",
        "To fetch the distribution of cases by location, we can modify the above query to group by location instead of report date:"
      ],
      "metadata": {
        "id": "i9si1o3XdRJ1"
      }
    },
    {
      "cell_type": "code",
      "source": [
        "%%sql\n",
        "SELECT location, COUNT(*) as total_cases\n",
        "FROM zombie_outbreak\n",
        "GROUP BY location\n",
        "ORDER BY total_cases DESC;\n"
      ],
      "metadata": {
        "id": "puMCTmEwdRry",
        "outputId": "b2918348-c7dd-49e3-a026-9fc9df375b01",
        "colab": {
          "base_uri": "https://localhost:8080/",
          "height": 263
        }
      },
      "execution_count": 7,
      "outputs": [
        {
          "output_type": "stream",
          "name": "stdout",
          "text": [
            " * sqlite:///zombie_outbreak.db\n",
            "Done.\n"
          ]
        },
        {
          "output_type": "execute_result",
          "data": {
            "text/plain": [
              "[('MN', 787),\n",
              " ('WI', 746),\n",
              " ('IA', 680),\n",
              " ('SD', 665),\n",
              " ('ND', 592),\n",
              " ('NE', 547),\n",
              " ('IL', 448),\n",
              " ('MI', 356),\n",
              " ('IN', 179)]"
            ],
            "text/html": [
              "<table>\n",
              "    <tr>\n",
              "        <th>location</th>\n",
              "        <th>total_cases</th>\n",
              "    </tr>\n",
              "    <tr>\n",
              "        <td>MN</td>\n",
              "        <td>787</td>\n",
              "    </tr>\n",
              "    <tr>\n",
              "        <td>WI</td>\n",
              "        <td>746</td>\n",
              "    </tr>\n",
              "    <tr>\n",
              "        <td>IA</td>\n",
              "        <td>680</td>\n",
              "    </tr>\n",
              "    <tr>\n",
              "        <td>SD</td>\n",
              "        <td>665</td>\n",
              "    </tr>\n",
              "    <tr>\n",
              "        <td>ND</td>\n",
              "        <td>592</td>\n",
              "    </tr>\n",
              "    <tr>\n",
              "        <td>NE</td>\n",
              "        <td>547</td>\n",
              "    </tr>\n",
              "    <tr>\n",
              "        <td>IL</td>\n",
              "        <td>448</td>\n",
              "    </tr>\n",
              "    <tr>\n",
              "        <td>MI</td>\n",
              "        <td>356</td>\n",
              "    </tr>\n",
              "    <tr>\n",
              "        <td>IN</td>\n",
              "        <td>179</td>\n",
              "    </tr>\n",
              "</table>"
            ]
          },
          "metadata": {},
          "execution_count": 7
        }
      ]
    },
    {
      "cell_type": "markdown",
      "source": [
        "This query will give us the total number of cases in each location, ordered from highest to lowest."
      ],
      "metadata": {
        "id": "2KoJnBnGdeC5"
      }
    },
    {
      "cell_type": "markdown",
      "source": [
        "### Query: Symptom Severity\n",
        "To fetch the distribution of symptom severity, we can group by the `symptom_severity` column:"
      ],
      "metadata": {
        "id": "EqGvWKm6deQj"
      }
    },
    {
      "cell_type": "code",
      "source": [
        "%%sql\n",
        "SELECT symptom_severity, COUNT(*) as total_cases\n",
        "FROM zombie_outbreak\n",
        "GROUP BY symptom_severity\n",
        "ORDER BY total_cases;\n"
      ],
      "metadata": {
        "id": "KT78vbsOdep-",
        "outputId": "28e764c8-c589-4074-b449-867b4b193497",
        "colab": {
          "base_uri": "https://localhost:8080/",
          "height": 137
        }
      },
      "execution_count": 8,
      "outputs": [
        {
          "output_type": "stream",
          "name": "stdout",
          "text": [
            " * sqlite:///zombie_outbreak.db\n",
            "Done.\n"
          ]
        },
        {
          "output_type": "execute_result",
          "data": {
            "text/plain": [
              "[('Mauled', 753), ('Bitten', 1050), ('Just a Scratch', 3197)]"
            ],
            "text/html": [
              "<table>\n",
              "    <tr>\n",
              "        <th>symptom_severity</th>\n",
              "        <th>total_cases</th>\n",
              "    </tr>\n",
              "    <tr>\n",
              "        <td>Mauled</td>\n",
              "        <td>753</td>\n",
              "    </tr>\n",
              "    <tr>\n",
              "        <td>Bitten</td>\n",
              "        <td>1050</td>\n",
              "    </tr>\n",
              "    <tr>\n",
              "        <td>Just a Scratch</td>\n",
              "        <td>3197</td>\n",
              "    </tr>\n",
              "</table>"
            ]
          },
          "metadata": {},
          "execution_count": 8
        }
      ]
    },
    {
      "cell_type": "markdown",
      "source": [
        "### Query: Age Distribution\n",
        "Finally, to figure out the age distribution (grouped by decade), we can do the following:"
      ],
      "metadata": {
        "id": "TY5iTa5gieNI"
      }
    },
    {
      "cell_type": "code",
      "source": [
        "%%sql\n",
        "SELECT (age / 10) * 10 as age_decade, COUNT(*) as total_cases\n",
        "FROM zombie_outbreak\n",
        "WHERE age IS NOT NULL\n",
        "GROUP BY age_decade\n",
        "ORDER BY age_decade;\n"
      ],
      "metadata": {
        "id": "Wj8sjILBinYW",
        "outputId": "9903ccaf-4c46-4f4c-b349-f014ae7bad96",
        "colab": {
          "base_uri": "https://localhost:8080/",
          "height": 347
        }
      },
      "execution_count": 9,
      "outputs": [
        {
          "output_type": "stream",
          "name": "stdout",
          "text": [
            " * sqlite:///zombie_outbreak.db\n",
            "Done.\n"
          ]
        },
        {
          "output_type": "execute_result",
          "data": {
            "text/plain": [
              "[(0, 103),\n",
              " (10, 181),\n",
              " (20, 415),\n",
              " (30, 697),\n",
              " (40, 857),\n",
              " (50, 882),\n",
              " (60, 700),\n",
              " (70, 398),\n",
              " (80, 192),\n",
              " (90, 73),\n",
              " (100, 30),\n",
              " (110, 4),\n",
              " (120, 2)]"
            ],
            "text/html": [
              "<table>\n",
              "    <tr>\n",
              "        <th>age_decade</th>\n",
              "        <th>total_cases</th>\n",
              "    </tr>\n",
              "    <tr>\n",
              "        <td>0</td>\n",
              "        <td>103</td>\n",
              "    </tr>\n",
              "    <tr>\n",
              "        <td>10</td>\n",
              "        <td>181</td>\n",
              "    </tr>\n",
              "    <tr>\n",
              "        <td>20</td>\n",
              "        <td>415</td>\n",
              "    </tr>\n",
              "    <tr>\n",
              "        <td>30</td>\n",
              "        <td>697</td>\n",
              "    </tr>\n",
              "    <tr>\n",
              "        <td>40</td>\n",
              "        <td>857</td>\n",
              "    </tr>\n",
              "    <tr>\n",
              "        <td>50</td>\n",
              "        <td>882</td>\n",
              "    </tr>\n",
              "    <tr>\n",
              "        <td>60</td>\n",
              "        <td>700</td>\n",
              "    </tr>\n",
              "    <tr>\n",
              "        <td>70</td>\n",
              "        <td>398</td>\n",
              "    </tr>\n",
              "    <tr>\n",
              "        <td>80</td>\n",
              "        <td>192</td>\n",
              "    </tr>\n",
              "    <tr>\n",
              "        <td>90</td>\n",
              "        <td>73</td>\n",
              "    </tr>\n",
              "    <tr>\n",
              "        <td>100</td>\n",
              "        <td>30</td>\n",
              "    </tr>\n",
              "    <tr>\n",
              "        <td>110</td>\n",
              "        <td>4</td>\n",
              "    </tr>\n",
              "    <tr>\n",
              "        <td>120</td>\n",
              "        <td>2</td>\n",
              "    </tr>\n",
              "</table>"
            ]
          },
          "metadata": {},
          "execution_count": 9
        }
      ]
    },
    {
      "cell_type": "markdown",
      "source": [
        "In this query, we use integer division `(age/10)` to turn numbers like 35, 23, or 68 into 3, 2, and 6. Then, we multiply by 10 to get back the \"decade.\""
      ],
      "metadata": {
        "id": "pwfCh4FLjovd"
      }
    },
    {
      "cell_type": "markdown",
      "source": [
        "## Basic Statistics with SQL and Pandas\n",
        "\n",
        "SQL provides several functions that can be used to calculate basic statistics:\n",
        "\n",
        "-   `COUNT:` Returns the number of rows that match a specified criterion.\n",
        "-   `SUM:` Returns the total sum of a numeric column.\n",
        "-   `AVG:` Returns the average of a set of values.\n",
        "-   `MIN:` Returns the smallest value of the selected column.\n",
        "-   `MAX:` Returns the largest value of the selected column.\n",
        "\n",
        "For example, if we want to find out thethe youngest, oldest, and average age in our Zombie outbreak dataset, we could use the following SQL queries:"
      ],
      "metadata": {
        "id": "1M3ESHk4kYyR"
      }
    },
    {
      "cell_type": "code",
      "source": [
        "%%sql\n",
        "SELECT ROUND(AVG(age), 2) AS \"Average Age\",\n",
        "  MIN(age) AS \"Youngest\",\n",
        "  MAX(age) AS \"Oldest\"\n",
        "\n",
        "FROM zombie_outbreak\n",
        "WHERE age IS NOT NULL"
      ],
      "metadata": {
        "id": "Y9xdblDpkkHk",
        "outputId": "81cbce9f-6edd-418c-d9b5-c88cf55f32fd",
        "colab": {
          "base_uri": "https://localhost:8080/",
          "height": 95
        }
      },
      "execution_count": 10,
      "outputs": [
        {
          "output_type": "stream",
          "name": "stdout",
          "text": [
            " * sqlite:///zombie_outbreak.db\n",
            "Done.\n"
          ]
        },
        {
          "output_type": "execute_result",
          "data": {
            "text/plain": [
              "[(49.64, 0, 123)]"
            ],
            "text/html": [
              "<table>\n",
              "    <tr>\n",
              "        <th>Average Age</th>\n",
              "        <th>Youngest</th>\n",
              "        <th>Oldest</th>\n",
              "    </tr>\n",
              "    <tr>\n",
              "        <td>49.64</td>\n",
              "        <td>0</td>\n",
              "        <td>123</td>\n",
              "    </tr>\n",
              "</table>"
            ]
          },
          "metadata": {},
          "execution_count": 10
        }
      ]
    },
    {
      "cell_type": "markdown",
      "source": [
        "Pandas (which we touched on eariler) provides us with some more advanced data processing abilities. To read the result of SQL query into a Pandas dataframe we can use the following sytax:\n",
        "\n",
        "```\n",
        "%sql df_result <<  SQL query\n",
        "df_result = df_result.DataFrame()\n",
        "```\n",
        "Once we do this, we can take advantage of the (many) statistical tools that Pandas makes available to us. For example, we can use the `describe(include='all')` method to get an overview of our data."
      ],
      "metadata": {
        "id": "N3Q9BSPHlmbl"
      }
    },
    {
      "cell_type": "code",
      "source": [
        "# Let's get all data prior to August 15, 2028\n",
        "%sql df_zombies <<  SELECT * FROM zombie_outbreak;\n",
        "df_zombies = df_zombies.DataFrame()"
      ],
      "metadata": {
        "id": "CGZrcwgVllgT",
        "outputId": "113e9b2b-412b-469b-b703-4abe7e41010f",
        "colab": {
          "base_uri": "https://localhost:8080/"
        }
      },
      "execution_count": 11,
      "outputs": [
        {
          "output_type": "stream",
          "name": "stdout",
          "text": [
            " * sqlite:///zombie_outbreak.db\n",
            "Done.\n",
            "Returning data to local variable df_zombies\n"
          ]
        }
      ]
    },
    {
      "cell_type": "code",
      "source": [
        "df_zombies.describe(include = 'all')"
      ],
      "metadata": {
        "id": "0OwymcFRm-MA",
        "outputId": "d2fd3977-d107-4055-a752-0bb6283c64a1",
        "colab": {
          "base_uri": "https://localhost:8080/",
          "height": 394
        }
      },
      "execution_count": 12,
      "outputs": [
        {
          "output_type": "execute_result",
          "data": {
            "text/plain": [
              "            case_id          report_date location symptom_severity  \\\n",
              "count   5000.000000                 5000     5000             5000   \n",
              "unique          NaN                  207        9                3   \n",
              "top             NaN  2028-08-24 00:00:00       MN   Just a Scratch   \n",
              "freq            NaN                  114      787             3197   \n",
              "mean    2499.500000                  NaN      NaN              NaN   \n",
              "std     1443.520003                  NaN      NaN              NaN   \n",
              "min        0.000000                  NaN      NaN              NaN   \n",
              "25%     1249.750000                  NaN      NaN              NaN   \n",
              "50%     2499.500000                  NaN      NaN              NaN   \n",
              "75%     3749.250000                  NaN      NaN              NaN   \n",
              "max     4999.000000                  NaN      NaN              NaN   \n",
              "\n",
              "       case_status          age  \n",
              "count         5000  4534.000000  \n",
              "unique           4          NaN  \n",
              "top      Recovered          NaN  \n",
              "freq          2506          NaN  \n",
              "mean           NaN    49.643361  \n",
              "std            NaN    19.752351  \n",
              "min            NaN     0.000000  \n",
              "25%            NaN    36.000000  \n",
              "50%            NaN    50.000000  \n",
              "75%            NaN    63.000000  \n",
              "max            NaN   123.000000  "
            ],
            "text/html": [
              "\n",
              "\n",
              "  <div id=\"df-77cd9204-3354-44a9-ade4-70570fd4bfbe\">\n",
              "    <div class=\"colab-df-container\">\n",
              "      <div>\n",
              "<style scoped>\n",
              "    .dataframe tbody tr th:only-of-type {\n",
              "        vertical-align: middle;\n",
              "    }\n",
              "\n",
              "    .dataframe tbody tr th {\n",
              "        vertical-align: top;\n",
              "    }\n",
              "\n",
              "    .dataframe thead th {\n",
              "        text-align: right;\n",
              "    }\n",
              "</style>\n",
              "<table border=\"1\" class=\"dataframe\">\n",
              "  <thead>\n",
              "    <tr style=\"text-align: right;\">\n",
              "      <th></th>\n",
              "      <th>case_id</th>\n",
              "      <th>report_date</th>\n",
              "      <th>location</th>\n",
              "      <th>symptom_severity</th>\n",
              "      <th>case_status</th>\n",
              "      <th>age</th>\n",
              "    </tr>\n",
              "  </thead>\n",
              "  <tbody>\n",
              "    <tr>\n",
              "      <th>count</th>\n",
              "      <td>5000.000000</td>\n",
              "      <td>5000</td>\n",
              "      <td>5000</td>\n",
              "      <td>5000</td>\n",
              "      <td>5000</td>\n",
              "      <td>4534.000000</td>\n",
              "    </tr>\n",
              "    <tr>\n",
              "      <th>unique</th>\n",
              "      <td>NaN</td>\n",
              "      <td>207</td>\n",
              "      <td>9</td>\n",
              "      <td>3</td>\n",
              "      <td>4</td>\n",
              "      <td>NaN</td>\n",
              "    </tr>\n",
              "    <tr>\n",
              "      <th>top</th>\n",
              "      <td>NaN</td>\n",
              "      <td>2028-08-24 00:00:00</td>\n",
              "      <td>MN</td>\n",
              "      <td>Just a Scratch</td>\n",
              "      <td>Recovered</td>\n",
              "      <td>NaN</td>\n",
              "    </tr>\n",
              "    <tr>\n",
              "      <th>freq</th>\n",
              "      <td>NaN</td>\n",
              "      <td>114</td>\n",
              "      <td>787</td>\n",
              "      <td>3197</td>\n",
              "      <td>2506</td>\n",
              "      <td>NaN</td>\n",
              "    </tr>\n",
              "    <tr>\n",
              "      <th>mean</th>\n",
              "      <td>2499.500000</td>\n",
              "      <td>NaN</td>\n",
              "      <td>NaN</td>\n",
              "      <td>NaN</td>\n",
              "      <td>NaN</td>\n",
              "      <td>49.643361</td>\n",
              "    </tr>\n",
              "    <tr>\n",
              "      <th>std</th>\n",
              "      <td>1443.520003</td>\n",
              "      <td>NaN</td>\n",
              "      <td>NaN</td>\n",
              "      <td>NaN</td>\n",
              "      <td>NaN</td>\n",
              "      <td>19.752351</td>\n",
              "    </tr>\n",
              "    <tr>\n",
              "      <th>min</th>\n",
              "      <td>0.000000</td>\n",
              "      <td>NaN</td>\n",
              "      <td>NaN</td>\n",
              "      <td>NaN</td>\n",
              "      <td>NaN</td>\n",
              "      <td>0.000000</td>\n",
              "    </tr>\n",
              "    <tr>\n",
              "      <th>25%</th>\n",
              "      <td>1249.750000</td>\n",
              "      <td>NaN</td>\n",
              "      <td>NaN</td>\n",
              "      <td>NaN</td>\n",
              "      <td>NaN</td>\n",
              "      <td>36.000000</td>\n",
              "    </tr>\n",
              "    <tr>\n",
              "      <th>50%</th>\n",
              "      <td>2499.500000</td>\n",
              "      <td>NaN</td>\n",
              "      <td>NaN</td>\n",
              "      <td>NaN</td>\n",
              "      <td>NaN</td>\n",
              "      <td>50.000000</td>\n",
              "    </tr>\n",
              "    <tr>\n",
              "      <th>75%</th>\n",
              "      <td>3749.250000</td>\n",
              "      <td>NaN</td>\n",
              "      <td>NaN</td>\n",
              "      <td>NaN</td>\n",
              "      <td>NaN</td>\n",
              "      <td>63.000000</td>\n",
              "    </tr>\n",
              "    <tr>\n",
              "      <th>max</th>\n",
              "      <td>4999.000000</td>\n",
              "      <td>NaN</td>\n",
              "      <td>NaN</td>\n",
              "      <td>NaN</td>\n",
              "      <td>NaN</td>\n",
              "      <td>123.000000</td>\n",
              "    </tr>\n",
              "  </tbody>\n",
              "</table>\n",
              "</div>\n",
              "      <button class=\"colab-df-convert\" onclick=\"convertToInteractive('df-77cd9204-3354-44a9-ade4-70570fd4bfbe')\"\n",
              "              title=\"Convert this dataframe to an interactive table.\"\n",
              "              style=\"display:none;\">\n",
              "\n",
              "  <svg xmlns=\"http://www.w3.org/2000/svg\" height=\"24px\"viewBox=\"0 0 24 24\"\n",
              "       width=\"24px\">\n",
              "    <path d=\"M0 0h24v24H0V0z\" fill=\"none\"/>\n",
              "    <path d=\"M18.56 5.44l.94 2.06.94-2.06 2.06-.94-2.06-.94-.94-2.06-.94 2.06-2.06.94zm-11 1L8.5 8.5l.94-2.06 2.06-.94-2.06-.94L8.5 2.5l-.94 2.06-2.06.94zm10 10l.94 2.06.94-2.06 2.06-.94-2.06-.94-.94-2.06-.94 2.06-2.06.94z\"/><path d=\"M17.41 7.96l-1.37-1.37c-.4-.4-.92-.59-1.43-.59-.52 0-1.04.2-1.43.59L10.3 9.45l-7.72 7.72c-.78.78-.78 2.05 0 2.83L4 21.41c.39.39.9.59 1.41.59.51 0 1.02-.2 1.41-.59l7.78-7.78 2.81-2.81c.8-.78.8-2.07 0-2.86zM5.41 20L4 18.59l7.72-7.72 1.47 1.35L5.41 20z\"/>\n",
              "  </svg>\n",
              "      </button>\n",
              "\n",
              "\n",
              "\n",
              "    <div id=\"df-a7a306bc-bdad-4e76-9cd0-cda36bb0cdec\">\n",
              "      <button class=\"colab-df-quickchart\" onclick=\"quickchart('df-a7a306bc-bdad-4e76-9cd0-cda36bb0cdec')\"\n",
              "              title=\"Suggest charts.\"\n",
              "              style=\"display:none;\">\n",
              "\n",
              "<svg xmlns=\"http://www.w3.org/2000/svg\" height=\"24px\"viewBox=\"0 0 24 24\"\n",
              "     width=\"24px\">\n",
              "    <g>\n",
              "        <path d=\"M19 3H5c-1.1 0-2 .9-2 2v14c0 1.1.9 2 2 2h14c1.1 0 2-.9 2-2V5c0-1.1-.9-2-2-2zM9 17H7v-7h2v7zm4 0h-2V7h2v10zm4 0h-2v-4h2v4z\"/>\n",
              "    </g>\n",
              "</svg>\n",
              "      </button>\n",
              "    </div>\n",
              "\n",
              "<style>\n",
              "  .colab-df-quickchart {\n",
              "    background-color: #E8F0FE;\n",
              "    border: none;\n",
              "    border-radius: 50%;\n",
              "    cursor: pointer;\n",
              "    display: none;\n",
              "    fill: #1967D2;\n",
              "    height: 32px;\n",
              "    padding: 0 0 0 0;\n",
              "    width: 32px;\n",
              "  }\n",
              "\n",
              "  .colab-df-quickchart:hover {\n",
              "    background-color: #E2EBFA;\n",
              "    box-shadow: 0px 1px 2px rgba(60, 64, 67, 0.3), 0px 1px 3px 1px rgba(60, 64, 67, 0.15);\n",
              "    fill: #174EA6;\n",
              "  }\n",
              "\n",
              "  [theme=dark] .colab-df-quickchart {\n",
              "    background-color: #3B4455;\n",
              "    fill: #D2E3FC;\n",
              "  }\n",
              "\n",
              "  [theme=dark] .colab-df-quickchart:hover {\n",
              "    background-color: #434B5C;\n",
              "    box-shadow: 0px 1px 3px 1px rgba(0, 0, 0, 0.15);\n",
              "    filter: drop-shadow(0px 1px 2px rgba(0, 0, 0, 0.3));\n",
              "    fill: #FFFFFF;\n",
              "  }\n",
              "</style>\n",
              "\n",
              "    <script>\n",
              "      async function quickchart(key) {\n",
              "        const containerElement = document.querySelector('#' + key);\n",
              "        const charts = await google.colab.kernel.invokeFunction(\n",
              "            'suggestCharts', [key], {});\n",
              "      }\n",
              "    </script>\n",
              "\n",
              "      <script>\n",
              "\n",
              "function displayQuickchartButton(domScope) {\n",
              "  let quickchartButtonEl =\n",
              "    domScope.querySelector('#df-a7a306bc-bdad-4e76-9cd0-cda36bb0cdec button.colab-df-quickchart');\n",
              "  quickchartButtonEl.style.display =\n",
              "    google.colab.kernel.accessAllowed ? 'block' : 'none';\n",
              "}\n",
              "\n",
              "        displayQuickchartButton(document);\n",
              "      </script>\n",
              "      <style>\n",
              "    .colab-df-container {\n",
              "      display:flex;\n",
              "      flex-wrap:wrap;\n",
              "      gap: 12px;\n",
              "    }\n",
              "\n",
              "    .colab-df-convert {\n",
              "      background-color: #E8F0FE;\n",
              "      border: none;\n",
              "      border-radius: 50%;\n",
              "      cursor: pointer;\n",
              "      display: none;\n",
              "      fill: #1967D2;\n",
              "      height: 32px;\n",
              "      padding: 0 0 0 0;\n",
              "      width: 32px;\n",
              "    }\n",
              "\n",
              "    .colab-df-convert:hover {\n",
              "      background-color: #E2EBFA;\n",
              "      box-shadow: 0px 1px 2px rgba(60, 64, 67, 0.3), 0px 1px 3px 1px rgba(60, 64, 67, 0.15);\n",
              "      fill: #174EA6;\n",
              "    }\n",
              "\n",
              "    [theme=dark] .colab-df-convert {\n",
              "      background-color: #3B4455;\n",
              "      fill: #D2E3FC;\n",
              "    }\n",
              "\n",
              "    [theme=dark] .colab-df-convert:hover {\n",
              "      background-color: #434B5C;\n",
              "      box-shadow: 0px 1px 3px 1px rgba(0, 0, 0, 0.15);\n",
              "      filter: drop-shadow(0px 1px 2px rgba(0, 0, 0, 0.3));\n",
              "      fill: #FFFFFF;\n",
              "    }\n",
              "  </style>\n",
              "\n",
              "      <script>\n",
              "        const buttonEl =\n",
              "          document.querySelector('#df-77cd9204-3354-44a9-ade4-70570fd4bfbe button.colab-df-convert');\n",
              "        buttonEl.style.display =\n",
              "          google.colab.kernel.accessAllowed ? 'block' : 'none';\n",
              "\n",
              "        async function convertToInteractive(key) {\n",
              "          const element = document.querySelector('#df-77cd9204-3354-44a9-ade4-70570fd4bfbe');\n",
              "          const dataTable =\n",
              "            await google.colab.kernel.invokeFunction('convertToInteractive',\n",
              "                                                     [key], {});\n",
              "          if (!dataTable) return;\n",
              "\n",
              "          const docLinkHtml = 'Like what you see? Visit the ' +\n",
              "            '<a target=\"_blank\" href=https://colab.research.google.com/notebooks/data_table.ipynb>data table notebook</a>'\n",
              "            + ' to learn more about interactive tables.';\n",
              "          element.innerHTML = '';\n",
              "          dataTable['output_type'] = 'display_data';\n",
              "          await google.colab.output.renderOutput(dataTable, element);\n",
              "          const docLink = document.createElement('div');\n",
              "          docLink.innerHTML = docLinkHtml;\n",
              "          element.appendChild(docLink);\n",
              "        }\n",
              "      </script>\n",
              "    </div>\n",
              "  </div>\n"
            ]
          },
          "metadata": {},
          "execution_count": 12
        }
      ]
    },
    {
      "cell_type": "markdown",
      "source": [
        "The `.describe()` method in pandas is a way to get a quick overview of your data. It provides various summary statistics, including count, mean, standard deviation, minimum, and maximum. Here's what each of these mean (NOTE: The specific numbers you see may vary):\n",
        "\n",
        "-   **count:** This is the number of non-missing values for each column. For 'case_id', it's 5000, which means there are 5000 case IDs in the dataset. For 'age', it's 4534, meaning there are 4534 non-missing age values in the dataset. The difference (5000 - 4534 = 466) is the number of missing age values.\n",
        "\n",
        "-   **unique:** This is the number of distinct values in a column. This only applies to categorical or string data, not numerical data (which is why it's NaN for 'case_id' and 'age'). For 'location', 'symptom_severity', and 'case_status', the number of unique categories are shown.\n",
        "\n",
        "-   **top:** This is the most common value in a column. Like 'unique', this only applies to categorical or string data. For example, 'MN' is the most common location, 'Just a Scratch' is the most common symptom severity, and 'Recovered' is the most common case status.\n",
        "\n",
        "-   **freq:** This is the frequency of the most common value. For example, 'MN' appears as the location 787 times, 'Just a Scratch' appears as the symptom severity 3197 times, and 'Recovered' appears as the case status 2506 times.\n",
        "\n",
        "-   **mean:** This is the average value. For 'case_id', the mean is 2499.5, and for 'age', it's 49.64.\n",
        "\n",
        "-   **std:** This is the standard deviation, which measures the dispersion of values. A high standard deviation means the values are spread out; a low standard deviation means they're close to the mean. The standard deviation is about 1443.52 for 'case_id' and 19.75 for 'age'.\n",
        "\n",
        "-   **min:** This is the minimum value. For 'case_id', the minimum is 0, and for 'age', it's 0.\n",
        "\n",
        "-   **25%:** This is the first quartile, meaning that 25% of the values are below this. For 'case_id', 25% of the IDs are less than 1249.75, and for 'age', 25% of the people are younger than 36.\n",
        "\n",
        "-   **50%:** This is the median or second quartile, meaning that 50% of the values are below this. For 'case_id', half the IDs are less than 2499.5, and for 'age', half the people are younger than 50.\n",
        "\n",
        "-   **75%:** This is the third quartile, meaning that 75% of the values are below this. For 'case_id', 75% of the IDs are less than 3749.25, and for 'age', 75% of the people are younger than 63.\n",
        "\n",
        "-   **max:** This is the maximum value. For 'case_id', the maximum is 4999, and for 'age', it's 123.\n",
        "\n",
        "The `NaN` entries mean \"Not a Number\", which is a special value that indicates the absence of a value or an undefined result."
      ],
      "metadata": {
        "id": "_sWlrsUjqZlD"
      }
    },
    {
      "cell_type": "markdown",
      "source": [
        "## Visualizations\n",
        "Visualizations are a powerful tool in the world of data analysis, turning raw numbers into compelling graphics that can tell a story, reveal trends, or illuminate patterns. They're like the powerful flashlight in a dark, Zombie-infested building - they help you see what's in front of you, understand where you need to go, and avoid any unpleasant surprises!\n",
        "\n",
        "In the context of our Zombie outbreak, visualizations could help us understand the spread of the outbreak over time, compare the effectiveness of different treatments, or identify the most at-risk groups. And just like choosing the right weapon is crucial in a Zombie apocalypse (chainsaw or baseball bat?), choosing the right type of visualization is key to effectively communicating your data.\n",
        "\n",
        "With the pandas library in Python, we can create a variety of visualizations directly from our DataFrame, `df_zombies`. Let's explore five basic types:\n",
        "\n"
      ],
      "metadata": {
        "id": "5TxxhYGKOSIF"
      }
    },
    {
      "cell_type": "code",
      "source": [
        "# Let's get all data prior to August 15, 2028\n",
        "%sql df_zombies <<  SELECT * FROM zombie_outbreak WHERE report_date < \"2028-08-15\";\n",
        "df_zombies = df_zombies.DataFrame()"
      ],
      "metadata": {
        "id": "TF6CgD6RRWXX",
        "outputId": "135f0e3b-1fa0-41c8-8d8b-c82c973de1da",
        "colab": {
          "base_uri": "https://localhost:8080/"
        }
      },
      "execution_count": 13,
      "outputs": [
        {
          "output_type": "stream",
          "name": "stdout",
          "text": [
            " * sqlite:///zombie_outbreak.db\n",
            "Done.\n",
            "Returning data to local variable df_zombies\n"
          ]
        }
      ]
    },
    {
      "cell_type": "markdown",
      "source": [
        "### Line Chart\n",
        "A line chart is a good choice when we want to see how data changes over time. For example, we could use a line chart to track the number of new Zombie cases over time."
      ],
      "metadata": {
        "id": "h0NcGWa9RVin"
      }
    },
    {
      "cell_type": "code",
      "source": [
        "import matplotlib.pyplot as plt\n",
        "\n",
        "ax = df_zombies.groupby('report_date')['case_id'].count().plot(title='New Zombie Cases Over Time')\n",
        "ax.set_xlabel('Date')\n",
        "ax.set_ylabel('Number of Cases')\n",
        "# To better control x-axis ticks, we use matplotlib's xticks function\n",
        "plt.xticks(rotation=45);"
      ],
      "metadata": {
        "id": "gv67cWG6OTEU",
        "outputId": "128c4546-9651-4ade-fb56-9b58a460cf09",
        "colab": {
          "base_uri": "https://localhost:8080/",
          "height": 571
        }
      },
      "execution_count": 25,
      "outputs": [
        {
          "output_type": "display_data",
          "data": {
            "text/plain": [
              "<Figure size 640x480 with 1 Axes>"
            ],
            "image/png": "[encoded data removed]"
          },
          "metadata": {}
        }
      ]
    },
    {
      "cell_type": "markdown",
      "source": [
        "### Bar Chart\n",
        "A bar chart is useful for comparing quantities across different categories. For example, we could use a bar chart to compare the number of cases across different locations."
      ],
      "metadata": {
        "id": "LtS5ES7wpcjA"
      }
    },
    {
      "cell_type": "code",
      "source": [
        "ax = df_zombies['location'].value_counts().plot(kind='bar', title='Number of Cases by Location')\n",
        "ax.set_xlabel('Location')\n",
        "ax.set_ylabel('Number of Cases')"
      ],
      "metadata": {
        "colab": {
          "base_uri": "https://localhost:8080/",
          "height": 497
        },
        "id": "yompE5anpgJE",
        "outputId": "9a5b83e1-6245-4127-bdc1-020cadc16f43"
      },
      "execution_count": 21,
      "outputs": [
        {
          "output_type": "execute_result",
          "data": {
            "text/plain": [
              "Text(0, 0.5, 'Number of Cases')"
            ]
          },
          "metadata": {},
          "execution_count": 21
        },
        {
          "output_type": "display_data",
          "data": {
            "text/plain": [
              "<Figure size 640x480 with 1 Axes>"
            ],
            "image/png": "[encoded data removed]"
          },
          "metadata": {}
        }
      ]
    },
    {
      "cell_type": "markdown",
      "source": [
        "Pie Chart: A pie chart is a circular chart that shows proportions of a whole. For example, we could use a pie chart to show the proportion of cases in different stages (infected, recovered, etc.)"
      ],
      "metadata": {
        "id": "Pd16TMepp0jl"
      }
    },
    {
      "cell_type": "code",
      "source": [
        "df_zombies['case_status'].value_counts().plot(kind='pie')"
      ],
      "metadata": {
        "colab": {
          "base_uri": "https://localhost:8080/",
          "height": 423
        },
        "id": "JWuXcNpbpz2H",
        "outputId": "d07ddf2c-878c-4f5b-fbdb-5aa54afe64e5"
      },
      "execution_count": 16,
      "outputs": [
        {
          "output_type": "execute_result",
          "data": {
            "text/plain": [
              "<Axes: ylabel='case_status'>"
            ]
          },
          "metadata": {},
          "execution_count": 16
        },
        {
          "output_type": "display_data",
          "data": {
            "text/plain": [
              "<Figure size 640x480 with 1 Axes>"
            ],
            "image/png": "[encoded data removed]"
          },
          "metadata": {}
        }
      ]
    },
    {
      "cell_type": "markdown",
      "source": [
        "### Histogram\n",
        "A histogram is used to plot the distribution of a numerical variable. For example, we could use a histogram to look at the age distribution of the Zombie cases."
      ],
      "metadata": {
        "id": "tWiM2QypqW54"
      }
    },
    {
      "cell_type": "code",
      "source": [
        "ax = df_zombies['age'].plot(kind='hist', bins=10, title='Age Distribution of Cases')\n",
        "ax.set_xlabel('Age')\n",
        "ax.set_ylabel('Number of Cases')"
      ],
      "metadata": {
        "colab": {
          "base_uri": "https://localhost:8080/",
          "height": 489
        },
        "id": "_xWjJGI5qZva",
        "outputId": "897ed87d-a7ac-418a-b7f8-e91e81cf8836"
      },
      "execution_count": 22,
      "outputs": [
        {
          "output_type": "execute_result",
          "data": {
            "text/plain": [
              "Text(0, 0.5, 'Number of Cases')"
            ]
          },
          "metadata": {},
          "execution_count": 22
        },
        {
          "output_type": "display_data",
          "data": {
            "text/plain": [
              "<Figure size 640x480 with 1 Axes>"
            ],
            "image/png": "[encoded data removed]"
          },
          "metadata": {}
        }
      ]
    },
    {
      "cell_type": "markdown",
      "source": [
        "### Box Plot\n",
        "A box plot is used to show the quartiles of the dataset while also spotting any outliers. For example, we could use a box plot to understand the distribution of ages of the Zombie cases."
      ],
      "metadata": {
        "id": "ohrn0-egqi0Q"
      }
    },
    {
      "cell_type": "code",
      "source": [
        "ax = df_zombies.boxplot(column='age')\n",
        "ax.set_title('Age Distribution of Cases')\n",
        "ax.set_ylabel('Age')"
      ],
      "metadata": {
        "colab": {
          "base_uri": "https://localhost:8080/",
          "height": 469
        },
        "id": "hwUWkl_OqlNB",
        "outputId": "354c45d4-5178-4223-e76a-465b83d1722c"
      },
      "execution_count": 23,
      "outputs": [
        {
          "output_type": "execute_result",
          "data": {
            "text/plain": [
              "Text(0, 0.5, 'Age')"
            ]
          },
          "metadata": {},
          "execution_count": 23
        },
        {
          "output_type": "display_data",
          "data": {
            "text/plain": [
              "<Figure size 640x480 with 1 Axes>"
            ],
            "image/png": "[encoded data removed]"
          },
          "metadata": {}
        }
      ]
    },
    {
      "cell_type": "markdown",
      "source": [
        "Just like you wouldn't use a fishing net to fight Zombies, you wouldn't use a line chart to compare different categories. Choosing the right visualization for your data will help you communicate your findings clearly and effectively. So grab your data, choose your weapon (visualization), and let's illuminate the dark corners of this Zombie outbreak!"
      ],
      "metadata": {
        "id": "q6_36Q9CqseX"
      }
    },
    {
      "cell_type": "markdown",
      "source": [
        "## Data Dashboards\n",
        "\n",
        "In the world of data analysis, if visualizations are the flashlight that helps you navigate a dark, Zombie-infested building, then data dashboards are like the command center that gives you a real-time view of the entire situation.\n",
        "\n",
        "A data dashboard is a tool for information management and visualization. It's a visual display of the most important information needed to achieve one or more objectives, consolidated and arranged on a single screen so the information can be monitored at a glance. In our Zombie outbreak scenario, a data dashboard could provide a real-time overview of the outbreak, including the number of new cases, the geographical spread of the outbreak, the effectiveness of treatments, and more.\n",
        "\n",
        "Data dashboards are critical tools in any data-driven decision-making process. They provide a quick and easy way to understand complex datasets, track performance metrics, and identify trends in real time. Just as a field agent in a Zombie movie might use a dashboard to track the location and movement of Zombie hordes, a data analyst can use a dashboard to monitor and understand vast amounts of data.\n",
        "\n",
        "There are several types of dashboards, each with its own strengths and uses:\n",
        "\n",
        "1.  Operational Dashboards: These dashboards are designed to be viewed frequently and provide an at-a-glance understanding of the current state of things. In the context of our Zombie outbreak, an operational dashboard might display the current number of active cases, the locations of the latest outbreaks, and the status of various treatment programs.\n",
        "\n",
        "2.  Analytical Dashboards: These dashboards are designed for detailed analysis and typically include a range of tools for filtering the data and drilling down into specifics. For example, an analytical dashboard for the Zombie outbreak might allow the CDC to analyze case data by location, age group, symptom severity, and other factors to identify patterns and trends.\n",
        "\n",
        "3.  Strategic Dashboards: These dashboards are designed for tracking long-term strategies and goals. In our Zombie scenario, a strategic dashboard might track progress towards the goal of containing the outbreak or developing a vaccine.\n",
        "\n",
        "When designing a dashboard, there are several important considerations:\n",
        "\n",
        "-   Purpose: What is the dashboard intended to achieve? Who will be using it? What questions should it answer?\n",
        "\n",
        "-   Data: What data is needed to achieve the dashboard's purpose? How should this data be visualized to best support decision-making?\n",
        "\n",
        "-   Layout: How should the dashboard be arranged to make it easy to understand and use? What visualizations should be included and where should they be placed?\n",
        "\n",
        "-   Interactivity: Should the dashboard include interactive elements, such as filters or drill-down functionality? How can these features be implemented in a way that enhances understanding and usability?"
      ],
      "metadata": {
        "id": "iA-Xny5-uyJl"
      }
    },
    {
      "cell_type": "markdown",
      "source": [
        "### Example: Building a Publc-Facing Dashboard\n",
        "A public-facing dashboard for the Zombie outbreak would need to balance the twin goals of providing useful information while not causing unnecessary panic. It should be easy to understand, visually appealing, and update in real-time or near real-time. Here's an example of what it might include:\n",
        "\n",
        "1.  Current Situation: A map of the country, showing the current locations of the outbreaks. Each location could be color-coded based on the severity of the outbreak, from green (no cases) to red (high number of cases).\n",
        "\n",
        "2.  Trend Over Time: A line chart showing the number of new cases each day, giving viewers a sense of whether the outbreak is getting better or worse.\n",
        "\n",
        "3.  Key Statistics: A few key numbers displayed prominently, such as the total number of cases, total number of recoveries, and total number of ongoing cases.\n",
        "\n",
        "4.  Preventive Measures: A section dedicated to educating the public about preventive measures they can take to protect themselves from the outbreak.\n",
        "\n",
        "To construct such a dashboard, you'd start with your SQL database, extracting the data you need for each element of the dashboard using SQL queries. For example, you might have a query to get the number of cases for each location, another query to get the number of new cases for each day, and so on.\n",
        "\n",
        "You would then use pandas in a Jupyter notebook to manipulate this data as needed, such as calculating totals, averages, or other aggregate measures. You'd also use pandas to format the data in a way that's suitable for your dashboard.\n",
        "\n",
        "Finally, to build the dashboard itself, you'd use a dashboarding tool. There are many such tools available, some of which can be used directly in a Jupyter notebook, such as Dash or Bokeh. These tools allow you to create interactive, web-based dashboards that can be shared publicly. They also integrate well with pandas, allowing you to use your prepared pandas DataFrames as the data source for your dashboard elements.\n",
        "\n",
        "While constructing a full-featured dashboard is beyond the scope of an introductory course, it's important to understand that the process of extracting, transforming, and loading your data -- the ETL process you've been learning about -- is the foundation of any data dashboard. The better you understand your data and how to manipulate it, the more effective your dashboards will be."
      ],
      "metadata": {
        "id": "YV3HY5j4vAcM"
      }
    },
    {
      "cell_type": "markdown",
      "source": [
        "## Appendix: A Script to Generate a Random Zombie Outbreak\n",
        "You don't need to run this! I just included it here to show how I generated the data set we're working with. Feel free to play with it to see what happens! (Right now, this is *not* a realistic pandemic data set)."
      ],
      "metadata": {
        "id": "jFmJRoMw0IyO"
      }
    },
    {
      "cell_type": "code",
      "source": [
        "import pandas as pd\n",
        "import numpy as np\n",
        "from random import choices, randint\n",
        "from datetime import datetime, timedelta\n",
        "import math\n",
        "\n",
        "# List of states to simulate spreading of the outbreak\n",
        "states = ['MN', 'WI', 'IA', 'SD', 'ND', 'NE', 'IL', 'MI', 'IN', 'OH']\n",
        "\n",
        "# Define the severity levels and case status\n",
        "severity_levels = ['Just a Scratch', 'Bitten', 'Mauled']\n",
        "case_status = ['Recovered', 'Turned', 'Lost to the Horde', 'Unknown']\n",
        "\n",
        "# Function to generate case_status based on age and severity\n",
        "def generate_case_status(age, severity):\n",
        "    if severity == 'Just a Scratch':\n",
        "        return choices(case_status, weights=[65, 29, 1, 5])[0]\n",
        "    elif severity == 'Bitten':\n",
        "        return choices(case_status, weights=[35, 54, 1, 10])[0]\n",
        "    else: # 'Mauled'\n",
        "        return choices(case_status, weights=[15, 24, 41, 20])[0]\n",
        "\n",
        "# Create dataframe\n",
        "data = {'case_id': [], 'report_date': [], 'location': [], 'symptom_severity': [], 'case_status': [], 'age': []}\n",
        "\n",
        "start_date = datetime(2028, 2, 1)\n",
        "end_date = datetime(2028, 8, 31)\n",
        "num_days = (end_date - start_date).days\n",
        "\n",
        "# Exponential growth parameters\n",
        "a = 1  # initial number of cases\n",
        "r = np.log(2) / 30  # rate, set to double every month\n",
        "\n",
        "# Generate t values (one for each day), evenly spaced between 0 and the total number of days\n",
        "t_values = np.linspace(0, num_days, num=num_days+1)\n",
        "\n",
        "# Calculate the number of cases for each day, round to nearest integer\n",
        "case_counts = np.rint(a * np.exp(r * t_values)).astype(int)\n",
        "\n",
        "# Create an array of dates to choose from\n",
        "dates = np.array([start_date + timedelta(days=int(t)) for t in t_values])\n",
        "\n",
        "# Calculate the cumulative case counts\n",
        "cumulative_case_counts = np.cumsum(case_counts)\n",
        "\n",
        "# Assign a date to each case according to the cumulative case counts\n",
        "case_dates = np.searchsorted(cumulative_case_counts, np.arange(1, 5001))\n",
        "\n",
        "for i in range(5000):\n",
        "    # Get the date\n",
        "    date = dates[case_dates[i]]\n",
        "\n",
        "    # generate location based on the date (more recent dates have more states)\n",
        "    location = np.random.choice(states[:max(1, (date-start_date).days//(num_days//len(states)))])\n",
        "\n",
        "    # generate age (more older people as per severity)\n",
        "    age = int(np.random.normal(loc=50, scale=20))\n",
        "    if age < 0: age = 0\n",
        "    if np.random.rand() < 0.1:  # 10% chance of age being unknown\n",
        "        age = -1\n",
        "\n",
        "    # generate symptom severity (more severe for older people)\n",
        "    symptom_severity = choices(severity_levels, weights=[70, 20, 10] if age != -1 else [10, 20, 70])[0]\n",
        "\n",
        "    # generate case_status based on symptom_severity and age\n",
        "    case_status_generated = generate_case_status(age, symptom_severity)\n",
        "\n",
        "    # append generated data to the dictionary\n",
        "    data['case_id'].append(i)\n",
        "    data['report_date'].append(date.strftime(\"%Y-%m-%d\"))\n",
        "    data['location'].append(location)\n",
        "    data['symptom_severity'].append(symptom_severity)\n",
        "    data['case_status'].append(case_status_generated)\n",
        "    data['age'].append(age)\n",
        "\n",
        "# Create DataFrame\n",
        "df = pd.DataFrame(data)\n",
        "\n",
        "# Save DataFrame to CSV\n",
        "df.to_csv('zombie_outbreak.csv', index=False)\n"
      ],
      "metadata": {
        "id": "5MNE7TUB2xRA"
      },
      "execution_count": null,
      "outputs": []
    }
  ]
}