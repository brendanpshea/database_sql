{
  "nbformat": 4,
  "nbformat_minor": 0,
  "metadata": {
    "colab": {
      "provenance": [],
      "authorship_tag": "ABX9TyNsU34ooef+dhKcomYRxSoQ",
      "include_colab_link": true
    },
    "kernelspec": {
      "name": "python3",
      "display_name": "Python 3"
    },
    "language_info": {
      "name": "python"
    }
  },
  "cells": [
    {
      "cell_type": "markdown",
      "metadata": {
        "id": "view-in-github",
        "colab_type": "text"
      },
      "source": [
        "<a href=\"https://colab.research.google.com/github/brendanpshea/database_sql/blob/main/Database_02_IntroToSQL.ipynb\" target=\"_parent\"><img src=\"https://colab.research.google.com/assets/colab-badge.svg\" alt=\"Open In Colab\"/></a>"
      ]
    },
    {
      "cell_type": "markdown",
      "source": [
        "# Introduction to SQL: SELECT\n",
        "### Database and SQL Through Pop Culture | Brendan Shea, PhD\n",
        "In this chapter, we dive into the heart of SQL and explore some of its most fundamental and powerful features. We start by understanding the basics of the SELECT and FROM statements, which allow us to retrieve data from a table. We then learn how to sort this data using ORDER BY and filter it based on specific conditions using WHERE. The chapter also covers how to handle NULL values, search for patterns using LIKE, and perform calculations across sets of rows using aggregate functions. Throughout, we use the real-world example of a database of sci-fi books to illustrate these concepts in a practical context.\n",
        "\n",
        "Learning Outcomes: By the end of this chapter, you will be able to:\n",
        "\n",
        "1.  Retrieve data from a table using SELECT and FROM statements\n",
        "2.  Sort query results using ORDER BY\n",
        "3.  Filter data based on specific conditions using WHERE\n",
        "4.  Handle NULL values in your queries\n",
        "5.  Search for patterns in data using LIKE\n",
        "6.  Use aggregate functions to perform calculations across sets of rows\n",
        "7.  Make your query results more readable using aliases with AS"
      ],
      "metadata": {
        "id": "ftducja_nQNH"
      }
    },
    {
      "cell_type": "markdown",
      "source": [
        "##  What is the Relational Model?\n",
        "\n",
        "The **relational model** of data has revolutionized the way we store, organize, and interact with information. This model, proposed by English computer scientist Edgar F. Codd in 1970 while working at IBM, forms the foundation of modern database systems.\n",
        "\n",
        "At its core, the relational model is a way of structuring data in a database using tables. These tables, which resemble spreadsheets, represent specific entities or concepts. For instance, a library database might have tables for \"Books,\" \"Authors,\" \"Publishers,\" and \"Borrowers.\"\n",
        "\n",
        "Some ideas of the relational model:\n",
        "\n",
        "-   An **entity** is a specific object or concept that data is being stored about, such as a book, author, or customer.\n",
        "-   An **attribute** is a characteristic or property of an entity, such as a book's title, author, or publication date.\n",
        "-   A **table** is a collection of data elements organized in terms of rows and columns. Each table represents a specific entity.\n",
        "-   A **row** (record or tuple) is a single instance of an entity in a table, such as one specific book in the \"Books\" table.\n",
        "-   A **column (field)** represents an attribute of the entity in a table, such as the \"Title\" or \"Author\" of a book.\n",
        "-   A **primary key** is a unique identifier for each row in a table, used to distinguish one record from another.\n",
        "-   A **foreign key** is a field in one table that uniquely identifies a row in another table, used to establish relationships between tables.\n",
        "\n",
        "Here's an example of what a simple \"Books\" table might look like:\n",
        "\n",
        "| id | title | author | publication_year |\n",
        "| --- | --- | --- | --- |\n",
        "| 1 | Dune | Frank Herbert | 1965 |\n",
        "| 2 | Ender's Game | Orson Scott Card | 1985 |\n",
        "| 3 | Hitchhiker's Guide to the Galaxy | Douglas Adams | 1979 |\n",
        "\n",
        "In this table, each row represents a specific book, with columns for the book's unique identifier (id), title, author, and publication year.\n",
        "\n",
        "The real strength of the relational model lies in its ability to establish relationships between tables. Instead of duplicating data across tables, we can link related data using keys.\n",
        "\n",
        "For example, let's say we have a separate \"Authors\" table:\n",
        "\n",
        "| id | name | birth_year |\n",
        "| --- | --- | --- |\n",
        "| 1 | Frank Herbert | 1920 |\n",
        "| 2 | Orson Scott Card | 1951 |\n",
        "| 3 | Douglas Adams | 1952 |\n",
        "\n",
        "We can link the \"Books\" and \"Authors\" tables using the \"author_id\" field in the \"Books\" table, which would serve as a foreign key referencing the \"id\" field (the primary key) in the \"Authors\" table:\n",
        "\n",
        "| id | title | author_id | publication_year |\n",
        "| --- | --- | --- | --- |\n",
        "| 1 | Dune | 1 | 1965 |\n",
        "| 2 | Ender's Game | 2 | 1985 |\n",
        "| 3 | Hitchhiker's Guide to the Galaxy | 3 | 1979 |\n",
        "\n",
        "This structure allows us to efficiently store and manage data, as changes to an author's details only need to be made in the \"Authors\" table, and will automatically be reflected wherever that author is referenced."
      ],
      "metadata": {
        "id": "Zyz0Qz5UEsfH"
      }
    },
    {
      "cell_type": "markdown",
      "source": [
        "## What is SQL?\n",
        "\n",
        "**SQL**, which stands for Structured Query Language, is a programming language used to communicate with and manipulate relational databases.SQL was developed in the early 1970s at IBM to work with these relational databases, and it has since become the standard language for interacting with them.\n",
        "\n",
        "One of the key features of SQL is that it is a **declarative language**. This means that when you write SQL queries, you tell the database what you want it to do, but not how to do it. It's a bit like giving someone directions to a destination without specifying the exact route they should take. The database figures out the best way to execute your query and retrieve the data you requested.\n",
        "\n",
        "A **query** is simply a question or a request for data from a database. With SQL, you can write queries to retrieve, insert, update, and delete data in a database. For example, if you have a database of sci-fi books, you might write a query to find all the books published after a certain year, like this:\n",
        "\n",
        "```sql\n",
        "SELECT title, author, publication_year\n",
        "FROM Books\n",
        "WHERE publication_year > 1980;\n",
        "```\n",
        "\n",
        "This query tells the database, \"Give me the title, author, and publication year for all the books in the 'Books' table that were published after 1980.\"\n",
        "\n",
        "SQL is divided into several sublanguages, each with a specific purpose:\n",
        "\n",
        "1.  **Data Definition Language (DDL).** This part of SQL is used to define and modify the structure of a database, including creating, altering, and deleting tables and other database objects.\n",
        "2.  **Data Manipulation Language (DML).** DML is used to manipulate the data stored in a database. This includes inserting new data, updating existing data, and deleting data.\n",
        "3.  **Data Query Language (DQL).** This is the part of SQL used to retrieve data from a database. The most common DQL command is SELECT, which is used to query data from one or more tables.\n",
        "4.  **Data Control Language (DCL).** DCL is used to manage access to a database. This includes granting and revoking permissions for users to perform specific actions on the database.\n",
        "5.  **Transaction Control Language (TCL).** TCL is used to manage database transactions. This includes commands to commit (permanently save) or rollback (undo) changes made to the database.\n",
        "\n",
        "By learning SQL, you gain a powerful tool for working with relational databases. Whether you're a data analyst, a software developer, or just someone who wants to understand how to manage and query data effectively, SQL is a valuable skill to have. It's used in a wide variety of settings, from small personal projects to large-scale enterprise applications, making it a versatile and essential part of working with data."
      ],
      "metadata": {
        "id": "N0wbfZlDGyy7"
      }
    },
    {
      "cell_type": "markdown",
      "source": [
        "##  What is SQLite?\n",
        "\n",
        "**SQLite** is a lightweight, file-based relational database management system (RDBMS) that is embedded directly into the application that uses it. Unlike traditional database systems that run as separate server processes, SQLite is a serverless, self-contained library that requires minimal support from external libraries or operating systems. This unique architecture makes SQLite an ideal choice for many scenarios, particularly those where a full-fledged database server might be overkill or impractical. It's one of the most widely installed pieces of software in the world, and is the database of choice for many mobile, web, and desktop applications, as well \"embedded\" databases in the internet-of-things.\n",
        "\n",
        "One of the key advantages of SQLite is its simplicity and ease of use. Setting up a new SQLite database is as simple as creating a new file on your computer. There is no need to install any additional software or configure a complex server environment. This makes SQLite an excellent choice for beginners learning SQL and for developers who need a quick and easy way to store and manage data in their applications. However, SQLite isn't well-suited for traditional business/enterprise use (where there are large numbers of users simultaneously writing to huge databases across a network). For this, you'd need to use a traditional \"client-server database\" (such as Oracle, SQL Server, MySQL, or Postgres).\n",
        "\n",
        "Happily, SQLite supports most of the core features of SQL, including complex queries, transactions, and constraints. This means that you can use the same SQL syntax and concepts you would use with other RDBMSs, making it a great learning tool and a gateway to more advanced database systems.\n",
        "\n",
        "Throughout this book, we'll be using SQLite to explore SQL and relational databases. By the end, you'll have a solid foundation in SQL and a practical understanding of how to use SQLite to manage and query data in your own projects, whether you're building a mobile app, a small web application, or a desktop tool for managing your personal library of sci-fi books."
      ],
      "metadata": {
        "id": "xZLlNw5FI3DO"
      }
    },
    {
      "cell_type": "markdown",
      "source": [
        "## Getting Started With SQLite in Google Colab\n",
        "Google Colab is a free, cloud-based Jupyter notebook environment that allows you to write and execute Python code in your browser. It's a great platform for learning and experimenting with SQL and SQLite, as it provides a simple, interactive way to run SQL queries and visualize the results.\n",
        "\n",
        "To get started with SQLite in Google Colab, we'll use the IPython SQL magic extension. This extension allows us to write SQL queries directly in our notebook cells, prefixed with the `%%sql` magic command.\n",
        "First, if needed, let's install the IPython SQL extension and load it into our notebook:"
      ],
      "metadata": {
        "id": "sre6V260JRMi"
      }
    },
    {
      "cell_type": "code",
      "execution_count": 2,
      "metadata": {
        "id": "gdTGQ1z3Ersz"
      },
      "outputs": [],
      "source": [
        "# !pip install ipython-sql # Not needed--already installed\n",
        "%load_ext sql"
      ]
    },
    {
      "cell_type": "markdown",
      "source": [
        "Now that we have the SQL magic extension loaded, we can connect to our SQLite database. In this case, we'll be using a pre-populated database file called `books.db`, which contains data about a collection of sci-fi books.\n",
        "\n",
        "To load the `books.db` file into our Colab notebook, we can use the `wget` command to download it from a web link:"
      ],
      "metadata": {
        "id": "DGZKBQfrJrQ8"
      }
    },
    {
      "cell_type": "code",
      "source": [
        "!wget -N 'https://github.com/brendanpshea/database_sql/raw/main/data/sci_fi_books.db' -q"
      ],
      "metadata": {
        "id": "zjaqqdQwJsI1"
      },
      "execution_count": 3,
      "outputs": []
    },
    {
      "cell_type": "markdown",
      "source": [
        "Once the file is downloaded, we can connect to it using the SQL magic extension:"
      ],
      "metadata": {
        "id": "6SJ4CI9aJ21w"
      }
    },
    {
      "cell_type": "code",
      "source": [
        "%sql sqlite:///sci_fi_books.db"
      ],
      "metadata": {
        "id": "8NVaS637J8GQ"
      },
      "execution_count": 4,
      "outputs": []
    },
    {
      "cell_type": "markdown",
      "source": [
        "This command establishes a connection to the `sci_fi_books.db` SQLite database file in our current working directory.\n",
        "\n",
        "With the connection established, we can now run SQL queries on our database directly in our Colab notebook cells. For example, to see a list of all the tables in our database, we can use the following command.\n",
        "\n"
      ],
      "metadata": {
        "id": "_OjInMTCJ_-p"
      }
    },
    {
      "cell_type": "code",
      "source": [
        "%%sql\n",
        "SELECT name FROM sqlite_master WHERE type='table';"
      ],
      "metadata": {
        "colab": {
          "base_uri": "https://localhost:8080/",
          "height": 95
        },
        "id": "pxeGD-iGKFA7",
        "outputId": "c906ca3b-19d6-48a2-95ad-6a6929eac724"
      },
      "execution_count": 5,
      "outputs": [
        {
          "output_type": "stream",
          "name": "stdout",
          "text": [
            " * sqlite:///sci_fi_books.db\n",
            "Done.\n"
          ]
        },
        {
          "output_type": "execute_result",
          "data": {
            "text/plain": [
              "[('books',)]"
            ],
            "text/html": [
              "<table>\n",
              "    <thead>\n",
              "        <tr>\n",
              "            <th>name</th>\n",
              "        </tr>\n",
              "    </thead>\n",
              "    <tbody>\n",
              "        <tr>\n",
              "            <td>books</td>\n",
              "        </tr>\n",
              "    </tbody>\n",
              "</table>"
            ]
          },
          "metadata": {},
          "execution_count": 5
        }
      ]
    },
    {
      "cell_type": "markdown",
      "source": [
        "## Getting to Know the Books Table\n",
        "\n",
        "The data we'll be working with throughout this book comes from Goodreads, a popular social cataloging website that allows users to search its database of books, annotations, and reviews. Users can sign up and register books to generate library catalogs and reading lists. They can also create their own groups of book suggestions, surveys, polls, blogs, and discussions.\n",
        "\n",
        "For our purposes, we'll be using a dataset that contains information about a collection of science fiction books. This data has been extracted from Goodreads and formatted to fit into a SQLite database, allowing us to easily explore and analyze it using SQL.\n",
        "\n",
        "To work effectively with a database, it's crucial to understand its structure or schema. A database **schema** is a blueprint that defines how the data is organized. It specifies what tables exist in the database, what columns each table has, and what type of data each column can store.\n",
        "\n",
        "Here's a breakdown of the schema for our \"Books\" table:\n",
        "\n",
        "-   `id`: A unique identifier for each book, serving as the PRIMARY KEY for our database. This ensures that each record in the table can be uniquely identified and accessed.\n",
        "-   `title`: The title of the book, stored as a TEXT data type.\n",
        "-   `series`: If the book is part of a series, this column will contain the name of that series. It's also stored as TEXT.\n",
        "-   `author`: The author of the book, stored as TEXT.\n",
        "-   `rating`: The average rating of the book on Goodreads, stored as a REAL number (a decimal number).\n",
        "-   `language`: The language the book is written in, stored as TEXT.\n",
        "-   `pages`: The number of pages in the book, stored as an INT (integer).\n",
        "-   `publisher`: The name of the book's publisher, stored as TEXT.\n",
        "-   `numRatings`: The total number of ratings the book has received on Goodreads, stored as an INT.\n",
        "-   `firstPublishDate`: The date when the book was first published, stored as TEXT.\n",
        "-   `publishDate`: The most recent publication date of the book, also stored as TEXT.\n",
        "\n",
        "Understanding this schema is essential for writing effective SQL queries. It tells us what information we have access to and how it's structured. For example, knowing that the `rating` is stored as a REAL number tells us that we can perform mathematical operations on it, like finding the average rating across all books. Knowing that `pages` is an INT tells us that we can use it for numerical comparisons, like finding all books over 500 pages."
      ],
      "metadata": {
        "id": "Hqedn7bCNQnb"
      }
    },
    {
      "cell_type": "markdown",
      "source": [
        "##  SELECT and FROM\n",
        "\n",
        "Now that we understand the structure of our database, let's dive into the fundamental building blocks of SQL queries: SELECT and FROM.\n",
        "\n",
        "The SELECT statement is used to retrieve data from one or more tables in a database. Its basic syntax is as follows:\n",
        "\n",
        "```sql\n",
        "SELECT column1, column2, ...\n",
        "FROM table_name;\n",
        "```\n",
        "\n",
        "Here's what each part of this statement means:\n",
        "\n",
        "-   `SELECT`: This keyword initiates the query and indicates that we're about to specify which columns we want to retrieve.\n",
        "-   `column1, column2, ...`: These are the names of the columns we want to include in our result set. You can list as many columns as you want, separated by commas. If you want to select all columns, you can use an asterisk (`*`) instead.\n",
        "-   `FROM`: This keyword indicates that we're about to specify which table we want to retrieve data from.\n",
        "-   `table_name`: This is the name of the table we're querying.\n",
        "\n",
        "So, in plain English, this statement tells the database: \"Give me the specified columns from this table.\"\n",
        "\n",
        "Let's look at some examples of SELECT queries using our \"Books\" table.\n",
        "\n",
        "### Selecting all columns\n",
        "\n",
        "To select all columns from the \"Books\" table, we can use the asterisk (`*`) shorthand:"
      ],
      "metadata": {
        "id": "9GluYnxNWb9J"
      }
    },
    {
      "cell_type": "code",
      "source": [
        "%%sql\n",
        "SELECT * -- Select all columns\n",
        "FROM Books -- From the Books table\n",
        "LIMIT 10; -- Limit the result to the first 10 rows"
      ],
      "metadata": {
        "colab": {
          "base_uri": "https://localhost:8080/",
          "height": 353
        },
        "id": "SJNnnbYSNQ__",
        "outputId": "41cef69e-3e2e-4d7d-9544-e64abe313ae1"
      },
      "execution_count": 6,
      "outputs": [
        {
          "output_type": "stream",
          "name": "stdout",
          "text": [
            " * sqlite:///sci_fi_books.db\n",
            "Done.\n"
          ]
        },
        {
          "output_type": "execute_result",
          "data": {
            "text/plain": [
              "[(None, '2008-09-14', 'The Hunger Games', 'The Hunger Games #1', 'Suzanne Collins', 4.33, 'English', 374, 'Scholastic Press', 6376780, 1),\n",
              " ('2003-06-21', '2004-09-28', 'Harry Potter and the Order of the Phoenix', 'Harry Potter #5', 'J.K. Rowling', 4.5, 'English', 870, 'Scholastic Inc.', 2507623, 2),\n",
              " ('1945-08-17', '1996-04-28', 'Animal Farm', None, 'George Orwell', 3.95, 'English', 141, 'Signet Classics', 2740713, 3),\n",
              " ('1956-10-28', '2002-09-16', 'The Chronicles of Narnia', 'The Chronicles of Narnia (Publication Order) #1â€“7', 'C.S. Lewis', 4.26, 'English', 767, 'HarperCollins', 517740, 4),\n",
              " ('1955-10-20', '2012-09-25', 'J.R.R. Tolkien 4-Book Boxed Set: The Hobbit and The Lord of the Rings', 'The Lord of the Rings #0-3', 'J.R.R. Tolkien', 4.6, 'English', 1728, 'Ballantine Books', 110146, 5),\n",
              " ('1979-10-12', '2007-06-23', \"The Hitchhiker's Guide to the Galaxy\", \"The Hitchhiker's Guide to the Galaxy #1\", 'Douglas Adams', 4.22, 'English', 193, 'Del Rey', 1436325, 6),\n",
              " ('1953-10-19', '2011-11-29', 'Fahrenheit 451', None, 'Ray Bradbury', 3.99, 'English', 194, 'Simon & Schuster', 1680139, 7),\n",
              " ('2011-04-25', '2012-02-28', 'Divergent', 'Divergent #1', 'Veronica Roth', 4.19, 'English', 487, 'Katherine Tegen Books', 2906258, 8),\n",
              " ('1985-10-28', '2004-09-30', \"Ender's Game\", \"Ender's Saga #1\", 'Orson Scott Card', 4.3, 'English', 324, 'Macmillan Audio', 1131303, 9),\n",
              " ('1997-06-26', '2003-11-01', \"Harry Potter and the Sorcerer's Stone\", 'Harry Potter #1', 'J.K. Rowling', 4.47, 'English', 309, 'Scholastic Inc', 7048471, 10)]"
            ],
            "text/html": [
              "<table>\n",
              "    <thead>\n",
              "        <tr>\n",
              "            <th>firstPublishDate</th>\n",
              "            <th>publishDate</th>\n",
              "            <th>title</th>\n",
              "            <th>series</th>\n",
              "            <th>author</th>\n",
              "            <th>rating</th>\n",
              "            <th>language</th>\n",
              "            <th>pages</th>\n",
              "            <th>publisher</th>\n",
              "            <th>numRatings</th>\n",
              "            <th>id</th>\n",
              "        </tr>\n",
              "    </thead>\n",
              "    <tbody>\n",
              "        <tr>\n",
              "            <td>None</td>\n",
              "            <td>2008-09-14</td>\n",
              "            <td>The Hunger Games</td>\n",
              "            <td>The Hunger Games #1</td>\n",
              "            <td>Suzanne Collins</td>\n",
              "            <td>4.33</td>\n",
              "            <td>English</td>\n",
              "            <td>374</td>\n",
              "            <td>Scholastic Press</td>\n",
              "            <td>6376780</td>\n",
              "            <td>1</td>\n",
              "        </tr>\n",
              "        <tr>\n",
              "            <td>2003-06-21</td>\n",
              "            <td>2004-09-28</td>\n",
              "            <td>Harry Potter and the Order of the Phoenix</td>\n",
              "            <td>Harry Potter #5</td>\n",
              "            <td>J.K. Rowling</td>\n",
              "            <td>4.5</td>\n",
              "            <td>English</td>\n",
              "            <td>870</td>\n",
              "            <td>Scholastic Inc.</td>\n",
              "            <td>2507623</td>\n",
              "            <td>2</td>\n",
              "        </tr>\n",
              "        <tr>\n",
              "            <td>1945-08-17</td>\n",
              "            <td>1996-04-28</td>\n",
              "            <td>Animal Farm</td>\n",
              "            <td>None</td>\n",
              "            <td>George Orwell</td>\n",
              "            <td>3.95</td>\n",
              "            <td>English</td>\n",
              "            <td>141</td>\n",
              "            <td>Signet Classics</td>\n",
              "            <td>2740713</td>\n",
              "            <td>3</td>\n",
              "        </tr>\n",
              "        <tr>\n",
              "            <td>1956-10-28</td>\n",
              "            <td>2002-09-16</td>\n",
              "            <td>The Chronicles of Narnia</td>\n",
              "            <td>The Chronicles of Narnia (Publication Order) #1â€“7</td>\n",
              "            <td>C.S. Lewis</td>\n",
              "            <td>4.26</td>\n",
              "            <td>English</td>\n",
              "            <td>767</td>\n",
              "            <td>HarperCollins</td>\n",
              "            <td>517740</td>\n",
              "            <td>4</td>\n",
              "        </tr>\n",
              "        <tr>\n",
              "            <td>1955-10-20</td>\n",
              "            <td>2012-09-25</td>\n",
              "            <td>J.R.R. Tolkien 4-Book Boxed Set: The Hobbit and The Lord of the Rings</td>\n",
              "            <td>The Lord of the Rings #0-3</td>\n",
              "            <td>J.R.R. Tolkien</td>\n",
              "            <td>4.6</td>\n",
              "            <td>English</td>\n",
              "            <td>1728</td>\n",
              "            <td>Ballantine Books</td>\n",
              "            <td>110146</td>\n",
              "            <td>5</td>\n",
              "        </tr>\n",
              "        <tr>\n",
              "            <td>1979-10-12</td>\n",
              "            <td>2007-06-23</td>\n",
              "            <td>The Hitchhiker&#x27;s Guide to the Galaxy</td>\n",
              "            <td>The Hitchhiker&#x27;s Guide to the Galaxy #1</td>\n",
              "            <td>Douglas Adams</td>\n",
              "            <td>4.22</td>\n",
              "            <td>English</td>\n",
              "            <td>193</td>\n",
              "            <td>Del Rey</td>\n",
              "            <td>1436325</td>\n",
              "            <td>6</td>\n",
              "        </tr>\n",
              "        <tr>\n",
              "            <td>1953-10-19</td>\n",
              "            <td>2011-11-29</td>\n",
              "            <td>Fahrenheit 451</td>\n",
              "            <td>None</td>\n",
              "            <td>Ray Bradbury</td>\n",
              "            <td>3.99</td>\n",
              "            <td>English</td>\n",
              "            <td>194</td>\n",
              "            <td>Simon &amp; Schuster</td>\n",
              "            <td>1680139</td>\n",
              "            <td>7</td>\n",
              "        </tr>\n",
              "        <tr>\n",
              "            <td>2011-04-25</td>\n",
              "            <td>2012-02-28</td>\n",
              "            <td>Divergent</td>\n",
              "            <td>Divergent #1</td>\n",
              "            <td>Veronica Roth</td>\n",
              "            <td>4.19</td>\n",
              "            <td>English</td>\n",
              "            <td>487</td>\n",
              "            <td>Katherine Tegen Books</td>\n",
              "            <td>2906258</td>\n",
              "            <td>8</td>\n",
              "        </tr>\n",
              "        <tr>\n",
              "            <td>1985-10-28</td>\n",
              "            <td>2004-09-30</td>\n",
              "            <td>Ender&#x27;s Game</td>\n",
              "            <td>Ender&#x27;s Saga #1</td>\n",
              "            <td>Orson Scott Card</td>\n",
              "            <td>4.3</td>\n",
              "            <td>English</td>\n",
              "            <td>324</td>\n",
              "            <td>Macmillan Audio</td>\n",
              "            <td>1131303</td>\n",
              "            <td>9</td>\n",
              "        </tr>\n",
              "        <tr>\n",
              "            <td>1997-06-26</td>\n",
              "            <td>2003-11-01</td>\n",
              "            <td>Harry Potter and the Sorcerer&#x27;s Stone</td>\n",
              "            <td>Harry Potter #1</td>\n",
              "            <td>J.K. Rowling</td>\n",
              "            <td>4.47</td>\n",
              "            <td>English</td>\n",
              "            <td>309</td>\n",
              "            <td>Scholastic Inc</td>\n",
              "            <td>7048471</td>\n",
              "            <td>10</td>\n",
              "        </tr>\n",
              "    </tbody>\n",
              "</table>"
            ]
          },
          "metadata": {},
          "execution_count": 6
        }
      ]
    },
    {
      "cell_type": "markdown",
      "source": [
        "### Selecting specific columns\n",
        "If we only want to retrieve certain columns, we can list them explicitly after the SELECT keyword:"
      ],
      "metadata": {
        "id": "RaGNPdA6WxN1"
      }
    },
    {
      "cell_type": "code",
      "source": [
        "%%sql\n",
        "SELECT\n",
        "  title, -- Select the title column\n",
        "  author, -- Select the author column\n",
        "  publishDate-- Select the publishDate column\n",
        "FROM Books -- From the Books table\n",
        "LIMIT 10; -- Limit the result to the first 10 rows"
      ],
      "metadata": {
        "colab": {
          "base_uri": "https://localhost:8080/",
          "height": 284
        },
        "id": "ovZVunxmW35D",
        "outputId": "ce322d54-edc6-453f-bcfb-9a5de5cddfe9"
      },
      "execution_count": 7,
      "outputs": [
        {
          "output_type": "stream",
          "name": "stdout",
          "text": [
            " * sqlite:///sci_fi_books.db\n",
            "Done.\n"
          ]
        },
        {
          "output_type": "execute_result",
          "data": {
            "text/plain": [
              "[('The Hunger Games', 'Suzanne Collins', '2008-09-14'),\n",
              " ('Harry Potter and the Order of the Phoenix', 'J.K. Rowling', '2004-09-28'),\n",
              " ('Animal Farm', 'George Orwell', '1996-04-28'),\n",
              " ('The Chronicles of Narnia', 'C.S. Lewis', '2002-09-16'),\n",
              " ('J.R.R. Tolkien 4-Book Boxed Set: The Hobbit and The Lord of the Rings', 'J.R.R. Tolkien', '2012-09-25'),\n",
              " (\"The Hitchhiker's Guide to the Galaxy\", 'Douglas Adams', '2007-06-23'),\n",
              " ('Fahrenheit 451', 'Ray Bradbury', '2011-11-29'),\n",
              " ('Divergent', 'Veronica Roth', '2012-02-28'),\n",
              " (\"Ender's Game\", 'Orson Scott Card', '2004-09-30'),\n",
              " (\"Harry Potter and the Sorcerer's Stone\", 'J.K. Rowling', '2003-11-01')]"
            ],
            "text/html": [
              "<table>\n",
              "    <thead>\n",
              "        <tr>\n",
              "            <th>title</th>\n",
              "            <th>author</th>\n",
              "            <th>publishDate</th>\n",
              "        </tr>\n",
              "    </thead>\n",
              "    <tbody>\n",
              "        <tr>\n",
              "            <td>The Hunger Games</td>\n",
              "            <td>Suzanne Collins</td>\n",
              "            <td>2008-09-14</td>\n",
              "        </tr>\n",
              "        <tr>\n",
              "            <td>Harry Potter and the Order of the Phoenix</td>\n",
              "            <td>J.K. Rowling</td>\n",
              "            <td>2004-09-28</td>\n",
              "        </tr>\n",
              "        <tr>\n",
              "            <td>Animal Farm</td>\n",
              "            <td>George Orwell</td>\n",
              "            <td>1996-04-28</td>\n",
              "        </tr>\n",
              "        <tr>\n",
              "            <td>The Chronicles of Narnia</td>\n",
              "            <td>C.S. Lewis</td>\n",
              "            <td>2002-09-16</td>\n",
              "        </tr>\n",
              "        <tr>\n",
              "            <td>J.R.R. Tolkien 4-Book Boxed Set: The Hobbit and The Lord of the Rings</td>\n",
              "            <td>J.R.R. Tolkien</td>\n",
              "            <td>2012-09-25</td>\n",
              "        </tr>\n",
              "        <tr>\n",
              "            <td>The Hitchhiker&#x27;s Guide to the Galaxy</td>\n",
              "            <td>Douglas Adams</td>\n",
              "            <td>2007-06-23</td>\n",
              "        </tr>\n",
              "        <tr>\n",
              "            <td>Fahrenheit 451</td>\n",
              "            <td>Ray Bradbury</td>\n",
              "            <td>2011-11-29</td>\n",
              "        </tr>\n",
              "        <tr>\n",
              "            <td>Divergent</td>\n",
              "            <td>Veronica Roth</td>\n",
              "            <td>2012-02-28</td>\n",
              "        </tr>\n",
              "        <tr>\n",
              "            <td>Ender&#x27;s Game</td>\n",
              "            <td>Orson Scott Card</td>\n",
              "            <td>2004-09-30</td>\n",
              "        </tr>\n",
              "        <tr>\n",
              "            <td>Harry Potter and the Sorcerer&#x27;s Stone</td>\n",
              "            <td>J.K. Rowling</td>\n",
              "            <td>2003-11-01</td>\n",
              "        </tr>\n",
              "    </tbody>\n",
              "</table>"
            ]
          },
          "metadata": {},
          "execution_count": 7
        }
      ]
    },
    {
      "cell_type": "markdown",
      "source": [
        "###  Selecting distinct values\n",
        "Sometimes, you might want to retrieve only the unique values from a column. You can do this using the DISTINCT keyword:"
      ],
      "metadata": {
        "id": "9G_CWj0LXZpQ"
      }
    },
    {
      "cell_type": "code",
      "source": [
        "%%sql\n",
        "SELECT DISTINCT author -- Select distinct values from the author column\n",
        "FROM Books -- From the Books table\n",
        "LIMIT 10; -- Limit the result to the first 10 distinct authors"
      ],
      "metadata": {
        "colab": {
          "base_uri": "https://localhost:8080/",
          "height": 284
        },
        "id": "dOO1A6afXgW-",
        "outputId": "4d1e6d77-ebb3-4bc1-f9d6-0a739ab23b31"
      },
      "execution_count": 8,
      "outputs": [
        {
          "output_type": "stream",
          "name": "stdout",
          "text": [
            " * sqlite:///sci_fi_books.db\n",
            "Done.\n"
          ]
        },
        {
          "output_type": "execute_result",
          "data": {
            "text/plain": [
              "[('Suzanne Collins',),\n",
              " ('J.K. Rowling',),\n",
              " ('George Orwell',),\n",
              " ('C.S. Lewis',),\n",
              " ('J.R.R. Tolkien',),\n",
              " ('Douglas Adams',),\n",
              " ('Ray Bradbury',),\n",
              " ('Veronica Roth',),\n",
              " ('Orson Scott Card',),\n",
              " ('Audrey Niffenegger',)]"
            ],
            "text/html": [
              "<table>\n",
              "    <thead>\n",
              "        <tr>\n",
              "            <th>author</th>\n",
              "        </tr>\n",
              "    </thead>\n",
              "    <tbody>\n",
              "        <tr>\n",
              "            <td>Suzanne Collins</td>\n",
              "        </tr>\n",
              "        <tr>\n",
              "            <td>J.K. Rowling</td>\n",
              "        </tr>\n",
              "        <tr>\n",
              "            <td>George Orwell</td>\n",
              "        </tr>\n",
              "        <tr>\n",
              "            <td>C.S. Lewis</td>\n",
              "        </tr>\n",
              "        <tr>\n",
              "            <td>J.R.R. Tolkien</td>\n",
              "        </tr>\n",
              "        <tr>\n",
              "            <td>Douglas Adams</td>\n",
              "        </tr>\n",
              "        <tr>\n",
              "            <td>Ray Bradbury</td>\n",
              "        </tr>\n",
              "        <tr>\n",
              "            <td>Veronica Roth</td>\n",
              "        </tr>\n",
              "        <tr>\n",
              "            <td>Orson Scott Card</td>\n",
              "        </tr>\n",
              "        <tr>\n",
              "            <td>Audrey Niffenegger</td>\n",
              "        </tr>\n",
              "    </tbody>\n",
              "</table>"
            ]
          },
          "metadata": {},
          "execution_count": 8
        }
      ]
    },
    {
      "cell_type": "markdown",
      "source": [
        "You can see the difference this makes if you try the same query WITHOUT using distinct."
      ],
      "metadata": {
        "id": "XuA3fd4vXpGD"
      }
    },
    {
      "cell_type": "code",
      "source": [
        "%%sql\n",
        "SELECT author -- Select all values from the author column\n",
        "FROM Books -- From the Books table\n",
        "LIMIT 15; -- Limit the result to the first 15 rows"
      ],
      "metadata": {
        "colab": {
          "base_uri": "https://localhost:8080/",
          "height": 389
        },
        "id": "UF21pv5RXu6X",
        "outputId": "029a41cb-a06b-454e-c671-c1b226afad56"
      },
      "execution_count": 9,
      "outputs": [
        {
          "output_type": "stream",
          "name": "stdout",
          "text": [
            " * sqlite:///sci_fi_books.db\n",
            "Done.\n"
          ]
        },
        {
          "output_type": "execute_result",
          "data": {
            "text/plain": [
              "[('Suzanne Collins',),\n",
              " ('J.K. Rowling',),\n",
              " ('George Orwell',),\n",
              " ('C.S. Lewis',),\n",
              " ('J.R.R. Tolkien',),\n",
              " ('Douglas Adams',),\n",
              " ('Ray Bradbury',),\n",
              " ('Veronica Roth',),\n",
              " ('Orson Scott Card',),\n",
              " ('J.K. Rowling',),\n",
              " ('Audrey Niffenegger',),\n",
              " ('Aldous Huxley',),\n",
              " ('William Goldman',),\n",
              " (\"Madeleine L'Engle\",),\n",
              " ('George R.R. Martin',)]"
            ],
            "text/html": [
              "<table>\n",
              "    <thead>\n",
              "        <tr>\n",
              "            <th>author</th>\n",
              "        </tr>\n",
              "    </thead>\n",
              "    <tbody>\n",
              "        <tr>\n",
              "            <td>Suzanne Collins</td>\n",
              "        </tr>\n",
              "        <tr>\n",
              "            <td>J.K. Rowling</td>\n",
              "        </tr>\n",
              "        <tr>\n",
              "            <td>George Orwell</td>\n",
              "        </tr>\n",
              "        <tr>\n",
              "            <td>C.S. Lewis</td>\n",
              "        </tr>\n",
              "        <tr>\n",
              "            <td>J.R.R. Tolkien</td>\n",
              "        </tr>\n",
              "        <tr>\n",
              "            <td>Douglas Adams</td>\n",
              "        </tr>\n",
              "        <tr>\n",
              "            <td>Ray Bradbury</td>\n",
              "        </tr>\n",
              "        <tr>\n",
              "            <td>Veronica Roth</td>\n",
              "        </tr>\n",
              "        <tr>\n",
              "            <td>Orson Scott Card</td>\n",
              "        </tr>\n",
              "        <tr>\n",
              "            <td>J.K. Rowling</td>\n",
              "        </tr>\n",
              "        <tr>\n",
              "            <td>Audrey Niffenegger</td>\n",
              "        </tr>\n",
              "        <tr>\n",
              "            <td>Aldous Huxley</td>\n",
              "        </tr>\n",
              "        <tr>\n",
              "            <td>William Goldman</td>\n",
              "        </tr>\n",
              "        <tr>\n",
              "            <td>Madeleine L&#x27;Engle</td>\n",
              "        </tr>\n",
              "        <tr>\n",
              "            <td>George R.R. Martin</td>\n",
              "        </tr>\n",
              "    </tbody>\n",
              "</table>"
            ]
          },
          "metadata": {},
          "execution_count": 9
        }
      ]
    },
    {
      "cell_type": "markdown",
      "source": [
        "You'll notice that some names (such as JK Rowling) appear twice. Sometimes, you'll want this (for example, if you are trying to count the number of books she wrote). Other times, though, you'll want to use DISTINCT to get rid of these \"duplicates.\""
      ],
      "metadata": {
        "id": "qL3SSmpqYkUM"
      }
    },
    {
      "cell_type": "markdown",
      "source": [
        "## ORDER BY\n",
        "The ORDER BY clause is used to sort the results of a SQL query based on one or more columns. Its basic syntax is as follows:\n",
        "\n",
        "```sql\n",
        "SELECT\n",
        "  column1,\n",
        "  column2,\n",
        "  ...\n",
        "FROM\n",
        "  table_name\n",
        "ORDER BY\n",
        "  column1 [ASC|DESC],\n",
        "  column2 [ASC|DESC],\n",
        "  ...;\n",
        "```\n",
        "\n",
        "Here's what each part of this statement means:\n",
        "\n",
        "-   `SELECT` and `FROM` are used as before to specify the columns to retrieve and the table to retrieve them from.\n",
        "-   `ORDER BY` is followed by the column(s) you want to use for sorting the results.\n",
        "-   For each column, you can optionally specify `ASC` for ascending order (smallest to largest, or A to Z) or `DESC` for descending order (largest to smallest, or Z to A). If not specified, `ASC` is used by default.\n",
        "-   If multiple columns are specified, the results are sorted by the first column, then by the second column within each value of the first column, and so on.\n",
        "\n",
        "Now, let's look at a simple example:\n"
      ],
      "metadata": {
        "id": "DQ88BxB3aFX_"
      }
    },
    {
      "cell_type": "code",
      "source": [
        "%%sql\n",
        "SELECT\n",
        "  title, -- Select the title column\n",
        "  author, -- Select the author column\n",
        "  rating -- Select the rating column\n",
        "FROM Books -- From the Books table\n",
        "ORDER BY rating -- Sort the results by rating in ascending order\n",
        "LIMIT 10;"
      ],
      "metadata": {
        "colab": {
          "base_uri": "https://localhost:8080/",
          "height": 284
        },
        "id": "7JRsll3CaVfx",
        "outputId": "9754d594-0eb2-4f3c-bba1-080355a63d8d"
      },
      "execution_count": 10,
      "outputs": [
        {
          "output_type": "stream",
          "name": "stdout",
          "text": [
            " * sqlite:///sci_fi_books.db\n",
            "Done.\n"
          ]
        },
        {
          "output_type": "execute_result",
          "data": {
            "text/plain": [
              "[('Revealing Eden', 'Victoria Foyt', 1.99),\n",
              " ('Skull Flowers', 'Jazon Dion Fletcher', 2.48),\n",
              " ('Ù…ÙˆØ³Ù… ØµÙŠØ¯ Ø§Ù„ØºØ²Ù„Ø§Ù†', 'Ø£Ø\\xadÙ…Ø¯ Ù…Ø±Ø§Ø¯', 2.74),\n",
              " ('Blueprint: Blaupause', 'Charlotte Kerner', 2.78),\n",
              " ('Lost', 'Gregory Maguire', 2.82),\n",
              " ('Redemption Prep', 'Samuel Miller', 2.82),\n",
              " ('Alpha Centauri', 'William Barton', 2.87),\n",
              " ('Corvus', 'L. Lee Lowe', 2.9),\n",
              " ('Buck Rogers in the 25th Century: The Western Publishing Years Volume 1', 'Paul S. Newman', 2.91),\n",
              " (\"L'an 2440\", 'Louis-SÃ©bastien Mercier', 2.92)]"
            ],
            "text/html": [
              "<table>\n",
              "    <thead>\n",
              "        <tr>\n",
              "            <th>title</th>\n",
              "            <th>author</th>\n",
              "            <th>rating</th>\n",
              "        </tr>\n",
              "    </thead>\n",
              "    <tbody>\n",
              "        <tr>\n",
              "            <td>Revealing Eden</td>\n",
              "            <td>Victoria Foyt</td>\n",
              "            <td>1.99</td>\n",
              "        </tr>\n",
              "        <tr>\n",
              "            <td>Skull Flowers</td>\n",
              "            <td>Jazon Dion Fletcher</td>\n",
              "            <td>2.48</td>\n",
              "        </tr>\n",
              "        <tr>\n",
              "            <td>Ù…ÙˆØ³Ù… ØµÙŠØ¯ Ø§Ù„ØºØ²Ù„Ø§Ù†</td>\n",
              "            <td>Ø£Ø­Ù…Ø¯ Ù…Ø±Ø§Ø¯</td>\n",
              "            <td>2.74</td>\n",
              "        </tr>\n",
              "        <tr>\n",
              "            <td>Blueprint: Blaupause</td>\n",
              "            <td>Charlotte Kerner</td>\n",
              "            <td>2.78</td>\n",
              "        </tr>\n",
              "        <tr>\n",
              "            <td>Lost</td>\n",
              "            <td>Gregory Maguire</td>\n",
              "            <td>2.82</td>\n",
              "        </tr>\n",
              "        <tr>\n",
              "            <td>Redemption Prep</td>\n",
              "            <td>Samuel Miller</td>\n",
              "            <td>2.82</td>\n",
              "        </tr>\n",
              "        <tr>\n",
              "            <td>Alpha Centauri</td>\n",
              "            <td>William Barton</td>\n",
              "            <td>2.87</td>\n",
              "        </tr>\n",
              "        <tr>\n",
              "            <td>Corvus</td>\n",
              "            <td>L. Lee Lowe</td>\n",
              "            <td>2.9</td>\n",
              "        </tr>\n",
              "        <tr>\n",
              "            <td>Buck Rogers in the 25th Century: The Western Publishing Years Volume 1</td>\n",
              "            <td>Paul S. Newman</td>\n",
              "            <td>2.91</td>\n",
              "        </tr>\n",
              "        <tr>\n",
              "            <td>L&#x27;an 2440</td>\n",
              "            <td>Louis-SÃ©bastien Mercier</td>\n",
              "            <td>2.92</td>\n",
              "        </tr>\n",
              "    </tbody>\n",
              "</table>"
            ]
          },
          "metadata": {},
          "execution_count": 10
        }
      ]
    },
    {
      "cell_type": "markdown",
      "source": [
        "We can also do this in descending order (with the highest ratings first)"
      ],
      "metadata": {
        "id": "DXh6EIe_aoRj"
      }
    },
    {
      "cell_type": "code",
      "source": [
        "%%sql\n",
        "SELECT\n",
        "  title, -- Select the title column\n",
        "  author, -- Select the author column\n",
        "  rating -- Select the rating column\n",
        "FROM Books -- From the Books table\n",
        "ORDER BY rating DESC -- Sort the results by rating in descending order\n",
        "LIMIT 10;"
      ],
      "metadata": {
        "colab": {
          "base_uri": "https://localhost:8080/",
          "height": 284
        },
        "id": "2nJT2Od5azRn",
        "outputId": "091f3c1d-db89-4741-ec36-ae219ed06485"
      },
      "execution_count": 11,
      "outputs": [
        {
          "output_type": "stream",
          "name": "stdout",
          "text": [
            " * sqlite:///sci_fi_books.db\n",
            "Done.\n"
          ]
        },
        {
          "output_type": "execute_result",
          "data": {
            "text/plain": [
              "[(\"Kiss Me, I'm Irish\", 'John Blandly', 5.0),\n",
              " ('The Present', 'Kenneth Thomas', 4.92),\n",
              " ('Maya of the Inbetween', 'Sita Bennett', 4.86),\n",
              " ('Predestination: The Future is History', 'S. W. Cotton', 4.85),\n",
              " ('The Beachhead', 'David Anderson', 4.84),\n",
              " ('Assault On Utopia: Part 1', 'Steven P Sharp', 4.8),\n",
              " ('Insectland', 'Neil D. Ostroff', 4.8),\n",
              " ('The Way of Kings, Part 2', 'Brandon Sanderson', 4.79),\n",
              " ('Harry Potter Boxed Set, Books 1-5 (Harry Potter, #1-5)', 'J.K. Rowling', 4.78),\n",
              " ('Words of Radiance', 'Brandon Sanderson', 4.75)]"
            ],
            "text/html": [
              "<table>\n",
              "    <thead>\n",
              "        <tr>\n",
              "            <th>title</th>\n",
              "            <th>author</th>\n",
              "            <th>rating</th>\n",
              "        </tr>\n",
              "    </thead>\n",
              "    <tbody>\n",
              "        <tr>\n",
              "            <td>Kiss Me, I&#x27;m Irish</td>\n",
              "            <td>John Blandly</td>\n",
              "            <td>5.0</td>\n",
              "        </tr>\n",
              "        <tr>\n",
              "            <td>The Present</td>\n",
              "            <td>Kenneth Thomas</td>\n",
              "            <td>4.92</td>\n",
              "        </tr>\n",
              "        <tr>\n",
              "            <td>Maya of the Inbetween</td>\n",
              "            <td>Sita Bennett</td>\n",
              "            <td>4.86</td>\n",
              "        </tr>\n",
              "        <tr>\n",
              "            <td>Predestination: The Future is History</td>\n",
              "            <td>S. W. Cotton</td>\n",
              "            <td>4.85</td>\n",
              "        </tr>\n",
              "        <tr>\n",
              "            <td>The Beachhead</td>\n",
              "            <td>David Anderson</td>\n",
              "            <td>4.84</td>\n",
              "        </tr>\n",
              "        <tr>\n",
              "            <td>Assault On Utopia: Part 1</td>\n",
              "            <td>Steven P Sharp</td>\n",
              "            <td>4.8</td>\n",
              "        </tr>\n",
              "        <tr>\n",
              "            <td>Insectland</td>\n",
              "            <td>Neil D. Ostroff</td>\n",
              "            <td>4.8</td>\n",
              "        </tr>\n",
              "        <tr>\n",
              "            <td>The Way of Kings, Part 2</td>\n",
              "            <td>Brandon Sanderson</td>\n",
              "            <td>4.79</td>\n",
              "        </tr>\n",
              "        <tr>\n",
              "            <td>Harry Potter Boxed Set, Books 1-5 (Harry Potter, #1-5)</td>\n",
              "            <td>J.K. Rowling</td>\n",
              "            <td>4.78</td>\n",
              "        </tr>\n",
              "        <tr>\n",
              "            <td>Words of Radiance</td>\n",
              "            <td>Brandon Sanderson</td>\n",
              "            <td>4.75</td>\n",
              "        </tr>\n",
              "    </tbody>\n",
              "</table>"
            ]
          },
          "metadata": {},
          "execution_count": 11
        }
      ]
    },
    {
      "cell_type": "markdown",
      "source": [
        "Finally, we can order by multiple columns (for example, by author and rating)."
      ],
      "metadata": {
        "id": "UNWhUhb-bBnK"
      }
    },
    {
      "cell_type": "code",
      "source": [
        "%%sql\n",
        "SELECT\n",
        "  title, -- Select the title column\n",
        "  author, -- Select the author column\n",
        "  rating -- Select the rating column\n",
        "FROM Books -- From the Books table\n",
        "ORDER BY\n",
        "  author,  -- Sort in ascending order\n",
        "  rating DESC -- sort in descending order\n",
        "LIMIT 10;"
      ],
      "metadata": {
        "colab": {
          "base_uri": "https://localhost:8080/",
          "height": 284
        },
        "id": "9U-0QLKtbLwY",
        "outputId": "19924a3e-da3d-4e3a-f269-1be07c6cb021"
      },
      "execution_count": 12,
      "outputs": [
        {
          "output_type": "stream",
          "name": "stdout",
          "text": [
            " * sqlite:///sci_fi_books.db\n",
            "Done.\n"
          ]
        },
        {
          "output_type": "execute_result",
          "data": {
            "text/plain": [
              "[(\"Helen and Troy's Epic Road Quest\", 'A. Lee Martinez', 4.02),\n",
              " ('Monster', 'A. Lee Martinez', 3.82),\n",
              " ('The Moon Pool', 'A. Merritt', 3.33),\n",
              " ('Wyvern', 'A.A. Attanasio', 4.16),\n",
              " ('The Last Legends of Earth', 'A.A. Attanasio', 4.15),\n",
              " ('V', 'A.C. Crispin', 3.88),\n",
              " ('StarBridge', 'A.C. Crispin', 3.86),\n",
              " ('Death Tide', 'A.C. Crispin', 3.36),\n",
              " ('Cosmic Banditos', 'A.C. Weisbecker', 3.88),\n",
              " ('Labyrinth: A Novel Based on the Jim Henson Film', 'A.C.H. Smith', 4.2)]"
            ],
            "text/html": [
              "<table>\n",
              "    <thead>\n",
              "        <tr>\n",
              "            <th>title</th>\n",
              "            <th>author</th>\n",
              "            <th>rating</th>\n",
              "        </tr>\n",
              "    </thead>\n",
              "    <tbody>\n",
              "        <tr>\n",
              "            <td>Helen and Troy&#x27;s Epic Road Quest</td>\n",
              "            <td>A. Lee Martinez</td>\n",
              "            <td>4.02</td>\n",
              "        </tr>\n",
              "        <tr>\n",
              "            <td>Monster</td>\n",
              "            <td>A. Lee Martinez</td>\n",
              "            <td>3.82</td>\n",
              "        </tr>\n",
              "        <tr>\n",
              "            <td>The Moon Pool</td>\n",
              "            <td>A. Merritt</td>\n",
              "            <td>3.33</td>\n",
              "        </tr>\n",
              "        <tr>\n",
              "            <td>Wyvern</td>\n",
              "            <td>A.A. Attanasio</td>\n",
              "            <td>4.16</td>\n",
              "        </tr>\n",
              "        <tr>\n",
              "            <td>The Last Legends of Earth</td>\n",
              "            <td>A.A. Attanasio</td>\n",
              "            <td>4.15</td>\n",
              "        </tr>\n",
              "        <tr>\n",
              "            <td>V</td>\n",
              "            <td>A.C. Crispin</td>\n",
              "            <td>3.88</td>\n",
              "        </tr>\n",
              "        <tr>\n",
              "            <td>StarBridge</td>\n",
              "            <td>A.C. Crispin</td>\n",
              "            <td>3.86</td>\n",
              "        </tr>\n",
              "        <tr>\n",
              "            <td>Death Tide</td>\n",
              "            <td>A.C. Crispin</td>\n",
              "            <td>3.36</td>\n",
              "        </tr>\n",
              "        <tr>\n",
              "            <td>Cosmic Banditos</td>\n",
              "            <td>A.C. Weisbecker</td>\n",
              "            <td>3.88</td>\n",
              "        </tr>\n",
              "        <tr>\n",
              "            <td>Labyrinth: A Novel Based on the Jim Henson Film</td>\n",
              "            <td>A.C.H. Smith</td>\n",
              "            <td>4.2</td>\n",
              "        </tr>\n",
              "    </tbody>\n",
              "</table>"
            ]
          },
          "metadata": {},
          "execution_count": 12
        }
      ]
    },
    {
      "cell_type": "markdown",
      "source": [
        "##  WHERE\n",
        "\n",
        "The WHERE clause in SQL is used to filter the results of a query based on a specified condition. It allows you to retrieve only the rows that satisfy a particular criterion, making it a powerful tool for narrowing down your query results to only the data you're interested in.\n",
        "\n",
        "The basic syntax of a SQL query with a WHERE clause is as follows:\n",
        "\n",
        "```sql\n",
        "SELECT\n",
        "  column1,\n",
        "  column2,\n",
        "  ...\n",
        "FROM\n",
        "  table_name\n",
        "WHERE\n",
        "  condition;\n",
        "```\n",
        "\n",
        "Here's what each part of this statement means:\n",
        "\n",
        "-   `SELECT` and `FROM` are used as before to specify the columns to retrieve and the table to retrieve them from.\n",
        "-   `WHERE` is followed by a condition that each row must satisfy to be included in the result set.\n",
        "-   The condition is usually a comparison between a column value and a constant, or between two column values.\n",
        "\n",
        "\n",
        "Let's look at an example. Let's find all books in our \"Books\" table with a rating higher than 4.5:\n"
      ],
      "metadata": {
        "id": "MCfF_Fc2fyFM"
      }
    },
    {
      "cell_type": "code",
      "source": [
        "%%sql\n",
        "SELECT\n",
        "  title, -- Select the title column\n",
        "  author, -- Select the author column\n",
        "  rating -- Select the rating column\n",
        "FROM Books -- From the Books table\n",
        "WHERE rating > 4.5 -- Filter the results to only include books with a rating higher than 4.5\n",
        "LIMIT 10;"
      ],
      "metadata": {
        "colab": {
          "base_uri": "https://localhost:8080/",
          "height": 284
        },
        "id": "DYvMBlQNhUQP",
        "outputId": "8c9fd28e-65fa-4083-bf97-7b1ffdc80f91"
      },
      "execution_count": 13,
      "outputs": [
        {
          "output_type": "stream",
          "name": "stdout",
          "text": [
            " * sqlite:///sci_fi_books.db\n",
            "Done.\n"
          ]
        },
        {
          "output_type": "execute_result",
          "data": {
            "text/plain": [
              "[('J.R.R. Tolkien 4-Book Boxed Set: The Hobbit and The Lord of the Rings', 'J.R.R. Tolkien', 4.6),\n",
              " ('Harry Potter and the Deathly Hallows', 'J.K. Rowling', 4.62),\n",
              " ('Harry Potter and the Prisoner of Azkaban', 'J.K. Rowling', 4.57),\n",
              " ('Harry Potter and the Goblet of Fire', 'J.K. Rowling', 4.56),\n",
              " ('Harry Potter and the Half-Blood Prince', 'J.K. Rowling', 4.57),\n",
              " ('The Name of the Wind', 'Patrick Rothfuss', 4.53),\n",
              " ('A Storm of Swords', 'George R.R. Martin', 4.53),\n",
              " (\"The Wise Man's Fear\", 'Patrick Rothfuss', 4.56),\n",
              " ('The Way of Kings', 'Brandon Sanderson', 4.63),\n",
              " ('Harry Potter Series Box Set', 'J.K. Rowling', 4.73)]"
            ],
            "text/html": [
              "<table>\n",
              "    <thead>\n",
              "        <tr>\n",
              "            <th>title</th>\n",
              "            <th>author</th>\n",
              "            <th>rating</th>\n",
              "        </tr>\n",
              "    </thead>\n",
              "    <tbody>\n",
              "        <tr>\n",
              "            <td>J.R.R. Tolkien 4-Book Boxed Set: The Hobbit and The Lord of the Rings</td>\n",
              "            <td>J.R.R. Tolkien</td>\n",
              "            <td>4.6</td>\n",
              "        </tr>\n",
              "        <tr>\n",
              "            <td>Harry Potter and the Deathly Hallows</td>\n",
              "            <td>J.K. Rowling</td>\n",
              "            <td>4.62</td>\n",
              "        </tr>\n",
              "        <tr>\n",
              "            <td>Harry Potter and the Prisoner of Azkaban</td>\n",
              "            <td>J.K. Rowling</td>\n",
              "            <td>4.57</td>\n",
              "        </tr>\n",
              "        <tr>\n",
              "            <td>Harry Potter and the Goblet of Fire</td>\n",
              "            <td>J.K. Rowling</td>\n",
              "            <td>4.56</td>\n",
              "        </tr>\n",
              "        <tr>\n",
              "            <td>Harry Potter and the Half-Blood Prince</td>\n",
              "            <td>J.K. Rowling</td>\n",
              "            <td>4.57</td>\n",
              "        </tr>\n",
              "        <tr>\n",
              "            <td>The Name of the Wind</td>\n",
              "            <td>Patrick Rothfuss</td>\n",
              "            <td>4.53</td>\n",
              "        </tr>\n",
              "        <tr>\n",
              "            <td>A Storm of Swords</td>\n",
              "            <td>George R.R. Martin</td>\n",
              "            <td>4.53</td>\n",
              "        </tr>\n",
              "        <tr>\n",
              "            <td>The Wise Man&#x27;s Fear</td>\n",
              "            <td>Patrick Rothfuss</td>\n",
              "            <td>4.56</td>\n",
              "        </tr>\n",
              "        <tr>\n",
              "            <td>The Way of Kings</td>\n",
              "            <td>Brandon Sanderson</td>\n",
              "            <td>4.63</td>\n",
              "        </tr>\n",
              "        <tr>\n",
              "            <td>Harry Potter Series Box Set</td>\n",
              "            <td>J.K. Rowling</td>\n",
              "            <td>4.73</td>\n",
              "        </tr>\n",
              "    </tbody>\n",
              "</table>"
            ]
          },
          "metadata": {},
          "execution_count": 13
        }
      ]
    },
    {
      "cell_type": "markdown",
      "source": [
        "The condition in the WHERE clause can use various comparison operators:\n",
        "\n",
        "-   `=` for equality\n",
        "-   `<>` or `!=` for inequality\n",
        "-   `<` for less than\n",
        "-   `>` for greater than\n",
        "-   `<=` for less than or equal to\n",
        "-   `>=` for greater than or equal to\n",
        "\n",
        "You can also combine multiple conditions using logical operators:\n",
        "\n",
        "-   `AND`: Both conditions must be true.\n",
        "-   `OR`: At least one condition must be true.\n",
        "-   `NOT`: The condition must not be true.\n",
        "\n",
        "For example, to find all books with more than 500 pages and more than 10,000 ratings:"
      ],
      "metadata": {
        "id": "-XufmBPGhiFd"
      }
    },
    {
      "cell_type": "code",
      "source": [
        "%%sql\n",
        "SELECT\n",
        "  title,\n",
        "  author,\n",
        "  pages,\n",
        "  numRatings\n",
        "FROM\n",
        "  Books\n",
        "WHERE\n",
        "  -- Long books that have many ratings\n",
        "  pages > 500 AND numRatings > 10000\n",
        "LIMIT 10;"
      ],
      "metadata": {
        "colab": {
          "base_uri": "https://localhost:8080/",
          "height": 284
        },
        "id": "PNH0zOZNhj8B",
        "outputId": "941f577b-69db-421f-90e1-b2af11385b80"
      },
      "execution_count": 14,
      "outputs": [
        {
          "output_type": "stream",
          "name": "stdout",
          "text": [
            " * sqlite:///sci_fi_books.db\n",
            "Done.\n"
          ]
        },
        {
          "output_type": "execute_result",
          "data": {
            "text/plain": [
              "[('Harry Potter and the Order of the Phoenix', 'J.K. Rowling', 870, 2507623),\n",
              " ('The Chronicles of Narnia', 'C.S. Lewis', 767, 517740),\n",
              " ('J.R.R. Tolkien 4-Book Boxed Set: The Hobbit and The Lord of the Rings', 'J.R.R. Tolkien', 1728, 110146),\n",
              " ('A Game of Thrones', 'George R.R. Martin', 835, 2003043),\n",
              " ('Dune', 'Frank Herbert', 661, 765785),\n",
              " ('The Stand', 'Stephen King', 1153, 616021),\n",
              " ('Harry Potter and the Deathly Hallows', 'J.K. Rowling', 759, 2811637),\n",
              " ('The Fellowship of the Ring', 'J.R.R. Tolkien', 527, 2355237),\n",
              " ('Atlas Shrugged', 'Ayn Rand', 1168, 353814),\n",
              " ('Harry Potter and the Goblet of Fire', 'J.K. Rowling', 734, 2594622)]"
            ],
            "text/html": [
              "<table>\n",
              "    <thead>\n",
              "        <tr>\n",
              "            <th>title</th>\n",
              "            <th>author</th>\n",
              "            <th>pages</th>\n",
              "            <th>numRatings</th>\n",
              "        </tr>\n",
              "    </thead>\n",
              "    <tbody>\n",
              "        <tr>\n",
              "            <td>Harry Potter and the Order of the Phoenix</td>\n",
              "            <td>J.K. Rowling</td>\n",
              "            <td>870</td>\n",
              "            <td>2507623</td>\n",
              "        </tr>\n",
              "        <tr>\n",
              "            <td>The Chronicles of Narnia</td>\n",
              "            <td>C.S. Lewis</td>\n",
              "            <td>767</td>\n",
              "            <td>517740</td>\n",
              "        </tr>\n",
              "        <tr>\n",
              "            <td>J.R.R. Tolkien 4-Book Boxed Set: The Hobbit and The Lord of the Rings</td>\n",
              "            <td>J.R.R. Tolkien</td>\n",
              "            <td>1728</td>\n",
              "            <td>110146</td>\n",
              "        </tr>\n",
              "        <tr>\n",
              "            <td>A Game of Thrones</td>\n",
              "            <td>George R.R. Martin</td>\n",
              "            <td>835</td>\n",
              "            <td>2003043</td>\n",
              "        </tr>\n",
              "        <tr>\n",
              "            <td>Dune</td>\n",
              "            <td>Frank Herbert</td>\n",
              "            <td>661</td>\n",
              "            <td>765785</td>\n",
              "        </tr>\n",
              "        <tr>\n",
              "            <td>The Stand</td>\n",
              "            <td>Stephen King</td>\n",
              "            <td>1153</td>\n",
              "            <td>616021</td>\n",
              "        </tr>\n",
              "        <tr>\n",
              "            <td>Harry Potter and the Deathly Hallows</td>\n",
              "            <td>J.K. Rowling</td>\n",
              "            <td>759</td>\n",
              "            <td>2811637</td>\n",
              "        </tr>\n",
              "        <tr>\n",
              "            <td>The Fellowship of the Ring</td>\n",
              "            <td>J.R.R. Tolkien</td>\n",
              "            <td>527</td>\n",
              "            <td>2355237</td>\n",
              "        </tr>\n",
              "        <tr>\n",
              "            <td>Atlas Shrugged</td>\n",
              "            <td>Ayn Rand</td>\n",
              "            <td>1168</td>\n",
              "            <td>353814</td>\n",
              "        </tr>\n",
              "        <tr>\n",
              "            <td>Harry Potter and the Goblet of Fire</td>\n",
              "            <td>J.K. Rowling</td>\n",
              "            <td>734</td>\n",
              "            <td>2594622</td>\n",
              "        </tr>\n",
              "    </tbody>\n",
              "</table>"
            ]
          },
          "metadata": {},
          "execution_count": 14
        }
      ]
    },
    {
      "cell_type": "markdown",
      "source": [
        "## Handling NULL Values\n",
        "\n",
        "In SQL, NULL is a special value that represents a missing or unknown value. It's important to understand how to handle NULLs in your queries, as they can sometimes lead to unexpected results.\n",
        "\n",
        "In our \"Books\" table, both the \"series\" and \"firstPublishDate\" columns have some NULL values. This means that for some books, the series information or the original publication date is not known or not applicable.\n",
        "\n",
        "When filtering data using the WHERE clause, you need to use special operators to check for NULL values:\n",
        "\n",
        "-   `IS NULL`: Checks if a value is NULL.\n",
        "-   `IS NOT NULL`: Checks if a value is not NULL.\n",
        "\n",
        "For example, to find all books that are part of a series (i.e., the \"series\" column is not NULL):"
      ],
      "metadata": {
        "id": "RroqhFnEh2Of"
      }
    },
    {
      "cell_type": "code",
      "source": [
        "%%sql\n",
        "SELECT\n",
        "  title,\n",
        "  author,\n",
        "  series\n",
        "FROM\n",
        "  Books\n",
        "WHERE\n",
        "  -- books that ARE part of a series\n",
        "  series IS NOT NULL\n",
        "LIMIT 10;"
      ],
      "metadata": {
        "colab": {
          "base_uri": "https://localhost:8080/",
          "height": 284
        },
        "id": "a0x5KeRGi0W5",
        "outputId": "367d7375-2cde-41c7-d182-fc305fa5f284"
      },
      "execution_count": 15,
      "outputs": [
        {
          "output_type": "stream",
          "name": "stdout",
          "text": [
            " * sqlite:///sci_fi_books.db\n",
            "Done.\n"
          ]
        },
        {
          "output_type": "execute_result",
          "data": {
            "text/plain": [
              "[('The Hunger Games', 'Suzanne Collins', 'The Hunger Games #1'),\n",
              " ('Harry Potter and the Order of the Phoenix', 'J.K. Rowling', 'Harry Potter #5'),\n",
              " ('The Chronicles of Narnia', 'C.S. Lewis', 'The Chronicles of Narnia (Publication Order) #1â€“7'),\n",
              " ('J.R.R. Tolkien 4-Book Boxed Set: The Hobbit and The Lord of the Rings', 'J.R.R. Tolkien', 'The Lord of the Rings #0-3'),\n",
              " (\"The Hitchhiker's Guide to the Galaxy\", 'Douglas Adams', \"The Hitchhiker's Guide to the Galaxy #1\"),\n",
              " ('Divergent', 'Veronica Roth', 'Divergent #1'),\n",
              " (\"Ender's Game\", 'Orson Scott Card', \"Ender's Saga #1\"),\n",
              " (\"Harry Potter and the Sorcerer's Stone\", 'J.K. Rowling', 'Harry Potter #1'),\n",
              " ('A Wrinkle in Time', \"Madeleine L'Engle\", 'Time Quintet #1'),\n",
              " ('A Game of Thrones', 'George R.R. Martin', 'A Song of Ice and Fire #1')]"
            ],
            "text/html": [
              "<table>\n",
              "    <thead>\n",
              "        <tr>\n",
              "            <th>title</th>\n",
              "            <th>author</th>\n",
              "            <th>series</th>\n",
              "        </tr>\n",
              "    </thead>\n",
              "    <tbody>\n",
              "        <tr>\n",
              "            <td>The Hunger Games</td>\n",
              "            <td>Suzanne Collins</td>\n",
              "            <td>The Hunger Games #1</td>\n",
              "        </tr>\n",
              "        <tr>\n",
              "            <td>Harry Potter and the Order of the Phoenix</td>\n",
              "            <td>J.K. Rowling</td>\n",
              "            <td>Harry Potter #5</td>\n",
              "        </tr>\n",
              "        <tr>\n",
              "            <td>The Chronicles of Narnia</td>\n",
              "            <td>C.S. Lewis</td>\n",
              "            <td>The Chronicles of Narnia (Publication Order) #1â€“7</td>\n",
              "        </tr>\n",
              "        <tr>\n",
              "            <td>J.R.R. Tolkien 4-Book Boxed Set: The Hobbit and The Lord of the Rings</td>\n",
              "            <td>J.R.R. Tolkien</td>\n",
              "            <td>The Lord of the Rings #0-3</td>\n",
              "        </tr>\n",
              "        <tr>\n",
              "            <td>The Hitchhiker&#x27;s Guide to the Galaxy</td>\n",
              "            <td>Douglas Adams</td>\n",
              "            <td>The Hitchhiker&#x27;s Guide to the Galaxy #1</td>\n",
              "        </tr>\n",
              "        <tr>\n",
              "            <td>Divergent</td>\n",
              "            <td>Veronica Roth</td>\n",
              "            <td>Divergent #1</td>\n",
              "        </tr>\n",
              "        <tr>\n",
              "            <td>Ender&#x27;s Game</td>\n",
              "            <td>Orson Scott Card</td>\n",
              "            <td>Ender&#x27;s Saga #1</td>\n",
              "        </tr>\n",
              "        <tr>\n",
              "            <td>Harry Potter and the Sorcerer&#x27;s Stone</td>\n",
              "            <td>J.K. Rowling</td>\n",
              "            <td>Harry Potter #1</td>\n",
              "        </tr>\n",
              "        <tr>\n",
              "            <td>A Wrinkle in Time</td>\n",
              "            <td>Madeleine L&#x27;Engle</td>\n",
              "            <td>Time Quintet #1</td>\n",
              "        </tr>\n",
              "        <tr>\n",
              "            <td>A Game of Thrones</td>\n",
              "            <td>George R.R. Martin</td>\n",
              "            <td>A Song of Ice and Fire #1</td>\n",
              "        </tr>\n",
              "    </tbody>\n",
              "</table>"
            ]
          },
          "metadata": {},
          "execution_count": 15
        }
      ]
    },
    {
      "cell_type": "markdown",
      "source": [
        "Similarly, to find all books where the original publication date is unknown:"
      ],
      "metadata": {
        "id": "wg0QFPRNi-uy"
      }
    },
    {
      "cell_type": "code",
      "source": [
        "%%sql\n",
        "SELECT\n",
        "  title,\n",
        "  author,\n",
        "  firstPublishDate\n",
        "FROM\n",
        "  Books\n",
        "WHERE\n",
        "  -- books where the original publication date is unknown\n",
        "  firstPublishDate IS NULL\n",
        "LIMIT 10;"
      ],
      "metadata": {
        "colab": {
          "base_uri": "https://localhost:8080/",
          "height": 284
        },
        "id": "SS5oTK6PjDPL",
        "outputId": "c634d0b0-88d7-4e85-c6cb-4779966faaef"
      },
      "execution_count": 16,
      "outputs": [
        {
          "output_type": "stream",
          "name": "stdout",
          "text": [
            " * sqlite:///sci_fi_books.db\n",
            "Done.\n"
          ]
        },
        {
          "output_type": "execute_result",
          "data": {
            "text/plain": [
              "[('The Hunger Games', 'Suzanne Collins', None),\n",
              " ('Harry Potter and the Deathly Hallows', 'J.K. Rowling', None),\n",
              " ('Insurgent', 'Veronica Roth', None),\n",
              " ('The Maze Runner', 'James Dashner', None),\n",
              " ('The Selection', 'Kiera Cass', None),\n",
              " ('Catching Fire', 'Suzanne Collins', None),\n",
              " ('Uglies', 'Scott Westerfeld', None),\n",
              " ('Cinder', 'Marissa Meyer', None),\n",
              " (\"The Wise Man's Fear\", 'Patrick Rothfuss', None),\n",
              " ('Ready Player One', 'Ernest Cline', None)]"
            ],
            "text/html": [
              "<table>\n",
              "    <thead>\n",
              "        <tr>\n",
              "            <th>title</th>\n",
              "            <th>author</th>\n",
              "            <th>firstPublishDate</th>\n",
              "        </tr>\n",
              "    </thead>\n",
              "    <tbody>\n",
              "        <tr>\n",
              "            <td>The Hunger Games</td>\n",
              "            <td>Suzanne Collins</td>\n",
              "            <td>None</td>\n",
              "        </tr>\n",
              "        <tr>\n",
              "            <td>Harry Potter and the Deathly Hallows</td>\n",
              "            <td>J.K. Rowling</td>\n",
              "            <td>None</td>\n",
              "        </tr>\n",
              "        <tr>\n",
              "            <td>Insurgent</td>\n",
              "            <td>Veronica Roth</td>\n",
              "            <td>None</td>\n",
              "        </tr>\n",
              "        <tr>\n",
              "            <td>The Maze Runner</td>\n",
              "            <td>James Dashner</td>\n",
              "            <td>None</td>\n",
              "        </tr>\n",
              "        <tr>\n",
              "            <td>The Selection</td>\n",
              "            <td>Kiera Cass</td>\n",
              "            <td>None</td>\n",
              "        </tr>\n",
              "        <tr>\n",
              "            <td>Catching Fire</td>\n",
              "            <td>Suzanne Collins</td>\n",
              "            <td>None</td>\n",
              "        </tr>\n",
              "        <tr>\n",
              "            <td>Uglies</td>\n",
              "            <td>Scott Westerfeld</td>\n",
              "            <td>None</td>\n",
              "        </tr>\n",
              "        <tr>\n",
              "            <td>Cinder</td>\n",
              "            <td>Marissa Meyer</td>\n",
              "            <td>None</td>\n",
              "        </tr>\n",
              "        <tr>\n",
              "            <td>The Wise Man&#x27;s Fear</td>\n",
              "            <td>Patrick Rothfuss</td>\n",
              "            <td>None</td>\n",
              "        </tr>\n",
              "        <tr>\n",
              "            <td>Ready Player One</td>\n",
              "            <td>Ernest Cline</td>\n",
              "            <td>None</td>\n",
              "        </tr>\n",
              "    </tbody>\n",
              "</table>"
            ]
          },
          "metadata": {},
          "execution_count": 16
        }
      ]
    },
    {
      "cell_type": "markdown",
      "source": [
        "It's important to note that you cannot use the equality operator (=) to check for NULLs. For example, the following query will not return any results:"
      ],
      "metadata": {
        "id": "VLg8RsZDjekU"
      }
    },
    {
      "cell_type": "code",
      "source": [
        "%%sql\n",
        "SELECT\n",
        "  title,\n",
        "  author,\n",
        "  firstPublishDate\n",
        "FROM\n",
        "  Books\n",
        "WHERE\n",
        "  firstPublishDate = NULL; -- This will not work as expected!"
      ],
      "metadata": {
        "colab": {
          "base_uri": "https://localhost:8080/",
          "height": 74
        },
        "id": "r1BiEsdVjfRK",
        "outputId": "65f94b31-ec95-4b92-aa04-49fcf6f7315f"
      },
      "execution_count": 17,
      "outputs": [
        {
          "output_type": "stream",
          "name": "stdout",
          "text": [
            " * sqlite:///sci_fi_books.db\n",
            "Done.\n"
          ]
        },
        {
          "output_type": "execute_result",
          "data": {
            "text/plain": [
              "[]"
            ],
            "text/html": [
              "<table>\n",
              "    <thead>\n",
              "        <tr>\n",
              "            <th>title</th>\n",
              "            <th>author</th>\n",
              "            <th>firstPublishDate</th>\n",
              "        </tr>\n",
              "    </thead>\n",
              "    <tbody>\n",
              "    </tbody>\n",
              "</table>"
            ]
          },
          "metadata": {},
          "execution_count": 17
        }
      ]
    },
    {
      "cell_type": "markdown",
      "source": [
        "This is because in SQL, any comparison with NULL (even `NULL = NULL`) evaluates to NULL, which is treated as false in the context of a WHERE clause."
      ],
      "metadata": {
        "id": "P0tQwzq3j1Og"
      }
    },
    {
      "cell_type": "markdown",
      "source": [
        "##  LIKE\n",
        "\n",
        "The LIKE operator in SQL is used to search for a specified pattern in a column. It is often used in conjunction with the WHERE clause to filter rows based on a partial match rather than an exact match.\n",
        "\n",
        "The basic syntax of using LIKE in a WHERE clause is as follows:\n",
        "\n",
        "```sql\n",
        "SELECT\n",
        "  column1,\n",
        "  column2,\n",
        "  ...\n",
        "FROM\n",
        "  table_name\n",
        "WHERE\n",
        "  column LIKE pattern;\n",
        "```\n",
        "\n",
        "Here:\n",
        "\n",
        "-   `column` is the name of the column you want to search.\n",
        "-   `pattern` is the pattern you want to match. It can include wildcards:\n",
        "    -   `%` matches any sequence of zero or more characters.\n",
        "    -   `_` matches any single character.\n",
        "\n",
        "For example:\n",
        "- `title LIKE 'a%'` matches any title beginning with 'a' (case-insenstive).\n",
        "- `title LIKE '%a'` matches any title ending with 'a' (case-insenstive).\n",
        "- `title LIKE '%a%'` matches any title with an 'a' (case-insenstive) anywhere in the title.\n",
        "- `title LIKE '_a'` matches any title with an 'a' as the second character (case-insenstive).\n",
        "\n",
        "Let's look at some examples using our \"Books\" table.\n",
        "\n",
        "### Example: Book titles starting with 'The'\n",
        "To find all books whose title starts with \"The\":"
      ],
      "metadata": {
        "id": "LK-kfZxmj3tJ"
      }
    },
    {
      "cell_type": "code",
      "source": [
        "%%sql\n",
        "SELECT\n",
        "  title,\n",
        "  author\n",
        "FROM\n",
        "  Books\n",
        "WHERE\n",
        "  -- books whose title starts with \"The\"\n",
        "  title LIKE 'The%'\n",
        "LIMIT 10;"
      ],
      "metadata": {
        "colab": {
          "base_uri": "https://localhost:8080/",
          "height": 284
        },
        "id": "pzkMohi1kLIT",
        "outputId": "16ff2eec-2838-4286-85bb-39201951eb8b"
      },
      "execution_count": 18,
      "outputs": [
        {
          "output_type": "stream",
          "name": "stdout",
          "text": [
            " * sqlite:///sci_fi_books.db\n",
            "Done.\n"
          ]
        },
        {
          "output_type": "execute_result",
          "data": {
            "text/plain": [
              "[('The Hunger Games', 'Suzanne Collins'),\n",
              " ('The Chronicles of Narnia', 'C.S. Lewis'),\n",
              " (\"The Hitchhiker's Guide to the Galaxy\", 'Douglas Adams'),\n",
              " (\"The Time Traveler's Wife\", 'Audrey Niffenegger'),\n",
              " ('The Princess Bride', 'William Goldman'),\n",
              " (\"The Handmaid's Tale\", 'Margaret Atwood'),\n",
              " ('The Giver', 'Lois Lowry'),\n",
              " ('The Stand', 'Stephen King'),\n",
              " ('The Fellowship of the Ring', 'J.R.R. Tolkien'),\n",
              " ('The Road', 'Cormac McCarthy')]"
            ],
            "text/html": [
              "<table>\n",
              "    <thead>\n",
              "        <tr>\n",
              "            <th>title</th>\n",
              "            <th>author</th>\n",
              "        </tr>\n",
              "    </thead>\n",
              "    <tbody>\n",
              "        <tr>\n",
              "            <td>The Hunger Games</td>\n",
              "            <td>Suzanne Collins</td>\n",
              "        </tr>\n",
              "        <tr>\n",
              "            <td>The Chronicles of Narnia</td>\n",
              "            <td>C.S. Lewis</td>\n",
              "        </tr>\n",
              "        <tr>\n",
              "            <td>The Hitchhiker&#x27;s Guide to the Galaxy</td>\n",
              "            <td>Douglas Adams</td>\n",
              "        </tr>\n",
              "        <tr>\n",
              "            <td>The Time Traveler&#x27;s Wife</td>\n",
              "            <td>Audrey Niffenegger</td>\n",
              "        </tr>\n",
              "        <tr>\n",
              "            <td>The Princess Bride</td>\n",
              "            <td>William Goldman</td>\n",
              "        </tr>\n",
              "        <tr>\n",
              "            <td>The Handmaid&#x27;s Tale</td>\n",
              "            <td>Margaret Atwood</td>\n",
              "        </tr>\n",
              "        <tr>\n",
              "            <td>The Giver</td>\n",
              "            <td>Lois Lowry</td>\n",
              "        </tr>\n",
              "        <tr>\n",
              "            <td>The Stand</td>\n",
              "            <td>Stephen King</td>\n",
              "        </tr>\n",
              "        <tr>\n",
              "            <td>The Fellowship of the Ring</td>\n",
              "            <td>J.R.R. Tolkien</td>\n",
              "        </tr>\n",
              "        <tr>\n",
              "            <td>The Road</td>\n",
              "            <td>Cormac McCarthy</td>\n",
              "        </tr>\n",
              "    </tbody>\n",
              "</table>"
            ]
          },
          "metadata": {},
          "execution_count": 18
        }
      ]
    },
    {
      "cell_type": "markdown",
      "source": [
        "### Example: Author Names Containing `Lewis`\n",
        "Now, let's look for author names that contain \"lewis\" anywhere."
      ],
      "metadata": {
        "id": "CfPQZE7HkvEP"
      }
    },
    {
      "cell_type": "code",
      "source": [
        "%%sql\n",
        "SELECT\n",
        "  title,\n",
        "  author\n",
        "FROM\n",
        "  Books\n",
        "WHERE\n",
        "  -- author names that contain \"lewis\" anywhere\n",
        "  author LIKE '%lewis%'\n",
        "LIMIT 10;"
      ],
      "metadata": {
        "colab": {
          "base_uri": "https://localhost:8080/",
          "height": 284
        },
        "id": "b3LiuvZvk5Bp",
        "outputId": "433fbf0c-7dd1-46ee-bede-67cc5dcf8d47"
      },
      "execution_count": 19,
      "outputs": [
        {
          "output_type": "stream",
          "name": "stdout",
          "text": [
            " * sqlite:///sci_fi_books.db\n",
            "Done.\n"
          ]
        },
        {
          "output_type": "execute_result",
          "data": {
            "text/plain": [
              "[('The Chronicles of Narnia', 'C.S. Lewis'),\n",
              " ('The Voyage of the Dawn Treader', 'C.S. Lewis'),\n",
              " ('The Last Battle', 'C.S. Lewis'),\n",
              " ('The Silver Chair', 'C.S. Lewis'),\n",
              " ('Prince Caspian', 'C.S. Lewis'),\n",
              " ('Perelandra', 'C.S. Lewis'),\n",
              " ('That Hideous Strength', 'C.S. Lewis'),\n",
              " ('Space Trilogy: Out of the Silent Planet / Perelandra / That Hideous Strength', 'C.S. Lewis'),\n",
              " ('Out of the Silent Planet', 'C.S. Lewis'),\n",
              " (\"It Can't Happen Here\", 'Sinclair Lewis')]"
            ],
            "text/html": [
              "<table>\n",
              "    <thead>\n",
              "        <tr>\n",
              "            <th>title</th>\n",
              "            <th>author</th>\n",
              "        </tr>\n",
              "    </thead>\n",
              "    <tbody>\n",
              "        <tr>\n",
              "            <td>The Chronicles of Narnia</td>\n",
              "            <td>C.S. Lewis</td>\n",
              "        </tr>\n",
              "        <tr>\n",
              "            <td>The Voyage of the Dawn Treader</td>\n",
              "            <td>C.S. Lewis</td>\n",
              "        </tr>\n",
              "        <tr>\n",
              "            <td>The Last Battle</td>\n",
              "            <td>C.S. Lewis</td>\n",
              "        </tr>\n",
              "        <tr>\n",
              "            <td>The Silver Chair</td>\n",
              "            <td>C.S. Lewis</td>\n",
              "        </tr>\n",
              "        <tr>\n",
              "            <td>Prince Caspian</td>\n",
              "            <td>C.S. Lewis</td>\n",
              "        </tr>\n",
              "        <tr>\n",
              "            <td>Perelandra</td>\n",
              "            <td>C.S. Lewis</td>\n",
              "        </tr>\n",
              "        <tr>\n",
              "            <td>That Hideous Strength</td>\n",
              "            <td>C.S. Lewis</td>\n",
              "        </tr>\n",
              "        <tr>\n",
              "            <td>Space Trilogy: Out of the Silent Planet / Perelandra / That Hideous Strength</td>\n",
              "            <td>C.S. Lewis</td>\n",
              "        </tr>\n",
              "        <tr>\n",
              "            <td>Out of the Silent Planet</td>\n",
              "            <td>C.S. Lewis</td>\n",
              "        </tr>\n",
              "        <tr>\n",
              "            <td>It Can&#x27;t Happen Here</td>\n",
              "            <td>Sinclair Lewis</td>\n",
              "        </tr>\n",
              "    </tbody>\n",
              "</table>"
            ]
          },
          "metadata": {},
          "execution_count": 19
        }
      ]
    },
    {
      "cell_type": "markdown",
      "source": [
        "## Aggregate Functions and Aliasing with AS\n",
        "\n",
        "Aggregate functions are powerful tools in SQL that allow you to perform calculations on sets of rows. They operate on a set of values and return a single result. Some common aggregate functions are:\n",
        "\n",
        "-   COUNT(): Counts the number of rows that match the specified criteria.\n",
        "-   SUM(): Calculates the sum of a set of values.\n",
        "-   AVG(): Calculates the average of a set of values.\n",
        "-   MAX(): Returns the largest value in a set of values.\n",
        "-   MIN(): Returns the smallest value in a set of values.\n",
        "\n",
        "### Examples of Aggregate Functions\n",
        "\n",
        "Let's look at some examples using our \"Books\" table."
      ],
      "metadata": {
        "id": "EaRLjRuNj6qZ"
      }
    },
    {
      "cell_type": "code",
      "source": [
        "%%sql\n",
        "--Find total number of books\n",
        "SELECT\n",
        "  COUNT(*) AS total_books\n",
        "FROM\n",
        "  Books;"
      ],
      "metadata": {
        "colab": {
          "base_uri": "https://localhost:8080/",
          "height": 95
        },
        "id": "pai0U96UkBfY",
        "outputId": "36d4f74d-0332-40b5-a3e4-3e910bfdee3e"
      },
      "execution_count": 20,
      "outputs": [
        {
          "output_type": "stream",
          "name": "stdout",
          "text": [
            " * sqlite:///sci_fi_books.db\n",
            "Done.\n"
          ]
        },
        {
          "output_type": "execute_result",
          "data": {
            "text/plain": [
              "[(6591,)]"
            ],
            "text/html": [
              "<table>\n",
              "    <thead>\n",
              "        <tr>\n",
              "            <th>total_books</th>\n",
              "        </tr>\n",
              "    </thead>\n",
              "    <tbody>\n",
              "        <tr>\n",
              "            <td>6591</td>\n",
              "        </tr>\n",
              "    </tbody>\n",
              "</table>"
            ]
          },
          "metadata": {},
          "execution_count": 20
        }
      ]
    },
    {
      "cell_type": "code",
      "source": [
        "%%sql\n",
        "--Average ratings of books\n",
        "SELECT\n",
        "  AVG(rating) AS avg_rating\n",
        "FROM\n",
        "  Books;"
      ],
      "metadata": {
        "colab": {
          "base_uri": "https://localhost:8080/",
          "height": 95
        },
        "id": "qDLqbXOgkPP7",
        "outputId": "c08191e0-26db-4480-9248-c288f593bbc8"
      },
      "execution_count": 21,
      "outputs": [
        {
          "output_type": "stream",
          "name": "stdout",
          "text": [
            " * sqlite:///sci_fi_books.db\n",
            "Done.\n"
          ]
        },
        {
          "output_type": "execute_result",
          "data": {
            "text/plain": [
              "[(3.9888848429676864,)]"
            ],
            "text/html": [
              "<table>\n",
              "    <thead>\n",
              "        <tr>\n",
              "            <th>avg_rating</th>\n",
              "        </tr>\n",
              "    </thead>\n",
              "    <tbody>\n",
              "        <tr>\n",
              "            <td>3.9888848429676864</td>\n",
              "        </tr>\n",
              "    </tbody>\n",
              "</table>"
            ]
          },
          "metadata": {},
          "execution_count": 21
        }
      ]
    },
    {
      "cell_type": "code",
      "source": [
        "%%sql\n",
        "--Total number of pages across all books\n",
        "SELECT\n",
        "  SUM(pages) AS total_pages\n",
        "FROM\n",
        "  Books;"
      ],
      "metadata": {
        "colab": {
          "base_uri": "https://localhost:8080/",
          "height": 95
        },
        "id": "_CNe0iYxkWsB",
        "outputId": "25ef4cb1-997a-42e7-b444-78614d10f1f9"
      },
      "execution_count": 22,
      "outputs": [
        {
          "output_type": "stream",
          "name": "stdout",
          "text": [
            " * sqlite:///sci_fi_books.db\n",
            "Done.\n"
          ]
        },
        {
          "output_type": "execute_result",
          "data": {
            "text/plain": [
              "[(2495231,)]"
            ],
            "text/html": [
              "<table>\n",
              "    <thead>\n",
              "        <tr>\n",
              "            <th>total_pages</th>\n",
              "        </tr>\n",
              "    </thead>\n",
              "    <tbody>\n",
              "        <tr>\n",
              "            <td>2495231</td>\n",
              "        </tr>\n",
              "    </tbody>\n",
              "</table>"
            ]
          },
          "metadata": {},
          "execution_count": 22
        }
      ]
    },
    {
      "cell_type": "code",
      "source": [
        "%%sql\n",
        "--Find maximum and minimum rating\n",
        "SELECT\n",
        "  MAX(rating) AS max_rating,\n",
        "  MIN(rating) AS min_rating\n",
        "FROM\n",
        "  Books;"
      ],
      "metadata": {
        "colab": {
          "base_uri": "https://localhost:8080/",
          "height": 95
        },
        "id": "LHdYRlbwlT5k",
        "outputId": "55193af4-d613-4e57-b691-ee1cf014a94e"
      },
      "execution_count": 29,
      "outputs": [
        {
          "output_type": "stream",
          "name": "stdout",
          "text": [
            " * sqlite:///sci_fi_books.db\n",
            "Done.\n"
          ]
        },
        {
          "output_type": "execute_result",
          "data": {
            "text/plain": [
              "[(5.0, 1.99)]"
            ],
            "text/html": [
              "<table>\n",
              "    <thead>\n",
              "        <tr>\n",
              "            <th>max_rating</th>\n",
              "            <th>min_rating</th>\n",
              "        </tr>\n",
              "    </thead>\n",
              "    <tbody>\n",
              "        <tr>\n",
              "            <td>5.0</td>\n",
              "            <td>1.99</td>\n",
              "        </tr>\n",
              "    </tbody>\n",
              "</table>"
            ]
          },
          "metadata": {},
          "execution_count": 29
        }
      ]
    },
    {
      "cell_type": "markdown",
      "source": [
        "### Combining Aggregate Functions with WHERE Clauses\n",
        "We can also combine aggregate functions with WHERE clauses to calculate values based on certain conditions."
      ],
      "metadata": {
        "id": "swixjFpakgV3"
      }
    },
    {
      "cell_type": "code",
      "source": [
        "%%sql\n",
        "--Find the average rating of books after 2000\n",
        "SELECT\n",
        "  AVG(rating) AS avg_rating_after_2000\n",
        "FROM\n",
        "  Books\n",
        "WHERE\n",
        "  publishDate > 2000;"
      ],
      "metadata": {
        "colab": {
          "base_uri": "https://localhost:8080/",
          "height": 95
        },
        "id": "LEaC8b4Fkb_M",
        "outputId": "4e7f5533-a298-4607-d723-42a63c7fadab"
      },
      "execution_count": 25,
      "outputs": [
        {
          "output_type": "stream",
          "name": "stdout",
          "text": [
            " * sqlite:///sci_fi_books.db\n",
            "Done.\n"
          ]
        },
        {
          "output_type": "execute_result",
          "data": {
            "text/plain": [
              "[(3.994751515151523,)]"
            ],
            "text/html": [
              "<table>\n",
              "    <thead>\n",
              "        <tr>\n",
              "            <th>avg_rating_after_2000</th>\n",
              "        </tr>\n",
              "    </thead>\n",
              "    <tbody>\n",
              "        <tr>\n",
              "            <td>3.994751515151523</td>\n",
              "        </tr>\n",
              "    </tbody>\n",
              "</table>"
            ]
          },
          "metadata": {},
          "execution_count": 25
        }
      ]
    },
    {
      "cell_type": "code",
      "source": [
        "%%sql\n",
        "--Find the number of books with more than 500 pages\n",
        "SELECT\n",
        "  COUNT(*) AS books_over_500_pages\n",
        "FROM\n",
        "  Books\n",
        "WHERE\n",
        "  pages > 500;"
      ],
      "metadata": {
        "colab": {
          "base_uri": "https://localhost:8080/",
          "height": 95
        },
        "id": "3NlIz_Dmkxi7",
        "outputId": "218b1576-4df2-4a73-e383-5028ee8f90e1"
      },
      "execution_count": 26,
      "outputs": [
        {
          "output_type": "stream",
          "name": "stdout",
          "text": [
            " * sqlite:///sci_fi_books.db\n",
            "Done.\n"
          ]
        },
        {
          "output_type": "execute_result",
          "data": {
            "text/plain": [
              "[(1108,)]"
            ],
            "text/html": [
              "<table>\n",
              "    <thead>\n",
              "        <tr>\n",
              "            <th>books_over_500_pages</th>\n",
              "        </tr>\n",
              "    </thead>\n",
              "    <tbody>\n",
              "        <tr>\n",
              "            <td>1108</td>\n",
              "        </tr>\n",
              "    </tbody>\n",
              "</table>"
            ]
          },
          "metadata": {},
          "execution_count": 26
        }
      ]
    },
    {
      "cell_type": "code",
      "source": [
        "%%sql\n",
        "--Find the maximum rating of books with more than 10,000 ratings\n",
        "SELECT\n",
        "  MAX(rating) AS max_rating_over_10000\n",
        "FROM\n",
        "  Books\n",
        "WHERE\n",
        "  numRatings >= 10000;"
      ],
      "metadata": {
        "colab": {
          "base_uri": "https://localhost:8080/",
          "height": 95
        },
        "id": "EvIzv4ffk9oQ",
        "outputId": "f14005bc-6d7e-4af0-d9a8-20ffd633ed9f"
      },
      "execution_count": 28,
      "outputs": [
        {
          "output_type": "stream",
          "name": "stdout",
          "text": [
            " * sqlite:///sci_fi_books.db\n",
            "Done.\n"
          ]
        },
        {
          "output_type": "execute_result",
          "data": {
            "text/plain": [
              "[(4.79,)]"
            ],
            "text/html": [
              "<table>\n",
              "    <thead>\n",
              "        <tr>\n",
              "            <th>max_rating_over_10000</th>\n",
              "        </tr>\n",
              "    </thead>\n",
              "    <tbody>\n",
              "        <tr>\n",
              "            <td>4.79</td>\n",
              "        </tr>\n",
              "    </tbody>\n",
              "</table>"
            ]
          },
          "metadata": {},
          "execution_count": 28
        }
      ]
    },
    {
      "cell_type": "markdown",
      "source": [
        "### Aliasing with AS\n",
        "The `AS` keyword is used to give a column or an expression a temporary name (an **alias**) in the result set. This can make the result set more readable.\n",
        "\n",
        "In the previous examples, we used AS to give descriptive names to the results of the aggregate functions, like \"total_books\", \"avg_rating\", \"max_rating\", etc. This makes the output easier to understand at a glance.\n",
        "\n",
        "Aggregate functions are essential for summarizing and analyzing data in SQL. They allow you to quickly calculate totals, averages, maximums, minimums, and other summary statistics across entire sets of rows or based on specific conditions. Combined with the aliasing capabilities of the AS keyword, they provide a powerful way to extract insights from your data.\n"
      ],
      "metadata": {
        "id": "bGbLfxeHkTg-"
      }
    },
    {
      "cell_type": "markdown",
      "source": [
        "## Basic Math Operations and Functions in SQL\n",
        "\n",
        "SQL supports various mathematical operations and functions that allow you to perform calculations on numeric data directly within your queries. These can be used in the SELECT clause, the WHERE clause, or in combination with aggregate functions.\n",
        "\n",
        "The basic arithmetic operators in SQL are:\n",
        "\n",
        "-   Addition: `+`\n",
        "-   Subtraction: `-`\n",
        "-   Multiplication: `*`\n",
        "-   Division: `/`\n",
        "-   Modulo (remainder): `%`\n",
        "\n",
        "For example, let's say we want to calculate the price after a 10% discount for a book that costs $20:"
      ],
      "metadata": {
        "id": "0BbxQLLDrM6Y"
      }
    },
    {
      "cell_type": "code",
      "source": [
        "%%sql\n",
        "SELECT\n",
        "  20 - (20 * 0.1) AS discounted_price;"
      ],
      "metadata": {
        "colab": {
          "base_uri": "https://localhost:8080/",
          "height": 95
        },
        "id": "sgLuYY2QrN01",
        "outputId": "f91cc70b-36fc-47df-f12f-25864a9ac304"
      },
      "execution_count": 31,
      "outputs": [
        {
          "output_type": "stream",
          "name": "stdout",
          "text": [
            " * sqlite:///sci_fi_books.db\n",
            "Done.\n"
          ]
        },
        {
          "output_type": "execute_result",
          "data": {
            "text/plain": [
              "[(18.0,)]"
            ],
            "text/html": [
              "<table>\n",
              "    <thead>\n",
              "        <tr>\n",
              "            <th>discounted_price</th>\n",
              "        </tr>\n",
              "    </thead>\n",
              "    <tbody>\n",
              "        <tr>\n",
              "            <td>18.0</td>\n",
              "        </tr>\n",
              "    </tbody>\n",
              "</table>"
            ]
          },
          "metadata": {},
          "execution_count": 31
        }
      ]
    },
    {
      "cell_type": "markdown",
      "source": [
        "SQL also provides a set of built-in mathematical functions. Some commonly used ones are:\n",
        "\n",
        "-   `ROUND(number, decimal_places)`: Rounds a number to a specified number of decimal places.\n",
        "-   `FLOOR(number)`: Returns the largest integer value that is less than or equal to the number.\n",
        "-   `CEIL(number)` or `CEILING(number)`: Returns the smallest integer value that is greater than or equal to the number.\n",
        "-   `ABS(number)`: Returns the absolute value of the number.\n",
        "-   `SQRT(number)`: Returns the square root of the number.\n",
        "-   `POWER(number, power)`: Returns the result of raising the number to the specified power.\n",
        "\n",
        "Let's look at an example using `ROUND()`. Say we want to see the average rating of each book rounded to 1 decimal place:"
      ],
      "metadata": {
        "id": "dP_cLIAdrTvU"
      }
    },
    {
      "cell_type": "code",
      "source": [
        "%%sql\n",
        "--Get rounded rating\n",
        "SELECT\n",
        "  title,\n",
        "  ROUND(rating, 1) AS rounded_rating\n",
        "FROM\n",
        "  Books\n",
        "LIMIT 10;"
      ],
      "metadata": {
        "colab": {
          "base_uri": "https://localhost:8080/",
          "height": 284
        },
        "id": "2dd4X1oarcNy",
        "outputId": "b49fb060-3251-4667-b90a-c35fa383dd86"
      },
      "execution_count": 33,
      "outputs": [
        {
          "output_type": "stream",
          "name": "stdout",
          "text": [
            " * sqlite:///sci_fi_books.db\n",
            "Done.\n"
          ]
        },
        {
          "output_type": "execute_result",
          "data": {
            "text/plain": [
              "[('The Hunger Games', 4.3),\n",
              " ('Harry Potter and the Order of the Phoenix', 4.5),\n",
              " ('Animal Farm', 4.0),\n",
              " ('The Chronicles of Narnia', 4.3),\n",
              " ('J.R.R. Tolkien 4-Book Boxed Set: The Hobbit and The Lord of the Rings', 4.6),\n",
              " (\"The Hitchhiker's Guide to the Galaxy\", 4.2),\n",
              " ('Fahrenheit 451', 4.0),\n",
              " ('Divergent', 4.2),\n",
              " (\"Ender's Game\", 4.3),\n",
              " (\"Harry Potter and the Sorcerer's Stone\", 4.5)]"
            ],
            "text/html": [
              "<table>\n",
              "    <thead>\n",
              "        <tr>\n",
              "            <th>title</th>\n",
              "            <th>rounded_rating</th>\n",
              "        </tr>\n",
              "    </thead>\n",
              "    <tbody>\n",
              "        <tr>\n",
              "            <td>The Hunger Games</td>\n",
              "            <td>4.3</td>\n",
              "        </tr>\n",
              "        <tr>\n",
              "            <td>Harry Potter and the Order of the Phoenix</td>\n",
              "            <td>4.5</td>\n",
              "        </tr>\n",
              "        <tr>\n",
              "            <td>Animal Farm</td>\n",
              "            <td>4.0</td>\n",
              "        </tr>\n",
              "        <tr>\n",
              "            <td>The Chronicles of Narnia</td>\n",
              "            <td>4.3</td>\n",
              "        </tr>\n",
              "        <tr>\n",
              "            <td>J.R.R. Tolkien 4-Book Boxed Set: The Hobbit and The Lord of the Rings</td>\n",
              "            <td>4.6</td>\n",
              "        </tr>\n",
              "        <tr>\n",
              "            <td>The Hitchhiker&#x27;s Guide to the Galaxy</td>\n",
              "            <td>4.2</td>\n",
              "        </tr>\n",
              "        <tr>\n",
              "            <td>Fahrenheit 451</td>\n",
              "            <td>4.0</td>\n",
              "        </tr>\n",
              "        <tr>\n",
              "            <td>Divergent</td>\n",
              "            <td>4.2</td>\n",
              "        </tr>\n",
              "        <tr>\n",
              "            <td>Ender&#x27;s Game</td>\n",
              "            <td>4.3</td>\n",
              "        </tr>\n",
              "        <tr>\n",
              "            <td>Harry Potter and the Sorcerer&#x27;s Stone</td>\n",
              "            <td>4.5</td>\n",
              "        </tr>\n",
              "    </tbody>\n",
              "</table>"
            ]
          },
          "metadata": {},
          "execution_count": 33
        }
      ]
    },
    {
      "cell_type": "markdown",
      "source": [
        "Mathematical operations and functions can be particularly useful when combined with aggregate functions.\n",
        "\n",
        "For example, let's calculate the average number of pages across all books:"
      ],
      "metadata": {
        "id": "xuafxu63rvMK"
      }
    },
    {
      "cell_type": "code",
      "source": [
        "%%sql\n",
        "--Calculate average number of pages, round to 0 decimal places\n",
        "SELECT\n",
        "  ROUND(AVG(pages), 0) AS avg_pages\n",
        "FROM\n",
        "  Books;"
      ],
      "metadata": {
        "colab": {
          "base_uri": "https://localhost:8080/",
          "height": 95
        },
        "id": "Ll1MbBNjrwvA",
        "outputId": "b00c9288-d1af-4bbb-d91f-9500b2f04643"
      },
      "execution_count": 35,
      "outputs": [
        {
          "output_type": "stream",
          "name": "stdout",
          "text": [
            " * sqlite:///sci_fi_books.db\n",
            "Done.\n"
          ]
        },
        {
          "output_type": "execute_result",
          "data": {
            "text/plain": [
              "[(391.0,)]"
            ],
            "text/html": [
              "<table>\n",
              "    <thead>\n",
              "        <tr>\n",
              "            <th>avg_pages</th>\n",
              "        </tr>\n",
              "    </thead>\n",
              "    <tbody>\n",
              "        <tr>\n",
              "            <td>391.0</td>\n",
              "        </tr>\n",
              "    </tbody>\n",
              "</table>"
            ]
          },
          "metadata": {},
          "execution_count": 35
        }
      ]
    },
    {
      "cell_type": "markdown",
      "source": [
        "## Writing Super SQL (Single Table Version)\n",
        "\n",
        "When working with a single table, writing clean, efficient, and effective SQL queries is essential. Here are some basic rules to follow:\n",
        "\n",
        "1.  Always start with SELECT and FROM. Every query should begin by specifying the columns you want to retrieve (SELECT) and the table you want to retrieve them from (FROM).\n",
        "2.  Capitalize keywords. While SQL is case-insensitive, capitalizing keywords (like SELECT, FROM, WHERE, ORDER BY) makes your queries more readable.\n",
        "3.  Use meaningful column names. When selecting columns, choose the ones that are relevant to your question. Avoid selecting unnecessary columns, especially when working with large tables. Use AS to rename the output of operations (like COUNT) that might be confusing.\n",
        "4.  Filter early with WHERE. If you know you only need a subset of the data, filter as early as possible using WHERE. This reduces the amount of data that needs to be processed.\n",
        "5.  Be specific with conditions. When using WHERE, be as specific as possible with your conditions. Use appropriate operators (=, <, >, LIKE, etc.) and values.\n",
        "6.  Sort strategically with ORDER BY. If you need your results in a specific order, use ORDER BY. But only sort when necessary, as it can impact query performance.\n",
        "7.  Use LIMIT for testing. When writing a new query, start with a LIMIT clause to return only a few rows. This allows you to check your results and adjust your query if needed.\n",
        "8.  Comment your code. Use SQL comments (-- for single line, /* */ for multi-line) to explain what your query is doing. This makes it easier for you and others to understand your code.\n",
        "9.  Format for readability. Format your SQL with line breaks, indentation, and spaces to make it more readable. This is especially important for more complex queries.\n",
        "10. Double-check before running. Always double-check your query before running it, especially if it's a DELETE or UPDATE statement. One misplaced condition can accidentally modify or delete a lot of data.\n",
        "\n",
        "By following these rules, you can write SQL queries that are easier to read, understand, and maintain. As you move on to more complex queries involving multiple tables, these foundational principles will continue to serve you well."
      ],
      "metadata": {
        "id": "8ybFm7UqkLjy"
      }
    },
    {
      "cell_type": "code",
      "source": [],
      "metadata": {
        "id": "haBywyhFnyX5"
      },
      "execution_count": null,
      "outputs": []
    }
  ]
}