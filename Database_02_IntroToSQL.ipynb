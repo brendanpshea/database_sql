{
  "nbformat": 4,
  "nbformat_minor": 0,
  "metadata": {
    "colab": {
      "provenance": [],
      "authorship_tag": "ABX9TyOnRF+OAnhCN4+iAybpnUBg",
      "include_colab_link": true
    },
    "kernelspec": {
      "name": "python3",
      "display_name": "Python 3"
    },
    "language_info": {
      "name": "python"
    }
  },
  "cells": [
    {
      "cell_type": "markdown",
      "metadata": {
        "id": "view-in-github",
        "colab_type": "text"
      },
      "source": [
        "<a href=\"https://colab.research.google.com/github/brendanpshea/database_sql/blob/main/Database_02_IntroToSQL.ipynb\" target=\"_parent\"><img src=\"https://colab.research.google.com/assets/colab-badge.svg\" alt=\"Open In Colab\"/></a>"
      ]
    },
    {
      "cell_type": "markdown",
      "source": [
        "##  What is the Relational Model?\n",
        "\n",
        "The **relational model)) of data has revolutionized the way we store, organize, and interact with information. This model, proposed by English computer scientist Edgar F. Codd in 1970 while working at IBM, forms the foundation of modern database systems.\n",
        "\n",
        "At its core, the relational model is a way of structuring data in a database using tables. These tables, which resemble spreadsheets, represent specific entities or concepts. For instance, a library database might have tables for \"Books,\" \"Authors,\" \"Publishers,\" and \"Borrowers.\"\n",
        "\n",
        "Some ideas of the relational model:\n",
        "\n",
        "-   An **entity** is a specific object or concept that data is being stored about, such as a book, author, or customer.\n",
        "-   An **attribute** is a characteristic or property of an entity, such as a book's title, author, or publication date.\n",
        "-   A **table** is a collection of data elements organized in terms of rows and columns. Each table represents a specific entity.\n",
        "-   A **row** (record or tuple) is a single instance of an entity in a table, such as one specific book in the \"Books\" table.\n",
        "-   A **column (field)** represents an attribute of the entity in a table, such as the \"Title\" or \"Author\" of a book.\n",
        "-   A **primary key** is a unique identifier for each row in a table, used to distinguish one record from another.\n",
        "-   A **foreign key** is a field in one table that uniquely identifies a row in another table, used to establish relationships between tables.\n",
        "\n",
        "Here's an example of what a simple \"Books\" table might look like:\n",
        "\n",
        "| id | title | author | publication_year |\n",
        "| --- | --- | --- | --- |\n",
        "| 1 | Dune | Frank Herbert | 1965 |\n",
        "| 2 | Ender's Game | Orson Scott Card | 1985 |\n",
        "| 3 | Hitchhiker's Guide to the Galaxy | Douglas Adams | 1979 |\n",
        "\n",
        "In this table, each row represents a specific book, with columns for the book's unique identifier (id), title, author, and publication year.\n",
        "\n",
        "The real strength of the relational model lies in its ability to establish relationships between tables. Instead of duplicating data across tables, we can link related data using keys.\n",
        "\n",
        "For example, let's say we have a separate \"Authors\" table:\n",
        "\n",
        "| id | name | birth_year |\n",
        "| --- | --- | --- |\n",
        "| 1 | Frank Herbert | 1920 |\n",
        "| 2 | Orson Scott Card | 1951 |\n",
        "| 3 | Douglas Adams | 1952 |\n",
        "\n",
        "We can link the \"Books\" and \"Authors\" tables using the \"author_id\" field in the \"Books\" table, which would serve as a foreign key referencing the \"id\" field (the primary key) in the \"Authors\" table:\n",
        "\n",
        "| id | title | author_id | publication_year |\n",
        "| --- | --- | --- | --- |\n",
        "| 1 | Dune | 1 | 1965 |\n",
        "| 2 | Ender's Game | 2 | 1985 |\n",
        "| 3 | Hitchhiker's Guide to the Galaxy | 3 | 1979 |\n",
        "\n",
        "This structure allows us to efficiently store and manage data, as changes to an author's details only need to be made in the \"Authors\" table, and will automatically be reflected wherever that author is referenced."
      ],
      "metadata": {
        "id": "Zyz0Qz5UEsfH"
      }
    },
    {
      "cell_type": "markdown",
      "source": [
        "## What is SQL?\n",
        "\n",
        "**SQL**, which stands for Structured Query Language, is a programming language used to communicate with and manipulate relational databases.SQL was developed in the early 1970s at IBM to work with these relational databases, and it has since become the standard language for interacting with them.\n",
        "\n",
        "One of the key features of SQL is that it is a **declarative language**. This means that when you write SQL queries, you tell the database what you want it to do, but not how to do it. It's a bit like giving someone directions to a destination without specifying the exact route they should take. The database figures out the best way to execute your query and retrieve the data you requested.\n",
        "\n",
        "A **query** is simply a question or a request for data from a database. With SQL, you can write queries to retrieve, insert, update, and delete data in a database. For example, if you have a database of sci-fi books, you might write a query to find all the books published after a certain year, like this:\n",
        "\n",
        "```sql\n",
        "SELECT title, author, publication_year\n",
        "FROM Books\n",
        "WHERE publication_year > 1980;\n",
        "```\n",
        "\n",
        "This query tells the database, \"Give me the title, author, and publication year for all the books in the 'Books' table that were published after 1980.\"\n",
        "\n",
        "SQL is divided into several sublanguages, each with a specific purpose:\n",
        "\n",
        "1.  **Data Definition Language (DDL).** This part of SQL is used to define and modify the structure of a database, including creating, altering, and deleting tables and other database objects.\n",
        "2.  **Data Manipulation Language (DML).** DML is used to manipulate the data stored in a database. This includes inserting new data, updating existing data, and deleting data.\n",
        "3.  **Data Query Language (DQL).** This is the part of SQL used to retrieve data from a database. The most common DQL command is SELECT, which is used to query data from one or more tables.\n",
        "4.  **Data Control Language (DCL).** DCL is used to manage access to a database. This includes granting and revoking permissions for users to perform specific actions on the database.\n",
        "5.  **Transaction Control Language (TCL).** TCL is used to manage database transactions. This includes commands to commit (permanently save) or rollback (undo) changes made to the database.\n",
        "\n",
        "By learning SQL, you gain a powerful tool for working with relational databases. Whether you're a data analyst, a software developer, or just someone who wants to understand how to manage and query data effectively, SQL is a valuable skill to have. It's used in a wide variety of settings, from small personal projects to large-scale enterprise applications, making it a versatile and essential part of working with data."
      ],
      "metadata": {
        "id": "N0wbfZlDGyy7"
      }
    },
    {
      "cell_type": "code",
      "execution_count": null,
      "metadata": {
        "id": "gdTGQ1z3Ersz"
      },
      "outputs": [],
      "source": []
    }
  ]
}