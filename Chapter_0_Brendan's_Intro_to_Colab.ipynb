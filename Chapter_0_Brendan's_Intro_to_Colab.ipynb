{
  "nbformat": 4,
  "nbformat_minor": 0,
  "metadata": {
    "colab": {
      "provenance": [],
      "authorship_tag": "ABX9TyNkC+HRZp2kjDN7dPU/29Q6",
      "include_colab_link": true
    },
    "kernelspec": {
      "name": "python3",
      "display_name": "Python 3"
    },
    "language_info": {
      "name": "python"
    }
  },
  "cells": [
    {
      "cell_type": "markdown",
      "metadata": {
        "id": "view-in-github",
        "colab_type": "text"
      },
      "source": [
        "<a href=\"https://colab.research.google.com/github/brendanpshea/database_sql/blob/main/Chapter_0_Brendan's_Intro_to_Colab.ipynb\" target=\"_parent\"><img src=\"https://colab.research.google.com/assets/colab-badge.svg\" alt=\"Open In Colab\"/></a>"
      ]
    },
    {
      "cell_type": "markdown",
      "source": [
        "Brendan's Intro to Colab\n",
        "============================================================\n",
        "\n",
        "What is Jupyter? What is Colab?\n",
        "-------------------------------\n",
        "\n",
        "### What is Jupyter?\n",
        "\n",
        "-   **Jupyter** is an open-source web application that allows you to create and share interactive documents known as notebooks. These combination text, code, and graphics.\n",
        "-   A Jupyter notebook is a versatile platform where you can write code, run it, and see the results, all within the same document.\n",
        "-   It supports multiple programming languages, including Python, R, and SQL.\n",
        "-   Google Colaboratory, commonly known as **Colab**, is a cloud-based service that provides a Jupyter notebook environment.\n",
        "-   Unlike Jupyter, it requires no setup, and it provides free access to computing resources, including GPUs. This notebook lives on \"Google's Cloud\" and not on your own computer.\n",
        "-   Colab is particularly useful for machine learning, data analysis, and collaborative coding.\n",
        "\n",
        "\n",
        "### Why is Colab beneficial for teaching and learning?\n",
        "\n",
        "-   Colab is browser-based, so students don't need a powerful computer to run complex algorithms.\n",
        "-    Teachers and students can work on the same notebook in real-time, akin to Google Docs.\n",
        "-   Colab provides free computing resources, allowing students to focus on learning rather than setup.\n",
        "-   Colab's structure (unlike a traditional \"textbook\") promotes hands-on experience, which is crucial for learning programming and data science.\n",
        "- Colab (unlike many \"teahing\" tools) is widely used in many \"real-world\" scenarios in business, science, and academia.\n",
        "\n",
        "The idea is something like this: Imagine a world where citizens, let's call them \"Colabians,\" share knowledge through a magical book. In this book, you can write a spell (code), execute it, and see the magic unfold (result) immediately. You can also see notes (documentation) explaning when, why, and how to use it. Wouldn't learning magic be easier and more engaging in such a scenario? That's essentially what Colab does for learning computer science."
      ],
      "metadata": {
        "id": "ujt6iAf2ZH8f"
      }
    },
    {
      "cell_type": "markdown",
      "source": [
        "How Do I Save My Own Copy of This Notebook?\n",
        "--------------------------------------------------------------------------------\n",
        "To save a Colab notebook, you need to be signed into a Google Account.  Once you are signed into Google, you will have access to Google Drive, as that's where your Colab notebooks will be saved.\n",
        "\n",
        "1.   Open the notebook you'd like to save.\n",
        "2.   Navigate to File > Save a copy in Drive from the menu options.\n",
        "3.  The notebook will be saved in your Google Drive, usually in a folder called Colab Notebooks.\n",
        "\n",
        "### How Do I Create and/or Edit \"Text\" (Markdown) Cells?\n",
        "-   **Markdown** is a lightweight markup language that allows you to format text using simple syntax.\n",
        "-   You can create a text cell by clicking on the + Text button, usually located at the top or bottom of your Colab notebook.\n",
        "-   To exdit a cell, just double-click on the Markdown cell you want to edit You'll see the Markdown syntax and can begin editing.\n",
        "\n",
        "### How do I apply formatting in Markdown?\n",
        "If you want to format your text, you can use the following commands:\n",
        "\n",
        "-   Use `#` for headings: `# Heading 1`, `## Heading 2`, etc.\n",
        "-   Use `*` or `**` for italic/bold: `*italic*` or `**bold**`.\n",
        "-   Create lists using `-` or `1,`: `- Unordered Item 1`, `1. Ordered Item`."
      ],
      "metadata": {
        "id": "6PO0GJROaUdt"
      }
    },
    {
      "cell_type": "markdown",
      "source": [
        "What is Python? How Do I Create, Edit, and Run Python Cells?\n",
        "------------------------------------------------------------\n",
        "**Python** is a high-level, interpreted programming language known for its readability and versatility. It's widely used for web development, data analysis, artificial intelligence, scientific computing, and more. To create and run a Python cell, here's what you will do:\n",
        "\n",
        "1.  Click on the + Code button, usually located at the top or bottom of your Colab notebook.\n",
        "2.  To edit an existing cell, simply click on the cell you want to edit and start typing.\n",
        "3.  Press Ctrl + Enter (or the \"play\" button) to run the current cell and stay in place.\n",
        "\n",
        "### Python: Hello, World!\n",
        "\n",
        "Let's begin with the traditional \"Hello, World!\" program. This is the simplest Python code to print a message. Don't worry if you don't understand it just yet!"
      ],
      "metadata": {
        "id": "-WNCTgEgcBar"
      }
    },
    {
      "cell_type": "code",
      "source": [
        "print(\"Hello, World!\")"
      ],
      "metadata": {
        "colab": {
          "base_uri": "https://localhost:8080/"
        },
        "id": "xht23t2mZMQe",
        "outputId": "15875d5e-217a-4872-ec2f-48ba8021c42f"
      },
      "execution_count": 1,
      "outputs": [
        {
          "output_type": "stream",
          "name": "stdout",
          "text": [
            "Hello, World!\n"
          ]
        }
      ]
    },
    {
      "cell_type": "markdown",
      "source": [
        "### Python: Simple Addition\n",
        "The following cell adds two numbers together and prints the result."
      ],
      "metadata": {
        "id": "EgM8LuKLcMEA"
      }
    },
    {
      "cell_type": "code",
      "source": [
        "# Add some numbers\n",
        "x = 5\n",
        "y = 8\n",
        "z = x + y\n",
        "\n",
        "print(z)"
      ],
      "metadata": {
        "colab": {
          "base_uri": "https://localhost:8080/"
        },
        "id": "NnPwSFoNcaeo",
        "outputId": "14908106-73bf-4992-831f-49064bd1dd12"
      },
      "execution_count": 2,
      "outputs": [
        {
          "output_type": "stream",
          "name": "stdout",
          "text": [
            "13\n"
          ]
        }
      ]
    },
    {
      "cell_type": "markdown",
      "source": [
        "What is SQL? How Do I Create, Edit, and Run SQL Cells? (Using SQLite and SQL Magic)\n",
        "-----------------------------------------------------------------------------------\n",
        "**SQL** stands for Structured Query Language and is used for manipulating and querying relational databases. To use SQL in Colab:\n",
        "\n",
        "1. First, you need to load the SQL extension by running `%load_ext sql` in a Python cell.\n",
        "2. Then, you can create an SQL cell by starting a new cell with `%%sql`.\n",
        "3. You can edit and run these cells just like Python (as above).\n",
        "\n",
        "### SQL: Create a Table\n",
        "\n",
        "Here's a simple SQL query to create a table. Don't fret if you're unfamiliar with SQL; this is just to give you a taste!"
      ],
      "metadata": {
        "id": "7S8jcrD2cyEu"
      }
    },
    {
      "cell_type": "code",
      "source": [
        "# Load \"SQL Magic\"\n",
        "%load_ext sql\n",
        "%sql sqlite://"
      ],
      "metadata": {
        "id": "TKFEeVJjcxmv"
      },
      "execution_count": 3,
      "outputs": []
    },
    {
      "cell_type": "code",
      "source": [
        "%%sql\n",
        "--Create a table using SQL\n",
        "CREATE TABLE students (name TEXT, age INTEGER);"
      ],
      "metadata": {
        "colab": {
          "base_uri": "https://localhost:8080/"
        },
        "id": "rXNvH5hkc9ln",
        "outputId": "aa80deba-b6b5-4657-d7b7-428c75e2ca97"
      },
      "execution_count": 4,
      "outputs": [
        {
          "output_type": "stream",
          "name": "stdout",
          "text": [
            " * sqlite://\n",
            "Done.\n"
          ]
        },
        {
          "output_type": "execute_result",
          "data": {
            "text/plain": [
              "[]"
            ]
          },
          "metadata": {},
          "execution_count": 4
        }
      ]
    },
    {
      "cell_type": "code",
      "source": [
        "%%sql\n",
        "--Insert some data using SQL\n",
        "INSERT INTO students VALUES ('Alice', 20), ('Batman', 22);"
      ],
      "metadata": {
        "colab": {
          "base_uri": "https://localhost:8080/"
        },
        "id": "n3MUzEpkdWAt",
        "outputId": "902cbf96-e754-40d5-bdb6-5659d52240e8"
      },
      "execution_count": 5,
      "outputs": [
        {
          "output_type": "stream",
          "name": "stdout",
          "text": [
            " * sqlite://\n",
            "2 rows affected.\n"
          ]
        },
        {
          "output_type": "execute_result",
          "data": {
            "text/plain": [
              "[]"
            ]
          },
          "metadata": {},
          "execution_count": 5
        }
      ]
    },
    {
      "cell_type": "code",
      "source": [
        "%%sql\n",
        "--Show the contents of our table using SQL\n",
        "SELECT * FROM students;"
      ],
      "metadata": {
        "colab": {
          "base_uri": "https://localhost:8080/",
          "height": 116
        },
        "id": "PImTtErZdj2F",
        "outputId": "caf32a8c-34b3-49f2-8f7e-90de8483723a"
      },
      "execution_count": 6,
      "outputs": [
        {
          "output_type": "stream",
          "name": "stdout",
          "text": [
            " * sqlite://\n",
            "Done.\n"
          ]
        },
        {
          "output_type": "execute_result",
          "data": {
            "text/plain": [
              "[('Alice', 20), ('Batman', 22)]"
            ],
            "text/html": [
              "<table>\n",
              "    <thead>\n",
              "        <tr>\n",
              "            <th>name</th>\n",
              "            <th>age</th>\n",
              "        </tr>\n",
              "    </thead>\n",
              "    <tbody>\n",
              "        <tr>\n",
              "            <td>Alice</td>\n",
              "            <td>20</td>\n",
              "        </tr>\n",
              "        <tr>\n",
              "            <td>Batman</td>\n",
              "            <td>22</td>\n",
              "        </tr>\n",
              "    </tbody>\n",
              "</table>"
            ]
          },
          "metadata": {},
          "execution_count": 6
        }
      ]
    },
    {
      "cell_type": "markdown",
      "source": [
        "What is HTML? How Do I Create, Edit, and Display HTML Cells?\n",
        "-------------------------------------------------------------------------------\n",
        "**HTML** stands for HyperText Markup Language and is the standard language for creating web pages. In a Colab notebook, you can use HTML within a Markdown cell by wrapping your HTML code in `%%html` magic. You can then run it like any other sort of cell.\n"
      ],
      "metadata": {
        "id": "DxWs6cZDeC0b"
      }
    },
    {
      "cell_type": "code",
      "source": [
        "%%html\n",
        "<!DOCTYPE html>\n",
        "<html>\n",
        "<head>\n",
        "    <title>Traveling to Jupyter</title>\n",
        "</head>\n",
        "<body>\n",
        "\n",
        "    <h1><u>Traveling to Jupyter</u></h1>\n",
        "\n",
        "    <h2><i>Why Jupyter Notebooks Are Your Best Companion in the Learning Journey</i></h2>\n",
        "\n",
        "    <p><b>Introduction:</b></p>\n",
        "    <p>Jupyter notebooks have become an <i>indispensable tool</i> for anyone dipping their toes into the ocean of programming and data science. But why is it so? Here we explore the <b>unique benefits</b> of using Jupyter notebooks.</p>\n",
        "\n",
        "    <h3>Key Benefits:</h3>\n",
        "\n",
        "    <ul>\n",
        "        <li><b>Interactivity:</b> Execute code and see results instantly.</li>\n",
        "        <li><b>Multiple Languages:</b> Not just Python; use R, SQL, HMTL, Julia, and more.</li>\n",
        "        <li><b>Documentation:</b> Combine code with Markdown to make your work more understandable.</li>\n",
        "        <li><b>Collaboration:</b> Share your notebooks and work together with others.</li>\n",
        "    </ul>\n",
        "\n",
        "    <h3>Conclusion:</h3>\n",
        "    <p>If you're venturing into the realm of code, <b><i>Jupyter notebooks</i></b> are your magical carpet, offering you a smooth and comprehensive ride.</p>\n",
        "\n",
        "</body>\n",
        "</html>\n"
      ],
      "metadata": {
        "colab": {
          "base_uri": "https://localhost:8080/",
          "height": 339
        },
        "id": "a-Ld12zgezkq",
        "outputId": "580b2eb8-c48d-4cf6-bd42-12d686953c63"
      },
      "execution_count": 7,
      "outputs": [
        {
          "output_type": "display_data",
          "data": {
            "text/plain": [
              "<IPython.core.display.HTML object>"
            ],
            "text/html": [
              "<!DOCTYPE html>\n",
              "<html>\n",
              "<head>\n",
              "    <title>Traveling to Jupyter</title>\n",
              "</head>\n",
              "<body>\n",
              "\n",
              "    <h1><u>Traveling to Jupyter</u></h1>\n",
              "\n",
              "    <h2><i>Why Jupyter Notebooks Are Your Best Companion in the Learning Journey</i></h2>\n",
              "\n",
              "    <p><b>Introduction:</b></p>\n",
              "    <p>Jupyter notebooks have become an <i>indispensable tool</i> for anyone dipping their toes into the ocean of programming and data science. But why is it so? Here we explore the <b>unique benefits</b> of using Jupyter notebooks.</p>\n",
              "\n",
              "    <h3>Key Benefits:</h3>\n",
              "\n",
              "    <ul>\n",
              "        <li><b>Interactivity:</b> Execute code and see results instantly.</li>\n",
              "        <li><b>Multiple Languages:</b> Not just Python; use R, SQL, HMTL, Julia, and more.</li>\n",
              "        <li><b>Documentation:</b> Combine code with Markdown to make your work more understandable.</li>\n",
              "        <li><b>Collaboration:</b> Share your notebooks and work together with others.</li>\n",
              "    </ul>\n",
              "\n",
              "    <h3>Conclusion:</h3>\n",
              "    <p>If you're venturing into the realm of code, <b><i>Jupyter notebooks</i></b> are your magical carpet, offering you a smooth and comprehensive ride.</p>\n",
              "\n",
              "</body>\n",
              "</html>\n"
            ]
          },
          "metadata": {}
        }
      ]
    },
    {
      "cell_type": "markdown",
      "source": [
        "How Can I Download My Work and Submit it to a Learning Management System?\n",
        "-------------------------------------------------------------------------\n",
        "1.  Go to File > Download > Download .ipynb to download your notebook as a Jupyter Notebook file.\n",
        "2.  Alternatively, you can download it as a PDF by going to File > Print and then Print to a PDF.\n",
        "3. Once downloaded, you can upload the `.ipynb` or `.pdf` file to your Learning Management System, just like any other digital document.\n",
        "4. Don't worry if you can't \"open\" the ipynb file on your computer!"
      ],
      "metadata": {
        "id": "7KyA902dc89O"
      }
    },
    {
      "cell_type": "code",
      "source": [],
      "metadata": {
        "id": "5PRVSBbxfhU-"
      },
      "execution_count": 7,
      "outputs": []
    }
  ]
}